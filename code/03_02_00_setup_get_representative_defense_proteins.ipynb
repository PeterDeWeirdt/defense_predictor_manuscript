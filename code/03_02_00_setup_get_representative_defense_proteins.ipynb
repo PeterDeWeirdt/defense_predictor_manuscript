{
 "cells": [
  {
   "cell_type": "code",
   "execution_count": 1,
   "id": "be0f424a-22d9-4690-9d6c-d1e6ee1ed36d",
   "metadata": {},
   "outputs": [],
   "source": [
    "import os\n",
    "from tqdm import tqdm\n",
    "from joblib import Parallel, delayed\n",
    "import random\n",
    "from core import read_dom_table\n",
    "import seaborn as sns"
   ]
  },
  {
   "cell_type": "code",
   "execution_count": 2,
   "id": "e2bd93bb-e9bd-4e45-9fff-541d687bbdb2",
   "metadata": {},
   "outputs": [],
   "source": [
    "if 'uniref50_chunks' not in os.listdir('../data/interim'):\n",
    "    os.mkdir('../data/interim/uniref50_chunks/')"
   ]
  },
  {
   "cell_type": "markdown",
   "id": "03c52de7-cb1e-4133-a6ab-a73a1de75043",
   "metadata": {},
   "source": [
    "Download uniref 50 from uniprot"
   ]
  },
  {
   "cell_type": "code",
   "execution_count": null,
   "id": "ff3fa502-010d-45de-8448-5c5582e4b341",
   "metadata": {},
   "outputs": [],
   "source": [
    "if 'uniref50.faa.split' not in os.listdir('../data/interim/uniref50_chunks'):\n",
    "    !conda run -n beaker seqkit split2 ../data/interim/uniref50_chunks/uniref50.faa -s 100000"
   ]
  },
  {
   "cell_type": "code",
   "execution_count": 15,
   "id": "d15de289-3aab-4f27-a226-0aa0814e0fe2",
   "metadata": {},
   "outputs": [
    {
     "data": {
      "text/plain": [
       "0"
      ]
     },
     "execution_count": 15,
     "metadata": {},
     "output_type": "execute_result"
    }
   ],
   "source": [
    "if 'defense_finder.hmm' not in os.listdir('../data/interim'):\n",
    "    os.system('cat ~/defense-finder-models/profiles/*.hmm > ../data/interim/defense_finder.hmm')"
   ]
  },
  {
   "cell_type": "code",
   "execution_count": 2,
   "id": "7bcc3f16-64ab-4290-b298-f2fada2d4806",
   "metadata": {},
   "outputs": [],
   "source": [
    "split_dir = '../data/interim/uniref50_chunks/uniref50.faa.split/'"
   ]
  },
  {
   "cell_type": "code",
   "execution_count": 2,
   "id": "68130f2f-8b3a-4e61-a3b8-4f7ba3f1ebc0",
   "metadata": {},
   "outputs": [],
   "source": [
    "df_uniref_out = '../data/interim/df_uniref_out/'"
   ]
  },
  {
   "cell_type": "code",
   "execution_count": 9,
   "id": "d40f4ff3-e724-4cb8-b28c-293863885d12",
   "metadata": {},
   "outputs": [],
   "source": [
    "if 'df_uniref_out' not in os.listdir('../data/interim'):\n",
    "    os.mkdir(df_uniref_out)"
   ]
  },
  {
   "cell_type": "code",
   "execution_count": null,
   "id": "8e035b16-9a95-4bbc-ad92-8916633b51ac",
   "metadata": {
    "tags": []
   },
   "outputs": [],
   "source": [
    "def get_hmm_desc(model):\n",
    "    rand = random.randint(0, 1_000_000_000)\n",
    "    temp_out = '../data/interim/temp_hmm_stat' + str(rand) + '.txt'\n",
    "    system, gene = model.split('__')\n",
    "    gene = gene.split('.')[0]\n",
    "    os.system(' '.join(['conda run -n beaker', 'hmmstat', '~/defense-finder-models/profiles/' + model, \n",
    "                        '>', temp_out]))\n",
    "    stat_df = pd.read_csv(temp_out, \n",
    "                          sep='\\s+', names=['idx', 'name', 'accession', 'nseq', 'eff_nseq', \n",
    "                                            'M', 'relent', 'info', 'p relE', 'compKL'], comment='#')\n",
    "    os.system('rm ' + temp_out)\n",
    "    stat_df['system'] = system\n",
    "    stat_df['gene'] = gene\n",
    "    stat_df['description'] = stat_df.apply(lambda row: ' '.join(row[['system', 'gene', 'name']].to_list()) if row['gene'] != row['name'] else\n",
    "                                           ' '.join(row[['system', 'gene']].to_list()), axis=1)\n",
    "    return stat_df"
   ]
  },
  {
   "cell_type": "code",
   "execution_count": null,
   "id": "282b2450-c517-4ad1-a2b4-5067684f69e7",
   "metadata": {},
   "outputs": [
    {
     "name": "stderr",
     "output_type": "stream",
     "text": [
      "100%|██████████| 1018/1018 [00:38<00:00, 26.30it/s]\n"
     ]
    }
   ],
   "source": [
    "df_info_list = Parallel(n_jobs=48)(delayed(get_hmm_desc)(model)\n",
    "                                   for model in \n",
    "                                   tqdm(os.listdir('/home/gridsan/pdeweirdt/defense-finder-models/profiles/'), \n",
    "                                        position=0) if '.hmm' in model)\n",
    "df_info_df = pd.concat(df_info_list)"
   ]
  },
  {
   "cell_type": "code",
   "execution_count": null,
   "id": "ea84a063-a4a7-4c0b-99d1-3765125b42ed",
   "metadata": {},
   "outputs": [],
   "source": [
    "merged_top_genes = (top_genes.merge(df_info_df.rename(columns={'name': 'query'}), \n",
    "                                    on='query',\n",
    "                                    how='inner'))\n",
    "gene_map = dict()\n",
    "for _, row in merged_top_genes.iterrows():\n",
    "    k = row['target']\n",
    "    v = row['description'] # may have to adjust\n",
    "    gene_map[k] = "
   ]
  }
 ],
 "metadata": {
  "kernelspec": {
   "display_name": "beaker",
   "language": "python",
   "name": "beaker"
  },
  "language_info": {
   "codemirror_mode": {
    "name": "ipython",
    "version": 3
   },
   "file_extension": ".py",
   "mimetype": "text/x-python",
   "name": "python",
   "nbconvert_exporter": "python",
   "pygments_lexer": "ipython3",
   "version": "3.8.16"
  }
 },
 "nbformat": 4,
 "nbformat_minor": 5
}
