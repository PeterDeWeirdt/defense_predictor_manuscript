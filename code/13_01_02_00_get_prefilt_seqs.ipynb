{
 "cells": [
  {
   "cell_type": "code",
   "execution_count": 1,
   "id": "e813f711-c097-4873-abcf-879faf4ca843",
   "metadata": {},
   "outputs": [],
   "source": [
    "import pandas as pd\n",
    "import seaborn as sns\n",
    "from tqdm import tqdm\n",
    "import os"
   ]
  },
  {
   "cell_type": "code",
   "execution_count": 2,
   "id": "f1d1b02f-77e4-40c6-8d59-412aca17630b",
   "metadata": {},
   "outputs": [
    {
     "name": "stderr",
     "output_type": "stream",
     "text": [
      "/state/partition1/slurm_tmp/26118226.0.0/ipykernel_3062643/2087328685.py:1: DtypeWarning: Columns (21,27) have mixed types. Specify dtype option on import or set low_memory=False.\n",
      "  prediction_df = pd.read_csv('../data/interim/ecor_predictions.csv')\n"
     ]
    }
   ],
   "source": [
    "prediction_df = pd.read_csv('../data/interim/ecor_predictions.csv')"
   ]
  },
  {
   "cell_type": "code",
   "execution_count": 3,
   "id": "866a199b-eead-498d-ad55-569fb8436282",
   "metadata": {},
   "outputs": [
    {
     "data": {
      "text/plain": [
       "321347"
      ]
     },
     "execution_count": 3,
     "metadata": {},
     "output_type": "execute_result"
    }
   ],
   "source": [
    "len(prediction_df)"
   ]
  },
  {
   "cell_type": "code",
   "execution_count": 4,
   "id": "34453747-3622-4dd2-987e-5f8f52a9851d",
   "metadata": {},
   "outputs": [],
   "source": [
    "cloned_regions = pd.read_csv('../data/external/Beaker validation completed clones.csv')"
   ]
  },
  {
   "cell_type": "markdown",
   "id": "7d98a45e-815a-4327-bb52-62b4a47170c3",
   "metadata": {},
   "source": [
    "## Get operons that have already been cloned"
   ]
  },
  {
   "cell_type": "code",
   "execution_count": 5,
   "id": "372c04a1-126e-4f23-be0f-07207fe67479",
   "metadata": {},
   "outputs": [
    {
     "name": "stdout",
     "output_type": "stream",
     "text": [
      "94.36619718309859 percent (n = 67) of cloned operons are valid\n"
     ]
    }
   ],
   "source": [
    "exploded_cloned = cloned_regions.copy()\n",
    "exploded_cloned['Proteins'] = exploded_cloned['Proteins'].str.split(',')\n",
    "exploded_cloned = exploded_cloned.explode('Proteins')\n",
    "merged_cloned = (exploded_cloned.rename(columns={'Proteins': 'product_accession',\n",
    "                                                 'Nucleotide Accession': 'genomic_accession'})\n",
    "                 .merge(prediction_df, how='inner', on=['product_accession', 'genomic_accession']))\n",
    "valid_working_ids = (merged_cloned.groupby('Working ID')\n",
    "                       .agg(n_operons=('operon', 'nunique'))\n",
    "                       .query('n_operons == 1')\n",
    "                       .index.to_list())\n",
    "cloned_operon_sizes = (merged_cloned[merged_cloned['Working ID'].isin(valid_working_ids)]\n",
    "                       .groupby(['operon'])\n",
    "                       .agg(cloned_n_proteins=('product_accession', 'count'))\n",
    "                       .reset_index())\n",
    "defined_operon_sizes = (prediction_df.groupby('operon')\n",
    "                        .agg(operon_size=('product_accession', 'count'))\n",
    "                        .reset_index())\n",
    "merged_operon_sizes = (cloned_operon_sizes.merge(defined_operon_sizes, on='operon'))\n",
    "correct_cloned_operons = merged_operon_sizes.loc[(merged_operon_sizes['operon_size'] == merged_operon_sizes['cloned_n_proteins']), \n",
    "                                                 'operon']\n",
    "print(str(len(correct_cloned_operons)/len(cloned_regions) * 100), 'percent (n =' , str(len(correct_cloned_operons)) + ') of cloned operons are valid')\n"
   ]
  },
  {
   "cell_type": "markdown",
   "id": "d12e88a8-2781-42f0-88be-1cf8afde2987",
   "metadata": {},
   "source": [
    "## Get candidate defense proteins and pick one protein per cluster\n",
    "\n",
    "We'll select a list of operons as follows:\n",
    "\n",
    "1. Filter out operons that are at a contig edge\n",
    "2. Select proteins that have a probability of defense greater than 0.5, are not defense homolog, are not MG1655 homologs\n",
    "3. Select operons that have already been cloned\n",
    "4. Iteratively select the most highly predicted operon until there are no more proteins to select"
   ]
  },
  {
   "cell_type": "code",
   "execution_count": 6,
   "id": "16ee3784-d03c-479f-9365-3f3a394fe329",
   "metadata": {},
   "outputs": [],
   "source": [
    "blacklisted_operons = prediction_df.loc[prediction_df['contig_end'], \n",
    "                                        'operon']"
   ]
  },
  {
   "cell_type": "code",
   "execution_count": 7,
   "id": "a00a37d7-cbaf-4032-851d-c0759bdddfdc",
   "metadata": {},
   "outputs": [],
   "source": [
    "prediction_df['predicted_defense'] = (prediction_df['beaker_prediction'] > 0.5)"
   ]
  },
  {
   "cell_type": "code",
   "execution_count": 12,
   "id": "067c85fb-e4ce-48d0-ba2c-2d0603a79d2f",
   "metadata": {},
   "outputs": [
    {
     "data": {
      "text/plain": [
       "4603"
      ]
     },
     "execution_count": 12,
     "metadata": {},
     "output_type": "execute_result"
    }
   ],
   "source": [
    "prediction_df['predicted_defense'].sum()"
   ]
  },
  {
   "cell_type": "code",
   "execution_count": 8,
   "id": "ec9c3ca6-a86c-4a9d-aa5d-8b6014b025c5",
   "metadata": {},
   "outputs": [],
   "source": [
    "prediction_df['blacklisted_operon'] = prediction_df['operon'].isin(blacklisted_operons)"
   ]
  },
  {
   "cell_type": "code",
   "execution_count": 15,
   "id": "936a7c3b-1e7b-4fd1-971e-c5ee2f6d7989",
   "metadata": {},
   "outputs": [
    {
     "data": {
      "text/plain": [
       "1545"
      ]
     },
     "execution_count": 15,
     "metadata": {},
     "output_type": "execute_result"
    }
   ],
   "source": [
    "(prediction_df['predicted_defense'] &\n",
    " ~prediction_df['defense_homolog'] & \n",
    " ~prediction_df['MG1655_homolog'] & \n",
    " ~prediction_df['blacklisted_operon']).sum()"
   ]
  },
  {
   "cell_type": "code",
   "execution_count": 19,
   "id": "2751e1d6-3142-495e-832e-41183eef9ee9",
   "metadata": {},
   "outputs": [],
   "source": [
    "candidate_proteins = (prediction_df[(prediction_df['beaker_prediction'] > 0.5) &\n",
    "                                    ~prediction_df['operon'].isin(blacklisted_operons) &\n",
    "                                    ~prediction_df['defense_homolog'] &\n",
    "                                    ~prediction_df['MG1655_homolog']]\n",
    "                      .sort_values('beaker_prediction', ascending=False))"
   ]
  },
  {
   "cell_type": "code",
   "execution_count": 20,
   "id": "35fb6245-4e63-4428-9603-b7a464861fb6",
   "metadata": {},
   "outputs": [
    {
     "data": {
      "text/plain": [
       "591"
      ]
     },
     "execution_count": 20,
     "metadata": {},
     "output_type": "execute_result"
    }
   ],
   "source": [
    "candidate_proteins['cluster_id'].nunique()"
   ]
  },
  {
   "cell_type": "code",
   "execution_count": 22,
   "id": "75ebf993-ad94-419c-9cc7-b7c69c9ca771",
   "metadata": {},
   "outputs": [],
   "source": [
    "candidate_proteins.to_csv('../data/interim/easy_filt_novel_def_proteins.csv', index=False)"
   ]
  },
  {
   "cell_type": "code",
   "execution_count": 17,
   "id": "282f79b6-467b-4bdb-b899-592293fdee11",
   "metadata": {},
   "outputs": [],
   "source": [
    "select_protein_operons = prediction_df[prediction_df['operon'].isin(correct_cloned_operons)].reset_index(drop=True)\n",
    "select_protein_operons['cloned'] = True"
   ]
  },
  {
   "cell_type": "code",
   "execution_count": 18,
   "id": "95299076-55be-4a3d-b013-285a6fcf7d26",
   "metadata": {},
   "outputs": [],
   "source": [
    "candidate_proteins = candidate_proteins[~candidate_proteins['cluster_id'].isin(select_protein_operons['cluster_id'])]"
   ]
  },
  {
   "cell_type": "code",
   "execution_count": 36,
   "id": "7b6718e2-1cdc-49cc-ac02-02a866c697f7",
   "metadata": {},
   "outputs": [],
   "source": [
    "select_protein_list = []\n",
    "while len(candidate_proteins):\n",
    "    curr_operon = candidate_proteins.head(1).squeeze()['operon']\n",
    "    curr_operon_df = prediction_df[prediction_df['operon'] == curr_operon]\n",
    "    select_protein_list.append(curr_operon_df)\n",
    "    candidate_proteins = candidate_proteins[~candidate_proteins['cluster_id'].isin(curr_operon_df['cluster_id'])]"
   ]
  },
  {
   "cell_type": "code",
   "execution_count": 41,
   "id": "ee238822-4a2c-482b-a994-65b363444f9d",
   "metadata": {},
   "outputs": [],
   "source": [
    "select_protein_operons = pd.concat([select_protein_operons] + select_protein_list)\n",
    "select_protein_operons['cloned'] = select_protein_operons['cloned'].fillna(False)"
   ]
  },
  {
   "cell_type": "code",
   "execution_count": 43,
   "id": "38901577-097b-4dd7-a5eb-c56828ff3cb6",
   "metadata": {},
   "outputs": [
    {
     "data": {
      "text/plain": [
       "538"
      ]
     },
     "execution_count": 43,
     "metadata": {},
     "output_type": "execute_result"
    }
   ],
   "source": [
    "select_protein_operons['operon'].nunique()"
   ]
  },
  {
   "cell_type": "code",
   "execution_count": 45,
   "id": "c3f36a89-13c0-4126-b000-a70056b6dc93",
   "metadata": {},
   "outputs": [
    {
     "data": {
      "text/plain": [
       "851"
      ]
     },
     "execution_count": 45,
     "metadata": {},
     "output_type": "execute_result"
    }
   ],
   "source": [
    "select_protein_operons['cluster_id'].nunique()"
   ]
  },
  {
   "cell_type": "code",
   "execution_count": 47,
   "id": "fe35174c-0181-43ca-97a7-d99cb0d5a118",
   "metadata": {},
   "outputs": [
    {
     "data": {
      "text/plain": [
       "881"
      ]
     },
     "execution_count": 47,
     "metadata": {},
     "output_type": "execute_result"
    }
   ],
   "source": [
    "len(select_protein_operons)"
   ]
  },
  {
   "cell_type": "code",
   "execution_count": 48,
   "id": "1a43dc20-2f89-4008-a5da-cea2caf7adf1",
   "metadata": {},
   "outputs": [
    {
     "data": {
      "text/plain": [
       "name\n",
       "hypothetical protein                                     488\n",
       "type II toxin-antitoxin system RelE/ParE family toxin     18\n",
       "ATP-binding protein                                       12\n",
       "AAA family ATPase                                         10\n",
       "site-specific integrase                                    8\n",
       "restriction endonuclease                                   6\n",
       "helix-turn-helix domain-containing protein                 6\n",
       "TIR domain-containing protein                              5\n",
       "DUF2971 domain-containing protein                          5\n",
       "tyrosine-type recombinase/integrase                        5\n",
       "restriction endonuclease subunit S                         5\n",
       "response regulator receiver domain                         4\n",
       "type II toxin-antitoxin system ParD family antitoxin       4\n",
       "WGR and DUF4132 domain-containing protein                  4\n",
       "phage repressor protein CI                                 4\n",
       "HNH endonuclease                                           4\n",
       "type IA DNA topoisomerase                                  4\n",
       "hemolysin expression modulator Hha                         3\n",
       "DUF262 domain-containing protein                           3\n",
       "DEAD/DEAH box helicase                                     3\n",
       "Name: count, dtype: int64"
      ]
     },
     "execution_count": 48,
     "metadata": {},
     "output_type": "execute_result"
    }
   ],
   "source": [
    "select_protein_operons['name'].value_counts().head(20)"
   ]
  },
  {
   "cell_type": "code",
   "execution_count": 51,
   "id": "03de2295-9ecf-4d8e-86ce-710569558f9b",
   "metadata": {},
   "outputs": [
    {
     "data": {
      "text/plain": [
       "<Axes: xlabel='beaker_prediction', ylabel='Count'>"
      ]
     },
     "execution_count": 51,
     "metadata": {},
     "output_type": "execute_result"
    },
    {
     "data": {
      "image/png": "[encoded data removed]",
      "text/plain": [
       "<Figure size 640x480 with 1 Axes>"
      ]
     },
     "metadata": {},
     "output_type": "display_data"
    }
   ],
   "source": [
    "sns.histplot(select_protein_operons['beaker_prediction'], binwidth=0.005)"
   ]
  },
  {
   "cell_type": "code",
   "execution_count": 52,
   "id": "2b9d93f0-86fd-4ea5-a503-1b494ec77571",
   "metadata": {},
   "outputs": [
    {
     "data": {
      "text/plain": [
       "638"
      ]
     },
     "execution_count": 52,
     "metadata": {},
     "output_type": "execute_result"
    }
   ],
   "source": [
    "prefilt_new_defense_prots = (select_protein_operons\n",
    "                             [select_protein_operons['beaker_prediction'] > 0.5]\n",
    "                             .sort_values('beaker_prediction', ascending=False)\n",
    "                             .groupby('cluster_id')\n",
    "                             .head(1))\n",
    "len(prefilt_new_defense_prots)"
   ]
  },
  {
   "cell_type": "code",
   "execution_count": 54,
   "id": "34b4ffba-8710-4717-a248-c566674df93d",
   "metadata": {},
   "outputs": [],
   "source": [
    "out_prefilt_pd_seq_acc = '../data/interim/prefilt_pd_seq_acc.txt'\n",
    "prefilt_pd_seqs = prefilt_new_defense_prots['product_accession'].drop_duplicates()\n",
    "prefilt_pd_seqs.to_csv(out_prefilt_pd_seq_acc, index=False)"
   ]
  },
  {
   "cell_type": "code",
   "execution_count": 56,
   "id": "e50a6284-0b21-4db4-bd49-b786ed6707ee",
   "metadata": {},
   "outputs": [],
   "source": [
    "out_prefilt_pd_seqs = '../data/interim/ecor_pd_seqs_prefilt.faa'"
   ]
  },
  {
   "cell_type": "code",
   "execution_count": 57,
   "id": "fb217094-60f1-4a4c-a29b-f46910ab94e5",
   "metadata": {},
   "outputs": [
    {
     "data": {
      "text/plain": [
       "0"
      ]
     },
     "execution_count": 57,
     "metadata": {},
     "output_type": "execute_result"
    }
   ],
   "source": [
    "os.system(' '.join(['conda run -n beaker', \n",
    "                    'seqtk subseq',\n",
    "                    '../data/interim/ecor_unique_seqs.faa', \n",
    "                    out_prefilt_pd_seq_acc, '>',\n",
    "                    out_prefilt_pd_seqs]))"
   ]
  },
  {
   "cell_type": "markdown",
   "id": "18f0dd31-b9cf-4bcb-9764-92b5b4a3db2c",
   "metadata": {},
   "source": [
    "We'll query the sequences in a new script so we can use a machine with more memory"
   ]
  },
  {
   "cell_type": "code",
   "execution_count": 59,
   "id": "aa49a5b1-5d3a-418d-9e91-193d549d7a4f",
   "metadata": {},
   "outputs": [],
   "source": [
    "select_protein_operons.to_csv('../data/interim/prefilt_pd_prediction_df.csv', index=False)"
   ]
  }
 ],
 "metadata": {
  "kernelspec": {
   "display_name": "beaker",
   "language": "python",
   "name": "beaker"
  },
  "language_info": {
   "codemirror_mode": {
    "name": "ipython",
    "version": 3
   },
   "file_extension": ".py",
   "mimetype": "text/x-python",
   "name": "python",
   "nbconvert_exporter": "python",
   "pygments_lexer": "ipython3",
   "version": "3.8.16"
  }
 },
 "nbformat": 4,
 "nbformat_minor": 5
}
