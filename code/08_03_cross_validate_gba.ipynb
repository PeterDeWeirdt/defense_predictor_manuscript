{
 "cells": [
  {
   "cell_type": "code",
   "execution_count": 2,
   "id": "754dc4ba-c93d-4e2e-92ab-c29637f63d28",
   "metadata": {},
   "outputs": [],
   "source": [
    "import pandas as pd\n",
    "from scipy import stats\n",
    "from joblib import Parallel, delayed\n",
    "from tqdm import tqdm"
   ]
  },
  {
   "cell_type": "code",
   "execution_count": 3,
   "id": "38d33b23-3bb0-4695-963a-3a19770c230a",
   "metadata": {},
   "outputs": [],
   "source": [
    "def get_fisher_stat(row, total_genes=68_258_704, defensive_genes=244_022):\n",
    "    random_prob = 1 - (1-defensive_genes/total_genes)**20\n",
    "    random_defense_total = random_prob*total_genes\n",
    "    fisher = stats.fisher_exact([[row['defense_count'], row['background_count'] - row['defense_count']], \n",
    "                                 [random_defense_total, total_genes - random_defense_total]], alternative='greater')\n",
    "    return fisher[1]"
   ]
  },
  {
   "cell_type": "code",
   "execution_count": 4,
   "id": "ba970f12-336e-407f-832b-f10eccbad150",
   "metadata": {},
   "outputs": [],
   "source": [
    "model_seq_info = pd.read_parquet('../data3/interim/model_seq_info.pq')\n",
    "model_cluster_assemblies = (pd.read_parquet('../data3/interim/model_cluster_assemblies.pq')\n",
    "                            .reset_index())\n",
    "model_cluster_neighbors = pd.read_parquet('../data3/interim/model_cluster_defense_neighbors.pq')"
   ]
  },
  {
   "cell_type": "code",
   "execution_count": 5,
   "id": "f861b2c0-d052-4387-92fa-e25982359fe3",
   "metadata": {},
   "outputs": [],
   "source": [
    "cluster_background_stats = (model_cluster_assemblies.groupby('cluster_id')\n",
    "                            .agg(background_count=('assembly_stub', 'nunique')))"
   ]
  },
  {
   "cell_type": "code",
   "execution_count": 6,
   "id": "4b0f0b8c-6294-4d5f-adfc-1f3e2c77c3ae",
   "metadata": {},
   "outputs": [
    {
     "name": "stdout",
     "output_type": "stream",
     "text": [
      "0\n"
     ]
    },
    {
     "name": "stderr",
     "output_type": "stream",
     "text": [
      "100%|██████████| 44006/44006 [00:10<00:00, 4204.52it/s]\n"
     ]
    },
    {
     "name": "stdout",
     "output_type": "stream",
     "text": [
      "1\n"
     ]
    },
    {
     "name": "stderr",
     "output_type": "stream",
     "text": [
      "100%|██████████| 45951/45951 [00:11<00:00, 4073.71it/s]\n"
     ]
    },
    {
     "name": "stdout",
     "output_type": "stream",
     "text": [
      "2\n"
     ]
    },
    {
     "name": "stderr",
     "output_type": "stream",
     "text": [
      "100%|██████████| 37456/37456 [00:12<00:00, 2991.98it/s]\n"
     ]
    },
    {
     "name": "stdout",
     "output_type": "stream",
     "text": [
      "3\n"
     ]
    },
    {
     "name": "stderr",
     "output_type": "stream",
     "text": [
      "100%|██████████| 38950/38950 [00:14<00:00, 2638.06it/s]\n"
     ]
    },
    {
     "name": "stdout",
     "output_type": "stream",
     "text": [
      "4\n"
     ]
    },
    {
     "name": "stderr",
     "output_type": "stream",
     "text": [
      "100%|██████████| 34095/34095 [00:06<00:00, 5238.97it/s]\n"
     ]
    }
   ],
   "source": [
    "results_list = list()\n",
    "for fold, fold_df in model_seq_info.groupby('test_fold'):\n",
    "    print(fold)\n",
    "    fold_test_defense_genes = fold_df['defense_gene'].unique()\n",
    "    filtered_cluster_defense_neighbors = (model_cluster_neighbors\n",
    "                                          .loc[(~model_cluster_neighbors['defense_neighbor'].isin(fold_test_defense_genes) & \n",
    "                                                model_cluster_neighbors['cluster_id'].isin(fold_df['seq_id'])), \n",
    "                                               ['seq_id', 'cluster_id', 'assembly']]\n",
    "                                          .drop_duplicates())\n",
    "    cluster_defense_stats = (filtered_cluster_defense_neighbors.groupby('cluster_id')\n",
    "                                     .agg(defense_count=('assembly', 'nunique')))\n",
    "    fold_clusters = (fold_df[['seq_id']])\n",
    "    fold_cluster_enrichment = (fold_clusters\n",
    "                           .merge(cluster_background_stats, left_on='seq_id', \n",
    "                                  right_index=True, how='inner')\n",
    "                           .merge(cluster_defense_stats, left_on='seq_id', \n",
    "                                  right_index=True, how='left'))\n",
    "    fold_cluster_enrichment['defense_count'] = fold_cluster_enrichment['defense_count'].fillna(0)\n",
    "    fold_cluster_enrichment['frac_defensive'] = (fold_cluster_enrichment['defense_count']/\n",
    "                                                 fold_cluster_enrichment['background_count'])\n",
    "    fold_cluster_enrichment['fisher_p'] = Parallel(n_jobs=48)(delayed(get_fisher_stat)(row) for _, row in \n",
    "                                                         tqdm(fold_cluster_enrichment.iterrows(), \n",
    "                                                              total=len(fold_cluster_enrichment), \n",
    "                                                              position=0))\n",
    "    results_list.append(fold_cluster_enrichment)"
   ]
  },
  {
   "cell_type": "code",
   "execution_count": 7,
   "id": "43434f07-0b99-47e2-accd-dbc872956c9f",
   "metadata": {},
   "outputs": [],
   "source": [
    "results_df = pd.concat(results_list)\n",
    "results_df['one_minus_fisher_p'] = 1 - results_df['fisher_p']"
   ]
  },
  {
   "cell_type": "code",
   "execution_count": 8,
   "id": "10cc2160-a265-4f6b-9555-bde89ffe63c8",
   "metadata": {},
   "outputs": [
    {
     "data": {
      "text/html": [
       "<div>\n",
       "<style scoped>\n",
       "    .dataframe tbody tr th:only-of-type {\n",
       "        vertical-align: middle;\n",
       "    }\n",
       "\n",
       "    .dataframe tbody tr th {\n",
       "        vertical-align: top;\n",
       "    }\n",
       "\n",
       "    .dataframe thead th {\n",
       "        text-align: right;\n",
       "    }\n",
       "</style>\n",
       "<table border=\"1\" class=\"dataframe\">\n",
       "  <thead>\n",
       "    <tr style=\"text-align: right;\">\n",
       "      <th></th>\n",
       "      <th>seq_id</th>\n",
       "      <th>background_count</th>\n",
       "      <th>defense_count</th>\n",
       "      <th>frac_defensive</th>\n",
       "      <th>fisher_p</th>\n",
       "      <th>one_minus_fisher_p</th>\n",
       "    </tr>\n",
       "  </thead>\n",
       "  <tbody>\n",
       "    <tr>\n",
       "      <th>0</th>\n",
       "      <td>00011a6f43ddef04b38ddb80e079e995128c758b8d0fef...</td>\n",
       "      <td>1</td>\n",
       "      <td>1.0</td>\n",
       "      <td>1.000000</td>\n",
       "      <td>0.069122</td>\n",
       "      <td>0.930878</td>\n",
       "    </tr>\n",
       "    <tr>\n",
       "      <th>1</th>\n",
       "      <td>00d5886a101316db1f7fae8c378cbd8c54fdc7e3260834...</td>\n",
       "      <td>7</td>\n",
       "      <td>2.0</td>\n",
       "      <td>0.285714</td>\n",
       "      <td>0.079486</td>\n",
       "      <td>0.920514</td>\n",
       "    </tr>\n",
       "    <tr>\n",
       "      <th>2</th>\n",
       "      <td>11773e80a189f17a60c241e286666f00a4cb7e06c7179d...</td>\n",
       "      <td>1</td>\n",
       "      <td>0.0</td>\n",
       "      <td>0.000000</td>\n",
       "      <td>1.000000</td>\n",
       "      <td>0.000000</td>\n",
       "    </tr>\n",
       "    <tr>\n",
       "      <th>3</th>\n",
       "      <td>1636cbe8d2ef79e4a6d97f3e2a4c94d33f5de611c7f2ca...</td>\n",
       "      <td>5</td>\n",
       "      <td>3.0</td>\n",
       "      <td>0.600000</td>\n",
       "      <td>0.002970</td>\n",
       "      <td>0.997030</td>\n",
       "    </tr>\n",
       "    <tr>\n",
       "      <th>4</th>\n",
       "      <td>3071bdad201ef0e6279ecaca5095bc298e8461345e78ea...</td>\n",
       "      <td>1</td>\n",
       "      <td>0.0</td>\n",
       "      <td>0.000000</td>\n",
       "      <td>1.000000</td>\n",
       "      <td>0.000000</td>\n",
       "    </tr>\n",
       "    <tr>\n",
       "      <th>...</th>\n",
       "      <td>...</td>\n",
       "      <td>...</td>\n",
       "      <td>...</td>\n",
       "      <td>...</td>\n",
       "      <td>...</td>\n",
       "      <td>...</td>\n",
       "    </tr>\n",
       "    <tr>\n",
       "      <th>200437</th>\n",
       "      <td>fff86b7c99c52d59c18d7217da734f72a75be4311b11b9...</td>\n",
       "      <td>7</td>\n",
       "      <td>0.0</td>\n",
       "      <td>0.000000</td>\n",
       "      <td>1.000000</td>\n",
       "      <td>0.000000</td>\n",
       "    </tr>\n",
       "    <tr>\n",
       "      <th>200442</th>\n",
       "      <td>fff92ed969130402b18c2f965ed2c47376001310513555...</td>\n",
       "      <td>1</td>\n",
       "      <td>0.0</td>\n",
       "      <td>0.000000</td>\n",
       "      <td>1.000000</td>\n",
       "      <td>0.000000</td>\n",
       "    </tr>\n",
       "    <tr>\n",
       "      <th>200447</th>\n",
       "      <td>fffafb6f04ef826d1fe339e4e4dfbd7555ddc77fe50f19...</td>\n",
       "      <td>1</td>\n",
       "      <td>0.0</td>\n",
       "      <td>0.000000</td>\n",
       "      <td>1.000000</td>\n",
       "      <td>0.000000</td>\n",
       "    </tr>\n",
       "    <tr>\n",
       "      <th>200453</th>\n",
       "      <td>fffe22c006b65defec0d43d82f17b7a57e3b3e75e64b5b...</td>\n",
       "      <td>1</td>\n",
       "      <td>0.0</td>\n",
       "      <td>0.000000</td>\n",
       "      <td>1.000000</td>\n",
       "      <td>0.000000</td>\n",
       "    </tr>\n",
       "    <tr>\n",
       "      <th>200455</th>\n",
       "      <td>fffeda7da5ec5628b6fa79bed90c49590dd958fcd3e3cf...</td>\n",
       "      <td>1</td>\n",
       "      <td>0.0</td>\n",
       "      <td>0.000000</td>\n",
       "      <td>1.000000</td>\n",
       "      <td>0.000000</td>\n",
       "    </tr>\n",
       "  </tbody>\n",
       "</table>\n",
       "<p>200458 rows × 6 columns</p>\n",
       "</div>"
      ],
      "text/plain": [
       "                                                   seq_id  background_count   \n",
       "0       00011a6f43ddef04b38ddb80e079e995128c758b8d0fef...                 1  \\\n",
       "1       00d5886a101316db1f7fae8c378cbd8c54fdc7e3260834...                 7   \n",
       "2       11773e80a189f17a60c241e286666f00a4cb7e06c7179d...                 1   \n",
       "3       1636cbe8d2ef79e4a6d97f3e2a4c94d33f5de611c7f2ca...                 5   \n",
       "4       3071bdad201ef0e6279ecaca5095bc298e8461345e78ea...                 1   \n",
       "...                                                   ...               ...   \n",
       "200437  fff86b7c99c52d59c18d7217da734f72a75be4311b11b9...                 7   \n",
       "200442  fff92ed969130402b18c2f965ed2c47376001310513555...                 1   \n",
       "200447  fffafb6f04ef826d1fe339e4e4dfbd7555ddc77fe50f19...                 1   \n",
       "200453  fffe22c006b65defec0d43d82f17b7a57e3b3e75e64b5b...                 1   \n",
       "200455  fffeda7da5ec5628b6fa79bed90c49590dd958fcd3e3cf...                 1   \n",
       "\n",
       "        defense_count  frac_defensive  fisher_p  one_minus_fisher_p  \n",
       "0                 1.0        1.000000  0.069122            0.930878  \n",
       "1                 2.0        0.285714  0.079486            0.920514  \n",
       "2                 0.0        0.000000  1.000000            0.000000  \n",
       "3                 3.0        0.600000  0.002970            0.997030  \n",
       "4                 0.0        0.000000  1.000000            0.000000  \n",
       "...               ...             ...       ...                 ...  \n",
       "200437            0.0        0.000000  1.000000            0.000000  \n",
       "200442            0.0        0.000000  1.000000            0.000000  \n",
       "200447            0.0        0.000000  1.000000            0.000000  \n",
       "200453            0.0        0.000000  1.000000            0.000000  \n",
       "200455            0.0        0.000000  1.000000            0.000000  \n",
       "\n",
       "[200458 rows x 6 columns]"
      ]
     },
     "execution_count": 8,
     "metadata": {},
     "output_type": "execute_result"
    }
   ],
   "source": [
    "results_df"
   ]
  },
  {
   "cell_type": "code",
   "execution_count": 9,
   "id": "73f140ed-be0c-4acc-93a1-68cdb9910409",
   "metadata": {},
   "outputs": [],
   "source": [
    "out_df = (results_df.rename(columns={'one_minus_fisher_p': 'Guilt-by-association (p-value)', \n",
    "                                     'frac_defensive': 'Guilt-by-association (frequency)'})\n",
    "          .melt(id_vars='seq_id', value_vars=['Guilt-by-association (p-value)', 'Guilt-by-association (frequency)'], \n",
    "                value_name='prediction', var_name='method'))"
   ]
  },
  {
   "cell_type": "code",
   "execution_count": 10,
   "id": "52ba747c-5b9e-4af0-9123-a6a80da97c65",
   "metadata": {},
   "outputs": [],
   "source": [
    "out_df.to_parquet('../data3/interim/cv_predictions_gba.pq', index=False)"
   ]
  },
  {
   "cell_type": "code",
   "execution_count": null,
   "id": "6504e844-3831-4cfc-9462-195c80bb00b8",
   "metadata": {},
   "outputs": [],
   "source": []
  }
 ],
 "metadata": {
  "kernelspec": {
   "display_name": "beaker",
   "language": "python",
   "name": "beaker"
  },
  "language_info": {
   "codemirror_mode": {
    "name": "ipython",
    "version": 3
   },
   "file_extension": ".py",
   "mimetype": "text/x-python",
   "name": "python",
   "nbconvert_exporter": "python",
   "pygments_lexer": "ipython3",
   "version": "3.8.16"
  }
 },
 "nbformat": 4,
 "nbformat_minor": 5
}
