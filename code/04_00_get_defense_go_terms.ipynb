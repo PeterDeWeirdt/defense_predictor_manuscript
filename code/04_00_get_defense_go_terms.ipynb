{
 "cells": [
  {
   "cell_type": "code",
   "execution_count": 1,
   "id": "be3171dd-1690-495e-b175-0253dd56d4cb",
   "metadata": {},
   "outputs": [],
   "source": [
    "import pandas as pd\n",
    "import seaborn as sns\n",
    "import matplotlib.pyplot as plt"
   ]
  },
  {
   "cell_type": "code",
   "execution_count": 3,
   "id": "3de9fbd9-3401-42f9-af73-ac803fdbbf0b",
   "metadata": {},
   "outputs": [],
   "source": [
    "go_df = pd.read_parquet('../data/interim/seq_id_go_processes.pq')\n",
    "true_defense_genes = pd.read_parquet('../data/interim/defense_finder_true_defense_seq_ids.pq')"
   ]
  },
  {
   "cell_type": "code",
   "execution_count": 4,
   "id": "58aad831-5103-49ec-a75d-eb1ac1d04f45",
   "metadata": {},
   "outputs": [],
   "source": [
    "seq_id_names = pd.read_parquet('../data/interim/seq_id_names.pq')"
   ]
  },
  {
   "cell_type": "markdown",
   "id": "86a67ff9-8eea-430d-8626-f7e89d0df6da",
   "metadata": {},
   "source": [
    "If a gene **might** (p>0.4) be defenseive based on its GO process, then don't include it in the negative set. i.e., if p(defense|GO process)>0.4, remove gene from the negative list"
   ]
  },
  {
   "cell_type": "markdown",
   "id": "97a4030d-8ec5-4ee2-b426-60577da5253a",
   "metadata": {},
   "source": [
    "### GO term filter"
   ]
  },
  {
   "cell_type": "code",
   "execution_count": 5,
   "id": "98b8528b-83b9-480d-9e91-b9f2f3f9d540",
   "metadata": {},
   "outputs": [],
   "source": [
    "defense_go_df = go_df[go_df['seq_id'].isin(true_defense_genes['seq_id'])]"
   ]
  },
  {
   "cell_type": "code",
   "execution_count": 6,
   "id": "3b27a597-7b66-4b7c-a7cd-ebc3436b8c97",
   "metadata": {},
   "outputs": [],
   "source": [
    "defense_go_stats = (defense_go_df['go_process'].value_counts()\n",
    "                     .reset_index(name='count')\n",
    "                     .rename(columns={'index': 'go_process'}))"
   ]
  },
  {
   "cell_type": "code",
   "execution_count": 7,
   "id": "610d19e0-05a0-48c4-afcf-83295eb02bdb",
   "metadata": {},
   "outputs": [],
   "source": [
    "baseline_go_stats = (go_df['go_process'].value_counts()\n",
    "                     .reset_index(name='count')\n",
    "                     .rename(columns={'index': 'go_process'}))"
   ]
  },
  {
   "cell_type": "code",
   "execution_count": 8,
   "id": "7e8570d9-b256-48a4-8771-5945b689892c",
   "metadata": {},
   "outputs": [],
   "source": [
    "merged_go_stats = (defense_go_stats.merge(baseline_go_stats, how='inner', on='go_process', \n",
    "                                          suffixes=('_defense', '_baseline')))\n",
    "merged_go_stats['defense_percent'] = merged_go_stats['count_defense']/merged_go_stats['count_baseline']"
   ]
  },
  {
   "cell_type": "code",
   "execution_count": 9,
   "id": "a232a87b-1adc-4a5d-a99c-5edbedb3d7f8",
   "metadata": {},
   "outputs": [
    {
     "data": {
      "text/html": [
       "<div>\n",
       "<style scoped>\n",
       "    .dataframe tbody tr th:only-of-type {\n",
       "        vertical-align: middle;\n",
       "    }\n",
       "\n",
       "    .dataframe tbody tr th {\n",
       "        vertical-align: top;\n",
       "    }\n",
       "\n",
       "    .dataframe thead th {\n",
       "        text-align: right;\n",
       "    }\n",
       "</style>\n",
       "<table border=\"1\" class=\"dataframe\">\n",
       "  <thead>\n",
       "    <tr style=\"text-align: right;\">\n",
       "      <th></th>\n",
       "      <th>go_process</th>\n",
       "      <th>count_defense</th>\n",
       "      <th>count_baseline</th>\n",
       "      <th>defense_percent</th>\n",
       "    </tr>\n",
       "  </thead>\n",
       "  <tbody>\n",
       "    <tr>\n",
       "      <th>4</th>\n",
       "      <td>defense response to virus</td>\n",
       "      <td>3865</td>\n",
       "      <td>4637</td>\n",
       "      <td>0.833513</td>\n",
       "    </tr>\n",
       "    <tr>\n",
       "      <th>0</th>\n",
       "      <td>maintenance of CRISPR repeat elements</td>\n",
       "      <td>44785</td>\n",
       "      <td>54361</td>\n",
       "      <td>0.823844</td>\n",
       "    </tr>\n",
       "    <tr>\n",
       "      <th>3</th>\n",
       "      <td>DNA restriction-modification system</td>\n",
       "      <td>8078</td>\n",
       "      <td>15299</td>\n",
       "      <td>0.528008</td>\n",
       "    </tr>\n",
       "    <tr>\n",
       "      <th>2</th>\n",
       "      <td>DNA methylation</td>\n",
       "      <td>9301</td>\n",
       "      <td>21212</td>\n",
       "      <td>0.438478</td>\n",
       "    </tr>\n",
       "    <tr>\n",
       "      <th>40</th>\n",
       "      <td>nucleic acid phosphodiester bond hydrolysis</td>\n",
       "      <td>23</td>\n",
       "      <td>53</td>\n",
       "      <td>0.433962</td>\n",
       "    </tr>\n",
       "    <tr>\n",
       "      <th>1</th>\n",
       "      <td>DNA modification</td>\n",
       "      <td>10240</td>\n",
       "      <td>25462</td>\n",
       "      <td>0.402168</td>\n",
       "    </tr>\n",
       "    <tr>\n",
       "      <th>8</th>\n",
       "      <td>DNA methylation on adenine</td>\n",
       "      <td>446</td>\n",
       "      <td>4076</td>\n",
       "      <td>0.109421</td>\n",
       "    </tr>\n",
       "    <tr>\n",
       "      <th>7</th>\n",
       "      <td>dGTP catabolic process</td>\n",
       "      <td>457</td>\n",
       "      <td>6373</td>\n",
       "      <td>0.071709</td>\n",
       "    </tr>\n",
       "    <tr>\n",
       "      <th>9</th>\n",
       "      <td>protein catabolic process</td>\n",
       "      <td>338</td>\n",
       "      <td>9641</td>\n",
       "      <td>0.035059</td>\n",
       "    </tr>\n",
       "    <tr>\n",
       "      <th>20</th>\n",
       "      <td>protein tetramerization</td>\n",
       "      <td>104</td>\n",
       "      <td>4806</td>\n",
       "      <td>0.021640</td>\n",
       "    </tr>\n",
       "    <tr>\n",
       "      <th>15</th>\n",
       "      <td>DNA-mediated transformation</td>\n",
       "      <td>198</td>\n",
       "      <td>10104</td>\n",
       "      <td>0.019596</td>\n",
       "    </tr>\n",
       "    <tr>\n",
       "      <th>16</th>\n",
       "      <td>tRNA wobble adenosine to inosine editing</td>\n",
       "      <td>183</td>\n",
       "      <td>10094</td>\n",
       "      <td>0.018130</td>\n",
       "    </tr>\n",
       "    <tr>\n",
       "      <th>5</th>\n",
       "      <td>ribosome biogenesis</td>\n",
       "      <td>1110</td>\n",
       "      <td>61781</td>\n",
       "      <td>0.017967</td>\n",
       "    </tr>\n",
       "    <tr>\n",
       "      <th>23</th>\n",
       "      <td>DNA mediated transformation</td>\n",
       "      <td>96</td>\n",
       "      <td>7500</td>\n",
       "      <td>0.012800</td>\n",
       "    </tr>\n",
       "    <tr>\n",
       "      <th>42</th>\n",
       "      <td>cyclic nucleotide biosynthetic process</td>\n",
       "      <td>19</td>\n",
       "      <td>1539</td>\n",
       "      <td>0.012346</td>\n",
       "    </tr>\n",
       "    <tr>\n",
       "      <th>43</th>\n",
       "      <td>intracellular signal transduction</td>\n",
       "      <td>19</td>\n",
       "      <td>1678</td>\n",
       "      <td>0.011323</td>\n",
       "    </tr>\n",
       "    <tr>\n",
       "      <th>27</th>\n",
       "      <td>DNA import into cell involved in transformation</td>\n",
       "      <td>58</td>\n",
       "      <td>6037</td>\n",
       "      <td>0.009607</td>\n",
       "    </tr>\n",
       "    <tr>\n",
       "      <th>18</th>\n",
       "      <td>chromosome condensation</td>\n",
       "      <td>117</td>\n",
       "      <td>13815</td>\n",
       "      <td>0.008469</td>\n",
       "    </tr>\n",
       "    <tr>\n",
       "      <th>14</th>\n",
       "      <td>queuosine biosynthetic process</td>\n",
       "      <td>219</td>\n",
       "      <td>26825</td>\n",
       "      <td>0.008164</td>\n",
       "    </tr>\n",
       "    <tr>\n",
       "      <th>6</th>\n",
       "      <td>biological_process</td>\n",
       "      <td>982</td>\n",
       "      <td>136951</td>\n",
       "      <td>0.007170</td>\n",
       "    </tr>\n",
       "  </tbody>\n",
       "</table>\n",
       "</div>"
      ],
      "text/plain": [
       "                                         go_process  count_defense   \n",
       "4                         defense response to virus           3865  \\\n",
       "0             maintenance of CRISPR repeat elements          44785   \n",
       "3               DNA restriction-modification system           8078   \n",
       "2                                   DNA methylation           9301   \n",
       "40      nucleic acid phosphodiester bond hydrolysis             23   \n",
       "1                                  DNA modification          10240   \n",
       "8                        DNA methylation on adenine            446   \n",
       "7                            dGTP catabolic process            457   \n",
       "9                         protein catabolic process            338   \n",
       "20                          protein tetramerization            104   \n",
       "15                      DNA-mediated transformation            198   \n",
       "16         tRNA wobble adenosine to inosine editing            183   \n",
       "5                               ribosome biogenesis           1110   \n",
       "23                      DNA mediated transformation             96   \n",
       "42           cyclic nucleotide biosynthetic process             19   \n",
       "43                intracellular signal transduction             19   \n",
       "27  DNA import into cell involved in transformation             58   \n",
       "18                          chromosome condensation            117   \n",
       "14                   queuosine biosynthetic process            219   \n",
       "6                                biological_process            982   \n",
       "\n",
       "    count_baseline  defense_percent  \n",
       "4             4637         0.833513  \n",
       "0            54361         0.823844  \n",
       "3            15299         0.528008  \n",
       "2            21212         0.438478  \n",
       "40              53         0.433962  \n",
       "1            25462         0.402168  \n",
       "8             4076         0.109421  \n",
       "7             6373         0.071709  \n",
       "9             9641         0.035059  \n",
       "20            4806         0.021640  \n",
       "15           10104         0.019596  \n",
       "16           10094         0.018130  \n",
       "5            61781         0.017967  \n",
       "23            7500         0.012800  \n",
       "42            1539         0.012346  \n",
       "43            1678         0.011323  \n",
       "27            6037         0.009607  \n",
       "18           13815         0.008469  \n",
       "14           26825         0.008164  \n",
       "6           136951         0.007170  "
      ]
     },
     "execution_count": 9,
     "metadata": {},
     "output_type": "execute_result"
    }
   ],
   "source": [
    "merged_go_stats.sort_values('defense_percent', ascending=False).head(20)"
   ]
  },
  {
   "cell_type": "code",
   "execution_count": 10,
   "id": "9c26fd6c-e341-4043-92a1-d89c8df027d3",
   "metadata": {},
   "outputs": [],
   "source": [
    "defense_go_terms = merged_go_stats.loc[merged_go_stats['defense_percent'] > 0.4, 'go_process'].to_list()"
   ]
  },
  {
   "cell_type": "markdown",
   "id": "7dac110b-5b9f-45dd-b127-7a58957f4bfd",
   "metadata": {},
   "source": [
    "We'll filter out genes that are members of the following  pathways"
   ]
  },
  {
   "cell_type": "code",
   "execution_count": 11,
   "id": "e2cc3e2f-e992-4d3e-83eb-c5272bba1e66",
   "metadata": {},
   "outputs": [
    {
     "data": {
      "text/plain": [
       "['maintenance of CRISPR repeat elements',\n",
       " 'DNA modification',\n",
       " 'DNA methylation',\n",
       " 'DNA restriction-modification system',\n",
       " 'defense response to virus',\n",
       " 'nucleic acid phosphodiester bond hydrolysis']"
      ]
     },
     "execution_count": 11,
     "metadata": {},
     "output_type": "execute_result"
    }
   ],
   "source": [
    "defense_go_terms"
   ]
  },
  {
   "cell_type": "code",
   "execution_count": 12,
   "id": "84146c23-f422-4139-9bcb-4cfdae7268ad",
   "metadata": {},
   "outputs": [],
   "source": [
    "defense_go_term_seq_ids = go_df.loc[go_df['go_process'].isin(defense_go_terms), \n",
    "                                    'seq_id'].unique()"
   ]
  },
  {
   "cell_type": "markdown",
   "id": "6bdd7bdc-f1f8-46c4-949b-faef8252ee71",
   "metadata": {},
   "source": [
    "### T/A"
   ]
  },
  {
   "cell_type": "markdown",
   "id": "46a3b3db-bd02-40aa-8c16-71e70cc54ef8",
   "metadata": {},
   "source": [
    "Due to their frequent misannotation in stress response or persister cell formation, we will remove obvious TA systems from the data"
   ]
  },
  {
   "cell_type": "code",
   "execution_count": 13,
   "id": "e15843c5-67c1-4080-81ee-a830f2d4e579",
   "metadata": {},
   "outputs": [],
   "source": [
    "ta_pattern = pattern = r'toxin-antitoxin|addiction module|abortive infection'"
   ]
  },
  {
   "cell_type": "code",
   "execution_count": 14,
   "id": "4c5fcca7-c583-4ddc-b454-db8d8bdca79f",
   "metadata": {},
   "outputs": [],
   "source": [
    "ta_names = ['nucleotidyl transferase AbiEii/AbiGii toxin family protein',\n",
    "            'BrnT family toxin', \n",
    "            'zeta toxin family protein']"
   ]
  },
  {
   "cell_type": "code",
   "execution_count": 15,
   "id": "1cea1213-ab8a-41a1-873d-7517f0e8131c",
   "metadata": {},
   "outputs": [],
   "source": [
    "ta_rows = (seq_id_names['name'].str.contains(ta_pattern, regex=True) |\n",
    "           seq_id_names['name'].isin(ta_names))"
   ]
  },
  {
   "cell_type": "code",
   "execution_count": 23,
   "id": "fb3c8c4d-7767-44ed-8d4a-7b6d852a7d19",
   "metadata": {},
   "outputs": [
    {
     "data": {
      "text/plain": [
       "name\n",
       "type II toxin-antitoxin system RelE/ParE family toxin                              40136\n",
       "type II toxin-antitoxin system VapC family toxin                                   25391\n",
       "type II toxin-antitoxin system PemK/MazF family toxin                              14282\n",
       "type II toxin-antitoxin system Phd/YefM family antitoxin                           13125\n",
       "type II toxin-antitoxin system HicB family antitoxin                               10758\n",
       "type II toxin-antitoxin system prevent-host-death family antitoxin                 10571\n",
       "nucleotidyl transferase AbiEii/AbiGii toxin family protein                          9819\n",
       "type II toxin-antitoxin system HicA family toxin                                    7774\n",
       "type II toxin-antitoxin system VapB family antitoxin                                7188\n",
       "HigA family addiction module antitoxin                                              7077\n",
       "type II toxin-antitoxin system ParD family antitoxin                                6244\n",
       "type IV toxin-antitoxin system AbiEi family antitoxin domain-containing protein     5463\n",
       "type II toxin-antitoxin system RatA family toxin                                    5243\n",
       "type II toxin-antitoxin system HipA family toxin                                    5093\n",
       "Txe/YoeB family addiction module toxin                                              4849\n",
       "type II toxin-antitoxin system RelB/DinJ family antitoxin                           4450\n",
       "BrnT family toxin                                                                   4249\n",
       "type II toxin-antitoxin system death-on-curing family toxin                         3850\n",
       "zeta toxin family protein                                                           3254\n",
       "toxin-antitoxin system HicB family antitoxin                                        3141\n",
       "type II toxin-antitoxin system HigB family toxin                                    2929\n",
       "putative toxin-antitoxin system toxin component, PIN family                         2890\n",
       "putative addiction module antidote protein                                          2586\n",
       "toxin-antitoxin system YwqK family antitoxin                                        2204\n",
       "addiction module protein                                                            2189\n",
       "type II toxin-antitoxin system YafQ family toxin                                    1895\n",
       "type II toxin-antitoxin system CcdA family antitoxin                                1850\n",
       "type IV toxin-antitoxin system AbiEi family antitoxin                               1557\n",
       "SymE family type I addiction module toxin                                           1354\n",
       "type II toxin-antitoxin system MqsA family antitoxin                                1334\n",
       "abortive infection family protein                                                   1235\n",
       "type II toxin-antitoxin system mRNA interferase toxin, RelE/StbE family             1019\n",
       "type II toxin-antitoxin system PrlF family antitoxin                                1015\n",
       "type II toxin-antitoxin system YhaV family toxin                                     672\n",
       "type II toxin-antitoxin system MqsR family toxin                                     609\n",
       "type I toxin-antitoxin system SymE family toxin                                      563\n",
       "antitoxin of toxin-antitoxin stability system                                        484\n",
       "fic family toxin-antitoxin system, toxin component                                   441\n",
       "type I toxin-antitoxin system Fst family toxin                                       416\n",
       "type II toxin-antitoxin system HipA family toxin YjjJ                                354\n",
       "AbiV family abortive infection protein                                               348\n",
       "putative phage abortive infection protein                                            325\n",
       "abortive infection system antitoxin AbiGi family protein                             317\n",
       "toxin-antitoxin system, toxin component                                              289\n",
       "addiction module antitoxin                                                           289\n",
       "type II toxin-antitoxin system Y4mF family antitoxin                                 282\n",
       "bacteriophage abortive infection AbiH family protein                                 276\n",
       "cytotoxic translational repressor of toxin-antitoxin stability system                263\n",
       "type II toxin-antitoxin system YafO family toxin                                     257\n",
       "type V toxin-antitoxin system endoribonuclease antitoxin GhoS                        254\n",
       "Name: count, dtype: int64"
      ]
     },
     "execution_count": 23,
     "metadata": {},
     "output_type": "execute_result"
    }
   ],
   "source": [
    "seq_id_names.loc[ta_rows, 'name'].value_counts().head(50)"
   ]
  },
  {
   "cell_type": "code",
   "execution_count": 17,
   "id": "574c805f-5ddb-4d5a-887a-e6e91a625382",
   "metadata": {},
   "outputs": [],
   "source": [
    "ta_ids = seq_id_names.loc[ta_rows, 'seq_id'].unique()"
   ]
  },
  {
   "cell_type": "markdown",
   "id": "7d2c3a99-0895-4850-8b77-0afcaddce8b4",
   "metadata": {},
   "source": [
    "### Filtering"
   ]
  },
  {
   "cell_type": "code",
   "execution_count": 18,
   "id": "56bd94d6",
   "metadata": {
    "collapsed": false,
    "jupyter": {
     "outputs_hidden": false
    },
    "pycharm": {
     "name": "#%%\n"
    }
   },
   "outputs": [],
   "source": [
    "background_go_df = go_df.loc[~go_df['seq_id'].isin(true_defense_genes['seq_id']) &\n",
    "                             ~go_df['seq_id'].isin(defense_go_term_seq_ids) &\n",
    "                             ~go_df['seq_id'].isin(ta_ids), :]"
   ]
  },
  {
   "cell_type": "code",
   "execution_count": 19,
   "id": "e951a025-e944-4cea-8416-c27aa0410510",
   "metadata": {},
   "outputs": [
    {
     "data": {
      "text/plain": [
       "go_process\n",
       "translation                                           748338\n",
       "transmembrane transport                               503296\n",
       "regulation of DNA-templated transcription             380624\n",
       "regulation of transcription%2C DNA-templated          373328\n",
       "proteolysis                                           341891\n",
       "DNA repair                                            325868\n",
       "phosphorelay signal transduction system               288476\n",
       "carbohydrate metabolic process                        276985\n",
       "DNA recombination                                     268528\n",
       "peptidoglycan biosynthetic process                    234656\n",
       "DNA replication                                       211933\n",
       "transport                                             203509\n",
       "tRNA modification                                     193661\n",
       "glycolytic process                                    166618\n",
       "biosynthetic process                                  143295\n",
       "histidine biosynthetic process                        142640\n",
       "biological_process                                    135969\n",
       "protein secretion                                     130792\n",
       "fatty acid biosynthetic process                       130045\n",
       "purine ribonucleotide biosynthetic process            129138\n",
       "tricarboxylic acid cycle                              120047\n",
       "cobalamin biosynthetic process                        116362\n",
       "protein folding                                       116344\n",
       "metabolic process                                     101713\n",
       "lysine biosynthetic process via diaminopimelate       101189\n",
       "porphyrin-containing compound biosynthetic process     98120\n",
       "cilium or flagellum-dependent cell motility            97291\n",
       "tRNA processing                                        91064\n",
       "thiamine biosynthetic process                          89892\n",
       "pentose-phosphate shunt                                88449\n",
       "Name: count, dtype: int64"
      ]
     },
     "execution_count": 19,
     "metadata": {},
     "output_type": "execute_result"
    }
   ],
   "source": [
    "background_go_df['go_process'].value_counts().head(30)"
   ]
  },
  {
   "cell_type": "code",
   "execution_count": 20,
   "id": "353d7481-c634-4229-9051-330b5e4fee06",
   "metadata": {},
   "outputs": [],
   "source": [
    "background_seq_ids = background_go_df['seq_id'].drop_duplicates()"
   ]
  },
  {
   "cell_type": "code",
   "execution_count": 21,
   "id": "6fa3f765-0c9a-40ec-b2f7-8fd2c4cdf1a4",
   "metadata": {},
   "outputs": [
    {
     "data": {
      "text/plain": [
       "14097829"
      ]
     },
     "execution_count": 21,
     "metadata": {},
     "output_type": "execute_result"
    }
   ],
   "source": [
    "len(background_seq_ids)"
   ]
  },
  {
   "cell_type": "code",
   "execution_count": 24,
   "id": "0e74b4d3-d5ee-4141-b82e-2e938ae40104",
   "metadata": {},
   "outputs": [],
   "source": [
    "background_seq_ids.to_csv('../data/interim/background_seq_ids.csv', index=False)\n",
    "background_go_df.to_parquet('../data/interim/background_go_terms.pq', index=False)"
   ]
  },
  {
   "cell_type": "code",
   "execution_count": null,
   "id": "5d4c14d6-75ba-4145-83a4-ae2e2ca1a6e4",
   "metadata": {},
   "outputs": [],
   "source": []
  }
 ],
 "metadata": {
  "kernelspec": {
   "display_name": "beaker",
   "language": "python",
   "name": "beaker"
  },
  "language_info": {
   "codemirror_mode": {
    "name": "ipython",
    "version": 3
   },
   "file_extension": ".py",
   "mimetype": "text/x-python",
   "name": "python",
   "nbconvert_exporter": "python",
   "pygments_lexer": "ipython3",
   "version": "3.8.16"
  }
 },
 "nbformat": 4,
 "nbformat_minor": 5
}
