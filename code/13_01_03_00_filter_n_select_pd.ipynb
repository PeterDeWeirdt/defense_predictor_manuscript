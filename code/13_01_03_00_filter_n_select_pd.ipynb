{
 "cells": [
  {
   "cell_type": "code",
   "execution_count": 1,
   "id": "7b052f43-8b51-4dca-aa10-99af12d1c2f9",
   "metadata": {},
   "outputs": [],
   "source": [
    "import pandas as pd\n",
    "import os\n",
    "import seaborn as sns\n",
    "import matplotlib.pyplot as plt\n",
    "import re\n",
    "from joblib import Parallel, delayed\n",
    "from tqdm import tqdm"
   ]
  },
  {
   "cell_type": "code",
   "execution_count": 2,
   "id": "3578fa12-e71d-405e-8162-01a585fc2ebf",
   "metadata": {},
   "outputs": [],
   "source": [
    "def assign_hhblits_hit(hit_name):\n",
    "    if '~' in hit_name:\n",
    "        return 'defense'\n",
    "    elif 'PF' in hit_name:\n",
    "        return 'pfam'\n",
    "    else:\n",
    "        return 'innate'"
   ]
  },
  {
   "cell_type": "code",
   "execution_count": 3,
   "id": "8a1ab31f-da39-423f-9449-ff6e3c9d95fe",
   "metadata": {},
   "outputs": [],
   "source": [
    "def parse_fasta_to_dataframe(file_path):\n",
    "    seq_id = []\n",
    "    seq = []\n",
    "    current_seq = ''\n",
    "    with open(os.path.expanduser(file_path), 'r') as file:\n",
    "        for line in file:\n",
    "            if line.startswith('>'):\n",
    "                if current_seq:\n",
    "                    seq.append(current_seq)\n",
    "                seq_id.append(line.strip().lstrip('>'))\n",
    "                current_seq = ''\n",
    "            else:\n",
    "                current_seq += line.strip()\n",
    "        if current_seq:\n",
    "            seq.append(current_seq)\n",
    "    return pd.DataFrame({'seq_id': seq_id, 'seq': seq})"
   ]
  },
  {
   "cell_type": "code",
   "execution_count": 4,
   "id": "fa977964-d2ee-4d79-ba5e-31aa8aede1a2",
   "metadata": {},
   "outputs": [],
   "source": [
    "select_prefilt_seqs = pd.read_table('../data/interim/prefilt_pd_seq_acc.txt')\n",
    "select_protein_operons = pd.read_csv('../data/interim/prefilt_pd_prediction_df.csv')\n",
    "hhblits_df = pd.read_csv('../data/interim/pd_prefilt_pfam_innate_df_domains.csv')\n",
    "select_protein_seq_df = parse_fasta_to_dataframe('../data/interim/ecor_pd_seqs_prefilt.faa')\n",
    "candidate_defense_proteins = pd.read_csv('../data/interim/easy_filt_novel_def_proteins.csv')"
   ]
  },
  {
   "cell_type": "code",
   "execution_count": 5,
   "id": "3efa6bc3-60c2-44d7-8fd4-f54c6e84cb05",
   "metadata": {},
   "outputs": [],
   "source": [
    "hhblits_df['hit_category'] = hhblits_df['hit_name'].apply(assign_hhblits_hit)\n",
    "hhblits_df['q_ali_len'] = hhblits_df['qend'] - hhblits_df['qstart']"
   ]
  },
  {
   "cell_type": "code",
   "execution_count": 6,
   "id": "19be525a-025a-4788-8f82-eb72d82f3395",
   "metadata": {},
   "outputs": [],
   "source": [
    "select_protein_seq_df['seq_len'] = select_protein_seq_df['seq'].str.len()\n",
    "select_protein_seq_df['query'] = select_protein_seq_df['seq_id'].str.split('.', expand=True)[0]\n"
   ]
  },
  {
   "cell_type": "markdown",
   "id": "c94d96a5-d14c-47bf-81a6-d8aa4aec5e48",
   "metadata": {},
   "source": [
    "## Filter putative defense sequences\n",
    "We'll filter putative defense sequences that have >50% coverage with known defense genes.\n"
   ]
  },
  {
   "cell_type": "code",
   "execution_count": 7,
   "id": "2d97b04f-0784-4797-b4f7-8e28b8c38670",
   "metadata": {},
   "outputs": [],
   "source": [
    "prob_cutoff = 50\n",
    "cov_cutoff = 0.5"
   ]
  },
  {
   "cell_type": "code",
   "execution_count": 8,
   "id": "1049cd53-1722-48d4-87ff-d1ad66e4d66d",
   "metadata": {},
   "outputs": [],
   "source": [
    "hhblits_defense_df = (hhblits_df[(hhblits_df['Prob'] > prob_cutoff) &\n",
    "                                 (hhblits_df['hit_category'] == 'defense')]\n",
    "                      .sort_values('q_ali_len', ascending=False)\n",
    "                      .groupby('query')\n",
    "                      .head(1)\n",
    "                      .reset_index(drop=True)\n",
    "                      .merge(select_protein_seq_df, how='inner', on='query'))\n",
    "hhblits_defense_df['qcov'] = hhblits_defense_df['q_ali_len']/hhblits_defense_df['seq_len']"
   ]
  },
  {
   "cell_type": "code",
   "execution_count": 9,
   "id": "809acf42-ec28-4b75-8213-049e4edb54db",
   "metadata": {},
   "outputs": [
    {
     "data": {
      "text/plain": [
       "<matplotlib.lines.Line2D at 0x7ff683f981f0>"
      ]
     },
     "execution_count": 9,
     "metadata": {},
     "output_type": "execute_result"
    },
    {
     "data": {
      "image/png": "[encoded data removed]",
      "text/plain": [
       "<Figure size 400x400 with 1 Axes>"
      ]
     },
     "metadata": {},
     "output_type": "display_data"
    }
   ],
   "source": [
    "plt.subplots(figsize=(4,4))\n",
    "sns.histplot(data=hhblits_defense_df, \n",
    "             x='qcov', binwidth=0.05)\n",
    "sns.despine()\n",
    "plt.axvline(x=cov_cutoff, linestyle='dashed', color='black')"
   ]
  },
  {
   "cell_type": "code",
   "execution_count": 10,
   "id": "25da0c22-7266-477c-ab9f-db78bccb8aad",
   "metadata": {},
   "outputs": [
    {
     "data": {
      "text/plain": [
       "169"
      ]
     },
     "execution_count": 10,
     "metadata": {},
     "output_type": "execute_result"
    }
   ],
   "source": [
    "blacklisted_prefilt_accs = hhblits_defense_df.loc[(hhblits_defense_df['qcov'] > 0.5), \n",
    "                                                  'query'].to_list()\n",
    "len(blacklisted_prefilt_accs)"
   ]
  },
  {
   "cell_type": "code",
   "execution_count": 14,
   "id": "d80e0bf9-c33f-43e1-bdff-ef24022d51f5",
   "metadata": {},
   "outputs": [],
   "source": [
    "candidate_defense_proteins['accession_stub'] = candidate_defense_proteins['product_accession'].str.split('.', expand=True)[0]"
   ]
  },
  {
   "cell_type": "code",
   "execution_count": 22,
   "id": "1b757aec-8c25-4feb-bcc6-44294be4a1db",
   "metadata": {},
   "outputs": [
    {
     "data": {
      "text/plain": [
       "459"
      ]
     },
     "execution_count": 22,
     "metadata": {},
     "output_type": "execute_result"
    }
   ],
   "source": [
    "candidate_defense_proteins.loc[candidate_defense_proteins['product_accession'].isin(select_prefilt_seqs['product_accession']) & \n",
    "                               ~candidate_defense_proteins['accession_stub'].isin(blacklisted_prefilt_accs), 'cluster_id'].nunique()"
   ]
  },
  {
   "cell_type": "markdown",
   "id": "cfc9cdc7-a38f-487a-b971-62d125a735ae",
   "metadata": {},
   "source": [
    "## Sensitively cluster prefilt seqs"
   ]
  },
  {
   "cell_type": "code",
   "execution_count": 13,
   "id": "eddfaba1-abca-4149-a0c6-e96c97300bea",
   "metadata": {},
   "outputs": [
    {
     "data": {
      "text/plain": [
       "469"
      ]
     },
     "execution_count": 13,
     "metadata": {},
     "output_type": "execute_result"
    }
   ],
   "source": [
    "msa_dir = '../data/interim/pd_prefilt_msas/'\n",
    "passing_a3ms = []\n",
    "for a3m in os.listdir(msa_dir):\n",
    "    if '.a3m' in a3m:\n",
    "        query = a3m.split('.')[0]\n",
    "        if query not in blacklisted_prefilt_accs:\n",
    "            passing_a3ms.append(a3m)\n",
    "len(passing_a3ms)"
   ]
  },
  {
   "cell_type": "code",
   "execution_count": 14,
   "id": "3f9f7a2f-052b-4a96-a41a-bcfbeb64583a",
   "metadata": {},
   "outputs": [],
   "source": [
    "msa_filt_dir_1 = '../data/interim/pd_filt_1_msas/'\n",
    "if 'pd_filt_1_msas' in os.listdir('../data/interim'):\n",
    "    os.system('rm -r ' + msa_filt_dir_1)\n",
    "os.mkdir(msa_filt_dir_1)\n",
    "for a3m in passing_a3ms:\n",
    "    os.system('cp ' + msa_dir + a3m  + ' ' + msa_filt_dir_1 + a3m)"
   ]
  },
  {
   "cell_type": "code",
   "execution_count": 15,
   "id": "e53c4e58-9eeb-48da-8290-4722566d57ae",
   "metadata": {},
   "outputs": [
    {
     "data": {
      "text/plain": [
       "0"
      ]
     },
     "execution_count": 15,
     "metadata": {},
     "output_type": "execute_result"
    }
   ],
   "source": [
    "pd_filt_1_db_folder = '../data/interim/pd_filt_1_db/'\n",
    "if 'pd_filt_1_db' in os.listdir('../data/interim'):\n",
    "    os.system('rm -r ' + pd_filt_1_db_folder)  \n",
    "os.mkdir(pd_filt_1_db_folder)\n",
    "pd_filt_1_db_stub = pd_filt_1_db_folder + 'pd_filt_1_db'\n",
    "\n",
    "os.system(' '.join(['~/hhsuite/bin/ffindex_build', \n",
    "                    '-s', \n",
    "                    pd_filt_1_db_stub + '_a3m.ffdata', \n",
    "                    pd_filt_1_db_stub + '_a3m.ffindex',\n",
    "                    msa_filt_dir_1]))"
   ]
  },
  {
   "cell_type": "markdown",
   "id": "bd744ea2-920b-4455-9165-2b02e3ed04c2",
   "metadata": {},
   "source": [
    "Due to the inability to run module from jupyter run the following in a separate terminal\n",
    "\n",
    "    module load mpi/openmpi-4.1.4\n",
    "\n",
    "    export SLURM_TASKS_PER_NODE=48\n",
    "\n",
    "    mpirun -np 48 ffindex_apply_mpi ../data/interim/pd_filt_1_db/pd_filt_1_db_a3m.ff{data,index} \\\\\n",
    "    -i ../data/interim/pd_filt_1_db/pd_filt_1_db_hhm.ffindex -d ../data/interim/pd_filt_1_db/pd_filt_1_db_hhm.ffdata \\\\\n",
    "    -- hhmake -i stdin -o stdout -v 1\n",
    "    \n",
    "    mpirun -np 48 cstranslate_mpi -f -x 0.3 -c 4 -I a3m -i ../data/interim/pd_filt_1_db/pd_filt_1_db_a3m -o ../data/interim/pd_filt_1_db/pd_filt_1_db_cs219\n",
    "    \n",
    "    sort -k3 -n -r ../data/interim/pd_filt_1_db/pd_filt_1_db_cs219.ffindex | cut -f1 > ../data/interim/pd_filt_1_db/sorting.dat\n",
    "    \n",
    "    ffindex_order ../data/interim/pd_filt_1_db/sorting.dat ../data/interim/pd_filt_1_db/pd_filt_1_db_hhm.ff{data,index} ../data/interim/pd_filt_1_db/pd_filt_1_db_hhm_ordered.ff{data,index}\n",
    "    \n",
    "    mv ../data/interim/pd_filt_1_db/pd_filt_1_db_hhm_ordered.ffindex ../data/interim/pd_filt_1_db/pd_filt_1_db_hhm.ffindex\n",
    "    \n",
    "    mv ../data/interim/pd_filt_1_db/pd_filt_1_db_hhm_ordered.ffdata ../data/interim/pd_filt_1_db/pd_filt_1_db_hhm.ffdata\n",
    "    \n",
    "    ffindex_order ../data/interim/pd_filt_1_db/sorting.dat ../data/interim/pd_filt_1_db/pd_filt_1_db_a3m.ff{data,index} ../data/interim/pd_filt_1_db/pd_filt_1_db_a3m_ordered.ff{data,index}\n",
    "    \n",
    "    mv ../data/interim/pd_filt_1_db/pd_filt_1_db_a3m_ordered.ffindex ../data/interim/pd_filt_1_db/pd_filt_1_db_a3m.ffindex\n",
    "    \n",
    "    mv ../data/interim/pd_filt_1_db/pd_filt_1_db_a3m_ordered.ffdata ../data/interim/pd_filt_1_db/pd_filt_1_db_a3m.ffdata"
   ]
  },
  {
   "cell_type": "code",
   "execution_count": 23,
   "id": "9870ba65-2e96-4eee-996b-f5c6b5abbb42",
   "metadata": {},
   "outputs": [
    {
     "data": {
      "text/plain": [
       "469"
      ]
     },
     "execution_count": 23,
     "metadata": {},
     "output_type": "execute_result"
    }
   ],
   "source": [
    "filt_seq_df = select_protein_seq_df[~select_protein_seq_df['query'].isin(blacklisted_prefilt_accs)]\n",
    "len(filt_seq_df)"
   ]
  },
  {
   "cell_type": "code",
   "execution_count": 24,
   "id": "8ee68e7a-502f-44f4-a653-a55c5282cafa",
   "metadata": {},
   "outputs": [],
   "source": [
    "filt_seq_df.to_csv('../data/interim/pd_filt_1_seqs.csv', index=False)"
   ]
  },
  {
   "cell_type": "code",
   "execution_count": null,
   "id": "a556298d-db0e-4fff-b47c-4654429b5e3f",
   "metadata": {},
   "outputs": [],
   "source": []
  }
 ],
 "metadata": {
  "kernelspec": {
   "display_name": "beaker",
   "language": "python",
   "name": "beaker"
  },
  "language_info": {
   "codemirror_mode": {
    "name": "ipython",
    "version": 3
   },
   "file_extension": ".py",
   "mimetype": "text/x-python",
   "name": "python",
   "nbconvert_exporter": "python",
   "pygments_lexer": "ipython3",
   "version": "3.8.16"
  }
 },
 "nbformat": 4,
 "nbformat_minor": 5
}
