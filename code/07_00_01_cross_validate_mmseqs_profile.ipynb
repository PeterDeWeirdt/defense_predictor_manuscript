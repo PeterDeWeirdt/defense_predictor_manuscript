{
 "cells": [
  {
   "cell_type": "code",
   "execution_count": 1,
   "id": "9e1c6f08-ea53-4300-9e5e-f8a253558002",
   "metadata": {},
   "outputs": [],
   "source": [
    "import pandas as pd\n",
    "import os\n",
    "from core import read_mmseqs_results"
   ]
  },
  {
   "cell_type": "code",
   "execution_count": 2,
   "id": "83c01686-1aa6-4a55-a006-dad5508655ba",
   "metadata": {},
   "outputs": [],
   "source": [
    "model_seq_info = pd.read_parquet('../data3/interim/model_seq_info.pq')"
   ]
  },
  {
   "cell_type": "code",
   "execution_count": 3,
   "id": "b4a15a18-71ee-47a2-9be9-4aec4657b546",
   "metadata": {},
   "outputs": [],
   "source": [
    "mmseqs_search_out = '../data3/interim/candidate_mmseqs_profile_out.txt'"
   ]
  },
  {
   "cell_type": "code",
   "execution_count": 4,
   "id": "d9dc7071-8087-44d9-aef5-cb139481e4c1",
   "metadata": {},
   "outputs": [
    {
     "name": "stdout",
     "output_type": "stream",
     "text": [
      "CPU times: user 57.4 s, sys: 7.39 s, total: 1min 4s\n",
      "Wall time: 1min 5s\n"
     ]
    }
   ],
   "source": [
    "%%time\n",
    "mmseqs_search_df = read_mmseqs_results(mmseqs_search_out)"
   ]
  },
  {
   "cell_type": "markdown",
   "id": "a9b58145-faea-4b51-9f1d-7f349a27b4df",
   "metadata": {},
   "source": [
    "**Query:** train gene\n",
    "\n",
    "**Target:** test gene"
   ]
  },
  {
   "cell_type": "code",
   "execution_count": 5,
   "id": "b065021b-6257-4104-b3a5-e6e78dd4c746",
   "metadata": {},
   "outputs": [
    {
     "name": "stdout",
     "output_type": "stream",
     "text": [
      "0\n",
      "1\n",
      "2\n",
      "3\n",
      "4\n"
     ]
    }
   ],
   "source": [
    "top_train_list = list()\n",
    "for fold, fold_test_df in model_seq_info.groupby('test_fold'):\n",
    "    print(fold)\n",
    "    top_mmseqs_df = (mmseqs_search_df[~mmseqs_search_df['query'].isin(fold_test_df['seq_id']) & \n",
    "                                      mmseqs_search_df['target'].isin(fold_test_df['seq_id'])]\n",
    "                     .sort_values('bits', ascending=False)\n",
    "                     .groupby('target')\n",
    "                     .head(1))\n",
    "    top_train_list.append(top_mmseqs_df)"
   ]
  },
  {
   "cell_type": "code",
   "execution_count": 6,
   "id": "c7d7e61b-7b40-46f9-aa58-ba2ce46bfe25",
   "metadata": {},
   "outputs": [],
   "source": [
    "cat_top_hit = pd.concat(top_train_list)"
   ]
  },
  {
   "cell_type": "code",
   "execution_count": 9,
   "id": "75b0a9c7-08bb-4c60-b6e2-64bb23d69eea",
   "metadata": {},
   "outputs": [],
   "source": [
    "leaked_data = cat_top_hit[((cat_top_hit['qcov'] > 0.8) | \n",
    "                           (cat_top_hit['tcov'] > 0.8)) & \n",
    "                          (cat_top_hit['fident'] > 0.3)]"
   ]
  },
  {
   "cell_type": "code",
   "execution_count": 10,
   "id": "578ed5c2-ec95-4149-afd9-ee9525326810",
   "metadata": {},
   "outputs": [],
   "source": [
    "merged_leaked_data = (leaked_data.merge(model_seq_info\n",
    "                                         .rename(columns={'seq_id': 'query'}), \n",
    "                                         how='inner', on='query')\n",
    "                      .merge(model_seq_info\n",
    "                             .rename(columns={'seq_id': 'target'}), \n",
    "                             how='inner', on='target', suffixes=('_query', '_target')))"
   ]
  },
  {
   "cell_type": "code",
   "execution_count": 11,
   "id": "f4011302-a806-4492-a0e6-ccabe3892372",
   "metadata": {},
   "outputs": [
    {
     "data": {
      "text/html": [
       "<div>\n",
       "<style scoped>\n",
       "    .dataframe tbody tr th:only-of-type {\n",
       "        vertical-align: middle;\n",
       "    }\n",
       "\n",
       "    .dataframe tbody tr th {\n",
       "        vertical-align: top;\n",
       "    }\n",
       "\n",
       "    .dataframe thead th {\n",
       "        text-align: right;\n",
       "    }\n",
       "</style>\n",
       "<table border=\"1\" class=\"dataframe\">\n",
       "  <thead>\n",
       "    <tr style=\"text-align: right;\">\n",
       "      <th></th>\n",
       "      <th>query</th>\n",
       "      <th>target</th>\n",
       "      <th>qcov</th>\n",
       "      <th>tcov</th>\n",
       "      <th>fident</th>\n",
       "      <th>defensive_query</th>\n",
       "      <th>defensive_target</th>\n",
       "    </tr>\n",
       "  </thead>\n",
       "  <tbody>\n",
       "    <tr>\n",
       "      <th>0</th>\n",
       "      <td>27170489b598945be8f2540c4e3d172e6f206c0411643fcb1b7c0eda</td>\n",
       "      <td>58716cd0f8d8332725ba61f467c8b195330aeb9267176c9a589765db</td>\n",
       "      <td>0.999</td>\n",
       "      <td>0.999</td>\n",
       "      <td>0.449</td>\n",
       "      <td>False</td>\n",
       "      <td>False</td>\n",
       "    </tr>\n",
       "    <tr>\n",
       "      <th>1</th>\n",
       "      <td>27170489b598945be8f2540c4e3d172e6f206c0411643fcb1b7c0eda</td>\n",
       "      <td>8d05d5458982cbd3c21f7a0f4b357bfd954940adb13cd5f8a9c2f984</td>\n",
       "      <td>0.887</td>\n",
       "      <td>0.991</td>\n",
       "      <td>0.304</td>\n",
       "      <td>False</td>\n",
       "      <td>False</td>\n",
       "    </tr>\n",
       "    <tr>\n",
       "      <th>2</th>\n",
       "      <td>4f7028c7ce85fa28077affb5a49c0127890f15f050c5afa950c1688a</td>\n",
       "      <td>e40f33194ea22f335bc7721cec6b7f55ba7436ce4974d2f7b953770a</td>\n",
       "      <td>1.000</td>\n",
       "      <td>0.557</td>\n",
       "      <td>0.755</td>\n",
       "      <td>False</td>\n",
       "      <td>False</td>\n",
       "    </tr>\n",
       "    <tr>\n",
       "      <th>3</th>\n",
       "      <td>8be89a7980cadaae21525e944b3432e536a27e65c261b9b1a3f4a5ea</td>\n",
       "      <td>638b0209643f118a2f5c8e39492941dc9589ca158a3bde9456485224</td>\n",
       "      <td>0.409</td>\n",
       "      <td>0.973</td>\n",
       "      <td>0.512</td>\n",
       "      <td>False</td>\n",
       "      <td>True</td>\n",
       "    </tr>\n",
       "    <tr>\n",
       "      <th>4</th>\n",
       "      <td>8c8df95cc8f4fe2a0c50de840ef973d257961bb969aba94b4211119b</td>\n",
       "      <td>80e229a954e8ef84b2f4a6448fb3215c0882976d7c408c34261e5f91</td>\n",
       "      <td>0.558</td>\n",
       "      <td>0.992</td>\n",
       "      <td>0.792</td>\n",
       "      <td>False</td>\n",
       "      <td>False</td>\n",
       "    </tr>\n",
       "    <tr>\n",
       "      <th>...</th>\n",
       "      <td>...</td>\n",
       "      <td>...</td>\n",
       "      <td>...</td>\n",
       "      <td>...</td>\n",
       "      <td>...</td>\n",
       "      <td>...</td>\n",
       "      <td>...</td>\n",
       "    </tr>\n",
       "    <tr>\n",
       "      <th>13795</th>\n",
       "      <td>1f462cd498bbba2b85eec400c5d0eb3019247195442b99d875ac9947</td>\n",
       "      <td>f153e0bed5b527a0e3278bb3a36e5f2e21b008db09212eb55081f64a</td>\n",
       "      <td>0.434</td>\n",
       "      <td>0.820</td>\n",
       "      <td>0.465</td>\n",
       "      <td>False</td>\n",
       "      <td>False</td>\n",
       "    </tr>\n",
       "    <tr>\n",
       "      <th>13796</th>\n",
       "      <td>c3b78e74963b024dbbe4361676fd69be800c82b44145dbf688218780</td>\n",
       "      <td>ee5220395385dcd4c16ab996ae129ff8d032cc5bf5f70e3daa1a3268</td>\n",
       "      <td>0.588</td>\n",
       "      <td>0.862</td>\n",
       "      <td>0.369</td>\n",
       "      <td>False</td>\n",
       "      <td>False</td>\n",
       "    </tr>\n",
       "    <tr>\n",
       "      <th>13797</th>\n",
       "      <td>c0ac1bee470bdc822b8eb29d68da1280459e7aa4593ea1a4b3a5678d</td>\n",
       "      <td>1e0f44509c7ea964fc144cf9093ec35fc6d823237a0f227c24415c60</td>\n",
       "      <td>0.625</td>\n",
       "      <td>0.816</td>\n",
       "      <td>0.500</td>\n",
       "      <td>False</td>\n",
       "      <td>False</td>\n",
       "    </tr>\n",
       "    <tr>\n",
       "      <th>13798</th>\n",
       "      <td>f0fd02ae5b7ab81746e50289f062c3350ce059a6fddf32339c41406b</td>\n",
       "      <td>8490f668bc0c9f31e4b18b89064a3c66fcda5fb07d50a06aae6641c3</td>\n",
       "      <td>0.764</td>\n",
       "      <td>0.854</td>\n",
       "      <td>0.465</td>\n",
       "      <td>False</td>\n",
       "      <td>False</td>\n",
       "    </tr>\n",
       "    <tr>\n",
       "      <th>13799</th>\n",
       "      <td>fc3adda4afa11f08df9a4050b8156eaa1279c7d0b4ef04575aba40e1</td>\n",
       "      <td>4d9c58767020f74e78142d2238b53881920b869ba720fdb3d6fd7326</td>\n",
       "      <td>0.970</td>\n",
       "      <td>0.106</td>\n",
       "      <td>0.578</td>\n",
       "      <td>False</td>\n",
       "      <td>False</td>\n",
       "    </tr>\n",
       "  </tbody>\n",
       "</table>\n",
       "<p>13800 rows × 7 columns</p>\n",
       "</div>"
      ],
      "text/plain": [
       "                                                          query   \n",
       "0      27170489b598945be8f2540c4e3d172e6f206c0411643fcb1b7c0eda  \\\n",
       "1      27170489b598945be8f2540c4e3d172e6f206c0411643fcb1b7c0eda   \n",
       "2      4f7028c7ce85fa28077affb5a49c0127890f15f050c5afa950c1688a   \n",
       "3      8be89a7980cadaae21525e944b3432e536a27e65c261b9b1a3f4a5ea   \n",
       "4      8c8df95cc8f4fe2a0c50de840ef973d257961bb969aba94b4211119b   \n",
       "...                                                         ...   \n",
       "13795  1f462cd498bbba2b85eec400c5d0eb3019247195442b99d875ac9947   \n",
       "13796  c3b78e74963b024dbbe4361676fd69be800c82b44145dbf688218780   \n",
       "13797  c0ac1bee470bdc822b8eb29d68da1280459e7aa4593ea1a4b3a5678d   \n",
       "13798  f0fd02ae5b7ab81746e50289f062c3350ce059a6fddf32339c41406b   \n",
       "13799  fc3adda4afa11f08df9a4050b8156eaa1279c7d0b4ef04575aba40e1   \n",
       "\n",
       "                                                         target   qcov   tcov   \n",
       "0      58716cd0f8d8332725ba61f467c8b195330aeb9267176c9a589765db  0.999  0.999  \\\n",
       "1      8d05d5458982cbd3c21f7a0f4b357bfd954940adb13cd5f8a9c2f984  0.887  0.991   \n",
       "2      e40f33194ea22f335bc7721cec6b7f55ba7436ce4974d2f7b953770a  1.000  0.557   \n",
       "3      638b0209643f118a2f5c8e39492941dc9589ca158a3bde9456485224  0.409  0.973   \n",
       "4      80e229a954e8ef84b2f4a6448fb3215c0882976d7c408c34261e5f91  0.558  0.992   \n",
       "...                                                         ...    ...    ...   \n",
       "13795  f153e0bed5b527a0e3278bb3a36e5f2e21b008db09212eb55081f64a  0.434  0.820   \n",
       "13796  ee5220395385dcd4c16ab996ae129ff8d032cc5bf5f70e3daa1a3268  0.588  0.862   \n",
       "13797  1e0f44509c7ea964fc144cf9093ec35fc6d823237a0f227c24415c60  0.625  0.816   \n",
       "13798  8490f668bc0c9f31e4b18b89064a3c66fcda5fb07d50a06aae6641c3  0.764  0.854   \n",
       "13799  4d9c58767020f74e78142d2238b53881920b869ba720fdb3d6fd7326  0.970  0.106   \n",
       "\n",
       "       fident  defensive_query  defensive_target  \n",
       "0       0.449            False             False  \n",
       "1       0.304            False             False  \n",
       "2       0.755            False             False  \n",
       "3       0.512            False              True  \n",
       "4       0.792            False             False  \n",
       "...       ...              ...               ...  \n",
       "13795   0.465            False             False  \n",
       "13796   0.369            False             False  \n",
       "13797   0.500            False             False  \n",
       "13798   0.465            False             False  \n",
       "13799   0.578            False             False  \n",
       "\n",
       "[13800 rows x 7 columns]"
      ]
     },
     "execution_count": 11,
     "metadata": {},
     "output_type": "execute_result"
    }
   ],
   "source": [
    "pd.set_option('display.max_colwidth', 100)\n",
    "merged_leaked_data[['query', 'target', 'qcov', 'tcov', 'fident', 'defensive_query', 'defensive_target']]"
   ]
  },
  {
   "cell_type": "code",
   "execution_count": 12,
   "id": "8274db62-5af1-49d6-a1e4-040f58c101b9",
   "metadata": {},
   "outputs": [],
   "source": [
    "merged_cat_top_hit = (cat_top_hit[['query', 'target', 'bits']]\n",
    "                      .merge(model_seq_info[['seq_id', 'defensive']]\n",
    "                             .rename(columns={'seq_id': 'query', \n",
    "                                              'defensive': 'query_defensive'}), \n",
    "                             how='inner', on='query'))\n",
    "merged_cat_top_hit['direction'] = merged_cat_top_hit['query_defensive'] * 2 - 1\n",
    "merged_cat_top_hit['prediction'] = merged_cat_top_hit['bits'] * merged_cat_top_hit['direction']"
   ]
  },
  {
   "cell_type": "code",
   "execution_count": 13,
   "id": "499c609a-c6e1-4cb1-827c-cb068b674951",
   "metadata": {},
   "outputs": [],
   "source": [
    "out_df = (model_seq_info[['seq_id']]\n",
    "          .merge(merged_cat_top_hit[['target', 'prediction']]\n",
    "                 .rename(columns={'target': 'seq_id'}), \n",
    "                 how='left', on='seq_id'))\n",
    "out_df['prediction'] = out_df['prediction'].fillna(0)\n",
    "out_df['method'] = 'MMseqs profile nearest neighbor'"
   ]
  },
  {
   "cell_type": "code",
   "execution_count": 14,
   "id": "57323f8a-941f-428a-b452-38364484c519",
   "metadata": {},
   "outputs": [],
   "source": [
    "out_df.to_parquet('../data3/interim/cv_predictions_mmseqs_profile.pq', index=False)"
   ]
  },
  {
   "cell_type": "code",
   "execution_count": null,
   "id": "b3576a29-deda-4e36-8cb7-f3d4f4924345",
   "metadata": {},
   "outputs": [],
   "source": []
  }
 ],
 "metadata": {
  "kernelspec": {
   "display_name": "beaker",
   "language": "python",
   "name": "beaker"
  },
  "language_info": {
   "codemirror_mode": {
    "name": "ipython",
    "version": 3
   },
   "file_extension": ".py",
   "mimetype": "text/x-python",
   "name": "python",
   "nbconvert_exporter": "python",
   "pygments_lexer": "ipython3",
   "version": "3.8.16"
  }
 },
 "nbformat": 4,
 "nbformat_minor": 5
}
