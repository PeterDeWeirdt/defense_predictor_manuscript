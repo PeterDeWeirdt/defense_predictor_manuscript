{
 "cells": [
  {
   "cell_type": "code",
   "execution_count": 1,
   "id": "af648a71-f246-4e16-8c15-efaf79b7faad",
   "metadata": {},
   "outputs": [],
   "source": [
    "import pandas as pd\n",
    "import os\n",
    "from tqdm import tqdm\n",
    "from joblib import Parallel, delayed\n",
    "from core import read_dom_table\n",
    "import seaborn as sns\n",
    "import matplotlib.pyplot as plt\n",
    "import numpy as np"
   ]
  },
  {
   "cell_type": "code",
   "execution_count": 4,
   "id": "8d37793a-c505-4716-8e09-e0c21c9561e6",
   "metadata": {},
   "outputs": [],
   "source": [
    "systems_df = pd.read_csv('../data/raw/Beaker validation domains - hit_proteins.csv')\n"
   ]
  },
  {
   "cell_type": "code",
   "execution_count": 5,
   "id": "ae5dac44",
   "metadata": {},
   "outputs": [
    {
     "data": {
      "text/plain": [
       "42"
      ]
     },
     "execution_count": 5,
     "metadata": {},
     "output_type": "execute_result"
    }
   ],
   "source": [
    "systems_df['working_id'].nunique()"
   ]
  },
  {
   "cell_type": "code",
   "execution_count": 4,
   "id": "fbaa4764-ce92-4880-88cb-a75f4edafe3f",
   "metadata": {},
   "outputs": [],
   "source": [
    "hit_msa_dir = '../data/interim/hit_msas/'"
   ]
  },
  {
   "cell_type": "code",
   "execution_count": 5,
   "id": "0c789229-8b71-40e8-b176-e5d96112ea4f",
   "metadata": {},
   "outputs": [],
   "source": [
    "msa_dir = '../data/interim/pd_prefilt_msas/'\n",
    "built_msas = [x[:-4] for x in os.listdir(msa_dir) if '.a3m' in x]\n",
    "msa_dir2 = '../data/interim/ecor_novel_domain_protein_msas/'\n",
    "built_msas2 = [x[:-4] for x in os.listdir(msa_dir2) if '.a3m' in x]\n",
    "msa_dir3 = '../data/interim/ecor_putative_novel_msas/'\n",
    "built_msas3 = [x[:-4] for x in os.listdir(msa_dir3) if '.a3m' in x]\n",
    "msa_dir4 = hit_msa_dir\n",
    "built_msas4 = [x[:-4] for x in os.listdir(msa_dir4) if '.a3m' in x]"
   ]
  },
  {
   "cell_type": "code",
   "execution_count": 6,
   "id": "36445622-cb7e-49fa-8813-cca17ca04f07",
   "metadata": {},
   "outputs": [],
   "source": [
    "if 'hit_msas' not in os.listdir('../data/interim/'):\n",
    "    os.mkdir(hit_msa_dir)"
   ]
  },
  {
   "cell_type": "code",
   "execution_count": 7,
   "id": "cdf23420-2c89-4a43-b2cc-f549fc82880c",
   "metadata": {},
   "outputs": [],
   "source": [
    "missing_msas = []\n",
    "for acc in systems_df['product_accession']:\n",
    "    if acc in built_msas:\n",
    "        pass\n",
    "    elif acc in built_msas2: \n",
    "        pass\n",
    "    elif acc in built_msas3:\n",
    "        pass\n",
    "    elif acc in built_msas4:\n",
    "        pass\n",
    "    else:\n",
    "        missing_msas.append(acc)\n",
    "            "
   ]
  },
  {
   "cell_type": "code",
   "execution_count": 8,
   "id": "f4b588f0-9b24-4e59-9886-a02bd9cd8dbd",
   "metadata": {},
   "outputs": [
    {
     "data": {
      "text/plain": [
       "[]"
      ]
     },
     "execution_count": 8,
     "metadata": {},
     "output_type": "execute_result"
    }
   ],
   "source": [
    "missing_msas"
   ]
  },
  {
   "cell_type": "code",
   "execution_count": 15,
   "id": "f4d4a4b7-a181-45d6-a14d-ff5a7733666a",
   "metadata": {},
   "outputs": [
    {
     "data": {
      "text/plain": [
       "0"
      ]
     },
     "execution_count": 15,
     "metadata": {},
     "output_type": "execute_result"
    }
   ],
   "source": [
    "missing_msas = pd.Series(missing_msas)\n",
    "out_missing_accs = '../data/interim/validated_proteins_msas.txt'\n",
    "missing_msas.to_csv(out_missing_accs, index=False)\n",
    "out_missing_faa = '../data/interim/validated_missing_msas.faa'\n",
    "if 'validated_missing_msas.faa' in os.listdir('../data/interim/'):\n",
    "    os.system('rm ' + out_missing_faa)\n",
    "os.system(' '.join(['conda run -n beaker', \n",
    "                    'seqtk subseq', \n",
    "                    '../data/interim/ecor_unique_seqs.faa', \n",
    "                    out_missing_accs, '>' , \n",
    "                    out_missing_faa]))"
   ]
  },
  {
   "cell_type": "code",
   "execution_count": 16,
   "id": "3df60084-c152-4951-a5fa-adc6c4904982",
   "metadata": {},
   "outputs": [
    {
     "name": "stdout",
     "output_type": "stream",
     "text": [
      "Building multiple sequence alignments from fasta\n",
      "Wirting out individual fasta files to ~/Documents/hhpred/data/temp/temp_fasta/\n",
      "Transferring the Uniclust database to a the local filesystem\n",
      "Wirting out MSAs from uniclust to ../data/interim/hit_msas/\n",
      "Reusing MSAs\n",
      "Generating multiple sequence alignments with 2 iterations of HHblits\n",
      "\n"
     ]
    },
    {
     "name": "stderr",
     "output_type": "stream",
     "text": [
      "100%|██████████| 5/5 [00:00<00:00, 27.48it/s]\n",
      "100%|██████████| 1/1 [00:00<00:00,  8.48it/s]\n",
      "\n"
     ]
    },
    {
     "data": {
      "text/plain": [
       "0"
      ]
     },
     "execution_count": 16,
     "metadata": {},
     "output_type": "execute_result"
    }
   ],
   "source": [
    "os.system(' '.join(['conda run -n hhpred python',\n",
    "                    '~/Documents/hhpred/code/hhpred.py', \n",
    "                    '--in_fasta', out_missing_faa,\n",
    "                    '--n_iter 2',\n",
    "                    '--n_jobs 40',\n",
    "                    '--alignment_dir', hit_msa_dir, \n",
    "                    '--no-search_dbs']))"
   ]
  },
  {
   "cell_type": "code",
   "execution_count": 6,
   "id": "55f5229c-5a82-4c92-8285-273d6047d80a",
   "metadata": {},
   "outputs": [
    {
     "data": {
      "text/plain": [
       "68"
      ]
     },
     "execution_count": 6,
     "metadata": {},
     "output_type": "execute_result"
    }
   ],
   "source": [
    "len(systems_df['product_accession'])"
   ]
  },
  {
   "cell_type": "code",
   "execution_count": 10,
   "id": "641030fc-70a3-4cb9-bc52-1a30b61ce55c",
   "metadata": {},
   "outputs": [],
   "source": [
    "for acc in systems_df['product_accession']:\n",
    "    if acc in built_msas4:\n",
    "        pass\n",
    "    elif acc in built_msas:\n",
    "        os.system('cp ' + msa_dir + acc + '.a3m ' + hit_msa_dir)\n",
    "    elif acc in built_msas2: \n",
    "        os.system('cp ' + msa_dir2 + acc + '.a3m ' + hit_msa_dir)\n",
    "    elif acc in built_msas3:\n",
    "        os.system('cp ' + msa_dir3 + acc + '.a3m ' + hit_msa_dir)\n",
    "            "
   ]
  },
  {
   "cell_type": "code",
   "execution_count": 11,
   "id": "e59c2429-598b-4981-9017-efe4291bb130",
   "metadata": {},
   "outputs": [],
   "source": [
    "for f in os.listdir(hit_msa_dir):\n",
    "    if '.a3m' in f:\n",
    "        acc = f[:-4]\n",
    "        if acc not in systems_df['product_accession'].to_list():\n",
    "            print(acc)"
   ]
  },
  {
   "cell_type": "code",
   "execution_count": 12,
   "id": "6585bc6b-dbe6-466e-a52c-2d7d6f52cb09",
   "metadata": {},
   "outputs": [],
   "source": [
    "hit_msa_dir2 = '../data/interim/hit_msas_2/'\n",
    "if 'hit_msas_2' in os.listdir('../data/interim/'):\n",
    "    os.system('rm -r ' + hit_msa_dir2)\n",
    "    os.mkdir(hit_msa_dir2)"
   ]
  },
  {
   "cell_type": "code",
   "execution_count": 13,
   "id": "c2cff0f3-88c3-4d62-a922-e1553618bf04",
   "metadata": {},
   "outputs": [],
   "source": [
    "a3m_files = [x for x in os.listdir(hit_msa_dir) if '.a3m' in x]"
   ]
  },
  {
   "cell_type": "markdown",
   "id": "f042c632-773f-4d5e-991b-612d888c4d0f",
   "metadata": {},
   "source": [
    "We will rename the duplicated IDs in the hmm"
   ]
  },
  {
   "cell_type": "code",
   "execution_count": 14,
   "id": "6eddd9ee-fb43-45f8-bd95-f43ade6f885a",
   "metadata": {},
   "outputs": [
    {
     "name": "stderr",
     "output_type": "stream",
     "text": [
      "100%|██████████| 73/73 [01:46<00:00,  1.45s/it]\n"
     ]
    }
   ],
   "source": [
    "for f in tqdm(a3m_files, position=0):\n",
    "    os.system(' '.join(['conda run -n beaker', \n",
    "                        'seqkit rename',  \n",
    "                        hit_msa_dir + f, '>',\n",
    "                        hit_msa_dir2 + f])) "
   ]
  },
  {
   "cell_type": "code",
   "execution_count": 15,
   "id": "839dd037-bbb3-4070-85c8-56f2aa55f58e",
   "metadata": {
    "collapsed": true,
    "jupyter": {
     "outputs_hidden": true
    },
    "tags": []
   },
   "outputs": [
    {
     "name": "stdout",
     "output_type": "stream",
     "text": [
      "73 files to reformat\n",
      "inserting gaps...\n",
      "inserting gaps...\n",
      "inserting gaps...\n",
      "inserting gaps...\n",
      "inserting gaps...\n",
      "inserting gaps...\n",
      "inserting gaps...\n",
      "inserting gaps...\n",
      "inserting gaps...\n",
      "inserting gaps...\n",
      "inserting gaps...\n",
      "inserting gaps...\n",
      "inserting gaps...\n",
      "inserting gaps...\n",
      "inserting gaps...\n",
      "inserting gaps...\n",
      "inserting gaps...\n",
      "inserting gaps...\n",
      "inserting gaps...\n",
      "inserting gaps...\n",
      "inserting gaps...\n",
      "inserting gaps...\n",
      "inserting gaps...\n",
      "inserting gaps...\n",
      "inserting gaps...\n",
      "inserting gaps...\n",
      "inserting gaps...\n",
      "inserting gaps...\n",
      "inserting gaps...\n",
      "inserting gaps...\n",
      "inserting gaps...\n",
      "inserting gaps...\n",
      "inserting gaps...\n",
      "inserting gaps...\n",
      "inserting gaps...\n",
      "inserting gaps...\n",
      "inserting gaps...\n",
      "inserting gaps...\n",
      "inserting gaps...\n",
      "inserting gaps...\n",
      "inserting gaps...\n",
      "inserting gaps...\n",
      "inserting gaps...\n",
      "inserting gaps...\n",
      "inserting gaps...\n",
      "inserting gaps...\n",
      "inserting gaps...\n",
      "inserting gaps...\n",
      "inserting gaps...\n",
      "inserting gaps...\n",
      "inserting gaps...\n",
      "inserting gaps...\n",
      "inserting gaps...\n",
      "inserting gaps...\n",
      "inserting gaps...\n",
      "inserting gaps...\n",
      "inserting gaps...\n",
      "inserting gaps...\n",
      "inserting gaps...\n",
      "inserting gaps...\n",
      "inserting gaps...\n",
      "inserting gaps...\n",
      "inserting gaps...\n",
      "inserting gaps...\n",
      "inserting gaps...\n",
      "inserting gaps...\n",
      "inserting gaps...\n",
      "inserting gaps...\n",
      "inserting gaps...\n",
      "inserting gaps...\n",
      "inserting gaps...\n",
      "inserting gaps...\n",
      "inserting gaps...\n",
      "\n"
     ]
    },
    {
     "data": {
      "text/plain": [
       "0"
      ]
     },
     "execution_count": 15,
     "metadata": {},
     "output_type": "execute_result"
    }
   ],
   "source": [
    "os.system(' '.join(['conda run -n beaker', \n",
    "                            '~/hhsuite/scripts/reformat.pl', \n",
    "                            'a3m', \n",
    "                            'sto',\n",
    "                            hit_msa_dir2 + \"\\'*.a3m\\'\", \n",
    "                            '.stockholm', \n",
    "                            '-v 0']))"
   ]
  },
  {
   "cell_type": "code",
   "execution_count": 16,
   "id": "10915eb9-1cad-475d-a0b5-d631bec6cb8c",
   "metadata": {},
   "outputs": [],
   "source": [
    "stockholm_files = [x for x in os.listdir(hit_msa_dir2) if '.stockholm' in x]"
   ]
  },
  {
   "cell_type": "code",
   "execution_count": 18,
   "id": "5b178366-e024-4172-8ffd-d1eae09275dd",
   "metadata": {},
   "outputs": [],
   "source": [
    "hmm_dir = '../data/interim/hit_hmms/'\n"
   ]
  },
  {
   "cell_type": "code",
   "execution_count": 18,
   "id": "be303e9b-e59d-4d39-88d9-b45b12d91c11",
   "metadata": {},
   "outputs": [],
   "source": [
    "if 'hit_hmms' in os.listdir('../data/interim'):\n",
    "    os.system('rm -r ' + hmm_dir)\n",
    "    os.mkdir(hmm_dir)"
   ]
  },
  {
   "cell_type": "code",
   "execution_count": 19,
   "id": "43217867-cfac-4faa-9860-9d26166e637f",
   "metadata": {
    "collapsed": true,
    "jupyter": {
     "outputs_hidden": true
    },
    "tags": []
   },
   "outputs": [
    {
     "name": "stderr",
     "output_type": "stream",
     "text": [
      "  1%|▏         | 1/73 [00:01<02:13,  1.86s/it]"
     ]
    },
    {
     "name": "stdout",
     "output_type": "stream",
     "text": [
      "# hmmbuild :: profile HMM construction from multiple sequence alignments\n",
      "# HMMER 3.3.2 (Nov 2020); http://hmmer.org/\n",
      "# Copyright (C) 2020 Howard Hughes Medical Institute.\n",
      "# Freely distributed under the BSD open source license.\n",
      "# - - - - - - - - - - - - - - - - - - - - - - - - - - - - - - - - - - - -\n",
      "# input alignment file:             ../data/interim/hit_msas_2/WP_033812887.1.stockholm\n",
      "# output HMM file:                  ../data/interim/hit_hmms/WP_033812887.1.hmm\n",
      "# - - - - - - - - - - - - - - - - - - - - - - - - - - - - - - - - - - - -\n",
      "\n",
      "# idx name                  nseq  alen  mlen eff_nseq re/pos description\n",
      "#---- -------------------- ----- ----- ----- -------- ------ -----------\n",
      "1     WP_033812887.1        1697  3266   461    90.99  0.590 \n",
      "\n",
      "# CPU time: 0.43u 0.01s 00:00:00.44 Elapsed: 00:00:00.47\n",
      "\n"
     ]
    },
    {
     "name": "stderr",
     "output_type": "stream",
     "text": [
      "  3%|▎         | 2/73 [00:03<01:58,  1.67s/it]"
     ]
    },
    {
     "name": "stdout",
     "output_type": "stream",
     "text": [
      "# hmmbuild :: profile HMM construction from multiple sequence alignments\n",
      "# HMMER 3.3.2 (Nov 2020); http://hmmer.org/\n",
      "# Copyright (C) 2020 Howard Hughes Medical Institute.\n",
      "# Freely distributed under the BSD open source license.\n",
      "# - - - - - - - - - - - - - - - - - - - - - - - - - - - - - - - - - - - -\n",
      "# input alignment file:             ../data/interim/hit_msas_2/WP_000377448.1.stockholm\n",
      "# output HMM file:                  ../data/interim/hit_hmms/WP_000377448.1.hmm\n",
      "# - - - - - - - - - - - - - - - - - - - - - - - - - - - - - - - - - - - -\n",
      "\n",
      "# idx name                  nseq  alen  mlen eff_nseq re/pos description\n",
      "#---- -------------------- ----- ----- ----- -------- ------ -----------\n",
      "1     WP_000377448.1         295   669   318    14.37  0.590 \n",
      "\n",
      "# CPU time: 0.19u 0.00s 00:00:00.19 Elapsed: 00:00:00.20\n",
      "\n"
     ]
    },
    {
     "name": "stderr",
     "output_type": "stream",
     "text": [
      "  4%|▍         | 3/73 [00:04<01:48,  1.56s/it]"
     ]
    },
    {
     "name": "stdout",
     "output_type": "stream",
     "text": [
      "# hmmbuild :: profile HMM construction from multiple sequence alignments\n",
      "# HMMER 3.3.2 (Nov 2020); http://hmmer.org/\n",
      "# Copyright (C) 2020 Howard Hughes Medical Institute.\n",
      "# Freely distributed under the BSD open source license.\n",
      "# - - - - - - - - - - - - - - - - - - - - - - - - - - - - - - - - - - - -\n",
      "# input alignment file:             ../data/interim/hit_msas_2/WP_021552536.1.stockholm\n",
      "# output HMM file:                  ../data/interim/hit_hmms/WP_021552536.1.hmm\n",
      "# - - - - - - - - - - - - - - - - - - - - - - - - - - - - - - - - - - - -\n",
      "\n",
      "# idx name                  nseq  alen  mlen eff_nseq re/pos description\n",
      "#---- -------------------- ----- ----- ----- -------- ------ -----------\n",
      "1     WP_021552536.1         265   238   132     9.28  0.590 \n",
      "\n",
      "# CPU time: 0.08u 0.00s 00:00:00.08 Elapsed: 00:00:00.10\n",
      "\n"
     ]
    },
    {
     "name": "stderr",
     "output_type": "stream",
     "text": [
      "  5%|▌         | 4/73 [00:06<01:42,  1.49s/it]"
     ]
    },
    {
     "name": "stdout",
     "output_type": "stream",
     "text": [
      "# hmmbuild :: profile HMM construction from multiple sequence alignments\n",
      "# HMMER 3.3.2 (Nov 2020); http://hmmer.org/\n",
      "# Copyright (C) 2020 Howard Hughes Medical Institute.\n",
      "# Freely distributed under the BSD open source license.\n",
      "# - - - - - - - - - - - - - - - - - - - - - - - - - - - - - - - - - - - -\n",
      "# input alignment file:             ../data/interim/hit_msas_2/WP_000628292.1.stockholm\n",
      "# output HMM file:                  ../data/interim/hit_hmms/WP_000628292.1.hmm\n",
      "# - - - - - - - - - - - - - - - - - - - - - - - - - - - - - - - - - - - -\n",
      "\n",
      "# idx name                  nseq  alen  mlen eff_nseq re/pos description\n",
      "#---- -------------------- ----- ----- ----- -------- ------ -----------\n",
      "1     WP_000628292.1        1005   149    74    15.39  0.763 \n",
      "\n",
      "# CPU time: 0.05u 0.00s 00:00:00.05 Elapsed: 00:00:00.07\n",
      "\n"
     ]
    },
    {
     "name": "stderr",
     "output_type": "stream",
     "text": [
      "  7%|▋         | 5/73 [00:08<01:57,  1.72s/it]"
     ]
    },
    {
     "name": "stdout",
     "output_type": "stream",
     "text": [
      "# hmmbuild :: profile HMM construction from multiple sequence alignments\n",
      "# HMMER 3.3.2 (Nov 2020); http://hmmer.org/\n",
      "# Copyright (C) 2020 Howard Hughes Medical Institute.\n",
      "# Freely distributed under the BSD open source license.\n",
      "# - - - - - - - - - - - - - - - - - - - - - - - - - - - - - - - - - - - -\n",
      "# input alignment file:             ../data/interim/hit_msas_2/WP_001676491.1.stockholm\n",
      "# output HMM file:                  ../data/interim/hit_hmms/WP_001676491.1.hmm\n",
      "# - - - - - - - - - - - - - - - - - - - - - - - - - - - - - - - - - - - -\n",
      "\n",
      "# idx name                  nseq  alen  mlen eff_nseq re/pos description\n",
      "#---- -------------------- ----- ----- ----- -------- ------ -----------\n",
      "1     WP_001676491.1        3727  4633   535   135.03  0.590 \n",
      "\n",
      "# CPU time: 0.78u 0.02s 00:00:00.80 Elapsed: 00:00:00.82\n",
      "\n"
     ]
    },
    {
     "name": "stderr",
     "output_type": "stream",
     "text": [
      "  8%|▊         | 6/73 [00:10<02:10,  1.95s/it]"
     ]
    },
    {
     "name": "stdout",
     "output_type": "stream",
     "text": [
      "# hmmbuild :: profile HMM construction from multiple sequence alignments\n",
      "# HMMER 3.3.2 (Nov 2020); http://hmmer.org/\n",
      "# Copyright (C) 2020 Howard Hughes Medical Institute.\n",
      "# Freely distributed under the BSD open source license.\n",
      "# - - - - - - - - - - - - - - - - - - - - - - - - - - - - - - - - - - - -\n",
      "# input alignment file:             ../data/interim/hit_msas_2/WP_040091717.1.stockholm\n",
      "# output HMM file:                  ../data/interim/hit_hmms/WP_040091717.1.hmm\n",
      "# - - - - - - - - - - - - - - - - - - - - - - - - - - - - - - - - - - - -\n",
      "\n",
      "# idx name                  nseq  alen  mlen eff_nseq re/pos description\n",
      "#---- -------------------- ----- ----- ----- -------- ------ -----------\n",
      "1     WP_040091717.1        4046  5796   726    95.51  0.590 \n",
      "\n",
      "# CPU time: 1.06u 0.01s 00:00:01.07 Elapsed: 00:00:01.09\n",
      "\n"
     ]
    },
    {
     "name": "stderr",
     "output_type": "stream",
     "text": [
      " 10%|▉         | 7/73 [00:12<02:00,  1.82s/it]"
     ]
    },
    {
     "name": "stdout",
     "output_type": "stream",
     "text": [
      "# hmmbuild :: profile HMM construction from multiple sequence alignments\n",
      "# HMMER 3.3.2 (Nov 2020); http://hmmer.org/\n",
      "# Copyright (C) 2020 Howard Hughes Medical Institute.\n",
      "# Freely distributed under the BSD open source license.\n",
      "# - - - - - - - - - - - - - - - - - - - - - - - - - - - - - - - - - - - -\n",
      "# input alignment file:             ../data/interim/hit_msas_2/WP_001532221.1.stockholm\n",
      "# output HMM file:                  ../data/interim/hit_hmms/WP_001532221.1.hmm\n",
      "# - - - - - - - - - - - - - - - - - - - - - - - - - - - - - - - - - - - -\n",
      "\n",
      "# idx name                  nseq  alen  mlen eff_nseq re/pos description\n",
      "#---- -------------------- ----- ----- ----- -------- ------ -----------\n",
      "1     WP_001532221.1         301   735   362    13.74  0.590 \n",
      "\n",
      "# CPU time: 0.22u 0.00s 00:00:00.22 Elapsed: 00:00:00.23\n",
      "\n"
     ]
    },
    {
     "name": "stderr",
     "output_type": "stream",
     "text": [
      " 11%|█         | 8/73 [00:13<01:53,  1.74s/it]"
     ]
    },
    {
     "name": "stdout",
     "output_type": "stream",
     "text": [
      "# hmmbuild :: profile HMM construction from multiple sequence alignments\n",
      "# HMMER 3.3.2 (Nov 2020); http://hmmer.org/\n",
      "# Copyright (C) 2020 Howard Hughes Medical Institute.\n",
      "# Freely distributed under the BSD open source license.\n",
      "# - - - - - - - - - - - - - - - - - - - - - - - - - - - - - - - - - - - -\n",
      "# input alignment file:             ../data/interim/hit_msas_2/WP_000389051.1.stockholm\n",
      "# output HMM file:                  ../data/interim/hit_hmms/WP_000389051.1.hmm\n",
      "# - - - - - - - - - - - - - - - - - - - - - - - - - - - - - - - - - - - -\n",
      "\n",
      "# idx name                  nseq  alen  mlen eff_nseq re/pos description\n",
      "#---- -------------------- ----- ----- ----- -------- ------ -----------\n",
      "1     WP_000389051.1        1665  1629   244    25.23  0.590 \n",
      "\n",
      "# CPU time: 0.23u 0.00s 00:00:00.23 Elapsed: 00:00:00.26\n",
      "\n"
     ]
    },
    {
     "name": "stderr",
     "output_type": "stream",
     "text": [
      " 12%|█▏        | 9/73 [00:15<01:57,  1.84s/it]"
     ]
    },
    {
     "name": "stdout",
     "output_type": "stream",
     "text": [
      "# hmmbuild :: profile HMM construction from multiple sequence alignments\n",
      "# HMMER 3.3.2 (Nov 2020); http://hmmer.org/\n",
      "# Copyright (C) 2020 Howard Hughes Medical Institute.\n",
      "# Freely distributed under the BSD open source license.\n",
      "# - - - - - - - - - - - - - - - - - - - - - - - - - - - - - - - - - - - -\n",
      "# input alignment file:             ../data/interim/hit_msas_2/WP_087889773.1.stockholm\n",
      "# output HMM file:                  ../data/interim/hit_hmms/WP_087889773.1.hmm\n",
      "# - - - - - - - - - - - - - - - - - - - - - - - - - - - - - - - - - - - -\n",
      "\n",
      "# idx name                  nseq  alen  mlen eff_nseq re/pos description\n",
      "#---- -------------------- ----- ----- ----- -------- ------ -----------\n",
      "1     WP_087889773.1        2570  9819   547  2570.00  0.580 \n",
      "\n",
      "# CPU time: 0.66u 0.02s 00:00:00.68 Elapsed: 00:00:00.71\n",
      "\n"
     ]
    },
    {
     "name": "stderr",
     "output_type": "stream",
     "text": [
      " 14%|█▎        | 10/73 [00:17<01:51,  1.76s/it]"
     ]
    },
    {
     "name": "stdout",
     "output_type": "stream",
     "text": [
      "# hmmbuild :: profile HMM construction from multiple sequence alignments\n",
      "# HMMER 3.3.2 (Nov 2020); http://hmmer.org/\n",
      "# Copyright (C) 2020 Howard Hughes Medical Institute.\n",
      "# Freely distributed under the BSD open source license.\n",
      "# - - - - - - - - - - - - - - - - - - - - - - - - - - - - - - - - - - - -\n",
      "# input alignment file:             ../data/interim/hit_msas_2/WP_000770925.1.stockholm\n",
      "# output HMM file:                  ../data/interim/hit_hmms/WP_000770925.1.hmm\n",
      "# - - - - - - - - - - - - - - - - - - - - - - - - - - - - - - - - - - - -\n",
      "\n",
      "# idx name                  nseq  alen  mlen eff_nseq re/pos description\n",
      "#---- -------------------- ----- ----- ----- -------- ------ -----------\n",
      "1     WP_000770925.1        2411  3729   225  2411.00  0.543 \n",
      "\n",
      "# CPU time: 0.22u 0.03s 00:00:00.25 Elapsed: 00:00:00.27\n",
      "\n"
     ]
    },
    {
     "name": "stderr",
     "output_type": "stream",
     "text": [
      " 15%|█▌        | 11/73 [00:18<01:43,  1.66s/it]"
     ]
    },
    {
     "name": "stdout",
     "output_type": "stream",
     "text": [
      "# hmmbuild :: profile HMM construction from multiple sequence alignments\n",
      "# HMMER 3.3.2 (Nov 2020); http://hmmer.org/\n",
      "# Copyright (C) 2020 Howard Hughes Medical Institute.\n",
      "# Freely distributed under the BSD open source license.\n",
      "# - - - - - - - - - - - - - - - - - - - - - - - - - - - - - - - - - - - -\n",
      "# input alignment file:             ../data/interim/hit_msas_2/WP_001024069.1.stockholm\n",
      "# output HMM file:                  ../data/interim/hit_hmms/WP_001024069.1.hmm\n",
      "# - - - - - - - - - - - - - - - - - - - - - - - - - - - - - - - - - - - -\n",
      "\n",
      "# idx name                  nseq  alen  mlen eff_nseq re/pos description\n",
      "#---- -------------------- ----- ----- ----- -------- ------ -----------\n",
      "1     WP_001024069.1          90   263   185    11.40  0.590 \n",
      "\n",
      "# CPU time: 0.11u 0.00s 00:00:00.11 Elapsed: 00:00:00.12\n",
      "\n"
     ]
    },
    {
     "name": "stderr",
     "output_type": "stream",
     "text": [
      " 16%|█▋        | 12/73 [00:20<01:38,  1.61s/it]"
     ]
    },
    {
     "name": "stdout",
     "output_type": "stream",
     "text": [
      "# hmmbuild :: profile HMM construction from multiple sequence alignments\n",
      "# HMMER 3.3.2 (Nov 2020); http://hmmer.org/\n",
      "# Copyright (C) 2020 Howard Hughes Medical Institute.\n",
      "# Freely distributed under the BSD open source license.\n",
      "# - - - - - - - - - - - - - - - - - - - - - - - - - - - - - - - - - - - -\n",
      "# input alignment file:             ../data/interim/hit_msas_2/WP_087906371.1.stockholm\n",
      "# output HMM file:                  ../data/interim/hit_hmms/WP_087906371.1.hmm\n",
      "# - - - - - - - - - - - - - - - - - - - - - - - - - - - - - - - - - - - -\n",
      "\n",
      "# idx name                  nseq  alen  mlen eff_nseq re/pos description\n",
      "#---- -------------------- ----- ----- ----- -------- ------ -----------\n",
      "1     WP_087906371.1         517   499   273    13.99  0.590 \n",
      "\n",
      "# CPU time: 0.17u 0.00s 00:00:00.17 Elapsed: 00:00:00.19\n",
      "\n"
     ]
    },
    {
     "name": "stderr",
     "output_type": "stream",
     "text": [
      " 18%|█▊        | 13/73 [00:21<01:33,  1.55s/it]"
     ]
    },
    {
     "name": "stdout",
     "output_type": "stream",
     "text": [
      "# hmmbuild :: profile HMM construction from multiple sequence alignments\n",
      "# HMMER 3.3.2 (Nov 2020); http://hmmer.org/\n",
      "# Copyright (C) 2020 Howard Hughes Medical Institute.\n",
      "# Freely distributed under the BSD open source license.\n",
      "# - - - - - - - - - - - - - - - - - - - - - - - - - - - - - - - - - - - -\n",
      "# input alignment file:             ../data/interim/hit_msas_2/WP_060581740.1.stockholm\n",
      "# output HMM file:                  ../data/interim/hit_hmms/WP_060581740.1.hmm\n",
      "# - - - - - - - - - - - - - - - - - - - - - - - - - - - - - - - - - - - -\n",
      "\n",
      "# idx name                  nseq  alen  mlen eff_nseq re/pos description\n",
      "#---- -------------------- ----- ----- ----- -------- ------ -----------\n",
      "1     WP_060581740.1         295   302   128     7.79  0.590 \n",
      "\n",
      "# CPU time: 0.08u 0.00s 00:00:00.08 Elapsed: 00:00:00.09\n",
      "\n"
     ]
    },
    {
     "name": "stderr",
     "output_type": "stream",
     "text": [
      " 19%|█▉        | 14/73 [00:23<01:31,  1.55s/it]"
     ]
    },
    {
     "name": "stdout",
     "output_type": "stream",
     "text": [
      "# hmmbuild :: profile HMM construction from multiple sequence alignments\n",
      "# HMMER 3.3.2 (Nov 2020); http://hmmer.org/\n",
      "# Copyright (C) 2020 Howard Hughes Medical Institute.\n",
      "# Freely distributed under the BSD open source license.\n",
      "# - - - - - - - - - - - - - - - - - - - - - - - - - - - - - - - - - - - -\n",
      "# input alignment file:             ../data/interim/hit_msas_2/WP_001703029.1.stockholm\n",
      "# output HMM file:                  ../data/interim/hit_hmms/WP_001703029.1.hmm\n",
      "# - - - - - - - - - - - - - - - - - - - - - - - - - - - - - - - - - - - -\n",
      "\n",
      "# idx name                  nseq  alen  mlen eff_nseq re/pos description\n",
      "#---- -------------------- ----- ----- ----- -------- ------ -----------\n",
      "1     WP_001703029.1         244   497   345     5.89  0.590 \n",
      "\n",
      "# CPU time: 0.21u 0.00s 00:00:00.21 Elapsed: 00:00:00.22\n",
      "\n"
     ]
    },
    {
     "name": "stderr",
     "output_type": "stream",
     "text": [
      " 21%|██        | 15/73 [00:24<01:30,  1.56s/it]"
     ]
    },
    {
     "name": "stdout",
     "output_type": "stream",
     "text": [
      "# hmmbuild :: profile HMM construction from multiple sequence alignments\n",
      "# HMMER 3.3.2 (Nov 2020); http://hmmer.org/\n",
      "# Copyright (C) 2020 Howard Hughes Medical Institute.\n",
      "# Freely distributed under the BSD open source license.\n",
      "# - - - - - - - - - - - - - - - - - - - - - - - - - - - - - - - - - - - -\n",
      "# input alignment file:             ../data/interim/hit_msas_2/WP_014639476.1.stockholm\n",
      "# output HMM file:                  ../data/interim/hit_hmms/WP_014639476.1.hmm\n",
      "# - - - - - - - - - - - - - - - - - - - - - - - - - - - - - - - - - - - -\n",
      "\n",
      "# idx name                  nseq  alen  mlen eff_nseq re/pos description\n",
      "#---- -------------------- ----- ----- ----- -------- ------ -----------\n",
      "1     WP_014639476.1        1224  1098   308    25.03  0.590 \n",
      "\n",
      "# CPU time: 0.23u 0.00s 00:00:00.23 Elapsed: 00:00:00.25\n",
      "\n"
     ]
    },
    {
     "name": "stderr",
     "output_type": "stream",
     "text": [
      " 22%|██▏       | 16/73 [00:26<01:30,  1.59s/it]"
     ]
    },
    {
     "name": "stdout",
     "output_type": "stream",
     "text": [
      "# hmmbuild :: profile HMM construction from multiple sequence alignments\n",
      "# HMMER 3.3.2 (Nov 2020); http://hmmer.org/\n",
      "# Copyright (C) 2020 Howard Hughes Medical Institute.\n",
      "# Freely distributed under the BSD open source license.\n",
      "# - - - - - - - - - - - - - - - - - - - - - - - - - - - - - - - - - - - -\n",
      "# input alignment file:             ../data/interim/hit_msas_2/WP_001313577.1.stockholm\n",
      "# output HMM file:                  ../data/interim/hit_hmms/WP_001313577.1.hmm\n",
      "# - - - - - - - - - - - - - - - - - - - - - - - - - - - - - - - - - - - -\n",
      "\n",
      "# idx name                  nseq  alen  mlen eff_nseq re/pos description\n",
      "#---- -------------------- ----- ----- ----- -------- ------ -----------\n",
      "1     WP_001313577.1        2283  2422   347    31.10  0.590 \n",
      "\n",
      "# CPU time: 0.36u 0.00s 00:00:00.36 Elapsed: 00:00:00.37\n",
      "\n"
     ]
    },
    {
     "name": "stderr",
     "output_type": "stream",
     "text": [
      " 23%|██▎       | 17/73 [00:28<01:27,  1.56s/it]"
     ]
    },
    {
     "name": "stdout",
     "output_type": "stream",
     "text": [
      "# hmmbuild :: profile HMM construction from multiple sequence alignments\n",
      "# HMMER 3.3.2 (Nov 2020); http://hmmer.org/\n",
      "# Copyright (C) 2020 Howard Hughes Medical Institute.\n",
      "# Freely distributed under the BSD open source license.\n",
      "# - - - - - - - - - - - - - - - - - - - - - - - - - - - - - - - - - - - -\n",
      "# input alignment file:             ../data/interim/hit_msas_2/WP_001557682.1.stockholm\n",
      "# output HMM file:                  ../data/interim/hit_hmms/WP_001557682.1.hmm\n",
      "# - - - - - - - - - - - - - - - - - - - - - - - - - - - - - - - - - - - -\n",
      "\n",
      "# idx name                  nseq  alen  mlen eff_nseq re/pos description\n",
      "#---- -------------------- ----- ----- ----- -------- ------ -----------\n",
      "1     WP_001557682.1         724   661   206    12.75  0.590 \n",
      "\n",
      "# CPU time: 0.15u 0.00s 00:00:00.15 Elapsed: 00:00:00.17\n",
      "\n"
     ]
    },
    {
     "name": "stderr",
     "output_type": "stream",
     "text": [
      " 25%|██▍       | 18/73 [00:29<01:24,  1.53s/it]"
     ]
    },
    {
     "name": "stdout",
     "output_type": "stream",
     "text": [
      "# hmmbuild :: profile HMM construction from multiple sequence alignments\n",
      "# HMMER 3.3.2 (Nov 2020); http://hmmer.org/\n",
      "# Copyright (C) 2020 Howard Hughes Medical Institute.\n",
      "# Freely distributed under the BSD open source license.\n",
      "# - - - - - - - - - - - - - - - - - - - - - - - - - - - - - - - - - - - -\n",
      "# input alignment file:             ../data/interim/hit_msas_2/WP_001057122.1.stockholm\n",
      "# output HMM file:                  ../data/interim/hit_hmms/WP_001057122.1.hmm\n",
      "# - - - - - - - - - - - - - - - - - - - - - - - - - - - - - - - - - - - -\n",
      "\n",
      "# idx name                  nseq  alen  mlen eff_nseq re/pos description\n",
      "#---- -------------------- ----- ----- ----- -------- ------ -----------\n",
      "1     WP_001057122.1          29   237   217     2.31  0.590 \n",
      "\n",
      "# CPU time: 0.11u 0.00s 00:00:00.11 Elapsed: 00:00:00.13\n",
      "\n"
     ]
    },
    {
     "name": "stderr",
     "output_type": "stream",
     "text": [
      " 26%|██▌       | 19/73 [00:31<01:25,  1.59s/it]"
     ]
    },
    {
     "name": "stdout",
     "output_type": "stream",
     "text": [
      "# hmmbuild :: profile HMM construction from multiple sequence alignments\n",
      "# HMMER 3.3.2 (Nov 2020); http://hmmer.org/\n",
      "# Copyright (C) 2020 Howard Hughes Medical Institute.\n",
      "# Freely distributed under the BSD open source license.\n",
      "# - - - - - - - - - - - - - - - - - - - - - - - - - - - - - - - - - - - -\n",
      "# input alignment file:             ../data/interim/hit_msas_2/WP_087897267.1.stockholm\n",
      "# output HMM file:                  ../data/interim/hit_hmms/WP_087897267.1.hmm\n",
      "# - - - - - - - - - - - - - - - - - - - - - - - - - - - - - - - - - - - -\n",
      "\n",
      "# idx name                  nseq  alen  mlen eff_nseq re/pos description\n",
      "#---- -------------------- ----- ----- ----- -------- ------ -----------\n",
      "1     WP_087897267.1        1305  2851   467    33.64  0.590 \n",
      "\n",
      "# CPU time: 0.38u 0.00s 00:00:00.38 Elapsed: 00:00:00.40\n",
      "\n"
     ]
    },
    {
     "name": "stderr",
     "output_type": "stream",
     "text": [
      " 27%|██▋       | 20/73 [00:32<01:22,  1.57s/it]"
     ]
    },
    {
     "name": "stdout",
     "output_type": "stream",
     "text": [
      "# hmmbuild :: profile HMM construction from multiple sequence alignments\n",
      "# HMMER 3.3.2 (Nov 2020); http://hmmer.org/\n",
      "# Copyright (C) 2020 Howard Hughes Medical Institute.\n",
      "# Freely distributed under the BSD open source license.\n",
      "# - - - - - - - - - - - - - - - - - - - - - - - - - - - - - - - - - - - -\n",
      "# input alignment file:             ../data/interim/hit_msas_2/WP_000354965.1.stockholm\n",
      "# output HMM file:                  ../data/interim/hit_hmms/WP_000354965.1.hmm\n",
      "# - - - - - - - - - - - - - - - - - - - - - - - - - - - - - - - - - - - -\n",
      "\n",
      "# idx name                  nseq  alen  mlen eff_nseq re/pos description\n",
      "#---- -------------------- ----- ----- ----- -------- ------ -----------\n",
      "1     WP_000354965.1         129   529   334     7.07  0.590 \n",
      "\n",
      "# CPU time: 0.19u 0.00s 00:00:00.19 Elapsed: 00:00:00.19\n",
      "\n"
     ]
    },
    {
     "name": "stderr",
     "output_type": "stream",
     "text": [
      " 29%|██▉       | 21/73 [00:34<01:22,  1.58s/it]"
     ]
    },
    {
     "name": "stdout",
     "output_type": "stream",
     "text": [
      "# hmmbuild :: profile HMM construction from multiple sequence alignments\n",
      "# HMMER 3.3.2 (Nov 2020); http://hmmer.org/\n",
      "# Copyright (C) 2020 Howard Hughes Medical Institute.\n",
      "# Freely distributed under the BSD open source license.\n",
      "# - - - - - - - - - - - - - - - - - - - - - - - - - - - - - - - - - - - -\n",
      "# input alignment file:             ../data/interim/hit_msas_2/WP_001240354.1.stockholm\n",
      "# output HMM file:                  ../data/interim/hit_hmms/WP_001240354.1.hmm\n",
      "# - - - - - - - - - - - - - - - - - - - - - - - - - - - - - - - - - - - -\n",
      "\n",
      "# idx name                  nseq  alen  mlen eff_nseq re/pos description\n",
      "#---- -------------------- ----- ----- ----- -------- ------ -----------\n",
      "1     WP_001240354.1        1779  1467   325    34.69  0.590 \n",
      "\n",
      "# CPU time: 0.28u 0.01s 00:00:00.29 Elapsed: 00:00:00.30\n",
      "\n"
     ]
    },
    {
     "name": "stderr",
     "output_type": "stream",
     "text": [
      " 30%|███       | 22/73 [00:36<01:23,  1.63s/it]"
     ]
    },
    {
     "name": "stdout",
     "output_type": "stream",
     "text": [
      "# hmmbuild :: profile HMM construction from multiple sequence alignments\n",
      "# HMMER 3.3.2 (Nov 2020); http://hmmer.org/\n",
      "# Copyright (C) 2020 Howard Hughes Medical Institute.\n",
      "# Freely distributed under the BSD open source license.\n",
      "# - - - - - - - - - - - - - - - - - - - - - - - - - - - - - - - - - - - -\n",
      "# input alignment file:             ../data/interim/hit_msas_2/WP_054626965.1.stockholm\n",
      "# output HMM file:                  ../data/interim/hit_hmms/WP_054626965.1.hmm\n",
      "# - - - - - - - - - - - - - - - - - - - - - - - - - - - - - - - - - - - -\n",
      "\n",
      "# idx name                  nseq  alen  mlen eff_nseq re/pos description\n",
      "#---- -------------------- ----- ----- ----- -------- ------ -----------\n",
      "1     WP_054626965.1        1101  2804   525    59.05  0.590 \n",
      "\n",
      "# CPU time: 0.42u 0.00s 00:00:00.42 Elapsed: 00:00:00.43\n",
      "\n"
     ]
    },
    {
     "name": "stderr",
     "output_type": "stream",
     "text": [
      " 32%|███▏      | 23/73 [00:38<01:26,  1.74s/it]"
     ]
    },
    {
     "name": "stdout",
     "output_type": "stream",
     "text": [
      "# hmmbuild :: profile HMM construction from multiple sequence alignments\n",
      "# HMMER 3.3.2 (Nov 2020); http://hmmer.org/\n",
      "# Copyright (C) 2020 Howard Hughes Medical Institute.\n",
      "# Freely distributed under the BSD open source license.\n",
      "# - - - - - - - - - - - - - - - - - - - - - - - - - - - - - - - - - - - -\n",
      "# input alignment file:             ../data/interim/hit_msas_2/WP_001702960.1.stockholm\n",
      "# output HMM file:                  ../data/interim/hit_hmms/WP_001702960.1.hmm\n",
      "# - - - - - - - - - - - - - - - - - - - - - - - - - - - - - - - - - - - -\n",
      "\n",
      "# idx name                  nseq  alen  mlen eff_nseq re/pos description\n",
      "#---- -------------------- ----- ----- ----- -------- ------ -----------\n",
      "1     WP_001702960.1        2297  6905   401   174.55  0.590 \n",
      "\n",
      "# CPU time: 0.62u 0.03s 00:00:00.65 Elapsed: 00:00:00.66\n",
      "\n"
     ]
    },
    {
     "name": "stderr",
     "output_type": "stream",
     "text": [
      " 33%|███▎      | 24/73 [00:39<01:20,  1.65s/it]"
     ]
    },
    {
     "name": "stdout",
     "output_type": "stream",
     "text": [
      "# hmmbuild :: profile HMM construction from multiple sequence alignments\n",
      "# HMMER 3.3.2 (Nov 2020); http://hmmer.org/\n",
      "# Copyright (C) 2020 Howard Hughes Medical Institute.\n",
      "# Freely distributed under the BSD open source license.\n",
      "# - - - - - - - - - - - - - - - - - - - - - - - - - - - - - - - - - - - -\n",
      "# input alignment file:             ../data/interim/hit_msas_2/WP_021513008.1.stockholm\n",
      "# output HMM file:                  ../data/interim/hit_hmms/WP_021513008.1.hmm\n",
      "# - - - - - - - - - - - - - - - - - - - - - - - - - - - - - - - - - - - -\n",
      "\n",
      "# idx name                  nseq  alen  mlen eff_nseq re/pos description\n",
      "#---- -------------------- ----- ----- ----- -------- ------ -----------\n",
      "1     WP_021513008.1         396   459   163     6.73  0.590 \n",
      "\n",
      "# CPU time: 0.11u 0.00s 00:00:00.11 Elapsed: 00:00:00.13\n",
      "\n"
     ]
    },
    {
     "name": "stderr",
     "output_type": "stream",
     "text": [
      " 34%|███▍      | 25/73 [00:41<01:16,  1.60s/it]"
     ]
    },
    {
     "name": "stdout",
     "output_type": "stream",
     "text": [
      "# hmmbuild :: profile HMM construction from multiple sequence alignments\n",
      "# HMMER 3.3.2 (Nov 2020); http://hmmer.org/\n",
      "# Copyright (C) 2020 Howard Hughes Medical Institute.\n",
      "# Freely distributed under the BSD open source license.\n",
      "# - - - - - - - - - - - - - - - - - - - - - - - - - - - - - - - - - - - -\n",
      "# input alignment file:             ../data/interim/hit_msas_2/WP_001022716.1.stockholm\n",
      "# output HMM file:                  ../data/interim/hit_hmms/WP_001022716.1.hmm\n",
      "# - - - - - - - - - - - - - - - - - - - - - - - - - - - - - - - - - - - -\n",
      "\n",
      "# idx name                  nseq  alen  mlen eff_nseq re/pos description\n",
      "#---- -------------------- ----- ----- ----- -------- ------ -----------\n",
      "1     WP_001022716.1         307   547   233    18.46  0.590 \n",
      "\n",
      "# CPU time: 0.14u 0.00s 00:00:00.14 Elapsed: 00:00:00.16\n",
      "\n"
     ]
    },
    {
     "name": "stderr",
     "output_type": "stream",
     "text": [
      " 36%|███▌      | 26/73 [00:42<01:13,  1.55s/it]"
     ]
    },
    {
     "name": "stdout",
     "output_type": "stream",
     "text": [
      "# hmmbuild :: profile HMM construction from multiple sequence alignments\n",
      "# HMMER 3.3.2 (Nov 2020); http://hmmer.org/\n",
      "# Copyright (C) 2020 Howard Hughes Medical Institute.\n",
      "# Freely distributed under the BSD open source license.\n",
      "# - - - - - - - - - - - - - - - - - - - - - - - - - - - - - - - - - - - -\n",
      "# input alignment file:             ../data/interim/hit_msas_2/WP_021529611.1.stockholm\n",
      "# output HMM file:                  ../data/interim/hit_hmms/WP_021529611.1.hmm\n",
      "# - - - - - - - - - - - - - - - - - - - - - - - - - - - - - - - - - - - -\n",
      "\n",
      "# idx name                  nseq  alen  mlen eff_nseq re/pos description\n",
      "#---- -------------------- ----- ----- ----- -------- ------ -----------\n",
      "1     WP_021529611.1          97   439   242     6.92  0.590 \n",
      "\n",
      "# CPU time: 0.14u 0.00s 00:00:00.14 Elapsed: 00:00:00.15\n",
      "\n"
     ]
    },
    {
     "name": "stderr",
     "output_type": "stream",
     "text": [
      " 37%|███▋      | 27/73 [00:44<01:12,  1.58s/it]"
     ]
    },
    {
     "name": "stdout",
     "output_type": "stream",
     "text": [
      "# hmmbuild :: profile HMM construction from multiple sequence alignments\n",
      "# HMMER 3.3.2 (Nov 2020); http://hmmer.org/\n",
      "# Copyright (C) 2020 Howard Hughes Medical Institute.\n",
      "# Freely distributed under the BSD open source license.\n",
      "# - - - - - - - - - - - - - - - - - - - - - - - - - - - - - - - - - - - -\n",
      "# input alignment file:             ../data/interim/hit_msas_2/WP_225403053.1.stockholm\n",
      "# output HMM file:                  ../data/interim/hit_hmms/WP_225403053.1.hmm\n",
      "# - - - - - - - - - - - - - - - - - - - - - - - - - - - - - - - - - - - -\n",
      "\n",
      "# idx name                  nseq  alen  mlen eff_nseq re/pos description\n",
      "#---- -------------------- ----- ----- ----- -------- ------ -----------\n",
      "1     WP_225403053.1        2483  1204   346    45.88  0.590 \n",
      "\n",
      "# CPU time: 0.30u 0.01s 00:00:00.31 Elapsed: 00:00:00.32\n",
      "\n"
     ]
    },
    {
     "name": "stderr",
     "output_type": "stream",
     "text": [
      " 38%|███▊      | 28/73 [00:45<01:11,  1.58s/it]"
     ]
    },
    {
     "name": "stdout",
     "output_type": "stream",
     "text": [
      "# hmmbuild :: profile HMM construction from multiple sequence alignments\n",
      "# HMMER 3.3.2 (Nov 2020); http://hmmer.org/\n",
      "# Copyright (C) 2020 Howard Hughes Medical Institute.\n",
      "# Freely distributed under the BSD open source license.\n",
      "# - - - - - - - - - - - - - - - - - - - - - - - - - - - - - - - - - - - -\n",
      "# input alignment file:             ../data/interim/hit_msas_2/WP_016240615.1.stockholm\n",
      "# output HMM file:                  ../data/interim/hit_hmms/WP_016240615.1.hmm\n",
      "# - - - - - - - - - - - - - - - - - - - - - - - - - - - - - - - - - - - -\n",
      "\n",
      "# idx name                  nseq  alen  mlen eff_nseq re/pos description\n",
      "#---- -------------------- ----- ----- ----- -------- ------ -----------\n",
      "1     WP_016240615.1        1194  2330   270    25.99  0.590 \n",
      "\n",
      "# CPU time: 0.23u 0.01s 00:00:00.24 Elapsed: 00:00:00.25\n",
      "\n"
     ]
    },
    {
     "name": "stderr",
     "output_type": "stream",
     "text": [
      " 40%|███▉      | 29/73 [00:47<01:09,  1.57s/it]"
     ]
    },
    {
     "name": "stdout",
     "output_type": "stream",
     "text": [
      "# hmmbuild :: profile HMM construction from multiple sequence alignments\n",
      "# HMMER 3.3.2 (Nov 2020); http://hmmer.org/\n",
      "# Copyright (C) 2020 Howard Hughes Medical Institute.\n",
      "# Freely distributed under the BSD open source license.\n",
      "# - - - - - - - - - - - - - - - - - - - - - - - - - - - - - - - - - - - -\n",
      "# input alignment file:             ../data/interim/hit_msas_2/WP_001676492.1.stockholm\n",
      "# output HMM file:                  ../data/interim/hit_hmms/WP_001676492.1.hmm\n",
      "# - - - - - - - - - - - - - - - - - - - - - - - - - - - - - - - - - - - -\n",
      "\n",
      "# idx name                  nseq  alen  mlen eff_nseq re/pos description\n",
      "#---- -------------------- ----- ----- ----- -------- ------ -----------\n",
      "1     WP_001676492.1         226   612   336    10.06  0.590 \n",
      "\n",
      "# CPU time: 0.20u 0.00s 00:00:00.20 Elapsed: 00:00:00.22\n",
      "\n"
     ]
    },
    {
     "name": "stderr",
     "output_type": "stream",
     "text": [
      " 41%|████      | 30/73 [00:48<01:05,  1.53s/it]"
     ]
    },
    {
     "name": "stdout",
     "output_type": "stream",
     "text": [
      "# hmmbuild :: profile HMM construction from multiple sequence alignments\n",
      "# HMMER 3.3.2 (Nov 2020); http://hmmer.org/\n",
      "# Copyright (C) 2020 Howard Hughes Medical Institute.\n",
      "# Freely distributed under the BSD open source license.\n",
      "# - - - - - - - - - - - - - - - - - - - - - - - - - - - - - - - - - - - -\n",
      "# input alignment file:             ../data/interim/hit_msas_2/WP_072044445.1.stockholm\n",
      "# output HMM file:                  ../data/interim/hit_hmms/WP_072044445.1.hmm\n",
      "# - - - - - - - - - - - - - - - - - - - - - - - - - - - - - - - - - - - -\n",
      "\n",
      "# idx name                  nseq  alen  mlen eff_nseq re/pos description\n",
      "#---- -------------------- ----- ----- ----- -------- ------ -----------\n",
      "1     WP_072044445.1        1461  1243   152    51.73  0.590 \n",
      "\n",
      "# CPU time: 0.15u 0.00s 00:00:00.15 Elapsed: 00:00:00.15\n",
      "\n"
     ]
    },
    {
     "name": "stderr",
     "output_type": "stream",
     "text": [
      " 42%|████▏     | 31/73 [00:50<01:06,  1.59s/it]"
     ]
    },
    {
     "name": "stdout",
     "output_type": "stream",
     "text": [
      "# hmmbuild :: profile HMM construction from multiple sequence alignments\n",
      "# HMMER 3.3.2 (Nov 2020); http://hmmer.org/\n",
      "# Copyright (C) 2020 Howard Hughes Medical Institute.\n",
      "# Freely distributed under the BSD open source license.\n",
      "# - - - - - - - - - - - - - - - - - - - - - - - - - - - - - - - - - - - -\n",
      "# input alignment file:             ../data/interim/hit_msas_2/WP_001619161.1.stockholm\n",
      "# output HMM file:                  ../data/interim/hit_hmms/WP_001619161.1.hmm\n",
      "# - - - - - - - - - - - - - - - - - - - - - - - - - - - - - - - - - - - -\n",
      "\n",
      "# idx name                  nseq  alen  mlen eff_nseq re/pos description\n",
      "#---- -------------------- ----- ----- ----- -------- ------ -----------\n",
      "1     WP_001619161.1        2645  3203   260   111.36  0.590 \n",
      "\n",
      "# CPU time: 0.38u 0.01s 00:00:00.39 Elapsed: 00:00:00.41\n",
      "\n"
     ]
    },
    {
     "name": "stderr",
     "output_type": "stream",
     "text": [
      " 44%|████▍     | 32/73 [00:52<01:07,  1.66s/it]"
     ]
    },
    {
     "name": "stdout",
     "output_type": "stream",
     "text": [
      "# hmmbuild :: profile HMM construction from multiple sequence alignments\n",
      "# HMMER 3.3.2 (Nov 2020); http://hmmer.org/\n",
      "# Copyright (C) 2020 Howard Hughes Medical Institute.\n",
      "# Freely distributed under the BSD open source license.\n",
      "# - - - - - - - - - - - - - - - - - - - - - - - - - - - - - - - - - - - -\n",
      "# input alignment file:             ../data/interim/hit_msas_2/WP_001589054.1.stockholm\n",
      "# output HMM file:                  ../data/interim/hit_hmms/WP_001589054.1.hmm\n",
      "# - - - - - - - - - - - - - - - - - - - - - - - - - - - - - - - - - - - -\n",
      "\n",
      "# idx name                  nseq  alen  mlen eff_nseq re/pos description\n",
      "#---- -------------------- ----- ----- ----- -------- ------ -----------\n",
      "1     WP_001589054.1        3834  2772   307   189.02  0.590 \n",
      "\n",
      "# CPU time: 0.47u 0.00s 00:00:00.47 Elapsed: 00:00:00.48\n",
      "\n"
     ]
    },
    {
     "name": "stderr",
     "output_type": "stream",
     "text": [
      " 45%|████▌     | 33/73 [00:53<01:03,  1.60s/it]"
     ]
    },
    {
     "name": "stdout",
     "output_type": "stream",
     "text": [
      "# hmmbuild :: profile HMM construction from multiple sequence alignments\n",
      "# HMMER 3.3.2 (Nov 2020); http://hmmer.org/\n",
      "# Copyright (C) 2020 Howard Hughes Medical Institute.\n",
      "# Freely distributed under the BSD open source license.\n",
      "# - - - - - - - - - - - - - - - - - - - - - - - - - - - - - - - - - - - -\n",
      "# input alignment file:             ../data/interim/hit_msas_2/WP_047174762.1.stockholm\n",
      "# output HMM file:                  ../data/interim/hit_hmms/WP_047174762.1.hmm\n",
      "# - - - - - - - - - - - - - - - - - - - - - - - - - - - - - - - - - - - -\n",
      "\n",
      "# idx name                  nseq  alen  mlen eff_nseq re/pos description\n",
      "#---- -------------------- ----- ----- ----- -------- ------ -----------\n",
      "1     WP_047174762.1         376   918   213     6.02  0.590 \n",
      "\n",
      "# CPU time: 0.14u 0.00s 00:00:00.14 Elapsed: 00:00:00.15\n",
      "\n"
     ]
    },
    {
     "name": "stderr",
     "output_type": "stream",
     "text": [
      " 47%|████▋     | 34/73 [00:56<01:11,  1.83s/it]"
     ]
    },
    {
     "name": "stdout",
     "output_type": "stream",
     "text": [
      "# hmmbuild :: profile HMM construction from multiple sequence alignments\n",
      "# HMMER 3.3.2 (Nov 2020); http://hmmer.org/\n",
      "# Copyright (C) 2020 Howard Hughes Medical Institute.\n",
      "# Freely distributed under the BSD open source license.\n",
      "# - - - - - - - - - - - - - - - - - - - - - - - - - - - - - - - - - - - -\n",
      "# input alignment file:             ../data/interim/hit_msas_2/WP_032203427.1.stockholm\n",
      "# output HMM file:                  ../data/interim/hit_hmms/WP_032203427.1.hmm\n",
      "# - - - - - - - - - - - - - - - - - - - - - - - - - - - - - - - - - - - -\n",
      "\n",
      "# idx name                  nseq  alen  mlen eff_nseq re/pos description\n",
      "#---- -------------------- ----- ----- ----- -------- ------ -----------\n",
      "1     WP_032203427.1        2309  6366  1006    51.65  0.590 \n",
      "\n",
      "# CPU time: 1.03u 0.02s 00:00:01.05 Elapsed: 00:00:01.06\n",
      "\n"
     ]
    },
    {
     "name": "stderr",
     "output_type": "stream",
     "text": [
      " 48%|████▊     | 35/73 [00:58<01:13,  1.93s/it]"
     ]
    },
    {
     "name": "stdout",
     "output_type": "stream",
     "text": [
      "# hmmbuild :: profile HMM construction from multiple sequence alignments\n",
      "# HMMER 3.3.2 (Nov 2020); http://hmmer.org/\n",
      "# Copyright (C) 2020 Howard Hughes Medical Institute.\n",
      "# Freely distributed under the BSD open source license.\n",
      "# - - - - - - - - - - - - - - - - - - - - - - - - - - - - - - - - - - - -\n",
      "# input alignment file:             ../data/interim/hit_msas_2/WP_020231147.1.stockholm\n",
      "# output HMM file:                  ../data/interim/hit_hmms/WP_020231147.1.hmm\n",
      "# - - - - - - - - - - - - - - - - - - - - - - - - - - - - - - - - - - - -\n",
      "\n",
      "# idx name                  nseq  alen  mlen eff_nseq re/pos description\n",
      "#---- -------------------- ----- ----- ----- -------- ------ -----------\n",
      "1     WP_020231147.1        3057  4055   719    99.67  0.590 \n",
      "\n",
      "# CPU time: 0.79u 0.03s 00:00:00.82 Elapsed: 00:00:00.85\n",
      "\n"
     ]
    },
    {
     "name": "stderr",
     "output_type": "stream",
     "text": [
      " 49%|████▉     | 36/73 [00:59<01:05,  1.77s/it]"
     ]
    },
    {
     "name": "stdout",
     "output_type": "stream",
     "text": [
      "# hmmbuild :: profile HMM construction from multiple sequence alignments\n",
      "# HMMER 3.3.2 (Nov 2020); http://hmmer.org/\n",
      "# Copyright (C) 2020 Howard Hughes Medical Institute.\n",
      "# Freely distributed under the BSD open source license.\n",
      "# - - - - - - - - - - - - - - - - - - - - - - - - - - - - - - - - - - - -\n",
      "# input alignment file:             ../data/interim/hit_msas_2/WP_001553315.1.stockholm\n",
      "# output HMM file:                  ../data/interim/hit_hmms/WP_001553315.1.hmm\n",
      "# - - - - - - - - - - - - - - - - - - - - - - - - - - - - - - - - - - - -\n",
      "\n",
      "# idx name                  nseq  alen  mlen eff_nseq re/pos description\n",
      "#---- -------------------- ----- ----- ----- -------- ------ -----------\n",
      "1     WP_001553315.1          30   103    86     2.47  0.661 \n",
      "\n",
      "# CPU time: 0.05u 0.00s 00:00:00.05 Elapsed: 00:00:00.08\n",
      "\n"
     ]
    },
    {
     "name": "stderr",
     "output_type": "stream",
     "text": [
      " 51%|█████     | 37/73 [01:01<01:00,  1.67s/it]"
     ]
    },
    {
     "name": "stdout",
     "output_type": "stream",
     "text": [
      "# hmmbuild :: profile HMM construction from multiple sequence alignments\n",
      "# HMMER 3.3.2 (Nov 2020); http://hmmer.org/\n",
      "# Copyright (C) 2020 Howard Hughes Medical Institute.\n",
      "# Freely distributed under the BSD open source license.\n",
      "# - - - - - - - - - - - - - - - - - - - - - - - - - - - - - - - - - - - -\n",
      "# input alignment file:             ../data/interim/hit_msas_2/WP_000494510.1.stockholm\n",
      "# output HMM file:                  ../data/interim/hit_hmms/WP_000494510.1.hmm\n",
      "# - - - - - - - - - - - - - - - - - - - - - - - - - - - - - - - - - - - -\n",
      "\n",
      "# idx name                  nseq  alen  mlen eff_nseq re/pos description\n",
      "#---- -------------------- ----- ----- ----- -------- ------ -----------\n",
      "1     WP_000494510.1         142   466   252     6.97  0.590 \n",
      "\n",
      "# CPU time: 0.14u 0.00s 00:00:00.14 Elapsed: 00:00:00.15\n",
      "\n"
     ]
    },
    {
     "name": "stderr",
     "output_type": "stream",
     "text": [
      " 52%|█████▏    | 38/73 [01:02<00:56,  1.61s/it]"
     ]
    },
    {
     "name": "stdout",
     "output_type": "stream",
     "text": [
      "# hmmbuild :: profile HMM construction from multiple sequence alignments\n",
      "# HMMER 3.3.2 (Nov 2020); http://hmmer.org/\n",
      "# Copyright (C) 2020 Howard Hughes Medical Institute.\n",
      "# Freely distributed under the BSD open source license.\n",
      "# - - - - - - - - - - - - - - - - - - - - - - - - - - - - - - - - - - - -\n",
      "# input alignment file:             ../data/interim/hit_msas_2/WP_223151192.1.stockholm\n",
      "# output HMM file:                  ../data/interim/hit_hmms/WP_223151192.1.hmm\n",
      "# - - - - - - - - - - - - - - - - - - - - - - - - - - - - - - - - - - - -\n",
      "\n",
      "# idx name                  nseq  alen  mlen eff_nseq re/pos description\n",
      "#---- -------------------- ----- ----- ----- -------- ------ -----------\n",
      "1     WP_223151192.1        1048   775   183    30.51  0.590 \n",
      "\n",
      "# CPU time: 0.13u 0.00s 00:00:00.13 Elapsed: 00:00:00.16\n",
      "\n"
     ]
    },
    {
     "name": "stderr",
     "output_type": "stream",
     "text": [
      " 53%|█████▎    | 39/73 [01:04<00:56,  1.66s/it]"
     ]
    },
    {
     "name": "stdout",
     "output_type": "stream",
     "text": [
      "# hmmbuild :: profile HMM construction from multiple sequence alignments\n",
      "# HMMER 3.3.2 (Nov 2020); http://hmmer.org/\n",
      "# Copyright (C) 2020 Howard Hughes Medical Institute.\n",
      "# Freely distributed under the BSD open source license.\n",
      "# - - - - - - - - - - - - - - - - - - - - - - - - - - - - - - - - - - - -\n",
      "# input alignment file:             ../data/interim/hit_msas_2/WP_016240614.1.stockholm\n",
      "# output HMM file:                  ../data/interim/hit_hmms/WP_016240614.1.hmm\n",
      "# - - - - - - - - - - - - - - - - - - - - - - - - - - - - - - - - - - - -\n",
      "\n",
      "# idx name                  nseq  alen  mlen eff_nseq re/pos description\n",
      "#---- -------------------- ----- ----- ----- -------- ------ -----------\n",
      "1     WP_016240614.1         873  2570   583    20.65  0.590 \n",
      "\n",
      "# CPU time: 0.40u 0.02s 00:00:00.42 Elapsed: 00:00:00.43\n",
      "\n"
     ]
    },
    {
     "name": "stderr",
     "output_type": "stream",
     "text": [
      " 55%|█████▍    | 40/73 [01:06<01:01,  1.86s/it]"
     ]
    },
    {
     "name": "stdout",
     "output_type": "stream",
     "text": [
      "# hmmbuild :: profile HMM construction from multiple sequence alignments\n",
      "# HMMER 3.3.2 (Nov 2020); http://hmmer.org/\n",
      "# Copyright (C) 2020 Howard Hughes Medical Institute.\n",
      "# Freely distributed under the BSD open source license.\n",
      "# - - - - - - - - - - - - - - - - - - - - - - - - - - - - - - - - - - - -\n",
      "# input alignment file:             ../data/interim/hit_msas_2/WP_064766070.1.stockholm\n",
      "# output HMM file:                  ../data/interim/hit_hmms/WP_064766070.1.hmm\n",
      "# - - - - - - - - - - - - - - - - - - - - - - - - - - - - - - - - - - - -\n",
      "\n",
      "# idx name                  nseq  alen  mlen eff_nseq re/pos description\n",
      "#---- -------------------- ----- ----- ----- -------- ------ -----------\n",
      "1     WP_064766070.1        3183  6137   735    71.48  0.590 \n",
      "\n",
      "# CPU time: 0.99u 0.02s 00:00:01.01 Elapsed: 00:00:01.03\n",
      "\n"
     ]
    },
    {
     "name": "stderr",
     "output_type": "stream",
     "text": [
      " 56%|█████▌    | 41/73 [01:08<00:56,  1.76s/it]"
     ]
    },
    {
     "name": "stdout",
     "output_type": "stream",
     "text": [
      "# hmmbuild :: profile HMM construction from multiple sequence alignments\n",
      "# HMMER 3.3.2 (Nov 2020); http://hmmer.org/\n",
      "# Copyright (C) 2020 Howard Hughes Medical Institute.\n",
      "# Freely distributed under the BSD open source license.\n",
      "# - - - - - - - - - - - - - - - - - - - - - - - - - - - - - - - - - - - -\n",
      "# input alignment file:             ../data/interim/hit_msas_2/WP_000020904.1.stockholm\n",
      "# output HMM file:                  ../data/interim/hit_hmms/WP_000020904.1.hmm\n",
      "# - - - - - - - - - - - - - - - - - - - - - - - - - - - - - - - - - - - -\n",
      "\n",
      "# idx name                  nseq  alen  mlen eff_nseq re/pos description\n",
      "#---- -------------------- ----- ----- ----- -------- ------ -----------\n",
      "1     WP_000020904.1         261   500   313    10.65  0.590 \n",
      "\n",
      "# CPU time: 0.18u 0.00s 00:00:00.18 Elapsed: 00:00:00.21\n",
      "\n"
     ]
    },
    {
     "name": "stderr",
     "output_type": "stream",
     "text": [
      " 58%|█████▊    | 42/73 [01:09<00:52,  1.70s/it]"
     ]
    },
    {
     "name": "stdout",
     "output_type": "stream",
     "text": [
      "# hmmbuild :: profile HMM construction from multiple sequence alignments\n",
      "# HMMER 3.3.2 (Nov 2020); http://hmmer.org/\n",
      "# Copyright (C) 2020 Howard Hughes Medical Institute.\n",
      "# Freely distributed under the BSD open source license.\n",
      "# - - - - - - - - - - - - - - - - - - - - - - - - - - - - - - - - - - - -\n",
      "# input alignment file:             ../data/interim/hit_msas_2/WP_000210934.1.stockholm\n",
      "# output HMM file:                  ../data/interim/hit_hmms/WP_000210934.1.hmm\n",
      "# - - - - - - - - - - - - - - - - - - - - - - - - - - - - - - - - - - - -\n",
      "\n",
      "# idx name                  nseq  alen  mlen eff_nseq re/pos description\n",
      "#---- -------------------- ----- ----- ----- -------- ------ -----------\n",
      "1     WP_000210934.1        1179  1071   275    24.28  0.590 \n",
      "\n",
      "# CPU time: 0.22u 0.00s 00:00:00.22 Elapsed: 00:00:00.23\n",
      "\n"
     ]
    },
    {
     "name": "stderr",
     "output_type": "stream",
     "text": [
      " 59%|█████▉    | 43/73 [01:11<00:54,  1.83s/it]"
     ]
    },
    {
     "name": "stdout",
     "output_type": "stream",
     "text": [
      "# hmmbuild :: profile HMM construction from multiple sequence alignments\n",
      "# HMMER 3.3.2 (Nov 2020); http://hmmer.org/\n",
      "# Copyright (C) 2020 Howard Hughes Medical Institute.\n",
      "# Freely distributed under the BSD open source license.\n",
      "# - - - - - - - - - - - - - - - - - - - - - - - - - - - - - - - - - - - -\n",
      "# input alignment file:             ../data/interim/hit_msas_2/WP_000665639.1.stockholm\n",
      "# output HMM file:                  ../data/interim/hit_hmms/WP_000665639.1.hmm\n",
      "# - - - - - - - - - - - - - - - - - - - - - - - - - - - - - - - - - - - -\n",
      "\n",
      "# idx name                  nseq  alen  mlen eff_nseq re/pos description\n",
      "#---- -------------------- ----- ----- ----- -------- ------ -----------\n",
      "1     WP_000665639.1        2979  6783   481   149.70  0.590 \n",
      "\n",
      "# CPU time: 0.73u 0.04s 00:00:00.77 Elapsed: 00:00:00.80\n",
      "\n"
     ]
    },
    {
     "name": "stderr",
     "output_type": "stream",
     "text": [
      " 60%|██████    | 44/73 [01:13<00:50,  1.73s/it]"
     ]
    },
    {
     "name": "stdout",
     "output_type": "stream",
     "text": [
      "# hmmbuild :: profile HMM construction from multiple sequence alignments\n",
      "# HMMER 3.3.2 (Nov 2020); http://hmmer.org/\n",
      "# Copyright (C) 2020 Howard Hughes Medical Institute.\n",
      "# Freely distributed under the BSD open source license.\n",
      "# - - - - - - - - - - - - - - - - - - - - - - - - - - - - - - - - - - - -\n",
      "# input alignment file:             ../data/interim/hit_msas_2/WP_000957441.1.stockholm\n",
      "# output HMM file:                  ../data/interim/hit_hmms/WP_000957441.1.hmm\n",
      "# - - - - - - - - - - - - - - - - - - - - - - - - - - - - - - - - - - - -\n",
      "\n",
      "# idx name                  nseq  alen  mlen eff_nseq re/pos description\n",
      "#---- -------------------- ----- ----- ----- -------- ------ -----------\n",
      "1     WP_000957441.1         146   338   211     7.13  0.590 \n",
      "\n",
      "# CPU time: 0.12u 0.00s 00:00:00.12 Elapsed: 00:00:00.17\n",
      "\n"
     ]
    },
    {
     "name": "stderr",
     "output_type": "stream",
     "text": [
      " 62%|██████▏   | 45/73 [01:15<00:47,  1.69s/it]"
     ]
    },
    {
     "name": "stdout",
     "output_type": "stream",
     "text": [
      "# hmmbuild :: profile HMM construction from multiple sequence alignments\n",
      "# HMMER 3.3.2 (Nov 2020); http://hmmer.org/\n",
      "# Copyright (C) 2020 Howard Hughes Medical Institute.\n",
      "# Freely distributed under the BSD open source license.\n",
      "# - - - - - - - - - - - - - - - - - - - - - - - - - - - - - - - - - - - -\n",
      "# input alignment file:             ../data/interim/hit_msas_2/WP_000982358.1.stockholm\n",
      "# output HMM file:                  ../data/interim/hit_hmms/WP_000982358.1.hmm\n",
      "# - - - - - - - - - - - - - - - - - - - - - - - - - - - - - - - - - - - -\n",
      "\n",
      "# idx name                  nseq  alen  mlen eff_nseq re/pos description\n",
      "#---- -------------------- ----- ----- ----- -------- ------ -----------\n",
      "1     WP_000982358.1         267  1215   442    13.22  0.590 \n",
      "\n",
      "# CPU time: 0.26u 0.00s 00:00:00.26 Elapsed: 00:00:00.28\n",
      "\n"
     ]
    },
    {
     "name": "stderr",
     "output_type": "stream",
     "text": [
      " 63%|██████▎   | 46/73 [01:16<00:44,  1.64s/it]"
     ]
    },
    {
     "name": "stdout",
     "output_type": "stream",
     "text": [
      "# hmmbuild :: profile HMM construction from multiple sequence alignments\n",
      "# HMMER 3.3.2 (Nov 2020); http://hmmer.org/\n",
      "# Copyright (C) 2020 Howard Hughes Medical Institute.\n",
      "# Freely distributed under the BSD open source license.\n",
      "# - - - - - - - - - - - - - - - - - - - - - - - - - - - - - - - - - - - -\n",
      "# input alignment file:             ../data/interim/hit_msas_2/WP_224922733.1.stockholm\n",
      "# output HMM file:                  ../data/interim/hit_hmms/WP_224922733.1.hmm\n",
      "# - - - - - - - - - - - - - - - - - - - - - - - - - - - - - - - - - - - -\n",
      "\n",
      "# idx name                  nseq  alen  mlen eff_nseq re/pos description\n",
      "#---- -------------------- ----- ----- ----- -------- ------ -----------\n",
      "1     WP_224922733.1         169   696   331     6.87  0.590 \n",
      "\n",
      "# CPU time: 0.19u 0.01s 00:00:00.20 Elapsed: 00:00:00.22\n",
      "\n"
     ]
    },
    {
     "name": "stderr",
     "output_type": "stream",
     "text": [
      " 64%|██████▍   | 47/73 [01:18<00:43,  1.69s/it]"
     ]
    },
    {
     "name": "stdout",
     "output_type": "stream",
     "text": [
      "# hmmbuild :: profile HMM construction from multiple sequence alignments\n",
      "# HMMER 3.3.2 (Nov 2020); http://hmmer.org/\n",
      "# Copyright (C) 2020 Howard Hughes Medical Institute.\n",
      "# Freely distributed under the BSD open source license.\n",
      "# - - - - - - - - - - - - - - - - - - - - - - - - - - - - - - - - - - - -\n",
      "# input alignment file:             ../data/interim/hit_msas_2/WP_001593459.1.stockholm\n",
      "# output HMM file:                  ../data/interim/hit_hmms/WP_001593459.1.hmm\n",
      "# - - - - - - - - - - - - - - - - - - - - - - - - - - - - - - - - - - - -\n",
      "\n",
      "# idx name                  nseq  alen  mlen eff_nseq re/pos description\n",
      "#---- -------------------- ----- ----- ----- -------- ------ -----------\n",
      "1     WP_001593459.1        1884  6343   303   102.50  0.590 \n",
      "\n",
      "# CPU time: 0.47u 0.00s 00:00:00.47 Elapsed: 00:00:00.47\n",
      "\n"
     ]
    },
    {
     "name": "stderr",
     "output_type": "stream",
     "text": [
      " 66%|██████▌   | 48/73 [01:19<00:41,  1.67s/it]"
     ]
    },
    {
     "name": "stdout",
     "output_type": "stream",
     "text": [
      "# hmmbuild :: profile HMM construction from multiple sequence alignments\n",
      "# HMMER 3.3.2 (Nov 2020); http://hmmer.org/\n",
      "# Copyright (C) 2020 Howard Hughes Medical Institute.\n",
      "# Freely distributed under the BSD open source license.\n",
      "# - - - - - - - - - - - - - - - - - - - - - - - - - - - - - - - - - - - -\n",
      "# input alignment file:             ../data/interim/hit_msas_2/WP_021513009.1.stockholm\n",
      "# output HMM file:                  ../data/interim/hit_hmms/WP_021513009.1.hmm\n",
      "# - - - - - - - - - - - - - - - - - - - - - - - - - - - - - - - - - - - -\n",
      "\n",
      "# idx name                  nseq  alen  mlen eff_nseq re/pos description\n",
      "#---- -------------------- ----- ----- ----- -------- ------ -----------\n",
      "1     WP_021513009.1        1283  1764   377    43.35  0.590 \n",
      "\n",
      "# CPU time: 0.31u 0.00s 00:00:00.31 Elapsed: 00:00:00.32\n",
      "\n"
     ]
    },
    {
     "name": "stderr",
     "output_type": "stream",
     "text": [
      " 67%|██████▋   | 49/73 [01:22<00:46,  1.92s/it]"
     ]
    },
    {
     "name": "stdout",
     "output_type": "stream",
     "text": [
      "# hmmbuild :: profile HMM construction from multiple sequence alignments\n",
      "# HMMER 3.3.2 (Nov 2020); http://hmmer.org/\n",
      "# Copyright (C) 2020 Howard Hughes Medical Institute.\n",
      "# Freely distributed under the BSD open source license.\n",
      "# - - - - - - - - - - - - - - - - - - - - - - - - - - - - - - - - - - - -\n",
      "# input alignment file:             ../data/interim/hit_msas_2/WP_059339975.1.stockholm\n",
      "# output HMM file:                  ../data/interim/hit_hmms/WP_059339975.1.hmm\n",
      "# - - - - - - - - - - - - - - - - - - - - - - - - - - - - - - - - - - - -\n",
      "\n",
      "# idx name                  nseq  alen  mlen eff_nseq re/pos description\n",
      "#---- -------------------- ----- ----- ----- -------- ------ -----------\n",
      "1     WP_059339975.1        3520  7328   762   279.19  0.590 \n",
      "\n",
      "# CPU time: 1.15u 0.04s 00:00:01.19 Elapsed: 00:00:01.20\n",
      "\n"
     ]
    },
    {
     "name": "stderr",
     "output_type": "stream",
     "text": [
      " 68%|██████▊   | 50/73 [01:24<00:41,  1.81s/it]"
     ]
    },
    {
     "name": "stdout",
     "output_type": "stream",
     "text": [
      "# hmmbuild :: profile HMM construction from multiple sequence alignments\n",
      "# HMMER 3.3.2 (Nov 2020); http://hmmer.org/\n",
      "# Copyright (C) 2020 Howard Hughes Medical Institute.\n",
      "# Freely distributed under the BSD open source license.\n",
      "# - - - - - - - - - - - - - - - - - - - - - - - - - - - - - - - - - - - -\n",
      "# input alignment file:             ../data/interim/hit_msas_2/WP_087896215.1.stockholm\n",
      "# output HMM file:                  ../data/interim/hit_hmms/WP_087896215.1.hmm\n",
      "# - - - - - - - - - - - - - - - - - - - - - - - - - - - - - - - - - - - -\n",
      "\n",
      "# idx name                  nseq  alen  mlen eff_nseq re/pos description\n",
      "#---- -------------------- ----- ----- ----- -------- ------ -----------\n",
      "1     WP_087896215.1         901   971   297    21.84  0.590 \n",
      "\n",
      "# CPU time: 0.21u 0.00s 00:00:00.21 Elapsed: 00:00:00.22\n",
      "\n"
     ]
    },
    {
     "name": "stderr",
     "output_type": "stream",
     "text": [
      " 70%|██████▉   | 51/73 [01:25<00:38,  1.74s/it]"
     ]
    },
    {
     "name": "stdout",
     "output_type": "stream",
     "text": [
      "# hmmbuild :: profile HMM construction from multiple sequence alignments\n",
      "# HMMER 3.3.2 (Nov 2020); http://hmmer.org/\n",
      "# Copyright (C) 2020 Howard Hughes Medical Institute.\n",
      "# Freely distributed under the BSD open source license.\n",
      "# - - - - - - - - - - - - - - - - - - - - - - - - - - - - - - - - - - - -\n",
      "# input alignment file:             ../data/interim/hit_msas_2/WP_000162952.1.stockholm\n",
      "# output HMM file:                  ../data/interim/hit_hmms/WP_000162952.1.hmm\n",
      "# - - - - - - - - - - - - - - - - - - - - - - - - - - - - - - - - - - - -\n",
      "\n",
      "# idx name                  nseq  alen  mlen eff_nseq re/pos description\n",
      "#---- -------------------- ----- ----- ----- -------- ------ -----------\n",
      "1     WP_000162952.1         395  1069   409    19.16  0.590 \n",
      "\n",
      "# CPU time: 0.26u 0.00s 00:00:00.26 Elapsed: 00:00:00.27\n",
      "\n"
     ]
    },
    {
     "name": "stderr",
     "output_type": "stream",
     "text": [
      " 71%|███████   | 52/73 [01:27<00:35,  1.70s/it]"
     ]
    },
    {
     "name": "stdout",
     "output_type": "stream",
     "text": [
      "# hmmbuild :: profile HMM construction from multiple sequence alignments\n",
      "# HMMER 3.3.2 (Nov 2020); http://hmmer.org/\n",
      "# Copyright (C) 2020 Howard Hughes Medical Institute.\n",
      "# Freely distributed under the BSD open source license.\n",
      "# - - - - - - - - - - - - - - - - - - - - - - - - - - - - - - - - - - - -\n",
      "# input alignment file:             ../data/interim/hit_msas_2/WP_000150292.1.stockholm\n",
      "# output HMM file:                  ../data/interim/hit_hmms/WP_000150292.1.hmm\n",
      "# - - - - - - - - - - - - - - - - - - - - - - - - - - - - - - - - - - - -\n",
      "\n",
      "# idx name                  nseq  alen  mlen eff_nseq re/pos description\n",
      "#---- -------------------- ----- ----- ----- -------- ------ -----------\n",
      "1     WP_000150292.1         665  1280   401    16.25  0.590 \n",
      "\n",
      "# CPU time: 0.27u 0.00s 00:00:00.27 Elapsed: 00:00:00.30\n",
      "\n"
     ]
    },
    {
     "name": "stderr",
     "output_type": "stream",
     "text": [
      " 73%|███████▎  | 53/73 [01:28<00:32,  1.65s/it]"
     ]
    },
    {
     "name": "stdout",
     "output_type": "stream",
     "text": [
      "# hmmbuild :: profile HMM construction from multiple sequence alignments\n",
      "# HMMER 3.3.2 (Nov 2020); http://hmmer.org/\n",
      "# Copyright (C) 2020 Howard Hughes Medical Institute.\n",
      "# Freely distributed under the BSD open source license.\n",
      "# - - - - - - - - - - - - - - - - - - - - - - - - - - - - - - - - - - - -\n",
      "# input alignment file:             ../data/interim/hit_msas_2/WP_097419291.1.stockholm\n",
      "# output HMM file:                  ../data/interim/hit_hmms/WP_097419291.1.hmm\n",
      "# - - - - - - - - - - - - - - - - - - - - - - - - - - - - - - - - - - - -\n",
      "\n",
      "# idx name                  nseq  alen  mlen eff_nseq re/pos description\n",
      "#---- -------------------- ----- ----- ----- -------- ------ -----------\n",
      "1     WP_097419291.1         201   526   277    10.83  0.590 \n",
      "\n",
      "# CPU time: 0.16u 0.00s 00:00:00.16 Elapsed: 00:00:00.19\n",
      "\n"
     ]
    },
    {
     "name": "stderr",
     "output_type": "stream",
     "text": [
      " 74%|███████▍  | 54/73 [01:30<00:30,  1.61s/it]"
     ]
    },
    {
     "name": "stdout",
     "output_type": "stream",
     "text": [
      "# hmmbuild :: profile HMM construction from multiple sequence alignments\n",
      "# HMMER 3.3.2 (Nov 2020); http://hmmer.org/\n",
      "# Copyright (C) 2020 Howard Hughes Medical Institute.\n",
      "# Freely distributed under the BSD open source license.\n",
      "# - - - - - - - - - - - - - - - - - - - - - - - - - - - - - - - - - - - -\n",
      "# input alignment file:             ../data/interim/hit_msas_2/WP_032260665.1.stockholm\n",
      "# output HMM file:                  ../data/interim/hit_hmms/WP_032260665.1.hmm\n",
      "# - - - - - - - - - - - - - - - - - - - - - - - - - - - - - - - - - - - -\n",
      "\n",
      "# idx name                  nseq  alen  mlen eff_nseq re/pos description\n",
      "#---- -------------------- ----- ----- ----- -------- ------ -----------\n",
      "1     WP_032260665.1        1164  2092   201    20.06  0.590 \n",
      "\n",
      "# CPU time: 0.19u 0.00s 00:00:00.19 Elapsed: 00:00:00.22\n",
      "\n"
     ]
    },
    {
     "name": "stderr",
     "output_type": "stream",
     "text": [
      " 75%|███████▌  | 55/73 [01:32<00:31,  1.72s/it]"
     ]
    },
    {
     "name": "stdout",
     "output_type": "stream",
     "text": [
      "# hmmbuild :: profile HMM construction from multiple sequence alignments\n",
      "# HMMER 3.3.2 (Nov 2020); http://hmmer.org/\n",
      "# Copyright (C) 2020 Howard Hughes Medical Institute.\n",
      "# Freely distributed under the BSD open source license.\n",
      "# - - - - - - - - - - - - - - - - - - - - - - - - - - - - - - - - - - - -\n",
      "# input alignment file:             ../data/interim/hit_msas_2/WP_042346724.1.stockholm\n",
      "# output HMM file:                  ../data/interim/hit_hmms/WP_042346724.1.hmm\n",
      "# - - - - - - - - - - - - - - - - - - - - - - - - - - - - - - - - - - - -\n",
      "\n",
      "# idx name                  nseq  alen  mlen eff_nseq re/pos description\n",
      "#---- -------------------- ----- ----- ----- -------- ------ -----------\n",
      "1     WP_042346724.1        3160  2688   635    70.02  0.590 \n",
      "\n",
      "# CPU time: 0.65u 0.00s 00:00:00.65 Elapsed: 00:00:00.66\n",
      "\n"
     ]
    },
    {
     "name": "stderr",
     "output_type": "stream",
     "text": [
      " 77%|███████▋  | 56/73 [01:34<00:30,  1.78s/it]"
     ]
    },
    {
     "name": "stdout",
     "output_type": "stream",
     "text": [
      "# hmmbuild :: profile HMM construction from multiple sequence alignments\n",
      "# HMMER 3.3.2 (Nov 2020); http://hmmer.org/\n",
      "# Copyright (C) 2020 Howard Hughes Medical Institute.\n",
      "# Freely distributed under the BSD open source license.\n",
      "# - - - - - - - - - - - - - - - - - - - - - - - - - - - - - - - - - - - -\n",
      "# input alignment file:             ../data/interim/hit_msas_2/WP_000257686.1.stockholm\n",
      "# output HMM file:                  ../data/interim/hit_hmms/WP_000257686.1.hmm\n",
      "# - - - - - - - - - - - - - - - - - - - - - - - - - - - - - - - - - - - -\n",
      "\n",
      "# idx name                  nseq  alen  mlen eff_nseq re/pos description\n",
      "#---- -------------------- ----- ----- ----- -------- ------ -----------\n",
      "1     WP_000257686.1        3593  4112   328   117.12  0.590 \n",
      "\n",
      "# CPU time: 0.56u 0.02s 00:00:00.58 Elapsed: 00:00:00.60\n",
      "\n"
     ]
    },
    {
     "name": "stderr",
     "output_type": "stream",
     "text": [
      " 78%|███████▊  | 57/73 [01:35<00:27,  1.73s/it]"
     ]
    },
    {
     "name": "stdout",
     "output_type": "stream",
     "text": [
      "# hmmbuild :: profile HMM construction from multiple sequence alignments\n",
      "# HMMER 3.3.2 (Nov 2020); http://hmmer.org/\n",
      "# Copyright (C) 2020 Howard Hughes Medical Institute.\n",
      "# Freely distributed under the BSD open source license.\n",
      "# - - - - - - - - - - - - - - - - - - - - - - - - - - - - - - - - - - - -\n",
      "# input alignment file:             ../data/interim/hit_msas_2/WP_000355468.1.stockholm\n",
      "# output HMM file:                  ../data/interim/hit_hmms/WP_000355468.1.hmm\n",
      "# - - - - - - - - - - - - - - - - - - - - - - - - - - - - - - - - - - - -\n",
      "\n",
      "# idx name                  nseq  alen  mlen eff_nseq re/pos description\n",
      "#---- -------------------- ----- ----- ----- -------- ------ -----------\n",
      "1     WP_000355468.1        1216  1748   373    26.04  0.590 \n",
      "\n",
      "# CPU time: 0.29u 0.00s 00:00:00.28 Elapsed: 00:00:00.30\n",
      "\n"
     ]
    },
    {
     "name": "stderr",
     "output_type": "stream",
     "text": [
      " 79%|███████▉  | 58/73 [01:37<00:25,  1.73s/it]"
     ]
    },
    {
     "name": "stdout",
     "output_type": "stream",
     "text": [
      "# hmmbuild :: profile HMM construction from multiple sequence alignments\n",
      "# HMMER 3.3.2 (Nov 2020); http://hmmer.org/\n",
      "# Copyright (C) 2020 Howard Hughes Medical Institute.\n",
      "# Freely distributed under the BSD open source license.\n",
      "# - - - - - - - - - - - - - - - - - - - - - - - - - - - - - - - - - - - -\n",
      "# input alignment file:             ../data/interim/hit_msas_2/WP_001198055.1.stockholm\n",
      "# output HMM file:                  ../data/interim/hit_hmms/WP_001198055.1.hmm\n",
      "# - - - - - - - - - - - - - - - - - - - - - - - - - - - - - - - - - - - -\n",
      "\n",
      "# idx name                  nseq  alen  mlen eff_nseq re/pos description\n",
      "#---- -------------------- ----- ----- ----- -------- ------ -----------\n",
      "1     WP_001198055.1        2591  2826   306    33.98  0.590 \n",
      "\n",
      "# CPU time: 0.39u 0.00s 00:00:00.39 Elapsed: 00:00:00.41\n",
      "\n"
     ]
    },
    {
     "name": "stderr",
     "output_type": "stream",
     "text": [
      " 81%|████████  | 59/73 [01:39<00:23,  1.69s/it]"
     ]
    },
    {
     "name": "stdout",
     "output_type": "stream",
     "text": [
      "# hmmbuild :: profile HMM construction from multiple sequence alignments\n",
      "# HMMER 3.3.2 (Nov 2020); http://hmmer.org/\n",
      "# Copyright (C) 2020 Howard Hughes Medical Institute.\n",
      "# Freely distributed under the BSD open source license.\n",
      "# - - - - - - - - - - - - - - - - - - - - - - - - - - - - - - - - - - - -\n",
      "# input alignment file:             ../data/interim/hit_msas_2/WP_021572920.1.stockholm\n",
      "# output HMM file:                  ../data/interim/hit_hmms/WP_021572920.1.hmm\n",
      "# - - - - - - - - - - - - - - - - - - - - - - - - - - - - - - - - - - - -\n",
      "\n",
      "# idx name                  nseq  alen  mlen eff_nseq re/pos description\n",
      "#---- -------------------- ----- ----- ----- -------- ------ -----------\n",
      "1     WP_021572920.1          99  1144   516     3.61  0.590 \n",
      "\n",
      "# CPU time: 0.28u 0.00s 00:00:00.28 Elapsed: 00:00:00.28\n",
      "\n"
     ]
    },
    {
     "name": "stderr",
     "output_type": "stream",
     "text": [
      " 82%|████████▏ | 60/73 [01:40<00:21,  1.63s/it]"
     ]
    },
    {
     "name": "stdout",
     "output_type": "stream",
     "text": [
      "# hmmbuild :: profile HMM construction from multiple sequence alignments\n",
      "# HMMER 3.3.2 (Nov 2020); http://hmmer.org/\n",
      "# Copyright (C) 2020 Howard Hughes Medical Institute.\n",
      "# Freely distributed under the BSD open source license.\n",
      "# - - - - - - - - - - - - - - - - - - - - - - - - - - - - - - - - - - - -\n",
      "# input alignment file:             ../data/interim/hit_msas_2/WP_022645725.1.stockholm\n",
      "# output HMM file:                  ../data/interim/hit_hmms/WP_022645725.1.hmm\n",
      "# - - - - - - - - - - - - - - - - - - - - - - - - - - - - - - - - - - - -\n",
      "\n",
      "# idx name                  nseq  alen  mlen eff_nseq re/pos description\n",
      "#---- -------------------- ----- ----- ----- -------- ------ -----------\n",
      "1     WP_022645725.1          19   431   323     2.79  0.589 \n",
      "\n",
      "# CPU time: 0.16u 0.00s 00:00:00.16 Elapsed: 00:00:00.19\n",
      "\n"
     ]
    },
    {
     "name": "stderr",
     "output_type": "stream",
     "text": [
      " 84%|████████▎ | 61/73 [01:42<00:18,  1.57s/it]"
     ]
    },
    {
     "name": "stdout",
     "output_type": "stream",
     "text": [
      "# hmmbuild :: profile HMM construction from multiple sequence alignments\n",
      "# HMMER 3.3.2 (Nov 2020); http://hmmer.org/\n",
      "# Copyright (C) 2020 Howard Hughes Medical Institute.\n",
      "# Freely distributed under the BSD open source license.\n",
      "# - - - - - - - - - - - - - - - - - - - - - - - - - - - - - - - - - - - -\n",
      "# input alignment file:             ../data/interim/hit_msas_2/WP_000188768.1.stockholm\n",
      "# output HMM file:                  ../data/interim/hit_hmms/WP_000188768.1.hmm\n",
      "# - - - - - - - - - - - - - - - - - - - - - - - - - - - - - - - - - - - -\n",
      "\n",
      "# idx name                  nseq  alen  mlen eff_nseq re/pos description\n",
      "#---- -------------------- ----- ----- ----- -------- ------ -----------\n",
      "1     WP_000188768.1         126   261   150     5.56  0.590 \n",
      "\n",
      "# CPU time: 0.09u 0.00s 00:00:00.09 Elapsed: 00:00:00.10\n",
      "\n"
     ]
    },
    {
     "name": "stderr",
     "output_type": "stream",
     "text": [
      " 85%|████████▍ | 62/73 [01:43<00:17,  1.57s/it]"
     ]
    },
    {
     "name": "stdout",
     "output_type": "stream",
     "text": [
      "# hmmbuild :: profile HMM construction from multiple sequence alignments\n",
      "# HMMER 3.3.2 (Nov 2020); http://hmmer.org/\n",
      "# Copyright (C) 2020 Howard Hughes Medical Institute.\n",
      "# Freely distributed under the BSD open source license.\n",
      "# - - - - - - - - - - - - - - - - - - - - - - - - - - - - - - - - - - - -\n",
      "# input alignment file:             ../data/interim/hit_msas_2/WP_000097610.1.stockholm\n",
      "# output HMM file:                  ../data/interim/hit_hmms/WP_000097610.1.hmm\n",
      "# - - - - - - - - - - - - - - - - - - - - - - - - - - - - - - - - - - - -\n",
      "\n",
      "# idx name                  nseq  alen  mlen eff_nseq re/pos description\n",
      "#---- -------------------- ----- ----- ----- -------- ------ -----------\n",
      "1     WP_000097610.1         610  1185   318    12.95  0.590 \n",
      "\n",
      "# CPU time: 0.20u 0.01s 00:00:00.21 Elapsed: 00:00:00.25\n",
      "\n"
     ]
    },
    {
     "name": "stderr",
     "output_type": "stream",
     "text": [
      " 86%|████████▋ | 63/73 [01:45<00:15,  1.55s/it]"
     ]
    },
    {
     "name": "stdout",
     "output_type": "stream",
     "text": [
      "# hmmbuild :: profile HMM construction from multiple sequence alignments\n",
      "# HMMER 3.3.2 (Nov 2020); http://hmmer.org/\n",
      "# Copyright (C) 2020 Howard Hughes Medical Institute.\n",
      "# Freely distributed under the BSD open source license.\n",
      "# - - - - - - - - - - - - - - - - - - - - - - - - - - - - - - - - - - - -\n",
      "# input alignment file:             ../data/interim/hit_msas_2/WP_249925928.1.stockholm\n",
      "# output HMM file:                  ../data/interim/hit_hmms/WP_249925928.1.hmm\n",
      "# - - - - - - - - - - - - - - - - - - - - - - - - - - - - - - - - - - - -\n",
      "\n",
      "# idx name                  nseq  alen  mlen eff_nseq re/pos description\n",
      "#---- -------------------- ----- ----- ----- -------- ------ -----------\n",
      "1     WP_249925928.1         365   610   222    12.40  0.590 \n",
      "\n",
      "# CPU time: 0.15u 0.00s 00:00:00.15 Elapsed: 00:00:00.21\n",
      "\n"
     ]
    },
    {
     "name": "stderr",
     "output_type": "stream",
     "text": [
      " 88%|████████▊ | 64/73 [01:46<00:13,  1.54s/it]"
     ]
    },
    {
     "name": "stdout",
     "output_type": "stream",
     "text": [
      "# hmmbuild :: profile HMM construction from multiple sequence alignments\n",
      "# HMMER 3.3.2 (Nov 2020); http://hmmer.org/\n",
      "# Copyright (C) 2020 Howard Hughes Medical Institute.\n",
      "# Freely distributed under the BSD open source license.\n",
      "# - - - - - - - - - - - - - - - - - - - - - - - - - - - - - - - - - - - -\n",
      "# input alignment file:             ../data/interim/hit_msas_2/WP_000183405.1.stockholm\n",
      "# output HMM file:                  ../data/interim/hit_hmms/WP_000183405.1.hmm\n",
      "# - - - - - - - - - - - - - - - - - - - - - - - - - - - - - - - - - - - -\n",
      "\n",
      "# idx name                  nseq  alen  mlen eff_nseq re/pos description\n",
      "#---- -------------------- ----- ----- ----- -------- ------ -----------\n",
      "1     WP_000183405.1        1074   782   261    18.07  0.590 \n",
      "\n",
      "# CPU time: 0.19u 0.00s 00:00:00.19 Elapsed: 00:00:00.21\n",
      "\n"
     ]
    },
    {
     "name": "stderr",
     "output_type": "stream",
     "text": [
      " 89%|████████▉ | 65/73 [01:48<00:12,  1.56s/it]"
     ]
    },
    {
     "name": "stdout",
     "output_type": "stream",
     "text": [
      "# hmmbuild :: profile HMM construction from multiple sequence alignments\n",
      "# HMMER 3.3.2 (Nov 2020); http://hmmer.org/\n",
      "# Copyright (C) 2020 Howard Hughes Medical Institute.\n",
      "# Freely distributed under the BSD open source license.\n",
      "# - - - - - - - - - - - - - - - - - - - - - - - - - - - - - - - - - - - -\n",
      "# input alignment file:             ../data/interim/hit_msas_2/WP_087900468.1.stockholm\n",
      "# output HMM file:                  ../data/interim/hit_hmms/WP_087900468.1.hmm\n",
      "# - - - - - - - - - - - - - - - - - - - - - - - - - - - - - - - - - - - -\n",
      "\n",
      "# idx name                  nseq  alen  mlen eff_nseq re/pos description\n",
      "#---- -------------------- ----- ----- ----- -------- ------ -----------\n",
      "1     WP_087900468.1        1248  3091   336    35.06  0.590 \n",
      "\n",
      "# CPU time: 0.28u 0.01s 00:00:00.29 Elapsed: 00:00:00.30\n",
      "\n"
     ]
    },
    {
     "name": "stderr",
     "output_type": "stream",
     "text": [
      " 90%|█████████ | 66/73 [01:49<00:10,  1.55s/it]"
     ]
    },
    {
     "name": "stdout",
     "output_type": "stream",
     "text": [
      "# hmmbuild :: profile HMM construction from multiple sequence alignments\n",
      "# HMMER 3.3.2 (Nov 2020); http://hmmer.org/\n",
      "# Copyright (C) 2020 Howard Hughes Medical Institute.\n",
      "# Freely distributed under the BSD open source license.\n",
      "# - - - - - - - - - - - - - - - - - - - - - - - - - - - - - - - - - - - -\n",
      "# input alignment file:             ../data/interim/hit_msas_2/WP_087900469.1.stockholm\n",
      "# output HMM file:                  ../data/interim/hit_hmms/WP_087900469.1.hmm\n",
      "# - - - - - - - - - - - - - - - - - - - - - - - - - - - - - - - - - - - -\n",
      "\n",
      "# idx name                  nseq  alen  mlen eff_nseq re/pos description\n",
      "#---- -------------------- ----- ----- ----- -------- ------ -----------\n",
      "1     WP_087900469.1        1392  2439   169    74.93  0.590 \n",
      "\n",
      "# CPU time: 0.18u 0.01s 00:00:00.19 Elapsed: 00:00:00.21\n",
      "\n"
     ]
    },
    {
     "name": "stderr",
     "output_type": "stream",
     "text": [
      " 92%|█████████▏| 67/73 [01:51<00:09,  1.55s/it]"
     ]
    },
    {
     "name": "stdout",
     "output_type": "stream",
     "text": [
      "# hmmbuild :: profile HMM construction from multiple sequence alignments\n",
      "# HMMER 3.3.2 (Nov 2020); http://hmmer.org/\n",
      "# Copyright (C) 2020 Howard Hughes Medical Institute.\n",
      "# Freely distributed under the BSD open source license.\n",
      "# - - - - - - - - - - - - - - - - - - - - - - - - - - - - - - - - - - - -\n",
      "# input alignment file:             ../data/interim/hit_msas_2/WP_087900470.1.stockholm\n",
      "# output HMM file:                  ../data/interim/hit_hmms/WP_087900470.1.hmm\n",
      "# - - - - - - - - - - - - - - - - - - - - - - - - - - - - - - - - - - - -\n",
      "\n",
      "# idx name                  nseq  alen  mlen eff_nseq re/pos description\n",
      "#---- -------------------- ----- ----- ----- -------- ------ -----------\n",
      "1     WP_087900470.1         518  1362   322     7.20  0.590 \n",
      "\n",
      "# CPU time: 0.22u 0.00s 00:00:00.22 Elapsed: 00:00:00.23\n",
      "\n"
     ]
    },
    {
     "name": "stderr",
     "output_type": "stream",
     "text": [
      " 93%|█████████▎| 68/73 [01:52<00:07,  1.52s/it]"
     ]
    },
    {
     "name": "stdout",
     "output_type": "stream",
     "text": [
      "# hmmbuild :: profile HMM construction from multiple sequence alignments\n",
      "# HMMER 3.3.2 (Nov 2020); http://hmmer.org/\n",
      "# Copyright (C) 2020 Howard Hughes Medical Institute.\n",
      "# Freely distributed under the BSD open source license.\n",
      "# - - - - - - - - - - - - - - - - - - - - - - - - - - - - - - - - - - - -\n",
      "# input alignment file:             ../data/interim/hit_msas_2/WP_000534626.1.stockholm\n",
      "# output HMM file:                  ../data/interim/hit_hmms/WP_000534626.1.hmm\n",
      "# - - - - - - - - - - - - - - - - - - - - - - - - - - - - - - - - - - - -\n",
      "\n",
      "# idx name                  nseq  alen  mlen eff_nseq re/pos description\n",
      "#---- -------------------- ----- ----- ----- -------- ------ -----------\n",
      "1     WP_000534626.1         445   342   170     9.41  0.590 \n",
      "\n",
      "# CPU time: 0.11u 0.00s 00:00:00.11 Elapsed: 00:00:00.14\n",
      "\n"
     ]
    },
    {
     "name": "stderr",
     "output_type": "stream",
     "text": [
      " 95%|█████████▍| 69/73 [01:54<00:06,  1.57s/it]"
     ]
    },
    {
     "name": "stdout",
     "output_type": "stream",
     "text": [
      "# hmmbuild :: profile HMM construction from multiple sequence alignments\n",
      "# HMMER 3.3.2 (Nov 2020); http://hmmer.org/\n",
      "# Copyright (C) 2020 Howard Hughes Medical Institute.\n",
      "# Freely distributed under the BSD open source license.\n",
      "# - - - - - - - - - - - - - - - - - - - - - - - - - - - - - - - - - - - -\n",
      "# input alignment file:             ../data/interim/hit_msas_2/WP_032291790.1.stockholm\n",
      "# output HMM file:                  ../data/interim/hit_hmms/WP_032291790.1.hmm\n",
      "# - - - - - - - - - - - - - - - - - - - - - - - - - - - - - - - - - - - -\n",
      "\n",
      "# idx name                  nseq  alen  mlen eff_nseq re/pos description\n",
      "#---- -------------------- ----- ----- ----- -------- ------ -----------\n",
      "1     WP_032291790.1        1105  1441   487    12.83  0.590 \n",
      "\n",
      "# CPU time: 0.34u 0.00s 00:00:00.34 Elapsed: 00:00:00.37\n",
      "\n"
     ]
    },
    {
     "name": "stderr",
     "output_type": "stream",
     "text": [
      " 96%|█████████▌| 70/73 [01:55<00:04,  1.56s/it]"
     ]
    },
    {
     "name": "stdout",
     "output_type": "stream",
     "text": [
      "# hmmbuild :: profile HMM construction from multiple sequence alignments\n",
      "# HMMER 3.3.2 (Nov 2020); http://hmmer.org/\n",
      "# Copyright (C) 2020 Howard Hughes Medical Institute.\n",
      "# Freely distributed under the BSD open source license.\n",
      "# - - - - - - - - - - - - - - - - - - - - - - - - - - - - - - - - - - - -\n",
      "# input alignment file:             ../data/interim/hit_msas_2/WP_000068158.1.stockholm\n",
      "# output HMM file:                  ../data/interim/hit_hmms/WP_000068158.1.hmm\n",
      "# - - - - - - - - - - - - - - - - - - - - - - - - - - - - - - - - - - - -\n",
      "\n",
      "# idx name                  nseq  alen  mlen eff_nseq re/pos description\n",
      "#---- -------------------- ----- ----- ----- -------- ------ -----------\n",
      "1     WP_000068158.1         987  1630   291    19.47  0.590 \n",
      "\n",
      "# CPU time: 0.22u 0.00s 00:00:00.22 Elapsed: 00:00:00.24\n",
      "\n"
     ]
    },
    {
     "name": "stderr",
     "output_type": "stream",
     "text": [
      " 97%|█████████▋| 71/73 [01:57<00:03,  1.52s/it]"
     ]
    },
    {
     "name": "stdout",
     "output_type": "stream",
     "text": [
      "# hmmbuild :: profile HMM construction from multiple sequence alignments\n",
      "# HMMER 3.3.2 (Nov 2020); http://hmmer.org/\n",
      "# Copyright (C) 2020 Howard Hughes Medical Institute.\n",
      "# Freely distributed under the BSD open source license.\n",
      "# - - - - - - - - - - - - - - - - - - - - - - - - - - - - - - - - - - - -\n",
      "# input alignment file:             ../data/interim/hit_msas_2/WP_000528930.1.stockholm\n",
      "# output HMM file:                  ../data/interim/hit_hmms/WP_000528930.1.hmm\n",
      "# - - - - - - - - - - - - - - - - - - - - - - - - - - - - - - - - - - - -\n",
      "\n",
      "# idx name                  nseq  alen  mlen eff_nseq re/pos description\n",
      "#---- -------------------- ----- ----- ----- -------- ------ -----------\n",
      "1     WP_000528930.1         255   512   158     8.44  0.590 \n",
      "\n",
      "# CPU time: 0.10u 0.00s 00:00:00.10 Elapsed: 00:00:00.11\n",
      "\n"
     ]
    },
    {
     "name": "stderr",
     "output_type": "stream",
     "text": [
      " 99%|█████████▊| 72/73 [01:58<00:01,  1.49s/it]"
     ]
    },
    {
     "name": "stdout",
     "output_type": "stream",
     "text": [
      "# hmmbuild :: profile HMM construction from multiple sequence alignments\n",
      "# HMMER 3.3.2 (Nov 2020); http://hmmer.org/\n",
      "# Copyright (C) 2020 Howard Hughes Medical Institute.\n",
      "# Freely distributed under the BSD open source license.\n",
      "# - - - - - - - - - - - - - - - - - - - - - - - - - - - - - - - - - - - -\n",
      "# input alignment file:             ../data/interim/hit_msas_2/WP_000387046.1.stockholm\n",
      "# output HMM file:                  ../data/interim/hit_hmms/WP_000387046.1.hmm\n",
      "# - - - - - - - - - - - - - - - - - - - - - - - - - - - - - - - - - - - -\n",
      "\n",
      "# idx name                  nseq  alen  mlen eff_nseq re/pos description\n",
      "#---- -------------------- ----- ----- ----- -------- ------ -----------\n",
      "1     WP_000387046.1           7   191   183     1.20  0.591 \n",
      "\n",
      "# CPU time: 0.09u 0.00s 00:00:00.09 Elapsed: 00:00:00.11\n",
      "\n"
     ]
    },
    {
     "name": "stderr",
     "output_type": "stream",
     "text": [
      "100%|██████████| 73/73 [02:00<00:00,  1.65s/it]"
     ]
    },
    {
     "name": "stdout",
     "output_type": "stream",
     "text": [
      "# hmmbuild :: profile HMM construction from multiple sequence alignments\n",
      "# HMMER 3.3.2 (Nov 2020); http://hmmer.org/\n",
      "# Copyright (C) 2020 Howard Hughes Medical Institute.\n",
      "# Freely distributed under the BSD open source license.\n",
      "# - - - - - - - - - - - - - - - - - - - - - - - - - - - - - - - - - - - -\n",
      "# input alignment file:             ../data/interim/hit_msas_2/WP_061089765.1.stockholm\n",
      "# output HMM file:                  ../data/interim/hit_hmms/WP_061089765.1.hmm\n",
      "# - - - - - - - - - - - - - - - - - - - - - - - - - - - - - - - - - - - -\n",
      "\n",
      "# idx name                  nseq  alen  mlen eff_nseq re/pos description\n",
      "#---- -------------------- ----- ----- ----- -------- ------ -----------\n",
      "1     WP_061089765.1         310   845   235    14.88  0.590 \n",
      "\n",
      "# CPU time: 0.15u 0.00s 00:00:00.15 Elapsed: 00:00:00.17\n",
      "\n"
     ]
    },
    {
     "name": "stderr",
     "output_type": "stream",
     "text": [
      "\n"
     ]
    }
   ],
   "source": [
    "for f in tqdm(stockholm_files, position=0):\n",
    "    p_id = f.split('.st')[0]\n",
    "    hmm_out = hmm_dir + p_id + '.hmm'\n",
    "    os.system(' '.join(['conda run -n beaker', \n",
    "                        'hmmbuild', \n",
    "                        hmm_out, \n",
    "                        hit_msa_dir2 + f])) "
   ]
  },
  {
   "cell_type": "code",
   "execution_count": 19,
   "id": "2e13182c-09d5-415d-9cdc-d3368bd068ff",
   "metadata": {},
   "outputs": [],
   "source": [
    "hmm_files = [x for x in os.listdir(hmm_dir) if '.hmm' in x]"
   ]
  },
  {
   "cell_type": "code",
   "execution_count": 4,
   "id": "fedcfefc-d123-4386-90a1-08708490a8cf",
   "metadata": {},
   "outputs": [],
   "source": [
    "hit_refseq_hmm_dir = '../data/interim/hit_refseq_hmm/'"
   ]
  },
  {
   "cell_type": "code",
   "execution_count": 22,
   "id": "b5e414c7-f40b-41bd-898c-e9937bc9efbc",
   "metadata": {},
   "outputs": [],
   "source": [
    "if 'hit_refseq_hmm' in os.listdir('../data/interim/'):\n",
    "    os.system('rm -r ' + hit_refseq_hmm_dir)\n",
    "    os.mkdir(hit_refseq_hmm_dir)"
   ]
  },
  {
   "cell_type": "code",
   "execution_count": 22,
   "id": "a4dc08b7-07b8-4157-a8e0-eaf47aee34aa",
   "metadata": {},
   "outputs": [],
   "source": [
    "def hmmsearch(hmm_f, hmm_dir=hmm_dir, hit_refseq_hmm_dir=hit_refseq_hmm_dir, ncpu=2):\n",
    "    hmm_f_path = hmm_dir + hmm_f\n",
    "    query_id = hmm_f.split('.h')[0]\n",
    "    os.system(' '.join(['conda run -n beaker', \n",
    "                        'hmmsearch', \n",
    "                        '-o', hit_refseq_hmm_dir + query_id + '_hmm_out.txt', \n",
    "                        '--tblout', hit_refseq_hmm_dir + query_id + '_hmm_tblout.txt', \n",
    "                        '--domtblout', hit_refseq_hmm_dir + query_id + '_hmm_domtblout.txt',\n",
    "                        '--cpu', str(ncpu),\n",
    "                        hmm_f_path, \n",
    "                        '../data/interim/unique_seqs.faa']))"
   ]
  },
  {
   "cell_type": "code",
   "execution_count": null,
   "id": "2ef1db05-f017-4c81-a60c-03ead23d6e78",
   "metadata": {},
   "outputs": [
    {
     "name": "stderr",
     "output_type": "stream",
     "text": [
      "100%|██████████| 73/73 [00:00<00:00, 87.71it/s]\n"
     ]
    }
   ],
   "source": [
    "%%time\n",
    "_ = Parallel(n_jobs=40)(delayed(hmmsearch)(f) for f in tqdm(hmm_files))"
   ]
  },
  {
   "cell_type": "code",
   "execution_count": 24,
   "id": "61869683-c5e8-41a3-b14e-a03dbe081367",
   "metadata": {},
   "outputs": [
    {
     "name": "stderr",
     "output_type": "stream",
     "text": [
      "\n",
      "  0%|          | 0/73 [00:00<?, ?it/s]\u001b[A\n",
      "  1%|▏         | 1/73 [00:00<00:08,  8.98it/s]\u001b[A\n",
      "  5%|▌         | 4/73 [00:00<00:03, 18.33it/s]\u001b[A\n",
      " 11%|█         | 8/73 [00:04<00:42,  1.52it/s]\u001b[A\n",
      " 14%|█▎        | 10/73 [00:07<01:00,  1.05it/s]\u001b[A\n",
      " 15%|█▌        | 11/73 [00:07<00:50,  1.24it/s]\u001b[A\n",
      " 19%|█▉        | 14/73 [00:29<03:34,  3.64s/it]\u001b[A\n",
      " 22%|██▏       | 16/73 [00:34<03:03,  3.22s/it]\u001b[A\n",
      " 25%|██▍       | 18/73 [00:34<02:07,  2.32s/it]\u001b[A\n",
      " 32%|███▏      | 23/73 [00:39<01:21,  1.64s/it]\u001b[A\n",
      " 36%|███▌      | 26/73 [00:39<00:54,  1.16s/it]\u001b[A\n",
      " 37%|███▋      | 27/73 [00:40<00:48,  1.06s/it]\u001b[A\n",
      " 42%|████▏     | 31/73 [00:41<00:32,  1.30it/s]\u001b[A\n",
      " 44%|████▍     | 32/73 [00:41<00:28,  1.46it/s]\u001b[A\n",
      " 45%|████▌     | 33/73 [01:11<03:31,  5.28s/it]\u001b[A\n",
      " 48%|████▊     | 35/73 [01:18<03:01,  4.77s/it]\u001b[A\n",
      " 49%|████▉     | 36/73 [01:21<02:39,  4.31s/it]\u001b[A\n",
      " 55%|█████▍    | 40/73 [01:21<01:10,  2.13s/it]\u001b[A\n",
      " 58%|█████▊    | 42/73 [01:39<02:04,  4.01s/it]\u001b[A\n",
      " 59%|█████▉    | 43/73 [01:39<01:42,  3.40s/it]\u001b[A\n",
      " 68%|██████▊   | 50/73 [01:39<00:30,  1.32s/it]\u001b[A\n",
      " 73%|███████▎  | 53/73 [01:40<00:20,  1.00s/it]\u001b[A\n",
      " 77%|███████▋  | 56/73 [01:42<00:15,  1.10it/s]\u001b[A\n",
      " 79%|███████▉  | 58/73 [01:52<00:25,  1.72s/it]\u001b[A\n",
      " 82%|████████▏ | 60/73 [01:58<00:26,  2.02s/it]\u001b[A\n",
      " 85%|████████▍ | 62/73 [02:00<00:20,  1.88s/it]\u001b[A\n",
      " 95%|█████████▍| 69/73 [02:01<00:03,  1.15it/s]\u001b[A\n",
      "100%|██████████| 73/73 [02:14<00:00,  1.84s/it]\u001b[A\n"
     ]
    }
   ],
   "source": [
    "dom_tbl_list = list()\n",
    "dom_tbl_fs = [x for x in os.listdir(hit_refseq_hmm_dir) if 'domtblout' in x]\n",
    "for f in tqdm(dom_tbl_fs):\n",
    "    dom_tbl = read_dom_table(hit_refseq_hmm_dir + f)\n",
    "    dom_tbl_list.append(dom_tbl)"
   ]
  },
  {
   "cell_type": "code",
   "execution_count": 25,
   "id": "d0f39cd3-6975-47be-906c-14dc143f3f7c",
   "metadata": {},
   "outputs": [],
   "source": [
    "cat_dom_tbl = pd.concat(dom_tbl_list)"
   ]
  },
  {
   "cell_type": "code",
   "execution_count": 26,
   "id": "9c30df5f-9fb4-487d-aea8-1a2f7d471a04",
   "metadata": {},
   "outputs": [],
   "source": [
    "seq_evalues = cat_dom_tbl[['target', 'query', 'seq_evalue']].drop_duplicates()"
   ]
  },
  {
   "cell_type": "code",
   "execution_count": 27,
   "id": "3709c8e8-fcdf-4818-8788-103b2842792d",
   "metadata": {},
   "outputs": [
    {
     "data": {
      "text/plain": [
       "<Axes: xlabel='seq_evalue', ylabel='Count'>"
      ]
     },
     "execution_count": 27,
     "metadata": {},
     "output_type": "execute_result"
    },
    {
     "data": {
      "image/png": "[encoded data removed]",
      "text/plain": [
       "<Figure size 640x480 with 1 Axes>"
      ]
     },
     "metadata": {},
     "output_type": "display_data"
    }
   ],
   "source": [
    "sns.histplot(data=seq_evalues, x='seq_evalue', binwidth=0.02)"
   ]
  },
  {
   "cell_type": "code",
   "execution_count": 28,
   "id": "ed897ec6-d015-46be-976c-bc42c4d7daa1",
   "metadata": {},
   "outputs": [],
   "source": [
    "E_cutoff = 1E-3\n",
    "filtered_dom_tbl = cat_dom_tbl[cat_dom_tbl['seq_evalue'] < E_cutoff].reset_index(drop=True)"
   ]
  },
  {
   "cell_type": "code",
   "execution_count": 29,
   "id": "01a7d5e8-5bf3-48fe-91d8-24195fb6db13",
   "metadata": {},
   "outputs": [],
   "source": [
    "query_count_df = filtered_dom_tbl['query'].value_counts().reset_index()"
   ]
  },
  {
   "cell_type": "code",
   "execution_count": 33,
   "id": "3d9ef8d3-cd74-4f92-9d65-1ef20dbe7f15",
   "metadata": {},
   "outputs": [
    {
     "data": {
      "text/html": [
       "<div>\n",
       "<style scoped>\n",
       "    .dataframe tbody tr th:only-of-type {\n",
       "        vertical-align: middle;\n",
       "    }\n",
       "\n",
       "    .dataframe tbody tr th {\n",
       "        vertical-align: top;\n",
       "    }\n",
       "\n",
       "    .dataframe thead th {\n",
       "        text-align: right;\n",
       "    }\n",
       "</style>\n",
       "<table border=\"1\" class=\"dataframe\">\n",
       "  <thead>\n",
       "    <tr style=\"text-align: right;\">\n",
       "      <th></th>\n",
       "      <th>query</th>\n",
       "      <th>count</th>\n",
       "    </tr>\n",
       "  </thead>\n",
       "  <tbody>\n",
       "    <tr>\n",
       "      <th>0</th>\n",
       "      <td>WP_064766070.1</td>\n",
       "      <td>2896866</td>\n",
       "    </tr>\n",
       "    <tr>\n",
       "      <th>1</th>\n",
       "      <td>WP_001676491.1</td>\n",
       "      <td>1579359</td>\n",
       "    </tr>\n",
       "    <tr>\n",
       "      <th>2</th>\n",
       "      <td>WP_087889773.1</td>\n",
       "      <td>1396841</td>\n",
       "    </tr>\n",
       "    <tr>\n",
       "      <th>3</th>\n",
       "      <td>WP_059339975.1</td>\n",
       "      <td>547530</td>\n",
       "    </tr>\n",
       "    <tr>\n",
       "      <th>4</th>\n",
       "      <td>WP_000770925.1</td>\n",
       "      <td>298911</td>\n",
       "    </tr>\n",
       "    <tr>\n",
       "      <th>5</th>\n",
       "      <td>WP_032203427.1</td>\n",
       "      <td>281223</td>\n",
       "    </tr>\n",
       "    <tr>\n",
       "      <th>6</th>\n",
       "      <td>WP_042346724.1</td>\n",
       "      <td>247231</td>\n",
       "    </tr>\n",
       "    <tr>\n",
       "      <th>7</th>\n",
       "      <td>WP_001589054.1</td>\n",
       "      <td>230915</td>\n",
       "    </tr>\n",
       "    <tr>\n",
       "      <th>8</th>\n",
       "      <td>WP_040091717.1</td>\n",
       "      <td>201175</td>\n",
       "    </tr>\n",
       "    <tr>\n",
       "      <th>9</th>\n",
       "      <td>WP_001619161.1</td>\n",
       "      <td>190474</td>\n",
       "    </tr>\n",
       "    <tr>\n",
       "      <th>10</th>\n",
       "      <td>WP_000257686.1</td>\n",
       "      <td>187487</td>\n",
       "    </tr>\n",
       "    <tr>\n",
       "      <th>11</th>\n",
       "      <td>WP_001198055.1</td>\n",
       "      <td>179953</td>\n",
       "    </tr>\n",
       "    <tr>\n",
       "      <th>12</th>\n",
       "      <td>WP_001702960.1</td>\n",
       "      <td>166552</td>\n",
       "    </tr>\n",
       "    <tr>\n",
       "      <th>13</th>\n",
       "      <td>WP_000665639.1</td>\n",
       "      <td>149056</td>\n",
       "    </tr>\n",
       "    <tr>\n",
       "      <th>14</th>\n",
       "      <td>WP_087900469.1</td>\n",
       "      <td>132962</td>\n",
       "    </tr>\n",
       "    <tr>\n",
       "      <th>15</th>\n",
       "      <td>WP_033812887.1</td>\n",
       "      <td>81231</td>\n",
       "    </tr>\n",
       "    <tr>\n",
       "      <th>16</th>\n",
       "      <td>WP_001593459.1</td>\n",
       "      <td>41979</td>\n",
       "    </tr>\n",
       "    <tr>\n",
       "      <th>17</th>\n",
       "      <td>WP_020231147.1</td>\n",
       "      <td>24227</td>\n",
       "    </tr>\n",
       "    <tr>\n",
       "      <th>18</th>\n",
       "      <td>WP_225403053.1</td>\n",
       "      <td>20069</td>\n",
       "    </tr>\n",
       "    <tr>\n",
       "      <th>19</th>\n",
       "      <td>WP_072044445.1</td>\n",
       "      <td>15629</td>\n",
       "    </tr>\n",
       "    <tr>\n",
       "      <th>20</th>\n",
       "      <td>WP_087900468.1</td>\n",
       "      <td>13624</td>\n",
       "    </tr>\n",
       "    <tr>\n",
       "      <th>21</th>\n",
       "      <td>WP_000389051.1</td>\n",
       "      <td>10384</td>\n",
       "    </tr>\n",
       "    <tr>\n",
       "      <th>22</th>\n",
       "      <td>WP_001240354.1</td>\n",
       "      <td>8743</td>\n",
       "    </tr>\n",
       "    <tr>\n",
       "      <th>23</th>\n",
       "      <td>WP_001313577.1</td>\n",
       "      <td>5784</td>\n",
       "    </tr>\n",
       "    <tr>\n",
       "      <th>24</th>\n",
       "      <td>WP_000355468.1</td>\n",
       "      <td>4950</td>\n",
       "    </tr>\n",
       "    <tr>\n",
       "      <th>25</th>\n",
       "      <td>WP_000377448.1</td>\n",
       "      <td>4604</td>\n",
       "    </tr>\n",
       "    <tr>\n",
       "      <th>26</th>\n",
       "      <td>WP_016240614.1</td>\n",
       "      <td>4312</td>\n",
       "    </tr>\n",
       "    <tr>\n",
       "      <th>27</th>\n",
       "      <td>WP_016240615.1</td>\n",
       "      <td>4015</td>\n",
       "    </tr>\n",
       "    <tr>\n",
       "      <th>28</th>\n",
       "      <td>WP_032260665.1</td>\n",
       "      <td>3669</td>\n",
       "    </tr>\n",
       "    <tr>\n",
       "      <th>29</th>\n",
       "      <td>WP_000210934.1</td>\n",
       "      <td>3498</td>\n",
       "    </tr>\n",
       "    <tr>\n",
       "      <th>30</th>\n",
       "      <td>WP_087897267.1</td>\n",
       "      <td>1593</td>\n",
       "    </tr>\n",
       "    <tr>\n",
       "      <th>31</th>\n",
       "      <td>WP_021513009.1</td>\n",
       "      <td>1373</td>\n",
       "    </tr>\n",
       "    <tr>\n",
       "      <th>32</th>\n",
       "      <td>WP_054626965.1</td>\n",
       "      <td>1331</td>\n",
       "    </tr>\n",
       "    <tr>\n",
       "      <th>33</th>\n",
       "      <td>WP_223151192.1</td>\n",
       "      <td>1226</td>\n",
       "    </tr>\n",
       "    <tr>\n",
       "      <th>34</th>\n",
       "      <td>WP_014639476.1</td>\n",
       "      <td>1188</td>\n",
       "    </tr>\n",
       "    <tr>\n",
       "      <th>35</th>\n",
       "      <td>WP_032291790.1</td>\n",
       "      <td>951</td>\n",
       "    </tr>\n",
       "    <tr>\n",
       "      <th>36</th>\n",
       "      <td>WP_000097610.1</td>\n",
       "      <td>889</td>\n",
       "    </tr>\n",
       "    <tr>\n",
       "      <th>37</th>\n",
       "      <td>WP_001557682.1</td>\n",
       "      <td>751</td>\n",
       "    </tr>\n",
       "    <tr>\n",
       "      <th>38</th>\n",
       "      <td>WP_000183405.1</td>\n",
       "      <td>639</td>\n",
       "    </tr>\n",
       "    <tr>\n",
       "      <th>39</th>\n",
       "      <td>WP_000628292.1</td>\n",
       "      <td>602</td>\n",
       "    </tr>\n",
       "    <tr>\n",
       "      <th>40</th>\n",
       "      <td>WP_000068158.1</td>\n",
       "      <td>570</td>\n",
       "    </tr>\n",
       "    <tr>\n",
       "      <th>41</th>\n",
       "      <td>WP_000534626.1</td>\n",
       "      <td>500</td>\n",
       "    </tr>\n",
       "    <tr>\n",
       "      <th>42</th>\n",
       "      <td>WP_087896215.1</td>\n",
       "      <td>484</td>\n",
       "    </tr>\n",
       "    <tr>\n",
       "      <th>43</th>\n",
       "      <td>WP_087906371.1</td>\n",
       "      <td>375</td>\n",
       "    </tr>\n",
       "    <tr>\n",
       "      <th>44</th>\n",
       "      <td>WP_047174762.1</td>\n",
       "      <td>331</td>\n",
       "    </tr>\n",
       "    <tr>\n",
       "      <th>45</th>\n",
       "      <td>WP_021513008.1</td>\n",
       "      <td>284</td>\n",
       "    </tr>\n",
       "    <tr>\n",
       "      <th>46</th>\n",
       "      <td>WP_000150292.1</td>\n",
       "      <td>282</td>\n",
       "    </tr>\n",
       "    <tr>\n",
       "      <th>47</th>\n",
       "      <td>WP_087900470.1</td>\n",
       "      <td>267</td>\n",
       "    </tr>\n",
       "    <tr>\n",
       "      <th>48</th>\n",
       "      <td>WP_249925928.1</td>\n",
       "      <td>219</td>\n",
       "    </tr>\n",
       "    <tr>\n",
       "      <th>49</th>\n",
       "      <td>WP_000528930.1</td>\n",
       "      <td>219</td>\n",
       "    </tr>\n",
       "    <tr>\n",
       "      <th>50</th>\n",
       "      <td>WP_001676492.1</td>\n",
       "      <td>214</td>\n",
       "    </tr>\n",
       "    <tr>\n",
       "      <th>51</th>\n",
       "      <td>WP_000162952.1</td>\n",
       "      <td>207</td>\n",
       "    </tr>\n",
       "    <tr>\n",
       "      <th>52</th>\n",
       "      <td>WP_001703029.1</td>\n",
       "      <td>191</td>\n",
       "    </tr>\n",
       "    <tr>\n",
       "      <th>53</th>\n",
       "      <td>WP_061089765.1</td>\n",
       "      <td>152</td>\n",
       "    </tr>\n",
       "    <tr>\n",
       "      <th>54</th>\n",
       "      <td>WP_000982358.1</td>\n",
       "      <td>152</td>\n",
       "    </tr>\n",
       "    <tr>\n",
       "      <th>55</th>\n",
       "      <td>WP_001022716.1</td>\n",
       "      <td>116</td>\n",
       "    </tr>\n",
       "    <tr>\n",
       "      <th>56</th>\n",
       "      <td>WP_021529611.1</td>\n",
       "      <td>111</td>\n",
       "    </tr>\n",
       "    <tr>\n",
       "      <th>57</th>\n",
       "      <td>WP_097419291.1</td>\n",
       "      <td>103</td>\n",
       "    </tr>\n",
       "    <tr>\n",
       "      <th>58</th>\n",
       "      <td>WP_001532221.1</td>\n",
       "      <td>103</td>\n",
       "    </tr>\n",
       "    <tr>\n",
       "      <th>59</th>\n",
       "      <td>WP_000020904.1</td>\n",
       "      <td>102</td>\n",
       "    </tr>\n",
       "    <tr>\n",
       "      <th>60</th>\n",
       "      <td>WP_000494510.1</td>\n",
       "      <td>100</td>\n",
       "    </tr>\n",
       "    <tr>\n",
       "      <th>61</th>\n",
       "      <td>WP_060581740.1</td>\n",
       "      <td>95</td>\n",
       "    </tr>\n",
       "    <tr>\n",
       "      <th>62</th>\n",
       "      <td>WP_000957441.1</td>\n",
       "      <td>90</td>\n",
       "    </tr>\n",
       "    <tr>\n",
       "      <th>63</th>\n",
       "      <td>WP_000354965.1</td>\n",
       "      <td>85</td>\n",
       "    </tr>\n",
       "    <tr>\n",
       "      <th>64</th>\n",
       "      <td>WP_021552536.1</td>\n",
       "      <td>79</td>\n",
       "    </tr>\n",
       "    <tr>\n",
       "      <th>65</th>\n",
       "      <td>WP_224922733.1</td>\n",
       "      <td>78</td>\n",
       "    </tr>\n",
       "    <tr>\n",
       "      <th>66</th>\n",
       "      <td>WP_000188768.1</td>\n",
       "      <td>60</td>\n",
       "    </tr>\n",
       "    <tr>\n",
       "      <th>67</th>\n",
       "      <td>WP_021572920.1</td>\n",
       "      <td>58</td>\n",
       "    </tr>\n",
       "    <tr>\n",
       "      <th>68</th>\n",
       "      <td>WP_001024069.1</td>\n",
       "      <td>53</td>\n",
       "    </tr>\n",
       "    <tr>\n",
       "      <th>69</th>\n",
       "      <td>WP_001553315.1</td>\n",
       "      <td>33</td>\n",
       "    </tr>\n",
       "    <tr>\n",
       "      <th>70</th>\n",
       "      <td>WP_022645725.1</td>\n",
       "      <td>11</td>\n",
       "    </tr>\n",
       "    <tr>\n",
       "      <th>71</th>\n",
       "      <td>WP_001057122.1</td>\n",
       "      <td>7</td>\n",
       "    </tr>\n",
       "    <tr>\n",
       "      <th>72</th>\n",
       "      <td>WP_000387046.1</td>\n",
       "      <td>1</td>\n",
       "    </tr>\n",
       "  </tbody>\n",
       "</table>\n",
       "</div>"
      ],
      "text/plain": [
       "             query    count\n",
       "0   WP_064766070.1  2896866\n",
       "1   WP_001676491.1  1579359\n",
       "2   WP_087889773.1  1396841\n",
       "3   WP_059339975.1   547530\n",
       "4   WP_000770925.1   298911\n",
       "5   WP_032203427.1   281223\n",
       "6   WP_042346724.1   247231\n",
       "7   WP_001589054.1   230915\n",
       "8   WP_040091717.1   201175\n",
       "9   WP_001619161.1   190474\n",
       "10  WP_000257686.1   187487\n",
       "11  WP_001198055.1   179953\n",
       "12  WP_001702960.1   166552\n",
       "13  WP_000665639.1   149056\n",
       "14  WP_087900469.1   132962\n",
       "15  WP_033812887.1    81231\n",
       "16  WP_001593459.1    41979\n",
       "17  WP_020231147.1    24227\n",
       "18  WP_225403053.1    20069\n",
       "19  WP_072044445.1    15629\n",
       "20  WP_087900468.1    13624\n",
       "21  WP_000389051.1    10384\n",
       "22  WP_001240354.1     8743\n",
       "23  WP_001313577.1     5784\n",
       "24  WP_000355468.1     4950\n",
       "25  WP_000377448.1     4604\n",
       "26  WP_016240614.1     4312\n",
       "27  WP_016240615.1     4015\n",
       "28  WP_032260665.1     3669\n",
       "29  WP_000210934.1     3498\n",
       "30  WP_087897267.1     1593\n",
       "31  WP_021513009.1     1373\n",
       "32  WP_054626965.1     1331\n",
       "33  WP_223151192.1     1226\n",
       "34  WP_014639476.1     1188\n",
       "35  WP_032291790.1      951\n",
       "36  WP_000097610.1      889\n",
       "37  WP_001557682.1      751\n",
       "38  WP_000183405.1      639\n",
       "39  WP_000628292.1      602\n",
       "40  WP_000068158.1      570\n",
       "41  WP_000534626.1      500\n",
       "42  WP_087896215.1      484\n",
       "43  WP_087906371.1      375\n",
       "44  WP_047174762.1      331\n",
       "45  WP_021513008.1      284\n",
       "46  WP_000150292.1      282\n",
       "47  WP_087900470.1      267\n",
       "48  WP_249925928.1      219\n",
       "49  WP_000528930.1      219\n",
       "50  WP_001676492.1      214\n",
       "51  WP_000162952.1      207\n",
       "52  WP_001703029.1      191\n",
       "53  WP_061089765.1      152\n",
       "54  WP_000982358.1      152\n",
       "55  WP_001022716.1      116\n",
       "56  WP_021529611.1      111\n",
       "57  WP_097419291.1      103\n",
       "58  WP_001532221.1      103\n",
       "59  WP_000020904.1      102\n",
       "60  WP_000494510.1      100\n",
       "61  WP_060581740.1       95\n",
       "62  WP_000957441.1       90\n",
       "63  WP_000354965.1       85\n",
       "64  WP_021552536.1       79\n",
       "65  WP_224922733.1       78\n",
       "66  WP_000188768.1       60\n",
       "67  WP_021572920.1       58\n",
       "68  WP_001024069.1       53\n",
       "69  WP_001553315.1       33\n",
       "70  WP_022645725.1       11\n",
       "71  WP_001057122.1        7\n",
       "72  WP_000387046.1        1"
      ]
     },
     "execution_count": 33,
     "metadata": {},
     "output_type": "execute_result"
    }
   ],
   "source": [
    "query_count_df"
   ]
  },
  {
   "cell_type": "code",
   "execution_count": 34,
   "id": "7ef35e33-6f00-4530-b43c-9d9b10c494f9",
   "metadata": {},
   "outputs": [],
   "source": [
    "def calculate_total_alignment_length(df, from_col, to_col):\n",
    "    # Ensure the dataframe is sorted by 'from_col'\n",
    "    df_sorted = df.sort_values(from_col)\n",
    "    # Initialize the list to hold merged intervals\n",
    "    merged_intervals = []\n",
    "    # Iterate through sorted dataframe rows\n",
    "    for _, row in df_sorted.iterrows():\n",
    "        if not merged_intervals:\n",
    "            # Start with the first interval\n",
    "            merged_intervals.append([row[from_col], row[to_col]])\n",
    "        else:\n",
    "            # Get the last interval in the list\n",
    "            last_interval = merged_intervals[-1]\n",
    "            # Check if current interval overlaps with the last interval in the list\n",
    "            if row[from_col] <= last_interval[1]:\n",
    "                # Merge the intervals by extending the last interval\n",
    "                last_interval[1] = max(last_interval[1], row[to_col])\n",
    "            else:\n",
    "                # No overlap, add the current interval as a new one\n",
    "                merged_intervals.append([row[from_col], row[to_col]])\n",
    "    # Calculate the total length of all non-overlapping intervals\n",
    "    total_length = sum(interval[1] - interval[0] + 1 for interval in merged_intervals)\n",
    "    return total_length"
   ]
  },
  {
   "cell_type": "code",
   "execution_count": 35,
   "id": "a6e6b8bb-c8cb-483f-bd8e-6a9770aaaa77",
   "metadata": {},
   "outputs": [],
   "source": [
    "def calc_ali_lens(group_df, target, query, evalue):\n",
    "    target_ali_len = calculate_total_alignment_length(group_df, 'env_from', 'env_to')\n",
    "    query_ali_len = calculate_total_alignment_length(group_df, 'hmm_from', 'hmm_to')\n",
    "    return {'target': target, 'query': query, 'target_ali_len':target_ali_len, 'query_ali_len': query_ali_len, 'evalue': evalue}"
   ]
  },
  {
   "cell_type": "code",
   "execution_count": 36,
   "id": "de3f7333-fcc2-4451-b3ac-39028a61167f",
   "metadata": {},
   "outputs": [
    {
     "name": "stderr",
     "output_type": "stream",
     "text": [
      "100%|██████████| 5758447/5758447 [1:00:28<00:00, 1587.01it/s]\n"
     ]
    }
   ],
   "source": [
    "query_target_ali_lens = Parallel(n_jobs=48)(delayed(calc_ali_lens)\n",
    "                                            (group_df, target, query, evalue) for\n",
    "                                            (target, query, evalue), group_df in \n",
    "                                            tqdm(filtered_dom_tbl.groupby(['target', 'query', 'seq_evalue']), \n",
    "                                                 total=len(filtered_dom_tbl[['target', 'query']].drop_duplicates()), \n",
    "                                                 position=0))"
   ]
  },
  {
   "cell_type": "code",
   "execution_count": 37,
   "id": "7cca7aee-16bc-4581-b48e-c2450f8658a9",
   "metadata": {},
   "outputs": [
    {
     "data": {
      "text/html": [
       "<div>\n",
       "<style scoped>\n",
       "    .dataframe tbody tr th:only-of-type {\n",
       "        vertical-align: middle;\n",
       "    }\n",
       "\n",
       "    .dataframe tbody tr th {\n",
       "        vertical-align: top;\n",
       "    }\n",
       "\n",
       "    .dataframe thead th {\n",
       "        text-align: right;\n",
       "    }\n",
       "</style>\n",
       "<table border=\"1\" class=\"dataframe\">\n",
       "  <thead>\n",
       "    <tr style=\"text-align: right;\">\n",
       "      <th></th>\n",
       "      <th>target</th>\n",
       "      <th>target_accession</th>\n",
       "      <th>tlen</th>\n",
       "      <th>query</th>\n",
       "      <th>query_accession</th>\n",
       "      <th>qlen</th>\n",
       "      <th>seq_evalue</th>\n",
       "      <th>seq_score</th>\n",
       "      <th>seq_bias</th>\n",
       "      <th>dom_n</th>\n",
       "      <th>...</th>\n",
       "      <th>dom_score</th>\n",
       "      <th>dom_bias</th>\n",
       "      <th>hmm_from</th>\n",
       "      <th>hmm_to</th>\n",
       "      <th>ali_from</th>\n",
       "      <th>ali_to</th>\n",
       "      <th>env_from</th>\n",
       "      <th>env_to</th>\n",
       "      <th>acc</th>\n",
       "      <th>targ_description</th>\n",
       "    </tr>\n",
       "  </thead>\n",
       "  <tbody>\n",
       "    <tr>\n",
       "      <th>0</th>\n",
       "      <td>396d5e92780c00697bc1653fd687aed05a317e5d6db226...</td>\n",
       "      <td>-</td>\n",
       "      <td>581.0</td>\n",
       "      <td>WP_016240614.1</td>\n",
       "      <td>-</td>\n",
       "      <td>583.0</td>\n",
       "      <td>5.000000e-207</td>\n",
       "      <td>700.8</td>\n",
       "      <td>0.0</td>\n",
       "      <td>1.0</td>\n",
       "      <td>...</td>\n",
       "      <td>700.6</td>\n",
       "      <td>0.0</td>\n",
       "      <td>1.0</td>\n",
       "      <td>583.0</td>\n",
       "      <td>1.0</td>\n",
       "      <td>581.0</td>\n",
       "      <td>1.0</td>\n",
       "      <td>581.0</td>\n",
       "      <td>0.99</td>\n",
       "      <td>-</td>\n",
       "    </tr>\n",
       "    <tr>\n",
       "      <th>1</th>\n",
       "      <td>dc8c5ccb32de6e3004d5c8924d8f0e6a7c1f9c20f6f956...</td>\n",
       "      <td>-</td>\n",
       "      <td>581.0</td>\n",
       "      <td>WP_016240614.1</td>\n",
       "      <td>-</td>\n",
       "      <td>583.0</td>\n",
       "      <td>7.800000e-206</td>\n",
       "      <td>696.8</td>\n",
       "      <td>0.0</td>\n",
       "      <td>1.0</td>\n",
       "      <td>...</td>\n",
       "      <td>696.7</td>\n",
       "      <td>0.0</td>\n",
       "      <td>1.0</td>\n",
       "      <td>582.0</td>\n",
       "      <td>1.0</td>\n",
       "      <td>580.0</td>\n",
       "      <td>1.0</td>\n",
       "      <td>581.0</td>\n",
       "      <td>0.99</td>\n",
       "      <td>-</td>\n",
       "    </tr>\n",
       "    <tr>\n",
       "      <th>2</th>\n",
       "      <td>1af8afa92bca3becbc647a153db01d8d6e822148854192...</td>\n",
       "      <td>-</td>\n",
       "      <td>581.0</td>\n",
       "      <td>WP_016240614.1</td>\n",
       "      <td>-</td>\n",
       "      <td>583.0</td>\n",
       "      <td>1.300000e-205</td>\n",
       "      <td>696.1</td>\n",
       "      <td>0.0</td>\n",
       "      <td>1.0</td>\n",
       "      <td>...</td>\n",
       "      <td>695.9</td>\n",
       "      <td>0.0</td>\n",
       "      <td>1.0</td>\n",
       "      <td>583.0</td>\n",
       "      <td>1.0</td>\n",
       "      <td>581.0</td>\n",
       "      <td>1.0</td>\n",
       "      <td>581.0</td>\n",
       "      <td>0.99</td>\n",
       "      <td>-</td>\n",
       "    </tr>\n",
       "    <tr>\n",
       "      <th>3</th>\n",
       "      <td>10d7f1c647fa49b40bc48f158cd64c45d8979aaf323e2a...</td>\n",
       "      <td>-</td>\n",
       "      <td>581.0</td>\n",
       "      <td>WP_016240614.1</td>\n",
       "      <td>-</td>\n",
       "      <td>583.0</td>\n",
       "      <td>9.200000e-203</td>\n",
       "      <td>686.7</td>\n",
       "      <td>0.0</td>\n",
       "      <td>1.0</td>\n",
       "      <td>...</td>\n",
       "      <td>686.5</td>\n",
       "      <td>0.0</td>\n",
       "      <td>1.0</td>\n",
       "      <td>583.0</td>\n",
       "      <td>1.0</td>\n",
       "      <td>581.0</td>\n",
       "      <td>1.0</td>\n",
       "      <td>581.0</td>\n",
       "      <td>0.99</td>\n",
       "      <td>-</td>\n",
       "    </tr>\n",
       "    <tr>\n",
       "      <th>4</th>\n",
       "      <td>670cc0d7d23919395cddf2c1ef43f7cb15f0f0a0a31190...</td>\n",
       "      <td>-</td>\n",
       "      <td>581.0</td>\n",
       "      <td>WP_016240614.1</td>\n",
       "      <td>-</td>\n",
       "      <td>583.0</td>\n",
       "      <td>2.000000e-202</td>\n",
       "      <td>685.6</td>\n",
       "      <td>0.0</td>\n",
       "      <td>1.0</td>\n",
       "      <td>...</td>\n",
       "      <td>685.4</td>\n",
       "      <td>0.0</td>\n",
       "      <td>1.0</td>\n",
       "      <td>583.0</td>\n",
       "      <td>1.0</td>\n",
       "      <td>581.0</td>\n",
       "      <td>1.0</td>\n",
       "      <td>581.0</td>\n",
       "      <td>0.99</td>\n",
       "      <td>-</td>\n",
       "    </tr>\n",
       "  </tbody>\n",
       "</table>\n",
       "<p>5 rows × 23 columns</p>\n",
       "</div>"
      ],
      "text/plain": [
       "                                              target target_accession   tlen   \n",
       "0  396d5e92780c00697bc1653fd687aed05a317e5d6db226...                -  581.0  \\\n",
       "1  dc8c5ccb32de6e3004d5c8924d8f0e6a7c1f9c20f6f956...                -  581.0   \n",
       "2  1af8afa92bca3becbc647a153db01d8d6e822148854192...                -  581.0   \n",
       "3  10d7f1c647fa49b40bc48f158cd64c45d8979aaf323e2a...                -  581.0   \n",
       "4  670cc0d7d23919395cddf2c1ef43f7cb15f0f0a0a31190...                -  581.0   \n",
       "\n",
       "            query query_accession   qlen     seq_evalue  seq_score  seq_bias   \n",
       "0  WP_016240614.1               -  583.0  5.000000e-207      700.8       0.0  \\\n",
       "1  WP_016240614.1               -  583.0  7.800000e-206      696.8       0.0   \n",
       "2  WP_016240614.1               -  583.0  1.300000e-205      696.1       0.0   \n",
       "3  WP_016240614.1               -  583.0  9.200000e-203      686.7       0.0   \n",
       "4  WP_016240614.1               -  583.0  2.000000e-202      685.6       0.0   \n",
       "\n",
       "   dom_n  ...  dom_score  dom_bias  hmm_from  hmm_to  ali_from  ali_to   \n",
       "0    1.0  ...      700.6       0.0       1.0   583.0       1.0   581.0  \\\n",
       "1    1.0  ...      696.7       0.0       1.0   582.0       1.0   580.0   \n",
       "2    1.0  ...      695.9       0.0       1.0   583.0       1.0   581.0   \n",
       "3    1.0  ...      686.5       0.0       1.0   583.0       1.0   581.0   \n",
       "4    1.0  ...      685.4       0.0       1.0   583.0       1.0   581.0   \n",
       "\n",
       "   env_from  env_to   acc  targ_description  \n",
       "0       1.0   581.0  0.99                 -  \n",
       "1       1.0   581.0  0.99                 -  \n",
       "2       1.0   581.0  0.99                 -  \n",
       "3       1.0   581.0  0.99                 -  \n",
       "4       1.0   581.0  0.99                 -  \n",
       "\n",
       "[5 rows x 23 columns]"
      ]
     },
     "execution_count": 37,
     "metadata": {},
     "output_type": "execute_result"
    }
   ],
   "source": [
    "filtered_dom_tbl.head()"
   ]
  },
  {
   "cell_type": "code",
   "execution_count": 38,
   "id": "f5559d69-8d39-4544-850e-2facf4d82047",
   "metadata": {},
   "outputs": [],
   "source": [
    "unique_query_targets = filtered_dom_tbl[['target', 'query', 'tlen','qlen']].drop_duplicates()"
   ]
  },
  {
   "cell_type": "code",
   "execution_count": 39,
   "id": "20d1c179-acbe-40cb-8ca6-a2b56493d172",
   "metadata": {},
   "outputs": [],
   "source": [
    "query_target_ali_len_df = (pd.DataFrame(query_target_ali_lens)\n",
    "                           .merge(unique_query_targets, how='inner', on=['query', 'target']))\n",
    "query_target_ali_len_df['q_ali_frac'] = query_target_ali_len_df['query_ali_len']/query_target_ali_len_df['qlen']\n",
    "query_target_ali_len_df['t_ali_frac'] = query_target_ali_len_df['target_ali_len']/query_target_ali_len_df['tlen']\n",
    "query_target_ali_len_df['neg_log_evalue'] = -np.log10(query_target_ali_len_df['evalue'])"
   ]
  },
  {
   "cell_type": "code",
   "execution_count": 40,
   "id": "74389681-e0ea-489f-8951-017c271c48fb",
   "metadata": {},
   "outputs": [
    {
     "data": {
      "image/png": "[encoded data removed]",
      "text/plain": [
       "<Figure size 400x400 with 1 Axes>"
      ]
     },
     "metadata": {},
     "output_type": "display_data"
    }
   ],
   "source": [
    "plt.subplots(figsize=(4,4))\n",
    "sns.scatterplot(data=query_target_ali_len_df.sample(n=10_000, random_state=7), \n",
    "                hue='neg_log_evalue', x='q_ali_frac', y='t_ali_frac', alpha=0.33)\n",
    "sns.despine()"
   ]
  },
  {
   "cell_type": "code",
   "execution_count": 41,
   "id": "91d84cc5-23af-4add-9f7d-4ca737dc305e",
   "metadata": {},
   "outputs": [
    {
     "data": {
      "text/plain": [
       "<seaborn.axisgrid.FacetGrid at 0x7f53a22f9c10>"
      ]
     },
     "execution_count": 41,
     "metadata": {},
     "output_type": "execute_result"
    },
    {
     "data": {
      "image/png": "[encoded data removed]",
      "text/plain": [
       "<Figure size 500x500 with 1 Axes>"
      ]
     },
     "metadata": {},
     "output_type": "display_data"
    }
   ],
   "source": [
    "sns.displot(data=query_target_ali_len_df.sample(n=10_000, random_state=7),\n",
    "            x='q_ali_frac', y='t_ali_frac')"
   ]
  },
  {
   "cell_type": "code",
   "execution_count": 42,
   "id": "4fd3db4b-d936-451d-ba8f-5a0c425db745",
   "metadata": {},
   "outputs": [],
   "source": [
    "filtered_query_targets = query_target_ali_len_df[(query_target_ali_len_df['t_ali_frac'] > 0.8) & \n",
    "                                                 (query_target_ali_len_df['q_ali_frac'] > 0.8)].reset_index(drop=True)"
   ]
  },
  {
   "cell_type": "code",
   "execution_count": 43,
   "id": "31de4e5c-f0ad-45dc-8b94-0a848a94ec71",
   "metadata": {},
   "outputs": [
    {
     "data": {
      "text/plain": [
       "0.08330266823676592"
      ]
     },
     "execution_count": 43,
     "metadata": {},
     "output_type": "execute_result"
    }
   ],
   "source": [
    "len(filtered_query_targets)/len(query_target_ali_len_df)"
   ]
  },
  {
   "cell_type": "code",
   "execution_count": 44,
   "id": "eb7c80c3-4042-42b9-8481-e73a39bd317f",
   "metadata": {},
   "outputs": [
    {
     "data": {
      "text/plain": [
       "query\n",
       "WP_000770925.1    179483\n",
       "WP_087900469.1     70938\n",
       "WP_001619161.1     66402\n",
       "WP_087889773.1     50145\n",
       "WP_001702960.1     46970\n",
       "WP_001593459.1     26219\n",
       "WP_001676491.1     12066\n",
       "WP_000355468.1      4581\n",
       "WP_000389051.1      3965\n",
       "WP_033812887.1      3815\n",
       "WP_016240615.1      1937\n",
       "WP_001198055.1      1743\n",
       "WP_072044445.1      1705\n",
       "WP_064766070.1      1211\n",
       "WP_000210934.1       622\n",
       "WP_000628292.1       569\n",
       "WP_000097610.1       448\n",
       "WP_059339975.1       405\n",
       "WP_054626965.1       378\n",
       "WP_032291790.1       370\n",
       "WP_021513009.1       360\n",
       "WP_020231147.1       349\n",
       "WP_001313577.1       282\n",
       "WP_047174762.1       258\n",
       "WP_000150292.1       257\n",
       "WP_000068158.1       240\n",
       "WP_087900470.1       237\n",
       "WP_001589054.1       235\n",
       "WP_087897267.1       216\n",
       "WP_016240614.1       210\n",
       "WP_249925928.1       204\n",
       "WP_001240354.1       194\n",
       "WP_042346724.1       179\n",
       "WP_040091717.1       170\n",
       "WP_000257686.1       151\n",
       "WP_032203427.1       151\n",
       "WP_001557682.1       131\n",
       "WP_061089765.1       125\n",
       "WP_032260665.1       121\n",
       "WP_087896215.1       112\n",
       "WP_000534626.1        96\n",
       "WP_014639476.1        95\n",
       "WP_000982358.1        94\n",
       "WP_001532221.1        91\n",
       "WP_000528930.1        83\n",
       "WP_000494510.1        83\n",
       "WP_000183405.1        80\n",
       "WP_021552536.1        72\n",
       "WP_021513008.1        70\n",
       "WP_000957441.1        69\n",
       "WP_087900468.1        68\n",
       "WP_021529611.1        61\n",
       "WP_087906371.1        58\n",
       "WP_060581740.1        58\n",
       "WP_001703029.1        58\n",
       "WP_001022716.1        57\n",
       "WP_000162952.1        54\n",
       "WP_225403053.1        38\n",
       "WP_000665639.1        36\n",
       "WP_223151192.1        34\n",
       "WP_021572920.1        34\n",
       "WP_097419291.1        28\n",
       "WP_000377448.1        27\n",
       "WP_001676492.1        26\n",
       "WP_001553315.1        22\n",
       "WP_000020904.1        14\n",
       "WP_022645725.1         9\n",
       "WP_000354965.1         8\n",
       "WP_001057122.1         6\n",
       "WP_001024069.1         5\n",
       "WP_224922733.1         4\n",
       "WP_000387046.1         1\n",
       "WP_000188768.1         1\n",
       "Name: count, dtype: int64"
      ]
     },
     "execution_count": 44,
     "metadata": {},
     "output_type": "execute_result"
    }
   ],
   "source": [
    "filtered_query_targets['query'].value_counts()"
   ]
  },
  {
   "cell_type": "code",
   "execution_count": 45,
   "id": "e4f4ebbe-e675-4230-9e58-405295abf420",
   "metadata": {},
   "outputs": [],
   "source": [
    "filtered_query_targets.to_csv('../data/interim/screen_hits_refseq_homologs.csv', index=False)"
   ]
  },
  {
   "cell_type": "markdown",
   "id": "2ac0db97-1c69-4e31-818c-b8a06da2ce77",
   "metadata": {},
   "source": [
    "### From proteins to systems"
   ]
  },
  {
   "cell_type": "markdown",
   "id": "a15d5ac7-5043-4c49-b30b-5b476439e497",
   "metadata": {},
   "source": [
    "For multi-protein system we'll look as to whether the proteins occur in an operon together"
   ]
  },
  {
   "cell_type": "code",
   "execution_count": 5,
   "id": "5ba60234-6472-4835-8a2d-e3c3af664380",
   "metadata": {},
   "outputs": [],
   "source": [
    "filtered_query_targets = pd.read_csv('../data/interim/screen_hits_refseq_homologs.csv')"
   ]
  },
  {
   "cell_type": "code",
   "execution_count": 6,
   "id": "6b899495-4c79-456a-830e-70580395360c",
   "metadata": {},
   "outputs": [
    {
     "name": "stdout",
     "output_type": "stream",
     "text": [
      "CPU times: user 5min 1s, sys: 27.2 s, total: 5min 28s\n",
      "Wall time: 5min 28s\n"
     ]
    }
   ],
   "source": [
    "%%time\n",
    "refseq_seq_assemblies = pd.read_csv('../data/interim/seq_assemblies.csv', \n",
    "                                    names=['product_accession', 'seq_id', 'seq', 'assembly'])"
   ]
  },
  {
   "cell_type": "code",
   "execution_count": 7,
   "id": "023099ec-ec99-485a-abec-3159e320ed6b",
   "metadata": {},
   "outputs": [
    {
     "name": "stdout",
     "output_type": "stream",
     "text": [
      "CPU times: user 11.4 s, sys: 528 ms, total: 11.9 s\n",
      "Wall time: 12.7 s\n"
     ]
    }
   ],
   "source": [
    "%%time\n",
    "hit_genomes = (refseq_seq_assemblies[refseq_seq_assemblies['seq_id'].isin(filtered_query_targets['target'])]\n",
    "               .merge(filtered_query_targets, how='inner', left_on='seq_id', right_on='target'))"
   ]
  },
  {
   "cell_type": "code",
   "execution_count": 8,
   "id": "7c104795-22cf-4bb1-ae2d-7f020fd07b3c",
   "metadata": {},
   "outputs": [],
   "source": [
    "feature_file_dir = '../data/genome_downloads/ft/'\n",
    "feature_file_dict = {x[:13]: x for x in os.listdir(feature_file_dir) if '.txt' in x}"
   ]
  },
  {
   "cell_type": "code",
   "execution_count": 9,
   "id": "b5fb9d41-ba2e-4d7b-8ef6-0cbb4476ac2e",
   "metadata": {},
   "outputs": [],
   "source": [
    "def get_system_homologs(system, system_df, feature_file_dir=feature_file_dir, \n",
    "                        feature_file_dict=feature_file_dict, hit_genomes=hit_genomes):\n",
    "    system_size = len(system_df)\n",
    "    system_genomes = hit_genomes.loc[hit_genomes['query'].isin(system_df['product_accession'])]\n",
    "    system_genome_members = (system_genomes.groupby('assembly')\n",
    "                           .agg(n_members=('query', 'nunique'))\n",
    "                           .reset_index())\n",
    "    system_plausible_genomes = system_genome_members.loc[(system_genome_members['n_members'] == system_size), \n",
    "                                                         'assembly']\n",
    "    system_hit_list = []\n",
    "    if len(system_plausible_genomes):\n",
    "        system_genomes = system_genomes[system_genomes['assembly'].isin(system_plausible_genomes)]\n",
    "        for assembly, assembly_df in system_genomes.groupby('assembly'):\n",
    "            feature_file = feature_file_dir + feature_file_dict[assembly]\n",
    "            feature_df = pd.read_table(feature_file)\n",
    "            feature_df['attributes'] = feature_df['attributes'].astype(str)\n",
    "            filtered_feature_df = (feature_df[(feature_df['# feature'] == 'CDS') &\n",
    "                                              ~(feature_df['attributes'].str.contains('pseudo', na=False))]\n",
    "                                   .reset_index(drop=True))\n",
    "            merged_feature_df = (filtered_feature_df.reset_index()\n",
    "                                 .merge(assembly_df.drop(columns=['assembly']), how='inner', on='product_accession')\n",
    "                                 .set_index('index')\n",
    "                                 .sort_index())\n",
    "            sys_num = 0\n",
    "            for i in merged_feature_df.index:\n",
    "                window_df = merged_feature_df.loc[i:(i+system_size+1),:].copy()\n",
    "                if window_df['query'].nunique() == system_size:\n",
    "                    window_df['system'] = system \n",
    "                    window_df['assembly_system'] = system + '_' + str(sys_num)\n",
    "                    sys_num += 1\n",
    "                    system_hit_list.append(window_df)\n",
    "    if len(system_hit_list):\n",
    "        system_hit_df = pd.concat(system_hit_list)\n",
    "        return system_hit_df\n",
    "    else:\n",
    "        return None"
   ]
  },
  {
   "cell_type": "code",
   "execution_count": 10,
   "id": "54e15bb2-522e-4ae0-a288-987a94fa5c2c",
   "metadata": {},
   "outputs": [
    {
     "name": "stderr",
     "output_type": "stream",
     "text": [
      "100%|██████████| 45/45 [00:00<00:00, 69.57it/s]\n"
     ]
    },
    {
     "name": "stdout",
     "output_type": "stream",
     "text": [
      "CPU times: user 43.2 s, sys: 30.7 s, total: 1min 13s\n",
      "Wall time: 8min 53s\n"
     ]
    }
   ],
   "source": [
    "%%time\n",
    "all_system_list = Parallel(n_jobs=48)(delayed(get_system_homologs)(system, system_df)\n",
    "                                      for system, system_df in tqdm(systems_df.groupby('working_id'), \n",
    "                                                                    total=systems_df['working_id'].nunique(), \n",
    "                                                                    position=0))"
   ]
  },
  {
   "cell_type": "code",
   "execution_count": null,
   "id": "68c1d612-388b-42c4-ae21-b5b38e8c86df",
   "metadata": {},
   "outputs": [],
   "source": [
    "all_system_df = pd.concat(all_system_list)"
   ]
  },
  {
   "cell_type": "code",
   "execution_count": null,
   "id": "e61ed221-e75d-4a70-a409-3dd935730021",
   "metadata": {},
   "outputs": [],
   "source": [
    "all_system_df.to_csv('../data/interim/hit_system_refseq_homologs.csv', index=False)"
   ]
  },
  {
   "cell_type": "markdown",
   "id": "39d54511-5146-4a81-b8b2-945ae07810ab",
   "metadata": {},
   "source": [
    "## Visualize system abundance"
   ]
  },
  {
   "cell_type": "code",
   "execution_count": 29,
   "id": "50be4452-375a-4e72-aec6-3614539b7c9d",
   "metadata": {},
   "outputs": [],
   "source": [
    "all_system_df = pd.read_csv('../data/interim/hit_system_refseq_homologs.csv')\n",
    "all_system_df = all_system_df[all_system_df['system'].isin(systems_df['working_id'].unique())]"
   ]
  },
  {
   "cell_type": "code",
   "execution_count": 8,
   "id": "a840ab2f-0515-4fd7-8580-30fe937f42b1",
   "metadata": {},
   "outputs": [],
   "source": [
    "system_name_df = pd.read_csv('../data/raw/Beaker validation domains - system_display_names.csv')"
   ]
  },
  {
   "cell_type": "code",
   "execution_count": 9,
   "id": "ce0f4df4-09a5-472e-86f8-97e97ee9566d",
   "metadata": {},
   "outputs": [
    {
     "name": "stderr",
     "output_type": "stream",
     "text": [
      "/tmp/ipykernel_892426/3001054450.py:1: DtypeWarning: Columns (34,35,36) have mixed types. Specify dtype option on import or set low_memory=False.\n",
      "  ncbi_taxonomy = pd.read_csv('../data/interim/refseq_genome_summary.csv')\n"
     ]
    }
   ],
   "source": [
    "ncbi_taxonomy = pd.read_csv('../data/interim/refseq_genome_summary.csv')"
   ]
  },
  {
   "cell_type": "code",
   "execution_count": 7,
   "id": "04c13af0-8c04-49bb-b676-30a92688913d",
   "metadata": {},
   "outputs": [
    {
     "name": "stderr",
     "output_type": "stream",
     "text": [
      "/tmp/ipykernel_3627372/3281153549.py:1: ParserWarning: Falling back to the 'python' engine because the 'c' engine does not support regex separators (separators > 1 char and different from '\\s+' are interpreted as regex); you can avoid this warning by specifying engine='python'.\n",
      "  taxonomy_nodes = pd.read_table('../data/raw/nodes.dmp',\n"
     ]
    }
   ],
   "source": [
    "taxonomy_nodes = pd.read_table('../data/raw/nodes.dmp', \n",
    "                               sep='\\t\\|\\t', \n",
    "                               names=['tax_id', 'parent tax_id', 'rank', 'embl code', 'division id', \n",
    "                                      'inherited div flag', 'genetic code id', 'inherited GC flag', \n",
    "                                      'mitochondrial genetic code id', 'inherited MGC flag', \n",
    "                                      'GenBank hidden flag', 'hidden subtree root flag', 'comments'])"
   ]
  },
  {
   "cell_type": "code",
   "execution_count": 10,
   "id": "4517da54-ece0-4d6d-9ba2-64d37965875b",
   "metadata": {},
   "outputs": [
    {
     "name": "stderr",
     "output_type": "stream",
     "text": [
      "/tmp/ipykernel_892426/1187526047.py:1: ParserWarning: Falling back to the 'python' engine because the 'c' engine does not support regex separators (separators > 1 char and different from '\\s+' are interpreted as regex); you can avoid this warning by specifying engine='python'.\n",
      "  taxonomy_names = pd.read_table('../data/raw/names.dmp',\n"
     ]
    }
   ],
   "source": [
    "taxonomy_names = pd.read_table('../data/raw/names.dmp', \n",
    "                               sep='\\t\\|\\t', \n",
    "                               names=['tax_id', 'name_txt', 'unique name', 'name class'])\n",
    "taxonomy_names['name class'] = taxonomy_names['name class'].str[:-2]"
   ]
  },
  {
   "cell_type": "code",
   "execution_count": 15,
   "id": "591955d1-abcb-467e-8df1-2cac9d0b5703",
   "metadata": {},
   "outputs": [],
   "source": [
    "rep_taxonomy = ncbi_taxonomy[ncbi_taxonomy['domain'].isin(['B', 'A']) & \n",
    "                             (ncbi_taxonomy['refseq_category'] != 'na')]"
   ]
  },
  {
   "cell_type": "code",
   "execution_count": 10,
   "id": "bce69cd3-1d6c-4416-a3c3-8bb28cd0bf8e",
   "metadata": {},
   "outputs": [],
   "source": [
    "def get_taxonomy_dict(df, tax_id):\n",
    "    taxonomy_dict = {}\n",
    "    current_tax_id = tax_id\n",
    "    row = df[df['tax_id'] == current_tax_id].squeeze()\n",
    "    while row['tax_id'] != row['parent tax_id']:\n",
    "        row = df[df['tax_id'] == current_tax_id].squeeze()\n",
    "        taxonomy_dict[row['rank']] = row['tax_id']\n",
    "        current_tax_id = row['parent tax_id']\n",
    "    return taxonomy_dict"
   ]
  },
  {
   "cell_type": "code",
   "execution_count": 11,
   "id": "04555480-1192-4e8b-b05c-32e1ad3a6e1d",
   "metadata": {},
   "outputs": [
    {
     "name": "stderr",
     "output_type": "stream",
     "text": [
      "100%|██████████| 18474/18474 [02:23<00:00, 128.87it/s]\n"
     ]
    }
   ],
   "source": [
    "rep_lineage_list = list()\n",
    "for species in tqdm(rep_taxonomy['species_taxid'], position=0):\n",
    "    lineage = get_taxonomy_dict(taxonomy_nodes, species)\n",
    "    rep_lineage_list.append(lineage)"
   ]
  },
  {
   "cell_type": "code",
   "execution_count": 12,
   "id": "b0b27be3-e426-40ed-8e01-11d8410d98ff",
   "metadata": {},
   "outputs": [],
   "source": [
    "rep_lineage_df = pd.DataFrame(rep_lineage_list)"
   ]
  },
  {
   "cell_type": "code",
   "execution_count": null,
   "id": "a831a915-2fa2-4099-987d-2c66f52678d4",
   "metadata": {},
   "outputs": [],
   "source": [
    "rep_lineage_df.to_csv('../data/interim/rep_species_lineage.csv', index=False)"
   ]
  },
  {
   "cell_type": "code",
   "execution_count": 11,
   "id": "8cbba5ec-cd21-40e5-886f-5692807662e2",
   "metadata": {},
   "outputs": [],
   "source": [
    "rep_lineage_df = pd.read_csv('../data/interim/rep_species_lineage.csv')"
   ]
  },
  {
   "cell_type": "code",
   "execution_count": 12,
   "id": "a9e1a70a-f5d5-4b06-924c-fbec663bac3d",
   "metadata": {},
   "outputs": [],
   "source": [
    "scientific_names = (taxonomy_names.loc[taxonomy_names['name class'] == 'scientific name', \n",
    "                                       ['tax_id', 'name_txt']]\n",
    "                    .rename(columns={'name_txt': 'name'}))"
   ]
  },
  {
   "cell_type": "code",
   "execution_count": 13,
   "id": "67c585dd-1ba9-419c-956a-f97607911bdd",
   "metadata": {},
   "outputs": [],
   "source": [
    "top_n = 16\n",
    "top_classes = (rep_lineage_df[['class','phylum', 'superkingdom']]\n",
    "               .value_counts()\n",
    "               .head(top_n)\n",
    "               .reset_index()\n",
    "               .rename(columns={'count': 'background_count'}))\n",
    "top_classes = (top_classes\n",
    "               .merge(scientific_names.rename(columns={'name': 'class_name', \n",
    "                                                       'tax_id': 'class'}), \n",
    "                      on='class')\n",
    "               .merge(scientific_names.rename(columns={'name': 'phylum_name', \n",
    "                                                       'tax_id': 'phylum'}), \n",
    "                      on='phylum')\n",
    "               .merge(scientific_names.rename(columns={'name': 'domain_name', \n",
    "                                                       'tax_id': 'superkingdom'}), \n",
    "                      on='superkingdom')\n",
    "               .sort_values(['superkingdom', 'phylum', 'class']))\n",
    "top_classes['display_class_name'] = top_classes['class_name'] + ' (n=' + top_classes['background_count'].astype(str) + ')'\n",
    "# Add count of one for genome system was found in\n",
    "top_classes.loc[top_classes['class_name'] == 'Gammaproteobacteria', 'background_count'] += 1"
   ]
  },
  {
   "cell_type": "code",
   "execution_count": 49,
   "id": "eec6698d-31e6-4df4-bada-fa9c289fe189",
   "metadata": {},
   "outputs": [],
   "source": [
    "merged_system_df = (all_system_df\n",
    "                    .drop(columns='class')\n",
    "                    .merge(rep_taxonomy\n",
    "                                        .rename(columns={'#assembly_accession': 'assembly'}), \n",
    "                                        how='inner', on='assembly')\n",
    "                    \n",
    "                    .merge(rep_lineage_df.rename(columns={'species': 'species_taxid'}), \n",
    "                           how='inner', on='species_taxid'))"
   ]
  },
  {
   "cell_type": "code",
   "execution_count": 51,
   "id": "24448303-b42f-47c4-94ec-9b5c019ecf21",
   "metadata": {},
   "outputs": [
    {
     "data": {
      "text/html": [
       "<div>\n",
       "<style scoped>\n",
       "    .dataframe tbody tr th:only-of-type {\n",
       "        vertical-align: middle;\n",
       "    }\n",
       "\n",
       "    .dataframe tbody tr th {\n",
       "        vertical-align: top;\n",
       "    }\n",
       "\n",
       "    .dataframe thead th {\n",
       "        text-align: right;\n",
       "    }\n",
       "</style>\n",
       "<table border=\"1\" class=\"dataframe\">\n",
       "  <thead>\n",
       "    <tr style=\"text-align: right;\">\n",
       "      <th></th>\n",
       "      <th>system</th>\n",
       "      <th>gamma</th>\n",
       "      <th>n_classes</th>\n",
       "      <th>DS_name</th>\n",
       "      <th>replicated</th>\n",
       "    </tr>\n",
       "  </thead>\n",
       "  <tbody>\n",
       "    <tr>\n",
       "      <th>9</th>\n",
       "      <td>D668</td>\n",
       "      <td>True</td>\n",
       "      <td>1</td>\n",
       "      <td>DS-43</td>\n",
       "      <td>True</td>\n",
       "    </tr>\n",
       "    <tr>\n",
       "      <th>22</th>\n",
       "      <td>NTTI</td>\n",
       "      <td>True</td>\n",
       "      <td>1</td>\n",
       "      <td>DS-4</td>\n",
       "      <td>True</td>\n",
       "    </tr>\n",
       "    <tr>\n",
       "      <th>37</th>\n",
       "      <td>TMO1</td>\n",
       "      <td>True</td>\n",
       "      <td>1</td>\n",
       "      <td>DS-13</td>\n",
       "      <td>True</td>\n",
       "    </tr>\n",
       "    <tr>\n",
       "      <th>6</th>\n",
       "      <td>ANEX</td>\n",
       "      <td>True</td>\n",
       "      <td>1</td>\n",
       "      <td>DS-28</td>\n",
       "      <td>True</td>\n",
       "    </tr>\n",
       "    <tr>\n",
       "      <th>7</th>\n",
       "      <td>D295</td>\n",
       "      <td>True</td>\n",
       "      <td>2</td>\n",
       "      <td>DS-40</td>\n",
       "      <td>True</td>\n",
       "    </tr>\n",
       "    <tr>\n",
       "      <th>5</th>\n",
       "      <td>ABC3</td>\n",
       "      <td>True</td>\n",
       "      <td>3</td>\n",
       "      <td>DS-30</td>\n",
       "      <td>True</td>\n",
       "    </tr>\n",
       "    <tr>\n",
       "      <th>24</th>\n",
       "      <td>PD3A</td>\n",
       "      <td>True</td>\n",
       "      <td>4</td>\n",
       "      <td>DS-12</td>\n",
       "      <td>True</td>\n",
       "    </tr>\n",
       "    <tr>\n",
       "      <th>25</th>\n",
       "      <td>PDP4</td>\n",
       "      <td>True</td>\n",
       "      <td>4</td>\n",
       "      <td>DS-19</td>\n",
       "      <td>True</td>\n",
       "    </tr>\n",
       "    <tr>\n",
       "      <th>27</th>\n",
       "      <td>PIN8</td>\n",
       "      <td>False</td>\n",
       "      <td>4</td>\n",
       "      <td>DS-3</td>\n",
       "      <td>True</td>\n",
       "    </tr>\n",
       "    <tr>\n",
       "      <th>17</th>\n",
       "      <td>MHAD</td>\n",
       "      <td>True</td>\n",
       "      <td>4</td>\n",
       "      <td>DS-9</td>\n",
       "      <td>True</td>\n",
       "    </tr>\n",
       "    <tr>\n",
       "      <th>29</th>\n",
       "      <td>PRO1</td>\n",
       "      <td>True</td>\n",
       "      <td>4</td>\n",
       "      <td>DS-42</td>\n",
       "      <td>True</td>\n",
       "    </tr>\n",
       "    <tr>\n",
       "      <th>38</th>\n",
       "      <td>TOXO</td>\n",
       "      <td>True</td>\n",
       "      <td>5</td>\n",
       "      <td>DS-21</td>\n",
       "      <td>True</td>\n",
       "    </tr>\n",
       "    <tr>\n",
       "      <th>10</th>\n",
       "      <td>DISA</td>\n",
       "      <td>True</td>\n",
       "      <td>5</td>\n",
       "      <td>DS-2</td>\n",
       "      <td>True</td>\n",
       "    </tr>\n",
       "    <tr>\n",
       "      <th>2</th>\n",
       "      <td>AAA1</td>\n",
       "      <td>True</td>\n",
       "      <td>6</td>\n",
       "      <td>DS-15</td>\n",
       "      <td>True</td>\n",
       "    </tr>\n",
       "    <tr>\n",
       "      <th>32</th>\n",
       "      <td>RED7</td>\n",
       "      <td>True</td>\n",
       "      <td>7</td>\n",
       "      <td>DS-31</td>\n",
       "      <td>True</td>\n",
       "    </tr>\n",
       "    <tr>\n",
       "      <th>36</th>\n",
       "      <td>SVIR</td>\n",
       "      <td>True</td>\n",
       "      <td>8</td>\n",
       "      <td>DS-7</td>\n",
       "      <td>True</td>\n",
       "    </tr>\n",
       "    <tr>\n",
       "      <th>12</th>\n",
       "      <td>GNAT</td>\n",
       "      <td>True</td>\n",
       "      <td>10</td>\n",
       "      <td>DS-33</td>\n",
       "      <td>True</td>\n",
       "    </tr>\n",
       "    <tr>\n",
       "      <th>1</th>\n",
       "      <td>6602</td>\n",
       "      <td>True</td>\n",
       "      <td>10</td>\n",
       "      <td>DS-18</td>\n",
       "      <td>True</td>\n",
       "    </tr>\n",
       "    <tr>\n",
       "      <th>0</th>\n",
       "      <td>2971</td>\n",
       "      <td>True</td>\n",
       "      <td>10</td>\n",
       "      <td>DS-45</td>\n",
       "      <td>True</td>\n",
       "    </tr>\n",
       "    <tr>\n",
       "      <th>19</th>\n",
       "      <td>MVB1</td>\n",
       "      <td>True</td>\n",
       "      <td>12</td>\n",
       "      <td>DS-22</td>\n",
       "      <td>True</td>\n",
       "    </tr>\n",
       "    <tr>\n",
       "      <th>28</th>\n",
       "      <td>PLIK</td>\n",
       "      <td>True</td>\n",
       "      <td>13</td>\n",
       "      <td>DS-16</td>\n",
       "      <td>True</td>\n",
       "    </tr>\n",
       "    <tr>\n",
       "      <th>34</th>\n",
       "      <td>SC24</td>\n",
       "      <td>True</td>\n",
       "      <td>13</td>\n",
       "      <td>DS-37</td>\n",
       "      <td>True</td>\n",
       "    </tr>\n",
       "    <tr>\n",
       "      <th>20</th>\n",
       "      <td>NADR</td>\n",
       "      <td>True</td>\n",
       "      <td>14</td>\n",
       "      <td>DS-32</td>\n",
       "      <td>True</td>\n",
       "    </tr>\n",
       "    <tr>\n",
       "      <th>16</th>\n",
       "      <td>IMPD</td>\n",
       "      <td>True</td>\n",
       "      <td>14</td>\n",
       "      <td>DS-11</td>\n",
       "      <td>True</td>\n",
       "    </tr>\n",
       "    <tr>\n",
       "      <th>31</th>\n",
       "      <td>RED5</td>\n",
       "      <td>True</td>\n",
       "      <td>14</td>\n",
       "      <td>DS-35</td>\n",
       "      <td>True</td>\n",
       "    </tr>\n",
       "    <tr>\n",
       "      <th>8</th>\n",
       "      <td>D390</td>\n",
       "      <td>True</td>\n",
       "      <td>14</td>\n",
       "      <td>DS-1</td>\n",
       "      <td>True</td>\n",
       "    </tr>\n",
       "    <tr>\n",
       "      <th>30</th>\n",
       "      <td>RED2</td>\n",
       "      <td>True</td>\n",
       "      <td>15</td>\n",
       "      <td>DS-24</td>\n",
       "      <td>True</td>\n",
       "    </tr>\n",
       "    <tr>\n",
       "      <th>14</th>\n",
       "      <td>HEP3</td>\n",
       "      <td>True</td>\n",
       "      <td>16</td>\n",
       "      <td>DS-29</td>\n",
       "      <td>True</td>\n",
       "    </tr>\n",
       "    <tr>\n",
       "      <th>35</th>\n",
       "      <td>SMEK</td>\n",
       "      <td>True</td>\n",
       "      <td>17</td>\n",
       "      <td>DS-27</td>\n",
       "      <td>True</td>\n",
       "    </tr>\n",
       "    <tr>\n",
       "      <th>4</th>\n",
       "      <td>AAA5</td>\n",
       "      <td>True</td>\n",
       "      <td>21</td>\n",
       "      <td>DS-39</td>\n",
       "      <td>True</td>\n",
       "    </tr>\n",
       "    <tr>\n",
       "      <th>15</th>\n",
       "      <td>HIPA</td>\n",
       "      <td>True</td>\n",
       "      <td>21</td>\n",
       "      <td>DS-6</td>\n",
       "      <td>True</td>\n",
       "    </tr>\n",
       "    <tr>\n",
       "      <th>13</th>\n",
       "      <td>HEP2</td>\n",
       "      <td>True</td>\n",
       "      <td>21</td>\n",
       "      <td>DS-38</td>\n",
       "      <td>True</td>\n",
       "    </tr>\n",
       "    <tr>\n",
       "      <th>23</th>\n",
       "      <td>NUCS</td>\n",
       "      <td>True</td>\n",
       "      <td>22</td>\n",
       "      <td>DS-17</td>\n",
       "      <td>True</td>\n",
       "    </tr>\n",
       "    <tr>\n",
       "      <th>39</th>\n",
       "      <td>ZAPB</td>\n",
       "      <td>True</td>\n",
       "      <td>23</td>\n",
       "      <td>DS-10</td>\n",
       "      <td>True</td>\n",
       "    </tr>\n",
       "    <tr>\n",
       "      <th>33</th>\n",
       "      <td>RMOR</td>\n",
       "      <td>True</td>\n",
       "      <td>27</td>\n",
       "      <td>DS-14</td>\n",
       "      <td>True</td>\n",
       "    </tr>\n",
       "    <tr>\n",
       "      <th>21</th>\n",
       "      <td>NERD</td>\n",
       "      <td>True</td>\n",
       "      <td>28</td>\n",
       "      <td>DS-26</td>\n",
       "      <td>True</td>\n",
       "    </tr>\n",
       "    <tr>\n",
       "      <th>18</th>\n",
       "      <td>MNAC</td>\n",
       "      <td>True</td>\n",
       "      <td>29</td>\n",
       "      <td>DS-8</td>\n",
       "      <td>True</td>\n",
       "    </tr>\n",
       "    <tr>\n",
       "      <th>11</th>\n",
       "      <td>E2DP</td>\n",
       "      <td>True</td>\n",
       "      <td>30</td>\n",
       "      <td>DS-23</td>\n",
       "      <td>True</td>\n",
       "    </tr>\n",
       "    <tr>\n",
       "      <th>26</th>\n",
       "      <td>PDX1</td>\n",
       "      <td>True</td>\n",
       "      <td>32</td>\n",
       "      <td>DS-20</td>\n",
       "      <td>True</td>\n",
       "    </tr>\n",
       "    <tr>\n",
       "      <th>3</th>\n",
       "      <td>AAA2</td>\n",
       "      <td>True</td>\n",
       "      <td>76</td>\n",
       "      <td>DS-41</td>\n",
       "      <td>True</td>\n",
       "    </tr>\n",
       "  </tbody>\n",
       "</table>\n",
       "</div>"
      ],
      "text/plain": [
       "   system  gamma  n_classes DS_name  replicated\n",
       "9    D668   True          1   DS-43        True\n",
       "22   NTTI   True          1    DS-4        True\n",
       "37   TMO1   True          1   DS-13        True\n",
       "6    ANEX   True          1   DS-28        True\n",
       "7    D295   True          2   DS-40        True\n",
       "5    ABC3   True          3   DS-30        True\n",
       "24   PD3A   True          4   DS-12        True\n",
       "25   PDP4   True          4   DS-19        True\n",
       "27   PIN8  False          4    DS-3        True\n",
       "17   MHAD   True          4    DS-9        True\n",
       "29   PRO1   True          4   DS-42        True\n",
       "38   TOXO   True          5   DS-21        True\n",
       "10   DISA   True          5    DS-2        True\n",
       "2    AAA1   True          6   DS-15        True\n",
       "32   RED7   True          7   DS-31        True\n",
       "36   SVIR   True          8    DS-7        True\n",
       "12   GNAT   True         10   DS-33        True\n",
       "1    6602   True         10   DS-18        True\n",
       "0    2971   True         10   DS-45        True\n",
       "19   MVB1   True         12   DS-22        True\n",
       "28   PLIK   True         13   DS-16        True\n",
       "34   SC24   True         13   DS-37        True\n",
       "20   NADR   True         14   DS-32        True\n",
       "16   IMPD   True         14   DS-11        True\n",
       "31   RED5   True         14   DS-35        True\n",
       "8    D390   True         14    DS-1        True\n",
       "30   RED2   True         15   DS-24        True\n",
       "14   HEP3   True         16   DS-29        True\n",
       "35   SMEK   True         17   DS-27        True\n",
       "4    AAA5   True         21   DS-39        True\n",
       "15   HIPA   True         21    DS-6        True\n",
       "13   HEP2   True         21   DS-38        True\n",
       "23   NUCS   True         22   DS-17        True\n",
       "39   ZAPB   True         23   DS-10        True\n",
       "33   RMOR   True         27   DS-14        True\n",
       "21   NERD   True         28   DS-26        True\n",
       "18   MNAC   True         29    DS-8        True\n",
       "11   E2DP   True         30   DS-23        True\n",
       "26   PDX1   True         32   DS-20        True\n",
       "3    AAA2   True         76   DS-41        True"
      ]
     },
     "execution_count": 51,
     "metadata": {},
     "output_type": "execute_result"
    }
   ],
   "source": [
    "system_class_count_temp = (merged_system_df.groupby('system')\n",
    "                      .agg(gamma = ('class', lambda x: (x == 1236).any()), \n",
    "                           n_classes = ('class', 'nunique'))\n",
    "                      .reset_index()\n",
    "                           .merge(system_name_df\n",
    "                                  .rename(columns={'working_id': 'system'}))\n",
    "                      .sort_values('n_classes'))\n",
    "system_class_count_temp"
   ]
  },
  {
   "cell_type": "code",
   "execution_count": 53,
   "id": "74616c4c-3295-4b49-a0a7-71be0f22c9e8",
   "metadata": {},
   "outputs": [
    {
     "data": {
      "text/plain": [
       "4      DS-5\n",
       "32    DS-34\n",
       "Name: DS_name, dtype: object"
      ]
     },
     "execution_count": 53,
     "metadata": {},
     "output_type": "execute_result"
    }
   ],
   "source": [
    "all_system_names = system_name_df.loc[:, 'DS_name']\n",
    "all_system_names[~all_system_names.isin(system_class_count_temp['DS_name'])]"
   ]
  },
  {
   "cell_type": "code",
   "execution_count": 54,
   "id": "ceb729cd-7ddb-484d-96c0-a30ce993e72d",
   "metadata": {},
   "outputs": [
    {
     "data": {
      "text/html": [
       "<div>\n",
       "<style scoped>\n",
       "    .dataframe tbody tr th:only-of-type {\n",
       "        vertical-align: middle;\n",
       "    }\n",
       "\n",
       "    .dataframe tbody tr th {\n",
       "        vertical-align: top;\n",
       "    }\n",
       "\n",
       "    .dataframe thead th {\n",
       "        text-align: right;\n",
       "    }\n",
       "</style>\n",
       "<table border=\"1\" class=\"dataframe\">\n",
       "  <thead>\n",
       "    <tr style=\"text-align: right;\">\n",
       "      <th></th>\n",
       "      <th># feature</th>\n",
       "      <th>assembly</th>\n",
       "      <th>assembly_unit</th>\n",
       "      <th>seq_type</th>\n",
       "      <th>chromosome</th>\n",
       "      <th>genomic_accession</th>\n",
       "      <th>start</th>\n",
       "      <th>end</th>\n",
       "      <th>strand</th>\n",
       "      <th>product_accession</th>\n",
       "      <th>non-redundant_refseq</th>\n",
       "      <th>related_accession</th>\n",
       "      <th>name</th>\n",
       "      <th>symbol</th>\n",
       "      <th>GeneID</th>\n",
       "      <th>locus_tag</th>\n",
       "      <th>feature_interval_length</th>\n",
       "      <th>product_length</th>\n",
       "      <th>attributes</th>\n",
       "      <th>seq_id</th>\n",
       "      <th>seq</th>\n",
       "      <th>target</th>\n",
       "      <th>query</th>\n",
       "      <th>target_ali_len</th>\n",
       "      <th>query_ali_len</th>\n",
       "      <th>evalue</th>\n",
       "      <th>tlen</th>\n",
       "      <th>qlen</th>\n",
       "      <th>q_ali_frac</th>\n",
       "      <th>t_ali_frac</th>\n",
       "      <th>neg_log_evalue</th>\n",
       "      <th>system</th>\n",
       "      <th>assembly_system</th>\n",
       "      <th>bioproject</th>\n",
       "      <th>biosample</th>\n",
       "      <th>wgs_master</th>\n",
       "      <th>refseq_category</th>\n",
       "      <th>taxid</th>\n",
       "      <th>species_taxid</th>\n",
       "      <th>organism_name</th>\n",
       "      <th>infraspecific_name</th>\n",
       "      <th>isolate</th>\n",
       "      <th>version_status</th>\n",
       "      <th>assembly_level</th>\n",
       "      <th>release_type</th>\n",
       "      <th>genome_rep</th>\n",
       "      <th>seq_rel_date</th>\n",
       "      <th>asm_name</th>\n",
       "      <th>asm_submitter</th>\n",
       "      <th>gbrs_paired_asm</th>\n",
       "      <th>paired_asm_comp</th>\n",
       "      <th>ftp_path</th>\n",
       "      <th>excluded_from_refseq</th>\n",
       "      <th>relation_to_type_material</th>\n",
       "      <th>asm_not_live_date</th>\n",
       "      <th>assembly_type</th>\n",
       "      <th>group</th>\n",
       "      <th>genome_size</th>\n",
       "      <th>genome_size_ungapped</th>\n",
       "      <th>gc_percent</th>\n",
       "      <th>replicon_count</th>\n",
       "      <th>scaffold_count</th>\n",
       "      <th>contig_count</th>\n",
       "      <th>annotation_provider</th>\n",
       "      <th>annotation_name</th>\n",
       "      <th>annotation_date</th>\n",
       "      <th>total_gene_count</th>\n",
       "      <th>protein_coding_gene_count</th>\n",
       "      <th>non_coding_gene_count</th>\n",
       "      <th>pubmed_id</th>\n",
       "      <th>domain</th>\n",
       "      <th>species group</th>\n",
       "      <th>genus</th>\n",
       "      <th>tribe</th>\n",
       "      <th>family</th>\n",
       "      <th>order</th>\n",
       "      <th>class</th>\n",
       "      <th>phylum</th>\n",
       "      <th>superkingdom</th>\n",
       "      <th>no rank</th>\n",
       "      <th>clade</th>\n",
       "      <th>subclass</th>\n",
       "      <th>suborder</th>\n",
       "      <th>species subgroup</th>\n",
       "      <th>subfamily</th>\n",
       "      <th>subgenus</th>\n",
       "      <th>kingdom</th>\n",
       "    </tr>\n",
       "  </thead>\n",
       "  <tbody>\n",
       "    <tr>\n",
       "      <th>7641</th>\n",
       "      <td>CDS</td>\n",
       "      <td>GCF_001047375.1</td>\n",
       "      <td>Primary Assembly</td>\n",
       "      <td>unplaced scaffold</td>\n",
       "      <td>NaN</td>\n",
       "      <td>NZ_LFVU01000003.1</td>\n",
       "      <td>102327</td>\n",
       "      <td>103898</td>\n",
       "      <td>-</td>\n",
       "      <td>WP_048569448.1</td>\n",
       "      <td>WP_048569448.1</td>\n",
       "      <td>NaN</td>\n",
       "      <td>hypothetical protein</td>\n",
       "      <td>NaN</td>\n",
       "      <td>NaN</td>\n",
       "      <td>CLCY_RS01900</td>\n",
       "      <td>1572</td>\n",
       "      <td>523.0</td>\n",
       "      <td>NaN</td>\n",
       "      <td>720879719017fc3d26a1f7c820b5c04ca97abdda4b9680...</td>\n",
       "      <td>MSKTDEVVGFLSKYSLEDVLSGIIEMQMLLYGQGVDSLISASEYFV...</td>\n",
       "      <td>720879719017fc3d26a1f7c820b5c04ca97abdda4b9680...</td>\n",
       "      <td>WP_054626965.1</td>\n",
       "      <td>515.0</td>\n",
       "      <td>466.0</td>\n",
       "      <td>2.700000e-27</td>\n",
       "      <td>523.0</td>\n",
       "      <td>525.0</td>\n",
       "      <td>0.887619</td>\n",
       "      <td>0.984704</td>\n",
       "      <td>26.568636</td>\n",
       "      <td>NERD</td>\n",
       "      <td>NERD_0</td>\n",
       "      <td>PRJNA224116</td>\n",
       "      <td>SAMN03794733</td>\n",
       "      <td>LFVU00000000.1</td>\n",
       "      <td>representative genome</td>\n",
       "      <td>1121307</td>\n",
       "      <td>1495</td>\n",
       "      <td>Clostridium cylindrosporum DSM 605</td>\n",
       "      <td>strain=DSM 605</td>\n",
       "      <td>na</td>\n",
       "      <td>latest</td>\n",
       "      <td>Contig</td>\n",
       "      <td>Major</td>\n",
       "      <td>Full</td>\n",
       "      <td>2015/07/07</td>\n",
       "      <td>ASM104737v1</td>\n",
       "      <td>Goettingen Genomics Laboratory</td>\n",
       "      <td>GCA_001047375.1</td>\n",
       "      <td>identical</td>\n",
       "      <td>https://ftp.ncbi.nlm.nih.gov/genomes/all/GCF/0...</td>\n",
       "      <td>na</td>\n",
       "      <td>assembly from type material</td>\n",
       "      <td>na</td>\n",
       "      <td>haploid</td>\n",
       "      <td>bacteria</td>\n",
       "      <td>2735032</td>\n",
       "      <td>2735032</td>\n",
       "      <td>31.5</td>\n",
       "      <td>0</td>\n",
       "      <td>28</td>\n",
       "      <td>28</td>\n",
       "      <td>NCBI RefSeq</td>\n",
       "      <td>GCF_001047375.1-RS_2024_04_12</td>\n",
       "      <td>2024/04/12</td>\n",
       "      <td>2708</td>\n",
       "      <td>2613</td>\n",
       "      <td>81</td>\n",
       "      <td>26272578</td>\n",
       "      <td>B</td>\n",
       "      <td>NaN</td>\n",
       "      <td>1485.0</td>\n",
       "      <td>NaN</td>\n",
       "      <td>31979.0</td>\n",
       "      <td>186802.0</td>\n",
       "      <td>186801.0</td>\n",
       "      <td>1239.0</td>\n",
       "      <td>2</td>\n",
       "      <td>1</td>\n",
       "      <td>1783272.0</td>\n",
       "      <td>NaN</td>\n",
       "      <td>NaN</td>\n",
       "      <td>NaN</td>\n",
       "      <td>NaN</td>\n",
       "      <td>NaN</td>\n",
       "      <td>NaN</td>\n",
       "    </tr>\n",
       "    <tr>\n",
       "      <th>962</th>\n",
       "      <td>CDS</td>\n",
       "      <td>GCF_000761485.1</td>\n",
       "      <td>Primary Assembly</td>\n",
       "      <td>unplaced scaffold</td>\n",
       "      <td>NaN</td>\n",
       "      <td>NZ_JPMX01000003.1</td>\n",
       "      <td>122942</td>\n",
       "      <td>124852</td>\n",
       "      <td>-</td>\n",
       "      <td>WP_156118988.1</td>\n",
       "      <td>WP_156118988.1</td>\n",
       "      <td>NaN</td>\n",
       "      <td>hypothetical protein</td>\n",
       "      <td>NaN</td>\n",
       "      <td>NaN</td>\n",
       "      <td>IN07_RS01255</td>\n",
       "      <td>1911</td>\n",
       "      <td>636.0</td>\n",
       "      <td>NaN</td>\n",
       "      <td>674589e78c3302bc887f2257870bf40154fcc7d0947913...</td>\n",
       "      <td>MQARQPGTSAQLRVQLARLRTVFAGRETGAVRTHLTPITDGQVMVT...</td>\n",
       "      <td>674589e78c3302bc887f2257870bf40154fcc7d0947913...</td>\n",
       "      <td>WP_054626965.1</td>\n",
       "      <td>538.0</td>\n",
       "      <td>482.0</td>\n",
       "      <td>3.000000e-48</td>\n",
       "      <td>636.0</td>\n",
       "      <td>525.0</td>\n",
       "      <td>0.918095</td>\n",
       "      <td>0.845912</td>\n",
       "      <td>47.522879</td>\n",
       "      <td>NERD</td>\n",
       "      <td>NERD_0</td>\n",
       "      <td>PRJNA224116</td>\n",
       "      <td>SAMN02918181</td>\n",
       "      <td>JPMX00000000.1</td>\n",
       "      <td>representative genome</td>\n",
       "      <td>1522368</td>\n",
       "      <td>1522368</td>\n",
       "      <td>Modestobacter caceresii</td>\n",
       "      <td>strain=KNN 45-2b</td>\n",
       "      <td>na</td>\n",
       "      <td>latest</td>\n",
       "      <td>Scaffold</td>\n",
       "      <td>Major</td>\n",
       "      <td>Full</td>\n",
       "      <td>2014/10/01</td>\n",
       "      <td>ASM76148v1</td>\n",
       "      <td>Institute of Biology, Leiden University</td>\n",
       "      <td>GCA_000761485.1</td>\n",
       "      <td>identical</td>\n",
       "      <td>https://ftp.ncbi.nlm.nih.gov/genomes/all/GCF/0...</td>\n",
       "      <td>na</td>\n",
       "      <td>assembly from type material</td>\n",
       "      <td>na</td>\n",
       "      <td>haploid</td>\n",
       "      <td>bacteria</td>\n",
       "      <td>4953652</td>\n",
       "      <td>4948700</td>\n",
       "      <td>73.5</td>\n",
       "      <td>0</td>\n",
       "      <td>139</td>\n",
       "      <td>139</td>\n",
       "      <td>NCBI RefSeq</td>\n",
       "      <td>NCBI Prokaryotic Genome Annotation Pipeline (P...</td>\n",
       "      <td>2024/02/11</td>\n",
       "      <td>4795</td>\n",
       "      <td>4675</td>\n",
       "      <td>54</td>\n",
       "      <td>na</td>\n",
       "      <td>B</td>\n",
       "      <td>NaN</td>\n",
       "      <td>88138.0</td>\n",
       "      <td>NaN</td>\n",
       "      <td>85030.0</td>\n",
       "      <td>1643682.0</td>\n",
       "      <td>1760.0</td>\n",
       "      <td>201174.0</td>\n",
       "      <td>2</td>\n",
       "      <td>1</td>\n",
       "      <td>1783272.0</td>\n",
       "      <td>NaN</td>\n",
       "      <td>NaN</td>\n",
       "      <td>NaN</td>\n",
       "      <td>NaN</td>\n",
       "      <td>NaN</td>\n",
       "      <td>NaN</td>\n",
       "    </tr>\n",
       "    <tr>\n",
       "      <th>7624</th>\n",
       "      <td>CDS</td>\n",
       "      <td>GCF_000521505.1</td>\n",
       "      <td>Primary Assembly</td>\n",
       "      <td>chromosome</td>\n",
       "      <td>NaN</td>\n",
       "      <td>NZ_CP003915.1</td>\n",
       "      <td>865220</td>\n",
       "      <td>866785</td>\n",
       "      <td>+</td>\n",
       "      <td>WP_025371473.1</td>\n",
       "      <td>WP_025371473.1</td>\n",
       "      <td>NaN</td>\n",
       "      <td>hypothetical protein</td>\n",
       "      <td>NaN</td>\n",
       "      <td>NaN</td>\n",
       "      <td>MIM_RS03995</td>\n",
       "      <td>1566</td>\n",
       "      <td>521.0</td>\n",
       "      <td>NaN</td>\n",
       "      <td>448045d904be16f93b9875b176dc6e565c377f0cb327ad...</td>\n",
       "      <td>MVKFSDQIYQQKLKKIKRELNKFLSRTDDKLFLQFMWSINTLQTEF...</td>\n",
       "      <td>448045d904be16f93b9875b176dc6e565c377f0cb327ad...</td>\n",
       "      <td>WP_054626965.1</td>\n",
       "      <td>509.0</td>\n",
       "      <td>462.0</td>\n",
       "      <td>2.100000e-82</td>\n",
       "      <td>521.0</td>\n",
       "      <td>525.0</td>\n",
       "      <td>0.880000</td>\n",
       "      <td>0.976967</td>\n",
       "      <td>81.677781</td>\n",
       "      <td>NERD</td>\n",
       "      <td>NERD_0</td>\n",
       "      <td>PRJNA224116</td>\n",
       "      <td>SAMN02641504</td>\n",
       "      <td>na</td>\n",
       "      <td>representative genome</td>\n",
       "      <td>1247726</td>\n",
       "      <td>302406</td>\n",
       "      <td>Advenella mimigardefordensis DPN7</td>\n",
       "      <td>strain=DPN7</td>\n",
       "      <td>na</td>\n",
       "      <td>latest</td>\n",
       "      <td>Complete Genome</td>\n",
       "      <td>Major</td>\n",
       "      <td>Full</td>\n",
       "      <td>2014/01/22</td>\n",
       "      <td>ASM52150v1</td>\n",
       "      <td>Georg-August-University Goettingen, Genomic an...</td>\n",
       "      <td>GCA_000521505.1</td>\n",
       "      <td>identical</td>\n",
       "      <td>https://ftp.ncbi.nlm.nih.gov/genomes/all/GCF/0...</td>\n",
       "      <td>na</td>\n",
       "      <td>assembly from type material</td>\n",
       "      <td>na</td>\n",
       "      <td>haploid</td>\n",
       "      <td>bacteria</td>\n",
       "      <td>4764126</td>\n",
       "      <td>4764126</td>\n",
       "      <td>54.0</td>\n",
       "      <td>2</td>\n",
       "      <td>2</td>\n",
       "      <td>2</td>\n",
       "      <td>NCBI RefSeq</td>\n",
       "      <td>NCBI Prokaryotic Genome Annotation Pipeline (P...</td>\n",
       "      <td>2023/12/24</td>\n",
       "      <td>4380</td>\n",
       "      <td>4289</td>\n",
       "      <td>51</td>\n",
       "      <td>24739217</td>\n",
       "      <td>B</td>\n",
       "      <td>NaN</td>\n",
       "      <td>290425.0</td>\n",
       "      <td>NaN</td>\n",
       "      <td>506.0</td>\n",
       "      <td>80840.0</td>\n",
       "      <td>28216.0</td>\n",
       "      <td>1224.0</td>\n",
       "      <td>2</td>\n",
       "      <td>1</td>\n",
       "      <td>NaN</td>\n",
       "      <td>NaN</td>\n",
       "      <td>NaN</td>\n",
       "      <td>NaN</td>\n",
       "      <td>NaN</td>\n",
       "      <td>NaN</td>\n",
       "      <td>NaN</td>\n",
       "    </tr>\n",
       "    <tr>\n",
       "      <th>7776</th>\n",
       "      <td>CDS</td>\n",
       "      <td>GCF_016863455.1</td>\n",
       "      <td>Primary Assembly</td>\n",
       "      <td>unplaced scaffold</td>\n",
       "      <td>NaN</td>\n",
       "      <td>NZ_BOOX01000002.1</td>\n",
       "      <td>290737</td>\n",
       "      <td>292173</td>\n",
       "      <td>-</td>\n",
       "      <td>WP_157802547.1</td>\n",
       "      <td>WP_157802547.1</td>\n",
       "      <td>NaN</td>\n",
       "      <td>hypothetical protein</td>\n",
       "      <td>NaN</td>\n",
       "      <td>NaN</td>\n",
       "      <td>Slu03_RS03005</td>\n",
       "      <td>1437</td>\n",
       "      <td>478.0</td>\n",
       "      <td>NaN</td>\n",
       "      <td>e07e26b0e810955be2d9c150f3fb92742619663b6f2194...</td>\n",
       "      <td>MDRDTLLIEAAGATAAIARGEFDENHAKSGLTPWTIGDVARTALAW...</td>\n",
       "      <td>e07e26b0e810955be2d9c150f3fb92742619663b6f2194...</td>\n",
       "      <td>WP_054626965.1</td>\n",
       "      <td>475.0</td>\n",
       "      <td>464.0</td>\n",
       "      <td>3.000000e-59</td>\n",
       "      <td>478.0</td>\n",
       "      <td>525.0</td>\n",
       "      <td>0.883810</td>\n",
       "      <td>0.993724</td>\n",
       "      <td>58.522879</td>\n",
       "      <td>NERD</td>\n",
       "      <td>NERD_0</td>\n",
       "      <td>PRJNA224116</td>\n",
       "      <td>SAMD00233771</td>\n",
       "      <td>BOOX00000000.1</td>\n",
       "      <td>representative genome</td>\n",
       "      <td>1138585</td>\n",
       "      <td>1138585</td>\n",
       "      <td>Sediminihabitans luteus</td>\n",
       "      <td>strain=NBRC 108568</td>\n",
       "      <td>na</td>\n",
       "      <td>latest</td>\n",
       "      <td>Contig</td>\n",
       "      <td>Major</td>\n",
       "      <td>Full</td>\n",
       "      <td>2021/01/29</td>\n",
       "      <td>ASM1686345v1</td>\n",
       "      <td>Biological Resource Center, National Institute...</td>\n",
       "      <td>GCA_016863455.1</td>\n",
       "      <td>identical</td>\n",
       "      <td>https://ftp.ncbi.nlm.nih.gov/genomes/all/GCF/0...</td>\n",
       "      <td>na</td>\n",
       "      <td>assembly from type material</td>\n",
       "      <td>na</td>\n",
       "      <td>haploid</td>\n",
       "      <td>bacteria</td>\n",
       "      <td>3418599</td>\n",
       "      <td>3418599</td>\n",
       "      <td>73.5</td>\n",
       "      <td>0</td>\n",
       "      <td>31</td>\n",
       "      <td>31</td>\n",
       "      <td>NCBI RefSeq</td>\n",
       "      <td>NCBI Prokaryotic Genome Annotation Pipeline (P...</td>\n",
       "      <td>2023/09/03</td>\n",
       "      <td>3069</td>\n",
       "      <td>2995</td>\n",
       "      <td>52</td>\n",
       "      <td>na</td>\n",
       "      <td>B</td>\n",
       "      <td>NaN</td>\n",
       "      <td>1217414.0</td>\n",
       "      <td>NaN</td>\n",
       "      <td>85016.0</td>\n",
       "      <td>85006.0</td>\n",
       "      <td>1760.0</td>\n",
       "      <td>201174.0</td>\n",
       "      <td>2</td>\n",
       "      <td>1</td>\n",
       "      <td>1783272.0</td>\n",
       "      <td>NaN</td>\n",
       "      <td>NaN</td>\n",
       "      <td>NaN</td>\n",
       "      <td>NaN</td>\n",
       "      <td>NaN</td>\n",
       "      <td>NaN</td>\n",
       "    </tr>\n",
       "    <tr>\n",
       "      <th>7844</th>\n",
       "      <td>CDS</td>\n",
       "      <td>GCF_902859875.1</td>\n",
       "      <td>Primary Assembly</td>\n",
       "      <td>unplaced scaffold</td>\n",
       "      <td>NaN</td>\n",
       "      <td>NZ_CADIKF010000071.1</td>\n",
       "      <td>10309</td>\n",
       "      <td>12039</td>\n",
       "      <td>-</td>\n",
       "      <td>WP_175114912.1</td>\n",
       "      <td>WP_175114912.1</td>\n",
       "      <td>NaN</td>\n",
       "      <td>hypothetical protein</td>\n",
       "      <td>NaN</td>\n",
       "      <td>NaN</td>\n",
       "      <td>HV675_RS29075</td>\n",
       "      <td>1731</td>\n",
       "      <td>576.0</td>\n",
       "      <td>NaN</td>\n",
       "      <td>99496cf057acc37a99825edbd80b8c0f03f1331e48c470...</td>\n",
       "      <td>MRDIGEFINRIPDNPLRSRVRKRRAEAIIKRAERCYRIGYRNFSQR...</td>\n",
       "      <td>99496cf057acc37a99825edbd80b8c0f03f1331e48c470...</td>\n",
       "      <td>WP_054626965.1</td>\n",
       "      <td>507.0</td>\n",
       "      <td>498.0</td>\n",
       "      <td>1.900000e-95</td>\n",
       "      <td>576.0</td>\n",
       "      <td>525.0</td>\n",
       "      <td>0.948571</td>\n",
       "      <td>0.880208</td>\n",
       "      <td>94.721246</td>\n",
       "      <td>NERD</td>\n",
       "      <td>NERD_0</td>\n",
       "      <td>PRJNA224116</td>\n",
       "      <td>SAMEA6678274</td>\n",
       "      <td>CADIKF000000000.1</td>\n",
       "      <td>representative genome</td>\n",
       "      <td>624376</td>\n",
       "      <td>624376</td>\n",
       "      <td>Paraburkholderia solisilvae</td>\n",
       "      <td>strain=LMG 29739</td>\n",
       "      <td>LMG 29739</td>\n",
       "      <td>latest</td>\n",
       "      <td>Contig</td>\n",
       "      <td>Major</td>\n",
       "      <td>Full</td>\n",
       "      <td>2020/05/07</td>\n",
       "      <td>LMG 29739</td>\n",
       "      <td>GHENT UNIVERSITY</td>\n",
       "      <td>GCA_902859875.1</td>\n",
       "      <td>identical</td>\n",
       "      <td>https://ftp.ncbi.nlm.nih.gov/genomes/all/GCF/9...</td>\n",
       "      <td>na</td>\n",
       "      <td>na</td>\n",
       "      <td>na</td>\n",
       "      <td>haploid</td>\n",
       "      <td>bacteria</td>\n",
       "      <td>7299624</td>\n",
       "      <td>7299624</td>\n",
       "      <td>63.5</td>\n",
       "      <td>0</td>\n",
       "      <td>145</td>\n",
       "      <td>145</td>\n",
       "      <td>NCBI RefSeq</td>\n",
       "      <td>GCF_902859875.1-RS_2024_05_05</td>\n",
       "      <td>2024/05/05</td>\n",
       "      <td>6466</td>\n",
       "      <td>6270</td>\n",
       "      <td>57</td>\n",
       "      <td>na</td>\n",
       "      <td>B</td>\n",
       "      <td>NaN</td>\n",
       "      <td>1822464.0</td>\n",
       "      <td>NaN</td>\n",
       "      <td>119060.0</td>\n",
       "      <td>80840.0</td>\n",
       "      <td>28216.0</td>\n",
       "      <td>1224.0</td>\n",
       "      <td>2</td>\n",
       "      <td>1</td>\n",
       "      <td>NaN</td>\n",
       "      <td>NaN</td>\n",
       "      <td>NaN</td>\n",
       "      <td>NaN</td>\n",
       "      <td>NaN</td>\n",
       "      <td>NaN</td>\n",
       "      <td>NaN</td>\n",
       "    </tr>\n",
       "  </tbody>\n",
       "</table>\n",
       "</div>"
      ],
      "text/plain": [
       "     # feature         assembly     assembly_unit           seq_type   \n",
       "7641       CDS  GCF_001047375.1  Primary Assembly  unplaced scaffold  \\\n",
       "962        CDS  GCF_000761485.1  Primary Assembly  unplaced scaffold   \n",
       "7624       CDS  GCF_000521505.1  Primary Assembly         chromosome   \n",
       "7776       CDS  GCF_016863455.1  Primary Assembly  unplaced scaffold   \n",
       "7844       CDS  GCF_902859875.1  Primary Assembly  unplaced scaffold   \n",
       "\n",
       "     chromosome     genomic_accession   start     end strand   \n",
       "7641        NaN     NZ_LFVU01000003.1  102327  103898      -  \\\n",
       "962         NaN     NZ_JPMX01000003.1  122942  124852      -   \n",
       "7624        NaN         NZ_CP003915.1  865220  866785      +   \n",
       "7776        NaN     NZ_BOOX01000002.1  290737  292173      -   \n",
       "7844        NaN  NZ_CADIKF010000071.1   10309   12039      -   \n",
       "\n",
       "     product_accession non-redundant_refseq  related_accession   \n",
       "7641    WP_048569448.1       WP_048569448.1                NaN  \\\n",
       "962     WP_156118988.1       WP_156118988.1                NaN   \n",
       "7624    WP_025371473.1       WP_025371473.1                NaN   \n",
       "7776    WP_157802547.1       WP_157802547.1                NaN   \n",
       "7844    WP_175114912.1       WP_175114912.1                NaN   \n",
       "\n",
       "                      name symbol  GeneID      locus_tag   \n",
       "7641  hypothetical protein    NaN     NaN   CLCY_RS01900  \\\n",
       "962   hypothetical protein    NaN     NaN   IN07_RS01255   \n",
       "7624  hypothetical protein    NaN     NaN    MIM_RS03995   \n",
       "7776  hypothetical protein    NaN     NaN  Slu03_RS03005   \n",
       "7844  hypothetical protein    NaN     NaN  HV675_RS29075   \n",
       "\n",
       "      feature_interval_length  product_length attributes   \n",
       "7641                     1572           523.0        NaN  \\\n",
       "962                      1911           636.0        NaN   \n",
       "7624                     1566           521.0        NaN   \n",
       "7776                     1437           478.0        NaN   \n",
       "7844                     1731           576.0        NaN   \n",
       "\n",
       "                                                 seq_id   \n",
       "7641  720879719017fc3d26a1f7c820b5c04ca97abdda4b9680...  \\\n",
       "962   674589e78c3302bc887f2257870bf40154fcc7d0947913...   \n",
       "7624  448045d904be16f93b9875b176dc6e565c377f0cb327ad...   \n",
       "7776  e07e26b0e810955be2d9c150f3fb92742619663b6f2194...   \n",
       "7844  99496cf057acc37a99825edbd80b8c0f03f1331e48c470...   \n",
       "\n",
       "                                                    seq   \n",
       "7641  MSKTDEVVGFLSKYSLEDVLSGIIEMQMLLYGQGVDSLISASEYFV...  \\\n",
       "962   MQARQPGTSAQLRVQLARLRTVFAGRETGAVRTHLTPITDGQVMVT...   \n",
       "7624  MVKFSDQIYQQKLKKIKRELNKFLSRTDDKLFLQFMWSINTLQTEF...   \n",
       "7776  MDRDTLLIEAAGATAAIARGEFDENHAKSGLTPWTIGDVARTALAW...   \n",
       "7844  MRDIGEFINRIPDNPLRSRVRKRRAEAIIKRAERCYRIGYRNFSQR...   \n",
       "\n",
       "                                                 target           query   \n",
       "7641  720879719017fc3d26a1f7c820b5c04ca97abdda4b9680...  WP_054626965.1  \\\n",
       "962   674589e78c3302bc887f2257870bf40154fcc7d0947913...  WP_054626965.1   \n",
       "7624  448045d904be16f93b9875b176dc6e565c377f0cb327ad...  WP_054626965.1   \n",
       "7776  e07e26b0e810955be2d9c150f3fb92742619663b6f2194...  WP_054626965.1   \n",
       "7844  99496cf057acc37a99825edbd80b8c0f03f1331e48c470...  WP_054626965.1   \n",
       "\n",
       "      target_ali_len  query_ali_len        evalue   tlen   qlen  q_ali_frac   \n",
       "7641           515.0          466.0  2.700000e-27  523.0  525.0    0.887619  \\\n",
       "962            538.0          482.0  3.000000e-48  636.0  525.0    0.918095   \n",
       "7624           509.0          462.0  2.100000e-82  521.0  525.0    0.880000   \n",
       "7776           475.0          464.0  3.000000e-59  478.0  525.0    0.883810   \n",
       "7844           507.0          498.0  1.900000e-95  576.0  525.0    0.948571   \n",
       "\n",
       "      t_ali_frac  neg_log_evalue system assembly_system   bioproject   \n",
       "7641    0.984704       26.568636   NERD          NERD_0  PRJNA224116  \\\n",
       "962     0.845912       47.522879   NERD          NERD_0  PRJNA224116   \n",
       "7624    0.976967       81.677781   NERD          NERD_0  PRJNA224116   \n",
       "7776    0.993724       58.522879   NERD          NERD_0  PRJNA224116   \n",
       "7844    0.880208       94.721246   NERD          NERD_0  PRJNA224116   \n",
       "\n",
       "         biosample         wgs_master        refseq_category    taxid   \n",
       "7641  SAMN03794733     LFVU00000000.1  representative genome  1121307  \\\n",
       "962   SAMN02918181     JPMX00000000.1  representative genome  1522368   \n",
       "7624  SAMN02641504                 na  representative genome  1247726   \n",
       "7776  SAMD00233771     BOOX00000000.1  representative genome  1138585   \n",
       "7844  SAMEA6678274  CADIKF000000000.1  representative genome   624376   \n",
       "\n",
       "      species_taxid                       organism_name  infraspecific_name   \n",
       "7641           1495  Clostridium cylindrosporum DSM 605      strain=DSM 605  \\\n",
       "962         1522368             Modestobacter caceresii    strain=KNN 45-2b   \n",
       "7624         302406   Advenella mimigardefordensis DPN7         strain=DPN7   \n",
       "7776        1138585             Sediminihabitans luteus  strain=NBRC 108568   \n",
       "7844         624376         Paraburkholderia solisilvae    strain=LMG 29739   \n",
       "\n",
       "        isolate version_status   assembly_level release_type genome_rep   \n",
       "7641         na         latest           Contig        Major       Full  \\\n",
       "962          na         latest         Scaffold        Major       Full   \n",
       "7624         na         latest  Complete Genome        Major       Full   \n",
       "7776         na         latest           Contig        Major       Full   \n",
       "7844  LMG 29739         latest           Contig        Major       Full   \n",
       "\n",
       "     seq_rel_date      asm_name   \n",
       "7641   2015/07/07   ASM104737v1  \\\n",
       "962    2014/10/01    ASM76148v1   \n",
       "7624   2014/01/22    ASM52150v1   \n",
       "7776   2021/01/29  ASM1686345v1   \n",
       "7844   2020/05/07     LMG 29739   \n",
       "\n",
       "                                          asm_submitter  gbrs_paired_asm   \n",
       "7641                     Goettingen Genomics Laboratory  GCA_001047375.1  \\\n",
       "962             Institute of Biology, Leiden University  GCA_000761485.1   \n",
       "7624  Georg-August-University Goettingen, Genomic an...  GCA_000521505.1   \n",
       "7776  Biological Resource Center, National Institute...  GCA_016863455.1   \n",
       "7844                                   GHENT UNIVERSITY  GCA_902859875.1   \n",
       "\n",
       "     paired_asm_comp                                           ftp_path   \n",
       "7641       identical  https://ftp.ncbi.nlm.nih.gov/genomes/all/GCF/0...  \\\n",
       "962        identical  https://ftp.ncbi.nlm.nih.gov/genomes/all/GCF/0...   \n",
       "7624       identical  https://ftp.ncbi.nlm.nih.gov/genomes/all/GCF/0...   \n",
       "7776       identical  https://ftp.ncbi.nlm.nih.gov/genomes/all/GCF/0...   \n",
       "7844       identical  https://ftp.ncbi.nlm.nih.gov/genomes/all/GCF/9...   \n",
       "\n",
       "     excluded_from_refseq    relation_to_type_material asm_not_live_date   \n",
       "7641                   na  assembly from type material                na  \\\n",
       "962                    na  assembly from type material                na   \n",
       "7624                   na  assembly from type material                na   \n",
       "7776                   na  assembly from type material                na   \n",
       "7844                   na                           na                na   \n",
       "\n",
       "     assembly_type     group  genome_size  genome_size_ungapped  gc_percent   \n",
       "7641       haploid  bacteria      2735032               2735032        31.5  \\\n",
       "962        haploid  bacteria      4953652               4948700        73.5   \n",
       "7624       haploid  bacteria      4764126               4764126        54.0   \n",
       "7776       haploid  bacteria      3418599               3418599        73.5   \n",
       "7844       haploid  bacteria      7299624               7299624        63.5   \n",
       "\n",
       "      replicon_count  scaffold_count  contig_count annotation_provider   \n",
       "7641               0              28            28         NCBI RefSeq  \\\n",
       "962                0             139           139         NCBI RefSeq   \n",
       "7624               2               2             2         NCBI RefSeq   \n",
       "7776               0              31            31         NCBI RefSeq   \n",
       "7844               0             145           145         NCBI RefSeq   \n",
       "\n",
       "                                        annotation_name annotation_date   \n",
       "7641                      GCF_001047375.1-RS_2024_04_12      2024/04/12  \\\n",
       "962   NCBI Prokaryotic Genome Annotation Pipeline (P...      2024/02/11   \n",
       "7624  NCBI Prokaryotic Genome Annotation Pipeline (P...      2023/12/24   \n",
       "7776  NCBI Prokaryotic Genome Annotation Pipeline (P...      2023/09/03   \n",
       "7844                      GCF_902859875.1-RS_2024_05_05      2024/05/05   \n",
       "\n",
       "     total_gene_count protein_coding_gene_count non_coding_gene_count   \n",
       "7641             2708                      2613                    81  \\\n",
       "962              4795                      4675                    54   \n",
       "7624             4380                      4289                    51   \n",
       "7776             3069                      2995                    52   \n",
       "7844             6466                      6270                    57   \n",
       "\n",
       "     pubmed_id domain  species group      genus  tribe    family      order   \n",
       "7641  26272578      B            NaN     1485.0    NaN   31979.0   186802.0  \\\n",
       "962         na      B            NaN    88138.0    NaN   85030.0  1643682.0   \n",
       "7624  24739217      B            NaN   290425.0    NaN     506.0    80840.0   \n",
       "7776        na      B            NaN  1217414.0    NaN   85016.0    85006.0   \n",
       "7844        na      B            NaN  1822464.0    NaN  119060.0    80840.0   \n",
       "\n",
       "         class    phylum  superkingdom  no rank      clade  subclass   \n",
       "7641  186801.0    1239.0             2        1  1783272.0       NaN  \\\n",
       "962     1760.0  201174.0             2        1  1783272.0       NaN   \n",
       "7624   28216.0    1224.0             2        1        NaN       NaN   \n",
       "7776    1760.0  201174.0             2        1  1783272.0       NaN   \n",
       "7844   28216.0    1224.0             2        1        NaN       NaN   \n",
       "\n",
       "      suborder  species subgroup  subfamily  subgenus  kingdom  \n",
       "7641       NaN               NaN        NaN       NaN      NaN  \n",
       "962        NaN               NaN        NaN       NaN      NaN  \n",
       "7624       NaN               NaN        NaN       NaN      NaN  \n",
       "7776       NaN               NaN        NaN       NaN      NaN  \n",
       "7844       NaN               NaN        NaN       NaN      NaN  "
      ]
     },
     "execution_count": 54,
     "metadata": {},
     "output_type": "execute_result"
    }
   ],
   "source": [
    "pd.set_option('display.max_columns', 100)\n",
    "merged_system_df[merged_system_df['system'] == 'NERD'].sample(5, random_state=7)"
   ]
  },
  {
   "cell_type": "code",
   "execution_count": 56,
   "id": "abfe88d0-b99c-49cd-9629-17b7fa8ec3bb",
   "metadata": {},
   "outputs": [],
   "source": [
    "system_class_count = (merged_system_df\n",
    "                      .groupby(['system', 'class'])\n",
    "                      .agg(system_count=('assembly', 'nunique'))\n",
    "                      .reset_index())\n",
    "existing_gamma_systems = system_class_count.loc[system_class_count['class'] == 1236,'system'].to_list()\n",
    "missing_gamma_systems = [x for x in system_name_df.loc[:, \n",
    "                                                       'working_id'] if x not in existing_gamma_systems]\n",
    "system_class_count = pd.concat([system_class_count, \n",
    "                                pd.DataFrame([{'system': x,  \n",
    "                                               'class': 1236,\n",
    "                                               'system_count': 1} for x in missing_gamma_systems])])"
   ]
  },
  {
   "cell_type": "code",
   "execution_count": 57,
   "id": "9e54786a",
   "metadata": {},
   "outputs": [
    {
     "data": {
      "text/plain": [
       "['PIN8', 'PN12', 'CITO']"
      ]
     },
     "execution_count": 57,
     "metadata": {},
     "output_type": "execute_result"
    }
   ],
   "source": [
    "missing_gamma_systems"
   ]
  },
  {
   "cell_type": "code",
   "execution_count": 58,
   "id": "d4114404-e5f2-40ca-89a1-f43cc85d4aa5",
   "metadata": {},
   "outputs": [],
   "source": [
    "system_total_counts = (system_class_count.groupby('system')\n",
    "                       .agg(total_system_count=('system_count', 'sum'))\n",
    "                       .reset_index())"
   ]
  },
  {
   "cell_type": "code",
   "execution_count": 59,
   "id": "59430ff5-04ce-45bb-94d0-f7c129130c3d",
   "metadata": {},
   "outputs": [],
   "source": [
    "merged_system_class_count = (top_classes\n",
    "                             .merge(system_class_count.rename(columns={'count': 'system_count'}), \n",
    "                                    how='inner', on='class')\n",
    "                             .merge(system_total_counts, how='inner', on='system'))\n",
    "merged_system_class_count['system_frac'] = merged_system_class_count['system_count']/merged_system_class_count['background_count']\n",
    "merged_system_class_count['log_frac'] = np.log10(merged_system_class_count['system_frac'])\n",
    "merged_system_class_count['display_class_name'] = pd.Categorical(merged_system_class_count['display_class_name'], \n",
    "                                                    categories=top_classes['display_class_name'])\n",
    "merged_system_class_count['class_name'] = pd.Categorical(merged_system_class_count['class_name'], \n",
    "                                                    categories=top_classes['class_name'])\n"
   ]
  },
  {
   "cell_type": "code",
   "execution_count": 62,
   "id": "dbab41e7-c165-4424-96d8-80dbcbc85821",
   "metadata": {},
   "outputs": [
    {
     "data": {
      "text/html": [
       "<div>\n",
       "<style scoped>\n",
       "    .dataframe tbody tr th:only-of-type {\n",
       "        vertical-align: middle;\n",
       "    }\n",
       "\n",
       "    .dataframe tbody tr th {\n",
       "        vertical-align: top;\n",
       "    }\n",
       "\n",
       "    .dataframe thead th {\n",
       "        text-align: right;\n",
       "    }\n",
       "</style>\n",
       "<table border=\"1\" class=\"dataframe\">\n",
       "  <thead>\n",
       "    <tr style=\"text-align: right;\">\n",
       "      <th></th>\n",
       "      <th>class</th>\n",
       "      <th>phylum</th>\n",
       "      <th>superkingdom</th>\n",
       "      <th>background_count</th>\n",
       "      <th>class_name</th>\n",
       "      <th>phylum_name</th>\n",
       "      <th>domain_name</th>\n",
       "      <th>display_class_name</th>\n",
       "      <th>system</th>\n",
       "      <th>system_count</th>\n",
       "      <th>total_system_count</th>\n",
       "      <th>system_frac</th>\n",
       "      <th>log_frac</th>\n",
       "    </tr>\n",
       "  </thead>\n",
       "  <tbody>\n",
       "    <tr>\n",
       "      <th>30</th>\n",
       "      <td>183963.0</td>\n",
       "      <td>28890.0</td>\n",
       "      <td>2157</td>\n",
       "      <td>349</td>\n",
       "      <td>Halobacteria</td>\n",
       "      <td>Euryarchaeota</td>\n",
       "      <td>Archaea</td>\n",
       "      <td>Halobacteria (n=349)</td>\n",
       "      <td>AAA2</td>\n",
       "      <td>114</td>\n",
       "      <td>3069</td>\n",
       "      <td>0.326648</td>\n",
       "      <td>-0.485921</td>\n",
       "    </tr>\n",
       "    <tr>\n",
       "      <th>96</th>\n",
       "      <td>183963.0</td>\n",
       "      <td>28890.0</td>\n",
       "      <td>2157</td>\n",
       "      <td>349</td>\n",
       "      <td>Halobacteria</td>\n",
       "      <td>Euryarchaeota</td>\n",
       "      <td>Archaea</td>\n",
       "      <td>Halobacteria (n=349)</td>\n",
       "      <td>HEP3</td>\n",
       "      <td>6</td>\n",
       "      <td>120</td>\n",
       "      <td>0.017192</td>\n",
       "      <td>-1.764674</td>\n",
       "    </tr>\n",
       "    <tr>\n",
       "      <th>168</th>\n",
       "      <td>183963.0</td>\n",
       "      <td>28890.0</td>\n",
       "      <td>2157</td>\n",
       "      <td>349</td>\n",
       "      <td>Halobacteria</td>\n",
       "      <td>Euryarchaeota</td>\n",
       "      <td>Archaea</td>\n",
       "      <td>Halobacteria (n=349)</td>\n",
       "      <td>NERD</td>\n",
       "      <td>4</td>\n",
       "      <td>350</td>\n",
       "      <td>0.011461</td>\n",
       "      <td>-1.940765</td>\n",
       "    </tr>\n",
       "  </tbody>\n",
       "</table>\n",
       "</div>"
      ],
      "text/plain": [
       "        class   phylum  superkingdom  background_count    class_name   \n",
       "30   183963.0  28890.0          2157               349  Halobacteria  \\\n",
       "96   183963.0  28890.0          2157               349  Halobacteria   \n",
       "168  183963.0  28890.0          2157               349  Halobacteria   \n",
       "\n",
       "       phylum_name domain_name    display_class_name system  system_count   \n",
       "30   Euryarchaeota     Archaea  Halobacteria (n=349)   AAA2           114  \\\n",
       "96   Euryarchaeota     Archaea  Halobacteria (n=349)   HEP3             6   \n",
       "168  Euryarchaeota     Archaea  Halobacteria (n=349)   NERD             4   \n",
       "\n",
       "     total_system_count  system_frac  log_frac  \n",
       "30                 3069     0.326648 -0.485921  \n",
       "96                  120     0.017192 -1.764674  \n",
       "168                 350     0.011461 -1.940765  "
      ]
     },
     "execution_count": 62,
     "metadata": {},
     "output_type": "execute_result"
    }
   ],
   "source": [
    "merged_system_class_count[merged_system_class_count['class_name']== 'Halobacteria']"
   ]
  },
  {
   "cell_type": "code",
   "execution_count": 61,
   "id": "969d2755-25fe-4aa9-a9f5-dd3ab1fbceb3",
   "metadata": {},
   "outputs": [
    {
     "data": {
      "text/html": [
       "<div>\n",
       "<style scoped>\n",
       "    .dataframe tbody tr th:only-of-type {\n",
       "        vertical-align: middle;\n",
       "    }\n",
       "\n",
       "    .dataframe tbody tr th {\n",
       "        vertical-align: top;\n",
       "    }\n",
       "\n",
       "    .dataframe thead th {\n",
       "        text-align: right;\n",
       "    }\n",
       "</style>\n",
       "<table border=\"1\" class=\"dataframe\">\n",
       "  <thead>\n",
       "    <tr style=\"text-align: right;\">\n",
       "      <th></th>\n",
       "      <th>system</th>\n",
       "      <th>frac_mean</th>\n",
       "      <th>n_classes</th>\n",
       "    </tr>\n",
       "  </thead>\n",
       "  <tbody>\n",
       "    <tr>\n",
       "      <th>3</th>\n",
       "      <td>AAA2</td>\n",
       "      <td>0.159594</td>\n",
       "      <td>16</td>\n",
       "    </tr>\n",
       "    <tr>\n",
       "      <th>22</th>\n",
       "      <td>NERD</td>\n",
       "      <td>0.023981</td>\n",
       "      <td>16</td>\n",
       "    </tr>\n",
       "    <tr>\n",
       "      <th>27</th>\n",
       "      <td>PDX1</td>\n",
       "      <td>0.021631</td>\n",
       "      <td>15</td>\n",
       "    </tr>\n",
       "    <tr>\n",
       "      <th>12</th>\n",
       "      <td>E2DP</td>\n",
       "      <td>0.017856</td>\n",
       "      <td>14</td>\n",
       "    </tr>\n",
       "    <tr>\n",
       "      <th>19</th>\n",
       "      <td>MNAC</td>\n",
       "      <td>0.012391</td>\n",
       "      <td>14</td>\n",
       "    </tr>\n",
       "    <tr>\n",
       "      <th>16</th>\n",
       "      <td>HIPA</td>\n",
       "      <td>0.028141</td>\n",
       "      <td>13</td>\n",
       "    </tr>\n",
       "    <tr>\n",
       "      <th>24</th>\n",
       "      <td>NUCS</td>\n",
       "      <td>0.011271</td>\n",
       "      <td>13</td>\n",
       "    </tr>\n",
       "    <tr>\n",
       "      <th>4</th>\n",
       "      <td>AAA5</td>\n",
       "      <td>0.010395</td>\n",
       "      <td>13</td>\n",
       "    </tr>\n",
       "    <tr>\n",
       "      <th>37</th>\n",
       "      <td>SMEK</td>\n",
       "      <td>0.008620</td>\n",
       "      <td>13</td>\n",
       "    </tr>\n",
       "    <tr>\n",
       "      <th>35</th>\n",
       "      <td>RMOR</td>\n",
       "      <td>0.011753</td>\n",
       "      <td>12</td>\n",
       "    </tr>\n",
       "    <tr>\n",
       "      <th>14</th>\n",
       "      <td>HEP2</td>\n",
       "      <td>0.011672</td>\n",
       "      <td>11</td>\n",
       "    </tr>\n",
       "    <tr>\n",
       "      <th>15</th>\n",
       "      <td>HEP3</td>\n",
       "      <td>0.010883</td>\n",
       "      <td>11</td>\n",
       "    </tr>\n",
       "    <tr>\n",
       "      <th>32</th>\n",
       "      <td>RED2</td>\n",
       "      <td>0.006589</td>\n",
       "      <td>11</td>\n",
       "    </tr>\n",
       "    <tr>\n",
       "      <th>33</th>\n",
       "      <td>RED5</td>\n",
       "      <td>0.005992</td>\n",
       "      <td>11</td>\n",
       "    </tr>\n",
       "    <tr>\n",
       "      <th>9</th>\n",
       "      <td>D390</td>\n",
       "      <td>0.018982</td>\n",
       "      <td>10</td>\n",
       "    </tr>\n",
       "    <tr>\n",
       "      <th>21</th>\n",
       "      <td>NADR</td>\n",
       "      <td>0.012025</td>\n",
       "      <td>10</td>\n",
       "    </tr>\n",
       "    <tr>\n",
       "      <th>36</th>\n",
       "      <td>SC24</td>\n",
       "      <td>0.006671</td>\n",
       "      <td>10</td>\n",
       "    </tr>\n",
       "    <tr>\n",
       "      <th>20</th>\n",
       "      <td>MVB1</td>\n",
       "      <td>0.004772</td>\n",
       "      <td>10</td>\n",
       "    </tr>\n",
       "    <tr>\n",
       "      <th>17</th>\n",
       "      <td>IMPD</td>\n",
       "      <td>0.009413</td>\n",
       "      <td>9</td>\n",
       "    </tr>\n",
       "    <tr>\n",
       "      <th>29</th>\n",
       "      <td>PLIK</td>\n",
       "      <td>0.003857</td>\n",
       "      <td>9</td>\n",
       "    </tr>\n",
       "    <tr>\n",
       "      <th>0</th>\n",
       "      <td>2971</td>\n",
       "      <td>0.003251</td>\n",
       "      <td>8</td>\n",
       "    </tr>\n",
       "    <tr>\n",
       "      <th>1</th>\n",
       "      <td>6602</td>\n",
       "      <td>0.016200</td>\n",
       "      <td>7</td>\n",
       "    </tr>\n",
       "    <tr>\n",
       "      <th>41</th>\n",
       "      <td>ZAPB</td>\n",
       "      <td>0.012853</td>\n",
       "      <td>7</td>\n",
       "    </tr>\n",
       "    <tr>\n",
       "      <th>13</th>\n",
       "      <td>GNAT</td>\n",
       "      <td>0.006883</td>\n",
       "      <td>7</td>\n",
       "    </tr>\n",
       "    <tr>\n",
       "      <th>40</th>\n",
       "      <td>TOXO</td>\n",
       "      <td>0.007365</td>\n",
       "      <td>5</td>\n",
       "    </tr>\n",
       "    <tr>\n",
       "      <th>2</th>\n",
       "      <td>AAA1</td>\n",
       "      <td>0.004766</td>\n",
       "      <td>5</td>\n",
       "    </tr>\n",
       "    <tr>\n",
       "      <th>38</th>\n",
       "      <td>SVIR</td>\n",
       "      <td>0.004535</td>\n",
       "      <td>5</td>\n",
       "    </tr>\n",
       "    <tr>\n",
       "      <th>11</th>\n",
       "      <td>DISA</td>\n",
       "      <td>0.001621</td>\n",
       "      <td>5</td>\n",
       "    </tr>\n",
       "    <tr>\n",
       "      <th>34</th>\n",
       "      <td>RED7</td>\n",
       "      <td>0.005030</td>\n",
       "      <td>4</td>\n",
       "    </tr>\n",
       "    <tr>\n",
       "      <th>28</th>\n",
       "      <td>PIN8</td>\n",
       "      <td>0.003397</td>\n",
       "      <td>4</td>\n",
       "    </tr>\n",
       "    <tr>\n",
       "      <th>25</th>\n",
       "      <td>PD3A</td>\n",
       "      <td>0.001845</td>\n",
       "      <td>4</td>\n",
       "    </tr>\n",
       "    <tr>\n",
       "      <th>26</th>\n",
       "      <td>PDP4</td>\n",
       "      <td>0.001683</td>\n",
       "      <td>3</td>\n",
       "    </tr>\n",
       "    <tr>\n",
       "      <th>31</th>\n",
       "      <td>PRO1</td>\n",
       "      <td>0.001320</td>\n",
       "      <td>3</td>\n",
       "    </tr>\n",
       "    <tr>\n",
       "      <th>5</th>\n",
       "      <td>ABC3</td>\n",
       "      <td>0.003030</td>\n",
       "      <td>2</td>\n",
       "    </tr>\n",
       "    <tr>\n",
       "      <th>18</th>\n",
       "      <td>MHAD</td>\n",
       "      <td>0.000991</td>\n",
       "      <td>2</td>\n",
       "    </tr>\n",
       "    <tr>\n",
       "      <th>8</th>\n",
       "      <td>D295</td>\n",
       "      <td>0.008162</td>\n",
       "      <td>1</td>\n",
       "    </tr>\n",
       "    <tr>\n",
       "      <th>23</th>\n",
       "      <td>NTTI</td>\n",
       "      <td>0.002285</td>\n",
       "      <td>1</td>\n",
       "    </tr>\n",
       "    <tr>\n",
       "      <th>10</th>\n",
       "      <td>D668</td>\n",
       "      <td>0.001959</td>\n",
       "      <td>1</td>\n",
       "    </tr>\n",
       "    <tr>\n",
       "      <th>6</th>\n",
       "      <td>ANEX</td>\n",
       "      <td>0.001306</td>\n",
       "      <td>1</td>\n",
       "    </tr>\n",
       "    <tr>\n",
       "      <th>7</th>\n",
       "      <td>CITO</td>\n",
       "      <td>0.000326</td>\n",
       "      <td>1</td>\n",
       "    </tr>\n",
       "    <tr>\n",
       "      <th>30</th>\n",
       "      <td>PN12</td>\n",
       "      <td>0.000326</td>\n",
       "      <td>1</td>\n",
       "    </tr>\n",
       "    <tr>\n",
       "      <th>39</th>\n",
       "      <td>TMO1</td>\n",
       "      <td>0.000326</td>\n",
       "      <td>1</td>\n",
       "    </tr>\n",
       "  </tbody>\n",
       "</table>\n",
       "</div>"
      ],
      "text/plain": [
       "   system  frac_mean  n_classes\n",
       "3    AAA2   0.159594         16\n",
       "22   NERD   0.023981         16\n",
       "27   PDX1   0.021631         15\n",
       "12   E2DP   0.017856         14\n",
       "19   MNAC   0.012391         14\n",
       "16   HIPA   0.028141         13\n",
       "24   NUCS   0.011271         13\n",
       "4    AAA5   0.010395         13\n",
       "37   SMEK   0.008620         13\n",
       "35   RMOR   0.011753         12\n",
       "14   HEP2   0.011672         11\n",
       "15   HEP3   0.010883         11\n",
       "32   RED2   0.006589         11\n",
       "33   RED5   0.005992         11\n",
       "9    D390   0.018982         10\n",
       "21   NADR   0.012025         10\n",
       "36   SC24   0.006671         10\n",
       "20   MVB1   0.004772         10\n",
       "17   IMPD   0.009413          9\n",
       "29   PLIK   0.003857          9\n",
       "0    2971   0.003251          8\n",
       "1    6602   0.016200          7\n",
       "41   ZAPB   0.012853          7\n",
       "13   GNAT   0.006883          7\n",
       "40   TOXO   0.007365          5\n",
       "2    AAA1   0.004766          5\n",
       "38   SVIR   0.004535          5\n",
       "11   DISA   0.001621          5\n",
       "34   RED7   0.005030          4\n",
       "28   PIN8   0.003397          4\n",
       "25   PD3A   0.001845          4\n",
       "26   PDP4   0.001683          3\n",
       "31   PRO1   0.001320          3\n",
       "5    ABC3   0.003030          2\n",
       "18   MHAD   0.000991          2\n",
       "8    D295   0.008162          1\n",
       "23   NTTI   0.002285          1\n",
       "10   D668   0.001959          1\n",
       "6    ANEX   0.001306          1\n",
       "7    CITO   0.000326          1\n",
       "30   PN12   0.000326          1\n",
       "39   TMO1   0.000326          1"
      ]
     },
     "execution_count": 61,
     "metadata": {},
     "output_type": "execute_result"
    }
   ],
   "source": [
    "system_stats = (merged_system_class_count.groupby('system')\n",
    "                .agg(frac_mean=('system_frac', 'mean'),\n",
    "                     n_classes=('class_name', 'nunique'))\n",
    "                .reset_index()\n",
    "                   .sort_values(['n_classes', 'frac_mean'], ascending=False))\n",
    "system_stats"
   ]
  },
  {
   "cell_type": "code",
   "execution_count": 63,
   "id": "19cfb08d-15dd-4cca-8f8b-db9f2cea655e",
   "metadata": {},
   "outputs": [],
   "source": [
    "system_stat_names = (system_stats.merge(system_name_df\n",
    "                                        .rename(columns={'working_id': 'system'}), \n",
    "                                        how='inner', on='system')\n",
    "                     .merge(system_total_counts, how='inner', on='system')\n",
    "                     .sort_values(['n_classes','frac_mean'], ascending=False))\n",
    "system_stat_names['display_name_count'] = system_stat_names['DS_name'] + ' (n=' + system_stat_names['total_system_count'].astype(int).astype(str) + ')'\n"
   ]
  },
  {
   "cell_type": "markdown",
   "id": "3c46198a-6196-43e3-9c3f-c30b8fd90a6f",
   "metadata": {},
   "source": [
    "### Plot novel taxonomy"
   ]
  },
  {
   "cell_type": "code",
   "execution_count": 64,
   "id": "ac035f49-1a85-4a98-925c-32e645b9a1f1",
   "metadata": {},
   "outputs": [],
   "source": [
    "novel_domain_systems = ['D390', 'DISA', 'PIN8', 'NTTI',  \n",
    "                        'PN12', 'HIPA', 'SVIR', 'MNAC', 'MHAD', 'ZAPB','IMPD']"
   ]
  },
  {
   "cell_type": "code",
   "execution_count": 65,
   "id": "0a3487b8-650e-440e-a5af-0765fa26f2ee",
   "metadata": {},
   "outputs": [],
   "source": [
    "novel_system_count = (merged_system_class_count.loc[merged_system_class_count['system']\n",
    "                                                    .isin(novel_domain_systems), :]\n",
    "                      #.merge(system_name_df, how='inner', on='system')\n",
    "                      .merge(system_stat_names, how='inner', on='system'))\n",
    "novel_system_stat_names = (system_stat_names.loc[system_stat_names['system'].isin(novel_domain_systems)])\n",
    "novel_system_count['display_name_count'] = pd.Categorical(novel_system_count['display_name_count'], \n",
    "                                                    categories=novel_system_stat_names['display_name_count'])\n"
   ]
  },
  {
   "cell_type": "code",
   "execution_count": 66,
   "id": "6553e0da-d1ac-4584-b564-36c263c9448d",
   "metadata": {},
   "outputs": [],
   "source": [
    "wide_novel_system_frac = novel_system_count.pivot_table(index='display_class_name', \n",
    "                                                        columns='display_name_count', values='log_frac', dropna=False)"
   ]
  },
  {
   "cell_type": "code",
   "execution_count": 67,
   "id": "bf2bd0ac-cce0-4b89-b5cf-2ef0f2083995",
   "metadata": {},
   "outputs": [],
   "source": [
    "plt.rcParams['svg.fonttype'] = 'none'\n",
    "plt.rcParams['font.size']  = 7"
   ]
  },
  {
   "cell_type": "code",
   "execution_count": 68,
   "id": "94a891be-a3a9-4714-9f3c-3a75d87e12f8",
   "metadata": {},
   "outputs": [
    {
     "data": {
      "image/png": "[encoded data removed]",
      "text/plain": [
       "<Figure size 290x290 with 2 Axes>"
      ]
     },
     "metadata": {},
     "output_type": "display_data"
    }
   ],
   "source": [
    "plt.subplots(figsize=(2.9,2.9))\n",
    "sns.heatmap(data=wide_novel_system_frac, cmap='Reds', \n",
    "            vmax=0, cbar_kws={'label': 'log10(fraction of genomes)'}, \n",
    "            linewidth=0.5, square=True)\n",
    "plt.xlabel('')\n",
    "plt.ylabel('')\n",
    "plt.gca().xaxis.set_ticks_position('top')\n",
    "plt.xticks(rotation=45, ha='left')\n",
    "\n",
    "plt.savefig('../figures/novel_domain_hit_taxonomy.svg', dpi=300, bbox_inches='tight')"
   ]
  },
  {
   "cell_type": "markdown",
   "id": "5caf40cf-54d9-4cf3-80fb-5cff20911872",
   "metadata": {},
   "source": [
    "### Plot other taxonomy"
   ]
  },
  {
   "cell_type": "code",
   "execution_count": 69,
   "id": "fdf5c99f-c531-4e10-88bd-994cccd705f1",
   "metadata": {},
   "outputs": [],
   "source": [
    "other_system_count = (merged_system_class_count.loc[~merged_system_class_count['system']\n",
    "                                                    .isin(novel_domain_systems), :]\n",
    "                      #.merge(system_name_df, how='inner', on='system')\n",
    "                     .merge(system_stat_names, how='inner', on='system'))\n",
    "other_system_stat_names = (system_stat_names.loc[~system_stat_names['system'].isin(novel_domain_systems)])\n",
    "other_system_count['display_name_count'] = pd.Categorical(other_system_count['display_name_count'], \n",
    "                                                    categories=other_system_stat_names['display_name_count'])"
   ]
  },
  {
   "cell_type": "code",
   "execution_count": 76,
   "id": "f70407e2",
   "metadata": {},
   "outputs": [
    {
     "data": {
      "text/plain": [
       "24"
      ]
     },
     "execution_count": 76,
     "metadata": {},
     "output_type": "execute_result"
    }
   ],
   "source": [
    "other_system_count.query(\"phylum_name != 'Pseudomonadota'\")['system'].nunique()"
   ]
  },
  {
   "cell_type": "code",
   "execution_count": 70,
   "id": "ee24baa2-90a6-4ad0-9f8e-9327aea4fbcb",
   "metadata": {},
   "outputs": [],
   "source": [
    "wide_other_system_frac = other_system_count.pivot_table(index='display_class_name', \n",
    "                                                        columns='display_name_count', values='log_frac', dropna=False)"
   ]
  },
  {
   "cell_type": "code",
   "execution_count": 71,
   "id": "0d9e2ab7",
   "metadata": {},
   "outputs": [
    {
     "data": {
      "text/plain": [
       "(16, 31)"
      ]
     },
     "execution_count": 71,
     "metadata": {},
     "output_type": "execute_result"
    }
   ],
   "source": [
    "wide_other_system_frac.shape"
   ]
  },
  {
   "cell_type": "code",
   "execution_count": 72,
   "id": "b3f240eb-25a3-4631-9294-8d393e197dd0",
   "metadata": {},
   "outputs": [],
   "source": [
    "plt.rcParams['svg.fonttype'] = 'none'\n",
    "plt.rcParams['font.size']  = 6"
   ]
  },
  {
   "cell_type": "code",
   "execution_count": 73,
   "id": "ec434d53-8a3a-402b-8d74-9df97662adb4",
   "metadata": {},
   "outputs": [
    {
     "data": {
      "image/png": "[encoded data removed]",
      "text/plain": [
       "<Figure size 770x250 with 2 Axes>"
      ]
     },
     "metadata": {},
     "output_type": "display_data"
    }
   ],
   "source": [
    "plt.subplots(figsize=(7.7,2.5))\n",
    "sns.heatmap(data=wide_other_system_frac, cmap='Reds', \n",
    "            vmax=0, cbar_kws={'label': 'log10(fraction of genomes)', \n",
    "                               'shrink': 0.75}, \n",
    "            linewidth=0.5, square=True)\n",
    "plt.xlabel('')\n",
    "plt.ylabel('')\n",
    "plt.xticks(rotation=45, ha='right')\n",
    "plt.savefig('../figures/other_domain_hit_taxonomy.svg', dpi=300, bbox_inches='tight')"
   ]
  },
  {
   "cell_type": "code",
   "execution_count": null,
   "id": "0dae1f22-c66f-4b3f-82c1-37defd19f039",
   "metadata": {},
   "outputs": [],
   "source": []
  }
 ],
 "metadata": {
  "kernelspec": {
   "display_name": "beaker",
   "language": "python",
   "name": "python3"
  },
  "language_info": {
   "codemirror_mode": {
    "name": "ipython",
    "version": 3
   },
   "file_extension": ".py",
   "mimetype": "text/x-python",
   "name": "python",
   "nbconvert_exporter": "python",
   "pygments_lexer": "ipython3",
   "version": "3.8.20"
  }
 },
 "nbformat": 4,
 "nbformat_minor": 5
}
