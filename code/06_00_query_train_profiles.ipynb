{
 "cells": [
  {
   "cell_type": "code",
   "execution_count": 1,
   "id": "9f4e01ea-0c62-4794-bbc6-22295d0fe18d",
   "metadata": {},
   "outputs": [],
   "source": [
    "import pandas as pd\n",
    "import os"
   ]
  },
  {
   "cell_type": "code",
   "execution_count": 4,
   "id": "3f4b6c5a-b5df-4221-a5fb-a641b84f3de2",
   "metadata": {},
   "outputs": [],
   "source": [
    "gene_split_df = pd.read_csv('../data/interim/defense_finder_gene_split_df.csv')"
   ]
  },
  {
   "cell_type": "code",
   "execution_count": 7,
   "id": "6531ed7b-3625-4a5d-b51a-e3c4bf1da877",
   "metadata": {},
   "outputs": [],
   "source": [
    "test_gene_names = gene_split_df.loc[gene_split_df['split'] == 'test', \n",
    "                                    'name'].to_list()"
   ]
  },
  {
   "cell_type": "code",
   "execution_count": 8,
   "id": "f43ae471-c574-4d52-bfb7-4f0e52568455",
   "metadata": {},
   "outputs": [],
   "source": [
    "model_dir = '/home/gridsan/pdeweirdt/.macsyfinder/data/defense-finder-models/profiles/'\n",
    "model_names = [x for x in os.listdir(model_dir) if '.hmm' in x]\n",
    "train_val_hmms = [model_dir + hmm for hmm in model_names if hmm.split('.')[0] not in test_gene_names]"
   ]
  },
  {
   "cell_type": "code",
   "execution_count": 9,
   "id": "a2b019a9-700f-483c-8c7f-a196677136f2",
   "metadata": {},
   "outputs": [],
   "source": [
    "train_val_hmm_file = '../data/interim/defense_finder_train.hmm'"
   ]
  },
  {
   "cell_type": "code",
   "execution_count": 10,
   "id": "2a5d98cb-9da2-4ed2-9c72-fab553c51ee1",
   "metadata": {},
   "outputs": [
    {
     "data": {
      "text/plain": [
       "0"
      ]
     },
     "execution_count": 10,
     "metadata": {},
     "output_type": "execute_result"
    }
   ],
   "source": [
    "os.system(' '.join(['cat', ' '.join(train_val_hmms),  '>', train_val_hmm_file]))"
   ]
  },
  {
   "cell_type": "code",
   "execution_count": 11,
   "id": "319e6a96-d32b-480e-a10b-7e482355d550",
   "metadata": {},
   "outputs": [],
   "source": [
    "temp_out_file = '../data/interim/temp_hmmer_out.txt'\n",
    "dom_out = '../data/interim/train_test_hmm_search_dom.txt'"
   ]
  },
  {
   "cell_type": "code",
   "execution_count": 12,
   "id": "e874e401-c4cd-4d01-b08f-9655b64744e5",
   "metadata": {},
   "outputs": [
    {
     "name": "stdout",
     "output_type": "stream",
     "text": [
      "CPU times: user 7.89 ms, sys: 0 ns, total: 7.89 ms\n",
      "Wall time: 6min 41s\n"
     ]
    },
    {
     "data": {
      "text/plain": [
       "0"
      ]
     },
     "execution_count": 12,
     "metadata": {},
     "output_type": "execute_result"
    }
   ],
   "source": [
    "%%time\n",
    "os.system(' '.join(['conda run -n beaker', \n",
    "                    'hmmsearch',\n",
    "                    '--cpu', '11',\n",
    "                    '-o', temp_out_file,\n",
    "                    '--domtblout', dom_out,\n",
    "                    train_val_hmm_file, \n",
    "                    '../data/interim/test_seqs.faa']))"
   ]
  },
  {
   "cell_type": "code",
   "execution_count": 13,
   "id": "6b7bf0e7-a8ad-47b9-90aa-348631e3ee40",
   "metadata": {},
   "outputs": [
    {
     "data": {
      "text/plain": [
       "0"
      ]
     },
     "execution_count": 13,
     "metadata": {},
     "output_type": "execute_result"
    }
   ],
   "source": [
    "os.system('rm -r ' + temp_out_file)"
   ]
  },
  {
   "cell_type": "code",
   "execution_count": null,
   "id": "f8eac73b-0717-4e61-b38c-5430d1681c7b",
   "metadata": {},
   "outputs": [],
   "source": []
  }
 ],
 "metadata": {
  "kernelspec": {
   "display_name": "beaker",
   "language": "python",
   "name": "beaker"
  },
  "language_info": {
   "codemirror_mode": {
    "name": "ipython",
    "version": 3
   },
   "file_extension": ".py",
   "mimetype": "text/x-python",
   "name": "python",
   "nbconvert_exporter": "python",
   "pygments_lexer": "ipython3",
   "version": "3.8.16"
  }
 },
 "nbformat": 4,
 "nbformat_minor": 5
}
