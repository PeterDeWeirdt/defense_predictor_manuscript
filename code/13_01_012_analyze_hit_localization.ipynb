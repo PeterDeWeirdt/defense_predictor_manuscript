{
 "cells": [
  {
   "cell_type": "code",
   "execution_count": 1,
   "id": "94a3a845-96eb-4403-bcc9-b6031318a904",
   "metadata": {},
   "outputs": [],
   "source": [
    "import pandas as pd\n",
    "import os\n",
    "import seaborn as sns\n",
    "import matplotlib.pyplot as plt\n",
    "from tqdm import tqdm\n",
    "import numpy as np\n",
    "from core import bw_color_palette\n",
    "import textwrap"
   ]
  },
  {
   "cell_type": "code",
   "execution_count": 2,
   "id": "cc726f6b-12bc-46c1-930c-5143f3865092",
   "metadata": {},
   "outputs": [],
   "source": [
    "def plot_upset(data, x_list, y, hue, figsize=(8, 6), palette=None, subplot_fraction=0.25,\n",
    "               lower_bound=None, upper_bound=None, legend_title='', bar_ylabel=None, \n",
    "               marker_size=4, legend_text_width=30):\n",
    "    \"\"\"\n",
    "    Creates an UpSet plot using matplotlib.\n",
    "\n",
    "    Parameters:\n",
    "    - data: pandas DataFrame containing the data.\n",
    "    - x_list: list of column names in data representing boolean variables.\n",
    "    - y: the name of the numeric column in data.\n",
    "    - hue: the name of the categorical column in data.\n",
    "    - figsize: tuple specifying the figure size (width, height).\n",
    "    - palette: list of colors for the bar plot.\n",
    "    - subplot_fraction: fraction of the figure height allocated to the combination matrix.\n",
    "    - lower_bound: optional, the name of the column for the lower bound of y.\n",
    "    - upper_bound: optional, the name of the column for the upper bound of y.\n",
    "\n",
    "    The function plots a bar for each hue across combinations of x variables,\n",
    "    with the height of the bar representing the y variable for that hue/x set.\n",
    "    Error bars are included if lower_bound and upper_bound are provided.\n",
    "    \"\"\"\n",
    "    # Create a 'combination' column that represents the combination of x_list variables\n",
    "    data['combination'] = data[x_list].apply(lambda row: tuple(row.values), axis=1)\n",
    "\n",
    "    # Get unique combinations and generate labels\n",
    "    combinations = data['combination'].unique()\n",
    "    combination_labels = []\n",
    "    for comb in combinations:\n",
    "        label = ' & '.join([x_list[i] for i, val in enumerate(comb) if val])\n",
    "        if not label:\n",
    "            label = 'None'\n",
    "        combination_labels.append(label)\n",
    "\n",
    "    # Create a DataFrame for combinations\n",
    "    combination_df = pd.DataFrame({\n",
    "        'combination': combinations,\n",
    "        'label': combination_labels\n",
    "    })\n",
    "    combination_df['combination_id'] = range(len(combinations))\n",
    "    combination_dict = {comb: idx for comb, idx in zip(combinations, combination_df['combination_id'])}\n",
    "    data['combination_id'] = data['combination'].map(combination_dict)\n",
    "\n",
    "    # Aggregate y (and bounds if provided) per combination_id and hue\n",
    "    agg_columns = [y]\n",
    "    if lower_bound and upper_bound:\n",
    "        agg_columns.extend([lower_bound, upper_bound])\n",
    "\n",
    "    agg_data = data.groupby(['combination_id', hue])[agg_columns].sum().reset_index()\n",
    "\n",
    "    # Pivot data to have hues as columns\n",
    "    agg_pivot = agg_data.pivot(index='combination_id', columns=hue).fillna(0)\n",
    "\n",
    "    # Compute total y per combination for ordering\n",
    "    agg_pivot['total_y'] = agg_pivot[y].sum(axis=1)\n",
    "\n",
    "    # Sort combinations by total y descending\n",
    "    agg_pivot = agg_pivot.sort_values('total_y', ascending=False)\n",
    "\n",
    "    # Update combination_df to match sorted combination_ids\n",
    "    combination_df = combination_df.set_index('combination_id').loc[agg_pivot.index].reset_index()\n",
    "\n",
    "    # Prepare plotting data\n",
    "    hues = agg_pivot[y].columns.tolist()\n",
    "    num_combinations = len(agg_pivot)\n",
    "    x = np.arange(num_combinations)  # x-axis positions\n",
    "    width = 0.8 / len(hues)  # width of each bar\n",
    "\n",
    "    # Prepare colors\n",
    "    if palette is not None:\n",
    "        colors = palette\n",
    "    else:\n",
    "        colors = plt.rcParams['axes.prop_cycle'].by_key()['color']\n",
    "\n",
    "    fig, (ax_bar, ax_upset) = plt.subplots(\n",
    "        2, 1, figsize=figsize,\n",
    "        gridspec_kw={'height_ratios': [1 - subplot_fraction, subplot_fraction]},\n",
    "        sharex=True\n",
    "    )\n",
    "\n",
    "    # Plot bars for each hue with error bars if provided\n",
    "    for i, hue_value in enumerate(hues):\n",
    "        y_values = agg_pivot[y][hue_value].values\n",
    "        color = colors[i % len(colors)]\n",
    "\n",
    "        # Calculate yerr if bounds are provided\n",
    "        if lower_bound and upper_bound:\n",
    "            y_upper = agg_pivot[upper_bound][hue_value].values\n",
    "            y_lower = agg_pivot[lower_bound][hue_value].values\n",
    "            y_err = [y_values - y_lower, y_upper - y_values]\n",
    "        else:\n",
    "            y_err = None\n",
    "\n",
    "        ax_bar.bar(x + i*width, y_values, width, label=str(hue_value),\n",
    "                   edgecolor='black', linewidth=0.5, color=color, yerr=y_err)\n",
    "\n",
    "    # Remove x-axis labels in the bar plot\n",
    "    ax_bar.set_xticks([])\n",
    "    if legend_title == '':\n",
    "        legend_title = hue\n",
    "    legend = ax_bar.legend(title=legend_title, loc='upper left', bbox_to_anchor=(1, 1))\n",
    "    # Wrap legend text\n",
    "    for text in legend.get_texts():\n",
    "        original_text = text.get_text()\n",
    "        wrapped_text = \"\\n\".join(textwrap.wrap(original_text, width=legend_text_width))\n",
    "        text.set_text(wrapped_text)\n",
    "    if bar_ylabel is None:\n",
    "        bar_ylabel=y\n",
    "    ax_bar.set_ylabel(bar_ylabel)\n",
    "\n",
    "    # Despine ax_bar (remove top and right spines)\n",
    "    for spine in ['top', 'right']:\n",
    "        ax_bar.spines[spine].set_visible(False)\n",
    "\n",
    "    # Plot the combination matrix below the bar plot\n",
    "    for idx, comb_id in enumerate(agg_pivot.index):\n",
    "        combination = combination_df.loc[combination_df['combination_id'] == comb_id, 'combination'].values[0]\n",
    "        for i, val in enumerate(combination):\n",
    "            if val:\n",
    "                ax_upset.plot(idx + width * (len(hues)-1)/2,\n",
    "                              len(x_list) - i - 1, 'ko', markersize=marker_size)\n",
    "\n",
    "    ax_upset.set_yticks(range(len(x_list)))\n",
    "    ax_upset.set_yticklabels(x_list[::-1])\n",
    "    ax_upset.set_ylim(-0.5, len(x_list)-0.5)\n",
    "    ax_upset.invert_yaxis()\n",
    "    ax_upset.set_ylabel('')\n",
    "\n",
    "    # Despine ax_upset (remove top and right spines)\n",
    "    for spine in ['top', 'right']:\n",
    "        ax_upset.spines[spine].set_visible(False)"
   ]
  },
  {
   "cell_type": "code",
   "execution_count": 3,
   "id": "28f4fb20-fe11-4129-be7c-2f60e3cae2cd",
   "metadata": {},
   "outputs": [],
   "source": [
    "plt.rcParams['font.size'] = 7\n",
    "plt.rcParams['svg.fonttype'] = 'none'"
   ]
  },
  {
   "cell_type": "code",
   "execution_count": 4,
   "id": "4ac78ca1-9943-4e8a-91ac-a8b271f37731",
   "metadata": {},
   "outputs": [],
   "source": [
    "plot_example_upset = False\n",
    "if plot_example_upset:\n",
    "    data = pd.DataFrame({\n",
    "        'x1': [True, True, True, True, False, False],\n",
    "        'x2': [True, True, False, False, True, True],\n",
    "        'y': [0.3, 0.2, 0.2, 0.1, 0.1, 0.5],\n",
    "        'hue': ['A', 'B', 'A', 'B', 'A', 'B'],\n",
    "        'y_upper': [0.4, 0.3, 0.3, 0.2, 0.2, 0.6],\n",
    "        'y_lower': [0.1, 0.1, 0.1, 0, 0, 0]\n",
    "    })\n",
    "\n",
    "    # Variables\n",
    "    x_list = ['x1', 'x2']\n",
    "    y = 'y'\n",
    "    hue = 'hue'\n",
    "    lower_bound = 'y_lower'\n",
    "    upper_bound = 'y_upper'\n",
    "\n",
    "    # Test the plotting function with custom settings and error bars\n",
    "    plot_upset(\n",
    "        data, x_list, y, hue,\n",
    "        figsize=(3, 3),\n",
    "        palette=['#1f77b4', '#ff7f0e'],  # Custom color palette\n",
    "        subplot_fraction=0.25,           # Subplot is 25% of the bar plot height\n",
    "        lower_bound=lower_bound,\n",
    "        upper_bound=upper_bound\n",
    "    )\n"
   ]
  },
  {
   "cell_type": "code",
   "execution_count": 5,
   "id": "c0ccc121-3636-4217-aa39-bcc042a6920a",
   "metadata": {},
   "outputs": [
    {
     "name": "stderr",
     "output_type": "stream",
     "text": [
      "/state/partition1/slurm_tmp/27532365.0.0/ipykernel_504845/3912295161.py:1: DtypeWarning: Columns (21,27,35) have mixed types. Specify dtype option on import or set low_memory=False.\n",
      "  ecor_predictions = pd.read_csv('../data/interim/ecor_predictions_defensive_cat.csv')\n"
     ]
    }
   ],
   "source": [
    "ecor_predictions = pd.read_csv('../data/interim/ecor_predictions_defensive_cat.csv')"
   ]
  },
  {
   "cell_type": "code",
   "execution_count": 6,
   "id": "a46d5d7e-e4c8-47bf-a412-b3dfd1e51ae5",
   "metadata": {},
   "outputs": [
    {
     "data": {
      "text/plain": [
       "name\n",
       "helix-turn-helix domain-containing protein                   147\n",
       "metal-dependent hydrolase                                    138\n",
       "transcription antiterminator/RNA stability regulator CspE    136\n",
       "helix-turn-helix transcriptional regulator                   117\n",
       "ABC transporter ATP-binding protein                          105\n",
       "phosphoadenosine phosphosulfate reductase                     97\n",
       "OmpA family protein                                           86\n",
       "RNA-guided endonuclease TnpB family protein                   83\n",
       "DNA-protecting protein DprA                                   81\n",
       "6-carboxytetrahydropterin synthase QueD                       72\n",
       "Name: count, dtype: int64"
      ]
     },
     "execution_count": 6,
     "metadata": {},
     "output_type": "execute_result"
    }
   ],
   "source": [
    "ecor_predictions.loc[ecor_predictions['defense_homolog'] & ~ecor_predictions['defense_system_protein'] &\n",
    "                     (ecor_predictions['beaker_prediction'] < 0.5), 'name'].value_counts().head(10)"
   ]
  },
  {
   "cell_type": "code",
   "execution_count": 7,
   "id": "50833801-1f1c-4a12-9dfe-0e2222c56b3c",
   "metadata": {},
   "outputs": [
    {
     "data": {
      "text/plain": [
       "68"
      ]
     },
     "execution_count": 7,
     "metadata": {},
     "output_type": "execute_result"
    }
   ],
   "source": [
    "ecor_predictions.loc[(ecor_predictions['name'] == 'DNA-protecting protein DprA') & \n",
    "                     (~ecor_predictions['defense_system_protein']), \n",
    "                     'assembly' ].nunique()"
   ]
  },
  {
   "cell_type": "code",
   "execution_count": 8,
   "id": "302e2b4f-3822-49fb-8b43-2766b4a45975",
   "metadata": {},
   "outputs": [
    {
     "data": {
      "text/plain": [
       "hit_category\n",
       "Not defensive                         318784\n",
       "Defense homolog in new context          1309\n",
       "Predicted novel defense gene             607\n",
       "Defense homolog in expected system       395\n",
       "Remote defense homolog                   252\n",
       "Name: count, dtype: int64"
      ]
     },
     "execution_count": 8,
     "metadata": {},
     "output_type": "execute_result"
    }
   ],
   "source": [
    "ecor_predictions['hit_category'].value_counts()"
   ]
  },
  {
   "cell_type": "code",
   "execution_count": 11,
   "id": "b808be4d-be07-45b5-bd34-8d7dde90647d",
   "metadata": {},
   "outputs": [
    {
     "data": {
      "text/plain": [
       "hit_category\n",
       "Defense homolog in new context        1309\n",
       "Predicted novel defense gene           607\n",
       "Defense homolog in expected system     395\n",
       "Remote defense homolog                 252\n",
       "Name: count, dtype: int64"
      ]
     },
     "execution_count": 11,
     "metadata": {},
     "output_type": "execute_result"
    }
   ],
   "source": [
    "ecor_predictions['hit_category'].value_counts()"
   ]
  },
  {
   "cell_type": "code",
   "execution_count": 12,
   "id": "171eda9c-16b3-4e65-a4f5-6422d49a0a0c",
   "metadata": {},
   "outputs": [],
   "source": [
    "defensive_cat_order = ['Defense homolog in expected system', \n",
    "                       'Defense homolog in new context', \n",
    "                       'Remote defense homolog',\n",
    "                       'Novel predicted defense protein']"
   ]
  },
  {
   "cell_type": "code",
   "execution_count": 13,
   "id": "c516d418-e735-43d8-aaf2-cc07a5b56e02",
   "metadata": {},
   "outputs": [],
   "source": [
    "ecor_predictions['predicted_defense'] = ~ecor_predictions['hit_category'].isna()"
   ]
  },
  {
   "cell_type": "markdown",
   "id": "62e7dc8c-b70a-4453-a44d-b4d2898bc5c7",
   "metadata": {},
   "source": [
    "## MGE analysis"
   ]
  },
  {
   "cell_type": "code",
   "execution_count": 14,
   "id": "ed90e67f-d669-4764-ac3a-de0661a48ceb",
   "metadata": {},
   "outputs": [
    {
     "name": "stderr",
     "output_type": "stream",
     "text": [
      "100%|██████████| 69/69 [00:19<00:00,  3.58it/s]\n"
     ]
    }
   ],
   "source": [
    "genomad_top_dir = '../data/interim/ecor_genomad/'\n",
    "genomad_folders = [x for x in os.listdir(genomad_top_dir) if 'GCF' in x]\n",
    "plasmid_summary_list = []\n",
    "plasmid_gene_list = []\n",
    "virus_summary_list = []\n",
    "virus_gene_list = []\n",
    "for folder in tqdm(genomad_folders):\n",
    "    summary_folder = [x for x in os.listdir(genomad_top_dir + folder) if 'summary' == x[-7:]][0]\n",
    "    genome_stub = summary_folder.split('_genomic')[0]\n",
    "    plasmid_summary_f = os.path.join(genomad_top_dir, folder, summary_folder, genome_stub + '_genomic_plasmid_summary.tsv')\n",
    "    plasmid_summary_df = pd.read_csv(plasmid_summary_f, sep='\\t')\n",
    "    plasmid_summary_df['genome'] = folder\n",
    "    plasmid_summary_list.append(plasmid_summary_df)\n",
    "    plasmid_gene_f = os.path.join(genomad_top_dir, folder, summary_folder, genome_stub + '_genomic_plasmid_genes.tsv')\n",
    "    plasmid_gene_df = pd.read_csv(plasmid_gene_f, sep='\\t')\n",
    "    plasmid_gene_df['genome'] = folder\n",
    "    plasmid_gene_list.append(plasmid_gene_df)\n",
    "    virus_summary_f = os.path.join(genomad_top_dir, folder, summary_folder, genome_stub + '_genomic_virus_summary.tsv')\n",
    "    virus_summary_df = pd.read_csv(virus_summary_f, sep='\\t')\n",
    "    virus_summary_df['genome'] = folder\n",
    "    virus_summary_list.append(virus_summary_df)\n",
    "    virus_gene_f = os.path.join(genomad_top_dir, folder, summary_folder, genome_stub + '_genomic_virus_genes.tsv')\n",
    "    virus_gene_df = pd.read_csv(virus_gene_f, sep='\\t')\n",
    "    virus_gene_df['genome'] = folder\n",
    "    virus_gene_list.append(virus_gene_df)\n",
    "plasmid_summary_df = pd.concat(plasmid_summary_list)\n",
    "plasmid_gene_df = pd.concat(plasmid_gene_list)\n",
    "virus_summary_df = pd.concat(virus_summary_list)\n",
    "virus_gene_df = pd.concat(virus_gene_list)\n",
    "\n",
    "    \n"
   ]
  },
  {
   "cell_type": "code",
   "execution_count": 15,
   "id": "c829eb83-76e8-4452-8fbe-a379187f8523",
   "metadata": {},
   "outputs": [],
   "source": [
    "ecor_predictions['plasmid'] = ecor_predictions['genomic_accession'].isin(plasmid_summary_df['seq_name'])"
   ]
  },
  {
   "cell_type": "code",
   "execution_count": 16,
   "id": "3fd76ce5-c91d-4639-a129-d541e8955d38",
   "metadata": {},
   "outputs": [],
   "source": [
    "virus_summary_df['genomic_accession'] = virus_summary_df['seq_name'].str.split('\\|', expand=True)[0]\n",
    "virus_summary_df['start'] = virus_summary_df['coordinates'].str.split('-', expand=True)[0]\n",
    "virus_summary_df['start'] = virus_summary_df['start'].fillna(0).astype(int)\n",
    "virus_summary_df['end'] = virus_summary_df['coordinates'].str.split('-', expand=True)[1]\n",
    "virus_summary_df['end'] = [int(row['end']) if not pd.isna(row['end']) else row['length'] \n",
    "                           for _, row in virus_summary_df.iterrows()]"
   ]
  },
  {
   "cell_type": "code",
   "execution_count": 17,
   "id": "a0902ae6-91a2-450f-bb22-ebf52b45329c",
   "metadata": {},
   "outputs": [
    {
     "name": "stderr",
     "output_type": "stream",
     "text": [
      "100%|██████████| 1257/1257 [00:27<00:00, 45.56it/s]\n"
     ]
    }
   ],
   "source": [
    "viral_region_ids = []\n",
    "for _, row in tqdm(virus_summary_df.iterrows(), total=len(virus_summary_df), position=0):\n",
    "    filtered_ecor_preds = ecor_predictions[(ecor_predictions['genomic_accession'] == \n",
    "                                            row['genomic_accession']) & \n",
    "                                           (ecor_predictions['start'] >= row['start']) & \n",
    "                                           (ecor_predictions['end'] <= row['end'])]\n",
    "    viral_region_ids.extend(filtered_ecor_preds['protein_context_id'].to_list())\n",
    "    "
   ]
  },
  {
   "cell_type": "code",
   "execution_count": 18,
   "id": "954bf9fc-417c-42ed-a0a8-185400f7548e",
   "metadata": {},
   "outputs": [],
   "source": [
    "ecor_predictions['prophage'] = ecor_predictions['protein_context_id'].isin(viral_region_ids)"
   ]
  },
  {
   "cell_type": "markdown",
   "id": "99f923d3-c01b-4f37-8083-b4cc343d1613",
   "metadata": {},
   "source": [
    "## Defense island analysis"
   ]
  },
  {
   "cell_type": "code",
   "execution_count": 19,
   "id": "902419d1-df5c-4802-b544-3123411aeaca",
   "metadata": {},
   "outputs": [],
   "source": [
    "system_size_df = (ecor_predictions[['genomic_accession', 'sys_id']]\n",
    "                          .value_counts()\n",
    "                          .reset_index(name='system_size'))\n"
   ]
  },
  {
   "cell_type": "code",
   "execution_count": 20,
   "id": "1905e0f0-5867-4b60-9d83-1ea1f9c6f866",
   "metadata": {},
   "outputs": [
    {
     "name": "stderr",
     "output_type": "stream",
     "text": [
      "100%|██████████| 7738/7738 [00:29<00:00, 259.81it/s]\n"
     ]
    },
    {
     "name": "stdout",
     "output_type": "stream",
     "text": [
      "12.059652379399271\n"
     ]
    }
   ],
   "source": [
    "window_size = 21 # stick with the standard window size\n",
    "contig_defense_neighbor_list = []\n",
    "for contig, contig_df in tqdm(ecor_predictions.groupby('genomic_accession'), \n",
    "                              position=0, total=ecor_predictions['genomic_accession'].nunique()):\n",
    "    defense_count = (contig_df['defense_system_protein'].rolling(window_size, min_periods=1, center=True)\n",
    "                            .sum())\n",
    "    out_contig_df = contig_df[['protein_context_id', 'predicted_defense', 'sys_id']].copy()\n",
    "    out_contig_df['genomic_accession'] = contig\n",
    "    out_contig_df['defense_neighbor_count'] = defense_count\n",
    "    out_contig_df = (out_contig_df.merge(system_size_df, how='left', \n",
    "                                         on=['sys_id', 'genomic_accession']))\n",
    "    out_contig_df['system_size'] = out_contig_df['system_size'].fillna(0)\n",
    "    out_contig_df['defense_neighbor_count'] = out_contig_df['defense_neighbor_count'] - out_contig_df['system_size']\n",
    "    out_contig_df['defense_neighbor'] = out_contig_df['defense_neighbor_count'] > 0\n",
    "    contig_defense_neighbor_list.append(out_contig_df)\n",
    "defense_neighbor_df = pd.concat(contig_defense_neighbor_list)\n",
    "defense_neighbor_assoc = ((defense_neighbor_df['predicted_defense'] & \n",
    "                 defense_neighbor_df['defense_neighbor']).sum()/\n",
    "                defense_neighbor_df['predicted_defense'].sum())\n",
    "background_defense_assoc = defense_neighbor_df['defense_neighbor'].sum()/len(defense_neighbor_df)\n",
    "defense_enrichment = defense_neighbor_assoc/background_defense_assoc\n",
    "print(defense_enrichment)"
   ]
  },
  {
   "cell_type": "code",
   "execution_count": 21,
   "id": "fdbdb02c-3f24-40a2-b701-aaa90240465b",
   "metadata": {},
   "outputs": [],
   "source": [
    "ecor_predictions = ecor_predictions.merge(defense_neighbor_df[['protein_context_id', 'defense_neighbor']], \n",
    "                                          how='inner', on='protein_context_id')"
   ]
  },
  {
   "cell_type": "code",
   "execution_count": 22,
   "id": "999f36f4-22ab-4d87-90f3-644b87a99637",
   "metadata": {},
   "outputs": [],
   "source": [
    "hit_loc_agg_df = (ecor_predictions.groupby(['plasmid', 'prophage', 'defense_neighbor', 'hit_category'])\n",
    "                  .agg(cat_loc_n_genes = ('product_accession', 'count'))\n",
    "                  .reset_index())\n",
    "hit_cat_count = (ecor_predictions.groupby('hit_category')\n",
    "                 .agg(cat_n_g_enges = ('product_accession', 'count'))\n",
    "                 .reset_index())\n",
    "hit_loc_agg_df = (hit_loc_agg_df\n",
    "                  .merge(hit_cat_count, how='inner', \n",
    "                         on='hit_category'))\n",
    "hit_loc_agg_df['hit_cat_frac'] = hit_loc_agg_df['cat_loc_n_genes']/hit_loc_agg_df['cat_n_g_enges']\n",
    "background_loc_agg_df = (ecor_predictions.groupby(['plasmid', 'prophage', 'defense_neighbor'])\n",
    "                         .agg(cat_loc_n_genes = ('product_accession', 'count'))\n",
    "                         .reset_index())\n",
    "background_loc_agg_df['hit_cat_frac'] = background_loc_agg_df['cat_loc_n_genes']/len(ecor_predictions)\n",
    "background_loc_agg_df['hit_category'] = 'All genes'\n",
    "hit_loc_agg_df = pd.concat([hit_loc_agg_df, background_loc_agg_df])\n",
    "hit_loc_agg_df = hit_loc_agg_df[(hit_loc_agg_df.hit_category.isin(['All genes', \n",
    "                                                                   'Defense homolog in expected system', \n",
    "                                                                   'Predicted novel defense gene'])) & \n",
    "                                (hit_loc_agg_df['plasmid'] | \n",
    "                                 hit_loc_agg_df['prophage'] |\n",
    "                                 hit_loc_agg_df['defense_neighbor'])]"
   ]
  },
  {
   "cell_type": "code",
   "execution_count": 23,
   "id": "200e8dba-5d8c-47b2-845e-eb8ed2117e1d",
   "metadata": {},
   "outputs": [
    {
     "data": {
      "text/html": [
       "<div>\n",
       "<style scoped>\n",
       "    .dataframe tbody tr th:only-of-type {\n",
       "        vertical-align: middle;\n",
       "    }\n",
       "\n",
       "    .dataframe tbody tr th {\n",
       "        vertical-align: top;\n",
       "    }\n",
       "\n",
       "    .dataframe thead th {\n",
       "        text-align: right;\n",
       "    }\n",
       "</style>\n",
       "<table border=\"1\" class=\"dataframe\">\n",
       "  <thead>\n",
       "    <tr style=\"text-align: right;\">\n",
       "      <th></th>\n",
       "      <th>plasmid</th>\n",
       "      <th>prophage</th>\n",
       "      <th>defense_neighbor</th>\n",
       "      <th>hit_category</th>\n",
       "      <th>cat_loc_n_genes</th>\n",
       "      <th>cat_n_g_enges</th>\n",
       "      <th>hit_cat_frac</th>\n",
       "    </tr>\n",
       "  </thead>\n",
       "  <tbody>\n",
       "    <tr>\n",
       "      <th>14</th>\n",
       "      <td>False</td>\n",
       "      <td>True</td>\n",
       "      <td>False</td>\n",
       "      <td>Predicted novel defense gene</td>\n",
       "      <td>133</td>\n",
       "      <td>607.0</td>\n",
       "      <td>0.219110</td>\n",
       "    </tr>\n",
       "    <tr>\n",
       "      <th>4</th>\n",
       "      <td>True</td>\n",
       "      <td>False</td>\n",
       "      <td>False</td>\n",
       "      <td>Defense homolog in expected system</td>\n",
       "      <td>80</td>\n",
       "      <td>395.0</td>\n",
       "      <td>0.202532</td>\n",
       "    </tr>\n",
       "    <tr>\n",
       "      <th>16</th>\n",
       "      <td>True</td>\n",
       "      <td>False</td>\n",
       "      <td>False</td>\n",
       "      <td>Predicted novel defense gene</td>\n",
       "      <td>97</td>\n",
       "      <td>607.0</td>\n",
       "      <td>0.159802</td>\n",
       "    </tr>\n",
       "    <tr>\n",
       "      <th>2</th>\n",
       "      <td>False</td>\n",
       "      <td>True</td>\n",
       "      <td>False</td>\n",
       "      <td>Defense homolog in expected system</td>\n",
       "      <td>53</td>\n",
       "      <td>395.0</td>\n",
       "      <td>0.134177</td>\n",
       "    </tr>\n",
       "    <tr>\n",
       "      <th>1</th>\n",
       "      <td>False</td>\n",
       "      <td>False</td>\n",
       "      <td>True</td>\n",
       "      <td>Defense homolog in expected system</td>\n",
       "      <td>42</td>\n",
       "      <td>395.0</td>\n",
       "      <td>0.106329</td>\n",
       "    </tr>\n",
       "    <tr>\n",
       "      <th>13</th>\n",
       "      <td>False</td>\n",
       "      <td>False</td>\n",
       "      <td>True</td>\n",
       "      <td>Predicted novel defense gene</td>\n",
       "      <td>52</td>\n",
       "      <td>607.0</td>\n",
       "      <td>0.085667</td>\n",
       "    </tr>\n",
       "    <tr>\n",
       "      <th>4</th>\n",
       "      <td>True</td>\n",
       "      <td>False</td>\n",
       "      <td>False</td>\n",
       "      <td>All genes</td>\n",
       "      <td>23115</td>\n",
       "      <td>NaN</td>\n",
       "      <td>0.071932</td>\n",
       "    </tr>\n",
       "    <tr>\n",
       "      <th>2</th>\n",
       "      <td>False</td>\n",
       "      <td>True</td>\n",
       "      <td>False</td>\n",
       "      <td>All genes</td>\n",
       "      <td>18150</td>\n",
       "      <td>NaN</td>\n",
       "      <td>0.056481</td>\n",
       "    </tr>\n",
       "    <tr>\n",
       "      <th>5</th>\n",
       "      <td>True</td>\n",
       "      <td>False</td>\n",
       "      <td>True</td>\n",
       "      <td>Defense homolog in expected system</td>\n",
       "      <td>21</td>\n",
       "      <td>395.0</td>\n",
       "      <td>0.053165</td>\n",
       "    </tr>\n",
       "    <tr>\n",
       "      <th>17</th>\n",
       "      <td>True</td>\n",
       "      <td>False</td>\n",
       "      <td>True</td>\n",
       "      <td>Predicted novel defense gene</td>\n",
       "      <td>23</td>\n",
       "      <td>607.0</td>\n",
       "      <td>0.037891</td>\n",
       "    </tr>\n",
       "    <tr>\n",
       "      <th>15</th>\n",
       "      <td>False</td>\n",
       "      <td>True</td>\n",
       "      <td>True</td>\n",
       "      <td>Predicted novel defense gene</td>\n",
       "      <td>14</td>\n",
       "      <td>607.0</td>\n",
       "      <td>0.023064</td>\n",
       "    </tr>\n",
       "    <tr>\n",
       "      <th>3</th>\n",
       "      <td>False</td>\n",
       "      <td>True</td>\n",
       "      <td>True</td>\n",
       "      <td>Defense homolog in expected system</td>\n",
       "      <td>6</td>\n",
       "      <td>395.0</td>\n",
       "      <td>0.015190</td>\n",
       "    </tr>\n",
       "    <tr>\n",
       "      <th>1</th>\n",
       "      <td>False</td>\n",
       "      <td>False</td>\n",
       "      <td>True</td>\n",
       "      <td>All genes</td>\n",
       "      <td>3091</td>\n",
       "      <td>NaN</td>\n",
       "      <td>0.009619</td>\n",
       "    </tr>\n",
       "    <tr>\n",
       "      <th>5</th>\n",
       "      <td>True</td>\n",
       "      <td>False</td>\n",
       "      <td>True</td>\n",
       "      <td>All genes</td>\n",
       "      <td>1049</td>\n",
       "      <td>NaN</td>\n",
       "      <td>0.003264</td>\n",
       "    </tr>\n",
       "    <tr>\n",
       "      <th>3</th>\n",
       "      <td>False</td>\n",
       "      <td>True</td>\n",
       "      <td>True</td>\n",
       "      <td>All genes</td>\n",
       "      <td>736</td>\n",
       "      <td>NaN</td>\n",
       "      <td>0.002290</td>\n",
       "    </tr>\n",
       "  </tbody>\n",
       "</table>\n",
       "</div>"
      ],
      "text/plain": [
       "    plasmid  prophage  defense_neighbor                        hit_category   \n",
       "14    False      True             False        Predicted novel defense gene  \\\n",
       "4      True     False             False  Defense homolog in expected system   \n",
       "16     True     False             False        Predicted novel defense gene   \n",
       "2     False      True             False  Defense homolog in expected system   \n",
       "1     False     False              True  Defense homolog in expected system   \n",
       "13    False     False              True        Predicted novel defense gene   \n",
       "4      True     False             False                           All genes   \n",
       "2     False      True             False                           All genes   \n",
       "5      True     False              True  Defense homolog in expected system   \n",
       "17     True     False              True        Predicted novel defense gene   \n",
       "15    False      True              True        Predicted novel defense gene   \n",
       "3     False      True              True  Defense homolog in expected system   \n",
       "1     False     False              True                           All genes   \n",
       "5      True     False              True                           All genes   \n",
       "3     False      True              True                           All genes   \n",
       "\n",
       "    cat_loc_n_genes  cat_n_g_enges  hit_cat_frac  \n",
       "14              133          607.0      0.219110  \n",
       "4                80          395.0      0.202532  \n",
       "16               97          607.0      0.159802  \n",
       "2                53          395.0      0.134177  \n",
       "1                42          395.0      0.106329  \n",
       "13               52          607.0      0.085667  \n",
       "4             23115            NaN      0.071932  \n",
       "2             18150            NaN      0.056481  \n",
       "5                21          395.0      0.053165  \n",
       "17               23          607.0      0.037891  \n",
       "15               14          607.0      0.023064  \n",
       "3                 6          395.0      0.015190  \n",
       "1              3091            NaN      0.009619  \n",
       "5              1049            NaN      0.003264  \n",
       "3               736            NaN      0.002290  "
      ]
     },
     "execution_count": 23,
     "metadata": {},
     "output_type": "execute_result"
    }
   ],
   "source": [
    "hit_loc_agg_df.sort_values('hit_cat_frac', ascending=False)"
   ]
  },
  {
   "cell_type": "code",
   "execution_count": 24,
   "id": "18629eaf-487a-4373-9984-65c51bb353ce",
   "metadata": {},
   "outputs": [],
   "source": [
    "def calculate_resampled_stats(resampled_predictions):\n",
    "    hit_loc_agg_df = (resampled_predictions.groupby(['plasmid', 'prophage', 'defense_neighbor', 'hit_category'])\n",
    "                      .agg(cat_loc_n_genes = ('product_accession', 'count'))\n",
    "                      .reset_index())\n",
    "    hit_cat_count = (resampled_predictions.groupby('hit_category')\n",
    "                     .agg(cat_n_g_enges = ('product_accession', 'count'))\n",
    "                     .reset_index())\n",
    "    hit_loc_agg_df = (hit_loc_agg_df\n",
    "                      .merge(hit_cat_count, how='inner', \n",
    "                             on='hit_category'))\n",
    "    hit_loc_agg_df['hit_cat_frac'] = hit_loc_agg_df['cat_loc_n_genes']/hit_loc_agg_df['cat_n_g_enges']\n",
    "    background_loc_agg_df = (resampled_predictions.groupby(['plasmid', 'prophage', 'defense_neighbor'])\n",
    "                             .agg(cat_loc_n_genes = ('product_accession', 'count'))\n",
    "                             .reset_index())\n",
    "    background_loc_agg_df['hit_cat_frac'] = background_loc_agg_df['cat_loc_n_genes']/len(resampled_predictions)\n",
    "    background_loc_agg_df['hit_category'] = 'All genes'\n",
    "    hit_loc_agg_df = pd.concat([hit_loc_agg_df, background_loc_agg_df])\n",
    "    hit_loc_agg_df = hit_loc_agg_df[(hit_loc_agg_df.hit_category.isin(['All genes', \n",
    "                                                                       'Defense homolog in expected system', \n",
    "                                                                       'Predicted novel defense gene'])) & \n",
    "                                    (hit_loc_agg_df['plasmid'] | \n",
    "                                     hit_loc_agg_df['prophage'] |\n",
    "                                     hit_loc_agg_df['defense_neighbor'])]\n",
    "    return hit_loc_agg_df\n",
    "    "
   ]
  },
  {
   "cell_type": "code",
   "execution_count": 25,
   "id": "aee7062c-a620-46b9-8539-c28ead00c8c8",
   "metadata": {},
   "outputs": [
    {
     "name": "stderr",
     "output_type": "stream",
     "text": [
      "100%|██████████| 200/200 [01:11<00:00,  2.78it/s]\n"
     ]
    }
   ],
   "source": [
    "n_resamples = 200\n",
    "resampled_stat_list = list()\n",
    "for i in tqdm(range(n_resamples)):\n",
    "    resampled_predictions = ecor_predictions.sample(frac=1, replace=True, random_state=i)\n",
    "    resampled_stats = calculate_resampled_stats(resampled_predictions)\n",
    "    resampled_stats['trial'] = i\n",
    "    resampled_stat_list.append(resampled_stats)\n"
   ]
  },
  {
   "cell_type": "code",
   "execution_count": 26,
   "id": "283e9c54-6b30-444b-97c8-2330708e794f",
   "metadata": {},
   "outputs": [],
   "source": [
    "cat_resampled_stats = pd.concat(resampled_stat_list)\n",
    "agg_resampled_stat = (cat_resampled_stats.groupby(['plasmid', 'prophage', 'defense_neighbor', 'hit_category'])\n",
    "                      .agg(hit_cat_frac_mean=('hit_cat_frac', 'mean'), \n",
    "                        hit_cat_frac_ub=('hit_cat_frac', lambda x: np.percentile(x, 97.5)), \n",
    "                        lower_bound_lb=('hit_cat_frac', lambda x: np.percentile(x, 2.5)))\n",
    "                      .reset_index())"
   ]
  },
  {
   "cell_type": "code",
   "execution_count": 27,
   "id": "02849330-ac1e-484e-8c21-19672bc2700a",
   "metadata": {},
   "outputs": [
    {
     "data": {
      "text/html": [
       "<div>\n",
       "<style scoped>\n",
       "    .dataframe tbody tr th:only-of-type {\n",
       "        vertical-align: middle;\n",
       "    }\n",
       "\n",
       "    .dataframe tbody tr th {\n",
       "        vertical-align: top;\n",
       "    }\n",
       "\n",
       "    .dataframe thead th {\n",
       "        text-align: right;\n",
       "    }\n",
       "</style>\n",
       "<table border=\"1\" class=\"dataframe\">\n",
       "  <thead>\n",
       "    <tr style=\"text-align: right;\">\n",
       "      <th></th>\n",
       "      <th>Plasmid</th>\n",
       "      <th>Prophage</th>\n",
       "      <th>Defense Island</th>\n",
       "      <th>hit_category</th>\n",
       "      <th>cat_loc_n_genes</th>\n",
       "      <th>cat_n_g_enges</th>\n",
       "      <th>hit_cat_frac</th>\n",
       "      <th>hit_cat_frac_mean</th>\n",
       "      <th>hit_cat_frac_ub</th>\n",
       "      <th>lower_bound_lb</th>\n",
       "    </tr>\n",
       "  </thead>\n",
       "  <tbody>\n",
       "    <tr>\n",
       "      <th>6</th>\n",
       "      <td>False</td>\n",
       "      <td>True</td>\n",
       "      <td>False</td>\n",
       "      <td>Predicted novel defense gene</td>\n",
       "      <td>133</td>\n",
       "      <td>607.0</td>\n",
       "      <td>0.219110</td>\n",
       "      <td>0.218137</td>\n",
       "      <td>0.253821</td>\n",
       "      <td>0.186588</td>\n",
       "    </tr>\n",
       "    <tr>\n",
       "      <th>3</th>\n",
       "      <td>True</td>\n",
       "      <td>False</td>\n",
       "      <td>False</td>\n",
       "      <td>Defense homolog in expected system</td>\n",
       "      <td>80</td>\n",
       "      <td>395.0</td>\n",
       "      <td>0.202532</td>\n",
       "      <td>0.202076</td>\n",
       "      <td>0.244558</td>\n",
       "      <td>0.160536</td>\n",
       "    </tr>\n",
       "    <tr>\n",
       "      <th>8</th>\n",
       "      <td>True</td>\n",
       "      <td>False</td>\n",
       "      <td>False</td>\n",
       "      <td>Predicted novel defense gene</td>\n",
       "      <td>97</td>\n",
       "      <td>607.0</td>\n",
       "      <td>0.159802</td>\n",
       "      <td>0.160399</td>\n",
       "      <td>0.192685</td>\n",
       "      <td>0.132050</td>\n",
       "    </tr>\n",
       "    <tr>\n",
       "      <th>1</th>\n",
       "      <td>False</td>\n",
       "      <td>True</td>\n",
       "      <td>False</td>\n",
       "      <td>Defense homolog in expected system</td>\n",
       "      <td>53</td>\n",
       "      <td>395.0</td>\n",
       "      <td>0.134177</td>\n",
       "      <td>0.135050</td>\n",
       "      <td>0.171292</td>\n",
       "      <td>0.104740</td>\n",
       "    </tr>\n",
       "    <tr>\n",
       "      <th>0</th>\n",
       "      <td>False</td>\n",
       "      <td>False</td>\n",
       "      <td>True</td>\n",
       "      <td>Defense homolog in expected system</td>\n",
       "      <td>42</td>\n",
       "      <td>395.0</td>\n",
       "      <td>0.106329</td>\n",
       "      <td>0.106352</td>\n",
       "      <td>0.133978</td>\n",
       "      <td>0.079257</td>\n",
       "    </tr>\n",
       "    <tr>\n",
       "      <th>5</th>\n",
       "      <td>False</td>\n",
       "      <td>False</td>\n",
       "      <td>True</td>\n",
       "      <td>Predicted novel defense gene</td>\n",
       "      <td>52</td>\n",
       "      <td>607.0</td>\n",
       "      <td>0.085667</td>\n",
       "      <td>0.086162</td>\n",
       "      <td>0.107828</td>\n",
       "      <td>0.062990</td>\n",
       "    </tr>\n",
       "    <tr>\n",
       "      <th>13</th>\n",
       "      <td>True</td>\n",
       "      <td>False</td>\n",
       "      <td>False</td>\n",
       "      <td>All genes</td>\n",
       "      <td>23115</td>\n",
       "      <td>NaN</td>\n",
       "      <td>0.071932</td>\n",
       "      <td>0.071946</td>\n",
       "      <td>0.072664</td>\n",
       "      <td>0.071153</td>\n",
       "    </tr>\n",
       "    <tr>\n",
       "      <th>11</th>\n",
       "      <td>False</td>\n",
       "      <td>True</td>\n",
       "      <td>False</td>\n",
       "      <td>All genes</td>\n",
       "      <td>18150</td>\n",
       "      <td>NaN</td>\n",
       "      <td>0.056481</td>\n",
       "      <td>0.056485</td>\n",
       "      <td>0.057305</td>\n",
       "      <td>0.055871</td>\n",
       "    </tr>\n",
       "    <tr>\n",
       "      <th>4</th>\n",
       "      <td>True</td>\n",
       "      <td>False</td>\n",
       "      <td>True</td>\n",
       "      <td>Defense homolog in expected system</td>\n",
       "      <td>21</td>\n",
       "      <td>395.0</td>\n",
       "      <td>0.053165</td>\n",
       "      <td>0.053461</td>\n",
       "      <td>0.074273</td>\n",
       "      <td>0.030839</td>\n",
       "    </tr>\n",
       "    <tr>\n",
       "      <th>9</th>\n",
       "      <td>True</td>\n",
       "      <td>False</td>\n",
       "      <td>True</td>\n",
       "      <td>Predicted novel defense gene</td>\n",
       "      <td>23</td>\n",
       "      <td>607.0</td>\n",
       "      <td>0.037891</td>\n",
       "      <td>0.038171</td>\n",
       "      <td>0.053821</td>\n",
       "      <td>0.024561</td>\n",
       "    </tr>\n",
       "    <tr>\n",
       "      <th>7</th>\n",
       "      <td>False</td>\n",
       "      <td>True</td>\n",
       "      <td>True</td>\n",
       "      <td>Predicted novel defense gene</td>\n",
       "      <td>14</td>\n",
       "      <td>607.0</td>\n",
       "      <td>0.023064</td>\n",
       "      <td>0.022277</td>\n",
       "      <td>0.033455</td>\n",
       "      <td>0.012021</td>\n",
       "    </tr>\n",
       "    <tr>\n",
       "      <th>2</th>\n",
       "      <td>False</td>\n",
       "      <td>True</td>\n",
       "      <td>True</td>\n",
       "      <td>Defense homolog in expected system</td>\n",
       "      <td>6</td>\n",
       "      <td>395.0</td>\n",
       "      <td>0.015190</td>\n",
       "      <td>0.015218</td>\n",
       "      <td>0.028353</td>\n",
       "      <td>0.005274</td>\n",
       "    </tr>\n",
       "    <tr>\n",
       "      <th>10</th>\n",
       "      <td>False</td>\n",
       "      <td>False</td>\n",
       "      <td>True</td>\n",
       "      <td>All genes</td>\n",
       "      <td>3091</td>\n",
       "      <td>NaN</td>\n",
       "      <td>0.009619</td>\n",
       "      <td>0.009639</td>\n",
       "      <td>0.009986</td>\n",
       "      <td>0.009332</td>\n",
       "    </tr>\n",
       "    <tr>\n",
       "      <th>14</th>\n",
       "      <td>True</td>\n",
       "      <td>False</td>\n",
       "      <td>True</td>\n",
       "      <td>All genes</td>\n",
       "      <td>1049</td>\n",
       "      <td>NaN</td>\n",
       "      <td>0.003264</td>\n",
       "      <td>0.003282</td>\n",
       "      <td>0.003507</td>\n",
       "      <td>0.003102</td>\n",
       "    </tr>\n",
       "    <tr>\n",
       "      <th>12</th>\n",
       "      <td>False</td>\n",
       "      <td>True</td>\n",
       "      <td>True</td>\n",
       "      <td>All genes</td>\n",
       "      <td>736</td>\n",
       "      <td>NaN</td>\n",
       "      <td>0.002290</td>\n",
       "      <td>0.002283</td>\n",
       "      <td>0.002449</td>\n",
       "      <td>0.002125</td>\n",
       "    </tr>\n",
       "  </tbody>\n",
       "</table>\n",
       "</div>"
      ],
      "text/plain": [
       "    Plasmid  Prophage  Defense Island                        hit_category   \n",
       "6     False      True           False        Predicted novel defense gene  \\\n",
       "3      True     False           False  Defense homolog in expected system   \n",
       "8      True     False           False        Predicted novel defense gene   \n",
       "1     False      True           False  Defense homolog in expected system   \n",
       "0     False     False            True  Defense homolog in expected system   \n",
       "5     False     False            True        Predicted novel defense gene   \n",
       "13     True     False           False                           All genes   \n",
       "11    False      True           False                           All genes   \n",
       "4      True     False            True  Defense homolog in expected system   \n",
       "9      True     False            True        Predicted novel defense gene   \n",
       "7     False      True            True        Predicted novel defense gene   \n",
       "2     False      True            True  Defense homolog in expected system   \n",
       "10    False     False            True                           All genes   \n",
       "14     True     False            True                           All genes   \n",
       "12    False      True            True                           All genes   \n",
       "\n",
       "    cat_loc_n_genes  cat_n_g_enges  hit_cat_frac  hit_cat_frac_mean   \n",
       "6               133          607.0      0.219110           0.218137  \\\n",
       "3                80          395.0      0.202532           0.202076   \n",
       "8                97          607.0      0.159802           0.160399   \n",
       "1                53          395.0      0.134177           0.135050   \n",
       "0                42          395.0      0.106329           0.106352   \n",
       "5                52          607.0      0.085667           0.086162   \n",
       "13            23115            NaN      0.071932           0.071946   \n",
       "11            18150            NaN      0.056481           0.056485   \n",
       "4                21          395.0      0.053165           0.053461   \n",
       "9                23          607.0      0.037891           0.038171   \n",
       "7                14          607.0      0.023064           0.022277   \n",
       "2                 6          395.0      0.015190           0.015218   \n",
       "10             3091            NaN      0.009619           0.009639   \n",
       "14             1049            NaN      0.003264           0.003282   \n",
       "12              736            NaN      0.002290           0.002283   \n",
       "\n",
       "    hit_cat_frac_ub  lower_bound_lb  \n",
       "6          0.253821        0.186588  \n",
       "3          0.244558        0.160536  \n",
       "8          0.192685        0.132050  \n",
       "1          0.171292        0.104740  \n",
       "0          0.133978        0.079257  \n",
       "5          0.107828        0.062990  \n",
       "13         0.072664        0.071153  \n",
       "11         0.057305        0.055871  \n",
       "4          0.074273        0.030839  \n",
       "9          0.053821        0.024561  \n",
       "7          0.033455        0.012021  \n",
       "2          0.028353        0.005274  \n",
       "10         0.009986        0.009332  \n",
       "14         0.003507        0.003102  \n",
       "12         0.002449        0.002125  "
      ]
     },
     "execution_count": 27,
     "metadata": {},
     "output_type": "execute_result"
    }
   ],
   "source": [
    "merged_hit_loc_agg_df = (hit_loc_agg_df.merge(agg_resampled_stat, how='inner', \n",
    "                                              on=['plasmid', 'prophage', 'defense_neighbor', 'hit_category']))\n",
    "merged_hit_loc_agg_df = merged_hit_loc_agg_df.rename(columns={'plasmid': 'Plasmid', \n",
    "                                                              'prophage': 'Prophage', \n",
    "                                                              'defense_neighbor': 'Defense Island'})\n",
    "merged_hit_loc_agg_df.sort_values('hit_cat_frac', ascending=False)"
   ]
  },
  {
   "cell_type": "code",
   "execution_count": 30,
   "id": "aecb9235-e985-4eae-bdad-4a527d11883a",
   "metadata": {},
   "outputs": [
    {
     "data": {
      "text/html": [
       "<div>\n",
       "<style scoped>\n",
       "    .dataframe tbody tr th:only-of-type {\n",
       "        vertical-align: middle;\n",
       "    }\n",
       "\n",
       "    .dataframe tbody tr th {\n",
       "        vertical-align: top;\n",
       "    }\n",
       "\n",
       "    .dataframe thead th {\n",
       "        text-align: right;\n",
       "    }\n",
       "</style>\n",
       "<table border=\"1\" class=\"dataframe\">\n",
       "  <thead>\n",
       "    <tr style=\"text-align: right;\">\n",
       "      <th></th>\n",
       "      <th></th>\n",
       "      <th>hit_cat_frac</th>\n",
       "    </tr>\n",
       "    <tr>\n",
       "      <th>Plasmid</th>\n",
       "      <th>hit_category</th>\n",
       "      <th></th>\n",
       "    </tr>\n",
       "  </thead>\n",
       "  <tbody>\n",
       "    <tr>\n",
       "      <th rowspan=\"3\" valign=\"top\">False</th>\n",
       "      <th>All genes</th>\n",
       "      <td>0.068390</td>\n",
       "    </tr>\n",
       "    <tr>\n",
       "      <th>Defense homolog in expected system</th>\n",
       "      <td>0.255696</td>\n",
       "    </tr>\n",
       "    <tr>\n",
       "      <th>Predicted novel defense gene</th>\n",
       "      <td>0.327842</td>\n",
       "    </tr>\n",
       "    <tr>\n",
       "      <th rowspan=\"3\" valign=\"top\">True</th>\n",
       "      <th>All genes</th>\n",
       "      <td>0.075196</td>\n",
       "    </tr>\n",
       "    <tr>\n",
       "      <th>Defense homolog in expected system</th>\n",
       "      <td>0.255696</td>\n",
       "    </tr>\n",
       "    <tr>\n",
       "      <th>Predicted novel defense gene</th>\n",
       "      <td>0.197694</td>\n",
       "    </tr>\n",
       "  </tbody>\n",
       "</table>\n",
       "</div>"
      ],
      "text/plain": [
       "                                            hit_cat_frac\n",
       "Plasmid hit_category                                    \n",
       "False   All genes                               0.068390\n",
       "        Defense homolog in expected system      0.255696\n",
       "        Predicted novel defense gene            0.327842\n",
       "True    All genes                               0.075196\n",
       "        Defense homolog in expected system      0.255696\n",
       "        Predicted novel defense gene            0.197694"
      ]
     },
     "execution_count": 30,
     "metadata": {},
     "output_type": "execute_result"
    }
   ],
   "source": [
    "merged_hit_loc_agg_df.groupby(['Plasmid', 'hit_category']).agg({'hit_cat_frac': 'sum'})"
   ]
  },
  {
   "cell_type": "code",
   "execution_count": 31,
   "id": "692d5731-d332-417f-b7f9-565c0fc3e412",
   "metadata": {},
   "outputs": [
    {
     "data": {
      "text/html": [
       "<div>\n",
       "<style scoped>\n",
       "    .dataframe tbody tr th:only-of-type {\n",
       "        vertical-align: middle;\n",
       "    }\n",
       "\n",
       "    .dataframe tbody tr th {\n",
       "        vertical-align: top;\n",
       "    }\n",
       "\n",
       "    .dataframe thead th {\n",
       "        text-align: right;\n",
       "    }\n",
       "</style>\n",
       "<table border=\"1\" class=\"dataframe\">\n",
       "  <thead>\n",
       "    <tr style=\"text-align: right;\">\n",
       "      <th></th>\n",
       "      <th></th>\n",
       "      <th>hit_cat_frac</th>\n",
       "    </tr>\n",
       "    <tr>\n",
       "      <th>Prophage</th>\n",
       "      <th>hit_category</th>\n",
       "      <th></th>\n",
       "    </tr>\n",
       "  </thead>\n",
       "  <tbody>\n",
       "    <tr>\n",
       "      <th rowspan=\"3\" valign=\"top\">False</th>\n",
       "      <th>All genes</th>\n",
       "      <td>0.084815</td>\n",
       "    </tr>\n",
       "    <tr>\n",
       "      <th>Defense homolog in expected system</th>\n",
       "      <td>0.362025</td>\n",
       "    </tr>\n",
       "    <tr>\n",
       "      <th>Predicted novel defense gene</th>\n",
       "      <td>0.283361</td>\n",
       "    </tr>\n",
       "    <tr>\n",
       "      <th rowspan=\"3\" valign=\"top\">True</th>\n",
       "      <th>All genes</th>\n",
       "      <td>0.058771</td>\n",
       "    </tr>\n",
       "    <tr>\n",
       "      <th>Defense homolog in expected system</th>\n",
       "      <td>0.149367</td>\n",
       "    </tr>\n",
       "    <tr>\n",
       "      <th>Predicted novel defense gene</th>\n",
       "      <td>0.242175</td>\n",
       "    </tr>\n",
       "  </tbody>\n",
       "</table>\n",
       "</div>"
      ],
      "text/plain": [
       "                                             hit_cat_frac\n",
       "Prophage hit_category                                    \n",
       "False    All genes                               0.084815\n",
       "         Defense homolog in expected system      0.362025\n",
       "         Predicted novel defense gene            0.283361\n",
       "True     All genes                               0.058771\n",
       "         Defense homolog in expected system      0.149367\n",
       "         Predicted novel defense gene            0.242175"
      ]
     },
     "execution_count": 31,
     "metadata": {},
     "output_type": "execute_result"
    }
   ],
   "source": [
    "merged_hit_loc_agg_df.groupby(['Prophage', 'hit_category']).agg({'hit_cat_frac': 'sum'})"
   ]
  },
  {
   "cell_type": "code",
   "execution_count": 32,
   "id": "eeb5b6d6-30ff-45f9-9f2f-6ed63ad3feba",
   "metadata": {},
   "outputs": [
    {
     "data": {
      "text/html": [
       "<div>\n",
       "<style scoped>\n",
       "    .dataframe tbody tr th:only-of-type {\n",
       "        vertical-align: middle;\n",
       "    }\n",
       "\n",
       "    .dataframe tbody tr th {\n",
       "        vertical-align: top;\n",
       "    }\n",
       "\n",
       "    .dataframe thead th {\n",
       "        text-align: right;\n",
       "    }\n",
       "</style>\n",
       "<table border=\"1\" class=\"dataframe\">\n",
       "  <thead>\n",
       "    <tr style=\"text-align: right;\">\n",
       "      <th></th>\n",
       "      <th></th>\n",
       "      <th>hit_cat_frac</th>\n",
       "    </tr>\n",
       "    <tr>\n",
       "      <th>Defense Island</th>\n",
       "      <th>hit_category</th>\n",
       "      <th></th>\n",
       "    </tr>\n",
       "  </thead>\n",
       "  <tbody>\n",
       "    <tr>\n",
       "      <th rowspan=\"3\" valign=\"top\">False</th>\n",
       "      <th>All genes</th>\n",
       "      <td>0.128413</td>\n",
       "    </tr>\n",
       "    <tr>\n",
       "      <th>Defense homolog in expected system</th>\n",
       "      <td>0.336709</td>\n",
       "    </tr>\n",
       "    <tr>\n",
       "      <th>Predicted novel defense gene</th>\n",
       "      <td>0.378913</td>\n",
       "    </tr>\n",
       "    <tr>\n",
       "      <th rowspan=\"3\" valign=\"top\">True</th>\n",
       "      <th>All genes</th>\n",
       "      <td>0.015174</td>\n",
       "    </tr>\n",
       "    <tr>\n",
       "      <th>Defense homolog in expected system</th>\n",
       "      <td>0.174684</td>\n",
       "    </tr>\n",
       "    <tr>\n",
       "      <th>Predicted novel defense gene</th>\n",
       "      <td>0.146623</td>\n",
       "    </tr>\n",
       "  </tbody>\n",
       "</table>\n",
       "</div>"
      ],
      "text/plain": [
       "                                                   hit_cat_frac\n",
       "Defense Island hit_category                                    \n",
       "False          All genes                               0.128413\n",
       "               Defense homolog in expected system      0.336709\n",
       "               Predicted novel defense gene            0.378913\n",
       "True           All genes                               0.015174\n",
       "               Defense homolog in expected system      0.174684\n",
       "               Predicted novel defense gene            0.146623"
      ]
     },
     "execution_count": 32,
     "metadata": {},
     "output_type": "execute_result"
    }
   ],
   "source": [
    "merged_hit_loc_agg_df.groupby(['Defense Island', 'hit_category']).agg({'hit_cat_frac': 'sum'})"
   ]
  },
  {
   "cell_type": "code",
   "execution_count": 33,
   "id": "39c5dd11-544e-4479-bed1-ebc5bd5e77ec",
   "metadata": {},
   "outputs": [
    {
     "data": {
      "text/html": [
       "<div>\n",
       "<style scoped>\n",
       "    .dataframe tbody tr th:only-of-type {\n",
       "        vertical-align: middle;\n",
       "    }\n",
       "\n",
       "    .dataframe tbody tr th {\n",
       "        vertical-align: top;\n",
       "    }\n",
       "\n",
       "    .dataframe thead th {\n",
       "        text-align: right;\n",
       "    }\n",
       "</style>\n",
       "<table border=\"1\" class=\"dataframe\">\n",
       "  <thead>\n",
       "    <tr style=\"text-align: right;\">\n",
       "      <th></th>\n",
       "      <th>hit_cat_frac</th>\n",
       "    </tr>\n",
       "    <tr>\n",
       "      <th>hit_category</th>\n",
       "      <th></th>\n",
       "    </tr>\n",
       "  </thead>\n",
       "  <tbody>\n",
       "    <tr>\n",
       "      <th>All genes</th>\n",
       "      <td>0.143586</td>\n",
       "    </tr>\n",
       "    <tr>\n",
       "      <th>Defense homolog in expected system</th>\n",
       "      <td>0.511392</td>\n",
       "    </tr>\n",
       "    <tr>\n",
       "      <th>Predicted novel defense gene</th>\n",
       "      <td>0.525535</td>\n",
       "    </tr>\n",
       "  </tbody>\n",
       "</table>\n",
       "</div>"
      ],
      "text/plain": [
       "                                    hit_cat_frac\n",
       "hit_category                                    \n",
       "All genes                               0.143586\n",
       "Defense homolog in expected system      0.511392\n",
       "Predicted novel defense gene            0.525535"
      ]
     },
     "execution_count": 33,
     "metadata": {},
     "output_type": "execute_result"
    }
   ],
   "source": [
    "merged_hit_loc_agg_df.groupby(['hit_category']).agg({'hit_cat_frac': 'sum'})"
   ]
  },
  {
   "cell_type": "code",
   "execution_count": 28,
   "id": "3e2198d4-9484-4bd8-9b3e-5bb44790afd3",
   "metadata": {},
   "outputs": [],
   "source": [
    "defense_type_palette = ['grey', bw_color_palette[0], bw_color_palette[3]]"
   ]
  },
  {
   "cell_type": "code",
   "execution_count": 29,
   "id": "2412a53d-4b1b-4894-b4f6-1e83a154e51d",
   "metadata": {},
   "outputs": [
    {
     "data": {
      "image/png": "[encoded data removed]",
      "text/plain": [
       "<Figure size 220x220 with 2 Axes>"
      ]
     },
     "metadata": {},
     "output_type": "display_data"
    }
   ],
   "source": [
    "plot_upset(\n",
    "    merged_hit_loc_agg_df, ['Plasmid', 'Prophage', 'Defense Island'], 'hit_cat_frac', 'hit_category',\n",
    "    figsize=(2.2, 2.2),\n",
    "    palette=defense_type_palette,  # Custom color palette\n",
    "    subplot_fraction=0.25,           # Subplot is 25% of the bar plot height\n",
    "    lower_bound='lower_bound_lb',\n",
    "    upper_bound='hit_cat_frac_ub',\n",
    "    legend_title=None, bar_ylabel='Fraction of genes', \n",
    "    marker_size=4, legend_text_width=25\n",
    ")\n",
    "plt.savefig('../figures/hit_type_distribution.svg', bbox_inches='tight', dpi=300)"
   ]
  },
  {
   "cell_type": "markdown",
   "id": "36d152a9-9580-4d7f-b646-e7ce88a650fc",
   "metadata": {},
   "source": [
    "##### Old code"
   ]
  },
  {
   "cell_type": "code",
   "execution_count": 20,
   "id": "a75a13f6-ebed-44c6-8c2a-3bb09cc2a0f2",
   "metadata": {},
   "outputs": [
    {
     "name": "stderr",
     "output_type": "stream",
     "text": [
      "100%|██████████| 2563/2563 [00:01<00:00, 1824.19it/s]\n"
     ]
    }
   ],
   "source": [
    "hit_indices = ecor_predictions[~ecor_predictions['hit_category'].isna()].index\n",
    "neighbor_reach = 5\n",
    "hit_neighborhood_list = []\n",
    "for i in tqdm(hit_indices):\n",
    "    neighborhood_df = ecor_predictions.iloc[(i-neighbor_reach):(i+neighbor_reach+1), :]\n",
    "    neighborhood_df = neighborhood_df.loc[neighborhood_df['hit_category'].isna()]\n",
    "    hit_neighborhood_list.append(neighborhood_df)\n",
    "hit_neighborhood_df = pd.concat(hit_neighborhood_list).drop_duplicates()"
   ]
  },
  {
   "cell_type": "markdown",
   "id": "906825c2-6b88-45de-9f33-9668ff5404a0",
   "metadata": {},
   "source": [
    "### Gene associations"
   ]
  },
  {
   "cell_type": "code",
   "execution_count": 21,
   "id": "08d886d0-60c0-4a31-959e-bb6a6b8b1c35",
   "metadata": {},
   "outputs": [
    {
     "data": {
      "text/plain": [
       "name\n",
       "hypothetical protein                                        1329\n",
       "site-specific integrase                                       61\n",
       "phage portal protein                                          56\n",
       "helix-turn-helix domain-containing protein                    53\n",
       "phage tail protein                                            53\n",
       "YjcZ-like family protein                                      46\n",
       "MFS transporter                                               45\n",
       "tyrosine-type recombinase/integrase                           44\n",
       "N-acetylneuraminate epimerase                                 40\n",
       "MoxR family ATPase                                            40\n",
       "transposase                                                   34\n",
       "replication endonuclease                                      34\n",
       "endoribonuclease SymE                                         34\n",
       "integrase arm-type DNA-binding domain-containing protein      33\n",
       "terminase ATPase subunit family protein                       32\n",
       "DUF945 domain-containing protein                              31\n",
       "phosphoadenosine phosphosulfate reductase                     31\n",
       "WGR and DUF4132 domain-containing protein                     30\n",
       "IS3 family transposase                                        29\n",
       "fimbrial biogenesis outer membrane usher protein              29\n",
       "Name: count, dtype: int64"
      ]
     },
     "execution_count": 21,
     "metadata": {},
     "output_type": "execute_result"
    }
   ],
   "source": [
    "hit_neighborhood_df['name'].value_counts().head(20)"
   ]
  },
  {
   "cell_type": "markdown",
   "id": "385b30ba-e769-4838-932f-aeee048a40c2",
   "metadata": {},
   "source": [
    "#### Transposase"
   ]
  },
  {
   "cell_type": "code",
   "execution_count": 23,
   "id": "b3b8bece-11e5-4d43-9fa5-1dd8c52f2623",
   "metadata": {},
   "outputs": [],
   "source": [
    "gene_names = ecor_predictions['name'].drop_duplicates()\n",
    "trasposase_regex = 'transposase'\n",
    "transposase_names = gene_names[gene_names.str.contains(trasposase_regex)]\n",
    "ecor_predictions['transposase'] = ecor_predictions['name'].isin(transposase_names)"
   ]
  },
  {
   "cell_type": "code",
   "execution_count": 24,
   "id": "c352c9f7-4ee1-4124-848b-032788a54d4d",
   "metadata": {},
   "outputs": [
    {
     "name": "stdout",
     "output_type": "stream",
     "text": [
      "3\n"
     ]
    },
    {
     "name": "stderr",
     "output_type": "stream",
     "text": [
      "100%|██████████| 7738/7738 [00:09<00:00, 833.16it/s]\n"
     ]
    },
    {
     "name": "stdout",
     "output_type": "stream",
     "text": [
      "1.4542943197463103\n",
      "5\n"
     ]
    },
    {
     "name": "stderr",
     "output_type": "stream",
     "text": [
      "100%|██████████| 7738/7738 [00:09<00:00, 847.33it/s]\n"
     ]
    },
    {
     "name": "stdout",
     "output_type": "stream",
     "text": [
      "2.2737998105468877\n",
      "7\n"
     ]
    },
    {
     "name": "stderr",
     "output_type": "stream",
     "text": [
      "100%|██████████| 7738/7738 [00:09<00:00, 830.72it/s]\n"
     ]
    },
    {
     "name": "stdout",
     "output_type": "stream",
     "text": [
      "2.688371691771988\n",
      "9\n"
     ]
    },
    {
     "name": "stderr",
     "output_type": "stream",
     "text": [
      "100%|██████████| 7738/7738 [00:09<00:00, 847.72it/s]\n"
     ]
    },
    {
     "name": "stdout",
     "output_type": "stream",
     "text": [
      "2.8569224216623983\n",
      "11\n"
     ]
    },
    {
     "name": "stderr",
     "output_type": "stream",
     "text": [
      "100%|██████████| 7738/7738 [00:09<00:00, 836.40it/s]\n"
     ]
    },
    {
     "name": "stdout",
     "output_type": "stream",
     "text": [
      "2.971279197416707\n",
      "13\n"
     ]
    },
    {
     "name": "stderr",
     "output_type": "stream",
     "text": [
      "100%|██████████| 7738/7738 [00:09<00:00, 832.58it/s]\n"
     ]
    },
    {
     "name": "stdout",
     "output_type": "stream",
     "text": [
      "3.0382816760785833\n",
      "15\n"
     ]
    },
    {
     "name": "stderr",
     "output_type": "stream",
     "text": [
      "100%|██████████| 7738/7738 [00:09<00:00, 824.03it/s]\n"
     ]
    },
    {
     "name": "stdout",
     "output_type": "stream",
     "text": [
      "2.9756414737204\n",
      "17\n"
     ]
    },
    {
     "name": "stderr",
     "output_type": "stream",
     "text": [
      "100%|██████████| 7738/7738 [00:09<00:00, 850.61it/s]\n"
     ]
    },
    {
     "name": "stdout",
     "output_type": "stream",
     "text": [
      "2.868669989027652\n",
      "19\n"
     ]
    },
    {
     "name": "stderr",
     "output_type": "stream",
     "text": [
      "100%|██████████| 7738/7738 [00:09<00:00, 835.58it/s]\n"
     ]
    },
    {
     "name": "stdout",
     "output_type": "stream",
     "text": [
      "2.8060818145088158\n",
      "21\n"
     ]
    },
    {
     "name": "stderr",
     "output_type": "stream",
     "text": [
      "100%|██████████| 7738/7738 [00:09<00:00, 853.32it/s]\n"
     ]
    },
    {
     "name": "stdout",
     "output_type": "stream",
     "text": [
      "2.7444576985693425\n",
      "23\n"
     ]
    },
    {
     "name": "stderr",
     "output_type": "stream",
     "text": [
      "100%|██████████| 7738/7738 [00:09<00:00, 836.07it/s]\n"
     ]
    },
    {
     "name": "stdout",
     "output_type": "stream",
     "text": [
      "2.718415344811743\n"
     ]
    }
   ],
   "source": [
    "for window_size in np.arange(3, 25, 2):\n",
    "    print(window_size)\n",
    "    contig_tn_neighbor_list = []\n",
    "    for contig, contig_df in tqdm(ecor_predictions.groupby('genomic_accession'), \n",
    "                                  position=0, total=ecor_predictions['genomic_accession'].nunique()):\n",
    "        transposase_neighbor = (contig_df['transposase'].rolling(window_size, min_periods=1, center=True)\n",
    "                                .max())\n",
    "        out_contig_df = contig_df[['protein_context_id', 'predicted_defense']].copy()\n",
    "        out_contig_df['transposase_neighbor'] = pd.Series(transposase_neighbor).astype(bool)\n",
    "        contig_tn_neighbor_list.append(out_contig_df)\n",
    "    tn_neighbor_df = pd.concat(contig_tn_neighbor_list)\n",
    "    defense_tn_assoc = ((tn_neighbor_df['predicted_defense'] & \n",
    "                     tn_neighbor_df['transposase_neighbor']).sum()/\n",
    "                    tn_neighbor_df['predicted_defense'].sum())\n",
    "    background_tn_assoc = tn_neighbor_df['transposase_neighbor'].sum()/len(tn_neighbor_df)\n",
    "    defense_tn_enrichment = defense_tn_assoc/background_tn_assoc\n",
    "    print(defense_tn_enrichment)"
   ]
  },
  {
   "cell_type": "code",
   "execution_count": 25,
   "id": "1d342885-edc8-4b4a-82fd-8201b71c3780",
   "metadata": {},
   "outputs": [
    {
     "name": "stderr",
     "output_type": "stream",
     "text": [
      "100%|██████████| 7738/7738 [00:08<00:00, 895.57it/s]\n"
     ]
    }
   ],
   "source": [
    "window_size = 13\n",
    "contig_tn_neighbor_list = []\n",
    "for contig, contig_df in tqdm(ecor_predictions.groupby('genomic_accession'), \n",
    "                              position=0, total=ecor_predictions['genomic_accession'].nunique()):\n",
    "    transposase_neighbor = (contig_df['transposase'].rolling(window_size, min_periods=1, center=True)\n",
    "                            .max())\n",
    "    out_contig_df = contig_df[['protein_context_id']].copy()\n",
    "    out_contig_df['transposase_neighbor'] = pd.Series(transposase_neighbor).astype(bool)\n",
    "    contig_tn_neighbor_list.append(out_contig_df)\n",
    "tn_neighbor_df = pd.concat(contig_tn_neighbor_list)"
   ]
  },
  {
   "cell_type": "code",
   "execution_count": 26,
   "id": "72e100bd-fb10-4f98-bc58-0139521b7faa",
   "metadata": {},
   "outputs": [],
   "source": [
    "ecor_predictions = ecor_predictions.merge(tn_neighbor_df, how='inner', \n",
    "                                          on='protein_context_id')"
   ]
  },
  {
   "cell_type": "markdown",
   "id": "b587c00c-ecb8-499f-a09b-5dd25fc52226",
   "metadata": {},
   "source": [
    "#### Integrase"
   ]
  },
  {
   "cell_type": "code",
   "execution_count": 27,
   "id": "db97ac26-3f78-4781-bc5c-e5488ba6e2d5",
   "metadata": {},
   "outputs": [],
   "source": [
    "gene_names = ecor_predictions['name'].drop_duplicates()\n",
    "integrase_regex = 'integrase'\n",
    "integrase_names = gene_names[gene_names.str.contains(integrase_regex)]\n",
    "ecor_predictions['integrase'] = ecor_predictions['name'].isin(integrase_names)"
   ]
  },
  {
   "cell_type": "code",
   "execution_count": 28,
   "id": "5ccc4d8f-1662-44f4-a89e-fa9e46145e00",
   "metadata": {},
   "outputs": [
    {
     "name": "stdout",
     "output_type": "stream",
     "text": [
      "3\n"
     ]
    },
    {
     "name": "stderr",
     "output_type": "stream",
     "text": [
      "100%|██████████| 7738/7738 [00:09<00:00, 825.45it/s]\n"
     ]
    },
    {
     "name": "stdout",
     "output_type": "stream",
     "text": [
      "4.445718180730064\n",
      "5\n"
     ]
    },
    {
     "name": "stderr",
     "output_type": "stream",
     "text": [
      "100%|██████████| 7738/7738 [00:09<00:00, 827.47it/s]\n"
     ]
    },
    {
     "name": "stdout",
     "output_type": "stream",
     "text": [
      "5.406688548938497\n",
      "7\n"
     ]
    },
    {
     "name": "stderr",
     "output_type": "stream",
     "text": [
      "100%|██████████| 7738/7738 [00:09<00:00, 844.73it/s]\n"
     ]
    },
    {
     "name": "stdout",
     "output_type": "stream",
     "text": [
      "5.149749852458464\n",
      "9\n"
     ]
    },
    {
     "name": "stderr",
     "output_type": "stream",
     "text": [
      "100%|██████████| 7738/7738 [00:09<00:00, 846.18it/s]\n"
     ]
    },
    {
     "name": "stdout",
     "output_type": "stream",
     "text": [
      "5.173104795172727\n",
      "11\n"
     ]
    },
    {
     "name": "stderr",
     "output_type": "stream",
     "text": [
      "100%|██████████| 7738/7738 [00:09<00:00, 845.05it/s]\n"
     ]
    },
    {
     "name": "stdout",
     "output_type": "stream",
     "text": [
      "5.072174218732193\n",
      "13\n"
     ]
    },
    {
     "name": "stderr",
     "output_type": "stream",
     "text": [
      "100%|██████████| 7738/7738 [00:09<00:00, 845.09it/s]\n"
     ]
    },
    {
     "name": "stdout",
     "output_type": "stream",
     "text": [
      "5.087776533933896\n",
      "15\n"
     ]
    },
    {
     "name": "stderr",
     "output_type": "stream",
     "text": [
      "100%|██████████| 7738/7738 [00:09<00:00, 846.40it/s]\n"
     ]
    },
    {
     "name": "stdout",
     "output_type": "stream",
     "text": [
      "5.105571119874065\n",
      "17\n"
     ]
    },
    {
     "name": "stderr",
     "output_type": "stream",
     "text": [
      "100%|██████████| 7738/7738 [00:09<00:00, 847.20it/s]\n"
     ]
    },
    {
     "name": "stdout",
     "output_type": "stream",
     "text": [
      "5.082942286804947\n",
      "19\n"
     ]
    },
    {
     "name": "stderr",
     "output_type": "stream",
     "text": [
      "100%|██████████| 7738/7738 [00:09<00:00, 848.55it/s]\n"
     ]
    },
    {
     "name": "stdout",
     "output_type": "stream",
     "text": [
      "5.126319835297616\n",
      "21\n"
     ]
    },
    {
     "name": "stderr",
     "output_type": "stream",
     "text": [
      "100%|██████████| 7738/7738 [00:09<00:00, 831.99it/s]\n"
     ]
    },
    {
     "name": "stdout",
     "output_type": "stream",
     "text": [
      "5.1061814546070385\n",
      "23\n"
     ]
    },
    {
     "name": "stderr",
     "output_type": "stream",
     "text": [
      "100%|██████████| 7738/7738 [00:09<00:00, 830.67it/s]\n"
     ]
    },
    {
     "name": "stdout",
     "output_type": "stream",
     "text": [
      "4.904471142273801\n"
     ]
    }
   ],
   "source": [
    "for window_size in np.arange(3, 25, 2):\n",
    "    print(window_size)\n",
    "    contig_int_neighbor_list = []\n",
    "    for contig, contig_df in tqdm(ecor_predictions.groupby('genomic_accession'), \n",
    "                                  position=0, total=ecor_predictions['genomic_accession'].nunique()):\n",
    "        integrase_neighbor = (contig_df['integrase'].rolling(window_size, min_periods=1, center=True)\n",
    "                                .max())\n",
    "        out_contig_df = contig_df[['protein_context_id', 'predicted_defense']].copy()\n",
    "        out_contig_df['integrase_neighbor'] = pd.Series(integrase_neighbor).astype(bool)\n",
    "        contig_int_neighbor_list.append(out_contig_df)\n",
    "    int_neighbor_df = pd.concat(contig_int_neighbor_list)\n",
    "    defense_int_assoc = ((int_neighbor_df['predicted_defense'] & \n",
    "                     int_neighbor_df['integrase_neighbor']).sum()/\n",
    "                    int_neighbor_df['predicted_defense'].sum())\n",
    "    background_int_assoc = int_neighbor_df['integrase_neighbor'].sum()/len(int_neighbor_df)\n",
    "    defense_int_enrichment = defense_int_assoc/background_int_assoc\n",
    "    print(defense_int_enrichment)"
   ]
  },
  {
   "cell_type": "code",
   "execution_count": 29,
   "id": "adf9f237-4f00-417d-9339-10a8edfa2540",
   "metadata": {},
   "outputs": [
    {
     "name": "stderr",
     "output_type": "stream",
     "text": [
      "100%|██████████| 7738/7738 [00:08<00:00, 889.68it/s]\n"
     ]
    }
   ],
   "source": [
    "window_size = 5\n",
    "contig_int_neighbor_list = []\n",
    "for contig, contig_df in tqdm(ecor_predictions.groupby('genomic_accession'), \n",
    "                              position=0, total=ecor_predictions['genomic_accession'].nunique()):\n",
    "    integrase_neighbor = (contig_df['integrase'].rolling(window_size, min_periods=1, center=True)\n",
    "                            .max())\n",
    "    out_contig_df = contig_df[['protein_context_id']].copy()\n",
    "    out_contig_df['integrase_neighbor'] = pd.Series(integrase_neighbor).astype(bool)\n",
    "    contig_int_neighbor_list.append(out_contig_df)\n",
    "int_neighbor_df = pd.concat(contig_int_neighbor_list)"
   ]
  },
  {
   "cell_type": "code",
   "execution_count": 30,
   "id": "082c521c-c9c8-4ca4-856e-be731a574177",
   "metadata": {},
   "outputs": [],
   "source": [
    "ecor_predictions = ecor_predictions.merge(int_neighbor_df, how='inner', \n",
    "                                          on='protein_context_id')"
   ]
  },
  {
   "cell_type": "code",
   "execution_count": 31,
   "id": "a3f5cca3-ce55-4c78-bd38-3d2735a01061",
   "metadata": {},
   "outputs": [],
   "source": [
    "ecor_predictions['MGE'] = (ecor_predictions['prophage'] | ecor_predictions['plasmid'] |\n",
    "                           ecor_predictions['transposase'] | ecor_predictions['integrase'])"
   ]
  },
  {
   "cell_type": "code",
   "execution_count": 32,
   "id": "71cb7d61-092c-4895-b27d-9d46ec0b820f",
   "metadata": {},
   "outputs": [],
   "source": [
    "def get_mge_stats(predictions):\n",
    "    mge_stat_list = []\n",
    "    N = len(predictions)\n",
    "    known_defense_n = predictions['defense_system_protein'].sum()\n",
    "    predicted_novel_n = (predictions['hit_category'] == 'Predicted novel defense gene').sum()\n",
    "    for mge_col in [\n",
    "                    'prophage', 'plasmid','MGE']:\n",
    "        # Background\n",
    "        mge_N = predictions[mge_col].sum()\n",
    "        mge_stat_list.append({'mge_type': mge_col,\n",
    "                              'category': 'All genes',\n",
    "                              'numerator': mge_N,\n",
    "                              'denominator': N,\n",
    "                              'frac': mge_N/N})\n",
    "        # Known defense\n",
    "        mge_kd_n = (predictions[mge_col] & predictions['defense_system_protein']).sum()\n",
    "        mge_stat_list.append({'mge_type': mge_col,\n",
    "                              'category': 'Defense homolog in expected system',\n",
    "                              'numerator': mge_kd_n,\n",
    "                              'denominator': known_defense_n,\n",
    "                              'frac': mge_kd_n/known_defense_n})\n",
    "        # Novel defense\n",
    "        mge_nd_n = (predictions[mge_col] & (predictions['hit_category'] == \n",
    "                                                 'Predicted novel defense gene')).sum()\n",
    "        mge_stat_list.append({'mge_type': mge_col,\n",
    "                              'category': 'Novel predicted defense protein',\n",
    "                              'numerator': mge_nd_n,\n",
    "                              'denominator': predicted_novel_n,\n",
    "                              'frac': mge_nd_n/predicted_novel_n})\n",
    "    mge_stat_df = pd.DataFrame(mge_stat_list)\n",
    "    return mge_stat_df"
   ]
  },
  {
   "cell_type": "code",
   "execution_count": 33,
   "id": "2a369e3b-fa91-4720-ae4b-9513c06964c9",
   "metadata": {},
   "outputs": [
    {
     "name": "stderr",
     "output_type": "stream",
     "text": [
      "100%|██████████| 200/200 [00:59<00:00,  3.38it/s]\n"
     ]
    }
   ],
   "source": [
    "n_boot = 200\n",
    "all_mge_stat_list = list()\n",
    "for i in tqdm(range(n_boot)):\n",
    "    resampled_predictions = ecor_predictions.sample(frac=1, replace=True, random_state=i)\n",
    "    mge_stat_df = get_mge_stats(resampled_predictions)\n",
    "    mge_stat_df['trial'] = i\n",
    "    all_mge_stat_list.append(mge_stat_df)\n",
    "all_mge_stat_df = pd.concat(all_mge_stat_list)"
   ]
  },
  {
   "cell_type": "code",
   "execution_count": 34,
   "id": "b8414ad1-6d31-4219-85db-4a7234fd1bf7",
   "metadata": {},
   "outputs": [],
   "source": [
    "agg_mge_stat_df = (all_mge_stat_df.groupby(['mge_type', 'category'])\n",
    "                   .agg(mean_frac=('frac', 'mean'), \n",
    "                        upper_bound=('frac', lambda x: np.percentile(x, 97.5)), \n",
    "                        lower_bound=('frac', lambda x: np.percentile(x, 2.5)))\n",
    "                   .reset_index())"
   ]
  },
  {
   "cell_type": "code",
   "execution_count": 35,
   "id": "ff96b87f-1b55-4799-9ee4-8409f82199fa",
   "metadata": {},
   "outputs": [],
   "source": [
    "mge_stat_df = get_mge_stats(ecor_predictions)\n",
    "mge_stat_df = (mge_stat_df.merge(agg_mge_stat_df, how='inner', \n",
    "                                 on=['mge_type', 'category']))\n",
    "mge_stat_df['display_mge'] = mge_stat_df['mge_type'].replace({'transposase_neighbor': 'Transposase associated', \n",
    "                                                          'integrase_neighbor': 'Integrase associated', \n",
    "                                                              'plasmid': 'Plasmid', \n",
    "                                                              'prophage': 'Prophage'})\n",
    "mge_stat_df['display_mge'] = pd.Categorical(mge_stat_df['display_mge'], \n",
    "                                            categories=['MGE', 'Plasmid', 'Prophage', \n",
    "                                                        'Integrase associated', \n",
    "                                                        'Transposase associated'])\n",
    "mge_stat_df['category'] = pd.Categorical(mge_stat_df['category'], \n",
    "                                         categories=['All genes', 'Defense homolog in expected system', \n",
    "                                                     'Novel predicted defense protein'])"
   ]
  },
  {
   "cell_type": "code",
   "execution_count": 37,
   "id": "b098f527-d8d1-4f4e-bc90-47158e30d122",
   "metadata": {},
   "outputs": [],
   "source": [
    "def plot_bar_with_error_flipped(data, x, y, hue, lower_bound, upper_bound, \n",
    "                                width=0.25, palette=None, legend=True, ax=None, \n",
    "                                legend_loc='lower right'):\n",
    "    \"\"\"\n",
    "    Plots a horizontal bar plot with error bars from a DataFrame.\n",
    "\n",
    "    Parameters:\n",
    "    data (pd.DataFrame): DataFrame containing the data to plot.\n",
    "    x (str): Column name for the x-axis categories.\n",
    "    y (str): Column name for the y-axis values.\n",
    "    hue (str): Column name for the hue groups.\n",
    "    lower_bound (str): Column name for the lower error bounds.\n",
    "    upper_bound (str): Column name for the upper error bounds.\n",
    "    width (float, optional): Width of the bars. Default is 0.25.\n",
    "    palette (list, optional): List of colors to use for the different hues. Default is None.\n",
    "    legend (bool, optional): Whether to display the legend. Default is True.\n",
    "    ax (matplotlib.axes.Axes, optional): Axes object to draw the plot onto. Default is None.\n",
    "    legend_loc (str, optional): Location of the legend. Default is 'lower right'.\n",
    "    \"\"\"\n",
    "    x_labels = data[x].unique()\n",
    "    hues = data[hue].unique()\n",
    "    y_indices = np.arange(len(x_labels))\n",
    "    multiplier = 0\n",
    "\n",
    "    if ax is None:\n",
    "        fig, ax = plt.subplots(layout='constrained')\n",
    "\n",
    "    if palette is None:\n",
    "        palette = plt.cm.tab10(np.linspace(0, 1, len(hues)))\n",
    "\n",
    "    for idx, hue_val in enumerate(hues):\n",
    "        subset = data[data[hue] == hue_val]\n",
    "        measurements = subset[y].values\n",
    "        lower_bounds = measurements - subset[lower_bound].values\n",
    "        upper_bounds = subset[upper_bound].values - measurements\n",
    "        error = [lower_bounds, upper_bounds]\n",
    "        offset = width * multiplier\n",
    "        rects = ax.barh(y_indices + offset, measurements, width, label=hue_val, xerr=error, color=palette[idx], \n",
    "                        edgecolor='black', linewidth=0.5)\n",
    "        multiplier += 1\n",
    "\n",
    "    # Add labels, title and custom y-axis tick labels, etc.\n",
    "    ax.set_yticks(y_indices + width * (len(hues) - 1) / 2, x_labels)\n",
    "    \n",
    "    if legend:\n",
    "        ax.legend(loc='lower left', bbox_to_anchor=(0.5, 0.1), ncols=1)"
   ]
  },
  {
   "cell_type": "code",
   "execution_count": 38,
   "id": "99ef666f-0cae-414b-aa1b-20c39f300d78",
   "metadata": {},
   "outputs": [
    {
     "data": {
      "image/png": "[encoded data removed]",
      "text/plain": [
       "<Figure size 180x210 with 1 Axes>"
      ]
     },
     "metadata": {},
     "output_type": "display_data"
    }
   ],
   "source": [
    "_, ax = plt.subplots(figsize=(1.8, 2.1))\n",
    "plot_bar_with_error_flipped(data=mge_stat_df, y='frac', x='display_mge', \n",
    "                    hue='category', lower_bound='lower_bound', \n",
    "                    upper_bound='upper_bound', palette=defense_type_palette, ax=ax)\n",
    "sns.despine()\n",
    "plt.xlabel('Fraction of genes')\n",
    "plt.title('Genomic context of genes')\n",
    "plt.savefig('../figures/mge_association.svg', dpi=300, bbox_inches='tight')"
   ]
  },
  {
   "cell_type": "code",
   "execution_count": 42,
   "id": "ce8c1cfa-764a-41ca-848f-20402253a6f0",
   "metadata": {},
   "outputs": [],
   "source": [
    "def get_dfn_stats(predictions):\n",
    "    dfn_stat_list = []\n",
    "    N = len(predictions)\n",
    "    known_defense_n = predictions['defense_system_protein'].sum()\n",
    "    predicted_novel_n = (predictions['hit_category'] == 'Predicted novel defense gene').sum()\n",
    "    # Background\n",
    "    dfn_N = predictions['defense_neighbor'].sum()\n",
    "    dfn_stat_list.append({'category': 'All genes',\n",
    "                          'numerator': dfn_N,\n",
    "                          'denominator': N,\n",
    "                          'frac': dfn_N/N})\n",
    "    # Known defense\n",
    "    dfn_kd_n = (predictions['defense_neighbor'] & predictions['defense_system_protein']).sum()\n",
    "    dfn_stat_list.append({'category': 'Defense homolog in expected system',\n",
    "                          'numerator': dfn_kd_n,\n",
    "                          'denominator': known_defense_n,\n",
    "                          'frac': dfn_kd_n/known_defense_n})\n",
    "    # Novel defense\n",
    "    dfn_nd_n = (predictions['defense_neighbor'] & (predictions['hit_category'] == \n",
    "                                                   'Predicted novel defense gene')).sum()\n",
    "    dfn_stat_list.append({'category': 'Novel predicted defense protein',\n",
    "                          'numerator': dfn_nd_n,\n",
    "                          'denominator': predicted_novel_n,\n",
    "                          'frac': dfn_nd_n/predicted_novel_n})\n",
    "    dfn_stat_df = pd.DataFrame(dfn_stat_list)\n",
    "    return dfn_stat_df"
   ]
  },
  {
   "cell_type": "code",
   "execution_count": 43,
   "id": "23317c40-23ff-4247-9dec-7f64d2d680fa",
   "metadata": {},
   "outputs": [
    {
     "name": "stderr",
     "output_type": "stream",
     "text": [
      "100%|██████████| 200/200 [00:53<00:00,  3.75it/s]\n"
     ]
    }
   ],
   "source": [
    "n_boot = 200\n",
    "all_dfn_stat_list = list()\n",
    "for i in tqdm(range(n_boot)):\n",
    "    resampled_predictions = ecor_predictions.sample(frac=1, replace=True, random_state=i)\n",
    "    dfn_stat_df = get_dfn_stats(resampled_predictions)\n",
    "    dfn_stat_df['trial'] = i\n",
    "    all_dfn_stat_list.append(dfn_stat_df)\n",
    "all_dfn_stat_df = pd.concat(all_dfn_stat_list)"
   ]
  },
  {
   "cell_type": "code",
   "execution_count": 44,
   "id": "946a511a-a1af-447e-9a44-b7909cd45884",
   "metadata": {},
   "outputs": [],
   "source": [
    "agg_dfn_stat_df = (all_dfn_stat_df.groupby(['category'])\n",
    "                   .agg(mean_frac=('frac', 'mean'), \n",
    "                        upper_bound=('frac', lambda x: np.percentile(x, 97.5)), \n",
    "                        lower_bound=('frac', lambda x: np.percentile(x, 2.5)))\n",
    "                   .reset_index())"
   ]
  },
  {
   "cell_type": "code",
   "execution_count": 45,
   "id": "53c1aa44-f796-46a9-b35f-cbf50a9d38c8",
   "metadata": {},
   "outputs": [],
   "source": [
    "dfn_stat_df = get_dfn_stats(ecor_predictions)\n",
    "dfn_stat_df = (dfn_stat_df.merge(agg_dfn_stat_df, how='inner', \n",
    "                                 on=['category']))\n",
    "dfn_stat_df['category'] = pd.Categorical(dfn_stat_df['category'], \n",
    "                                         categories=['All genes', 'Defense homolog in expected system', \n",
    "                                                     'Novel predicted defense protein'])\n",
    "dfn_stat_df['mge_type'] = 'Defense Island'\n",
    "dfn_stat_df['display_mge'] = 'Defense Island'"
   ]
  },
  {
   "cell_type": "code",
   "execution_count": 46,
   "id": "346aa335-8a72-42e1-bb8d-e2b50198e15f",
   "metadata": {},
   "outputs": [
    {
     "data": {
      "image/png": "[encoded data removed]",
      "text/plain": [
       "<Figure size 180x50 with 1 Axes>"
      ]
     },
     "metadata": {},
     "output_type": "display_data"
    }
   ],
   "source": [
    "_, ax = plt.subplots(figsize=(1.8, 0.5))\n",
    "plot_bar_with_error_flipped(data=dfn_stat_df, y='frac', x='mge_type', \n",
    "                    hue='category', lower_bound='lower_bound', \n",
    "                    upper_bound='upper_bound', palette=defense_type_palette, ax=ax)\n",
    "sns.despine()\n",
    "plt.xlabel('Fraction of genes')\n",
    "plt.title('Genomic context of genes')\n",
    "plt.savefig('../figures/dfn_association.svg', dpi=300, bbox_inches='tight')"
   ]
  },
  {
   "cell_type": "code",
   "execution_count": 47,
   "id": "852b2e69-6f41-4f1e-8af2-ffff1bae0451",
   "metadata": {},
   "outputs": [],
   "source": [
    "cat_dfn_mge = pd.concat([mge_stat_df, dfn_stat_df])\n",
    "cat_dfn_mge['display_category'] = pd.Categorical(\n",
    "    cat_dfn_mge['category'].replace({'Defense homolog in expected system':\n",
    "                                     'Defense homolog\\nin expected system', \n",
    "                                     'Novel predicted defense protein': \n",
    "                                     'Novel predicted\\ndefense protein'}), \n",
    "    categories=['All genes',\n",
    "                'Defense homolog\\nin expected system',\n",
    "                'Novel predicted\\ndefense protein'])"
   ]
  },
  {
   "cell_type": "code",
   "execution_count": 49,
   "id": "75912086-efa1-4fcd-bd28-b2e13e647801",
   "metadata": {},
   "outputs": [
    {
     "data": {
      "text/html": [
       "<div>\n",
       "<style scoped>\n",
       "    .dataframe tbody tr th:only-of-type {\n",
       "        vertical-align: middle;\n",
       "    }\n",
       "\n",
       "    .dataframe tbody tr th {\n",
       "        vertical-align: top;\n",
       "    }\n",
       "\n",
       "    .dataframe thead th {\n",
       "        text-align: right;\n",
       "    }\n",
       "</style>\n",
       "<table border=\"1\" class=\"dataframe\">\n",
       "  <thead>\n",
       "    <tr style=\"text-align: right;\">\n",
       "      <th></th>\n",
       "      <th>mge_type</th>\n",
       "      <th>category</th>\n",
       "      <th>numerator</th>\n",
       "      <th>denominator</th>\n",
       "      <th>frac</th>\n",
       "      <th>mean_frac</th>\n",
       "      <th>upper_bound</th>\n",
       "      <th>lower_bound</th>\n",
       "      <th>display_mge</th>\n",
       "      <th>display_category</th>\n",
       "    </tr>\n",
       "  </thead>\n",
       "  <tbody>\n",
       "    <tr>\n",
       "      <th>0</th>\n",
       "      <td>transposase_neighbor</td>\n",
       "      <td>All genes</td>\n",
       "      <td>16259</td>\n",
       "      <td>321347</td>\n",
       "      <td>0.050596</td>\n",
       "      <td>0.050608</td>\n",
       "      <td>0.051353</td>\n",
       "      <td>0.049849</td>\n",
       "      <td>Transposase associated</td>\n",
       "      <td>All genes</td>\n",
       "    </tr>\n",
       "    <tr>\n",
       "      <th>1</th>\n",
       "      <td>transposase_neighbor</td>\n",
       "      <td>Defense homolog in expected system</td>\n",
       "      <td>48</td>\n",
       "      <td>395</td>\n",
       "      <td>0.121519</td>\n",
       "      <td>0.121363</td>\n",
       "      <td>0.154313</td>\n",
       "      <td>0.090844</td>\n",
       "      <td>Transposase associated</td>\n",
       "      <td>Defense homolog\\nin expected system</td>\n",
       "    </tr>\n",
       "    <tr>\n",
       "      <th>2</th>\n",
       "      <td>transposase_neighbor</td>\n",
       "      <td>Novel predicted defense protein</td>\n",
       "      <td>68</td>\n",
       "      <td>607</td>\n",
       "      <td>0.112026</td>\n",
       "      <td>0.111364</td>\n",
       "      <td>0.134562</td>\n",
       "      <td>0.088474</td>\n",
       "      <td>Transposase associated</td>\n",
       "      <td>Novel predicted\\ndefense protein</td>\n",
       "    </tr>\n",
       "    <tr>\n",
       "      <th>3</th>\n",
       "      <td>integrase_neighbor</td>\n",
       "      <td>All genes</td>\n",
       "      <td>4035</td>\n",
       "      <td>321347</td>\n",
       "      <td>0.012557</td>\n",
       "      <td>0.012558</td>\n",
       "      <td>0.012961</td>\n",
       "      <td>0.012177</td>\n",
       "      <td>Integrase associated</td>\n",
       "      <td>All genes</td>\n",
       "    </tr>\n",
       "    <tr>\n",
       "      <th>4</th>\n",
       "      <td>integrase_neighbor</td>\n",
       "      <td>Defense homolog in expected system</td>\n",
       "      <td>53</td>\n",
       "      <td>395</td>\n",
       "      <td>0.134177</td>\n",
       "      <td>0.133570</td>\n",
       "      <td>0.163658</td>\n",
       "      <td>0.105667</td>\n",
       "      <td>Integrase associated</td>\n",
       "      <td>Defense homolog\\nin expected system</td>\n",
       "    </tr>\n",
       "    <tr>\n",
       "      <th>5</th>\n",
       "      <td>integrase_neighbor</td>\n",
       "      <td>Novel predicted defense protein</td>\n",
       "      <td>50</td>\n",
       "      <td>607</td>\n",
       "      <td>0.082372</td>\n",
       "      <td>0.082198</td>\n",
       "      <td>0.106088</td>\n",
       "      <td>0.063631</td>\n",
       "      <td>Integrase associated</td>\n",
       "      <td>Novel predicted\\ndefense protein</td>\n",
       "    </tr>\n",
       "    <tr>\n",
       "      <th>6</th>\n",
       "      <td>prophage</td>\n",
       "      <td>All genes</td>\n",
       "      <td>18886</td>\n",
       "      <td>321347</td>\n",
       "      <td>0.058771</td>\n",
       "      <td>0.058767</td>\n",
       "      <td>0.059568</td>\n",
       "      <td>0.058121</td>\n",
       "      <td>Prophage</td>\n",
       "      <td>All genes</td>\n",
       "    </tr>\n",
       "    <tr>\n",
       "      <th>7</th>\n",
       "      <td>prophage</td>\n",
       "      <td>Defense homolog in expected system</td>\n",
       "      <td>59</td>\n",
       "      <td>395</td>\n",
       "      <td>0.149367</td>\n",
       "      <td>0.150267</td>\n",
       "      <td>0.189019</td>\n",
       "      <td>0.112724</td>\n",
       "      <td>Prophage</td>\n",
       "      <td>Defense homolog\\nin expected system</td>\n",
       "    </tr>\n",
       "    <tr>\n",
       "      <th>8</th>\n",
       "      <td>prophage</td>\n",
       "      <td>Novel predicted defense protein</td>\n",
       "      <td>147</td>\n",
       "      <td>607</td>\n",
       "      <td>0.242175</td>\n",
       "      <td>0.240414</td>\n",
       "      <td>0.275399</td>\n",
       "      <td>0.205636</td>\n",
       "      <td>Prophage</td>\n",
       "      <td>Novel predicted\\ndefense protein</td>\n",
       "    </tr>\n",
       "    <tr>\n",
       "      <th>9</th>\n",
       "      <td>plasmid</td>\n",
       "      <td>All genes</td>\n",
       "      <td>24164</td>\n",
       "      <td>321347</td>\n",
       "      <td>0.075196</td>\n",
       "      <td>0.075228</td>\n",
       "      <td>0.076046</td>\n",
       "      <td>0.074398</td>\n",
       "      <td>Plasmid</td>\n",
       "      <td>All genes</td>\n",
       "    </tr>\n",
       "    <tr>\n",
       "      <th>10</th>\n",
       "      <td>plasmid</td>\n",
       "      <td>Defense homolog in expected system</td>\n",
       "      <td>101</td>\n",
       "      <td>395</td>\n",
       "      <td>0.255696</td>\n",
       "      <td>0.255537</td>\n",
       "      <td>0.297754</td>\n",
       "      <td>0.215244</td>\n",
       "      <td>Plasmid</td>\n",
       "      <td>Defense homolog\\nin expected system</td>\n",
       "    </tr>\n",
       "    <tr>\n",
       "      <th>11</th>\n",
       "      <td>plasmid</td>\n",
       "      <td>Novel predicted defense protein</td>\n",
       "      <td>120</td>\n",
       "      <td>607</td>\n",
       "      <td>0.197694</td>\n",
       "      <td>0.198571</td>\n",
       "      <td>0.233156</td>\n",
       "      <td>0.168237</td>\n",
       "      <td>Plasmid</td>\n",
       "      <td>Novel predicted\\ndefense protein</td>\n",
       "    </tr>\n",
       "    <tr>\n",
       "      <th>12</th>\n",
       "      <td>MGE</td>\n",
       "      <td>All genes</td>\n",
       "      <td>44979</td>\n",
       "      <td>321347</td>\n",
       "      <td>0.139970</td>\n",
       "      <td>0.140004</td>\n",
       "      <td>0.141227</td>\n",
       "      <td>0.138972</td>\n",
       "      <td>MGE</td>\n",
       "      <td>All genes</td>\n",
       "    </tr>\n",
       "    <tr>\n",
       "      <th>13</th>\n",
       "      <td>MGE</td>\n",
       "      <td>Defense homolog in expected system</td>\n",
       "      <td>160</td>\n",
       "      <td>395</td>\n",
       "      <td>0.405063</td>\n",
       "      <td>0.405804</td>\n",
       "      <td>0.454791</td>\n",
       "      <td>0.362441</td>\n",
       "      <td>MGE</td>\n",
       "      <td>Defense homolog\\nin expected system</td>\n",
       "    </tr>\n",
       "    <tr>\n",
       "      <th>14</th>\n",
       "      <td>MGE</td>\n",
       "      <td>Novel predicted defense protein</td>\n",
       "      <td>267</td>\n",
       "      <td>607</td>\n",
       "      <td>0.439868</td>\n",
       "      <td>0.438985</td>\n",
       "      <td>0.476610</td>\n",
       "      <td>0.403753</td>\n",
       "      <td>MGE</td>\n",
       "      <td>Novel predicted\\ndefense protein</td>\n",
       "    </tr>\n",
       "    <tr>\n",
       "      <th>0</th>\n",
       "      <td>Defense Island</td>\n",
       "      <td>All genes</td>\n",
       "      <td>4876</td>\n",
       "      <td>321347</td>\n",
       "      <td>0.015174</td>\n",
       "      <td>0.015203</td>\n",
       "      <td>0.015603</td>\n",
       "      <td>0.014815</td>\n",
       "      <td>Defense Island</td>\n",
       "      <td>All genes</td>\n",
       "    </tr>\n",
       "    <tr>\n",
       "      <th>1</th>\n",
       "      <td>Defense Island</td>\n",
       "      <td>Defense homolog in expected system</td>\n",
       "      <td>69</td>\n",
       "      <td>395</td>\n",
       "      <td>0.174684</td>\n",
       "      <td>0.175030</td>\n",
       "      <td>0.213399</td>\n",
       "      <td>0.140858</td>\n",
       "      <td>Defense Island</td>\n",
       "      <td>Defense homolog\\nin expected system</td>\n",
       "    </tr>\n",
       "    <tr>\n",
       "      <th>2</th>\n",
       "      <td>Defense Island</td>\n",
       "      <td>Novel predicted defense protein</td>\n",
       "      <td>89</td>\n",
       "      <td>607</td>\n",
       "      <td>0.146623</td>\n",
       "      <td>0.146610</td>\n",
       "      <td>0.175928</td>\n",
       "      <td>0.118280</td>\n",
       "      <td>Defense Island</td>\n",
       "      <td>Novel predicted\\ndefense protein</td>\n",
       "    </tr>\n",
       "  </tbody>\n",
       "</table>\n",
       "</div>"
      ],
      "text/plain": [
       "                mge_type                            category  numerator   \n",
       "0   transposase_neighbor                           All genes      16259  \\\n",
       "1   transposase_neighbor  Defense homolog in expected system         48   \n",
       "2   transposase_neighbor     Novel predicted defense protein         68   \n",
       "3     integrase_neighbor                           All genes       4035   \n",
       "4     integrase_neighbor  Defense homolog in expected system         53   \n",
       "5     integrase_neighbor     Novel predicted defense protein         50   \n",
       "6               prophage                           All genes      18886   \n",
       "7               prophage  Defense homolog in expected system         59   \n",
       "8               prophage     Novel predicted defense protein        147   \n",
       "9                plasmid                           All genes      24164   \n",
       "10               plasmid  Defense homolog in expected system        101   \n",
       "11               plasmid     Novel predicted defense protein        120   \n",
       "12                   MGE                           All genes      44979   \n",
       "13                   MGE  Defense homolog in expected system        160   \n",
       "14                   MGE     Novel predicted defense protein        267   \n",
       "0         Defense Island                           All genes       4876   \n",
       "1         Defense Island  Defense homolog in expected system         69   \n",
       "2         Defense Island     Novel predicted defense protein         89   \n",
       "\n",
       "    denominator      frac  mean_frac  upper_bound  lower_bound   \n",
       "0        321347  0.050596   0.050608     0.051353     0.049849  \\\n",
       "1           395  0.121519   0.121363     0.154313     0.090844   \n",
       "2           607  0.112026   0.111364     0.134562     0.088474   \n",
       "3        321347  0.012557   0.012558     0.012961     0.012177   \n",
       "4           395  0.134177   0.133570     0.163658     0.105667   \n",
       "5           607  0.082372   0.082198     0.106088     0.063631   \n",
       "6        321347  0.058771   0.058767     0.059568     0.058121   \n",
       "7           395  0.149367   0.150267     0.189019     0.112724   \n",
       "8           607  0.242175   0.240414     0.275399     0.205636   \n",
       "9        321347  0.075196   0.075228     0.076046     0.074398   \n",
       "10          395  0.255696   0.255537     0.297754     0.215244   \n",
       "11          607  0.197694   0.198571     0.233156     0.168237   \n",
       "12       321347  0.139970   0.140004     0.141227     0.138972   \n",
       "13          395  0.405063   0.405804     0.454791     0.362441   \n",
       "14          607  0.439868   0.438985     0.476610     0.403753   \n",
       "0        321347  0.015174   0.015203     0.015603     0.014815   \n",
       "1           395  0.174684   0.175030     0.213399     0.140858   \n",
       "2           607  0.146623   0.146610     0.175928     0.118280   \n",
       "\n",
       "               display_mge                     display_category  \n",
       "0   Transposase associated                            All genes  \n",
       "1   Transposase associated  Defense homolog\\nin expected system  \n",
       "2   Transposase associated     Novel predicted\\ndefense protein  \n",
       "3     Integrase associated                            All genes  \n",
       "4     Integrase associated  Defense homolog\\nin expected system  \n",
       "5     Integrase associated     Novel predicted\\ndefense protein  \n",
       "6                 Prophage                            All genes  \n",
       "7                 Prophage  Defense homolog\\nin expected system  \n",
       "8                 Prophage     Novel predicted\\ndefense protein  \n",
       "9                  Plasmid                            All genes  \n",
       "10                 Plasmid  Defense homolog\\nin expected system  \n",
       "11                 Plasmid     Novel predicted\\ndefense protein  \n",
       "12                     MGE                            All genes  \n",
       "13                     MGE  Defense homolog\\nin expected system  \n",
       "14                     MGE     Novel predicted\\ndefense protein  \n",
       "0           Defense Island                            All genes  \n",
       "1           Defense Island  Defense homolog\\nin expected system  \n",
       "2           Defense Island     Novel predicted\\ndefense protein  "
      ]
     },
     "execution_count": 49,
     "metadata": {},
     "output_type": "execute_result"
    }
   ],
   "source": [
    "cat_dfn_mge"
   ]
  },
  {
   "cell_type": "code",
   "execution_count": 48,
   "id": "e90dce6b-11e9-446e-8143-b1507765de99",
   "metadata": {},
   "outputs": [
    {
     "data": {
      "image/png": "[encoded data removed]",
      "text/plain": [
       "<Figure size 180x230 with 1 Axes>"
      ]
     },
     "metadata": {},
     "output_type": "display_data"
    }
   ],
   "source": [
    "_, ax = plt.subplots(figsize=(1.8, 2.3))\n",
    "plot_bar_with_error_flipped(data=cat_dfn_mge, y='frac', x='display_mge', \n",
    "                    hue='display_category', lower_bound='lower_bound', \n",
    "                    upper_bound='upper_bound', palette=defense_type_palette, ax=ax)\n",
    "sns.despine()\n",
    "plt.xlabel('Fraction of genes')\n",
    "plt.title('Genomic context of genes')\n",
    "plt.savefig('../figures/mge_dfn_association.svg', dpi=300, bbox_inches='tight')"
   ]
  },
  {
   "cell_type": "code",
   "execution_count": null,
   "id": "17f426e7-a112-44d0-b45e-6507bdb8828e",
   "metadata": {},
   "outputs": [],
   "source": []
  }
 ],
 "metadata": {
  "kernelspec": {
   "display_name": "beaker",
   "language": "python",
   "name": "beaker"
  },
  "language_info": {
   "codemirror_mode": {
    "name": "ipython",
    "version": 3
   },
   "file_extension": ".py",
   "mimetype": "text/x-python",
   "name": "python",
   "nbconvert_exporter": "python",
   "pygments_lexer": "ipython3",
   "version": "3.8.16"
  }
 },
 "nbformat": 4,
 "nbformat_minor": 5
}
