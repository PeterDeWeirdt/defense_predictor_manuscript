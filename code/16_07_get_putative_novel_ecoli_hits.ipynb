{
 "cells": [
  {
   "cell_type": "code",
   "execution_count": 2,
   "id": "60fff144-ad94-4028-9bbb-58b9b63dea0e",
   "metadata": {},
   "outputs": [],
   "source": [
    "import pandas as pd\n",
    "from core import med_log_odds_cutoff, bw_color_palette\n",
    "from tqdm import tqdm\n",
    "import os\n",
    "import numpy as np\n",
    "from tqdm import tqdm\n",
    "import seaborn as sns\n",
    "import matplotlib.pyplot as plt"
   ]
  },
  {
   "cell_type": "code",
   "execution_count": 3,
   "id": "7486b681-1834-4d62-9832-dc7cf3297e60",
   "metadata": {},
   "outputs": [],
   "source": [
    "plt.rcParams['font.size'] = 7\n",
    "plt.rcParams['svg.fonttype'] = 'none'"
   ]
  },
  {
   "cell_type": "code",
   "execution_count": 4,
   "id": "6f7ab34a-46da-4d8d-987d-d98692bb2a18",
   "metadata": {},
   "outputs": [],
   "source": [
    "cluster_df = pd.read_table('../data/ecoli/interim/seq_clusters.txt', names=['cluster_id', 'product_accession'])"
   ]
  },
  {
   "cell_type": "markdown",
   "id": "b896aec6-b94f-4f8e-9a00-c16831c56fc1",
   "metadata": {},
   "source": [
    "## Analayze Defense Finder Results"
   ]
  },
  {
   "cell_type": "markdown",
   "id": "4ecf8308-d5ee-4508-8751-9c45b804ced0",
   "metadata": {},
   "source": [
    "### Skip next three cells"
   ]
  },
  {
   "cell_type": "code",
   "execution_count": 13,
   "id": "f504e29a-3b7f-4af6-a33d-40f9bc45e287",
   "metadata": {},
   "outputs": [
    {
     "name": "stderr",
     "output_type": "stream",
     "text": [
      "100%|██████████| 3000/3000 [04:47<00:00, 10.42it/s]\n"
     ]
    }
   ],
   "source": [
    "df_top_f = '../data/ecoli/interim/defense_finder_results/'\n",
    "assemblies = [x for x in os.listdir(df_top_f) if 'GCF' in x]\n",
    "system_df_list = list()\n",
    "homolog_df_list = list()\n",
    "for assembly in tqdm(assemblies):\n",
    "    df_system_df = pd.read_table(os.path.join(df_top_f, assembly, 'defense_finder_genes.tsv'))\n",
    "    df_system_df['assembly_stub'] = assembly\n",
    "    df_homolog_df = pd.read_table(os.path.join(df_top_f, assembly, 'defense_finder_hmmer.tsv'))\n",
    "    df_homolog_df['assembly_stub'] = assembly\n",
    "    system_df_list.append(df_system_df)\n",
    "    homolog_df_list.append(df_homolog_df)"
   ]
  },
  {
   "cell_type": "code",
   "execution_count": 14,
   "id": "5dc9895b-88e7-4a84-be31-9fe2b762db91",
   "metadata": {},
   "outputs": [],
   "source": [
    "cat_system_df = pd.concat(system_df_list)\n",
    "cat_homolog_df = pd.concat(homolog_df_list)"
   ]
  },
  {
   "cell_type": "code",
   "execution_count": 15,
   "id": "f202ed64-3591-43cf-973d-2a96e09cc5e5",
   "metadata": {},
   "outputs": [],
   "source": [
    "cat_system_df.to_csv('../data/ecoli/interim/defense_finder_full_systems_genes.csv', index=False)\n",
    "cat_homolog_df.to_csv('../data/ecoli/interim/defense_finder_homologs.csv', index=False)"
   ]
  },
  {
   "cell_type": "markdown",
   "id": "1a79bc24-4b55-4b94-8c52-5af559d5461f",
   "metadata": {},
   "source": [
    "### End skip"
   ]
  },
  {
   "cell_type": "code",
   "execution_count": 5,
   "id": "8bca75fc-823b-4607-adc1-bedaff5b8f5e",
   "metadata": {},
   "outputs": [],
   "source": [
    "cat_system_df = pd.read_csv('../data/ecoli/interim/defense_finder_full_systems_genes.csv')\n",
    "cat_homolog_df = pd.read_csv('../data/ecoli/interim/defense_finder_homologs.csv')"
   ]
  },
  {
   "cell_type": "code",
   "execution_count": 6,
   "id": "49a0e7d3-788d-413e-b91c-d1bae69cd7c9",
   "metadata": {},
   "outputs": [],
   "source": [
    "assembly_df_summary = (cat_system_df.groupby('assembly_stub')\n",
    "                       .agg(n_systems=('sys_id', 'nunique'), \n",
    "                                         n_genes=('hit_id', 'nunique'))\n",
    "                       .reset_index())"
   ]
  },
  {
   "cell_type": "code",
   "execution_count": 7,
   "id": "24d7457f-bfe1-46af-8473-7b0ddb3dc17f",
   "metadata": {},
   "outputs": [],
   "source": [
    "cat_system_df['sys_name'] = cat_system_df['gene_name'].str.split('__', expand=True)[0]\n"
   ]
  },
  {
   "cell_type": "code",
   "execution_count": 8,
   "id": "a57beca7-806c-4fb6-8097-fd50d9ca79a8",
   "metadata": {},
   "outputs": [
    {
     "data": {
      "text/html": [
       "<div>\n",
       "<style scoped>\n",
       "    .dataframe tbody tr th:only-of-type {\n",
       "        vertical-align: middle;\n",
       "    }\n",
       "\n",
       "    .dataframe tbody tr th {\n",
       "        vertical-align: top;\n",
       "    }\n",
       "\n",
       "    .dataframe thead th {\n",
       "        text-align: right;\n",
       "    }\n",
       "</style>\n",
       "<table border=\"1\" class=\"dataframe\">\n",
       "  <thead>\n",
       "    <tr style=\"text-align: right;\">\n",
       "      <th></th>\n",
       "      <th>sys_name</th>\n",
       "      <th>n_assemblies</th>\n",
       "    </tr>\n",
       "  </thead>\n",
       "  <tbody>\n",
       "    <tr>\n",
       "      <th>90</th>\n",
       "      <td>RM_Type_IV</td>\n",
       "      <td>1900</td>\n",
       "    </tr>\n",
       "    <tr>\n",
       "      <th>53</th>\n",
       "      <td>Mok_Hok_Sok</td>\n",
       "      <td>1416</td>\n",
       "    </tr>\n",
       "    <tr>\n",
       "      <th>70</th>\n",
       "      <td>PD-T4-3</td>\n",
       "      <td>548</td>\n",
       "    </tr>\n",
       "    <tr>\n",
       "      <th>55</th>\n",
       "      <td>Mokosh_TypeII</td>\n",
       "      <td>545</td>\n",
       "    </tr>\n",
       "    <tr>\n",
       "      <th>88</th>\n",
       "      <td>RM_Type_IIG</td>\n",
       "      <td>514</td>\n",
       "    </tr>\n",
       "  </tbody>\n",
       "</table>\n",
       "</div>"
      ],
      "text/plain": [
       "         sys_name  n_assemblies\n",
       "90     RM_Type_IV          1900\n",
       "53    Mok_Hok_Sok          1416\n",
       "70        PD-T4-3           548\n",
       "55  Mokosh_TypeII           545\n",
       "88    RM_Type_IIG           514"
      ]
     },
     "execution_count": 8,
     "metadata": {},
     "output_type": "execute_result"
    }
   ],
   "source": [
    "system_summary = (cat_system_df.groupby('sys_name')\n",
    "                  .agg(n_assemblies=('assembly_stub', 'nunique'))\n",
    "                  .reset_index()\n",
    "                  .sort_values('n_assemblies', ascending=False))\n",
    "system_summary.head()"
   ]
  },
  {
   "cell_type": "code",
   "execution_count": 9,
   "id": "414d1576-a971-4f80-a29f-9c2a7986fdbb",
   "metadata": {},
   "outputs": [
    {
     "data": {
      "image/png": "[encoded data removed]",
      "text/plain": [
       "<Figure size 230x230 with 1 Axes>"
      ]
     },
     "metadata": {},
     "output_type": "display_data"
    }
   ],
   "source": [
    "plt.subplots(figsize=(2.3,2.3))\n",
    "sns.histplot(data=assembly_df_summary, x='n_genes', binwidth=1, color='grey')\n",
    "sns.despine()"
   ]
  },
  {
   "cell_type": "code",
   "execution_count": 10,
   "id": "2b5d8d71-c7a1-412d-89ef-4f1f4e0816fe",
   "metadata": {},
   "outputs": [
    {
     "data": {
      "text/html": [
       "<div>\n",
       "<style scoped>\n",
       "    .dataframe tbody tr th:only-of-type {\n",
       "        vertical-align: middle;\n",
       "    }\n",
       "\n",
       "    .dataframe tbody tr th {\n",
       "        vertical-align: top;\n",
       "    }\n",
       "\n",
       "    .dataframe thead th {\n",
       "        text-align: right;\n",
       "    }\n",
       "</style>\n",
       "<table border=\"1\" class=\"dataframe\">\n",
       "  <thead>\n",
       "    <tr style=\"text-align: right;\">\n",
       "      <th></th>\n",
       "      <th>hit_id</th>\n",
       "      <th>replicon</th>\n",
       "      <th>position_hit</th>\n",
       "      <th>hit_sequence_length</th>\n",
       "      <th>gene_name</th>\n",
       "      <th>assembly_stub</th>\n",
       "    </tr>\n",
       "  </thead>\n",
       "  <tbody>\n",
       "    <tr>\n",
       "      <th>0</th>\n",
       "      <td>WP_000007095.1</td>\n",
       "      <td>UserReplicon</td>\n",
       "      <td>29</td>\n",
       "      <td>455</td>\n",
       "      <td>Hachiman__HamB</td>\n",
       "      <td>GCF_000267385</td>\n",
       "    </tr>\n",
       "    <tr>\n",
       "      <th>1</th>\n",
       "      <td>WP_000007095.1</td>\n",
       "      <td>UserReplicon</td>\n",
       "      <td>29</td>\n",
       "      <td>455</td>\n",
       "      <td>Shango__SngC</td>\n",
       "      <td>GCF_000267385</td>\n",
       "    </tr>\n",
       "    <tr>\n",
       "      <th>2</th>\n",
       "      <td>WP_000007095.1</td>\n",
       "      <td>UserReplicon</td>\n",
       "      <td>29</td>\n",
       "      <td>455</td>\n",
       "      <td>PsyrTA__PsyrT</td>\n",
       "      <td>GCF_000267385</td>\n",
       "    </tr>\n",
       "    <tr>\n",
       "      <th>3</th>\n",
       "      <td>WP_000014594.1</td>\n",
       "      <td>UserReplicon</td>\n",
       "      <td>61</td>\n",
       "      <td>70</td>\n",
       "      <td>Retron_V__CSD</td>\n",
       "      <td>GCF_000267385</td>\n",
       "    </tr>\n",
       "    <tr>\n",
       "      <th>4</th>\n",
       "      <td>WP_000020744.1</td>\n",
       "      <td>UserReplicon</td>\n",
       "      <td>91</td>\n",
       "      <td>301</td>\n",
       "      <td>Eleos__LeoA</td>\n",
       "      <td>GCF_000267385</td>\n",
       "    </tr>\n",
       "    <tr>\n",
       "      <th>...</th>\n",
       "      <td>...</td>\n",
       "      <td>...</td>\n",
       "      <td>...</td>\n",
       "      <td>...</td>\n",
       "      <td>...</td>\n",
       "      <td>...</td>\n",
       "    </tr>\n",
       "    <tr>\n",
       "      <th>799424</th>\n",
       "      <td>WP_236927824.1</td>\n",
       "      <td>UserReplicon</td>\n",
       "      <td>5192</td>\n",
       "      <td>495</td>\n",
       "      <td>DRT8__DRT8</td>\n",
       "      <td>GCF_001893455</td>\n",
       "    </tr>\n",
       "    <tr>\n",
       "      <th>799425</th>\n",
       "      <td>WP_236927824.1</td>\n",
       "      <td>UserReplicon</td>\n",
       "      <td>5192</td>\n",
       "      <td>495</td>\n",
       "      <td>DRT_3__drt3b</td>\n",
       "      <td>GCF_001893455</td>\n",
       "    </tr>\n",
       "    <tr>\n",
       "      <th>799426</th>\n",
       "      <td>WP_251991158.1</td>\n",
       "      <td>UserReplicon</td>\n",
       "      <td>5198</td>\n",
       "      <td>183</td>\n",
       "      <td>RM__Type_I_S</td>\n",
       "      <td>GCF_001893455</td>\n",
       "    </tr>\n",
       "    <tr>\n",
       "      <th>799427</th>\n",
       "      <td>WP_251991158.1</td>\n",
       "      <td>UserReplicon</td>\n",
       "      <td>5198</td>\n",
       "      <td>183</td>\n",
       "      <td>PrrC__EcoprrI</td>\n",
       "      <td>GCF_001893455</td>\n",
       "    </tr>\n",
       "    <tr>\n",
       "      <th>799428</th>\n",
       "      <td>WP_251991169.1</td>\n",
       "      <td>UserReplicon</td>\n",
       "      <td>5205</td>\n",
       "      <td>657</td>\n",
       "      <td>BREX__brxL</td>\n",
       "      <td>GCF_001893455</td>\n",
       "    </tr>\n",
       "  </tbody>\n",
       "</table>\n",
       "<p>799429 rows × 6 columns</p>\n",
       "</div>"
      ],
      "text/plain": [
       "                hit_id      replicon  position_hit  hit_sequence_length   \n",
       "0       WP_000007095.1  UserReplicon            29                  455  \\\n",
       "1       WP_000007095.1  UserReplicon            29                  455   \n",
       "2       WP_000007095.1  UserReplicon            29                  455   \n",
       "3       WP_000014594.1  UserReplicon            61                   70   \n",
       "4       WP_000020744.1  UserReplicon            91                  301   \n",
       "...                ...           ...           ...                  ...   \n",
       "799424  WP_236927824.1  UserReplicon          5192                  495   \n",
       "799425  WP_236927824.1  UserReplicon          5192                  495   \n",
       "799426  WP_251991158.1  UserReplicon          5198                  183   \n",
       "799427  WP_251991158.1  UserReplicon          5198                  183   \n",
       "799428  WP_251991169.1  UserReplicon          5205                  657   \n",
       "\n",
       "             gene_name  assembly_stub  \n",
       "0       Hachiman__HamB  GCF_000267385  \n",
       "1         Shango__SngC  GCF_000267385  \n",
       "2        PsyrTA__PsyrT  GCF_000267385  \n",
       "3        Retron_V__CSD  GCF_000267385  \n",
       "4          Eleos__LeoA  GCF_000267385  \n",
       "...                ...            ...  \n",
       "799424      DRT8__DRT8  GCF_001893455  \n",
       "799425    DRT_3__drt3b  GCF_001893455  \n",
       "799426    RM__Type_I_S  GCF_001893455  \n",
       "799427   PrrC__EcoprrI  GCF_001893455  \n",
       "799428      BREX__brxL  GCF_001893455  \n",
       "\n",
       "[799429 rows x 6 columns]"
      ]
     },
     "execution_count": 10,
     "metadata": {},
     "output_type": "execute_result"
    }
   ],
   "source": [
    "cat_homolog_df"
   ]
  },
  {
   "cell_type": "code",
   "execution_count": 11,
   "id": "1d4106ce-4559-42b8-94de-49b3f985d76d",
   "metadata": {},
   "outputs": [],
   "source": [
    "unique_homolog_df = (cat_homolog_df.groupby(['hit_id','assembly_stub'])\n",
    "                     .sample(n=1, random_state=7))"
   ]
  },
  {
   "cell_type": "code",
   "execution_count": 12,
   "id": "9b3395ad-c029-4ce6-abb5-2c382c74213c",
   "metadata": {},
   "outputs": [],
   "source": [
    "unique_system_df = (cat_system_df.sort_values('sys_score', ascending=False)\n",
    "                    .groupby(['assembly_stub', 'hit_id'])\n",
    "                    .head(1))"
   ]
  },
  {
   "cell_type": "markdown",
   "id": "7c6bd0c1-8da0-4551-81be-6e5fa8a315c5",
   "metadata": {},
   "source": [
    "## Analyze Defense Predictor Results"
   ]
  },
  {
   "cell_type": "markdown",
   "id": "dd92c25b-2c5b-485e-ae8f-2b67e23b8d67",
   "metadata": {},
   "source": [
    "#### Skip the next four cells"
   ]
  },
  {
   "cell_type": "code",
   "execution_count": 39,
   "id": "a72e2120-73d9-413d-bf9e-496763c8a921",
   "metadata": {},
   "outputs": [],
   "source": [
    "def_pred_top = '../data/ecoli/processed/ecoli_predictions/'\n",
    "def_pred_fs = [x for x in os.listdir(def_pred_top) if '.csv' in x]"
   ]
  },
  {
   "cell_type": "code",
   "execution_count": 41,
   "id": "79cb517b-6680-4680-ac5c-3f1dfcc48e8f",
   "metadata": {},
   "outputs": [
    {
     "name": "stderr",
     "output_type": "stream",
     "text": [
      "100%|██████████| 3000/3000 [08:35<00:00,  5.82it/s]\n"
     ]
    }
   ],
   "source": [
    "def_pred_list = list()\n",
    "for f in tqdm(def_pred_fs, position=0):\n",
    "    pred_df = pd.read_csv(os.path.join(def_pred_top, f))\n",
    "    def_pred_list.append(pred_df)"
   ]
  },
  {
   "cell_type": "code",
   "execution_count": 42,
   "id": "c03c2967-64f7-47e5-84c8-f16bef732aaa",
   "metadata": {},
   "outputs": [],
   "source": [
    "cat_def_pred = pd.concat(def_pred_list)"
   ]
  },
  {
   "cell_type": "code",
   "execution_count": null,
   "id": "44a0d1ba-e6f9-4464-9cad-491dc1f4e71e",
   "metadata": {},
   "outputs": [],
   "source": [
    "cat_def_pred.to_csv('../data/ecoli/processed/all_predictions.csv', index=False)"
   ]
  },
  {
   "cell_type": "markdown",
   "id": "7cd94763-3529-4b4e-b215-74405f214580",
   "metadata": {},
   "source": [
    "#### End skip"
   ]
  },
  {
   "cell_type": "code",
   "execution_count": 13,
   "id": "cad5ddff-d8b6-4178-b7d7-6ac925583d57",
   "metadata": {},
   "outputs": [
    {
     "name": "stderr",
     "output_type": "stream",
     "text": [
      "<timed exec>:1: DtypeWarning: Columns (7) have mixed types. Specify dtype option on import or set low_memory=False.\n"
     ]
    },
    {
     "name": "stdout",
     "output_type": "stream",
     "text": [
      "CPU times: user 49.1 s, sys: 6.21 s, total: 55.3 s\n",
      "Wall time: 55.8 s\n"
     ]
    }
   ],
   "source": [
    "%%time\n",
    "cat_def_pred = pd.read_csv('../data/ecoli/processed/all_predictions.csv')"
   ]
  },
  {
   "cell_type": "code",
   "execution_count": 14,
   "id": "727805cb-7d7c-44a5-a92b-d73caae244b5",
   "metadata": {},
   "outputs": [],
   "source": [
    "cat_def_pred['log_odds'] = np.log(cat_def_pred['beaker_prediction']/(1-cat_def_pred['beaker_prediction']))\n",
    "cat_def_pred['predicted_defensive'] = cat_def_pred['log_odds'] > med_log_odds_cutoff"
   ]
  },
  {
   "cell_type": "code",
   "execution_count": 15,
   "id": "eec3264d-7aa6-4266-9150-31341fd72100",
   "metadata": {},
   "outputs": [
    {
     "data": {
      "text/plain": [
       "120010"
      ]
     },
     "execution_count": 15,
     "metadata": {},
     "output_type": "execute_result"
    }
   ],
   "source": [
    "cat_def_pred['predicted_defensive'].sum()"
   ]
  },
  {
   "cell_type": "code",
   "execution_count": 16,
   "id": "5bd65dcc-1dec-4b70-a2e5-7a69dd4bf017",
   "metadata": {},
   "outputs": [],
   "source": [
    "pred_summary = (cat_def_pred.query('predicted_defensive')\n",
    "                .groupby('assembly')\n",
    "                .agg(n_pred_defense=('product_accession', 'nunique'))\n",
    "                .reset_index())"
   ]
  },
  {
   "cell_type": "code",
   "execution_count": 17,
   "id": "a55e1d4a-686f-4da0-8a99-f65b6a3886ba",
   "metadata": {},
   "outputs": [
    {
     "data": {
      "image/png": "[encoded data removed]",
      "text/plain": [
       "<Figure size 230x230 with 1 Axes>"
      ]
     },
     "metadata": {},
     "output_type": "display_data"
    }
   ],
   "source": [
    "plt.subplots(figsize=(2.3,2.3))\n",
    "sns.histplot(data=pred_summary, x='n_pred_defense', binwidth=1, color='grey')\n",
    "sns.despine()"
   ]
  },
  {
   "cell_type": "code",
   "execution_count": 18,
   "id": "19b5a25c-1fee-4d05-99c7-55cd50fb0ad7",
   "metadata": {},
   "outputs": [],
   "source": [
    "cat_def_pred['assembly_stub'] = cat_def_pred['assembly'].str.split('.', expand=True)[0]"
   ]
  },
  {
   "cell_type": "markdown",
   "id": "591fefa9-d78b-43ad-9b2d-0d1e5bba98fa",
   "metadata": {},
   "source": [
    "## Analyze overlap"
   ]
  },
  {
   "cell_type": "code",
   "execution_count": 19,
   "id": "5a6f1db4-2c98-42b4-934c-443e83fe61ef",
   "metadata": {},
   "outputs": [],
   "source": [
    "merged_predictions = (cat_def_pred.merge(unique_homolog_df[['hit_id', 'gene_name', 'assembly_stub']]\n",
    "                                         .rename(columns={'hit_id': 'product_accession', \n",
    "                                                          'gene_name': 'defense_homolog_name'}),\n",
    "                                        how='left', on=['product_accession', 'assembly_stub']))\n",
    "merged_predictions['defense_homolog'] = ~merged_predictions['defense_homolog_name'].isna()\n",
    "merged_predictions = (merged_predictions.merge(unique_system_df[['assembly_stub', 'hit_id','gene_name', 'sys_id']]\n",
    "                                               .rename(columns={'hit_id': 'product_accession', \n",
    "                                                                'gene_name': 'defense_system_gene', \n",
    "                                                                'sys_id': 'defense_system'}), \n",
    "                                               how='left', on=['product_accession', 'assembly_stub']))\n",
    "merged_predictions['defense_system_protein'] = ~merged_predictions['defense_system_gene'].isna()\n",
    "merged_predictions = (merged_predictions.merge(cluster_df, how='inner', on='product_accession'))"
   ]
  },
  {
   "cell_type": "code",
   "execution_count": 20,
   "id": "ed540ba9-b2ff-4ee5-8e4c-afd4efb127b5",
   "metadata": {},
   "outputs": [
    {
     "data": {
      "text/plain": [
       "True"
      ]
     },
     "execution_count": 20,
     "metadata": {},
     "output_type": "execute_result"
    }
   ],
   "source": [
    "len(merged_predictions) == len(cat_def_pred)"
   ]
  },
  {
   "cell_type": "code",
   "execution_count": 21,
   "id": "325920b0-8d19-475f-95d1-0729c81dc6a1",
   "metadata": {},
   "outputs": [],
   "source": [
    "def assign_predicted_category(row):\n",
    "    if row['defense_system_protein']:\n",
    "        return 'Defense homolog in expected system'\n",
    "    elif row['defense_homolog']:\n",
    "        return 'Defense homolog in new context'\n",
    "    else:\n",
    "        return 'Putative novel defense gene'"
   ]
  },
  {
   "cell_type": "code",
   "execution_count": 22,
   "id": "d6162c7a-3326-40a0-8178-6f64d634676a",
   "metadata": {},
   "outputs": [],
   "source": [
    "predicted_defense_df = merged_predictions[merged_predictions['predicted_defensive'] |\n",
    "                                          merged_predictions['defense_system_protein']].copy()\n",
    "predicted_defense_df['predicted_category'] = predicted_defense_df.apply(assign_predicted_category, axis=1)"
   ]
  },
  {
   "cell_type": "code",
   "execution_count": 23,
   "id": "ca1433ba-4938-42fb-ba5d-69b0718d7c37",
   "metadata": {},
   "outputs": [
    {
     "data": {
      "text/plain": [
       "predicted_category\n",
       "Defense homolog in new context        63311\n",
       "Putative novel defense gene           42645\n",
       "Defense homolog in expected system    17876\n",
       "Name: count, dtype: int64"
      ]
     },
     "execution_count": 23,
     "metadata": {},
     "output_type": "execute_result"
    }
   ],
   "source": [
    "predicted_defense_df['predicted_category'].value_counts()"
   ]
  },
  {
   "cell_type": "code",
   "execution_count": 24,
   "id": "77d637f7-c3e3-45af-a7a3-87376be93388",
   "metadata": {},
   "outputs": [
    {
     "data": {
      "text/html": [
       "<div>\n",
       "<style scoped>\n",
       "    .dataframe tbody tr th:only-of-type {\n",
       "        vertical-align: middle;\n",
       "    }\n",
       "\n",
       "    .dataframe tbody tr th {\n",
       "        vertical-align: top;\n",
       "    }\n",
       "\n",
       "    .dataframe thead th {\n",
       "        text-align: right;\n",
       "    }\n",
       "</style>\n",
       "<table border=\"1\" class=\"dataframe\">\n",
       "  <thead>\n",
       "    <tr style=\"text-align: right;\">\n",
       "      <th></th>\n",
       "      <th>predicted_category</th>\n",
       "      <th>n_unique_clusters</th>\n",
       "    </tr>\n",
       "  </thead>\n",
       "  <tbody>\n",
       "    <tr>\n",
       "      <th>0</th>\n",
       "      <td>Defense homolog in expected system</td>\n",
       "      <td>925</td>\n",
       "    </tr>\n",
       "    <tr>\n",
       "      <th>1</th>\n",
       "      <td>Defense homolog in new context</td>\n",
       "      <td>1497</td>\n",
       "    </tr>\n",
       "    <tr>\n",
       "      <th>2</th>\n",
       "      <td>Putative novel defense gene</td>\n",
       "      <td>1981</td>\n",
       "    </tr>\n",
       "  </tbody>\n",
       "</table>\n",
       "</div>"
      ],
      "text/plain": [
       "                   predicted_category  n_unique_clusters\n",
       "0  Defense homolog in expected system                925\n",
       "1      Defense homolog in new context               1497\n",
       "2         Putative novel defense gene               1981"
      ]
     },
     "execution_count": 24,
     "metadata": {},
     "output_type": "execute_result"
    }
   ],
   "source": [
    "(predicted_defense_df.groupby('predicted_category')\n",
    "                      .agg(n_unique_clusters=('cluster_id', 'nunique'))\n",
    "                      .reset_index())"
   ]
  },
  {
   "cell_type": "code",
   "execution_count": 25,
   "id": "18ed5143-535c-4c10-9026-856a89007bad",
   "metadata": {},
   "outputs": [
    {
     "data": {
      "text/plain": [
       "name\n",
       "hypothetical protein                                          18372\n",
       "clamp-binding protein CrfC                                     2667\n",
       "type II toxin-antitoxin system RelE/ParE family toxin          2632\n",
       "DUF4132 domain-containing protein YehI                         1640\n",
       "type II toxin-antitoxin system mRNA interferase toxin YafQ     1549\n",
       "dynamin family protein                                         1376\n",
       "type II toxin-antitoxin system toxin HigB                      1354\n",
       "protein YehK                                                   1251\n",
       "WGR and DUF4132 domain-containing protein                       871\n",
       "type II toxin-antitoxin system HigB family toxin                794\n",
       "DUF262 domain-containing protein                                570\n",
       "restriction endonuclease                                        488\n",
       "response regulator receiver domain                              470\n",
       "DUF2971 domain-containing protein                               453\n",
       "ATP-binding protein                                             379\n",
       "super-infection exclusion protein B                             371\n",
       "DUF4238 domain-containing protein                               296\n",
       "DUF4760 domain-containing protein                               234\n",
       "nucleotide-binding protein                                      222\n",
       "DUF1524 domain-containing protein                               215\n",
       "Name: count, dtype: int64"
      ]
     },
     "execution_count": 25,
     "metadata": {},
     "output_type": "execute_result"
    }
   ],
   "source": [
    "predicted_defense_df.loc[predicted_defense_df['predicted_category'] == 'Putative novel defense gene', 'name'].value_counts().head(20)"
   ]
  },
  {
   "cell_type": "code",
   "execution_count": 26,
   "id": "3d28af45-8bf2-440c-85e3-0ddad992236a",
   "metadata": {},
   "outputs": [],
   "source": [
    "genomes = predicted_defense_df['assembly'].drop_duplicates()"
   ]
  },
  {
   "cell_type": "code",
   "execution_count": 27,
   "id": "7462e7ae-18ab-4eb1-8e06-de7e45e3e637",
   "metadata": {},
   "outputs": [
    {
     "name": "stderr",
     "output_type": "stream",
     "text": [
      "100%|██████████| 50/50 [00:02<00:00, 21.73it/s]\n"
     ]
    }
   ],
   "source": [
    "sample_range = [int(x) for x in np.linspace(1, 3_000, num=50)]\n",
    "n_def_cluster_list = list()\n",
    "for n in tqdm(sample_range):\n",
    "    sampled_genomes = genomes.sample(n=n, random_state=7)\n",
    "    sampled_def_df = predicted_defense_df[predicted_defense_df['assembly'].isin(sampled_genomes)]\n",
    "    n_def_clusters = (sampled_def_df.groupby('predicted_category')\n",
    "                      .agg(n_unique_clusters=('cluster_id', 'nunique'))\n",
    "                      .reset_index())\n",
    "    n_def_clusters['n_genomes'] = n\n",
    "    n_def_cluster_list.append(n_def_clusters)\n",
    "cat_n_def_cluster = pd.concat(n_def_cluster_list)"
   ]
  },
  {
   "cell_type": "code",
   "execution_count": 28,
   "id": "7b4000f1-0a89-4935-befc-c98d40b7ab80",
   "metadata": {},
   "outputs": [],
   "source": [
    "cat_n_def_cluster['predicted_category'] = pd.Categorical(cat_n_def_cluster['predicted_category'], \n",
    "                                                         categories=['Defense homolog in expected system', \n",
    "                                                                    'Defense homolog in new context', \n",
    "                                                                    'Putative novel defense gene'])"
   ]
  },
  {
   "cell_type": "code",
   "execution_count": 29,
   "id": "ca065997-474a-4e46-bd22-ba1c362d49b2",
   "metadata": {},
   "outputs": [
    {
     "data": {
      "text/plain": [
       "Text(0.5, 0, '# Genomes')"
      ]
     },
     "execution_count": 29,
     "metadata": {},
     "output_type": "execute_result"
    },
    {
     "data": {
      "image/png": "[encoded data removed]",
      "text/plain": [
       "<Figure size 200x200 with 1 Axes>"
      ]
     },
     "metadata": {},
     "output_type": "display_data"
    }
   ],
   "source": [
    "plt.subplots(figsize=(2, 2))\n",
    "sns.scatterplot(data=cat_n_def_cluster, x='n_genomes', y='n_unique_clusters', hue='predicted_category',\n",
    "              palette=bw_color_palette[:2] + ['#78C15B'], s=10)\n",
    "sns.despine()\n",
    "plt.legend(loc=\"upper left\", bbox_to_anchor=(1,1))\n",
    "plt.ylabel('# Protein Clusters')\n",
    "plt.xlabel('# Genomes')"
   ]
  },
  {
   "cell_type": "code",
   "execution_count": 108,
   "id": "99ab61d6-7be4-40ed-9de2-02b9171e7b5e",
   "metadata": {},
   "outputs": [],
   "source": [
    "selected_novel_proteins = (predicted_defense_df[predicted_defense_df['predicted_category'] == 'Putative novel defense gene']\n",
    "                           .sort_values('log_odds', ascending=False)\n",
    "                           .groupby('cluster_id')\n",
    "                           .head(1))"
   ]
  },
  {
   "cell_type": "code",
   "execution_count": 118,
   "id": "73811534-a88d-4111-bcd3-9cf13d9eed4e",
   "metadata": {},
   "outputs": [
    {
     "data": {
      "text/plain": [
       "name\n",
       "hypothetical protein                                     1265\n",
       "DUF2971 domain-containing protein                          31\n",
       "restriction endonuclease                                   28\n",
       "HEPN domain-containing protein                             25\n",
       "ATP-binding protein                                        25\n",
       "restriction endonuclease subunit S                         24\n",
       "AAA family ATPase                                          21\n",
       "DUF262 domain-containing protein                           18\n",
       "HNH endonuclease                                           17\n",
       "DUF4365 domain-containing protein                          15\n",
       "nucleoid-associated protein                                15\n",
       "PIN domain-containing protein                              15\n",
       "type II toxin-antitoxin system RelE/ParE family toxin      15\n",
       "DUF4145 domain-containing protein                          14\n",
       "P-loop NTPase fold protein                                 14\n",
       "SMEK domain-containing protein                             13\n",
       "HNH endonuclease signature motif containing protein        13\n",
       "DEAD/DEAH box helicase family protein                      10\n",
       "DUF2326 domain-containing protein                           8\n",
       "response regulator receiver domain                          8\n",
       "Name: count, dtype: int64"
      ]
     },
     "execution_count": 118,
     "metadata": {},
     "output_type": "execute_result"
    }
   ],
   "source": [
    "selected_novel_proteins['name'].value_counts().head(20)"
   ]
  },
  {
   "cell_type": "code",
   "execution_count": 120,
   "id": "e2ae7a2c-ca0f-4c21-8366-eab9bc9a8806",
   "metadata": {},
   "outputs": [],
   "source": [
    "novel_acc_out = '../data/ecoli/interim/selected_novel_accessions.txt'\n"
   ]
  },
  {
   "cell_type": "code",
   "execution_count": 122,
   "id": "5a5b67bb-483b-4931-a987-ee59451bb811",
   "metadata": {},
   "outputs": [],
   "source": [
    "selected_novel_proteins['product_accession'].to_csv(novel_acc_out, index=False, header=False)"
   ]
  },
  {
   "cell_type": "code",
   "execution_count": 123,
   "id": "4e683ecf-3117-40ea-beb6-28754ec35a07",
   "metadata": {},
   "outputs": [],
   "source": [
    "faa_out = '../data/ecoli/interim/selected_novel_seqs.faa'\n"
   ]
  },
  {
   "cell_type": "code",
   "execution_count": 126,
   "id": "ff050a54-9de0-45f0-8396-082a0924d85f",
   "metadata": {},
   "outputs": [
    {
     "data": {
      "text/plain": [
       "0"
      ]
     },
     "execution_count": 126,
     "metadata": {},
     "output_type": "execute_result"
    }
   ],
   "source": [
    "os.system(' '.join(['conda run -n beaker', \n",
    "                    'seqtk subseq', '../data/ecoli/interim/unique_seqs.faa', \n",
    "                    novel_acc_out, '>',\n",
    "                    faa_out]))"
   ]
  },
  {
   "cell_type": "code",
   "execution_count": 30,
   "id": "610b2b1e-296e-4c70-a521-7b724ff041de",
   "metadata": {},
   "outputs": [],
   "source": [
    "predicted_defense_df.to_csv('../data/ecoli/interim/predicted_defense_df.csv', index=False)"
   ]
  },
  {
   "cell_type": "code",
   "execution_count": null,
   "id": "2fb35bfb-025b-4cdb-a937-ec1358d106cb",
   "metadata": {},
   "outputs": [],
   "source": [
    "merged_predictions.to_csv('../data/ecoli/processed/ecoli_predictions_annot.csv', index=False)\n",
    "selected_novel_proteins.to_csv('../data/ecoli/interim/selected_novel_genes.csv', index=False)\n"
   ]
  },
  {
   "cell_type": "code",
   "execution_count": 1,
   "id": "6d4d20e1-9654-4b74-8979-bbcb28625b6f",
   "metadata": {},
   "outputs": [],
   "source": [
    "import pandas as pd"
   ]
  },
  {
   "cell_type": "code",
   "execution_count": 3,
   "id": "19ea81c7-12ad-4f03-918a-5cb7265bb026",
   "metadata": {},
   "outputs": [
    {
     "name": "stderr",
     "output_type": "stream",
     "text": [
      "/state/partition1/slurm_tmp/27555002.0.0/ipykernel_297213/3646420519.py:1: DtypeWarning: Columns (7,21,25,27,28) have mixed types. Specify dtype option on import or set low_memory=False.\n",
      "  ecoli_predictions_annot = pd.read_csv('../data/ecoli/processed/ecoli_predictions_annot.csv')\n"
     ]
    }
   ],
   "source": [
    "ecoli_predictions_annot = pd.read_csv('../data/ecoli/processed/ecoli_predictions_annot.csv')"
   ]
  },
  {
   "cell_type": "code",
   "execution_count": 4,
   "id": "13747b7d-4d5d-4bd4-9558-3e0484d8f8a0",
   "metadata": {},
   "outputs": [
    {
     "data": {
      "text/html": [
       "<div>\n",
       "<style scoped>\n",
       "    .dataframe tbody tr th:only-of-type {\n",
       "        vertical-align: middle;\n",
       "    }\n",
       "\n",
       "    .dataframe tbody tr th {\n",
       "        vertical-align: top;\n",
       "    }\n",
       "\n",
       "    .dataframe thead th {\n",
       "        text-align: right;\n",
       "    }\n",
       "</style>\n",
       "<table border=\"1\" class=\"dataframe\">\n",
       "  <thead>\n",
       "    <tr style=\"text-align: right;\">\n",
       "      <th></th>\n",
       "      <th>protein_context_id</th>\n",
       "      <th>beaker_prediction</th>\n",
       "      <th># feature</th>\n",
       "      <th>class</th>\n",
       "      <th>assembly</th>\n",
       "      <th>assembly_unit</th>\n",
       "      <th>seq_type</th>\n",
       "      <th>chromosome</th>\n",
       "      <th>genomic_accession</th>\n",
       "      <th>start</th>\n",
       "      <th>...</th>\n",
       "      <th>attributes</th>\n",
       "      <th>log_odds</th>\n",
       "      <th>predicted_defensive</th>\n",
       "      <th>assembly_stub</th>\n",
       "      <th>defense_homolog_name</th>\n",
       "      <th>defense_homolog</th>\n",
       "      <th>defense_system_gene</th>\n",
       "      <th>defense_system</th>\n",
       "      <th>defense_system_protein</th>\n",
       "      <th>cluster_id</th>\n",
       "    </tr>\n",
       "  </thead>\n",
       "  <tbody>\n",
       "    <tr>\n",
       "      <th>0</th>\n",
       "      <td>WP_001568552.1|NZ_JAIHLJ010000004.1|11426|+</td>\n",
       "      <td>1.0</td>\n",
       "      <td>CDS</td>\n",
       "      <td>with_protein</td>\n",
       "      <td>GCF_020668315.1</td>\n",
       "      <td>Primary Assembly</td>\n",
       "      <td>unplaced scaffold</td>\n",
       "      <td>NaN</td>\n",
       "      <td>NZ_JAIHLJ010000004.1</td>\n",
       "      <td>11426</td>\n",
       "      <td>...</td>\n",
       "      <td>NaN</td>\n",
       "      <td>29.469973</td>\n",
       "      <td>True</td>\n",
       "      <td>GCF_020668315</td>\n",
       "      <td>Thoeris_I__ThsA_new_grand</td>\n",
       "      <td>True</td>\n",
       "      <td>NaN</td>\n",
       "      <td>NaN</td>\n",
       "      <td>False</td>\n",
       "      <td>WP_040088523.1</td>\n",
       "    </tr>\n",
       "    <tr>\n",
       "      <th>1</th>\n",
       "      <td>WP_000177023.1|NZ_JAIHLJ010000011.1|94902|+</td>\n",
       "      <td>1.0</td>\n",
       "      <td>CDS</td>\n",
       "      <td>with_protein</td>\n",
       "      <td>GCF_020668315.1</td>\n",
       "      <td>Primary Assembly</td>\n",
       "      <td>unplaced scaffold</td>\n",
       "      <td>NaN</td>\n",
       "      <td>NZ_JAIHLJ010000011.1</td>\n",
       "      <td>94902</td>\n",
       "      <td>...</td>\n",
       "      <td>NaN</td>\n",
       "      <td>24.733916</td>\n",
       "      <td>True</td>\n",
       "      <td>GCF_020668315</td>\n",
       "      <td>RM_Type_IV__Type_IV_REases</td>\n",
       "      <td>True</td>\n",
       "      <td>RM_Type_IV__Type_IV_REases</td>\n",
       "      <td>UserReplicon_RM_Type_IV_1</td>\n",
       "      <td>True</td>\n",
       "      <td>WP_028120629.1</td>\n",
       "    </tr>\n",
       "    <tr>\n",
       "      <th>2</th>\n",
       "      <td>WP_000177023.1|NZ_NNZI01000001.1|333234|+</td>\n",
       "      <td>1.0</td>\n",
       "      <td>CDS</td>\n",
       "      <td>with_protein</td>\n",
       "      <td>GCF_002547485.1</td>\n",
       "      <td>Primary Assembly</td>\n",
       "      <td>unplaced scaffold</td>\n",
       "      <td>NaN</td>\n",
       "      <td>NZ_NNZI01000001.1</td>\n",
       "      <td>333234</td>\n",
       "      <td>...</td>\n",
       "      <td>NaN</td>\n",
       "      <td>23.739626</td>\n",
       "      <td>True</td>\n",
       "      <td>GCF_002547485</td>\n",
       "      <td>RM_Type_IV__Type_IV_REases</td>\n",
       "      <td>True</td>\n",
       "      <td>RM_Type_IV__Type_IV_REases</td>\n",
       "      <td>UserReplicon_RM_Type_IV_1</td>\n",
       "      <td>True</td>\n",
       "      <td>WP_028120629.1</td>\n",
       "    </tr>\n",
       "    <tr>\n",
       "      <th>3</th>\n",
       "      <td>WP_000177023.1|NZ_NNYC01000011.1|108831|+</td>\n",
       "      <td>1.0</td>\n",
       "      <td>CDS</td>\n",
       "      <td>with_protein</td>\n",
       "      <td>GCF_002546565.1</td>\n",
       "      <td>Primary Assembly</td>\n",
       "      <td>unplaced scaffold</td>\n",
       "      <td>NaN</td>\n",
       "      <td>NZ_NNYC01000011.1</td>\n",
       "      <td>108831</td>\n",
       "      <td>...</td>\n",
       "      <td>NaN</td>\n",
       "      <td>23.476266</td>\n",
       "      <td>True</td>\n",
       "      <td>GCF_002546565</td>\n",
       "      <td>RM_Type_IV__Type_IV_REases</td>\n",
       "      <td>True</td>\n",
       "      <td>RM_Type_IV__Type_IV_REases</td>\n",
       "      <td>UserReplicon_RM_Type_IV_2</td>\n",
       "      <td>True</td>\n",
       "      <td>WP_028120629.1</td>\n",
       "    </tr>\n",
       "    <tr>\n",
       "      <th>4</th>\n",
       "      <td>WP_000177023.1|NZ_LOGI01000090.1|89534|+</td>\n",
       "      <td>1.0</td>\n",
       "      <td>CDS</td>\n",
       "      <td>with_protein</td>\n",
       "      <td>GCF_001607155.1</td>\n",
       "      <td>Primary Assembly</td>\n",
       "      <td>unplaced scaffold</td>\n",
       "      <td>NaN</td>\n",
       "      <td>NZ_LOGI01000090.1</td>\n",
       "      <td>89534</td>\n",
       "      <td>...</td>\n",
       "      <td>NaN</td>\n",
       "      <td>23.687221</td>\n",
       "      <td>True</td>\n",
       "      <td>GCF_001607155</td>\n",
       "      <td>RM_Type_IV__Type_IV_REases</td>\n",
       "      <td>True</td>\n",
       "      <td>RM_Type_IV__Type_IV_REases</td>\n",
       "      <td>UserReplicon_RM_Type_IV_2</td>\n",
       "      <td>True</td>\n",
       "      <td>WP_028120629.1</td>\n",
       "    </tr>\n",
       "  </tbody>\n",
       "</table>\n",
       "<p>5 rows × 31 columns</p>\n",
       "</div>"
      ],
      "text/plain": [
       "                            protein_context_id  beaker_prediction # feature   \n",
       "0  WP_001568552.1|NZ_JAIHLJ010000004.1|11426|+                1.0       CDS  \\\n",
       "1  WP_000177023.1|NZ_JAIHLJ010000011.1|94902|+                1.0       CDS   \n",
       "2    WP_000177023.1|NZ_NNZI01000001.1|333234|+                1.0       CDS   \n",
       "3    WP_000177023.1|NZ_NNYC01000011.1|108831|+                1.0       CDS   \n",
       "4     WP_000177023.1|NZ_LOGI01000090.1|89534|+                1.0       CDS   \n",
       "\n",
       "          class         assembly     assembly_unit           seq_type   \n",
       "0  with_protein  GCF_020668315.1  Primary Assembly  unplaced scaffold  \\\n",
       "1  with_protein  GCF_020668315.1  Primary Assembly  unplaced scaffold   \n",
       "2  with_protein  GCF_002547485.1  Primary Assembly  unplaced scaffold   \n",
       "3  with_protein  GCF_002546565.1  Primary Assembly  unplaced scaffold   \n",
       "4  with_protein  GCF_001607155.1  Primary Assembly  unplaced scaffold   \n",
       "\n",
       "  chromosome     genomic_accession   start  ...  attributes   log_odds   \n",
       "0        NaN  NZ_JAIHLJ010000004.1   11426  ...         NaN  29.469973  \\\n",
       "1        NaN  NZ_JAIHLJ010000011.1   94902  ...         NaN  24.733916   \n",
       "2        NaN     NZ_NNZI01000001.1  333234  ...         NaN  23.739626   \n",
       "3        NaN     NZ_NNYC01000011.1  108831  ...         NaN  23.476266   \n",
       "4        NaN     NZ_LOGI01000090.1   89534  ...         NaN  23.687221   \n",
       "\n",
       "  predicted_defensive  assembly_stub        defense_homolog_name   \n",
       "0                True  GCF_020668315   Thoeris_I__ThsA_new_grand  \\\n",
       "1                True  GCF_020668315  RM_Type_IV__Type_IV_REases   \n",
       "2                True  GCF_002547485  RM_Type_IV__Type_IV_REases   \n",
       "3                True  GCF_002546565  RM_Type_IV__Type_IV_REases   \n",
       "4                True  GCF_001607155  RM_Type_IV__Type_IV_REases   \n",
       "\n",
       "  defense_homolog         defense_system_gene             defense_system   \n",
       "0            True                         NaN                        NaN  \\\n",
       "1            True  RM_Type_IV__Type_IV_REases  UserReplicon_RM_Type_IV_1   \n",
       "2            True  RM_Type_IV__Type_IV_REases  UserReplicon_RM_Type_IV_1   \n",
       "3            True  RM_Type_IV__Type_IV_REases  UserReplicon_RM_Type_IV_2   \n",
       "4            True  RM_Type_IV__Type_IV_REases  UserReplicon_RM_Type_IV_2   \n",
       "\n",
       "  defense_system_protein      cluster_id  \n",
       "0                  False  WP_040088523.1  \n",
       "1                   True  WP_028120629.1  \n",
       "2                   True  WP_028120629.1  \n",
       "3                   True  WP_028120629.1  \n",
       "4                   True  WP_028120629.1  \n",
       "\n",
       "[5 rows x 31 columns]"
      ]
     },
     "execution_count": 4,
     "metadata": {},
     "output_type": "execute_result"
    }
   ],
   "source": [
    "ecoli_predictions_annot.head()"
   ]
  },
  {
   "cell_type": "code",
   "execution_count": null,
   "id": "af1b8b51-cbc6-4bd2-8973-7666a42aa6b5",
   "metadata": {},
   "outputs": [],
   "source": []
  }
 ],
 "metadata": {
  "kernelspec": {
   "display_name": "beaker",
   "language": "python",
   "name": "beaker"
  },
  "language_info": {
   "codemirror_mode": {
    "name": "ipython",
    "version": 3
   },
   "file_extension": ".py",
   "mimetype": "text/x-python",
   "name": "python",
   "nbconvert_exporter": "python",
   "pygments_lexer": "ipython3",
   "version": "3.8.16"
  }
 },
 "nbformat": 4,
 "nbformat_minor": 5
}
