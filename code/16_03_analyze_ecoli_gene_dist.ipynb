{
 "cells": [
  {
   "cell_type": "code",
   "execution_count": 1,
   "id": "af1601b6-65ea-484c-b9d5-2996801ce09e",
   "metadata": {},
   "outputs": [],
   "source": [
    "import pandas as pd\n",
    "import seaborn as sns\n",
    "import matplotlib.pyplot as plt\n",
    "import numpy as np\n",
    "from tqdm import tqdm\n",
    "from joblib import Parallel, delayed"
   ]
  },
  {
   "cell_type": "code",
   "execution_count": 2,
   "id": "201ae773-1b9a-4f17-9936-e4425eb144ee",
   "metadata": {},
   "outputs": [],
   "source": [
    "plt.rcParams['font.size'] = 7\n",
    "plt.rcParams['svg.fonttype'] = 'none'"
   ]
  },
  {
   "cell_type": "code",
   "execution_count": null,
   "id": "e0c6667a-106d-4701-92d6-a90fb74a7064",
   "metadata": {},
   "outputs": [],
   "source": [
    "accession_assemblies = pd.read_parquet('../data/ecoli/interim/unique_accession_assemblies.pq')\n",
    "accession_clusters = pd.read_table('../data/ecoli/interim/seq_clusters.txt', names=['cluster_id', 'product_accession'])"
   ]
  },
  {
   "cell_type": "code",
   "execution_count": null,
   "id": "5500f443-6f51-4dc4-83a0-d08a53704228",
   "metadata": {},
   "outputs": [],
   "source": [
    "assembly_clusters_df = (accession_assemblies.merge(accession_clusters, how='inner', on='product_accession')\n",
    "                        [['cluster_id', 'assembly']].drop_duplicates())"
   ]
  },
  {
   "cell_type": "code",
   "execution_count": null,
   "id": "6282ee77-8172-4c0f-ac74-bb3ca8cf4fb8",
   "metadata": {},
   "outputs": [],
   "source": [
    "cluster_count = assembly_clusters_df['cluster_id'].value_counts()"
   ]
  },
  {
   "cell_type": "code",
   "execution_count": null,
   "id": "bd2ffb59-d78b-44b8-985a-8cc7c0f7635f",
   "metadata": {},
   "outputs": [],
   "source": [
    "assemblies = assembly_clusters_df['assembly'].drop_duplicates()\n",
    "n_assemblies = len(assemblies)"
   ]
  },
  {
   "cell_type": "code",
   "execution_count": null,
   "id": "e4a1a21a-d7df-46d4-a3d7-5439d75e6c4d",
   "metadata": {},
   "outputs": [
    {
     "data": {
      "text/plain": [
       "3000"
      ]
     },
     "execution_count": 7,
     "metadata": {},
     "output_type": "execute_result"
    }
   ],
   "source": [
    "n_assemblies"
   ]
  },
  {
   "cell_type": "code",
   "execution_count": null,
   "id": "f63a8be4-4021-4b23-b23b-dc2fb4c2c30f",
   "metadata": {},
   "outputs": [
    {
     "data": {
      "text/plain": [
       "71334"
      ]
     },
     "execution_count": 8,
     "metadata": {},
     "output_type": "execute_result"
    }
   ],
   "source": [
    "len(cluster_count)"
   ]
  },
  {
   "cell_type": "code",
   "execution_count": null,
   "id": "9b202831-9a54-4e03-a711-61c84983d944",
   "metadata": {},
   "outputs": [
    {
     "data": {
      "text/plain": [
       "56883"
      ]
     },
     "execution_count": 9,
     "metadata": {},
     "output_type": "execute_result"
    }
   ],
   "source": [
    "(cluster_count <= 10).sum()"
   ]
  },
  {
   "cell_type": "code",
   "execution_count": null,
   "id": "e8adfd1f-0f23-4dba-bbd4-76fb71db2b87",
   "metadata": {},
   "outputs": [
    {
     "data": {
      "text/plain": [
       "1673"
      ]
     },
     "execution_count": 10,
     "metadata": {},
     "output_type": "execute_result"
    }
   ],
   "source": [
    "(cluster_count >= 2990).sum()"
   ]
  },
  {
   "cell_type": "code",
   "execution_count": null,
   "id": "1d8303bf-c72d-48f6-a41d-136ad8173563",
   "metadata": {},
   "outputs": [
    {
     "data": {
      "image/png": "[encoded data removed]",
      "text/plain": [
       "<Figure size 200x200 with 1 Axes>"
      ]
     },
     "metadata": {},
     "output_type": "display_data"
    }
   ],
   "source": [
    "plt.subplots(figsize=(2,2))\n",
    "sns.histplot(cluster_count, binwidth=100, color='grey', alpha=1)\n",
    "sns.despine()\n",
    "plt.xlabel('# Genomes')\n",
    "plt.ylabel('# Protein clusters')\n",
    "plt.savefig('../figures/e_coli_strains_u_plot.svg', dpi=300, bbox_inches='tight')"
   ]
  },
  {
   "cell_type": "code",
   "execution_count": null,
   "id": "d94774c0-d8bc-42a2-abb8-e85323e86311",
   "metadata": {},
   "outputs": [],
   "source": [
    "assemblies = assembly_clusters_df['assembly'].drop_duplicates()"
   ]
  },
  {
   "cell_type": "code",
   "execution_count": 24,
   "id": "132a2df2-f6f9-46af-8fc9-c17ee3817e91",
   "metadata": {},
   "outputs": [],
   "source": [
    "def sample_clusters(n, n_boot, assemblies, assembly_clusters_df):\n",
    "    out_list = list()\n",
    "    for boot in range(n_boot):\n",
    "        sampled_assemblies = assemblies.sample(n=n, random_state=boot).to_list()\n",
    "        n_clusters = assembly_clusters_df.loc[assembly_clusters_df['assembly'].isin(sampled_assemblies), \n",
    "                                              'cluster_id'].nunique()\n",
    "        out_dict = {'n_assemblies': n,\n",
    "                    'n_clusters': n_clusters, \n",
    "                    'boot': boot}\n",
    "        out_list.append(out_dict)\n",
    "    out_df = pd.DataFrame(out_list)\n",
    "    return out_df"
   ]
  },
  {
   "cell_type": "code",
   "execution_count": 25,
   "id": "38ed6751-3226-4ba4-b805-6dd1de65246d",
   "metadata": {},
   "outputs": [],
   "source": [
    "n_samples = [int(x) for x in np.linspace(1, 3_000, num=50)]\n",
    "n_boot = 50"
   ]
  },
  {
   "cell_type": "code",
   "execution_count": 26,
   "id": "1fb9f2fa-326f-4cfc-a9bb-acd8061c686c",
   "metadata": {},
   "outputs": [
    {
     "name": "stderr",
     "output_type": "stream",
     "text": [
      "100%|██████████| 50/50 [00:00<00:00, 404.11it/s]\n"
     ]
    }
   ],
   "source": [
    "out_df_list = Parallel(n_jobs=40)(delayed(sample_clusters)(n, n_boot, assemblies, assembly_clusters_df) for n in tqdm(n_samples))"
   ]
  },
  {
   "cell_type": "code",
   "execution_count": null,
   "id": "3d5d62dd-810c-4cfe-8267-29e11f7cc0a8",
   "metadata": {},
   "outputs": [],
   "source": [
    "out_df = pd.concat(out_df_list)"
   ]
  },
  {
   "cell_type": "code",
   "execution_count": 54,
   "id": "60168524-9a95-460d-a336-3bffedd113ea",
   "metadata": {},
   "outputs": [],
   "source": [
    "agg_out_df = (out_df.groupby('n_assemblies')\n",
    "              .agg({'n_clusters': 'mean'})\n",
    "              .reset_index())"
   ]
  },
  {
   "cell_type": "code",
   "execution_count": 55,
   "id": "206853aa-50a2-4a93-ac3d-d07de7644a91",
   "metadata": {},
   "outputs": [
    {
     "data": {
      "image/png": "[encoded data removed]",
      "text/plain": [
       "<Figure size 200x200 with 1 Axes>"
      ]
     },
     "metadata": {},
     "output_type": "display_data"
    }
   ],
   "source": [
    "plt.subplots(figsize=(2, 2))\n",
    "sns.scatterplot(data=agg_out_df, x='n_assemblies', y='n_clusters',\n",
    "                color='black', s=10)\n",
    "sns.despine()\n",
    "plt.xlabel('# Genomes')\n",
    "plt.ylabel('# Protein clusters')\n",
    "plt.savefig('../figures/ecoli_gene_clusters_per_assembly.svg', dpi=300, bbox_inches='tight')"
   ]
  },
  {
   "cell_type": "code",
   "execution_count": null,
   "id": "b925bfc4-a4ee-4edc-aa6a-4b8293fd0f52",
   "metadata": {},
   "outputs": [],
   "source": []
  }
 ],
 "metadata": {
  "kernelspec": {
   "display_name": "beaker",
   "language": "python",
   "name": "beaker"
  },
  "language_info": {
   "codemirror_mode": {
    "name": "ipython",
    "version": 3
   },
   "file_extension": ".py",
   "mimetype": "text/x-python",
   "name": "python",
   "nbconvert_exporter": "python",
   "pygments_lexer": "ipython3",
   "version": "3.8.16"
  }
 },
 "nbformat": 4,
 "nbformat_minor": 5
}
