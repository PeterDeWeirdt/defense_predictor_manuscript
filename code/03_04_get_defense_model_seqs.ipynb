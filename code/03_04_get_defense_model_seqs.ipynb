{
 "cells": [
  {
   "cell_type": "code",
   "execution_count": 2,
   "id": "98c8dee5-78a7-419c-b681-5e926858990b",
   "metadata": {},
   "outputs": [],
   "source": [
    "import pandas as pd\n",
    "import os\n",
    "import glob\n",
    "import xml.etree.ElementTree as ET\n",
    "import networkx as nx\n",
    "from tqdm import tqdm\n",
    "from core import read_mmseqs_results"
   ]
  },
  {
   "cell_type": "code",
   "execution_count": 3,
   "id": "b5d00a8b-1d27-4ec6-a911-b3bbb70931b0",
   "metadata": {},
   "outputs": [],
   "source": [
    "def get_xml_file_paths(top_directory):\n",
    "    pattern = f\"{top_directory}/**/*.xml\"\n",
    "    file_paths = glob.glob(pattern, recursive=True)    \n",
    "    return file_paths"
   ]
  },
  {
   "cell_type": "code",
   "execution_count": 4,
   "id": "7e90f041-5ed6-4839-9b9c-c52e55e92ca0",
   "metadata": {},
   "outputs": [],
   "source": [
    "def get_exhchangable_profiles(file_path):\n",
    "    model = os.path.basename(file_path).split('.')[0]\n",
    "    tree = ET.parse(os.path.expanduser(file_path))\n",
    "    root = tree.getroot()\n",
    "    data = []\n",
    "    exchangeable_names = []\n",
    "    parent_names = []\n",
    "    for gene in root.findall('.//gene'):\n",
    "        gene_name = gene.attrib.get('name', '')\n",
    "        exchangeables = gene.findall('.//exchangeables')\n",
    "        if exchangeables:\n",
    "            parent_names.append(gene_name)\n",
    "            for exch in exchangeables:\n",
    "                exch_genes = exch.findall('.//gene')\n",
    "                for sub_gene in exch_genes:\n",
    "                    exch_name = sub_gene.attrib.get('name', '')\n",
    "                    data.append({'model': model, 'parent_profile': gene_name, 'profile': exch_name})\n",
    "                    exchangeable_names.append(exch_name)\n",
    "        data.append({'model': model, 'parent_profile': gene_name, 'profile': gene_name})\n",
    "    df = pd.DataFrame(data)\n",
    "    rm_exchangable = [x for x in exchangeable_names if x not in parent_names]\n",
    "    df = df[~df['parent_profile'].isin(rm_exchangable)].reset_index(drop=True)\n",
    "    return df"
   ]
  },
  {
   "cell_type": "markdown",
   "id": "3c87c192-2f65-4c2b-917c-4f2048de0038",
   "metadata": {},
   "source": [
    "## Part 1: Get defense genes to use for modeling"
   ]
  },
  {
   "cell_type": "code",
   "execution_count": 5,
   "id": "2d98757a-5be3-4a2a-8c4d-65639c65e97f",
   "metadata": {},
   "outputs": [],
   "source": [
    "defense_finder_genes_df = pd.read_parquet('../data/interim/defense_finder_genes_genomes.pq')\n",
    "defense_homolog_df = pd.read_parquet('../data/interim/defense_finder_homologs_profile_names.pq')\n",
    "select_cluster_df = pd.read_parquet('../data3/interim/refseq_cover_clusters.pq')"
   ]
  },
  {
   "cell_type": "code",
   "execution_count": 6,
   "id": "c8859298-0e88-49fa-87ea-e2089da82463",
   "metadata": {},
   "outputs": [
    {
     "name": "stdout",
     "output_type": "stream",
     "text": [
      "241596\n",
      "2272123\n"
     ]
    }
   ],
   "source": [
    "true_defense_seq_ids = defense_finder_genes_df['seq_id'].drop_duplicates()\n",
    "print(len(true_defense_seq_ids))\n",
    "defense_homolog_seq_ids = defense_homolog_df['seq_id'].drop_duplicates()\n",
    "print(len(defense_homolog_seq_ids))"
   ]
  },
  {
   "cell_type": "code",
   "execution_count": 7,
   "id": "b09deb74-c10b-4957-b86b-19a7d43052f6",
   "metadata": {},
   "outputs": [
    {
     "name": "stdout",
     "output_type": "stream",
     "text": [
      "CPU times: user 1min 9s, sys: 47.3 s, total: 1min 56s\n",
      "Wall time: 2min 29s\n"
     ]
    }
   ],
   "source": [
    "%%time\n",
    "all_seqs = pd.read_parquet('../data/interim/refseq_seq_ids.pq')"
   ]
  },
  {
   "cell_type": "code",
   "execution_count": 8,
   "id": "6b1adf59-9ccb-4c78-95a3-1a591cbd56d7",
   "metadata": {},
   "outputs": [],
   "source": [
    "minimal_true_defense_seq_ids = true_defense_seq_ids[true_defense_seq_ids\n",
    "                                                    .isin(select_cluster_df['cluster_id'])]"
   ]
  },
  {
   "cell_type": "code",
   "execution_count": 9,
   "id": "4445a742-8a6f-467b-b8db-3691ecad3db7",
   "metadata": {},
   "outputs": [
    {
     "data": {
      "text/plain": [
       "14623"
      ]
     },
     "execution_count": 9,
     "metadata": {},
     "output_type": "execute_result"
    }
   ],
   "source": [
    "len(minimal_true_defense_seq_ids)"
   ]
  },
  {
   "cell_type": "code",
   "execution_count": 10,
   "id": "e5298c4c-52eb-44f6-adbf-7f7bea0750c3",
   "metadata": {},
   "outputs": [],
   "source": [
    "select_defense_finder_genes = (defense_finder_genes_df[defense_finder_genes_df['seq_id']\n",
    "                                                       .isin(minimal_true_defense_seq_ids)]\n",
    "                               .groupby('seq_id')\n",
    "                               .sample(n=1, random_state=7))"
   ]
  },
  {
   "cell_type": "code",
   "execution_count": 11,
   "id": "45c20a76-0f4c-4bdb-98ac-2910cae7cd2a",
   "metadata": {},
   "outputs": [
    {
     "data": {
      "text/plain": [
       "gene_name\n",
       "RM_Type_IV__Type_IV_REases                     1363\n",
       "RM_Type_II__Type_II_REases                      495\n",
       "RM__Type_I_S                                    451\n",
       "RM_Type_IIG__Type_IIG                           373\n",
       "RM_Type_II__Type_II_MTases                      258\n",
       "Shedu__SduA                                     195\n",
       "RloC__RloC                                      183\n",
       "Borvo__BovA_addition                            179\n",
       "AbiH__AbiH                                      164\n",
       "Septu__PtuA                                     160\n",
       "AbiD__AbiD                                      155\n",
       "RM__Type_I_REases                               134\n",
       "Septu__PtuB                                     120\n",
       "Lit__Lit                                        108\n",
       "Borvo__BovA                                     101\n",
       "Eleos__LeoBC                                     97\n",
       "Lamassu-Fam__LmuA_effector_Cap4_nuclease_II      93\n",
       "Rst_PARIS__DUF4435                               93\n",
       "Mokosh_TypeI__MkoA                               90\n",
       "SpbK__SpbK                                       90\n",
       "Name: count, dtype: int64"
      ]
     },
     "execution_count": 11,
     "metadata": {},
     "output_type": "execute_result"
    }
   ],
   "source": [
    "select_defense_finder_genes['gene_name'].value_counts().head(20)"
   ]
  },
  {
   "cell_type": "markdown",
   "id": "bc4646b7-d56d-4fc4-86f3-e2bffeb59efe",
   "metadata": {},
   "source": [
    "## Part2: Get HMM clusters"
   ]
  },
  {
   "cell_type": "markdown",
   "id": "fa5d784e-6929-463f-9e74-19c3b211a3f1",
   "metadata": {},
   "source": [
    "### Edge type: exchangable"
   ]
  },
  {
   "cell_type": "code",
   "execution_count": 12,
   "id": "3eeff8df-7d0e-4c5e-aefc-557d5c13c387",
   "metadata": {},
   "outputs": [],
   "source": [
    "definition_file_paths = get_xml_file_paths(os.path.expanduser('~/defense-finder-models/definitions/'))"
   ]
  },
  {
   "cell_type": "code",
   "execution_count": 13,
   "id": "9bba2be8-52ff-432f-bec4-92f81cb7fd0d",
   "metadata": {},
   "outputs": [
    {
     "data": {
      "text/plain": [
       "229"
      ]
     },
     "execution_count": 13,
     "metadata": {},
     "output_type": "execute_result"
    }
   ],
   "source": [
    "len(definition_file_paths)"
   ]
  },
  {
   "cell_type": "code",
   "execution_count": 14,
   "id": "7cfbcd1a-2095-41a7-8730-22fe607fad8f",
   "metadata": {},
   "outputs": [
    {
     "name": "stderr",
     "output_type": "stream",
     "text": [
      "100%|██████████| 229/229 [00:20<00:00, 11.04it/s]\n"
     ]
    }
   ],
   "source": [
    "gene_group_list = []\n",
    "for f in tqdm(definition_file_paths):\n",
    "    gene_group_list.append(get_exhchangable_profiles(f))\n",
    "gene_group_df = pd.concat(gene_group_list)"
   ]
  },
  {
   "cell_type": "code",
   "execution_count": 15,
   "id": "1535b589-14a7-4050-a07d-06232cfd9a31",
   "metadata": {},
   "outputs": [],
   "source": [
    "gene_group_edges = (gene_group_df.merge(gene_group_df, how='inner', on='parent_profile')\n",
    "                    .query('profile_x != profile_y')\n",
    "                    [['profile_x', 'profile_y']]\n",
    "                    .drop_duplicates()\n",
    "                    .rename(columns={'profile_x': 'gene_name_x', \n",
    "                                     'profile_y': 'gene_name_y'}))"
   ]
  },
  {
   "cell_type": "code",
   "execution_count": 16,
   "id": "28e7e70d-73f5-4a07-9743-3c8948f35f41",
   "metadata": {},
   "outputs": [
    {
     "data": {
      "text/plain": [
       "16686"
      ]
     },
     "execution_count": 16,
     "metadata": {},
     "output_type": "execute_result"
    }
   ],
   "source": [
    "len(gene_group_edges)"
   ]
  },
  {
   "cell_type": "code",
   "execution_count": 17,
   "id": "332d9b1c-0056-4e52-ad92-c51a1059f12d",
   "metadata": {},
   "outputs": [
    {
     "data": {
      "text/plain": [
       "1018"
      ]
     },
     "execution_count": 17,
     "metadata": {},
     "output_type": "execute_result"
    }
   ],
   "source": [
    "all_genes = gene_group_df['profile'].drop_duplicates()\n",
    "len(all_genes)"
   ]
  },
  {
   "cell_type": "code",
   "execution_count": 18,
   "id": "3a55939a-bf55-4a52-81b0-7441c6cb3a72",
   "metadata": {},
   "outputs": [
    {
     "name": "stdout",
     "output_type": "stream",
     "text": [
      "# Edges: 8343\n",
      "# Nodes: 1018\n",
      "# Components: 389\n"
     ]
    },
    {
     "data": {
      "text/plain": [
       "component_name\n",
       "Cas__cas8a3_I-A_4                76\n",
       "Menshen__NsnC_2632405575         41\n",
       "Cas__csm2gr11_III-A_3            37\n",
       "Cas__cas5_I-E_13                 36\n",
       "Cas__cmr1gr7_III-B_III-C_2       31\n",
       "Cas__cas6_I_II_III_IV_V_VI_10    27\n",
       "Cas__cas12c_V-C_2                26\n",
       "Cas__cse2gr11_I-E_3              23\n",
       "Cas__cas7_I-A_1                  22\n",
       "Cas__csx1_III_17                 19\n",
       "Cas__csx19_III-D_2               19\n",
       "Cas__cmr3gr5_III-B_III-C_4       19\n",
       "Cas__csx21_III-D_1               19\n",
       "CBASS__Sensing_SAVED             17\n",
       "RosmerTA__RmrT_2623274509        14\n",
       "RosmerTA__RmrA_2617826694        14\n",
       "Cas__csn2_II-A_13                13\n",
       "Cas__cas3HD_I_3                  13\n",
       "Cas__cas2_I_II_III_IV_V_VI_6     12\n",
       "Cas__cas10_III-D_1               12\n",
       "Name: count, dtype: int64"
      ]
     },
     "execution_count": 18,
     "metadata": {},
     "output_type": "execute_result"
    }
   ],
   "source": [
    "G = nx.from_pandas_edgelist(gene_group_edges, 'gene_name_x', 'gene_name_y')\n",
    "nodes = list(G.nodes)\n",
    "missing_nodes = all_genes[~all_genes.isin(nodes)].to_list()\n",
    "G.add_nodes_from(missing_nodes)\n",
    "print('# Edges:', G.number_of_edges())\n",
    "print('# Nodes:', G.number_of_nodes())\n",
    "components = nx.connected_components(G)\n",
    "component_list = []\n",
    "for i, comp in enumerate(components):\n",
    "    subgraph = G.subgraph(comp)\n",
    "    max_degree_node = max(subgraph, key=lambda node: subgraph.degree(node))\n",
    "    for name in comp:\n",
    "        component_list.append({'gene_name': name, \n",
    "                               'component': i, \n",
    "                               'component_name': max_degree_node})\n",
    "print('# Components:', i)\n",
    "exchangable_component_df = pd.DataFrame(component_list)\n",
    "exchangable_component_df['component_name'].value_counts().head(20)"
   ]
  },
  {
   "cell_type": "code",
   "execution_count": 19,
   "id": "7d427e96-b7a9-4b2a-99f1-3a4cd0b79d9d",
   "metadata": {},
   "outputs": [
    {
     "data": {
      "text/html": [
       "<div>\n",
       "<style scoped>\n",
       "    .dataframe tbody tr th:only-of-type {\n",
       "        vertical-align: middle;\n",
       "    }\n",
       "\n",
       "    .dataframe tbody tr th {\n",
       "        vertical-align: top;\n",
       "    }\n",
       "\n",
       "    .dataframe thead th {\n",
       "        text-align: right;\n",
       "    }\n",
       "</style>\n",
       "<table border=\"1\" class=\"dataframe\">\n",
       "  <thead>\n",
       "    <tr style=\"text-align: right;\">\n",
       "      <th></th>\n",
       "      <th>gene_name</th>\n",
       "      <th>component</th>\n",
       "      <th>component_name</th>\n",
       "    </tr>\n",
       "  </thead>\n",
       "  <tbody>\n",
       "    <tr>\n",
       "      <th>0</th>\n",
       "      <td>Septu__PtuA_2</td>\n",
       "      <td>0</td>\n",
       "      <td>Septu__PtuA</td>\n",
       "    </tr>\n",
       "    <tr>\n",
       "      <th>1</th>\n",
       "      <td>Septu__PtuA</td>\n",
       "      <td>0</td>\n",
       "      <td>Septu__PtuA</td>\n",
       "    </tr>\n",
       "    <tr>\n",
       "      <th>2</th>\n",
       "      <td>Retron_I_A__ATPase_TypeIA</td>\n",
       "      <td>0</td>\n",
       "      <td>Septu__PtuA</td>\n",
       "    </tr>\n",
       "    <tr>\n",
       "      <th>3</th>\n",
       "      <td>Septu__PtuB_2</td>\n",
       "      <td>1</td>\n",
       "      <td>Septu__PtuB_2</td>\n",
       "    </tr>\n",
       "    <tr>\n",
       "      <th>4</th>\n",
       "      <td>Retron_I_A__HNH_TIGR02646</td>\n",
       "      <td>1</td>\n",
       "      <td>Septu__PtuB_2</td>\n",
       "    </tr>\n",
       "    <tr>\n",
       "      <th>...</th>\n",
       "      <td>...</td>\n",
       "      <td>...</td>\n",
       "      <td>...</td>\n",
       "    </tr>\n",
       "    <tr>\n",
       "      <th>1013</th>\n",
       "      <td>PD-T4-2__PD-T4-2_B</td>\n",
       "      <td>385</td>\n",
       "      <td>PD-T4-2__PD-T4-2_B</td>\n",
       "    </tr>\n",
       "    <tr>\n",
       "      <th>1014</th>\n",
       "      <td>PD-T4-3__PD-T4-3</td>\n",
       "      <td>386</td>\n",
       "      <td>PD-T4-3__PD-T4-3</td>\n",
       "    </tr>\n",
       "    <tr>\n",
       "      <th>1015</th>\n",
       "      <td>PD-T4-4__PD-T4-4_A</td>\n",
       "      <td>387</td>\n",
       "      <td>PD-T4-4__PD-T4-4_A</td>\n",
       "    </tr>\n",
       "    <tr>\n",
       "      <th>1016</th>\n",
       "      <td>PD-T4-4__PD-T4-4_B</td>\n",
       "      <td>388</td>\n",
       "      <td>PD-T4-4__PD-T4-4_B</td>\n",
       "    </tr>\n",
       "    <tr>\n",
       "      <th>1017</th>\n",
       "      <td>PD-T4-7__PD-T4-7</td>\n",
       "      <td>389</td>\n",
       "      <td>PD-T4-7__PD-T4-7</td>\n",
       "    </tr>\n",
       "  </tbody>\n",
       "</table>\n",
       "<p>1018 rows × 3 columns</p>\n",
       "</div>"
      ],
      "text/plain": [
       "                      gene_name  component      component_name\n",
       "0                 Septu__PtuA_2          0         Septu__PtuA\n",
       "1                   Septu__PtuA          0         Septu__PtuA\n",
       "2     Retron_I_A__ATPase_TypeIA          0         Septu__PtuA\n",
       "3                 Septu__PtuB_2          1       Septu__PtuB_2\n",
       "4     Retron_I_A__HNH_TIGR02646          1       Septu__PtuB_2\n",
       "...                         ...        ...                 ...\n",
       "1013         PD-T4-2__PD-T4-2_B        385  PD-T4-2__PD-T4-2_B\n",
       "1014           PD-T4-3__PD-T4-3        386    PD-T4-3__PD-T4-3\n",
       "1015         PD-T4-4__PD-T4-4_A        387  PD-T4-4__PD-T4-4_A\n",
       "1016         PD-T4-4__PD-T4-4_B        388  PD-T4-4__PD-T4-4_B\n",
       "1017           PD-T4-7__PD-T4-7        389    PD-T4-7__PD-T4-7\n",
       "\n",
       "[1018 rows x 3 columns]"
      ]
     },
     "execution_count": 19,
     "metadata": {},
     "output_type": "execute_result"
    }
   ],
   "source": [
    "exchangable_component_df"
   ]
  },
  {
   "cell_type": "code",
   "execution_count": 20,
   "id": "ba3f63fa-2d4b-4368-ad2f-3d59d7b49fe8",
   "metadata": {},
   "outputs": [],
   "source": [
    "exchangable_component_df = exchangable_component_df.rename(columns={'component': 'defense_exchangable_num',\n",
    "                                                                    'component_name': 'defense_exchangable_name'})"
   ]
  },
  {
   "cell_type": "code",
   "execution_count": 21,
   "id": "c29d0c98-630e-4471-bffd-62747230e2cb",
   "metadata": {},
   "outputs": [],
   "source": [
    "defense_seqs = all_seqs[all_seqs['seq_id'].isin(true_defense_seq_ids)]"
   ]
  },
  {
   "cell_type": "code",
   "execution_count": 22,
   "id": "8b07b53a-78c9-4bf6-968d-438b130226ae",
   "metadata": {},
   "outputs": [],
   "source": [
    "merged_select_genes = (select_defense_finder_genes\n",
    "                       .merge(exchangable_component_df, how='inner',\n",
    "                              on='gene_name')\n",
    "                       .merge(defense_seqs, how='inner',\n",
    "                              on='seq_id'))"
   ]
  },
  {
   "cell_type": "code",
   "execution_count": 24,
   "id": "8526db67-91ad-4236-b23f-3faf0124eaed",
   "metadata": {},
   "outputs": [],
   "source": [
    "defense_seq_f = '../data3/interim/select_defense_seqs.faa'"
   ]
  },
  {
   "cell_type": "code",
   "execution_count": 25,
   "id": "84135357-ffbf-4733-99ef-d108c666f499",
   "metadata": {},
   "outputs": [],
   "source": [
    "with open(defense_seq_f, 'w') as f:\n",
    "    for _, row in merged_select_genes.iterrows():\n",
    "        print('>' + row['seq_id'], file=f)\n",
    "        print(row['seq'], file=f)"
   ]
  },
  {
   "cell_type": "code",
   "execution_count": 26,
   "id": "e930e088-3b3e-4790-bf54-51efb762ad0d",
   "metadata": {},
   "outputs": [],
   "source": [
    "defense_edges = (merged_select_genes[['seq_id', 'defense_exchangable_name']]\n",
    "                 .merge(merged_select_genes[['seq_id', 'defense_exchangable_name']], \n",
    "                        how='inner', on='defense_exchangable_name'))"
   ]
  },
  {
   "cell_type": "code",
   "execution_count": 24,
   "id": "a47a0ce7-88e5-4a19-838f-a07168ad45b4",
   "metadata": {},
   "outputs": [],
   "source": [
    "defense_edges.to_parquet('../data3/interim/defense_exchangable_edges.pq', index=False)"
   ]
  },
  {
   "cell_type": "code",
   "execution_count": 29,
   "id": "b39ff568-2784-4281-a1e5-101bc57b2557",
   "metadata": {},
   "outputs": [],
   "source": [
    "merged_select_genes.to_parquet('../data3/interim/defense_finder_model_seq_info.pq', index=False)"
   ]
  },
  {
   "cell_type": "code",
   "execution_count": null,
   "id": "83ed0c7c-b457-4e70-b2b3-65c5ebafaf3e",
   "metadata": {},
   "outputs": [],
   "source": []
  }
 ],
 "metadata": {
  "kernelspec": {
   "display_name": "beaker",
   "language": "python",
   "name": "beaker"
  },
  "language_info": {
   "codemirror_mode": {
    "name": "ipython",
    "version": 3
   },
   "file_extension": ".py",
   "mimetype": "text/x-python",
   "name": "python",
   "nbconvert_exporter": "python",
   "pygments_lexer": "ipython3",
   "version": "3.8.16"
  }
 },
 "nbformat": 4,
 "nbformat_minor": 5
}
