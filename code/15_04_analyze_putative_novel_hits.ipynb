{
 "cells": [
  {
   "cell_type": "code",
   "execution_count": 2,
   "id": "606a59e4-cceb-49e7-9b28-b5265a466003",
   "metadata": {},
   "outputs": [],
   "source": [
    "import pandas as pd\n",
    "import numpy as np\n",
    "import matplotlib.pyplot as plt\n",
    "import seaborn as sns\n",
    "from core import med_log_odds_cutoff, bw_color_palette\n",
    "from textwrap import fill\n",
    "from tqdm import tqdm\n",
    "from sklearn.metrics import precision_recall_curve"
   ]
  },
  {
   "cell_type": "code",
   "execution_count": 3,
   "id": "712588c7-5b16-4136-9510-24cf7604eb11",
   "metadata": {},
   "outputs": [],
   "source": [
    "plt.rcParams['svg.fonttype'] = 'none'\n",
    "plt.rcParams['font.size'] = 7\n",
    "plt.rcParams['xtick.labelsize'] = 6\n",
    "plt.rcParams['ytick.labelsize'] = 6"
   ]
  },
  {
   "cell_type": "code",
   "execution_count": 4,
   "id": "69d35435-7118-49de-b081-73d32bca63ab",
   "metadata": {},
   "outputs": [],
   "source": [
    "def select_domains(hhblits_df, prob_cutoff=50):\n",
    "    # Other Domains\n",
    "    out_list = []\n",
    "    for group, group_df in tqdm(hhblits_df[(hhblits_df['Prob'] > prob_cutoff)].groupby('query'), \n",
    "                                position=0, total=hhblits_df['query'].nunique()):\n",
    "        group_df = group_df.sort_values('Prob', ascending=False)\n",
    "        while len(group_df):\n",
    "            selected_row = group_df.head(1).squeeze()\n",
    "            out_list.append(selected_row)\n",
    "            group_df = group_df[(group_df['qend'] < selected_row['qstart']) |\n",
    "                                (group_df['qstart'] > selected_row['qend'])]\n",
    "    selected_domain_df = pd.concat(out_list, axis=1).T\n",
    "    return selected_domain_df"
   ]
  },
  {
   "cell_type": "code",
   "execution_count": 5,
   "id": "92a4b8ac-cfe7-4a8a-9e41-079afadb1a08",
   "metadata": {},
   "outputs": [],
   "source": [
    "qcov = 0.4"
   ]
  },
  {
   "cell_type": "code",
   "execution_count": 6,
   "id": "dfc29425-98ea-4a8d-aea8-f0ad3d85c017",
   "metadata": {},
   "outputs": [],
   "source": [
    "def assign_hit_category(row, qcov=qcov):\n",
    "    if row['defense_system_protein']:\n",
    "        return 'Defense homolog in expected system'\n",
    "    elif row['defense_homolog']:\n",
    "        return 'Defense homolog in new context'\n",
    "    elif (row['q_cov'] > qcov):\n",
    "        return 'Remote defense homolog'\n",
    "    else:\n",
    "        return 'Predicted novel defense gene'"
   ]
  },
  {
   "cell_type": "code",
   "execution_count": 7,
   "id": "0c678eaa-e16c-473c-bd2e-08176e6ae548",
   "metadata": {},
   "outputs": [
    {
     "name": "stderr",
     "output_type": "stream",
     "text": [
      "/state/partition1/slurm_tmp/2109735.0.0/ipykernel_1441898/2325829114.py:1: DtypeWarning: Columns (24,30) have mixed types. Specify dtype option on import or set low_memory=False.\n",
      "  predictions = pd.read_csv('../data3/interim/ecor_predictions.csv')\n"
     ]
    }
   ],
   "source": [
    "predictions = pd.read_csv('../data3/interim/ecor_predictions.csv')\n",
    "hhpred_results = pd.read_csv('../data3/interim/ecor_putative_novel_pfam_df_domains.csv')\n",
    "pfam_clans = pd.read_table('../data/raw/Pfam-A.clans.tsv', \n",
    "                           names=['pfam_id', 'clan_id', 'clan_name', 'pfam_name', 'pfam_description'])"
   ]
  },
  {
   "cell_type": "code",
   "execution_count": 8,
   "id": "4dbcdd78-d1bd-462f-a876-f49455b9bbc7",
   "metadata": {},
   "outputs": [],
   "source": [
    "blacklisted_domains = pd.read_csv('../data3/interim/df_blacklisted_domains.csv')"
   ]
  },
  {
   "cell_type": "code",
   "execution_count": 9,
   "id": "9fb238f7-c1ff-459a-b8fa-ee66286f87a4",
   "metadata": {},
   "outputs": [
    {
     "name": "stdout",
     "output_type": "stream",
     "text": [
      "Total # genes 321347\n",
      "# Genes with P > 0.5 4279\n",
      "Frac genes with P > 0.5 0.013\n",
      "# genes with LO > 4 1991\n",
      "frac. genes with LO > 4 0.006\n"
     ]
    }
   ],
   "source": [
    "total_pred = len(predictions)\n",
    "print('Total # genes', total_pred)\n",
    "g_p5 = (predictions['mean_log_odds'] > 0).sum()\n",
    "print('# Genes with P > 0.5', g_p5)\n",
    "print('Frac genes with P > 0.5', round(g_p5/total_pred, 3))\n",
    "g_cutoff = (predictions['mean_log_odds'] > med_log_odds_cutoff).sum()\n",
    "print('# genes with LO >', round(med_log_odds_cutoff, 3), g_cutoff)\n",
    "print('frac. genes with LO >', round(med_log_odds_cutoff, 3), round(g_cutoff/total_pred, 3))\n"
   ]
  },
  {
   "cell_type": "code",
   "execution_count": 10,
   "id": "91d7ee55-6afe-47d6-bab4-a4e284f0762f",
   "metadata": {},
   "outputs": [
    {
     "data": {
      "image/png": "[encoded data removed]",
      "text/plain": [
       "<Figure size 200x200 with 1 Axes>"
      ]
     },
     "metadata": {},
     "output_type": "display_data"
    }
   ],
   "source": [
    "plt.subplots(figsize=(2,2))\n",
    "sns.histplot(predictions['mean_log_odds'], binwidth=1, \n",
    "             color='grey')\n",
    "plt.xlabel('Log odds of defense')\n",
    "plt.ylabel('# Genes')\n",
    "plt.axvline(x=med_log_odds_cutoff, linestyle='dashed', color='black')\n",
    "sns.despine()\n",
    "plt.savefig('../figures/hit_distribution.svg', dpi=300, bbox_inches='tight')"
   ]
  },
  {
   "cell_type": "code",
   "execution_count": 11,
   "id": "873dfd51-b609-4b12-b2d9-523f3fa5b920",
   "metadata": {},
   "outputs": [],
   "source": [
    "filtered_predictions = predictions[predictions['mean_log_odds'] > med_log_odds_cutoff].copy()\n",
    "filtered_predictions['accession_stub'] = (filtered_predictions['product_accession']\n",
    "                                          .str.split('.', expand=True)[0])"
   ]
  },
  {
   "cell_type": "code",
   "execution_count": 12,
   "id": "355ffd86-46c0-476e-85a5-302f420c4e4a",
   "metadata": {},
   "outputs": [],
   "source": [
    "hhpred_results['q_ali_len'] = hhpred_results['qend'] - hhpred_results['qstart']\n"
   ]
  },
  {
   "cell_type": "code",
   "execution_count": 13,
   "id": "e3ac5665-2369-4557-8ed0-b53c1fb98f31",
   "metadata": {},
   "outputs": [],
   "source": [
    "remote_defense_homologs = (hhpred_results[hhpred_results['hit_name'].str.contains('~') &\n",
    "                                          (hhpred_results['Prob'] > 50)]\n",
    "                           .sort_values('q_ali_len', ascending=False)\n",
    "                           .groupby('query')\n",
    "                           .head(1)\n",
    "                           .merge(filtered_predictions[['product_accession', 'product_length']].drop_duplicates(), \n",
    "                                  how='left', left_on='query', right_on='product_accession'))\n",
    "remote_defense_homologs['q_cov'] = remote_defense_homologs['q_ali_len']/remote_defense_homologs['product_length']\n"
   ]
  },
  {
   "cell_type": "code",
   "execution_count": 14,
   "id": "72b8751b-c07d-403d-b00e-9217111c625a",
   "metadata": {},
   "outputs": [],
   "source": [
    "merged_predictions = (filtered_predictions.merge(\n",
    "    remote_defense_homologs[['product_accession', 'hit_name', 'q_cov', 'Prob']], how='left', \n",
    "                                                   on='product_accession'))\n",
    "merged_predictions['q_cov'] = merged_predictions['q_cov'].fillna(0)\n",
    "merged_predictions['hit_category'] = merged_predictions.apply(assign_hit_category, axis=1)\n",
    "hit_categories = ['Defense homolog in expected system',\n",
    "                  'Defense homolog in new context', \n",
    "                  'Remote defense homolog', \n",
    "                  'Predicted novel defense gene']\n",
    "merged_predictions['hit_category'] = pd.Categorical(merged_predictions['hit_category'], \n",
    "                                                    categories=hit_categories)"
   ]
  },
  {
   "cell_type": "code",
   "execution_count": 15,
   "id": "6a6301c6-dda2-49d8-9add-98669959d71f",
   "metadata": {},
   "outputs": [
    {
     "data": {
      "text/plain": [
       "hit_category\n",
       "Defense homolog in new context        0.506781\n",
       "Predicted novel defense gene          0.272225\n",
       "Defense homolog in expected system    0.132597\n",
       "Remote defense homolog                0.088398\n",
       "Name: count, dtype: float64"
      ]
     },
     "execution_count": 15,
     "metadata": {},
     "output_type": "execute_result"
    }
   ],
   "source": [
    "merged_predictions['hit_category'].value_counts()/len(merged_predictions)"
   ]
  },
  {
   "cell_type": "code",
   "execution_count": 16,
   "id": "c17861c9-9bdd-4c38-aca8-7bc5f73158ec",
   "metadata": {},
   "outputs": [
    {
     "data": {
      "text/plain": [
       "hit_category\n",
       "Defense homolog in new context        1009\n",
       "Predicted novel defense gene           542\n",
       "Defense homolog in expected system     264\n",
       "Remote defense homolog                 176\n",
       "Name: count, dtype: int64"
      ]
     },
     "execution_count": 16,
     "metadata": {},
     "output_type": "execute_result"
    }
   ],
   "source": [
    "merged_predictions['hit_category'].value_counts()"
   ]
  },
  {
   "cell_type": "code",
   "execution_count": 17,
   "id": "2c6d64ea-e938-47d6-bac6-4488a1472237",
   "metadata": {},
   "outputs": [
    {
     "data": {
      "text/plain": [
       "1727"
      ]
     },
     "execution_count": 17,
     "metadata": {},
     "output_type": "execute_result"
    }
   ],
   "source": [
    "(merged_predictions['hit_category'] != 'Defense homolog in expected system').sum()"
   ]
  },
  {
   "cell_type": "code",
   "execution_count": 18,
   "id": "f69fa6ff-7805-4ab6-bb9f-86e574e0f581",
   "metadata": {},
   "outputs": [
    {
     "data": {
      "text/plain": [
       "395"
      ]
     },
     "execution_count": 18,
     "metadata": {},
     "output_type": "execute_result"
    }
   ],
   "source": [
    "predictions['defense_system_protein'].sum()"
   ]
  },
  {
   "cell_type": "code",
   "execution_count": 19,
   "id": "3ad4cb03-c419-401a-b789-db082da20ba3",
   "metadata": {
    "tags": []
   },
   "outputs": [
    {
     "data": {
      "text/plain": [
       "defense_homolog_names\n",
       "RM_Type_IV__Type_IV_REases                                                                                                                  34\n",
       "Mok_Hok_Sok__Hok                                                                                                                            22\n",
       "ShosTA__ShosA, PsyrTA__PsyrA                                                                                                                 8\n",
       "Shango__SngC, PsyrTA__PsyrT                                                                                                                  8\n",
       "PD-T4-1__PD-T4-1                                                                                                                             6\n",
       "Gabija__GajB_3, Gabija__GajB_2, Gabija__GajB_1                                                                                               4\n",
       "PD-T4-3__PD-T4-3                                                                                                                             4\n",
       "CBASS__Phospholipase                                                                                                                         3\n",
       "Cas__cas2_I-E_2, Cas__cas2_I_II_III_IV_V_VI_4, Cas__cas2_I-E_1                                                                               3\n",
       "PD-Lambda-5__PD-Lambda-5_B, RM_Type_II__Type_II_MTases                                                                                       3\n",
       "AbiEii__AbiEi_3                                                                                                                              3\n",
       "PD-Lambda-1__PD-Lambda-1                                                                                                                     3\n",
       "Cas__cas3_I_2, Cas__cas3HD_I_1, Cas__cas3_I_5                                                                                                2\n",
       "dCTPdeaminase__dCTPdeaminase                                                                                                                 2\n",
       "CBASS__AG_E1_ThiF, CBASS__AG_E2_Prok-E2_B                                                                                                    2\n",
       "BREX__brxHII, DISARM_1__drmD                                                                                                                 2\n",
       "SoFic__SoFic                                                                                                                                 2\n",
       "BstA__BstA                                                                                                                                   2\n",
       "CBASS__Jab                                                                                                                                   1\n",
       "PD-Lambda-2__PD-Lambda-2_A                                                                                                                   1\n",
       "PD-T7-4__PD-T7-4                                                                                                                             1\n",
       "BREX__pglW, Mokosh_TypeI__MkoA, PD-T4-6__PD-T4-6                                                                                             1\n",
       "dGTPase__Sp_dGTPase                                                                                                                          1\n",
       "PD-Lambda-6__PD-Lambda-6                                                                                                                     1\n",
       "Gabija__GajB_2                                                                                                                               1\n",
       "Cas__cas7f_I-F_1, Cas__cas7f_I-F_2                                                                                                           1\n",
       "Cas__cas1_I_II_III_IV_V_VI_1, Cas__cas1_I_II_III_IV_V_VI_8, Cas__cas1_I_II_III_IV_V_VI_10, Cas__cas1_I-F_1, Cas__cas1_I_II_III_IV_V_VI_2     1\n",
       "Wadjet__JetC_II, PD-Lambda-1__PD-Lambda-1                                                                                                    1\n",
       "RM_Type_II__Type_II_REases                                                                                                                   1\n",
       "RM_Type_II__Type_II_MTases                                                                                                                   1\n",
       "PD-T4-9__PD-T4-9_C                                                                                                                           1\n",
       "PD-T4-9__PD-T4-9_A                                                                                                                           1\n",
       "Mokosh_TypeI__MkoB2                                                                                                                          1\n",
       "Mokosh_TypeI__MkoB, Mokosh_TypeI__MkoB2                                                                                                      1\n",
       "BREX__pglW, Mokosh_TypeI__MkoA2                                                                                                              1\n",
       "CBASS__A_Cyclase_AGS_C, Pycsar__AG_cyclase                                                                                                   1\n",
       "Name: count, dtype: int64"
      ]
     },
     "execution_count": 19,
     "metadata": {},
     "output_type": "execute_result"
    }
   ],
   "source": [
    "predictions.loc[(predictions['mean_log_odds'] <= med_log_odds_cutoff) & \n",
    "            (predictions['defense_system_protein']), 'defense_homolog_names'].value_counts()"
   ]
  },
  {
   "cell_type": "code",
   "execution_count": 20,
   "id": "6db69325-6678-48a3-831b-5d9788455db3",
   "metadata": {
    "tags": []
   },
   "outputs": [
    {
     "data": {
      "text/plain": [
       "defense_homolog_names\n",
       "RM__Type_I_S                                                                                                                                                                                     63\n",
       "RM_Type_II__Type_II_MTases, RM__Type_I_MTases, PrrC__EcoprrI                                                                                                                                     58\n",
       "Retron_I_B__ATPase_TOPRIM_COG3593, PARIS_I__AAA_15                                                                                                                                               56\n",
       "RM__Type_I_REases                                                                                                                                                                                55\n",
       "RM_Type_II__Type_II_REases                                                                                                                                                                       44\n",
       "Cas__cse2gr11_I-E_1, Cas__cse2gr11_I-E_8, Cas__cse2gr11_I-E_2                                                                                                                                    36\n",
       "Cas__cas8e_I-E_1, Cas__cas8e_I-E_2, Cas__cas8e_I-E_5                                                                                                                                             34\n",
       "Cas__cas7_I-E_16, Cas__cas7_I-E_2                                                                                                                                                                32\n",
       "Cas__cas1_I_II_III_IV_V_VI_8, Cas__cas1_I-E_1, Cas__cas1_I_II_III_IV_V_VI_2                                                                                                                      30\n",
       "Cas__cas6e_I_II_III_IV_V_VI_2, Cas__cas6e_I_II_III_IV_V_VI_1, Cas__cas6e_I_II_III_IV_V_VI_3                                                                                                      28\n",
       "Cas__cas3_I_2, Cas__cas3HD_I_1, Cas__cas3_I_5                                                                                                                                                    22\n",
       "SspBCDE__SspE                                                                                                                                                                                    22\n",
       "Cas__cas5_I-E_2, Cas__cas5_I_9, Cas__cas5_I-E_13, Cas__cas5_I-E_3                                                                                                                                19\n",
       "RM_Type_II__Type_II_MTases, DISARM_2__drmMII, Druantia_II__DruM                                                                                                                                  17\n",
       "RM_Type_II__Type_II_MTases, RM__Type_I_MTases                                                                                                                                                    17\n",
       "Cas__cas5_I_9, Cas__cas5_I-E_13, Cas__cas5_I-E_3                                                                                                                                                 16\n",
       "Shango__SngC, Druantia__DruE_1, Druantia__DruE_3, Druantia__DruE_2                                                                                                                               14\n",
       "RM_Type_II__Type_II_MTases                                                                                                                                                                       13\n",
       "RM_Type_III__Type_III_MTases, RM_Type_II__Type_II_MTases                                                                                                                                         12\n",
       "RM_Type_III__Type_III_REases                                                                                                                                                                     12\n",
       "RM__Type_I_S, PrrC__EcoprrI                                                                                                                                                                      11\n",
       "Septu__PtuB, Retron_I_A__HNH_TIGR02646, Septu__PtuB, Retron_I_A__HNH_TIGR02646                                                                                                                   10\n",
       "CBASS__Cyclase_SMODS, CBASS__Cyclase_II                                                                                                                                                          10\n",
       "BREX__brxB_DUF1788                                                                                                                                                                                9\n",
       "BREX__brxA_DUF1819                                                                                                                                                                                9\n",
       "RM__Type_I_REases, RM_Type_III__Type_III_REases                                                                                                                                                   9\n",
       "Thoeris__ThsB_Global                                                                                                                                                                              9\n",
       "Hachiman__HamB, Shango__SngC                                                                                                                                                                      8\n",
       "SanaTA__SanaT, AbiEii__AbiEii                                                                                                                                                                     8\n",
       "Rst_gop_beta_cll__cll                                                                                                                                                                             7\n",
       "Lamassu-Fam__LmuC_acc_Mrr, Lamassu-Fam__LmuC_acc_hypothetical, Lamassu-Fam__LmuC_acc_Lipase                                                                                                       7\n",
       "PD-Lambda-4__PD-Lambda-4_A                                                                                                                                                                        7\n",
       "Lamassu-Fam__LmuA_effector_Mrr, Lamassu-Fam__LmuA_effector_hypothetical                                                                                                                           7\n",
       "Retron_I_B__ATPase_TOPRIM_COG3593, Gabija__GajA, PARIS_I__AAA_15                                                                                                                                  7\n",
       "Retron_I_B__ATPase_TOPRIM_COG3593, PARIS_I__AAA_15, PARIS_II__AAA_21                                                                                                                              6\n",
       "Retron_I_A__ATPase_TypeIA, AbiL__AbiLi2, PARIS_I__AAA_15, PARIS_II__AAA_21                                                                                                                        6\n",
       "PD-Lambda-5__PD-Lambda-5_B, RM_Type_II__Type_II_MTases                                                                                                                                            6\n",
       "Hachiman__HamA_1                                                                                                                                                                                  6\n",
       "Retron_VII_2__DUF3800                                                                                                                                                                             6\n",
       "Dnd_ABCDEFGH__DptH, PD-T7-2__PD-T7-2_B, Gao_Her_SIR__HerA_SIR2, Gao_Her_DUF__HerA_DUF                                                                                                             6\n",
       "CBASS__Effector_4TM_S_4TM                                                                                                                                                                         6\n",
       "BREX__brxC                                                                                                                                                                                        6\n",
       "AbiEii__AbiEii                                                                                                                                                                                    6\n",
       "Gabija__GajB_3                                                                                                                                                                                    6\n",
       "Pif__PifA                                                                                                                                                                                         5\n",
       "BREX__pglZB, BREX__pglZ3, BREX__pglZA, BREX__pglZB, BREX__pglZ3, BREX__pglZA                                                                                                                      5\n",
       "Hachiman__HamB                                                                                                                                                                                    5\n",
       "Lamassu-Fam__LmuB_SMC_Lipase, Lamassu-Fam__LmuB_SMC_PDDEXK, Lamassu-Fam__LmuB_SMC_Mrr, Lamassu-Fam__LmuB_SMC_Cap4_nuclease_II, Lamassu-Fam__LmuB_SMC_hypothetical, Lamassu-Fam__LmuB_SMC_Sir2     5\n",
       "BREX__brxHII, Zorya_TypeI__ZorD, DISARM_1__drmD                                                                                                                                                   4\n",
       "Lamassu-Fam__LmuB_SMC_Cap4_nuclease_II                                                                                                                                                            4\n",
       "Septu__PtuA, Retron_I_B__ATPase_TOPRIM_COG3593, Retron_I_A__ATPase_TypeIA, Septu__PtuA, PARIS_II__AAA_21                                                                                          4\n",
       "BREX__brxD, Shango__SngB                                                                                                                                                                          4\n",
       "Pif__PifA, Gao_Qat__QatA                                                                                                                                                                          4\n",
       "DarTG__DarG                                                                                                                                                                                       4\n",
       "DarTG__DarT                                                                                                                                                                                       4\n",
       "Druantia_I__DruD                                                                                                                                                                                  4\n",
       "Mokosh_TypeI__MkoA, Mokosh_TypeI__MkoA2                                                                                                                                                           4\n",
       "Rst_gop_beta_cll__beta, PD-Lambda-2__PD-Lambda-2_C                                                                                                                                                3\n",
       "Cas__cas8f_I-F_4, Cas__cas8f_I-F_3, Cas__cas8f_I-F_8                                                                                                                                              3\n",
       "Dpd__DpdK                                                                                                                                                                                         3\n",
       "Name: count, dtype: int64"
      ]
     },
     "execution_count": 20,
     "metadata": {},
     "output_type": "execute_result"
    }
   ],
   "source": [
    "merged_predictions.loc[merged_predictions['hit_category'] == 'Defense homolog in new context', \n",
    "                       'defense_homolog_names'].value_counts().head(60)"
   ]
  },
  {
   "cell_type": "code",
   "execution_count": 21,
   "id": "47a3d769-b789-4212-82e6-3b306dd0dcc4",
   "metadata": {},
   "outputs": [],
   "source": [
    "novel_cov_abundance = (merged_predictions[merged_predictions['hit_category'] == 'Predicted novel defense gene']\n",
    "                       .groupby('q_cov')\n",
    "                       .agg(n_proteins=('product_accession', 'count'))\n",
    "                       .reset_index()\n",
    "                       .sort_values('q_cov'))\n",
    "novel_cov_abundance['tot_n_proteins'] = novel_cov_abundance['n_proteins'].cumsum()"
   ]
  },
  {
   "cell_type": "code",
   "execution_count": 22,
   "id": "ff84fa76-5118-490a-a478-868b4dcdb965",
   "metadata": {},
   "outputs": [],
   "source": [
    "novel_pred_df = (merged_predictions[merged_predictions['hit_category'] == 'Predicted novel defense gene']\n",
    "                 .sort_values('q_cov', ascending=True)\n",
    "                 .reset_index(drop=True))\n",
    "novel_pred_df['present'] = 1\n",
    "novel_pred_df['n_proteins'] = novel_pred_df['present'].cumsum()"
   ]
  },
  {
   "cell_type": "code",
   "execution_count": 23,
   "id": "d6fa7728-cfed-42f6-b176-ba2aa3bf99b3",
   "metadata": {},
   "outputs": [
    {
     "data": {
      "image/png": "[encoded data removed]",
      "text/plain": [
       "<Figure size 200x200 with 1 Axes>"
      ]
     },
     "metadata": {},
     "output_type": "display_data"
    }
   ],
   "source": [
    "plt.subplots(figsize=(2,2))\n",
    "sns.histplot(data=merged_predictions[merged_predictions['hit_category'] == 'Predicted novel defense gene'], \n",
    "             x='q_cov', binwidth=0.1, color='#f0e442', alpha=1)\n",
    "plt.xlabel('Predicted defense protein coverage\\nagainst known defense protein')\n",
    "sns.despine()\n",
    "plt.savefig('../figures/novel_coverage.svg', dpi=300, bbox_inches='tight')"
   ]
  },
  {
   "cell_type": "code",
   "execution_count": 24,
   "id": "8a3df418-bc3e-4968-b39d-80bde1b7233f",
   "metadata": {},
   "outputs": [
    {
     "data": {
      "text/plain": [
       "274"
      ]
     },
     "execution_count": 24,
     "metadata": {},
     "output_type": "execute_result"
    }
   ],
   "source": [
    "(novel_pred_df['q_cov'] == 0).sum()"
   ]
  },
  {
   "cell_type": "code",
   "execution_count": 25,
   "id": "294c2930-2f04-4bbd-ae37-5ef1002f9c54",
   "metadata": {},
   "outputs": [
    {
     "data": {
      "text/plain": [
       "268"
      ]
     },
     "execution_count": 25,
     "metadata": {},
     "output_type": "execute_result"
    }
   ],
   "source": [
    "((novel_pred_df['q_cov'] > 0) & (novel_pred_df['q_cov'] < 0.4)).sum()"
   ]
  },
  {
   "cell_type": "code",
   "execution_count": 26,
   "id": "f7ad6eb6-8dbf-4230-b872-e5d28f61fd0d",
   "metadata": {},
   "outputs": [
    {
     "data": {
      "text/plain": [
       "397"
      ]
     },
     "execution_count": 26,
     "metadata": {},
     "output_type": "execute_result"
    }
   ],
   "source": [
    "(novel_pred_df['q_cov'] <= 0.1).sum()"
   ]
  },
  {
   "cell_type": "code",
   "execution_count": 27,
   "id": "34e8c487-3f7a-4741-b9c9-5183162d84ca",
   "metadata": {},
   "outputs": [
    {
     "data": {
      "text/plain": [
       "274"
      ]
     },
     "execution_count": 27,
     "metadata": {},
     "output_type": "execute_result"
    }
   ],
   "source": [
    "(novel_pred_df['q_cov'] == 0).sum()"
   ]
  },
  {
   "cell_type": "code",
   "execution_count": 28,
   "id": "dc0ca147-a831-4c1c-a5c0-c3f834b88786",
   "metadata": {},
   "outputs": [
    {
     "data": {
      "image/png": "[encoded data removed]",
      "text/plain": [
       "<Figure size 200x200 with 1 Axes>"
      ]
     },
     "metadata": {},
     "output_type": "display_data"
    }
   ],
   "source": [
    "plt.subplots(figsize=(2,2))\n",
    "sns.lineplot(data=novel_cov_abundance,\n",
    "             x='q_cov', y='tot_n_proteins', color='#f0e442', alpha=1)\n",
    "plt.xlabel('Predicted defense protein coverage\\nagainst known defense protein')\n",
    "plt.ylabel('Cumulative number of proteins\\nbelow coverage cutoff')\n",
    "sns.despine()\n",
    "plt.ylim(0, len(novel_pred_df))\n",
    "plt.savefig('../figures/novel_coverage_cumsum.svg', dpi=300, bbox_inches='tight')"
   ]
  },
  {
   "cell_type": "code",
   "execution_count": 29,
   "id": "86838807-8d4f-40f4-8a50-cfa9f1860eed",
   "metadata": {},
   "outputs": [],
   "source": [
    "no_defense_homology_df = merged_predictions.loc[~merged_predictions['defense_homolog'] & \n",
    "                                                 (merged_predictions['q_cov'] == 0),:]\n",
    "no_defense_homology_df.to_csv('../data3/interim/predicted_defense_no_homology_df.csv', index=False)"
   ]
  },
  {
   "cell_type": "code",
   "execution_count": 30,
   "id": "0b8f0cf9-f76f-42c5-8f71-167aae1be356",
   "metadata": {},
   "outputs": [
    {
     "data": {
      "text/plain": [
       "274"
      ]
     },
     "execution_count": 30,
     "metadata": {},
     "output_type": "execute_result"
    }
   ],
   "source": [
    "len(no_defense_homology_df)"
   ]
  },
  {
   "cell_type": "code",
   "execution_count": 31,
   "id": "7d198f3e-d8ed-4dc4-8e92-1df88a97bf1f",
   "metadata": {},
   "outputs": [
    {
     "data": {
      "text/plain": [
       "118"
      ]
     },
     "execution_count": 31,
     "metadata": {},
     "output_type": "execute_result"
    }
   ],
   "source": [
    "no_defense_homology_df['cluster_id'].nunique()"
   ]
  },
  {
   "cell_type": "code",
   "execution_count": 32,
   "id": "978cc972-630e-43bf-8723-475b4fcd6ebe",
   "metadata": {},
   "outputs": [
    {
     "data": {
      "image/png": "[encoded data removed]",
      "text/plain": [
       "<Figure size 50x200 with 1 Axes>"
      ]
     },
     "metadata": {},
     "output_type": "display_data"
    }
   ],
   "source": [
    "_, ax = plt.subplots(figsize=(0.5, 2))\n",
    "ax = sns.histplot(data=merged_predictions, x=0, \n",
    "             hue='hit_category', \n",
    "             multiple='stack', \n",
    "             palette=bw_color_palette[:4], ax=ax, )\n",
    "sns.move_legend(ax, bbox_to_anchor=(1.05, 1), loc='upper left')\n",
    "sns.despine()\n",
    "plt.xticks([])\n",
    "plt.xlabel('')\n",
    "plt.savefig('../figures/predicted_defense_known_frac.svg', dpi=300, bbox_inches='tight')"
   ]
  },
  {
   "cell_type": "code",
   "execution_count": 33,
   "id": "685e8645-8e90-494b-b574-48b666fc71b2",
   "metadata": {},
   "outputs": [],
   "source": [
    "missing_dsp = predictions[predictions['defense_system_protein'] & \n",
    "                           ~predictions['protein_context_id'].isin(merged_predictions['protein_context_id'])].copy()\n",
    "missing_dsp['hit_category'] = 'Defense homolog in expected system'\n",
    "cat_merged_predictions = pd.concat([missing_dsp, merged_predictions])\n",
    "hit_category_map = {cat: fill(cat, 20) for cat in hit_categories}\n",
    "cat_merged_predictions['display_category'] = cat_merged_predictions['hit_category'].map(hit_category_map)\n",
    "display_cat_order = list(hit_category_map.values())\n",
    "cat_merged_predictions['display_category'] = pd.Categorical(cat_merged_predictions['display_category'], \n",
    "                                                            categories=display_cat_order)"
   ]
  },
  {
   "cell_type": "code",
   "execution_count": 34,
   "id": "1ddb43af-d0a9-459d-a67c-f350e42a7b90",
   "metadata": {},
   "outputs": [
    {
     "data": {
      "image/png": "[encoded data removed]",
      "text/plain": [
       "<Figure size 560x200 with 4 Axes>"
      ]
     },
     "metadata": {},
     "output_type": "display_data"
    }
   ],
   "source": [
    "dp_per_genome = (cat_merged_predictions.groupby(['assembly', 'display_category'])\n",
    "                 .agg(n_proteins=('product_accession', 'count'))\n",
    "                 .reset_index())\n",
    "g = sns.displot(data=dp_per_genome, x='n_proteins', binwidth=2, \n",
    "                hue='display_category', palette=(bw_color_palette[:4]), \n",
    "                col='display_category', kind='hist', facet_kws={'sharey': True}, \n",
    "                alpha=1, height=2, legend=False, aspect=0.7)\n",
    "g.set_titles(template='{col_name}')\n",
    "g.set_xlabels('# Genes')\n",
    "g.set_ylabels('# Genomes')\n",
    "g.figure.subplots_adjust(wspace=0.1)\n",
    "plt.savefig('../figures/dp_per_genome.svg', bbox_inches='tight', dpi=300)"
   ]
  },
  {
   "cell_type": "code",
   "execution_count": 35,
   "id": "a738fb59-03cf-40e6-9e56-fffde78da10a",
   "metadata": {},
   "outputs": [
    {
     "name": "stdout",
     "output_type": "stream",
     "text": [
      "# predicted novel defense genes with partial alignment: 135\n",
      "Frac with partial alignment 0.4179566563467492\n"
     ]
    }
   ],
   "source": [
    "novel_accessions = merged_predictions.loc[merged_predictions['hit_category'] == 'Predicted novel defense gene', \n",
    "                                          'product_accession'].drop_duplicates()\n",
    "n_partial_align = remote_defense_homologs['product_accession'].isin(novel_accessions).sum()\n",
    "print('# predicted novel defense genes with partial alignment:', n_partial_align)\n",
    "print('Frac with partial alignment', n_partial_align/len(novel_accessions))"
   ]
  },
  {
   "cell_type": "code",
   "execution_count": 36,
   "id": "68f6f4e1-0053-4bc6-a8a6-dab18d3f7b66",
   "metadata": {},
   "outputs": [],
   "source": [
    "pfam_results = hhpred_results[(hhpred_results['hit_name'].str[:2] == 'PF') & \n",
    "                              (hhpred_results['Prob'] > 50)].copy()\n",
    "pfam_results['pfam_id'] = pfam_results['hit_name'].str.split('.', expand=True)[0]\n",
    "pfam_results = pfam_results.merge(pfam_clans, how='left', on='pfam_id')"
   ]
  },
  {
   "cell_type": "code",
   "execution_count": 37,
   "id": "d5f59d87-f791-4555-9dc4-c9498815b21a",
   "metadata": {},
   "outputs": [],
   "source": [
    "novel_pfam_results = pfam_results[pfam_results['query'].isin(novel_accessions)]\n",
    "novel_pfam_clans = (novel_pfam_results[['query', 'clan_name']]\n",
    "                    .drop_duplicates())"
   ]
  },
  {
   "cell_type": "code",
   "execution_count": 38,
   "id": "a0e51ffc-e9b7-42ac-bf22-2d4cbef9429e",
   "metadata": {},
   "outputs": [
    {
     "name": "stderr",
     "output_type": "stream",
     "text": [
      "100%|██████████| 262/262 [00:00<00:00, 669.97it/s]\n"
     ]
    }
   ],
   "source": [
    "select_novel_pfam_domains = select_domains(novel_pfam_results)"
   ]
  },
  {
   "cell_type": "code",
   "execution_count": 39,
   "id": "9564ffe7-38ed-481c-a7b4-bc89ccc0892c",
   "metadata": {},
   "outputs": [],
   "source": [
    "select_novel_pfam_known_domains = select_novel_pfam_domains[select_novel_pfam_domains['pfam_id'].isin(blacklisted_domains['pfam_id'])]"
   ]
  },
  {
   "cell_type": "code",
   "execution_count": 40,
   "id": "fa136d94-302f-4af7-a109-7b6523c66db7",
   "metadata": {},
   "outputs": [],
   "source": [
    "novel_genes_known_domains = merged_predictions.loc[(merged_predictions['hit_category'] == 'Predicted novel defense gene') & \n",
    "                                                   (merged_predictions['product_accession'].isin(select_novel_pfam_known_domains['query']))]"
   ]
  },
  {
   "cell_type": "code",
   "execution_count": 41,
   "id": "7790dba1-c64e-4c0e-bb34-331925f0e46c",
   "metadata": {},
   "outputs": [
    {
     "data": {
      "text/plain": [
       "325"
      ]
     },
     "execution_count": 41,
     "metadata": {},
     "output_type": "execute_result"
    }
   ],
   "source": [
    "len(novel_genes_known_domains)"
   ]
  },
  {
   "cell_type": "code",
   "execution_count": 42,
   "id": "8e0d7b9f-67e3-4776-a7a7-8d2954f35f0d",
   "metadata": {},
   "outputs": [
    {
     "data": {
      "text/plain": [
       "pfam_name        clan_name    \n",
       "RepB-RCR_reg     Met_repress      21\n",
       "IIGP             P-loop_NTPase    14\n",
       "Dynamin_N        P-loop_NTPase    14\n",
       "Mrr_cat_2        PDDEXK            6\n",
       "DpnII-MboI       PDDEXK            6\n",
       "KicB             HTH               5\n",
       "NinG             His-Me_finger     5\n",
       "NurA             RNase_H           3\n",
       "HEPN_Apea        KNTase_C          3\n",
       "Herpes_ori_bp    P-loop_NTPase     3\n",
       "Nucleoporin_FG2  FG_rpt            3\n",
       "PDDEXK_4         PDDEXK            3\n",
       "LAX              TRAP              3\n",
       "DUF1887          PDDEXK            3\n",
       "BrxC_BrxD        P-loop_NTPase     3\n",
       "Polbeta          NTP_transf        3\n",
       "Response_reg_2   CheY              3\n",
       "pEK499_p136      KNTase_C          3\n",
       "ATPase_2         P-loop_NTPase     3\n",
       "HATPase_c_5      His_Kinase_A      3\n",
       "Name: count, dtype: int64"
      ]
     },
     "execution_count": 42,
     "metadata": {},
     "output_type": "execute_result"
    }
   ],
   "source": [
    "(select_novel_pfam_domains[['query','pfam_name', 'clan_name']].drop_duplicates()\n",
    " [['pfam_name', 'clan_name']]\n",
    " .value_counts()\n",
    " .head(20))"
   ]
  },
  {
   "cell_type": "code",
   "execution_count": 43,
   "id": "9b7d87b7-1df2-4539-bef5-5baecefcbe80",
   "metadata": {},
   "outputs": [],
   "source": [
    "novel_pfam_clan_count = (select_novel_pfam_domains.groupby('clan_name')\n",
    "                         .agg(count=('query', 'nunique'))\n",
    "                         .rename(index={'P-loop_NTPase': 'P-loop NTPase', \n",
    "                                        'PDDEXK': 'PDDEXK nuclease', \n",
    "                                        'PEP-carboxyk': 'PEP carboxykinase',\n",
    "                                        'Met_repress': 'RHH antitoxin DNA binding', \n",
    "                                        'KNTase_C': 'HEPN', \n",
    "                                        'His-Me_finger': 'HNH endonuclease', \n",
    "                                        'Zn_Beta_Ribbon': 'Zinc finger', \n",
    "                                        'His_Kinase_A': 'His kinase phospho-acceptor'})\n",
    "                         .sort_values('count', ascending=False)\n",
    "                         .reset_index())\n",
    "novel_pfam_clan_count['freq'] = novel_pfam_clan_count['count']/len(novel_accessions)"
   ]
  },
  {
   "cell_type": "code",
   "execution_count": 44,
   "id": "b28a5774-6e81-437b-a19a-5a8f9b2d1874",
   "metadata": {},
   "outputs": [
    {
     "data": {
      "text/html": [
       "<div>\n",
       "<style scoped>\n",
       "    .dataframe tbody tr th:only-of-type {\n",
       "        vertical-align: middle;\n",
       "    }\n",
       "\n",
       "    .dataframe tbody tr th {\n",
       "        vertical-align: top;\n",
       "    }\n",
       "\n",
       "    .dataframe thead th {\n",
       "        text-align: right;\n",
       "    }\n",
       "</style>\n",
       "<table border=\"1\" class=\"dataframe\">\n",
       "  <thead>\n",
       "    <tr style=\"text-align: right;\">\n",
       "      <th></th>\n",
       "      <th>clan_name</th>\n",
       "      <th>count</th>\n",
       "      <th>freq</th>\n",
       "    </tr>\n",
       "  </thead>\n",
       "  <tbody>\n",
       "    <tr>\n",
       "      <th>0</th>\n",
       "      <td>PDDEXK nuclease</td>\n",
       "      <td>28</td>\n",
       "      <td>0.086687</td>\n",
       "    </tr>\n",
       "    <tr>\n",
       "      <th>1</th>\n",
       "      <td>P-loop NTPase</td>\n",
       "      <td>24</td>\n",
       "      <td>0.074303</td>\n",
       "    </tr>\n",
       "    <tr>\n",
       "      <th>2</th>\n",
       "      <td>RHH antitoxin DNA binding</td>\n",
       "      <td>21</td>\n",
       "      <td>0.065015</td>\n",
       "    </tr>\n",
       "    <tr>\n",
       "      <th>3</th>\n",
       "      <td>HEPN</td>\n",
       "      <td>12</td>\n",
       "      <td>0.037152</td>\n",
       "    </tr>\n",
       "    <tr>\n",
       "      <th>4</th>\n",
       "      <td>HTH</td>\n",
       "      <td>7</td>\n",
       "      <td>0.021672</td>\n",
       "    </tr>\n",
       "    <tr>\n",
       "      <th>5</th>\n",
       "      <td>PIN</td>\n",
       "      <td>6</td>\n",
       "      <td>0.018576</td>\n",
       "    </tr>\n",
       "    <tr>\n",
       "      <th>6</th>\n",
       "      <td>HNH endonuclease</td>\n",
       "      <td>6</td>\n",
       "      <td>0.018576</td>\n",
       "    </tr>\n",
       "    <tr>\n",
       "      <th>7</th>\n",
       "      <td>His kinase phospho-acceptor</td>\n",
       "      <td>4</td>\n",
       "      <td>0.012384</td>\n",
       "    </tr>\n",
       "    <tr>\n",
       "      <th>8</th>\n",
       "      <td>TRAP</td>\n",
       "      <td>3</td>\n",
       "      <td>0.009288</td>\n",
       "    </tr>\n",
       "    <tr>\n",
       "      <th>9</th>\n",
       "      <td>RNase_H</td>\n",
       "      <td>3</td>\n",
       "      <td>0.009288</td>\n",
       "    </tr>\n",
       "    <tr>\n",
       "      <th>10</th>\n",
       "      <td>NTP_transf</td>\n",
       "      <td>3</td>\n",
       "      <td>0.009288</td>\n",
       "    </tr>\n",
       "    <tr>\n",
       "      <th>11</th>\n",
       "      <td>Zinc finger</td>\n",
       "      <td>3</td>\n",
       "      <td>0.009288</td>\n",
       "    </tr>\n",
       "    <tr>\n",
       "      <th>12</th>\n",
       "      <td>CheY</td>\n",
       "      <td>3</td>\n",
       "      <td>0.009288</td>\n",
       "    </tr>\n",
       "    <tr>\n",
       "      <th>13</th>\n",
       "      <td>FG_rpt</td>\n",
       "      <td>3</td>\n",
       "      <td>0.009288</td>\n",
       "    </tr>\n",
       "    <tr>\n",
       "      <th>14</th>\n",
       "      <td>ATP_synthase</td>\n",
       "      <td>2</td>\n",
       "      <td>0.006192</td>\n",
       "    </tr>\n",
       "    <tr>\n",
       "      <th>15</th>\n",
       "      <td>Calcineurin</td>\n",
       "      <td>2</td>\n",
       "      <td>0.006192</td>\n",
       "    </tr>\n",
       "    <tr>\n",
       "      <th>16</th>\n",
       "      <td>Holin-II</td>\n",
       "      <td>2</td>\n",
       "      <td>0.006192</td>\n",
       "    </tr>\n",
       "    <tr>\n",
       "      <th>17</th>\n",
       "      <td>Pentapeptide</td>\n",
       "      <td>1</td>\n",
       "      <td>0.003096</td>\n",
       "    </tr>\n",
       "    <tr>\n",
       "      <th>18</th>\n",
       "      <td>TPR</td>\n",
       "      <td>1</td>\n",
       "      <td>0.003096</td>\n",
       "    </tr>\n",
       "    <tr>\n",
       "      <th>19</th>\n",
       "      <td>TIM_barrel</td>\n",
       "      <td>1</td>\n",
       "      <td>0.003096</td>\n",
       "    </tr>\n",
       "    <tr>\n",
       "      <th>20</th>\n",
       "      <td>SPOCS</td>\n",
       "      <td>1</td>\n",
       "      <td>0.003096</td>\n",
       "    </tr>\n",
       "    <tr>\n",
       "      <th>21</th>\n",
       "      <td>SLATT</td>\n",
       "      <td>1</td>\n",
       "      <td>0.003096</td>\n",
       "    </tr>\n",
       "    <tr>\n",
       "      <th>22</th>\n",
       "      <td>Ion_channel</td>\n",
       "      <td>1</td>\n",
       "      <td>0.003096</td>\n",
       "    </tr>\n",
       "    <tr>\n",
       "      <th>23</th>\n",
       "      <td>PUA</td>\n",
       "      <td>1</td>\n",
       "      <td>0.003096</td>\n",
       "    </tr>\n",
       "    <tr>\n",
       "      <th>24</th>\n",
       "      <td>GG-leader</td>\n",
       "      <td>1</td>\n",
       "      <td>0.003096</td>\n",
       "    </tr>\n",
       "    <tr>\n",
       "      <th>25</th>\n",
       "      <td>GpW_gp25-like</td>\n",
       "      <td>1</td>\n",
       "      <td>0.003096</td>\n",
       "    </tr>\n",
       "    <tr>\n",
       "      <th>26</th>\n",
       "      <td>OB</td>\n",
       "      <td>1</td>\n",
       "      <td>0.003096</td>\n",
       "    </tr>\n",
       "    <tr>\n",
       "      <th>27</th>\n",
       "      <td>Nribosyltransf</td>\n",
       "      <td>1</td>\n",
       "      <td>0.003096</td>\n",
       "    </tr>\n",
       "    <tr>\n",
       "      <th>28</th>\n",
       "      <td>HD_PDEase</td>\n",
       "      <td>1</td>\n",
       "      <td>0.003096</td>\n",
       "    </tr>\n",
       "    <tr>\n",
       "      <th>29</th>\n",
       "      <td>MXAN_049</td>\n",
       "      <td>1</td>\n",
       "      <td>0.003096</td>\n",
       "    </tr>\n",
       "    <tr>\n",
       "      <th>30</th>\n",
       "      <td>FtsL</td>\n",
       "      <td>1</td>\n",
       "      <td>0.003096</td>\n",
       "    </tr>\n",
       "  </tbody>\n",
       "</table>\n",
       "</div>"
      ],
      "text/plain": [
       "                      clan_name  count      freq\n",
       "0               PDDEXK nuclease     28  0.086687\n",
       "1                 P-loop NTPase     24  0.074303\n",
       "2     RHH antitoxin DNA binding     21  0.065015\n",
       "3                          HEPN     12  0.037152\n",
       "4                           HTH      7  0.021672\n",
       "5                           PIN      6  0.018576\n",
       "6              HNH endonuclease      6  0.018576\n",
       "7   His kinase phospho-acceptor      4  0.012384\n",
       "8                          TRAP      3  0.009288\n",
       "9                       RNase_H      3  0.009288\n",
       "10                   NTP_transf      3  0.009288\n",
       "11                  Zinc finger      3  0.009288\n",
       "12                         CheY      3  0.009288\n",
       "13                       FG_rpt      3  0.009288\n",
       "14                 ATP_synthase      2  0.006192\n",
       "15                  Calcineurin      2  0.006192\n",
       "16                     Holin-II      2  0.006192\n",
       "17                 Pentapeptide      1  0.003096\n",
       "18                          TPR      1  0.003096\n",
       "19                   TIM_barrel      1  0.003096\n",
       "20                        SPOCS      1  0.003096\n",
       "21                        SLATT      1  0.003096\n",
       "22                  Ion_channel      1  0.003096\n",
       "23                          PUA      1  0.003096\n",
       "24                    GG-leader      1  0.003096\n",
       "25                GpW_gp25-like      1  0.003096\n",
       "26                           OB      1  0.003096\n",
       "27               Nribosyltransf      1  0.003096\n",
       "28                    HD_PDEase      1  0.003096\n",
       "29                     MXAN_049      1  0.003096\n",
       "30                         FtsL      1  0.003096"
      ]
     },
     "execution_count": 44,
     "metadata": {},
     "output_type": "execute_result"
    }
   ],
   "source": [
    "novel_pfam_clan_count"
   ]
  },
  {
   "cell_type": "code",
   "execution_count": 45,
   "id": "e7fd09eb-be96-47cb-b790-9e434f4a0ffe",
   "metadata": {},
   "outputs": [
    {
     "data": {
      "image/png": "[encoded data removed]",
      "text/plain": [
       "<Figure size 180x180 with 1 Axes>"
      ]
     },
     "metadata": {},
     "output_type": "display_data"
    }
   ],
   "source": [
    "plt.subplots(figsize=(1.8,1.8))\n",
    "sns.barplot(data=novel_pfam_clan_count.head(8), y='clan_name', x='freq', \n",
    "            color=bw_color_palette[3], linewidth=0.5, edgecolor='black', saturation=100)\n",
    "sns.despine()\n",
    "plt.xlabel('Fraction of novel defense proteins')\n",
    "plt.ylabel('')\n",
    "plt.title('Common domain classes in \\npredicted novel defense proteins')\n",
    "plt.savefig('../figures/predicted_novel_defense_domains.svg', dpi=300, bbox_inches='tight')"
   ]
  },
  {
   "cell_type": "code",
   "execution_count": 46,
   "id": "76c6bb6c-b7fc-41f7-a974-d574c513d115",
   "metadata": {},
   "outputs": [],
   "source": [
    "def assign_hit_category2(row, cutoff=med_log_odds_cutoff, qcov=qcov):\n",
    "    if row['defense_system_protein']:\n",
    "        return 'Defense homolog in expected system'\n",
    "    elif row['mean_log_odds'] > cutoff:\n",
    "        if row['defense_homolog']:\n",
    "            return 'Defense homolog in new context'\n",
    "        elif (row['q_cov'] > qcov):\n",
    "            return 'Remote defense homolog'\n",
    "        else: \n",
    "            return 'Predicted novel defense gene'\n",
    "    else:\n",
    "        return 'Not defensive'"
   ]
  },
  {
   "cell_type": "code",
   "execution_count": 47,
   "id": "1e75ee79-1c2c-49e0-9eb4-6fff49c02a2e",
   "metadata": {},
   "outputs": [
    {
     "data": {
      "text/plain": [
       "hit_category\n",
       "Defense homolog in new context        1009\n",
       "Predicted novel defense gene           542\n",
       "Defense homolog in expected system     264\n",
       "Remote defense homolog                 176\n",
       "Name: count, dtype: int64"
      ]
     },
     "execution_count": 47,
     "metadata": {},
     "output_type": "execute_result"
    }
   ],
   "source": [
    "merged_predictions['hit_category'].value_counts()"
   ]
  },
  {
   "cell_type": "code",
   "execution_count": 50,
   "id": "072f72b9-835f-4e08-8936-14ae3a2516a5",
   "metadata": {},
   "outputs": [],
   "source": [
    "all_merged_predictions = (predictions.merge(\n",
    "    merged_predictions[['protein_context_id', 'hit_name', 'q_cov', 'Prob']], how='left', \n",
    "                                                   on='protein_context_id'))\n",
    "all_merged_predictions['q_cov'] = all_merged_predictions['q_cov'].fillna(0)\n",
    "\n",
    "all_merged_predictions['hit_category'] = all_merged_predictions.apply(assign_hit_category2, axis=1)\n",
    "hit_categories = ['Defense homolog in expected system',\n",
    "                  'Defense homolog in new context', \n",
    "                  'Remote defense homolog', \n",
    "                  'Predicted novel defense gene', \n",
    "                  'Not defensive']\n",
    "all_merged_predictions['hit_category'] = pd.Categorical(all_merged_predictions['hit_category'], \n",
    "                                                    categories=hit_categories)\n"
   ]
  },
  {
   "cell_type": "code",
   "execution_count": 51,
   "id": "9e803ce7-bf97-4d58-8415-669016a3cb17",
   "metadata": {},
   "outputs": [],
   "source": [
    "all_merged_predictions.to_csv('../data3/interim/ecor_predictions_defensive_cat.csv', index=False)\n"
   ]
  },
  {
   "cell_type": "code",
   "execution_count": 52,
   "id": "716cae75-09c4-4469-8b63-6db2595c1b7f",
   "metadata": {},
   "outputs": [
    {
     "data": {
      "text/plain": [
       "hit_category\n",
       "Not defensive                         319225\n",
       "Defense homolog in new context          1009\n",
       "Predicted novel defense gene             542\n",
       "Defense homolog in expected system       395\n",
       "Remote defense homolog                   176\n",
       "Name: count, dtype: int64"
      ]
     },
     "execution_count": 52,
     "metadata": {},
     "output_type": "execute_result"
    }
   ],
   "source": [
    "all_merged_predictions['hit_category'].value_counts()"
   ]
  },
  {
   "cell_type": "code",
   "execution_count": 84,
   "id": "8c9fa8e8-7f1d-4908-8198-2970007f54ad",
   "metadata": {},
   "outputs": [
    {
     "data": {
      "text/plain": [
       "323"
      ]
     },
     "execution_count": 84,
     "metadata": {},
     "output_type": "execute_result"
    }
   ],
   "source": [
    "len(novel_accessions)"
   ]
  },
  {
   "cell_type": "code",
   "execution_count": 94,
   "id": "0b9bf832-d216-435e-929c-a27b87069a6f",
   "metadata": {},
   "outputs": [],
   "source": [
    "pd.DataFrame(novel_accessions).to_csv('../data3/interim/ecor_pred_def_seq_novel.txt', index=False, header=False)"
   ]
  },
  {
   "cell_type": "code",
   "execution_count": 96,
   "id": "7aa27718-8d67-4c12-b001-73b3ab4cbfa4",
   "metadata": {},
   "outputs": [],
   "source": [
    "!conda run -n beaker seqtk subseq ../data/interim/ecor_unique_seqs.faa ../data3/interim/ecor_pred_def_seq_novel.txt > ../data3/interim/ecor_pred_def_seq_novel.faa\n"
   ]
  },
  {
   "cell_type": "markdown",
   "id": "8ef154a8-2834-4157-a5b1-d67349ec8eff",
   "metadata": {},
   "source": [
    "### Redo these analyses, but only consider one gene per cluster"
   ]
  },
  {
   "cell_type": "code",
   "execution_count": 53,
   "id": "8612bec1-a186-4795-af1d-bbd3f27f04b5",
   "metadata": {},
   "outputs": [],
   "source": [
    "non_redundant_predictions = (all_merged_predictions\n",
    "                             .sort_values(['hit_category', 'mean_log_odds'], ascending=[True, False])\n",
    "                             .groupby('cluster_id')\n",
    "                             .head(1))"
   ]
  },
  {
   "cell_type": "code",
   "execution_count": 54,
   "id": "ebf1a967-a448-46f2-9906-f1a7a7346840",
   "metadata": {},
   "outputs": [
    {
     "data": {
      "text/plain": [
       "hit_category\n",
       "Not defensive                         10590\n",
       "Defense homolog in new context          219\n",
       "Predicted novel defense gene            190\n",
       "Defense homolog in expected system      152\n",
       "Remote defense homolog                  103\n",
       "Name: count, dtype: int64"
      ]
     },
     "execution_count": 54,
     "metadata": {},
     "output_type": "execute_result"
    }
   ],
   "source": [
    "non_redundant_predictions['hit_category'].value_counts()"
   ]
  },
  {
   "cell_type": "code",
   "execution_count": 53,
   "id": "5a65c9fe-d91d-44d0-bb74-f2134f990a41",
   "metadata": {},
   "outputs": [
    {
     "data": {
      "text/plain": [
       "11254"
      ]
     },
     "execution_count": 53,
     "metadata": {},
     "output_type": "execute_result"
    }
   ],
   "source": [
    "len(non_redundant_predictions)"
   ]
  },
  {
   "cell_type": "code",
   "execution_count": 54,
   "id": "f3c07879-6708-405d-9650-c87b02b6e023",
   "metadata": {},
   "outputs": [
    {
     "data": {
      "text/plain": [
       "1085"
      ]
     },
     "execution_count": 54,
     "metadata": {},
     "output_type": "execute_result"
    }
   ],
   "source": [
    "(non_redundant_predictions['mean_log_odds'] > 0).sum()"
   ]
  },
  {
   "cell_type": "code",
   "execution_count": 55,
   "id": "3875b766-3e63-45c1-a28e-530f6e1960c4",
   "metadata": {},
   "outputs": [
    {
     "name": "stdout",
     "output_type": "stream",
     "text": [
      "Total # genes 11254\n",
      "# Genes with P > 0.5 1085\n",
      "Frac genes with P > 0.5 0.096\n",
      "# genes with LO > 4 624\n",
      "frac. genes with LO > 4 0.055\n"
     ]
    }
   ],
   "source": [
    "total_pred = len(non_redundant_predictions)\n",
    "print('Total # genes', total_pred)\n",
    "g_p5 = (non_redundant_predictions['mean_log_odds'] > 0).sum()\n",
    "print('# Genes with P > 0.5', g_p5)\n",
    "print('Frac genes with P > 0.5', round(g_p5/total_pred, 3))\n",
    "g_cutoff = (non_redundant_predictions['mean_log_odds'] > med_log_odds_cutoff).sum()\n",
    "print('# genes with LO >', round(med_log_odds_cutoff, 3), g_cutoff)\n",
    "print('frac. genes with LO >', round(med_log_odds_cutoff, 3), round(g_cutoff/total_pred, 3))\n"
   ]
  },
  {
   "cell_type": "code",
   "execution_count": 56,
   "id": "7c8728a9-188e-4f8e-ac0d-ba7f00c260c2",
   "metadata": {},
   "outputs": [
    {
     "data": {
      "image/png": "[encoded data removed]",
      "text/plain": [
       "<Figure size 200x200 with 1 Axes>"
      ]
     },
     "metadata": {},
     "output_type": "display_data"
    }
   ],
   "source": [
    "plt.subplots(figsize=(2,2))\n",
    "sns.histplot(non_redundant_predictions['mean_log_odds'], binwidth=1, \n",
    "             color='grey')\n",
    "plt.xlabel('Log odds of defense')\n",
    "plt.ylabel('# Genes')\n",
    "plt.axvline(x=med_log_odds_cutoff, linestyle='dashed', color='black')\n",
    "sns.despine()\n",
    "plt.savefig('../figures/hit_distribution_nr.svg', dpi=300, bbox_inches='tight')"
   ]
  },
  {
   "cell_type": "code",
   "execution_count": 57,
   "id": "287bd8af-368e-4d42-b6dd-70613b94e562",
   "metadata": {},
   "outputs": [],
   "source": [
    "filtered_nr_predictions = non_redundant_predictions[non_redundant_predictions['mean_log_odds'] > med_log_odds_cutoff].copy()\n",
    "filtered_nr_predictions['accession_stub'] = (filtered_nr_predictions['product_accession']\n",
    "                                          .str.split('.', expand=True)[0])\n",
    "filtered_nr_predictions['hit_category'] = filtered_nr_predictions['hit_category'].cat.remove_unused_categories()"
   ]
  },
  {
   "cell_type": "code",
   "execution_count": 58,
   "id": "8b526f5c-1d4e-4725-bd30-0e27c60e7a3b",
   "metadata": {},
   "outputs": [
    {
     "data": {
      "text/plain": [
       "hit_category\n",
       "Defense homolog in new context        0.350962\n",
       "Predicted novel defense gene          0.304487\n",
       "Defense homolog in expected system    0.179487\n",
       "Remote defense homolog                0.165064\n",
       "Name: count, dtype: float64"
      ]
     },
     "execution_count": 58,
     "metadata": {},
     "output_type": "execute_result"
    }
   ],
   "source": [
    "filtered_nr_predictions['hit_category'].value_counts()/len(filtered_nr_predictions)"
   ]
  },
  {
   "cell_type": "code",
   "execution_count": 59,
   "id": "3b96d8a9-8fdc-4623-83f5-06b1df51b1a6",
   "metadata": {},
   "outputs": [
    {
     "data": {
      "text/plain": [
       "hit_category\n",
       "Defense homolog in new context        219\n",
       "Predicted novel defense gene          190\n",
       "Defense homolog in expected system    112\n",
       "Remote defense homolog                103\n",
       "Name: count, dtype: int64"
      ]
     },
     "execution_count": 59,
     "metadata": {},
     "output_type": "execute_result"
    }
   ],
   "source": [
    "filtered_nr_predictions['hit_category'].value_counts()"
   ]
  },
  {
   "cell_type": "code",
   "execution_count": 60,
   "id": "53a0928d-1a70-4940-8979-4f8220d447d4",
   "metadata": {},
   "outputs": [
    {
     "data": {
      "text/plain": [
       "152"
      ]
     },
     "execution_count": 60,
     "metadata": {},
     "output_type": "execute_result"
    }
   ],
   "source": [
    "non_redundant_predictions['defense_system_protein'].sum()"
   ]
  },
  {
   "cell_type": "code",
   "execution_count": 61,
   "id": "6dcd36a6-cf72-4326-b7ba-2bcd7a3232bb",
   "metadata": {},
   "outputs": [
    {
     "data": {
      "text/plain": [
       "defense_homolog_names\n",
       "RM_Type_IV__Type_IV_REases                                                                                                                  3\n",
       "CBASS__Phospholipase                                                                                                                        2\n",
       "CBASS__AG_E1_ThiF, CBASS__AG_E2_Prok-E2_B                                                                                                   2\n",
       "Shango__SngC, PsyrTA__PsyrT                                                                                                                 2\n",
       "dCTPdeaminase__dCTPdeaminase                                                                                                                2\n",
       "CBASS__Jab                                                                                                                                  1\n",
       "BREX__brxHII, DISARM_1__drmD                                                                                                                1\n",
       "Mokosh_TypeI__MkoB2                                                                                                                         1\n",
       "dGTPase__Sp_dGTPase                                                                                                                         1\n",
       "PD-T7-4__PD-T7-4                                                                                                                            1\n",
       "BstA__BstA                                                                                                                                  1\n",
       "PD-T4-9__PD-T4-9_C                                                                                                                          1\n",
       "Gabija__GajB_2                                                                                                                              1\n",
       "ShosTA__ShosA, PsyrTA__PsyrA                                                                                                                1\n",
       "BREX__pglW, Mokosh_TypeI__MkoA, PD-T4-6__PD-T4-6                                                                                            1\n",
       "Gabija__GajB_3, Gabija__GajB_2, Gabija__GajB_1                                                                                              1\n",
       "Mok_Hok_Sok__Hok                                                                                                                            1\n",
       "BREX__pglW, Mokosh_TypeI__MkoA2                                                                                                             1\n",
       "Cas__cas7f_I-F_1, Cas__cas7f_I-F_2                                                                                                          1\n",
       "Wadjet__JetC_II, PD-Lambda-1__PD-Lambda-1                                                                                                   1\n",
       "SoFic__SoFic                                                                                                                                1\n",
       "PD-Lambda-6__PD-Lambda-6                                                                                                                    1\n",
       "Cas__cas2_I-E_2, Cas__cas2_I_II_III_IV_V_VI_4, Cas__cas2_I-E_1                                                                              1\n",
       "Cas__cas3_I_2, Cas__cas3HD_I_1, Cas__cas3_I_5                                                                                               1\n",
       "Mokosh_TypeI__MkoB, Mokosh_TypeI__MkoB2                                                                                                     1\n",
       "PD-T4-9__PD-T4-9_A                                                                                                                          1\n",
       "CBASS__A_Cyclase_AGS_C, Pycsar__AG_cyclase                                                                                                  1\n",
       "PD-Lambda-5__PD-Lambda-5_B, RM_Type_II__Type_II_MTases                                                                                      1\n",
       "PD-Lambda-2__PD-Lambda-2_A                                                                                                                  1\n",
       "Cas__cas1_I_II_III_IV_V_VI_1, Cas__cas1_I_II_III_IV_V_VI_8, Cas__cas1_I_II_III_IV_V_VI_10, Cas__cas1_I-F_1, Cas__cas1_I_II_III_IV_V_VI_2    1\n",
       "AbiEii__AbiEi_3                                                                                                                             1\n",
       "PD-T4-1__PD-T4-1                                                                                                                            1\n",
       "RM_Type_II__Type_II_REases                                                                                                                  1\n",
       "RM_Type_II__Type_II_MTases                                                                                                                  1\n",
       "Name: count, dtype: int64"
      ]
     },
     "execution_count": 61,
     "metadata": {},
     "output_type": "execute_result"
    }
   ],
   "source": [
    "non_redundant_predictions.loc[(non_redundant_predictions['mean_log_odds'] <= med_log_odds_cutoff) & \n",
    "            (non_redundant_predictions['defense_system_protein']), 'defense_homolog_names'].value_counts()"
   ]
  },
  {
   "cell_type": "code",
   "execution_count": 62,
   "id": "d0f18845-7492-4624-bc63-9ca69207ef27",
   "metadata": {},
   "outputs": [
    {
     "data": {
      "image/png": "[encoded data removed]",
      "text/plain": [
       "<Figure size 200x200 with 1 Axes>"
      ]
     },
     "metadata": {},
     "output_type": "display_data"
    }
   ],
   "source": [
    "plt.subplots(figsize=(2,2))\n",
    "sns.histplot(data=filtered_nr_predictions[filtered_nr_predictions['hit_category'] == 'Predicted novel defense gene'], \n",
    "             x='q_cov', binwidth=0.1, color='#f0e442', alpha=1)\n",
    "plt.xlabel('Predicted defense protein coverage\\nagainst known defense protein')\n",
    "sns.despine()\n",
    "#plt.savefig('../figures/novel_coverage.svg', dpi=300, bbox_inches='tight')"
   ]
  },
  {
   "cell_type": "code",
   "execution_count": 63,
   "id": "6cd7ad49-7856-4718-9ffb-989c7b34c6d4",
   "metadata": {},
   "outputs": [
    {
     "data": {
      "image/png": "[encoded data removed]",
      "text/plain": [
       "<Figure size 50x200 with 1 Axes>"
      ]
     },
     "metadata": {},
     "output_type": "display_data"
    }
   ],
   "source": [
    "_, ax = plt.subplots(figsize=(0.5, 2))\n",
    "ax = sns.histplot(data=filtered_nr_predictions, x=0, \n",
    "             hue='hit_category', \n",
    "             multiple='stack', \n",
    "             palette=bw_color_palette[:4], ax=ax, )\n",
    "sns.move_legend(ax, bbox_to_anchor=(1.05, 1), loc='upper left')\n",
    "sns.despine()\n",
    "plt.xticks([])\n",
    "plt.xlabel('')\n",
    "plt.savefig('../figures/predicted_defense_known_frac_nr.svg', dpi=300, bbox_inches='tight')"
   ]
  },
  {
   "cell_type": "code",
   "execution_count": 64,
   "id": "ccd36697-d45e-4822-9733-d4b970e953ed",
   "metadata": {},
   "outputs": [],
   "source": [
    "nr_novel_accessions = filtered_nr_predictions.loc[filtered_nr_predictions['hit_category'] == 'Predicted novel defense gene', \n",
    "                                          'product_accession'].drop_duplicates()\n",
    "nr_novel_pfam_results = pfam_results[pfam_results['query'].isin(nr_novel_accessions)]\n",
    "nr_novel_pfam_clans = (nr_novel_pfam_results[['query', 'clan_name']]\n",
    "                    .drop_duplicates())"
   ]
  },
  {
   "cell_type": "code",
   "execution_count": 65,
   "id": "376f144a-41b7-4f2a-8308-d87cd9fb630c",
   "metadata": {},
   "outputs": [
    {
     "name": "stderr",
     "output_type": "stream",
     "text": [
      "100%|██████████| 139/139 [00:00<00:00, 560.11it/s]\n"
     ]
    }
   ],
   "source": [
    "nr_select_novel_pfam_domains = select_domains(nr_novel_pfam_results)"
   ]
  },
  {
   "cell_type": "code",
   "execution_count": 66,
   "id": "63c15114-ab28-4f55-93b7-0180e22a441f",
   "metadata": {},
   "outputs": [
    {
     "data": {
      "text/plain": [
       "pfam_name        clan_name    \n",
       "RepB-RCR_reg     Met_repress      7\n",
       "NinG             His-Me_finger    5\n",
       "HATPase_c_5      His_Kinase_A     3\n",
       "DpnII-MboI       PDDEXK           3\n",
       "IIGP             P-loop_NTPase    3\n",
       "Response_reg_2   CheY             3\n",
       "Dynamin_N        P-loop_NTPase    3\n",
       "KicB             HTH              2\n",
       "ATP-synt_B       ATP_synthase     2\n",
       "PDDEXK_4         PDDEXK           2\n",
       "PIN              PIN              2\n",
       "HEPN_Apea        KNTase_C         2\n",
       "Metallophos_3    Calcineurin      2\n",
       "AAA_35           P-loop_NTPase    2\n",
       "Polbeta          NTP_transf       2\n",
       "Mrr_cat_2        PDDEXK           2\n",
       "Phage_holin_2_3  Holin-II         1\n",
       "Phage_holin_2_1  Holin-II         1\n",
       "NERD             PDDEXK           1\n",
       "pP_pnuc_2        SPOCS            1\n",
       "Name: count, dtype: int64"
      ]
     },
     "execution_count": 66,
     "metadata": {},
     "output_type": "execute_result"
    }
   ],
   "source": [
    "(nr_select_novel_pfam_domains[['query','pfam_name', 'clan_name']].drop_duplicates()\n",
    " [['pfam_name', 'clan_name']]\n",
    " .value_counts()\n",
    " .head(20))"
   ]
  },
  {
   "cell_type": "code",
   "execution_count": 67,
   "id": "765b2ae2-7c4b-4bf5-a868-a1d932db21bb",
   "metadata": {},
   "outputs": [],
   "source": [
    "nr_novel_pfam_clan_count = (nr_select_novel_pfam_domains.groupby('clan_name')\n",
    "                         .agg(count=('query', 'nunique'))\n",
    "                         .rename(index={'P-loop_NTPase': 'P-loop NTPase', \n",
    "                                        'PDDEXK': 'PDDEXK nuclease', \n",
    "                                        'PEP-carboxyk': 'PEP carboxykinase',\n",
    "                                        'Met_repress': 'RHH antitoxin DNA binding', \n",
    "                                        'KNTase_C': 'HEPN', \n",
    "                                        'His-Me_finger': 'HNH endonuclease', \n",
    "                                        'Zn_Beta_Ribbon': 'Zinc finger', \n",
    "                                        'His_Kinase_A': 'His kinase phospho-acceptor', \n",
    "                                        'CheY': 'Response regulator'})\n",
    "                         .sort_values('count', ascending=False)\n",
    "                         .reset_index())\n",
    "nr_novel_pfam_clan_count['freq'] = nr_novel_pfam_clan_count['count']/len(nr_novel_accessions)"
   ]
  },
  {
   "cell_type": "code",
   "execution_count": 68,
   "id": "e5dcc0c3-64e7-4780-a457-085fbd143b47",
   "metadata": {},
   "outputs": [],
   "source": [
    "from matplotlib.ticker import FuncFormatter"
   ]
  },
  {
   "cell_type": "code",
   "execution_count": 69,
   "id": "c734f0b0-315a-4a09-b50a-662b8f0254d7",
   "metadata": {},
   "outputs": [],
   "source": [
    "def to_percent_no_sign(x, pos):\n",
    "    return f\"{100 * x:.0f}\""
   ]
  },
  {
   "cell_type": "code",
   "execution_count": 70,
   "id": "9fe9d1e3-8af6-4056-a1d0-5da271d8c9e1",
   "metadata": {},
   "outputs": [
    {
     "data": {
      "image/png": "[encoded data removed]",
      "text/plain": [
       "<Figure size 180x180 with 1 Axes>"
      ]
     },
     "metadata": {},
     "output_type": "display_data"
    }
   ],
   "source": [
    "plt.subplots(figsize=(1.8,1.8))\n",
    "sns.barplot(data=nr_novel_pfam_clan_count.head(8), x='clan_name', y='freq', \n",
    "            color=bw_color_palette[3], linewidth=0.5, edgecolor='black', saturation=100)\n",
    "sns.despine()\n",
    "plt.xticks(rotation=45, ha='right')\n",
    "plt.ylabel('% of proteins')\n",
    "plt.xlabel('')\n",
    "plt.gca().yaxis.set_major_formatter(FuncFormatter(to_percent_no_sign))\n",
    "plt.title('Common domains')\n",
    "plt.savefig('../figures/predicted_novel_defense_domains_nr.svg', dpi=300, bbox_inches='tight')"
   ]
  },
  {
   "cell_type": "code",
   "execution_count": 71,
   "id": "711629ee-7971-4885-b673-895f3d1a45e5",
   "metadata": {},
   "outputs": [
    {
     "data": {
      "text/html": [
       "<div>\n",
       "<style scoped>\n",
       "    .dataframe tbody tr th:only-of-type {\n",
       "        vertical-align: middle;\n",
       "    }\n",
       "\n",
       "    .dataframe tbody tr th {\n",
       "        vertical-align: top;\n",
       "    }\n",
       "\n",
       "    .dataframe thead th {\n",
       "        text-align: right;\n",
       "    }\n",
       "</style>\n",
       "<table border=\"1\" class=\"dataframe\">\n",
       "  <thead>\n",
       "    <tr style=\"text-align: right;\">\n",
       "      <th></th>\n",
       "      <th>clan_name</th>\n",
       "      <th>count</th>\n",
       "      <th>freq</th>\n",
       "    </tr>\n",
       "  </thead>\n",
       "  <tbody>\n",
       "    <tr>\n",
       "      <th>0</th>\n",
       "      <td>PDDEXK nuclease</td>\n",
       "      <td>16</td>\n",
       "      <td>0.084211</td>\n",
       "    </tr>\n",
       "    <tr>\n",
       "      <th>1</th>\n",
       "      <td>HEPN</td>\n",
       "      <td>9</td>\n",
       "      <td>0.047368</td>\n",
       "    </tr>\n",
       "    <tr>\n",
       "      <th>2</th>\n",
       "      <td>P-loop NTPase</td>\n",
       "      <td>8</td>\n",
       "      <td>0.042105</td>\n",
       "    </tr>\n",
       "    <tr>\n",
       "      <th>3</th>\n",
       "      <td>RHH antitoxin DNA binding</td>\n",
       "      <td>7</td>\n",
       "      <td>0.036842</td>\n",
       "    </tr>\n",
       "    <tr>\n",
       "      <th>4</th>\n",
       "      <td>HNH endonuclease</td>\n",
       "      <td>6</td>\n",
       "      <td>0.031579</td>\n",
       "    </tr>\n",
       "    <tr>\n",
       "      <th>5</th>\n",
       "      <td>PIN</td>\n",
       "      <td>5</td>\n",
       "      <td>0.026316</td>\n",
       "    </tr>\n",
       "    <tr>\n",
       "      <th>6</th>\n",
       "      <td>HTH</td>\n",
       "      <td>4</td>\n",
       "      <td>0.021053</td>\n",
       "    </tr>\n",
       "    <tr>\n",
       "      <th>7</th>\n",
       "      <td>Response regulator</td>\n",
       "      <td>3</td>\n",
       "      <td>0.015789</td>\n",
       "    </tr>\n",
       "  </tbody>\n",
       "</table>\n",
       "</div>"
      ],
      "text/plain": [
       "                   clan_name  count      freq\n",
       "0            PDDEXK nuclease     16  0.084211\n",
       "1                       HEPN      9  0.047368\n",
       "2              P-loop NTPase      8  0.042105\n",
       "3  RHH antitoxin DNA binding      7  0.036842\n",
       "4           HNH endonuclease      6  0.031579\n",
       "5                        PIN      5  0.026316\n",
       "6                        HTH      4  0.021053\n",
       "7         Response regulator      3  0.015789"
      ]
     },
     "execution_count": 71,
     "metadata": {},
     "output_type": "execute_result"
    }
   ],
   "source": [
    "nr_novel_pfam_clan_count.head(8)"
   ]
  },
  {
   "cell_type": "code",
   "execution_count": 72,
   "id": "866f3832-c7b7-4118-b561-8a0f788792ce",
   "metadata": {},
   "outputs": [],
   "source": [
    "novel_cluster_known_domains_n = nr_select_novel_pfam_domains.loc[nr_select_novel_pfam_domains['pfam_id']\n",
    "                                 .isin(blacklisted_domains['pfam_id']), 'query'].nunique()"
   ]
  },
  {
   "cell_type": "code",
   "execution_count": 73,
   "id": "e4e92685-353c-40f7-8472-16bc7e069bcf",
   "metadata": {},
   "outputs": [
    {
     "data": {
      "text/plain": [
       "90"
      ]
     },
     "execution_count": 73,
     "metadata": {},
     "output_type": "execute_result"
    }
   ],
   "source": [
    "novel_cluster_known_domains_n"
   ]
  },
  {
   "cell_type": "code",
   "execution_count": 74,
   "id": "9361f13f-68eb-47a6-b031-fcdb66d172bd",
   "metadata": {},
   "outputs": [
    {
     "data": {
      "text/plain": [
       "190"
      ]
     },
     "execution_count": 74,
     "metadata": {},
     "output_type": "execute_result"
    }
   ],
   "source": [
    "len(nr_novel_accessions)"
   ]
  },
  {
   "cell_type": "code",
   "execution_count": 75,
   "id": "8c65dd7a-a842-4672-9fec-904539700c5a",
   "metadata": {},
   "outputs": [
    {
     "data": {
      "text/plain": [
       "0.47368421052631576"
      ]
     },
     "execution_count": 75,
     "metadata": {},
     "output_type": "execute_result"
    }
   ],
   "source": [
    "novel_cluster_known_domains_n/len(nr_novel_accessions)"
   ]
  },
  {
   "cell_type": "code",
   "execution_count": 76,
   "id": "1a0aa04a-fa18-4d1b-83f9-e2bb8492e44e",
   "metadata": {},
   "outputs": [],
   "source": [
    "cluster_n_genomes = (predictions.groupby('cluster_id')\n",
    "                     .agg(n_genomes=('assembly', 'nunique'))\n",
    "                     .reset_index())\n",
    "predicted_novel_defense_clusters = merged_predictions.loc[merged_predictions['hit_category'] == 'Predicted novel defense gene', \n",
    "                                                          ['cluster_id']].drop_duplicates()\n",
    "pnd_clusters_n_genomes = (predicted_novel_defense_clusters.merge(cluster_n_genomes, \n",
    "                                                                how='inner', on='cluster_id'))\n",
    "pnd_clusters_n_genomes['category'] = 'Predicted novel\\ndefense genes'\n",
    "known_defense_clusters = predictions.loc[predictions['defense_system_protein'], \n",
    "                                         ['cluster_id']].drop_duplicates()\n",
    "kd_clusters_n_genomes = (known_defense_clusters.merge(cluster_n_genomes, \n",
    "                                                      how='inner', on='cluster_id'))\n",
    "kd_clusters_n_genomes['category'] = 'All defense homologs\\nin expected systems'\n",
    "cluster_n_genomes['category'] = 'All genes'\n",
    "cluster_categories_n_genomes = pd.concat([cluster_n_genomes, pnd_clusters_n_genomes, kd_clusters_n_genomes], axis=0)\n",
    "cluster_categories_n_genomes['category'] = pd.Categorical(cluster_categories_n_genomes['category'], \n",
    "                                                              categories=['All genes',\n",
    "                                                                  'All defense homologs\\nin expected systems',\n",
    "                                                                'Predicted novel\\ndefense genes'])"
   ]
  },
  {
   "cell_type": "code",
   "execution_count": 77,
   "id": "378f6e43-02ca-497c-a93f-632366c0324f",
   "metadata": {},
   "outputs": [],
   "source": [
    "cluster_n_genomes = (predictions.groupby('cluster_id')\n",
    "                     .agg(n_genomes=('assembly', 'nunique'))\n",
    "                     .reset_index())\n",
    "cluster_n_genomes['category'] = 'All protein clusters'\n",
    "novel_clusters = non_redundant_predictions.loc[non_redundant_predictions[\"hit_category\"] == 'Predicted novel defense gene', \n",
    "                                               'cluster_id']\n",
    "novel_n_genomes = cluster_n_genomes[cluster_n_genomes['cluster_id'].isin(novel_clusters)].copy()\n",
    "novel_n_genomes['category'] = 'Predicted novel defense'\n",
    "known_clusters = non_redundant_predictions.loc[non_redundant_predictions[\"hit_category\"] == 'Defense homolog in expected system', \n",
    "                                               'cluster_id']\n",
    "known_n_genomes = cluster_n_genomes[cluster_n_genomes['cluster_id'].isin(known_clusters)].copy()\n",
    "known_n_genomes['category'] = 'Defense homologs in expected system'\n",
    "cluster_categories_n_genomes = pd.concat([cluster_n_genomes, novel_n_genomes, known_n_genomes], axis=0)\n",
    "cluster_categories_n_genomes['category'] = pd.Categorical(cluster_categories_n_genomes['category'], \n",
    "                                                              categories=['All protein clusters',\n",
    "                                                                  'Defense homologs in expected system',\n",
    "                                                                'Predicted novel defense'])"
   ]
  },
  {
   "cell_type": "code",
   "execution_count": 78,
   "id": "5a9f64ad-b104-471c-bb9f-a9c35bc693c7",
   "metadata": {},
   "outputs": [],
   "source": [
    "cluster_categories_n_genomes['accessory_gene'] = cluster_categories_n_genomes['n_genomes'] <= 5"
   ]
  },
  {
   "cell_type": "code",
   "execution_count": 79,
   "id": "a8808e88-bbac-4e9a-be41-caf763d79c81",
   "metadata": {},
   "outputs": [
    {
     "data": {
      "text/html": [
       "<div>\n",
       "<style scoped>\n",
       "    .dataframe tbody tr th:only-of-type {\n",
       "        vertical-align: middle;\n",
       "    }\n",
       "\n",
       "    .dataframe tbody tr th {\n",
       "        vertical-align: top;\n",
       "    }\n",
       "\n",
       "    .dataframe thead th {\n",
       "        text-align: right;\n",
       "    }\n",
       "</style>\n",
       "<table border=\"1\" class=\"dataframe\">\n",
       "  <thead>\n",
       "    <tr style=\"text-align: right;\">\n",
       "      <th></th>\n",
       "      <th>frac_accessory</th>\n",
       "    </tr>\n",
       "    <tr>\n",
       "      <th>category</th>\n",
       "      <th></th>\n",
       "    </tr>\n",
       "  </thead>\n",
       "  <tbody>\n",
       "    <tr>\n",
       "      <th>All protein clusters</th>\n",
       "      <td>0.521237</td>\n",
       "    </tr>\n",
       "    <tr>\n",
       "      <th>Defense homologs in expected system</th>\n",
       "      <td>0.697368</td>\n",
       "    </tr>\n",
       "    <tr>\n",
       "      <th>Predicted novel defense</th>\n",
       "      <td>0.884211</td>\n",
       "    </tr>\n",
       "  </tbody>\n",
       "</table>\n",
       "</div>"
      ],
      "text/plain": [
       "                                     frac_accessory\n",
       "category                                           \n",
       "All protein clusters                       0.521237\n",
       "Defense homologs in expected system        0.697368\n",
       "Predicted novel defense                    0.884211"
      ]
     },
     "execution_count": 79,
     "metadata": {},
     "output_type": "execute_result"
    }
   ],
   "source": [
    "(cluster_categories_n_genomes.groupby('category')\n",
    " .agg(frac_accessory=('accessory_gene', lambda x: x.sum()/len(x))))"
   ]
  },
  {
   "cell_type": "code",
   "execution_count": 80,
   "id": "0351e60c-948e-4159-a073-56c4f4adcdfc",
   "metadata": {},
   "outputs": [
    {
     "data": {
      "image/png": "[encoded data removed]",
      "text/plain": [
       "<Figure size 540x200 with 3 Axes>"
      ]
     },
     "metadata": {},
     "output_type": "display_data"
    }
   ],
   "source": [
    "g = sns.displot(data=cluster_categories_n_genomes, x='n_genomes', binwidth=2, \n",
    "                hue='category', palette=(['grey', '#e69f00', '#f0e442']), \n",
    "                col='category', kind='hist', facet_kws={'sharey': False}, \n",
    "                alpha=1, height=2, legend=False, aspect=0.9)\n",
    "g.set_titles(template='{col_name}')\n",
    "g.set_xlabels('# Genomes')\n",
    "g.set_ylabels('# Protein clusters')\n",
    "g.figure.subplots_adjust(wspace=0.3)\n",
    "plt.savefig('../figures/cluster_distribution.svg', dpi=300, bbox_inches='tight')"
   ]
  },
  {
   "cell_type": "code",
   "execution_count": 81,
   "id": "c4e768d4-477e-4e26-9dd9-57afcca125f9",
   "metadata": {},
   "outputs": [],
   "source": [
    "nr_select_novel_pfam_domains.to_csv('../data3/interim/ecor_unique_novel_pfam_domains.csv', index=False)"
   ]
  },
  {
   "cell_type": "code",
   "execution_count": 82,
   "id": "3b2716d0-af28-469a-83ce-225b7d186ca8",
   "metadata": {},
   "outputs": [],
   "source": [
    "nr_novel_predictions = non_redundant_predictions[non_redundant_predictions['hit_category'] == 'Predicted novel defense gene']"
   ]
  },
  {
   "cell_type": "code",
   "execution_count": 83,
   "id": "23354fa2-d519-4b70-98a4-1e7941a44bf8",
   "metadata": {},
   "outputs": [],
   "source": [
    "nr_novel_predictions.to_csv('../data3/interim/ecor_unique_novel_proteins.csv', index=False)"
   ]
  },
  {
   "cell_type": "code",
   "execution_count": null,
   "id": "fcc7d9f9-a898-4b36-aca1-b08616477816",
   "metadata": {},
   "outputs": [],
   "source": []
  }
 ],
 "metadata": {
  "kernelspec": {
   "display_name": "beaker",
   "language": "python",
   "name": "beaker"
  },
  "language_info": {
   "codemirror_mode": {
    "name": "ipython",
    "version": 3
   },
   "file_extension": ".py",
   "mimetype": "text/x-python",
   "name": "python",
   "nbconvert_exporter": "python",
   "pygments_lexer": "ipython3",
   "version": "3.8.16"
  }
 },
 "nbformat": 4,
 "nbformat_minor": 5
}
