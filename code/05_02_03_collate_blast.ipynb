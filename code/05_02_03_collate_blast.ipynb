{
 "cells": [
  {
   "cell_type": "code",
   "execution_count": 3,
   "id": "32b25a0d-eed0-4234-8cdd-917abf39346f",
   "metadata": {},
   "outputs": [],
   "source": [
    "from blast import read_blast_fmt10\n",
    "import pandas as pd"
   ]
  },
  {
   "cell_type": "code",
   "execution_count": 9,
   "id": "23df34e4-efbb-431b-850a-0f90f5a45aef",
   "metadata": {},
   "outputs": [],
   "source": [
    "model_seq_info = pd.read_parquet('../data3/interim/candidate_model_seq_info.pq')\n",
    "model_seq_info['short_seq_id'] = model_seq_info['seq_id'].str[:50]\n",
    "model_seq_info['seq_len'] = model_seq_info['seq'].str.len()"
   ]
  },
  {
   "cell_type": "code",
   "execution_count": 4,
   "id": "a66338b4-6d9c-48f4-86ee-47ed145bf356",
   "metadata": {},
   "outputs": [],
   "source": [
    "blast_results = read_blast_fmt10('../data3/interim/model_seq_blast_search.csv')"
   ]
  },
  {
   "cell_type": "code",
   "execution_count": 11,
   "id": "339cbc47-2091-474d-a234-b8e834c81e0b",
   "metadata": {},
   "outputs": [],
   "source": [
    "merged_blast_results = (blast_results\n",
    "                        .merge(model_seq_info[['short_seq_id', 'seq_id', 'seq_len']]\n",
    "                               .rename(columns={'short_seq_id': 'query', \n",
    "                                                'seq_len': 'qseq_len'}), \n",
    "                               how='inner', on='query')\n",
    "                        .drop(columns='query')\n",
    "                        .rename(columns={'seq_id': 'query'})\n",
    "                        .merge(model_seq_info[['short_seq_id', 'seq_id', 'seq_len']]\n",
    "                               .rename(columns={'short_seq_id': 'target', \n",
    "                                                'seq_len': 'tseq_len'}), \n",
    "                               how='inner', on='target')\n",
    "                        .drop(columns='target')\n",
    "                        .rename(columns={'seq_id': 'target'}))\n",
    "merged_blast_results['qcov'] = merged_blast_results['alnlen']/merged_blast_results['qseq_len']\n",
    "merged_blast_results['tcov'] = merged_blast_results['alnlen']/merged_blast_results['tseq_len']\n",
    "merged_blast_results['fident'] = merged_blast_results['fident']/100"
   ]
  },
  {
   "cell_type": "code",
   "execution_count": 16,
   "id": "df06d80d-04e4-4c83-80ab-3a092a6162d5",
   "metadata": {},
   "outputs": [],
   "source": [
    "merged_blast_results.to_parquet('../data3/interim/model_seq_blast_search.pq', index=False)"
   ]
  },
  {
   "cell_type": "code",
   "execution_count": null,
   "id": "4691401a-a02c-4fe3-bf19-2bc7d009a3af",
   "metadata": {},
   "outputs": [],
   "source": []
  }
 ],
 "metadata": {
  "kernelspec": {
   "display_name": "beaker",
   "language": "python",
   "name": "beaker"
  },
  "language_info": {
   "codemirror_mode": {
    "name": "ipython",
    "version": 3
   },
   "file_extension": ".py",
   "mimetype": "text/x-python",
   "name": "python",
   "nbconvert_exporter": "python",
   "pygments_lexer": "ipython3",
   "version": "3.8.16"
  }
 },
 "nbformat": 4,
 "nbformat_minor": 5
}
