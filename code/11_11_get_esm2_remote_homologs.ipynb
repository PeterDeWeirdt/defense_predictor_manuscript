{
 "cells": [
  {
   "cell_type": "code",
   "execution_count": 1,
   "id": "b7bf1d0b-a743-4693-a2e3-9a03f5455b74",
   "metadata": {},
   "outputs": [],
   "source": [
    "import pandas as pd\n",
    "import numpy\n",
    "import torch\n",
    "import numpy as np\n",
    "from tqdm import tqdm"
   ]
  },
  {
   "cell_type": "code",
   "execution_count": 2,
   "id": "de149337-9b53-4842-b119-465ec8a72a56",
   "metadata": {},
   "outputs": [],
   "source": [
    "train_X = pd.read_parquet('../data/interim/train_X.pq')\n",
    "train_y = pd.read_parquet('../data/interim/train_y.pq')\n",
    "val_X = pd.read_parquet('../data/interim/val_X.pq')\n",
    "val_y = pd.read_parquet('../data/interim/val_y.pq')\n",
    "test_X = pd.read_parquet('../data/interim/test_X.pq')"
   ]
  },
  {
   "cell_type": "code",
   "execution_count": 3,
   "id": "1fcacf15-83ba-451c-b9f5-e3844a218bfc",
   "metadata": {},
   "outputs": [
    {
     "data": {
      "text/plain": [
       "array([False, False,  True, ..., False, False, False])"
      ]
     },
     "execution_count": 3,
     "metadata": {},
     "output_type": "execute_result"
    }
   ],
   "source": [
    "train_X.columns.str.contains('ft.+_0')"
   ]
  },
  {
   "cell_type": "code",
   "execution_count": 4,
   "id": "ff136dc7-743f-48a6-bdef-d9eb65df778b",
   "metadata": {},
   "outputs": [],
   "source": [
    "defense_train_val = pd.concat([train_X.loc[train_y['defense'], \n",
    "                                           train_X.columns.str.contains('ft.+_0')],\n",
    "                               val_X.loc[val_y['defense'], \n",
    "                                         val_X.columns.str.contains('ft.+_0')]])"
   ]
  },
  {
   "cell_type": "code",
   "execution_count": 5,
   "id": "b41458a2-59af-4465-a661-2fd94ec2b71a",
   "metadata": {},
   "outputs": [],
   "source": [
    "del train_X, train_y, val_X, val_y"
   ]
  },
  {
   "cell_type": "code",
   "execution_count": 6,
   "id": "c66e5f16-5555-4c39-98e4-db2b29a27989",
   "metadata": {},
   "outputs": [],
   "source": [
    "center_test_X = test_X.loc[:, test_X.columns.str.contains('ft.+_0')]"
   ]
  },
  {
   "cell_type": "code",
   "execution_count": 7,
   "id": "c87b4359-eb9c-4379-8889-2e056dc1f925",
   "metadata": {},
   "outputs": [],
   "source": [
    "del test_X"
   ]
  },
  {
   "cell_type": "code",
   "execution_count": 8,
   "id": "e1c2237e-4d68-441c-aed0-280c55cd06e7",
   "metadata": {},
   "outputs": [],
   "source": [
    "def sim_matrix(a, b, eps=1e-8):\n",
    "    \"\"\"\n",
    "    added eps for numerical stability\n",
    "    \"\"\"\n",
    "    a_n, b_n = a.norm(dim=1)[:, None], b.norm(dim=1)[:, None]\n",
    "    a_norm = a / torch.clamp(a_n, min=eps)\n",
    "    b_norm = b / torch.clamp(b_n, min=eps)\n",
    "    sim_mt = torch.mm(a_norm, b_norm.transpose(0, 1))\n",
    "    return sim_mt"
   ]
  },
  {
   "cell_type": "code",
   "execution_count": 9,
   "id": "68b2f720-a581-4421-a1d8-828fc959c683",
   "metadata": {},
   "outputs": [
    {
     "name": "stderr",
     "output_type": "stream",
     "text": [
      "100%|██████████| 105/105 [01:25<00:00,  1.23it/s]\n"
     ]
    }
   ],
   "source": [
    "sim_list = list()\n",
    "chunk_size = 1_000\n",
    "i = 0\n",
    "defense_train_val_np = defense_train_val.to_numpy()\n",
    "B = torch.from_numpy(center_test_X.to_numpy()).to('cuda')\n",
    "for _ in tqdm(range(int(np.ceil(defense_train_val.shape[0]/chunk_size))), \n",
    "              position=0):\n",
    "    A = torch.from_numpy(defense_train_val_np[i:min(i+chunk_size, \n",
    "                                                    defense_train_val.shape[0]),:]).to('cuda')\n",
    "    similarity_matrix = sim_matrix(A, B)\n",
    "    numpy_sim_mat = similarity_matrix.data.cpu().numpy()\n",
    "    sim_list.append(numpy_sim_mat)\n",
    "    i += chunk_size"
   ]
  },
  {
   "cell_type": "code",
   "execution_count": 10,
   "id": "fc8d735b-25d6-474b-aeb5-be06f0d16131",
   "metadata": {},
   "outputs": [
    {
     "name": "stdout",
     "output_type": "stream",
     "text": [
      "CPU times: user 43.4 s, sys: 1min 42s, total: 2min 26s\n",
      "Wall time: 2min 28s\n"
     ]
    },
    {
     "data": {
      "text/plain": [
       "(104076, 176371)"
      ]
     },
     "execution_count": 10,
     "metadata": {},
     "output_type": "execute_result"
    }
   ],
   "source": [
    "%%time\n",
    "sim_mat = np.concatenate(sim_list)\n",
    "sim_mat.shape"
   ]
  },
  {
   "cell_type": "code",
   "execution_count": 11,
   "id": "d178785c-7a05-4cfc-838d-3b9a581448af",
   "metadata": {},
   "outputs": [],
   "source": [
    "del sim_list"
   ]
  },
  {
   "cell_type": "code",
   "execution_count": 12,
   "id": "50303881-4f55-4585-933c-73aeaa2de839",
   "metadata": {},
   "outputs": [],
   "source": [
    "test_max_similarity = sim_mat.max(axis=0)"
   ]
  },
  {
   "cell_type": "code",
   "execution_count": 13,
   "id": "7e36ca05-0920-4535-bf1b-df720c61c0b0",
   "metadata": {},
   "outputs": [
    {
     "data": {
      "text/plain": [
       "176371"
      ]
     },
     "execution_count": 13,
     "metadata": {},
     "output_type": "execute_result"
    }
   ],
   "source": [
    "len(test_max_similarity)"
   ]
  },
  {
   "cell_type": "code",
   "execution_count": 14,
   "id": "8505d33f-b1cb-44cf-9aa8-d3e61173b35e",
   "metadata": {},
   "outputs": [],
   "source": [
    "out_df = pd.DataFrame(test_max_similarity, columns=['cosine_similarity'])\n",
    "out_df.index = center_test_X.index"
   ]
  },
  {
   "cell_type": "code",
   "execution_count": 15,
   "id": "90b0099b-57fc-42e2-a666-3c42d160531b",
   "metadata": {},
   "outputs": [],
   "source": [
    "out_df.to_parquet('../data/interim/test_predictions_cosine_similarity.pq')"
   ]
  },
  {
   "cell_type": "code",
   "execution_count": null,
   "id": "087973d4-0bce-4aa0-93d4-093ba53c3d86",
   "metadata": {},
   "outputs": [],
   "source": []
  }
 ],
 "metadata": {
  "kernelspec": {
   "display_name": "beaker",
   "language": "python",
   "name": "beaker"
  },
  "language_info": {
   "codemirror_mode": {
    "name": "ipython",
    "version": 3
   },
   "file_extension": ".py",
   "mimetype": "text/x-python",
   "name": "python",
   "nbconvert_exporter": "python",
   "pygments_lexer": "ipython3",
   "version": "3.8.16"
  }
 },
 "nbformat": 4,
 "nbformat_minor": 5
}
