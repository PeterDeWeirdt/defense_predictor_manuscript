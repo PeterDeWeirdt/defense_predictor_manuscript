{
 "cells": [
  {
   "cell_type": "code",
   "execution_count": null,
   "id": "f20321a8-4cb6-4bb0-8f17-082e8fd964e9",
   "metadata": {},
   "outputs": [],
   "source": [
    "import pandas as pd\n",
    "import os"
   ]
  },
  {
   "cell_type": "code",
   "execution_count": null,
   "id": "31b1bf42-73ec-4a98-902f-2f4774efcb24",
   "metadata": {},
   "outputs": [],
   "source": [
    "all_library_info = pd.read_csv('../data3/interim/all_library_info.csv')\n",
    "v1_neg_info = pd.read_csv('../data/raw/Beaker rebuttal domains - hit_proteins.csv')\n",
    "ecor_predictions = pd.read_csv('../data3/interim/ecor_predictions.csv')"
   ]
  },
  {
   "cell_type": "code",
   "execution_count": null,
   "id": "7298c013-f04e-4e5c-bd38-699341ecca8f",
   "metadata": {},
   "outputs": [],
   "source": [
    "top_preds = (ecor_predictions.sort_values('mean_log_odds', ascending=False)\n",
    "             .groupby('cluster_id')\n",
    "             .head(1))"
   ]
  },
  {
   "cell_type": "code",
   "execution_count": null,
   "id": "a23cdb79-f4f5-47b2-841e-ed1306bf4ee1",
   "metadata": {},
   "outputs": [],
   "source": [
    "len(top_preds)"
   ]
  },
  {
   "cell_type": "code",
   "execution_count": null,
   "id": "346e5c03-fae8-49c6-9d30-964982509a2b",
   "metadata": {},
   "outputs": [],
   "source": [
    "cloned_preds = (ecor_predictions[ecor_predictions['product_accession']\n",
    "                                 .isin(all_library_info['product_accessions'].str.split(', ').explode()) |\n",
    "                                 ecor_predictions['product_accession']\n",
    "                                 .isin(v1_neg_info['product_accession'])])"
   ]
  },
  {
   "cell_type": "code",
   "execution_count": 19,
   "id": "7196d8ce-e6ad-4738-a22c-8724406b07b1",
   "metadata": {},
   "outputs": [
    {
     "data": {
      "text/plain": [
       "True"
      ]
     },
     "execution_count": 19,
     "metadata": {},
     "output_type": "execute_result"
    }
   ],
   "source": [
    "'WP_016240615.1' in cloned_preds['product_accession'].to_list()"
   ]
  },
  {
   "cell_type": "code",
   "execution_count": 17,
   "id": "0374ea05-a416-455e-b2cd-2cd713ab7a86",
   "metadata": {},
   "outputs": [
    {
     "data": {
      "text/plain": [
       "True"
      ]
     },
     "execution_count": 17,
     "metadata": {},
     "output_type": "execute_result"
    }
   ],
   "source": [
    "'WP_016240615.1' in all_library_info.loc[all_library_info['working_id'] == 'DISA', 'product_accessions'].str.split(', ').explode().to_list()"
   ]
  },
  {
   "cell_type": "code",
   "execution_count": 13,
   "id": "d3f536c2-32d0-4e64-b27d-ab01b7a81848",
   "metadata": {},
   "outputs": [
    {
     "data": {
      "text/html": [
       "<div>\n",
       "<style scoped>\n",
       "    .dataframe tbody tr th:only-of-type {\n",
       "        vertical-align: middle;\n",
       "    }\n",
       "\n",
       "    .dataframe tbody tr th {\n",
       "        vertical-align: top;\n",
       "    }\n",
       "\n",
       "    .dataframe thead th {\n",
       "        text-align: right;\n",
       "    }\n",
       "</style>\n",
       "<table border=\"1\" class=\"dataframe\">\n",
       "  <thead>\n",
       "    <tr style=\"text-align: right;\">\n",
       "      <th></th>\n",
       "      <th>genomic_accession</th>\n",
       "      <th>working_id</th>\n",
       "      <th>screened LB</th>\n",
       "      <th>fp</th>\n",
       "      <th>pBAD</th>\n",
       "      <th>library</th>\n",
       "      <th>random</th>\n",
       "      <th>curated</th>\n",
       "      <th>assembly</th>\n",
       "      <th>max_prediction</th>\n",
       "      <th>min_prediction</th>\n",
       "      <th>product_accessions</th>\n",
       "      <th>predictions</th>\n",
       "      <th>cds_start</th>\n",
       "      <th>cds_end</th>\n",
       "      <th>names</th>\n",
       "      <th>defensive</th>\n",
       "      <th>category</th>\n",
       "    </tr>\n",
       "  </thead>\n",
       "  <tbody>\n",
       "    <tr>\n",
       "      <th>52</th>\n",
       "      <td>NZ_RRVG01000003.1</td>\n",
       "      <td>DISA</td>\n",
       "      <td>True</td>\n",
       "      <td>False</td>\n",
       "      <td>False</td>\n",
       "      <td>novel</td>\n",
       "      <td>False</td>\n",
       "      <td>True</td>\n",
       "      <td>GCF_003886135.1</td>\n",
       "      <td>10.876906</td>\n",
       "      <td>-8.181025</td>\n",
       "      <td>WP_016240614.1, WP_016240615.1, WP_001593459.1</td>\n",
       "      <td>7.215807718709442, 10.876906098239663, -8.1810...</td>\n",
       "      <td>52840</td>\n",
       "      <td>56517</td>\n",
       "      <td>hypothetical protein, nucleotidyltransferase, ...</td>\n",
       "      <td>True</td>\n",
       "      <td>Validated defense</td>\n",
       "    </tr>\n",
       "  </tbody>\n",
       "</table>\n",
       "</div>"
      ],
      "text/plain": [
       "    genomic_accession working_id  screened LB     fp   pBAD library  random   \n",
       "52  NZ_RRVG01000003.1       DISA         True  False  False   novel   False  \\\n",
       "\n",
       "    curated         assembly  max_prediction  min_prediction   \n",
       "52     True  GCF_003886135.1       10.876906       -8.181025  \\\n",
       "\n",
       "                                product_accessions   \n",
       "52  WP_016240614.1, WP_016240615.1, WP_001593459.1  \\\n",
       "\n",
       "                                          predictions  cds_start  cds_end   \n",
       "52  7.215807718709442, 10.876906098239663, -8.1810...      52840    56517  \\\n",
       "\n",
       "                                                names  defensive   \n",
       "52  hypothetical protein, nucleotidyltransferase, ...       True  \\\n",
       "\n",
       "             category  \n",
       "52  Validated defense  "
      ]
     },
     "execution_count": 13,
     "metadata": {},
     "output_type": "execute_result"
    }
   ],
   "source": [
    "all_library_info[all_library_info['working_id'] == 'DISA']"
   ]
  },
  {
   "cell_type": "code",
   "execution_count": 20,
   "id": "4afddc2b-6ce2-4492-8a54-28430c751683",
   "metadata": {},
   "outputs": [],
   "source": [
    "cat_preds = (pd.concat([top_preds, \n",
    "                       cloned_preds])\n",
    "             .drop_duplicates())"
   ]
  },
  {
   "cell_type": "code",
   "execution_count": 21,
   "id": "ab270702-ed73-4b72-9b4a-a32663b7c880",
   "metadata": {},
   "outputs": [
    {
     "data": {
      "text/plain": [
       "11410"
      ]
     },
     "execution_count": 21,
     "metadata": {},
     "output_type": "execute_result"
    }
   ],
   "source": [
    "len(cat_preds)"
   ]
  },
  {
   "cell_type": "code",
   "execution_count": 22,
   "id": "f58c0fa0-45fe-43fc-a94f-b7ed0bac25ea",
   "metadata": {},
   "outputs": [],
   "source": [
    "unique_cat_pred_accs = cat_preds[['product_accession']].drop_duplicates()"
   ]
  },
  {
   "cell_type": "code",
   "execution_count": 29,
   "id": "3c2d42b8-69f4-4ff8-abf3-325335548584",
   "metadata": {},
   "outputs": [
    {
     "data": {
      "text/plain": [
       "11303"
      ]
     },
     "execution_count": 29,
     "metadata": {},
     "output_type": "execute_result"
    }
   ],
   "source": [
    "len(unique_cat_pred_accs)"
   ]
  },
  {
   "cell_type": "code",
   "execution_count": 30,
   "id": "e344a3c1-132c-4cca-bfdf-4b4a0a4e274b",
   "metadata": {},
   "outputs": [],
   "source": [
    "id_f = '../data3/interim/ecor_unique_plus_cloned_ids.txt'"
   ]
  },
  {
   "cell_type": "code",
   "execution_count": 31,
   "id": "71628e18-d7ff-45d2-b6aa-41092167422e",
   "metadata": {},
   "outputs": [],
   "source": [
    "unique_cat_pred_accs.to_csv(id_f, index=False, header=False)"
   ]
  },
  {
   "cell_type": "code",
   "execution_count": 32,
   "id": "2191fca5-0517-4ef6-9fbc-53e08a13c2fd",
   "metadata": {},
   "outputs": [],
   "source": [
    "faa_f = '../data3/interim/ecor_unique_plus_cloned_ids.faa'"
   ]
  },
  {
   "cell_type": "code",
   "execution_count": 33,
   "id": "cdfb1b1a-a2ea-4f41-b259-ccc32e58683a",
   "metadata": {},
   "outputs": [
    {
     "data": {
      "text/plain": [
       "0"
      ]
     },
     "execution_count": 33,
     "metadata": {},
     "output_type": "execute_result"
    }
   ],
   "source": [
    "os.system(' '.join(['conda run -n beaker', \n",
    "                    'seqtk subseq',\n",
    "                    '../data/interim/ecor_unique_seqs.faa', \n",
    "                        id_f, '>',\n",
    "                        faa_f]))"
   ]
  },
  {
   "cell_type": "code",
   "execution_count": null,
   "id": "39081cf0-d6bf-4741-a4e1-47a8a4401f75",
   "metadata": {},
   "outputs": [],
   "source": []
  }
 ],
 "metadata": {
  "kernelspec": {
   "display_name": "beaker",
   "language": "python",
   "name": "beaker"
  },
  "language_info": {
   "codemirror_mode": {
    "name": "ipython",
    "version": 3
   },
   "file_extension": ".py",
   "mimetype": "text/x-python",
   "name": "python",
   "nbconvert_exporter": "python",
   "pygments_lexer": "ipython3",
   "version": "3.8.16"
  }
 },
 "nbformat": 4,
 "nbformat_minor": 5
}
