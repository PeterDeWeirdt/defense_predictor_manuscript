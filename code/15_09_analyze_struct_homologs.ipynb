{
 "cells": [
  {
   "cell_type": "code",
   "execution_count": 2,
   "id": "88ebf0b0-72a7-4b87-94d8-f78ce0474b05",
   "metadata": {},
   "outputs": [],
   "source": [
    "import pandas as pd\n",
    "import seaborn as sns\n",
    "import matplotlib.pyplot as plt\n",
    "from core import med_log_odds_cutoff, bw_color_palette\n",
    "from tqdm import tqdm\n",
    "from matplotlib.ticker import FuncFormatter"
   ]
  },
  {
   "cell_type": "code",
   "execution_count": 3,
   "id": "8fa8297a-fdad-40c7-bb26-4a60129a9b09",
   "metadata": {},
   "outputs": [],
   "source": [
    "def select_domains(hhblits_df, prob_cutoff=50):\n",
    "    # Other Domains\n",
    "    out_list = []\n",
    "    for group, group_df in tqdm(hhblits_df[(hhblits_df['Prob'] > prob_cutoff)].groupby('query'), \n",
    "                                position=0, total=hhblits_df['query'].nunique()):\n",
    "        group_df = group_df.sort_values('Prob', ascending=False)\n",
    "        while len(group_df):\n",
    "            selected_row = group_df.head(1).squeeze()\n",
    "            out_list.append(selected_row)\n",
    "            group_df = group_df[(group_df['qend'] < selected_row['qstart']) |\n",
    "                                (group_df['qstart'] > selected_row['qend'])]\n",
    "    selected_domain_df = pd.concat(out_list, axis=1).T\n",
    "    return selected_domain_df"
   ]
  },
  {
   "cell_type": "code",
   "execution_count": 4,
   "id": "5c8cea4e-1a20-483e-be1d-43d7687817dd",
   "metadata": {},
   "outputs": [],
   "source": [
    "def to_percent_no_sign(x, pos):\n",
    "    return f\"{100 * x:.0f}\""
   ]
  },
  {
   "cell_type": "code",
   "execution_count": 5,
   "id": "2902213c-7882-492e-a094-6a329b28316f",
   "metadata": {},
   "outputs": [],
   "source": [
    "plt.rcParams['svg.fonttype'] = 'none'\n",
    "plt.rcParams['font.size'] = 7\n",
    "plt.rcParams['xtick.labelsize'] = 6\n",
    "plt.rcParams['ytick.labelsize'] = 6"
   ]
  },
  {
   "cell_type": "code",
   "execution_count": 6,
   "id": "d12cfda6-acab-4c66-8383-c3273b9ab5f2",
   "metadata": {},
   "outputs": [],
   "source": [
    "qcov=0.4"
   ]
  },
  {
   "cell_type": "code",
   "execution_count": 7,
   "id": "43a6b9c2-0649-4c86-b477-cc1179664d2b",
   "metadata": {},
   "outputs": [
    {
     "name": "stderr",
     "output_type": "stream",
     "text": [
      "/state/partition1/slurm_tmp/2712844.0.0/ipykernel_2502719/2108960330.py:3: DtypeWarning: Columns (24,30,35) have mixed types. Specify dtype option on import or set low_memory=False.\n",
      "  predictions = pd.read_csv('../data3/interim/ecor_predictions_defensive_cat.csv')\n"
     ]
    }
   ],
   "source": [
    "search_df = pd.read_table('../data3/interim/ecor_put_nov_df_rep_search.txt',\n",
    "                          names=[\"query\", \"target\", \"fident\", \"alnlen\", \"mismatch\", \"gapopen\", \"qstart\", \"qend\", \"tstart\", \"tend\", \"qcov\", \"tcov\", \"evalue\", \"bits\", \"alntmscore\", \"qtmscore\", \"ttmscore\", \"rmsd\", \"lddt\", \"prob\"])\n",
    "predictions = pd.read_csv('../data3/interim/ecor_predictions_defensive_cat.csv')\n",
    "hhpred_results = pd.read_csv('../data3/interim/ecor_putative_novel_pfam_df_domains.csv')\n",
    "pfam_clans = pd.read_table('../data/raw/Pfam-A.clans.tsv', \n",
    "                           names=['pfam_id', 'clan_id', 'clan_name', 'pfam_name', 'pfam_description'])"
   ]
  },
  {
   "cell_type": "code",
   "execution_count": 8,
   "id": "539665e5-1c3f-424b-95db-776b19806cb3",
   "metadata": {},
   "outputs": [],
   "source": [
    "blacklisted_domains = pd.read_csv('../data3/interim/df_blacklisted_domains.csv')"
   ]
  },
  {
   "cell_type": "code",
   "execution_count": 9,
   "id": "cccff3f4-ed5a-4ef4-a750-bdf3ecc11c13",
   "metadata": {},
   "outputs": [],
   "source": [
    "top_search_df = (search_df.sort_values('prob', ascending=False)\n",
    "                 .groupby('query')\n",
    "                 .head(1))"
   ]
  },
  {
   "cell_type": "code",
   "execution_count": 10,
   "id": "c1a11238-ab33-4029-8fa5-c57cb86941c6",
   "metadata": {},
   "outputs": [],
   "source": [
    "homolog_df = (top_search_df[top_search_df['prob'] > 0.6]\n",
    "              .reset_index(drop=True))"
   ]
  },
  {
   "cell_type": "code",
   "execution_count": 11,
   "id": "12ddef91-41a5-4ecf-813a-9c8f2945c8fc",
   "metadata": {},
   "outputs": [],
   "source": [
    "merged_predictions = (predictions\n",
    "                      .merge(homolog_df\n",
    "                             .rename(columns={'query': 'product_accession',\n",
    "                                              'target': 'foldseek_hit',\n",
    "                                              'prob': 'foldseek_prob',\n",
    "                                              'qcov': 'foldseek_q_cov'}), \n",
    "                             how='left', on='product_accession'))\n",
    "merged_predictions['foldseek_q_cov'] = merged_predictions['foldseek_q_cov'].fillna(0)"
   ]
  },
  {
   "cell_type": "code",
   "execution_count": 12,
   "id": "6281c98c-d0ae-4574-bd22-f7a6fd5ace70",
   "metadata": {},
   "outputs": [],
   "source": [
    "def assign_hit_category(row, cutoff=med_log_odds_cutoff, qcov=qcov):\n",
    "    if row['defense_system_protein']:\n",
    "        return 'Defense homolog in expected system'\n",
    "    elif row['mean_log_odds'] > cutoff:\n",
    "        if row['defense_homolog']:\n",
    "            return 'Defense homolog in new context'\n",
    "        elif (row['q_cov'] > qcov):\n",
    "            return 'Remote defense homolog'\n",
    "        elif(row['foldseek_q_cov'] > qcov):\n",
    "            return 'Structural defense homolog'\n",
    "        else: \n",
    "            return 'Predicted novel defense gene'\n",
    "    else:\n",
    "        return 'Not defensive'"
   ]
  },
  {
   "cell_type": "code",
   "execution_count": 13,
   "id": "a418dd77-e52e-4912-9b6b-364236ac299a",
   "metadata": {},
   "outputs": [],
   "source": [
    "merged_predictions['hit_category'] = merged_predictions.apply(assign_hit_category, axis=1)\n",
    "hit_categories = ['Defense homolog in expected system',\n",
    "                  'Defense homolog in new context', \n",
    "                  'Remote defense homolog', \n",
    "                  'Structural defense homolog',\n",
    "                  'Predicted novel defense gene', \n",
    "                  'Not defensive']\n",
    "merged_predictions['hit_category'] = pd.Categorical(merged_predictions['hit_category'], \n",
    "                                                    categories=hit_categories)"
   ]
  },
  {
   "cell_type": "code",
   "execution_count": null,
   "id": "cbb6518d-642e-42db-b282-9d2d56c50be0",
   "metadata": {},
   "outputs": [],
   "source": [
    "merged_predictions.to_csv('../data3/interim/ecor_predictions_defensive_cat2.csv', index=False)\n"
   ]
  },
  {
   "cell_type": "code",
   "execution_count": 14,
   "id": "446ec6b7-35b5-43cb-a207-e2e44a3d4323",
   "metadata": {},
   "outputs": [
    {
     "data": {
      "text/plain": [
       "hit_category\n",
       "Not defensive                         319225\n",
       "Defense homolog in new context          1009\n",
       "Predicted novel defense gene             496\n",
       "Defense homolog in expected system       395\n",
       "Remote defense homolog                   176\n",
       "Structural defense homolog                46\n",
       "Name: count, dtype: int64"
      ]
     },
     "execution_count": 14,
     "metadata": {},
     "output_type": "execute_result"
    }
   ],
   "source": [
    "merged_predictions['hit_category'].value_counts()"
   ]
  },
  {
   "cell_type": "code",
   "execution_count": 15,
   "id": "58b08875-a794-4bab-b987-d870a4207a53",
   "metadata": {},
   "outputs": [],
   "source": [
    "non_redundant_predictions = (merged_predictions\n",
    "                             .sort_values(['hit_category', 'mean_log_odds'], ascending=[True, False])\n",
    "                             .groupby('cluster_id')\n",
    "                             .head(1))"
   ]
  },
  {
   "cell_type": "code",
   "execution_count": 16,
   "id": "1adb1035-fc05-499b-91c2-2f4a9f5beb40",
   "metadata": {},
   "outputs": [
    {
     "data": {
      "text/plain": [
       "hit_category\n",
       "Not defensive                         10590\n",
       "Defense homolog in new context          219\n",
       "Predicted novel defense gene            168\n",
       "Defense homolog in expected system      152\n",
       "Remote defense homolog                  103\n",
       "Structural defense homolog               22\n",
       "Name: count, dtype: int64"
      ]
     },
     "execution_count": 16,
     "metadata": {},
     "output_type": "execute_result"
    }
   ],
   "source": [
    "non_redundant_predictions['hit_category'].value_counts()"
   ]
  },
  {
   "cell_type": "code",
   "execution_count": 17,
   "id": "47d590e8-2121-4c16-be6d-bc9f5919e3af",
   "metadata": {},
   "outputs": [
    {
     "data": {
      "text/plain": [
       "11254"
      ]
     },
     "execution_count": 17,
     "metadata": {},
     "output_type": "execute_result"
    }
   ],
   "source": [
    "len(non_redundant_predictions)"
   ]
  },
  {
   "cell_type": "code",
   "execution_count": 18,
   "id": "63f8c87c-0f50-499f-97e6-f24df560d9cd",
   "metadata": {},
   "outputs": [
    {
     "data": {
      "text/plain": [
       "1085"
      ]
     },
     "execution_count": 18,
     "metadata": {},
     "output_type": "execute_result"
    }
   ],
   "source": [
    "(non_redundant_predictions['mean_log_odds'] > 0).sum()"
   ]
  },
  {
   "cell_type": "code",
   "execution_count": 19,
   "id": "14f7a3b1-4adc-4b9a-b26c-674b7109db49",
   "metadata": {},
   "outputs": [
    {
     "data": {
      "text/plain": [
       "152"
      ]
     },
     "execution_count": 19,
     "metadata": {},
     "output_type": "execute_result"
    }
   ],
   "source": [
    "non_redundant_predictions['defense_system_protein'].sum()"
   ]
  },
  {
   "cell_type": "code",
   "execution_count": 20,
   "id": "295cbabc-ad53-4881-8780-cf86a846b2e8",
   "metadata": {},
   "outputs": [
    {
     "name": "stdout",
     "output_type": "stream",
     "text": [
      "Total # genes 11254\n",
      "# Genes with P > 0.5 1085\n",
      "Frac genes with P > 0.5 0.096\n",
      "# genes with LO > 4 624\n",
      "frac. genes with LO > 4 0.055\n"
     ]
    }
   ],
   "source": [
    "total_pred = len(non_redundant_predictions)\n",
    "print('Total # genes', total_pred)\n",
    "g_p5 = (non_redundant_predictions['mean_log_odds'] > 0).sum()\n",
    "print('# Genes with P > 0.5', g_p5)\n",
    "print('Frac genes with P > 0.5', round(g_p5/total_pred, 3))\n",
    "g_cutoff = (non_redundant_predictions['mean_log_odds'] > med_log_odds_cutoff).sum()\n",
    "print('# genes with LO >', round(med_log_odds_cutoff, 3), g_cutoff)\n",
    "print('frac. genes with LO >', round(med_log_odds_cutoff, 3), round(g_cutoff/total_pred, 3))\n"
   ]
  },
  {
   "cell_type": "code",
   "execution_count": 21,
   "id": "a38825ec-f1a2-4b53-8138-01f435544dc8",
   "metadata": {},
   "outputs": [
    {
     "data": {
      "image/png": "[encoded data removed]",
      "text/plain": [
       "<Figure size 200x200 with 1 Axes>"
      ]
     },
     "metadata": {},
     "output_type": "display_data"
    }
   ],
   "source": [
    "plt.subplots(figsize=(2,2))\n",
    "sns.histplot(non_redundant_predictions['mean_log_odds'], binwidth=1, \n",
    "             color='grey')\n",
    "plt.xlabel('Log odds of defense')\n",
    "plt.ylabel('# Genes')\n",
    "plt.axvline(x=med_log_odds_cutoff, linestyle='dashed', color='black')\n",
    "sns.despine()\n",
    "plt.savefig('../figures/hit_distribution_nr.svg', dpi=300, bbox_inches='tight')"
   ]
  },
  {
   "cell_type": "code",
   "execution_count": 22,
   "id": "78251295-94d6-44f0-ac41-ee9ab6db59cd",
   "metadata": {},
   "outputs": [],
   "source": [
    "filtered_nr_predictions = non_redundant_predictions[non_redundant_predictions['mean_log_odds'] > med_log_odds_cutoff].copy()\n",
    "filtered_nr_predictions['accession_stub'] = (filtered_nr_predictions['product_accession']\n",
    "                                          .str.split('.', expand=True)[0])\n",
    "filtered_nr_predictions['hit_category'] = filtered_nr_predictions['hit_category'].cat.remove_unused_categories()"
   ]
  },
  {
   "cell_type": "code",
   "execution_count": 23,
   "id": "2f1a59ea-791f-46ee-a1c1-3be4a4a55009",
   "metadata": {},
   "outputs": [
    {
     "data": {
      "text/plain": [
       "hit_category\n",
       "Defense homolog in new context        0.350962\n",
       "Predicted novel defense gene          0.269231\n",
       "Defense homolog in expected system    0.179487\n",
       "Remote defense homolog                0.165064\n",
       "Structural defense homolog            0.035256\n",
       "Name: count, dtype: float64"
      ]
     },
     "execution_count": 23,
     "metadata": {},
     "output_type": "execute_result"
    }
   ],
   "source": [
    "filtered_nr_predictions['hit_category'].value_counts()/len(filtered_nr_predictions)"
   ]
  },
  {
   "cell_type": "code",
   "execution_count": 24,
   "id": "cf816d36-12ba-43ec-a572-57ad4df0644f",
   "metadata": {},
   "outputs": [
    {
     "data": {
      "text/plain": [
       "hit_category\n",
       "Defense homolog in new context        219\n",
       "Predicted novel defense gene          168\n",
       "Defense homolog in expected system    112\n",
       "Remote defense homolog                103\n",
       "Structural defense homolog             22\n",
       "Name: count, dtype: int64"
      ]
     },
     "execution_count": 24,
     "metadata": {},
     "output_type": "execute_result"
    }
   ],
   "source": [
    "filtered_nr_predictions['hit_category'].value_counts()"
   ]
  },
  {
   "cell_type": "code",
   "execution_count": 25,
   "id": "19a66bab-7363-4cce-9696-d4207b6f36e3",
   "metadata": {},
   "outputs": [
    {
     "data": {
      "text/plain": [
       "152"
      ]
     },
     "execution_count": 25,
     "metadata": {},
     "output_type": "execute_result"
    }
   ],
   "source": [
    "non_redundant_predictions['defense_system_protein'].sum()"
   ]
  },
  {
   "cell_type": "code",
   "execution_count": 26,
   "id": "fc2ff4dc-344a-4648-920d-fd30aed8d971",
   "metadata": {},
   "outputs": [
    {
     "data": {
      "text/plain": [
       "defense_homolog_names\n",
       "RM_Type_IV__Type_IV_REases                                                                                                                  3\n",
       "CBASS__Phospholipase                                                                                                                        2\n",
       "CBASS__AG_E1_ThiF, CBASS__AG_E2_Prok-E2_B                                                                                                   2\n",
       "Shango__SngC, PsyrTA__PsyrT                                                                                                                 2\n",
       "dCTPdeaminase__dCTPdeaminase                                                                                                                2\n",
       "CBASS__Jab                                                                                                                                  1\n",
       "BREX__brxHII, DISARM_1__drmD                                                                                                                1\n",
       "Mokosh_TypeI__MkoB2                                                                                                                         1\n",
       "dGTPase__Sp_dGTPase                                                                                                                         1\n",
       "PD-T7-4__PD-T7-4                                                                                                                            1\n",
       "BstA__BstA                                                                                                                                  1\n",
       "PD-T4-9__PD-T4-9_C                                                                                                                          1\n",
       "Gabija__GajB_2                                                                                                                              1\n",
       "ShosTA__ShosA, PsyrTA__PsyrA                                                                                                                1\n",
       "BREX__pglW, Mokosh_TypeI__MkoA, PD-T4-6__PD-T4-6                                                                                            1\n",
       "Gabija__GajB_3, Gabija__GajB_2, Gabija__GajB_1                                                                                              1\n",
       "Mok_Hok_Sok__Hok                                                                                                                            1\n",
       "BREX__pglW, Mokosh_TypeI__MkoA2                                                                                                             1\n",
       "Cas__cas7f_I-F_1, Cas__cas7f_I-F_2                                                                                                          1\n",
       "Wadjet__JetC_II, PD-Lambda-1__PD-Lambda-1                                                                                                   1\n",
       "SoFic__SoFic                                                                                                                                1\n",
       "PD-Lambda-6__PD-Lambda-6                                                                                                                    1\n",
       "Cas__cas2_I-E_2, Cas__cas2_I_II_III_IV_V_VI_4, Cas__cas2_I-E_1                                                                              1\n",
       "Cas__cas3_I_2, Cas__cas3HD_I_1, Cas__cas3_I_5                                                                                               1\n",
       "Mokosh_TypeI__MkoB, Mokosh_TypeI__MkoB2                                                                                                     1\n",
       "PD-T4-9__PD-T4-9_A                                                                                                                          1\n",
       "CBASS__A_Cyclase_AGS_C, Pycsar__AG_cyclase                                                                                                  1\n",
       "PD-Lambda-5__PD-Lambda-5_B, RM_Type_II__Type_II_MTases                                                                                      1\n",
       "PD-Lambda-2__PD-Lambda-2_A                                                                                                                  1\n",
       "Cas__cas1_I_II_III_IV_V_VI_1, Cas__cas1_I_II_III_IV_V_VI_8, Cas__cas1_I_II_III_IV_V_VI_10, Cas__cas1_I-F_1, Cas__cas1_I_II_III_IV_V_VI_2    1\n",
       "AbiEii__AbiEi_3                                                                                                                             1\n",
       "PD-T4-1__PD-T4-1                                                                                                                            1\n",
       "RM_Type_II__Type_II_REases                                                                                                                  1\n",
       "RM_Type_II__Type_II_MTases                                                                                                                  1\n",
       "Name: count, dtype: int64"
      ]
     },
     "execution_count": 26,
     "metadata": {},
     "output_type": "execute_result"
    }
   ],
   "source": [
    "non_redundant_predictions.loc[(non_redundant_predictions['mean_log_odds'] <= med_log_odds_cutoff) & \n",
    "            (non_redundant_predictions['defense_system_protein']), 'defense_homolog_names'].value_counts()"
   ]
  },
  {
   "cell_type": "code",
   "execution_count": 27,
   "id": "e3fe419c-c80c-4aa4-86ce-50e1754d1824",
   "metadata": {},
   "outputs": [],
   "source": [
    "novel_pred_df = (filtered_nr_predictions[filtered_nr_predictions['hit_category'] == 'Predicted novel defense gene']\n",
    "                 .sort_values('q_cov', ascending=True)\n",
    "                 .reset_index(drop=True))\n",
    "novel_pred_df['present'] = 1\n",
    "novel_pred_df['n_proteins'] = novel_pred_df['present'].cumsum()"
   ]
  },
  {
   "cell_type": "code",
   "execution_count": 28,
   "id": "608bbe1f-3121-4c98-b30c-9a1d8066ef4c",
   "metadata": {},
   "outputs": [
    {
     "data": {
      "image/png": "[encoded data removed]",
      "text/plain": [
       "<Figure size 200x200 with 1 Axes>"
      ]
     },
     "metadata": {},
     "output_type": "display_data"
    }
   ],
   "source": [
    "plt.subplots(figsize=(2,2))\n",
    "sns.histplot(data=novel_pred_df, \n",
    "             x='q_cov', binwidth=0.1, color='#f0e442', alpha=1)\n",
    "plt.xlabel('Predicted defense protein coverage\\nagainst known defense protein')\n",
    "sns.despine()\n",
    "plt.savefig('../figures/novel_coverage_nr.svg', dpi=300, bbox_inches='tight')"
   ]
  },
  {
   "cell_type": "code",
   "execution_count": 29,
   "id": "4ffbfa03-55a7-49b0-8d36-d2154f7e17cc",
   "metadata": {},
   "outputs": [],
   "source": [
    "novel_cov_abundance = (novel_pred_df\n",
    "                       .groupby('q_cov')\n",
    "                       .agg(n_proteins=('product_accession', 'count'))\n",
    "                       .reset_index()\n",
    "                       .sort_values('q_cov'))\n",
    "novel_cov_abundance['tot_n_proteins'] = novel_cov_abundance['n_proteins'].cumsum()"
   ]
  },
  {
   "cell_type": "code",
   "execution_count": 30,
   "id": "d639e007-c9cf-45ed-86af-f4bd5d724c9a",
   "metadata": {},
   "outputs": [
    {
     "data": {
      "text/html": [
       "<div>\n",
       "<style scoped>\n",
       "    .dataframe tbody tr th:only-of-type {\n",
       "        vertical-align: middle;\n",
       "    }\n",
       "\n",
       "    .dataframe tbody tr th {\n",
       "        vertical-align: top;\n",
       "    }\n",
       "\n",
       "    .dataframe thead th {\n",
       "        text-align: right;\n",
       "    }\n",
       "</style>\n",
       "<table border=\"1\" class=\"dataframe\">\n",
       "  <thead>\n",
       "    <tr style=\"text-align: right;\">\n",
       "      <th></th>\n",
       "      <th>q_cov</th>\n",
       "      <th>n_proteins</th>\n",
       "      <th>tot_n_proteins</th>\n",
       "    </tr>\n",
       "  </thead>\n",
       "  <tbody>\n",
       "    <tr>\n",
       "      <th>0</th>\n",
       "      <td>0.000000</td>\n",
       "      <td>103</td>\n",
       "      <td>103</td>\n",
       "    </tr>\n",
       "    <tr>\n",
       "      <th>1</th>\n",
       "      <td>0.065000</td>\n",
       "      <td>1</td>\n",
       "      <td>104</td>\n",
       "    </tr>\n",
       "    <tr>\n",
       "      <th>2</th>\n",
       "      <td>0.098160</td>\n",
       "      <td>1</td>\n",
       "      <td>105</td>\n",
       "    </tr>\n",
       "    <tr>\n",
       "      <th>3</th>\n",
       "      <td>0.100000</td>\n",
       "      <td>1</td>\n",
       "      <td>106</td>\n",
       "    </tr>\n",
       "    <tr>\n",
       "      <th>4</th>\n",
       "      <td>0.102894</td>\n",
       "      <td>1</td>\n",
       "      <td>107</td>\n",
       "    </tr>\n",
       "    <tr>\n",
       "      <th>...</th>\n",
       "      <td>...</td>\n",
       "      <td>...</td>\n",
       "      <td>...</td>\n",
       "    </tr>\n",
       "    <tr>\n",
       "      <th>61</th>\n",
       "      <td>0.390110</td>\n",
       "      <td>1</td>\n",
       "      <td>164</td>\n",
       "    </tr>\n",
       "    <tr>\n",
       "      <th>62</th>\n",
       "      <td>0.392505</td>\n",
       "      <td>1</td>\n",
       "      <td>165</td>\n",
       "    </tr>\n",
       "    <tr>\n",
       "      <th>63</th>\n",
       "      <td>0.396142</td>\n",
       "      <td>1</td>\n",
       "      <td>166</td>\n",
       "    </tr>\n",
       "    <tr>\n",
       "      <th>64</th>\n",
       "      <td>0.397213</td>\n",
       "      <td>1</td>\n",
       "      <td>167</td>\n",
       "    </tr>\n",
       "    <tr>\n",
       "      <th>65</th>\n",
       "      <td>0.398649</td>\n",
       "      <td>1</td>\n",
       "      <td>168</td>\n",
       "    </tr>\n",
       "  </tbody>\n",
       "</table>\n",
       "<p>66 rows × 3 columns</p>\n",
       "</div>"
      ],
      "text/plain": [
       "       q_cov  n_proteins  tot_n_proteins\n",
       "0   0.000000         103             103\n",
       "1   0.065000           1             104\n",
       "2   0.098160           1             105\n",
       "3   0.100000           1             106\n",
       "4   0.102894           1             107\n",
       "..       ...         ...             ...\n",
       "61  0.390110           1             164\n",
       "62  0.392505           1             165\n",
       "63  0.396142           1             166\n",
       "64  0.397213           1             167\n",
       "65  0.398649           1             168\n",
       "\n",
       "[66 rows x 3 columns]"
      ]
     },
     "execution_count": 30,
     "metadata": {},
     "output_type": "execute_result"
    }
   ],
   "source": [
    "novel_cov_abundance"
   ]
  },
  {
   "cell_type": "code",
   "execution_count": 31,
   "id": "f0d9d336-8069-487e-bcc2-c65179028eed",
   "metadata": {},
   "outputs": [
    {
     "data": {
      "image/png": "[encoded data removed]",
      "text/plain": [
       "<Figure size 180x180 with 1 Axes>"
      ]
     },
     "metadata": {},
     "output_type": "display_data"
    }
   ],
   "source": [
    "plt.subplots(figsize=(1.8,1.8))\n",
    "sns.lineplot(data=novel_cov_abundance,\n",
    "             x='q_cov', y='tot_n_proteins', color='#f0e442', alpha=1)\n",
    "plt.xlabel('Predicted defense protein coverage\\nagainst known defense protein')\n",
    "plt.ylabel('Cumulative number of proteins\\nbelow coverage cutoff')\n",
    "sns.despine()\n",
    "plt.ylim(0, novel_cov_abundance['tot_n_proteins'].max() + 1)\n",
    "plt.savefig('../figures/novel_coverage_cumsum_nr.svg', dpi=300, bbox_inches='tight')"
   ]
  },
  {
   "cell_type": "code",
   "execution_count": 32,
   "id": "da0e38d3-022a-466b-adf5-4050ad289d7e",
   "metadata": {},
   "outputs": [
    {
     "data": {
      "text/plain": [
       "103"
      ]
     },
     "execution_count": 32,
     "metadata": {},
     "output_type": "execute_result"
    }
   ],
   "source": [
    "(novel_pred_df['q_cov'] == 0).sum()"
   ]
  },
  {
   "cell_type": "code",
   "execution_count": 33,
   "id": "25d9c60d-ab5a-40eb-b24b-427406e4de39",
   "metadata": {},
   "outputs": [
    {
     "data": {
      "text/plain": [
       "65"
      ]
     },
     "execution_count": 33,
     "metadata": {},
     "output_type": "execute_result"
    }
   ],
   "source": [
    "((novel_pred_df['q_cov'] > 0) & (novel_pred_df['q_cov'] < 0.4)).sum()"
   ]
  },
  {
   "cell_type": "code",
   "execution_count": 34,
   "id": "8cc7c4e3-dd9b-4210-8258-ecc1290daae0",
   "metadata": {},
   "outputs": [
    {
     "data": {
      "text/plain": [
       "106"
      ]
     },
     "execution_count": 34,
     "metadata": {},
     "output_type": "execute_result"
    }
   ],
   "source": [
    "(novel_pred_df['q_cov'] <= 0.1).sum()"
   ]
  },
  {
   "cell_type": "code",
   "execution_count": 35,
   "id": "35117c6e-d878-47b6-a521-aa14d84f3ed0",
   "metadata": {},
   "outputs": [
    {
     "data": {
      "text/plain": [
       "103"
      ]
     },
     "execution_count": 35,
     "metadata": {},
     "output_type": "execute_result"
    }
   ],
   "source": [
    "((novel_pred_df['q_cov'] == 0) & (novel_pred_df['foldseek_q_cov'] == 0)).sum()"
   ]
  },
  {
   "cell_type": "code",
   "execution_count": 36,
   "id": "407e2a24-d070-4ef1-a3d2-4e66230ae646",
   "metadata": {},
   "outputs": [],
   "source": [
    "color_palette = sns.color_palette(['#e69f00', '#56b4e9', '#009e73', '#0072b2','#f0e442'])"
   ]
  },
  {
   "cell_type": "code",
   "execution_count": 37,
   "id": "03d4fba5-721d-4594-bb5d-43e6e7234845",
   "metadata": {},
   "outputs": [
    {
     "data": {
      "image/png": "[encoded data removed]",
      "text/plain": [
       "<Figure size 50x200 with 1 Axes>"
      ]
     },
     "metadata": {},
     "output_type": "display_data"
    }
   ],
   "source": [
    "_, ax = plt.subplots(figsize=(0.5, 2))\n",
    "ax = sns.histplot(data=filtered_nr_predictions, x=0, \n",
    "             hue='hit_category', \n",
    "             multiple='stack', \n",
    "             palette=color_palette, ax=ax, )\n",
    "sns.move_legend(ax, bbox_to_anchor=(1.05, 1), loc='upper left')\n",
    "sns.despine()\n",
    "plt.xticks([])\n",
    "plt.xlabel('')\n",
    "plt.savefig('../figures/predicted_defense_known_frac_nr.svg', dpi=300, bbox_inches='tight')"
   ]
  },
  {
   "cell_type": "code",
   "execution_count": 38,
   "id": "fd80a542-789a-4998-ab3f-0289c3c4241c",
   "metadata": {},
   "outputs": [],
   "source": [
    "pfam_results = hhpred_results[(hhpred_results['hit_name'].str[:2] == 'PF') & \n",
    "                              (hhpred_results['Prob'] > 50)].copy()\n",
    "pfam_results['pfam_id'] = pfam_results['hit_name'].str.split('.', expand=True)[0]\n",
    "pfam_results = pfam_results.merge(pfam_clans, how='left', on='pfam_id')"
   ]
  },
  {
   "cell_type": "code",
   "execution_count": 39,
   "id": "c62e2423-87a3-477b-9a4c-3df479f97a0d",
   "metadata": {},
   "outputs": [],
   "source": [
    "nr_novel_accessions = novel_pred_df['product_accession']\n",
    "nr_novel_pfam_results = pfam_results[pfam_results['query'].isin(nr_novel_accessions)]\n",
    "nr_novel_pfam_clans = (nr_novel_pfam_results[['query', 'clan_name']]\n",
    "                    .drop_duplicates())"
   ]
  },
  {
   "cell_type": "code",
   "execution_count": 40,
   "id": "999c18db-310d-408c-9fa7-2b966cd0b2a6",
   "metadata": {},
   "outputs": [
    {
     "name": "stderr",
     "output_type": "stream",
     "text": [
      "100%|██████████| 128/128 [00:00<00:00, 563.08it/s]\n"
     ]
    }
   ],
   "source": [
    "nr_select_novel_pfam_domains = select_domains(nr_novel_pfam_results)"
   ]
  },
  {
   "cell_type": "code",
   "execution_count": 41,
   "id": "af8046bf-f2bc-4b43-868d-163767e0e573",
   "metadata": {},
   "outputs": [
    {
     "data": {
      "text/plain": [
       "pfam_name       clan_name     \n",
       "RepB-RCR_reg    Met_repress       7\n",
       "NinG            His-Me_finger     5\n",
       "IIGP            P-loop_NTPase     3\n",
       "Response_reg_2  CheY              3\n",
       "HATPase_c_5     His_Kinase_A      3\n",
       "Dynamin_N       P-loop_NTPase     3\n",
       "AAA_35          P-loop_NTPase     2\n",
       "DpnII-MboI      PDDEXK            2\n",
       "KicB            HTH               2\n",
       "ATP-synt_B      ATP_synthase      2\n",
       "PDDEXK_4        PDDEXK            2\n",
       "PIN             PIN               2\n",
       "Metallophos_3   Calcineurin       2\n",
       "Mrr_cat_2       PDDEXK            2\n",
       "Polbeta         NTP_transf        2\n",
       "RNA12           P-loop_NTPase     1\n",
       "pP_pnuc_2       SPOCS             1\n",
       "pEK499_p136     KNTase_C          1\n",
       "NERD            PDDEXK            1\n",
       "NinF            Zn_Beta_Ribbon    1\n",
       "Name: count, dtype: int64"
      ]
     },
     "execution_count": 41,
     "metadata": {},
     "output_type": "execute_result"
    }
   ],
   "source": [
    "(nr_select_novel_pfam_domains[['query','pfam_name', 'clan_name']].drop_duplicates()\n",
    " [['pfam_name', 'clan_name']]\n",
    " .value_counts()\n",
    " .head(20))"
   ]
  },
  {
   "cell_type": "code",
   "execution_count": 42,
   "id": "6de5b93c-a6ac-40ec-a0b6-989fe815f465",
   "metadata": {},
   "outputs": [],
   "source": [
    "nr_novel_pfam_clan_count = (nr_select_novel_pfam_domains.groupby('clan_name')\n",
    "                         .agg(count=('query', 'nunique'))\n",
    "                         .rename(index={'P-loop_NTPase': 'P-loop NTPase', \n",
    "                                        'PDDEXK': 'PDDEXK nuclease', \n",
    "                                        'PEP-carboxyk': 'PEP carboxykinase',\n",
    "                                        'Met_repress': 'RHH antitoxin DNA binding', \n",
    "                                        'KNTase_C': 'HEPN', \n",
    "                                        'His-Me_finger': 'HNH endonuclease', \n",
    "                                        'Zn_Beta_Ribbon': 'Zinc finger', \n",
    "                                        'His_Kinase_A': 'His kinase phospho-acceptor', \n",
    "                                        'CheY': 'Response regulator'})\n",
    "                         .sort_values('count', ascending=False)\n",
    "                         .reset_index())\n",
    "nr_novel_pfam_clan_count['freq'] = nr_novel_pfam_clan_count['count']/len(nr_novel_accessions)"
   ]
  },
  {
   "cell_type": "code",
   "execution_count": 43,
   "id": "b9b3fb50-2340-4538-8ef7-508ba5625020",
   "metadata": {},
   "outputs": [
    {
     "data": {
      "image/png": "[encoded data removed]",
      "text/plain": [
       "<Figure size 180x180 with 1 Axes>"
      ]
     },
     "metadata": {},
     "output_type": "display_data"
    }
   ],
   "source": [
    "plt.subplots(figsize=(1.8,1.8))\n",
    "sns.barplot(data=nr_novel_pfam_clan_count.head(8), x='clan_name', y='freq', \n",
    "            color=bw_color_palette[3], linewidth=0.5, edgecolor='black', saturation=100)\n",
    "sns.despine()\n",
    "plt.xticks(rotation=45, ha='right')\n",
    "plt.ylabel('% of proteins')\n",
    "plt.xlabel('')\n",
    "plt.gca().yaxis.set_major_formatter(FuncFormatter(to_percent_no_sign))\n",
    "plt.title('Common domains')\n",
    "plt.savefig('../figures/predicted_novel_defense_domains_nr.svg', dpi=300, bbox_inches='tight')"
   ]
  },
  {
   "cell_type": "code",
   "execution_count": 44,
   "id": "064d320d-2682-46ca-8717-dc78a27e70e1",
   "metadata": {},
   "outputs": [
    {
     "data": {
      "text/html": [
       "<div>\n",
       "<style scoped>\n",
       "    .dataframe tbody tr th:only-of-type {\n",
       "        vertical-align: middle;\n",
       "    }\n",
       "\n",
       "    .dataframe tbody tr th {\n",
       "        vertical-align: top;\n",
       "    }\n",
       "\n",
       "    .dataframe thead th {\n",
       "        text-align: right;\n",
       "    }\n",
       "</style>\n",
       "<table border=\"1\" class=\"dataframe\">\n",
       "  <thead>\n",
       "    <tr style=\"text-align: right;\">\n",
       "      <th></th>\n",
       "      <th>clan_name</th>\n",
       "      <th>count</th>\n",
       "      <th>freq</th>\n",
       "    </tr>\n",
       "  </thead>\n",
       "  <tbody>\n",
       "    <tr>\n",
       "      <th>0</th>\n",
       "      <td>PDDEXK nuclease</td>\n",
       "      <td>15</td>\n",
       "      <td>0.089286</td>\n",
       "    </tr>\n",
       "    <tr>\n",
       "      <th>1</th>\n",
       "      <td>P-loop NTPase</td>\n",
       "      <td>8</td>\n",
       "      <td>0.047619</td>\n",
       "    </tr>\n",
       "    <tr>\n",
       "      <th>2</th>\n",
       "      <td>RHH antitoxin DNA binding</td>\n",
       "      <td>7</td>\n",
       "      <td>0.041667</td>\n",
       "    </tr>\n",
       "    <tr>\n",
       "      <th>3</th>\n",
       "      <td>HEPN</td>\n",
       "      <td>7</td>\n",
       "      <td>0.041667</td>\n",
       "    </tr>\n",
       "    <tr>\n",
       "      <th>4</th>\n",
       "      <td>HNH endonuclease</td>\n",
       "      <td>6</td>\n",
       "      <td>0.035714</td>\n",
       "    </tr>\n",
       "    <tr>\n",
       "      <th>5</th>\n",
       "      <td>PIN</td>\n",
       "      <td>5</td>\n",
       "      <td>0.029762</td>\n",
       "    </tr>\n",
       "    <tr>\n",
       "      <th>6</th>\n",
       "      <td>HTH</td>\n",
       "      <td>4</td>\n",
       "      <td>0.023810</td>\n",
       "    </tr>\n",
       "    <tr>\n",
       "      <th>7</th>\n",
       "      <td>Response regulator</td>\n",
       "      <td>3</td>\n",
       "      <td>0.017857</td>\n",
       "    </tr>\n",
       "  </tbody>\n",
       "</table>\n",
       "</div>"
      ],
      "text/plain": [
       "                   clan_name  count      freq\n",
       "0            PDDEXK nuclease     15  0.089286\n",
       "1              P-loop NTPase      8  0.047619\n",
       "2  RHH antitoxin DNA binding      7  0.041667\n",
       "3                       HEPN      7  0.041667\n",
       "4           HNH endonuclease      6  0.035714\n",
       "5                        PIN      5  0.029762\n",
       "6                        HTH      4  0.023810\n",
       "7         Response regulator      3  0.017857"
      ]
     },
     "execution_count": 44,
     "metadata": {},
     "output_type": "execute_result"
    }
   ],
   "source": [
    "nr_novel_pfam_clan_count.head(8)"
   ]
  },
  {
   "cell_type": "code",
   "execution_count": 45,
   "id": "0c6465cb-8fea-47a6-9835-625e3f44de56",
   "metadata": {},
   "outputs": [],
   "source": [
    "novel_cluster_known_domains_n = nr_select_novel_pfam_domains.loc[nr_select_novel_pfam_domains['pfam_id']\n",
    "                                 .isin(blacklisted_domains['pfam_id']), 'query'].nunique()"
   ]
  },
  {
   "cell_type": "code",
   "execution_count": 46,
   "id": "d09056dc-fa28-41d3-900f-56583bbda9e9",
   "metadata": {},
   "outputs": [
    {
     "data": {
      "text/plain": [
       "83"
      ]
     },
     "execution_count": 46,
     "metadata": {},
     "output_type": "execute_result"
    }
   ],
   "source": [
    "novel_cluster_known_domains_n"
   ]
  },
  {
   "cell_type": "code",
   "execution_count": 47,
   "id": "236afd83-d37c-4f97-827b-c15a249a0c5c",
   "metadata": {},
   "outputs": [
    {
     "data": {
      "text/plain": [
       "168"
      ]
     },
     "execution_count": 47,
     "metadata": {},
     "output_type": "execute_result"
    }
   ],
   "source": [
    "len(nr_novel_accessions)"
   ]
  },
  {
   "cell_type": "code",
   "execution_count": 48,
   "id": "604bae8b-72d2-4f8a-8beb-7a2541f0ed4e",
   "metadata": {},
   "outputs": [
    {
     "data": {
      "text/plain": [
       "0.49404761904761907"
      ]
     },
     "execution_count": 48,
     "metadata": {},
     "output_type": "execute_result"
    }
   ],
   "source": [
    "novel_cluster_known_domains_n/len(nr_novel_accessions)"
   ]
  },
  {
   "cell_type": "code",
   "execution_count": 49,
   "id": "7d05e921-f68a-44e3-9fa2-26389b25d616",
   "metadata": {},
   "outputs": [],
   "source": [
    "cluster_n_genomes = (predictions.groupby('cluster_id')\n",
    "                     .agg(n_genomes=('assembly', 'nunique'))\n",
    "                     .reset_index())\n",
    "predicted_novel_defense_clusters = merged_predictions.loc[merged_predictions['hit_category'] == 'Predicted novel defense gene', \n",
    "                                                          ['cluster_id']].drop_duplicates()\n",
    "pnd_clusters_n_genomes = (predicted_novel_defense_clusters.merge(cluster_n_genomes, \n",
    "                                                                how='inner', on='cluster_id'))\n",
    "pnd_clusters_n_genomes['category'] = 'Predicted novel\\ndefense genes'\n",
    "known_defense_clusters = predictions.loc[predictions['defense_system_protein'], \n",
    "                                         ['cluster_id']].drop_duplicates()\n",
    "kd_clusters_n_genomes = (known_defense_clusters.merge(cluster_n_genomes, \n",
    "                                                      how='inner', on='cluster_id'))\n",
    "kd_clusters_n_genomes['category'] = 'All defense homologs\\nin expected systems'\n",
    "cluster_n_genomes['category'] = 'All genes'\n",
    "cluster_categories_n_genomes = pd.concat([cluster_n_genomes, pnd_clusters_n_genomes, kd_clusters_n_genomes], axis=0)\n",
    "cluster_categories_n_genomes['category'] = pd.Categorical(cluster_categories_n_genomes['category'], \n",
    "                                                              categories=['All genes',\n",
    "                                                                  'All defense homologs\\nin expected systems',\n",
    "                                                                'Predicted novel\\ndefense genes'])"
   ]
  },
  {
   "cell_type": "code",
   "execution_count": 50,
   "id": "23a9a57e-5ffe-49cc-92c8-7f1cf48c5a44",
   "metadata": {},
   "outputs": [],
   "source": [
    "cluster_n_genomes = (predictions.groupby('cluster_id')\n",
    "                     .agg(n_genomes=('assembly', 'nunique'))\n",
    "                     .reset_index())\n",
    "cluster_n_genomes['category'] = 'All protein clusters'\n",
    "novel_clusters = non_redundant_predictions.loc[non_redundant_predictions[\"hit_category\"] == 'Predicted novel defense gene', \n",
    "                                               'cluster_id']\n",
    "novel_n_genomes = cluster_n_genomes[cluster_n_genomes['cluster_id'].isin(novel_clusters)].copy()\n",
    "novel_n_genomes['category'] = 'Predicted novel defense'\n",
    "known_clusters = non_redundant_predictions.loc[non_redundant_predictions[\"hit_category\"] == 'Defense homolog in expected system', \n",
    "                                               'cluster_id']\n",
    "known_n_genomes = cluster_n_genomes[cluster_n_genomes['cluster_id'].isin(known_clusters)].copy()\n",
    "known_n_genomes['category'] = 'Defense homologs in expected system'\n",
    "cluster_categories_n_genomes = pd.concat([cluster_n_genomes, novel_n_genomes, known_n_genomes], axis=0)\n",
    "cluster_categories_n_genomes['category'] = pd.Categorical(cluster_categories_n_genomes['category'], \n",
    "                                                              categories=['All protein clusters',\n",
    "                                                                  'Defense homologs in expected system',\n",
    "                                                                'Predicted novel defense'])"
   ]
  },
  {
   "cell_type": "code",
   "execution_count": 51,
   "id": "7dc13b83-fe7d-470a-ae87-9040637c7c64",
   "metadata": {},
   "outputs": [],
   "source": [
    "cluster_categories_n_genomes['accessory_gene'] = cluster_categories_n_genomes['n_genomes'] <= 5"
   ]
  },
  {
   "cell_type": "code",
   "execution_count": 52,
   "id": "179555db-a50c-422e-b68d-b4d90fec8391",
   "metadata": {},
   "outputs": [
    {
     "data": {
      "text/html": [
       "<div>\n",
       "<style scoped>\n",
       "    .dataframe tbody tr th:only-of-type {\n",
       "        vertical-align: middle;\n",
       "    }\n",
       "\n",
       "    .dataframe tbody tr th {\n",
       "        vertical-align: top;\n",
       "    }\n",
       "\n",
       "    .dataframe thead th {\n",
       "        text-align: right;\n",
       "    }\n",
       "</style>\n",
       "<table border=\"1\" class=\"dataframe\">\n",
       "  <thead>\n",
       "    <tr style=\"text-align: right;\">\n",
       "      <th></th>\n",
       "      <th>frac_accessory</th>\n",
       "    </tr>\n",
       "    <tr>\n",
       "      <th>category</th>\n",
       "      <th></th>\n",
       "    </tr>\n",
       "  </thead>\n",
       "  <tbody>\n",
       "    <tr>\n",
       "      <th>All protein clusters</th>\n",
       "      <td>0.521237</td>\n",
       "    </tr>\n",
       "    <tr>\n",
       "      <th>Defense homologs in expected system</th>\n",
       "      <td>0.697368</td>\n",
       "    </tr>\n",
       "    <tr>\n",
       "      <th>Predicted novel defense</th>\n",
       "      <td>0.892857</td>\n",
       "    </tr>\n",
       "  </tbody>\n",
       "</table>\n",
       "</div>"
      ],
      "text/plain": [
       "                                     frac_accessory\n",
       "category                                           \n",
       "All protein clusters                       0.521237\n",
       "Defense homologs in expected system        0.697368\n",
       "Predicted novel defense                    0.892857"
      ]
     },
     "execution_count": 52,
     "metadata": {},
     "output_type": "execute_result"
    }
   ],
   "source": [
    "(cluster_categories_n_genomes.groupby('category')\n",
    " .agg(frac_accessory=('accessory_gene', lambda x: x.sum()/len(x))))"
   ]
  },
  {
   "cell_type": "code",
   "execution_count": 53,
   "id": "f7097111-ff0a-4ff9-ac0c-c8833a7fcb5d",
   "metadata": {},
   "outputs": [
    {
     "data": {
      "image/png": "[encoded data removed]",
      "text/plain": [
       "<Figure size 540x200 with 3 Axes>"
      ]
     },
     "metadata": {},
     "output_type": "display_data"
    }
   ],
   "source": [
    "g = sns.displot(data=cluster_categories_n_genomes, x='n_genomes', binwidth=2, \n",
    "                hue='category', palette=(['grey', '#e69f00', '#f0e442']), \n",
    "                col='category', kind='hist', facet_kws={'sharey': False}, \n",
    "                alpha=1, height=2, legend=False, aspect=0.9)\n",
    "g.set_titles(template='{col_name}')\n",
    "g.set_xlabels('# Genomes')\n",
    "g.set_ylabels('# Protein clusters')\n",
    "g.figure.subplots_adjust(wspace=0.3)\n",
    "plt.savefig('../figures/cluster_distribution.svg', dpi=300, bbox_inches='tight')"
   ]
  },
  {
   "cell_type": "code",
   "execution_count": 54,
   "id": "6f8dc895-d6be-42d3-84a2-1e757508275a",
   "metadata": {},
   "outputs": [],
   "source": [
    "nr_select_novel_pfam_domains.to_csv('../data3/interim/ecor_unique_novel_pfam_domains.csv', index=False)"
   ]
  },
  {
   "cell_type": "code",
   "execution_count": 55,
   "id": "22cd4061-8e5f-45a6-b83d-14cc2c11225a",
   "metadata": {},
   "outputs": [],
   "source": [
    "novel_pred_df.to_csv('../data3/interim/ecor_unique_novel_proteins.csv', index=False)"
   ]
  },
  {
   "cell_type": "code",
   "execution_count": null,
   "id": "86507904-0754-45fa-af28-d8131d48e80a",
   "metadata": {},
   "outputs": [],
   "source": []
  }
 ],
 "metadata": {
  "kernelspec": {
   "display_name": "beaker",
   "language": "python",
   "name": "beaker"
  },
  "language_info": {
   "codemirror_mode": {
    "name": "ipython",
    "version": 3
   },
   "file_extension": ".py",
   "mimetype": "text/x-python",
   "name": "python",
   "nbconvert_exporter": "python",
   "pygments_lexer": "ipython3",
   "version": "3.8.16"
  }
 },
 "nbformat": 4,
 "nbformat_minor": 5
}
