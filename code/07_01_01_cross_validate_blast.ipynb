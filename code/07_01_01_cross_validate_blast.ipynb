{
 "cells": [
  {
   "cell_type": "code",
   "execution_count": 1,
   "id": "9e1c6f08-ea53-4300-9e5e-f8a253558002",
   "metadata": {},
   "outputs": [],
   "source": [
    "import pandas as pd"
   ]
  },
  {
   "cell_type": "code",
   "execution_count": 2,
   "id": "83c01686-1aa6-4a55-a006-dad5508655ba",
   "metadata": {},
   "outputs": [],
   "source": [
    "model_seq_info = pd.read_parquet('../data3/interim/model_seq_info.pq')\n",
    "search_df = pd.read_parquet('../data3/interim/model_seq_blast_search.pq')"
   ]
  },
  {
   "cell_type": "markdown",
   "id": "a9b58145-faea-4b51-9f1d-7f349a27b4df",
   "metadata": {},
   "source": [
    "**Query:** train gene\n",
    "\n",
    "**Target:** test gene"
   ]
  },
  {
   "cell_type": "code",
   "execution_count": 3,
   "id": "b065021b-6257-4104-b3a5-e6e78dd4c746",
   "metadata": {},
   "outputs": [
    {
     "name": "stdout",
     "output_type": "stream",
     "text": [
      "0\n",
      "1\n",
      "2\n",
      "3\n",
      "4\n"
     ]
    }
   ],
   "source": [
    "top_train_list = list()\n",
    "for fold, fold_test_df in model_seq_info.groupby('test_fold'):\n",
    "    print(fold)\n",
    "    top_blast_df = (search_df[~search_df['query'].isin(fold_test_df['seq_id']) & \n",
    "                              search_df['target'].isin(fold_test_df['seq_id'])]\n",
    "                     .sort_values('bits', ascending=False)\n",
    "                     .groupby('target')\n",
    "                     .head(1))\n",
    "    top_train_list.append(top_blast_df)"
   ]
  },
  {
   "cell_type": "code",
   "execution_count": 4,
   "id": "c7d7e61b-7b40-46f9-aa58-ba2ce46bfe25",
   "metadata": {},
   "outputs": [],
   "source": [
    "cat_top_hit = pd.concat(top_train_list)"
   ]
  },
  {
   "cell_type": "code",
   "execution_count": 5,
   "id": "d056e47a-4e1e-4167-94f5-edb300252a6c",
   "metadata": {},
   "outputs": [],
   "source": [
    "leaked_data = cat_top_hit[((cat_top_hit['qcov'] > 0.8) | \n",
    "                           (cat_top_hit['tcov'] > 0.8)) & \n",
    "                          (cat_top_hit['fident'] > 0.3)]"
   ]
  },
  {
   "cell_type": "code",
   "execution_count": 6,
   "id": "89b075ac-3cf0-48d7-a5ad-76f0ec6fbc5c",
   "metadata": {},
   "outputs": [],
   "source": [
    "merged_leaked_data = (leaked_data.merge(model_seq_info\n",
    "                                         .rename(columns={'seq_id': 'query'}), \n",
    "                                         how='inner', on='query')\n",
    "                      .merge(model_seq_info\n",
    "                             .rename(columns={'seq_id': 'target'}), \n",
    "                             how='inner', on='target', suffixes=('_query', '_target')))"
   ]
  },
  {
   "cell_type": "code",
   "execution_count": 7,
   "id": "5e810724-614a-4d63-ac80-89cb90daf827",
   "metadata": {},
   "outputs": [
    {
     "data": {
      "text/html": [
       "<div>\n",
       "<style scoped>\n",
       "    .dataframe tbody tr th:only-of-type {\n",
       "        vertical-align: middle;\n",
       "    }\n",
       "\n",
       "    .dataframe tbody tr th {\n",
       "        vertical-align: top;\n",
       "    }\n",
       "\n",
       "    .dataframe thead th {\n",
       "        text-align: right;\n",
       "    }\n",
       "</style>\n",
       "<table border=\"1\" class=\"dataframe\">\n",
       "  <thead>\n",
       "    <tr style=\"text-align: right;\">\n",
       "      <th></th>\n",
       "      <th>query</th>\n",
       "      <th>target</th>\n",
       "      <th>qcov</th>\n",
       "      <th>tcov</th>\n",
       "      <th>fident</th>\n",
       "      <th>defensive_query</th>\n",
       "      <th>defensive_target</th>\n",
       "    </tr>\n",
       "  </thead>\n",
       "  <tbody>\n",
       "    <tr>\n",
       "      <th>0</th>\n",
       "      <td>90722b86e0e71131620cec19bdacc39f959e6ed61186d61420f8cedf</td>\n",
       "      <td>49cb910efe0fa88b16eb2150960766bf90c3ed91298288b8ececf37d</td>\n",
       "      <td>1.001556</td>\n",
       "      <td>0.703663</td>\n",
       "      <td>0.71329</td>\n",
       "      <td>False</td>\n",
       "      <td>False</td>\n",
       "    </tr>\n",
       "    <tr>\n",
       "      <th>1</th>\n",
       "      <td>4f7028c7ce85fa28077affb5a49c0127890f15f050c5afa950c1688a</td>\n",
       "      <td>e40f33194ea22f335bc7721cec6b7f55ba7436ce4974d2f7b953770a</td>\n",
       "      <td>1.039216</td>\n",
       "      <td>0.573841</td>\n",
       "      <td>0.48151</td>\n",
       "      <td>False</td>\n",
       "      <td>False</td>\n",
       "    </tr>\n",
       "    <tr>\n",
       "      <th>2</th>\n",
       "      <td>8c8df95cc8f4fe2a0c50de840ef973d257961bb969aba94b4211119b</td>\n",
       "      <td>80e229a954e8ef84b2f4a6448fb3215c0882976d7c408c34261e5f91</td>\n",
       "      <td>0.560168</td>\n",
       "      <td>1.006486</td>\n",
       "      <td>0.55747</td>\n",
       "      <td>False</td>\n",
       "      <td>False</td>\n",
       "    </tr>\n",
       "    <tr>\n",
       "      <th>3</th>\n",
       "      <td>8c8df95cc8f4fe2a0c50de840ef973d257961bb969aba94b4211119b</td>\n",
       "      <td>115932760f50bf58ddd7bcaf4d99c10b438c22a1b485d484550a2981</td>\n",
       "      <td>0.422984</td>\n",
       "      <td>0.990141</td>\n",
       "      <td>0.47084</td>\n",
       "      <td>False</td>\n",
       "      <td>False</td>\n",
       "    </tr>\n",
       "    <tr>\n",
       "      <th>4</th>\n",
       "      <td>8be89a7980cadaae21525e944b3432e536a27e65c261b9b1a3f4a5ea</td>\n",
       "      <td>638b0209643f118a2f5c8e39492941dc9589ca158a3bde9456485224</td>\n",
       "      <td>0.426650</td>\n",
       "      <td>1.015710</td>\n",
       "      <td>0.33849</td>\n",
       "      <td>False</td>\n",
       "      <td>True</td>\n",
       "    </tr>\n",
       "    <tr>\n",
       "      <th>...</th>\n",
       "      <td>...</td>\n",
       "      <td>...</td>\n",
       "      <td>...</td>\n",
       "      <td>...</td>\n",
       "      <td>...</td>\n",
       "      <td>...</td>\n",
       "      <td>...</td>\n",
       "    </tr>\n",
       "    <tr>\n",
       "      <th>12642</th>\n",
       "      <td>40da6856c44d2fa8c97dbf18813b8ecb21debf4841fd85dee61e5a34</td>\n",
       "      <td>4e0dc2470f41a3a2882b0f8766ecd0a16323958c6e9665fedc69f61a</td>\n",
       "      <td>1.000000</td>\n",
       "      <td>1.000000</td>\n",
       "      <td>0.93750</td>\n",
       "      <td>False</td>\n",
       "      <td>False</td>\n",
       "    </tr>\n",
       "    <tr>\n",
       "      <th>12643</th>\n",
       "      <td>40da6856c44d2fa8c97dbf18813b8ecb21debf4841fd85dee61e5a34</td>\n",
       "      <td>b867ee1259209996197fcb2216a6adba8717f24c8af79a51a5d1d69c</td>\n",
       "      <td>1.000000</td>\n",
       "      <td>1.000000</td>\n",
       "      <td>0.93750</td>\n",
       "      <td>False</td>\n",
       "      <td>False</td>\n",
       "    </tr>\n",
       "    <tr>\n",
       "      <th>12644</th>\n",
       "      <td>20c026cc2a019c6de31dcdb8c50f5d1d8c88dc076ca3607e365c69cc</td>\n",
       "      <td>7b419d0e4de2f4290e896d76cee82bf3befa17f28c814ca9c8495dd8</td>\n",
       "      <td>0.909091</td>\n",
       "      <td>0.645161</td>\n",
       "      <td>0.35000</td>\n",
       "      <td>False</td>\n",
       "      <td>False</td>\n",
       "    </tr>\n",
       "    <tr>\n",
       "      <th>12645</th>\n",
       "      <td>90e55631988ee03ce42ce17cd80752f4adcc1c810b69a77de7180c2d</td>\n",
       "      <td>2fa5593ff348a88dec9892d3b06a0aae5a40b7ad823fcdc7184fe622</td>\n",
       "      <td>1.000000</td>\n",
       "      <td>1.000000</td>\n",
       "      <td>0.93750</td>\n",
       "      <td>False</td>\n",
       "      <td>False</td>\n",
       "    </tr>\n",
       "    <tr>\n",
       "      <th>12646</th>\n",
       "      <td>f9ee63afa5c9cb159bd80d99fd0fd35661a82ad366d7ae265ffaa612</td>\n",
       "      <td>febc8f31d406578d56986e98e10c2838b275afc5c2233e0993b6c1d2</td>\n",
       "      <td>1.000000</td>\n",
       "      <td>1.000000</td>\n",
       "      <td>0.93750</td>\n",
       "      <td>False</td>\n",
       "      <td>False</td>\n",
       "    </tr>\n",
       "  </tbody>\n",
       "</table>\n",
       "<p>12647 rows × 7 columns</p>\n",
       "</div>"
      ],
      "text/plain": [
       "                                                          query   \n",
       "0      90722b86e0e71131620cec19bdacc39f959e6ed61186d61420f8cedf  \\\n",
       "1      4f7028c7ce85fa28077affb5a49c0127890f15f050c5afa950c1688a   \n",
       "2      8c8df95cc8f4fe2a0c50de840ef973d257961bb969aba94b4211119b   \n",
       "3      8c8df95cc8f4fe2a0c50de840ef973d257961bb969aba94b4211119b   \n",
       "4      8be89a7980cadaae21525e944b3432e536a27e65c261b9b1a3f4a5ea   \n",
       "...                                                         ...   \n",
       "12642  40da6856c44d2fa8c97dbf18813b8ecb21debf4841fd85dee61e5a34   \n",
       "12643  40da6856c44d2fa8c97dbf18813b8ecb21debf4841fd85dee61e5a34   \n",
       "12644  20c026cc2a019c6de31dcdb8c50f5d1d8c88dc076ca3607e365c69cc   \n",
       "12645  90e55631988ee03ce42ce17cd80752f4adcc1c810b69a77de7180c2d   \n",
       "12646  f9ee63afa5c9cb159bd80d99fd0fd35661a82ad366d7ae265ffaa612   \n",
       "\n",
       "                                                         target      qcov   \n",
       "0      49cb910efe0fa88b16eb2150960766bf90c3ed91298288b8ececf37d  1.001556  \\\n",
       "1      e40f33194ea22f335bc7721cec6b7f55ba7436ce4974d2f7b953770a  1.039216   \n",
       "2      80e229a954e8ef84b2f4a6448fb3215c0882976d7c408c34261e5f91  0.560168   \n",
       "3      115932760f50bf58ddd7bcaf4d99c10b438c22a1b485d484550a2981  0.422984   \n",
       "4      638b0209643f118a2f5c8e39492941dc9589ca158a3bde9456485224  0.426650   \n",
       "...                                                         ...       ...   \n",
       "12642  4e0dc2470f41a3a2882b0f8766ecd0a16323958c6e9665fedc69f61a  1.000000   \n",
       "12643  b867ee1259209996197fcb2216a6adba8717f24c8af79a51a5d1d69c  1.000000   \n",
       "12644  7b419d0e4de2f4290e896d76cee82bf3befa17f28c814ca9c8495dd8  0.909091   \n",
       "12645  2fa5593ff348a88dec9892d3b06a0aae5a40b7ad823fcdc7184fe622  1.000000   \n",
       "12646  febc8f31d406578d56986e98e10c2838b275afc5c2233e0993b6c1d2  1.000000   \n",
       "\n",
       "           tcov   fident  defensive_query  defensive_target  \n",
       "0      0.703663  0.71329            False             False  \n",
       "1      0.573841  0.48151            False             False  \n",
       "2      1.006486  0.55747            False             False  \n",
       "3      0.990141  0.47084            False             False  \n",
       "4      1.015710  0.33849            False              True  \n",
       "...         ...      ...              ...               ...  \n",
       "12642  1.000000  0.93750            False             False  \n",
       "12643  1.000000  0.93750            False             False  \n",
       "12644  0.645161  0.35000            False             False  \n",
       "12645  1.000000  0.93750            False             False  \n",
       "12646  1.000000  0.93750            False             False  \n",
       "\n",
       "[12647 rows x 7 columns]"
      ]
     },
     "execution_count": 7,
     "metadata": {},
     "output_type": "execute_result"
    }
   ],
   "source": [
    "pd.set_option('display.max_colwidth', 100)\n",
    "merged_leaked_data[['query', 'target', 'qcov', 'tcov', 'fident', 'defensive_query', 'defensive_target']]"
   ]
  },
  {
   "cell_type": "code",
   "execution_count": 8,
   "id": "8274db62-5af1-49d6-a1e4-040f58c101b9",
   "metadata": {},
   "outputs": [],
   "source": [
    "merged_cat_top_hit = (cat_top_hit[['query', 'target', 'bits']]\n",
    "                      .merge(model_seq_info[['seq_id', 'defensive']]\n",
    "                             .rename(columns={'seq_id': 'query', \n",
    "                                              'defensive': 'query_defensive'}), \n",
    "                             how='inner', on='query'))\n",
    "merged_cat_top_hit['direction'] = merged_cat_top_hit['query_defensive'] * 2 - 1\n",
    "merged_cat_top_hit['prediction'] = merged_cat_top_hit['bits'] * merged_cat_top_hit['direction']"
   ]
  },
  {
   "cell_type": "code",
   "execution_count": 9,
   "id": "499c609a-c6e1-4cb1-827c-cb068b674951",
   "metadata": {},
   "outputs": [],
   "source": [
    "out_df = (model_seq_info[['seq_id']]\n",
    "          .merge(merged_cat_top_hit[['target', 'prediction']]\n",
    "                 .rename(columns={'target': 'seq_id'}), \n",
    "                 how='left', on='seq_id'))\n",
    "out_df['prediction'] = out_df['prediction'].fillna(0)\n",
    "out_df['method'] = 'BLAST nearest neighbor'"
   ]
  },
  {
   "cell_type": "code",
   "execution_count": 10,
   "id": "57323f8a-941f-428a-b452-38364484c519",
   "metadata": {},
   "outputs": [],
   "source": [
    "out_df.to_parquet('../data3/interim/cv_predictions_blast.pq', index=False)"
   ]
  },
  {
   "cell_type": "code",
   "execution_count": null,
   "id": "b3576a29-deda-4e36-8cb7-f3d4f4924345",
   "metadata": {},
   "outputs": [],
   "source": []
  }
 ],
 "metadata": {
  "kernelspec": {
   "display_name": "beaker",
   "language": "python",
   "name": "beaker"
  },
  "language_info": {
   "codemirror_mode": {
    "name": "ipython",
    "version": 3
   },
   "file_extension": ".py",
   "mimetype": "text/x-python",
   "name": "python",
   "nbconvert_exporter": "python",
   "pygments_lexer": "ipython3",
   "version": "3.8.16"
  }
 },
 "nbformat": 4,
 "nbformat_minor": 5
}
