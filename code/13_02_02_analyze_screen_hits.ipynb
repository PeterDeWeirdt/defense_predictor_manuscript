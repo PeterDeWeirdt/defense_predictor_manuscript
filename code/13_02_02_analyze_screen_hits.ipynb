{
 "cells": [
  {
   "cell_type": "code",
   "execution_count": 1,
   "id": "c7765fed-472b-4fce-8f7e-8e5a47c99875",
   "metadata": {},
   "outputs": [],
   "source": [
    "import pandas as pd"
   ]
  },
  {
   "cell_type": "code",
   "execution_count": 2,
   "id": "6b9b5a21-b7a1-4015-9cae-26703bb532ee",
   "metadata": {},
   "outputs": [
    {
     "name": "stderr",
     "output_type": "stream",
     "text": [
      "/state/partition1/slurm_tmp/27646594.0.0/ipykernel_1627253/3275897380.py:2: DtypeWarning: Columns (21,27,35) have mixed types. Specify dtype option on import or set low_memory=False.\n",
      "  ecor_predictions = pd.read_csv('../data/interim/ecor_predictions_defensive_cat.csv')\n"
     ]
    }
   ],
   "source": [
    "system_info = pd.read_csv('../data/interim/all_library_info.csv')\n",
    "ecor_predictions = pd.read_csv('../data/interim/ecor_predictions_defensive_cat.csv')"
   ]
  },
  {
   "cell_type": "code",
   "execution_count": 3,
   "id": "3aa44821-c02c-4543-a3e2-736416288a31",
   "metadata": {},
   "outputs": [],
   "source": [
    "ecor_seq_assemblies = pd.read_csv('../data/interim/ecor_seq_assemblies.csv', names=['product_accession', 'seq_id', 'seq', 'assembly'])\n",
    "ecor_seqs = ecor_seq_assemblies[['product_accession', 'seq']].drop_duplicates()"
   ]
  },
  {
   "cell_type": "code",
   "execution_count": 4,
   "id": "7a47deb0-12d9-460c-9b8f-fc6a0599501f",
   "metadata": {},
   "outputs": [
    {
     "data": {
      "text/plain": [
       "45"
      ]
     },
     "execution_count": 4,
     "metadata": {},
     "output_type": "execute_result"
    }
   ],
   "source": [
    "defensive_systems = system_info[system_info['defensive']]\n",
    "len(defensive_systems)"
   ]
  },
  {
   "cell_type": "code",
   "execution_count": 10,
   "id": "9c906765-b59a-4086-8569-219803a15a1d",
   "metadata": {},
   "outputs": [],
   "source": [
    "exploded_systems = defensive_systems.copy()\n",
    "exploded_systems['operon'] = exploded_systems['operon'].str.split(';')\n",
    "exploded_systems = exploded_systems.explode('operon')\n",
    "exploded_systems = exploded_systems[['operon', 'working_id', 'screened LB', 'fp', 'pBAD', 'library', 'random', 'curated', 'defensive', 'max_log_odds', 'category']]"
   ]
  },
  {
   "cell_type": "code",
   "execution_count": 11,
   "id": "bc91176b-a2ba-476d-a4cd-d1ec0dcb9d66",
   "metadata": {},
   "outputs": [
    {
     "data": {
      "text/plain": [
       "(73, 49)"
      ]
     },
     "execution_count": 11,
     "metadata": {},
     "output_type": "execute_result"
    }
   ],
   "source": [
    "ecor_predictions.merge(exploded_systems, how='inner', on='operon').drop_duplicates().shape"
   ]
  },
  {
   "cell_type": "code",
   "execution_count": 12,
   "id": "8eff39b9-e783-4599-9096-ed854c6335fb",
   "metadata": {},
   "outputs": [],
   "source": [
    "merged_predictions = ecor_predictions.merge(exploded_systems, how='inner', on='operon').drop_duplicates().reset_index(drop=True)\n",
    "merged_predictions['fake_start'] = (pd.Series([-1 if (strand == '-') else 1 for strand in merged_predictions['strand']])) * merged_predictions['start']\n",
    "merged_predictions['protein_num'] = (merged_predictions.groupby('working_id')\n",
    "                                     ['fake_start']\n",
    "                                     .rank()\n",
    "                                     .astype(int))\n",
    "merged_predictions = (merged_predictions.merge(ecor_seqs, how='inner', on='product_accession'))"
   ]
  },
  {
   "cell_type": "code",
   "execution_count": 13,
   "id": "d2a95b74-1668-4a47-b3ec-2c97377a1583",
   "metadata": {},
   "outputs": [],
   "source": [
    "breif_predictions = merged_predictions[['protein_context_id', 'assembly', 'genomic_accession', 'start', 'end', 'strand',\n",
    "                                        'product_accession', 'name', 'seq', 'product_length',\n",
    "                                        'beaker_prediction', 'log_odds',\n",
    "                                        'defense_homolog_names', 'sys_id', \n",
    "                                        'protein_num', 'hit_name', 'q_cov', 'Prob', \n",
    "                                        'operon', 'working_id', 'pBAD', 'library', 'defensive']]"
   ]
  },
  {
   "cell_type": "code",
   "execution_count": 14,
   "id": "730dfc34-4819-48c9-bd0a-37acea445a58",
   "metadata": {},
   "outputs": [],
   "source": [
    "with open('../data/interim/hit_proetins.faa', 'w') as f:\n",
    "    for _, row in breif_predictions.iterrows():\n",
    "        print('>' + row['product_accession'], file=f)\n",
    "        print(row['seq'], file=f)"
   ]
  },
  {
   "cell_type": "code",
   "execution_count": 15,
   "id": "d739b81d-c2fa-4927-8779-ad03045fbb37",
   "metadata": {},
   "outputs": [],
   "source": [
    "breif_predictions.to_csv('../data/interim/hit_seq_info.csv', index=False)"
   ]
  },
  {
   "cell_type": "code",
   "execution_count": null,
   "id": "a5780a23-73fc-4413-ba45-23c4893b3adf",
   "metadata": {},
   "outputs": [],
   "source": []
  }
 ],
 "metadata": {
  "kernelspec": {
   "display_name": "beaker",
   "language": "python",
   "name": "beaker"
  },
  "language_info": {
   "codemirror_mode": {
    "name": "ipython",
    "version": 3
   },
   "file_extension": ".py",
   "mimetype": "text/x-python",
   "name": "python",
   "nbconvert_exporter": "python",
   "pygments_lexer": "ipython3",
   "version": "3.8.16"
  }
 },
 "nbformat": 4,
 "nbformat_minor": 5
}
