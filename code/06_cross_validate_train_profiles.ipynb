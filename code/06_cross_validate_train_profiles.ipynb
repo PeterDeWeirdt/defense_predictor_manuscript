{
 "cells": [
  {
   "cell_type": "code",
   "execution_count": 1,
   "id": "9e1c6f08-ea53-4300-9e5e-f8a253558002",
   "metadata": {},
   "outputs": [],
   "source": [
    "import pandas as pd\n",
    "import os\n",
    "from core import read_dom_table"
   ]
  },
  {
   "cell_type": "code",
   "execution_count": 2,
   "id": "83c01686-1aa6-4a55-a006-dad5508655ba",
   "metadata": {},
   "outputs": [],
   "source": [
    "model_seq_info = pd.read_parquet('../data3/interim/model_seq_info.pq')"
   ]
  },
  {
   "cell_type": "code",
   "execution_count": 3,
   "id": "a0da8c57-a4ca-4a94-b3aa-49cb93f8132d",
   "metadata": {},
   "outputs": [],
   "source": [
    "og_hmm_dir = '/home/gridsan/pdeweirdt/.macsyfinder/data/defense-finder-models/profiles/'\n",
    "og_hmm_paths = {x.split('.')[0]: os.path.join(og_hmm_dir, x) for x in os.listdir(og_hmm_dir) if '.hmm' in x}"
   ]
  },
  {
   "cell_type": "code",
   "execution_count": 4,
   "id": "6f562ea5-9a8c-4d3f-a7d7-324af9480697",
   "metadata": {},
   "outputs": [],
   "source": [
    "working_dir = '../data3/interim/cv_hmm_work/'\n",
    "if not os.path.exists(working_dir):\n",
    "    os.mkdir(working_dir)"
   ]
  },
  {
   "cell_type": "markdown",
   "id": "6772cfa0-7294-48cb-b872-4dced56dd245",
   "metadata": {},
   "source": [
    "## Search"
   ]
  },
  {
   "cell_type": "code",
   "execution_count": 5,
   "id": "b065021b-6257-4104-b3a5-e6e78dd4c746",
   "metadata": {},
   "outputs": [
    {
     "name": "stdout",
     "output_type": "stream",
     "text": [
      "0\n",
      "1\n",
      "2\n",
      "3\n",
      "4\n",
      "CPU times: user 444 ms, sys: 72.8 ms, total: 517 ms\n",
      "Wall time: 8min 1s\n"
     ]
    }
   ],
   "source": [
    "%%time\n",
    "for fold, fold_test_df in model_seq_info.groupby('test_fold'):\n",
    "    print(fold)\n",
    "    fold_train_df = model_seq_info[model_seq_info['test_fold'] != fold]\n",
    "    train_hmms = fold_train_df['defense_gene'].dropna().drop_duplicates()\n",
    "    train_hmm_paths = [og_hmm_paths[x] for x in train_hmms]\n",
    "    train_hmm_f = os.path.join(working_dir, 'split_' + str(fold) + '_train.hmm')\n",
    "    os.system(' '.join(['cat', ' '.join(train_hmm_paths),  '>', train_hmm_f]))\n",
    "    temp_out_file = os.path.join(working_dir, 'temp_hmmer_out.txt')\n",
    "    dom_out = os.path.join(working_dir, 'split_' + str(fold) + '_hmm_search_dom.txt')\n",
    "    test_seq_f = '../data3/interim/model_split_' + str(fold) + '_test_seqs.faa'\n",
    "    os.system(' '.join(['conda run -n beaker', \n",
    "                        'hmmsearch',\n",
    "                        '--cpu', '40',\n",
    "                        '-o', temp_out_file,\n",
    "                        '--domtblout', dom_out,\n",
    "                        train_hmm_f, test_seq_f]))\n",
    "    os.system('rm ' + temp_out_file)"
   ]
  },
  {
   "cell_type": "markdown",
   "id": "9b90eb88-1e98-4ed3-ae7f-15585618de77",
   "metadata": {},
   "source": [
    "## Compile"
   ]
  },
  {
   "cell_type": "code",
   "execution_count": 6,
   "id": "9eee13e0-6d50-4508-9989-cfb2c2f7fd3e",
   "metadata": {},
   "outputs": [],
   "source": [
    "dom_table_list = list()"
   ]
  },
  {
   "cell_type": "code",
   "execution_count": 7,
   "id": "463b22ab-71d1-4600-89b4-03b1a1335078",
   "metadata": {},
   "outputs": [],
   "source": [
    "for fold in model_seq_info['test_fold'].unique():\n",
    "    dom_out = os.path.join(working_dir, 'split_' + str(fold) + '_hmm_search_dom.txt')\n",
    "    fold_dom_table = read_dom_table(dom_out)\n",
    "    dom_table_list.append(fold_dom_table)    "
   ]
  },
  {
   "cell_type": "code",
   "execution_count": 8,
   "id": "c7d7e61b-7b40-46f9-aa58-ba2ce46bfe25",
   "metadata": {},
   "outputs": [],
   "source": [
    "cat_dom_tables = pd.concat(dom_table_list)"
   ]
  },
  {
   "cell_type": "code",
   "execution_count": 9,
   "id": "b841688b-b0c5-4ace-a866-fad7551f79de",
   "metadata": {},
   "outputs": [
    {
     "data": {
      "text/plain": [
       "84881"
      ]
     },
     "execution_count": 9,
     "metadata": {},
     "output_type": "execute_result"
    }
   ],
   "source": [
    "len(cat_dom_tables)"
   ]
  },
  {
   "cell_type": "code",
   "execution_count": 10,
   "id": "b1ad8a38-cfed-4967-81f3-131b6cd7919e",
   "metadata": {},
   "outputs": [],
   "source": [
    "top_dom_table = (cat_dom_tables.sort_values('seq_score', ascending=False)\n",
    "                 .groupby('target')\n",
    "                 .head(1))"
   ]
  },
  {
   "cell_type": "code",
   "execution_count": 11,
   "id": "499c609a-c6e1-4cb1-827c-cb068b674951",
   "metadata": {},
   "outputs": [],
   "source": [
    "out_df = (model_seq_info[['seq_id']]\n",
    "          .merge(top_dom_table[['target', 'seq_score']]\n",
    "                 .rename(columns={'target': 'seq_id', \n",
    "                                  'seq_score': 'prediction'}), \n",
    "                 how='left', on='seq_id'))\n",
    "out_df['prediction'] = out_df['prediction'].fillna(0)\n",
    "out_df['method'] = 'Defense HMM search'"
   ]
  },
  {
   "cell_type": "code",
   "execution_count": 12,
   "id": "57323f8a-941f-428a-b452-38364484c519",
   "metadata": {},
   "outputs": [],
   "source": [
    "out_df.to_parquet('../data3/interim/cv_predictions_hmm.pq', index=False)"
   ]
  },
  {
   "cell_type": "code",
   "execution_count": null,
   "id": "b3576a29-deda-4e36-8cb7-f3d4f4924345",
   "metadata": {},
   "outputs": [],
   "source": []
  }
 ],
 "metadata": {
  "kernelspec": {
   "display_name": "beaker",
   "language": "python",
   "name": "beaker"
  },
  "language_info": {
   "codemirror_mode": {
    "name": "ipython",
    "version": 3
   },
   "file_extension": ".py",
   "mimetype": "text/x-python",
   "name": "python",
   "nbconvert_exporter": "python",
   "pygments_lexer": "ipython3",
   "version": "3.8.16"
  }
 },
 "nbformat": 4,
 "nbformat_minor": 5
}
