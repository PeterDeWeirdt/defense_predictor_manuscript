{
 "cells": [
  {
   "cell_type": "code",
   "execution_count": 2,
   "id": "1183c364-e8f6-4a29-8e71-8ae6e834a29e",
   "metadata": {},
   "outputs": [],
   "source": [
    "import pandas as pd"
   ]
  },
  {
   "cell_type": "code",
   "execution_count": 3,
   "id": "626ddfec-9762-485d-b79a-2965cd00fd53",
   "metadata": {},
   "outputs": [
    {
     "name": "stdout",
     "output_type": "stream",
     "text": [
      "CPU times: user 10min 55s, sys: 3min 21s, total: 14min 17s\n",
      "Wall time: 14min 22s\n"
     ]
    }
   ],
   "source": [
    "%%time\n",
    "foldseek_results = pd.read_table('../data3/interim/foldseek_model_search.txt', \n",
    "                                 names=['query','target','fident','alnlen','mismatch','gapopen','qstart','qend','tstart','tend','evalue','bits'])"
   ]
  },
  {
   "cell_type": "code",
   "execution_count": 4,
   "id": "37d156c0-98e2-4ddd-a51c-b0e28284b6b4",
   "metadata": {},
   "outputs": [
    {
     "data": {
      "text/plain": [
       "493429336"
      ]
     },
     "execution_count": 4,
     "metadata": {},
     "output_type": "execute_result"
    }
   ],
   "source": [
    "len(foldseek_results)"
   ]
  },
  {
   "cell_type": "markdown",
   "id": "87ca48a3-ea23-41e9-a0de-c66d80c0da8c",
   "metadata": {},
   "source": [
    "**Query:** train gene\n",
    "\n",
    "**Target:** test gene"
   ]
  },
  {
   "cell_type": "code",
   "execution_count": 5,
   "id": "b69c4947-97dc-4b5d-80b1-c573a9905617",
   "metadata": {},
   "outputs": [],
   "source": [
    "model_seq_info = pd.read_parquet('../data3/interim/model_seq_info.pq')"
   ]
  },
  {
   "cell_type": "code",
   "execution_count": 6,
   "id": "029124a9-7e1f-4369-812d-9ec910b616a7",
   "metadata": {},
   "outputs": [
    {
     "data": {
      "text/html": [
       "<div>\n",
       "<style scoped>\n",
       "    .dataframe tbody tr th:only-of-type {\n",
       "        vertical-align: middle;\n",
       "    }\n",
       "\n",
       "    .dataframe tbody tr th {\n",
       "        vertical-align: top;\n",
       "    }\n",
       "\n",
       "    .dataframe thead th {\n",
       "        text-align: right;\n",
       "    }\n",
       "</style>\n",
       "<table border=\"1\" class=\"dataframe\">\n",
       "  <thead>\n",
       "    <tr style=\"text-align: right;\">\n",
       "      <th></th>\n",
       "      <th>query</th>\n",
       "      <th>target</th>\n",
       "      <th>fident</th>\n",
       "      <th>alnlen</th>\n",
       "      <th>mismatch</th>\n",
       "      <th>gapopen</th>\n",
       "      <th>qstart</th>\n",
       "      <th>qend</th>\n",
       "      <th>tstart</th>\n",
       "      <th>tend</th>\n",
       "      <th>evalue</th>\n",
       "      <th>bits</th>\n",
       "    </tr>\n",
       "  </thead>\n",
       "  <tbody>\n",
       "    <tr>\n",
       "      <th>0</th>\n",
       "      <td>e6299e5b463b1a860311be0137f9556ccd0a34e0e23dd4...</td>\n",
       "      <td>e6299e5b463b1a860311be0137f9556ccd0a34e0e23dd4...</td>\n",
       "      <td>1.000</td>\n",
       "      <td>38</td>\n",
       "      <td>0</td>\n",
       "      <td>0</td>\n",
       "      <td>1</td>\n",
       "      <td>38</td>\n",
       "      <td>1</td>\n",
       "      <td>38</td>\n",
       "      <td>0.000007</td>\n",
       "      <td>211</td>\n",
       "    </tr>\n",
       "    <tr>\n",
       "      <th>1</th>\n",
       "      <td>e6299e5b463b1a860311be0137f9556ccd0a34e0e23dd4...</td>\n",
       "      <td>8875ada9c44162c3043da6f1f650c8edf122068d9b78d5...</td>\n",
       "      <td>0.527</td>\n",
       "      <td>36</td>\n",
       "      <td>17</td>\n",
       "      <td>0</td>\n",
       "      <td>3</td>\n",
       "      <td>38</td>\n",
       "      <td>26</td>\n",
       "      <td>61</td>\n",
       "      <td>0.014210</td>\n",
       "      <td>119</td>\n",
       "    </tr>\n",
       "    <tr>\n",
       "      <th>2</th>\n",
       "      <td>e6299e5b463b1a860311be0137f9556ccd0a34e0e23dd4...</td>\n",
       "      <td>fc6bb202b5fb08d5fbda9efa8b02ffa248d111b6c05f13...</td>\n",
       "      <td>0.378</td>\n",
       "      <td>37</td>\n",
       "      <td>22</td>\n",
       "      <td>0</td>\n",
       "      <td>1</td>\n",
       "      <td>37</td>\n",
       "      <td>1</td>\n",
       "      <td>37</td>\n",
       "      <td>0.058260</td>\n",
       "      <td>102</td>\n",
       "    </tr>\n",
       "    <tr>\n",
       "      <th>3</th>\n",
       "      <td>e6299e5b463b1a860311be0137f9556ccd0a34e0e23dd4...</td>\n",
       "      <td>b18bceca9b63b1e33a0c894817104081350b055f18e742...</td>\n",
       "      <td>0.548</td>\n",
       "      <td>31</td>\n",
       "      <td>14</td>\n",
       "      <td>0</td>\n",
       "      <td>2</td>\n",
       "      <td>32</td>\n",
       "      <td>10</td>\n",
       "      <td>40</td>\n",
       "      <td>0.068780</td>\n",
       "      <td>100</td>\n",
       "    </tr>\n",
       "    <tr>\n",
       "      <th>4</th>\n",
       "      <td>e6299e5b463b1a860311be0137f9556ccd0a34e0e23dd4...</td>\n",
       "      <td>510529a206d0dcae2277bb78b352ed95f7a684dcb87c83...</td>\n",
       "      <td>0.466</td>\n",
       "      <td>30</td>\n",
       "      <td>15</td>\n",
       "      <td>0</td>\n",
       "      <td>3</td>\n",
       "      <td>32</td>\n",
       "      <td>25</td>\n",
       "      <td>54</td>\n",
       "      <td>0.068780</td>\n",
       "      <td>100</td>\n",
       "    </tr>\n",
       "  </tbody>\n",
       "</table>\n",
       "</div>"
      ],
      "text/plain": [
       "                                               query   \n",
       "0  e6299e5b463b1a860311be0137f9556ccd0a34e0e23dd4...  \\\n",
       "1  e6299e5b463b1a860311be0137f9556ccd0a34e0e23dd4...   \n",
       "2  e6299e5b463b1a860311be0137f9556ccd0a34e0e23dd4...   \n",
       "3  e6299e5b463b1a860311be0137f9556ccd0a34e0e23dd4...   \n",
       "4  e6299e5b463b1a860311be0137f9556ccd0a34e0e23dd4...   \n",
       "\n",
       "                                              target  fident  alnlen   \n",
       "0  e6299e5b463b1a860311be0137f9556ccd0a34e0e23dd4...   1.000      38  \\\n",
       "1  8875ada9c44162c3043da6f1f650c8edf122068d9b78d5...   0.527      36   \n",
       "2  fc6bb202b5fb08d5fbda9efa8b02ffa248d111b6c05f13...   0.378      37   \n",
       "3  b18bceca9b63b1e33a0c894817104081350b055f18e742...   0.548      31   \n",
       "4  510529a206d0dcae2277bb78b352ed95f7a684dcb87c83...   0.466      30   \n",
       "\n",
       "   mismatch  gapopen  qstart  qend  tstart  tend    evalue  bits  \n",
       "0         0        0       1    38       1    38  0.000007   211  \n",
       "1        17        0       3    38      26    61  0.014210   119  \n",
       "2        22        0       1    37       1    37  0.058260   102  \n",
       "3        14        0       2    32      10    40  0.068780   100  \n",
       "4        15        0       3    32      25    54  0.068780   100  "
      ]
     },
     "execution_count": 6,
     "metadata": {},
     "output_type": "execute_result"
    }
   ],
   "source": [
    "foldseek_results.head()"
   ]
  },
  {
   "cell_type": "code",
   "execution_count": 7,
   "id": "dbdbd53a-49f6-4ce7-97b0-f17d0f0c6c34",
   "metadata": {},
   "outputs": [
    {
     "name": "stdout",
     "output_type": "stream",
     "text": [
      "0\n",
      "1\n",
      "2\n",
      "3\n",
      "4\n",
      "CPU times: user 9min 48s, sys: 1min 56s, total: 11min 45s\n",
      "Wall time: 11min 45s\n"
     ]
    }
   ],
   "source": [
    "%%time\n",
    "top_train_list = list()\n",
    "for fold, fold_test_df in model_seq_info.groupby('test_fold'):\n",
    "    print(fold)\n",
    "    test_set_ids = set(fold_test_df['seq_id'])\n",
    "    top_foldseek_df = (foldseek_results[~foldseek_results['query'].isin(test_set_ids) & \n",
    "                                        foldseek_results['target'].isin(test_set_ids)]\n",
    "                     .sort_values('bits', ascending=False)\n",
    "                     .groupby('target')\n",
    "                     .head(1))\n",
    "    top_train_list.append(top_foldseek_df)"
   ]
  },
  {
   "cell_type": "code",
   "execution_count": 8,
   "id": "0325c0a1-e938-426a-865a-310c36d58b9e",
   "metadata": {},
   "outputs": [],
   "source": [
    "cat_top_hit = pd.concat(top_train_list)"
   ]
  },
  {
   "cell_type": "code",
   "execution_count": 9,
   "id": "6f06262a-bf3f-4afd-a218-3e1dcb845a21",
   "metadata": {},
   "outputs": [],
   "source": [
    "merged_cat_top_hit = (cat_top_hit[['query', 'target', 'bits']]\n",
    "                      .merge(model_seq_info[['seq_id', 'defensive']]\n",
    "                             .rename(columns={'seq_id': 'query', \n",
    "                                              'defensive': 'query_defensive'}), \n",
    "                             how='inner', on='query'))\n",
    "merged_cat_top_hit['direction'] = merged_cat_top_hit['query_defensive'] * 2 - 1\n",
    "merged_cat_top_hit['prediction'] = merged_cat_top_hit['bits'] * merged_cat_top_hit['direction']"
   ]
  },
  {
   "cell_type": "code",
   "execution_count": 10,
   "id": "79ce09bf-62b6-4208-a05b-1aeefa4bd457",
   "metadata": {},
   "outputs": [],
   "source": [
    "out_df = (model_seq_info[['seq_id']]\n",
    "          .merge(merged_cat_top_hit[['target', 'prediction']]\n",
    "                 .rename(columns={'target': 'seq_id'}), \n",
    "                 how='left', on='seq_id'))\n",
    "out_df['prediction'] = out_df['prediction'].fillna(0)\n",
    "out_df['method'] = 'Foldseek/ProstT5 nearest neighbor'"
   ]
  },
  {
   "cell_type": "code",
   "execution_count": 11,
   "id": "0333be02-21c1-482d-a8a4-17d56db83555",
   "metadata": {},
   "outputs": [
    {
     "data": {
      "text/plain": [
       "200458"
      ]
     },
     "execution_count": 11,
     "metadata": {},
     "output_type": "execute_result"
    }
   ],
   "source": [
    "len(out_df)"
   ]
  },
  {
   "cell_type": "code",
   "execution_count": 12,
   "id": "b4bbffba-d5d0-4517-90a7-43127d5d35a7",
   "metadata": {},
   "outputs": [],
   "source": [
    "out_df.to_parquet('../data3/interim/cv_predictions_foldseek.pq', index=False)"
   ]
  },
  {
   "cell_type": "code",
   "execution_count": null,
   "id": "90d4ba4c-a80b-41a6-9c0c-25e307a08e85",
   "metadata": {},
   "outputs": [],
   "source": []
  }
 ],
 "metadata": {
  "kernelspec": {
   "display_name": "beaker",
   "language": "python",
   "name": "beaker"
  },
  "language_info": {
   "codemirror_mode": {
    "name": "ipython",
    "version": 3
   },
   "file_extension": ".py",
   "mimetype": "text/x-python",
   "name": "python",
   "nbconvert_exporter": "python",
   "pygments_lexer": "ipython3",
   "version": "3.8.16"
  }
 },
 "nbformat": 4,
 "nbformat_minor": 5
}
