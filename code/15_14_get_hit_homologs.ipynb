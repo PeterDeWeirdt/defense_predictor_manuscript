{
 "cells": [
  {
   "cell_type": "code",
   "execution_count": 1,
   "id": "5deb0165-fca7-46f8-af44-13d28e74bbb0",
   "metadata": {},
   "outputs": [],
   "source": [
    "import os\n",
    "import pandas as pd\n",
    "from tqdm import tqdm"
   ]
  },
  {
   "cell_type": "code",
   "execution_count": 2,
   "id": "c434dfb0-5638-4a18-8393-c6c8a2f19ea0",
   "metadata": {},
   "outputs": [],
   "source": [
    "all_library_info = pd.read_csv('../data3/interim/all_library_info.csv')\n",
    "novel_cluster_preds = pd.read_csv('../data3/interim/ecor_unique_novel_proteins.csv')"
   ]
  },
  {
   "cell_type": "code",
   "execution_count": 3,
   "id": "b941dcf2-53d4-49e6-83c0-84690b4baf05",
   "metadata": {},
   "outputs": [],
   "source": [
    "ecor_seq_assemblies = pd.read_csv('../data/interim/ecor_seq_assemblies.csv', names=['product_accession', 'seq_id', 'seq', 'assembly'])\n",
    "ecor_seqs = ecor_seq_assemblies[['product_accession', 'seq']].drop_duplicates()"
   ]
  },
  {
   "cell_type": "code",
   "execution_count": 4,
   "id": "60bca8d5-4a8f-4c8b-b9a4-4c6e3b6ec424",
   "metadata": {},
   "outputs": [],
   "source": [
    "long_library_info = all_library_info.copy()\n",
    "long_library_info['product_accession'] = long_library_info['product_accessions'].str.split(', ')\n",
    "long_library_info = long_library_info.explode('product_accession')\n",
    "long_library_info = long_library_info[['product_accession', 'genomic_accession', 'working_id']]\n",
    "long_library_info = (long_library_info.merge(ecor_seqs, how='inner', on='product_accession'))"
   ]
  },
  {
   "cell_type": "code",
   "execution_count": 5,
   "id": "4e30c6cf-ebb6-4f5d-a6ac-28b59a900dac",
   "metadata": {},
   "outputs": [],
   "source": [
    "with open('../data3/interim/ecor_cloned_seqs.faa', 'w') as f:\n",
    "    for _, row in long_library_info.iterrows():\n",
    "        print('>' + row['product_accession'], file=f)\n",
    "        print(row['seq'], file=f)"
   ]
  },
  {
   "cell_type": "code",
   "execution_count": 6,
   "id": "7cb1f1fd-c9cd-4493-aacd-89fbec5a66ab",
   "metadata": {},
   "outputs": [],
   "source": [
    "cloned_accessions = long_library_info['product_accession'].to_list()"
   ]
  },
  {
   "cell_type": "markdown",
   "id": "a5474834-06af-4ae0-80de-e6d1b516a7f1",
   "metadata": {},
   "source": [
    "## Run HHPred"
   ]
  },
  {
   "cell_type": "code",
   "execution_count": 7,
   "id": "3334720e-087f-49d1-8463-98dea8022355",
   "metadata": {},
   "outputs": [],
   "source": [
    "faa_file = '../data3/interim/ecor_cloned_seqs.faa'\n",
    "msa_out_dir = '../data3/interim/ecor_cloned_msas/'\n",
    "raw_out_dir ='../data3/interim/ecor_cloned_df_alignments/'\n",
    "parsed_out_file='../data3/interim/ecor_cloned_df_out.csv'"
   ]
  },
  {
   "cell_type": "code",
   "execution_count": 11,
   "id": "751bf456-1a6a-4f42-b2ab-a968d9ead1da",
   "metadata": {},
   "outputs": [],
   "source": [
    "if not os.path.exists(msa_out_dir):\n",
    "    os.mkdir(msa_out_dir)"
   ]
  },
  {
   "cell_type": "code",
   "execution_count": 18,
   "id": "02dbd5dd-2459-49cc-b66b-e4b352ad685d",
   "metadata": {},
   "outputs": [
    {
     "name": "stderr",
     "output_type": "stream",
     "text": [
      "100%|██████████| 11303/11303 [00:16<00:00, 684.03it/s]\n"
     ]
    }
   ],
   "source": [
    "old_msa_dir = '../data3/interim/ecor_unique_plus_cloned_msas/'\n",
    "for msa_f in tqdm(os.listdir(old_msa_dir)):\n",
    "    if msa_f.split('.a')[0] in cloned_accessions:\n",
    "        os.system(f\"cp {old_msa_dir + msa_f} {msa_out_dir}\")"
   ]
  },
  {
   "cell_type": "code",
   "execution_count": 19,
   "id": "70b619ed-ef9b-41ed-adbf-83f1b1521897",
   "metadata": {},
   "outputs": [
    {
     "name": "stdout",
     "output_type": "stream",
     "text": [
      "Building multiple sequence alignments from fasta\n",
      "Wirting out individual fasta files to ~/Documents/hhpred/data/temp/temp_fasta/\n",
      "Transferring the Uniclust database to a the local filesystem\n",
      "Wirting out MSAs from uniclust to ../data3/interim/ecor_cloned_msas/\n",
      "Reusing MSAs\n",
      "Generating multiple sequence alignments with 3 iterations of HHblits\n",
      "Querying df2 database(s)\n",
      "\n"
     ]
    },
    {
     "data": {
      "text/plain": [
       "0"
      ]
     },
     "execution_count": 19,
     "metadata": {},
     "output_type": "execute_result"
    }
   ],
   "source": [
    "os.system(' '.join(['conda run -n hhpred python', \n",
    "                        '~/Documents/hhpred/code/hhpred.py', \n",
    "                        '--raw_out_dir', raw_out_dir,  \n",
    "                        '--parsed_out_file', parsed_out_file, \n",
    "                        '--dbs df2', \n",
    "                        '--in_fasta', faa_file,  \n",
    "                        '--n_iter 3', \n",
    "                        '--alignment_dir', msa_out_dir, \n",
    "                        '--n_jobs 40']))"
   ]
  },
  {
   "cell_type": "markdown",
   "id": "2d8c128d-6569-415b-bcb9-b86638af5fcf",
   "metadata": {},
   "source": [
    "## Run ESMFold + Foldseek"
   ]
  },
  {
   "cell_type": "code",
   "execution_count": 8,
   "id": "b12da6f0-ab76-45d0-baf2-a0120ae22635",
   "metadata": {},
   "outputs": [],
   "source": [
    "struct_out_dir = '../data3/interim/ecor_cloned_structures/'\n",
    "df_rep_struct_db = '../data3/interim/foldseek_dbs/df_rep_foldseek_db_pad'\n",
    "struct_db = '../data3/interim/foldseek_dbs/ecor_cloned_struct_db'\n",
    "pad_struct_db = '../data3/interim/foldseek_dbs/ecor_cloned_struct_db_pad'\n",
    "res_db = '../data3/interim/foldseek_dbs/ecor_cloned_df_rep_search'\n",
    "struct_out_file = '../data3/interim/ecor_cloned_df_struct_search.txt'\n",
    "struct_out_html = '../data3/interim/ecor_cloned_df_struct_search.html'"
   ]
  },
  {
   "cell_type": "code",
   "execution_count": 8,
   "id": "379f4928-e03b-4a24-a55e-278f2ada00f9",
   "metadata": {},
   "outputs": [],
   "source": [
    "old_struct_dir = '../data3/interim/ecor_validated_structures/'"
   ]
  },
  {
   "cell_type": "code",
   "execution_count": 34,
   "id": "f2581b73-ae64-4ab1-8e2d-095fb5cd0aa3",
   "metadata": {},
   "outputs": [],
   "source": [
    "folded_accs = list()\n",
    "for struct_f in os.listdir(old_struct_dir):\n",
    "    if struct_f.split('.p')[0] in cloned_accessions:\n",
    "        os.system(f\"cp {old_struct_dir + struct_f} {struct_out_dir + struct_f}\")\n",
    "        folded_accs.append(struct_f.split('.p')[0])"
   ]
  },
  {
   "cell_type": "code",
   "execution_count": 9,
   "id": "1687cf16-8ef3-4ec7-b431-41f533d9efa0",
   "metadata": {},
   "outputs": [],
   "source": [
    "struct_faa_file = '../data3/interim/ecor_cloned_seqs_missing_fold.faa'"
   ]
  },
  {
   "cell_type": "code",
   "execution_count": 24,
   "id": "676a5286-f850-4788-bf01-d7cc34f7c648",
   "metadata": {},
   "outputs": [],
   "source": [
    "filtered_library_info = long_library_info[~long_library_info['product_accession'].isin(folded_accs)]\n",
    "with open(struct_faa_file, 'w') as f:\n",
    "    for _, row in filtered_library_info.iterrows():\n",
    "        print('>' + row['product_accession'], file=f)\n",
    "        print(row['seq'], file=f)"
   ]
  },
  {
   "cell_type": "code",
   "execution_count": 35,
   "id": "890b1d86-7aa3-4193-b9f8-6c2513031921",
   "metadata": {
    "collapsed": true,
    "jupyter": {
     "outputs_hidden": true
    },
    "tags": []
   },
   "outputs": [
    {
     "name": "stdout",
     "output_type": "stream",
     "text": [
      "11.7\n",
      "25/08/20 10:56:07 | INFO | root | Reading sequences from ../data3/interim/ecor_cloned_seqs_missing_fold.faa\n",
      "25/08/20 10:56:07 | INFO | root | Loaded 104 sequences from ../data3/interim/ecor_cloned_seqs_missing_fold.faa\n",
      "25/08/20 10:56:07 | INFO | root | Loading model\n",
      "25/08/20 10:56:11 | INFO | torch.distributed.nn.jit.instantiator | Created a temporary directory at /state/partition1/slurm_tmp/2690206.0.0/tmphrn0xwe4\n",
      "25/08/20 10:56:11 | INFO | torch.distributed.nn.jit.instantiator | Writing /state/partition1/slurm_tmp/2690206.0.0/tmphrn0xwe4/_remote_module_non_scriptable.py\n",
      "25/08/20 10:57:05 | INFO | root | Starting Predictions\n",
      "25/08/20 10:57:37 | INFO | root | Predicted structure for WP_252151311.1 with length 61, pLDDT 51.9, pTM 0.352 in 2.7s (amortized, batch size 12). 1 / 104 completed.\n",
      "25/08/20 10:57:37 | INFO | root | Predicted structure for WP_001154434.1 with length 62, pLDDT 80.7, pTM 0.654 in 2.7s (amortized, batch size 12). 2 / 104 completed.\n",
      "25/08/20 10:57:37 | INFO | root | Predicted structure for WP_125098057.1 with length 65, pLDDT 59.4, pTM 0.406 in 2.7s (amortized, batch size 12). 3 / 104 completed.\n",
      "25/08/20 10:57:37 | INFO | root | Predicted structure for WP_015058250.1 with length 72, pLDDT 87.0, pTM 0.833 in 2.7s (amortized, batch size 12). 4 / 104 completed.\n",
      "25/08/20 10:57:37 | INFO | root | Predicted structure for WP_126125326.1 with length 73, pLDDT 77.7, pTM 0.698 in 2.7s (amortized, batch size 12). 5 / 104 completed.\n",
      "25/08/20 10:57:37 | INFO | root | Predicted structure for WP_000692350.1 with length 73, pLDDT 61.4, pTM 0.482 in 2.7s (amortized, batch size 12). 6 / 104 completed.\n",
      "25/08/20 10:57:37 | INFO | root | Predicted structure for WP_001217580.1 with length 77, pLDDT 80.1, pTM 0.763 in 2.7s (amortized, batch size 12). 7 / 104 completed.\n",
      "25/08/20 10:57:37 | INFO | root | Predicted structure for WP_052158570.1 with length 87, pLDDT 68.1, pTM 0.575 in 2.7s (amortized, batch size 12). 8 / 104 completed.\n",
      "25/08/20 10:57:37 | INFO | root | Predicted structure for WP_001350372.1 with length 95, pLDDT 85.2, pTM 0.858 in 2.7s (amortized, batch size 12). 9 / 104 completed.\n",
      "25/08/20 10:57:37 | INFO | root | Predicted structure for WP_172907875.1 with length 99, pLDDT 92.2, pTM 0.872 in 2.7s (amortized, batch size 12). 10 / 104 completed.\n",
      "25/08/20 10:57:37 | INFO | root | Predicted structure for WP_000063155.1 with length 100, pLDDT 68.8, pTM 0.405 in 2.7s (amortized, batch size 12). 11 / 104 completed.\n",
      "25/08/20 10:57:37 | INFO | root | Predicted structure for WP_001244589.1 with length 108, pLDDT 87.3, pTM 0.889 in 2.7s (amortized, batch size 12). 12 / 104 completed.\n",
      "25/08/20 10:57:48 | INFO | root | Predicted structure for WP_000939437.1 with length 111, pLDDT 49.8, pTM 0.510 in 1.4s (amortized, batch size 8). 13 / 104 completed.\n",
      "25/08/20 10:57:48 | INFO | root | Predicted structure for WP_133301778.1 with length 112, pLDDT 75.8, pTM 0.756 in 1.4s (amortized, batch size 8). 14 / 104 completed.\n",
      "25/08/20 10:57:48 | INFO | root | Predicted structure for WP_063075011.1 with length 120, pLDDT 56.6, pTM 0.376 in 1.4s (amortized, batch size 8). 15 / 104 completed.\n",
      "25/08/20 10:57:48 | INFO | root | Predicted structure for WP_001285575.1 with length 122, pLDDT 36.9, pTM 0.263 in 1.4s (amortized, batch size 8). 16 / 104 completed.\n",
      "25/08/20 10:57:48 | INFO | root | Predicted structure for WP_001094426.1 with length 125, pLDDT 38.3, pTM 0.218 in 1.4s (amortized, batch size 8). 17 / 104 completed.\n",
      "25/08/20 10:57:48 | INFO | root | Predicted structure for WP_000235786.1 with length 125, pLDDT 74.1, pTM 0.712 in 1.4s (amortized, batch size 8). 18 / 104 completed.\n",
      "25/08/20 10:57:48 | INFO | root | Predicted structure for WP_000344422.1 with length 125, pLDDT 81.5, pTM 0.847 in 1.4s (amortized, batch size 8). 19 / 104 completed.\n",
      "25/08/20 10:57:48 | INFO | root | Predicted structure for WP_125134146.1 with length 137, pLDDT 72.5, pTM 0.740 in 1.4s (amortized, batch size 8). 20 / 104 completed.\n",
      "25/08/20 10:57:59 | INFO | root | Predicted structure for WP_001522501.1 with length 143, pLDDT 74.3, pTM 0.814 in 1.8s (amortized, batch size 6). 21 / 104 completed.\n",
      "25/08/20 10:57:59 | INFO | root | Predicted structure for WP_001681638.1 with length 144, pLDDT 48.4, pTM 0.439 in 1.8s (amortized, batch size 6). 22 / 104 completed.\n",
      "25/08/20 10:57:59 | INFO | root | Predicted structure for WP_087900645.1 with length 147, pLDDT 78.9, pTM 0.820 in 1.8s (amortized, batch size 6). 23 / 104 completed.\n",
      "25/08/20 10:57:59 | INFO | root | Predicted structure for WP_000996695.1 with length 149, pLDDT 70.7, pTM 0.760 in 1.8s (amortized, batch size 6). 24 / 104 completed.\n",
      "25/08/20 10:57:59 | INFO | root | Predicted structure for WP_058687121.1 with length 151, pLDDT 71.1, pTM 0.793 in 1.8s (amortized, batch size 6). 25 / 104 completed.\n",
      "25/08/20 10:57:59 | INFO | root | Predicted structure for WP_077757677.1 with length 153, pLDDT 69.1, pTM 0.736 in 1.8s (amortized, batch size 6). 26 / 104 completed.\n",
      "25/08/20 10:58:12 | INFO | root | Predicted structure for WP_001292742.1 with length 157, pLDDT 75.6, pTM 0.720 in 2.2s (amortized, batch size 6). 27 / 104 completed.\n",
      "25/08/20 10:58:12 | INFO | root | Predicted structure for WP_125098055.1 with length 158, pLDDT 76.6, pTM 0.723 in 2.2s (amortized, batch size 6). 28 / 104 completed.\n",
      "25/08/20 10:58:12 | INFO | root | Predicted structure for WP_078206076.1 with length 161, pLDDT 73.6, pTM 0.761 in 2.2s (amortized, batch size 6). 29 / 104 completed.\n",
      "25/08/20 10:58:12 | INFO | root | Predicted structure for WP_125098056.1 with length 162, pLDDT 59.9, pTM 0.576 in 2.2s (amortized, batch size 6). 30 / 104 completed.\n",
      "25/08/20 10:58:12 | INFO | root | Predicted structure for WP_000841195.1 with length 168, pLDDT 74.4, pTM 0.701 in 2.2s (amortized, batch size 6). 31 / 104 completed.\n",
      "25/08/20 10:58:12 | INFO | root | Predicted structure for WP_000581650.1 with length 170, pLDDT 83.2, pTM 0.879 in 2.2s (amortized, batch size 6). 32 / 104 completed.\n",
      "25/08/20 10:58:26 | INFO | root | Predicted structure for WP_025755759.1 with length 172, pLDDT 65.8, pTM 0.414 in 2.6s (amortized, batch size 5). 33 / 104 completed.\n",
      "25/08/20 10:58:26 | INFO | root | Predicted structure for WP_244576542.1 with length 176, pLDDT 73.7, pTM 0.806 in 2.6s (amortized, batch size 5). 34 / 104 completed.\n",
      "25/08/20 10:58:26 | INFO | root | Predicted structure for WP_001103754.1 with length 177, pLDDT 81.6, pTM 0.857 in 2.6s (amortized, batch size 5). 35 / 104 completed.\n",
      "25/08/20 10:58:26 | INFO | root | Predicted structure for WP_025755760.1 with length 185, pLDDT 86.5, pTM 0.789 in 2.6s (amortized, batch size 5). 36 / 104 completed.\n",
      "25/08/20 10:58:26 | INFO | root | Predicted structure for WP_000769435.1 with length 185, pLDDT 86.4, pTM 0.866 in 2.6s (amortized, batch size 5). 37 / 104 completed.\n",
      "25/08/20 10:58:42 | INFO | root | Predicted structure for WP_001548721.1 with length 189, pLDDT 80.6, pTM 0.716 in 3.2s (amortized, batch size 5). 38 / 104 completed.\n",
      "25/08/20 10:58:42 | INFO | root | Predicted structure for WP_000037962.1 with length 189, pLDDT 89.0, pTM 0.924 in 3.2s (amortized, batch size 5). 39 / 104 completed.\n",
      "25/08/20 10:58:42 | INFO | root | Predicted structure for WP_087891545.1 with length 194, pLDDT 65.6, pTM 0.604 in 3.2s (amortized, batch size 5). 40 / 104 completed.\n",
      "25/08/20 10:58:42 | INFO | root | Predicted structure for WP_000060412.1 with length 199, pLDDT 87.7, pTM 0.825 in 3.2s (amortized, batch size 5). 41 / 104 completed.\n",
      "25/08/20 10:58:42 | INFO | root | Predicted structure for WP_024166797.1 with length 200, pLDDT 62.2, pTM 0.662 in 3.2s (amortized, batch size 5). 42 / 104 completed.\n",
      "25/08/20 10:58:56 | INFO | root | Predicted structure for WP_250112205.1 with length 200, pLDDT 90.5, pTM 0.855 in 3.7s (amortized, batch size 4). 43 / 104 completed.\n",
      "25/08/20 10:58:56 | INFO | root | Predicted structure for WP_000551716.1 with length 200, pLDDT 49.5, pTM 0.393 in 3.7s (amortized, batch size 4). 44 / 104 completed.\n",
      "25/08/20 10:58:56 | INFO | root | Predicted structure for WP_000535208.1 with length 210, pLDDT 78.0, pTM 0.626 in 3.7s (amortized, batch size 4). 45 / 104 completed.\n",
      "25/08/20 10:58:56 | INFO | root | Predicted structure for WP_001032567.1 with length 211, pLDDT 42.2, pTM 0.263 in 3.7s (amortized, batch size 4). 46 / 104 completed.\n",
      "25/08/20 10:59:12 | INFO | root | Predicted structure for WP_001548723.1 with length 214, pLDDT 83.6, pTM 0.910 in 3.8s (amortized, batch size 4). 47 / 104 completed.\n",
      "25/08/20 10:59:12 | INFO | root | Predicted structure for WP_001013662.1 with length 214, pLDDT 75.3, pTM 0.834 in 3.8s (amortized, batch size 4). 48 / 104 completed.\n",
      "25/08/20 10:59:12 | INFO | root | Predicted structure for WP_001288814.1 with length 215, pLDDT 93.4, pTM 0.897 in 3.8s (amortized, batch size 4). 49 / 104 completed.\n",
      "25/08/20 10:59:12 | INFO | root | Predicted structure for WP_001399740.1 with length 215, pLDDT 91.5, pTM 0.906 in 3.8s (amortized, batch size 4). 50 / 104 completed.\n",
      "25/08/20 10:59:32 | INFO | root | Predicted structure for WP_000357928.1 with length 220, pLDDT 86.9, pTM 0.747 in 5.1s (amortized, batch size 4). 51 / 104 completed.\n",
      "25/08/20 10:59:32 | INFO | root | Predicted structure for WP_000454879.1 with length 224, pLDDT 79.7, pTM 0.753 in 5.1s (amortized, batch size 4). 52 / 104 completed.\n",
      "25/08/20 10:59:32 | INFO | root | Predicted structure for WP_000896806.1 with length 242, pLDDT 67.5, pTM 0.548 in 5.1s (amortized, batch size 4). 53 / 104 completed.\n",
      "25/08/20 10:59:32 | INFO | root | Predicted structure for WP_001216639.1 with length 243, pLDDT 87.0, pTM 0.911 in 5.1s (amortized, batch size 4). 54 / 104 completed.\n",
      "25/08/20 10:59:57 | INFO | root | Predicted structure for WP_000608806.1 with length 246, pLDDT 26.7, pTM 0.152 in 6.1s (amortized, batch size 4). 55 / 104 completed.\n",
      "25/08/20 10:59:57 | INFO | root | Predicted structure for WP_001539493.1 with length 246, pLDDT 66.6, pTM 0.719 in 6.1s (amortized, batch size 4). 56 / 104 completed.\n",
      "25/08/20 10:59:57 | INFO | root | Predicted structure for WP_125098097.1 with length 247, pLDDT 26.3, pTM 0.147 in 6.1s (amortized, batch size 4). 57 / 104 completed.\n",
      "25/08/20 10:59:57 | INFO | root | Predicted structure for WP_000602713.1 with length 261, pLDDT 76.9, pTM 0.797 in 6.1s (amortized, batch size 4). 58 / 104 completed.\n",
      "25/08/20 11:00:17 | INFO | root | Predicted structure for WP_125121836.1 with length 263, pLDDT 45.9, pTM 0.300 in 6.7s (amortized, batch size 3). 59 / 104 completed.\n",
      "25/08/20 11:00:17 | INFO | root | Predicted structure for WP_001609855.1 with length 267, pLDDT 79.6, pTM 0.890 in 6.7s (amortized, batch size 3). 60 / 104 completed.\n",
      "25/08/20 11:00:17 | INFO | root | Predicted structure for WP_000761990.1 with length 272, pLDDT 71.9, pTM 0.625 in 6.7s (amortized, batch size 3). 61 / 104 completed.\n",
      "25/08/20 11:00:37 | INFO | root | Predicted structure for WP_097744433.1 with length 272, pLDDT 71.5, pTM 0.639 in 6.7s (amortized, batch size 3). 62 / 104 completed.\n",
      "25/08/20 11:00:37 | INFO | root | Predicted structure for WP_000900255.1 with length 273, pLDDT 89.8, pTM 0.938 in 6.7s (amortized, batch size 3). 63 / 104 completed.\n",
      "25/08/20 11:00:37 | INFO | root | Predicted structure for WP_250112301.1 with length 273, pLDDT 63.5, pTM 0.717 in 6.7s (amortized, batch size 3). 64 / 104 completed.\n",
      "25/08/20 11:00:59 | INFO | root | Predicted structure for WP_087900642.1 with length 275, pLDDT 47.0, pTM 0.436 in 7.3s (amortized, batch size 3). 65 / 104 completed.\n",
      "25/08/20 11:00:59 | INFO | root | Predicted structure for WP_225915864.1 with length 281, pLDDT 86.4, pTM 0.916 in 7.3s (amortized, batch size 3). 66 / 104 completed.\n",
      "25/08/20 11:00:59 | INFO | root | Predicted structure for WP_001038650.1 with length 282, pLDDT 71.7, pTM 0.777 in 7.3s (amortized, batch size 3). 67 / 104 completed.\n",
      "25/08/20 11:01:24 | INFO | root | Predicted structure for WP_045232945.1 with length 289, pLDDT 87.3, pTM 0.713 in 8.3s (amortized, batch size 3). 68 / 104 completed.\n",
      "25/08/20 11:01:24 | INFO | root | Predicted structure for WP_097421955.1 with length 289, pLDDT 70.4, pTM 0.705 in 8.3s (amortized, batch size 3). 69 / 104 completed.\n",
      "25/08/20 11:01:24 | INFO | root | Predicted structure for WP_113488317.1 with length 298, pLDDT 85.2, pTM 0.907 in 8.3s (amortized, batch size 3). 70 / 104 completed.\n",
      "25/08/20 11:01:50 | INFO | root | Predicted structure for WP_252151320.1 with length 301, pLDDT 87.5, pTM 0.854 in 8.7s (amortized, batch size 3). 71 / 104 completed.\n",
      "25/08/20 11:01:51 | INFO | root | Predicted structure for WP_022645577.1 with length 302, pLDDT 54.9, pTM 0.443 in 8.7s (amortized, batch size 3). 72 / 104 completed.\n",
      "25/08/20 11:01:51 | INFO | root | Predicted structure for WP_000154254.1 with length 303, pLDDT 82.6, pTM 0.901 in 8.7s (amortized, batch size 3). 73 / 104 completed.\n",
      "25/08/20 11:02:18 | INFO | root | Predicted structure for WP_249538312.1 with length 303, pLDDT 34.8, pTM 0.178 in 9.3s (amortized, batch size 3). 74 / 104 completed.\n",
      "25/08/20 11:02:18 | INFO | root | Predicted structure for WP_087897390.1 with length 307, pLDDT 80.0, pTM 0.790 in 9.3s (amortized, batch size 3). 75 / 104 completed.\n",
      "25/08/20 11:02:18 | INFO | root | Predicted structure for WP_001173983.1 with length 309, pLDDT 84.0, pTM 0.654 in 9.3s (amortized, batch size 3). 76 / 104 completed.\n",
      "25/08/20 11:02:53 | INFO | root | Predicted structure for WP_250112038.1 with length 330, pLDDT 63.4, pTM 0.543 in 11.5s (amortized, batch size 3). 77 / 104 completed.\n",
      "25/08/20 11:02:53 | INFO | root | Predicted structure for WP_071337784.1 with length 338, pLDDT 89.0, pTM 0.912 in 11.5s (amortized, batch size 3). 78 / 104 completed.\n",
      "25/08/20 11:02:53 | INFO | root | Predicted structure for WP_000654526.1 with length 340, pLDDT 78.2, pTM 0.763 in 11.5s (amortized, batch size 3). 79 / 104 completed.\n",
      "25/08/20 11:03:21 | INFO | root | Predicted structure for WP_032201806.1 with length 354, pLDDT 87.2, pTM 0.739 in 14.2s (amortized, batch size 2). 80 / 104 completed.\n",
      "25/08/20 11:03:21 | INFO | root | Predicted structure for WP_154675831.1 with length 367, pLDDT 72.3, pTM 0.608 in 14.2s (amortized, batch size 2). 81 / 104 completed.\n",
      "25/08/20 11:03:52 | INFO | root | Predicted structure for WP_000080860.1 with length 378, pLDDT 85.7, pTM 0.558 in 15.4s (amortized, batch size 2). 82 / 104 completed.\n",
      "25/08/20 11:03:52 | INFO | root | Predicted structure for WP_000741702.1 with length 379, pLDDT 91.7, pTM 0.861 in 15.4s (amortized, batch size 2). 83 / 104 completed.\n",
      "25/08/20 11:04:28 | INFO | root | Predicted structure for WP_000461058.1 with length 380, pLDDT 30.9, pTM 0.171 in 17.9s (amortized, batch size 2). 84 / 104 completed.\n",
      "25/08/20 11:04:28 | INFO | root | Predicted structure for WP_001141906.1 with length 405, pLDDT 66.7, pTM 0.462 in 17.9s (amortized, batch size 2). 85 / 104 completed.\n",
      "25/08/20 11:05:12 | INFO | root | Predicted structure for WP_000097602.1 with length 419, pLDDT 38.6, pTM 0.283 in 21.8s (amortized, batch size 2). 86 / 104 completed.\n",
      "25/08/20 11:05:12 | INFO | root | Predicted structure for WP_087891926.1 with length 437, pLDDT 65.2, pTM 0.692 in 21.8s (amortized, batch size 2). 87 / 104 completed.\n",
      "25/08/20 11:06:02 | INFO | root | Predicted structure for WP_001132021.1 with length 448, pLDDT 78.1, pTM 0.728 in 25.3s (amortized, batch size 2). 88 / 104 completed.\n",
      "25/08/20 11:06:02 | INFO | root | Predicted structure for WP_045338628.1 with length 462, pLDDT 92.8, pTM 0.848 in 25.3s (amortized, batch size 2). 89 / 104 completed.\n",
      "25/08/20 11:06:32 | INFO | root | Predicted structure for WP_087900643.1 with length 496, pLDDT 84.0, pTM 0.783 in 29.6s. 90 / 104 completed.\n",
      "25/08/20 11:07:11 | INFO | root | Predicted structure for WP_000258743.1 with length 545, pLDDT 33.5, pTM 0.194 in 38.8s. 91 / 104 completed.\n",
      "25/08/20 11:08:02 | INFO | root | Predicted structure for WP_185723449.1 with length 595, pLDDT 88.0, pTM 0.899 in 50.7s. 92 / 104 completed.\n",
      "25/08/20 11:08:52 | INFO | root | Predicted structure for WP_021544260.1 with length 597, pLDDT 74.9, pTM 0.602 in 50.3s. 93 / 104 completed.\n",
      "25/08/20 11:09:45 | INFO | root | Predicted structure for WP_000886597.1 with length 607, pLDDT 76.5, pTM 0.694 in 53.2s. 94 / 104 completed.\n",
      "25/08/20 11:10:38 | INFO | root | Predicted structure for WP_000886597.1 with length 607, pLDDT 76.5, pTM 0.694 in 52.7s. 95 / 104 completed.\n",
      "25/08/20 11:11:39 | INFO | root | Predicted structure for WP_001404451.1 with length 638, pLDDT 91.0, pTM 0.727 in 60.8s. 96 / 104 completed.\n",
      "25/08/20 11:12:41 | INFO | root | Predicted structure for WP_032201810.1 with length 643, pLDDT 85.6, pTM 0.850 in 62.8s. 97 / 104 completed.\n",
      "25/08/20 11:13:50 | INFO | root | Predicted structure for WP_250112039.1 with length 674, pLDDT 66.1, pTM 0.637 in 68.2s. 98 / 104 completed.\n",
      "25/08/20 11:15:10 | INFO | root | Predicted structure for WP_087898511.1 with length 708, pLDDT 62.3, pTM 0.616 in 80.0s. 99 / 104 completed.\n",
      "25/08/20 11:16:44 | INFO | root | Predicted structure for WP_001556813.1 with length 750, pLDDT 75.9, pTM 0.699 in 94.5s. 100 / 104 completed.\n",
      "25/08/20 11:18:18 | INFO | root | Predicted structure for WP_001539489.1 with length 750, pLDDT 85.3, pTM 0.718 in 94.2s. 101 / 104 completed.\n",
      "25/08/20 11:19:53 | INFO | root | Predicted structure for WP_252151312.1 with length 750, pLDDT 71.6, pTM 0.622 in 94.2s. 102 / 104 completed.\n",
      "25/08/20 11:21:27 | INFO | root | Predicted structure for WP_000236931.1 with length 750, pLDDT 71.6, pTM 0.622 in 94.3s. 103 / 104 completed.\n",
      "25/08/20 11:23:01 | INFO | root | Predicted structure for WP_000345550.1 with length 750, pLDDT 81.2, pTM 0.662 in 94.2s. 104 / 104 completed.\n",
      "\n"
     ]
    },
    {
     "data": {
      "text/plain": [
       "0"
      ]
     },
     "execution_count": 35,
     "metadata": {},
     "output_type": "execute_result"
    }
   ],
   "source": [
    "os.system(' '.join(['conda run -n esmfold3 python', \n",
    "                    'fold.py', \n",
    "                    '-i', struct_faa_file, \n",
    "                    '-o', struct_out_dir]))"
   ]
  },
  {
   "cell_type": "code",
   "execution_count": 36,
   "id": "ac07846a-fd68-4e89-8f9b-f1b43ab60ea0",
   "metadata": {},
   "outputs": [],
   "source": [
    "foldseek_preamble = ['conda run -n nvcc /home/gridsan/pdeweirdt/Documents/foldseek/build/bin/foldseek']"
   ]
  },
  {
   "cell_type": "code",
   "execution_count": 37,
   "id": "c7bf9200-eca3-4d9a-9c63-57e08f01ca43",
   "metadata": {
    "collapsed": true,
    "jupyter": {
     "outputs_hidden": true
    },
    "tags": []
   },
   "outputs": [
    {
     "name": "stdout",
     "output_type": "stream",
     "text": [
      "createdb ../data3/interim/ecor_cloned_structures/ ../data3/interim/foldseek_dbs/ecor_cloned_struct_db \n",
      "\n",
      "MMseqs Version:             \te3fadcd07f971e864c094ac4f3a78bf4ed845e07\n",
      "Use GPU                     \t0\n",
      "Path to ProstT5             \t\n",
      "Chain name mode             \t0\n",
      "Model name mode             \t0\n",
      "Createdb extraction mode    \t0\n",
      "Interface distance threshold\t8\n",
      "Write mapping file          \t0\n",
      "Mask b-factor threshold     \t0\n",
      "Coord store mode            \t2\n",
      "Write lookup file           \t1\n",
      "Input format                \t0\n",
      "File Inclusion Regex        \t.*\n",
      "File Exclusion Regex        \t^$\n",
      "Threads                     \t80\n",
      "Verbosity                   \t3\n",
      "\n",
      "Output file: ../data3/interim/foldseek_dbs/ecor_cloned_struct_db\n",
      "=[================================================================] 176 0s 85ms\n",
      "Time for merging to ecor_cloned_struct_db_ss: 0h 0m 0s 698ms\n",
      "Time for merging to ecor_cloned_struct_db_h: 0h 0m 0s 530ms\n",
      "Time for merging to ecor_cloned_struct_db_ca: 0h 0m 0s 406ms\n",
      "Time for merging to ecor_cloned_struct_db: 0h 0m 0s 375ms\n",
      "Ignore 0 out of 176.\n",
      "Too short: 0, incorrect: 0, not proteins: 0.\n",
      "Time for processing: 0h 0m 6s 399ms\n",
      "\n"
     ]
    },
    {
     "data": {
      "text/plain": [
       "0"
      ]
     },
     "execution_count": 37,
     "metadata": {},
     "output_type": "execute_result"
    }
   ],
   "source": [
    "os.system(' '.join(foldseek_preamble + \n",
    "                   ['createdb', struct_out_dir, struct_db]))"
   ]
  },
  {
   "cell_type": "code",
   "execution_count": 38,
   "id": "e4ffa9c6-f708-4d89-b3c0-cd830ac61b44",
   "metadata": {
    "collapsed": true,
    "jupyter": {
     "outputs_hidden": true
    },
    "tags": []
   },
   "outputs": [
    {
     "name": "stdout",
     "output_type": "stream",
     "text": [
      "makepaddedseqdb ../data3/interim/foldseek_dbs/ecor_cloned_struct_db ../data3/interim/foldseek_dbs/ecor_cloned_struct_db_pad \n",
      "\n",
      "MMseqs Version:          \te3fadcd07f971e864c094ac4f3a78bf4ed845e07\n",
      "Substitution matrix      \taa:3di.out,nucl:3di.out\n",
      "Mask residues            \t0\n",
      "Mask residues probability\t0.999995\n",
      "Write lookup file        \t1\n",
      "Threads                  \t80\n",
      "Verbosity                \t3\n",
      "Cluster search           \t0\n",
      "\n",
      "lndb ../data3/interim/foldseek_dbs/ecor_cloned_struct_db_h ../data3/interim/foldseek_dbs/ecor_cloned_struct_db_pad_tmp_ss_h \n",
      "\n",
      "Time for processing: 0h 0m 0s 4ms\n",
      "lndb ../data3/interim/foldseek_dbs/ecor_cloned_struct_db_ss ../data3/interim/foldseek_dbs/ecor_cloned_struct_db_pad_tmp_ss \n",
      "\n",
      "Time for processing: 0h 0m 0s 5ms\n",
      "makepaddedseqdb ../data3/interim/foldseek_dbs/ecor_cloned_struct_db_pad_tmp_ss ../data3/interim/foldseek_dbs/ecor_cloned_struct_db_pad_ss --sub-mat 'aa:3di.out,nucl:3di.out' --score-bias 0 --mask 0 --mask-prob 0.999995 --mask-lower-case 1 --mask-n-repeat 6 --write-lookup 1 --threads 80 -v 3 \n",
      "\n",
      "[================================================================] 176 0s 12ms\n",
      "=Time for merging to ecor_cloned_struct_db_pad_ss: 0h 0m 0s 326ms\n",
      "Time for merging to ecor_cloned_struct_db_pad_ss_h: 0h 0m 0s 281ms\n",
      "Time for processing: 0h 0m 1s 993ms\n",
      "rmdb ../data3/interim/foldseek_dbs/ecor_cloned_struct_db_pad_tmp_ss \n",
      "\n",
      "Time for processing: 0h 0m 0s 2ms\n",
      "rmdb ../data3/interim/foldseek_dbs/ecor_cloned_struct_db_pad_tmp_ss_h \n",
      "\n",
      "Time for processing: 0h 0m 0s 2ms\n",
      "renamedbkeys ../data3/interim/foldseek_dbs/ecor_cloned_struct_db_pad_ss.gpu_mapping1 ../data3/interim/foldseek_dbs/ecor_cloned_struct_db ../data3/interim/foldseek_dbs/ecor_cloned_struct_db_pad --subdb-mode 1 --threads 80 -v 3 \n",
      "\n",
      "Time for merging to ecor_cloned_struct_db_pad: 0h 0m 0s 6ms\n",
      "Time for merging to ecor_cloned_struct_db_pad_h: 0h 0m 0s 5ms\n",
      "Time for processing: 0h 0m 0s 33ms\n",
      "renamedbkeys ../data3/interim/foldseek_dbs/ecor_cloned_struct_db_pad_ss.gpu_mapping1 ../data3/interim/foldseek_dbs/ecor_cloned_struct_db_ca ../data3/interim/foldseek_dbs/ecor_cloned_struct_db_pad_ca --subdb-mode 1 --threads 80 -v 3 \n",
      "\n",
      "Time for merging to ecor_cloned_struct_db_pad_ca: 0h 0m 0s 5ms\n",
      "Time for processing: 0h 0m 0s 17ms\n",
      "../data3/interim/foldseek_dbs/ecor_cloned_struct_db_pad_h exists and will be overwritten\n",
      "renamedbkeys ../data3/interim/foldseek_dbs/ecor_cloned_struct_db_pad_ss.gpu_mapping1 ../data3/interim/foldseek_dbs/ecor_cloned_struct_db_h ../data3/interim/foldseek_dbs/ecor_cloned_struct_db_pad_h --subdb-mode 1 --threads 80 -v 3 \n",
      "\n",
      "Time for merging to ecor_cloned_struct_db_pad_h: 0h 0m 0s 5ms\n",
      "Time for processing: 0h 0m 0s 41ms\n",
      "\n"
     ]
    },
    {
     "data": {
      "text/plain": [
       "0"
      ]
     },
     "execution_count": 38,
     "metadata": {},
     "output_type": "execute_result"
    }
   ],
   "source": [
    "os.system(' '.join(foldseek_preamble +\n",
    "                   ['makepaddedseqdb', struct_db, pad_struct_db]))"
   ]
  },
  {
   "cell_type": "code",
   "execution_count": 39,
   "id": "01768e6e-1f91-4d49-afd2-ccdfc7c9c4a9",
   "metadata": {
    "collapsed": true,
    "jupyter": {
     "outputs_hidden": true
    },
    "tags": []
   },
   "outputs": [
    {
     "name": "stdout",
     "output_type": "stream",
     "text": [
      "search ../data3/interim/foldseek_dbs/ecor_cloned_struct_db_pad ../data3/interim/foldseek_dbs/df_rep_foldseek_db_pad ../data3/interim/foldseek_dbs/ecor_cloned_df_rep_search /state/partition1/slurm_tmp/2690206.0.0 --gpu 1 --alignment-type 1 -a \n",
      "\n",
      "MMseqs Version:                    \te3fadcd07f971e864c094ac4f3a78bf4ed845e07\n",
      "TMscore threshold                  \t0\n",
      "TMscore threshold mode             \t0\n",
      "LDDT threshold                     \t0\n",
      "Sort by structure bit score        \t1\n",
      "Alignment type                     \t1\n",
      "Exact TMscore                      \t0\n",
      "Substitution matrix                \taa:3di.out,nucl:3di.out\n",
      "Add backtrace                      \ttrue\n",
      "Alignment mode                     \t3\n",
      "Alignment mode                     \t0\n",
      "E-value threshold                  \t10\n",
      "Seq. id. threshold                 \t0\n",
      "Min alignment length               \t0\n",
      "Seq. id. mode                      \t0\n",
      "Alternative alignments             \t0\n",
      "Coverage threshold                 \t0\n",
      "Coverage mode                      \t0\n",
      "Max sequence length                \t65535\n",
      "Compositional bias                 \t1\n",
      "Compositional bias scale           \t1\n",
      "Max reject                         \t2147483647\n",
      "Max accept                         \t2147483647\n",
      "Preload mode                       \t0\n",
      "Gap open cost                      \taa:10,nucl:10\n",
      "Gap extension cost                 \taa:1,nucl:1\n",
      "Threads                            \t80\n",
      "Compressed                         \t0\n",
      "Verbosity                          \t3\n",
      "Seed substitution matrix           \taa:3di.out,nucl:3di.out\n",
      "Sensitivity                        \t9.5\n",
      "k-mer length                       \t0\n",
      "Target search mode                 \t0\n",
      "k-score                            \tseq:2147483647,prof:2147483647\n",
      "Max results per query              \t1000\n",
      "Split database                     \t0\n",
      "Split mode                         \t2\n",
      "Split memory limit                 \t0\n",
      "Diagonal scoring                   \ttrue\n",
      "Exact k-mer matching               \t0\n",
      "Mask residues                      \t0\n",
      "Mask residues probability          \t0.999995\n",
      "Mask lower case residues           \t1\n",
      "Mask lower letter repeating N times\t6\n",
      "Minimum diagonal score             \t30\n",
      "Selected taxa                      \t\n",
      "Spaced k-mers                      \t1\n",
      "Spaced k-mer pattern               \t\n",
      "Local temporary path               \t\n",
      "Use GPU                            \t1\n",
      "Use GPU server                     \t0\n",
      "Wait for GPU server                \t600\n",
      "Prefilter mode                     \t0\n",
      "TMalign hit order                  \t0\n",
      "TMalign fast                       \t1\n",
      "Mask profile                       \t1\n",
      "Profile E-value threshold          \t0.1\n",
      "Global sequence weighting          \tfalse\n",
      "Allow deletions                    \tfalse\n",
      "Filter MSA                         \t1\n",
      "Use filter only at N seqs          \t0\n",
      "Maximum seq. id. threshold         \t0.9\n",
      "Minimum seq. id.                   \t0.0\n",
      "Minimum score per column           \t-20\n",
      "Minimum coverage                   \t0\n",
      "Select N most diverse seqs         \t1000\n",
      "Pseudo count mode                  \t0\n",
      "Profile output mode                \t0\n",
      "Cluster search                     \t0\n",
      "Exhaustive search mode             \tfalse\n",
      "Search iterations                  \t1\n",
      "Remove temporary files             \ttrue\n",
      "Force restart with latest tmp      \tfalse\n",
      "MPI runner                         \t\n",
      "\n",
      "ungappedprefilter ../data3/interim/foldseek_dbs/ecor_cloned_struct_db_pad_ss ../data3/interim/foldseek_dbs/df_rep_foldseek_db_pad_ss /state/partition1/slurm_tmp/2690206.0.0/9070348715495246505/pref --sub-mat 'aa:3di.out,nucl:3di.out' -c 0 -e 1.79769e+308 --cov-mode 0 --comp-bias-corr 1 --comp-bias-corr-scale 0.15 --min-ungapped-score 30 --max-seqs 1000 --db-load-mode 0 --gpu 1 --gpu-server 0 --gpu-server-wait-timeout 600 --prefilter-mode 0 --threads 80 --compressed 0 -v 3 \n",
      "\n",
      "[=================================================================] 176 2s 103ms\n",
      "Time for merging to pref: 0h 0m 0s 0ms\n",
      "Time for processing: 0h 0m 2s 669ms\n",
      "structurealign ../data3/interim/foldseek_dbs/ecor_cloned_struct_db_pad ../data3/interim/foldseek_dbs/df_rep_foldseek_db_pad /state/partition1/slurm_tmp/2690206.0.0/9070348715495246505/pref /state/partition1/slurm_tmp/2690206.0.0/9070348715495246505/strualn --tmscore-threshold 0 --tmscore-threshold-mode 0 --lddt-threshold 0 --sort-by-structure-bits 0 --alignment-type 1 --exact-tmscore 0 --sub-mat 'aa:3di.out,nucl:3di.out' -a 1 --alignment-mode 1 --alignment-output-mode 0 --wrapped-scoring 0 -e 10 --min-seq-id 0 --min-aln-len 0 --seq-id-mode 0 --alt-ali 0 -c 0 --cov-mode 0 --max-seq-len 65535 --comp-bias-corr 1 --comp-bias-corr-scale 0.5 --max-rejected 2147483647 --max-accept 2147483647 --add-self-matches 0 --db-load-mode 0 --pca substitution:1.100,context:1.400 --pcb substitution:4.100,context:5.800 --score-bias 0 --realign 0 --realign-score-bias -0.2 --realign-max-seqs 2147483647 --corr-score-weight 0 --gap-open aa:10,nucl:10 --gap-extend aa:1,nucl:1 --zdrop 40 --threads 80 --compressed 0 -v 3 \n",
      "\n",
      "[=================================================================] 176 0s 574ms\n",
      "Time for merging to strualn: 0h 0m 0s 2ms\n",
      "Time for processing: 0h 0m 1s 281ms\n",
      "tmalign ../data3/interim/foldseek_dbs/ecor_cloned_struct_db_pad ../data3/interim/foldseek_dbs/df_rep_foldseek_db_pad /state/partition1/slurm_tmp/2690206.0.0/9070348715495246505/strualn /state/partition1/slurm_tmp/2690206.0.0/9070348715495246505/aln --min-seq-id 0 -c 0 --cov-mode 0 --max-rejected 2147483647 --max-accept 2147483647 -a 1 --add-self-matches 0 --tmscore-threshold 0 --tmscore-threshold-mode 0 --tmalign-hit-order 0 --tmalign-fast 1 --db-load-mode 0 --threads 80 -v 3 \n",
      "\n",
      "Query database: ../data3/interim/foldseek_dbs/ecor_cloned_struct_db_pad\n",
      "Target database: ../data3/interim/foldseek_dbs/df_rep_foldseek_db_pad\n",
      "[=================================================================] 176 56s 702ms\n",
      "Time for merging to aln: 0h 0m 0s 0ms\n",
      "Time for processing: 0h 0m 57s 139ms\n",
      "Removing temporary files\n",
      "rmdb /state/partition1/slurm_tmp/2690206.0.0/9070348715495246505/strualn -v 3 \n",
      "\n",
      "Time for processing: 0h 0m 0s 1ms\n",
      "mvdb /state/partition1/slurm_tmp/2690206.0.0/9070348715495246505/aln ../data3/interim/foldseek_dbs/ecor_cloned_df_rep_search -v 3 \n",
      "\n",
      "Time for processing: 0h 0m 0s 21ms\n",
      "Removing temporary files\n",
      "rmdb /state/partition1/slurm_tmp/2690206.0.0/9070348715495246505/strualn -v 3 \n",
      "\n",
      "Time for processing: 0h 0m 0s 0ms\n",
      "rmdb /state/partition1/slurm_tmp/2690206.0.0/9070348715495246505/pref -v 3 \n",
      "\n",
      "Time for processing: 0h 0m 0s 0ms\n",
      "\n"
     ]
    },
    {
     "data": {
      "text/plain": [
       "0"
      ]
     },
     "execution_count": 39,
     "metadata": {},
     "output_type": "execute_result"
    }
   ],
   "source": [
    "os.system(' '.join(foldseek_preamble +\n",
    "                   ['search', pad_struct_db, df_rep_struct_db, \n",
    "                    res_db, '$TMPDIR', \n",
    "                    '--gpu 1', '--alignment-type 1', '-a']))"
   ]
  },
  {
   "cell_type": "code",
   "execution_count": 40,
   "id": "8bf44a05-3bf4-48d6-970f-effbb60533f2",
   "metadata": {
    "collapsed": true,
    "jupyter": {
     "outputs_hidden": true
    },
    "tags": []
   },
   "outputs": [
    {
     "name": "stdout",
     "output_type": "stream",
     "text": [
      "convertalis ../data3/interim/foldseek_dbs/ecor_cloned_struct_db_pad ../data3/interim/foldseek_dbs/df_rep_foldseek_db_pad ../data3/interim/foldseek_dbs/ecor_cloned_df_rep_search ../data3/interim/ecor_cloned_df_struct_search.txt --format-output query,target,fident,alnlen,mismatch,gapopen,qstart,qend,tstart,tend,qcov,tcov,evalue,bits,alntmscore,qtmscore,ttmscore,rmsd,lddt,prob \n",
      "\n",
      "MMseqs Version:        \te3fadcd07f971e864c094ac4f3a78bf4ed845e07\n",
      "Substitution matrix    \taa:3di.out,nucl:3di.out\n",
      "Alignment format       \t0\n",
      "Format alignment output\tquery,target,fident,alnlen,mismatch,gapopen,qstart,qend,tstart,tend,qcov,tcov,evalue,bits,alntmscore,qtmscore,ttmscore,rmsd,lddt,prob\n",
      "Gap open cost          \taa:10,nucl:10\n",
      "Gap extension cost     \taa:1,nucl:1\n",
      "Database output        \tfalse\n",
      "Preload mode           \t0\n",
      "Threads                \t80\n",
      "Compressed             \t0\n",
      "Verbosity              \t3\n",
      "Exact TMscore          \t0\n",
      "\n",
      "[=================================================================] 176 5s 701ms\n",
      "Time for merging to ecor_cloned_df_struct_search.txt: 0h 0m 0s 354ms\n",
      "Time for processing: 0h 0m 7s 210ms\n",
      "\n"
     ]
    },
    {
     "data": {
      "text/plain": [
       "0"
      ]
     },
     "execution_count": 40,
     "metadata": {},
     "output_type": "execute_result"
    }
   ],
   "source": [
    "os.system(' '.join(foldseek_preamble +\n",
    "                   ['convertalis', pad_struct_db, df_rep_struct_db, \n",
    "                    res_db, struct_out_file, \n",
    "                    '--format-output', 'query,target,fident,alnlen,mismatch,gapopen,qstart,qend,tstart,tend,qcov,tcov,evalue,bits,alntmscore,qtmscore,ttmscore,rmsd,lddt,prob']))"
   ]
  },
  {
   "cell_type": "code",
   "execution_count": 41,
   "id": "0005ef69-e144-451d-879e-f644dfa9f3d0",
   "metadata": {
    "collapsed": true,
    "jupyter": {
     "outputs_hidden": true
    },
    "tags": []
   },
   "outputs": [
    {
     "name": "stdout",
     "output_type": "stream",
     "text": [
      "convertalis ../data3/interim/foldseek_dbs/ecor_cloned_struct_db_pad ../data3/interim/foldseek_dbs/df_rep_foldseek_db_pad ../data3/interim/foldseek_dbs/ecor_cloned_df_rep_search ../data3/interim/ecor_cloned_df_struct_search.html --format-mode 3 \n",
      "\n",
      "MMseqs Version:        \te3fadcd07f971e864c094ac4f3a78bf4ed845e07\n",
      "Substitution matrix    \taa:3di.out,nucl:3di.out\n",
      "Alignment format       \t3\n",
      "Format alignment output\tquery,target,fident,alnlen,mismatch,gapopen,qstart,qend,tstart,tend,evalue,bits\n",
      "Gap open cost          \taa:10,nucl:10\n",
      "Gap extension cost     \taa:1,nucl:1\n",
      "Database output        \tfalse\n",
      "Preload mode           \t0\n",
      "Threads                \t80\n",
      "Compressed             \t0\n",
      "Verbosity              \t3\n",
      "Exact TMscore          \t0\n",
      "\n",
      "[=================================================================] 176 0s 691ms\n",
      "Time for merging to ecor_cloned_df_struct_search.html: 0h 0m 0s 818ms\n",
      "Time for processing: 0h 0m 2s 536ms\n",
      "\n"
     ]
    },
    {
     "data": {
      "text/plain": [
       "0"
      ]
     },
     "execution_count": 41,
     "metadata": {},
     "output_type": "execute_result"
    }
   ],
   "source": [
    "os.system(' '.join(foldseek_preamble +\n",
    "                   ['convertalis', pad_struct_db, df_rep_struct_db, \n",
    "                    res_db, struct_out_html, \n",
    "                    '--format-mode 3']))"
   ]
  },
  {
   "cell_type": "markdown",
   "id": "e57ffcb5-1fa1-4e59-ab53-f87b051e8220",
   "metadata": {},
   "source": [
    "## Analyze homology results"
   ]
  },
  {
   "cell_type": "code",
   "execution_count": 9,
   "id": "666b3c08-e44b-40fd-a6b9-1881419faf2e",
   "metadata": {},
   "outputs": [
    {
     "name": "stderr",
     "output_type": "stream",
     "text": [
      "/tmp/ipykernel_1356294/921762995.py:4: DtypeWarning: Columns (24,30,35,39) have mixed types. Specify dtype option on import or set low_memory=False.\n",
      "  predictions = pd.read_csv('../data3/interim/ecor_predictions_defensive_cat2.csv')\n"
     ]
    }
   ],
   "source": [
    "hhpred_results = pd.read_csv(parsed_out_file)\n",
    "foldseek_results = pd.read_table(struct_out_file,\n",
    "                                 names=[\"query\", \"target\", \"fident\", \"alnlen\", \"mismatch\", \"gapopen\", \"qstart\", \"qend\", \"tstart\", \"tend\", \"qcov\", \"tcov\", \"evalue\", \"bits\", \"alntmscore\", \"qtmscore\", \"ttmscore\", \"rmsd\", \"lddt\", \"prob\"])\n",
    "predictions = pd.read_csv('../data3/interim/ecor_predictions_defensive_cat2.csv')\n",
    "hit_seq_info = pd.read_csv('../data3/interim/hit_seq_info.csv')\n",
    "display_name_df = pd.read_csv('../data/raw/Beaker validation domains - system_display_names.csv')\n",
    "df_rep_info = pd.read_csv('../data/interim/df_top_uniprot_hits.csv')"
   ]
  },
  {
   "cell_type": "code",
   "execution_count": 10,
   "id": "98494671-7726-4638-a238-5abd2b8c448b",
   "metadata": {},
   "outputs": [],
   "source": [
    "hit_categories = ['Defense homolog in expected system',\n",
    "                  'Defense homolog in new context', \n",
    "                  'Remote defense homolog', \n",
    "                  'Structural defense homolog',\n",
    "                  'Predicted novel defense gene', \n",
    "                  'Not defensive']\n",
    "predictions['hit_category'] = pd.Categorical(predictions['hit_category'], \n",
    "                                             categories=hit_categories)"
   ]
  },
  {
   "cell_type": "code",
   "execution_count": 11,
   "id": "2178a1c2-25d5-41c5-8fe3-b353825c97bb",
   "metadata": {},
   "outputs": [],
   "source": [
    "non_redundant_predictions = (predictions\n",
    "                             .sort_values(['hit_category', 'mean_log_odds'], ascending=[True, False])\n",
    "                             .groupby('cluster_id')\n",
    "                             .head(1))"
   ]
  },
  {
   "cell_type": "code",
   "execution_count": 12,
   "id": "7280cb58-cfb2-4c0f-a079-74611a8e0e5b",
   "metadata": {},
   "outputs": [],
   "source": [
    "hhpred_results['q_ali_len'] = hhpred_results['qend'] - hhpred_results['qstart']\n",
    "hhpred_homologs = (hhpred_results[(hhpred_results['Prob'] > 50)]\n",
    "                           .sort_values('q_ali_len', ascending=False)\n",
    "                           .groupby('query')\n",
    "                           .head(1))"
   ]
  },
  {
   "cell_type": "code",
   "execution_count": 13,
   "id": "ef5e8a73-bfb4-440c-9fb2-deefbf4699c7",
   "metadata": {},
   "outputs": [],
   "source": [
    "foldseek_homologs = (foldseek_results[foldseek_results['prob'] > 0.6]\n",
    "                     .sort_values('prob', ascending=False)\n",
    "                     .groupby('query')\n",
    "                     .head(1))"
   ]
  },
  {
   "cell_type": "markdown",
   "id": "9fb2eee4-857a-4aff-83bb-61d9c7088c5a",
   "metadata": {},
   "source": [
    "**Assigning validated hits**\n",
    "\n",
    "If hit is part of cluster that is not not defensive:\n",
    "\n",
    "    Assign hit to category\n",
    "\n",
    "Elif hit has log-odds > 0:\n",
    "    \n",
    "    Assign hit to category based on hhpred and foldseek results\n",
    "\n",
    "Else:\n",
    "\n",
    "    Assign hit to non-defensive category\n"
   ]
  },
  {
   "cell_type": "code",
   "execution_count": 14,
   "id": "1c8358df-911b-4b69-99db-8da648b04c59",
   "metadata": {},
   "outputs": [],
   "source": [
    "def assign_hit_category(row, qcov=0.4):\n",
    "    if row['mean_log_odds'] < 0:\n",
    "        return 'Not defensive'\n",
    "    elif row['cluster_hit_category'] != 'Not defensive':\n",
    "        return row['cluster_hit_category']\n",
    "    elif row['defense_system_protein']:\n",
    "        return 'Defense homolog in expected system'\n",
    "    elif row['defense_homolog']:\n",
    "        return 'Defense homolog in new context'\n",
    "    elif row['hhpred_qcov'] > qcov:\n",
    "        return 'Remote defense homolog'\n",
    "    elif row['foldseek_qcov'] > qcov:\n",
    "        return 'Structural defense homolog'\n",
    "    else:\n",
    "        return 'Predicted novel defense gene'"
   ]
  },
  {
   "cell_type": "code",
   "execution_count": 15,
   "id": "d72ec6ea-0015-4274-a700-fbda111198b0",
   "metadata": {},
   "outputs": [],
   "source": [
    "merged_long_library_info = (long_library_info.merge(predictions[['product_accession', 'genomic_accession','cluster_id', 'defense_homolog', \n",
    "                                                                 'defense_system_protein', 'product_length', 'mean_log_odds', 'start', 'strand']], \n",
    "                                          how='inner', on=['product_accession', 'genomic_accession'])\n",
    "                       .merge(non_redundant_predictions[['cluster_id', 'hit_category']]\n",
    "                              .rename(columns={'hit_category': 'cluster_hit_category'}), \n",
    "                              how='inner', on='cluster_id')\n",
    "                       .merge(display_name_df, how='left', on='working_id')\n",
    "                       .merge(hhpred_homologs[['query', 'hit_name', 'q_ali_len']]\n",
    "                              .rename(columns={'query': 'product_accession', \n",
    "                                               'hit_name': 'hhpred_hit_name', \n",
    "                                               'q_ali_len': 'hhpred_q_ali_len'}), \n",
    "                              how='left', on='product_accession')\n",
    "                       .merge(foldseek_homologs[['query', 'target', 'qcov']]\n",
    "                              .merge(df_rep_info[['target', 'description']], how='inner', on='target')\n",
    "                              .rename(columns={'query': 'product_accession',\n",
    "                                               'description': 'foldseek_target_homolog',\n",
    "                                               'target': 'foldseek_target',\n",
    "                                               'qcov': 'foldseek_qcov'}), \n",
    "                              how='left', on='product_accession'))\n",
    "merged_long_library_info['fake_start'] = pd.Series([1 if x == '+' else -1 for x in merged_long_library_info['strand']]) * merged_long_library_info['start']\n",
    "merged_long_library_info['protein_num'] = merged_long_library_info.groupby('working_id')['fake_start'].rank()\n",
    "merged_long_library_info['hhpred_qcov'] = merged_long_library_info['hhpred_q_ali_len']/merged_long_library_info['product_length']\n",
    "merged_long_library_info['hit_category'] = merged_long_library_info.apply(assign_hit_category, axis=1)\n",
    "merged_long_library_info['hit_category'] = pd.Categorical(merged_long_library_info['hit_category'], categories=['Not defensive'] + hit_categories[:-1])\n",
    "id_top_category = (merged_long_library_info.sort_values('hit_category', ascending=False)\n",
    "                   .groupby('working_id')\n",
    "                   .head(1)\n",
    "                   [['working_id', 'hit_category', 'DS_name']]\n",
    "                   .rename(columns={'hit_category':'top_hit_category'}))\n",
    "merged_long_library_info = (merged_long_library_info.merge(id_top_category.drop(columns='DS_name'), how='inner', on='working_id'))"
   ]
  },
  {
   "cell_type": "code",
   "execution_count": 16,
   "id": "9d95a1f0-6473-4224-bca7-be9a4d2e036b",
   "metadata": {},
   "outputs": [
    {
     "data": {
      "text/plain": [
       "153"
      ]
     },
     "execution_count": 16,
     "metadata": {},
     "output_type": "execute_result"
    }
   ],
   "source": [
    "len(merged_long_library_info)"
   ]
  },
  {
   "cell_type": "code",
   "execution_count": 17,
   "id": "156692be-ec68-4774-8419-c18836a9ea4b",
   "metadata": {},
   "outputs": [
    {
     "data": {
      "text/plain": [
       "Index(['protein_context_id', 'mean_log_odds', 'sd_log_odds', 'min_log_odds',\n",
       "       'max_log_odds', '# feature', 'class', 'assembly', 'assembly_unit',\n",
       "       'seq_type', 'chromosome', 'genomic_accession', 'start', 'end', 'strand',\n",
       "       'product_accession', 'non-redundant_refseq', 'related_accession',\n",
       "       'name', 'symbol', 'GeneID', 'locus_tag', 'feature_interval_length',\n",
       "       'product_length', 'attributes', 'assembly_stub', 'protein_assembly',\n",
       "       'defense_homolog', 'defense_system_protein', 'defense_homolog_names',\n",
       "       'sys_id', 'operon', 'contig_end', 'cluster_id', 'MG1655_homolog',\n",
       "       'hit_name', 'q_cov', 'Prob', 'hit_category', 'foldseek_hit', 'fident',\n",
       "       'alnlen', 'mismatch', 'gapopen', 'qstart', 'qend', 'tstart', 'tend',\n",
       "       'foldseek_q_cov', 'tcov', 'evalue', 'bits', 'alntmscore', 'qtmscore',\n",
       "       'ttmscore', 'rmsd', 'lddt', 'foldseek_prob', 'accession_stub',\n",
       "       'present', 'n_proteins'],\n",
       "      dtype='object')"
      ]
     },
     "execution_count": 17,
     "metadata": {},
     "output_type": "execute_result"
    }
   ],
   "source": [
    "novel_cluster_preds.columns"
   ]
  },
  {
   "cell_type": "code",
   "execution_count": 18,
   "id": "739fcf2b-1806-4b89-8997-42f03fe61627",
   "metadata": {},
   "outputs": [],
   "source": [
    "no_cov_novel_clusters = novel_cluster_preds.loc[novel_cluster_preds['q_cov'] == 0, 'product_accession']"
   ]
  },
  {
   "cell_type": "code",
   "execution_count": 19,
   "id": "5c5598d5-18e0-4252-9dd4-389a157ed1be",
   "metadata": {},
   "outputs": [
    {
     "name": "stdout",
     "output_type": "stream",
     "text": [
      "# clusters: 18\n",
      "# proteins 18\n"
     ]
    }
   ],
   "source": [
    "no_cov_validated_clusters = (merged_long_library_info[~merged_long_library_info['DS_name'].isna() & \n",
    "                                                      merged_long_library_info['cluster_id'].isin(no_cov_novel_clusters)]\n",
    "                             .reset_index(drop=True))\n",
    "no_cov_validated_clusters['ds_num'] = no_cov_validated_clusters['DS_name'].str.split('-', expand=True)[1].astype(int)\n",
    "print('# clusters:', no_cov_validated_clusters['cluster_id'].nunique())\n",
    "print('# proteins', len(no_cov_validated_clusters))"
   ]
  },
  {
   "cell_type": "code",
   "execution_count": 20,
   "id": "07d64cf8-5cef-41f0-9995-929c63a9dccc",
   "metadata": {},
   "outputs": [
    {
     "data": {
      "text/html": [
       "<div>\n",
       "<style scoped>\n",
       "    .dataframe tbody tr th:only-of-type {\n",
       "        vertical-align: middle;\n",
       "    }\n",
       "\n",
       "    .dataframe tbody tr th {\n",
       "        vertical-align: top;\n",
       "    }\n",
       "\n",
       "    .dataframe thead th {\n",
       "        text-align: right;\n",
       "    }\n",
       "</style>\n",
       "<table border=\"1\" class=\"dataframe\">\n",
       "  <thead>\n",
       "    <tr style=\"text-align: right;\">\n",
       "      <th></th>\n",
       "      <th>DS_name</th>\n",
       "      <th>protein_num</th>\n",
       "      <th>hit_category</th>\n",
       "    </tr>\n",
       "  </thead>\n",
       "  <tbody>\n",
       "    <tr>\n",
       "      <th>1</th>\n",
       "      <td>DS-1</td>\n",
       "      <td>1.0</td>\n",
       "      <td>Predicted novel defense gene</td>\n",
       "    </tr>\n",
       "    <tr>\n",
       "      <th>0</th>\n",
       "      <td>DS-1</td>\n",
       "      <td>2.0</td>\n",
       "      <td>Predicted novel defense gene</td>\n",
       "    </tr>\n",
       "    <tr>\n",
       "      <th>13</th>\n",
       "      <td>DS-2</td>\n",
       "      <td>3.0</td>\n",
       "      <td>Predicted novel defense gene</td>\n",
       "    </tr>\n",
       "    <tr>\n",
       "      <th>10</th>\n",
       "      <td>DS-3</td>\n",
       "      <td>1.0</td>\n",
       "      <td>Predicted novel defense gene</td>\n",
       "    </tr>\n",
       "    <tr>\n",
       "      <th>11</th>\n",
       "      <td>DS-4</td>\n",
       "      <td>1.0</td>\n",
       "      <td>Predicted novel defense gene</td>\n",
       "    </tr>\n",
       "    <tr>\n",
       "      <th>12</th>\n",
       "      <td>DS-4</td>\n",
       "      <td>5.0</td>\n",
       "      <td>Predicted novel defense gene</td>\n",
       "    </tr>\n",
       "    <tr>\n",
       "      <th>6</th>\n",
       "      <td>DS-5</td>\n",
       "      <td>2.0</td>\n",
       "      <td>Predicted novel defense gene</td>\n",
       "    </tr>\n",
       "    <tr>\n",
       "      <th>15</th>\n",
       "      <td>DS-6</td>\n",
       "      <td>2.0</td>\n",
       "      <td>Predicted novel defense gene</td>\n",
       "    </tr>\n",
       "    <tr>\n",
       "      <th>17</th>\n",
       "      <td>DS-9</td>\n",
       "      <td>1.0</td>\n",
       "      <td>Predicted novel defense gene</td>\n",
       "    </tr>\n",
       "    <tr>\n",
       "      <th>2</th>\n",
       "      <td>DS-13</td>\n",
       "      <td>2.0</td>\n",
       "      <td>Predicted novel defense gene</td>\n",
       "    </tr>\n",
       "    <tr>\n",
       "      <th>3</th>\n",
       "      <td>DS-15</td>\n",
       "      <td>2.0</td>\n",
       "      <td>Predicted novel defense gene</td>\n",
       "    </tr>\n",
       "    <tr>\n",
       "      <th>5</th>\n",
       "      <td>DS-19</td>\n",
       "      <td>1.0</td>\n",
       "      <td>Predicted novel defense gene</td>\n",
       "    </tr>\n",
       "    <tr>\n",
       "      <th>4</th>\n",
       "      <td>DS-21</td>\n",
       "      <td>2.0</td>\n",
       "      <td>Predicted novel defense gene</td>\n",
       "    </tr>\n",
       "    <tr>\n",
       "      <th>8</th>\n",
       "      <td>DS-22</td>\n",
       "      <td>1.0</td>\n",
       "      <td>Predicted novel defense gene</td>\n",
       "    </tr>\n",
       "    <tr>\n",
       "      <th>7</th>\n",
       "      <td>DS-29</td>\n",
       "      <td>1.0</td>\n",
       "      <td>Predicted novel defense gene</td>\n",
       "    </tr>\n",
       "    <tr>\n",
       "      <th>9</th>\n",
       "      <td>DS-30</td>\n",
       "      <td>2.0</td>\n",
       "      <td>Predicted novel defense gene</td>\n",
       "    </tr>\n",
       "    <tr>\n",
       "      <th>14</th>\n",
       "      <td>DS-37</td>\n",
       "      <td>1.0</td>\n",
       "      <td>Predicted novel defense gene</td>\n",
       "    </tr>\n",
       "    <tr>\n",
       "      <th>16</th>\n",
       "      <td>DS-42</td>\n",
       "      <td>1.0</td>\n",
       "      <td>Predicted novel defense gene</td>\n",
       "    </tr>\n",
       "  </tbody>\n",
       "</table>\n",
       "</div>"
      ],
      "text/plain": [
       "   DS_name  protein_num                  hit_category\n",
       "1     DS-1          1.0  Predicted novel defense gene\n",
       "0     DS-1          2.0  Predicted novel defense gene\n",
       "13    DS-2          3.0  Predicted novel defense gene\n",
       "10    DS-3          1.0  Predicted novel defense gene\n",
       "11    DS-4          1.0  Predicted novel defense gene\n",
       "12    DS-4          5.0  Predicted novel defense gene\n",
       "6     DS-5          2.0  Predicted novel defense gene\n",
       "15    DS-6          2.0  Predicted novel defense gene\n",
       "17    DS-9          1.0  Predicted novel defense gene\n",
       "2    DS-13          2.0  Predicted novel defense gene\n",
       "3    DS-15          2.0  Predicted novel defense gene\n",
       "5    DS-19          1.0  Predicted novel defense gene\n",
       "4    DS-21          2.0  Predicted novel defense gene\n",
       "8    DS-22          1.0  Predicted novel defense gene\n",
       "7    DS-29          1.0  Predicted novel defense gene\n",
       "9    DS-30          2.0  Predicted novel defense gene\n",
       "14   DS-37          1.0  Predicted novel defense gene\n",
       "16   DS-42          1.0  Predicted novel defense gene"
      ]
     },
     "execution_count": 20,
     "metadata": {},
     "output_type": "execute_result"
    }
   ],
   "source": [
    "no_cov_validated_clusters.sort_values(['ds_num', 'protein_num'])[['DS_name', 'protein_num', 'hit_category']]"
   ]
  },
  {
   "cell_type": "code",
   "execution_count": 21,
   "id": "4f4393d4-bb46-493a-b207-23956e64d2c6",
   "metadata": {},
   "outputs": [
    {
     "data": {
      "text/plain": [
       "0      False\n",
       "1      False\n",
       "2      False\n",
       "3      False\n",
       "4      False\n",
       "       ...  \n",
       "148    False\n",
       "149    False\n",
       "150    False\n",
       "151    False\n",
       "152    False\n",
       "Length: 153, dtype: bool"
      ]
     },
     "execution_count": 21,
     "metadata": {},
     "output_type": "execute_result"
    }
   ],
   "source": [
    "(~merged_long_library_info['DS_name'].isna() & (merged_long_library_info['cluster_id'].isin(no_cov_novel_clusters)))"
   ]
  },
  {
   "cell_type": "code",
   "execution_count": 22,
   "id": "6e06da72-8871-4ca2-ba2f-8ce1fc7d522a",
   "metadata": {},
   "outputs": [
    {
     "data": {
      "text/plain": [
       "28"
      ]
     },
     "execution_count": 22,
     "metadata": {},
     "output_type": "execute_result"
    }
   ],
   "source": [
    "((merged_long_library_info['hit_category'] == 'Predicted novel defense gene') & \n",
    " merged_long_library_info['hhpred_q_ali_len'].isna() & \n",
    " ~merged_long_library_info['DS_name'].isna()).sum()\n"
   ]
  },
  {
   "cell_type": "code",
   "execution_count": 23,
   "id": "268c3264-b1e5-475d-bdc2-eb97be0c04f3",
   "metadata": {},
   "outputs": [
    {
     "data": {
      "text/plain": [
       "top_hit_category\n",
       "Predicted novel defense gene          73\n",
       "Remote defense homolog                13\n",
       "Structural defense homolog             8\n",
       "Not defensive                          0\n",
       "Defense homolog in expected system     0\n",
       "Defense homolog in new context         0\n",
       "Name: count, dtype: int64"
      ]
     },
     "execution_count": 23,
     "metadata": {},
     "output_type": "execute_result"
    }
   ],
   "source": [
    "id_top_category['top_hit_category'].value_counts()"
   ]
  },
  {
   "cell_type": "code",
   "execution_count": 24,
   "id": "30cc0bb3-1d9d-4fa9-87bd-a3c2aac759bd",
   "metadata": {},
   "outputs": [
    {
     "data": {
      "text/plain": [
       "top_hit_category\n",
       "Predicted novel defense gene          32\n",
       "Remote defense homolog                 7\n",
       "Structural defense homolog             3\n",
       "Not defensive                          0\n",
       "Defense homolog in expected system     0\n",
       "Defense homolog in new context         0\n",
       "Name: count, dtype: int64"
      ]
     },
     "execution_count": 24,
     "metadata": {},
     "output_type": "execute_result"
    }
   ],
   "source": [
    "id_top_category.loc[~id_top_category['DS_name'].isna(), 'top_hit_category'].value_counts()"
   ]
  },
  {
   "cell_type": "code",
   "execution_count": 26,
   "id": "9d8a5715-9859-4613-8fa8-504f57d0dc2e",
   "metadata": {},
   "outputs": [],
   "source": [
    "highlight_hit_seq_info = merged_long_library_info[~merged_long_library_info['DS_name'].isna()].copy()\n",
    "highlight_hit_seq_info['ds_num'] = highlight_hit_seq_info['DS_name'].str.split('-', expand=True)[1].astype(int)\n",
    "highlight_hit_seq_info = (highlight_hit_seq_info\n",
    "                          .sort_values(['ds_num', 'protein_num'])\n",
    "                          .loc[highlight_hit_seq_info['hit_category'] == highlight_hit_seq_info['top_hit_category'], \n",
    "                                                  ['DS_name', 'protein_num', 'hit_category']])"
   ]
  },
  {
   "cell_type": "code",
   "execution_count": 27,
   "id": "0841db9b-9c96-4e6d-9282-c1c4953ce27f",
   "metadata": {},
   "outputs": [
    {
     "data": {
      "text/html": [
       "<div>\n",
       "<style scoped>\n",
       "    .dataframe tbody tr th:only-of-type {\n",
       "        vertical-align: middle;\n",
       "    }\n",
       "\n",
       "    .dataframe tbody tr th {\n",
       "        vertical-align: top;\n",
       "    }\n",
       "\n",
       "    .dataframe thead th {\n",
       "        text-align: right;\n",
       "    }\n",
       "</style>\n",
       "<table border=\"1\" class=\"dataframe\">\n",
       "  <thead>\n",
       "    <tr style=\"text-align: right;\">\n",
       "      <th></th>\n",
       "      <th>DS_name</th>\n",
       "      <th>protein_num</th>\n",
       "      <th>hit_category</th>\n",
       "    </tr>\n",
       "  </thead>\n",
       "  <tbody>\n",
       "    <tr>\n",
       "      <th>10</th>\n",
       "      <td>DS-1</td>\n",
       "      <td>1.0</td>\n",
       "      <td>Predicted novel defense gene</td>\n",
       "    </tr>\n",
       "    <tr>\n",
       "      <th>9</th>\n",
       "      <td>DS-1</td>\n",
       "      <td>2.0</td>\n",
       "      <td>Predicted novel defense gene</td>\n",
       "    </tr>\n",
       "    <tr>\n",
       "      <th>92</th>\n",
       "      <td>DS-2</td>\n",
       "      <td>3.0</td>\n",
       "      <td>Predicted novel defense gene</td>\n",
       "    </tr>\n",
       "    <tr>\n",
       "      <th>70</th>\n",
       "      <td>DS-3</td>\n",
       "      <td>1.0</td>\n",
       "      <td>Predicted novel defense gene</td>\n",
       "    </tr>\n",
       "    <tr>\n",
       "      <th>72</th>\n",
       "      <td>DS-4</td>\n",
       "      <td>1.0</td>\n",
       "      <td>Predicted novel defense gene</td>\n",
       "    </tr>\n",
       "    <tr>\n",
       "      <th>74</th>\n",
       "      <td>DS-4</td>\n",
       "      <td>3.0</td>\n",
       "      <td>Predicted novel defense gene</td>\n",
       "    </tr>\n",
       "    <tr>\n",
       "      <th>76</th>\n",
       "      <td>DS-4</td>\n",
       "      <td>5.0</td>\n",
       "      <td>Predicted novel defense gene</td>\n",
       "    </tr>\n",
       "    <tr>\n",
       "      <th>29</th>\n",
       "      <td>DS-5</td>\n",
       "      <td>1.0</td>\n",
       "      <td>Predicted novel defense gene</td>\n",
       "    </tr>\n",
       "    <tr>\n",
       "      <th>30</th>\n",
       "      <td>DS-5</td>\n",
       "      <td>2.0</td>\n",
       "      <td>Predicted novel defense gene</td>\n",
       "    </tr>\n",
       "    <tr>\n",
       "      <th>97</th>\n",
       "      <td>DS-6</td>\n",
       "      <td>1.0</td>\n",
       "      <td>Predicted novel defense gene</td>\n",
       "    </tr>\n",
       "    <tr>\n",
       "      <th>96</th>\n",
       "      <td>DS-6</td>\n",
       "      <td>2.0</td>\n",
       "      <td>Predicted novel defense gene</td>\n",
       "    </tr>\n",
       "    <tr>\n",
       "      <th>100</th>\n",
       "      <td>DS-7</td>\n",
       "      <td>1.0</td>\n",
       "      <td>Predicted novel defense gene</td>\n",
       "    </tr>\n",
       "    <tr>\n",
       "      <th>59</th>\n",
       "      <td>DS-8</td>\n",
       "      <td>1.0</td>\n",
       "      <td>Predicted novel defense gene</td>\n",
       "    </tr>\n",
       "    <tr>\n",
       "      <th>117</th>\n",
       "      <td>DS-9</td>\n",
       "      <td>1.0</td>\n",
       "      <td>Predicted novel defense gene</td>\n",
       "    </tr>\n",
       "    <tr>\n",
       "      <th>134</th>\n",
       "      <td>DS-10</td>\n",
       "      <td>1.0</td>\n",
       "      <td>Predicted novel defense gene</td>\n",
       "    </tr>\n",
       "    <tr>\n",
       "      <th>119</th>\n",
       "      <td>DS-11</td>\n",
       "      <td>1.0</td>\n",
       "      <td>Predicted novel defense gene</td>\n",
       "    </tr>\n",
       "    <tr>\n",
       "      <th>6</th>\n",
       "      <td>DS-12</td>\n",
       "      <td>2.0</td>\n",
       "      <td>Remote defense homolog</td>\n",
       "    </tr>\n",
       "    <tr>\n",
       "      <th>12</th>\n",
       "      <td>DS-13</td>\n",
       "      <td>2.0</td>\n",
       "      <td>Predicted novel defense gene</td>\n",
       "    </tr>\n",
       "    <tr>\n",
       "      <th>5</th>\n",
       "      <td>DS-14</td>\n",
       "      <td>1.0</td>\n",
       "      <td>Remote defense homolog</td>\n",
       "    </tr>\n",
       "    <tr>\n",
       "      <th>16</th>\n",
       "      <td>DS-15</td>\n",
       "      <td>2.0</td>\n",
       "      <td>Predicted novel defense gene</td>\n",
       "    </tr>\n",
       "    <tr>\n",
       "      <th>25</th>\n",
       "      <td>DS-16</td>\n",
       "      <td>2.0</td>\n",
       "      <td>Structural defense homolog</td>\n",
       "    </tr>\n",
       "    <tr>\n",
       "      <th>8</th>\n",
       "      <td>DS-17</td>\n",
       "      <td>1.0</td>\n",
       "      <td>Predicted novel defense gene</td>\n",
       "    </tr>\n",
       "    <tr>\n",
       "      <th>14</th>\n",
       "      <td>DS-18</td>\n",
       "      <td>1.0</td>\n",
       "      <td>Remote defense homolog</td>\n",
       "    </tr>\n",
       "    <tr>\n",
       "      <th>28</th>\n",
       "      <td>DS-19</td>\n",
       "      <td>1.0</td>\n",
       "      <td>Predicted novel defense gene</td>\n",
       "    </tr>\n",
       "    <tr>\n",
       "      <th>23</th>\n",
       "      <td>DS-20</td>\n",
       "      <td>1.0</td>\n",
       "      <td>Predicted novel defense gene</td>\n",
       "    </tr>\n",
       "    <tr>\n",
       "      <th>20</th>\n",
       "      <td>DS-21</td>\n",
       "      <td>1.0</td>\n",
       "      <td>Predicted novel defense gene</td>\n",
       "    </tr>\n",
       "    <tr>\n",
       "      <th>22</th>\n",
       "      <td>DS-21</td>\n",
       "      <td>2.0</td>\n",
       "      <td>Predicted novel defense gene</td>\n",
       "    </tr>\n",
       "    <tr>\n",
       "      <th>40</th>\n",
       "      <td>DS-22</td>\n",
       "      <td>1.0</td>\n",
       "      <td>Predicted novel defense gene</td>\n",
       "    </tr>\n",
       "    <tr>\n",
       "      <th>19</th>\n",
       "      <td>DS-23</td>\n",
       "      <td>1.0</td>\n",
       "      <td>Predicted novel defense gene</td>\n",
       "    </tr>\n",
       "    <tr>\n",
       "      <th>24</th>\n",
       "      <td>DS-24</td>\n",
       "      <td>1.0</td>\n",
       "      <td>Remote defense homolog</td>\n",
       "    </tr>\n",
       "    <tr>\n",
       "      <th>62</th>\n",
       "      <td>DS-26</td>\n",
       "      <td>1.0</td>\n",
       "      <td>Remote defense homolog</td>\n",
       "    </tr>\n",
       "    <tr>\n",
       "      <th>91</th>\n",
       "      <td>DS-27</td>\n",
       "      <td>1.0</td>\n",
       "      <td>Predicted novel defense gene</td>\n",
       "    </tr>\n",
       "    <tr>\n",
       "      <th>85</th>\n",
       "      <td>DS-28</td>\n",
       "      <td>1.0</td>\n",
       "      <td>Predicted novel defense gene</td>\n",
       "    </tr>\n",
       "    <tr>\n",
       "      <th>84</th>\n",
       "      <td>DS-28</td>\n",
       "      <td>2.0</td>\n",
       "      <td>Predicted novel defense gene</td>\n",
       "    </tr>\n",
       "    <tr>\n",
       "      <th>38</th>\n",
       "      <td>DS-29</td>\n",
       "      <td>1.0</td>\n",
       "      <td>Predicted novel defense gene</td>\n",
       "    </tr>\n",
       "    <tr>\n",
       "      <th>67</th>\n",
       "      <td>DS-30</td>\n",
       "      <td>2.0</td>\n",
       "      <td>Predicted novel defense gene</td>\n",
       "    </tr>\n",
       "    <tr>\n",
       "      <th>80</th>\n",
       "      <td>DS-31</td>\n",
       "      <td>1.0</td>\n",
       "      <td>Predicted novel defense gene</td>\n",
       "    </tr>\n",
       "    <tr>\n",
       "      <th>36</th>\n",
       "      <td>DS-32</td>\n",
       "      <td>2.0</td>\n",
       "      <td>Predicted novel defense gene</td>\n",
       "    </tr>\n",
       "    <tr>\n",
       "      <th>58</th>\n",
       "      <td>DS-33</td>\n",
       "      <td>2.0</td>\n",
       "      <td>Predicted novel defense gene</td>\n",
       "    </tr>\n",
       "    <tr>\n",
       "      <th>79</th>\n",
       "      <td>DS-34</td>\n",
       "      <td>2.0</td>\n",
       "      <td>Predicted novel defense gene</td>\n",
       "    </tr>\n",
       "    <tr>\n",
       "      <th>82</th>\n",
       "      <td>DS-35</td>\n",
       "      <td>1.0</td>\n",
       "      <td>Remote defense homolog</td>\n",
       "    </tr>\n",
       "    <tr>\n",
       "      <th>95</th>\n",
       "      <td>DS-37</td>\n",
       "      <td>1.0</td>\n",
       "      <td>Predicted novel defense gene</td>\n",
       "    </tr>\n",
       "    <tr>\n",
       "      <th>81</th>\n",
       "      <td>DS-38</td>\n",
       "      <td>1.0</td>\n",
       "      <td>Predicted novel defense gene</td>\n",
       "    </tr>\n",
       "    <tr>\n",
       "      <th>55</th>\n",
       "      <td>DS-39</td>\n",
       "      <td>1.0</td>\n",
       "      <td>Predicted novel defense gene</td>\n",
       "    </tr>\n",
       "    <tr>\n",
       "      <th>114</th>\n",
       "      <td>DS-40</td>\n",
       "      <td>1.0</td>\n",
       "      <td>Predicted novel defense gene</td>\n",
       "    </tr>\n",
       "    <tr>\n",
       "      <th>83</th>\n",
       "      <td>DS-41</td>\n",
       "      <td>1.0</td>\n",
       "      <td>Remote defense homolog</td>\n",
       "    </tr>\n",
       "    <tr>\n",
       "      <th>111</th>\n",
       "      <td>DS-42</td>\n",
       "      <td>1.0</td>\n",
       "      <td>Predicted novel defense gene</td>\n",
       "    </tr>\n",
       "    <tr>\n",
       "      <th>110</th>\n",
       "      <td>DS-42</td>\n",
       "      <td>2.0</td>\n",
       "      <td>Predicted novel defense gene</td>\n",
       "    </tr>\n",
       "    <tr>\n",
       "      <th>107</th>\n",
       "      <td>DS-43</td>\n",
       "      <td>1.0</td>\n",
       "      <td>Structural defense homolog</td>\n",
       "    </tr>\n",
       "    <tr>\n",
       "      <th>149</th>\n",
       "      <td>DS-45</td>\n",
       "      <td>1.0</td>\n",
       "      <td>Structural defense homolog</td>\n",
       "    </tr>\n",
       "  </tbody>\n",
       "</table>\n",
       "</div>"
      ],
      "text/plain": [
       "    DS_name  protein_num                  hit_category\n",
       "10     DS-1          1.0  Predicted novel defense gene\n",
       "9      DS-1          2.0  Predicted novel defense gene\n",
       "92     DS-2          3.0  Predicted novel defense gene\n",
       "70     DS-3          1.0  Predicted novel defense gene\n",
       "72     DS-4          1.0  Predicted novel defense gene\n",
       "74     DS-4          3.0  Predicted novel defense gene\n",
       "76     DS-4          5.0  Predicted novel defense gene\n",
       "29     DS-5          1.0  Predicted novel defense gene\n",
       "30     DS-5          2.0  Predicted novel defense gene\n",
       "97     DS-6          1.0  Predicted novel defense gene\n",
       "96     DS-6          2.0  Predicted novel defense gene\n",
       "100    DS-7          1.0  Predicted novel defense gene\n",
       "59     DS-8          1.0  Predicted novel defense gene\n",
       "117    DS-9          1.0  Predicted novel defense gene\n",
       "134   DS-10          1.0  Predicted novel defense gene\n",
       "119   DS-11          1.0  Predicted novel defense gene\n",
       "6     DS-12          2.0        Remote defense homolog\n",
       "12    DS-13          2.0  Predicted novel defense gene\n",
       "5     DS-14          1.0        Remote defense homolog\n",
       "16    DS-15          2.0  Predicted novel defense gene\n",
       "25    DS-16          2.0    Structural defense homolog\n",
       "8     DS-17          1.0  Predicted novel defense gene\n",
       "14    DS-18          1.0        Remote defense homolog\n",
       "28    DS-19          1.0  Predicted novel defense gene\n",
       "23    DS-20          1.0  Predicted novel defense gene\n",
       "20    DS-21          1.0  Predicted novel defense gene\n",
       "22    DS-21          2.0  Predicted novel defense gene\n",
       "40    DS-22          1.0  Predicted novel defense gene\n",
       "19    DS-23          1.0  Predicted novel defense gene\n",
       "24    DS-24          1.0        Remote defense homolog\n",
       "62    DS-26          1.0        Remote defense homolog\n",
       "91    DS-27          1.0  Predicted novel defense gene\n",
       "85    DS-28          1.0  Predicted novel defense gene\n",
       "84    DS-28          2.0  Predicted novel defense gene\n",
       "38    DS-29          1.0  Predicted novel defense gene\n",
       "67    DS-30          2.0  Predicted novel defense gene\n",
       "80    DS-31          1.0  Predicted novel defense gene\n",
       "36    DS-32          2.0  Predicted novel defense gene\n",
       "58    DS-33          2.0  Predicted novel defense gene\n",
       "79    DS-34          2.0  Predicted novel defense gene\n",
       "82    DS-35          1.0        Remote defense homolog\n",
       "95    DS-37          1.0  Predicted novel defense gene\n",
       "81    DS-38          1.0  Predicted novel defense gene\n",
       "55    DS-39          1.0  Predicted novel defense gene\n",
       "114   DS-40          1.0  Predicted novel defense gene\n",
       "83    DS-41          1.0        Remote defense homolog\n",
       "111   DS-42          1.0  Predicted novel defense gene\n",
       "110   DS-42          2.0  Predicted novel defense gene\n",
       "107   DS-43          1.0    Structural defense homolog\n",
       "149   DS-45          1.0    Structural defense homolog"
      ]
     },
     "execution_count": 27,
     "metadata": {},
     "output_type": "execute_result"
    }
   ],
   "source": [
    "highlight_hit_seq_info"
   ]
  },
  {
   "cell_type": "code",
   "execution_count": 28,
   "id": "32950fce-291f-4293-85f5-88425e176274",
   "metadata": {},
   "outputs": [
    {
     "data": {
      "text/plain": [
       "top_hit_category\n",
       "Predicted novel defense gene          73\n",
       "Remote defense homolog                13\n",
       "Structural defense homolog             8\n",
       "Not defensive                          0\n",
       "Defense homolog in expected system     0\n",
       "Defense homolog in new context         0\n",
       "Name: count, dtype: int64"
      ]
     },
     "execution_count": 28,
     "metadata": {},
     "output_type": "execute_result"
    }
   ],
   "source": [
    "id_top_category['top_hit_category'].value_counts()"
   ]
  },
  {
   "cell_type": "code",
   "execution_count": null,
   "id": "a9a092f2-2d4a-4bbc-b0f0-1b95b5098ee5",
   "metadata": {},
   "outputs": [],
   "source": []
  }
 ],
 "metadata": {
  "kernelspec": {
   "display_name": "beaker",
   "language": "python",
   "name": "python3"
  },
  "language_info": {
   "codemirror_mode": {
    "name": "ipython",
    "version": 3
   },
   "file_extension": ".py",
   "mimetype": "text/x-python",
   "name": "python",
   "nbconvert_exporter": "python",
   "pygments_lexer": "ipython3",
   "version": "3.8.20"
  }
 },
 "nbformat": 4,
 "nbformat_minor": 5
}
