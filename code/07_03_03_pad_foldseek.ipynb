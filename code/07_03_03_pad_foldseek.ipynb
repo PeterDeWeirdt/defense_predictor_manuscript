{
 "cells": [
  {
   "cell_type": "code",
   "execution_count": 11,
   "id": "3d6391bc-d5ae-4b80-9143-8ae05fe4874e",
   "metadata": {},
   "outputs": [],
   "source": [
    "import os\n",
    "import pandas as pd"
   ]
  },
  {
   "cell_type": "code",
   "execution_count": 3,
   "id": "2399a3f4-a6f7-4074-998b-763574e95b82",
   "metadata": {},
   "outputs": [],
   "source": [
    "model_seq_db = '../data3/interim/foldseek_dbs/model_seqs_prostt5'\n",
    "padded_model_seq_db = '../data3/interim/foldseek_dbs/padded_model_seqs_prostt5'"
   ]
  },
  {
   "cell_type": "code",
   "execution_count": 4,
   "id": "655a1760-5c8f-4d9f-a1d7-5ac69c262694",
   "metadata": {},
   "outputs": [
    {
     "name": "stdout",
     "output_type": "stream",
     "text": [
      "makepaddedseqdb ../data3/interim/foldseek_dbs/model_seqs_prostt5 ../data3/interim/foldseek_dbs/padded_model_seqs_prostt5 \n",
      "\n",
      "MMseqs Version:          \te3fadcd07f971e864c094ac4f3a78bf4ed845e07\n",
      "Substitution matrix      \taa:3di.out,nucl:3di.out\n",
      "Mask residues            \t0\n",
      "Mask residues probability\t0.999995\n",
      "Write lookup file        \t1\n",
      "Threads                  \t80\n",
      "Verbosity                \t3\n",
      "Cluster search           \t0\n",
      "\n",
      "lndb ../data3/interim/foldseek_dbs/model_seqs_prostt5_h ../data3/interim/foldseek_dbs/padded_model_seqs_prostt5_tmp_ss_h \n",
      "\n",
      "Time for processing: 0h 0m 0s 50ms\n",
      "lndb ../data3/interim/foldseek_dbs/model_seqs_prostt5_ss ../data3/interim/foldseek_dbs/padded_model_seqs_prostt5_tmp_ss \n",
      "\n",
      "Time for processing: 0h 0m 0s 51ms\n",
      "makepaddedseqdb ../data3/interim/foldseek_dbs/padded_model_seqs_prostt5_tmp_ss ../data3/interim/foldseek_dbs/padded_model_seqs_prostt5_ss --sub-mat 'aa:3di.out,nucl:3di.out' --score-bias 0 --mask 0 --mask-prob 0.999995 --mask-lower-case 1 --mask-n-repeat 6 --write-lookup 1 --threads 80 -v 3 \n",
      "\n",
      "[=================================================================] 200.46K 2s 175ms\n",
      "Time for merging to padded_model_seqs_prostt5_ss: 0h 0m 0s 560ms\n",
      "Time for merging to padded_model_seqs_prostt5_ss_h: 0h 0m 0s 452ms\n",
      "Time for processing: 0h 0m 5s 816ms\n",
      "rmdb ../data3/interim/foldseek_dbs/padded_model_seqs_prostt5_tmp_ss \n",
      "\n",
      "Time for processing: 0h 0m 0s 2ms\n",
      "rmdb ../data3/interim/foldseek_dbs/padded_model_seqs_prostt5_tmp_ss_h \n",
      "\n",
      "Time for processing: 0h 0m 0s 1ms\n",
      "renamedbkeys ../data3/interim/foldseek_dbs/padded_model_seqs_prostt5_ss.gpu_mapping1 ../data3/interim/foldseek_dbs/model_seqs_prostt5 ../data3/interim/foldseek_dbs/padded_model_seqs_prostt5 --subdb-mode 1 --threads 80 -v 3 \n",
      "\n",
      "Time for merging to padded_model_seqs_prostt5: 0h 0m 0s 39ms\n",
      "Time for merging to padded_model_seqs_prostt5_h: 0h 0m 0s 31ms\n",
      "Time for processing: 0h 0m 1s 951ms\n",
      "../data3/interim/foldseek_dbs/padded_model_seqs_prostt5_h exists and will be overwritten\n",
      "renamedbkeys ../data3/interim/foldseek_dbs/padded_model_seqs_prostt5_ss.gpu_mapping1 ../data3/interim/foldseek_dbs/model_seqs_prostt5_h ../data3/interim/foldseek_dbs/padded_model_seqs_prostt5_h --subdb-mode 1 --threads 80 -v 3 \n",
      "\n",
      "Time for merging to padded_model_seqs_prostt5_h: 0h 0m 0s 31ms\n",
      "Time for processing: 0h 0m 0s 121ms\n",
      "\n",
      "CPU times: user 1.85 ms, sys: 0 ns, total: 1.85 ms\n",
      "Wall time: 10.5 s\n"
     ]
    },
    {
     "data": {
      "text/plain": [
       "0"
      ]
     },
     "execution_count": 4,
     "metadata": {},
     "output_type": "execute_result"
    }
   ],
   "source": [
    "%%time\n",
    "os.system(' '.join([\"conda run -n nvcc\", \n",
    "                    \"/home/gridsan/pdeweirdt/Documents/foldseek/build/bin/foldseek\", \n",
    "                    \"makepaddedseqdb\", \n",
    "                    model_seq_db, \n",
    "                    padded_model_seq_db]))"
   ]
  },
  {
   "cell_type": "code",
   "execution_count": null,
   "id": "77d92097-9324-48ed-b5f7-d842a4aa3cbd",
   "metadata": {},
   "outputs": [],
   "source": []
  }
 ],
 "metadata": {
  "kernelspec": {
   "display_name": "beaker",
   "language": "python",
   "name": "beaker"
  },
  "language_info": {
   "codemirror_mode": {
    "name": "ipython",
    "version": 3
   },
   "file_extension": ".py",
   "mimetype": "text/x-python",
   "name": "python",
   "nbconvert_exporter": "python",
   "pygments_lexer": "ipython3",
   "version": "3.8.16"
  }
 },
 "nbformat": 4,
 "nbformat_minor": 5
}
