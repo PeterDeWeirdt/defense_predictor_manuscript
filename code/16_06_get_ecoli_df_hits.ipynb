{
 "cells": [
  {
   "cell_type": "code",
   "execution_count": 6,
   "id": "60fff144-ad94-4028-9bbb-58b9b63dea0e",
   "metadata": {},
   "outputs": [],
   "source": [
    "from tqdm import tqdm\n",
    "import os\n",
    "from joblib import Parallel, delayed\n",
    "import subprocess\n",
    "import warnings"
   ]
  },
  {
   "cell_type": "markdown",
   "id": "b6b24c4c-5f05-4df8-8fbf-f70206a17eb4",
   "metadata": {},
   "source": [
    "## Run DefenseFinder"
   ]
  },
  {
   "cell_type": "code",
   "execution_count": 3,
   "id": "bbe471f8-61cc-413d-a8bb-360bef6277da",
   "metadata": {},
   "outputs": [],
   "source": [
    "def run_defense_finder(assembly_file, out_dir):\n",
    "    assembly_stub = assembly_file.split('.')[0]\n",
    "    assembly_out_dir = out_dir + assembly_stub\n",
    "    if 'GCF' in assembly_file:\n",
    "        os.mkdir(assembly_out_dir)\n",
    "        subprocess.run(['conda', 'run', '-n', 'beaker', \n",
    "                        'defense-finder', 'run', \n",
    "                        '-w', '1',\n",
    "                        '-o', assembly_out_dir,\n",
    "                        '../data/ecoli/raw/faa/' + assembly_file], \n",
    "                       stdout=subprocess.DEVNULL)\n",
    "    else:\n",
    "        warnings.warn(' '.join([assembly_file, 'failed']))"
   ]
  },
  {
   "cell_type": "code",
   "execution_count": 4,
   "id": "7410a9f0-26cb-47f5-9ff1-f0536e8381ab",
   "metadata": {},
   "outputs": [],
   "source": [
    "top_out_dir = '../data/ecoli/interim/defense_finder_results/'"
   ]
  },
  {
   "cell_type": "code",
   "execution_count": 7,
   "id": "2cfcf9fc-f2a0-42ab-b686-ca74d1b78bf8",
   "metadata": {},
   "outputs": [],
   "source": [
    "if 'defense_finder_results' in os.listdir('../data/ecoli/interim'):\n",
    "    os.system('rm -r ' + top_out_dir)\n",
    "os.mkdir(top_out_dir)"
   ]
  },
  {
   "cell_type": "code",
   "execution_count": 9,
   "id": "cf865168-9901-4414-a24f-ce73644a7ae4",
   "metadata": {},
   "outputs": [
    {
     "data": {
      "text/plain": [
       "3000"
      ]
     },
     "execution_count": 9,
     "metadata": {},
     "output_type": "execute_result"
    }
   ],
   "source": [
    "faa_files = [x for x in os.listdir('../data/ecoli/raw/faa/') if '.faa' == x[-4:]]\n",
    "len(faa_files)"
   ]
  },
  {
   "cell_type": "code",
   "execution_count": 10,
   "id": "7589351a-0cdb-4882-8b3c-7bda8db3120d",
   "metadata": {},
   "outputs": [
    {
     "name": "stderr",
     "output_type": "stream",
     "text": [
      "100%|██████████| 3000/3000 [1:44:47<00:00,  2.10s/it]\n"
     ]
    }
   ],
   "source": [
    "_ = Parallel(n_jobs=48)(delayed(run_defense_finder)(assembly_file, top_out_dir) for assembly_file in tqdm(faa_files, position=0))"
   ]
  },
  {
   "cell_type": "code",
   "execution_count": null,
   "id": "6d4d20e1-9654-4b74-8979-bbcb28625b6f",
   "metadata": {},
   "outputs": [],
   "source": []
  }
 ],
 "metadata": {
  "kernelspec": {
   "display_name": "beaker",
   "language": "python",
   "name": "beaker"
  },
  "language_info": {
   "codemirror_mode": {
    "name": "ipython",
    "version": 3
   },
   "file_extension": ".py",
   "mimetype": "text/x-python",
   "name": "python",
   "nbconvert_exporter": "python",
   "pygments_lexer": "ipython3",
   "version": "3.8.16"
  }
 },
 "nbformat": 4,
 "nbformat_minor": 5
}
