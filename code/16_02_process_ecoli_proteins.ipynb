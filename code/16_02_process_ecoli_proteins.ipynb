{
 "cells": [
  {
   "cell_type": "code",
   "execution_count": null,
   "id": "5194539e-2a76-4448-b037-fab751902ec3",
   "metadata": {},
   "outputs": [],
   "source": [
    "import os\n",
    "import hashlib\n",
    "from joblib import Parallel, delayed\n",
    "from tqdm import tqdm\n",
    "import pandas as pd\n",
    "from concurrent.futures import ThreadPoolExecutor"
   ]
  },
  {
   "cell_type": "code",
   "execution_count": 8,
   "id": "1ac4de51-7fa6-4e9b-82ee-4ddfa5f34505",
   "metadata": {},
   "outputs": [],
   "source": [
    "def unzip_file(file):\n",
    "    os.system('gunzip ' + file)\n",
    "\n",
    "\n",
    "def encode_protein(p):\n",
    "    return hashlib.sha224(p.encode('utf-8')).hexdigest()\n",
    "\n",
    "\n",
    "def process_seq(seq, name, assembly, f):\n",
    "    seq_id = encode_protein(seq)\n",
    "    print(','.join([name, seq_id, seq, assembly]), file=f)\n",
    "\n",
    "\n",
    "def process_faa_file(faa_dir, faa_file, out_dir):\n",
    "    assembly = faa_file.split('.')[0]\n",
    "    with open(out_dir + assembly + '.csv', 'w') as f:\n",
    "        seq = ''\n",
    "        for line in open(faa_dir + faa_file, 'r'):\n",
    "            if '>' in line:\n",
    "                if seq:\n",
    "                    process_seq(seq, name, assembly, f)\n",
    "                    seq = ''\n",
    "                name = line.split(' ')[0][1:]\n",
    "            else:\n",
    "                seq += line.strip()\n",
    "        process_seq(seq, name, assembly, f)\n",
    "\n",
    "\n",
    "def process_unique_split(out_dir, unique_seq_df, i):\n",
    "    with open(out_dir + str(i) + '.faa', 'w') as f:\n",
    "        for _, row in unique_seq_df.iterrows():\n",
    "            print('>' + row['seq_id'], file=f)\n",
    "            print(row['seq'], file=f)"
   ]
  },
  {
   "cell_type": "code",
   "execution_count": 3,
   "id": "b60b5652-30ce-4537-a422-6abce6b75b02",
   "metadata": {},
   "outputs": [],
   "source": [
    "faa_dir = '../data/ecoli/raw/faa/'\n",
    "# outputs\n",
    "seq_assembly_dir = '../data/ecoli/interim/seq_assemblies/'"
   ]
  },
  {
   "cell_type": "code",
   "execution_count": 4,
   "id": "58c1e3c5-e1b3-42c1-96a8-4469bda029a8",
   "metadata": {},
   "outputs": [
    {
     "name": "stdout",
     "output_type": "stream",
     "text": [
      "Unzipping faa files\n"
     ]
    },
    {
     "name": "stderr",
     "output_type": "stream",
     "text": [
      "100%|██████████| 3000/3000 [00:04<00:00, 717.00it/s]\n"
     ]
    }
   ],
   "source": [
    "print('Unzipping faa files')\n",
    "faa_files = [file for file in os.listdir(faa_dir) if '.gz' in file]\n",
    "_ = Parallel(n_jobs=48)(delayed(unzip_file)(faa_dir + f) for f in tqdm(faa_files))"
   ]
  },
  {
   "cell_type": "code",
   "execution_count": 6,
   "id": "c4c56f70-957f-4aa0-a6ce-3a6414e3fde8",
   "metadata": {},
   "outputs": [],
   "source": [
    "import os\n",
    "from joblib import Parallel, delayed\n",
    "from tqdm import tqdm"
   ]
  },
  {
   "cell_type": "code",
   "execution_count": 9,
   "id": "e63245c3-8a9c-424e-9899-680ea8bf27cb",
   "metadata": {
    "collapsed": true,
    "jupyter": {
     "outputs_hidden": true
    },
    "tags": []
   },
   "outputs": [
    {
     "name": "stdout",
     "output_type": "stream",
     "text": [
      "Unzipping ft files\n"
     ]
    },
    {
     "name": "stderr",
     "output_type": "stream",
     "text": [
      "\n",
      "  0%|          | 0/3000 [00:00<?, ?it/s]\u001b[A\n",
      "  2%|▏         | 48/3000 [00:00<00:25, 116.88it/s]\u001b[A\n",
      "  3%|▎         | 96/3000 [00:00<00:18, 156.27it/s]\u001b[A\n",
      "  5%|▍         | 144/3000 [00:00<00:13, 204.57it/s]\u001b[A\n",
      "  6%|▋         | 192/3000 [00:00<00:11, 251.71it/s]\u001b[A\n",
      " 10%|▉         | 288/3000 [00:01<00:07, 352.79it/s]\u001b[A\n",
      " 13%|█▎        | 384/3000 [00:01<00:05, 472.03it/s]\u001b[A\n",
      " 16%|█▌        | 480/3000 [00:01<00:04, 536.32it/s]\u001b[A\n",
      " 19%|█▉        | 576/3000 [00:01<00:04, 585.92it/s]\u001b[A\n",
      " 22%|██▏       | 672/3000 [00:01<00:04, 569.83it/s]\u001b[A\n",
      " 26%|██▌       | 768/3000 [00:01<00:04, 555.95it/s]\u001b[A\n",
      " 29%|██▉       | 864/3000 [00:02<00:04, 528.61it/s]\u001b[A\n",
      " 32%|███▏      | 960/3000 [00:02<00:03, 536.43it/s]\u001b[A\n",
      " 35%|███▌      | 1056/3000 [00:02<00:03, 557.48it/s]\u001b[A\n",
      " 38%|███▊      | 1152/3000 [00:02<00:03, 568.85it/s]\u001b[A\n",
      " 42%|████▏     | 1248/3000 [00:02<00:03, 557.90it/s]\u001b[A\n",
      " 45%|████▍     | 1344/3000 [00:02<00:03, 503.37it/s]\u001b[A\n",
      " 48%|████▊     | 1440/3000 [00:03<00:02, 527.94it/s]\u001b[A\n",
      " 51%|█████     | 1536/3000 [00:03<00:02, 507.59it/s]\u001b[A\n",
      " 54%|█████▍    | 1632/3000 [00:03<00:02, 503.54it/s]\u001b[A\n",
      " 58%|█████▊    | 1728/3000 [00:03<00:02, 510.70it/s]\u001b[A\n",
      " 61%|██████    | 1824/3000 [00:03<00:02, 538.83it/s]\u001b[A\n",
      " 64%|██████▍   | 1920/3000 [00:04<00:01, 545.68it/s]\u001b[A\n",
      " 67%|██████▋   | 2016/3000 [00:04<00:01, 572.19it/s]\u001b[A\n",
      " 70%|███████   | 2112/3000 [00:04<00:01, 598.56it/s]\u001b[A\n",
      " 74%|███████▎  | 2208/3000 [00:04<00:01, 609.85it/s]\u001b[A\n",
      " 77%|███████▋  | 2304/3000 [00:04<00:01, 619.37it/s]\u001b[A\n",
      " 80%|████████  | 2400/3000 [00:04<00:01, 590.74it/s]\u001b[A\n",
      " 83%|████████▎ | 2496/3000 [00:04<00:00, 590.75it/s]\u001b[A\n",
      " 86%|████████▋ | 2592/3000 [00:05<00:00, 611.47it/s]\u001b[A\n",
      " 90%|████████▉ | 2688/3000 [00:05<00:00, 603.21it/s]\u001b[A\n",
      " 93%|█████████▎| 2784/3000 [00:05<00:00, 625.72it/s]\u001b[A\n",
      " 96%|█████████▌| 2880/3000 [00:05<00:00, 630.14it/s]\u001b[A\n",
      "100%|██████████| 3000/3000 [00:05<00:00, 526.23it/s]\u001b[A\n"
     ]
    }
   ],
   "source": [
    "print('Unzipping ft files')\n",
    "ft_dir = '../data/ecoli/raw/ft/'\n",
    "ft_files = [file for file in os.listdir(ft_dir) if '.gz' in file]\n",
    "_ = Parallel(n_jobs=48)(delayed(unzip_file)(ft_dir + f) for f in tqdm(ft_files))"
   ]
  },
  {
   "cell_type": "code",
   "execution_count": 10,
   "id": "33bdeb01-f504-4751-91cd-8709b8289160",
   "metadata": {
    "collapsed": true,
    "jupyter": {
     "outputs_hidden": true
    },
    "tags": []
   },
   "outputs": [
    {
     "name": "stdout",
     "output_type": "stream",
     "text": [
      "Unzipping fna files\n"
     ]
    },
    {
     "name": "stderr",
     "output_type": "stream",
     "text": [
      "\n",
      "  0%|          | 0/3000 [00:00<?, ?it/s]\u001b[A\n",
      "  3%|▎         | 96/3000 [00:00<00:04, 590.80it/s]\u001b[A\n",
      "  6%|▋         | 192/3000 [00:00<00:05, 547.69it/s]\u001b[A\n",
      " 10%|▉         | 288/3000 [00:00<00:06, 413.82it/s]\u001b[A\n",
      " 13%|█▎        | 384/3000 [00:01<00:08, 302.08it/s]\u001b[A\n",
      " 16%|█▌        | 480/3000 [00:01<00:08, 281.19it/s]\u001b[A\n",
      " 19%|█▉        | 576/3000 [00:01<00:09, 267.02it/s]\u001b[A\n",
      " 22%|██▏       | 672/3000 [00:02<00:09, 255.65it/s]\u001b[A\n",
      " 26%|██▌       | 768/3000 [00:02<00:09, 243.48it/s]\u001b[A\n",
      " 29%|██▉       | 864/3000 [00:03<00:09, 220.80it/s]\u001b[A\n",
      " 32%|███▏      | 960/3000 [00:03<00:09, 221.61it/s]\u001b[A\n",
      " 35%|███▌      | 1056/3000 [00:04<00:08, 223.04it/s]\u001b[A\n",
      " 38%|███▊      | 1152/3000 [00:04<00:08, 214.08it/s]\u001b[A\n",
      " 42%|████▏     | 1248/3000 [00:05<00:08, 218.04it/s]\u001b[A\n",
      " 45%|████▍     | 1344/3000 [00:05<00:07, 230.36it/s]\u001b[A\n",
      " 48%|████▊     | 1440/3000 [00:05<00:06, 231.90it/s]\u001b[A\n",
      " 51%|█████     | 1536/3000 [00:06<00:06, 243.09it/s]\u001b[A\n",
      " 54%|█████▍    | 1632/3000 [00:06<00:05, 246.93it/s]\u001b[A\n",
      " 58%|█████▊    | 1728/3000 [00:06<00:05, 245.61it/s]\u001b[A\n",
      " 61%|██████    | 1824/3000 [00:07<00:04, 240.14it/s]\u001b[A\n",
      " 64%|██████▍   | 1920/3000 [00:07<00:04, 234.66it/s]\u001b[A\n",
      " 67%|██████▋   | 2016/3000 [00:08<00:04, 244.45it/s]\u001b[A\n",
      " 70%|███████   | 2112/3000 [00:08<00:03, 249.72it/s]\u001b[A\n",
      " 74%|███████▎  | 2208/3000 [00:08<00:03, 246.20it/s]\u001b[A\n",
      " 77%|███████▋  | 2304/3000 [00:09<00:02, 255.00it/s]\u001b[A\n",
      " 80%|████████  | 2400/3000 [00:09<00:02, 247.77it/s]\u001b[A\n",
      " 83%|████████▎ | 2496/3000 [00:09<00:01, 256.42it/s]\u001b[A\n",
      " 86%|████████▋ | 2592/3000 [00:10<00:01, 252.13it/s]\u001b[A\n",
      " 90%|████████▉ | 2688/3000 [00:10<00:01, 255.49it/s]\u001b[A\n",
      " 93%|█████████▎| 2784/3000 [00:11<00:00, 257.56it/s]\u001b[A\n",
      " 96%|█████████▌| 2880/3000 [00:11<00:00, 254.35it/s]\u001b[A\n",
      "100%|██████████| 3000/3000 [00:11<00:00, 252.93it/s]\u001b[A\n"
     ]
    }
   ],
   "source": [
    "print('Unzipping fna files')\n",
    "fna_dir = '../data/ecoli/raw/fna/'\n",
    "fna_files = [file for file in os.listdir(fna_dir) if '.gz' in file]\n",
    "_ = Parallel(n_jobs=48)(delayed(unzip_file)(fna_dir + f) for f in tqdm(fna_files))"
   ]
  },
  {
   "cell_type": "code",
   "execution_count": 5,
   "id": "5a08d7fc-2c3c-4e7b-b92d-606c732973e7",
   "metadata": {},
   "outputs": [],
   "source": [
    "if 'seq_assemblies' in os.listdir('../data/ecoli/interim/'):\n",
    "    os.system('rm -r ' + seq_assembly_dir)"
   ]
  },
  {
   "cell_type": "code",
   "execution_count": 6,
   "id": "e923917e-4417-4bc2-8927-d4e3a77ce61d",
   "metadata": {},
   "outputs": [
    {
     "name": "stdout",
     "output_type": "stream",
     "text": [
      "Deduplicating fasta files\n"
     ]
    },
    {
     "name": "stderr",
     "output_type": "stream",
     "text": [
      "100%|██████████| 3000/3000 [00:03<00:00, 873.67it/s] \n"
     ]
    }
   ],
   "source": [
    "print('Deduplicating fasta files')\n",
    "faa_files = [file for file in os.listdir(faa_dir) if '.faa' in file]\n",
    "os.system('mkdir ' + seq_assembly_dir)\n",
    "_ = Parallel(n_jobs=48)(delayed(process_faa_file)(faa_dir, faa_file, seq_assembly_dir) for faa_file in tqdm(faa_files))\n"
   ]
  },
  {
   "cell_type": "code",
   "execution_count": 7,
   "id": "b742058d-1b95-42b6-866a-becf9ee870d1",
   "metadata": {},
   "outputs": [],
   "source": [
    "seq_assemblies_f = '../data/ecoli/interim/seq_assemblies.csv'"
   ]
  },
  {
   "cell_type": "code",
   "execution_count": 8,
   "id": "2668ca7a-0609-4b9a-ba7a-e829b879a592",
   "metadata": {},
   "outputs": [],
   "source": [
    "seq_assembly_fs = [f for f in os.listdir(seq_assembly_dir) if (f[-4:] == '.csv')]"
   ]
  },
  {
   "cell_type": "code",
   "execution_count": 9,
   "id": "8d9592a4-473b-4d4e-88b8-5b0455ba6282",
   "metadata": {},
   "outputs": [],
   "source": [
    "if 'seq_assemblies.csv' in os.listdir('../data/ecoli/interim/'):\n",
    "    os.system('rm ' + seq_assemblies_f)"
   ]
  },
  {
   "cell_type": "code",
   "execution_count": 10,
   "id": "38c671a1-b188-4943-8513-9f299dd2aeb6",
   "metadata": {},
   "outputs": [],
   "source": [
    "def concatenate_file(f):\n",
    "    with open(os.path.join(seq_assembly_dir, f), 'rb') as infile:\n",
    "        return infile.read()"
   ]
  },
  {
   "cell_type": "code",
   "execution_count": 11,
   "id": "efd35f5a-6d46-4d9b-b2a2-3593f4bd108b",
   "metadata": {},
   "outputs": [
    {
     "name": "stderr",
     "output_type": "stream",
     "text": [
      "100%|██████████| 3000/3000 [00:05<00:00, 502.87it/s]\n"
     ]
    }
   ],
   "source": [
    "with open(seq_assemblies_f, 'wb') as outfile:\n",
    "    with ThreadPoolExecutor(max_workers=48) as executor:\n",
    "        # Map the function to the files in parallel\n",
    "        for content in tqdm(executor.map(concatenate_file, seq_assembly_fs), total=len(seq_assembly_fs)):\n",
    "            outfile.write(content)"
   ]
  },
  {
   "cell_type": "code",
   "execution_count": 12,
   "id": "236ff55c-8e48-40bf-9abe-99222d3dba51",
   "metadata": {},
   "outputs": [],
   "source": [
    "!rm -r {seq_assembly_dir}"
   ]
  },
  {
   "cell_type": "code",
   "execution_count": 13,
   "id": "fa026450-cf61-4f02-960f-c7220bc2f4bb",
   "metadata": {},
   "outputs": [
    {
     "name": "stdout",
     "output_type": "stream",
     "text": [
      "CPU times: user 46.4 s, sys: 2.74 s, total: 49.1 s\n",
      "Wall time: 49.2 s\n"
     ]
    }
   ],
   "source": [
    "%%time\n",
    "seq_assemblies_df = pd.read_csv(seq_assemblies_f, \n",
    "                                names=['product_accession', 'seq_id', 'seq', 'assembly'])"
   ]
  },
  {
   "cell_type": "code",
   "execution_count": 14,
   "id": "627cd29e-d8f4-48f8-a480-24665bdc39ad",
   "metadata": {},
   "outputs": [],
   "source": [
    "unique_accession_assemblies = seq_assemblies_df[['product_accession', 'assembly']].drop_duplicates()"
   ]
  },
  {
   "cell_type": "code",
   "execution_count": 15,
   "id": "a49e0ef7-9466-4fde-b758-993608e9ff7a",
   "metadata": {},
   "outputs": [
    {
     "data": {
      "text/plain": [
       "3000"
      ]
     },
     "execution_count": 15,
     "metadata": {},
     "output_type": "execute_result"
    }
   ],
   "source": [
    "unique_accession_assemblies['assembly'].nunique()"
   ]
  },
  {
   "cell_type": "code",
   "execution_count": 16,
   "id": "d4d107c3-7f60-4f7d-a60b-3c63a51cfa10",
   "metadata": {},
   "outputs": [],
   "source": [
    "unique_accession_assemblies.to_parquet('../data/ecoli/interim/unique_accession_assemblies.pq', index=False)"
   ]
  },
  {
   "cell_type": "code",
   "execution_count": 17,
   "id": "54fd829a-8dbd-42f9-b086-16f0ce60b145",
   "metadata": {},
   "outputs": [],
   "source": [
    "unique_seq_assemblies = seq_assemblies_df[['product_accession', 'seq_id', 'seq']].drop_duplicates()"
   ]
  },
  {
   "cell_type": "code",
   "execution_count": 18,
   "id": "cd016929-584b-4fed-94b0-99dd5981f742",
   "metadata": {},
   "outputs": [],
   "source": [
    "unique_seq_assemblies.to_parquet('../data/ecoli/interim/unique_seqs.pq', index=False)"
   ]
  },
  {
   "cell_type": "code",
   "execution_count": null,
   "id": "c565fac2-616e-4e9a-95be-0378fd4bdb8a",
   "metadata": {},
   "outputs": [],
   "source": [
    "unique_seq_assemblies"
   ]
  },
  {
   "cell_type": "code",
   "execution_count": 19,
   "id": "b2aec25d-bfe4-4c75-9221-7b32d63783de",
   "metadata": {},
   "outputs": [
    {
     "data": {
      "text/plain": [
       "(1070803, 3)"
      ]
     },
     "execution_count": 19,
     "metadata": {},
     "output_type": "execute_result"
    }
   ],
   "source": [
    "unique_seq_assemblies.shape"
   ]
  },
  {
   "cell_type": "code",
   "execution_count": 5,
   "id": "08daaf1c-63d8-4d20-aefc-72a4493f0c7d",
   "metadata": {},
   "outputs": [],
   "source": [
    "unique_seq_fa = '../data/ecoli/interim/unique_seqs.faa'"
   ]
  },
  {
   "cell_type": "code",
   "execution_count": 6,
   "id": "e8eac9a4-4814-4bbd-98fd-a876ec2b15d7",
   "metadata": {},
   "outputs": [
    {
     "name": "stderr",
     "output_type": "stream",
     "text": [
      "100%|██████████| 1070803/1070803 [00:54<00:00, 19797.20it/s]\n"
     ]
    }
   ],
   "source": [
    "with open(unique_seq_fa, 'w') as f:\n",
    "    for _, row in tqdm(unique_seq_assemblies.iterrows(), \n",
    "                       total=len(unique_seq_assemblies)):\n",
    "        seq = row['seq']\n",
    "        if 'X' in seq:\n",
    "            seq = seq.replace('X', '')\n",
    "        if 'U' in seq:\n",
    "            seq = seq.replace('U', 'C')\n",
    "        if 'B' in seq:\n",
    "            seq = seq.replace('B', 'N')\n",
    "        if 'J' in seq:\n",
    "            seq = seq.replace('J', 'L')\n",
    "        print('>' + row['product_accession'], file=f)\n",
    "        print(seq, file=f)"
   ]
  },
  {
   "cell_type": "code",
   "execution_count": 23,
   "id": "4f7fe1d4-605c-4aec-be2d-7e34b480d0c4",
   "metadata": {},
   "outputs": [],
   "source": [
    "if 'mmseqs' in os.listdir('../data/ecoli/interim/'):\n",
    "    os.system('rm -r ../data/ecoli/interim/mmseqs/')\n",
    "os.mkdir('../data/ecoli/interim/mmseqs/')"
   ]
  },
  {
   "cell_type": "code",
   "execution_count": 24,
   "id": "4e428377-b023-4d0c-9c3b-ed9c34dd7688",
   "metadata": {},
   "outputs": [],
   "source": [
    "unique_seq_db = '../data/ecoli/interim/mmseqs/unique_seqs.db'"
   ]
  },
  {
   "cell_type": "code",
   "execution_count": 25,
   "id": "7ae4c5a2-d805-4a88-b402-f7fbfaebf3b9",
   "metadata": {},
   "outputs": [
    {
     "name": "stdout",
     "output_type": "stream",
     "text": [
      "createdb ../data/ecoli/interim/unique_seqs.faa ../data/ecoli/interim/mmseqs/unique_seqs.db --dbtype 1 \n",
      "\n",
      "MMseqs Version:       \t13.45111\n",
      "Database type         \t1\n",
      "Shuffle input database\ttrue\n",
      "Createdb mode         \t0\n",
      "Write lookup file     \t1\n",
      "Offset of numeric ids \t0\n",
      "Compressed            \t0\n",
      "Verbosity             \t3\n",
      "\n",
      "Converting sequences\n",
      "[===================================================================================================\t1 Mio. sequences processed\n",
      "=======\n",
      "Time for merging to unique_seqs.db_h: 0h 0m 0s 838ms\n",
      "Time for merging to unique_seqs.db: 0h 0m 0s 682ms\n",
      "Database type: Aminoacid\n",
      "Time for processing: 0h 0m 6s 594ms\n",
      "\n",
      "CPU times: user 91.6 ms, sys: 122 ms, total: 214 ms\n",
      "Wall time: 8.82 s\n"
     ]
    }
   ],
   "source": [
    "%%time\n",
    "!conda run -n beaker \\\n",
    "mmseqs createdb {unique_seq_fa} {unique_seq_db} \\\n",
    "--dbtype 1"
   ]
  },
  {
   "cell_type": "code",
   "execution_count": 26,
   "id": "fda30485-5ef5-4bf7-be6f-8f5c2ecc1faf",
   "metadata": {},
   "outputs": [
    {
     "name": "stdout",
     "output_type": "stream",
     "text": [
      "createindex ../data/ecoli/interim/mmseqs/unique_seqs.db ../data/tmp \n",
      "\n",
      "MMseqs Version:          \t13.45111\n",
      "Seed substitution matrix \tnucl:nucleotide.out,aa:VTML80.out\n",
      "k-mer length             \t0\n",
      "Alphabet size            \tnucl:5,aa:21\n",
      "Compositional bias       \t1\n",
      "Max sequence length      \t65535\n",
      "Max results per query    \t300\n",
      "Mask residues            \t1\n",
      "Mask lower case residues \t0\n",
      "Spaced k-mers            \t1\n",
      "Spaced k-mer pattern     \t\n",
      "Sensitivity              \t7.5\n",
      "k-score                  \t0\n",
      "Check compatible         \t0\n",
      "Search type              \t0\n",
      "Split database           \t0\n",
      "Split memory limit       \t0\n",
      "Verbosity                \t3\n",
      "Threads                  \t96\n",
      "Min codons in orf        \t30\n",
      "Max codons in length     \t32734\n",
      "Max orf gaps             \t2147483647\n",
      "Contig start mode        \t2\n",
      "Contig end mode          \t2\n",
      "Orf start mode           \t1\n",
      "Forward frames           \t1,2,3\n",
      "Reverse frames           \t1,2,3\n",
      "Translation table        \t1\n",
      "Translate orf            \t0\n",
      "Use all table starts     \tfalse\n",
      "Offset of numeric ids    \t0\n",
      "Create lookup            \t0\n",
      "Compressed               \t0\n",
      "Add orf stop             \tfalse\n",
      "Overlap between sequences\t0\n",
      "Sequence split mode      \t1\n",
      "Header split mode        \t0\n",
      "Strand selection         \t1\n",
      "Remove temporary files   \tfalse\n",
      "\n",
      "createindex ../data/ecoli/interim/mmseqs/unique_seqs.db ../data/tmp \n",
      "\n",
      "MMseqs Version:          \t13.45111\n",
      "Seed substitution matrix \tnucl:nucleotide.out,aa:VTML80.out\n",
      "k-mer length             \t0\n",
      "Alphabet size            \tnucl:5,aa:21\n",
      "Compositional bias       \t1\n",
      "Max sequence length      \t65535\n",
      "Max results per query    \t300\n",
      "Mask residues            \t1\n",
      "Mask lower case residues \t0\n",
      "Spaced k-mers            \t1\n",
      "Spaced k-mer pattern     \t\n",
      "Sensitivity              \t7.5\n",
      "k-score                  \t0\n",
      "Check compatible         \t0\n",
      "Search type              \t0\n",
      "Split database           \t0\n",
      "Split memory limit       \t0\n",
      "Verbosity                \t3\n",
      "Threads                  \t96\n",
      "Min codons in orf        \t30\n",
      "Max codons in length     \t32734\n",
      "Max orf gaps             \t2147483647\n",
      "Contig start mode        \t2\n",
      "Contig end mode          \t2\n",
      "Orf start mode           \t1\n",
      "Forward frames           \t1,2,3\n",
      "Reverse frames           \t1,2,3\n",
      "Translation table        \t1\n",
      "Translate orf            \t0\n",
      "Use all table starts     \tfalse\n",
      "Offset of numeric ids    \t0\n",
      "Create lookup            \t0\n",
      "Compressed               \t0\n",
      "Add orf stop             \tfalse\n",
      "Overlap between sequences\t0\n",
      "Sequence split mode      \t1\n",
      "Header split mode        \t0\n",
      "Strand selection         \t1\n",
      "Remove temporary files   \tfalse\n",
      "\n",
      "indexdb ../data/ecoli/interim/mmseqs/unique_seqs.db ../data/ecoli/interim/mmseqs/unique_seqs.db --seed-sub-mat nucl:nucleotide.out,aa:VTML80.out -k 0 --alph-size nucl:5,aa:21 --comp-bias-corr 1 --max-seq-len 65535 --max-seqs 300 --mask 1 --mask-lower-case 0 --spaced-kmer-mode 1 -s 7.5 --k-score 0 --check-compatible 0 --search-type 0 --split 0 --split-memory-limit 0 -v 3 --threads 96 \n",
      "\n",
      "Estimated memory consumption: 7G\n",
      "Write VERSION (0)\n",
      "Write META (1)\n",
      "Write SCOREMATRIX3MER (4)\n",
      "Write SCOREMATRIX2MER (3)\n",
      "Write SCOREMATRIXNAME (2)\n",
      "Write SPACEDPATTERN (23)\n",
      "Write GENERATOR (22)\n",
      "Write DBR1INDEX (5)\n",
      "Write DBR1DATA (6)\n",
      "Write HDR1INDEX (18)\n",
      "Write HDR1DATA (19)\n",
      "Index table: counting k-mers\n",
      "[=================================================================] 1.07M 1s 742ms\n",
      "Index table: Masked residues: 4303721\n",
      "Index table: fill\n",
      "[=================================================================] 1.07M 1s 851ms\n",
      "Index statistics\n",
      "Entries:          364515437\n",
      "DB size:          2574 MB\n",
      "Avg k-mer size:   5.695554\n",
      "Top 10 k-mers\n",
      "    GLYRYY\t5797\n",
      "    YDLGIT\t5141\n",
      "    QQDELY\t5073\n",
      "    RYDLRY\t5035\n",
      "    SGYNRY\t4998\n",
      "    TSGPFS\t4377\n",
      "    WNYYNP\t4245\n",
      "    HRYPGR\t4231\n",
      "    ANGLVT\t4144\n",
      "    VNVKFV\t4125\n",
      "Write ENTRIES (9)\n",
      "Write ENTRIESOFFSETS (10)\n",
      "Write SEQINDEXDATASIZE (15)\n",
      "Write SEQINDEXSEQOFFSET (16)\n",
      "Write SEQINDEXDATA (14)\n",
      "Write ENTRIESNUM (12)\n",
      "Write SEQCOUNT (13)\n",
      "Time for merging to unique_seqs.db.idx: 0h 0m 0s 25ms\n",
      "Time for processing: 0h 0m 7s 589ms\n",
      "\n",
      "CPU times: user 124 ms, sys: 110 ms, total: 234 ms\n",
      "Wall time: 9.28 s\n"
     ]
    }
   ],
   "source": [
    "%%time\n",
    "!conda run -n beaker mmseqs createindex {unique_seq_db}  ../data/tmp"
   ]
  },
  {
   "cell_type": "code",
   "execution_count": 27,
   "id": "911ab129-d091-4859-91bc-ee4b0551bda6",
   "metadata": {},
   "outputs": [],
   "source": [
    "cov = 0.8\n",
    "min_seq_id = 0.3\n",
    "threads = 48\n",
    "cluster_mode = 1"
   ]
  },
  {
   "cell_type": "code",
   "execution_count": 28,
   "id": "49b09370-2699-4150-b12c-2ff12d3c64e2",
   "metadata": {},
   "outputs": [],
   "source": [
    "clust_db = '../data/ecoli/interim/mmseqs/unique_seqs_clust.db'"
   ]
  },
  {
   "cell_type": "code",
   "execution_count": 30,
   "id": "adee04f0-08ee-4b91-ae09-71d34a6f3ee5",
   "metadata": {
    "tags": []
   },
   "outputs": [
    {
     "name": "stdout",
     "output_type": "stream",
     "text": [
      "cluster ../data/ecoli/interim/mmseqs/unique_seqs.db ../data/ecoli/interim/mmseqs/unique_seqs_clust.db ../data/tmp -c 0.8 --min-seq-id 0.3 --threads 48 --cluster-mode 1 \n",
      "\n",
      "MMseqs Version:                     \t13.45111\n",
      "Substitution matrix                 \tnucl:nucleotide.out,aa:blosum62.out\n",
      "Seed substitution matrix            \tnucl:nucleotide.out,aa:VTML80.out\n",
      "Sensitivity                         \t4\n",
      "k-mer length                        \t0\n",
      "k-score                             \t2147483647\n",
      "Alphabet size                       \tnucl:5,aa:21\n",
      "Max sequence length                 \t65535\n",
      "Max results per query               \t20\n",
      "Split database                      \t0\n",
      "Split mode                          \t2\n",
      "Split memory limit                  \t0\n",
      "Coverage threshold                  \t0.8\n",
      "Coverage mode                       \t0\n",
      "Compositional bias                  \t1\n",
      "Diagonal scoring                    \ttrue\n",
      "Exact k-mer matching                \t0\n",
      "Mask residues                       \t1\n",
      "Mask lower case residues            \t0\n",
      "Minimum diagonal score              \t15\n",
      "Include identical seq. id.          \tfalse\n",
      "Spaced k-mers                       \t1\n",
      "Preload mode                        \t0\n",
      "Pseudo count a                      \t1\n",
      "Pseudo count b                      \t1.5\n",
      "Spaced k-mer pattern                \t\n",
      "Local temporary path                \t\n",
      "Threads                             \t48\n",
      "Compressed                          \t0\n",
      "Verbosity                           \t3\n",
      "Add backtrace                       \tfalse\n",
      "Alignment mode                      \t3\n",
      "Alignment mode                      \t0\n",
      "Allow wrapped scoring               \tfalse\n",
      "E-value threshold                   \t0.001\n",
      "Seq. id. threshold                  \t0.3\n",
      "Min alignment length                \t0\n",
      "Seq. id. mode                       \t0\n",
      "Alternative alignments              \t0\n",
      "Max reject                          \t2147483647\n",
      "Max accept                          \t2147483647\n",
      "Score bias                          \t0\n",
      "Realign hits                        \tfalse\n",
      "Realign score bias                  \t-0.2\n",
      "Realign max seqs                    \t2147483647\n",
      "Gap open cost                       \tnucl:5,aa:11\n",
      "Gap extension cost                  \tnucl:2,aa:1\n",
      "Zdrop                               \t40\n",
      "Rescore mode                        \t0\n",
      "Remove hits by seq. id. and coverage\tfalse\n",
      "Sort results                        \t0\n",
      "Cluster mode                        \t1\n",
      "Max connected component depth       \t1000\n",
      "Similarity type                     \t2\n",
      "Single step clustering              \tfalse\n",
      "Cascaded clustering steps           \t3\n",
      "Cluster reassign                    \tfalse\n",
      "Remove temporary files              \tfalse\n",
      "Force restart with latest tmp       \tfalse\n",
      "MPI runner                          \t\n",
      "k-mers per sequence                 \t21\n",
      "Scale k-mers per sequence           \tnucl:0.200,aa:0.000\n",
      "Adjust k-mer length                 \tfalse\n",
      "Shift hash                          \t67\n",
      "Include only extendable             \tfalse\n",
      "Skip repeating k-mers               \tfalse\n",
      "\n",
      "Set cluster sensitivity to -s 5.000000\n",
      "Connected component clustering produces less clusters in a single step clustering.\n",
      "Please use --single-step-clusterSet cluster iterations to 3\n",
      "linclust ../data/ecoli/interim/mmseqs/unique_seqs.db ../data/tmp/10526115481703975782/clu_redundancy ../data/tmp/10526115481703975782/linclust --cluster-mode 1 --max-iterations 1000 --similarity-type 2 --threads 48 --compressed 0 -v 3 --sub-mat nucl:nucleotide.out,aa:blosum62.out -a 0 --alignment-mode 3 --alignment-output-mode 0 --wrapped-scoring 0 -e 0.001 --min-seq-id 0.3 --min-aln-len 0 --seq-id-mode 0 --alt-ali 0 -c 0.8 --cov-mode 0 --max-seq-len 65535 --comp-bias-corr 1 --max-rejected 2147483647 --max-accept 2147483647 --add-self-matches 0 --db-load-mode 0 --pca 1 --pcb 1.5 --score-bias 0 --realign 0 --realign-score-bias -0.2 --realign-max-seqs 2147483647 --gap-open nucl:5,aa:11 --gap-extend nucl:2,aa:1 --zdrop 40 --alph-size nucl:5,aa:13 --kmer-per-seq 21 --spaced-kmer-mode 1 --kmer-per-seq-scale nucl:0.200,aa:0.000 --adjust-kmer-len 0 --mask 0 --mask-lower-case 0 -k 0 --hash-shift 67 --split-memory-limit 0 --include-only-extendable 0 --ignore-multi-kmer 0 --rescore-mode 0 --filter-hits 0 --sort-results 0 --remove-tmp-files 0 --force-reuse 0 \n",
      "\n",
      "kmermatcher ../data/ecoli/interim/mmseqs/unique_seqs.db ../data/tmp/10526115481703975782/linclust/8670909523374361002/pref --sub-mat nucl:nucleotide.out,aa:blosum62.out --alph-size nucl:5,aa:13 --min-seq-id 0.3 --kmer-per-seq 21 --spaced-kmer-mode 1 --kmer-per-seq-scale nucl:0.200,aa:0.000 --adjust-kmer-len 0 --mask 0 --mask-lower-case 0 --cov-mode 0 -k 0 -c 0.8 --max-seq-len 65535 --hash-shift 67 --split-memory-limit 0 --include-only-extendable 0 --ignore-multi-kmer 0 --threads 48 --compressed 0 -v 3 \n",
      "\n",
      "kmermatcher ../data/ecoli/interim/mmseqs/unique_seqs.db ../data/tmp/10526115481703975782/linclust/8670909523374361002/pref --sub-mat nucl:nucleotide.out,aa:blosum62.out --alph-size nucl:5,aa:13 --min-seq-id 0.3 --kmer-per-seq 21 --spaced-kmer-mode 1 --kmer-per-seq-scale nucl:0.200,aa:0.000 --adjust-kmer-len 0 --mask 0 --mask-lower-case 0 --cov-mode 0 -k 0 -c 0.8 --max-seq-len 65535 --hash-shift 67 --split-memory-limit 0 --include-only-extendable 0 --ignore-multi-kmer 0 --threads 48 --compressed 0 -v 3 \n",
      "\n",
      "Database size: 1070803 type: Aminoacid\n",
      "Reduced amino acid alphabet: (A S T) (C) (D B N) (E Q Z) (F Y) (G) (H) (I V) (K R) (L J M) (P) (W) (X) \n",
      "\n",
      "Generate k-mers list for 1 split\n",
      "[=================================================================] 1.07M 0s 798ms\n",
      "Sort kmer 0h 0m 0s 169ms\n",
      "Sort by rep. sequence 0h 0m 0s 83ms\n",
      "Time for fill: 0h 0m 0s 333ms\n",
      "Time for merging to pref: 0h 0m 0s 2ms\n",
      "Time for processing: 0h 0m 1s 982ms\n",
      "rescorediagonal ../data/ecoli/interim/mmseqs/unique_seqs.db ../data/ecoli/interim/mmseqs/unique_seqs.db ../data/tmp/10526115481703975782/linclust/8670909523374361002/pref ../data/tmp/10526115481703975782/linclust/8670909523374361002/pref_rescore1 --sub-mat nucl:nucleotide.out,aa:blosum62.out --rescore-mode 0 --wrapped-scoring 0 --filter-hits 0 -e 0.001 -c 0.8 -a 0 --cov-mode 0 --min-seq-id 0.5 --min-aln-len 0 --seq-id-mode 0 --add-self-matches 0 --sort-results 0 --db-load-mode 0 --threads 48 --compressed 0 -v 3 \n",
      "\n",
      "[=================================================================] 1.07M 0s 418ms\n",
      "Time for merging to pref_rescore1: 0h 0m 1s 212ms\n",
      "Time for processing: 0h 0m 3s 404ms\n",
      "clust ../data/ecoli/interim/mmseqs/unique_seqs.db ../data/tmp/10526115481703975782/linclust/8670909523374361002/pref_rescore1 ../data/tmp/10526115481703975782/linclust/8670909523374361002/pre_clust --cluster-mode 1 --max-iterations 1000 --similarity-type 2 --threads 48 --compressed 0 -v 3 \n",
      "\n",
      "Clustering mode: Connected Component\n",
      "[=================================================================] 1.07M 0s 69ms\n",
      "Sort entries\n",
      "Find missing connections\n",
      "Found 2654044 new connections.\n",
      "Reconstruct initial order\n",
      "[=================================================================] 1.07M 0s 60ms\n",
      "Add missing connections\n",
      "[=================================================================] 1.07M 0s 98ms\n",
      "\n",
      "Time for read in: 0h 0m 0s 360ms\n",
      "connected component mode\n",
      "Total time: 0h 0m 0s 474ms\n",
      "\n",
      "Size of the sequence database: 1070803\n",
      "Size of the alignment database: 1070803\n",
      "Number of clusters: 123553\n",
      "\n",
      "Writing results 0h 0m 0s 49ms\n",
      "Time for merging to pre_clust: 0h 0m 0s 2ms\n",
      "Time for processing: 0h 0m 0s 816ms\n",
      "createsubdb ../data/tmp/10526115481703975782/linclust/8670909523374361002/order_redundancy ../data/ecoli/interim/mmseqs/unique_seqs.db ../data/tmp/10526115481703975782/linclust/8670909523374361002/input_step_redundancy -v 3 --subdb-mode 1 \n",
      "\n",
      "Time for merging to input_step_redundancy: 0h 0m 0s 2ms\n",
      "Time for processing: 0h 0m 0s 146ms\n",
      "createsubdb ../data/tmp/10526115481703975782/linclust/8670909523374361002/order_redundancy ../data/tmp/10526115481703975782/linclust/8670909523374361002/pref ../data/tmp/10526115481703975782/linclust/8670909523374361002/pref_filter1 -v 3 --subdb-mode 1 \n",
      "\n",
      "Time for merging to pref_filter1: 0h 0m 0s 20ms\n",
      "Time for processing: 0h 0m 0s 289ms\n",
      "filterdb ../data/tmp/10526115481703975782/linclust/8670909523374361002/pref_filter1 ../data/tmp/10526115481703975782/linclust/8670909523374361002/pref_filter2 --filter-file ../data/tmp/10526115481703975782/linclust/8670909523374361002/order_redundancy --threads 48 --compressed 0 -v 3 \n",
      "\n",
      "Filtering using file(s)\n",
      "[=================================================================] 123.55K 0s 35ms\n",
      "Time for merging to pref_filter2: 0h 0m 0s 874ms\n",
      "Time for processing: 0h 0m 2s 244ms\n",
      "rescorediagonal ../data/tmp/10526115481703975782/linclust/8670909523374361002/input_step_redundancy ../data/tmp/10526115481703975782/linclust/8670909523374361002/input_step_redundancy ../data/tmp/10526115481703975782/linclust/8670909523374361002/pref_filter2 ../data/tmp/10526115481703975782/linclust/8670909523374361002/pref_rescore2 --sub-mat nucl:nucleotide.out,aa:blosum62.out --rescore-mode 1 --wrapped-scoring 0 --filter-hits 1 -e 0.001 -c 0.8 -a 0 --cov-mode 0 --min-seq-id 0.3 --min-aln-len 0 --seq-id-mode 0 --add-self-matches 0 --sort-results 0 --db-load-mode 0 --threads 48 --compressed 0 -v 3 \n",
      "\n",
      "===[==============================================================] 123.55K 0s 49ms\n",
      "Time for merging to pref_rescore2: 0h 0m 0s 720ms\n",
      "Time for processing: 0h 0m 2s 347ms\n",
      "align ../data/tmp/10526115481703975782/linclust/8670909523374361002/input_step_redundancy ../data/tmp/10526115481703975782/linclust/8670909523374361002/input_step_redundancy ../data/tmp/10526115481703975782/linclust/8670909523374361002/pref_rescore2 ../data/tmp/10526115481703975782/linclust/8670909523374361002/aln --sub-mat nucl:nucleotide.out,aa:blosum62.out -a 0 --alignment-mode 3 --alignment-output-mode 0 --wrapped-scoring 0 -e 0.001 --min-seq-id 0.3 --min-aln-len 0 --seq-id-mode 0 --alt-ali 0 -c 0.8 --cov-mode 0 --max-seq-len 65535 --comp-bias-corr 1 --max-rejected 2147483647 --max-accept 2147483647 --add-self-matches 0 --db-load-mode 0 --pca 1 --pcb 1.5 --score-bias 0 --realign 0 --realign-score-bias -0.2 --realign-max-seqs 2147483647 --gap-open nucl:5,aa:11 --gap-extend nucl:2,aa:1 --zdrop 40 --threads 48 --compressed 0 -v 3 \n",
      "\n",
      "Compute score, coverage and sequence identity\n",
      "Query database size: 123553 type: Aminoacid\n",
      "Target database size: 123553 type: Aminoacid\n",
      "Calculation of alignments\n",
      "[=================================================================] 123.55K 1s 98ms\n",
      "Time for merging to aln: 0h 0m 0s 885ms\n",
      "137750 alignments calculated\n",
      "128297 sequence pairs passed the thresholds (0.931376 of overall calculated)\n",
      "1.038396 hits per query sequence\n",
      "Time for processing: 0h 0m 3s 427ms\n",
      "clust ../data/tmp/10526115481703975782/linclust/8670909523374361002/input_step_redundancy ../data/tmp/10526115481703975782/linclust/8670909523374361002/aln ../data/tmp/10526115481703975782/linclust/8670909523374361002/clust --cluster-mode 1 --max-iterations 1000 --similarity-type 2 --threads 48 --compressed 0 -v 3 \n",
      "\n",
      "Clustering mode: Connected Component\n",
      "[=================================================================] 123.55K 0s 7ms\n",
      "Sort entries\n",
      "Find missing connections\n",
      "Found 4744 new connections.\n",
      "Reconstruct initial order\n",
      "[=================================================================] 123.55K 0s 8ms\n",
      "Add missing connections\n",
      "[=================================================================] 123.55K 0s 3ms\n",
      "\n",
      "Time for read in: 0h 0m 0s 50ms\n",
      "connected component mode\n",
      "Total time: 0h 0m 0s 89ms\n",
      "\n",
      "Size of the sequence database: 123553\n",
      "Size of the alignment database: 123553\n",
      "Number of clusters: 119451\n",
      "\n",
      "Writing results 0h 0m 0s 31ms\n",
      "Time for merging to clust: 0h 0m 0s 18ms\n",
      "Time for processing: 0h 0m 0s 295ms\n",
      "mergeclusters ../data/ecoli/interim/mmseqs/unique_seqs.db ../data/tmp/10526115481703975782/clu_redundancy ../data/tmp/10526115481703975782/linclust/8670909523374361002/pre_clust ../data/tmp/10526115481703975782/linclust/8670909523374361002/clust --threads 48 --compressed 0 -v 3 \n",
      "\n",
      "Clustering step 1\n",
      "[=================================================================] 123.55K 0s 24ms\n",
      "Clustering step 2\n",
      "[=================================================================] 119.45K 0s 58ms\n",
      "Write merged clustering\n",
      "[=================================================================] 1.07M 1s 810ms\n",
      "Time for merging to clu_redundancy: 0h 0m 0s 945ms\n",
      "Time for processing: 0h 0m 3s 220ms\n",
      "createsubdb ../data/tmp/10526115481703975782/clu_redundancy ../data/ecoli/interim/mmseqs/unique_seqs.db ../data/tmp/10526115481703975782/input_step_redundancy -v 3 --subdb-mode 1 \n",
      "\n",
      "Time for merging to input_step_redundancy: 0h 0m 0s 14ms\n",
      "Time for processing: 0h 0m 0s 164ms\n",
      "prefilter ../data/tmp/10526115481703975782/input_step_redundancy ../data/tmp/10526115481703975782/input_step_redundancy ../data/tmp/10526115481703975782/pref_step0 --sub-mat nucl:nucleotide.out,aa:blosum62.out --seed-sub-mat nucl:nucleotide.out,aa:VTML80.out -s 1 -k 0 --k-score 2147483647 --alph-size nucl:5,aa:21 --max-seq-len 65535 --max-seqs 20 --split 0 --split-mode 2 --split-memory-limit 0 -c 0.8 --cov-mode 0 --comp-bias-corr 0 --diag-score 0 --exact-kmer-matching 0 --mask 1 --mask-lower-case 0 --min-ungapped-score 0 --add-self-matches 0 --spaced-kmer-mode 1 --db-load-mode 0 --pca 1 --pcb 1.5 --threads 48 --compressed 0 -v 3 \n",
      "\n",
      "Query database size: 119451 type: Aminoacid\n",
      "Estimated memory consumption: 1G\n",
      "Target database size: 119451 type: Aminoacid\n",
      "Index table k-mer threshold: 154 at k-mer size 6 \n",
      "Index table: counting k-mers\n",
      "[=================================================================] 119.45K 0s 198ms\n",
      "Index table: Masked residues: 626496\n",
      "Index table: fill\n",
      "[=================================================================] 119.45K 0s 71ms\n",
      "Index statistics\n",
      "Entries:          11264797\n",
      "DB size:          552 MB\n",
      "Avg k-mer size:   0.176012\n",
      "Top 10 k-mers\n",
      "    TSGPFS\t1368\n",
      "    PTQEFS\t1276\n",
      "    YDTQFW\t1267\n",
      "    WDPVGV\t1208\n",
      "    IKGDFY\t1206\n",
      "    VNNGNN\t1123\n",
      "    QHPKIV\t1113\n",
      "    YYYRNT\t1073\n",
      "    HRGWKT\t1050\n",
      "    RGARLW\t1049\n",
      "Time for index table init: 0h 0m 0s 700ms\n",
      "Process prefiltering step 1 of 1\n",
      "\n",
      "k-mer similarity threshold: 154\n",
      "Starting prefiltering scores calculation (step 1 of 1)\n",
      "Query db start 1 to 119451\n",
      "Target db start 1 to 119451\n",
      "[=================================================================] 119.45K 0s 526ms\n",
      "\n",
      "1.932993 k-mers per position\n",
      "7869 DB matches per sequence\n",
      "0 overflows\n",
      "0 queries produce too many hits (truncated result)\n",
      "10 sequences passed prefiltering per query sequence\n",
      "7 median result list length\n",
      "0 sequences with 0 size result lists\n",
      "Time for merging to pref_step0: 0h 0m 0s 791ms\n",
      "Time for processing: 0h 0m 3s 395ms\n",
      "align ../data/tmp/10526115481703975782/input_step_redundancy ../data/tmp/10526115481703975782/input_step_redundancy ../data/tmp/10526115481703975782/pref_step0 ../data/tmp/10526115481703975782/aln_step0 --sub-mat nucl:nucleotide.out,aa:blosum62.out -a 0 --alignment-mode 3 --alignment-output-mode 0 --wrapped-scoring 0 -e 0.001 --min-seq-id 0.3 --min-aln-len 0 --seq-id-mode 0 --alt-ali 0 -c 0.8 --cov-mode 0 --max-seq-len 65535 --comp-bias-corr 0 --max-rejected 2147483647 --max-accept 2147483647 --add-self-matches 0 --db-load-mode 0 --pca 1 --pcb 1.5 --score-bias 0 --realign 0 --realign-score-bias -0.2 --realign-max-seqs 2147483647 --gap-open nucl:5,aa:11 --gap-extend nucl:2,aa:1 --zdrop 40 --threads 48 --compressed 0 -v 3 \n",
      "\n",
      "Compute score, coverage and sequence identity\n",
      "Query database size: 119451 type: Aminoacid\n",
      "Target database size: 119451 type: Aminoacid\n",
      "Calculation of alignments\n",
      "[=================================================================] 119.45K 6s 251ms\n",
      "Time for merging to aln_step0: 0h 0m 1s 39ms\n",
      "491811 alignments calculated\n",
      "395325 sequence pairs passed the thresholds (0.803815 of overall calculated)\n",
      "3.309516 hits per query sequence\n",
      "Time for processing: 0h 0m 8s 571ms\n",
      "clust ../data/tmp/10526115481703975782/input_step_redundancy ../data/tmp/10526115481703975782/aln_step0 ../data/tmp/10526115481703975782/clu_step0 --cluster-mode 1 --max-iterations 1000 --similarity-type 2 --threads 48 --compressed 0 -v 3 \n",
      "\n",
      "Clustering mode: Connected Component\n",
      "[=================================================================] 119.45K 0s 5ms\n",
      "Sort entries\n",
      "Find missing connections\n",
      "Found 103662 new connections.\n",
      "Reconstruct initial order\n",
      "[=================================================================] 119.45K 0s 8ms\n",
      "Add missing connections\n",
      "[=================================================================] 119.45K 0s 13ms\n",
      "\n",
      "Time for read in: 0h 0m 0s 57ms\n",
      "connected component mode\n",
      "Total time: 0h 0m 0s 95ms\n",
      "\n",
      "Size of the sequence database: 119451\n",
      "Size of the alignment database: 119451\n",
      "Number of clusters: 80340\n",
      "\n",
      "Writing results 0h 0m 0s 15ms\n",
      "Time for merging to clu_step0: 0h 0m 0s 91ms\n",
      "Time for processing: 0h 0m 0s 270ms\n",
      "createsubdb ../data/tmp/10526115481703975782/clu_step0 ../data/tmp/10526115481703975782/input_step_redundancy ../data/tmp/10526115481703975782/input_step1 -v 3 --subdb-mode 1 \n",
      "\n",
      "Time for merging to input_step1: 0h 0m 0s 31ms\n",
      "Time for processing: 0h 0m 0s 71ms\n",
      "prefilter ../data/tmp/10526115481703975782/input_step1 ../data/tmp/10526115481703975782/input_step1 ../data/tmp/10526115481703975782/pref_step1 --sub-mat nucl:nucleotide.out,aa:blosum62.out --seed-sub-mat nucl:nucleotide.out,aa:VTML80.out -s 3 -k 0 --k-score 2147483647 --alph-size nucl:5,aa:21 --max-seq-len 65535 --max-seqs 20 --split 0 --split-mode 2 --split-memory-limit 0 -c 0.8 --cov-mode 0 --comp-bias-corr 1 --diag-score 1 --exact-kmer-matching 0 --mask 1 --mask-lower-case 0 --min-ungapped-score 15 --add-self-matches 0 --spaced-kmer-mode 1 --db-load-mode 0 --pca 1 --pcb 1.5 --threads 48 --compressed 0 -v 3 \n",
      "\n",
      "Query database size: 80340 type: Aminoacid\n",
      "Estimated memory consumption: 1G\n",
      "Target database size: 80340 type: Aminoacid\n",
      "Index table k-mer threshold: 136 at k-mer size 6 \n",
      "Index table: counting k-mers\n",
      "[=================================================================] 80.34K 0s 128ms\n",
      "Index table: Masked residues: 171304\n",
      "Index table: fill\n",
      "[=================================================================] 80.34K 0s 75ms\n",
      "Index statistics\n",
      "Entries:          12576758\n",
      "DB size:          560 MB\n",
      "Avg k-mer size:   0.196512\n",
      "Top 10 k-mers\n",
      "    DAGTGQ\t239\n",
      "    KTLETV\t225\n",
      "    FGTRAH\t215\n",
      "    HRGWKT\t215\n",
      "    RGARLW\t215\n",
      "    KMAGSR\t209\n",
      "    WNQLVQ\t184\n",
      "    GQLFDR\t182\n",
      "    MPWGLT\t182\n",
      "    GLYRYY\t182\n",
      "Time for index table init: 0h 0m 0s 630ms\n",
      "Process prefiltering step 1 of 1\n",
      "\n",
      "k-mer similarity threshold: 136\n",
      "Starting prefiltering scores calculation (step 1 of 1)\n",
      "Query db start 1 to 80340\n",
      "Target db start 1 to 80340\n",
      "[=================================================================] 80.34K 0s 725ms\n",
      "\n",
      "21.078437 k-mers per position\n",
      "1255 DB matches per sequence\n",
      "0 overflows\n",
      "0 queries produce too many hits (truncated result)\n",
      "9 sequences passed prefiltering per query sequence\n",
      "7 median result list length\n",
      "0 sequences with 0 size result lists\n",
      "Time for merging to pref_step1: 0h 0m 0s 976ms\n",
      "Time for processing: 0h 0m 4s 418ms\n",
      "align ../data/tmp/10526115481703975782/input_step1 ../data/tmp/10526115481703975782/input_step1 ../data/tmp/10526115481703975782/pref_step1 ../data/tmp/10526115481703975782/aln_step1 --sub-mat nucl:nucleotide.out,aa:blosum62.out -a 0 --alignment-mode 3 --alignment-output-mode 0 --wrapped-scoring 0 -e 0.001 --min-seq-id 0.3 --min-aln-len 0 --seq-id-mode 0 --alt-ali 0 -c 0.8 --cov-mode 0 --max-seq-len 65535 --comp-bias-corr 1 --max-rejected 2147483647 --max-accept 2147483647 --add-self-matches 0 --db-load-mode 0 --pca 1 --pcb 1.5 --score-bias 0 --realign 0 --realign-score-bias -0.2 --realign-max-seqs 2147483647 --gap-open nucl:5,aa:11 --gap-extend nucl:2,aa:1 --zdrop 40 --threads 48 --compressed 0 -v 3 \n",
      "\n",
      "Compute score, coverage and sequence identity\n",
      "Query database size: 80340 type: Aminoacid\n",
      "Target database size: 80340 type: Aminoacid\n",
      "Calculation of alignments\n",
      "[=================================================================] 80.34K 0s 388ms\n",
      "Time for merging to aln_step1: 0h 0m 1s 90ms\n",
      "202817 alignments calculated\n",
      "97370 sequence pairs passed the thresholds (0.480088 of overall calculated)\n",
      "1.211974 hits per query sequence\n",
      "Time for processing: 0h 0m 3s 285ms\n",
      "clust ../data/tmp/10526115481703975782/input_step1 ../data/tmp/10526115481703975782/aln_step1 ../data/tmp/10526115481703975782/clu_step1 --cluster-mode 1 --max-iterations 1000 --similarity-type 2 --threads 48 --compressed 0 -v 3 \n",
      "\n",
      "Clustering mode: Connected Component\n",
      "[=================================================================] 80.34K 0s 4ms\n",
      "Sort entries\n",
      "Find missing connections\n",
      "Found 3322 new connections.\n",
      "Reconstruct initial order\n",
      "[=================================================================] 80.34K 0s 5ms\n",
      "Add missing connections\n",
      "[=================================================================] 80.34K 0s 2ms\n",
      "\n",
      "Time for read in: 0h 0m 0s 39ms\n",
      "connected component mode\n",
      "Total time: 0h 0m 0s 68ms\n",
      "\n",
      "Size of the sequence database: 80340\n",
      "Size of the alignment database: 80340\n",
      "Number of clusters: 73576\n",
      "\n",
      "Writing results 0h 0m 0s 14ms\n",
      "Time for merging to clu_step1: 0h 0m 0s 10ms\n",
      "Time for processing: 0h 0m 0s 154ms\n",
      "createsubdb ../data/tmp/10526115481703975782/clu_step1 ../data/tmp/10526115481703975782/input_step1 ../data/tmp/10526115481703975782/input_step2 -v 3 --subdb-mode 1 \n",
      "\n",
      "Time for merging to input_step2: 0h 0m 0s 13ms\n",
      "Time for processing: 0h 0m 0s 63ms\n",
      "prefilter ../data/tmp/10526115481703975782/input_step2 ../data/tmp/10526115481703975782/input_step2 ../data/tmp/10526115481703975782/pref_step2 --sub-mat nucl:nucleotide.out,aa:blosum62.out --seed-sub-mat nucl:nucleotide.out,aa:VTML80.out -s 5 -k 0 --k-score 2147483647 --alph-size nucl:5,aa:21 --max-seq-len 65535 --max-seqs 20 --split 0 --split-mode 2 --split-memory-limit 0 -c 0.8 --cov-mode 0 --comp-bias-corr 1 --diag-score 1 --exact-kmer-matching 0 --mask 1 --mask-lower-case 0 --min-ungapped-score 15 --add-self-matches 0 --spaced-kmer-mode 1 --db-load-mode 0 --pca 1 --pcb 1.5 --threads 48 --compressed 0 -v 3 \n",
      "\n",
      "Query database size: 73576 type: Aminoacid\n",
      "Estimated memory consumption: 1G\n",
      "Target database size: 73576 type: Aminoacid\n",
      "Index table k-mer threshold: 118 at k-mer size 6 \n",
      "Index table: counting k-mers\n",
      "[=================================================================] 73.58K 0s 121ms\n",
      "Index table: Masked residues: 143055\n",
      "Index table: fill\n",
      "[=================================================================] 73.58K 0s 73ms\n",
      "Index statistics\n",
      "Entries:          12085998\n",
      "DB size:          557 MB\n",
      "Avg k-mer size:   0.188844\n",
      "Top 10 k-mers\n",
      "    PSTSWQ\t164\n",
      "    STKPTK\t161\n",
      "    GLYRYY\t134\n",
      "    NLIFQI\t125\n",
      "    DSLIYV\t123\n",
      "    SNLVVQ\t121\n",
      "    KGVLAT\t121\n",
      "    SKPYSV\t119\n",
      "    NDNLFY\t116\n",
      "    RYDLRY\t98\n",
      "Time for index table init: 0h 0m 0s 622ms\n",
      "Process prefiltering step 1 of 1\n",
      "\n",
      "k-mer similarity threshold: 118\n",
      "Starting prefiltering scores calculation (step 1 of 1)\n",
      "Query db start 1 to 73576\n",
      "Target db start 1 to 73576\n",
      "[=================================================================] 73.58K 2s 645ms\n",
      "\n",
      "159.294416 k-mers per position\n",
      "5229 DB matches per sequence\n",
      "0 overflows\n",
      "0 queries produce too many hits (truncated result)\n",
      "17 sequences passed prefiltering per query sequence\n",
      "20 median result list length\n",
      "0 sequences with 0 size result lists\n",
      "Time for merging to pref_step2: 0h 0m 0s 694ms\n",
      "Time for processing: 0h 0m 5s 243ms\n",
      "align ../data/tmp/10526115481703975782/input_step2 ../data/tmp/10526115481703975782/input_step2 ../data/tmp/10526115481703975782/pref_step2 ../data/tmp/10526115481703975782/aln_step2 --sub-mat nucl:nucleotide.out,aa:blosum62.out -a 0 --alignment-mode 3 --alignment-output-mode 0 --wrapped-scoring 0 -e 0.001 --min-seq-id 0.3 --min-aln-len 0 --seq-id-mode 0 --alt-ali 0 -c 0.8 --cov-mode 0 --max-seq-len 65535 --comp-bias-corr 1 --max-rejected 2147483647 --max-accept 2147483647 --add-self-matches 0 --db-load-mode 0 --pca 1 --pcb 1.5 --score-bias 0 --realign 0 --realign-score-bias -0.2 --realign-max-seqs 2147483647 --gap-open nucl:5,aa:11 --gap-extend nucl:2,aa:1 --zdrop 40 --threads 48 --compressed 0 -v 3 \n",
      "\n",
      "Compute score, coverage and sequence identity\n",
      "Query database size: 73576 type: Aminoacid\n",
      "Target database size: 73576 type: Aminoacid\n",
      "Calculation of alignments\n",
      "[=================================================================] 73.58K 0s 464ms\n",
      "Time for merging to aln_step2: 0h 0m 0s 678ms\n",
      "290338 alignments calculated\n",
      "77657 sequence pairs passed the thresholds (0.267471 of overall calculated)\n",
      "1.055466 hits per query sequence\n",
      "Time for processing: 0h 0m 2s 606ms\n",
      "clust ../data/tmp/10526115481703975782/input_step2 ../data/tmp/10526115481703975782/aln_step2 ../data/tmp/10526115481703975782/clu_step2 --cluster-mode 1 --max-iterations 1000 --similarity-type 2 --threads 48 --compressed 0 -v 3 \n",
      "\n",
      "Clustering mode: Connected Component\n",
      "[=================================================================] 73.58K 0s 5ms\n",
      "Sort entries\n",
      "Find missing connections\n",
      "Found 819 new connections.\n",
      "Reconstruct initial order\n",
      "[=================================================================] 73.58K 0s 6ms\n",
      "Add missing connections\n",
      "[=================================================================] 73.58K 0s 2ms\n",
      "\n",
      "Time for read in: 0h 0m 0s 39ms\n",
      "connected component mode\n",
      "Total time: 0h 0m 0s 79ms\n",
      "\n",
      "Size of the sequence database: 73576\n",
      "Size of the alignment database: 73576\n",
      "Number of clusters: 71334\n",
      "\n",
      "Writing results 0h 0m 0s 19ms\n",
      "Time for merging to clu_step2: 0h 0m 0s 2ms\n",
      "Time for processing: 0h 0m 0s 163ms\n",
      "mergeclusters ../data/ecoli/interim/mmseqs/unique_seqs.db ../data/ecoli/interim/mmseqs/unique_seqs_clust.db ../data/tmp/10526115481703975782/clu_redundancy ../data/tmp/10526115481703975782/clu_step0 ../data/tmp/10526115481703975782/clu_step1 ../data/tmp/10526115481703975782/clu_step2 --threads 48 --compressed 0 -v 3 \n",
      "\n",
      "Clustering step 1\n",
      "[=================================================================] 119.45K 0s 50ms\n",
      "Clustering step 2\n",
      "[=================================================================] 80.34K 0s 87ms\n",
      "Clustering step 3\n",
      "[=================================================================] 73.58K 0s 113ms\n",
      "Clustering step 4\n",
      "[=================================================================] 71.33K 0s 138ms\n",
      "Write merged clustering\n",
      "[=================================================================] 1.07M 1s 103ms\n",
      "Time for merging to unique_seqs_clust.db: 0h 0m 1s 147ms\n",
      "Time for processing: 0h 0m 2s 713ms\n",
      "\n",
      "CPU times: user 623 ms, sys: 218 ms, total: 841 ms\n",
      "Wall time: 51.6 s\n"
     ]
    }
   ],
   "source": [
    "%%time \n",
    "!conda run -n beaker \\\n",
    "mmseqs cluster {unique_seq_db} {clust_db} ../data/tmp \\\n",
    "-c {cov} --min-seq-id {min_seq_id} --threads {threads} --cluster-mode {cluster_mode}"
   ]
  },
  {
   "cell_type": "code",
   "execution_count": 31,
   "id": "e0662b6d-17a4-4f9b-af83-7be6b4b26772",
   "metadata": {},
   "outputs": [],
   "source": [
    "clust_out = '../data/ecoli/interim/seq_clusters.txt'"
   ]
  },
  {
   "cell_type": "code",
   "execution_count": 32,
   "id": "342f07c7-8b22-4f92-8fdf-c019f44e1e15",
   "metadata": {},
   "outputs": [
    {
     "name": "stdout",
     "output_type": "stream",
     "text": [
      "createtsv ../data/ecoli/interim/mmseqs/unique_seqs.db ../data/ecoli/interim/mmseqs/unique_seqs.db ../data/ecoli/interim/mmseqs/unique_seqs_clust.db ../data/ecoli/interim/seq_clusters.txt \n",
      "\n",
      "MMseqs Version:                 \t13.45111\n",
      "First sequence as representative\tfalse\n",
      "Target column                   \t1\n",
      "Add full header                 \tfalse\n",
      "Sequence source                 \t0\n",
      "Database output                 \tfalse\n",
      "Threads                         \t96\n",
      "Compressed                      \t0\n",
      "Verbosity                       \t3\n",
      "\n",
      "Time for merging to seq_clusters.txt: 0h 0m 1s 431ms\n",
      "Time for processing: 0h 0m 3s 560ms\n",
      "\n",
      "CPU times: user 33.4 ms, sys: 131 ms, total: 164 ms\n",
      "Wall time: 5.12 s\n"
     ]
    }
   ],
   "source": [
    "%%time\n",
    "!conda run -n beaker \\\n",
    "mmseqs createtsv {unique_seq_db} {unique_seq_db} {clust_db} {clust_out}"
   ]
  },
  {
   "cell_type": "code",
   "execution_count": 34,
   "id": "ec3252f1-ea3f-4c34-9389-7d6905384f63",
   "metadata": {},
   "outputs": [],
   "source": [
    "cluster_df = pd.read_table(clust_out, names=['cluster_id', 'product_accession'])"
   ]
  },
  {
   "cell_type": "code",
   "execution_count": 35,
   "id": "58e3833e-daf4-48df-929c-15824191846d",
   "metadata": {},
   "outputs": [
    {
     "data": {
      "text/plain": [
       "71334"
      ]
     },
     "execution_count": 35,
     "metadata": {},
     "output_type": "execute_result"
    }
   ],
   "source": [
    "cluster_df['cluster_id'].nunique()"
   ]
  },
  {
   "cell_type": "code",
   "execution_count": null,
   "id": "da620d73-9148-44e0-98b2-21264a042226",
   "metadata": {},
   "outputs": [],
   "source": []
  }
 ],
 "metadata": {
  "kernelspec": {
   "display_name": "beaker",
   "language": "python",
   "name": "beaker"
  },
  "language_info": {
   "codemirror_mode": {
    "name": "ipython",
    "version": 3
   },
   "file_extension": ".py",
   "mimetype": "text/x-python",
   "name": "python",
   "nbconvert_exporter": "python",
   "pygments_lexer": "ipython3",
   "version": "3.8.16"
  }
 },
 "nbformat": 4,
 "nbformat_minor": 5
}
