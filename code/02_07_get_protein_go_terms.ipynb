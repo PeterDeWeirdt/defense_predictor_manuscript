{
 "cells": [
  {
   "cell_type": "code",
   "execution_count": 1,
   "metadata": {
    "tags": []
   },
   "outputs": [],
   "source": [
    "import pandas as pd\n",
    "import os\n",
    "import re\n",
    "from joblib import Parallel, delayed\n",
    "from tqdm import tqdm"
   ]
  },
  {
   "cell_type": "code",
   "execution_count": 2,
   "metadata": {
    "collapsed": false,
    "jupyter": {
     "outputs_hidden": false
    },
    "pycharm": {
     "name": "#%%\n"
    }
   },
   "outputs": [],
   "source": [
    "def get_go_processes(in_file):\n",
    "    gff_df = pd.read_table('../data/genome_downloads/gff/' + in_file,\n",
    "                           names=['seqid', 'source', 'feature', 'start', 'end',\n",
    "                                  'score', 'strand', 'frame', 'attributes'],\n",
    "                           comment='#')\n",
    "    filtered_gff_df = gff_df[gff_df['attributes'].str.contains('go_process', na=False) &\n",
    "                             ~gff_df['attributes'].str.contains('pseudo', na=False)]\n",
    "    assembly = in_file.split('.')[0]\n",
    "    with open('../data/interim/go_process_temp/' + assembly + '.csv', 'w') as f:\n",
    "        for attr in filtered_gff_df['attributes']:\n",
    "            prot_id = re.search('protein_id=([^;]+)', attr).group(1)\n",
    "            go_processes = re.search('go_process=([^;]+)', attr).group(1)\n",
    "            for process in go_processes.split(','):\n",
    "                process = process.split('|')[0]\n",
    "                print(prot_id + ',' + process, file=f)"
   ]
  },
  {
   "cell_type": "code",
   "execution_count": 3,
   "metadata": {
    "collapsed": false,
    "jupyter": {
     "outputs_hidden": false
    },
    "pycharm": {
     "name": "#%%\n"
    }
   },
   "outputs": [
    {
     "name": "stdout",
     "output_type": "stream",
     "text": [
      "Extracting go processes\n"
     ]
    },
    {
     "name": "stderr",
     "output_type": "stream",
     "text": [
      "100%|██████████| 17453/17453 [00:56<00:00, 307.03it/s]\n"
     ]
    },
    {
     "data": {
      "text/plain": [
       "0"
      ]
     },
     "execution_count": 3,
     "metadata": {},
     "output_type": "execute_result"
    }
   ],
   "source": [
    "os.mkdir('../data/interim/go_process_temp/')\n",
    "gff_files = [x for x in os.listdir('../data/genome_downloads/gff') if '.gff' in x]\n",
    "print('Extracting go processes')\n",
    "_ = Parallel(n_jobs=48)(delayed(get_go_processes)(file) for file in tqdm(gff_files))\n",
    "os.system('cat ../data/interim/go_process_temp/*.csv > ../data/interim/go_processs_temp.csv')\n",
    "os.system('rm -r ../data/interim/go_process_temp/')"
   ]
  },
  {
   "cell_type": "code",
   "execution_count": 4,
   "metadata": {
    "collapsed": false,
    "jupyter": {
     "outputs_hidden": false
    },
    "pycharm": {
     "name": "#%%\n"
    }
   },
   "outputs": [
    {
     "name": "stdout",
     "output_type": "stream",
     "text": [
      "Getting unique go processes\n"
     ]
    }
   ],
   "source": [
    "print('Getting unique go processes')\n",
    "unique_go_processes = (pd.read_csv('../data/interim/go_processs_temp.csv',\n",
    "                                   names=['product_accession', 'go_process'])\n",
    "                       .drop_duplicates()\n",
    "                       .set_index('product_accession'))"
   ]
  },
  {
   "cell_type": "code",
   "execution_count": 5,
   "metadata": {
    "collapsed": false,
    "jupyter": {
     "outputs_hidden": false
    },
    "pycharm": {
     "name": "#%%\n"
    }
   },
   "outputs": [
    {
     "data": {
      "text/plain": [
       "0"
      ]
     },
     "execution_count": 5,
     "metadata": {},
     "output_type": "execute_result"
    }
   ],
   "source": [
    "os.system('rm ../data/interim/go_processs_temp.csv')"
   ]
  },
  {
   "cell_type": "code",
   "execution_count": 6,
   "metadata": {
    "collapsed": false,
    "jupyter": {
     "outputs_hidden": false
    },
    "pycharm": {
     "name": "#%%\n"
    }
   },
   "outputs": [
    {
     "name": "stdout",
     "output_type": "stream",
     "text": [
      "Merging seq ids with go processes\n"
     ]
    }
   ],
   "source": [
    "print('Merging seq ids with go processes')\n",
    "unique_seq_id_accessions = (pd.read_parquet('../data/interim/seq_id_accessions.pq')\n",
    "                            .set_index('protein_accession'))\n",
    "unique_seq_ids_go_process = (unique_go_processes.merge(unique_seq_id_accessions, how='inner',\n",
    "                                                           left_index=True, right_index=True)\n",
    "                             [['seq_id', 'go_process']]\n",
    "                             .drop_duplicates(ignore_index=True)) # so new indeces are labeled 0, 1, ..."
   ]
  },
  {
   "cell_type": "code",
   "execution_count": 7,
   "metadata": {
    "collapsed": false,
    "jupyter": {
     "outputs_hidden": false
    },
    "pycharm": {
     "name": "#%%\n"
    }
   },
   "outputs": [
    {
     "name": "stdout",
     "output_type": "stream",
     "text": [
      "Proteins with a go process 14240378\n"
     ]
    }
   ],
   "source": [
    "print('Proteins with a go process', unique_seq_ids_go_process['seq_id'].nunique())"
   ]
  },
  {
   "cell_type": "code",
   "execution_count": 8,
   "metadata": {
    "collapsed": false,
    "jupyter": {
     "outputs_hidden": false
    },
    "pycharm": {
     "name": "#%%\n"
    }
   },
   "outputs": [
    {
     "name": "stdout",
     "output_type": "stream",
     "text": [
      "Top go processes\n"
     ]
    },
    {
     "data": {
      "text/plain": [
       "translation                                     748384\n",
       "transmembrane transport                         503298\n",
       "regulation of DNA-templated transcription       382174\n",
       "regulation of transcription%2C DNA-templated    374496\n",
       "proteolysis                                     341988\n",
       "DNA repair                                      326009\n",
       "phosphorelay signal transduction system         288515\n",
       "carbohydrate metabolic process                  276985\n",
       "DNA recombination                               268820\n",
       "peptidoglycan biosynthetic process              234657\n",
       "Name: go_process, dtype: int64"
      ]
     },
     "execution_count": 8,
     "metadata": {},
     "output_type": "execute_result"
    }
   ],
   "source": [
    "print('Top go processes')\n",
    "unique_seq_ids_go_process['go_process'].value_counts().head(10)"
   ]
  },
  {
   "cell_type": "code",
   "execution_count": 9,
   "metadata": {
    "collapsed": false,
    "jupyter": {
     "outputs_hidden": false
    },
    "pycharm": {
     "name": "#%%\n"
    }
   },
   "outputs": [
    {
     "name": "stdout",
     "output_type": "stream",
     "text": [
      "Number of go processes 1156\n"
     ]
    }
   ],
   "source": [
    "print('Number of go processes', unique_seq_ids_go_process['go_process'].nunique())"
   ]
  },
  {
   "cell_type": "code",
   "execution_count": 10,
   "metadata": {
    "collapsed": false,
    "jupyter": {
     "outputs_hidden": false
    },
    "pycharm": {
     "name": "#%%\n"
    }
   },
   "outputs": [],
   "source": [
    "unique_seq_ids_go_process.to_parquet('../data/interim/seq_id_go_processes.pq', index=False)\n"
   ]
  },
  {
   "cell_type": "code",
   "execution_count": null,
   "metadata": {},
   "outputs": [],
   "source": []
  }
 ],
 "metadata": {
  "kernelspec": {
   "display_name": "Python 3 (ipykernel)",
   "language": "python",
   "name": "python3"
  },
  "language_info": {
   "codemirror_mode": {
    "name": "ipython",
    "version": 3
   },
   "file_extension": ".py",
   "mimetype": "text/x-python",
   "name": "python",
   "nbconvert_exporter": "python",
   "pygments_lexer": "ipython3",
   "version": "3.9.15"
  }
 },
 "nbformat": 4,
 "nbformat_minor": 4
}
