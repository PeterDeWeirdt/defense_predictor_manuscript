{
 "cells": [
  {
   "cell_type": "code",
   "execution_count": 2,
   "id": "b795e806-1aad-4084-9638-243fd4ab114f",
   "metadata": {},
   "outputs": [],
   "source": [
    "import os\n",
    "import pandas as pd"
   ]
  },
  {
   "cell_type": "code",
   "execution_count": 3,
   "id": "2ceeba50-4c49-42ff-9604-c98022263032",
   "metadata": {},
   "outputs": [],
   "source": [
    "def get_functional_group(row):\n",
    "    if not pd.isna(row['defense_cluster']):\n",
    "        return row['defense_cluster']\n",
    "    elif not pd.isna(row['ss_id']):\n",
    "        return row['ss_id']\n",
    "    elif not pd.isna(row['cog_id']):\n",
    "        return row['cog_id']\n",
    "    elif not pd.isna(row['go_process']):\n",
    "        return row['go_process']"
   ]
  },
  {
   "cell_type": "code",
   "execution_count": 6,
   "id": "ef85ec83-b0c5-4769-bfcd-dad07644ebd6",
   "metadata": {},
   "outputs": [],
   "source": [
    "candidate_seq_f = '../data3/interim/candidate_seqs.faa'"
   ]
  },
  {
   "cell_type": "code",
   "execution_count": 7,
   "id": "2f928bda-5b13-4ec8-8c34-f3eaa7cb715a",
   "metadata": {},
   "outputs": [
    {
     "data": {
      "text/plain": [
       "0"
      ]
     },
     "execution_count": 7,
     "metadata": {},
     "output_type": "execute_result"
    }
   ],
   "source": [
    "os.system(' '.join(['cat ../data3/interim/select_defense_seqs.faa ../data3/interim/candidate_background_seqs.faa >', \n",
    "                    candidate_seq_f]))"
   ]
  },
  {
   "cell_type": "code",
   "execution_count": 6,
   "id": "cc86905f-1ab3-49cb-af57-3c84b3b4a4be",
   "metadata": {},
   "outputs": [],
   "source": [
    "defense_seq_info = pd.read_parquet('../data3/interim/defense_finder_model_seq_info.pq')\n",
    "defense_seq_info['defensive'] = True\n",
    "background_seq_info = pd.read_parquet('../data3/interim/candidate_background_model_seq_info.pq')\n",
    "background_seq_info['defensive'] = False\n",
    "background_seq_info['assembly_stub'] = background_seq_info['assembly'].str.split('.', expand=True)[0]"
   ]
  },
  {
   "cell_type": "code",
   "execution_count": 7,
   "id": "96a69151-4838-441b-b777-46b6bf667633",
   "metadata": {},
   "outputs": [],
   "source": [
    "cat_info = (pd.concat([background_seq_info.drop(columns=['assembly']), \n",
    "                       defense_seq_info[['seq_id', 'gene_name', 'genome', 'defensive', 'protein_accession',\n",
    "                                         'seq', 'defense_exchangable_name']]\n",
    "                       .rename(columns={'genome': 'assembly_stub', \n",
    "                                        'gene_name': 'defense_gene', \n",
    "                                        'defense_exchangable_name': 'defense_cluster',\n",
    "                                        'protein_accession': 'product_accession'})])\n",
    "            .reset_index(drop=True))\n",
    "cat_info['functional_group'] = cat_info.apply(lambda row: get_functional_group(row), axis=1)"
   ]
  },
  {
   "cell_type": "code",
   "execution_count": 8,
   "id": "e8774f7c-0019-4916-8294-0e6c3f73be7d",
   "metadata": {},
   "outputs": [],
   "source": [
    "cat_info.to_parquet('../data3/interim/candidate_model_seq_info.pq', index=False)"
   ]
  },
  {
   "cell_type": "code",
   "execution_count": null,
   "id": "79dfd655-671d-4566-ac4a-3b1c9bbef3c5",
   "metadata": {},
   "outputs": [],
   "source": []
  }
 ],
 "metadata": {
  "kernelspec": {
   "display_name": "beaker",
   "language": "python",
   "name": "beaker"
  },
  "language_info": {
   "codemirror_mode": {
    "name": "ipython",
    "version": 3
   },
   "file_extension": ".py",
   "mimetype": "text/x-python",
   "name": "python",
   "nbconvert_exporter": "python",
   "pygments_lexer": "ipython3",
   "version": "3.8.16"
  }
 },
 "nbformat": 4,
 "nbformat_minor": 5
}
