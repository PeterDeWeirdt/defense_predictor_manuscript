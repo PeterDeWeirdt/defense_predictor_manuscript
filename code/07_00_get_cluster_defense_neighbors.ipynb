{
 "cells": [
  {
   "cell_type": "code",
   "execution_count": 1,
   "id": "a1e7526c-7275-4413-a6f0-cbbc5e726ac0",
   "metadata": {},
   "outputs": [],
   "source": [
    "import pandas as pd\n",
    "from Bio import SeqIO\n",
    "import os\n",
    "from tqdm import tqdm\n",
    "from joblib import Parallel, delayed\n",
    "from functools import reduce\n",
    "import operator"
   ]
  },
  {
   "cell_type": "code",
   "execution_count": 2,
   "id": "f98743f8-0f60-42cb-8c10-80847ff305fd",
   "metadata": {},
   "outputs": [],
   "source": [
    "model_seqs = pd.read_parquet('../data/interim/model_seqs.pq')\n",
    "defense_finder_genes_df = pd.read_parquet('../data/interim/defense_finder_genes_genomes.pq')\n",
    "cluster_df = pd.read_table('../data/interim/refseqs_clusters_mode1.tsv', \n",
    "                           names=['cluster_id', 'seq_id'])"
   ]
  },
  {
   "cell_type": "code",
   "execution_count": 3,
   "id": "c65f8bb0-fa01-40ce-b39e-038240bdecee",
   "metadata": {},
   "outputs": [
    {
     "name": "stdout",
     "output_type": "stream",
     "text": [
      "CPU times: user 4min 57s, sys: 31.4 s, total: 5min 29s\n",
      "Wall time: 5min 30s\n"
     ]
    }
   ],
   "source": [
    "%%time\n",
    "seq_id_assemblies = (pd.read_csv('../data/interim/seq_assemblies.csv', \n",
    "                                 names=['product_accession', 'seq_id', 'sequence', 'genome_id']))"
   ]
  },
  {
   "cell_type": "code",
   "execution_count": 4,
   "id": "e01541da-5bd4-4b92-b785-25e1cb887e75",
   "metadata": {},
   "outputs": [
    {
     "name": "stdout",
     "output_type": "stream",
     "text": [
      "# Defense genes: 244022\n",
      "# Sequences:  68258704\n",
      "Frac defense:  0.0035749580009605806\n"
     ]
    }
   ],
   "source": [
    "n_defense = len(defense_finder_genes_df)\n",
    "n_seqs = len(seq_id_assemblies)\n",
    "print('# Defense genes:', n_defense)\n",
    "print('# Sequences: ', n_seqs)\n",
    "print('Frac defense: ', n_defense/n_seqs)"
   ]
  },
  {
   "cell_type": "code",
   "execution_count": 4,
   "id": "46eb1141-9b26-4176-9ef6-3f9aabee08a5",
   "metadata": {},
   "outputs": [],
   "source": [
    "seq_id_assemblies = seq_id_assemblies.drop(columns=['sequence'])"
   ]
  },
  {
   "cell_type": "code",
   "execution_count": 5,
   "id": "02787309-1bb6-4123-9c7f-a9001ea91857",
   "metadata": {},
   "outputs": [],
   "source": [
    "test_model_seqs = model_seqs[model_seqs['split'] == 'test'].reset_index(drop=True)"
   ]
  },
  {
   "cell_type": "code",
   "execution_count": 6,
   "id": "dd671001-daac-4385-a54d-5092521a30a9",
   "metadata": {},
   "outputs": [
    {
     "data": {
      "text/plain": [
       "102002"
      ]
     },
     "execution_count": 6,
     "metadata": {},
     "output_type": "execute_result"
    }
   ],
   "source": [
    "test_cluster_ids = test_model_seqs['cluster_id'].unique()\n",
    "len(test_cluster_ids)"
   ]
  },
  {
   "cell_type": "code",
   "execution_count": 7,
   "id": "010f910b-7745-420e-bff0-1b1920202d35",
   "metadata": {},
   "outputs": [
    {
     "data": {
      "text/plain": [
       "2372993"
      ]
     },
     "execution_count": 7,
     "metadata": {},
     "output_type": "execute_result"
    }
   ],
   "source": [
    "filtered_cluster_df = cluster_df[cluster_df['cluster_id'].isin(test_cluster_ids)].reset_index(drop=True)\n",
    "len(filtered_cluster_df)"
   ]
  },
  {
   "cell_type": "code",
   "execution_count": 8,
   "id": "2b73a3ab-4fdf-42a1-a049-3059976a9207",
   "metadata": {},
   "outputs": [
    {
     "data": {
      "text/plain": [
       "2466300"
      ]
     },
     "execution_count": 8,
     "metadata": {},
     "output_type": "execute_result"
    }
   ],
   "source": [
    "filtered_seq_id_assemblies = (seq_id_assemblies.merge(filtered_cluster_df, \n",
    "                                                      how='inner', on=['seq_id'])\n",
    "                              .reset_index(drop=True))\n",
    "len(filtered_seq_id_assemblies)"
   ]
  },
  {
   "cell_type": "code",
   "execution_count": 9,
   "id": "bfa59e26-2411-4fac-afb5-5ac2baabdc2b",
   "metadata": {},
   "outputs": [],
   "source": [
    "defense_genes_systems = defense_finder_genes_df[['sys_id', 'gene_name']].drop_duplicates()"
   ]
  },
  {
   "cell_type": "code",
   "execution_count": 10,
   "id": "07a1390c-e5ef-48e2-9e3c-6b860d7a9f5d",
   "metadata": {},
   "outputs": [
    {
     "data": {
      "text/plain": [
       "6362"
      ]
     },
     "execution_count": 10,
     "metadata": {},
     "output_type": "execute_result"
    }
   ],
   "source": [
    "test_clust_defense_systems = (test_model_seqs[['cluster_id', 'gene_name']]\n",
    "                               .dropna()\n",
    "                               .drop_duplicates()\n",
    "                               .merge(defense_genes_systems, how='inner', on='gene_name')\n",
    "                               [['cluster_id', 'sys_id']]\n",
    "                               .drop_duplicates())\n",
    "test_defense_clusts = test_clust_defense_systems['cluster_id'].drop_duplicates().to_list()\n",
    "len(test_defense_clusts)"
   ]
  },
  {
   "cell_type": "code",
   "execution_count": 11,
   "id": "1bc6c494-987b-4bdc-b9b5-7eed0200abc9",
   "metadata": {},
   "outputs": [
    {
     "data": {
      "text/plain": [
       "97"
      ]
     },
     "execution_count": 11,
     "metadata": {},
     "output_type": "execute_result"
    }
   ],
   "source": [
    "test_defense_genes = test_model_seqs['gene_name'].dropna().drop_duplicates().to_list()\n",
    "len(test_defense_genes)"
   ]
  },
  {
   "cell_type": "code",
   "execution_count": 12,
   "id": "295897ef-8dfd-43fb-a9f2-af37756bd518",
   "metadata": {},
   "outputs": [
    {
     "data": {
      "text/plain": [
       "0.9301415446148298"
      ]
     },
     "execution_count": 12,
     "metadata": {},
     "output_type": "execute_result"
    }
   ],
   "source": [
    "train_defense_finder_genes_df = (defense_finder_genes_df[~defense_finder_genes_df['gene_name']\n",
    "                                                         .isin(test_defense_genes)]\n",
    "                                 .reset_index(drop=True))\n",
    "len(train_defense_finder_genes_df)/len(defense_finder_genes_df)"
   ]
  },
  {
   "cell_type": "code",
   "execution_count": 13,
   "id": "810e9783-2346-43de-845d-69082f21ac21",
   "metadata": {},
   "outputs": [
    {
     "data": {
      "text/plain": [
       "17454"
      ]
     },
     "execution_count": 13,
     "metadata": {},
     "output_type": "execute_result"
    }
   ],
   "source": [
    "faa_base_dir = '../data/genome_downloads/faa/'\n",
    "faa_files = [x for x in os.listdir(faa_base_dir) if x[-4:] == '.faa']\n",
    "len(faa_files)"
   ]
  },
  {
   "cell_type": "code",
   "execution_count": 14,
   "id": "a6828a83-a8a0-41eb-a108-91ea070a3342",
   "metadata": {},
   "outputs": [],
   "source": [
    "def get_genome_cluster_counts(f, faa_base_dir=faa_base_dir, filtered_seq_id_assemblies=filtered_seq_id_assemblies, \n",
    "                              train_defense_finder_genes_df=train_defense_finder_genes_df, \n",
    "                              test_defense_clusts=test_defense_clusts):\n",
    "    genome_records = SeqIO.parse(faa_base_dir + f, 'fasta')\n",
    "    genome = f.split('.')[0]\n",
    "    genome_df = filtered_seq_id_assemblies[filtered_seq_id_assemblies['genome_id'] == genome]\n",
    "    genome_accessions = genome_df['product_accession'].to_list()\n",
    "    genome_systems = train_defense_finder_genes_df[train_defense_finder_genes_df['genome'] == genome]\n",
    "    i = 1\n",
    "    genome_cluster_count_list = []\n",
    "    for r in genome_records:\n",
    "        r_id = r.id\n",
    "        if r_id in genome_accessions:\n",
    "            r_defense = 0\n",
    "            r_cluster = genome_df.loc[(genome_df['product_accession'] == r_id), \n",
    "                                      'cluster_id'].item()\n",
    "            if r_cluster in test_defense_clusts: # remove systems that are co-operonic w/ cluster before counting\n",
    "                cluster_systems = test_clust_defense_systems.loc[test_clust_defense_systems['cluster_id'] == r_cluster, \n",
    "                                                                 'sys_id'].to_list()\n",
    "                r_genome_systems = genome_systems[~genome_systems['sys_id'].isin(cluster_systems)]\n",
    "            else:\n",
    "                r_genome_systems = genome_systems\n",
    "            if len(r_genome_systems):\n",
    "                if (r_genome_systems['hit_pos'] - i).abs().min() < 11:\n",
    "                    r_defense = 1\n",
    "            genome_cluster_count_list.append({'cluster_id': r_cluster, \n",
    "                                              'defense_neighbor': r_defense})\n",
    "        i += 1\n",
    "    return genome_cluster_count_list"
   ]
  },
  {
   "cell_type": "code",
   "execution_count": 15,
   "id": "9d704690-26a0-45bf-a3a5-21cef75c280d",
   "metadata": {},
   "outputs": [
    {
     "name": "stderr",
     "output_type": "stream",
     "text": [
      "100%|██████████| 17454/17454 [2:12:53<00:00,  2.19it/s]  \n"
     ]
    }
   ],
   "source": [
    "all_cluster_count_list = [get_genome_cluster_counts(f) for f in tqdm(faa_files, position=0)]"
   ]
  },
  {
   "cell_type": "code",
   "execution_count": 16,
   "id": "bbb39f4c-ebe4-4207-aaeb-d972b33311f6",
   "metadata": {},
   "outputs": [],
   "source": [
    "all_cluster_count_list = reduce(operator.concat, all_cluster_count_list)"
   ]
  },
  {
   "cell_type": "code",
   "execution_count": 17,
   "id": "708ad986-59d3-4161-a8b0-f4b0df29092f",
   "metadata": {},
   "outputs": [],
   "source": [
    "all_cluster_count_df = pd.DataFrame(all_cluster_count_list)\n",
    "agg_cluster_count = (all_cluster_count_df.groupby('cluster_id')\n",
    "                     .agg(total=('cluster_id', 'count'), \n",
    "                          defense_total =('defense_neighbor', 'sum'))\n",
    "                     .reset_index()) \n",
    "agg_cluster_count['defense_percent'] = agg_cluster_count['defense_total']/agg_cluster_count['total']"
   ]
  },
  {
   "cell_type": "code",
   "execution_count": 18,
   "id": "a49f870e-ae3d-4f57-b4af-3e3283769df0",
   "metadata": {},
   "outputs": [],
   "source": [
    "merged_test_model_seqs = test_model_seqs.merge(agg_cluster_count, how='inner', on='cluster_id')\n",
    "assert len(merged_test_model_seqs) == len(test_model_seqs)"
   ]
  },
  {
   "cell_type": "code",
   "execution_count": 19,
   "id": "03d897b3-5e21-4b47-9cf1-18907b17d974",
   "metadata": {},
   "outputs": [],
   "source": [
    "merged_test_model_seqs.to_csv('../data/interim/cluster_defense_neighbor_test_scores.csv', index=False)"
   ]
  },
  {
   "cell_type": "code",
   "execution_count": 20,
   "id": "94ece9c1-8481-45b0-81a5-e02a8e9aa0ac",
   "metadata": {},
   "outputs": [
    {
     "data": {
      "text/html": [
       "<div>\n",
       "<style scoped>\n",
       "    .dataframe tbody tr th:only-of-type {\n",
       "        vertical-align: middle;\n",
       "    }\n",
       "\n",
       "    .dataframe tbody tr th {\n",
       "        vertical-align: top;\n",
       "    }\n",
       "\n",
       "    .dataframe thead th {\n",
       "        text-align: right;\n",
       "    }\n",
       "</style>\n",
       "<table border=\"1\" class=\"dataframe\">\n",
       "  <thead>\n",
       "    <tr style=\"text-align: right;\">\n",
       "      <th></th>\n",
       "      <th>protein_id</th>\n",
       "      <th>seq_id</th>\n",
       "      <th>seq</th>\n",
       "      <th>assembly</th>\n",
       "      <th>cluster_id</th>\n",
       "      <th>split</th>\n",
       "      <th>defense</th>\n",
       "      <th>gene_name</th>\n",
       "      <th>protein_context_id</th>\n",
       "      <th>total</th>\n",
       "      <th>defense_total</th>\n",
       "      <th>defense_percent</th>\n",
       "    </tr>\n",
       "  </thead>\n",
       "  <tbody>\n",
       "    <tr>\n",
       "      <th>0</th>\n",
       "      <td>WP_082687150.1</td>\n",
       "      <td>0000131212b640442569537f5a84e127f7b807991f612d...</td>\n",
       "      <td>MSLRSSYESLLWRSIALAGADGSVERKMLAAVGLQFLGAVAMAAFA...</td>\n",
       "      <td>GCF_001488575</td>\n",
       "      <td>0000131212b640442569537f5a84e127f7b807991f612d...</td>\n",
       "      <td>test</td>\n",
       "      <td>False</td>\n",
       "      <td>None</td>\n",
       "      <td>WP_082687150.1|NZ_LN831302.1|473518|-</td>\n",
       "      <td>4</td>\n",
       "      <td>0</td>\n",
       "      <td>0.0</td>\n",
       "    </tr>\n",
       "    <tr>\n",
       "      <th>1</th>\n",
       "      <td>WP_010902217.1</td>\n",
       "      <td>76091e4b264b0db4ab9012f0dd30ea94d649f6bfac0d7a...</td>\n",
       "      <td>MNITQAYKRSLWWSMDMVGATGSVERKMLTAVGLQFLAAGGMAFLT...</td>\n",
       "      <td>GCF_004799605</td>\n",
       "      <td>0000131212b640442569537f5a84e127f7b807991f612d...</td>\n",
       "      <td>test</td>\n",
       "      <td>False</td>\n",
       "      <td>None</td>\n",
       "      <td>WP_010902217.1|NZ_CP038631.1|448935|-</td>\n",
       "      <td>4</td>\n",
       "      <td>0</td>\n",
       "      <td>0.0</td>\n",
       "    </tr>\n",
       "    <tr>\n",
       "      <th>2</th>\n",
       "      <td>WP_269785431.1</td>\n",
       "      <td>8cb035bc5a3d2c19290cff24b7ed4fc67a0e17baf17577...</td>\n",
       "      <td>MTFRGTYESLLWRSIALAGADGSVERKMLTAVGLQFASAVAMGAFA...</td>\n",
       "      <td>GCF_021233435</td>\n",
       "      <td>0000131212b640442569537f5a84e127f7b807991f612d...</td>\n",
       "      <td>test</td>\n",
       "      <td>False</td>\n",
       "      <td>None</td>\n",
       "      <td>WP_269785431.1|NZ_CP089468.1|444977|-</td>\n",
       "      <td>4</td>\n",
       "      <td>0</td>\n",
       "      <td>0.0</td>\n",
       "    </tr>\n",
       "    <tr>\n",
       "      <th>3</th>\n",
       "      <td>WP_232570346.1</td>\n",
       "      <td>93c941d9b3e66212ecbe3a8d67356eaab319bf6237cc22...</td>\n",
       "      <td>MSIRTAYEAWLWRSISLVGADGSVEGKMLTAVGLQFAGAVAMAALA...</td>\n",
       "      <td>GCF_021233415</td>\n",
       "      <td>0000131212b640442569537f5a84e127f7b807991f612d...</td>\n",
       "      <td>test</td>\n",
       "      <td>False</td>\n",
       "      <td>None</td>\n",
       "      <td>WP_232570346.1|NZ_CP089466.1|2004297|+</td>\n",
       "      <td>4</td>\n",
       "      <td>0</td>\n",
       "      <td>0.0</td>\n",
       "    </tr>\n",
       "    <tr>\n",
       "      <th>4</th>\n",
       "      <td>WP_059107350.1</td>\n",
       "      <td>0000443dc15d579934c57e4b2b1533f58a44a3040003e8...</td>\n",
       "      <td>MKPLERQLELQELQQLFSHLGALSQIERNVVECLLNDYKPREIAAQ...</td>\n",
       "      <td>GCF_016028295</td>\n",
       "      <td>0000443dc15d579934c57e4b2b1533f58a44a3040003e8...</td>\n",
       "      <td>test</td>\n",
       "      <td>False</td>\n",
       "      <td>None</td>\n",
       "      <td>WP_059107350.1|NZ_CP065712.1|372047|+</td>\n",
       "      <td>1</td>\n",
       "      <td>0</td>\n",
       "      <td>0.0</td>\n",
       "    </tr>\n",
       "    <tr>\n",
       "      <th>...</th>\n",
       "      <td>...</td>\n",
       "      <td>...</td>\n",
       "      <td>...</td>\n",
       "      <td>...</td>\n",
       "      <td>...</td>\n",
       "      <td>...</td>\n",
       "      <td>...</td>\n",
       "      <td>...</td>\n",
       "      <td>...</td>\n",
       "      <td>...</td>\n",
       "      <td>...</td>\n",
       "      <td>...</td>\n",
       "    </tr>\n",
       "    <tr>\n",
       "      <th>176366</th>\n",
       "      <td>WP_011012457.1</td>\n",
       "      <td>846ac31093fb1aeda44ad9f98f06dced408fb0d38eaba0...</td>\n",
       "      <td>MMKFCPNCGSLMTSRETPRGTIFVCRGCEMEILRTEDIETIIKLPL...</td>\n",
       "      <td>GCF_008245085</td>\n",
       "      <td>846ac31093fb1aeda44ad9f98f06dced408fb0d38eaba0...</td>\n",
       "      <td>test</td>\n",
       "      <td>True</td>\n",
       "      <td>ShosTA__ShosT</td>\n",
       "      <td>WP_011012457.1|NZ_CP023154.1|1220687|+</td>\n",
       "      <td>1</td>\n",
       "      <td>0</td>\n",
       "      <td>0.0</td>\n",
       "    </tr>\n",
       "    <tr>\n",
       "      <th>176367</th>\n",
       "      <td>WP_205097683.1</td>\n",
       "      <td>019fe0d4bc415b735b1bcfa7304d13b86b3691db3f11cb...</td>\n",
       "      <td>MFKKIKINVNTLTPLYIGGTDSEIPISEYVKKTEVDSKGKSVVQLL...</td>\n",
       "      <td>GCF_016908145</td>\n",
       "      <td>019fe0d4bc415b735b1bcfa7304d13b86b3691db3f11cb...</td>\n",
       "      <td>test</td>\n",
       "      <td>True</td>\n",
       "      <td>Cas__csm5gr7_III-A_3</td>\n",
       "      <td>WP_205097683.1|NZ_JAFBDI010000001.1|103574|-</td>\n",
       "      <td>1</td>\n",
       "      <td>0</td>\n",
       "      <td>0.0</td>\n",
       "    </tr>\n",
       "    <tr>\n",
       "      <th>176368</th>\n",
       "      <td>WP_243119700.1</td>\n",
       "      <td>4612b203f1a4d9cc09927511a068c31ecb6adaa22cfdb4...</td>\n",
       "      <td>MPAYWYWEFFENWLIEPQDGEIQLFKLGHNGPVQEARMHASIRPDT...</td>\n",
       "      <td>GCF_004369225</td>\n",
       "      <td>4612b203f1a4d9cc09927511a068c31ecb6adaa22cfdb4...</td>\n",
       "      <td>test</td>\n",
       "      <td>True</td>\n",
       "      <td>Cas__cmr3gr5_III-B_III-C_8</td>\n",
       "      <td>WP_243119700.1|NZ_QFFZ01000003.1|157157|-</td>\n",
       "      <td>1</td>\n",
       "      <td>0</td>\n",
       "      <td>0.0</td>\n",
       "    </tr>\n",
       "    <tr>\n",
       "      <th>176369</th>\n",
       "      <td>WP_187302819.1</td>\n",
       "      <td>bb26bb85d04cad15da2cecfa25aeedd26d7c7542b37eff...</td>\n",
       "      <td>MKHFLETHQVKLTTIGPVFIGSGELLMKKEYILDRKKRRVSIVNPN...</td>\n",
       "      <td>GCF_014333425</td>\n",
       "      <td>bb26bb85d04cad15da2cecfa25aeedd26d7c7542b37eff...</td>\n",
       "      <td>test</td>\n",
       "      <td>True</td>\n",
       "      <td>Cas__csm5gr7_III-A_2</td>\n",
       "      <td>WP_187302819.1|NZ_JACRYT010000006.1|82334|+</td>\n",
       "      <td>1</td>\n",
       "      <td>1</td>\n",
       "      <td>1.0</td>\n",
       "    </tr>\n",
       "    <tr>\n",
       "      <th>176370</th>\n",
       "      <td>WP_114509925.1</td>\n",
       "      <td>8c060d0fa8b42b4d116691d670003a2f69b2bbf260aa5e...</td>\n",
       "      <td>MSAPGLFRYDICLGIRAPFLIGGGAAARFGVDVIQLRDPDGRPIIP...</td>\n",
       "      <td>GCF_003344785</td>\n",
       "      <td>8c060d0fa8b42b4d116691d670003a2f69b2bbf260aa5e...</td>\n",
       "      <td>test</td>\n",
       "      <td>True</td>\n",
       "      <td>Cas__csm3gr7_III-D_6</td>\n",
       "      <td>WP_114509925.1|NZ_QPMK01000003.1|239741|+</td>\n",
       "      <td>1</td>\n",
       "      <td>1</td>\n",
       "      <td>1.0</td>\n",
       "    </tr>\n",
       "  </tbody>\n",
       "</table>\n",
       "<p>176371 rows × 12 columns</p>\n",
       "</div>"
      ],
      "text/plain": [
       "            protein_id                                             seq_id   \n",
       "0       WP_082687150.1  0000131212b640442569537f5a84e127f7b807991f612d...  \\\n",
       "1       WP_010902217.1  76091e4b264b0db4ab9012f0dd30ea94d649f6bfac0d7a...   \n",
       "2       WP_269785431.1  8cb035bc5a3d2c19290cff24b7ed4fc67a0e17baf17577...   \n",
       "3       WP_232570346.1  93c941d9b3e66212ecbe3a8d67356eaab319bf6237cc22...   \n",
       "4       WP_059107350.1  0000443dc15d579934c57e4b2b1533f58a44a3040003e8...   \n",
       "...                ...                                                ...   \n",
       "176366  WP_011012457.1  846ac31093fb1aeda44ad9f98f06dced408fb0d38eaba0...   \n",
       "176367  WP_205097683.1  019fe0d4bc415b735b1bcfa7304d13b86b3691db3f11cb...   \n",
       "176368  WP_243119700.1  4612b203f1a4d9cc09927511a068c31ecb6adaa22cfdb4...   \n",
       "176369  WP_187302819.1  bb26bb85d04cad15da2cecfa25aeedd26d7c7542b37eff...   \n",
       "176370  WP_114509925.1  8c060d0fa8b42b4d116691d670003a2f69b2bbf260aa5e...   \n",
       "\n",
       "                                                      seq       assembly   \n",
       "0       MSLRSSYESLLWRSIALAGADGSVERKMLAAVGLQFLGAVAMAAFA...  GCF_001488575  \\\n",
       "1       MNITQAYKRSLWWSMDMVGATGSVERKMLTAVGLQFLAAGGMAFLT...  GCF_004799605   \n",
       "2       MTFRGTYESLLWRSIALAGADGSVERKMLTAVGLQFASAVAMGAFA...  GCF_021233435   \n",
       "3       MSIRTAYEAWLWRSISLVGADGSVEGKMLTAVGLQFAGAVAMAALA...  GCF_021233415   \n",
       "4       MKPLERQLELQELQQLFSHLGALSQIERNVVECLLNDYKPREIAAQ...  GCF_016028295   \n",
       "...                                                   ...            ...   \n",
       "176366  MMKFCPNCGSLMTSRETPRGTIFVCRGCEMEILRTEDIETIIKLPL...  GCF_008245085   \n",
       "176367  MFKKIKINVNTLTPLYIGGTDSEIPISEYVKKTEVDSKGKSVVQLL...  GCF_016908145   \n",
       "176368  MPAYWYWEFFENWLIEPQDGEIQLFKLGHNGPVQEARMHASIRPDT...  GCF_004369225   \n",
       "176369  MKHFLETHQVKLTTIGPVFIGSGELLMKKEYILDRKKRRVSIVNPN...  GCF_014333425   \n",
       "176370  MSAPGLFRYDICLGIRAPFLIGGGAAARFGVDVIQLRDPDGRPIIP...  GCF_003344785   \n",
       "\n",
       "                                               cluster_id split  defense   \n",
       "0       0000131212b640442569537f5a84e127f7b807991f612d...  test    False  \\\n",
       "1       0000131212b640442569537f5a84e127f7b807991f612d...  test    False   \n",
       "2       0000131212b640442569537f5a84e127f7b807991f612d...  test    False   \n",
       "3       0000131212b640442569537f5a84e127f7b807991f612d...  test    False   \n",
       "4       0000443dc15d579934c57e4b2b1533f58a44a3040003e8...  test    False   \n",
       "...                                                   ...   ...      ...   \n",
       "176366  846ac31093fb1aeda44ad9f98f06dced408fb0d38eaba0...  test     True   \n",
       "176367  019fe0d4bc415b735b1bcfa7304d13b86b3691db3f11cb...  test     True   \n",
       "176368  4612b203f1a4d9cc09927511a068c31ecb6adaa22cfdb4...  test     True   \n",
       "176369  bb26bb85d04cad15da2cecfa25aeedd26d7c7542b37eff...  test     True   \n",
       "176370  8c060d0fa8b42b4d116691d670003a2f69b2bbf260aa5e...  test     True   \n",
       "\n",
       "                         gene_name   \n",
       "0                             None  \\\n",
       "1                             None   \n",
       "2                             None   \n",
       "3                             None   \n",
       "4                             None   \n",
       "...                            ...   \n",
       "176366               ShosTA__ShosT   \n",
       "176367        Cas__csm5gr7_III-A_3   \n",
       "176368  Cas__cmr3gr5_III-B_III-C_8   \n",
       "176369        Cas__csm5gr7_III-A_2   \n",
       "176370        Cas__csm3gr7_III-D_6   \n",
       "\n",
       "                                  protein_context_id  total  defense_total   \n",
       "0              WP_082687150.1|NZ_LN831302.1|473518|-      4              0  \\\n",
       "1              WP_010902217.1|NZ_CP038631.1|448935|-      4              0   \n",
       "2              WP_269785431.1|NZ_CP089468.1|444977|-      4              0   \n",
       "3             WP_232570346.1|NZ_CP089466.1|2004297|+      4              0   \n",
       "4              WP_059107350.1|NZ_CP065712.1|372047|+      1              0   \n",
       "...                                              ...    ...            ...   \n",
       "176366        WP_011012457.1|NZ_CP023154.1|1220687|+      1              0   \n",
       "176367  WP_205097683.1|NZ_JAFBDI010000001.1|103574|-      1              0   \n",
       "176368     WP_243119700.1|NZ_QFFZ01000003.1|157157|-      1              0   \n",
       "176369   WP_187302819.1|NZ_JACRYT010000006.1|82334|+      1              1   \n",
       "176370     WP_114509925.1|NZ_QPMK01000003.1|239741|+      1              1   \n",
       "\n",
       "        defense_percent  \n",
       "0                   0.0  \n",
       "1                   0.0  \n",
       "2                   0.0  \n",
       "3                   0.0  \n",
       "4                   0.0  \n",
       "...                 ...  \n",
       "176366              0.0  \n",
       "176367              0.0  \n",
       "176368              0.0  \n",
       "176369              1.0  \n",
       "176370              1.0  \n",
       "\n",
       "[176371 rows x 12 columns]"
      ]
     },
     "execution_count": 20,
     "metadata": {},
     "output_type": "execute_result"
    }
   ],
   "source": [
    "merged_test_model_seqs"
   ]
  },
  {
   "cell_type": "code",
   "execution_count": null,
   "id": "47b42d29-0720-42d0-9921-13ff410b4308",
   "metadata": {},
   "outputs": [],
   "source": []
  }
 ],
 "metadata": {
  "kernelspec": {
   "display_name": "beaker",
   "language": "python",
   "name": "beaker"
  },
  "language_info": {
   "codemirror_mode": {
    "name": "ipython",
    "version": 3
   },
   "file_extension": ".py",
   "mimetype": "text/x-python",
   "name": "python",
   "nbconvert_exporter": "python",
   "pygments_lexer": "ipython3",
   "version": "3.8.16"
  }
 },
 "nbformat": 4,
 "nbformat_minor": 5
}
