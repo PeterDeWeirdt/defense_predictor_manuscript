{
 "cells": [
  {
   "cell_type": "code",
   "execution_count": 24,
   "id": "d8ca61d5-cb43-4db7-a0a4-c88d589c35e6",
   "metadata": {},
   "outputs": [],
   "source": [
    "import pandas as pd\n",
    "import os\n",
    "from joblib import Parallel, delayed\n",
    "from tqdm import tqdm\n",
    "import hashlib\n",
    "import numpy as np\n",
    "from esm import pretrained, FastaBatchedDataset\n",
    "import torch\n",
    "from joblib import load\n",
    "import seaborn as sns\n",
    "import matplotlib.pyplot as plt\n",
    "import re\n",
    "import subprocess\n",
    "from predict import predict_beaker\n",
    "from predict import get_representations\n",
    "import warnings\n",
    "import random\n",
    "from core import read_dom_table, read_mmseqs_results"
   ]
  },
  {
   "cell_type": "code",
   "execution_count": 37,
   "id": "a894d0ed-c8e1-4c3c-be86-26845782f655",
   "metadata": {},
   "outputs": [],
   "source": [
    "plt.rcParams['font.size'] = 7\n",
    "plt.rcParams['svg.fonttype'] = 'none'"
   ]
  },
  {
   "cell_type": "markdown",
   "id": "9b546310-cf7a-45f7-8e9f-540f6c1892fa",
   "metadata": {},
   "source": [
    "## Download genomes and sequences"
   ]
  },
  {
   "cell_type": "code",
   "execution_count": 2,
   "id": "a1830ab2-0bd5-4644-a0b6-ec44159038aa",
   "metadata": {},
   "outputs": [],
   "source": [
    "def unzip_file(file):\n",
    "    os.system('gunzip ' + file)\n",
    "\n",
    "\n",
    "def encode_protein(p):\n",
    "    return hashlib.sha224(p.encode('utf-8')).hexdigest()\n",
    "\n",
    "\n",
    "def process_seq(seq, name, assembly, f):\n",
    "    seq_id = encode_protein(seq)\n",
    "    print(','.join([name, seq_id, seq, assembly]), file=f)\n",
    "\n",
    "\n",
    "def process_faa_file(faa_dir, faa_file, out_dir):\n",
    "    assembly = faa_file.split('.')[0]\n",
    "    with open(out_dir + assembly + '.csv', 'w') as f:\n",
    "        seq = ''\n",
    "        for line in open(faa_dir + faa_file, 'r'):\n",
    "            if '>' in line:\n",
    "                if seq:\n",
    "                    process_seq(seq, name, assembly, f)\n",
    "                    seq = ''\n",
    "                name = line.split(' ')[0][1:]\n",
    "            else:\n",
    "                seq += line.strip()\n",
    "        process_seq(seq, name, assembly, f)\n",
    "\n",
    "\n",
    "def process_unique_split(out_dir, unique_seq_df, i):\n",
    "    with open(out_dir + str(i) + '.faa', 'w') as f:\n",
    "        for _, row in unique_seq_df.iterrows():\n",
    "            print('>' + row['name'], file=f)\n",
    "            print(row['seq'], file=f)"
   ]
  },
  {
   "cell_type": "code",
   "execution_count": 3,
   "id": "3699db43-9b5c-48d6-8d09-6fe64d43e60e",
   "metadata": {},
   "outputs": [],
   "source": [
    "def hmmsearch(tblout, database, input_file, cutoff=1E-2):\n",
    "    # fixed total targets for comparison with other \n",
    "    rand = random.randint(0, 1_000_000_000)\n",
    "    os.system(' '.join(['conda run -n beaker', \n",
    "                        'hmmsearch',\n",
    "                        '-o', '../data/tmp/tmpfile_' + str(rand) + '.txt',\n",
    "                        '--domtblout', tblout,\n",
    "                        '-E', str(cutoff), \n",
    "                        '--domE', str(cutoff),\n",
    "                        '--cpu', '2',\n",
    "                        database,\n",
    "                        input_file]))\n",
    "    os.system('rm ../data/tmp/tmpfile_' + str(rand) + '.txt')"
   ]
  },
  {
   "cell_type": "code",
   "execution_count": 2,
   "id": "b92636f1-06a3-4dd1-83b2-b0edde4a168f",
   "metadata": {},
   "outputs": [],
   "source": [
    "assemblies_dir = '../data/interim/ecor_assemblies/'"
   ]
  },
  {
   "cell_type": "code",
   "execution_count": 4,
   "id": "009b5f19-0016-4b57-b978-0f87d03742f6",
   "metadata": {},
   "outputs": [
    {
     "name": "stdout",
     "output_type": "stream",
     "text": [
      "Unzipping files\n"
     ]
    },
    {
     "name": "stderr",
     "output_type": "stream",
     "text": [
      "100%|██████████| 142/142 [00:01<00:00, 82.73it/s]\n"
     ]
    }
   ],
   "source": [
    "print('Unzipping files')\n",
    "files = [file for file in os.listdir(assemblies_dir) if '.gz' in file]\n",
    "_ = Parallel(n_jobs=40)(delayed(unzip_file)(assemblies_dir + f) for f in tqdm(files))"
   ]
  },
  {
   "cell_type": "code",
   "execution_count": 3,
   "id": "9a0cd3f4-f7ea-4988-82d7-0cac8870bc62",
   "metadata": {},
   "outputs": [],
   "source": [
    "faa_files = [file for file in os.listdir(assemblies_dir) if '.faa' in file]"
   ]
  },
  {
   "cell_type": "code",
   "execution_count": 8,
   "id": "f7113634-6140-4156-be5c-b45360f4726d",
   "metadata": {},
   "outputs": [
    {
     "name": "stdout",
     "output_type": "stream",
     "text": [
      "Deduplicating fasta files\n"
     ]
    },
    {
     "name": "stderr",
     "output_type": "stream",
     "text": [
      "100%|██████████| 69/69 [00:00<00:00, 90.55it/s]\n"
     ]
    },
    {
     "data": {
      "text/plain": [
       "0"
      ]
     },
     "execution_count": 8,
     "metadata": {},
     "output_type": "execute_result"
    }
   ],
   "source": [
    "seq_assembly_dir = '../data/interim/ecor_assemblies_faa_temp/'\n",
    "print('Deduplicating fasta files')\n",
    "os.system('mkdir ' + seq_assembly_dir)\n",
    "_ = Parallel(n_jobs=40)(delayed(process_faa_file)(assemblies_dir, faa_file, seq_assembly_dir) for faa_file in tqdm(faa_files))\n",
    "os.system('cat ' + seq_assembly_dir + '*.csv > ../data/interim/ecor_seq_assemblies.csv')\n",
    "os.system('rm -r ' + seq_assembly_dir)"
   ]
  },
  {
   "cell_type": "code",
   "execution_count": 2,
   "id": "5652c8fc-0ec3-4cca-be0d-e462d0819b10",
   "metadata": {},
   "outputs": [
    {
     "name": "stdout",
     "output_type": "stream",
     "text": [
      "Removed 240537 of rows ( 75.09647085268995 %)\n"
     ]
    }
   ],
   "source": [
    "seq_assembly_df = pd.read_csv('../data/interim/ecor_seq_assemblies.csv',\n",
    "                              names=['name', 'seq_id', 'seq', 'assembly'])\n",
    "unique_seq_df = seq_assembly_df[['name', 'seq']].drop_duplicates()\n",
    "rm_rows = len(seq_assembly_df) - len(unique_seq_df)\n",
    "print('Removed', rm_rows, 'of rows (', rm_rows/len(seq_assembly_df)*100, '%)')"
   ]
  },
  {
   "cell_type": "code",
   "execution_count": 3,
   "id": "4755da04-c51c-42ff-8f64-525663c9016e",
   "metadata": {},
   "outputs": [
    {
     "data": {
      "text/plain": [
       "79767"
      ]
     },
     "execution_count": 3,
     "metadata": {},
     "output_type": "execute_result"
    }
   ],
   "source": [
    "len(unique_seq_df)"
   ]
  },
  {
   "cell_type": "code",
   "execution_count": 6,
   "id": "0415bbc8-f289-4fbe-9083-5c1a13940623",
   "metadata": {},
   "outputs": [],
   "source": [
    "ecor_unique_seqs_fa = '../data/interim/ecor_unique_seqs.faa'"
   ]
  },
  {
   "cell_type": "code",
   "execution_count": 12,
   "id": "49d9b573-3e4e-4f34-8452-3c77d4318cb8",
   "metadata": {},
   "outputs": [
    {
     "name": "stdout",
     "output_type": "stream",
     "text": [
      "Writing deduplicated sequences\n"
     ]
    },
    {
     "name": "stderr",
     "output_type": "stream",
     "text": [
      "100%|██████████| 1000/1000 [00:00<00:00, 1172.39it/s]\n"
     ]
    },
    {
     "data": {
      "text/plain": [
       "0"
      ]
     },
     "execution_count": 12,
     "metadata": {},
     "output_type": "execute_result"
    }
   ],
   "source": [
    "unique_seq_dir = '../data/interim/ecor_unique_seqs_temp/'\n",
    "print('Writing deduplicated sequences')\n",
    "os.mkdir(unique_seq_dir)\n",
    "unique_seq_df = np.array_split(unique_seq_df, 1_000)\n",
    "Parallel(n_jobs=40)(delayed(process_unique_split)(unique_seq_dir, df, i) for i, df in tqdm(enumerate(unique_seq_df), total=1_000))\n",
    "os.system('cat ' + unique_seq_dir + '*.faa > ' + ecor_unique_seqs_fa)\n",
    "os.system('rm -r ' + unique_seq_dir)"
   ]
  },
  {
   "cell_type": "markdown",
   "id": "22adbdbf-af06-4e37-b031-425bd8a5105a",
   "metadata": {},
   "source": [
    "## Get representations for sequences"
   ]
  },
  {
   "cell_type": "code",
   "execution_count": 7,
   "id": "d5ad744d-bf5e-426f-a166-4881286b5b45",
   "metadata": {},
   "outputs": [],
   "source": [
    "rep_file = '../data/interim/ecor_representations_reps.csv' # output"
   ]
  },
  {
   "cell_type": "code",
   "execution_count": 10,
   "id": "67b0f564-8a8b-4ed7-bcb1-be54d780c995",
   "metadata": {},
   "outputs": [
    {
     "name": "stdout",
     "output_type": "stream",
     "text": [
      "Calculating assembly representations\n",
      "Model device: cuda\n",
      "Repr layer 30\n"
     ]
    },
    {
     "name": "stderr",
     "output_type": "stream",
     "text": [
      "100%|██████████| 7495/7495 [27:28<00:00,  4.55it/s]\n"
     ]
    }
   ],
   "source": [
    "rep_output_dir = '../data/interim/'\n",
    "if 'ecor_representations_reps.csv' not in os.listdir('../data/interim'):\n",
    "    print('Calculating assembly representations')\n",
    "    model_location = 'esm2_t30_150M_UR50D'\n",
    "    toks_per_batch = 4096\n",
    "    truncation_seq_length = 1022\n",
    "    repr_layer = 30\n",
    "    model, alphabet = pretrained.load_model_and_alphabet(model_location)\n",
    "    device = torch.device('cuda')\n",
    "    print('Model device:', device)\n",
    "    model = model.to(device)\n",
    "    repr_layer = (repr_layer + model.num_layers + 1) % (model.num_layers + 1)\n",
    "    print('Repr layer', repr_layer)\n",
    "    get_representations('../data/interim/ecor_unique_seqs.faa', 'ecor_representations', \n",
    "                        rep_output_dir, toks_per_batch, alphabet,\n",
    "                        truncation_seq_length, model, repr_layer, 'cuda')\n",
    "else:\n",
    "    warnings.warn('Representation directory already exists')"
   ]
  },
  {
   "cell_type": "markdown",
   "id": "1f9d6bf4-796f-441e-aa01-0a4c2a93f8a5",
   "metadata": {},
   "source": [
    "## Make Beaker Predictions"
   ]
  },
  {
   "cell_type": "code",
   "execution_count": 8,
   "id": "d7299fa8-568c-42b7-975b-e5ac69b1b174",
   "metadata": {},
   "outputs": [],
   "source": [
    "feature_files = [file for file in os.listdir(assemblies_dir) if '.txt' in file]\n",
    "fna_files = [file for file in os.listdir(assemblies_dir) if '.fna' in file]"
   ]
  },
  {
   "cell_type": "code",
   "execution_count": 9,
   "id": "5fce0ff0-d4f3-4d52-bc20-414c6dd6a7a5",
   "metadata": {},
   "outputs": [],
   "source": [
    "feature_file_dict = {x.split('.')[0]: '../data/interim/ecor_assemblies/' + x for x in feature_files}\n",
    "fna_file_dict = {x.split('.')[0]: '../data/interim/ecor_assemblies/' + x for x in fna_files}\n",
    "assemblies = feature_file_dict.keys()"
   ]
  },
  {
   "cell_type": "code",
   "execution_count": 4,
   "id": "8abeb66f-6795-4dd9-972a-c85651bffcaa",
   "metadata": {},
   "outputs": [],
   "source": [
    "prediction_out_dir = '../data/processed/ecor_predictions/'"
   ]
  },
  {
   "cell_type": "code",
   "execution_count": 14,
   "id": "c637df95-b0ab-480f-a3ed-67785ecf70b1",
   "metadata": {},
   "outputs": [],
   "source": [
    "if 'ecor_predictions' in os.listdir('../data/processed'):\n",
    "    os.system('rm -r ' + prediction_out_dir)\n",
    "os.mkdir(prediction_out_dir) "
   ]
  },
  {
   "cell_type": "code",
   "execution_count": 15,
   "id": "398f623e-145d-4fdc-b4ac-371b9f43497a",
   "metadata": {
    "tags": []
   },
   "outputs": [
    {
     "name": "stderr",
     "output_type": "stream",
     "text": [
      "  0%|          | 0/69 [00:00<?, ?it/s]"
     ]
    },
    {
     "name": "stdout",
     "output_type": "stream",
     "text": [
      "Making predictions for GCF_003334715\n",
      "Building model matrix\n"
     ]
    },
    {
     "name": "stderr",
     "output_type": "stream",
     "text": [
      "100%|██████████| 4221/4221 [00:06<00:00, 677.53it/s]\n"
     ]
    },
    {
     "name": "stdout",
     "output_type": "stream",
     "text": [
      "Building sequence feature matrix\n"
     ]
    },
    {
     "name": "stderr",
     "output_type": "stream",
     "text": [
      "100%|██████████| 4221/4221 [00:08<00:00, 482.55it/s] \n"
     ]
    },
    {
     "name": "stdout",
     "output_type": "stream",
     "text": [
      "Making predictions\n"
     ]
    },
    {
     "name": "stderr",
     "output_type": "stream",
     "text": [
      "  1%|▏         | 1/69 [00:38<43:48, 38.65s/it]"
     ]
    },
    {
     "name": "stdout",
     "output_type": "stream",
     "text": [
      "Making predictions for GCF_003334035\n",
      "Building model matrix\n"
     ]
    },
    {
     "name": "stderr",
     "output_type": "stream",
     "text": [
      "100%|██████████| 4353/4353 [00:06<00:00, 643.76it/s]\n"
     ]
    },
    {
     "name": "stdout",
     "output_type": "stream",
     "text": [
      "Building sequence feature matrix\n"
     ]
    },
    {
     "name": "stderr",
     "output_type": "stream",
     "text": [
      "100%|██████████| 4353/4353 [00:03<00:00, 1254.93it/s]\n"
     ]
    },
    {
     "name": "stdout",
     "output_type": "stream",
     "text": [
      "Making predictions\n"
     ]
    },
    {
     "name": "stderr",
     "output_type": "stream",
     "text": [
      "  3%|▎         | 2/69 [01:00<31:54, 28.57s/it]"
     ]
    },
    {
     "name": "stdout",
     "output_type": "stream",
     "text": [
      "Making predictions for GCF_003886345\n",
      "Building model matrix\n"
     ]
    },
    {
     "name": "stderr",
     "output_type": "stream",
     "text": [
      "100%|██████████| 4676/4676 [00:06<00:00, 677.70it/s]\n"
     ]
    },
    {
     "name": "stdout",
     "output_type": "stream",
     "text": [
      "Building sequence feature matrix\n"
     ]
    },
    {
     "name": "stderr",
     "output_type": "stream",
     "text": [
      "100%|██████████| 4676/4676 [00:03<00:00, 1321.23it/s]\n"
     ]
    },
    {
     "name": "stdout",
     "output_type": "stream",
     "text": [
      "Making predictions\n"
     ]
    },
    {
     "name": "stderr",
     "output_type": "stream",
     "text": [
      "  4%|▍         | 3/69 [01:21<27:58, 25.43s/it]"
     ]
    },
    {
     "name": "stdout",
     "output_type": "stream",
     "text": [
      "Making predictions for GCF_003886675\n",
      "Building model matrix\n"
     ]
    },
    {
     "name": "stderr",
     "output_type": "stream",
     "text": [
      "100%|██████████| 4814/4814 [00:06<00:00, 695.62it/s]\n"
     ]
    },
    {
     "name": "stdout",
     "output_type": "stream",
     "text": [
      "Building sequence feature matrix\n"
     ]
    },
    {
     "name": "stderr",
     "output_type": "stream",
     "text": [
      "100%|██████████| 4814/4814 [00:03<00:00, 1285.77it/s]\n"
     ]
    },
    {
     "name": "stdout",
     "output_type": "stream",
     "text": [
      "Making predictions\n"
     ]
    },
    {
     "name": "stderr",
     "output_type": "stream",
     "text": [
      "  6%|▌         | 4/69 [01:43<26:00, 24.00s/it]"
     ]
    },
    {
     "name": "stdout",
     "output_type": "stream",
     "text": [
      "Making predictions for GCF_003334145\n",
      "Building model matrix\n"
     ]
    },
    {
     "name": "stderr",
     "output_type": "stream",
     "text": [
      "100%|██████████| 4175/4175 [00:06<00:00, 670.71it/s]\n"
     ]
    },
    {
     "name": "stdout",
     "output_type": "stream",
     "text": [
      "Building sequence feature matrix\n"
     ]
    },
    {
     "name": "stderr",
     "output_type": "stream",
     "text": [
      "100%|██████████| 4175/4175 [00:03<00:00, 1295.10it/s]\n"
     ]
    },
    {
     "name": "stdout",
     "output_type": "stream",
     "text": [
      "Making predictions\n"
     ]
    },
    {
     "name": "stderr",
     "output_type": "stream",
     "text": [
      "  7%|▋         | 5/69 [02:03<24:03, 22.55s/it]"
     ]
    },
    {
     "name": "stdout",
     "output_type": "stream",
     "text": [
      "Making predictions for GCF_003892475\n",
      "Building model matrix\n"
     ]
    },
    {
     "name": "stderr",
     "output_type": "stream",
     "text": [
      "100%|██████████| 4959/4959 [00:07<00:00, 683.90it/s]\n"
     ]
    },
    {
     "name": "stdout",
     "output_type": "stream",
     "text": [
      "Building sequence feature matrix\n"
     ]
    },
    {
     "name": "stderr",
     "output_type": "stream",
     "text": [
      "100%|██████████| 4959/4959 [00:04<00:00, 1219.58it/s]\n"
     ]
    },
    {
     "name": "stdout",
     "output_type": "stream",
     "text": [
      "Making predictions\n"
     ]
    },
    {
     "name": "stderr",
     "output_type": "stream",
     "text": [
      "  9%|▊         | 6/69 [02:26<23:38, 22.52s/it]"
     ]
    },
    {
     "name": "stdout",
     "output_type": "stream",
     "text": [
      "Making predictions for GCF_003333475\n",
      "Building model matrix\n"
     ]
    },
    {
     "name": "stderr",
     "output_type": "stream",
     "text": [
      "100%|██████████| 4749/4749 [00:07<00:00, 667.92it/s]\n"
     ]
    },
    {
     "name": "stdout",
     "output_type": "stream",
     "text": [
      "Building sequence feature matrix\n"
     ]
    },
    {
     "name": "stderr",
     "output_type": "stream",
     "text": [
      "100%|██████████| 4749/4749 [00:03<00:00, 1215.83it/s]\n"
     ]
    },
    {
     "name": "stdout",
     "output_type": "stream",
     "text": [
      "Making predictions\n"
     ]
    },
    {
     "name": "stderr",
     "output_type": "stream",
     "text": [
      " 10%|█         | 7/69 [02:47<23:01, 22.29s/it]"
     ]
    },
    {
     "name": "stdout",
     "output_type": "stream",
     "text": [
      "Making predictions for GCF_003886445\n",
      "Building model matrix\n"
     ]
    },
    {
     "name": "stderr",
     "output_type": "stream",
     "text": [
      "100%|██████████| 5042/5042 [00:07<00:00, 661.42it/s]\n"
     ]
    },
    {
     "name": "stdout",
     "output_type": "stream",
     "text": [
      "Building sequence feature matrix\n"
     ]
    },
    {
     "name": "stderr",
     "output_type": "stream",
     "text": [
      "100%|██████████| 5042/5042 [00:04<00:00, 1240.73it/s]\n"
     ]
    },
    {
     "name": "stdout",
     "output_type": "stream",
     "text": [
      "Making predictions\n"
     ]
    },
    {
     "name": "stderr",
     "output_type": "stream",
     "text": [
      " 12%|█▏        | 8/69 [03:10<22:49, 22.44s/it]"
     ]
    },
    {
     "name": "stdout",
     "output_type": "stream",
     "text": [
      "Making predictions for GCF_003334555\n",
      "Building model matrix\n"
     ]
    },
    {
     "name": "stderr",
     "output_type": "stream",
     "text": [
      "100%|██████████| 4859/4859 [00:07<00:00, 670.22it/s]\n"
     ]
    },
    {
     "name": "stdout",
     "output_type": "stream",
     "text": [
      "Building sequence feature matrix\n"
     ]
    },
    {
     "name": "stderr",
     "output_type": "stream",
     "text": [
      "100%|██████████| 4859/4859 [00:03<00:00, 1334.02it/s]\n"
     ]
    },
    {
     "name": "stdout",
     "output_type": "stream",
     "text": [
      "Making predictions\n"
     ]
    },
    {
     "name": "stderr",
     "output_type": "stream",
     "text": [
      " 13%|█▎        | 9/69 [03:33<22:24, 22.40s/it]"
     ]
    },
    {
     "name": "stdout",
     "output_type": "stream",
     "text": [
      "Making predictions for GCF_003886375\n",
      "Building model matrix\n"
     ]
    },
    {
     "name": "stderr",
     "output_type": "stream",
     "text": [
      "100%|██████████| 4923/4923 [00:07<00:00, 687.88it/s]\n"
     ]
    },
    {
     "name": "stdout",
     "output_type": "stream",
     "text": [
      "Building sequence feature matrix\n"
     ]
    },
    {
     "name": "stderr",
     "output_type": "stream",
     "text": [
      "100%|██████████| 4923/4923 [00:03<00:00, 1258.63it/s]\n"
     ]
    },
    {
     "name": "stdout",
     "output_type": "stream",
     "text": [
      "Making predictions\n"
     ]
    },
    {
     "name": "stderr",
     "output_type": "stream",
     "text": [
      " 14%|█▍        | 10/69 [03:55<21:54, 22.28s/it]"
     ]
    },
    {
     "name": "stdout",
     "output_type": "stream",
     "text": [
      "Making predictions for GCF_003334335\n",
      "Building model matrix\n"
     ]
    },
    {
     "name": "stderr",
     "output_type": "stream",
     "text": [
      "100%|██████████| 4787/4787 [00:06<00:00, 692.63it/s]\n"
     ]
    },
    {
     "name": "stdout",
     "output_type": "stream",
     "text": [
      "Building sequence feature matrix\n"
     ]
    },
    {
     "name": "stderr",
     "output_type": "stream",
     "text": [
      "100%|██████████| 4787/4787 [00:03<00:00, 1273.37it/s]\n"
     ]
    },
    {
     "name": "stdout",
     "output_type": "stream",
     "text": [
      "Making predictions\n"
     ]
    },
    {
     "name": "stderr",
     "output_type": "stream",
     "text": [
      " 16%|█▌        | 11/69 [04:16<21:17, 22.03s/it]"
     ]
    },
    {
     "name": "stdout",
     "output_type": "stream",
     "text": [
      "Making predictions for GCF_003333765\n",
      "Building model matrix\n"
     ]
    },
    {
     "name": "stderr",
     "output_type": "stream",
     "text": [
      "100%|██████████| 4949/4949 [00:07<00:00, 677.98it/s]\n"
     ]
    },
    {
     "name": "stdout",
     "output_type": "stream",
     "text": [
      "Building sequence feature matrix\n"
     ]
    },
    {
     "name": "stderr",
     "output_type": "stream",
     "text": [
      "100%|██████████| 4949/4949 [00:03<00:00, 1335.23it/s]\n"
     ]
    },
    {
     "name": "stdout",
     "output_type": "stream",
     "text": [
      "Making predictions\n"
     ]
    },
    {
     "name": "stderr",
     "output_type": "stream",
     "text": [
      " 17%|█▋        | 12/69 [04:38<21:01, 22.13s/it]"
     ]
    },
    {
     "name": "stdout",
     "output_type": "stream",
     "text": [
      "Making predictions for GCF_003333505\n",
      "Building model matrix\n"
     ]
    },
    {
     "name": "stderr",
     "output_type": "stream",
     "text": [
      "100%|██████████| 4725/4725 [00:06<00:00, 689.13it/s]\n"
     ]
    },
    {
     "name": "stdout",
     "output_type": "stream",
     "text": [
      "Building sequence feature matrix\n"
     ]
    },
    {
     "name": "stderr",
     "output_type": "stream",
     "text": [
      "100%|██████████| 4725/4725 [00:03<00:00, 1326.42it/s]\n"
     ]
    },
    {
     "name": "stdout",
     "output_type": "stream",
     "text": [
      "Making predictions\n"
     ]
    },
    {
     "name": "stderr",
     "output_type": "stream",
     "text": [
      " 19%|█▉        | 13/69 [05:00<20:33, 22.03s/it]"
     ]
    },
    {
     "name": "stdout",
     "output_type": "stream",
     "text": [
      "Making predictions for GCF_003886285\n",
      "Building model matrix\n"
     ]
    },
    {
     "name": "stderr",
     "output_type": "stream",
     "text": [
      "100%|██████████| 4456/4456 [00:06<00:00, 679.60it/s]\n"
     ]
    },
    {
     "name": "stdout",
     "output_type": "stream",
     "text": [
      "Building sequence feature matrix\n"
     ]
    },
    {
     "name": "stderr",
     "output_type": "stream",
     "text": [
      "100%|██████████| 4456/4456 [00:03<00:00, 1351.07it/s]\n"
     ]
    },
    {
     "name": "stdout",
     "output_type": "stream",
     "text": [
      "Making predictions\n"
     ]
    },
    {
     "name": "stderr",
     "output_type": "stream",
     "text": [
      " 20%|██        | 14/69 [05:21<19:48, 21.61s/it]"
     ]
    },
    {
     "name": "stdout",
     "output_type": "stream",
     "text": [
      "Making predictions for GCF_003333715\n",
      "Building model matrix\n"
     ]
    },
    {
     "name": "stderr",
     "output_type": "stream",
     "text": [
      "100%|██████████| 4582/4582 [00:06<00:00, 678.09it/s]\n"
     ]
    },
    {
     "name": "stdout",
     "output_type": "stream",
     "text": [
      "Building sequence feature matrix\n"
     ]
    },
    {
     "name": "stderr",
     "output_type": "stream",
     "text": [
      "100%|██████████| 4582/4582 [00:03<00:00, 1299.71it/s]\n"
     ]
    },
    {
     "name": "stdout",
     "output_type": "stream",
     "text": [
      "Making predictions\n"
     ]
    },
    {
     "name": "stderr",
     "output_type": "stream",
     "text": [
      " 22%|██▏       | 15/69 [05:42<19:23, 21.54s/it]"
     ]
    },
    {
     "name": "stdout",
     "output_type": "stream",
     "text": [
      "Making predictions for GCF_003333785\n",
      "Building model matrix\n"
     ]
    },
    {
     "name": "stderr",
     "output_type": "stream",
     "text": [
      "100%|██████████| 4838/4838 [00:07<00:00, 690.27it/s]\n"
     ]
    },
    {
     "name": "stdout",
     "output_type": "stream",
     "text": [
      "Building sequence feature matrix\n"
     ]
    },
    {
     "name": "stderr",
     "output_type": "stream",
     "text": [
      "100%|██████████| 4838/4838 [00:03<00:00, 1343.73it/s]\n"
     ]
    },
    {
     "name": "stdout",
     "output_type": "stream",
     "text": [
      "Making predictions\n"
     ]
    },
    {
     "name": "stderr",
     "output_type": "stream",
     "text": [
      " 23%|██▎       | 16/69 [06:04<19:04, 21.60s/it]"
     ]
    },
    {
     "name": "stdout",
     "output_type": "stream",
     "text": [
      "Making predictions for GCF_003333925\n",
      "Building model matrix\n"
     ]
    },
    {
     "name": "stderr",
     "output_type": "stream",
     "text": [
      "100%|██████████| 4433/4433 [00:06<00:00, 689.19it/s]\n"
     ]
    },
    {
     "name": "stdout",
     "output_type": "stream",
     "text": [
      "Building sequence feature matrix\n"
     ]
    },
    {
     "name": "stderr",
     "output_type": "stream",
     "text": [
      "100%|██████████| 4433/4433 [00:03<00:00, 1314.49it/s]\n"
     ]
    },
    {
     "name": "stdout",
     "output_type": "stream",
     "text": [
      "Making predictions\n"
     ]
    },
    {
     "name": "stderr",
     "output_type": "stream",
     "text": [
      " 25%|██▍       | 17/69 [06:24<18:24, 21.25s/it]"
     ]
    },
    {
     "name": "stdout",
     "output_type": "stream",
     "text": [
      "Making predictions for GCF_003886695\n",
      "Building model matrix\n"
     ]
    },
    {
     "name": "stderr",
     "output_type": "stream",
     "text": [
      "100%|██████████| 4822/4822 [00:07<00:00, 670.13it/s]\n"
     ]
    },
    {
     "name": "stdout",
     "output_type": "stream",
     "text": [
      "Building sequence feature matrix\n"
     ]
    },
    {
     "name": "stderr",
     "output_type": "stream",
     "text": [
      "100%|██████████| 4822/4822 [00:03<00:00, 1285.13it/s]\n"
     ]
    },
    {
     "name": "stdout",
     "output_type": "stream",
     "text": [
      "Making predictions\n"
     ]
    },
    {
     "name": "stderr",
     "output_type": "stream",
     "text": [
      " 26%|██▌       | 18/69 [06:46<18:10, 21.39s/it]"
     ]
    },
    {
     "name": "stdout",
     "output_type": "stream",
     "text": [
      "Making predictions for GCF_003334175\n",
      "Building model matrix\n"
     ]
    },
    {
     "name": "stderr",
     "output_type": "stream",
     "text": [
      "100%|██████████| 4105/4105 [00:06<00:00, 668.30it/s]\n"
     ]
    },
    {
     "name": "stdout",
     "output_type": "stream",
     "text": [
      "Building sequence feature matrix\n"
     ]
    },
    {
     "name": "stderr",
     "output_type": "stream",
     "text": [
      "100%|██████████| 4105/4105 [00:03<00:00, 1259.32it/s]\n"
     ]
    },
    {
     "name": "stdout",
     "output_type": "stream",
     "text": [
      "Making predictions\n"
     ]
    },
    {
     "name": "stderr",
     "output_type": "stream",
     "text": [
      " 28%|██▊       | 19/69 [07:06<17:31, 21.03s/it]"
     ]
    },
    {
     "name": "stdout",
     "output_type": "stream",
     "text": [
      "Making predictions for GCF_003333605\n",
      "Building model matrix\n"
     ]
    },
    {
     "name": "stderr",
     "output_type": "stream",
     "text": [
      "100%|██████████| 4694/4694 [00:06<00:00, 680.75it/s]\n"
     ]
    },
    {
     "name": "stdout",
     "output_type": "stream",
     "text": [
      "Building sequence feature matrix\n"
     ]
    },
    {
     "name": "stderr",
     "output_type": "stream",
     "text": [
      "100%|██████████| 4694/4694 [00:03<00:00, 1360.95it/s]\n"
     ]
    },
    {
     "name": "stdout",
     "output_type": "stream",
     "text": [
      "Making predictions\n"
     ]
    },
    {
     "name": "stderr",
     "output_type": "stream",
     "text": [
      " 29%|██▉       | 20/69 [07:28<17:18, 21.19s/it]"
     ]
    },
    {
     "name": "stdout",
     "output_type": "stream",
     "text": [
      "Making predictions for GCF_003885255\n",
      "Building model matrix\n"
     ]
    },
    {
     "name": "stderr",
     "output_type": "stream",
     "text": [
      "100%|██████████| 4742/4742 [00:07<00:00, 669.96it/s]\n"
     ]
    },
    {
     "name": "stdout",
     "output_type": "stream",
     "text": [
      "Building sequence feature matrix\n"
     ]
    },
    {
     "name": "stderr",
     "output_type": "stream",
     "text": [
      "100%|██████████| 4742/4742 [00:03<00:00, 1395.16it/s]\n"
     ]
    },
    {
     "name": "stdout",
     "output_type": "stream",
     "text": [
      "Making predictions\n"
     ]
    },
    {
     "name": "stderr",
     "output_type": "stream",
     "text": [
      " 30%|███       | 21/69 [07:50<17:05, 21.37s/it]"
     ]
    },
    {
     "name": "stdout",
     "output_type": "stream",
     "text": [
      "Making predictions for GCF_003333675\n",
      "Building model matrix\n"
     ]
    },
    {
     "name": "stderr",
     "output_type": "stream",
     "text": [
      "100%|██████████| 5240/5240 [00:07<00:00, 683.76it/s]\n"
     ]
    },
    {
     "name": "stdout",
     "output_type": "stream",
     "text": [
      "Building sequence feature matrix\n"
     ]
    },
    {
     "name": "stderr",
     "output_type": "stream",
     "text": [
      "100%|██████████| 5240/5240 [00:04<00:00, 1250.36it/s]\n"
     ]
    },
    {
     "name": "stdout",
     "output_type": "stream",
     "text": [
      "Making predictions\n"
     ]
    },
    {
     "name": "stderr",
     "output_type": "stream",
     "text": [
      " 32%|███▏      | 22/69 [08:13<17:10, 21.92s/it]"
     ]
    },
    {
     "name": "stdout",
     "output_type": "stream",
     "text": [
      "Making predictions for GCF_003334625\n",
      "Building model matrix\n"
     ]
    },
    {
     "name": "stderr",
     "output_type": "stream",
     "text": [
      "100%|██████████| 4571/4571 [00:06<00:00, 653.63it/s]\n"
     ]
    },
    {
     "name": "stdout",
     "output_type": "stream",
     "text": [
      "Building sequence feature matrix\n"
     ]
    },
    {
     "name": "stderr",
     "output_type": "stream",
     "text": [
      "100%|██████████| 4571/4571 [00:03<00:00, 1293.70it/s]\n"
     ]
    },
    {
     "name": "stdout",
     "output_type": "stream",
     "text": [
      "Making predictions\n"
     ]
    },
    {
     "name": "stderr",
     "output_type": "stream",
     "text": [
      " 33%|███▎      | 23/69 [08:34<16:37, 21.69s/it]"
     ]
    },
    {
     "name": "stdout",
     "output_type": "stream",
     "text": [
      "Making predictions for GCF_003334425\n",
      "Building model matrix\n"
     ]
    },
    {
     "name": "stderr",
     "output_type": "stream",
     "text": [
      "100%|██████████| 4390/4390 [00:06<00:00, 673.39it/s]\n"
     ]
    },
    {
     "name": "stdout",
     "output_type": "stream",
     "text": [
      "Building sequence feature matrix\n"
     ]
    },
    {
     "name": "stderr",
     "output_type": "stream",
     "text": [
      "100%|██████████| 4390/4390 [00:03<00:00, 1338.91it/s]\n"
     ]
    },
    {
     "name": "stdout",
     "output_type": "stream",
     "text": [
      "Making predictions\n"
     ]
    },
    {
     "name": "stderr",
     "output_type": "stream",
     "text": [
      " 35%|███▍      | 24/69 [08:55<16:01, 21.36s/it]"
     ]
    },
    {
     "name": "stdout",
     "output_type": "stream",
     "text": [
      "Making predictions for GCF_003886455\n",
      "Building model matrix\n"
     ]
    },
    {
     "name": "stderr",
     "output_type": "stream",
     "text": [
      "100%|██████████| 4567/4567 [00:06<00:00, 688.37it/s]\n"
     ]
    },
    {
     "name": "stdout",
     "output_type": "stream",
     "text": [
      "Building sequence feature matrix\n"
     ]
    },
    {
     "name": "stderr",
     "output_type": "stream",
     "text": [
      "100%|██████████| 4567/4567 [00:03<00:00, 1254.76it/s]\n"
     ]
    },
    {
     "name": "stdout",
     "output_type": "stream",
     "text": [
      "Making predictions\n"
     ]
    },
    {
     "name": "stderr",
     "output_type": "stream",
     "text": [
      " 36%|███▌      | 25/69 [09:15<15:33, 21.22s/it]"
     ]
    },
    {
     "name": "stdout",
     "output_type": "stream",
     "text": [
      "Making predictions for GCF_003334245\n",
      "Building model matrix\n"
     ]
    },
    {
     "name": "stderr",
     "output_type": "stream",
     "text": [
      "100%|██████████| 4848/4848 [00:07<00:00, 667.47it/s]\n"
     ]
    },
    {
     "name": "stdout",
     "output_type": "stream",
     "text": [
      "Building sequence feature matrix\n"
     ]
    },
    {
     "name": "stderr",
     "output_type": "stream",
     "text": [
      "100%|██████████| 4848/4848 [00:03<00:00, 1320.10it/s]\n"
     ]
    },
    {
     "name": "stdout",
     "output_type": "stream",
     "text": [
      "Making predictions\n"
     ]
    },
    {
     "name": "stderr",
     "output_type": "stream",
     "text": [
      " 38%|███▊      | 26/69 [09:38<15:24, 21.49s/it]"
     ]
    },
    {
     "name": "stdout",
     "output_type": "stream",
     "text": [
      "Making predictions for GCF_003334585\n",
      "Building model matrix\n"
     ]
    },
    {
     "name": "stderr",
     "output_type": "stream",
     "text": [
      "100%|██████████| 4854/4854 [00:07<00:00, 684.03it/s]\n"
     ]
    },
    {
     "name": "stdout",
     "output_type": "stream",
     "text": [
      "Building sequence feature matrix\n"
     ]
    },
    {
     "name": "stderr",
     "output_type": "stream",
     "text": [
      "100%|██████████| 4854/4854 [00:03<00:00, 1221.84it/s]\n"
     ]
    },
    {
     "name": "stdout",
     "output_type": "stream",
     "text": [
      "Making predictions\n"
     ]
    },
    {
     "name": "stderr",
     "output_type": "stream",
     "text": [
      " 39%|███▉      | 27/69 [10:00<15:11, 21.70s/it]"
     ]
    },
    {
     "name": "stdout",
     "output_type": "stream",
     "text": [
      "Making predictions for GCF_003334155\n",
      "Building model matrix\n"
     ]
    },
    {
     "name": "stderr",
     "output_type": "stream",
     "text": [
      "100%|██████████| 4226/4226 [00:06<00:00, 648.95it/s]\n"
     ]
    },
    {
     "name": "stdout",
     "output_type": "stream",
     "text": [
      "Building sequence feature matrix\n"
     ]
    },
    {
     "name": "stderr",
     "output_type": "stream",
     "text": [
      "100%|██████████| 4226/4226 [00:03<00:00, 1271.56it/s]\n"
     ]
    },
    {
     "name": "stdout",
     "output_type": "stream",
     "text": [
      "Making predictions\n"
     ]
    },
    {
     "name": "stderr",
     "output_type": "stream",
     "text": [
      " 41%|████      | 28/69 [10:20<14:32, 21.27s/it]"
     ]
    },
    {
     "name": "stdout",
     "output_type": "stream",
     "text": [
      "Making predictions for GCF_003333935\n",
      "Building model matrix\n"
     ]
    },
    {
     "name": "stderr",
     "output_type": "stream",
     "text": [
      "100%|██████████| 4445/4445 [00:06<00:00, 654.74it/s]\n"
     ]
    },
    {
     "name": "stdout",
     "output_type": "stream",
     "text": [
      "Building sequence feature matrix\n"
     ]
    },
    {
     "name": "stderr",
     "output_type": "stream",
     "text": [
      "100%|██████████| 4445/4445 [00:03<00:00, 1279.61it/s]\n"
     ]
    },
    {
     "name": "stdout",
     "output_type": "stream",
     "text": [
      "Making predictions\n"
     ]
    },
    {
     "name": "stderr",
     "output_type": "stream",
     "text": [
      " 42%|████▏     | 29/69 [10:41<14:06, 21.16s/it]"
     ]
    },
    {
     "name": "stdout",
     "output_type": "stream",
     "text": [
      "Making predictions for GCF_003334815\n",
      "Building model matrix\n"
     ]
    },
    {
     "name": "stderr",
     "output_type": "stream",
     "text": [
      "100%|██████████| 4552/4552 [00:07<00:00, 648.83it/s]\n"
     ]
    },
    {
     "name": "stdout",
     "output_type": "stream",
     "text": [
      "Building sequence feature matrix\n"
     ]
    },
    {
     "name": "stderr",
     "output_type": "stream",
     "text": [
      "100%|██████████| 4552/4552 [00:03<00:00, 1269.22it/s]\n"
     ]
    },
    {
     "name": "stdout",
     "output_type": "stream",
     "text": [
      "Making predictions\n"
     ]
    },
    {
     "name": "stderr",
     "output_type": "stream",
     "text": [
      " 43%|████▎     | 30/69 [11:03<13:50, 21.29s/it]"
     ]
    },
    {
     "name": "stdout",
     "output_type": "stream",
     "text": [
      "Making predictions for GCF_003333565\n",
      "Building model matrix\n"
     ]
    },
    {
     "name": "stderr",
     "output_type": "stream",
     "text": [
      "100%|██████████| 4565/4565 [00:06<00:00, 683.18it/s]\n"
     ]
    },
    {
     "name": "stdout",
     "output_type": "stream",
     "text": [
      "Building sequence feature matrix\n"
     ]
    },
    {
     "name": "stderr",
     "output_type": "stream",
     "text": [
      "100%|██████████| 4565/4565 [00:03<00:00, 1171.66it/s]\n"
     ]
    },
    {
     "name": "stdout",
     "output_type": "stream",
     "text": [
      "Making predictions\n"
     ]
    },
    {
     "name": "stderr",
     "output_type": "stream",
     "text": [
      " 45%|████▍     | 31/69 [11:24<13:27, 21.26s/it]"
     ]
    },
    {
     "name": "stdout",
     "output_type": "stream",
     "text": [
      "Making predictions for GCF_003334115\n",
      "Building model matrix\n"
     ]
    },
    {
     "name": "stderr",
     "output_type": "stream",
     "text": [
      "100%|██████████| 4143/4143 [00:06<00:00, 682.28it/s]\n"
     ]
    },
    {
     "name": "stdout",
     "output_type": "stream",
     "text": [
      "Building sequence feature matrix\n"
     ]
    },
    {
     "name": "stderr",
     "output_type": "stream",
     "text": [
      "100%|██████████| 4143/4143 [00:03<00:00, 1191.51it/s]\n"
     ]
    },
    {
     "name": "stdout",
     "output_type": "stream",
     "text": [
      "Making predictions\n"
     ]
    },
    {
     "name": "stderr",
     "output_type": "stream",
     "text": [
      " 46%|████▋     | 32/69 [11:44<12:51, 20.84s/it]"
     ]
    },
    {
     "name": "stdout",
     "output_type": "stream",
     "text": [
      "Making predictions for GCF_003333435\n",
      "Building model matrix\n"
     ]
    },
    {
     "name": "stderr",
     "output_type": "stream",
     "text": [
      "100%|██████████| 4342/4342 [00:06<00:00, 697.87it/s]\n"
     ]
    },
    {
     "name": "stdout",
     "output_type": "stream",
     "text": [
      "Building sequence feature matrix\n"
     ]
    },
    {
     "name": "stderr",
     "output_type": "stream",
     "text": [
      "100%|██████████| 4342/4342 [00:03<00:00, 1264.57it/s]\n"
     ]
    },
    {
     "name": "stdout",
     "output_type": "stream",
     "text": [
      "Making predictions\n"
     ]
    },
    {
     "name": "stderr",
     "output_type": "stream",
     "text": [
      " 48%|████▊     | 33/69 [12:04<12:23, 20.66s/it]"
     ]
    },
    {
     "name": "stdout",
     "output_type": "stream",
     "text": [
      "Making predictions for GCF_003334305\n",
      "Building model matrix\n"
     ]
    },
    {
     "name": "stderr",
     "output_type": "stream",
     "text": [
      "100%|██████████| 4483/4483 [00:06<00:00, 684.55it/s]\n"
     ]
    },
    {
     "name": "stdout",
     "output_type": "stream",
     "text": [
      "Building sequence feature matrix\n"
     ]
    },
    {
     "name": "stderr",
     "output_type": "stream",
     "text": [
      "100%|██████████| 4483/4483 [00:03<00:00, 1234.57it/s]\n"
     ]
    },
    {
     "name": "stdout",
     "output_type": "stream",
     "text": [
      "Making predictions\n"
     ]
    },
    {
     "name": "stderr",
     "output_type": "stream",
     "text": [
      " 49%|████▉     | 34/69 [12:25<12:03, 20.68s/it]"
     ]
    },
    {
     "name": "stdout",
     "output_type": "stream",
     "text": [
      "Making predictions for GCF_003334165\n",
      "Building model matrix\n"
     ]
    },
    {
     "name": "stderr",
     "output_type": "stream",
     "text": [
      "100%|██████████| 4205/4205 [00:06<00:00, 681.91it/s]\n"
     ]
    },
    {
     "name": "stdout",
     "output_type": "stream",
     "text": [
      "Building sequence feature matrix\n"
     ]
    },
    {
     "name": "stderr",
     "output_type": "stream",
     "text": [
      "100%|██████████| 4205/4205 [00:03<00:00, 1333.83it/s]\n"
     ]
    },
    {
     "name": "stdout",
     "output_type": "stream",
     "text": [
      "Making predictions\n"
     ]
    },
    {
     "name": "stderr",
     "output_type": "stream",
     "text": [
      " 51%|█████     | 35/69 [12:44<11:34, 20.43s/it]"
     ]
    },
    {
     "name": "stdout",
     "output_type": "stream",
     "text": [
      "Making predictions for GCF_003334785\n",
      "Building model matrix\n"
     ]
    },
    {
     "name": "stderr",
     "output_type": "stream",
     "text": [
      "100%|██████████| 4327/4327 [00:06<00:00, 670.15it/s]\n"
     ]
    },
    {
     "name": "stdout",
     "output_type": "stream",
     "text": [
      "Building sequence feature matrix\n"
     ]
    },
    {
     "name": "stderr",
     "output_type": "stream",
     "text": [
      "100%|██████████| 4327/4327 [00:03<00:00, 1327.38it/s]\n"
     ]
    },
    {
     "name": "stdout",
     "output_type": "stream",
     "text": [
      "Making predictions\n"
     ]
    },
    {
     "name": "stderr",
     "output_type": "stream",
     "text": [
      " 52%|█████▏    | 36/69 [13:05<11:15, 20.47s/it]"
     ]
    },
    {
     "name": "stdout",
     "output_type": "stream",
     "text": [
      "Making predictions for GCF_003892555\n",
      "Building model matrix\n"
     ]
    },
    {
     "name": "stderr",
     "output_type": "stream",
     "text": [
      "100%|██████████| 4695/4695 [00:07<00:00, 658.28it/s]\n"
     ]
    },
    {
     "name": "stdout",
     "output_type": "stream",
     "text": [
      "Building sequence feature matrix\n"
     ]
    },
    {
     "name": "stderr",
     "output_type": "stream",
     "text": [
      "100%|██████████| 4695/4695 [00:03<00:00, 1341.15it/s]\n"
     ]
    },
    {
     "name": "stdout",
     "output_type": "stream",
     "text": [
      "Making predictions\n"
     ]
    },
    {
     "name": "stderr",
     "output_type": "stream",
     "text": [
      " 54%|█████▎    | 37/69 [13:27<11:06, 20.83s/it]"
     ]
    },
    {
     "name": "stdout",
     "output_type": "stream",
     "text": [
      "Making predictions for GCF_003333545\n",
      "Building model matrix\n"
     ]
    },
    {
     "name": "stderr",
     "output_type": "stream",
     "text": [
      "100%|██████████| 4818/4818 [00:07<00:00, 685.62it/s]\n"
     ]
    },
    {
     "name": "stdout",
     "output_type": "stream",
     "text": [
      "Building sequence feature matrix\n"
     ]
    },
    {
     "name": "stderr",
     "output_type": "stream",
     "text": [
      "100%|██████████| 4818/4818 [00:03<00:00, 1269.91it/s]\n"
     ]
    },
    {
     "name": "stdout",
     "output_type": "stream",
     "text": [
      "Making predictions\n"
     ]
    },
    {
     "name": "stderr",
     "output_type": "stream",
     "text": [
      " 55%|█████▌    | 38/69 [13:48<10:54, 21.10s/it]"
     ]
    },
    {
     "name": "stdout",
     "output_type": "stream",
     "text": [
      "Making predictions for GCF_003886135\n",
      "Building model matrix\n"
     ]
    },
    {
     "name": "stderr",
     "output_type": "stream",
     "text": [
      "100%|██████████| 5163/5163 [00:07<00:00, 678.32it/s]\n"
     ]
    },
    {
     "name": "stdout",
     "output_type": "stream",
     "text": [
      "Building sequence feature matrix\n"
     ]
    },
    {
     "name": "stderr",
     "output_type": "stream",
     "text": [
      "100%|██████████| 5163/5163 [00:04<00:00, 1251.16it/s]\n"
     ]
    },
    {
     "name": "stdout",
     "output_type": "stream",
     "text": [
      "Making predictions\n"
     ]
    },
    {
     "name": "stderr",
     "output_type": "stream",
     "text": [
      " 57%|█████▋    | 39/69 [14:11<10:47, 21.59s/it]"
     ]
    },
    {
     "name": "stdout",
     "output_type": "stream",
     "text": [
      "Making predictions for GCF_003334235\n",
      "Building model matrix\n"
     ]
    },
    {
     "name": "stderr",
     "output_type": "stream",
     "text": [
      "100%|██████████| 4234/4234 [00:06<00:00, 685.10it/s]\n"
     ]
    },
    {
     "name": "stdout",
     "output_type": "stream",
     "text": [
      "Building sequence feature matrix\n"
     ]
    },
    {
     "name": "stderr",
     "output_type": "stream",
     "text": [
      "100%|██████████| 4234/4234 [00:03<00:00, 1281.84it/s]\n"
     ]
    },
    {
     "name": "stdout",
     "output_type": "stream",
     "text": [
      "Making predictions\n"
     ]
    },
    {
     "name": "stderr",
     "output_type": "stream",
     "text": [
      " 58%|█████▊    | 40/69 [14:31<10:11, 21.09s/it]"
     ]
    },
    {
     "name": "stdout",
     "output_type": "stream",
     "text": [
      "Making predictions for GCF_003886535\n",
      "Building model matrix\n"
     ]
    },
    {
     "name": "stderr",
     "output_type": "stream",
     "text": [
      "100%|██████████| 4801/4801 [00:07<00:00, 680.48it/s]\n"
     ]
    },
    {
     "name": "stdout",
     "output_type": "stream",
     "text": [
      "Building sequence feature matrix\n"
     ]
    },
    {
     "name": "stderr",
     "output_type": "stream",
     "text": [
      "100%|██████████| 4801/4801 [00:03<00:00, 1223.48it/s]\n"
     ]
    },
    {
     "name": "stdout",
     "output_type": "stream",
     "text": [
      "Making predictions\n"
     ]
    },
    {
     "name": "stderr",
     "output_type": "stream",
     "text": [
      " 59%|█████▉    | 41/69 [14:53<09:55, 21.26s/it]"
     ]
    },
    {
     "name": "stdout",
     "output_type": "stream",
     "text": [
      "Making predictions for GCF_003892645\n",
      "Building model matrix\n"
     ]
    },
    {
     "name": "stderr",
     "output_type": "stream",
     "text": [
      "100%|██████████| 4904/4904 [00:07<00:00, 673.77it/s]\n"
     ]
    },
    {
     "name": "stdout",
     "output_type": "stream",
     "text": [
      "Building sequence feature matrix\n"
     ]
    },
    {
     "name": "stderr",
     "output_type": "stream",
     "text": [
      "100%|██████████| 4904/4904 [00:03<00:00, 1264.99it/s]\n"
     ]
    },
    {
     "name": "stdout",
     "output_type": "stream",
     "text": [
      "Making predictions\n"
     ]
    },
    {
     "name": "stderr",
     "output_type": "stream",
     "text": [
      " 61%|██████    | 42/69 [15:15<09:40, 21.49s/it]"
     ]
    },
    {
     "name": "stdout",
     "output_type": "stream",
     "text": [
      "Making predictions for GCF_003334015\n",
      "Building model matrix\n"
     ]
    },
    {
     "name": "stderr",
     "output_type": "stream",
     "text": [
      "100%|██████████| 4583/4583 [00:06<00:00, 675.67it/s]\n"
     ]
    },
    {
     "name": "stdout",
     "output_type": "stream",
     "text": [
      "Building sequence feature matrix\n"
     ]
    },
    {
     "name": "stderr",
     "output_type": "stream",
     "text": [
      "100%|██████████| 4583/4583 [00:03<00:00, 1204.94it/s]\n"
     ]
    },
    {
     "name": "stdout",
     "output_type": "stream",
     "text": [
      "Making predictions\n"
     ]
    },
    {
     "name": "stderr",
     "output_type": "stream",
     "text": [
      " 62%|██████▏   | 43/69 [15:36<09:15, 21.35s/it]"
     ]
    },
    {
     "name": "stdout",
     "output_type": "stream",
     "text": [
      "Making predictions for GCF_003334675\n",
      "Building model matrix\n"
     ]
    },
    {
     "name": "stderr",
     "output_type": "stream",
     "text": [
      "100%|██████████| 4235/4235 [00:06<00:00, 684.44it/s]\n"
     ]
    },
    {
     "name": "stdout",
     "output_type": "stream",
     "text": [
      "Building sequence feature matrix\n"
     ]
    },
    {
     "name": "stderr",
     "output_type": "stream",
     "text": [
      "100%|██████████| 4235/4235 [00:03<00:00, 1191.96it/s]\n"
     ]
    },
    {
     "name": "stdout",
     "output_type": "stream",
     "text": [
      "Making predictions\n"
     ]
    },
    {
     "name": "stderr",
     "output_type": "stream",
     "text": [
      " 64%|██████▍   | 44/69 [15:56<08:44, 20.97s/it]"
     ]
    },
    {
     "name": "stdout",
     "output_type": "stream",
     "text": [
      "Making predictions for GCF_003334355\n",
      "Building model matrix\n"
     ]
    },
    {
     "name": "stderr",
     "output_type": "stream",
     "text": [
      "100%|██████████| 4212/4212 [00:06<00:00, 670.91it/s]\n"
     ]
    },
    {
     "name": "stdout",
     "output_type": "stream",
     "text": [
      "Building sequence feature matrix\n"
     ]
    },
    {
     "name": "stderr",
     "output_type": "stream",
     "text": [
      "100%|██████████| 4212/4212 [00:03<00:00, 1175.12it/s]\n"
     ]
    },
    {
     "name": "stdout",
     "output_type": "stream",
     "text": [
      "Making predictions\n"
     ]
    },
    {
     "name": "stderr",
     "output_type": "stream",
     "text": [
      " 65%|██████▌   | 45/69 [16:16<08:16, 20.70s/it]"
     ]
    },
    {
     "name": "stdout",
     "output_type": "stream",
     "text": [
      "Making predictions for GCF_003333385\n",
      "Building model matrix\n"
     ]
    },
    {
     "name": "stderr",
     "output_type": "stream",
     "text": [
      "100%|██████████| 4533/4533 [00:06<00:00, 674.68it/s]\n"
     ]
    },
    {
     "name": "stdout",
     "output_type": "stream",
     "text": [
      "Building sequence feature matrix\n"
     ]
    },
    {
     "name": "stderr",
     "output_type": "stream",
     "text": [
      "100%|██████████| 4533/4533 [00:03<00:00, 1251.76it/s]\n"
     ]
    },
    {
     "name": "stdout",
     "output_type": "stream",
     "text": [
      "Making predictions\n"
     ]
    },
    {
     "name": "stderr",
     "output_type": "stream",
     "text": [
      " 67%|██████▋   | 46/69 [16:37<07:56, 20.72s/it]"
     ]
    },
    {
     "name": "stdout",
     "output_type": "stream",
     "text": [
      "Making predictions for GCF_003333855\n",
      "Building model matrix\n"
     ]
    },
    {
     "name": "stderr",
     "output_type": "stream",
     "text": [
      "100%|██████████| 4935/4935 [00:07<00:00, 677.90it/s]\n"
     ]
    },
    {
     "name": "stdout",
     "output_type": "stream",
     "text": [
      "Building sequence feature matrix\n"
     ]
    },
    {
     "name": "stderr",
     "output_type": "stream",
     "text": [
      "100%|██████████| 4935/4935 [00:04<00:00, 1223.17it/s]\n"
     ]
    },
    {
     "name": "stdout",
     "output_type": "stream",
     "text": [
      "Making predictions\n"
     ]
    },
    {
     "name": "stderr",
     "output_type": "stream",
     "text": [
      " 68%|██████▊   | 47/69 [16:59<07:44, 21.11s/it]"
     ]
    },
    {
     "name": "stdout",
     "output_type": "stream",
     "text": [
      "Making predictions for GCF_003892435\n",
      "Building model matrix\n"
     ]
    },
    {
     "name": "stderr",
     "output_type": "stream",
     "text": [
      "100%|██████████| 4939/4939 [00:07<00:00, 680.51it/s]\n"
     ]
    },
    {
     "name": "stdout",
     "output_type": "stream",
     "text": [
      "Building sequence feature matrix\n"
     ]
    },
    {
     "name": "stderr",
     "output_type": "stream",
     "text": [
      "100%|██████████| 4939/4939 [00:03<00:00, 1268.98it/s]\n"
     ]
    },
    {
     "name": "stdout",
     "output_type": "stream",
     "text": [
      "Making predictions\n"
     ]
    },
    {
     "name": "stderr",
     "output_type": "stream",
     "text": [
      " 70%|██████▉   | 48/69 [17:21<07:30, 21.43s/it]"
     ]
    },
    {
     "name": "stdout",
     "output_type": "stream",
     "text": [
      "Making predictions for GCF_003885215\n",
      "Building model matrix\n"
     ]
    },
    {
     "name": "stderr",
     "output_type": "stream",
     "text": [
      "100%|██████████| 5144/5144 [00:07<00:00, 671.38it/s]\n"
     ]
    },
    {
     "name": "stdout",
     "output_type": "stream",
     "text": [
      "Building sequence feature matrix\n"
     ]
    },
    {
     "name": "stderr",
     "output_type": "stream",
     "text": [
      "100%|██████████| 5144/5144 [00:03<00:00, 1302.48it/s]\n"
     ]
    },
    {
     "name": "stdout",
     "output_type": "stream",
     "text": [
      "Making predictions\n"
     ]
    },
    {
     "name": "stderr",
     "output_type": "stream",
     "text": [
      " 71%|███████   | 49/69 [17:44<07:17, 21.86s/it]"
     ]
    },
    {
     "name": "stdout",
     "output_type": "stream",
     "text": [
      "Making predictions for GCF_003334665\n",
      "Building model matrix\n"
     ]
    },
    {
     "name": "stderr",
     "output_type": "stream",
     "text": [
      "100%|██████████| 4587/4587 [00:06<00:00, 691.01it/s]\n"
     ]
    },
    {
     "name": "stdout",
     "output_type": "stream",
     "text": [
      "Building sequence feature matrix\n"
     ]
    },
    {
     "name": "stderr",
     "output_type": "stream",
     "text": [
      "100%|██████████| 4587/4587 [00:03<00:00, 1265.78it/s]\n"
     ]
    },
    {
     "name": "stdout",
     "output_type": "stream",
     "text": [
      "Making predictions\n"
     ]
    },
    {
     "name": "stderr",
     "output_type": "stream",
     "text": [
      " 72%|███████▏  | 50/69 [18:04<06:49, 21.53s/it]"
     ]
    },
    {
     "name": "stdout",
     "output_type": "stream",
     "text": [
      "Making predictions for GCF_003333425\n",
      "Building model matrix\n"
     ]
    },
    {
     "name": "stderr",
     "output_type": "stream",
     "text": [
      "100%|██████████| 4666/4666 [00:06<00:00, 691.30it/s]\n"
     ]
    },
    {
     "name": "stdout",
     "output_type": "stream",
     "text": [
      "Building sequence feature matrix\n"
     ]
    },
    {
     "name": "stderr",
     "output_type": "stream",
     "text": [
      "100%|██████████| 4666/4666 [00:03<00:00, 1293.45it/s]\n"
     ]
    },
    {
     "name": "stdout",
     "output_type": "stream",
     "text": [
      "Making predictions\n"
     ]
    },
    {
     "name": "stderr",
     "output_type": "stream",
     "text": [
      " 74%|███████▍  | 51/69 [18:26<06:24, 21.39s/it]"
     ]
    },
    {
     "name": "stdout",
     "output_type": "stream",
     "text": [
      "Making predictions for GCF_003333945\n",
      "Building model matrix\n"
     ]
    },
    {
     "name": "stderr",
     "output_type": "stream",
     "text": [
      "100%|██████████| 4860/4860 [00:07<00:00, 689.30it/s]\n"
     ]
    },
    {
     "name": "stdout",
     "output_type": "stream",
     "text": [
      "Building sequence feature matrix\n"
     ]
    },
    {
     "name": "stderr",
     "output_type": "stream",
     "text": [
      "100%|██████████| 4860/4860 [00:03<00:00, 1288.33it/s]\n"
     ]
    },
    {
     "name": "stdout",
     "output_type": "stream",
     "text": [
      "Making predictions\n"
     ]
    },
    {
     "name": "stderr",
     "output_type": "stream",
     "text": [
      " 75%|███████▌  | 52/69 [18:47<06:05, 21.48s/it]"
     ]
    },
    {
     "name": "stdout",
     "output_type": "stream",
     "text": [
      "Making predictions for GCF_003333795\n",
      "Building model matrix\n"
     ]
    },
    {
     "name": "stderr",
     "output_type": "stream",
     "text": [
      "100%|██████████| 4880/4880 [00:07<00:00, 680.24it/s]\n"
     ]
    },
    {
     "name": "stdout",
     "output_type": "stream",
     "text": [
      "Building sequence feature matrix\n"
     ]
    },
    {
     "name": "stderr",
     "output_type": "stream",
     "text": [
      "100%|██████████| 4880/4880 [00:03<00:00, 1249.16it/s]\n"
     ]
    },
    {
     "name": "stdout",
     "output_type": "stream",
     "text": [
      "Making predictions\n"
     ]
    },
    {
     "name": "stderr",
     "output_type": "stream",
     "text": [
      " 77%|███████▋  | 53/69 [19:09<05:44, 21.55s/it]"
     ]
    },
    {
     "name": "stdout",
     "output_type": "stream",
     "text": [
      "Making predictions for GCF_003333495\n",
      "Building model matrix\n"
     ]
    },
    {
     "name": "stderr",
     "output_type": "stream",
     "text": [
      "100%|██████████| 4508/4508 [00:06<00:00, 672.58it/s]\n"
     ]
    },
    {
     "name": "stdout",
     "output_type": "stream",
     "text": [
      "Building sequence feature matrix\n"
     ]
    },
    {
     "name": "stderr",
     "output_type": "stream",
     "text": [
      "100%|██████████| 4508/4508 [00:03<00:00, 1229.12it/s]\n"
     ]
    },
    {
     "name": "stdout",
     "output_type": "stream",
     "text": [
      "Making predictions\n"
     ]
    },
    {
     "name": "stderr",
     "output_type": "stream",
     "text": [
      " 78%|███████▊  | 54/69 [19:30<05:20, 21.34s/it]"
     ]
    },
    {
     "name": "stdout",
     "output_type": "stream",
     "text": [
      "Making predictions for GCF_003334705\n",
      "Building model matrix\n"
     ]
    },
    {
     "name": "stderr",
     "output_type": "stream",
     "text": [
      "100%|██████████| 4580/4580 [00:06<00:00, 690.92it/s]\n"
     ]
    },
    {
     "name": "stdout",
     "output_type": "stream",
     "text": [
      "Building sequence feature matrix\n"
     ]
    },
    {
     "name": "stderr",
     "output_type": "stream",
     "text": [
      "100%|██████████| 4580/4580 [00:03<00:00, 1238.65it/s]\n"
     ]
    },
    {
     "name": "stdout",
     "output_type": "stream",
     "text": [
      "Making predictions\n"
     ]
    },
    {
     "name": "stderr",
     "output_type": "stream",
     "text": [
      " 80%|███████▉  | 55/69 [19:51<04:56, 21.21s/it]"
     ]
    },
    {
     "name": "stdout",
     "output_type": "stream",
     "text": [
      "Making predictions for GCF_003334765\n",
      "Building model matrix\n"
     ]
    },
    {
     "name": "stderr",
     "output_type": "stream",
     "text": [
      "100%|██████████| 4493/4493 [00:06<00:00, 688.97it/s]\n"
     ]
    },
    {
     "name": "stdout",
     "output_type": "stream",
     "text": [
      "Building sequence feature matrix\n"
     ]
    },
    {
     "name": "stderr",
     "output_type": "stream",
     "text": [
      "100%|██████████| 4493/4493 [00:03<00:00, 1238.26it/s]\n"
     ]
    },
    {
     "name": "stdout",
     "output_type": "stream",
     "text": [
      "Making predictions\n"
     ]
    },
    {
     "name": "stderr",
     "output_type": "stream",
     "text": [
      " 81%|████████  | 56/69 [20:11<04:33, 21.01s/it]"
     ]
    },
    {
     "name": "stdout",
     "output_type": "stream",
     "text": [
      "Making predictions for GCF_003333845\n",
      "Building model matrix\n"
     ]
    },
    {
     "name": "stderr",
     "output_type": "stream",
     "text": [
      "100%|██████████| 4830/4830 [00:07<00:00, 677.96it/s]\n"
     ]
    },
    {
     "name": "stdout",
     "output_type": "stream",
     "text": [
      "Building sequence feature matrix\n"
     ]
    },
    {
     "name": "stderr",
     "output_type": "stream",
     "text": [
      "100%|██████████| 4830/4830 [00:03<00:00, 1250.41it/s]\n"
     ]
    },
    {
     "name": "stdout",
     "output_type": "stream",
     "text": [
      "Making predictions\n"
     ]
    },
    {
     "name": "stderr",
     "output_type": "stream",
     "text": [
      " 83%|████████▎ | 57/69 [20:33<04:14, 21.21s/it]"
     ]
    },
    {
     "name": "stdout",
     "output_type": "stream",
     "text": [
      "Making predictions for GCF_003892355\n",
      "Building model matrix\n"
     ]
    },
    {
     "name": "stderr",
     "output_type": "stream",
     "text": [
      "100%|██████████| 4825/4825 [00:07<00:00, 688.85it/s]\n"
     ]
    },
    {
     "name": "stdout",
     "output_type": "stream",
     "text": [
      "Building sequence feature matrix\n"
     ]
    },
    {
     "name": "stderr",
     "output_type": "stream",
     "text": [
      "100%|██████████| 4825/4825 [00:03<00:00, 1254.23it/s]\n"
     ]
    },
    {
     "name": "stdout",
     "output_type": "stream",
     "text": [
      "Making predictions\n"
     ]
    },
    {
     "name": "stderr",
     "output_type": "stream",
     "text": [
      " 84%|████████▍ | 58/69 [20:54<03:54, 21.28s/it]"
     ]
    },
    {
     "name": "stdout",
     "output_type": "stream",
     "text": [
      "Making predictions for GCF_003886115\n",
      "Building model matrix\n"
     ]
    },
    {
     "name": "stderr",
     "output_type": "stream",
     "text": [
      "100%|██████████| 4736/4736 [00:07<00:00, 672.49it/s]\n"
     ]
    },
    {
     "name": "stdout",
     "output_type": "stream",
     "text": [
      "Building sequence feature matrix\n"
     ]
    },
    {
     "name": "stderr",
     "output_type": "stream",
     "text": [
      "100%|██████████| 4736/4736 [00:03<00:00, 1248.20it/s]\n"
     ]
    },
    {
     "name": "stdout",
     "output_type": "stream",
     "text": [
      "Making predictions\n"
     ]
    },
    {
     "name": "stderr",
     "output_type": "stream",
     "text": [
      " 86%|████████▌ | 59/69 [21:16<03:33, 21.31s/it]"
     ]
    },
    {
     "name": "stdout",
     "output_type": "stream",
     "text": [
      "Making predictions for GCF_003333975\n",
      "Building model matrix\n"
     ]
    },
    {
     "name": "stderr",
     "output_type": "stream",
     "text": [
      "100%|██████████| 4512/4512 [00:06<00:00, 677.71it/s]\n"
     ]
    },
    {
     "name": "stdout",
     "output_type": "stream",
     "text": [
      "Building sequence feature matrix\n"
     ]
    },
    {
     "name": "stderr",
     "output_type": "stream",
     "text": [
      "100%|██████████| 4512/4512 [00:03<00:00, 1205.40it/s]\n"
     ]
    },
    {
     "name": "stdout",
     "output_type": "stream",
     "text": [
      "Making predictions\n"
     ]
    },
    {
     "name": "stderr",
     "output_type": "stream",
     "text": [
      " 87%|████████▋ | 60/69 [21:36<03:10, 21.15s/it]"
     ]
    },
    {
     "name": "stdout",
     "output_type": "stream",
     "text": [
      "Making predictions for GCF_003886035\n",
      "Building model matrix\n"
     ]
    },
    {
     "name": "stderr",
     "output_type": "stream",
     "text": [
      "100%|██████████| 4461/4461 [00:06<00:00, 698.79it/s]\n"
     ]
    },
    {
     "name": "stdout",
     "output_type": "stream",
     "text": [
      "Building sequence feature matrix\n"
     ]
    },
    {
     "name": "stderr",
     "output_type": "stream",
     "text": [
      "100%|██████████| 4461/4461 [00:03<00:00, 1250.82it/s]\n"
     ]
    },
    {
     "name": "stdout",
     "output_type": "stream",
     "text": [
      "Making predictions\n"
     ]
    },
    {
     "name": "stderr",
     "output_type": "stream",
     "text": [
      " 88%|████████▊ | 61/69 [21:57<02:47, 20.97s/it]"
     ]
    },
    {
     "name": "stdout",
     "output_type": "stream",
     "text": [
      "Making predictions for GCF_003334605\n",
      "Building model matrix\n"
     ]
    },
    {
     "name": "stderr",
     "output_type": "stream",
     "text": [
      "100%|██████████| 4868/4868 [00:07<00:00, 668.49it/s]\n"
     ]
    },
    {
     "name": "stdout",
     "output_type": "stream",
     "text": [
      "Building sequence feature matrix\n"
     ]
    },
    {
     "name": "stderr",
     "output_type": "stream",
     "text": [
      "100%|██████████| 4868/4868 [00:04<00:00, 1207.91it/s]\n"
     ]
    },
    {
     "name": "stdout",
     "output_type": "stream",
     "text": [
      "Making predictions\n"
     ]
    },
    {
     "name": "stderr",
     "output_type": "stream",
     "text": [
      " 90%|████████▉ | 62/69 [22:19<02:29, 21.29s/it]"
     ]
    },
    {
     "name": "stdout",
     "output_type": "stream",
     "text": [
      "Making predictions for GCF_003333685\n",
      "Building model matrix\n"
     ]
    },
    {
     "name": "stderr",
     "output_type": "stream",
     "text": [
      "100%|██████████| 4899/4899 [00:07<00:00, 682.68it/s]\n"
     ]
    },
    {
     "name": "stdout",
     "output_type": "stream",
     "text": [
      "Building sequence feature matrix\n"
     ]
    },
    {
     "name": "stderr",
     "output_type": "stream",
     "text": [
      "100%|██████████| 4899/4899 [00:04<00:00, 1201.85it/s]\n"
     ]
    },
    {
     "name": "stdout",
     "output_type": "stream",
     "text": [
      "Making predictions\n"
     ]
    },
    {
     "name": "stderr",
     "output_type": "stream",
     "text": [
      " 91%|█████████▏| 63/69 [22:41<02:08, 21.47s/it]"
     ]
    },
    {
     "name": "stdout",
     "output_type": "stream",
     "text": [
      "Making predictions for GCF_003333645\n",
      "Building model matrix\n"
     ]
    },
    {
     "name": "stderr",
     "output_type": "stream",
     "text": [
      "100%|██████████| 4543/4543 [00:06<00:00, 676.38it/s]\n"
     ]
    },
    {
     "name": "stdout",
     "output_type": "stream",
     "text": [
      "Building sequence feature matrix\n"
     ]
    },
    {
     "name": "stderr",
     "output_type": "stream",
     "text": [
      "100%|██████████| 4543/4543 [00:03<00:00, 1240.97it/s]\n"
     ]
    },
    {
     "name": "stdout",
     "output_type": "stream",
     "text": [
      "Making predictions\n"
     ]
    },
    {
     "name": "stderr",
     "output_type": "stream",
     "text": [
      " 93%|█████████▎| 64/69 [23:02<01:46, 21.31s/it]"
     ]
    },
    {
     "name": "stdout",
     "output_type": "stream",
     "text": [
      "Making predictions for GCF_003334525\n",
      "Building model matrix\n"
     ]
    },
    {
     "name": "stderr",
     "output_type": "stream",
     "text": [
      "100%|██████████| 4722/4722 [00:06<00:00, 689.56it/s]\n"
     ]
    },
    {
     "name": "stdout",
     "output_type": "stream",
     "text": [
      "Building sequence feature matrix\n"
     ]
    },
    {
     "name": "stderr",
     "output_type": "stream",
     "text": [
      "100%|██████████| 4722/4722 [00:03<00:00, 1219.22it/s]\n"
     ]
    },
    {
     "name": "stdout",
     "output_type": "stream",
     "text": [
      "Making predictions\n"
     ]
    },
    {
     "name": "stderr",
     "output_type": "stream",
     "text": [
      " 94%|█████████▍| 65/69 [23:23<01:25, 21.33s/it]"
     ]
    },
    {
     "name": "stdout",
     "output_type": "stream",
     "text": [
      "Making predictions for GCF_003334775\n",
      "Building model matrix\n"
     ]
    },
    {
     "name": "stderr",
     "output_type": "stream",
     "text": [
      "100%|██████████| 4802/4802 [00:06<00:00, 697.53it/s]\n"
     ]
    },
    {
     "name": "stdout",
     "output_type": "stream",
     "text": [
      "Building sequence feature matrix\n"
     ]
    },
    {
     "name": "stderr",
     "output_type": "stream",
     "text": [
      "100%|██████████| 4802/4802 [00:04<00:00, 1193.19it/s]\n"
     ]
    },
    {
     "name": "stdout",
     "output_type": "stream",
     "text": [
      "Making predictions\n"
     ]
    },
    {
     "name": "stderr",
     "output_type": "stream",
     "text": [
      " 96%|█████████▌| 66/69 [23:45<01:04, 21.38s/it]"
     ]
    },
    {
     "name": "stdout",
     "output_type": "stream",
     "text": [
      "Making predictions for GCF_003334005\n",
      "Building model matrix\n"
     ]
    },
    {
     "name": "stderr",
     "output_type": "stream",
     "text": [
      "100%|██████████| 4598/4598 [00:06<00:00, 688.10it/s]\n"
     ]
    },
    {
     "name": "stdout",
     "output_type": "stream",
     "text": [
      "Building sequence feature matrix\n"
     ]
    },
    {
     "name": "stderr",
     "output_type": "stream",
     "text": [
      "100%|██████████| 4598/4598 [00:03<00:00, 1227.78it/s]\n"
     ]
    },
    {
     "name": "stdout",
     "output_type": "stream",
     "text": [
      "Making predictions\n"
     ]
    },
    {
     "name": "stderr",
     "output_type": "stream",
     "text": [
      " 97%|█████████▋| 67/69 [24:06<00:42, 21.27s/it]"
     ]
    },
    {
     "name": "stdout",
     "output_type": "stream",
     "text": [
      "Making predictions for GCF_003886495\n",
      "Building model matrix\n"
     ]
    },
    {
     "name": "stderr",
     "output_type": "stream",
     "text": [
      "100%|██████████| 5335/5335 [00:07<00:00, 679.15it/s]\n"
     ]
    },
    {
     "name": "stdout",
     "output_type": "stream",
     "text": [
      "Building sequence feature matrix\n"
     ]
    },
    {
     "name": "stderr",
     "output_type": "stream",
     "text": [
      "100%|██████████| 5335/5335 [00:03<00:00, 1345.44it/s]\n"
     ]
    },
    {
     "name": "stdout",
     "output_type": "stream",
     "text": [
      "Making predictions\n"
     ]
    },
    {
     "name": "stderr",
     "output_type": "stream",
     "text": [
      " 99%|█████████▊| 68/69 [24:29<00:21, 21.83s/it]"
     ]
    },
    {
     "name": "stdout",
     "output_type": "stream",
     "text": [
      "Making predictions for GCF_003334085\n",
      "Building model matrix\n"
     ]
    },
    {
     "name": "stderr",
     "output_type": "stream",
     "text": [
      "100%|██████████| 4784/4784 [00:06<00:00, 690.25it/s]\n"
     ]
    },
    {
     "name": "stdout",
     "output_type": "stream",
     "text": [
      "Building sequence feature matrix\n"
     ]
    },
    {
     "name": "stderr",
     "output_type": "stream",
     "text": [
      "100%|██████████| 4784/4784 [00:03<00:00, 1244.08it/s]\n"
     ]
    },
    {
     "name": "stdout",
     "output_type": "stream",
     "text": [
      "Making predictions\n"
     ]
    },
    {
     "name": "stderr",
     "output_type": "stream",
     "text": [
      "100%|██████████| 69/69 [24:50<00:00, 21.61s/it]\n"
     ]
    }
   ],
   "source": [
    "for assembly in tqdm(assemblies):\n",
    "    feature_file = feature_file_dict[assembly]\n",
    "    fna_file = fna_file_dict[assembly]\n",
    "    predict_beaker(feature_file, fna_file, \n",
    "                   rep_file=rep_file,\n",
    "                   n_jobs=40, \n",
    "                   output_dir=prediction_out_dir, \n",
    "                   save_x=True)"
   ]
  },
  {
   "cell_type": "code",
   "execution_count": 5,
   "id": "a490c923-e8f8-4d76-bfb4-497be918965e",
   "metadata": {},
   "outputs": [
    {
     "name": "stderr",
     "output_type": "stream",
     "text": [
      "100%|██████████| 138/138 [00:12<00:00, 11.46it/s]\n"
     ]
    }
   ],
   "source": [
    "predictions = pd.concat([pd.read_csv(prediction_out_dir + f) for \n",
    "                         f in tqdm(os.listdir(prediction_out_dir)) if '.csv' in f])"
   ]
  },
  {
   "cell_type": "code",
   "execution_count": 6,
   "id": "b228850a-6972-4704-b6e1-94f9e07b6feb",
   "metadata": {},
   "outputs": [
    {
     "data": {
      "text/plain": [
       "4603"
      ]
     },
     "execution_count": 6,
     "metadata": {},
     "output_type": "execute_result"
    }
   ],
   "source": [
    "(predictions['beaker_prediction'] > 0.5).sum()"
   ]
  },
  {
   "cell_type": "markdown",
   "id": "fba3bdac-cc51-452c-b004-dbac4b1c301e",
   "metadata": {},
   "source": [
    "## Search ecor collection for homologs of known systems"
   ]
  },
  {
   "cell_type": "code",
   "execution_count": 16,
   "id": "b11248a3-e2ba-4bec-af14-ef8b7e2db76e",
   "metadata": {},
   "outputs": [],
   "source": [
    "def run_defense_finder(assembly_file, out_dir):\n",
    "    assembly_stub = assembly_file.split('.')[0]\n",
    "    assembly_out_dir = out_dir + assembly_stub\n",
    "    os.mkdir(assembly_out_dir)\n",
    "    subprocess.run(['conda',\n",
    "                    'run',\n",
    "                    '-n',\n",
    "                    'beaker',\n",
    "                    'defense-finder', 'run', \n",
    "                    '-w', '1',\n",
    "                    '-o', assembly_out_dir,\n",
    "                    '../data/interim/ecor_assembly_faa/' + assembly_file], \n",
    "                   stdout=subprocess.DEVNULL)"
   ]
  },
  {
   "cell_type": "code",
   "execution_count": 13,
   "id": "0ce9f5ba-09c9-4be7-be99-7594ba811c17",
   "metadata": {},
   "outputs": [],
   "source": [
    "faa_dir = '../data/interim/ecor_assembly_faa/'"
   ]
  },
  {
   "cell_type": "code",
   "execution_count": 9,
   "id": "64be282a-c799-401a-8d2c-513b289ac13a",
   "metadata": {},
   "outputs": [],
   "source": [
    "os.mkdir(faa_dir)"
   ]
  },
  {
   "cell_type": "code",
   "execution_count": 12,
   "id": "e2c99636-9a31-425e-83d7-5421c6fde044",
   "metadata": {},
   "outputs": [],
   "source": [
    "for f in faa_files:\n",
    "    os.system('cp ../data/interim/ecor_assemblies/' + f + ' ' + faa_dir)"
   ]
  },
  {
   "cell_type": "code",
   "execution_count": 14,
   "id": "7f1d6817-cce9-431e-a488-88ceb398f9ab",
   "metadata": {},
   "outputs": [],
   "source": [
    "ecor_df_dir = '../data/interim/ecor_defense_finder_results/'"
   ]
  },
  {
   "cell_type": "code",
   "execution_count": 17,
   "id": "2e4aac93-acb2-4acf-81f2-fc2a3b199746",
   "metadata": {},
   "outputs": [
    {
     "name": "stderr",
     "output_type": "stream",
     "text": [
      "100%|██████████| 71/71 [00:04<00:00, 15.21it/s]\n"
     ]
    }
   ],
   "source": [
    "_ = Parallel(n_jobs=40)(delayed(run_defense_finder)\n",
    "                        (f, ecor_df_dir) \n",
    "                         for f in tqdm(assembly_files))"
   ]
  },
  {
   "cell_type": "code",
   "execution_count": 7,
   "id": "00a80773-ad09-4de0-9c8b-4393b1f6ebd6",
   "metadata": {},
   "outputs": [],
   "source": [
    "defense_finder_results_dir = [x for x in os.listdir('../data/interim/ecor_defense_finder_results/') if 'GCF' in x]\n"
   ]
  },
  {
   "cell_type": "code",
   "execution_count": 8,
   "id": "cea9c1ce-ba5c-4b62-94c4-3b0409683f5b",
   "metadata": {},
   "outputs": [
    {
     "name": "stderr",
     "output_type": "stream",
     "text": [
      "100%|██████████| 69/69 [00:05<00:00, 12.10it/s]\n"
     ]
    }
   ],
   "source": [
    "defense_genes_list = []\n",
    "defense_hmmer_list = []\n",
    "for assembly in tqdm(defense_finder_results_dir):\n",
    "    genes_df = pd.read_csv('../data/interim/ecor_defense_finder_results/' + assembly + '/' + 'defense_finder_genes.tsv', \n",
    "                           sep='\\t')\n",
    "    genes_df['assembly'] = assembly\n",
    "    defense_genes_list.append(genes_df)\n",
    "    hmmer_df = pd.read_csv('../data/interim/ecor_defense_finder_results/' + assembly + '/' + 'defense_finder_hmmer.tsv', \n",
    "                           sep='\\t')\n",
    "    hmmer_df['assembly'] = assembly\n",
    "    defense_hmmer_list.append(hmmer_df)\n"
   ]
  },
  {
   "cell_type": "code",
   "execution_count": 9,
   "id": "e0991fde-b4d7-42f6-9a05-df57ad066804",
   "metadata": {},
   "outputs": [],
   "source": [
    "defense_finder_homologs = pd.concat(defense_hmmer_list)\n",
    "defense_finder_homologs['protein_assembly'] = defense_finder_homologs['hit_id'] + '_' + defense_finder_homologs['assembly']\n",
    "unique_defense_finder_homologs = defense_finder_homologs['protein_assembly'].unique()\n",
    "dedup_defense_finder_homolog_df = (defense_finder_homologs.groupby('protein_assembly')\n",
    "                                   .agg(defense_homolog_names=('gene_name', lambda x: ', '.join(x)))\n",
    "                                   .reset_index())"
   ]
  },
  {
   "cell_type": "code",
   "execution_count": 10,
   "id": "3ca4cf51-b80a-4345-b2bf-8a3f9d8e7961",
   "metadata": {},
   "outputs": [],
   "source": [
    "defense_finder_systems = pd.concat(defense_genes_list)\n",
    "defense_finder_systems['protein_assembly'] = defense_finder_systems['hit_id'] + '_' + defense_finder_systems['assembly']\n",
    "unique_defense_finder_systems = defense_finder_systems['protein_assembly'].unique()\n",
    "breif_defense_finder_systems = defense_finder_systems[['protein_assembly', 'sys_id']]"
   ]
  },
  {
   "cell_type": "code",
   "execution_count": 26,
   "id": "4d016051-8530-4385-9bf8-065c17087723",
   "metadata": {},
   "outputs": [],
   "source": [
    "merged_predictions = predictions\n",
    "merged_predictions['assembly_stub'] = merged_predictions['assembly'].str.split('.', expand=True)[0]\n",
    "merged_predictions['protein_assembly'] = merged_predictions['product_accession'] + '_' + merged_predictions['assembly_stub']\n",
    "merged_predictions['defense_homolog'] = merged_predictions['protein_assembly'].isin(unique_defense_finder_homologs)\n",
    "merged_predictions['defense_system_protein'] = merged_predictions['protein_assembly'].isin(unique_defense_finder_systems)\n",
    "merged_predictions = (merged_predictions.merge(dedup_defense_finder_homolog_df, how='left', \n",
    "                                               on='protein_assembly')\n",
    "                      .merge(breif_defense_finder_systems, how='left', on='protein_assembly'))\n"
   ]
  },
  {
   "cell_type": "code",
   "execution_count": 39,
   "id": "0bab802d-1086-41a9-8acc-b3637d330887",
   "metadata": {},
   "outputs": [
    {
     "data": {
      "text/plain": [
       "<Axes: xlabel='beaker_prediction', ylabel='Count'>"
      ]
     },
     "execution_count": 39,
     "metadata": {},
     "output_type": "execute_result"
    },
    {
     "data": {
      "image/png": "[encoded data removed]",
      "text/plain": [
       "<Figure size 640x480 with 1 Axes>"
      ]
     },
     "metadata": {},
     "output_type": "display_data"
    }
   ],
   "source": [
    "sns.histplot(merged_predictions.loc[merged_predictions['beaker_prediction'] > 0.01,'beaker_prediction'], binwidth=0.01)"
   ]
  },
  {
   "cell_type": "code",
   "execution_count": 40,
   "id": "502938a2-936a-43c2-a01b-55b3fba8e31f",
   "metadata": {},
   "outputs": [
    {
     "data": {
      "image/png": "[encoded data removed]",
      "text/plain": [
       "<Figure size 400x400 with 1 Axes>"
      ]
     },
     "metadata": {},
     "output_type": "display_data"
    }
   ],
   "source": [
    "plt.subplots(figsize=(4,4))\n",
    "sns.kdeplot(data=merged_predictions[merged_predictions['defense_system_protein']], x='beaker_prediction')\n",
    "sns.despine()"
   ]
  },
  {
   "cell_type": "code",
   "execution_count": 41,
   "id": "b4dcd182-f980-47d9-850d-cf071f8cf682",
   "metadata": {},
   "outputs": [
    {
     "data": {
      "text/plain": [
       "2264"
      ]
     },
     "execution_count": 41,
     "metadata": {},
     "output_type": "execute_result"
    }
   ],
   "source": [
    "((merged_predictions['beaker_prediction'] > 0.5) &\n",
    " (~merged_predictions['defense_homolog'])).sum()"
   ]
  },
  {
   "cell_type": "markdown",
   "id": "ee5ad2f3-0240-4667-b2d8-4a812f36e675",
   "metadata": {},
   "source": [
    "## Define operons by runs seperated by <30 bp on the same strand"
   ]
  },
  {
   "cell_type": "code",
   "execution_count": 42,
   "id": "f55aab86-6505-43da-82cd-ade5287f926c",
   "metadata": {},
   "outputs": [],
   "source": [
    "sorted_predictions = merged_predictions.sort_values(['genomic_accession', 'start'], ascending=True)"
   ]
  },
  {
   "cell_type": "code",
   "execution_count": 43,
   "id": "f6862f53-c97f-49b4-b9c7-32a99a951749",
   "metadata": {},
   "outputs": [
    {
     "name": "stderr",
     "output_type": "stream",
     "text": [
      "100%|██████████| 321347/321347 [00:18<00:00, 17448.62it/s]\n"
     ]
    }
   ],
   "source": [
    "max_gap = 30\n",
    "first = True\n",
    "operon_list = []\n",
    "for _, row in tqdm(sorted_predictions.iterrows(), \n",
    "                   total=len(sorted_predictions),\n",
    "                   position=0):\n",
    "    curr_start = row['start']\n",
    "    curr_accession = row['genomic_accession']\n",
    "    curr_strand = row['strand']\n",
    "    if first:\n",
    "        operon = curr_accession + '|' + str(curr_start) + '|' + curr_strand\n",
    "        first = False\n",
    "    else:\n",
    "        if (((curr_start - prev_end) > max_gap) or \n",
    "            (curr_accession != prev_accession) or \n",
    "            (curr_strand != prev_strand)):\n",
    "            operon = curr_accession + '|' + str(curr_start) + '|' + curr_strand\n",
    "    operon_list.append(operon)\n",
    "    prev_end = row['end']\n",
    "    prev_accession = row['genomic_accession']\n",
    "    prev_strand = row['strand']\n",
    "    "
   ]
  },
  {
   "cell_type": "code",
   "execution_count": 44,
   "id": "bd2b1e2e-13ca-4452-87b7-ad4b66c085ae",
   "metadata": {},
   "outputs": [],
   "source": [
    "sorted_predictions['operon'] = operon_list"
   ]
  },
  {
   "cell_type": "markdown",
   "id": "a65aea9e-5479-4acc-8c31-d439f1b25101",
   "metadata": {},
   "source": [
    "## Mark operons at the edge of each contig"
   ]
  },
  {
   "cell_type": "code",
   "execution_count": 45,
   "id": "b874ca75-d055-43cc-97e3-e56c0e5ca305",
   "metadata": {},
   "outputs": [],
   "source": [
    "sorted_predictions['contig_end'] = (sorted_predictions.groupby('genomic_accession')\n",
    "                                    .apply(lambda df: (df['start'] == df['start'].min()) | \n",
    "                                               (df['end'] == df['end'].max()))\n",
    "                                    .reset_index(level=0, drop=True))"
   ]
  },
  {
   "cell_type": "markdown",
   "id": "c8ed0df1-eb25-4d41-888d-7ff168fa79a1",
   "metadata": {},
   "source": [
    "## Cluster proteins into homologous groups"
   ]
  },
  {
   "cell_type": "code",
   "execution_count": 39,
   "id": "787fd48e-9487-4805-bbb7-930c8ef7ad83",
   "metadata": {},
   "outputs": [],
   "source": [
    "conda_commands = ['conda', 'run', '-n', 'beaker']"
   ]
  },
  {
   "cell_type": "code",
   "execution_count": 48,
   "id": "61fe1bbb-bd8b-4461-bc1b-b4574730b340",
   "metadata": {},
   "outputs": [],
   "source": [
    "target = ecor_unique_seqs_fa\n",
    "target_db = '../data/interim/mmseqs_working_dir/ecor_unique_seqs_db'\n",
    "out_db = '../data/interim/mmseqs_working_dir/ecor_unique_seqs_db_clust'\n",
    "out_tsv = '../data/interim/ecor_clusters.tsv'\n",
    "threads = str(40)"
   ]
  },
  {
   "cell_type": "code",
   "execution_count": 52,
   "id": "0d6aca02-7a06-4391-a26b-68f3926c919d",
   "metadata": {
    "collapsed": true,
    "jupyter": {
     "outputs_hidden": true
    },
    "tags": []
   },
   "outputs": [
    {
     "name": "stdout",
     "output_type": "stream",
     "text": [
      "createdb ../data/interim/ecor_unique_seqs.faa ../data/interim/mmseqs_working_dir/ecor_unique_seqs_db --dbtype 1 \n",
      "\n",
      "MMseqs Version:       \t13.45111\n",
      "Database type         \t1\n",
      "Shuffle input database\ttrue\n",
      "Createdb mode         \t0\n",
      "Write lookup file     \t1\n",
      "Offset of numeric ids \t0\n",
      "Compressed            \t0\n",
      "Verbosity             \t3\n",
      "\n",
      "Converting sequences\n",
      "[=======\n",
      "Time for merging to ecor_unique_seqs_db_h: 0h 0m 0s 140ms\n",
      "Time for merging to ecor_unique_seqs_db: 0h 0m 0s 184ms\n",
      "Database type: Aminoacid\n",
      "Time for processing: 0h 0m 1s 27ms\n",
      "\n"
     ]
    },
    {
     "data": {
      "text/plain": [
       "0"
      ]
     },
     "execution_count": 52,
     "metadata": {},
     "output_type": "execute_result"
    }
   ],
   "source": [
    "os.system(' '.join(conda_commands +\n",
    "                   ['mmseqs createdb ' + target + ' ' + target_db + ' --dbtype 1']))"
   ]
  },
  {
   "cell_type": "code",
   "execution_count": 53,
   "id": "cdcbfa7b-e4ee-4423-9d7e-94d8e44f10d4",
   "metadata": {
    "collapsed": true,
    "jupyter": {
     "outputs_hidden": true
    },
    "tags": []
   },
   "outputs": [
    {
     "name": "stdout",
     "output_type": "stream",
     "text": [
      "createindex ../data/interim/mmseqs_working_dir/ecor_unique_seqs_db ../data/tmp \n",
      "\n",
      "MMseqs Version:          \t13.45111\n",
      "Seed substitution matrix \tnucl:nucleotide.out,aa:VTML80.out\n",
      "k-mer length             \t0\n",
      "Alphabet size            \tnucl:5,aa:21\n",
      "Compositional bias       \t1\n",
      "Max sequence length      \t65535\n",
      "Max results per query    \t300\n",
      "Mask residues            \t1\n",
      "Mask lower case residues \t0\n",
      "Spaced k-mers            \t1\n",
      "Spaced k-mer pattern     \t\n",
      "Sensitivity              \t7.5\n",
      "k-score                  \t0\n",
      "Check compatible         \t0\n",
      "Search type              \t0\n",
      "Split database           \t0\n",
      "Split memory limit       \t0\n",
      "Verbosity                \t3\n",
      "Threads                  \t96\n",
      "Min codons in orf        \t30\n",
      "Max codons in length     \t32734\n",
      "Max orf gaps             \t2147483647\n",
      "Contig start mode        \t2\n",
      "Contig end mode          \t2\n",
      "Orf start mode           \t1\n",
      "Forward frames           \t1,2,3\n",
      "Reverse frames           \t1,2,3\n",
      "Translation table        \t1\n",
      "Translate orf            \t0\n",
      "Use all table starts     \tfalse\n",
      "Offset of numeric ids    \t0\n",
      "Create lookup            \t0\n",
      "Compressed               \t0\n",
      "Add orf stop             \tfalse\n",
      "Overlap between sequences\t0\n",
      "Sequence split mode      \t1\n",
      "Header split mode        \t0\n",
      "Strand selection         \t1\n",
      "Remove temporary files   \tfalse\n",
      "\n",
      "createindex ../data/interim/mmseqs_working_dir/ecor_unique_seqs_db ../data/tmp \n",
      "\n",
      "MMseqs Version:          \t13.45111\n",
      "Seed substitution matrix \tnucl:nucleotide.out,aa:VTML80.out\n",
      "k-mer length             \t0\n",
      "Alphabet size            \tnucl:5,aa:21\n",
      "Compositional bias       \t1\n",
      "Max sequence length      \t65535\n",
      "Max results per query    \t300\n",
      "Mask residues            \t1\n",
      "Mask lower case residues \t0\n",
      "Spaced k-mers            \t1\n",
      "Spaced k-mer pattern     \t\n",
      "Sensitivity              \t7.5\n",
      "k-score                  \t0\n",
      "Check compatible         \t0\n",
      "Search type              \t0\n",
      "Split database           \t0\n",
      "Split memory limit       \t0\n",
      "Verbosity                \t3\n",
      "Threads                  \t96\n",
      "Min codons in orf        \t30\n",
      "Max codons in length     \t32734\n",
      "Max orf gaps             \t2147483647\n",
      "Contig start mode        \t2\n",
      "Contig end mode          \t2\n",
      "Orf start mode           \t1\n",
      "Forward frames           \t1,2,3\n",
      "Reverse frames           \t1,2,3\n",
      "Translation table        \t1\n",
      "Translate orf            \t0\n",
      "Use all table starts     \tfalse\n",
      "Offset of numeric ids    \t0\n",
      "Create lookup            \t0\n",
      "Compressed               \t0\n",
      "Add orf stop             \tfalse\n",
      "Overlap between sequences\t0\n",
      "Sequence split mode      \t1\n",
      "Header split mode        \t0\n",
      "Strand selection         \t1\n",
      "Remove temporary files   \tfalse\n",
      "\n",
      "indexdb ../data/interim/mmseqs_working_dir/ecor_unique_seqs_db ../data/interim/mmseqs_working_dir/ecor_unique_seqs_db --seed-sub-mat nucl:nucleotide.out,aa:VTML80.out -k 0 --alph-size nucl:5,aa:21 --comp-bias-corr 1 --max-seq-len 65535 --max-seqs 300 --mask 1 --mask-lower-case 0 --spaced-kmer-mode 1 -s 7.5 --k-score 0 --check-compatible 0 --search-type 0 --split 0 --split-memory-limit 0 -v 3 --threads 96 \n",
      "\n",
      "Estimated memory consumption: 1G\n",
      "Write VERSION (0)\n",
      "Write META (1)\n",
      "Write SCOREMATRIX3MER (4)\n",
      "Write SCOREMATRIX2MER (3)\n",
      "Write SCOREMATRIXNAME (2)\n",
      "Write SPACEDPATTERN (23)\n",
      "Write GENERATOR (22)\n",
      "Write DBR1INDEX (5)\n",
      "Write DBR1DATA (6)\n",
      "Write HDR1INDEX (18)\n",
      "Write HDR1DATA (19)\n",
      "Index table: counting k-mers\n",
      "[=================================================================] 79.77K 0s 159ms\n",
      "Index table: Masked residues: 194246\n",
      "Index table: fill\n",
      "[=================================================================] 79.77K 0s 115ms\n",
      "Index statistics\n",
      "Entries:          27412948\n",
      "DB size:          645 MB\n",
      "Avg k-mer size:   0.428327\n",
      "Top 10 k-mers\n",
      "    GPGGTL\t416\n",
      "    GQQVAR\t279\n",
      "    LIGTGK\t188\n",
      "    VDAVEN\t185\n",
      "    LGNAST\t184\n",
      "    DAGTGQ\t157\n",
      "    GQQIAR\t157\n",
      "    QLGQRV\t153\n",
      "    GLYRYY\t152\n",
      "    GEGGVV\t144\n",
      "Write ENTRIES (9)\n",
      "Write ENTRIESOFFSETS (10)\n",
      "Write SEQINDEXDATASIZE (15)\n",
      "Write SEQINDEXSEQOFFSET (16)\n",
      "Write SEQINDEXDATA (14)\n",
      "Write ENTRIESNUM (12)\n",
      "Write SEQCOUNT (13)\n",
      "Time for merging to ecor_unique_seqs_db.idx: 0h 0m 0s 3ms\n",
      "Time for processing: 0h 0m 1s 742ms\n",
      "\n"
     ]
    },
    {
     "data": {
      "text/plain": [
       "0"
      ]
     },
     "execution_count": 53,
     "metadata": {},
     "output_type": "execute_result"
    }
   ],
   "source": [
    "os.system(' '.join(conda_commands +\n",
    "                   ['mmseqs createindex ' + target_db + ' ../data/tmp']))"
   ]
  },
  {
   "cell_type": "code",
   "execution_count": 54,
   "id": "281fed1a-97e0-4f4f-8242-5829a0ae2b05",
   "metadata": {
    "collapsed": true,
    "jupyter": {
     "outputs_hidden": true
    },
    "tags": []
   },
   "outputs": [
    {
     "name": "stdout",
     "output_type": "stream",
     "text": [
      "linclust ../data/interim/mmseqs_working_dir/ecor_unique_seqs_db ../data/interim/mmseqs_working_dir/ecor_unique_seqs_db_clust ../data/tmp -c 0.8 --min-seq-id 0.3 --threads 48 --cluster-mode 1 \n",
      "\n",
      "MMseqs Version:                     \t13.45111\n",
      "Cluster mode                        \t1\n",
      "Max connected component depth       \t1000\n",
      "Similarity type                     \t2\n",
      "Threads                             \t48\n",
      "Compressed                          \t0\n",
      "Verbosity                           \t3\n",
      "Substitution matrix                 \tnucl:nucleotide.out,aa:blosum62.out\n",
      "Add backtrace                       \tfalse\n",
      "Alignment mode                      \t2\n",
      "Alignment mode                      \t0\n",
      "Allow wrapped scoring               \tfalse\n",
      "E-value threshold                   \t0.001\n",
      "Seq. id. threshold                  \t0.3\n",
      "Min alignment length                \t0\n",
      "Seq. id. mode                       \t0\n",
      "Alternative alignments              \t0\n",
      "Coverage threshold                  \t0.8\n",
      "Coverage mode                       \t0\n",
      "Max sequence length                 \t65535\n",
      "Compositional bias                  \t1\n",
      "Max reject                          \t2147483647\n",
      "Max accept                          \t2147483647\n",
      "Include identical seq. id.          \tfalse\n",
      "Preload mode                        \t0\n",
      "Pseudo count a                      \t1\n",
      "Pseudo count b                      \t1.5\n",
      "Score bias                          \t0\n",
      "Realign hits                        \tfalse\n",
      "Realign score bias                  \t-0.2\n",
      "Realign max seqs                    \t2147483647\n",
      "Gap open cost                       \tnucl:5,aa:11\n",
      "Gap extension cost                  \tnucl:2,aa:1\n",
      "Zdrop                               \t40\n",
      "Alphabet size                       \tnucl:5,aa:21\n",
      "k-mers per sequence                 \t21\n",
      "Spaced k-mers                       \t0\n",
      "Spaced k-mer pattern                \t\n",
      "Scale k-mers per sequence           \tnucl:0.200,aa:0.000\n",
      "Adjust k-mer length                 \tfalse\n",
      "Mask residues                       \t0\n",
      "Mask lower case residues            \t0\n",
      "k-mer length                        \t0\n",
      "Shift hash                          \t67\n",
      "Split memory limit                  \t0\n",
      "Include only extendable             \tfalse\n",
      "Skip repeating k-mers               \tfalse\n",
      "Rescore mode                        \t0\n",
      "Remove hits by seq. id. and coverage\tfalse\n",
      "Sort results                        \t0\n",
      "Remove temporary files              \tfalse\n",
      "Force restart with latest tmp       \tfalse\n",
      "MPI runner                          \t\n",
      "\n",
      "kmermatcher ../data/interim/mmseqs_working_dir/ecor_unique_seqs_db ../data/tmp/4666031118095321261/pref --sub-mat nucl:nucleotide.out,aa:blosum62.out --alph-size nucl:5,aa:13 --min-seq-id 0.3 --kmer-per-seq 21 --spaced-kmer-mode 0 --kmer-per-seq-scale nucl:0.200,aa:0.000 --adjust-kmer-len 0 --mask 0 --mask-lower-case 0 --cov-mode 0 -k 0 -c 0.8 --max-seq-len 65535 --hash-shift 67 --split-memory-limit 0 --include-only-extendable 0 --ignore-multi-kmer 0 --threads 48 --compressed 0 -v 3 \n",
      "\n",
      "kmermatcher ../data/interim/mmseqs_working_dir/ecor_unique_seqs_db ../data/tmp/4666031118095321261/pref --sub-mat nucl:nucleotide.out,aa:blosum62.out --alph-size nucl:5,aa:13 --min-seq-id 0.3 --kmer-per-seq 21 --spaced-kmer-mode 0 --kmer-per-seq-scale nucl:0.200,aa:0.000 --adjust-kmer-len 0 --mask 0 --mask-lower-case 0 --cov-mode 0 -k 0 -c 0.8 --max-seq-len 65535 --hash-shift 67 --split-memory-limit 0 --include-only-extendable 0 --ignore-multi-kmer 0 --threads 48 --compressed 0 -v 3 \n",
      "\n",
      "Database size: 79767 type: Aminoacid\n",
      "Reduced amino acid alphabet: (A S T) (C) (D B N) (E Q Z) (F Y) (G) (H) (I V) (K R) (L J M) (P) (W) (X) \n",
      "\n",
      "Generate k-mers list for 1 split\n",
      "[=================================================================] 79.77K 0s 66ms\n",
      "Sort kmer 0h 0m 0s 12ms\n",
      "Sort by rep. sequence 0h 0m 0s 8ms\n",
      "Time for fill: 0h 0m 0s 15ms\n",
      "Time for merging to pref: 0h 0m 0s 3ms\n",
      "Time for processing: 0h 0m 0s 193ms\n",
      "rescorediagonal ../data/interim/mmseqs_working_dir/ecor_unique_seqs_db ../data/interim/mmseqs_working_dir/ecor_unique_seqs_db ../data/tmp/4666031118095321261/pref ../data/tmp/4666031118095321261/pref_rescore1 --sub-mat nucl:nucleotide.out,aa:blosum62.out --rescore-mode 0 --wrapped-scoring 0 --filter-hits 0 -e 0.001 -c 0.8 -a 0 --cov-mode 0 --min-seq-id 0.5 --min-aln-len 0 --seq-id-mode 0 --add-self-matches 0 --sort-results 0 --db-load-mode 0 --threads 48 --compressed 0 -v 3 \n",
      "\n",
      "[=================================================================] 79.77K 0s 30ms\n",
      "Time for merging to pref_rescore1: 0h 0m 0s 329ms\n",
      "Time for processing: 0h 0m 1s 64ms\n",
      "clust ../data/interim/mmseqs_working_dir/ecor_unique_seqs_db ../data/tmp/4666031118095321261/pref_rescore1 ../data/tmp/4666031118095321261/pre_clust --cluster-mode 1 --max-iterations 1000 --similarity-type 2 --threads 48 --compressed 0 -v 3 \n",
      "\n",
      "Clustering mode: Connected Component\n",
      "[=================================================================] 79.77K 0s 3ms\n",
      "Sort entries\n",
      "Find missing connections\n",
      "Found 136608 new connections.\n",
      "Reconstruct initial order\n",
      "[=================================================================] 79.77K 0s 3ms\n",
      "Add missing connections\n",
      "[=================================================================] 79.77K 0s 4ms\n",
      "\n",
      "Time for read in: 0h 0m 0s 42ms\n",
      "connected component mode\n",
      "Total time: 0h 0m 0s 52ms\n",
      "\n",
      "Size of the sequence database: 79767\n",
      "Size of the alignment database: 79767\n",
      "Number of clusters: 14586\n",
      "\n",
      "Writing results 0h 0m 0s 4ms\n",
      "Time for merging to pre_clust: 0h 0m 0s 13ms\n",
      "Time for processing: 0h 0m 0s 102ms\n",
      "createsubdb ../data/tmp/4666031118095321261/order_redundancy ../data/interim/mmseqs_working_dir/ecor_unique_seqs_db ../data/tmp/4666031118095321261/input_step_redundancy -v 3 --subdb-mode 1 \n",
      "\n",
      "Time for merging to input_step_redundancy: 0h 0m 0s 2ms\n",
      "Time for processing: 0h 0m 0s 21ms\n",
      "createsubdb ../data/tmp/4666031118095321261/order_redundancy ../data/tmp/4666031118095321261/pref ../data/tmp/4666031118095321261/pref_filter1 -v 3 --subdb-mode 1 \n",
      "\n",
      "Time for merging to pref_filter1: 0h 0m 0s 3ms\n",
      "Time for processing: 0h 0m 0s 21ms\n",
      "filterdb ../data/tmp/4666031118095321261/pref_filter1 ../data/tmp/4666031118095321261/pref_filter2 --filter-file ../data/tmp/4666031118095321261/order_redundancy --threads 48 --compressed 0 -v 3 \n",
      "\n",
      "Filtering using file(s)\n",
      "[=================================================================] 14.59K 0s 3ms\n",
      "Time for merging to pref_filter2: 0h 0m 0s 248ms\n",
      "Time for processing: 0h 0m 0s 859ms\n",
      "rescorediagonal ../data/tmp/4666031118095321261/input_step_redundancy ../data/tmp/4666031118095321261/input_step_redundancy ../data/tmp/4666031118095321261/pref_filter2 ../data/tmp/4666031118095321261/pref_rescore2 --sub-mat nucl:nucleotide.out,aa:blosum62.out --rescore-mode 1 --wrapped-scoring 0 --filter-hits 1 -e 0.001 -c 0.8 -a 0 --cov-mode 0 --min-seq-id 0.3 --min-aln-len 0 --seq-id-mode 0 --add-self-matches 0 --sort-results 0 --db-load-mode 0 --threads 48 --compressed 0 -v 3 \n",
      "\n",
      "[=================================================================] 14.59K 0s 6ms\n",
      "Time for merging to pref_rescore2: 0h 0m 0s 279ms\n",
      "Time for processing: 0h 0m 0s 708ms\n",
      "align ../data/tmp/4666031118095321261/input_step_redundancy ../data/tmp/4666031118095321261/input_step_redundancy ../data/tmp/4666031118095321261/pref_rescore2 ../data/tmp/4666031118095321261/aln --sub-mat nucl:nucleotide.out,aa:blosum62.out -a 0 --alignment-mode 2 --alignment-output-mode 0 --wrapped-scoring 0 -e 0.001 --min-seq-id 0.3 --min-aln-len 0 --seq-id-mode 0 --alt-ali 0 -c 0.8 --cov-mode 0 --max-seq-len 65535 --comp-bias-corr 1 --max-rejected 2147483647 --max-accept 2147483647 --add-self-matches 0 --db-load-mode 0 --pca 1 --pcb 1.5 --score-bias 0 --realign 0 --realign-score-bias -0.2 --realign-max-seqs 2147483647 --gap-open nucl:5,aa:11 --gap-extend nucl:2,aa:1 --zdrop 40 --threads 48 --compressed 0 -v 3 \n",
      "\n",
      "Compute score and coverage\n",
      "Query database size: 14586 type: Aminoacid\n",
      "Target database size: 14586 type: Aminoacid\n",
      "Calculation of alignments\n",
      "[=================================================================] 14.59K 0s 84ms\n",
      "Time for merging to aln: 0h 0m 0s 244ms\n",
      "15965 alignments calculated\n",
      "15467 sequence pairs passed the thresholds (0.968807 of overall calculated)\n",
      "1.060400 hits per query sequence\n",
      "Time for processing: 0h 0m 0s 707ms\n",
      "clust ../data/tmp/4666031118095321261/input_step_redundancy ../data/tmp/4666031118095321261/aln ../data/tmp/4666031118095321261/clust --cluster-mode 1 --max-iterations 1000 --similarity-type 2 --threads 48 --compressed 0 -v 3 \n",
      "\n",
      "Clustering mode: Connected Component\n",
      "[=================================================================] 14.59K 0s 5ms\n",
      "Sort entries\n",
      "Find missing connections\n",
      "Found 881 new connections.\n",
      "Reconstruct initial order\n",
      "[=================================================================] 14.59K 0s 5ms\n",
      "Add missing connections\n",
      "[=================================================================] 14.59K 0s 0ms\n",
      "\n",
      "Time for read in: 0h 0m 0s 20ms\n",
      "connected component mode\n",
      "Total time: 0h 0m 0s 26ms\n",
      "\n",
      "Size of the sequence database: 14586\n",
      "Size of the alignment database: 14586\n",
      "Number of clusters: 13805\n",
      "\n",
      "Writing results 0h 0m 0s 3ms\n",
      "Time for merging to clust: 0h 0m 0s 2ms\n",
      "Time for processing: 0h 0m 0s 68ms\n",
      "mergeclusters ../data/interim/mmseqs_working_dir/ecor_unique_seqs_db ../data/interim/mmseqs_working_dir/ecor_unique_seqs_db_clust ../data/tmp/4666031118095321261/pre_clust ../data/tmp/4666031118095321261/clust --threads 48 --compressed 0 -v 3 \n",
      "\n",
      "Clustering step 1\n",
      "[=================================================================] 14.59K 0s 8ms\n",
      "Clustering step 2\n",
      "[=================================================================] 13.81K 0s 12ms\n",
      "Write merged clustering\n",
      "[=================================================================] 79.77K 0s 316ms\n",
      "Time for merging to ecor_unique_seqs_db_clust: 0h 0m 0s 403ms\n",
      "Time for processing: 0h 0m 0s 828ms\n",
      "\n"
     ]
    },
    {
     "data": {
      "text/plain": [
       "0"
      ]
     },
     "execution_count": 54,
     "metadata": {},
     "output_type": "execute_result"
    }
   ],
   "source": [
    "os.system(' '.join(conda_commands +\n",
    "                   ['mmseqs linclust ' + target_db + ' ' +\n",
    "          out_db + ' ' +\n",
    "          '../data/tmp ' +\n",
    "          '-c 0.8 '\n",
    "          '--min-seq-id 0.3 '\n",
    "          '--threads ' + threads + ' ' +\n",
    "          '--cluster-mode 1']))  # connected components"
   ]
  },
  {
   "cell_type": "code",
   "execution_count": 55,
   "id": "d984b28b-13bf-480a-9a31-06d4e7544fe2",
   "metadata": {
    "collapsed": true,
    "jupyter": {
     "outputs_hidden": true
    },
    "tags": []
   },
   "outputs": [
    {
     "name": "stdout",
     "output_type": "stream",
     "text": [
      "createtsv ../data/interim/mmseqs_working_dir/ecor_unique_seqs_db ../data/interim/mmseqs_working_dir/ecor_unique_seqs_db ../data/interim/mmseqs_working_dir/ecor_unique_seqs_db_clust ../data/interim/ecor_clusters.tsv \n",
      "\n",
      "MMseqs Version:                 \t13.45111\n",
      "First sequence as representative\tfalse\n",
      "Target column                   \t1\n",
      "Add full header                 \tfalse\n",
      "Sequence source                 \t0\n",
      "Database output                 \tfalse\n",
      "Threads                         \t96\n",
      "Compressed                      \t0\n",
      "Verbosity                       \t3\n",
      "\n",
      "Time for merging to ecor_clusters.tsv: 0h 0m 0s 542ms\n",
      "Time for processing: 0h 0m 1s 192ms\n",
      "\n"
     ]
    },
    {
     "data": {
      "text/plain": [
       "0"
      ]
     },
     "execution_count": 55,
     "metadata": {},
     "output_type": "execute_result"
    }
   ],
   "source": [
    "os.system(' '.join(conda_commands + \n",
    "                   ['mmseqs createtsv ' + target_db + ' ' +\n",
    "          target_db + ' ' +\n",
    "          out_db + ' ' +\n",
    "          out_tsv]))"
   ]
  },
  {
   "cell_type": "code",
   "execution_count": 49,
   "id": "82661ccd-138f-49d0-a395-76470e44ba5b",
   "metadata": {},
   "outputs": [],
   "source": [
    "clusters = pd.read_table(out_tsv, \n",
    "                         names=['cluster_id', 'product_accession'])"
   ]
  },
  {
   "cell_type": "code",
   "execution_count": 50,
   "id": "19cf43b2-45a3-4019-bc3a-c526689978ff",
   "metadata": {
    "tags": []
   },
   "outputs": [],
   "source": [
    "cluster_merged_preds = (sorted_predictions.merge(clusters, how='inner', \n",
    "                                                    on='product_accession'))"
   ]
  },
  {
   "cell_type": "markdown",
   "id": "baf69d23-1d15-42ed-bf8f-95aa8e971694",
   "metadata": {},
   "source": [
    "## Remove close homologs in MG1655 (>90% ID and coverage)\n"
   ]
  },
  {
   "cell_type": "code",
   "execution_count": 51,
   "id": "3b62c410-3656-4b3b-97f7-344a198f9de8",
   "metadata": {},
   "outputs": [],
   "source": [
    "working_dir = '../data/interim/mmseqs_working_dir/'\n",
    "mg1655_query = '../data/external/GCF_000005845.2_ASM584v2_protein.faa'\n",
    "mg1655_db = working_dir + 'mg1655_db'\n"
   ]
  },
  {
   "cell_type": "code",
   "execution_count": null,
   "id": "49478f7f-3af8-49e6-936e-64e12a7d9028",
   "metadata": {},
   "outputs": [],
   "source": [
    "os.system(' '.join(conda_commands + \n",
    "                   ['mmseqs createdb', \n",
    "                    mg1655_query, mg1655_db]))"
   ]
  },
  {
   "cell_type": "code",
   "execution_count": 52,
   "id": "b21e34f8-8886-491b-bd0f-9f9a2c4425e2",
   "metadata": {},
   "outputs": [],
   "source": [
    "ecor_seqs_db = '../data/interim/mmseqs_working_dir/ecor_unique_seqs_db'\n",
    "ecor_mg_search_out = '../data/interim/mmseqs_working_dir/ecor_mg1655_search'"
   ]
  },
  {
   "cell_type": "code",
   "execution_count": null,
   "id": "c035405a-65b6-4b42-9e5f-909c53323a6d",
   "metadata": {},
   "outputs": [],
   "source": [
    "os.system(' '.join(conda_commands +\n",
    "                   ['mmseqs',\n",
    "                    'search',\n",
    "                    ecor_seqs_db,\n",
    "                    mg1655_db, \n",
    "                    ecor_mg_search_out, \n",
    "                    '../data/tmp',\n",
    "                    '--threads 48',\n",
    "                    '-a']))"
   ]
  },
  {
   "cell_type": "code",
   "execution_count": 53,
   "id": "a1caa173-0488-4435-80b9-1f1c93525a18",
   "metadata": {},
   "outputs": [],
   "source": [
    "ecor_mg_search_final_out = '../data/interim/ecor_mg_homologs.txt'"
   ]
  },
  {
   "cell_type": "code",
   "execution_count": null,
   "id": "e2e5644c-6492-4cb1-a993-ac26c7632a8b",
   "metadata": {},
   "outputs": [],
   "source": [
    "os.system(' '.join(conda_commands +\n",
    "          ['mmseqs convertalis', \n",
    "           ecor_seqs_db, \n",
    "           mg1655_db, \n",
    "           ecor_mg_search_out, \n",
    "           ecor_mg_search_final_out,\n",
    "           '--threads 48', \n",
    "           '--format-output query,target,fident,alnlen,mismatch,gapopen,qstart,qend,tstart,tend,evalue,bits,qcov,tcov']))"
   ]
  },
  {
   "cell_type": "code",
   "execution_count": 54,
   "id": "b14074e7-2d67-4ec7-880e-95ca39e1cdc9",
   "metadata": {},
   "outputs": [],
   "source": [
    "ecor_mg_homolog_df = read_mmseqs_results(ecor_mg_search_final_out)"
   ]
  },
  {
   "cell_type": "code",
   "execution_count": 55,
   "id": "cc61951f-cb6f-4fd1-a4ff-c5ab6211043e",
   "metadata": {},
   "outputs": [],
   "source": [
    "close_homolog_df = ecor_mg_homolog_df[(ecor_mg_homolog_df['fident'] > 0.9) & \n",
    "                                      (ecor_mg_homolog_df['qcov'] > 0.9)]\n"
   ]
  },
  {
   "cell_type": "code",
   "execution_count": 56,
   "id": "c142dbfa-d023-4cc3-93bf-dfeac073e300",
   "metadata": {},
   "outputs": [
    {
     "data": {
      "text/plain": [
       "49684"
      ]
     },
     "execution_count": 56,
     "metadata": {},
     "output_type": "execute_result"
    }
   ],
   "source": [
    "ecor_mg1655_close_homologs = close_homolog_df['query'].unique()\n",
    "len(ecor_mg1655_close_homologs)\n"
   ]
  },
  {
   "cell_type": "code",
   "execution_count": 57,
   "id": "4fd03459-476b-4472-83d5-50dffdbcfd32",
   "metadata": {},
   "outputs": [],
   "source": [
    "cluster_merged_preds['MG1655_homolog'] = cluster_merged_preds['product_accession'].isin(ecor_mg1655_close_homologs)"
   ]
  },
  {
   "cell_type": "markdown",
   "id": "23887634-e291-48a7-84da-0faa50033b23",
   "metadata": {},
   "source": [
    "## Output"
   ]
  },
  {
   "cell_type": "code",
   "execution_count": 58,
   "id": "7cf0eb77-70bb-47e9-9318-3b140188d100",
   "metadata": {},
   "outputs": [],
   "source": [
    "cluster_merged_preds.to_csv('../data/interim/ecor_predictions.csv', index=False)"
   ]
  },
  {
   "cell_type": "code",
   "execution_count": 60,
   "id": "b724cd88-1557-4fd2-8783-f8c063f4034a",
   "metadata": {},
   "outputs": [
    {
     "data": {
      "text/plain": [
       "(321347, 32)"
      ]
     },
     "execution_count": 60,
     "metadata": {},
     "output_type": "execute_result"
    }
   ],
   "source": [
    "cluster_merged_preds.shape"
   ]
  },
  {
   "cell_type": "code",
   "execution_count": null,
   "id": "f748275f-b4fc-49fb-b72d-237544b5e522",
   "metadata": {},
   "outputs": [],
   "source": []
  }
 ],
 "metadata": {
  "kernelspec": {
   "display_name": "beaker",
   "language": "python",
   "name": "beaker"
  },
  "language_info": {
   "codemirror_mode": {
    "name": "ipython",
    "version": 3
   },
   "file_extension": ".py",
   "mimetype": "text/x-python",
   "name": "python",
   "nbconvert_exporter": "python",
   "pygments_lexer": "ipython3",
   "version": "3.8.16"
  }
 },
 "nbformat": 4,
 "nbformat_minor": 5
}
