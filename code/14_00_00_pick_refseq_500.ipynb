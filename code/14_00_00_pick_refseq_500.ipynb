{
 "cells": [
  {
   "cell_type": "code",
   "execution_count": 1,
   "id": "a0189cc4-21db-4ac0-86ea-d360d2576c3c",
   "metadata": {},
   "outputs": [],
   "source": [
    "import pandas as pd\n",
    "from predict import get_representations\n",
    "from tqdm import tqdm\n",
    "import warnings\n",
    "import os\n",
    "from esm import pretrained, FastaBatchedDataset\n",
    "import torch"
   ]
  },
  {
   "cell_type": "code",
   "execution_count": 2,
   "id": "14e3a775-6d92-46b8-b67e-e35387b90acd",
   "metadata": {},
   "outputs": [],
   "source": [
    "def remap_aa(seq, key, value):\n",
    "    if key in seq:\n",
    "        seq = seq.replace(key, value)\n",
    "    return seq\n",
    "\n",
    "def remap_aas(seq, map=None):\n",
    "    if map is None:\n",
    "        map = {'B': 'N', \n",
    "               'Z': 'Q', \n",
    "               'U': 'C',\n",
    "               'O': 'K',\n",
    "               'J': 'L', \n",
    "               'X': '', \n",
    "               '*': ''}\n",
    "    for key, value in map.items():\n",
    "        seq = remap_aa(seq, key, value)\n",
    "    return seq"
   ]
  },
  {
   "cell_type": "code",
   "execution_count": 3,
   "id": "5e5aa46b-33c7-4455-af15-4e7d0ed99f1c",
   "metadata": {},
   "outputs": [
    {
     "name": "stdout",
     "output_type": "stream",
     "text": [
      "CPU times: user 5min 7s, sys: 30 s, total: 5min 37s\n",
      "Wall time: 5min 37s\n"
     ]
    }
   ],
   "source": [
    "%%time\n",
    "seq_assemblies = pd.read_csv('../data/interim/seq_assemblies.csv', \n",
    "                             names=['product_accession', 'seq_id', 'seq', 'assembly'])"
   ]
  },
  {
   "cell_type": "code",
   "execution_count": 4,
   "id": "7d4b7243-f26f-477d-a7a1-6ca89a9b0c11",
   "metadata": {},
   "outputs": [],
   "source": [
    "unique_assemblies = seq_assemblies['assembly'].drop_duplicates()\n",
    "selected_assemblies = unique_assemblies.sample(n=500, random_state=7)"
   ]
  },
  {
   "cell_type": "code",
   "execution_count": 4,
   "id": "46e9b1b9-f8cd-4166-8206-762555901a48",
   "metadata": {},
   "outputs": [],
   "source": [
    "selected_seq_assemblies = seq_assemblies.loc[seq_assemblies['assembly'].isin(selected_assemblies)].reset_index(drop=True)"
   ]
  },
  {
   "cell_type": "code",
   "execution_count": 5,
   "id": "53de70d1-092e-4084-a9f0-c36db07449da",
   "metadata": {},
   "outputs": [
    {
     "data": {
      "text/plain": [
       "1999032"
      ]
     },
     "execution_count": 5,
     "metadata": {},
     "output_type": "execute_result"
    }
   ],
   "source": [
    "unique_seqs = selected_seq_assemblies[['product_accession', 'seq']].drop_duplicates()\n",
    "len(unique_seqs)"
   ]
  },
  {
   "cell_type": "code",
   "execution_count": 7,
   "id": "1d2e0ae7-55a5-4ada-95bb-e1e465eaa21d",
   "metadata": {},
   "outputs": [],
   "source": [
    "unique_seqs_fa = '../data/interim/refseq_500_unique_seqs.faa'"
   ]
  },
  {
   "cell_type": "code",
   "execution_count": 23,
   "id": "53ac69a8-81c5-4aa4-b93d-aaeaa512b128",
   "metadata": {},
   "outputs": [
    {
     "name": "stderr",
     "output_type": "stream",
     "text": [
      "100%|██████████| 1999032/1999032 [01:25<00:00, 23431.48it/s]\n"
     ]
    }
   ],
   "source": [
    "with open(unique_seqs_fa, 'w') as f:\n",
    "    for _, row in tqdm(unique_seqs.iterrows(), \n",
    "                       total=len(unique_seqs), position=0):\n",
    "        print('>' + row['product_accession'], file=f)\n",
    "        print(remap_aas(row['seq']), file=f)"
   ]
  },
  {
   "cell_type": "code",
   "execution_count": 5,
   "id": "c261f52f-018b-4375-b56d-e2cd6e6ff01f",
   "metadata": {},
   "outputs": [],
   "source": [
    "selected_assemblies.to_csv('../data/interim/refseq_500_selected_assemblies.csv', \n",
    "                           index=False)"
   ]
  },
  {
   "cell_type": "code",
   "execution_count": null,
   "id": "1f456085-106b-4eef-a6a8-492e572b6e36",
   "metadata": {},
   "outputs": [],
   "source": []
  }
 ],
 "metadata": {
  "kernelspec": {
   "display_name": "beaker",
   "language": "python",
   "name": "beaker"
  },
  "language_info": {
   "codemirror_mode": {
    "name": "ipython",
    "version": 3
   },
   "file_extension": ".py",
   "mimetype": "text/x-python",
   "name": "python",
   "nbconvert_exporter": "python",
   "pygments_lexer": "ipython3",
   "version": "3.8.16"
  }
 },
 "nbformat": 4,
 "nbformat_minor": 5
}
