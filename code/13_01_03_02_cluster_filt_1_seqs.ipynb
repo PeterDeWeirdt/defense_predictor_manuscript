{
 "cells": [
  {
   "cell_type": "code",
   "execution_count": 6,
   "id": "ccf3df24-6973-438a-ac17-3861bd147136",
   "metadata": {},
   "outputs": [],
   "source": [
    "import pandas as pd\n",
    "import networkx as nx\n",
    "import seaborn as sns\n",
    "import matplotlib.pyplot as plt"
   ]
  },
  {
   "cell_type": "code",
   "execution_count": 7,
   "id": "76532c56-dd7b-4369-b2b6-ee0e846361f4",
   "metadata": {},
   "outputs": [],
   "source": [
    "filt_1_seq_df = pd.read_csv('../data/interim/pd_filt_1_seqs.csv')\n",
    "filt_1_hhblits_df = pd.read_csv('../data/interim/pd_filt_1_msas_self_hhblits_results.csv')\n",
    "prefilt_protein_operons = pd.read_csv('../data/interim/prefilt_pd_prediction_df.csv')\n",
    "easy_filt_novel_def_proteins = pd.read_csv('../data/interim/easy_filt_novel_def_proteins.csv')"
   ]
  },
  {
   "cell_type": "code",
   "execution_count": 8,
   "id": "56aaa598-6a72-49ce-8562-821134ce958f",
   "metadata": {},
   "outputs": [],
   "source": [
    "filt_1_hhblits_df['target'] = filt_1_hhblits_df['hit_name'].str.split('.', expand=True)[0]\n",
    "filt_1_hhblits_df['q_ali_len'] = filt_1_hhblits_df['qend'] - filt_1_hhblits_df['qstart']"
   ]
  },
  {
   "cell_type": "code",
   "execution_count": 9,
   "id": "26191c61-16a1-40d9-904c-0bc4dd9e5308",
   "metadata": {},
   "outputs": [],
   "source": [
    "prob_cutoff = 50\n",
    "cov_cutoff = 0.8"
   ]
  },
  {
   "cell_type": "code",
   "execution_count": 10,
   "id": "f8390c8a-cd23-487e-b08f-526abc827ae3",
   "metadata": {},
   "outputs": [
    {
     "data": {
      "text/plain": [
       "272"
      ]
     },
     "execution_count": 10,
     "metadata": {},
     "output_type": "execute_result"
    }
   ],
   "source": [
    "merged_hhblits_df = (filt_1_hhblits_df.merge(filt_1_seq_df, how='inner', on='query'))\n",
    "merged_hhblits_df['qcov'] = merged_hhblits_df['q_ali_len']/merged_hhblits_df['seq_len']\n",
    "filtered_hhblits_df = (merged_hhblits_df.query('query != target')\n",
    "                       .query('qcov > ' + str(cov_cutoff))\n",
    "                       .query('Prob > ' + str(prob_cutoff)))\n",
    "len(filtered_hhblits_df)"
   ]
  },
  {
   "cell_type": "code",
   "execution_count": 11,
   "id": "c8129542-13d5-4bc0-8bd3-5145d85a4cfb",
   "metadata": {},
   "outputs": [
    {
     "data": {
      "text/plain": [
       "<matplotlib.lines.Line2D at 0x7f7445c03b80>"
      ]
     },
     "execution_count": 11,
     "metadata": {},
     "output_type": "execute_result"
    },
    {
     "data": {
      "image/png": "[encoded data removed]",
      "text/plain": [
       "<Figure size 400x400 with 1 Axes>"
      ]
     },
     "metadata": {},
     "output_type": "display_data"
    }
   ],
   "source": [
    "plt.subplots(figsize=(4,4))\n",
    "sns.histplot(merged_hhblits_df.loc[merged_hhblits_df['query'] != merged_hhblits_df['target'], \n",
    "                                   'qcov'])\n",
    "sns.despine()\n",
    "plt.axvline(x=cov_cutoff, linestyle='dashed', color='black')"
   ]
  },
  {
   "cell_type": "code",
   "execution_count": 12,
   "id": "0f757778-a5e7-4361-8b4a-31cecb2b7146",
   "metadata": {},
   "outputs": [
    {
     "name": "stdout",
     "output_type": "stream",
     "text": [
      "nodes 174\n",
      "edges 168\n",
      "n_components 362\n"
     ]
    },
    {
     "data": {
      "text/plain": [
       "component\n",
       "2     13\n",
       "35     6\n",
       "21     5\n",
       "3      5\n",
       "33     5\n",
       "4      4\n",
       "44     4\n",
       "36     4\n",
       "30     4\n",
       "53     4\n",
       "Name: count, dtype: int64"
      ]
     },
     "execution_count": 12,
     "metadata": {},
     "output_type": "execute_result"
    }
   ],
   "source": [
    "G = nx.from_pandas_edgelist(filtered_hhblits_df, source='query', target='target')\n",
    "print('nodes', G.number_of_nodes())\n",
    "print('edges', G.number_of_edges())\n",
    "node_list = list(G.nodes)\n",
    "for acc in filt_1_seq_df['query']:\n",
    "    if acc not in node_list:\n",
    "        G.add_node(acc)\n",
    "components = nx.connected_components(G)\n",
    "component_list = []\n",
    "for component, accs in enumerate(components):\n",
    "    for acc in accs:\n",
    "        component_list.append({'query': acc, \n",
    "                               'component': component})\n",
    "component_df = pd.DataFrame(component_list)\n",
    "print('n_components', component + 1)\n",
    "component_df['component'].value_counts().head(10)"
   ]
  },
  {
   "cell_type": "code",
   "execution_count": 18,
   "id": "c7ab6a9f-0c93-4289-acaa-c8568b23212d",
   "metadata": {},
   "outputs": [
    {
     "data": {
      "text/plain": [
       "354"
      ]
     },
     "execution_count": 18,
     "metadata": {},
     "output_type": "execute_result"
    }
   ],
   "source": [
    "component_df.loc[component_df['query'].isin(easy_filt_novel_def_proteins['product_accession'].str.split('.', expand=True)[0]), \n",
    "                 'component'].nunique()"
   ]
  },
  {
   "cell_type": "code",
   "execution_count": 14,
   "id": "6c74e5a1-f719-464e-afc9-690c3b5ad056",
   "metadata": {},
   "outputs": [],
   "source": [
    "prefilt_protein_operons['query'] = prefilt_protein_operons['product_accession'].str.split('.', expand=True)[0]\n",
    "ref_df = (prefilt_protein_operons.merge(component_df, how='inner', on='query')\n",
    "                                       .sort_values(['cloned', 'beaker_prediction'], ascending=False))\n",
    "#decreasing_df = component_merged_filt_1_predictions.copy()\n",
    "decreasing_df = ref_df.copy()"
   ]
  },
  {
   "cell_type": "code",
   "execution_count": 15,
   "id": "6f0241e2-40fe-4f53-ab3a-00880b8e2290",
   "metadata": {},
   "outputs": [],
   "source": [
    "minimal_pd_operon_list = []\n",
    "while len(decreasing_df):\n",
    "    top_row = decreasing_df.head(1).squeeze()\n",
    "    top_operon = top_row['operon']\n",
    "    operon_components = ref_df.loc[ref_df['operon'] == top_operon, 'component'].to_list()\n",
    "    decreasing_df = decreasing_df[~decreasing_df['component'].isin(operon_components)]\n",
    "    operon_df = prefilt_protein_operons[prefilt_protein_operons['operon'] == top_operon]\n",
    "    minimal_pd_operon_list.append(operon_df)\n",
    "    "
   ]
  },
  {
   "cell_type": "code",
   "execution_count": 16,
   "id": "c343d09d-cc22-4e7c-8e96-03234a6ca544",
   "metadata": {},
   "outputs": [
    {
     "name": "stdout",
     "output_type": "stream",
     "text": [
      "Unique operons: 330\n",
      "Unique cloned operons: 53\n",
      "Unique proteins: 539\n"
     ]
    }
   ],
   "source": [
    "minimal_pd_operon_df = (pd.concat(minimal_pd_operon_list)\n",
    "                        .reset_index(drop=True)\n",
    "                        .merge(component_df, how='left', on='query'))\n",
    "print('Unique operons:', minimal_pd_operon_df['operon'].nunique())\n",
    "print('Unique cloned operons:', minimal_pd_operon_df.loc[minimal_pd_operon_df['cloned'], \n",
    "                                                        'operon'].nunique())\n",
    "print('Unique proteins:', minimal_pd_operon_df['product_accession'].nunique())"
   ]
  },
  {
   "cell_type": "code",
   "execution_count": 73,
   "id": "6150882d-a559-4d06-8d21-bceea37ef168",
   "metadata": {},
   "outputs": [
    {
     "data": {
      "image/png": "[encoded data removed]",
      "text/plain": [
       "<Figure size 400x400 with 1 Axes>"
      ]
     },
     "metadata": {},
     "output_type": "display_data"
    }
   ],
   "source": [
    "plt.subplots(figsize=(4,4))\n",
    "sns.histplot(data=minimal_pd_operon_df,\n",
    "             x='beaker_prediction', binwidth=0.01)\n",
    "sns.despine()"
   ]
  },
  {
   "cell_type": "code",
   "execution_count": 74,
   "id": "3841dc54-e4cd-4db7-90fb-276f54c4e19b",
   "metadata": {},
   "outputs": [],
   "source": [
    "pd_operon_max_prob = (minimal_pd_operon_df.groupby('operon')\n",
    "                      .agg(max_p_defense = ('beaker_prediction', 'max'))\n",
    "                      .reset_index())"
   ]
  },
  {
   "cell_type": "code",
   "execution_count": 75,
   "id": "ea5dfc4d-f3b7-42ff-becb-70c20972a812",
   "metadata": {},
   "outputs": [
    {
     "data": {
      "image/png": "[encoded data removed]",
      "text/plain": [
       "<Figure size 400x400 with 1 Axes>"
      ]
     },
     "metadata": {},
     "output_type": "display_data"
    }
   ],
   "source": [
    "plt.subplots(figsize=(4,4))\n",
    "sns.histplot(data=pd_operon_max_prob,\n",
    "             x='max_p_defense', binwidth=0.01)\n",
    "sns.despine()"
   ]
  },
  {
   "cell_type": "code",
   "execution_count": 78,
   "id": "878094be-ced6-44dd-817e-ae48895e4d82",
   "metadata": {},
   "outputs": [
    {
     "data": {
      "text/plain": [
       "Index(['protein_context_id', 'beaker_prediction', '# feature', 'class',\n",
       "       'assembly', 'assembly_unit', 'seq_type', 'chromosome',\n",
       "       'genomic_accession', 'start', 'end', 'strand', 'product_accession',\n",
       "       'non-redundant_refseq', 'related_accession', 'name', 'symbol', 'GeneID',\n",
       "       'locus_tag', 'feature_interval_length', 'product_length', 'attributes',\n",
       "       'assembly_stub', 'protein_assembly', 'defense_homolog',\n",
       "       'defense_system_protein', 'operon', 'contig_end', 'cluster_id',\n",
       "       'MG1655_homolog', 'cloned', 'query', 'component'],\n",
       "      dtype='object')"
      ]
     },
     "execution_count": 78,
     "metadata": {},
     "output_type": "execute_result"
    }
   ],
   "source": [
    "minimal_pd_operon_df.columns"
   ]
  },
  {
   "cell_type": "code",
   "execution_count": 80,
   "id": "dad72b44-22d7-4b02-9269-6c16c97d5b58",
   "metadata": {},
   "outputs": [
    {
     "data": {
      "text/plain": [
       "name\n",
       "hypothetical protein                   319\n",
       "AAA family ATPase                        8\n",
       "restriction endonuclease                 4\n",
       "ATP-binding protein                      4\n",
       "type IA DNA topoisomerase                4\n",
       "tyrosine-type recombinase/integrase      3\n",
       "H-NS histone family protein              3\n",
       "phage repressor protein CI               3\n",
       "SNF2-related protein                     3\n",
       "integrase domain-containing protein      3\n",
       "Name: count, dtype: int64"
      ]
     },
     "execution_count": 80,
     "metadata": {},
     "output_type": "execute_result"
    }
   ],
   "source": [
    "minimal_pd_operon_df['name'].value_counts().head(10)"
   ]
  },
  {
   "cell_type": "code",
   "execution_count": 81,
   "id": "76a75587-f4cf-4662-8ed2-0de6a66bcc29",
   "metadata": {},
   "outputs": [],
   "source": [
    "minimal_pd_operon_df.to_csv('../data/interim/ecor_minimal_pd_operons.csv', index=False)"
   ]
  }
 ],
 "metadata": {
  "kernelspec": {
   "display_name": "beaker",
   "language": "python",
   "name": "beaker"
  },
  "language_info": {
   "codemirror_mode": {
    "name": "ipython",
    "version": 3
   },
   "file_extension": ".py",
   "mimetype": "text/x-python",
   "name": "python",
   "nbconvert_exporter": "python",
   "pygments_lexer": "ipython3",
   "version": "3.8.16"
  }
 },
 "nbformat": 4,
 "nbformat_minor": 5
}
