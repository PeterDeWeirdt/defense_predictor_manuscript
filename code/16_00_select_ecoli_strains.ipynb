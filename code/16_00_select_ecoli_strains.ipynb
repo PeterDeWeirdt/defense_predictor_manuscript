{
 "cells": [
  {
   "cell_type": "code",
   "execution_count": 1,
   "id": "00f252ea-0d59-424a-b099-f160384ecbbb",
   "metadata": {},
   "outputs": [],
   "source": [
    "import pandas as pd\n",
    "import seaborn as sns\n",
    "import matplotlib.pyplot as plt"
   ]
  },
  {
   "cell_type": "code",
   "execution_count": 2,
   "id": "9dee4ec7-9ba7-4377-8c34-a11a58986d73",
   "metadata": {},
   "outputs": [],
   "source": [
    "assembly_summary_refseq = pd.read_parquet('../data/raw/assembly_summary_refseq.pq')"
   ]
  },
  {
   "cell_type": "code",
   "execution_count": 3,
   "id": "014000a0-120e-4417-be5c-e4f703dd141a",
   "metadata": {},
   "outputs": [],
   "source": [
    "relevant_taxids = [\n",
    "    562, # E. coli\n",
    "    624, # S. sonnei\n",
    "    623, # S. flexneri\n",
    "    622, # S. dysenteriae\n",
    "    621, # S. boydii\n",
    "                  ]"
   ]
  },
  {
   "cell_type": "code",
   "execution_count": 4,
   "id": "160b20a8-6cd8-4775-99fa-13afd9fba5a3",
   "metadata": {},
   "outputs": [],
   "source": [
    "relevant_refseq = assembly_summary_refseq[assembly_summary_refseq['species_taxid'].isin(relevant_taxids)]"
   ]
  },
  {
   "cell_type": "code",
   "execution_count": 10,
   "id": "dfb5a539-bec9-4a78-afed-e0d2cb1ef654",
   "metadata": {},
   "outputs": [],
   "source": [
    "n_samples = 3_000"
   ]
  },
  {
   "cell_type": "code",
   "execution_count": 11,
   "id": "2be287ea-1318-4dfb-ade0-e2f8092d0710",
   "metadata": {},
   "outputs": [],
   "source": [
    "selected_refseq = relevant_refseq.sample(n=n_samples, random_state=7)"
   ]
  },
  {
   "cell_type": "code",
   "execution_count": 12,
   "id": "63000fd2-f06d-4ffa-aec7-79ec19916608",
   "metadata": {},
   "outputs": [
    {
     "data": {
      "text/plain": [
       "taxid\n",
       "562        2600\n",
       "624         109\n",
       "623          47\n",
       "244319       20\n",
       "83334        12\n",
       "           ... \n",
       "1116181       1\n",
       "1055538       1\n",
       "1317130       1\n",
       "1269001       1\n",
       "1434182       1\n",
       "Name: count, Length: 186, dtype: int64"
      ]
     },
     "execution_count": 12,
     "metadata": {},
     "output_type": "execute_result"
    }
   ],
   "source": [
    "selected_refseq['taxid'].value_counts()"
   ]
  },
  {
   "cell_type": "code",
   "execution_count": 14,
   "id": "c6a0d924-753f-436e-afad-aee7ff643c91",
   "metadata": {},
   "outputs": [],
   "source": [
    "selected_refseq.to_csv('../data/ecoli/interim/ecoli_3000_refseq_assemblies.csv', index=False)"
   ]
  },
  {
   "cell_type": "code",
   "execution_count": null,
   "id": "2ceb1b03-d57f-4c5a-beed-34fdd66c27da",
   "metadata": {},
   "outputs": [],
   "source": []
  }
 ],
 "metadata": {
  "kernelspec": {
   "display_name": "beaker",
   "language": "python",
   "name": "beaker"
  },
  "language_info": {
   "codemirror_mode": {
    "name": "ipython",
    "version": 3
   },
   "file_extension": ".py",
   "mimetype": "text/x-python",
   "name": "python",
   "nbconvert_exporter": "python",
   "pygments_lexer": "ipython3",
   "version": "3.8.16"
  }
 },
 "nbformat": 4,
 "nbformat_minor": 5
}
