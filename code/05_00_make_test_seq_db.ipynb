{
 "cells": [
  {
   "cell_type": "code",
   "execution_count": 1,
   "id": "8c529e1c-6954-40dd-93d7-0910c1e0af81",
   "metadata": {},
   "outputs": [],
   "source": [
    "import pandas as pd\n",
    "import os\n",
    "from joblib import Parallel, delayed\n",
    "from tqdm import tqdm"
   ]
  },
  {
   "cell_type": "code",
   "execution_count": 2,
   "id": "3ec893e1-0bb1-47c6-954a-a02a7a896a35",
   "metadata": {},
   "outputs": [],
   "source": [
    "background_split_seqs = pd.read_parquet('../data/interim/background_model_seqs.pq')\n",
    "background_split_seqs['defense'] = False"
   ]
  },
  {
   "cell_type": "code",
   "execution_count": 3,
   "id": "dae2e6b5-3257-4bea-bfb0-31c6044e499e",
   "metadata": {},
   "outputs": [],
   "source": [
    "defense_split_seqs = pd.read_parquet('../data/interim/defense_finder_model_seqs.pq')\n",
    "defense_split_seqs['defense'] = True"
   ]
  },
  {
   "cell_type": "code",
   "execution_count": 5,
   "id": "f91aa363-7583-4490-bd1c-13b786680aa2",
   "metadata": {},
   "outputs": [],
   "source": [
    "narrow_defense_split_seqs = (defense_split_seqs[['protein_accession', 'genome', 'seq_id', 'seq', 'cluster_id', \n",
    "                                                 'split', 'defense', 'gene_name']]\n",
    "                             .rename(columns={'protein_accession': 'protein_id',\n",
    "                                              'genome': 'assembly'}))"
   ]
  },
  {
   "cell_type": "code",
   "execution_count": 6,
   "id": "727fef5d-79a3-4225-a575-f89e545c9585",
   "metadata": {},
   "outputs": [],
   "source": [
    "split_seqs = pd.concat([background_split_seqs, \n",
    "                        narrow_defense_split_seqs])\n"
   ]
  },
  {
   "cell_type": "code",
   "execution_count": 7,
   "id": "0299f2b9-fa00-4733-8dd7-5328095904dc",
   "metadata": {},
   "outputs": [],
   "source": [
    "ft_dir = '../data/genome_downloads/ft/'\n",
    "ft_files = [x for x in os.listdir(ft_dir) if '.txt' in x]"
   ]
  },
  {
   "cell_type": "code",
   "execution_count": 8,
   "id": "a69aed9d-6d63-46ec-8bb6-05068bb90d55",
   "metadata": {},
   "outputs": [],
   "source": [
    "def pick_protein_context_id(assembly, assembly_df, ft_files, ft_dir):\n",
    "    assembly_ft_file = next(x for x in ft_files if assembly in x)\n",
    "    assembly_ft = pd.read_table(ft_dir + assembly_ft_file)\n",
    "    relevant_ft = (assembly_ft[assembly_ft['product_accession'].isin(assembly_df['protein_id'])]\n",
    "               .groupby('product_accession')\n",
    "               .sample(n=1, random_state=7))\n",
    "    relevant_ft['protein_context_id'] = (relevant_ft['product_accession'] + '|' +\n",
    "                                         relevant_ft['genomic_accession'] + '|' +\n",
    "                                         relevant_ft['start'].astype(str) + '|' +\n",
    "                                         relevant_ft['strand'])\n",
    "    out_ft = relevant_ft[['product_accession', 'protein_context_id']]\n",
    "    return out_ft"
   ]
  },
  {
   "cell_type": "code",
   "execution_count": 9,
   "id": "59dc347f-259d-499e-b20f-03eda9d3c363",
   "metadata": {},
   "outputs": [
    {
     "name": "stderr",
     "output_type": "stream",
     "text": [
      "100%|██████████| 17405/17405 [01:40<00:00, 172.87it/s]\n"
     ]
    }
   ],
   "source": [
    "split_protein_context_id_list = Parallel(n_jobs=48)(delayed(pick_protein_context_id)(assembly, assembly_df, ft_files, ft_dir) for assembly, assembly_df in \n",
    "                                                    tqdm(split_seqs.groupby('assembly'), total=split_seqs['assembly'].nunique()))"
   ]
  },
  {
   "cell_type": "code",
   "execution_count": 10,
   "id": "6c36e1ee-4901-469c-801d-1e43bb23bd97",
   "metadata": {},
   "outputs": [],
   "source": [
    "split_protein_context_df = pd.concat(split_protein_context_id_list)"
   ]
  },
  {
   "cell_type": "code",
   "execution_count": 11,
   "id": "af6a6d16-0e36-4e62-92d7-c0a990c7d317",
   "metadata": {},
   "outputs": [],
   "source": [
    "del split_protein_context_id_list"
   ]
  },
  {
   "cell_type": "code",
   "execution_count": 12,
   "id": "a5e5656b-9f55-43d9-996e-cc7692f287d4",
   "metadata": {
    "tags": []
   },
   "outputs": [],
   "source": [
    "merged_split_seqs = split_seqs.merge(split_protein_context_df.rename(columns={'product_accession': 'protein_id'}), how='inner', \n",
    "                                     on='protein_id')"
   ]
  },
  {
   "cell_type": "code",
   "execution_count": 13,
   "id": "31747455-691a-48b5-9772-fcb0b7b54996",
   "metadata": {},
   "outputs": [],
   "source": [
    "test_seqs = merged_split_seqs[merged_split_seqs['split'] == 'test']"
   ]
  },
  {
   "cell_type": "code",
   "execution_count": 14,
   "id": "1acd9240-e560-4ed9-9803-0036ebbde5e2",
   "metadata": {},
   "outputs": [
    {
     "data": {
      "text/plain": [
       "defense\n",
       "False    166243\n",
       "True      10128\n",
       "Name: count, dtype: int64"
      ]
     },
     "execution_count": 14,
     "metadata": {},
     "output_type": "execute_result"
    }
   ],
   "source": [
    "test_seqs['defense'].value_counts()"
   ]
  },
  {
   "cell_type": "code",
   "execution_count": 15,
   "id": "91529f48-9b64-4169-b722-b47c893f93b4",
   "metadata": {},
   "outputs": [],
   "source": [
    "test_y = test_seqs[['seq_id', 'defense']]"
   ]
  },
  {
   "cell_type": "code",
   "execution_count": 16,
   "id": "da62e607-b90b-4b2b-806e-0f47b4cf4cc1",
   "metadata": {},
   "outputs": [],
   "source": [
    "with open('../data/interim/test_seqs.faa', 'w') as f:\n",
    "    for _, row in test_seqs.iterrows():\n",
    "        print('>' + row['seq_id'], file=f)\n",
    "        print(row['seq'], file=f)"
   ]
  },
  {
   "cell_type": "markdown",
   "id": "315f470b-9548-46f4-827f-4cec3bc7598c",
   "metadata": {},
   "source": [
    "### Make summary of test sequence for interpretability"
   ]
  },
  {
   "cell_type": "code",
   "execution_count": 18,
   "id": "81b0321b-658b-4b95-8921-b6ff39690078",
   "metadata": {},
   "outputs": [
    {
     "name": "stdout",
     "output_type": "stream",
     "text": [
      "CPU times: user 42.3 s, sys: 9.63 s, total: 51.9 s\n",
      "Wall time: 46.7 s\n"
     ]
    }
   ],
   "source": [
    "%%time\n",
    "seq_id_names = pd.read_parquet('../data/interim/seq_id_names.pq')\n",
    "test_seq_names = seq_id_names[seq_id_names['seq_id'].isin(test_y['seq_id'])]\n",
    "del seq_id_names"
   ]
  },
  {
   "cell_type": "code",
   "execution_count": 19,
   "id": "dfd3044a-de2e-45d2-aaad-96001787b12f",
   "metadata": {},
   "outputs": [],
   "source": [
    "test_seq_accessions = test_seqs[['protein_id', 'seq_id']]"
   ]
  },
  {
   "cell_type": "code",
   "execution_count": 20,
   "id": "62f1ad7a-5484-423f-828d-ac6b67f0b672",
   "metadata": {},
   "outputs": [
    {
     "name": "stdout",
     "output_type": "stream",
     "text": [
      "CPU times: user 5.26 s, sys: 1.29 s, total: 6.55 s\n",
      "Wall time: 5.86 s\n"
     ]
    }
   ],
   "source": [
    "%%time\n",
    "seq_id_go = pd.read_parquet('../data/interim/seq_id_go_processes.pq')"
   ]
  },
  {
   "cell_type": "code",
   "execution_count": 21,
   "id": "313b6866-ce82-4c56-a103-b7b5cc3dbfd3",
   "metadata": {},
   "outputs": [],
   "source": [
    "filtered_seq_id_go = seq_id_go[seq_id_go['seq_id'].isin(test_y['seq_id'])]\n",
    "agg_seq_id_go = (filtered_seq_id_go.groupby('seq_id')\n",
    "                 .agg({'go_process': lambda x: ' | '.join(x)})\n",
    "                 .reset_index())"
   ]
  },
  {
   "cell_type": "code",
   "execution_count": 22,
   "id": "2a133a70-a7b8-45ef-b3f9-df815c85468b",
   "metadata": {},
   "outputs": [],
   "source": [
    "seq_id_cogs = pd.read_parquet('../data/interim/cog_filtered_seq_ids.pq')\n",
    "breif_seq_id_cogs = seq_id_cogs[['seq_id', 'name']].rename(columns={'name': 'cog_name'})"
   ]
  },
  {
   "cell_type": "code",
   "execution_count": 24,
   "id": "e9a6995d-8fbc-4374-ae69-a4c5864f7940",
   "metadata": {},
   "outputs": [],
   "source": [
    "test_seq_names_go = (test_seqs[['seq_id', 'protein_id', 'protein_context_id', 'gene_name']]\n",
    "                     .merge(test_seq_names, how='inner', \n",
    "                            on='seq_id')\n",
    "                     .merge(agg_seq_id_go, how='left', \n",
    "                                          on='seq_id')\n",
    "                     .merge(breif_seq_id_cogs, how='left', on='seq_id'))"
   ]
  },
  {
   "cell_type": "code",
   "execution_count": 25,
   "id": "9064c4e1-2af1-48c6-824b-c5f1a997b995",
   "metadata": {},
   "outputs": [
    {
     "data": {
      "text/plain": [
       "seq_id\n",
       "00000031de6e3b5adb7f0ecb501bce05d5aebd9f5c2d64450793600a    1\n",
       "f63e89707225e018917de6ed481b733441544ece8c365878532c3b3d    1\n",
       "79e60e2e29cdcf2fb1fb5a1059206c7dafaa7f6ad85389e8c0f9b690    1\n",
       "74eca015f055342d723fbf237cdaec88a72107fb52dfafa7e9ae5290    1\n",
       "74ec909c4e61fcba356811bf8538a016ac03defddf3f1c9733b55d9e    1\n",
       "                                                           ..\n",
       "2972aa3fb1bc10442dd07f5050fa83606a225f7d8f5a17f19244ae54    1\n",
       "a4b5599b00850fbbaec60596d696b20df66806c3f33aaa07224ac3af    1\n",
       "82582bc87d9389ba8ccf31d190003c01d486c9f20af1f3b086acc6c9    1\n",
       "29727fcbad31c2aa6a71cdab4b24e70217350c9fd64f1d8b3e11aa0c    1\n",
       "418966b67b02cb9cd6c4c94194c3e44ecb3751e1a3aba2f2d8e5c834    1\n",
       "Name: count, Length: 1997942, dtype: int64"
      ]
     },
     "execution_count": 25,
     "metadata": {},
     "output_type": "execute_result"
    }
   ],
   "source": [
    "merged_split_seqs['seq_id'].value_counts()"
   ]
  },
  {
   "cell_type": "code",
   "execution_count": 26,
   "id": "80d95c54-15ee-4a37-a92f-3b8fc31bc9c9",
   "metadata": {},
   "outputs": [],
   "source": [
    "test_seq_names_go.to_parquet('../data/interim/test_seq_names_processes.pq', index=False)\n",
    "test_y.to_csv('../data/interim/test_y.csv', index=False)\n",
    "merged_split_seqs.to_parquet('../data/interim/model_seqs.pq', index=False)"
   ]
  },
  {
   "cell_type": "code",
   "execution_count": null,
   "id": "f2227e66-159a-4060-8a94-b16525c6fda4",
   "metadata": {},
   "outputs": [],
   "source": []
  }
 ],
 "metadata": {
  "kernelspec": {
   "display_name": "beaker",
   "language": "python",
   "name": "beaker"
  },
  "language_info": {
   "codemirror_mode": {
    "name": "ipython",
    "version": 3
   },
   "file_extension": ".py",
   "mimetype": "text/x-python",
   "name": "python",
   "nbconvert_exporter": "python",
   "pygments_lexer": "ipython3",
   "version": "3.8.16"
  }
 },
 "nbformat": 4,
 "nbformat_minor": 5
}
