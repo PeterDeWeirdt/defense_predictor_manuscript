{
 "cells": [
  {
   "cell_type": "code",
   "execution_count": 26,
   "id": "ab2d0dd1-a524-4a1e-a482-853980f2cfd6",
   "metadata": {},
   "outputs": [],
   "source": [
    "from core import read_mmseqs_results\n",
    "import pandas as pd\n",
    "import os"
   ]
  },
  {
   "cell_type": "code",
   "execution_count": 4,
   "id": "96c59f1b-51d7-4194-8222-fb29dff1c238",
   "metadata": {},
   "outputs": [],
   "source": [
    "seq_id_names = pd.read_parquet('../data/interim/seq_id_names.pq')\n",
    "go_df = pd.read_parquet('../data/interim/seq_id_go_processes.pq')\n"
   ]
  },
  {
   "cell_type": "code",
   "execution_count": null,
   "id": "fc1b8893-165e-4e73-b74a-0e91017980de",
   "metadata": {},
   "outputs": [],
   "source": [
    "conda_commands = ['conda run -n beaker mmseqs']"
   ]
  },
  {
   "cell_type": "code",
   "execution_count": 14,
   "id": "d3375912-3574-4148-9bad-a9fc010c022a",
   "metadata": {},
   "outputs": [],
   "source": [
    "query_fa = '../data/interim/secreted_proteins.faa'"
   ]
  },
  {
   "cell_type": "code",
   "execution_count": null,
   "id": "e51f84a3-b8b3-4ac5-956e-d2eb9da2db11",
   "metadata": {},
   "outputs": [],
   "source": [
    "if 'secreted_proteins.faa' not in os.listdir('../data/interim/'):\n",
    "    os.system('cat secreted_proteins/*.fasta > ' + query_fa)"
   ]
  },
  {
   "cell_type": "code",
   "execution_count": null,
   "id": "e3f49763-37b2-40c2-abb8-d9fa30c2fab6",
   "metadata": {},
   "outputs": [],
   "source": [
    "working_dir = '../data/interim/mmseqs_working_dir'"
   ]
  },
  {
   "cell_type": "code",
   "execution_count": null,
   "id": "eb1f6df5-fe6b-49e5-b973-8be0484c3a31",
   "metadata": {},
   "outputs": [],
   "source": [
    "query_db = working_dir + 'secreted_proteins_db'"
   ]
  },
  {
   "cell_type": "code",
   "execution_count": null,
   "id": "97110bdc-fd31-40ac-bad4-8bcde094df9c",
   "metadata": {},
   "outputs": [],
   "source": [
    "os.sytem(' '.join(conda_commands +\n",
    "                  ['create_db', \n",
    "                   query_fa, \n",
    "                   query_db, \n",
    "                   '--dbtype 1']))"
   ]
  },
  {
   "cell_type": "code",
   "execution_count": null,
   "id": "1d7d9d23-8178-4b99-84c3-6f5203e1b7e0",
   "metadata": {},
   "outputs": [],
   "source": [
    "target_db = working_dir + 'unique_seqs_db'\n",
    "out_db = working_dir + 'secreted_proteins_refseq_search'"
   ]
  },
  {
   "cell_type": "code",
   "execution_count": null,
   "id": "f28397e9-7927-487a-8b00-b079770079b5",
   "metadata": {},
   "outputs": [],
   "source": [
    "os.system(' '.join(conda_commands +\n",
    "                   ['search', query_db, target_db, \n",
    "                    out_db, '../data/tmp',\n",
    "                    '--threads 48',\n",
    "                    '-c 0.8', '--min-seq-id 0.3', \n",
    "                    '-a']))"
   ]
  },
  {
   "cell_type": "code",
   "execution_count": null,
   "id": "5286eb6e-533a-460b-bdc7-0cb2b210aee6",
   "metadata": {},
   "outputs": [],
   "source": [
    "target_out = '../data/interim/secreted_proteins_refseq_search.txt'"
   ]
  },
  {
   "cell_type": "code",
   "execution_count": null,
   "id": "f3fc91ec-8846-4ca9-bb03-6bec793e2b34",
   "metadata": {},
   "outputs": [],
   "source": [
    "os.system(' '.join(conda_commands +\n",
    "                   ['convertalis', query_db, \n",
    "                    target_db, out_db, target_out, \n",
    "                    '--threads 48', '--format-output query,target,fident,alnlen,mismatch,gapopen,qstart,qend,tstart,tend,evalue,bits,qcov,tcov\n",
    "                    ']))"
   ]
  },
  {
   "cell_type": "code",
   "execution_count": 2,
   "id": "6b7b0fe9-f66c-44b2-ba92-c55852b9042d",
   "metadata": {},
   "outputs": [],
   "source": [
    "secreted_protein_result = read_mmseqs_results('../data/interim/secreted_proteins_refseq_search.txt')"
   ]
  },
  {
   "cell_type": "code",
   "execution_count": 35,
   "id": "3b7b57a7-0946-461d-b815-0b5a746b5e42",
   "metadata": {},
   "outputs": [],
   "source": [
    "gold_standard_homologs = secreted_protein_result[(secreted_protein_result['fident'] > 0.9) &\n",
    "                                                 (secreted_protein_result['qcov'] > 0.9) & \n",
    "                                                 (secreted_protein_result['tcov'] > 0.9)]"
   ]
  },
  {
   "cell_type": "code",
   "execution_count": 41,
   "id": "f143c548-817e-4645-86ac-cae711f42520",
   "metadata": {},
   "outputs": [],
   "source": [
    "unique_homologs = gold_standard_homologs['target'].drop_duplicates()"
   ]
  },
  {
   "cell_type": "code",
   "execution_count": 42,
   "id": "71ee074b-c209-41fa-8b24-53f2be31b3eb",
   "metadata": {},
   "outputs": [
    {
     "data": {
      "text/plain": [
       "2692"
      ]
     },
     "execution_count": 42,
     "metadata": {},
     "output_type": "execute_result"
    }
   ],
   "source": [
    "len(unique_homologs)"
   ]
  },
  {
   "cell_type": "code",
   "execution_count": 37,
   "id": "208de230-dc6b-432b-a845-d886b58caa37",
   "metadata": {},
   "outputs": [],
   "source": [
    "secreted_protein_rows = seq_id_names['seq_id'].isin(unique_homologs)"
   ]
  },
  {
   "cell_type": "code",
   "execution_count": 38,
   "id": "efa0eb28-0b65-4f2d-9e0a-ed579a34d60e",
   "metadata": {},
   "outputs": [
    {
     "data": {
      "text/plain": [
       "name\n",
       "Hcp family type VI secretion system effector                        265\n",
       "hypothetical protein                                                254\n",
       "serralysin family metalloprotease                                   138\n",
       "type VI secretion system effector Hcp                                79\n",
       "type VI secretion system tube protein Hcp                            75\n",
       "IS481-like element IS481 family transposase                          64\n",
       "type VI secretion system tip protein VgrG                            57\n",
       "calcium-binding protein                                              39\n",
       "type I methionyl aminopeptidase                                      34\n",
       "type III effector                                                    29\n",
       "type VI secretion system effector Hcp1                               29\n",
       "M48 family metallopeptidase                                          26\n",
       "MaoC family dehydratase                                              25\n",
       "four-carbon acid sugar kinase family protein                         24\n",
       "type VI secretion system effector Hcp-2                              21\n",
       "type VI secretion system Vgr family protein                          19\n",
       "AvrE-family type 3 secretion system effector                         19\n",
       "lpg2370 family Dot/Icm T4SS effector                                 18\n",
       "type VI secretion system amidase effector protein Tae4               18\n",
       "family 16 glycosylhydrolase                                          18\n",
       "lipase                                                               16\n",
       "hemolysin                                                            16\n",
       "lipase family protein                                                15\n",
       "type III secretion system ATPase SctN                                15\n",
       "type VI secretion system tip protein TssI/VgrG                       14\n",
       "type III secretion system export apparatus subunit SctR              14\n",
       "HopJ type III effector protein                                       14\n",
       "M10 family metallopeptidase C-terminal domain-containing protein     13\n",
       "DUF1615 domain-containing protein                                    13\n",
       "BPSL0067 family protein                                              13\n",
       "cyclic nucleotide-binding domain-containing protein                  12\n",
       "glycosyl hydrolase family 28 protein                                 12\n",
       "gamma carbonic anhydrase family protein                              12\n",
       "E3 ubiquitin--protein ligase                                         12\n",
       "polyurethanase                                                       12\n",
       "phage tail protein                                                   11\n",
       "P-type DNA transfer ATPase VirB11                                    11\n",
       "type III secretion system effector avirulence protein AvrBs3         10\n",
       "glycosyl hydrolase family 28-related protein                         10\n",
       "polysaccharide lyase                                                 10\n",
       "superoxide dismutase                                                  9\n",
       "DUF2235 domain-containing protein                                     9\n",
       "DUF3274 domain-containing protein                                     9\n",
       "FliM/FliN family flagellar motor switch protein                       9\n",
       "DUF1521 domain-containing protein                                     9\n",
       "harpin HrpZ family protein                                            8\n",
       "DUF6531 domain-containing protein                                     8\n",
       "right-handed parallel beta-helix repeat-containing protein            8\n",
       "virA/G regulated protein                                              8\n",
       "triacylglycerol lipase                                                8\n",
       "Name: count, dtype: int64"
      ]
     },
     "execution_count": 38,
     "metadata": {},
     "output_type": "execute_result"
    }
   ],
   "source": [
    "seq_id_names.loc[secreted_protein_rows, 'name'].value_counts().head(50)"
   ]
  },
  {
   "cell_type": "code",
   "execution_count": 39,
   "id": "36feb208-972d-4486-aecf-a21bbb2796ca",
   "metadata": {},
   "outputs": [],
   "source": [
    "go_rows = go_df['seq_id'].isin(unique_homologs)"
   ]
  },
  {
   "cell_type": "code",
   "execution_count": 40,
   "id": "2e7fd6d5-65d5-4ff4-b89f-e65d889a3cd5",
   "metadata": {},
   "outputs": [
    {
     "data": {
      "text/plain": [
       "go_process\n",
       "proteolysis                                                                  143\n",
       "protein secretion by the type III secretion system                            77\n",
       "protein secretion by the type VI secretion system                             42\n",
       "carbohydrate metabolic process                                                30\n",
       "protein modification process                                                  26\n",
       "cellular protein modification process                                         11\n",
       "secretion by the type IV secretion system                                     11\n",
       "negative regulation of protein secretion                                       7\n",
       "organic phosphonate catabolic process                                          5\n",
       "nodulation                                                                     2\n",
       "organic substance metabolic process                                            2\n",
       "methionine biosynthetic process                                                2\n",
       "ribosome biogenesis                                                            1\n",
       "nucleotide catabolic process                                                   1\n",
       "transcription%2C DNA-templated                                                 1\n",
       "transsulfuration                                                               1\n",
       "protein phosphorylation                                                        1\n",
       "glutathione biosynthetic process                                               1\n",
       "regulation of transcription%2C DNA-templated                                   1\n",
       "protein ubiquitination                                                         1\n",
       "biological process involved in interspecies interaction between organisms      1\n",
       "phosphorelay signal transduction system                                        1\n",
       "protein dephosphorylation                                                      1\n",
       "lipid metabolic process                                                        1\n",
       "Name: count, dtype: int64"
      ]
     },
     "execution_count": 40,
     "metadata": {},
     "output_type": "execute_result"
    }
   ],
   "source": [
    "go_df.loc[go_df['seq_id'].isin(unique_homologs), 'go_process'].value_counts()"
   ]
  },
  {
   "cell_type": "code",
   "execution_count": 43,
   "id": "d7cdabb7-3c19-4f46-87ae-f230e64c2f05",
   "metadata": {},
   "outputs": [],
   "source": [
    "unique_homologs.to_csv('../data/interim/secreted_homologs.csv', index=False)"
   ]
  },
  {
   "cell_type": "code",
   "execution_count": null,
   "id": "b92e6474-2b56-4e90-a024-31a614fa7801",
   "metadata": {},
   "outputs": [],
   "source": []
  }
 ],
 "metadata": {
  "kernelspec": {
   "display_name": "beaker",
   "language": "python",
   "name": "beaker"
  },
  "language_info": {
   "codemirror_mode": {
    "name": "ipython",
    "version": 3
   },
   "file_extension": ".py",
   "mimetype": "text/x-python",
   "name": "python",
   "nbconvert_exporter": "python",
   "pygments_lexer": "ipython3",
   "version": "3.8.16"
  }
 },
 "nbformat": 4,
 "nbformat_minor": 5
}
