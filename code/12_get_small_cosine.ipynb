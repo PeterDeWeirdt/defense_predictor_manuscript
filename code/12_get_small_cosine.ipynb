{
 "cells": [
  {
   "cell_type": "code",
   "execution_count": 2,
   "id": "6c4cc7e5-e80f-4609-a230-d32144c0ec4b",
   "metadata": {},
   "outputs": [],
   "source": [
    "import pandas as pd\n",
    "import torch\n",
    "import numpy as np\n",
    "from tqdm import tqdm"
   ]
  },
  {
   "cell_type": "code",
   "execution_count": 3,
   "id": "a1609544-73e3-402e-bfb8-e5a6285dfd7c",
   "metadata": {},
   "outputs": [],
   "source": [
    "model_seq_info = pd.read_parquet('../data3/interim/model_seq_info.pq')\n",
    "embedding_df = pd.read_parquet('../data3/interim/model_neighbor_representations.pq')\n",
    "embedding_df = embedding_df.loc[embedding_df.index.isin(model_seq_info['seq_id']), :]"
   ]
  },
  {
   "cell_type": "code",
   "execution_count": 4,
   "id": "f2cc87c6-6f97-4a25-853a-d22a8cd0f5a6",
   "metadata": {},
   "outputs": [],
   "source": [
    "def sim_matrix(a, b, eps=1e-8):\n",
    "    \"\"\"\n",
    "    added eps for numerical stability\n",
    "    \"\"\"\n",
    "    a_n, b_n = a.norm(dim=1)[:, None], b.norm(dim=1)[:, None]\n",
    "    a_norm = a / torch.clamp(a_n, min=eps)\n",
    "    b_norm = b / torch.clamp(b_n, min=eps)\n",
    "    sim_mt = torch.mm(a_norm, b_norm.transpose(0, 1))\n",
    "    return sim_mt"
   ]
  },
  {
   "cell_type": "code",
   "execution_count": 5,
   "id": "35bc63b8-811b-4621-9730-ce6e57d11375",
   "metadata": {},
   "outputs": [],
   "source": [
    "chunk_size = 1_000"
   ]
  },
  {
   "cell_type": "code",
   "execution_count": 6,
   "id": "5496e4dd-996d-41cd-b978-ed3105e04f59",
   "metadata": {
    "tags": []
   },
   "outputs": [
    {
     "name": "stdout",
     "output_type": "stream",
     "text": [
      "0\n"
     ]
    },
    {
     "name": "stderr",
     "output_type": "stream",
     "text": [
      "100%|██████████| 157/157 [00:25<00:00,  6.27it/s]\n"
     ]
    },
    {
     "name": "stdout",
     "output_type": "stream",
     "text": [
      "1\n"
     ]
    },
    {
     "name": "stderr",
     "output_type": "stream",
     "text": [
      "100%|██████████| 155/155 [00:25<00:00,  5.99it/s]\n"
     ]
    },
    {
     "name": "stdout",
     "output_type": "stream",
     "text": [
      "2\n"
     ]
    },
    {
     "name": "stderr",
     "output_type": "stream",
     "text": [
      "100%|██████████| 164/164 [00:21<00:00,  7.46it/s]\n"
     ]
    },
    {
     "name": "stdout",
     "output_type": "stream",
     "text": [
      "3\n"
     ]
    },
    {
     "name": "stderr",
     "output_type": "stream",
     "text": [
      "100%|██████████| 162/162 [00:23<00:00,  6.96it/s]\n"
     ]
    },
    {
     "name": "stdout",
     "output_type": "stream",
     "text": [
      "4\n"
     ]
    },
    {
     "name": "stderr",
     "output_type": "stream",
     "text": [
      "100%|██████████| 167/167 [00:21<00:00,  7.72it/s]\n"
     ]
    }
   ],
   "source": [
    "fold_out_list = list()\n",
    "for fold, fold_df in model_seq_info.groupby('test_fold'):\n",
    "    print(fold)\n",
    "    train_embeddings = embedding_df.loc[~embedding_df.index\n",
    "                                        .isin(fold_df['seq_id']), :]\n",
    "    train_seq_ids = train_embeddings.index\n",
    "    train_embeddings = train_embeddings.to_numpy()\n",
    "    test_embeddings = embedding_df.loc[embedding_df.index\n",
    "                                       .isin(fold_df['seq_id']), :]\n",
    "    test_seq_ids = test_embeddings.index\n",
    "    test_embeddings = test_embeddings.to_numpy()\n",
    "    B = torch.from_numpy(test_embeddings).to('cuda')\n",
    "    sim_mat = np.empty((len(train_embeddings),len(test_embeddings)))\n",
    "    i = 0\n",
    "    for _ in tqdm(range(int(np.ceil(len(train_embeddings)/chunk_size))), position=0):\n",
    "        end = min(i+chunk_size, len(train_embeddings))\n",
    "        A = torch.from_numpy(train_embeddings[i:end,:]).to('cuda')\n",
    "        similarity_matrix = sim_matrix(A, B)\n",
    "        numpy_sim_mat = similarity_matrix.data.cpu().numpy()\n",
    "        sim_mat[i:end, :] = numpy_sim_mat\n",
    "        i += chunk_size\n",
    "    max_cosine = sim_mat.max(axis=0)\n",
    "    max_idx = sim_mat.argmax(axis=0)\n",
    "    max_id = train_seq_ids[max_idx]\n",
    "    fold_out = pd.DataFrame({'cosine_similarity': max_cosine,\n",
    "                            'nearest_neighbor': max_id},\n",
    "                            index=test_seq_ids)\n",
    "    fold_out_list.append(fold_out)"
   ]
  },
  {
   "cell_type": "code",
   "execution_count": 7,
   "id": "5ea79023-fdbc-4993-8a8e-945b253a2880",
   "metadata": {},
   "outputs": [],
   "source": [
    "cosine_similarity_df = pd.concat(fold_out_list)"
   ]
  },
  {
   "cell_type": "code",
   "execution_count": 8,
   "id": "6f6569db-0639-4627-a54c-801141fe6f3f",
   "metadata": {},
   "outputs": [],
   "source": [
    "out_df = (cosine_similarity_df.reset_index()\n",
    "          .rename(columns={'index':'seq_id'})\n",
    "          .merge(model_seq_info\n",
    "                 .rename(columns={'seq_id': 'nearest_neighbor'}), \n",
    "                 how='inner', on='nearest_neighbor'))\n",
    "out_df['direction'] = out_df['defensive']*2 - 1\n",
    "out_df['prediction'] = out_df['direction']*out_df['cosine_similarity']\n",
    "out_df = out_df[['seq_id', 'prediction']]\n",
    "out_df['method'] = 'ESM2 150M nearest neighbor'"
   ]
  },
  {
   "cell_type": "code",
   "execution_count": 9,
   "id": "d10339ba-3f6d-46ca-abb9-413c1d86d493",
   "metadata": {},
   "outputs": [],
   "source": [
    "out_df.to_parquet('../data3/interim/cv_predictions_esm2_150M.pq', index=False)"
   ]
  },
  {
   "cell_type": "code",
   "execution_count": null,
   "id": "fa1d84d2-5890-4bae-bf84-2d73090a9293",
   "metadata": {},
   "outputs": [],
   "source": []
  }
 ],
 "metadata": {
  "kernelspec": {
   "display_name": "beaker",
   "language": "python",
   "name": "beaker"
  },
  "language_info": {
   "codemirror_mode": {
    "name": "ipython",
    "version": 3
   },
   "file_extension": ".py",
   "mimetype": "text/x-python",
   "name": "python",
   "nbconvert_exporter": "python",
   "pygments_lexer": "ipython3",
   "version": "3.8.16"
  }
 },
 "nbformat": 4,
 "nbformat_minor": 5
}
