{
 "cells": [
  {
   "cell_type": "code",
   "execution_count": 2,
   "id": "4df931dd-c838-45c9-b684-930b2eae6e47",
   "metadata": {},
   "outputs": [],
   "source": [
    "import seaborn as sns\n",
    "import pandas as pd\n",
    "import matplotlib.pyplot as plt\n",
    "import matplotlib.patches as patches\n",
    "from matplotlib.patches import FancyArrowPatch\n",
    "from mpl_toolkits.axes_grid1 import make_axes_locatable\n",
    "import os"
   ]
  },
  {
   "cell_type": "code",
   "execution_count": 3,
   "id": "06a759d9-2a44-41a5-9418-b152c641d8ef",
   "metadata": {},
   "outputs": [],
   "source": [
    "plt.rcParams['svg.fonttype'] = 'none'\n",
    "plt.rcParams['font.size'] = 7"
   ]
  },
  {
   "cell_type": "code",
   "execution_count": 4,
   "id": "04a4078b-2f31-47a1-be42-44f2ecf9b399",
   "metadata": {},
   "outputs": [],
   "source": [
    "systems_df = pd.read_csv('../data3/raw/Novel Refseq1k domains - hit_proteins.csv')\n",
    "domains_df = pd.read_csv('../data3/raw/Novel Refseq1k domains - hhpred_domains.csv')\n",
    "tm_df = pd.read_csv('../data3/raw/Novel Refseq1k domains - tm.csv')\n",
    "tm_df['Domain Name'] = 'TM'"
   ]
  },
  {
   "cell_type": "code",
   "execution_count": 5,
   "id": "80d3543b-200a-4f57-9518-50ad67905ed7",
   "metadata": {},
   "outputs": [],
   "source": [
    "predictions = pd.read_parquet('../data3/processed/refseq_1k_predictions.pq')\n"
   ]
  },
  {
   "cell_type": "code",
   "execution_count": 6,
   "id": "5a58886a-31e3-482a-bf97-ab7630f3700c",
   "metadata": {},
   "outputs": [],
   "source": [
    "merged_systems_df = (systems_df.merge(predictions[['genomic_accession', 'start', 'product_accession',\n",
    "                                                   'mean_log_odds']], \n",
    "                                      how='inner', \n",
    "                                      on=['genomic_accession', 'start', 'product_accession']))"
   ]
  },
  {
   "cell_type": "code",
   "execution_count": 7,
   "id": "c5ceefc1-07f4-4546-8fa2-ca59f13075ed",
   "metadata": {},
   "outputs": [
    {
     "data": {
      "text/html": [
       "<div>\n",
       "<style scoped>\n",
       "    .dataframe tbody tr th:only-of-type {\n",
       "        vertical-align: middle;\n",
       "    }\n",
       "\n",
       "    .dataframe tbody tr th {\n",
       "        vertical-align: top;\n",
       "    }\n",
       "\n",
       "    .dataframe thead th {\n",
       "        text-align: right;\n",
       "    }\n",
       "</style>\n",
       "<table border=\"1\" class=\"dataframe\">\n",
       "  <thead>\n",
       "    <tr style=\"text-align: right;\">\n",
       "      <th></th>\n",
       "      <th>mean_log_odds</th>\n",
       "    </tr>\n",
       "    <tr>\n",
       "      <th>working_id</th>\n",
       "      <th></th>\n",
       "    </tr>\n",
       "  </thead>\n",
       "  <tbody>\n",
       "    <tr>\n",
       "      <th>AGPT</th>\n",
       "      <td>6.826537</td>\n",
       "    </tr>\n",
       "    <tr>\n",
       "      <th>DUTP</th>\n",
       "      <td>7.006573</td>\n",
       "    </tr>\n",
       "    <tr>\n",
       "      <th>GLYO</th>\n",
       "      <td>5.513262</td>\n",
       "    </tr>\n",
       "    <tr>\n",
       "      <th>HARP</th>\n",
       "      <td>7.743716</td>\n",
       "    </tr>\n",
       "    <tr>\n",
       "      <th>M15P</th>\n",
       "      <td>7.760609</td>\n",
       "    </tr>\n",
       "    <tr>\n",
       "      <th>MZG1</th>\n",
       "      <td>8.034708</td>\n",
       "    </tr>\n",
       "    <tr>\n",
       "      <th>NMAD</th>\n",
       "      <td>9.029726</td>\n",
       "    </tr>\n",
       "    <tr>\n",
       "      <th>PUP2</th>\n",
       "      <td>6.422058</td>\n",
       "    </tr>\n",
       "  </tbody>\n",
       "</table>\n",
       "</div>"
      ],
      "text/plain": [
       "            mean_log_odds\n",
       "working_id               \n",
       "AGPT             6.826537\n",
       "DUTP             7.006573\n",
       "GLYO             5.513262\n",
       "HARP             7.743716\n",
       "M15P             7.760609\n",
       "MZG1             8.034708\n",
       "NMAD             9.029726\n",
       "PUP2             6.422058"
      ]
     },
     "execution_count": 7,
     "metadata": {},
     "output_type": "execute_result"
    }
   ],
   "source": [
    "(merged_systems_df.groupby('working_id')\n",
    " .agg({'mean_log_odds': 'max'}))"
   ]
  },
  {
   "cell_type": "code",
   "execution_count": 8,
   "id": "0e1a58eb-c3d3-44c5-a5d5-eca4e434251b",
   "metadata": {},
   "outputs": [],
   "source": [
    "cat_domains = pd.concat([domains_df, \n",
    "                         tm_df])"
   ]
  },
  {
   "cell_type": "markdown",
   "id": "6eae8924-ffe9-4224-8ab9-b22f1827d445",
   "metadata": {},
   "source": [
    "## Plot systems"
   ]
  },
  {
   "cell_type": "code",
   "execution_count": 9,
   "id": "114c05d8-46a2-46a4-b35a-ed974985d885",
   "metadata": {},
   "outputs": [],
   "source": [
    "sys_height = 0.25"
   ]
  },
  {
   "cell_type": "code",
   "execution_count": 10,
   "id": "0b22e5b2-81af-4013-a2e0-8b396cdafefd",
   "metadata": {},
   "outputs": [],
   "source": [
    "def plot_system(system_df, cat_domains, show_scale=True, show_prob_cmap=False, \n",
    "                hhpred_cmap=None, sys_height=sys_height, clip_on=False):\n",
    "    sys_height += -0.05\n",
    "    if hhpred_cmap is None:\n",
    "        hhpred_cmap = sns.color_palette(\"light:#E8020B\", as_cmap=True)\n",
    "    total_length = system_df['product_length'].sum() + 3*len(system_df)\n",
    "    fig, ax = plt.subplots(figsize=(3.9, sys_height))\n",
    "    ax.set_clip_on(clip_on)\n",
    "    x_offset = 0\n",
    "    if system_df['strand'].to_list()[0] == '-':\n",
    "        system_df = system_df.sort_values('start', ascending=False).reset_index(drop=True)\n",
    "    else:\n",
    "        system_df = system_df.sort_values('start', ascending=True).reset_index(drop=True)\n",
    "    for _, protein_series in system_df.iterrows():\n",
    "        product_accession = protein_series['product_accession']\n",
    "        protein_length = protein_series['product_length']\n",
    "        protein_edgecolor = 'black'\n",
    "        # plot individual domains\n",
    "        domain_df = cat_domains[cat_domains['product_accession'] == product_accession]\n",
    "        for _, domain_series in domain_df.iterrows():\n",
    "            textcolor='black'\n",
    "            start = domain_series['start']\n",
    "            end = domain_series['end']\n",
    "            label = domain_series['Domain Name']\n",
    "            probability = domain_series['Domain Prob']\n",
    "            if not pd.isnull(probability):\n",
    "                color = hhpred_cmap(probability)                   \n",
    "            else:\n",
    "                color = 'darkgrey'\n",
    "            domain_rect = patches.Rectangle((x_offset + start, -3), end - start, 6, facecolor=color, linewidth=0, clip_on=clip_on)\n",
    "            ax.add_patch(domain_rect)\n",
    "            ax.text(x_offset + ((start + end) / 2), -0.3, label, ha='center', va='center', fontdict={'color': textcolor})\n",
    "        arrow_width = 6\n",
    "        protein_arrow = patches.FancyArrow(x_offset, 0, protein_length, 0, \n",
    "                                           width=arrow_width, facecolor='none', edgecolor=protein_edgecolor, linewidth=1, \n",
    "                                           length_includes_head=True, head_width=arrow_width, head_length=0.05*total_length, \n",
    "                                           clip_on=clip_on)\n",
    "        ax.add_patch(protein_arrow)\n",
    "        x_offset += protein_length + 3\n",
    "    ax.axis('off')\n",
    "    if show_scale: \n",
    "        ax.hlines(-4, 0, 100, linewidth=1, color='black', zorder=0, clip_on=clip_on)\n",
    "    if show_prob_cmap:\n",
    "        # Add a colorbar legend\n",
    "        divider = make_axes_locatable(ax)\n",
    "        cax = divider.append_axes(\"bottom\", size=\"150%\", )\n",
    "        norm = plt.Normalize(0, 1)\n",
    "        cb = plt.colorbar(plt.cm.ScalarMappable(norm=norm, cmap=hhpred_cmap), cax=cax, orientation='horizontal', \n",
    "                          fraction=0.046, pad=0.04)\n",
    "        cb.set_label(\"HHPred Probability\")"
   ]
  },
  {
   "cell_type": "code",
   "execution_count": 11,
   "id": "93630caa-813f-4cf2-9ede-67d26c2ae7e4",
   "metadata": {},
   "outputs": [
    {
     "data": {
      "image/png": "[encoded data removed]",
      "text/plain": [
       "<Figure size 390x20 with 1 Axes>"
      ]
     },
     "metadata": {},
     "output_type": "display_data"
    },
    {
     "data": {
      "image/png": "[encoded data removed]",
      "text/plain": [
       "<Figure size 390x20 with 1 Axes>"
      ]
     },
     "metadata": {},
     "output_type": "display_data"
    },
    {
     "data": {
      "image/png": "[encoded data removed]",
      "text/plain": [
       "<Figure size 390x20 with 1 Axes>"
      ]
     },
     "metadata": {},
     "output_type": "display_data"
    },
    {
     "data": {
      "image/png": "[encoded data removed]",
      "text/plain": [
       "<Figure size 390x20 with 1 Axes>"
      ]
     },
     "metadata": {},
     "output_type": "display_data"
    },
    {
     "data": {
      "image/png": "[encoded data removed]",
      "text/plain": [
       "<Figure size 390x20 with 1 Axes>"
      ]
     },
     "metadata": {},
     "output_type": "display_data"
    },
    {
     "data": {
      "image/png": "[encoded data removed]",
      "text/plain": [
       "<Figure size 390x20 with 1 Axes>"
      ]
     },
     "metadata": {},
     "output_type": "display_data"
    },
    {
     "data": {
      "image/png": "[encoded data removed]",
      "text/plain": [
       "<Figure size 390x20 with 1 Axes>"
      ]
     },
     "metadata": {},
     "output_type": "display_data"
    },
    {
     "data": {
      "image/png": "[encoded data removed]",
      "text/plain": [
       "<Figure size 390x20 with 1 Axes>"
      ]
     },
     "metadata": {},
     "output_type": "display_data"
    }
   ],
   "source": [
    "domain_figure_dir = '../figures/'\n",
    "for system, system_df in (systems_df\n",
    "                          .sort_values(['working_id', \n",
    "                                        'protein_num'])\n",
    "                          .groupby('working_id')):\n",
    "    plot_system(system_df, domains_df)\n",
    "    plt.savefig(domain_figure_dir + 'hit_system_' + system + '.svg', dpi=300, bbox_inches='tight')"
   ]
  },
  {
   "cell_type": "code",
   "execution_count": 9,
   "id": "4322c912-d2d9-4603-8a57-3ddc0b09dded",
   "metadata": {},
   "outputs": [
    {
     "data": {
      "image/png": "[encoded data removed]",
      "text/plain": [
       "<Figure size 390x20 with 2 Axes>"
      ]
     },
     "metadata": {},
     "output_type": "display_data"
    }
   ],
   "source": [
    "plot_system(system_df, domains_df, show_prob_cmap=True)\n",
    "plt.savefig(domain_figure_dir + 'hit_system_cmap' + '.svg', dpi=300, bbox_inches='tight')"
   ]
  },
  {
   "cell_type": "code",
   "execution_count": null,
   "id": "8fb403b3-cf59-4bd2-b614-5950239705e6",
   "metadata": {},
   "outputs": [],
   "source": []
  }
 ],
 "metadata": {
  "kernelspec": {
   "display_name": "beaker",
   "language": "python",
   "name": "beaker"
  },
  "language_info": {
   "codemirror_mode": {
    "name": "ipython",
    "version": 3
   },
   "file_extension": ".py",
   "mimetype": "text/x-python",
   "name": "python",
   "nbconvert_exporter": "python",
   "pygments_lexer": "ipython3",
   "version": "3.8.16"
  }
 },
 "nbformat": 4,
 "nbformat_minor": 5
}
