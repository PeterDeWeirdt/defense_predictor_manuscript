{
 "cells": [
  {
   "cell_type": "code",
   "execution_count": 1,
   "id": "b6cafb88-01a1-441b-8a65-e2313250c776",
   "metadata": {},
   "outputs": [],
   "source": [
    "import pandas as pd\n",
    "import os\n",
    "import numpy as np\n",
    "from tqdm import tqdm"
   ]
  },
  {
   "cell_type": "code",
   "execution_count": 2,
   "id": "64125265-469e-4b07-9092-3ada9e7173b3",
   "metadata": {},
   "outputs": [],
   "source": [
    "def chunks(lst, n):\n",
    "    \"\"\"Yield successive n-sized chunks from lst.\"\"\"\n",
    "    for i in range(0, len(lst), n):\n",
    "        yield lst[i:i + n]"
   ]
  },
  {
   "cell_type": "code",
   "execution_count": 3,
   "id": "a3626970-cce8-4f6e-891e-40715c5f2b1f",
   "metadata": {},
   "outputs": [],
   "source": [
    "model_protein_neighbors = pd.read_parquet('../data/interim/model_protein_neighbors_seq_ids.pq')"
   ]
  },
  {
   "cell_type": "code",
   "execution_count": 4,
   "id": "1eab273e-921a-4fee-966d-1624a05fc42f",
   "metadata": {},
   "outputs": [],
   "source": [
    "center_protein_info = pd.read_parquet('../data/interim/filtered_model_seqs.pq')"
   ]
  },
  {
   "cell_type": "code",
   "execution_count": 4,
   "id": "c1f6f58b-88a4-4458-8690-e58a9a9a7826",
   "metadata": {},
   "outputs": [
    {
     "data": {
      "text/plain": [
       "0"
      ]
     },
     "execution_count": 4,
     "metadata": {},
     "output_type": "execute_result"
    }
   ],
   "source": [
    "os.system('cat ../data/interim/representations/*.csv > ../data/interim/model_representations.csv')"
   ]
  },
  {
   "cell_type": "code",
   "execution_count": 6,
   "id": "c9bb7319-4412-4080-87dd-6d4f8fe971a3",
   "metadata": {},
   "outputs": [
    {
     "data": {
      "text/plain": [
       "0"
      ]
     },
     "execution_count": 6,
     "metadata": {},
     "output_type": "execute_result"
    }
   ],
   "source": [
    "os.system('rm -r ../data/interim/representations/')"
   ]
  },
  {
   "cell_type": "code",
   "execution_count": 5,
   "id": "d983b361-31fb-4cb2-970b-c2a662168a8f",
   "metadata": {},
   "outputs": [],
   "source": [
    "n_feats = 640\n",
    "feat_names = ['ft' + str(i+1) for i in range(n_feats)]"
   ]
  },
  {
   "cell_type": "code",
   "execution_count": 6,
   "id": "bedbaccb-4926-4255-8507-378803be8a6c",
   "metadata": {},
   "outputs": [
    {
     "name": "stdout",
     "output_type": "stream",
     "text": [
      "CPU times: user 10min 22s, sys: 54.6 s, total: 11min 17s\n",
      "Wall time: 11min 18s\n"
     ]
    }
   ],
   "source": [
    "%%time\n",
    "model_representations = pd.read_csv('../data/interim/model_representations.csv', \n",
    "                                    index_col=0, names=feat_names)"
   ]
  },
  {
   "cell_type": "code",
   "execution_count": 10,
   "id": "ca00902e-3bdb-4fcf-87dd-155020995939",
   "metadata": {},
   "outputs": [],
   "source": [
    "def get_split_representations(center_protein_info, split, \n",
    "                              model_protein_neighbors, feat_names):\n",
    "    split_y = (center_protein_info.loc[center_protein_info['split'] == split, \n",
    "                                       ['seq_id', 'defense']]\n",
    "               .set_index('seq_id'))\n",
    "    split_protein_neighbors = (model_protein_neighbors[model_protein_neighbors['center_seq_id']\n",
    "                                                       .isin(split_y.index)]\n",
    "                               .set_index('seq_id'))\n",
    "    split_representations = model_representations.loc[split_protein_neighbors.index, :]\n",
    "    cat_split_representations = pd.concat([split_protein_neighbors, split_representations], \n",
    "                                          axis=1)\n",
    "    print('pivoting features')\n",
    "    split_X = cat_split_representations.pivot(values=feat_names,index='center_seq_id', columns='relative_position')\n",
    "    split_X = split_X.fillna(0)\n",
    "    split_X = split_X.loc[split_y.index, :]\n",
    "    split_X.columns = [x[0] + '_' + str(x[1]) for x in split_X.columns]\n",
    "    assert (split_X.index == split_y.index).sum()/len(split_X)\n",
    "    return split_X, split_y\n",
    "    "
   ]
  },
  {
   "cell_type": "code",
   "execution_count": 11,
   "id": "ef0ef395-df1d-402b-802e-5d04c7fc4599",
   "metadata": {},
   "outputs": [
    {
     "name": "stdout",
     "output_type": "stream",
     "text": [
      "pivoting features\n",
      "CPU times: user 17 s, sys: 4.68 s, total: 21.7 s\n",
      "Wall time: 24.7 s\n"
     ]
    }
   ],
   "source": [
    "%%time \n",
    "val_X, val_y = get_split_representations(center_protein_info, \n",
    "                                         'val', model_protein_neighbors,\n",
    "feat_names)"
   ]
  },
  {
   "cell_type": "code",
   "execution_count": 12,
   "id": "68f01006-3fe2-45a7-b9be-0b9bc1b75270",
   "metadata": {},
   "outputs": [
    {
     "name": "stdout",
     "output_type": "stream",
     "text": [
      "pivoting features\n",
      "CPU times: user 25.6 s, sys: 15.3 s, total: 40.9 s\n",
      "Wall time: 41.2 s\n"
     ]
    }
   ],
   "source": [
    "%%time \n",
    "test_X, test_y = get_split_representations(center_protein_info, \n",
    "                                         'test', model_protein_neighbors,\n",
    "feat_names)"
   ]
  },
  {
   "cell_type": "markdown",
   "id": "f8b2216f-132d-4678-b7e7-6a79320250b7",
   "metadata": {},
   "source": [
    "## Outputs"
   ]
  },
  {
   "cell_type": "code",
   "execution_count": 13,
   "id": "3cf8f40c-ad36-4777-a45a-e5e978ac682d",
   "metadata": {},
   "outputs": [],
   "source": [
    "val_X.to_parquet('../data/interim/val_X_reps.pq')\n",
    "val_y.to_parquet('../data/interim/val_y.pq')\n",
    "test_X.to_parquet('../data/interim/test_X_reps.pq')\n",
    "test_y.to_parquet('../data/interim/test_y_indexed.pq')"
   ]
  },
  {
   "cell_type": "code",
   "execution_count": 14,
   "id": "ebe4050a-0b08-4875-878e-1af063b1bc25",
   "metadata": {},
   "outputs": [
    {
     "data": {
      "text/plain": [
       "Index(['ft1_-2', 'ft1_-1', 'ft1_0', 'ft1_1', 'ft1_2', 'ft2_-2', 'ft2_-1',\n",
       "       'ft2_0', 'ft2_1', 'ft2_2',\n",
       "       ...\n",
       "       'ft639_-2', 'ft639_-1', 'ft639_0', 'ft639_1', 'ft639_2', 'ft640_-2',\n",
       "       'ft640_-1', 'ft640_0', 'ft640_1', 'ft640_2'],\n",
       "      dtype='object', length=3200)"
      ]
     },
     "execution_count": 14,
     "metadata": {},
     "output_type": "execute_result"
    }
   ],
   "source": [
    "val_X.columns"
   ]
  },
  {
   "cell_type": "code",
   "execution_count": 15,
   "id": "d047e7be-40ed-4054-a763-6d551b980b71",
   "metadata": {},
   "outputs": [
    {
     "data": {
      "text/plain": [
       "Index(['ft1_-2', 'ft1_-1', 'ft1_0', 'ft1_1', 'ft1_2', 'ft2_-2', 'ft2_-1',\n",
       "       'ft2_0', 'ft2_1', 'ft2_2',\n",
       "       ...\n",
       "       'ft639_-2', 'ft639_-1', 'ft639_0', 'ft639_1', 'ft639_2', 'ft640_-2',\n",
       "       'ft640_-1', 'ft640_0', 'ft640_1', 'ft640_2'],\n",
       "      dtype='object', length=3200)"
      ]
     },
     "execution_count": 15,
     "metadata": {},
     "output_type": "execute_result"
    }
   ],
   "source": [
    "test_X.columns"
   ]
  },
  {
   "cell_type": "markdown",
   "id": "dc450efb-42c1-40cd-8f01-c87345740ef4",
   "metadata": {},
   "source": [
    "## Get training representations with less memory"
   ]
  },
  {
   "cell_type": "code",
   "execution_count": 16,
   "id": "f43007bc-c71a-47df-8eac-2eb6cd9a990b",
   "metadata": {},
   "outputs": [],
   "source": [
    "del val_X, val_y, test_X, test_y"
   ]
  },
  {
   "cell_type": "code",
   "execution_count": null,
   "id": "ef1d1425-2591-4e40-910a-331d18538f6c",
   "metadata": {},
   "outputs": [],
   "source": [
    "split = 'train'"
   ]
  },
  {
   "cell_type": "code",
   "execution_count": null,
   "id": "997eb02b-93f3-4041-b9d4-c075be622f1f",
   "metadata": {},
   "outputs": [
    {
     "name": "stdout",
     "output_type": "stream",
     "text": [
      "pivoting features\n"
     ]
    }
   ],
   "source": [
    "split_y = (center_protein_info.loc[center_protein_info['split'] == split, \n",
    "                                   ['seq_id', 'defense']]\n",
    "           .set_index('seq_id'))\n",
    "split_protein_neighbors = (model_protein_neighbors[model_protein_neighbors['center_seq_id']\n",
    "                                                   .isin(split_y.index)]\n",
    "                           .set_index('seq_id'))\n",
    "split_representations = model_representations.loc[split_protein_neighbors.index, :]\n",
    "cat_split_representations = pd.concat([split_protein_neighbors, split_representations], \n",
    "                                      axis=1)\n",
    "print('pivoting features')\n"
   ]
  },
  {
   "cell_type": "code",
   "execution_count": null,
   "id": "ce07d3de-59f1-49cd-9587-871e75478fd6",
   "metadata": {},
   "outputs": [],
   "source": [
    "del model_protein_neighbors, center_protein_info, model_representations"
   ]
  },
  {
   "cell_type": "code",
   "execution_count": null,
   "id": "2f0adc30-be3b-4a42-aa8a-9d95cb89cefb",
   "metadata": {
    "tags": []
   },
   "outputs": [
    {
     "name": "stdout",
     "output_type": "stream",
     "text": [
      "18.0\n"
     ]
    }
   ],
   "source": [
    "unique_center_ids = cat_split_representations['center_seq_id'].unique()\n",
    "chunk_size = 100_000\n",
    "n_chunks = np.ceil(len(unique_center_ids)/chunk_size)\n",
    "center_chunks = chunks(unique_center_ids, chunk_size)\n",
    "print(n_chunks)"
   ]
  },
  {
   "cell_type": "code",
   "execution_count": null,
   "id": "9bd18f8b-e7bc-4043-babe-5772bc17b903",
   "metadata": {
    "tags": []
   },
   "outputs": [
    {
     "name": "stderr",
     "output_type": "stream",
     "text": [
      "100%|██████████| 18/18.0 [02:42<00:00,  9.01s/it]\n"
     ]
    }
   ],
   "source": [
    "split_X_list = []\n",
    "for center_chunk in tqdm(center_chunks, total=n_chunks):\n",
    "    current_representations = cat_split_representations[cat_split_representations['center_seq_id']\n",
    "                                                        .isin(center_chunk)]\n",
    "    current_X = current_representations.pivot(values=feat_names,index='center_seq_id', columns='relative_position')\n",
    "    split_X_list.append(current_X)"
   ]
  },
  {
   "cell_type": "code",
   "execution_count": null,
   "id": "46dabc4a-c560-4b75-a2e0-36cf5a0e744f",
   "metadata": {},
   "outputs": [],
   "source": [
    "del cat_split_representations, split_representations"
   ]
  },
  {
   "cell_type": "code",
   "execution_count": null,
   "id": "a0809915-adc5-43bc-96e0-c352fab689b4",
   "metadata": {
    "tags": []
   },
   "outputs": [],
   "source": [
    "split_X = pd.concat(split_X_list, axis=0)"
   ]
  },
  {
   "cell_type": "code",
   "execution_count": null,
   "id": "d7541e67-9310-4523-8940-3fe16b4fb2b5",
   "metadata": {
    "tags": []
   },
   "outputs": [],
   "source": [
    "del split_X_list"
   ]
  },
  {
   "cell_type": "code",
   "execution_count": null,
   "id": "ee750364-a15a-446a-af9f-2fe909261efe",
   "metadata": {
    "tags": []
   },
   "outputs": [],
   "source": [
    "split_X.fillna(0, inplace=True)"
   ]
  },
  {
   "cell_type": "code",
   "execution_count": null,
   "id": "0e7ce45a-07f9-4a8c-88e1-367f1cb650ca",
   "metadata": {
    "tags": []
   },
   "outputs": [],
   "source": [
    "split_X = split_X.loc[split_y.index,:]"
   ]
  },
  {
   "cell_type": "code",
   "execution_count": null,
   "id": "6fa8a51e-f641-4832-8fa9-82156faf9268",
   "metadata": {
    "tags": []
   },
   "outputs": [],
   "source": [
    "split_X.columns = [x[0] + '_' + str(x[1]) for x in split_X.columns]\n",
    "assert ((split_X.index == split_y.index).sum()/len(split_X) == 1)"
   ]
  },
  {
   "cell_type": "code",
   "execution_count": null,
   "id": "f5be2bff-fdd5-4420-80ab-e185dc799744",
   "metadata": {
    "tags": []
   },
   "outputs": [
    {
     "data": {
      "text/html": [
       "<div>\n",
       "<style scoped>\n",
       "    .dataframe tbody tr th:only-of-type {\n",
       "        vertical-align: middle;\n",
       "    }\n",
       "\n",
       "    .dataframe tbody tr th {\n",
       "        vertical-align: top;\n",
       "    }\n",
       "\n",
       "    .dataframe thead th {\n",
       "        text-align: right;\n",
       "    }\n",
       "</style>\n",
       "<table border=\"1\" class=\"dataframe\">\n",
       "  <thead>\n",
       "    <tr style=\"text-align: right;\">\n",
       "      <th></th>\n",
       "      <th>ft1_-2</th>\n",
       "      <th>ft1_-1</th>\n",
       "      <th>ft1_0</th>\n",
       "      <th>ft1_1</th>\n",
       "      <th>ft1_2</th>\n",
       "      <th>ft2_-2</th>\n",
       "      <th>ft2_-1</th>\n",
       "      <th>ft2_0</th>\n",
       "      <th>ft2_1</th>\n",
       "      <th>ft2_2</th>\n",
       "      <th>...</th>\n",
       "      <th>ft639_-2</th>\n",
       "      <th>ft639_-1</th>\n",
       "      <th>ft639_0</th>\n",
       "      <th>ft639_1</th>\n",
       "      <th>ft639_2</th>\n",
       "      <th>ft640_-2</th>\n",
       "      <th>ft640_-1</th>\n",
       "      <th>ft640_0</th>\n",
       "      <th>ft640_1</th>\n",
       "      <th>ft640_2</th>\n",
       "    </tr>\n",
       "    <tr>\n",
       "      <th>seq_id</th>\n",
       "      <th></th>\n",
       "      <th></th>\n",
       "      <th></th>\n",
       "      <th></th>\n",
       "      <th></th>\n",
       "      <th></th>\n",
       "      <th></th>\n",
       "      <th></th>\n",
       "      <th></th>\n",
       "      <th></th>\n",
       "      <th></th>\n",
       "      <th></th>\n",
       "      <th></th>\n",
       "      <th></th>\n",
       "      <th></th>\n",
       "      <th></th>\n",
       "      <th></th>\n",
       "      <th></th>\n",
       "      <th></th>\n",
       "      <th></th>\n",
       "      <th></th>\n",
       "    </tr>\n",
       "  </thead>\n",
       "  <tbody>\n",
       "    <tr>\n",
       "      <th>00000031de6e3b5adb7f0ecb501bce05d5aebd9f5c2d64450793600a</th>\n",
       "      <td>-0.083329</td>\n",
       "      <td>-0.042273</td>\n",
       "      <td>-0.004617</td>\n",
       "      <td>-0.075961</td>\n",
       "      <td>-0.119230</td>\n",
       "      <td>-0.085480</td>\n",
       "      <td>-0.065199</td>\n",
       "      <td>-0.062837</td>\n",
       "      <td>-0.064302</td>\n",
       "      <td>-0.165219</td>\n",
       "      <td>...</td>\n",
       "      <td>0.111215</td>\n",
       "      <td>0.065203</td>\n",
       "      <td>0.057890</td>\n",
       "      <td>0.024322</td>\n",
       "      <td>-0.001099</td>\n",
       "      <td>-0.052025</td>\n",
       "      <td>0.023455</td>\n",
       "      <td>-0.023632</td>\n",
       "      <td>-0.009242</td>\n",
       "      <td>-0.064770</td>\n",
       "    </tr>\n",
       "    <tr>\n",
       "      <th>630eedef674c705d4c3f1a80262a4078b919053d96207505e271fe09</th>\n",
       "      <td>-0.158411</td>\n",
       "      <td>-0.105750</td>\n",
       "      <td>-0.020799</td>\n",
       "      <td>-0.162112</td>\n",
       "      <td>-0.161958</td>\n",
       "      <td>-0.125808</td>\n",
       "      <td>-0.031724</td>\n",
       "      <td>-0.068024</td>\n",
       "      <td>-0.111398</td>\n",
       "      <td>-0.100380</td>\n",
       "      <td>...</td>\n",
       "      <td>-0.011970</td>\n",
       "      <td>-0.045389</td>\n",
       "      <td>0.075452</td>\n",
       "      <td>0.049475</td>\n",
       "      <td>-0.017922</td>\n",
       "      <td>-0.020179</td>\n",
       "      <td>-0.048058</td>\n",
       "      <td>-0.005416</td>\n",
       "      <td>0.067265</td>\n",
       "      <td>0.100298</td>\n",
       "    </tr>\n",
       "    <tr>\n",
       "      <th>84db8c4f92fb99dbe4c68a77965aebf3d0a6415fb45870a695518bb7</th>\n",
       "      <td>-0.098758</td>\n",
       "      <td>-0.145095</td>\n",
       "      <td>0.025922</td>\n",
       "      <td>-0.052099</td>\n",
       "      <td>-0.105004</td>\n",
       "      <td>-0.026450</td>\n",
       "      <td>-0.065750</td>\n",
       "      <td>-0.043146</td>\n",
       "      <td>-0.087908</td>\n",
       "      <td>-0.137171</td>\n",
       "      <td>...</td>\n",
       "      <td>0.163176</td>\n",
       "      <td>-0.094553</td>\n",
       "      <td>0.034607</td>\n",
       "      <td>-0.064664</td>\n",
       "      <td>0.048833</td>\n",
       "      <td>0.076394</td>\n",
       "      <td>-0.052672</td>\n",
       "      <td>-0.033729</td>\n",
       "      <td>0.022013</td>\n",
       "      <td>-0.015605</td>\n",
       "    </tr>\n",
       "    <tr>\n",
       "      <th>96e1190b92e1bc534871c42f763c30150b07842e443fa4febc7a61d7</th>\n",
       "      <td>-0.068715</td>\n",
       "      <td>-0.145819</td>\n",
       "      <td>0.010750</td>\n",
       "      <td>-0.034874</td>\n",
       "      <td>-0.114603</td>\n",
       "      <td>-0.103854</td>\n",
       "      <td>-0.098787</td>\n",
       "      <td>-0.050438</td>\n",
       "      <td>0.030913</td>\n",
       "      <td>0.016220</td>\n",
       "      <td>...</td>\n",
       "      <td>-0.080807</td>\n",
       "      <td>-0.077194</td>\n",
       "      <td>0.076167</td>\n",
       "      <td>-0.056793</td>\n",
       "      <td>0.053638</td>\n",
       "      <td>0.081381</td>\n",
       "      <td>0.050120</td>\n",
       "      <td>-0.008312</td>\n",
       "      <td>-0.049163</td>\n",
       "      <td>-0.028677</td>\n",
       "    </tr>\n",
       "    <tr>\n",
       "      <th>bd23691f0bc6ce6b93b6f6468980236a3a232a681d29a9b0b17537c6</th>\n",
       "      <td>-0.157066</td>\n",
       "      <td>-0.101072</td>\n",
       "      <td>0.006881</td>\n",
       "      <td>-0.036522</td>\n",
       "      <td>-0.032527</td>\n",
       "      <td>-0.093689</td>\n",
       "      <td>-0.119771</td>\n",
       "      <td>-0.059533</td>\n",
       "      <td>0.015149</td>\n",
       "      <td>-0.032177</td>\n",
       "      <td>...</td>\n",
       "      <td>0.121944</td>\n",
       "      <td>0.074653</td>\n",
       "      <td>0.054354</td>\n",
       "      <td>0.072370</td>\n",
       "      <td>-0.053129</td>\n",
       "      <td>-0.019027</td>\n",
       "      <td>0.065122</td>\n",
       "      <td>-0.028658</td>\n",
       "      <td>0.022518</td>\n",
       "      <td>-0.012641</td>\n",
       "    </tr>\n",
       "  </tbody>\n",
       "</table>\n",
       "<p>5 rows × 3200 columns</p>\n",
       "</div>"
      ],
      "text/plain": [
       "                                                      ft1_-2    ft1_-1   \n",
       "seq_id                                                                   \n",
       "00000031de6e3b5adb7f0ecb501bce05d5aebd9f5c2d644... -0.083329 -0.042273  \\\n",
       "630eedef674c705d4c3f1a80262a4078b919053d9620750... -0.158411 -0.105750   \n",
       "84db8c4f92fb99dbe4c68a77965aebf3d0a6415fb45870a... -0.098758 -0.145095   \n",
       "96e1190b92e1bc534871c42f763c30150b07842e443fa4f... -0.068715 -0.145819   \n",
       "bd23691f0bc6ce6b93b6f6468980236a3a232a681d29a9b... -0.157066 -0.101072   \n",
       "\n",
       "                                                       ft1_0     ft1_1   \n",
       "seq_id                                                                   \n",
       "00000031de6e3b5adb7f0ecb501bce05d5aebd9f5c2d644... -0.004617 -0.075961  \\\n",
       "630eedef674c705d4c3f1a80262a4078b919053d9620750... -0.020799 -0.162112   \n",
       "84db8c4f92fb99dbe4c68a77965aebf3d0a6415fb45870a...  0.025922 -0.052099   \n",
       "96e1190b92e1bc534871c42f763c30150b07842e443fa4f...  0.010750 -0.034874   \n",
       "bd23691f0bc6ce6b93b6f6468980236a3a232a681d29a9b...  0.006881 -0.036522   \n",
       "\n",
       "                                                       ft1_2    ft2_-2   \n",
       "seq_id                                                                   \n",
       "00000031de6e3b5adb7f0ecb501bce05d5aebd9f5c2d644... -0.119230 -0.085480  \\\n",
       "630eedef674c705d4c3f1a80262a4078b919053d9620750... -0.161958 -0.125808   \n",
       "84db8c4f92fb99dbe4c68a77965aebf3d0a6415fb45870a... -0.105004 -0.026450   \n",
       "96e1190b92e1bc534871c42f763c30150b07842e443fa4f... -0.114603 -0.103854   \n",
       "bd23691f0bc6ce6b93b6f6468980236a3a232a681d29a9b... -0.032527 -0.093689   \n",
       "\n",
       "                                                      ft2_-1     ft2_0   \n",
       "seq_id                                                                   \n",
       "00000031de6e3b5adb7f0ecb501bce05d5aebd9f5c2d644... -0.065199 -0.062837  \\\n",
       "630eedef674c705d4c3f1a80262a4078b919053d9620750... -0.031724 -0.068024   \n",
       "84db8c4f92fb99dbe4c68a77965aebf3d0a6415fb45870a... -0.065750 -0.043146   \n",
       "96e1190b92e1bc534871c42f763c30150b07842e443fa4f... -0.098787 -0.050438   \n",
       "bd23691f0bc6ce6b93b6f6468980236a3a232a681d29a9b... -0.119771 -0.059533   \n",
       "\n",
       "                                                       ft2_1     ft2_2  ...   \n",
       "seq_id                                                                  ...   \n",
       "00000031de6e3b5adb7f0ecb501bce05d5aebd9f5c2d644... -0.064302 -0.165219  ...  \\\n",
       "630eedef674c705d4c3f1a80262a4078b919053d9620750... -0.111398 -0.100380  ...   \n",
       "84db8c4f92fb99dbe4c68a77965aebf3d0a6415fb45870a... -0.087908 -0.137171  ...   \n",
       "96e1190b92e1bc534871c42f763c30150b07842e443fa4f...  0.030913  0.016220  ...   \n",
       "bd23691f0bc6ce6b93b6f6468980236a3a232a681d29a9b...  0.015149 -0.032177  ...   \n",
       "\n",
       "                                                    ft639_-2  ft639_-1   \n",
       "seq_id                                                                   \n",
       "00000031de6e3b5adb7f0ecb501bce05d5aebd9f5c2d644...  0.111215  0.065203  \\\n",
       "630eedef674c705d4c3f1a80262a4078b919053d9620750... -0.011970 -0.045389   \n",
       "84db8c4f92fb99dbe4c68a77965aebf3d0a6415fb45870a...  0.163176 -0.094553   \n",
       "96e1190b92e1bc534871c42f763c30150b07842e443fa4f... -0.080807 -0.077194   \n",
       "bd23691f0bc6ce6b93b6f6468980236a3a232a681d29a9b...  0.121944  0.074653   \n",
       "\n",
       "                                                     ft639_0   ft639_1   \n",
       "seq_id                                                                   \n",
       "00000031de6e3b5adb7f0ecb501bce05d5aebd9f5c2d644...  0.057890  0.024322  \\\n",
       "630eedef674c705d4c3f1a80262a4078b919053d9620750...  0.075452  0.049475   \n",
       "84db8c4f92fb99dbe4c68a77965aebf3d0a6415fb45870a...  0.034607 -0.064664   \n",
       "96e1190b92e1bc534871c42f763c30150b07842e443fa4f...  0.076167 -0.056793   \n",
       "bd23691f0bc6ce6b93b6f6468980236a3a232a681d29a9b...  0.054354  0.072370   \n",
       "\n",
       "                                                     ft639_2  ft640_-2   \n",
       "seq_id                                                                   \n",
       "00000031de6e3b5adb7f0ecb501bce05d5aebd9f5c2d644... -0.001099 -0.052025  \\\n",
       "630eedef674c705d4c3f1a80262a4078b919053d9620750... -0.017922 -0.020179   \n",
       "84db8c4f92fb99dbe4c68a77965aebf3d0a6415fb45870a...  0.048833  0.076394   \n",
       "96e1190b92e1bc534871c42f763c30150b07842e443fa4f...  0.053638  0.081381   \n",
       "bd23691f0bc6ce6b93b6f6468980236a3a232a681d29a9b... -0.053129 -0.019027   \n",
       "\n",
       "                                                    ft640_-1   ft640_0   \n",
       "seq_id                                                                   \n",
       "00000031de6e3b5adb7f0ecb501bce05d5aebd9f5c2d644...  0.023455 -0.023632  \\\n",
       "630eedef674c705d4c3f1a80262a4078b919053d9620750... -0.048058 -0.005416   \n",
       "84db8c4f92fb99dbe4c68a77965aebf3d0a6415fb45870a... -0.052672 -0.033729   \n",
       "96e1190b92e1bc534871c42f763c30150b07842e443fa4f...  0.050120 -0.008312   \n",
       "bd23691f0bc6ce6b93b6f6468980236a3a232a681d29a9b...  0.065122 -0.028658   \n",
       "\n",
       "                                                     ft640_1   ft640_2  \n",
       "seq_id                                                                  \n",
       "00000031de6e3b5adb7f0ecb501bce05d5aebd9f5c2d644... -0.009242 -0.064770  \n",
       "630eedef674c705d4c3f1a80262a4078b919053d9620750...  0.067265  0.100298  \n",
       "84db8c4f92fb99dbe4c68a77965aebf3d0a6415fb45870a...  0.022013 -0.015605  \n",
       "96e1190b92e1bc534871c42f763c30150b07842e443fa4f... -0.049163 -0.028677  \n",
       "bd23691f0bc6ce6b93b6f6468980236a3a232a681d29a9b...  0.022518 -0.012641  \n",
       "\n",
       "[5 rows x 3200 columns]"
      ]
     },
     "execution_count": 18,
     "metadata": {},
     "output_type": "execute_result"
    }
   ],
   "source": [
    "split_X.head()"
   ]
  },
  {
   "cell_type": "code",
   "execution_count": null,
   "id": "160f560f-f2f4-4ac0-af3c-fcdf177a0754",
   "metadata": {
    "tags": []
   },
   "outputs": [],
   "source": [
    "split_X.to_parquet('../data/interim/train_X_reps.pq')\n",
    "split_y.to_parquet('../data/interim/train_y.pq')"
   ]
  },
  {
   "cell_type": "code",
   "execution_count": null,
   "id": "4d9373b0-c6d9-4db4-9e9a-1736cd8de83d",
   "metadata": {},
   "outputs": [
    {
     "data": {
      "text/plain": [
       "Index(['ft1_-2', 'ft1_-1', 'ft1_0', 'ft1_1', 'ft1_2', 'ft2_-2', 'ft2_-1',\n",
       "       'ft2_0', 'ft2_1', 'ft2_2',\n",
       "       ...\n",
       "       'ft639_-2', 'ft639_-1', 'ft639_0', 'ft639_1', 'ft639_2', 'ft640_-2',\n",
       "       'ft640_-1', 'ft640_0', 'ft640_1', 'ft640_2'],\n",
       "      dtype='object', length=3200)"
      ]
     },
     "execution_count": 20,
     "metadata": {},
     "output_type": "execute_result"
    }
   ],
   "source": [
    "split_X.columns"
   ]
  },
  {
   "cell_type": "code",
   "execution_count": null,
   "id": "0cf95d53-6d91-47c3-aca3-776ed7a34b36",
   "metadata": {},
   "outputs": [],
   "source": []
  }
 ],
 "metadata": {
  "kernelspec": {
   "display_name": "beaker",
   "language": "python",
   "name": "beaker"
  },
  "language_info": {
   "codemirror_mode": {
    "name": "ipython",
    "version": 3
   },
   "file_extension": ".py",
   "mimetype": "text/x-python",
   "name": "python",
   "nbconvert_exporter": "python",
   "pygments_lexer": "ipython3",
   "version": "3.8.16"
  }
 },
 "nbformat": 4,
 "nbformat_minor": 5
}
