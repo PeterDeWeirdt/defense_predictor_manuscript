{
 "cells": [
  {
   "cell_type": "code",
   "execution_count": 1,
   "id": "9e1c6f08-ea53-4300-9e5e-f8a253558002",
   "metadata": {},
   "outputs": [],
   "source": [
    "import pandas as pd"
   ]
  },
  {
   "cell_type": "code",
   "execution_count": 2,
   "id": "83c01686-1aa6-4a55-a006-dad5508655ba",
   "metadata": {},
   "outputs": [],
   "source": [
    "model_seq_info = pd.read_parquet('../data3/interim/model_seq_info.pq')\n",
    "search_df = pd.read_parquet('../data3/interim/model_seq_blast_search.pq')"
   ]
  },
  {
   "cell_type": "markdown",
   "id": "a9b58145-faea-4b51-9f1d-7f349a27b4df",
   "metadata": {},
   "source": [
    "**Query:** train gene\n",
    "\n",
    "**Target:** test gene"
   ]
  },
  {
   "cell_type": "code",
   "execution_count": 3,
   "id": "24fa81e8-55d7-4781-a846-47ba5b7e1f1d",
   "metadata": {},
   "outputs": [],
   "source": [
    "pos_ids = model_seq_info.loc[model_seq_info['defensive'], 'seq_id']"
   ]
  },
  {
   "cell_type": "code",
   "execution_count": 4,
   "id": "b065021b-6257-4104-b3a5-e6e78dd4c746",
   "metadata": {},
   "outputs": [
    {
     "name": "stdout",
     "output_type": "stream",
     "text": [
      "0\n",
      "1\n",
      "2\n",
      "3\n",
      "4\n"
     ]
    }
   ],
   "source": [
    "top_train_list = list()\n",
    "for fold, fold_test_df in model_seq_info.groupby('test_fold'):\n",
    "    print(fold)\n",
    "    top_blast_df = (search_df[~search_df['query'].isin(fold_test_df['seq_id']) & \n",
    "                              search_df['query'].isin(pos_ids) &\n",
    "                              search_df['target'].isin(fold_test_df['seq_id'])]\n",
    "                     .sort_values('bits', ascending=False)\n",
    "                     .groupby('target')\n",
    "                     .head(1))\n",
    "    top_train_list.append(top_blast_df)"
   ]
  },
  {
   "cell_type": "code",
   "execution_count": 5,
   "id": "c7d7e61b-7b40-46f9-aa58-ba2ce46bfe25",
   "metadata": {},
   "outputs": [],
   "source": [
    "cat_top_hit = pd.concat(top_train_list)"
   ]
  },
  {
   "cell_type": "code",
   "execution_count": 6,
   "id": "499c609a-c6e1-4cb1-827c-cb068b674951",
   "metadata": {},
   "outputs": [],
   "source": [
    "out_df = (model_seq_info[['seq_id']]\n",
    "          .merge(cat_top_hit.rename(columns={'target': 'seq_id', \n",
    "                                                    'bits': 'prediction'})\n",
    "                 [['seq_id', 'prediction']], \n",
    "                 how='left', on='seq_id'))\n",
    "out_df['prediction'] = out_df['prediction'].fillna(0)\n",
    "out_df['method'] = 'Defense BLAST search'"
   ]
  },
  {
   "cell_type": "code",
   "execution_count": 7,
   "id": "57323f8a-941f-428a-b452-38364484c519",
   "metadata": {},
   "outputs": [],
   "source": [
    "out_df.to_parquet('../data3/interim/cv_predictions_defense_blast.pq', index=False)"
   ]
  },
  {
   "cell_type": "code",
   "execution_count": null,
   "id": "0895cf45-bd8e-4a0c-8b99-66867a0217f9",
   "metadata": {},
   "outputs": [],
   "source": []
  }
 ],
 "metadata": {
  "kernelspec": {
   "display_name": "beaker",
   "language": "python",
   "name": "beaker"
  },
  "language_info": {
   "codemirror_mode": {
    "name": "ipython",
    "version": 3
   },
   "file_extension": ".py",
   "mimetype": "text/x-python",
   "name": "python",
   "nbconvert_exporter": "python",
   "pygments_lexer": "ipython3",
   "version": "3.8.16"
  }
 },
 "nbformat": 4,
 "nbformat_minor": 5
}
