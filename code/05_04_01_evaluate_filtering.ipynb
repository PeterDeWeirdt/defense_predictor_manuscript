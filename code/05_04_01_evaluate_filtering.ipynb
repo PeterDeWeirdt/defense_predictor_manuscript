{
 "cells": [
  {
   "cell_type": "code",
   "execution_count": 2,
   "id": "11fbe025-f0ef-4ec2-960b-83a9f0434aa3",
   "metadata": {},
   "outputs": [],
   "source": [
    "import pandas as pd\n",
    "from core import read_mmseqs_results\n",
    "from sklearn.metrics import f1_score\n",
    "import numpy as np\n",
    "from tqdm import tqdm\n",
    "import seaborn as sns\n",
    "import matplotlib.pyplot as plt\n",
    "import networkx as nx"
   ]
  },
  {
   "cell_type": "code",
   "execution_count": null,
   "id": "11001c86-121c-43b3-8781-259e7ad560f1",
   "metadata": {},
   "outputs": [],
   "source": [
    "model_seq_info = pd.read_parquet('../data3/interim/candidate_model_seq_info.pq')\n",
    "defense_edge_df = pd.read_parquet('../data3/interim/defense_exchangable_edges.pq')"
   ]
  },
  {
   "cell_type": "code",
   "execution_count": 4,
   "id": "a5053b27-c721-4282-95cf-c0003fcd569a",
   "metadata": {},
   "outputs": [
    {
     "data": {
      "text/plain": [
       "4020013"
      ]
     },
     "execution_count": 4,
     "metadata": {},
     "output_type": "execute_result"
    }
   ],
   "source": [
    "len(defense_edge_df)"
   ]
  },
  {
   "cell_type": "code",
   "execution_count": 5,
   "id": "db5093df-160d-4186-9d4e-a3b67c96024c",
   "metadata": {},
   "outputs": [
    {
     "name": "stdout",
     "output_type": "stream",
     "text": [
      "CPU times: user 29.4 s, sys: 3.8 s, total: 33.2 s\n",
      "Wall time: 33.5 s\n"
     ]
    }
   ],
   "source": [
    "%%time\n",
    "mmseqs_search_df = read_mmseqs_results('../data3/interim/candiate_seq_mmseqs_self_search.txt')"
   ]
  },
  {
   "cell_type": "code",
   "execution_count": 6,
   "id": "c9dd5181-9ea8-44b9-b74c-7e65bcd4d47c",
   "metadata": {},
   "outputs": [
    {
     "data": {
      "text/plain": [
       "19047244"
      ]
     },
     "execution_count": 6,
     "metadata": {},
     "output_type": "execute_result"
    }
   ],
   "source": [
    "len(mmseqs_search_df)"
   ]
  },
  {
   "cell_type": "code",
   "execution_count": 7,
   "id": "1e8ff1d3-2876-4894-8211-d6e371d8232d",
   "metadata": {},
   "outputs": [
    {
     "name": "stdout",
     "output_type": "stream",
     "text": [
      "CPU times: user 56 s, sys: 6.35 s, total: 1min 2s\n",
      "Wall time: 1min 2s\n"
     ]
    }
   ],
   "source": [
    "%%time\n",
    "mmseqs_profile_df = read_mmseqs_results('../data3/interim/candidate_mmseqs_profile_out.txt')"
   ]
  },
  {
   "cell_type": "code",
   "execution_count": 8,
   "id": "6750ed60-70ac-43aa-a5e9-26cce3ab572c",
   "metadata": {},
   "outputs": [
    {
     "data": {
      "text/plain": [
       "36384332"
      ]
     },
     "execution_count": 8,
     "metadata": {},
     "output_type": "execute_result"
    }
   ],
   "source": [
    "len(mmseqs_profile_df)"
   ]
  },
  {
   "cell_type": "code",
   "execution_count": 9,
   "id": "fe3525a8-6646-4127-bc5f-f347fe4a6cd6",
   "metadata": {},
   "outputs": [
    {
     "name": "stdout",
     "output_type": "stream",
     "text": [
      "CPU times: user 22.3 s, sys: 8.68 s, total: 30.9 s\n",
      "Wall time: 10.2 s\n"
     ]
    }
   ],
   "source": [
    "%%time\n",
    "blast_search_df = pd.read_parquet('../data3/interim/model_seq_blast_search.pq')"
   ]
  },
  {
   "cell_type": "code",
   "execution_count": 10,
   "id": "d7f0aa9b-2628-4906-9385-13535ef95bc7",
   "metadata": {},
   "outputs": [
    {
     "data": {
      "text/plain": [
       "52573055"
      ]
     },
     "execution_count": 10,
     "metadata": {},
     "output_type": "execute_result"
    }
   ],
   "source": [
    "len(blast_search_df)"
   ]
  },
  {
   "cell_type": "code",
   "execution_count": 11,
   "id": "a3feb665-9c0c-4fa1-b8eb-5ca14f8c378d",
   "metadata": {},
   "outputs": [],
   "source": [
    "gold_standard_edges = mmseqs_profile_df\n",
    "gold_standard_edges = gold_standard_edges[gold_standard_edges['query'] != gold_standard_edges['target']].copy()\n",
    "gold_standard_edges = (gold_standard_edges\n",
    "                      .merge(model_seq_info.rename(columns={'seq_id': 'query'}), \n",
    "                             how='inner', on='query')\n",
    "                      .merge(model_seq_info.rename(columns={'seq_id': 'target'}), \n",
    "                             how='inner', on='target', suffixes=('_query', '_target'))\n",
    "                      .sort_values('bits', ascending=False)\n",
    "                      .reset_index(drop=True))"
   ]
  },
  {
   "cell_type": "code",
   "execution_count": 12,
   "id": "3ca2be36-9a71-4c8f-8997-927dd3a8068d",
   "metadata": {},
   "outputs": [],
   "source": [
    "def evaluate_filtering(component_df, gold_standard_edges=gold_standard_edges, \n",
    "                       model_seq_info=model_seq_info):\n",
    "    merged_gold_standard_edges = (gold_standard_edges\n",
    "                                  .merge(component_df.rename(columns={'seq_id': 'query'}), \n",
    "                                         how='inner', on='query')\n",
    "                                  .merge(component_df.rename(columns={'seq_id': 'target'}), \n",
    "                                         how='inner', on='target', \n",
    "                                         suffixes=('_query', '_target')))\n",
    "    filtered_gold_standard_edges = merged_gold_standard_edges[\n",
    "        ~(merged_gold_standard_edges['component_query'] == merged_gold_standard_edges['component_target'])]\n",
    "    top_gold_standard_edges = (filtered_gold_standard_edges\n",
    "                               .groupby('query')\n",
    "                               .head(1))\n",
    "    eval_df = (model_seq_info\n",
    "               .merge(top_gold_standard_edges[['query', 'defensive_target']]\n",
    "                      .rename(columns={'query': 'seq_id'}), \n",
    "                      how='left', on='seq_id'))\n",
    "    np.random.seed(7)\n",
    "    eval_df.loc[eval_df['defensive_target'].isna(), 'defensive_target'] = np.random.choice(\n",
    "        [True, False], size=eval_df['defensive_target'].isna().sum())\n",
    "    eval_df['defensive_target'] = eval_df['defensive_target'].astype(bool)\n",
    "    f1 = f1_score(eval_df['defensive'], eval_df['defensive_target'])\n",
    "    return f1\n",
    "    "
   ]
  },
  {
   "cell_type": "code",
   "execution_count": 13,
   "id": "6b5c6240-bf6e-4239-8ce6-5c64cba6a363",
   "metadata": {},
   "outputs": [],
   "source": [
    "cov_cutoffs = [0.5, 0.8]\n",
    "identity_cutoffs = [0.3, 0.5, 0.7]\n"
   ]
  },
  {
   "cell_type": "code",
   "execution_count": 14,
   "id": "29cab58e-c309-461d-89e2-dd4226ac30e5",
   "metadata": {},
   "outputs": [],
   "source": [
    "def get_components(edge_df, source, target, all_nodes):\n",
    "    G = nx.from_pandas_edgelist(edge_df, source, target)\n",
    "    nodes = list(G.nodes)\n",
    "    missing_nodes = all_nodes[~all_nodes.isin(nodes)].to_list()\n",
    "    G.add_nodes_from(missing_nodes)\n",
    "    components = nx.connected_components(G)\n",
    "    component_list = []\n",
    "    for i, comp in enumerate(components):\n",
    "        subgraph = G.subgraph(comp)\n",
    "        for name in comp:\n",
    "            component_list.append({'seq_id': name, \n",
    "                                   'component': i})\n",
    "    component_df = pd.DataFrame(component_list)\n",
    "    largest_component = component_df['component'].value_counts().to_list()[0]\n",
    "    return largest_component, component_df\n",
    "    "
   ]
  },
  {
   "cell_type": "code",
   "execution_count": 15,
   "id": "2c05564a-3b4c-465d-9809-d43cec896dab",
   "metadata": {},
   "outputs": [],
   "source": [
    "defense_seqs = model_seq_info.query('defensive')['seq_id']\n",
    "background_seqs = model_seq_info.query('~defensive')['seq_id']"
   ]
  },
  {
   "cell_type": "code",
   "execution_count": 16,
   "id": "0fa846a8-85d7-4c3a-9e56-ef165042afb7",
   "metadata": {},
   "outputs": [
    {
     "data": {
      "text/plain": [
       "1363"
      ]
     },
     "execution_count": 16,
     "metadata": {},
     "output_type": "execute_result"
    }
   ],
   "source": [
    "unfiltered_largest_defense, unfiltered_component_df = get_components(defense_edge_df, 'seq_id_x', 'seq_id_y', \n",
    "                                                                     model_seq_info['seq_id'])\n",
    "unfiltered_largest_defense"
   ]
  },
  {
   "cell_type": "code",
   "execution_count": 17,
   "id": "a4e6ab50-4c06-4004-aab8-896de9378278",
   "metadata": {},
   "outputs": [
    {
     "data": {
      "text/plain": [
       "0.6249637995945555"
      ]
     },
     "execution_count": 17,
     "metadata": {},
     "output_type": "execute_result"
    }
   ],
   "source": [
    "evaluate_filtering(unfiltered_component_df)"
   ]
  },
  {
   "cell_type": "code",
   "execution_count": 18,
   "id": "f771bda8-aafc-4365-b709-f8e7aaf5bd62",
   "metadata": {
    "tags": []
   },
   "outputs": [
    {
     "name": "stdout",
     "output_type": "stream",
     "text": [
      "MMseqs profile\n",
      "{'method': 'MMseqs profile', 'f1': 0.09034528104064116, 'cov': 0.5, 'fident': 0.3, 'largest_background_component': 164761, 'largest_defense_component': 10676, 'n_edges': 16368925}\n",
      "{'method': 'MMseqs profile', 'f1': 0.1510807148848313, 'cov': 0.5, 'fident': 0.5, 'largest_background_component': 143564, 'largest_defense_component': 9187, 'n_edges': 7457124}\n",
      "{'method': 'MMseqs profile', 'f1': 0.4333881824981301, 'cov': 0.5, 'fident': 0.7, 'largest_background_component': 54787, 'largest_defense_component': 3444, 'n_edges': 974379}\n",
      "{'method': 'MMseqs profile', 'f1': 0.14373014556727862, 'cov': 0.8, 'fident': 0.3, 'largest_background_component': 147069, 'largest_defense_component': 7887, 'n_edges': 5642651}\n",
      "{'method': 'MMseqs profile', 'f1': 0.25520205672049495, 'cov': 0.8, 'fident': 0.5, 'largest_background_component': 115221, 'largest_defense_component': 6144, 'n_edges': 2660835}\n",
      "{'method': 'MMseqs profile', 'f1': 0.501367240907848, 'cov': 0.8, 'fident': 0.7, 'largest_background_component': 34909, 'largest_defense_component': 3415, 'n_edges': 419007}\n",
      "MMseqs search\n",
      "{'method': 'MMseqs search', 'f1': 0.1598726031509835, 'cov': 0.5, 'fident': 0.3, 'largest_background_component': 147510, 'largest_defense_component': 8128, 'n_edges': 5384121}\n",
      "{'method': 'MMseqs search', 'f1': 0.5277919950864981, 'cov': 0.5, 'fident': 0.5, 'largest_background_component': 43296, 'largest_defense_component': 2897, 'n_edges': 392795}\n",
      "{'method': 'MMseqs search', 'f1': 0.6126966901790558, 'cov': 0.5, 'fident': 0.7, 'largest_background_component': 860, 'largest_defense_component': 1363, 'n_edges': 30974}\n",
      "{'method': 'MMseqs search', 'f1': 0.25675322849510956, 'cov': 0.8, 'fident': 0.3, 'largest_background_component': 117774, 'largest_defense_component': 5718, 'n_edges': 1420377}\n",
      "{'method': 'MMseqs search', 'f1': 0.5707177873710397, 'cov': 0.8, 'fident': 0.5, 'largest_background_component': 15965, 'largest_defense_component': 2667, 'n_edges': 126975}\n",
      "{'method': 'MMseqs search', 'f1': 0.6144547790525134, 'cov': 0.8, 'fident': 0.7, 'largest_background_component': 595, 'largest_defense_component': 1363, 'n_edges': 12868}\n",
      "BLAST\n",
      "{'method': 'BLAST', 'f1': 0.10390326968996451, 'cov': 0.5, 'fident': 0.3, 'largest_background_component': 181745, 'largest_defense_component': 13689, 'n_edges': 10801052}\n",
      "{'method': 'BLAST', 'f1': 0.49397320714902326, 'cov': 0.5, 'fident': 0.5, 'largest_background_component': 64652, 'largest_defense_component': 3150, 'n_edges': 502297}\n",
      "{'method': 'BLAST', 'f1': 0.611626312560892, 'cov': 0.5, 'fident': 0.7, 'largest_background_component': 940, 'largest_defense_component': 1363, 'n_edges': 34705}\n",
      "{'method': 'BLAST', 'f1': 0.17974196767991074, 'cov': 0.8, 'fident': 0.3, 'largest_background_component': 161643, 'largest_defense_component': 7650, 'n_edges': 2956117}\n",
      "{'method': 'BLAST', 'f1': 0.5637583892617449, 'cov': 0.8, 'fident': 0.5, 'largest_background_component': 28368, 'largest_defense_component': 2667, 'n_edges': 159536}\n",
      "{'method': 'BLAST', 'f1': 0.613665135457735, 'cov': 0.8, 'fident': 0.7, 'largest_background_component': 709, 'largest_defense_component': 1363, 'n_edges': 14508}\n",
      "CPU times: user 53min 55s, sys: 7min 32s, total: 1h 1min 28s\n",
      "Wall time: 1h 1min 28s\n"
     ]
    }
   ],
   "source": [
    "%%time\n",
    "method_dict = {'MMseqs profile': mmseqs_profile_df,\n",
    "               'MMseqs search': mmseqs_search_df, \n",
    "               'BLAST': blast_search_df}\n",
    "result_list = list()\n",
    "for method, method_df in method_dict.items():\n",
    "    print(method)\n",
    "    merged_method_df = (method_df\n",
    "                        .merge(model_seq_info[['seq_id', 'defensive']]\n",
    "                               .rename(columns={'seq_id': 'query'}), \n",
    "                               how='inner', on='query')\n",
    "                        .merge(model_seq_info[['seq_id', 'defensive']]\n",
    "                               .rename(columns={'seq_id': 'target'}), \n",
    "                               how='inner', on='target', suffixes=('_query', '_target')))\n",
    "    filtered_method_df = merged_method_df.query('(defensive_target == defensive_query) & (query != target)')\n",
    "    for cov_cutoff in cov_cutoffs:\n",
    "        for ident_cutoff in identity_cutoffs:\n",
    "            method_edge_df = filtered_method_df.loc[(filtered_method_df['qcov'] > cov_cutoff) & \n",
    "                                                    (filtered_method_df['fident'] > ident_cutoff)]\n",
    "            n_edges = len(method_edge_df)\n",
    "            method_defense_edge_df = (pd.concat([method_edge_df.query('defensive_target'), \n",
    "                                                 defense_edge_df.rename(columns={'seq_id_x': 'query', \n",
    "                                                                                'seq_id_y': 'target'})])\n",
    "                                      [['query', 'target']]\n",
    "                                      .drop_duplicates())\n",
    "            defense_largest_component, defense_component_df = get_components(method_defense_edge_df, 'query', 'target', defense_seqs)\n",
    "            defense_component_df['component'] = 'd' + defense_component_df['component'].astype(str)\n",
    "            method_background_edge_df = method_edge_df.query('~defensive_target')\n",
    "            background_largest_component, background_component_df = get_components(method_background_edge_df, 'query', 'target', background_seqs)\n",
    "            background_component_df['component'] = 'b' + background_component_df['component'].astype(str)\n",
    "            cat_component_df = pd.concat([defense_component_df, \n",
    "                                          background_component_df])\n",
    "            f1 = evaluate_filtering(cat_component_df)\n",
    "            result = {'method': method,\n",
    "                      'f1': f1, \n",
    "                      'cov': cov_cutoff,\n",
    "                      'fident': ident_cutoff, \n",
    "                      'largest_background_component': background_largest_component, \n",
    "                      'largest_defense_component': defense_largest_component, \n",
    "                      'n_edges': n_edges}\n",
    "            print(result)\n",
    "            result_list.append(result)\n",
    "    "
   ]
  },
  {
   "cell_type": "code",
   "execution_count": 19,
   "id": "fe8ffe93-4e42-4e78-bebf-b7ac4308d576",
   "metadata": {},
   "outputs": [],
   "source": [
    "result_df = pd.DataFrame(result_list)"
   ]
  },
  {
   "cell_type": "code",
   "execution_count": 20,
   "id": "c2612e39-d6c4-4f40-ab2f-569c3af811fa",
   "metadata": {},
   "outputs": [],
   "source": [
    "result_df.to_parquet('../data3/interim/filtering_cutoff_results.pq', index=False)"
   ]
  },
  {
   "cell_type": "code",
   "execution_count": 21,
   "id": "178f564d-dbf7-4c19-b7c6-af4b6c45542b",
   "metadata": {},
   "outputs": [
    {
     "data": {
      "text/html": [
       "<div>\n",
       "<style scoped>\n",
       "    .dataframe tbody tr th:only-of-type {\n",
       "        vertical-align: middle;\n",
       "    }\n",
       "\n",
       "    .dataframe tbody tr th {\n",
       "        vertical-align: top;\n",
       "    }\n",
       "\n",
       "    .dataframe thead th {\n",
       "        text-align: right;\n",
       "    }\n",
       "</style>\n",
       "<table border=\"1\" class=\"dataframe\">\n",
       "  <thead>\n",
       "    <tr style=\"text-align: right;\">\n",
       "      <th></th>\n",
       "      <th>method</th>\n",
       "      <th>f1</th>\n",
       "      <th>cov</th>\n",
       "      <th>fident</th>\n",
       "      <th>largest_background_component</th>\n",
       "      <th>largest_defense_component</th>\n",
       "      <th>n_edges</th>\n",
       "    </tr>\n",
       "  </thead>\n",
       "  <tbody>\n",
       "    <tr>\n",
       "      <th>0</th>\n",
       "      <td>MMseqs profile</td>\n",
       "      <td>0.090345</td>\n",
       "      <td>0.5</td>\n",
       "      <td>0.3</td>\n",
       "      <td>164761</td>\n",
       "      <td>10676</td>\n",
       "      <td>16368925</td>\n",
       "    </tr>\n",
       "    <tr>\n",
       "      <th>1</th>\n",
       "      <td>MMseqs profile</td>\n",
       "      <td>0.151081</td>\n",
       "      <td>0.5</td>\n",
       "      <td>0.5</td>\n",
       "      <td>143564</td>\n",
       "      <td>9187</td>\n",
       "      <td>7457124</td>\n",
       "    </tr>\n",
       "    <tr>\n",
       "      <th>2</th>\n",
       "      <td>MMseqs profile</td>\n",
       "      <td>0.433388</td>\n",
       "      <td>0.5</td>\n",
       "      <td>0.7</td>\n",
       "      <td>54787</td>\n",
       "      <td>3444</td>\n",
       "      <td>974379</td>\n",
       "    </tr>\n",
       "    <tr>\n",
       "      <th>3</th>\n",
       "      <td>MMseqs profile</td>\n",
       "      <td>0.143730</td>\n",
       "      <td>0.8</td>\n",
       "      <td>0.3</td>\n",
       "      <td>147069</td>\n",
       "      <td>7887</td>\n",
       "      <td>5642651</td>\n",
       "    </tr>\n",
       "    <tr>\n",
       "      <th>4</th>\n",
       "      <td>MMseqs profile</td>\n",
       "      <td>0.255202</td>\n",
       "      <td>0.8</td>\n",
       "      <td>0.5</td>\n",
       "      <td>115221</td>\n",
       "      <td>6144</td>\n",
       "      <td>2660835</td>\n",
       "    </tr>\n",
       "    <tr>\n",
       "      <th>5</th>\n",
       "      <td>MMseqs profile</td>\n",
       "      <td>0.501367</td>\n",
       "      <td>0.8</td>\n",
       "      <td>0.7</td>\n",
       "      <td>34909</td>\n",
       "      <td>3415</td>\n",
       "      <td>419007</td>\n",
       "    </tr>\n",
       "    <tr>\n",
       "      <th>6</th>\n",
       "      <td>MMseqs search</td>\n",
       "      <td>0.159873</td>\n",
       "      <td>0.5</td>\n",
       "      <td>0.3</td>\n",
       "      <td>147510</td>\n",
       "      <td>8128</td>\n",
       "      <td>5384121</td>\n",
       "    </tr>\n",
       "    <tr>\n",
       "      <th>7</th>\n",
       "      <td>MMseqs search</td>\n",
       "      <td>0.527792</td>\n",
       "      <td>0.5</td>\n",
       "      <td>0.5</td>\n",
       "      <td>43296</td>\n",
       "      <td>2897</td>\n",
       "      <td>392795</td>\n",
       "    </tr>\n",
       "    <tr>\n",
       "      <th>8</th>\n",
       "      <td>MMseqs search</td>\n",
       "      <td>0.612697</td>\n",
       "      <td>0.5</td>\n",
       "      <td>0.7</td>\n",
       "      <td>860</td>\n",
       "      <td>1363</td>\n",
       "      <td>30974</td>\n",
       "    </tr>\n",
       "    <tr>\n",
       "      <th>9</th>\n",
       "      <td>MMseqs search</td>\n",
       "      <td>0.256753</td>\n",
       "      <td>0.8</td>\n",
       "      <td>0.3</td>\n",
       "      <td>117774</td>\n",
       "      <td>5718</td>\n",
       "      <td>1420377</td>\n",
       "    </tr>\n",
       "    <tr>\n",
       "      <th>10</th>\n",
       "      <td>MMseqs search</td>\n",
       "      <td>0.570718</td>\n",
       "      <td>0.8</td>\n",
       "      <td>0.5</td>\n",
       "      <td>15965</td>\n",
       "      <td>2667</td>\n",
       "      <td>126975</td>\n",
       "    </tr>\n",
       "    <tr>\n",
       "      <th>11</th>\n",
       "      <td>MMseqs search</td>\n",
       "      <td>0.614455</td>\n",
       "      <td>0.8</td>\n",
       "      <td>0.7</td>\n",
       "      <td>595</td>\n",
       "      <td>1363</td>\n",
       "      <td>12868</td>\n",
       "    </tr>\n",
       "    <tr>\n",
       "      <th>12</th>\n",
       "      <td>BLAST</td>\n",
       "      <td>0.103903</td>\n",
       "      <td>0.5</td>\n",
       "      <td>0.3</td>\n",
       "      <td>181745</td>\n",
       "      <td>13689</td>\n",
       "      <td>10801052</td>\n",
       "    </tr>\n",
       "    <tr>\n",
       "      <th>13</th>\n",
       "      <td>BLAST</td>\n",
       "      <td>0.493973</td>\n",
       "      <td>0.5</td>\n",
       "      <td>0.5</td>\n",
       "      <td>64652</td>\n",
       "      <td>3150</td>\n",
       "      <td>502297</td>\n",
       "    </tr>\n",
       "    <tr>\n",
       "      <th>14</th>\n",
       "      <td>BLAST</td>\n",
       "      <td>0.611626</td>\n",
       "      <td>0.5</td>\n",
       "      <td>0.7</td>\n",
       "      <td>940</td>\n",
       "      <td>1363</td>\n",
       "      <td>34705</td>\n",
       "    </tr>\n",
       "    <tr>\n",
       "      <th>15</th>\n",
       "      <td>BLAST</td>\n",
       "      <td>0.179742</td>\n",
       "      <td>0.8</td>\n",
       "      <td>0.3</td>\n",
       "      <td>161643</td>\n",
       "      <td>7650</td>\n",
       "      <td>2956117</td>\n",
       "    </tr>\n",
       "    <tr>\n",
       "      <th>16</th>\n",
       "      <td>BLAST</td>\n",
       "      <td>0.563758</td>\n",
       "      <td>0.8</td>\n",
       "      <td>0.5</td>\n",
       "      <td>28368</td>\n",
       "      <td>2667</td>\n",
       "      <td>159536</td>\n",
       "    </tr>\n",
       "    <tr>\n",
       "      <th>17</th>\n",
       "      <td>BLAST</td>\n",
       "      <td>0.613665</td>\n",
       "      <td>0.8</td>\n",
       "      <td>0.7</td>\n",
       "      <td>709</td>\n",
       "      <td>1363</td>\n",
       "      <td>14508</td>\n",
       "    </tr>\n",
       "  </tbody>\n",
       "</table>\n",
       "</div>"
      ],
      "text/plain": [
       "            method        f1  cov  fident  largest_background_component   \n",
       "0   MMseqs profile  0.090345  0.5     0.3                        164761  \\\n",
       "1   MMseqs profile  0.151081  0.5     0.5                        143564   \n",
       "2   MMseqs profile  0.433388  0.5     0.7                         54787   \n",
       "3   MMseqs profile  0.143730  0.8     0.3                        147069   \n",
       "4   MMseqs profile  0.255202  0.8     0.5                        115221   \n",
       "5   MMseqs profile  0.501367  0.8     0.7                         34909   \n",
       "6    MMseqs search  0.159873  0.5     0.3                        147510   \n",
       "7    MMseqs search  0.527792  0.5     0.5                         43296   \n",
       "8    MMseqs search  0.612697  0.5     0.7                           860   \n",
       "9    MMseqs search  0.256753  0.8     0.3                        117774   \n",
       "10   MMseqs search  0.570718  0.8     0.5                         15965   \n",
       "11   MMseqs search  0.614455  0.8     0.7                           595   \n",
       "12           BLAST  0.103903  0.5     0.3                        181745   \n",
       "13           BLAST  0.493973  0.5     0.5                         64652   \n",
       "14           BLAST  0.611626  0.5     0.7                           940   \n",
       "15           BLAST  0.179742  0.8     0.3                        161643   \n",
       "16           BLAST  0.563758  0.8     0.5                         28368   \n",
       "17           BLAST  0.613665  0.8     0.7                           709   \n",
       "\n",
       "    largest_defense_component   n_edges  \n",
       "0                       10676  16368925  \n",
       "1                        9187   7457124  \n",
       "2                        3444    974379  \n",
       "3                        7887   5642651  \n",
       "4                        6144   2660835  \n",
       "5                        3415    419007  \n",
       "6                        8128   5384121  \n",
       "7                        2897    392795  \n",
       "8                        1363     30974  \n",
       "9                        5718   1420377  \n",
       "10                       2667    126975  \n",
       "11                       1363     12868  \n",
       "12                      13689  10801052  \n",
       "13                       3150    502297  \n",
       "14                       1363     34705  \n",
       "15                       7650   2956117  \n",
       "16                       2667    159536  \n",
       "17                       1363     14508  "
      ]
     },
     "execution_count": 21,
     "metadata": {},
     "output_type": "execute_result"
    }
   ],
   "source": [
    "result_df"
   ]
  },
  {
   "cell_type": "code",
   "execution_count": 22,
   "id": "3fb32c1a-19e4-4bce-9cc2-39bf1bd5b9a6",
   "metadata": {},
   "outputs": [
    {
     "data": {
      "image/png": "[encoded data removed]",
      "text/plain": [
       "<Figure size 400x400 with 1 Axes>"
      ]
     },
     "metadata": {},
     "output_type": "display_data"
    }
   ],
   "source": [
    "plt.subplots(figsize=(4,4))\n",
    "sns.scatterplot(data=result_df, x='fident', y='f1', \n",
    "                style='method', hue='cov', palette='Paired')\n",
    "plt.legend(bbox_to_anchor=(1.05, 1), loc='upper left')\n",
    "sns.despine()"
   ]
  },
  {
   "cell_type": "code",
   "execution_count": 25,
   "id": "4b9640ca-bc9c-4a25-8a9f-56c3cb7268cf",
   "metadata": {},
   "outputs": [
    {
     "data": {
      "image/png": "[encoded data removed]",
      "text/plain": [
       "<Figure size 400x400 with 1 Axes>"
      ]
     },
     "metadata": {},
     "output_type": "display_data"
    }
   ],
   "source": [
    "plt.subplots(figsize=(4,4))\n",
    "sns.scatterplot(data=result_df, x='largest_background_component', y='f1', \n",
    "                style='method', hue='fident', palette='flare')\n",
    "plt.legend(bbox_to_anchor=(1.05, 1), loc='upper left')\n",
    "sns.despine()"
   ]
  },
  {
   "cell_type": "code",
   "execution_count": 23,
   "id": "ce5acfcb-3497-4e0e-a2a9-fb2887c17148",
   "metadata": {},
   "outputs": [
    {
     "data": {
      "image/png": "[encoded data removed]",
      "text/plain": [
       "<Figure size 400x400 with 1 Axes>"
      ]
     },
     "metadata": {},
     "output_type": "display_data"
    }
   ],
   "source": [
    "plt.subplots(figsize=(4,4))\n",
    "sns.scatterplot(data=result_df, x='largest_defense_component', y='f1', \n",
    "                style='method', hue='fident', palette='flare')\n",
    "plt.legend(bbox_to_anchor=(1.05, 1), loc='upper left')\n",
    "sns.despine()"
   ]
  },
  {
   "cell_type": "code",
   "execution_count": null,
   "id": "d302d23e-ce7e-47ad-af8e-7c489b2116c1",
   "metadata": {},
   "outputs": [],
   "source": []
  }
 ],
 "metadata": {
  "kernelspec": {
   "display_name": "beaker",
   "language": "python",
   "name": "beaker"
  },
  "language_info": {
   "codemirror_mode": {
    "name": "ipython",
    "version": 3
   },
   "file_extension": ".py",
   "mimetype": "text/x-python",
   "name": "python",
   "nbconvert_exporter": "python",
   "pygments_lexer": "ipython3",
   "version": "3.8.16"
  }
 },
 "nbformat": 4,
 "nbformat_minor": 5
}
