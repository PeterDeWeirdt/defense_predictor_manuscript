{
 "cells": [
  {
   "cell_type": "code",
   "execution_count": 2,
   "id": "60fff144-ad94-4028-9bbb-58b9b63dea0e",
   "metadata": {},
   "outputs": [],
   "source": [
    "import pandas as pd\n",
    "from core import med_log_odds_cutoff\n",
    "from tqdm import tqdm\n",
    "import os\n",
    "import numpy as np\n",
    "import matplotlib.pyplot as plt\n",
    "import seaborn as sns\n",
    "import gpplot\n",
    "from joblib import Parallel, delayed"
   ]
  },
  {
   "cell_type": "code",
   "execution_count": 50,
   "id": "e4eec002-b173-42fb-8d3a-a145d732e388",
   "metadata": {},
   "outputs": [],
   "source": [
    "plt.rcParams['svg.fonttype'] = 'none'\n",
    "plt.rcParams['font.size'] = 7\n",
    "plt.rcParams['xtick.labelsize'] = 6\n",
    "plt.rcParams['ytick.labelsize'] = 6"
   ]
  },
  {
   "cell_type": "code",
   "execution_count": 4,
   "id": "20258007-4349-4b5b-bc56-cab8bb8c16b7",
   "metadata": {},
   "outputs": [],
   "source": [
    "seq_id_accessions = pd.read_parquet('../data/interim/seq_id_accessions.pq')\n",
    "df_true_df = pd.read_parquet('../data/interim/defense_finder_genes_genomes.pq')\n",
    "df_homolog_df = pd.read_parquet('../data/interim/defense_finder_homologs_profile_names.pq')\n",
    "df_homolog_df = df_homolog_df.merge(seq_id_accessions, how='inner', on='seq_id')"
   ]
  },
  {
   "cell_type": "code",
   "execution_count": 5,
   "id": "13666e5e-d236-41dd-a8c0-6f97718e667c",
   "metadata": {},
   "outputs": [
    {
     "name": "stdout",
     "output_type": "stream",
     "text": [
      "CPU times: user 4min 25s, sys: 25.6 s, total: 4min 51s\n",
      "Wall time: 4min 51s\n"
     ]
    }
   ],
   "source": [
    "%%time\n",
    "seq_assemblies = pd.read_csv('../data/interim/seq_assemblies.csv', \n",
    "                             names=['product_accession', 'seq_id', 'seq', 'assembly'])"
   ]
  },
  {
   "cell_type": "code",
   "execution_count": 6,
   "id": "5351dfba-63ab-407e-9269-1862739e2325",
   "metadata": {},
   "outputs": [
    {
     "name": "stdout",
     "output_type": "stream",
     "text": [
      "CPU times: user 24.6 s, sys: 8.97 s, total: 33.6 s\n",
      "Wall time: 28.4 s\n"
     ]
    }
   ],
   "source": [
    "%%time\n",
    "cluster_df = pd.read_parquet('../data3/interim/refseq_cover_clusters.pq')"
   ]
  },
  {
   "cell_type": "code",
   "execution_count": 7,
   "id": "bd29d978-a293-4d8f-af64-db2f838b1c57",
   "metadata": {},
   "outputs": [],
   "source": [
    "unqiue_df_homolog_df = (df_homolog_df.groupby('seq_id')\n",
    "                        .sample(n=1, random_state=7))"
   ]
  },
  {
   "cell_type": "code",
   "execution_count": 8,
   "id": "39c36e31-5991-41cc-9c03-0186f17ac995",
   "metadata": {},
   "outputs": [],
   "source": [
    "prediction_out_dir = '../data3/interim/refseq1k_preds/'"
   ]
  },
  {
   "cell_type": "code",
   "execution_count": 9,
   "id": "74e1b59d-3df7-47ca-b1fa-585467b4baa8",
   "metadata": {},
   "outputs": [
    {
     "name": "stderr",
     "output_type": "stream",
     "text": [
      "100%|██████████| 1998/1998 [00:58<00:00, 34.16it/s]\n"
     ]
    }
   ],
   "source": [
    "predictions = pd.concat([pd.read_parquet(prediction_out_dir + f) for \n",
    "                         f in tqdm(os.listdir(prediction_out_dir)) if '_predictions.pq' in f])"
   ]
  },
  {
   "cell_type": "code",
   "execution_count": 51,
   "id": "7981a755-f0c9-4dba-91cc-0c49b6b8e39f",
   "metadata": {},
   "outputs": [
    {
     "data": {
      "image/png": "[encoded data removed]",
      "text/plain": [
       "<Figure size 200x200 with 1 Axes>"
      ]
     },
     "metadata": {},
     "output_type": "display_data"
    }
   ],
   "source": [
    "plt.subplots(figsize=(2,2))\n",
    "sns.histplot(predictions['mean_log_odds'], binwidth=1, \n",
    "             color='grey')\n",
    "plt.xlabel('Log odds of defense')\n",
    "plt.ylabel('# Genes')\n",
    "plt.axvline(x=med_log_odds_cutoff, linestyle='dashed', color='black')\n",
    "sns.despine()"
   ]
  },
  {
   "cell_type": "code",
   "execution_count": 11,
   "id": "0dc2b963-f5eb-4d33-8718-e45cf19160bc",
   "metadata": {},
   "outputs": [],
   "source": [
    "predictions['predicted_defensive'] = predictions['mean_log_odds'] > med_log_odds_cutoff"
   ]
  },
  {
   "cell_type": "code",
   "execution_count": 12,
   "id": "3295a8ce-7890-4ee8-9665-96fddb641d46",
   "metadata": {},
   "outputs": [
    {
     "data": {
      "text/plain": [
       "32491"
      ]
     },
     "execution_count": 12,
     "metadata": {},
     "output_type": "execute_result"
    }
   ],
   "source": [
    "predictions['predicted_defensive'].sum()"
   ]
  },
  {
   "cell_type": "code",
   "execution_count": 13,
   "id": "bdfae718-1cb0-4bd5-9e44-6ef69b29580a",
   "metadata": {},
   "outputs": [],
   "source": [
    "unique_true_df = (df_true_df.sort_values('sys_score', ascending=False)\n",
    "                  .groupby(['genome', 'protein_accession'])\n",
    "                  .head(1))"
   ]
  },
  {
   "cell_type": "code",
   "execution_count": 14,
   "id": "72086c77-eb38-41d1-88d3-4891a0fc86e5",
   "metadata": {},
   "outputs": [],
   "source": [
    "refseq_1k_seqs = seq_assemblies.loc[seq_assemblies['product_accession']\n",
    "                                   .isin(predictions['product_accession'].unique()), \n",
    "                                   ['product_accession', 'seq', 'seq_id']].drop_duplicates()\n"
   ]
  },
  {
   "cell_type": "code",
   "execution_count": 15,
   "id": "f6537c81-0186-44a0-b04b-ca2aab768df5",
   "metadata": {},
   "outputs": [],
   "source": [
    "merged_predictions = (predictions.merge(unqiue_df_homolog_df.rename(columns={'protein_accession': 'product_accession', \n",
    "                                                                             'gene_name': 'defense_homolog_name'})\n",
    "                                        .drop(columns='seq_id'), \n",
    "                                        how='left', on='product_accession'))\n",
    "merged_predictions['defense_homolog'] = ~merged_predictions['defense_homolog_name'].isna()\n",
    "merged_predictions['assembly_stub'] = merged_predictions['assembly'].str.split('.', expand=True)[0]\n",
    "merged_predictions = (merged_predictions.merge(unique_true_df[['genome', 'protein_accession','gene_name', 'sys_id']]\n",
    "                                               .rename(columns={'genome': 'assembly_stub', \n",
    "                                                                'protein_accession': 'product_accession', \n",
    "                                                                'gene_name': 'defense_system_gene', \n",
    "                                                                'sys_id': 'defense_system'}), \n",
    "                                               how='left', on=['product_accession', 'assembly_stub']))\n",
    "merged_predictions['defense_system_protein'] = ~merged_predictions['defense_system_gene'].isna()\n",
    "merged_predictions = (merged_predictions\n",
    "                      .merge(refseq_1k_seqs, how='inner', on='product_accession')\n",
    "                      .merge(cluster_df, how='inner', on='seq_id'))"
   ]
  },
  {
   "cell_type": "code",
   "execution_count": 16,
   "id": "ead2f3db-8b87-4a57-b89d-f233e1a4220b",
   "metadata": {},
   "outputs": [
    {
     "data": {
      "text/plain": [
       "True"
      ]
     },
     "execution_count": 16,
     "metadata": {},
     "output_type": "execute_result"
    }
   ],
   "source": [
    "len(merged_predictions) == len(predictions)"
   ]
  },
  {
   "cell_type": "code",
   "execution_count": 17,
   "id": "0a8480ab-2b81-4fd5-aace-2039eea87028",
   "metadata": {},
   "outputs": [],
   "source": [
    "cluster_count = (merged_predictions\n",
    "                 .groupby('cluster_id')\n",
    "                 .agg(n_assemblies=('assembly', 'nunique'))\n",
    "                 .reset_index(drop=True))"
   ]
  },
  {
   "cell_type": "code",
   "execution_count": 18,
   "id": "dc7675f3-54cb-47b8-b930-f05fb400b054",
   "metadata": {},
   "outputs": [
    {
     "data": {
      "text/plain": [
       "999"
      ]
     },
     "execution_count": 18,
     "metadata": {},
     "output_type": "execute_result"
    }
   ],
   "source": [
    "assemblies = merged_predictions['assembly'].drop_duplicates()\n",
    "n_assemblies = len(assemblies)\n",
    "n_assemblies"
   ]
  },
  {
   "cell_type": "code",
   "execution_count": 19,
   "id": "a8773dae-9a47-46d5-8bba-1e5a5b09bd89",
   "metadata": {},
   "outputs": [
    {
     "data": {
      "text/plain": [
       "740809"
      ]
     },
     "execution_count": 19,
     "metadata": {},
     "output_type": "execute_result"
    }
   ],
   "source": [
    "len(cluster_count)"
   ]
  },
  {
   "cell_type": "code",
   "execution_count": 20,
   "id": "278cea99-8592-4ce0-a28d-d94b9a568895",
   "metadata": {},
   "outputs": [
    {
     "data": {
      "text/plain": [
       "696455"
      ]
     },
     "execution_count": 20,
     "metadata": {},
     "output_type": "execute_result"
    }
   ],
   "source": [
    "(cluster_count['n_assemblies'] <= 10).sum()"
   ]
  },
  {
   "cell_type": "code",
   "execution_count": 21,
   "id": "df8573de-7007-4265-98ee-8ba5debd062d",
   "metadata": {},
   "outputs": [
    {
     "data": {
      "text/plain": [
       "80"
      ]
     },
     "execution_count": 21,
     "metadata": {},
     "output_type": "execute_result"
    }
   ],
   "source": [
    "(cluster_count['n_assemblies'] >= 900).sum()"
   ]
  },
  {
   "cell_type": "code",
   "execution_count": 52,
   "id": "b5165b07-d51a-47bf-aa25-219e8c1958e1",
   "metadata": {},
   "outputs": [
    {
     "data": {
      "image/png": "[encoded data removed]",
      "text/plain": [
       "<Figure size 200x200 with 1 Axes>"
      ]
     },
     "metadata": {},
     "output_type": "display_data"
    }
   ],
   "source": [
    "plt.subplots(figsize=(2,2))\n",
    "sns.histplot(data=cluster_count, x='n_assemblies',binwidth=100, color='darkgrey', alpha=1)\n",
    "sns.despine()\n",
    "plt.xlabel('# Genomes')\n",
    "plt.ylabel('# Protein clusters')\n",
    "plt.savefig('../figures/refseq_1k_u_plot.svg', dpi=300, bbox_inches='tight')"
   ]
  },
  {
   "cell_type": "code",
   "execution_count": 23,
   "id": "41ed420d-7b81-47d9-a2cb-1d1dde3aea04",
   "metadata": {},
   "outputs": [],
   "source": [
    "n_samples = [int(x) for x in np.linspace(1, len(assemblies), num=50)]\n",
    "n_boot = 10"
   ]
  },
  {
   "cell_type": "code",
   "execution_count": 24,
   "id": "50653452-3961-4576-ba43-472879deedc5",
   "metadata": {},
   "outputs": [],
   "source": [
    "del seq_assemblies, cluster_df"
   ]
  },
  {
   "cell_type": "code",
   "execution_count": 25,
   "id": "2ae54d24-16b8-418d-b801-20fd3826d458",
   "metadata": {},
   "outputs": [
    {
     "name": "stderr",
     "output_type": "stream",
     "text": [
      "100%|██████████| 50/50 [05:27<00:00,  6.54s/it]\n"
     ]
    }
   ],
   "source": [
    "n_clusters_per_assembly_list = list()\n",
    "for n in tqdm(n_samples, position=0):\n",
    "    for boot in range(n_boot):\n",
    "        sampled_assemblies = set(assemblies.sample(n=n, random_state=boot))\n",
    "        n_clusters = merged_predictions.loc[merged_predictions['assembly'].isin(sampled_assemblies), \n",
    "                                              'cluster_id'].nunique()\n",
    "        n_clusters_per_assembly_list.append({'n_assemblies': n,\n",
    "                                             'n_clusters': n_clusters, \n",
    "                                             'boot': boot})"
   ]
  },
  {
   "cell_type": "code",
   "execution_count": 26,
   "id": "ee7ba145-ef98-4144-9018-83bf3e9fbd6d",
   "metadata": {},
   "outputs": [],
   "source": [
    "n_clusters_per_assembly_df = pd.DataFrame(n_clusters_per_assembly_list)"
   ]
  },
  {
   "cell_type": "code",
   "execution_count": 27,
   "id": "048598a4-5b90-489d-9c7c-66b3dd3bc4df",
   "metadata": {},
   "outputs": [],
   "source": [
    "agg_n_clusters_per_assembly = (n_clusters_per_assembly_df\n",
    "                               .groupby('n_assemblies')\n",
    "                               .agg({'n_clusters': 'mean'})\n",
    "                               .reset_index())"
   ]
  },
  {
   "cell_type": "code",
   "execution_count": 53,
   "id": "2d3b535d-640e-49ab-b98a-1a61a5738e04",
   "metadata": {},
   "outputs": [
    {
     "data": {
      "image/png": "[encoded data removed]",
      "text/plain": [
       "<Figure size 200x200 with 1 Axes>"
      ]
     },
     "metadata": {},
     "output_type": "display_data"
    }
   ],
   "source": [
    "plt.subplots(figsize=(2, 2))\n",
    "sns.scatterplot(data=agg_n_clusters_per_assembly, x='n_assemblies', y='n_clusters',\n",
    "                color='black', s=10)\n",
    "sns.despine()\n",
    "plt.xlabel('# Genomes')\n",
    "plt.ylabel('# Protein clusters')\n",
    "plt.savefig('../figures/refseq_1k_clusters_per_assembly.svg', dpi=300, bbox_inches='tight')"
   ]
  },
  {
   "cell_type": "code",
   "execution_count": 29,
   "id": "6acc16d9-ec2e-47c6-ba7e-96be17b8ddc9",
   "metadata": {},
   "outputs": [],
   "source": [
    "assembly_n_genes = (merged_predictions.groupby('assembly')\n",
    "                    .agg(total_genes=('product_accession', 'count'), \n",
    "                         predicted_defense_genes=('predicted_defensive', 'sum'), \n",
    "                         known_defense_genes=('defense_system_protein', 'sum'))\n",
    "                    .reset_index())\n",
    "assembly_n_genes['perc_predicted_defensive'] = (assembly_n_genes['predicted_defense_genes']/assembly_n_genes['total_genes'])*100\n",
    "assembly_n_genes['perc_known_defensive'] = (assembly_n_genes['known_defense_genes']/assembly_n_genes['total_genes'])*100\n"
   ]
  },
  {
   "cell_type": "code",
   "execution_count": 30,
   "id": "32dccf06-f0a8-4ea5-a3f3-d30a2f9599f2",
   "metadata": {},
   "outputs": [
    {
     "data": {
      "text/plain": [
       "perc_predicted_defensive     0.867404\n",
       "perc_known_defensive         0.388014\n",
       "predicted_defense_genes     32.523524\n",
       "known_defense_genes         13.859860\n",
       "dtype: float64"
      ]
     },
     "execution_count": 30,
     "metadata": {},
     "output_type": "execute_result"
    }
   ],
   "source": [
    "assembly_n_genes[['perc_predicted_defensive', 'perc_known_defensive', \n",
    "                  'predicted_defense_genes', 'known_defense_genes']].mean()"
   ]
  },
  {
   "cell_type": "code",
   "execution_count": 54,
   "id": "d971d647-412b-4083-8581-779f389d57a4",
   "metadata": {},
   "outputs": [
    {
     "data": {
      "image/png": "[encoded data removed]",
      "text/plain": [
       "<Figure size 200x200 with 1 Axes>"
      ]
     },
     "metadata": {},
     "output_type": "display_data"
    }
   ],
   "source": [
    "plt.subplots(figsize=(2,2))\n",
    "gpplot.point_densityplot(data=assembly_n_genes, \n",
    "                         x='perc_known_defensive', \n",
    "                         y='perc_predicted_defensive',  \n",
    "                         s=10)\n",
    "gpplot.add_correlation(data=assembly_n_genes, \n",
    "                       x='perc_predicted_defensive', \n",
    "                       y='perc_known_defensive', \n",
    "                       fontfamily='Sans-Serif')\n",
    "plt.xlabel('DefenseFinder\\n(% defensive)')\n",
    "plt.ylabel('DefensePredictor\\n(% defensive)')\n",
    "sns.despine()\n",
    "gpplot.add_xy_line()\n",
    "plt.title('Diverse Bacterial Genomes')\n",
    "plt.savefig('../figures/systems_df_dp.svg', dpi=300, bbox_inches='tight')"
   ]
  },
  {
   "cell_type": "code",
   "execution_count": 32,
   "id": "7078a03f-4445-4aa3-a9e0-ba75bb5c1504",
   "metadata": {},
   "outputs": [
    {
     "data": {
      "text/html": [
       "<div>\n",
       "<style scoped>\n",
       "    .dataframe tbody tr th:only-of-type {\n",
       "        vertical-align: middle;\n",
       "    }\n",
       "\n",
       "    .dataframe tbody tr th {\n",
       "        vertical-align: top;\n",
       "    }\n",
       "\n",
       "    .dataframe thead th {\n",
       "        text-align: right;\n",
       "    }\n",
       "</style>\n",
       "<table border=\"1\" class=\"dataframe\">\n",
       "  <thead>\n",
       "    <tr style=\"text-align: right;\">\n",
       "      <th></th>\n",
       "      <th>assembly</th>\n",
       "      <th>total_genes</th>\n",
       "      <th>predicted_defense_genes</th>\n",
       "      <th>known_defense_genes</th>\n",
       "      <th>perc_predicted_defensive</th>\n",
       "      <th>perc_known_defensive</th>\n",
       "    </tr>\n",
       "  </thead>\n",
       "  <tbody>\n",
       "    <tr>\n",
       "      <th>499</th>\n",
       "      <td>GCF_008189685.1</td>\n",
       "      <td>576</td>\n",
       "      <td>0</td>\n",
       "      <td>0</td>\n",
       "      <td>0.000000</td>\n",
       "      <td>0.000000</td>\n",
       "    </tr>\n",
       "    <tr>\n",
       "      <th>53</th>\n",
       "      <td>GCF_000292685.1</td>\n",
       "      <td>249</td>\n",
       "      <td>0</td>\n",
       "      <td>0</td>\n",
       "      <td>0.000000</td>\n",
       "      <td>0.000000</td>\n",
       "    </tr>\n",
       "    <tr>\n",
       "      <th>997</th>\n",
       "      <td>GCF_936981045.1</td>\n",
       "      <td>805</td>\n",
       "      <td>0</td>\n",
       "      <td>0</td>\n",
       "      <td>0.000000</td>\n",
       "      <td>0.000000</td>\n",
       "    </tr>\n",
       "    <tr>\n",
       "      <th>54</th>\n",
       "      <td>GCF_000319245.1</td>\n",
       "      <td>736</td>\n",
       "      <td>0</td>\n",
       "      <td>0</td>\n",
       "      <td>0.000000</td>\n",
       "      <td>0.000000</td>\n",
       "    </tr>\n",
       "    <tr>\n",
       "      <th>745</th>\n",
       "      <td>GCF_018107685.1</td>\n",
       "      <td>669</td>\n",
       "      <td>0</td>\n",
       "      <td>0</td>\n",
       "      <td>0.000000</td>\n",
       "      <td>0.000000</td>\n",
       "    </tr>\n",
       "    <tr>\n",
       "      <th>...</th>\n",
       "      <td>...</td>\n",
       "      <td>...</td>\n",
       "      <td>...</td>\n",
       "      <td>...</td>\n",
       "      <td>...</td>\n",
       "      <td>...</td>\n",
       "    </tr>\n",
       "    <tr>\n",
       "      <th>818</th>\n",
       "      <td>GCF_021390715.1</td>\n",
       "      <td>2265</td>\n",
       "      <td>65</td>\n",
       "      <td>33</td>\n",
       "      <td>2.869757</td>\n",
       "      <td>1.456954</td>\n",
       "    </tr>\n",
       "    <tr>\n",
       "      <th>427</th>\n",
       "      <td>GCF_004341395.1</td>\n",
       "      <td>2820</td>\n",
       "      <td>82</td>\n",
       "      <td>53</td>\n",
       "      <td>2.907801</td>\n",
       "      <td>1.879433</td>\n",
       "    </tr>\n",
       "    <tr>\n",
       "      <th>295</th>\n",
       "      <td>GCF_002999455.1</td>\n",
       "      <td>684</td>\n",
       "      <td>20</td>\n",
       "      <td>0</td>\n",
       "      <td>2.923977</td>\n",
       "      <td>0.000000</td>\n",
       "    </tr>\n",
       "    <tr>\n",
       "      <th>247</th>\n",
       "      <td>GCF_002149925.1</td>\n",
       "      <td>3334</td>\n",
       "      <td>126</td>\n",
       "      <td>56</td>\n",
       "      <td>3.779244</td>\n",
       "      <td>1.679664</td>\n",
       "    </tr>\n",
       "    <tr>\n",
       "      <th>268</th>\n",
       "      <td>GCF_002368075.1</td>\n",
       "      <td>4744</td>\n",
       "      <td>234</td>\n",
       "      <td>136</td>\n",
       "      <td>4.932546</td>\n",
       "      <td>2.866779</td>\n",
       "    </tr>\n",
       "  </tbody>\n",
       "</table>\n",
       "<p>999 rows × 6 columns</p>\n",
       "</div>"
      ],
      "text/plain": [
       "            assembly  total_genes  predicted_defense_genes   \n",
       "499  GCF_008189685.1          576                        0  \\\n",
       "53   GCF_000292685.1          249                        0   \n",
       "997  GCF_936981045.1          805                        0   \n",
       "54   GCF_000319245.1          736                        0   \n",
       "745  GCF_018107685.1          669                        0   \n",
       "..               ...          ...                      ...   \n",
       "818  GCF_021390715.1         2265                       65   \n",
       "427  GCF_004341395.1         2820                       82   \n",
       "295  GCF_002999455.1          684                       20   \n",
       "247  GCF_002149925.1         3334                      126   \n",
       "268  GCF_002368075.1         4744                      234   \n",
       "\n",
       "     known_defense_genes  perc_predicted_defensive  perc_known_defensive  \n",
       "499                    0                  0.000000              0.000000  \n",
       "53                     0                  0.000000              0.000000  \n",
       "997                    0                  0.000000              0.000000  \n",
       "54                     0                  0.000000              0.000000  \n",
       "745                    0                  0.000000              0.000000  \n",
       "..                   ...                       ...                   ...  \n",
       "818                   33                  2.869757              1.456954  \n",
       "427                   53                  2.907801              1.879433  \n",
       "295                    0                  2.923977              0.000000  \n",
       "247                   56                  3.779244              1.679664  \n",
       "268                  136                  4.932546              2.866779  \n",
       "\n",
       "[999 rows x 6 columns]"
      ]
     },
     "execution_count": 32,
     "metadata": {},
     "output_type": "execute_result"
    }
   ],
   "source": [
    "assembly_n_genes.sort_values('perc_predicted_defensive')"
   ]
  },
  {
   "cell_type": "code",
   "execution_count": 33,
   "id": "935bc87c-9a21-4927-94e0-a09a7cdeac21",
   "metadata": {},
   "outputs": [],
   "source": [
    "cluster_defense_frac = (merged_predictions.groupby('cluster_id')\n",
    "                        .agg(mean_defensive=('predicted_defensive', 'mean'), \n",
    "                             members=('seq_id', 'count'))\n",
    "                        .reset_index())"
   ]
  },
  {
   "cell_type": "code",
   "execution_count": 34,
   "id": "6770c084-ab32-497c-94c7-24d8e94492d4",
   "metadata": {},
   "outputs": [
    {
     "data": {
      "text/plain": [
       "13340"
      ]
     },
     "execution_count": 34,
     "metadata": {},
     "output_type": "execute_result"
    }
   ],
   "source": [
    "(cluster_defense_frac['mean_defensive'] == 1).sum()"
   ]
  },
  {
   "cell_type": "code",
   "execution_count": 35,
   "id": "d123b16f-f76f-4948-b775-01a76ac8f621",
   "metadata": {},
   "outputs": [
    {
     "data": {
      "text/plain": [
       "2385"
      ]
     },
     "execution_count": 35,
     "metadata": {},
     "output_type": "execute_result"
    }
   ],
   "source": [
    "(cluster_defense_frac\n",
    " .query('mean_defensive > 0')\n",
    " .query('members >= 3')\n",
    " ['mean_defensive'] >= 0.5).sum()"
   ]
  },
  {
   "cell_type": "code",
   "execution_count": 36,
   "id": "a4e87105-5985-44ab-8712-11f6acbe2129",
   "metadata": {},
   "outputs": [
    {
     "data": {
      "text/plain": [
       "3305"
      ]
     },
     "execution_count": 36,
     "metadata": {},
     "output_type": "execute_result"
    }
   ],
   "source": [
    "len(cluster_defense_frac\n",
    " .query('mean_defensive > 0')\n",
    " .query('members >= 3'))"
   ]
  },
  {
   "cell_type": "code",
   "execution_count": 56,
   "id": "03a36566-ca8a-470e-a5db-922321765467",
   "metadata": {},
   "outputs": [
    {
     "data": {
      "text/plain": [
       "0.7216338880484114"
      ]
     },
     "execution_count": 56,
     "metadata": {},
     "output_type": "execute_result"
    }
   ],
   "source": [
    "2385/3305"
   ]
  },
  {
   "cell_type": "code",
   "execution_count": 64,
   "id": "e8a09b35-792e-4a03-bacf-a114c34c5d49",
   "metadata": {},
   "outputs": [
    {
     "data": {
      "image/png": "[encoded data removed]",
      "text/plain": [
       "<Figure size 200x200 with 2 Axes>"
      ]
     },
     "metadata": {},
     "output_type": "display_data"
    }
   ],
   "source": [
    "f, (ax_top, ax_bottom) = plt.subplots(ncols=1, nrows=2, sharex=True, \n",
    "                                      gridspec_kw={'hspace':0.15}, \n",
    "                                      figsize=(2, 2), \n",
    "                                      height_ratios=[1,5])\n",
    "sns.histplot(data=cluster_defense_frac[cluster_defense_frac['members'] >= 3], \n",
    "             x='mean_defensive', color='darkgrey', ax=ax_bottom)\n",
    "sns.histplot(data=cluster_defense_frac[cluster_defense_frac['members'] >= 3], \n",
    "             x='mean_defensive', color='darkgrey', ax=ax_top)\n",
    "ax_top.set_ylim(154_900-2_000*1/5, 154_900)   \n",
    "ax_bottom.set_ylim(0,2_000)\n",
    "sns.despine(ax=ax_bottom)\n",
    "sns.despine(ax=ax_top, bottom=True)\n",
    "\n",
    "d = .015  # how big to make the diagonal lines in axes coordinates\n",
    "# arguments to pass to plot, just so we don't keep repeating them\n",
    "kwargs = dict(transform=ax_top.transAxes, color='k', clip_on=False)\n",
    "ax_top.plot((-d, +d), (-d, +d), **kwargs)        # top-left diagonal\n",
    "ax_top.xaxis.set_visible(False)\n",
    "ax_top.set_ylabel('')\n",
    "\n",
    "kwargs.update(transform=ax_bottom.transAxes)  # switch to the bottom axes\n",
    "ax_bottom.plot((-d, +d), (1 - d, 1 + d), **kwargs)  # bottom-left diagonal\n",
    "\n",
    "ax_bottom.set_xlabel(\"Fraction of cluster members\\n\"\n",
    "           \"predicted defensive\")\n",
    "plt.savefig('../figures/refseq_1k_cluster_frac_defensive.svg', bbox_inches='tight')"
   ]
  },
  {
   "cell_type": "code",
   "execution_count": 38,
   "id": "1d540b07-12fd-4de5-b579-dbd2f8daed25",
   "metadata": {},
   "outputs": [],
   "source": [
    "predicted_defense_clusters = merged_predictions.query('predicted_defensive')['cluster_id'].drop_duplicates()"
   ]
  },
  {
   "cell_type": "code",
   "execution_count": 39,
   "id": "6f41400b-c0af-483d-86f3-3e261aa44357",
   "metadata": {},
   "outputs": [],
   "source": [
    "defense_cluster_predictions = (merged_predictions[merged_predictions['cluster_id'].isin(predicted_defense_clusters)]\n",
    "                               .reset_index(drop=True))"
   ]
  },
  {
   "cell_type": "code",
   "execution_count": 40,
   "id": "3cc81ac6-8dcc-4326-a803-9f1351b067a6",
   "metadata": {},
   "outputs": [
    {
     "data": {
      "text/html": [
       "<div>\n",
       "<style scoped>\n",
       "    .dataframe tbody tr th:only-of-type {\n",
       "        vertical-align: middle;\n",
       "    }\n",
       "\n",
       "    .dataframe tbody tr th {\n",
       "        vertical-align: top;\n",
       "    }\n",
       "\n",
       "    .dataframe thead th {\n",
       "        text-align: right;\n",
       "    }\n",
       "</style>\n",
       "<table border=\"1\" class=\"dataframe\">\n",
       "  <thead>\n",
       "    <tr style=\"text-align: right;\">\n",
       "      <th></th>\n",
       "      <th>protein_context_id</th>\n",
       "      <th>mean_log_odds</th>\n",
       "      <th>sd_log_odds</th>\n",
       "      <th>min_log_odds</th>\n",
       "      <th>max_log_odds</th>\n",
       "      <th># feature</th>\n",
       "      <th>class</th>\n",
       "      <th>assembly</th>\n",
       "      <th>assembly_unit</th>\n",
       "      <th>seq_type</th>\n",
       "      <th>...</th>\n",
       "      <th>predicted_defensive</th>\n",
       "      <th>defense_homolog_name</th>\n",
       "      <th>defense_homolog</th>\n",
       "      <th>assembly_stub</th>\n",
       "      <th>defense_system_gene</th>\n",
       "      <th>defense_system</th>\n",
       "      <th>defense_system_protein</th>\n",
       "      <th>seq</th>\n",
       "      <th>seq_id</th>\n",
       "      <th>cluster_id</th>\n",
       "    </tr>\n",
       "  </thead>\n",
       "  <tbody>\n",
       "    <tr>\n",
       "      <th>0</th>\n",
       "      <td>WP_021762915.1|NZ_JACCFL010000001.1|4869|-</td>\n",
       "      <td>9.956518</td>\n",
       "      <td>1.078914</td>\n",
       "      <td>8.358637</td>\n",
       "      <td>11.564667</td>\n",
       "      <td>CDS</td>\n",
       "      <td>with_protein</td>\n",
       "      <td>GCF_013410375.1</td>\n",
       "      <td>Primary Assembly</td>\n",
       "      <td>unplaced scaffold</td>\n",
       "      <td>...</td>\n",
       "      <td>True</td>\n",
       "      <td>NaN</td>\n",
       "      <td>False</td>\n",
       "      <td>GCF_013410375</td>\n",
       "      <td>NaN</td>\n",
       "      <td>NaN</td>\n",
       "      <td>False</td>\n",
       "      <td>MEEQYSPRYTRLDAFESAAAQAAGAVLQHAFDRLTSLIESGRTVVS...</td>\n",
       "      <td>0a256e5aabab5d7489692acfc9ddff285c4fd3c7faa30c...</td>\n",
       "      <td>0a256e5aabab5d7489692acfc9ddff285c4fd3c7faa30c...</td>\n",
       "    </tr>\n",
       "    <tr>\n",
       "      <th>1</th>\n",
       "      <td>WP_021762916.1|NZ_JACCFL010000001.1|3943|+</td>\n",
       "      <td>6.790493</td>\n",
       "      <td>1.828072</td>\n",
       "      <td>3.456329</td>\n",
       "      <td>8.367027</td>\n",
       "      <td>CDS</td>\n",
       "      <td>with_protein</td>\n",
       "      <td>GCF_013410375.1</td>\n",
       "      <td>Primary Assembly</td>\n",
       "      <td>unplaced scaffold</td>\n",
       "      <td>...</td>\n",
       "      <td>True</td>\n",
       "      <td>NaN</td>\n",
       "      <td>False</td>\n",
       "      <td>GCF_013410375</td>\n",
       "      <td>NaN</td>\n",
       "      <td>NaN</td>\n",
       "      <td>False</td>\n",
       "      <td>MDLSQEEARRLRILAALFELAGHHTASDVSLAELNDKLIQMRDLGS...</td>\n",
       "      <td>dced1660071fb17d7aded1a9f67d5b7fcaa4414502c49b...</td>\n",
       "      <td>87577f2aa7c965ffa8a4b5ea9bef5b6894801368bdc6ab...</td>\n",
       "    </tr>\n",
       "    <tr>\n",
       "      <th>2</th>\n",
       "      <td>WP_039921959.1|NZ_JACCFL010000001.1|39549|+</td>\n",
       "      <td>4.240073</td>\n",
       "      <td>1.144081</td>\n",
       "      <td>3.056098</td>\n",
       "      <td>6.280027</td>\n",
       "      <td>CDS</td>\n",
       "      <td>with_protein</td>\n",
       "      <td>GCF_013410375.1</td>\n",
       "      <td>Primary Assembly</td>\n",
       "      <td>unplaced scaffold</td>\n",
       "      <td>...</td>\n",
       "      <td>True</td>\n",
       "      <td>NaN</td>\n",
       "      <td>False</td>\n",
       "      <td>GCF_013410375</td>\n",
       "      <td>NaN</td>\n",
       "      <td>NaN</td>\n",
       "      <td>False</td>\n",
       "      <td>MDFWQQFWATMWGALAGAIVAGGVTVFVAWRSWAVSRDSQYRDRFD...</td>\n",
       "      <td>29b755ab6d8429c77b67dab4d9c67e99213cb4f662cf87...</td>\n",
       "      <td>29b755ab6d8429c77b67dab4d9c67e99213cb4f662cf87...</td>\n",
       "    </tr>\n",
       "    <tr>\n",
       "      <th>3</th>\n",
       "      <td>WP_179603977.1|NZ_JACCFL010000001.1|138804|-</td>\n",
       "      <td>-2.019759</td>\n",
       "      <td>2.025559</td>\n",
       "      <td>-6.016954</td>\n",
       "      <td>-0.465172</td>\n",
       "      <td>CDS</td>\n",
       "      <td>with_protein</td>\n",
       "      <td>GCF_013410375.1</td>\n",
       "      <td>Primary Assembly</td>\n",
       "      <td>unplaced scaffold</td>\n",
       "      <td>...</td>\n",
       "      <td>False</td>\n",
       "      <td>NaN</td>\n",
       "      <td>False</td>\n",
       "      <td>GCF_013410375</td>\n",
       "      <td>NaN</td>\n",
       "      <td>NaN</td>\n",
       "      <td>False</td>\n",
       "      <td>MRQGPGQGAESTLVTASSPAFALPENLHAKSAPALIADDERHFAAI...</td>\n",
       "      <td>2b14780b484861cd7f05bb3692cddf39de53311c720289...</td>\n",
       "      <td>721e4c9417b8e912e829a3bf0e948ac6328f17f9e2ff59...</td>\n",
       "    </tr>\n",
       "    <tr>\n",
       "      <th>4</th>\n",
       "      <td>WP_179604146.1|NZ_JACCFL010000001.1|342732|-</td>\n",
       "      <td>1.574364</td>\n",
       "      <td>2.060194</td>\n",
       "      <td>-1.411895</td>\n",
       "      <td>4.834469</td>\n",
       "      <td>CDS</td>\n",
       "      <td>with_protein</td>\n",
       "      <td>GCF_013410375.1</td>\n",
       "      <td>Primary Assembly</td>\n",
       "      <td>unplaced scaffold</td>\n",
       "      <td>...</td>\n",
       "      <td>False</td>\n",
       "      <td>NaN</td>\n",
       "      <td>False</td>\n",
       "      <td>GCF_013410375</td>\n",
       "      <td>NaN</td>\n",
       "      <td>NaN</td>\n",
       "      <td>False</td>\n",
       "      <td>MTMEPNRAEAEHDYGANEIQILEGLEAVRKRPGMYIGSTGPRGLHH...</td>\n",
       "      <td>df2b019cc21fd74a33718bc0c242e2ca4d549d51a77979...</td>\n",
       "      <td>986c293a4a6a3d7c881f720f4011f329eeb9128862b2aa...</td>\n",
       "    </tr>\n",
       "    <tr>\n",
       "      <th>...</th>\n",
       "      <td>...</td>\n",
       "      <td>...</td>\n",
       "      <td>...</td>\n",
       "      <td>...</td>\n",
       "      <td>...</td>\n",
       "      <td>...</td>\n",
       "      <td>...</td>\n",
       "      <td>...</td>\n",
       "      <td>...</td>\n",
       "      <td>...</td>\n",
       "      <td>...</td>\n",
       "      <td>...</td>\n",
       "      <td>...</td>\n",
       "      <td>...</td>\n",
       "      <td>...</td>\n",
       "      <td>...</td>\n",
       "      <td>...</td>\n",
       "      <td>...</td>\n",
       "      <td>...</td>\n",
       "      <td>...</td>\n",
       "      <td>...</td>\n",
       "    </tr>\n",
       "    <tr>\n",
       "      <th>49384</th>\n",
       "      <td>WP_241950906.1|NZ_CP093334.1|2508122|+</td>\n",
       "      <td>4.586210</td>\n",
       "      <td>1.208984</td>\n",
       "      <td>2.822729</td>\n",
       "      <td>6.178513</td>\n",
       "      <td>CDS</td>\n",
       "      <td>with_protein</td>\n",
       "      <td>GCF_022637595.1</td>\n",
       "      <td>Primary Assembly</td>\n",
       "      <td>chromosome</td>\n",
       "      <td>...</td>\n",
       "      <td>True</td>\n",
       "      <td>DISARM_1__drmD</td>\n",
       "      <td>True</td>\n",
       "      <td>GCF_022637595</td>\n",
       "      <td>NaN</td>\n",
       "      <td>NaN</td>\n",
       "      <td>False</td>\n",
       "      <td>MQITEYHAKYYAHELTCLHAADSVDRLSQSLFDATVDLNPHQIEAA...</td>\n",
       "      <td>67339af8e87b2b8dc3fd846c7b5f6eaf27ab2a55eec592...</td>\n",
       "      <td>d56011618cd3cb7b30dcb3e32ba8d3bdbbd0cbf4ce8046...</td>\n",
       "    </tr>\n",
       "    <tr>\n",
       "      <th>49385</th>\n",
       "      <td>WP_241950907.1|NZ_CP093334.1|2511118|+</td>\n",
       "      <td>11.257812</td>\n",
       "      <td>2.456174</td>\n",
       "      <td>6.828589</td>\n",
       "      <td>13.392220</td>\n",
       "      <td>CDS</td>\n",
       "      <td>with_protein</td>\n",
       "      <td>GCF_022637595.1</td>\n",
       "      <td>Primary Assembly</td>\n",
       "      <td>chromosome</td>\n",
       "      <td>...</td>\n",
       "      <td>True</td>\n",
       "      <td>RM_Type_II__Type_II_MTases</td>\n",
       "      <td>True</td>\n",
       "      <td>GCF_022637595</td>\n",
       "      <td>NaN</td>\n",
       "      <td>NaN</td>\n",
       "      <td>False</td>\n",
       "      <td>MSKFNELVTKLREVFQIDRPELDFGVYRILNARADEINEYLEKRLK...</td>\n",
       "      <td>9b094fea70db9755819bb78ffc3e94886e39575cd3343f...</td>\n",
       "      <td>0fb403a23fc30eafc899dfba6d6cdd5a198d28d9040bc9...</td>\n",
       "    </tr>\n",
       "    <tr>\n",
       "      <th>49386</th>\n",
       "      <td>WP_241950908.1|NZ_CP093334.1|2514540|+</td>\n",
       "      <td>7.246435</td>\n",
       "      <td>0.663222</td>\n",
       "      <td>6.555775</td>\n",
       "      <td>8.491685</td>\n",
       "      <td>CDS</td>\n",
       "      <td>with_protein</td>\n",
       "      <td>GCF_022637595.1</td>\n",
       "      <td>Primary Assembly</td>\n",
       "      <td>chromosome</td>\n",
       "      <td>...</td>\n",
       "      <td>True</td>\n",
       "      <td>NaN</td>\n",
       "      <td>False</td>\n",
       "      <td>GCF_022637595</td>\n",
       "      <td>NaN</td>\n",
       "      <td>NaN</td>\n",
       "      <td>False</td>\n",
       "      <td>MAFPKTAAKTKLKKRSFHQELVLNRWMMRFFKGNELAALKLRLGDD...</td>\n",
       "      <td>a52eb803c345c76b34a38dffba63331ee18bc6e521b938...</td>\n",
       "      <td>378f81814893eea527965f358905a6d0dcf73b37b9f04d...</td>\n",
       "    </tr>\n",
       "    <tr>\n",
       "      <th>49387</th>\n",
       "      <td>WP_241950967.1|NZ_CP093334.1|4338299|+</td>\n",
       "      <td>9.544392</td>\n",
       "      <td>2.546536</td>\n",
       "      <td>5.904395</td>\n",
       "      <td>13.398849</td>\n",
       "      <td>CDS</td>\n",
       "      <td>with_protein</td>\n",
       "      <td>GCF_022637595.1</td>\n",
       "      <td>Primary Assembly</td>\n",
       "      <td>chromosome</td>\n",
       "      <td>...</td>\n",
       "      <td>True</td>\n",
       "      <td>NaN</td>\n",
       "      <td>False</td>\n",
       "      <td>GCF_022637595</td>\n",
       "      <td>NaN</td>\n",
       "      <td>NaN</td>\n",
       "      <td>False</td>\n",
       "      <td>MPVHHAIWRVGETPQPLTISKLATEKLLQKMIIQDSSILSDQWMII...</td>\n",
       "      <td>111b738d0581cdd64bb3324da56fde9e6399f938f29242...</td>\n",
       "      <td>1742a38689e526ce282515099c505d0d04d9cb59d4b206...</td>\n",
       "    </tr>\n",
       "    <tr>\n",
       "      <th>49388</th>\n",
       "      <td>WP_241950971.1|NZ_CP093334.1|5029174|+</td>\n",
       "      <td>-0.118897</td>\n",
       "      <td>5.102869</td>\n",
       "      <td>-10.028741</td>\n",
       "      <td>3.617891</td>\n",
       "      <td>CDS</td>\n",
       "      <td>with_protein</td>\n",
       "      <td>GCF_022637595.1</td>\n",
       "      <td>Primary Assembly</td>\n",
       "      <td>chromosome</td>\n",
       "      <td>...</td>\n",
       "      <td>False</td>\n",
       "      <td>RM_Type_II__Type_II_MTases</td>\n",
       "      <td>True</td>\n",
       "      <td>GCF_022637595</td>\n",
       "      <td>NaN</td>\n",
       "      <td>NaN</td>\n",
       "      <td>False</td>\n",
       "      <td>MAIYDVKTLVAFLLAVGDRHWSPAILKRVATVERAANRITAKEYAR...</td>\n",
       "      <td>4c5d6e59f4885f76d9090c5dc589b53e2c283e08542360...</td>\n",
       "      <td>7455dc86b27af3bdf9de456df3d8f67aec82b9b3c220dd...</td>\n",
       "    </tr>\n",
       "  </tbody>\n",
       "</table>\n",
       "<p>49389 rows × 35 columns</p>\n",
       "</div>"
      ],
      "text/plain": [
       "                                 protein_context_id  mean_log_odds   \n",
       "0        WP_021762915.1|NZ_JACCFL010000001.1|4869|-       9.956518  \\\n",
       "1        WP_021762916.1|NZ_JACCFL010000001.1|3943|+       6.790493   \n",
       "2       WP_039921959.1|NZ_JACCFL010000001.1|39549|+       4.240073   \n",
       "3      WP_179603977.1|NZ_JACCFL010000001.1|138804|-      -2.019759   \n",
       "4      WP_179604146.1|NZ_JACCFL010000001.1|342732|-       1.574364   \n",
       "...                                             ...            ...   \n",
       "49384        WP_241950906.1|NZ_CP093334.1|2508122|+       4.586210   \n",
       "49385        WP_241950907.1|NZ_CP093334.1|2511118|+      11.257812   \n",
       "49386        WP_241950908.1|NZ_CP093334.1|2514540|+       7.246435   \n",
       "49387        WP_241950967.1|NZ_CP093334.1|4338299|+       9.544392   \n",
       "49388        WP_241950971.1|NZ_CP093334.1|5029174|+      -0.118897   \n",
       "\n",
       "       sd_log_odds  min_log_odds  max_log_odds # feature         class   \n",
       "0         1.078914      8.358637     11.564667       CDS  with_protein  \\\n",
       "1         1.828072      3.456329      8.367027       CDS  with_protein   \n",
       "2         1.144081      3.056098      6.280027       CDS  with_protein   \n",
       "3         2.025559     -6.016954     -0.465172       CDS  with_protein   \n",
       "4         2.060194     -1.411895      4.834469       CDS  with_protein   \n",
       "...            ...           ...           ...       ...           ...   \n",
       "49384     1.208984      2.822729      6.178513       CDS  with_protein   \n",
       "49385     2.456174      6.828589     13.392220       CDS  with_protein   \n",
       "49386     0.663222      6.555775      8.491685       CDS  with_protein   \n",
       "49387     2.546536      5.904395     13.398849       CDS  with_protein   \n",
       "49388     5.102869    -10.028741      3.617891       CDS  with_protein   \n",
       "\n",
       "              assembly     assembly_unit           seq_type  ...   \n",
       "0      GCF_013410375.1  Primary Assembly  unplaced scaffold  ...  \\\n",
       "1      GCF_013410375.1  Primary Assembly  unplaced scaffold  ...   \n",
       "2      GCF_013410375.1  Primary Assembly  unplaced scaffold  ...   \n",
       "3      GCF_013410375.1  Primary Assembly  unplaced scaffold  ...   \n",
       "4      GCF_013410375.1  Primary Assembly  unplaced scaffold  ...   \n",
       "...                ...               ...                ...  ...   \n",
       "49384  GCF_022637595.1  Primary Assembly         chromosome  ...   \n",
       "49385  GCF_022637595.1  Primary Assembly         chromosome  ...   \n",
       "49386  GCF_022637595.1  Primary Assembly         chromosome  ...   \n",
       "49387  GCF_022637595.1  Primary Assembly         chromosome  ...   \n",
       "49388  GCF_022637595.1  Primary Assembly         chromosome  ...   \n",
       "\n",
       "      predicted_defensive        defense_homolog_name  defense_homolog   \n",
       "0                    True                         NaN            False  \\\n",
       "1                    True                         NaN            False   \n",
       "2                    True                         NaN            False   \n",
       "3                   False                         NaN            False   \n",
       "4                   False                         NaN            False   \n",
       "...                   ...                         ...              ...   \n",
       "49384                True              DISARM_1__drmD             True   \n",
       "49385                True  RM_Type_II__Type_II_MTases             True   \n",
       "49386                True                         NaN            False   \n",
       "49387                True                         NaN            False   \n",
       "49388               False  RM_Type_II__Type_II_MTases             True   \n",
       "\n",
       "       assembly_stub defense_system_gene defense_system   \n",
       "0      GCF_013410375                 NaN            NaN  \\\n",
       "1      GCF_013410375                 NaN            NaN   \n",
       "2      GCF_013410375                 NaN            NaN   \n",
       "3      GCF_013410375                 NaN            NaN   \n",
       "4      GCF_013410375                 NaN            NaN   \n",
       "...              ...                 ...            ...   \n",
       "49384  GCF_022637595                 NaN            NaN   \n",
       "49385  GCF_022637595                 NaN            NaN   \n",
       "49386  GCF_022637595                 NaN            NaN   \n",
       "49387  GCF_022637595                 NaN            NaN   \n",
       "49388  GCF_022637595                 NaN            NaN   \n",
       "\n",
       "      defense_system_protein   \n",
       "0                      False  \\\n",
       "1                      False   \n",
       "2                      False   \n",
       "3                      False   \n",
       "4                      False   \n",
       "...                      ...   \n",
       "49384                  False   \n",
       "49385                  False   \n",
       "49386                  False   \n",
       "49387                  False   \n",
       "49388                  False   \n",
       "\n",
       "                                                     seq   \n",
       "0      MEEQYSPRYTRLDAFESAAAQAAGAVLQHAFDRLTSLIESGRTVVS...  \\\n",
       "1      MDLSQEEARRLRILAALFELAGHHTASDVSLAELNDKLIQMRDLGS...   \n",
       "2      MDFWQQFWATMWGALAGAIVAGGVTVFVAWRSWAVSRDSQYRDRFD...   \n",
       "3      MRQGPGQGAESTLVTASSPAFALPENLHAKSAPALIADDERHFAAI...   \n",
       "4      MTMEPNRAEAEHDYGANEIQILEGLEAVRKRPGMYIGSTGPRGLHH...   \n",
       "...                                                  ...   \n",
       "49384  MQITEYHAKYYAHELTCLHAADSVDRLSQSLFDATVDLNPHQIEAA...   \n",
       "49385  MSKFNELVTKLREVFQIDRPELDFGVYRILNARADEINEYLEKRLK...   \n",
       "49386  MAFPKTAAKTKLKKRSFHQELVLNRWMMRFFKGNELAALKLRLGDD...   \n",
       "49387  MPVHHAIWRVGETPQPLTISKLATEKLLQKMIIQDSSILSDQWMII...   \n",
       "49388  MAIYDVKTLVAFLLAVGDRHWSPAILKRVATVERAANRITAKEYAR...   \n",
       "\n",
       "                                                  seq_id   \n",
       "0      0a256e5aabab5d7489692acfc9ddff285c4fd3c7faa30c...  \\\n",
       "1      dced1660071fb17d7aded1a9f67d5b7fcaa4414502c49b...   \n",
       "2      29b755ab6d8429c77b67dab4d9c67e99213cb4f662cf87...   \n",
       "3      2b14780b484861cd7f05bb3692cddf39de53311c720289...   \n",
       "4      df2b019cc21fd74a33718bc0c242e2ca4d549d51a77979...   \n",
       "...                                                  ...   \n",
       "49384  67339af8e87b2b8dc3fd846c7b5f6eaf27ab2a55eec592...   \n",
       "49385  9b094fea70db9755819bb78ffc3e94886e39575cd3343f...   \n",
       "49386  a52eb803c345c76b34a38dffba63331ee18bc6e521b938...   \n",
       "49387  111b738d0581cdd64bb3324da56fde9e6399f938f29242...   \n",
       "49388  4c5d6e59f4885f76d9090c5dc589b53e2c283e08542360...   \n",
       "\n",
       "                                              cluster_id  \n",
       "0      0a256e5aabab5d7489692acfc9ddff285c4fd3c7faa30c...  \n",
       "1      87577f2aa7c965ffa8a4b5ea9bef5b6894801368bdc6ab...  \n",
       "2      29b755ab6d8429c77b67dab4d9c67e99213cb4f662cf87...  \n",
       "3      721e4c9417b8e912e829a3bf0e948ac6328f17f9e2ff59...  \n",
       "4      986c293a4a6a3d7c881f720f4011f329eeb9128862b2aa...  \n",
       "...                                                  ...  \n",
       "49384  d56011618cd3cb7b30dcb3e32ba8d3bdbbd0cbf4ce8046...  \n",
       "49385  0fb403a23fc30eafc899dfba6d6cdd5a198d28d9040bc9...  \n",
       "49386  378f81814893eea527965f358905a6d0dcf73b37b9f04d...  \n",
       "49387  1742a38689e526ce282515099c505d0d04d9cb59d4b206...  \n",
       "49388  7455dc86b27af3bdf9de456df3d8f67aec82b9b3c220dd...  \n",
       "\n",
       "[49389 rows x 35 columns]"
      ]
     },
     "execution_count": 40,
     "metadata": {},
     "output_type": "execute_result"
    }
   ],
   "source": [
    "defense_cluster_predictions"
   ]
  },
  {
   "cell_type": "markdown",
   "id": "8aac51ab-5b75-4033-96f1-a311ef16d234",
   "metadata": {},
   "source": [
    "## Get potential novel hits to query with HHblits"
   ]
  },
  {
   "cell_type": "code",
   "execution_count": 41,
   "id": "0bc68736-8fe8-43bd-a976-554feb5e2bdc",
   "metadata": {},
   "outputs": [],
   "source": [
    "def assign_predicted_category(row):\n",
    "    if row['defense_system_protein']:\n",
    "        return 'Defense homolog in expected system'\n",
    "    elif row['defense_homolog']:\n",
    "        return 'Defense homolog in new context'\n",
    "    else:\n",
    "        return 'Putative novel defense gene'"
   ]
  },
  {
   "cell_type": "code",
   "execution_count": 42,
   "id": "7bdb20a1-93b0-4975-96a4-17fe8d1a75c5",
   "metadata": {},
   "outputs": [],
   "source": [
    "hit_categories = ['Defense homolog in expected system',\n",
    "                  'Defense homolog in new context', \n",
    "                  'Putative novel defense gene']\n",
    "predicted_defense_df = merged_predictions[merged_predictions['predicted_defensive']].copy()\n",
    "predicted_defense_df['predicted_category'] = predicted_defense_df.apply(assign_predicted_category, axis=1)\n",
    "predicted_defense_df['predicted_category'] = pd.Categorical(predicted_defense_df['predicted_category'], \n",
    "                                                    categories=hit_categories)"
   ]
  },
  {
   "cell_type": "code",
   "execution_count": 43,
   "id": "f345cdd5-acfe-4e04-87cd-3d3382bc1c5d",
   "metadata": {},
   "outputs": [
    {
     "data": {
      "text/plain": [
       "predicted_category\n",
       "Putative novel defense gene           14734\n",
       "Defense homolog in expected system     9810\n",
       "Defense homolog in new context         7947\n",
       "Name: count, dtype: int64"
      ]
     },
     "execution_count": 43,
     "metadata": {},
     "output_type": "execute_result"
    }
   ],
   "source": [
    "predicted_defense_df['predicted_category'].value_counts()"
   ]
  },
  {
   "cell_type": "code",
   "execution_count": 44,
   "id": "647bd69c-3fd8-410d-a77a-24cfeba50130",
   "metadata": {},
   "outputs": [],
   "source": [
    "non_redundant_predictions = (predicted_defense_df\n",
    "                             .sort_values(['predicted_category', 'mean_log_odds'], ascending=[True, False])\n",
    "                             .groupby('cluster_id')\n",
    "                             .head(1))"
   ]
  },
  {
   "cell_type": "code",
   "execution_count": 45,
   "id": "3f3c4095-4bee-4266-9157-044aa3607d40",
   "metadata": {},
   "outputs": [
    {
     "data": {
      "text/plain": [
       "predicted_category\n",
       "Putative novel defense gene           9670\n",
       "Defense homolog in expected system    3448\n",
       "Defense homolog in new context        2706\n",
       "Name: count, dtype: int64"
      ]
     },
     "execution_count": 45,
     "metadata": {},
     "output_type": "execute_result"
    }
   ],
   "source": [
    "non_redundant_predictions['predicted_category'].value_counts()"
   ]
  },
  {
   "cell_type": "code",
   "execution_count": 46,
   "id": "266c5e50-ff54-49db-9e4f-11f0fbc3f3e9",
   "metadata": {},
   "outputs": [],
   "source": [
    "putative_novel_df = non_redundant_predictions[non_redundant_predictions['predicted_category'] == 'Putative novel defense gene'].copy()"
   ]
  },
  {
   "cell_type": "code",
   "execution_count": 47,
   "id": "aaf8a3c2-219f-43c6-8619-a90c98b93c7c",
   "metadata": {},
   "outputs": [
    {
     "data": {
      "text/plain": [
       "name\n",
       "hypothetical protein                                                   6991\n",
       "ATP-binding protein                                                     148\n",
       "restriction endonuclease                                                104\n",
       "DUF2971 domain-containing protein                                        93\n",
       "HEPN domain-containing protein                                           91\n",
       "HNH endonuclease                                                         75\n",
       "AAA family ATPase                                                        74\n",
       "PD-(D/E)XK nuclease family protein                                       69\n",
       "PIN domain-containing protein                                            69\n",
       "DUF262 domain-containing protein                                         68\n",
       "DUF5677 domain-containing protein                                        51\n",
       "DUF4238 domain-containing protein                                        43\n",
       "DUF4365 domain-containing protein                                        42\n",
       "DUF4145 domain-containing protein                                        39\n",
       "DEAD/DEAH box helicase family protein                                    33\n",
       "three-Cys-motif partner protein TcmP                                     31\n",
       "GIY-YIG nuclease family protein                                          30\n",
       "NACHT domain-containing protein                                          29\n",
       "SIR2 family protein                                                      29\n",
       "DUF4062 domain-containing protein                                        28\n",
       "type I restriction enzyme HsdR N-terminal domain-containing protein      28\n",
       "FRG domain-containing protein                                            27\n",
       "CHAT domain-containing protein                                           24\n",
       "nucleotide-binding protein                                               22\n",
       "RAMP superfamily CRISPR-associated protein                               22\n",
       "DUF2075 domain-containing protein                                        21\n",
       "restriction endonuclease subunit S                                       21\n",
       "P-loop NTPase fold protein                                               21\n",
       "PD-(D/E)XK motif protein                                                 21\n",
       "DUF3883 domain-containing protein                                        21\n",
       "abortive infection family protein                                        20\n",
       "DUF2357 domain-containing protein                                        19\n",
       "DUF4276 family protein                                                   18\n",
       "Fic family protein                                                       18\n",
       "nucleoid-associated protein                                              16\n",
       "TIGR04141 family sporadically distributed protein                        16\n",
       "Cthe_2314 family HEPN domain-containing protein                          16\n",
       "MAE_28990/MAE_18760 family HEPN-like nuclease                            16\n",
       "putative phage abortive infection protein                                14\n",
       "NERD domain-containing protein                                           14\n",
       "DUF4209 domain-containing protein                                        14\n",
       "DUF1887 family CARF protein                                              14\n",
       "DUF4393 domain-containing protein                                        14\n",
       "response regulator receiver domain                                       14\n",
       "dynamin family protein                                                   13\n",
       "endonuclease NucS                                                        13\n",
       "TIGR02391 family protein                                                 12\n",
       "phospholipase D family protein                                           12\n",
       "TIGR04255 family protein                                                 12\n",
       "SMEK domain-containing protein                                           12\n",
       "Name: count, dtype: int64"
      ]
     },
     "execution_count": 47,
     "metadata": {},
     "output_type": "execute_result"
    }
   ],
   "source": [
    "putative_novel_df['name'].value_counts().head(50)"
   ]
  },
  {
   "cell_type": "code",
   "execution_count": 48,
   "id": "00590a79-e5fc-455c-8bf2-17d4f6dfa3fb",
   "metadata": {},
   "outputs": [],
   "source": [
    "putative_novel_seqs = refseq_1k_seqs[refseq_1k_seqs['product_accession'].isin(putative_novel_df['product_accession'])]"
   ]
  },
  {
   "cell_type": "code",
   "execution_count": 49,
   "id": "696e9613-1cab-4b22-95c0-2c9c2a141ea5",
   "metadata": {},
   "outputs": [
    {
     "data": {
      "text/plain": [
       "9670"
      ]
     },
     "execution_count": 49,
     "metadata": {},
     "output_type": "execute_result"
    }
   ],
   "source": [
    "len(putative_novel_seqs)"
   ]
  },
  {
   "cell_type": "code",
   "execution_count": 65,
   "id": "0e005c9c-0e3a-4fad-87d1-2164f60db213",
   "metadata": {},
   "outputs": [],
   "source": [
    "with open('../data3/interim/refseq_1k_putative_novel_seqs.faa', 'w') as f:\n",
    "    for _, row in putative_novel_seqs.iterrows():\n",
    "        print('>' + row['product_accession'], file=f)\n",
    "        print(row['seq'], file=f)"
   ]
  },
  {
   "cell_type": "code",
   "execution_count": 66,
   "id": "2fb35bfb-025b-4cdb-a937-ec1358d106cb",
   "metadata": {},
   "outputs": [],
   "source": [
    "merged_predictions.drop(columns='chromosome').to_parquet('../data3/processed/refseq_1k_predictions.pq', index=False)"
   ]
  },
  {
   "cell_type": "code",
   "execution_count": null,
   "id": "bf788dc4-6a80-4391-96e7-10e4b600d5fb",
   "metadata": {},
   "outputs": [],
   "source": []
  }
 ],
 "metadata": {
  "kernelspec": {
   "display_name": "beaker",
   "language": "python",
   "name": "beaker"
  },
  "language_info": {
   "codemirror_mode": {
    "name": "ipython",
    "version": 3
   },
   "file_extension": ".py",
   "mimetype": "text/x-python",
   "name": "python",
   "nbconvert_exporter": "python",
   "pygments_lexer": "ipython3",
   "version": "3.8.16"
  }
 },
 "nbformat": 4,
 "nbformat_minor": 5
}
