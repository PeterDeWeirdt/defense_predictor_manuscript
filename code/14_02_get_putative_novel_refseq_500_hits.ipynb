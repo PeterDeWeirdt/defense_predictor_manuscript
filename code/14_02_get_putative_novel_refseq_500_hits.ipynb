{
 "cells": [
  {
   "cell_type": "code",
   "execution_count": 1,
   "id": "60fff144-ad94-4028-9bbb-58b9b63dea0e",
   "metadata": {},
   "outputs": [],
   "source": [
    "import pandas as pd\n",
    "from core import med_log_odds_cutoff\n",
    "from tqdm import tqdm\n",
    "import os\n",
    "import numpy as np"
   ]
  },
  {
   "cell_type": "code",
   "execution_count": 3,
   "id": "20258007-4349-4b5b-bc56-cab8bb8c16b7",
   "metadata": {},
   "outputs": [],
   "source": [
    "seq_id_accessions = pd.read_parquet('../data/interim/seq_id_accessions.pq')\n",
    "df_true_df = pd.read_parquet('../data/interim/defense_finder_genes_genomes.pq')\n",
    "df_homolog_df = pd.read_parquet('../data/interim/defense_finder_homologs_profile_names.pq')\n",
    "df_homolog_df = df_homolog_df.merge(seq_id_accessions, how='inner', on='seq_id')"
   ]
  },
  {
   "cell_type": "code",
   "execution_count": null,
   "id": "13666e5e-d236-41dd-a8c0-6f97718e667c",
   "metadata": {},
   "outputs": [],
   "source": [
    "%%time\n",
    "seq_assemblies = pd.read_csv('../data/interim/seq_assemblies.csv', \n",
    "                             names=['product_accession', 'seq_id', 'seq', 'assembly'])"
   ]
  },
  {
   "cell_type": "code",
   "execution_count": 4,
   "id": "bd29d978-a293-4d8f-af64-db2f838b1c57",
   "metadata": {},
   "outputs": [],
   "source": [
    "unqiue_df_homolog_df = (df_homolog_df.groupby('seq_id')\n",
    "                        .sample(n=1, random_state=7))"
   ]
  },
  {
   "cell_type": "code",
   "execution_count": 5,
   "id": "39c36e31-5991-41cc-9c03-0186f17ac995",
   "metadata": {},
   "outputs": [],
   "source": [
    "prediction_out_dir = '../data/processed/refseq_500_predictions/'"
   ]
  },
  {
   "cell_type": "code",
   "execution_count": 6,
   "id": "74e1b59d-3df7-47ca-b1fa-585467b4baa8",
   "metadata": {},
   "outputs": [
    {
     "name": "stderr",
     "output_type": "stream",
     "text": [
      "100%|██████████| 500/500 [01:07<00:00,  7.45it/s]\n"
     ]
    }
   ],
   "source": [
    "predictions = pd.concat([pd.read_csv(prediction_out_dir + f) for \n",
    "                         f in tqdm(os.listdir(prediction_out_dir)) if '.csv' in f])"
   ]
  },
  {
   "cell_type": "code",
   "execution_count": 7,
   "id": "0dc2b963-f5eb-4d33-8718-e45cf19160bc",
   "metadata": {},
   "outputs": [],
   "source": [
    "predictions['log_odds'] = np.log(predictions['beaker_prediction']/(1-predictions['beaker_prediction']))\n",
    "predictions['predicted_defensive'] = predictions['log_odds'] > med_log_odds_cutoff"
   ]
  },
  {
   "cell_type": "code",
   "execution_count": 8,
   "id": "3295a8ce-7890-4ee8-9665-96fddb641d46",
   "metadata": {},
   "outputs": [
    {
     "data": {
      "text/plain": [
       "19895"
      ]
     },
     "execution_count": 8,
     "metadata": {},
     "output_type": "execute_result"
    }
   ],
   "source": [
    "predictions['predicted_defensive'].sum()"
   ]
  },
  {
   "cell_type": "code",
   "execution_count": 9,
   "id": "bdfae718-1cb0-4bd5-9e44-6ef69b29580a",
   "metadata": {},
   "outputs": [],
   "source": [
    "unique_true_df = (df_true_df.sort_values('sys_score', ascending=False)\n",
    "                  .groupby(['genome', 'protein_accession'])\n",
    "                  .head(1))"
   ]
  },
  {
   "cell_type": "code",
   "execution_count": 10,
   "id": "f6537c81-0186-44a0-b04b-ca2aab768df5",
   "metadata": {},
   "outputs": [],
   "source": [
    "merged_predictions = (predictions.merge(unqiue_df_homolog_df.rename(columns={'protein_accession': 'product_accession', \n",
    "                                                                             'gene_name': 'defense_homolog_name'})\n",
    "                                        .drop(columns='seq_id'), \n",
    "                                        how='left', on='product_accession'))\n",
    "merged_predictions['defense_homolog'] = ~merged_predictions['defense_homolog_name'].isna()\n",
    "merged_predictions['assembly_stub'] = merged_predictions['assembly'].str.split('.', expand=True)[0]\n",
    "merged_predictions = (merged_predictions.merge(unique_true_df[['genome', 'protein_accession','gene_name', 'sys_id']]\n",
    "                                               .rename(columns={'genome': 'assembly_stub', \n",
    "                                                                'protein_accession': 'product_accession', \n",
    "                                                                'gene_name': 'defense_system_gene', \n",
    "                                                                'sys_id': 'defense_system'}), \n",
    "                                               how='left', on=['product_accession', 'assembly_stub']))\n",
    "merged_predictions['defense_system_protein'] = ~merged_predictions['defense_system_gene'].isna()"
   ]
  },
  {
   "cell_type": "code",
   "execution_count": 11,
   "id": "ead2f3db-8b87-4a57-b89d-f233e1a4220b",
   "metadata": {},
   "outputs": [
    {
     "data": {
      "text/plain": [
       "True"
      ]
     },
     "execution_count": 11,
     "metadata": {},
     "output_type": "execute_result"
    }
   ],
   "source": [
    "len(merged_predictions) == len(predictions)"
   ]
  },
  {
   "cell_type": "code",
   "execution_count": 12,
   "id": "0bc68736-8fe8-43bd-a976-554feb5e2bdc",
   "metadata": {},
   "outputs": [],
   "source": [
    "def assign_predicted_category(row):\n",
    "    if row['defense_system_protein']:\n",
    "        return 'Defense homolog in expected system'\n",
    "    elif row['defense_homolog']:\n",
    "        return 'Defense homolog in new context'\n",
    "    else:\n",
    "        return 'Putative novel defense gene'"
   ]
  },
  {
   "cell_type": "code",
   "execution_count": 13,
   "id": "7bdb20a1-93b0-4975-96a4-17fe8d1a75c5",
   "metadata": {},
   "outputs": [],
   "source": [
    "predicted_defense_df = merged_predictions[merged_predictions['predicted_defensive']].copy()\n",
    "predicted_defense_df['predicted_category'] = predicted_defense_df.apply(assign_predicted_category, axis=1)"
   ]
  },
  {
   "cell_type": "code",
   "execution_count": 14,
   "id": "f345cdd5-acfe-4e04-87cd-3d3382bc1c5d",
   "metadata": {},
   "outputs": [
    {
     "data": {
      "text/plain": [
       "predicted_category\n",
       "Putative novel defense gene           8021\n",
       "Defense homolog in expected system    6331\n",
       "Defense homolog in new context        5543\n",
       "Name: count, dtype: int64"
      ]
     },
     "execution_count": 14,
     "metadata": {},
     "output_type": "execute_result"
    }
   ],
   "source": [
    "predicted_defense_df['predicted_category'].value_counts()"
   ]
  },
  {
   "cell_type": "code",
   "execution_count": null,
   "id": "e61ff24d-c5ae-43fe-bca2-bbf86cd245c7",
   "metadata": {},
   "outputs": [],
   "source": [
    "assembly_n_genes = (predictions.groupby('assembly')\n",
    "                    .agg(total_genes=('product_accession', 'count'), \n",
    "                         defensive_genes=('predicted_defensive', 'sum'))\n",
    "                    .reset_index())\n",
    "assembly_n_genes['frac_defensive'] = assembly_n_genes['defensive_genes']/assembly_n_genes['total_genes']\n"
   ]
  },
  {
   "cell_type": "code",
   "execution_count": null,
   "id": "852fbe84-810d-4990-9706-3ad4dccf82a2",
   "metadata": {},
   "outputs": [],
   "source": [
    "assembly_n_genes['frac_defensive'].plot.hist()"
   ]
  },
  {
   "cell_type": "code",
   "execution_count": null,
   "id": "7078a03f-4445-4aa3-a9e0-ba75bb5c1504",
   "metadata": {},
   "outputs": [],
   "source": [
    "assembly_n_genes.sort_values('frac_defensive')"
   ]
  },
  {
   "cell_type": "code",
   "execution_count": null,
   "id": "266c5e50-ff54-49db-9e4f-11f0fbc3f3e9",
   "metadata": {},
   "outputs": [],
   "source": [
    "putative_novel_df = predicted_defense_df[predicted_defense_df['predicted_category'] == 'Putative novel defense gene'].copy()"
   ]
  },
  {
   "cell_type": "code",
   "execution_count": null,
   "id": "aaf8a3c2-219f-43c6-8619-a90c98b93c7c",
   "metadata": {},
   "outputs": [],
   "source": [
    "putative_novel_df['name'].value_counts().head(50)"
   ]
  },
  {
   "cell_type": "code",
   "execution_count": 27,
   "id": "72086c77-eb38-41d1-88d3-4891a0fc86e5",
   "metadata": {},
   "outputs": [],
   "source": [
    "filtered_seqs = seq_assemblies.loc[seq_assemblies['product_accession']\n",
    "                                   .isin(putative_novel_df['product_accession']), \n",
    "                                   ['product_accession', 'seq']].drop_duplicates()\n"
   ]
  },
  {
   "cell_type": "code",
   "execution_count": 30,
   "id": "0e005c9c-0e3a-4fad-87d1-2164f60db213",
   "metadata": {},
   "outputs": [],
   "source": [
    "with open('../data/interim/refseq_500_putative_novel_seqs.faa', 'w') as f:\n",
    "    for _, row in filtered_seqs.iterrows():\n",
    "        print('>' + row['product_accession'], file=f)\n",
    "        print(row['seq'], file=f)"
   ]
  },
  {
   "cell_type": "code",
   "execution_count": 16,
   "id": "2fb35bfb-025b-4cdb-a937-ec1358d106cb",
   "metadata": {},
   "outputs": [],
   "source": [
    "merged_predictions.to_csv('../data/processed/refseq_500_predictions.csv', index=False)"
   ]
  },
  {
   "cell_type": "code",
   "execution_count": null,
   "id": "6d4d20e1-9654-4b74-8979-bbcb28625b6f",
   "metadata": {},
   "outputs": [],
   "source": []
  }
 ],
 "metadata": {
  "kernelspec": {
   "display_name": "beaker",
   "language": "python",
   "name": "beaker"
  },
  "language_info": {
   "codemirror_mode": {
    "name": "ipython",
    "version": 3
   },
   "file_extension": ".py",
   "mimetype": "text/x-python",
   "name": "python",
   "nbconvert_exporter": "python",
   "pygments_lexer": "ipython3",
   "version": "3.8.16"
  }
 },
 "nbformat": 4,
 "nbformat_minor": 5
}
