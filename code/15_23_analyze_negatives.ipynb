{
 "cells": [
  {
   "cell_type": "code",
   "execution_count": 1,
   "id": "0e57ed37-49db-47cd-87cb-ea95dcbbfd34",
   "metadata": {},
   "outputs": [],
   "source": [
    "import pandas as pd\n",
    "import os\n",
    "from tqdm import tqdm\n",
    "import numpy as np\n",
    "from scipy.stats import binomtest\n",
    "import matplotlib.pyplot as plt\n",
    "import seaborn as sns\n",
    "import matplotlib.patches as patches\n",
    "from matplotlib.patches import FancyArrowPatch\n",
    "from mpl_toolkits.axes_grid1 import make_axes_locatable\n",
    "from sklearn import metrics\n",
    "from tqdm import tqdm"
   ]
  },
  {
   "cell_type": "code",
   "execution_count": 2,
   "id": "1ff3a92a-9c65-4415-b3b0-af6ea18da5ca",
   "metadata": {},
   "outputs": [],
   "source": [
    "plt.rcParams['svg.fonttype'] = 'none'\n",
    "plt.rcParams['font.size'] = 7\n",
    "plt.rcParams['xtick.labelsize'] = 6\n",
    "plt.rcParams['ytick.labelsize'] = 6"
   ]
  },
  {
   "cell_type": "code",
   "execution_count": 3,
   "id": "32241301-3d6b-4797-81c4-e91f18f6f8b4",
   "metadata": {},
   "outputs": [],
   "source": [
    "def remap_prob(p, epsilon=0.1):\n",
    "    if p == 0:\n",
    "        out = epsilon\n",
    "    elif p == 100:\n",
    "        out = 100 - epsilon\n",
    "    else:\n",
    "        out = p\n",
    "    return out/100"
   ]
  },
  {
   "cell_type": "code",
   "execution_count": 4,
   "id": "a78e198f-6ed6-4000-8db7-7c137cce1aaa",
   "metadata": {},
   "outputs": [],
   "source": [
    "def compare_tpr_mcnemar(\n",
    "    df, y_true, a, b,\n",
    "    alternative='greater',   # \"greater\" tests if a > b\n",
    "    n_boot=0,\n",
    "    random_state=0\n",
    "):\n",
    "    # Restrict to ground-truth positives (TPR compares recall on positives)\n",
    "    pos = df[df[y_true] == 1]\n",
    "\n",
    "    # TPRs\n",
    "    tpr_a = pos[a].mean()\n",
    "    tpr_b = pos[b].mean()\n",
    "    diff  = tpr_a - tpr_b\n",
    "\n",
    "    # Paired contingency on positives\n",
    "    both_hits = ((pos[a] == 1) & (pos[b] == 1)).sum()\n",
    "    only_a    = ((pos[a] == 1) & (pos[b] == 0)).sum()  # counts where a is \"better\"\n",
    "    only_b    = ((pos[a] == 0) & (pos[b] == 1)).sum()  # counts where b is \"better\"\n",
    "    neither   = ((pos[a] == 0) & (pos[b] == 0)).sum()\n",
    "\n",
    "    # Exact McNemar p-value (binomial on discordant pairs)\n",
    "    discordant = only_a + only_b\n",
    "    if discordant > 0:\n",
    "        pval = binomtest(only_a, discordant, p=0.5, alternative=alternative).pvalue\n",
    "    else:\n",
    "        pval = 1.0  # no discordant pairs → no evidence of difference\n",
    "\n",
    "    result = {\n",
    "        'n_positives': int(len(pos)),\n",
    "        'tpr_DefensePredictor': float(tpr_a),\n",
    "        'tpr_HHblits': float(tpr_b),\n",
    "        'tpr_diff_(DP - HHblits)': float(diff),\n",
    "        'both_hits': int(both_hits),\n",
    "        'only_DP_hits': int(only_a),\n",
    "        'only_HHblits_hits': int(only_b),\n",
    "        'neither_hits': int(neither),\n",
    "        'mcnemar_pvalue_one_sided': float(pval),\n",
    "        'alternative': alternative,\n",
    "    }\n",
    "\n",
    "    # Optional paired bootstrap CI for the TPR difference\n",
    "    if n_boot and n_boot > 0:\n",
    "        rng = np.random.default_rng(random_state)\n",
    "        idx = pos.index.to_numpy()\n",
    "        diffs = []\n",
    "        for _ in range(n_boot):\n",
    "            sample = rng.choice(idx, size=len(idx), replace=True)\n",
    "            sp = pos.loc[sample]\n",
    "            diffs.append(sp[a].mean() - sp[b].mean())\n",
    "        lo, hi = np.percentile(diffs, [2.5, 97.5])\n",
    "        result['tpr_diff_bootstrap_CI95'] = (float(lo), float(hi))\n",
    "\n",
    "    return result"
   ]
  },
  {
   "cell_type": "code",
   "execution_count": 5,
   "id": "dbaacbe5-9ff1-4d7a-a658-db2a0df07b11",
   "metadata": {},
   "outputs": [],
   "source": [
    "def compare_ppv_permutation(\n",
    "    df: pd.DataFrame,\n",
    "    y_true: str = 'defensive',\n",
    "    a: str = 'DefensePredictor_hit',\n",
    "    b: str = 'HHblits_hit',\n",
    "    alternative: str = 'greater',   # 'greater' tests PPV(a) > PPV(b); also 'less' or 'two-sided'\n",
    "    n_perm: int = 10000,\n",
    "    n_boot: int = 0,\n",
    "    random_state: int = 0,\n",
    "):\n",
    "    \"\"\"\n",
    "    Compare PPV (precision) of two classifiers evaluated on the same items using\n",
    "    a paired permutation test. Optionally compute a paired bootstrap CI for the PPV difference.\n",
    "\n",
    "    Returns a dict with PPVs, counts, observed difference, p-value, and (optional) CI.\n",
    "    \"\"\"\n",
    "    rng = np.random.default_rng(random_state)\n",
    "\n",
    "    # Binary arrays\n",
    "    y = df[y_true].to_numpy().astype(np.int8)\n",
    "    A = df[a].to_numpy().astype(np.int8)\n",
    "    B = df[b].to_numpy().astype(np.int8)\n",
    "\n",
    "    # Helper to compute PPV safely\n",
    "    def _ppv(pred, y):\n",
    "        denom = pred.sum()\n",
    "        return np.nan if denom == 0 else ( ( (pred == 1) & (y == 1) ).sum() / denom )\n",
    "\n",
    "    # Observed PPVs and difference\n",
    "    ppv_a = _ppv(A, y)\n",
    "    ppv_b = _ppv(B, y)\n",
    "\n",
    "    # Guard: if either method has no positives, PPV is undefined\n",
    "    if np.isnan(ppv_a) or np.isnan(ppv_b):\n",
    "        return {\n",
    "            'n_items': int(len(df)),\n",
    "            'tp_a': int(((A==1)&(y==1)).sum()),\n",
    "            'fp_a': int(((A==1)&(y==0)).sum()),\n",
    "            'tp_b': int(((B==1)&(y==1)).sum()),\n",
    "            'fp_b': int(((B==1)&(y==0)).sum()),\n",
    "            'ppv_a': float(ppv_a) if not np.isnan(ppv_a) else None,\n",
    "            'ppv_b': float(ppv_b) if not np.isnan(ppv_b) else None,\n",
    "            'ppv_diff_(a-b)': None,\n",
    "            'pvalue_permutation': None,\n",
    "            'note': 'At least one method never predicts positive; PPV undefined → test not performed.'\n",
    "        }\n",
    "\n",
    "    diff_obs = ppv_a - ppv_b\n",
    "\n",
    "    # Paired permutation test: randomly swap (A,B) per item under the null of equal PPV\n",
    "    diffs = np.empty(n_perm, dtype=float)\n",
    "    for i in range(n_perm):\n",
    "        swap = rng.integers(0, 2, size=len(y), dtype=np.int8)  # 0=no swap, 1=swap\n",
    "        A_p = np.where(swap == 1, B, A)\n",
    "        B_p = np.where(swap == 1, A, B)\n",
    "        diffs[i] = _ppv(A_p, y) - _ppv(B_p, y)\n",
    "\n",
    "    # Compute permutation p-value (with +1 correction)\n",
    "    if alternative == 'greater':\n",
    "        pval = (np.sum(diffs >= diff_obs) + 1) / (n_perm + 1)\n",
    "    elif alternative == 'less':\n",
    "        pval = (np.sum(diffs <= diff_obs) + 1) / (n_perm + 1)\n",
    "    else:  # two-sided using center of perm distribution\n",
    "        center = diffs.mean()\n",
    "        pval = (np.sum(np.abs(diffs - center) >= abs(diff_obs - center)) + 1) / (n_perm + 1)\n",
    "\n",
    "    result = {\n",
    "        'n_items': int(len(df)),\n",
    "        'tp_a': int(((A==1)&(y==1)).sum()),\n",
    "        'fp_a': int(((A==1)&(y==0)).sum()),\n",
    "        'tp_b': int(((B==1)&(y==1)).sum()),\n",
    "        'fp_b': int(((B==1)&(y==0)).sum()),\n",
    "        'ppv_a': float(ppv_a),\n",
    "        'ppv_b': float(ppv_b),\n",
    "        'ppv_diff_(a-b)': float(diff_obs),\n",
    "        'pvalue_permutation': float(pval),\n",
    "        'alternative': alternative,\n",
    "        'n_perm': n_perm,\n",
    "    }\n",
    "\n",
    "    # Optional paired bootstrap CI for the PPV difference (effect size)\n",
    "    if n_boot and n_boot > 0:\n",
    "        idx = np.arange(len(y))\n",
    "        boot_diffs = np.empty(n_boot, dtype=float)\n",
    "        for i in range(n_boot):\n",
    "            sample = rng.choice(idx, size=len(idx), replace=True)\n",
    "            A_s, B_s, y_s = A[sample], B[sample], y[sample]\n",
    "            boot_diffs[i] = _ppv(A_s, y_s) - _ppv(B_s, y_s)\n",
    "        lo, hi = np.percentile(boot_diffs, [2.5, 97.5])\n",
    "        result['ppv_diff_bootstrap_CI95'] = (float(lo), float(hi))\n",
    "        result['n_boot'] = n_boot\n",
    "\n",
    "    return result"
   ]
  },
  {
   "cell_type": "code",
   "execution_count": 6,
   "id": "4397e83d",
   "metadata": {},
   "outputs": [],
   "source": [
    "def interpolate_precision(common_recall, obs_precision, obs_recall):\n",
    "    interpolated_precision = list()\n",
    "    pr_df = pd.DataFrame({'precision': obs_precision, \n",
    "                          'recall': obs_recall})\n",
    "    for cutoff in common_recall:\n",
    "        filtered_pr_df = pr_df[pr_df['recall'] >= cutoff]\n",
    "        curr_recall = filtered_pr_df['recall'].min()\n",
    "        curr_precision = filtered_pr_df.loc[filtered_pr_df['recall'] == curr_recall, \n",
    "                                            'precision'].mean()\n",
    "        interpolated_precision.append(curr_precision)\n",
    "    return interpolated_precision"
   ]
  },
  {
   "cell_type": "code",
   "execution_count": 7,
   "id": "a7241f14-be8d-4485-bf09-fb0d3e04b8c8",
   "metadata": {},
   "outputs": [
    {
     "name": "stderr",
     "output_type": "stream",
     "text": [
      "/tmp/ipykernel_893928/2456939619.py:2: DtypeWarning: Columns (24,30,35,39) have mixed types. Specify dtype option on import or set low_memory=False.\n",
      "  pred_df = pd.read_csv('../data3/interim/ecor_predictions_defensive_cat2.csv')\n"
     ]
    }
   ],
   "source": [
    "negative_tus = pd.read_csv('../data3/raw/HHPred negatives - tus.csv')\n",
    "pred_df = pd.read_csv('../data3/interim/ecor_predictions_defensive_cat2.csv')\n",
    "all_library_info = pd.read_csv('../data3/interim/all_library_info.csv')"
   ]
  },
  {
   "cell_type": "code",
   "execution_count": 8,
   "id": "a6a7d720",
   "metadata": {},
   "outputs": [
    {
     "data": {
      "text/plain": [
       "94"
      ]
     },
     "execution_count": 8,
     "metadata": {},
     "output_type": "execute_result"
    }
   ],
   "source": [
    "all_library_info['working_id'].nunique()"
   ]
  },
  {
   "cell_type": "code",
   "execution_count": 10,
   "id": "bc6e826d",
   "metadata": {},
   "outputs": [
    {
     "data": {
      "text/plain": [
       "42"
      ]
     },
     "execution_count": 10,
     "metadata": {},
     "output_type": "execute_result"
    }
   ],
   "source": [
    "all_library_info['defensive'].sum()"
   ]
  },
  {
   "cell_type": "code",
   "execution_count": 11,
   "id": "7025d25b-160c-4216-ae2d-5b386c0f9ae8",
   "metadata": {},
   "outputs": [
    {
     "data": {
      "text/plain": [
       "24"
      ]
     },
     "execution_count": 11,
     "metadata": {},
     "output_type": "execute_result"
    }
   ],
   "source": [
    "negative_tus['working_id'].nunique()"
   ]
  },
  {
   "cell_type": "code",
   "execution_count": 12,
   "id": "8c0b707a-f78f-4938-9d67-ed809ce2d3df",
   "metadata": {},
   "outputs": [],
   "source": [
    "long_library_info = all_library_info[['working_id', 'genomic_accession', 'product_accessions', 'defensive', 'random', \n",
    "                                      'pBAD', 'fp']].copy()\n",
    "long_library_info['product_accession'] = long_library_info['product_accessions'].str.split(', ')\n",
    "long_library_info = long_library_info.explode('product_accession')\n",
    "long_library_info = long_library_info.drop(columns='product_accessions')\n",
    "long_library_info['screen'] = 'DefensePredictor hits'\n",
    "long_library_info['pBAD'] = long_library_info['pBAD'].replace({'TRUE / FALSE': False}).astype(bool)"
   ]
  },
  {
   "cell_type": "code",
   "execution_count": 13,
   "id": "5ab744b9-c7a3-4d19-aa5d-5cb853e8c5ee",
   "metadata": {},
   "outputs": [],
   "source": [
    "negative_tus['screen'] = 'HHblits hits'\n",
    "negative_tus['fp'] = [True if not x else False for x in negative_tus['clone']]\n",
    "negative_tus['pBAD'] = [True if not pd.isna(x) else False for x in negative_tus['clone_pbad']]\n",
    "negative_tus['random'] = True\n",
    "cat_info = pd.concat([long_library_info, \n",
    "                      negative_tus[['working_id', 'genomic_accession', 'product_accession', 'defensive', 'screen', 'fp', 'pBAD', 'random']]])"
   ]
  },
  {
   "cell_type": "code",
   "execution_count": 14,
   "id": "d3efcaa2-2513-4248-8464-02edd968d792",
   "metadata": {},
   "outputs": [
    {
     "data": {
      "text/plain": [
       "working_id           118\n",
       "product_accession    205\n",
       "dtype: int64"
      ]
     },
     "execution_count": 14,
     "metadata": {},
     "output_type": "execute_result"
    }
   ],
   "source": [
    "cat_info[['working_id', 'product_accession']].nunique()"
   ]
  },
  {
   "cell_type": "markdown",
   "id": "ad098807-e621-4c7b-8a0e-6cd4a6df08de",
   "metadata": {},
   "source": [
    "## HHPred all proteins in a cloned operon"
   ]
  },
  {
   "cell_type": "code",
   "execution_count": 12,
   "id": "cb5093d7-092c-4740-9895-5adc08f3aa8b",
   "metadata": {},
   "outputs": [],
   "source": [
    "id_f = '../data3/interim/ecor_cloned_ids.txt'"
   ]
  },
  {
   "cell_type": "code",
   "execution_count": null,
   "id": "4ff36878-15f2-45a2-a891-850d629cb962",
   "metadata": {},
   "outputs": [],
   "source": [
    "cat_info[['product_accession']].to_csv(id_f, index=False, header=False)"
   ]
  },
  {
   "cell_type": "code",
   "execution_count": 14,
   "id": "25232bb2-2067-4960-a3eb-6fb4083d019c",
   "metadata": {},
   "outputs": [],
   "source": [
    "faa_f = '../data3/interim/ecor_cloned_seqs.faa'"
   ]
  },
  {
   "cell_type": "code",
   "execution_count": null,
   "id": "ca38b309-75f6-4543-b5d7-046487fe303f",
   "metadata": {},
   "outputs": [],
   "source": [
    "os.system(' '.join(['conda run -n beaker', \n",
    "                    'seqtk subseq',\n",
    "                    '../data/interim/ecor_unique_seqs.faa', \n",
    "                        id_f, '>',\n",
    "                        faa_f]))"
   ]
  },
  {
   "cell_type": "code",
   "execution_count": 15,
   "id": "e0165623-ab44-4114-8301-cb260cdae78d",
   "metadata": {},
   "outputs": [],
   "source": [
    "msa_out_dir = '../data3/interim/all_cloned_msas/'\n",
    "raw_out_dir = '../data3/interim/all_cloned_df_align/'\n",
    "parsed_out_file = '../data3/interim/all_cloned_df_hhblits.txt'"
   ]
  },
  {
   "cell_type": "code",
   "execution_count": null,
   "id": "ead71de2-beeb-419b-a1f8-d212de368fe0",
   "metadata": {},
   "outputs": [],
   "source": [
    "if not os.path.exists(msa_out_dir):\n",
    "    os.mkdir(msa_out_dir)"
   ]
  },
  {
   "cell_type": "code",
   "execution_count": null,
   "id": "415e1d32-f548-4aca-83c9-1b104305facd",
   "metadata": {},
   "outputs": [],
   "source": [
    "old_msa_out_dir = '../data3/interim/ecor_unique_plus_cloned_msas/'"
   ]
  },
  {
   "cell_type": "code",
   "execution_count": 15,
   "id": "bb92ffda-d0d1-4f80-847b-2d238fb001a4",
   "metadata": {},
   "outputs": [],
   "source": [
    "cloned_product_accs = cat_info['product_accession'].to_list()"
   ]
  },
  {
   "cell_type": "code",
   "execution_count": null,
   "id": "e91f450f-1600-46a8-958a-e0ef44e3b066",
   "metadata": {},
   "outputs": [],
   "source": [
    "done_count = 0\n",
    "for f in tqdm(os.listdir(old_msa_out_dir)):\n",
    "    if f.split('.a')[0] in cloned_product_accs:\n",
    "        done_count += 1\n",
    "        os.system(f\"cp {old_msa_out_dir + f} {msa_out_dir}\")\n",
    "done_count"
   ]
  },
  {
   "cell_type": "code",
   "execution_count": null,
   "id": "50be3816-765a-4e9b-83c4-9a8f7f1bd8dc",
   "metadata": {},
   "outputs": [],
   "source": [
    "len(cloned_product_accs)"
   ]
  },
  {
   "cell_type": "code",
   "execution_count": null,
   "id": "b239f884-059f-4887-bcb8-edbb14f83360",
   "metadata": {},
   "outputs": [],
   "source": [
    "os.system(' '.join(['conda run -n hhpred python', \n",
    "                    '~/Documents/hhpred/code/hhpred.py', \n",
    "                    '--raw_out_dir', raw_out_dir,  \n",
    "                    '--parsed_out_file', parsed_out_file, \n",
    "                    '--dbs df2', \n",
    "                    '--in_fasta', faa_f,  \n",
    "                    '--n_iter 3', \n",
    "                    '--alignment_dir', msa_out_dir, \n",
    "                    '--n_jobs 40']))"
   ]
  },
  {
   "cell_type": "markdown",
   "id": "a91fef3f-edd3-4d15-87e9-846e02b72670",
   "metadata": {},
   "source": [
    "## Compare HHblits and DefensePredictor"
   ]
  },
  {
   "cell_type": "code",
   "execution_count": 16,
   "id": "d1f47bea-6cf5-4d94-adc5-dbe2d4317b85",
   "metadata": {},
   "outputs": [],
   "source": [
    "hhblits_df = pd.read_csv(parsed_out_file)"
   ]
  },
  {
   "cell_type": "code",
   "execution_count": 17,
   "id": "be07a91b-e6f7-484f-8fd7-2b4c73b061ff",
   "metadata": {},
   "outputs": [],
   "source": [
    "top_hhblits_df = (hhblits_df.sort_values('Prob', ascending=False)\n",
    "                  .groupby('query')\n",
    "                  .head(1))\n",
    "top_hhblits_df['remapped_prob'] = top_hhblits_df['Prob'].apply(remap_prob)\n",
    "top_hhblits_df['HHblits log-odds'] = np.log(top_hhblits_df['remapped_prob']/(1-top_hhblits_df['remapped_prob']))"
   ]
  },
  {
   "cell_type": "code",
   "execution_count": 18,
   "id": "94c7540a-7fbc-4531-8653-9c6fa8701d39",
   "metadata": {},
   "outputs": [
    {
     "data": {
      "text/plain": [
       "Index(['protein_context_id', 'mean_log_odds', 'sd_log_odds', 'min_log_odds',\n",
       "       'max_log_odds', '# feature', 'class', 'assembly', 'assembly_unit',\n",
       "       'seq_type', 'chromosome', 'genomic_accession', 'start', 'end', 'strand',\n",
       "       'product_accession', 'non-redundant_refseq', 'related_accession',\n",
       "       'name', 'symbol', 'GeneID', 'locus_tag', 'feature_interval_length',\n",
       "       'product_length', 'attributes', 'assembly_stub', 'protein_assembly',\n",
       "       'defense_homolog', 'defense_system_protein', 'defense_homolog_names',\n",
       "       'sys_id', 'operon', 'contig_end', 'cluster_id', 'MG1655_homolog',\n",
       "       'hit_name', 'q_cov', 'Prob', 'hit_category', 'foldseek_hit', 'fident',\n",
       "       'alnlen', 'mismatch', 'gapopen', 'qstart', 'qend', 'tstart', 'tend',\n",
       "       'foldseek_q_cov', 'tcov', 'evalue', 'bits', 'alntmscore', 'qtmscore',\n",
       "       'ttmscore', 'rmsd', 'lddt', 'foldseek_prob'],\n",
       "      dtype='object')"
      ]
     },
     "execution_count": 18,
     "metadata": {},
     "output_type": "execute_result"
    }
   ],
   "source": [
    "pred_df.columns"
   ]
  },
  {
   "cell_type": "code",
   "execution_count": 19,
   "id": "b941ad41-8a60-4d2e-bddc-1cbed59a261f",
   "metadata": {},
   "outputs": [],
   "source": [
    "merged_df = (cat_info\n",
    "             .merge(pred_df[['genomic_accession', 'assembly', 'product_accession', 'mean_log_odds', 'defense_homolog', \n",
    "                             'start', 'end', 'name', 'strand']]\n",
    "                    .rename(columns={'mean_log_odds': 'DefensePredictor log-odds'}),\n",
    "                    how='inner', on=['genomic_accession', 'product_accession'])\n",
    "             .merge(top_hhblits_df[['query', 'hit_name','HHblits log-odds']]\n",
    "                    .rename(columns={'query': 'product_accession', \n",
    "                                     'hit_name': 'defense_nn'}), \n",
    "                    how='inner', on='product_accession'))\n"
   ]
  },
  {
   "cell_type": "code",
   "execution_count": 20,
   "id": "01ec0174-cc90-4e81-8ed5-8e01216e0477",
   "metadata": {},
   "outputs": [],
   "source": [
    "novel_proteins = (merged_df[merged_df['defensive'] & \n",
    "                            ~merged_df['defense_homolog'] &\n",
    "                            (merged_df['DefensePredictor log-odds'] > 0) & \n",
    "                            (merged_df['HHblits log-odds'] < 0)])"
   ]
  },
  {
   "cell_type": "code",
   "execution_count": 21,
   "id": "9b38d062-cdbf-4bb5-b9e2-21c1f8a85377",
   "metadata": {},
   "outputs": [
    {
     "data": {
      "text/plain": [
       "32"
      ]
     },
     "execution_count": 21,
     "metadata": {},
     "output_type": "execute_result"
    }
   ],
   "source": [
    "len(novel_proteins)"
   ]
  },
  {
   "cell_type": "code",
   "execution_count": 22,
   "id": "41cf0257-56a4-414d-897c-49f1bed39879",
   "metadata": {},
   "outputs": [],
   "source": [
    "agg_df = (merged_df.groupby(['working_id', 'genomic_accession', 'assembly',\n",
    "                             'strand', 'pBAD', 'fp', 'random', 'defensive', 'screen'])\n",
    "          .agg(cds_start=('start', 'min'),\n",
    "               cds_end=('end', 'max'),\n",
    "               names=('name', lambda x: ', '.join(x)), \n",
    "               product_accessions=('product_accession', lambda x: ', '.join(x)), \n",
    "               max_dp_log_odds = ('DefensePredictor log-odds', 'max'), \n",
    "               max_hhblits_log_odds = ('HHblits log-odds', 'max'))\n",
    "          .reset_index()\n",
    "          .sort_values(['screen', 'defensive', 'max_dp_log_odds'], \n",
    "                       ascending=[True, False, False]))\n",
    "agg_df['DefensePredictor_hit'] = agg_df['max_dp_log_odds'] > 0\n",
    "agg_df['HHblits_hit'] = agg_df['max_hhblits_log_odds'] > 0"
   ]
  },
  {
   "cell_type": "code",
   "execution_count": 23,
   "id": "3eb4f3b6-8fb7-44c4-b84c-121a9c78afe9",
   "metadata": {},
   "outputs": [
    {
     "data": {
      "text/plain": [
       "n_positives                       43\n",
       "tpr_DefensePredictor        0.976744\n",
       "tpr_HHblits                 0.744186\n",
       "tpr_diff_(DP - HHblits)     0.232558\n",
       "both_hits                         31\n",
       "only_DP_hits                      11\n",
       "only_HHblits_hits                  1\n",
       "neither_hits                       0\n",
       "mcnemar_pvalue_one_sided    0.003174\n",
       "alternative                  greater\n",
       "dtype: object"
      ]
     },
     "execution_count": 23,
     "metadata": {},
     "output_type": "execute_result"
    }
   ],
   "source": [
    "mcnemar_results = compare_tpr_mcnemar(agg_df, 'defensive', 'DefensePredictor_hit', 'HHblits_hit')\n",
    "pd.Series(mcnemar_results)"
   ]
  },
  {
   "cell_type": "code",
   "execution_count": 24,
   "id": "dbc7be71-7f2f-44f8-94d8-8becd732c4fa",
   "metadata": {},
   "outputs": [
    {
     "data": {
      "text/plain": [
       "n_items                    118\n",
       "tp_a                        42\n",
       "fp_a                        52\n",
       "tp_b                        32\n",
       "fp_b                        48\n",
       "ppv_a                 0.446809\n",
       "ppv_b                      0.4\n",
       "ppv_diff_(a-b)        0.046809\n",
       "pvalue_permutation    0.129887\n",
       "alternative            greater\n",
       "n_perm                   10000\n",
       "dtype: object"
      ]
     },
     "execution_count": 24,
     "metadata": {},
     "output_type": "execute_result"
    }
   ],
   "source": [
    "ppv_results = compare_ppv_permutation(agg_df, 'defensive', 'DefensePredictor_hit', 'HHblits_hit')\n",
    "pd.Series(ppv_results)"
   ]
  },
  {
   "cell_type": "code",
   "execution_count": 25,
   "id": "828ea567-cd69-46a4-9810-e79f58f72b1a",
   "metadata": {},
   "outputs": [
    {
     "data": {
      "image/png": "[encoded data removed]",
      "text/plain": [
       "<Figure size 230x230 with 1 Axes>"
      ]
     },
     "metadata": {},
     "output_type": "display_data"
    }
   ],
   "source": [
    "plt.subplots(figsize=(2.3,2.3))\n",
    "sns.scatterplot(data=agg_df, x='max_dp_log_odds', y='max_hhblits_log_odds', hue='defensive',\n",
    "                palette=['#B0B0B0', '#0072B2'], style='defensive', markers=[\"o\", \"D\"],\n",
    "                edgecolor='Black', alpha=0.7, s=30)\n",
    "plt.ylabel('Max HHblits log-odds')\n",
    "plt.xlabel('Max DefensePredictor log-odds')\n",
    "plt.legend(loc='upper left', bbox_to_anchor=(1, 1), title='Validated system')\n",
    "plt.axvline(x=0, linestyle='dashed', color='black')\n",
    "plt.axhline(y=0, linestyle='dashed', color='black')\n",
    "sns.despine()\n",
    "plt.savefig('../figures/hhblits_v_dp.svg', bbox_inches='tight', dpi=300)"
   ]
  },
  {
   "cell_type": "code",
   "execution_count": 26,
   "id": "b7e34884-0564-4741-9de3-3fe6215f966f",
   "metadata": {},
   "outputs": [],
   "source": [
    "agg_df.to_parquet('../data3/interim/all_cloned_tus.pq', index=False)"
   ]
  },
  {
   "cell_type": "code",
   "execution_count": 27,
   "id": "5e512ac5",
   "metadata": {},
   "outputs": [],
   "source": [
    "common_recall = np.linspace(0, 1, 45)"
   ]
  },
  {
   "cell_type": "code",
   "execution_count": 28,
   "id": "4d112461",
   "metadata": {},
   "outputs": [
    {
     "name": "stderr",
     "output_type": "stream",
     "text": [
      "100%|██████████| 100/100 [00:01<00:00, 83.90it/s]\n",
      "100%|██████████| 100/100 [00:01<00:00, 84.81it/s]\n"
     ]
    }
   ],
   "source": [
    "n_boot = 100\n",
    "resampled_pr_list = list()\n",
    "pr_list = list()\n",
    "ap_list = list()\n",
    "for method in ['max_dp_log_odds', 'max_hhblits_log_odds']:\n",
    "    method_ap = metrics.average_precision_score(agg_df['defensive'], agg_df[method])\n",
    "    method_ap_list = list()\n",
    "    precision, recall, cutoff = metrics.precision_recall_curve(agg_df['defensive'], agg_df[method])\n",
    "    pr_list.append(pd.DataFrame({'precision': precision, \n",
    "                                 'recall': recall, \n",
    "                                 'method': method}))\n",
    "    for boot in tqdm(range(n_boot)):\n",
    "        resampled_agg_df = agg_df.sample(frac=1, replace=True, random_state=boot)\n",
    "        precision, recall, cutoff = metrics.precision_recall_curve(resampled_agg_df['defensive'], resampled_agg_df[method])\n",
    "        interp_precision = interpolate_precision(common_recall, precision, recall)\n",
    "        resampled_pr_df = (pd.DataFrame({'precision': interp_precision, \n",
    "                               'recall': common_recall}))\n",
    "        resampled_pr_df['method'] = method\n",
    "        resampled_pr_df['boot'] = boot\n",
    "        resampled_pr_list.append(resampled_pr_df)\n",
    "        method_ap_list.append(metrics.average_precision_score(resampled_agg_df['defensive'], resampled_agg_df[method]))\n",
    "    ap_list.append({'method': method, \n",
    "                    'AP': method_ap,\n",
    "                    'AP_std': np.std(method_ap_list)})\n",
    "ap_df = pd.DataFrame(ap_list)\n",
    "ap_df['display_name'] = (ap_df['method'].map({'max_dp_log_odds': 'DefensePredictor', 'max_hhblits_log_odds': 'HHblits'}) + \n",
    "                         ' (AP = ' + ap_df['AP'].round(3).astype(str) + ' ± ' + ap_df['AP_std'].round(3).astype(str) + ')')\n",
    "cat_resampled_pr_df = pd.concat(resampled_pr_list)\n",
    "merged_resampled_pr_df = (cat_resampled_pr_df.merge(ap_df, how='inner', \n",
    "                                on='method'))\n",
    "merged_pr_df = (pd.concat(pr_list)\n",
    "                .merge(ap_df, how='inner', on='method'))"
   ]
  },
  {
   "cell_type": "code",
   "execution_count": 29,
   "id": "6e843d83",
   "metadata": {},
   "outputs": [
    {
     "data": {
      "image/png": "[encoded data removed]",
      "text/plain": [
       "<Figure size 250x250 with 1 Axes>"
      ]
     },
     "metadata": {},
     "output_type": "display_data"
    }
   ],
   "source": [
    "fig, ax = plt.subplots(figsize=(2.5,2.5))\n",
    "metrics.PrecisionRecallDisplay.from_predictions(agg_df['defensive'], agg_df['max_dp_log_odds'], ax=ax, \n",
    "                                                label=ap_df.loc[ap_df['method'] == 'max_dp_log_odds', 'display_name'].squeeze())\n",
    "metrics.PrecisionRecallDisplay.from_predictions(agg_df['defensive'], agg_df['max_hhblits_log_odds'], ax=ax, \n",
    "                                                label=ap_df.loc[ap_df['method'] == 'max_hhblits_log_odds', 'display_name'].squeeze())\n",
    "plt.axhline(y=agg_df['defensive'].mean(), color='black', label='Random', linestyle='dashed')\n",
    "sns.lineplot(data=merged_resampled_pr_df, \n",
    "              x='recall', y='precision', errorbar='sd', estimator='mean',\n",
    "              hue='display_name', drawstyle='steps-pre', alpha=0, legend=False)\n",
    "plt.xlabel('Recall')\n",
    "plt.ylabel('Precision')\n",
    "plt.xlim(-0.05, 1.05)\n",
    "plt.ylim(-0.05,1.05)\n",
    "sns.despine()\n",
    "plt.legend(bbox_to_anchor=(1.04, 1), loc=\"upper left\", title='Method')\n",
    "plt.savefig('../figures/hhblits_v_dp_pr_curve.svg', bbox_inches='tight', dpi=300)"
   ]
  },
  {
   "cell_type": "code",
   "execution_count": 30,
   "id": "eaaa7c36",
   "metadata": {},
   "outputs": [
    {
     "data": {
      "text/plain": [
       "0.3644067796610169"
      ]
     },
     "execution_count": 30,
     "metadata": {},
     "output_type": "execute_result"
    }
   ],
   "source": [
    "agg_df['defensive'].mean()"
   ]
  },
  {
   "cell_type": "markdown",
   "id": "d587e31a-b4be-48d9-96b4-1af2ecf26745",
   "metadata": {},
   "source": [
    "## Plot hit"
   ]
  },
  {
   "cell_type": "code",
   "execution_count": 85,
   "id": "ab824f21-15bb-4489-84f9-87ab869bd01a",
   "metadata": {},
   "outputs": [],
   "source": [
    "hit_df = pd.read_csv('../data3/raw/Negative EOP tracking - Systems.csv')"
   ]
  },
  {
   "cell_type": "code",
   "execution_count": 86,
   "id": "d6ac3a77-1712-43df-9e3e-206e95667b67",
   "metadata": {},
   "outputs": [],
   "source": [
    "phage_order = ['T5', 'Bas26', \n",
    "               'Candy', 'RB69', 'T4', \n",
    "               'Bas63', \n",
    "               'Bas60', \n",
    "               'Bas50', \n",
    "               'Bas69', \n",
    "               'Bas67', 'T3', 'T7', \n",
    "               'Lambda', \n",
    "               'SECphi17', \n",
    "               'Bas19', 'Bas25', 'Bas21', \n",
    "               'SECphi18', \n",
    "               'Bas1', 'Bas3', 'Bas11', 'Bas9', 'Bas6', 'SECphi27']"
   ]
  },
  {
   "cell_type": "code",
   "execution_count": 87,
   "id": "b33f28bc-fbf7-4ca6-b981-fc6eac40040a",
   "metadata": {},
   "outputs": [],
   "source": [
    "hit_df['-log(EOP)'] = [0 if x < 0.5 else x for x in hit_df['-log(EOP)'] ]\n",
    "hit_df['Phage'] = pd.Categorical(hit_df['Phage'], categories=phage_order)\n",
    "hit_df['smaller_plaque'] = ((hit_df['Smaller Plaque Size'] == 'Y') & (hit_df['-log(EOP)'] < 1))\n",
    "hit_df['hit'] = True"
   ]
  },
  {
   "cell_type": "code",
   "execution_count": 114,
   "id": "5ebb8178-fc96-4917-bcd9-82a742a9d8ed",
   "metadata": {},
   "outputs": [],
   "source": [
    "wide_hit_df = hit_df.pivot(columns='Phage', index='System', values='-log(EOP)').fillna(0)\n",
    "wide_hit_annot = (hit_df.pivot(columns='Phage', index='System', values='smaller_plaque')\n",
    "                  .fillna(False).applymap(lambda x: 's' if x else ''))"
   ]
  },
  {
   "cell_type": "code",
   "execution_count": 115,
   "id": "86368f91-34ce-40c0-bc00-a83ef8871fac",
   "metadata": {},
   "outputs": [],
   "source": [
    "sys_height = 0.25"
   ]
  },
  {
   "cell_type": "code",
   "execution_count": 116,
   "id": "645afc87-5216-4016-a3ff-30a7caeba4f7",
   "metadata": {},
   "outputs": [
    {
     "data": {
      "image/png": "[encoded data removed]",
      "text/plain": [
       "<Figure size 75x25 with 2 Axes>"
      ]
     },
     "metadata": {},
     "output_type": "display_data"
    }
   ],
   "source": [
    "fig, ax = plt.subplots(figsize=(sys_height*wide_hit_df.shape[1], sys_height*len(wide_hit_df)))\n",
    "sns.heatmap(wide_hit_df,  \n",
    "            linecolor='#F2F2F2', linewidth=0.5,\n",
    "            ax=ax, cmap='Blues', cbar=True, \n",
    "            cbar_kws={#'shrink': 2, \n",
    "                      \"orientation\": \"horizontal\",\n",
    "                      'label': '-log(EOP)'}, \n",
    "            square=True)\n",
    "sns.heatmap(wide_hit_df,  \n",
    "            linecolor='#F2F2F2', linewidth=0.5,\n",
    "            ax=ax, cmap='Blues', \n",
    "            annot=wide_hit_annot, fmt=\"\", cbar=False)\n",
    "plt.xticks(rotation=90)\n",
    "plt.xlabel(None)\n",
    "plt.ylabel(None)\n",
    "for _, spine in ax.spines.items():\n",
    "    spine.set_visible(True)\n",
    "    spine.set_linewidth(1)  # Adjust border thickness if necessary\n",
    "plt.savefig('../figures/neg_hit_heatmap.svg', dpi=300, bbox_inches='tight')"
   ]
  },
  {
   "cell_type": "code",
   "execution_count": 94,
   "id": "1e44b080-b738-4848-a1af-66f7e7f8e382",
   "metadata": {},
   "outputs": [],
   "source": [
    "system_df = negative_tus[negative_tus['defensive']]"
   ]
  },
  {
   "cell_type": "code",
   "execution_count": 96,
   "id": "3b2a5bbd-0d1f-430f-8d6a-84eeb4730f7b",
   "metadata": {},
   "outputs": [],
   "source": [
    "domain_df = pd.read_csv('../data3/raw/HHPred negatives - hhpred_domains.csv')"
   ]
  },
  {
   "cell_type": "code",
   "execution_count": 110,
   "id": "ecc5a721-a6c1-499d-84c4-099170696295",
   "metadata": {},
   "outputs": [],
   "source": [
    "def plot_system(system_df, cat_domains, show_scale=True, show_prob_cmap=False, \n",
    "                hhpred_cmap=None, sys_height=sys_height, clip_on=False):\n",
    "    sys_height += -0.05\n",
    "    if hhpred_cmap is None:\n",
    "        hhpred_cmap = sns.color_palette(\"light:#E8020B\", as_cmap=True)\n",
    "    total_length = system_df['product_length'].sum() + 3*len(system_df)\n",
    "    fig, ax = plt.subplots(figsize=(3.9, sys_height))\n",
    "    ax.set_clip_on(clip_on)\n",
    "    x_offset = 0\n",
    "    if system_df['strand'].to_list()[0] == '-':\n",
    "        system_df = system_df.sort_values('start', ascending=False).reset_index(drop=True)\n",
    "    else:\n",
    "        system_df = system_df.sort_values('start', ascending=True).reset_index(drop=True)\n",
    "    for _, protein_series in system_df.iterrows():\n",
    "        product_accession = protein_series['product_accession']\n",
    "        protein_length = protein_series['product_length']\n",
    "        protein_edgecolor = 'black'\n",
    "        # plot individual domains\n",
    "        domain_df = cat_domains[cat_domains['product_accession'] == product_accession]\n",
    "        for _, domain_series in domain_df.iterrows():\n",
    "            textcolor='black'\n",
    "            start = domain_series['start']\n",
    "            end = domain_series['end']\n",
    "            label = domain_series['Domain Name']\n",
    "            probability = domain_series['Domain Prob']\n",
    "            if not pd.isnull(probability):\n",
    "                color = hhpred_cmap(probability)                   \n",
    "            else:\n",
    "                color = 'darkgrey'\n",
    "            domain_rect = patches.Rectangle((x_offset + start, -3), end - start, 6, facecolor=color, linewidth=0, clip_on=clip_on)\n",
    "            ax.add_patch(domain_rect)\n",
    "            ax.text(x_offset + ((start + end) / 2), -0.3, label, ha='center', va='center', fontdict={'color': textcolor})\n",
    "        arrow_width = 6\n",
    "        protein_arrow = patches.FancyArrow(x_offset, 0, protein_length, 0, \n",
    "                                           width=arrow_width, facecolor='none', edgecolor=protein_edgecolor, linewidth=1, \n",
    "                                           length_includes_head=True, head_width=arrow_width, head_length=0.05*total_length, \n",
    "                                           clip_on=clip_on)\n",
    "        ax.add_patch(protein_arrow)\n",
    "        #if protein_series['df_q_cov'] > 0.5:\n",
    "        #    ax.text(x_offset + protein_length - 0.02*total_length, 2.8, '*', ha='center', va='center', fontdict={'color': 'black'})\n",
    "        x_offset += protein_length + 1\n",
    "    ax.axis('off')\n",
    "    if show_scale: \n",
    "        ax.hlines(-4, 0, 100, linewidth=1, color='black', zorder=0, clip_on=clip_on)\n",
    "    if show_prob_cmap:\n",
    "        # Add a colorbar legend\n",
    "        divider = make_axes_locatable(ax)\n",
    "        cax = divider.append_axes(\"bottom\", size=\"150%\", )\n",
    "        norm = plt.Normalize(0, 1)\n",
    "        cb = plt.colorbar(plt.cm.ScalarMappable(norm=norm, cmap=hhpred_cmap), cax=cax, orientation='horizontal', \n",
    "                          fraction=0.046, pad=0.04)\n",
    "        cb.set_label(\"HHPred Probability\")"
   ]
  },
  {
   "cell_type": "code",
   "execution_count": 111,
   "id": "600fdb5f-3d5d-4812-a534-e31c47666b0a",
   "metadata": {},
   "outputs": [
    {
     "data": {
      "image/png": "[encoded data removed]",
      "text/plain": [
       "<Figure size 390x20 with 1 Axes>"
      ]
     },
     "metadata": {},
     "output_type": "display_data"
    }
   ],
   "source": [
    "plot_system(system_df, domain_df)\n",
    "plt.savefig('../figures/RMRT.svg', dpi=300, bbox_inches='tight')"
   ]
  },
  {
   "cell_type": "code",
   "execution_count": null,
   "id": "b5a37950-008d-42e3-a78f-76c20c944e46",
   "metadata": {},
   "outputs": [],
   "source": []
  }
 ],
 "metadata": {
  "kernelspec": {
   "display_name": "beaker",
   "language": "python",
   "name": "python3"
  },
  "language_info": {
   "codemirror_mode": {
    "name": "ipython",
    "version": 3
   },
   "file_extension": ".py",
   "mimetype": "text/x-python",
   "name": "python",
   "nbconvert_exporter": "python",
   "pygments_lexer": "ipython3",
   "version": "3.8.20"
  }
 },
 "nbformat": 4,
 "nbformat_minor": 5
}
