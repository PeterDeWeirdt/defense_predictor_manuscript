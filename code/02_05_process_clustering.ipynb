{
 "cells": [
  {
   "cell_type": "code",
   "execution_count": 13,
   "id": "f6b720eb-e681-4326-9dcb-566a45668d8e",
   "metadata": {},
   "outputs": [],
   "source": [
    "import pandas as pd\n",
    "import seaborn as sns\n",
    "import matplotlib.pyplot as plt\n",
    "from tqdm import tqdm\n",
    "import os"
   ]
  },
  {
   "cell_type": "code",
   "execution_count": 3,
   "id": "0f0484b5-33ad-4741-8b10-af32be2dd07b",
   "metadata": {},
   "outputs": [
    {
     "name": "stdout",
     "output_type": "stream",
     "text": [
      "CPU times: user 1min 15s, sys: 7.33 s, total: 1min 22s\n",
      "Wall time: 1min 23s\n"
     ]
    }
   ],
   "source": [
    "%%time\n",
    "cluster_df = pd.read_table('../data3/interim/refseq_cover_clusters.tsv', \n",
    "                               names=['cluster_id', 'seq_id'])"
   ]
  },
  {
   "cell_type": "code",
   "execution_count": 4,
   "id": "26868ed1-4e8d-4619-b610-82b10a9392d7",
   "metadata": {},
   "outputs": [
    {
     "name": "stdout",
     "output_type": "stream",
     "text": [
      "CPU times: user 1min 8s, sys: 44.5 s, total: 1min 53s\n",
      "Wall time: 2min 23s\n"
     ]
    }
   ],
   "source": [
    "%%time\n",
    "seq_df = pd.read_parquet('../data/interim/refseq_seq_ids.pq')"
   ]
  },
  {
   "cell_type": "code",
   "execution_count": 5,
   "id": "0496d26e-cf88-41d7-906c-eae31c22abac",
   "metadata": {},
   "outputs": [
    {
     "data": {
      "text/html": [
       "<div>\n",
       "<style scoped>\n",
       "    .dataframe tbody tr th:only-of-type {\n",
       "        vertical-align: middle;\n",
       "    }\n",
       "\n",
       "    .dataframe tbody tr th {\n",
       "        vertical-align: top;\n",
       "    }\n",
       "\n",
       "    .dataframe thead th {\n",
       "        text-align: right;\n",
       "    }\n",
       "</style>\n",
       "<table border=\"1\" class=\"dataframe\">\n",
       "  <thead>\n",
       "    <tr style=\"text-align: right;\">\n",
       "      <th></th>\n",
       "      <th>cluster_id</th>\n",
       "      <th>count</th>\n",
       "    </tr>\n",
       "  </thead>\n",
       "  <tbody>\n",
       "    <tr>\n",
       "      <th>0</th>\n",
       "      <td>2b6d60fa3b9344da23d70483294c92607dd09562cb4287...</td>\n",
       "      <td>61157</td>\n",
       "    </tr>\n",
       "    <tr>\n",
       "      <th>1</th>\n",
       "      <td>be95e77828f084e9e15747803bd14aef925d54f8a914b7...</td>\n",
       "      <td>60031</td>\n",
       "    </tr>\n",
       "    <tr>\n",
       "      <th>2</th>\n",
       "      <td>710e11d2089e120350289ecb9e18744ee4c648d255a3e2...</td>\n",
       "      <td>59613</td>\n",
       "    </tr>\n",
       "    <tr>\n",
       "      <th>3</th>\n",
       "      <td>fc7c606481814a96f84936fda5be9ee7b57f4ec38a2e4d...</td>\n",
       "      <td>54866</td>\n",
       "    </tr>\n",
       "    <tr>\n",
       "      <th>4</th>\n",
       "      <td>3fecb0a70fa67152e00b79c756827c7626428cc5d390b3...</td>\n",
       "      <td>52570</td>\n",
       "    </tr>\n",
       "    <tr>\n",
       "      <th>...</th>\n",
       "      <td>...</td>\n",
       "      <td>...</td>\n",
       "    </tr>\n",
       "    <tr>\n",
       "      <th>5053433</th>\n",
       "      <td>b95338d999d9b7e7188d3a38782834f2c2ea0675c2185f...</td>\n",
       "      <td>1</td>\n",
       "    </tr>\n",
       "    <tr>\n",
       "      <th>5053434</th>\n",
       "      <td>9b4a9718e1931f13f2256f635dfa7470375f5bcd985182...</td>\n",
       "      <td>1</td>\n",
       "    </tr>\n",
       "    <tr>\n",
       "      <th>5053435</th>\n",
       "      <td>31c6c555f0e037c156abd70ad48422a992092845545db5...</td>\n",
       "      <td>1</td>\n",
       "    </tr>\n",
       "    <tr>\n",
       "      <th>5053436</th>\n",
       "      <td>5e140febb1d6050576667496dbe0444499c68c6bdd6e62...</td>\n",
       "      <td>1</td>\n",
       "    </tr>\n",
       "    <tr>\n",
       "      <th>5053437</th>\n",
       "      <td>7b133bdee7aa785dee540b684047ced4870b4f587c09c9...</td>\n",
       "      <td>1</td>\n",
       "    </tr>\n",
       "  </tbody>\n",
       "</table>\n",
       "<p>5053438 rows × 2 columns</p>\n",
       "</div>"
      ],
      "text/plain": [
       "                                                cluster_id  count\n",
       "0        2b6d60fa3b9344da23d70483294c92607dd09562cb4287...  61157\n",
       "1        be95e77828f084e9e15747803bd14aef925d54f8a914b7...  60031\n",
       "2        710e11d2089e120350289ecb9e18744ee4c648d255a3e2...  59613\n",
       "3        fc7c606481814a96f84936fda5be9ee7b57f4ec38a2e4d...  54866\n",
       "4        3fecb0a70fa67152e00b79c756827c7626428cc5d390b3...  52570\n",
       "...                                                    ...    ...\n",
       "5053433  b95338d999d9b7e7188d3a38782834f2c2ea0675c2185f...      1\n",
       "5053434  9b4a9718e1931f13f2256f635dfa7470375f5bcd985182...      1\n",
       "5053435  31c6c555f0e037c156abd70ad48422a992092845545db5...      1\n",
       "5053436  5e140febb1d6050576667496dbe0444499c68c6bdd6e62...      1\n",
       "5053437  7b133bdee7aa785dee540b684047ced4870b4f587c09c9...      1\n",
       "\n",
       "[5053438 rows x 2 columns]"
      ]
     },
     "execution_count": 5,
     "metadata": {},
     "output_type": "execute_result"
    }
   ],
   "source": [
    "cluster_counts = (cluster_df['cluster_id'].value_counts()\n",
    "                  .reset_index())\n",
    "cluster_counts"
   ]
  },
  {
   "cell_type": "code",
   "execution_count": 6,
   "id": "b44fa75e-59d3-4cfb-bf1e-3582d5a50d79",
   "metadata": {},
   "outputs": [
    {
     "data": {
      "image/png": "[encoded data removed]",
      "text/plain": [
       "<Figure size 400x400 with 1 Axes>"
      ]
     },
     "metadata": {},
     "output_type": "display_data"
    }
   ],
   "source": [
    "plt.subplots(figsize=(4,4))\n",
    "sns.histplot(data=cluster_counts, binwidth=10)\n",
    "sns.despine()\n",
    "plt.xscale('log')\n",
    "plt.yscale('log')"
   ]
  },
  {
   "cell_type": "code",
   "execution_count": 7,
   "id": "995f8e8e-ce47-460a-bd61-cd376832c33a",
   "metadata": {},
   "outputs": [
    {
     "data": {
      "text/plain": [
       "5053438"
      ]
     },
     "execution_count": 7,
     "metadata": {},
     "output_type": "execute_result"
    }
   ],
   "source": [
    "select_cluster_seqs = cluster_counts[['cluster_id']]\n",
    "len(select_cluster_seqs)"
   ]
  },
  {
   "cell_type": "code",
   "execution_count": 8,
   "id": "c4d74fac-55fe-4466-9013-1c8513389fe8",
   "metadata": {},
   "outputs": [],
   "source": [
    "minimal_seq_df = seq_df[seq_df['seq_id'].isin(select_cluster_seqs['cluster_id'])]"
   ]
  },
  {
   "cell_type": "code",
   "execution_count": 9,
   "id": "f3f519d3-8974-4848-aead-5f4ddcaf8fb8",
   "metadata": {},
   "outputs": [],
   "source": [
    "minimal_seq_f = '../data3/interim/minimal_seqs.faa'"
   ]
  },
  {
   "cell_type": "code",
   "execution_count": 10,
   "id": "f1cf5de8-6c64-44a7-a28f-22301916e623",
   "metadata": {},
   "outputs": [
    {
     "name": "stderr",
     "output_type": "stream",
     "text": [
      "100%|██████████| 5053438/5053438 [04:21<00:00, 19332.08it/s]\n"
     ]
    }
   ],
   "source": [
    "with open(minimal_seq_f, 'w') as f:\n",
    "    for _, row in tqdm(minimal_seq_df.iterrows(), total=len(minimal_seq_df)):\n",
    "        print('>' + row['seq_id'], file=f)\n",
    "        print(row['seq'], file=f)"
   ]
  },
  {
   "cell_type": "code",
   "execution_count": 14,
   "id": "e090772d-c943-4a05-a626-43681d62bed2",
   "metadata": {},
   "outputs": [],
   "source": [
    "mmseqs_dir = '../data3/interim/mmseqs_dbs'\n",
    "if not os.path.exists(mmseqs_dir):\n",
    "    os.mkdir(mmseqs_dir)"
   ]
  },
  {
   "cell_type": "code",
   "execution_count": 15,
   "id": "d5f3080a-1c5b-4a01-b907-2ebc1e225dab",
   "metadata": {},
   "outputs": [],
   "source": [
    "minimal_seq_db = os.path.join(mmseqs_dir, 'minimal_seqs')"
   ]
  },
  {
   "cell_type": "code",
   "execution_count": 17,
   "id": "0c1bf78b-5197-4234-a84b-423da6733d9a",
   "metadata": {},
   "outputs": [
    {
     "name": "stdout",
     "output_type": "stream",
     "text": [
      "createdb ../data3/interim/minimal_seqs.faa ../data3/interim/mmseqs_dbs/minimal_seqs \n",
      "\n",
      "MMseqs Version:       \t13.45111\n",
      "Database type         \t0\n",
      "Shuffle input database\ttrue\n",
      "Createdb mode         \t0\n",
      "Write lookup file     \t1\n",
      "Offset of numeric ids \t0\n",
      "Compressed            \t0\n",
      "Verbosity             \t3\n",
      "\n",
      "Converting sequences\n",
      "[===================================================================================================\t1 Mio. sequences processed\n",
      "===================================================================================================\t2 Mio. sequences processed\n",
      "===================================================================================================\t3 Mio. sequences processed\n",
      "===================================================================================================\t4 Mio. sequences processed\n",
      "===================================================================================================\t5 Mio. sequences processed\n",
      "=====\n",
      "Time for merging to minimal_seqs_h: 0h 0m 1s 215ms\n",
      "Time for merging to minimal_seqs: 0h 0m 1s 968ms\n",
      "Database type: Aminoacid\n",
      "Time for processing: 0h 0m 22s 116ms\n",
      "\n"
     ]
    },
    {
     "data": {
      "text/plain": [
       "0"
      ]
     },
     "execution_count": 17,
     "metadata": {},
     "output_type": "execute_result"
    }
   ],
   "source": [
    "os.system(' '.join(['conda run -n beaker',\n",
    "                    'mmseqs createdb',\n",
    "                    minimal_seq_f,\n",
    "                    minimal_seq_db]))"
   ]
  },
  {
   "cell_type": "code",
   "execution_count": 18,
   "id": "baaeeb68-24d0-425d-b344-e0aeb60b1eac",
   "metadata": {},
   "outputs": [
    {
     "name": "stdout",
     "output_type": "stream",
     "text": [
      "createindex ../data3/interim/mmseqs_dbs/minimal_seqs /state/partition1/slurm_tmp/1048662.0.0 \n",
      "\n",
      "MMseqs Version:          \t13.45111\n",
      "Seed substitution matrix \tnucl:nucleotide.out,aa:VTML80.out\n",
      "k-mer length             \t0\n",
      "Alphabet size            \tnucl:5,aa:21\n",
      "Compositional bias       \t1\n",
      "Max sequence length      \t65535\n",
      "Max results per query    \t300\n",
      "Mask residues            \t1\n",
      "Mask lower case residues \t0\n",
      "Spaced k-mers            \t1\n",
      "Spaced k-mer pattern     \t\n",
      "Sensitivity              \t7.5\n",
      "k-score                  \t0\n",
      "Check compatible         \t0\n",
      "Search type              \t0\n",
      "Split database           \t0\n",
      "Split memory limit       \t0\n",
      "Verbosity                \t3\n",
      "Threads                  \t96\n",
      "Min codons in orf        \t30\n",
      "Max codons in length     \t32734\n",
      "Max orf gaps             \t2147483647\n",
      "Contig start mode        \t2\n",
      "Contig end mode          \t2\n",
      "Orf start mode           \t1\n",
      "Forward frames           \t1,2,3\n",
      "Reverse frames           \t1,2,3\n",
      "Translation table        \t1\n",
      "Translate orf            \t0\n",
      "Use all table starts     \tfalse\n",
      "Offset of numeric ids    \t0\n",
      "Create lookup            \t0\n",
      "Compressed               \t0\n",
      "Add orf stop             \tfalse\n",
      "Overlap between sequences\t0\n",
      "Sequence split mode      \t1\n",
      "Header split mode        \t0\n",
      "Strand selection         \t1\n",
      "Remove temporary files   \tfalse\n",
      "\n",
      "createindex ../data3/interim/mmseqs_dbs/minimal_seqs /state/partition1/slurm_tmp/1048662.0.0 \n",
      "\n",
      "MMseqs Version:          \t13.45111\n",
      "Seed substitution matrix \tnucl:nucleotide.out,aa:VTML80.out\n",
      "k-mer length             \t0\n",
      "Alphabet size            \tnucl:5,aa:21\n",
      "Compositional bias       \t1\n",
      "Max sequence length      \t65535\n",
      "Max results per query    \t300\n",
      "Mask residues            \t1\n",
      "Mask lower case residues \t0\n",
      "Spaced k-mers            \t1\n",
      "Spaced k-mer pattern     \t\n",
      "Sensitivity              \t7.5\n",
      "k-score                  \t0\n",
      "Check compatible         \t0\n",
      "Search type              \t0\n",
      "Split database           \t0\n",
      "Split memory limit       \t0\n",
      "Verbosity                \t3\n",
      "Threads                  \t96\n",
      "Min codons in orf        \t30\n",
      "Max codons in length     \t32734\n",
      "Max orf gaps             \t2147483647\n",
      "Contig start mode        \t2\n",
      "Contig end mode          \t2\n",
      "Orf start mode           \t1\n",
      "Forward frames           \t1,2,3\n",
      "Reverse frames           \t1,2,3\n",
      "Translation table        \t1\n",
      "Translate orf            \t0\n",
      "Use all table starts     \tfalse\n",
      "Offset of numeric ids    \t0\n",
      "Create lookup            \t0\n",
      "Compressed               \t0\n",
      "Add orf stop             \tfalse\n",
      "Overlap between sequences\t0\n",
      "Sequence split mode      \t1\n",
      "Header split mode        \t0\n",
      "Strand selection         \t1\n",
      "Remove temporary files   \tfalse\n",
      "\n",
      "indexdb ../data3/interim/mmseqs_dbs/minimal_seqs ../data3/interim/mmseqs_dbs/minimal_seqs --seed-sub-mat nucl:nucleotide.out,aa:VTML80.out -k 0 --alph-size nucl:5,aa:21 --comp-bias-corr 1 --max-seq-len 65535 --max-seqs 300 --mask 1 --mask-lower-case 0 --spaced-kmer-mode 1 -s 7.5 --k-score 0 --check-compatible 0 --search-type 0 --split 0 --split-memory-limit 0 -v 3 --threads 96 \n",
      "\n",
      "Estimated memory consumption: 30G\n",
      "Write VERSION (0)\n",
      "Write META (1)\n",
      "Write SCOREMATRIX3MER (4)\n",
      "Write SCOREMATRIX2MER (3)\n",
      "Write SCOREMATRIXNAME (2)\n",
      "Write SPACEDPATTERN (23)\n",
      "Write GENERATOR (22)\n",
      "Write DBR1INDEX (5)\n",
      "Write DBR1DATA (6)\n",
      "Write HDR1INDEX (18)\n",
      "Write HDR1DATA (19)\n",
      "Index table: counting k-mers\n",
      "[=================================================================] 5.05M 5s 135ms\n",
      "Index table: Masked residues: 28188293\n",
      "Index table: fill\n",
      "[=================================================================] 5.05M 4s 459ms\n",
      "Index statistics\n",
      "Entries:          1069597025\n",
      "DB size:          6608 MB\n",
      "Avg k-mer size:   16.712454\n",
      "Top 10 k-mers\n",
      "    AAAAAA\t9734\n",
      "    AALAAA\t6988\n",
      "    LAMHRT\t6005\n",
      "    FKIDGH\t5918\n",
      "    KSFASH\t5835\n",
      "    AAAAAL\t5489\n",
      "    DDGGSL\t5040\n",
      "    ANSETP\t5011\n",
      "    AAALAL\t4363\n",
      "    ALAAAL\t4049\n",
      "Write ENTRIES (9)\n",
      "Write ENTRIESOFFSETS (10)\n",
      "Write SEQINDEXDATASIZE (15)\n",
      "Write SEQINDEXSEQOFFSET (16)\n",
      "Write SEQINDEXDATA (14)\n",
      "Write ENTRIESNUM (12)\n",
      "Write SEQCOUNT (13)\n",
      "Time for merging to minimal_seqs.idx: 0h 0m 0s 23ms\n",
      "Time for processing: 0h 0m 19s 132ms\n",
      "\n"
     ]
    },
    {
     "data": {
      "text/plain": [
       "0"
      ]
     },
     "execution_count": 18,
     "metadata": {},
     "output_type": "execute_result"
    }
   ],
   "source": [
    "os.system(' '.join(['conda run -n beaker',\n",
    "                    'mmseqs createindex', \n",
    "                    minimal_seq_db,\n",
    "                    '$TMPDIR']))"
   ]
  },
  {
   "cell_type": "code",
   "execution_count": 8,
   "id": "f7d42e62-5d2b-42d9-b7e7-b1af4fe21577",
   "metadata": {},
   "outputs": [],
   "source": [
    "cluster_df.to_parquet('../data3/interim/refseq_cover_clusters.pq', index=False)\n",
    "select_cluster_seqs.to_csv('../data3/interim/refseq_minimal_seq_ids.pq', index=False)"
   ]
  },
  {
   "cell_type": "code",
   "execution_count": null,
   "id": "fc9f13f5-158a-4958-888d-fa1904c1ccde",
   "metadata": {},
   "outputs": [],
   "source": []
  }
 ],
 "metadata": {
  "kernelspec": {
   "display_name": "beaker",
   "language": "python",
   "name": "beaker"
  },
  "language_info": {
   "codemirror_mode": {
    "name": "ipython",
    "version": 3
   },
   "file_extension": ".py",
   "mimetype": "text/x-python",
   "name": "python",
   "nbconvert_exporter": "python",
   "pygments_lexer": "ipython3",
   "version": "3.8.16"
  }
 },
 "nbformat": 4,
 "nbformat_minor": 5
}
