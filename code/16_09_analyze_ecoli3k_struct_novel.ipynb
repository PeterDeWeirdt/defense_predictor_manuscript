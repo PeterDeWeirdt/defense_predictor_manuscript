{
 "cells": [
  {
   "cell_type": "code",
   "execution_count": 2,
   "id": "e0a8b7d0-4bec-4e21-b6d0-0e9e393bed3f",
   "metadata": {},
   "outputs": [],
   "source": [
    "import pandas as pd\n",
    "import matplotlib.pyplot as plt\n",
    "import seaborn as sns\n",
    "from dna_features_viewer import GraphicFeature, GraphicRecord\n",
    "import matplotlib.text as mtext\n",
    "from matplotlib.colors import TwoSlopeNorm\n",
    "import textwrap\n",
    "from core import med_log_odds_cutoff, bw_color_palette\n",
    "import numpy as np\n",
    "from tqdm import tqdm"
   ]
  },
  {
   "cell_type": "code",
   "execution_count": 3,
   "id": "e1b6f948-6955-4f84-aa79-56d71592716c",
   "metadata": {},
   "outputs": [],
   "source": [
    "plt.rcParams['font.size'] = 7\n",
    "plt.rcParams['svg.fonttype'] = 'none'"
   ]
  },
  {
   "cell_type": "code",
   "execution_count": 4,
   "id": "891ab5be-f65e-4a92-9ae2-bc54de6aee3a",
   "metadata": {},
   "outputs": [],
   "source": [
    "def assign_hit_category(row, qcov=0.4):\n",
    "    if row['defense_system_protein']:\n",
    "        return 'Defense homolog in expected system'\n",
    "    elif row['defense_homolog']:\n",
    "        return 'Defense homolog in new context'\n",
    "    elif row['q_cov'] > qcov:\n",
    "        return 'Remote defense homolog'\n",
    "    elif row['foldseek_q_cov'] > qcov:\n",
    "        return 'Structural defense homolog'\n",
    "    else:\n",
    "        return 'Predicted novel defense gene'"
   ]
  },
  {
   "cell_type": "code",
   "execution_count": 5,
   "id": "1bc775c1-0d8a-4c07-abdf-c45d516dd445",
   "metadata": {},
   "outputs": [],
   "source": [
    "def select_domains(hhblits_df, prob_cutoff=50):\n",
    "    # Other Domains\n",
    "    out_list = []\n",
    "    filt_df = hhblits_df[(hhblits_df['Prob'] > prob_cutoff)]\n",
    "    for group, group_df in tqdm(filt_df.groupby('query'), \n",
    "                                position=0, total=filt_df['query'].nunique()):\n",
    "        group_df = group_df.sort_values('Prob', ascending=False)\n",
    "        while len(group_df):\n",
    "            selected_row = group_df.head(1).squeeze()\n",
    "            out_list.append(selected_row)\n",
    "            group_df = group_df[(group_df['qend'] < selected_row['qstart']) |\n",
    "                                (group_df['qstart'] > selected_row['qend'])]\n",
    "    selected_domain_df = pd.concat(out_list, axis=1).T\n",
    "    return selected_domain_df"
   ]
  },
  {
   "cell_type": "code",
   "execution_count": 6,
   "id": "b860c251-7ee6-4543-8176-7cac7104a64b",
   "metadata": {},
   "outputs": [],
   "source": [
    "search_df = pd.read_table('../data3/interim/ecoli3k_put_novel_rep_search.txt', \n",
    "                          names=[\"query\", \"target\", \"fident\", \"alnlen\", \"mismatch\", \"gapopen\", \"qstart\", \"qend\", \"tstart\", \"tend\", \"qcov\", \"tcov\", \"evalue\", \"bits\", \"alntmscore\", \"qtmscore\", \"ttmscore\", \"rmsd\", \"lddt\", \"prob\"])\n",
    "predictions = pd.read_parquet('../data3/interim/ecoli3k_predicted_defense.pq')\n",
    "hhpred_results = pd.read_csv('../data3/interim/ecoli_3k_putative_novel_pfam_df_domains.csv')\n",
    "blacklisted_domains = pd.read_csv('../data3/interim/df_blacklisted_domains.csv')\n",
    "pfam_clans = pd.read_table('../data/raw/Pfam-A.clans.tsv', \n",
    "                           names=['pfam_id', 'clan_id', 'clan_name', 'pfam_name', 'pfam_description'])"
   ]
  },
  {
   "cell_type": "code",
   "execution_count": 7,
   "id": "34eb046d-ccca-4416-b2f4-56126630ae56",
   "metadata": {},
   "outputs": [],
   "source": [
    "og_predictions = pd.read_parquet('../data3/processed/ecoli_3k_predictions.pq')"
   ]
  },
  {
   "cell_type": "code",
   "execution_count": 8,
   "id": "329395e6-e904-4c7a-b15a-0e2a843be343",
   "metadata": {},
   "outputs": [],
   "source": [
    "clusters = og_predictions[['product_accession', 'cluster_id']].drop_duplicates()"
   ]
  },
  {
   "cell_type": "code",
   "execution_count": 9,
   "id": "d7ac3610-b709-4492-9daa-5698d4681600",
   "metadata": {},
   "outputs": [],
   "source": [
    "cluster_size = (clusters['cluster_id']\n",
    "                .value_counts()\n",
    "                .reset_index()\n",
    "                .rename(columns={'count': 'cluster_size'}))"
   ]
  },
  {
   "cell_type": "code",
   "execution_count": 10,
   "id": "703c8ee2-c154-48dd-bcc2-ac12674cb820",
   "metadata": {},
   "outputs": [],
   "source": [
    "top_search_df = (search_df.sort_values('prob', ascending=False)\n",
    "                 .groupby('query')\n",
    "                 .head(1))"
   ]
  },
  {
   "cell_type": "code",
   "execution_count": 11,
   "id": "4c0b0d41-f2ef-4ade-84a6-747728a72279",
   "metadata": {},
   "outputs": [],
   "source": [
    "homolog_df = (top_search_df[top_search_df['prob'] > 0.6]\n",
    "              .reset_index(drop=True))"
   ]
  },
  {
   "cell_type": "code",
   "execution_count": 12,
   "id": "bd00d070-1db7-411f-bdb0-c39a09b8c113",
   "metadata": {},
   "outputs": [],
   "source": [
    "merged_predictions = (predictions\n",
    "                      .merge(homolog_df\n",
    "                             .rename(columns={'query': 'product_accession',\n",
    "                                              'target': 'foldseek_hit',\n",
    "                                              'prob': 'foldseek_prob',\n",
    "                                              'qcov': 'foldseek_q_cov'}), \n",
    "                             how='left', on='product_accession'))\n",
    "merged_predictions['foldseek_q_cov'] = merged_predictions['foldseek_q_cov'].fillna(0)"
   ]
  },
  {
   "cell_type": "code",
   "execution_count": 13,
   "id": "d3ff49b1-fdb3-4a4a-b987-e69038d98ea8",
   "metadata": {},
   "outputs": [],
   "source": [
    "merged_predictions['hit_category'] = merged_predictions.apply(assign_hit_category, axis=1)\n",
    "hit_categories = ['Defense homolog in expected system',\n",
    "                  'Defense homolog in new context', \n",
    "                  'Remote defense homolog', \n",
    "                  'Structural defense homolog',\n",
    "                  'Predicted novel defense gene']\n",
    "merged_predictions['hit_category'] = pd.Categorical(merged_predictions['hit_category'], \n",
    "                                                    categories=hit_categories)"
   ]
  },
  {
   "cell_type": "code",
   "execution_count": 14,
   "id": "86d145f0-7924-4e25-bbd2-b83b13140a32",
   "metadata": {},
   "outputs": [
    {
     "data": {
      "text/plain": [
       "hit_category\n",
       "Predicted novel defense gene          1041\n",
       "Defense homolog in new context        1037\n",
       "Remote defense homolog                 717\n",
       "Defense homolog in expected system     697\n",
       "Structural defense homolog             168\n",
       "Name: count, dtype: int64"
      ]
     },
     "execution_count": 14,
     "metadata": {},
     "output_type": "execute_result"
    }
   ],
   "source": [
    "merged_predictions['hit_category'].value_counts()"
   ]
  },
  {
   "cell_type": "code",
   "execution_count": 15,
   "id": "9898e976-4c2f-4575-a3b8-7fbe3ca40465",
   "metadata": {},
   "outputs": [
    {
     "data": {
      "text/plain": [
       "656"
      ]
     },
     "execution_count": 15,
     "metadata": {},
     "output_type": "execute_result"
    }
   ],
   "source": [
    "((merged_predictions['hit_category'] == 'Predicted novel defense gene') & \n",
    " (merged_predictions['q_cov'] == 0) & \n",
    " (merged_predictions['foldseek_q_cov'] == 0)).sum()"
   ]
  },
  {
   "cell_type": "code",
   "execution_count": 16,
   "id": "39b3db64-ab56-4538-89ed-0b51342983a6",
   "metadata": {},
   "outputs": [
    {
     "data": {
      "text/plain": [
       "3000"
      ]
     },
     "execution_count": 16,
     "metadata": {},
     "output_type": "execute_result"
    }
   ],
   "source": [
    "genomes = og_predictions['assembly'].drop_duplicates()\n",
    "len(genomes)"
   ]
  },
  {
   "cell_type": "code",
   "execution_count": 17,
   "id": "e169071d-fe2d-490a-bf07-b8f18f413065",
   "metadata": {},
   "outputs": [],
   "source": [
    "n_boot = 10"
   ]
  },
  {
   "cell_type": "code",
   "execution_count": 18,
   "id": "4ee36478-016b-44b2-b988-7cc61cb1d1bf",
   "metadata": {
    "tags": []
   },
   "outputs": [
    {
     "name": "stderr",
     "output_type": "stream",
     "text": [
      "100%|██████████| 50/50 [10:26<00:00, 12.53s/it]\n"
     ]
    }
   ],
   "source": [
    "sample_range = [int(x) for x in np.linspace(1, len(genomes), num=50)]\n",
    "n_def_cluster_list = list()\n",
    "for n in tqdm(sample_range):\n",
    "    for boot in range(n_boot):\n",
    "        sampled_genomes = set(genomes.sample(n=n, random_state=boot))\n",
    "        sampled_clusters = set(og_predictions.loc[og_predictions['assembly'].isin(sampled_genomes), 'cluster_id'])\n",
    "        sampled_def_df = merged_predictions[merged_predictions['cluster_id'].isin(sampled_clusters)]\n",
    "        n_def_clusters = (sampled_def_df['hit_category']\n",
    "                          .value_counts()\n",
    "                          .reset_index())\n",
    "        n_def_clusters['n_genomes'] = n\n",
    "        n_def_cluster_list.append(n_def_clusters)\n",
    "cat_n_def_cluster = pd.concat(n_def_cluster_list)"
   ]
  },
  {
   "cell_type": "code",
   "execution_count": 19,
   "id": "c7ad7daa-6345-4f7b-b970-06b7348c938d",
   "metadata": {},
   "outputs": [],
   "source": [
    "agg_n_def_cluster = (cat_n_def_cluster.groupby(['hit_category', 'n_genomes'])\n",
    "                     .agg({'count': 'mean'})\n",
    "                     .reset_index())"
   ]
  },
  {
   "cell_type": "code",
   "execution_count": 20,
   "id": "05fdf664-aab2-4e65-966d-e947e8e08720",
   "metadata": {},
   "outputs": [],
   "source": [
    "agg_n_def_cluster['hit_category'] = pd.Categorical(agg_n_def_cluster['hit_category'], \n",
    "                                                         categories=hit_categories)"
   ]
  },
  {
   "cell_type": "code",
   "execution_count": 21,
   "id": "936a0b60-7bb3-41a4-a2c7-a61efb11996f",
   "metadata": {},
   "outputs": [],
   "source": [
    "color_palette = sns.color_palette(['#e69f00', '#56b4e9', '#009e73', '#0072b2','#f0e442'])"
   ]
  },
  {
   "cell_type": "code",
   "execution_count": 22,
   "id": "0a43544e-11e2-4e0d-b671-5e83c1fccfac",
   "metadata": {},
   "outputs": [
    {
     "data": {
      "image/png": "[encoded data removed]",
      "text/plain": [
       "<Figure size 200x200 with 1 Axes>"
      ]
     },
     "metadata": {},
     "output_type": "display_data"
    }
   ],
   "source": [
    "plt.subplots(figsize=(2, 2))\n",
    "sns.scatterplot(data=agg_n_def_cluster, x='n_genomes', y='count', hue='hit_category',\n",
    "              palette=color_palette, s=10)\n",
    "sns.despine()\n",
    "# Adjust legend\n",
    "legend = plt.legend(loc=\"upper left\", bbox_to_anchor=(1,1))\n",
    "handles, labels = legend.get_texts(), [text.get_text() for text in legend.get_texts()]\n",
    "wrapped_labels = [textwrap.fill(label, 20) for label in labels]\n",
    "for text, wrapped_label in zip(handles, wrapped_labels):\n",
    "    text.set_text(wrapped_label)\n",
    "# Other plot attributes\n",
    "plt.ylabel('# Protein Clusters')\n",
    "plt.xlabel('# Genomes')\n",
    "plt.savefig('../figures/ecoli3k_predicted_category_per_genome.svg', dpi=300, bbox_inches='tight')"
   ]
  },
  {
   "cell_type": "code",
   "execution_count": 23,
   "id": "65e0640b-3ce8-449c-9b5a-44bebb4c413e",
   "metadata": {},
   "outputs": [],
   "source": [
    "merged_predictions.to_parquet('../data3/interim/ecoli3k_predicted_defense_struct.pq', index=False)"
   ]
  },
  {
   "cell_type": "code",
   "execution_count": 27,
   "id": "107d6f90-a46c-47b3-93ee-bba157a3a14e",
   "metadata": {},
   "outputs": [],
   "source": [
    "novel_predictions = merged_predictions.query(\"hit_category == 'Predicted novel defense gene'\")"
   ]
  },
  {
   "cell_type": "code",
   "execution_count": 28,
   "id": "b56eca6d-dabe-427f-888c-af22029751e6",
   "metadata": {},
   "outputs": [
    {
     "data": {
      "text/plain": [
       "1041"
      ]
     },
     "execution_count": 28,
     "metadata": {},
     "output_type": "execute_result"
    }
   ],
   "source": [
    "len(novel_predictions)"
   ]
  },
  {
   "cell_type": "code",
   "execution_count": 29,
   "id": "1e804cda-a3f5-4d20-9be8-e17cc8dd6fbc",
   "metadata": {},
   "outputs": [],
   "source": [
    "novel_predictions.to_parquet('../data3/interim/ecoli3k_novel_predicted_defense_struct.pq', index=False)"
   ]
  },
  {
   "cell_type": "markdown",
   "id": "55d03e7c-5967-495b-b621-c4d69b8994a2",
   "metadata": {},
   "source": [
    "## Get new domains"
   ]
  },
  {
   "cell_type": "code",
   "execution_count": 30,
   "id": "98e6a745-bc49-4d18-af27-d0b56461abd5",
   "metadata": {},
   "outputs": [],
   "source": [
    "pfam_hhpred_results = hhpred_results[hhpred_results['hit_name'].str.startswith('PF') & \n",
    "                                     hhpred_results['query'].isin(novel_predictions['product_accession'])]"
   ]
  },
  {
   "cell_type": "code",
   "execution_count": 32,
   "id": "f089e3af-aa7d-4ad0-a8b0-0faaedca3918",
   "metadata": {},
   "outputs": [
    {
     "name": "stderr",
     "output_type": "stream",
     "text": [
      "100%|██████████| 730/730 [00:00<00:00, 787.59it/s]\n"
     ]
    }
   ],
   "source": [
    "select_pfam = select_domains(pfam_hhpred_results)"
   ]
  },
  {
   "cell_type": "code",
   "execution_count": 33,
   "id": "6f248561-2603-4397-b28c-61906a4572d4",
   "metadata": {},
   "outputs": [],
   "source": [
    "select_pfam['pfam_id'] = select_pfam['hit_name'].str.split('.', expand=True)[0]\n",
    "select_pfam = select_pfam.merge(pfam_clans, how='inner', on='pfam_id')"
   ]
  },
  {
   "cell_type": "code",
   "execution_count": 34,
   "id": "101d2880-7da7-49cd-be03-886b72287a4e",
   "metadata": {},
   "outputs": [],
   "source": [
    "filtered_pfam = select_pfam[~select_pfam['pfam_id'].isin(blacklisted_domains['pfam_id'].unique()) & \n",
    "                            ~select_pfam['clan_id'].isin(blacklisted_domains['clan_id'].dropna().unique())]"
   ]
  },
  {
   "cell_type": "code",
   "execution_count": 35,
   "id": "bb5d1656-5fc6-424f-b68b-ccb7801a79a4",
   "metadata": {},
   "outputs": [
    {
     "data": {
      "text/plain": [
       "195"
      ]
     },
     "execution_count": 35,
     "metadata": {},
     "output_type": "execute_result"
    }
   ],
   "source": [
    "filtered_pfam['pfam_id'].nunique()"
   ]
  },
  {
   "cell_type": "code",
   "execution_count": 36,
   "id": "919b8159-3bba-495d-b354-ceaf7173e45e",
   "metadata": {},
   "outputs": [],
   "source": [
    "merged_pfam = (filtered_pfam.rename(columns={'query': 'product_accession'})\n",
    "               .merge(merged_predictions, how='inner', on='product_accession', \n",
    "                      suffixes=('_Pfam', '_DF'))\n",
    "               .merge(cluster_size, how='inner', on='cluster_id'))\n",
    "merged_pfam['hhblits_rank_pfam'] = merged_pfam['Prob_Pfam'].rank(pct=True)\n",
    "merged_pfam['pred_rank'] = merged_pfam['mean_log_odds'].rank(pct=True)\n",
    "merged_pfam['cluster_rank'] = merged_pfam['cluster_size'].rank(pct=True)\n",
    "merged_pfam['hhblits_rank_df'] = merged_pfam['q_cov'].rank(pct=True, ascending=False)\n",
    "merged_pfam['foldseek_rank'] = merged_pfam['foldseek_q_cov'].rank(pct=True, ascending=False)\n",
    "merged_pfam['mean_rank'] = merged_pfam[['hhblits_rank_pfam', 'pred_rank',\n",
    "                                        'cluster_rank', 'hhblits_rank_df',\n",
    "                                        'foldseek_rank']].mean(axis=1)"
   ]
  },
  {
   "cell_type": "code",
   "execution_count": 37,
   "id": "9e2fdef4-8e33-409a-bf0a-886d38f6a9fe",
   "metadata": {},
   "outputs": [],
   "source": [
    "unique_merged_pfam = (merged_pfam.sort_values('mean_rank', ascending=False)\n",
    "                      .groupby('pfam_id')\n",
    "                      .head(1))"
   ]
  },
  {
   "cell_type": "code",
   "execution_count": 44,
   "id": "5359c2a7-8450-4259-aaa9-f3bea3fdf840",
   "metadata": {},
   "outputs": [
    {
     "data": {
      "text/html": [
       "<div>\n",
       "<style scoped>\n",
       "    .dataframe tbody tr th:only-of-type {\n",
       "        vertical-align: middle;\n",
       "    }\n",
       "\n",
       "    .dataframe tbody tr th {\n",
       "        vertical-align: top;\n",
       "    }\n",
       "\n",
       "    .dataframe thead th {\n",
       "        text-align: right;\n",
       "    }\n",
       "</style>\n",
       "<table border=\"1\" class=\"dataframe\">\n",
       "  <thead>\n",
       "    <tr style=\"text-align: right;\">\n",
       "      <th></th>\n",
       "      <th>Hit</th>\n",
       "      <th>Prob_Pfam</th>\n",
       "      <th>E-value</th>\n",
       "      <th>P-value</th>\n",
       "      <th>Score</th>\n",
       "      <th>SS</th>\n",
       "      <th>Cols</th>\n",
       "      <th>Query HMM</th>\n",
       "      <th>Template HMM</th>\n",
       "      <th>product_accession</th>\n",
       "      <th>...</th>\n",
       "      <th>rmsd</th>\n",
       "      <th>lddt</th>\n",
       "      <th>foldseek_prob</th>\n",
       "      <th>cluster_size</th>\n",
       "      <th>hhblits_rank_pfam</th>\n",
       "      <th>pred_rank</th>\n",
       "      <th>cluster_rank</th>\n",
       "      <th>hhblits_rank_df</th>\n",
       "      <th>foldseek_rank</th>\n",
       "      <th>mean_rank</th>\n",
       "    </tr>\n",
       "  </thead>\n",
       "  <tbody>\n",
       "    <tr>\n",
       "      <th>282</th>\n",
       "      <td>PF19614.2 ; DUF6119 ; Family o</td>\n",
       "      <td>100.0</td>\n",
       "      <td>0.0</td>\n",
       "      <td>0.0</td>\n",
       "      <td>685.4</td>\n",
       "      <td>0.0</td>\n",
       "      <td>478.0</td>\n",
       "      <td>5-518</td>\n",
       "      <td>1-523 (523)</td>\n",
       "      <td>WP_044067311.1</td>\n",
       "      <td>...</td>\n",
       "      <td>NaN</td>\n",
       "      <td>NaN</td>\n",
       "      <td>NaN</td>\n",
       "      <td>15</td>\n",
       "      <td>0.928760</td>\n",
       "      <td>0.905013</td>\n",
       "      <td>0.916887</td>\n",
       "      <td>0.638522</td>\n",
       "      <td>0.501319</td>\n",
       "      <td>0.778100</td>\n",
       "    </tr>\n",
       "    <tr>\n",
       "      <th>50</th>\n",
       "      <td>PF04245.16 ; NA37 ; 37-kD nucl</td>\n",
       "      <td>100.0</td>\n",
       "      <td>0.0</td>\n",
       "      <td>0.0</td>\n",
       "      <td>289.0</td>\n",
       "      <td>0.0</td>\n",
       "      <td>318.0</td>\n",
       "      <td>10-362</td>\n",
       "      <td>1-318 (318)</td>\n",
       "      <td>WP_120130707.1</td>\n",
       "      <td>...</td>\n",
       "      <td>NaN</td>\n",
       "      <td>NaN</td>\n",
       "      <td>NaN</td>\n",
       "      <td>11</td>\n",
       "      <td>0.928760</td>\n",
       "      <td>0.891821</td>\n",
       "      <td>0.866755</td>\n",
       "      <td>0.638522</td>\n",
       "      <td>0.501319</td>\n",
       "      <td>0.765435</td>\n",
       "    </tr>\n",
       "    <tr>\n",
       "      <th>10</th>\n",
       "      <td>PF10987.11 ; DUF2806 ; Protein</td>\n",
       "      <td>100.0</td>\n",
       "      <td>0.0</td>\n",
       "      <td>0.0</td>\n",
       "      <td>265.9</td>\n",
       "      <td>0.0</td>\n",
       "      <td>201.0</td>\n",
       "      <td>61-266</td>\n",
       "      <td>1-221 (221)</td>\n",
       "      <td>WP_000052343.1</td>\n",
       "      <td>...</td>\n",
       "      <td>NaN</td>\n",
       "      <td>NaN</td>\n",
       "      <td>NaN</td>\n",
       "      <td>7</td>\n",
       "      <td>0.928760</td>\n",
       "      <td>0.907652</td>\n",
       "      <td>0.773087</td>\n",
       "      <td>0.638522</td>\n",
       "      <td>0.501319</td>\n",
       "      <td>0.749868</td>\n",
       "    </tr>\n",
       "    <tr>\n",
       "      <th>165</th>\n",
       "      <td>PF13708.9 ; DUF4942 ; Domain o</td>\n",
       "      <td>100.0</td>\n",
       "      <td>0.0</td>\n",
       "      <td>0.0</td>\n",
       "      <td>280.7</td>\n",
       "      <td>0.0</td>\n",
       "      <td>179.0</td>\n",
       "      <td>84-265</td>\n",
       "      <td>1-212 (212)</td>\n",
       "      <td>WP_001192736.1</td>\n",
       "      <td>...</td>\n",
       "      <td>NaN</td>\n",
       "      <td>NaN</td>\n",
       "      <td>NaN</td>\n",
       "      <td>867</td>\n",
       "      <td>0.928760</td>\n",
       "      <td>0.635884</td>\n",
       "      <td>0.997361</td>\n",
       "      <td>0.638522</td>\n",
       "      <td>0.501319</td>\n",
       "      <td>0.740369</td>\n",
       "    </tr>\n",
       "    <tr>\n",
       "      <th>216</th>\n",
       "      <td>PF16289.8 ; PIN_12 ; PIN domai</td>\n",
       "      <td>99.6</td>\n",
       "      <td>0.0</td>\n",
       "      <td>0.0</td>\n",
       "      <td>154.3</td>\n",
       "      <td>0.0</td>\n",
       "      <td>158.0</td>\n",
       "      <td>8-175</td>\n",
       "      <td>1-163 (163)</td>\n",
       "      <td>WP_031619804.1</td>\n",
       "      <td>...</td>\n",
       "      <td>NaN</td>\n",
       "      <td>NaN</td>\n",
       "      <td>NaN</td>\n",
       "      <td>13</td>\n",
       "      <td>0.689974</td>\n",
       "      <td>0.977573</td>\n",
       "      <td>0.890501</td>\n",
       "      <td>0.638522</td>\n",
       "      <td>0.501319</td>\n",
       "      <td>0.739578</td>\n",
       "    </tr>\n",
       "    <tr>\n",
       "      <th>...</th>\n",
       "      <td>...</td>\n",
       "      <td>...</td>\n",
       "      <td>...</td>\n",
       "      <td>...</td>\n",
       "      <td>...</td>\n",
       "      <td>...</td>\n",
       "      <td>...</td>\n",
       "      <td>...</td>\n",
       "      <td>...</td>\n",
       "      <td>...</td>\n",
       "      <td>...</td>\n",
       "      <td>...</td>\n",
       "      <td>...</td>\n",
       "      <td>...</td>\n",
       "      <td>...</td>\n",
       "      <td>...</td>\n",
       "      <td>...</td>\n",
       "      <td>...</td>\n",
       "      <td>...</td>\n",
       "      <td>...</td>\n",
       "      <td>...</td>\n",
       "    </tr>\n",
       "    <tr>\n",
       "      <th>1</th>\n",
       "      <td>PF01007.23 ; IRK ; Inward rect</td>\n",
       "      <td>97.3</td>\n",
       "      <td>0.0</td>\n",
       "      <td>0.0</td>\n",
       "      <td>67.8</td>\n",
       "      <td>0.0</td>\n",
       "      <td>61.0</td>\n",
       "      <td>307-371</td>\n",
       "      <td>81-141 (141)</td>\n",
       "      <td>WP_000013735.1</td>\n",
       "      <td>...</td>\n",
       "      <td>NaN</td>\n",
       "      <td>NaN</td>\n",
       "      <td>NaN</td>\n",
       "      <td>1</td>\n",
       "      <td>0.432718</td>\n",
       "      <td>0.094987</td>\n",
       "      <td>0.154354</td>\n",
       "      <td>0.197889</td>\n",
       "      <td>0.501319</td>\n",
       "      <td>0.276253</td>\n",
       "    </tr>\n",
       "    <tr>\n",
       "      <th>145</th>\n",
       "      <td>PF07790.14 ; Pilin_N ; Archaea</td>\n",
       "      <td>67.5</td>\n",
       "      <td>0.28</td>\n",
       "      <td>0.00005</td>\n",
       "      <td>25.9</td>\n",
       "      <td>0.0</td>\n",
       "      <td>36.0</td>\n",
       "      <td>44-83</td>\n",
       "      <td>38-74  (77)</td>\n",
       "      <td>WP_000651188.1</td>\n",
       "      <td>...</td>\n",
       "      <td>NaN</td>\n",
       "      <td>NaN</td>\n",
       "      <td>NaN</td>\n",
       "      <td>2</td>\n",
       "      <td>0.189974</td>\n",
       "      <td>0.105541</td>\n",
       "      <td>0.385224</td>\n",
       "      <td>0.155673</td>\n",
       "      <td>0.501319</td>\n",
       "      <td>0.267546</td>\n",
       "    </tr>\n",
       "    <tr>\n",
       "      <th>334</th>\n",
       "      <td>PF16765.8 ; Pim ; Pesticin imm</td>\n",
       "      <td>95.7</td>\n",
       "      <td>0.000053</td>\n",
       "      <td>0.0</td>\n",
       "      <td>52.3</td>\n",
       "      <td>0.0</td>\n",
       "      <td>67.0</td>\n",
       "      <td>257-335</td>\n",
       "      <td>20-88  (91)</td>\n",
       "      <td>WP_096266450.1</td>\n",
       "      <td>...</td>\n",
       "      <td>NaN</td>\n",
       "      <td>NaN</td>\n",
       "      <td>NaN</td>\n",
       "      <td>1</td>\n",
       "      <td>0.403694</td>\n",
       "      <td>0.158311</td>\n",
       "      <td>0.154354</td>\n",
       "      <td>0.097625</td>\n",
       "      <td>0.501319</td>\n",
       "      <td>0.263061</td>\n",
       "    </tr>\n",
       "    <tr>\n",
       "      <th>230</th>\n",
       "      <td>PF03695.16 ; UPF0149 ; Unchara</td>\n",
       "      <td>91.6</td>\n",
       "      <td>0.0044</td>\n",
       "      <td>0.000001</td>\n",
       "      <td>43.7</td>\n",
       "      <td>0.0</td>\n",
       "      <td>65.0</td>\n",
       "      <td>41-116</td>\n",
       "      <td>14-83  (165)</td>\n",
       "      <td>WP_016239971.1</td>\n",
       "      <td>...</td>\n",
       "      <td>NaN</td>\n",
       "      <td>NaN</td>\n",
       "      <td>NaN</td>\n",
       "      <td>1</td>\n",
       "      <td>0.345646</td>\n",
       "      <td>0.029024</td>\n",
       "      <td>0.154354</td>\n",
       "      <td>0.229551</td>\n",
       "      <td>0.501319</td>\n",
       "      <td>0.251979</td>\n",
       "    </tr>\n",
       "    <tr>\n",
       "      <th>134</th>\n",
       "      <td>PF07377.15 ; DUF1493 ; Protein</td>\n",
       "      <td>52.3</td>\n",
       "      <td>0.54</td>\n",
       "      <td>0.00014</td>\n",
       "      <td>22.6</td>\n",
       "      <td>0.0</td>\n",
       "      <td>23.0</td>\n",
       "      <td>45-67</td>\n",
       "      <td>38-60  (110)</td>\n",
       "      <td>WP_000600850.1</td>\n",
       "      <td>...</td>\n",
       "      <td>NaN</td>\n",
       "      <td>NaN</td>\n",
       "      <td>NaN</td>\n",
       "      <td>1</td>\n",
       "      <td>0.035620</td>\n",
       "      <td>0.160950</td>\n",
       "      <td>0.154354</td>\n",
       "      <td>0.047493</td>\n",
       "      <td>0.501319</td>\n",
       "      <td>0.179947</td>\n",
       "    </tr>\n",
       "  </tbody>\n",
       "</table>\n",
       "<p>195 rows × 80 columns</p>\n",
       "</div>"
      ],
      "text/plain": [
       "                                 Hit Prob_Pfam   E-value   P-value  Score   \n",
       "282   PF19614.2 ; DUF6119 ; Family o     100.0       0.0       0.0  685.4  \\\n",
       "50    PF04245.16 ; NA37 ; 37-kD nucl     100.0       0.0       0.0  289.0   \n",
       "10    PF10987.11 ; DUF2806 ; Protein     100.0       0.0       0.0  265.9   \n",
       "165   PF13708.9 ; DUF4942 ; Domain o     100.0       0.0       0.0  280.7   \n",
       "216   PF16289.8 ; PIN_12 ; PIN domai      99.6       0.0       0.0  154.3   \n",
       "..                               ...       ...       ...       ...    ...   \n",
       "1     PF01007.23 ; IRK ; Inward rect      97.3       0.0       0.0   67.8   \n",
       "145   PF07790.14 ; Pilin_N ; Archaea      67.5      0.28   0.00005   25.9   \n",
       "334   PF16765.8 ; Pim ; Pesticin imm      95.7  0.000053       0.0   52.3   \n",
       "230   PF03695.16 ; UPF0149 ; Unchara      91.6    0.0044  0.000001   43.7   \n",
       "134   PF07377.15 ; DUF1493 ; Protein      52.3      0.54   0.00014   22.6   \n",
       "\n",
       "      SS   Cols Query HMM  Template HMM product_accession  ... rmsd lddt   \n",
       "282  0.0  478.0     5-518   1-523 (523)    WP_044067311.1  ...  NaN  NaN  \\\n",
       "50   0.0  318.0    10-362   1-318 (318)    WP_120130707.1  ...  NaN  NaN   \n",
       "10   0.0  201.0    61-266   1-221 (221)    WP_000052343.1  ...  NaN  NaN   \n",
       "165  0.0  179.0    84-265   1-212 (212)    WP_001192736.1  ...  NaN  NaN   \n",
       "216  0.0  158.0     8-175   1-163 (163)    WP_031619804.1  ...  NaN  NaN   \n",
       "..   ...    ...       ...           ...               ...  ...  ...  ...   \n",
       "1    0.0   61.0   307-371  81-141 (141)    WP_000013735.1  ...  NaN  NaN   \n",
       "145  0.0   36.0     44-83   38-74  (77)    WP_000651188.1  ...  NaN  NaN   \n",
       "334  0.0   67.0   257-335   20-88  (91)    WP_096266450.1  ...  NaN  NaN   \n",
       "230  0.0   65.0    41-116  14-83  (165)    WP_016239971.1  ...  NaN  NaN   \n",
       "134  0.0   23.0     45-67  38-60  (110)    WP_000600850.1  ...  NaN  NaN   \n",
       "\n",
       "    foldseek_prob cluster_size hhblits_rank_pfam pred_rank cluster_rank   \n",
       "282           NaN           15          0.928760  0.905013     0.916887  \\\n",
       "50            NaN           11          0.928760  0.891821     0.866755   \n",
       "10            NaN            7          0.928760  0.907652     0.773087   \n",
       "165           NaN          867          0.928760  0.635884     0.997361   \n",
       "216           NaN           13          0.689974  0.977573     0.890501   \n",
       "..            ...          ...               ...       ...          ...   \n",
       "1             NaN            1          0.432718  0.094987     0.154354   \n",
       "145           NaN            2          0.189974  0.105541     0.385224   \n",
       "334           NaN            1          0.403694  0.158311     0.154354   \n",
       "230           NaN            1          0.345646  0.029024     0.154354   \n",
       "134           NaN            1          0.035620  0.160950     0.154354   \n",
       "\n",
       "    hhblits_rank_df foldseek_rank  mean_rank  \n",
       "282        0.638522      0.501319   0.778100  \n",
       "50         0.638522      0.501319   0.765435  \n",
       "10         0.638522      0.501319   0.749868  \n",
       "165        0.638522      0.501319   0.740369  \n",
       "216        0.638522      0.501319   0.739578  \n",
       "..              ...           ...        ...  \n",
       "1          0.197889      0.501319   0.276253  \n",
       "145        0.155673      0.501319   0.267546  \n",
       "334        0.097625      0.501319   0.263061  \n",
       "230        0.229551      0.501319   0.251979  \n",
       "134        0.047493      0.501319   0.179947  \n",
       "\n",
       "[195 rows x 80 columns]"
      ]
     },
     "execution_count": 44,
     "metadata": {},
     "output_type": "execute_result"
    }
   ],
   "source": [
    "unique_merged_pfam"
   ]
  },
  {
   "cell_type": "code",
   "execution_count": 45,
   "id": "ef51b54c-25ec-4423-bb27-1308ce502e62",
   "metadata": {},
   "outputs": [],
   "source": [
    "unique_merged_pfam.to_csv('../data3/interim/ecoli_3k_putative_novel_pfam.csv', index=False)"
   ]
  },
  {
   "cell_type": "code",
   "execution_count": null,
   "id": "51b681a0-3815-4274-a253-c3af2789d381",
   "metadata": {},
   "outputs": [],
   "source": []
  }
 ],
 "metadata": {
  "kernelspec": {
   "display_name": "beaker",
   "language": "python",
   "name": "beaker"
  },
  "language_info": {
   "codemirror_mode": {
    "name": "ipython",
    "version": 3
   },
   "file_extension": ".py",
   "mimetype": "text/x-python",
   "name": "python",
   "nbconvert_exporter": "python",
   "pygments_lexer": "ipython3",
   "version": "3.8.16"
  }
 },
 "nbformat": 4,
 "nbformat_minor": 5
}
