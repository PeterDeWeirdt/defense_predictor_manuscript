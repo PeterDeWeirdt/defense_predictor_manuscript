{
 "cells": [
  {
   "cell_type": "code",
   "execution_count": 1,
   "metadata": {
    "tags": []
   },
   "outputs": [],
   "source": [
    "import pandas as pd\n",
    "from joblib import Parallel, delayed\n",
    "import os\n",
    "from tqdm import tqdm"
   ]
  },
  {
   "cell_type": "code",
   "execution_count": 2,
   "metadata": {
    "collapsed": false,
    "jupyter": {
     "outputs_hidden": false
    },
    "pycharm": {
     "name": "#%%\n"
    }
   },
   "outputs": [],
   "source": [
    "def get_assembly_protein_names(ft_file):\n",
    "    assembly_ft = pd.read_table('../data/genome_downloads/ft/' + ft_file)\n",
    "    filtered_ft = assembly_ft.loc[~assembly_ft['product_accession'].isna() &\n",
    "                                  ~assembly_ft['name'].isna(),\n",
    "                                  ['product_accession', 'name']].drop_duplicates()\n",
    "    assembly = ft_file.split('.')[0]\n",
    "    out_file = '../data/interim/assembly_proteins_temp/' + assembly + '.csv'\n",
    "    filtered_ft.to_csv(out_file, index=False, header=False)"
   ]
  },
  {
   "cell_type": "code",
   "execution_count": 3,
   "metadata": {
    "collapsed": false,
    "jupyter": {
     "outputs_hidden": false
    },
    "pycharm": {
     "name": "#%%\n"
    }
   },
   "outputs": [
    {
     "name": "stdout",
     "output_type": "stream",
     "text": [
      "Filtering ft files\n"
     ]
    },
    {
     "name": "stderr",
     "output_type": "stream",
     "text": [
      "100%|██████████| 17454/17454 [01:05<00:00, 266.50it/s]\n"
     ]
    },
    {
     "data": {
      "text/plain": [
       "0"
      ]
     },
     "execution_count": 3,
     "metadata": {},
     "output_type": "execute_result"
    }
   ],
   "source": [
    "os.mkdir('../data/interim/assembly_proteins_temp/')\n",
    "ft_files = [x for x in os.listdir('../data/genome_downloads/ft') if '.txt' in x]\n",
    "print('Filtering ft files')\n",
    "_ = Parallel(n_jobs=32)(delayed(get_assembly_protein_names)(ft_file) for ft_file in tqdm(ft_files))\n",
    "os.system('cat ../data/interim/assembly_proteins_temp/*.csv > ../data/interim/all_assembly_proteins_temp.csv')\n",
    "os.system('rm -r ../data/interim/assembly_proteins_temp/')"
   ]
  },
  {
   "cell_type": "code",
   "execution_count": null,
   "metadata": {
    "collapsed": false,
    "jupyter": {
     "outputs_hidden": false
    },
    "pycharm": {
     "name": "#%%\n"
    }
   },
   "outputs": [],
   "source": [
    "print('Getting unique protein names')\n",
    "all_assembly_proteins = pd.read_csv('../data/interim/all_assembly_proteins_temp.csv',\n",
    "                                    names=['product_accession', 'name'])\n",
    "unique_protein_names = all_assembly_proteins.drop_duplicates()\n",
    "del all_assembly_proteins\n",
    "os.system('rm ../data/interim/all_assembly_proteins_temp.csv')\n",
    "unique_protein_names = unique_protein_names.set_index('product_accession')"
   ]
  },
  {
   "cell_type": "code",
   "execution_count": 5,
   "metadata": {
    "collapsed": false,
    "jupyter": {
     "outputs_hidden": false
    },
    "pycharm": {
     "name": "#%%\n"
    }
   },
   "outputs": [
    {
     "name": "stdout",
     "output_type": "stream",
     "text": [
      "Merging with sequence IDs\n"
     ]
    }
   ],
   "source": [
    "print('Merging with sequence IDs')\n",
    "unique_seq_id_accessions = pd.read_parquet('../data/interim/seq_id_accessions.pq')\n",
    "unique_seq_id_accessions = unique_seq_id_accessions.set_index('protein_accession')\n",
    "seq_id_names = (unique_protein_names\n",
    "                .merge(unique_seq_id_accessions, how='inner', left_index=True, right_index=True))\n",
    "seq_id_names = seq_id_names[['name', 'seq_id']].drop_duplicates(ignore_index=True)\n",
    "seq_id_names = (seq_id_names.groupby('seq_id')\n",
    "                .head(1)) # some sequences are given multiple names\n",
    "seq_id_names.to_parquet('../data/interim/seq_id_names.pq', index=False)"
   ]
  },
  {
   "cell_type": "code",
   "execution_count": null,
   "metadata": {},
   "outputs": [],
   "source": []
  }
 ],
 "metadata": {
  "kernelspec": {
   "display_name": "Python 3 (ipykernel)",
   "language": "python",
   "name": "python3"
  },
  "language_info": {
   "codemirror_mode": {
    "name": "ipython",
    "version": 3
   },
   "file_extension": ".py",
   "mimetype": "text/x-python",
   "name": "python",
   "nbconvert_exporter": "python",
   "pygments_lexer": "ipython3",
   "version": "3.9.15"
  }
 },
 "nbformat": 4,
 "nbformat_minor": 4
}
