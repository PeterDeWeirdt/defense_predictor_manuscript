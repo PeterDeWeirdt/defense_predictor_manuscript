{
 "cells": [
  {
   "cell_type": "code",
   "execution_count": 2,
   "id": "60fff144-ad94-4028-9bbb-58b9b63dea0e",
   "metadata": {},
   "outputs": [],
   "source": [
    "import pandas as pd\n",
    "from core import med_log_odds_cutoff\n",
    "from tqdm import tqdm\n",
    "import os\n",
    "import numpy as np\n",
    "import matplotlib.pyplot as plt\n",
    "import seaborn as sns\n",
    "import gpplot\n",
    "from joblib import Parallel, delayed"
   ]
  },
  {
   "cell_type": "code",
   "execution_count": 3,
   "id": "e4eec002-b173-42fb-8d3a-a145d732e388",
   "metadata": {},
   "outputs": [],
   "source": [
    "plt.rcParams['svg.fonttype'] = 'none'\n",
    "plt.rcParams['font.size'] = 7\n",
    "plt.rcParams['xtick.labelsize'] = 6\n",
    "plt.rcParams['ytick.labelsize'] = 6"
   ]
  },
  {
   "cell_type": "markdown",
   "id": "57160fb6-9593-4241-adbc-9dcf8cb32e55",
   "metadata": {},
   "source": [
    "## Recluster E. coli"
   ]
  },
  {
   "cell_type": "code",
   "execution_count": 7,
   "id": "a4484a98-4a5f-431d-a28d-f35494972427",
   "metadata": {},
   "outputs": [],
   "source": [
    "cov = 0.8\n",
    "cov_mode = 0\n",
    "min_seq_id = 0.3\n",
    "threads = 40\n",
    "cluster_mode = 0"
   ]
  },
  {
   "cell_type": "code",
   "execution_count": 8,
   "id": "b9788736-81c8-4b34-bf93-0a2ce23d119b",
   "metadata": {},
   "outputs": [],
   "source": [
    "unique_seq_db = '../data/ecoli/interim/mmseqs/unique_seqs.db'"
   ]
  },
  {
   "cell_type": "code",
   "execution_count": 9,
   "id": "451b5b4a-d083-4a5e-9094-d747aa6eafbc",
   "metadata": {},
   "outputs": [],
   "source": [
    "clust_db = '../data3/interim/mmseqs_dbs/ecoli_3k_clust'"
   ]
  },
  {
   "cell_type": "code",
   "execution_count": 10,
   "id": "e1a1bd23-f1ea-4931-a984-c754b2e5f6be",
   "metadata": {
    "collapsed": true,
    "jupyter": {
     "outputs_hidden": true
    },
    "tags": []
   },
   "outputs": [
    {
     "name": "stdout",
     "output_type": "stream",
     "text": [
      "cluster ../data/ecoli/interim/mmseqs/unique_seqs.db ../data3/interim/mmseqs_dbs/ecoli_3k_clust ../data/tmp -c 0.8 --cov-mode 0 --min-seq-id 0.3 --threads 40 --cluster-mode 0 -s 6 \n",
      "\n",
      "MMseqs Version:                     \t13.45111\n",
      "Substitution matrix                 \tnucl:nucleotide.out,aa:blosum62.out\n",
      "Seed substitution matrix            \tnucl:nucleotide.out,aa:VTML80.out\n",
      "Sensitivity                         \t6\n",
      "k-mer length                        \t0\n",
      "k-score                             \t2147483647\n",
      "Alphabet size                       \tnucl:5,aa:21\n",
      "Max sequence length                 \t65535\n",
      "Max results per query               \t20\n",
      "Split database                      \t0\n",
      "Split mode                          \t2\n",
      "Split memory limit                  \t0\n",
      "Coverage threshold                  \t0.8\n",
      "Coverage mode                       \t0\n",
      "Compositional bias                  \t1\n",
      "Diagonal scoring                    \ttrue\n",
      "Exact k-mer matching                \t0\n",
      "Mask residues                       \t1\n",
      "Mask lower case residues            \t0\n",
      "Minimum diagonal score              \t15\n",
      "Include identical seq. id.          \tfalse\n",
      "Spaced k-mers                       \t1\n",
      "Preload mode                        \t0\n",
      "Pseudo count a                      \t1\n",
      "Pseudo count b                      \t1.5\n",
      "Spaced k-mer pattern                \t\n",
      "Local temporary path                \t\n",
      "Threads                             \t40\n",
      "Compressed                          \t0\n",
      "Verbosity                           \t3\n",
      "Add backtrace                       \tfalse\n",
      "Alignment mode                      \t3\n",
      "Alignment mode                      \t0\n",
      "Allow wrapped scoring               \tfalse\n",
      "E-value threshold                   \t0.001\n",
      "Seq. id. threshold                  \t0.3\n",
      "Min alignment length                \t0\n",
      "Seq. id. mode                       \t0\n",
      "Alternative alignments              \t0\n",
      "Max reject                          \t2147483647\n",
      "Max accept                          \t2147483647\n",
      "Score bias                          \t0\n",
      "Realign hits                        \tfalse\n",
      "Realign score bias                  \t-0.2\n",
      "Realign max seqs                    \t2147483647\n",
      "Gap open cost                       \tnucl:5,aa:11\n",
      "Gap extension cost                  \tnucl:2,aa:1\n",
      "Zdrop                               \t40\n",
      "Rescore mode                        \t0\n",
      "Remove hits by seq. id. and coverage\tfalse\n",
      "Sort results                        \t0\n",
      "Cluster mode                        \t0\n",
      "Max connected component depth       \t1000\n",
      "Similarity type                     \t2\n",
      "Single step clustering              \tfalse\n",
      "Cascaded clustering steps           \t3\n",
      "Cluster reassign                    \tfalse\n",
      "Remove temporary files              \tfalse\n",
      "Force restart with latest tmp       \tfalse\n",
      "MPI runner                          \t\n",
      "k-mers per sequence                 \t21\n",
      "Scale k-mers per sequence           \tnucl:0.200,aa:0.000\n",
      "Adjust k-mer length                 \tfalse\n",
      "Shift hash                          \t67\n",
      "Include only extendable             \tfalse\n",
      "Skip repeating k-mers               \tfalse\n",
      "\n",
      "Set cluster iterations to 3\n",
      "linclust ../data/ecoli/interim/mmseqs/unique_seqs.db ../data/tmp/2014707147912265515/clu_redundancy ../data/tmp/2014707147912265515/linclust --cluster-mode 0 --max-iterations 1000 --similarity-type 2 --threads 40 --compressed 0 -v 3 --sub-mat nucl:nucleotide.out,aa:blosum62.out -a 0 --alignment-mode 3 --alignment-output-mode 0 --wrapped-scoring 0 -e 0.001 --min-seq-id 0.3 --min-aln-len 0 --seq-id-mode 0 --alt-ali 0 -c 0.8 --cov-mode 0 --max-seq-len 65535 --comp-bias-corr 1 --max-rejected 2147483647 --max-accept 2147483647 --add-self-matches 0 --db-load-mode 0 --pca 1 --pcb 1.5 --score-bias 0 --realign 0 --realign-score-bias -0.2 --realign-max-seqs 2147483647 --gap-open nucl:5,aa:11 --gap-extend nucl:2,aa:1 --zdrop 40 --alph-size nucl:5,aa:13 --kmer-per-seq 21 --spaced-kmer-mode 1 --kmer-per-seq-scale nucl:0.200,aa:0.000 --adjust-kmer-len 0 --mask 0 --mask-lower-case 0 -k 0 --hash-shift 67 --split-memory-limit 0 --include-only-extendable 0 --ignore-multi-kmer 0 --rescore-mode 0 --filter-hits 0 --sort-results 0 --remove-tmp-files 0 --force-reuse 0 \n",
      "\n",
      "kmermatcher ../data/ecoli/interim/mmseqs/unique_seqs.db ../data/tmp/2014707147912265515/linclust/15877202810736710111/pref --sub-mat nucl:nucleotide.out,aa:blosum62.out --alph-size nucl:5,aa:13 --min-seq-id 0.3 --kmer-per-seq 21 --spaced-kmer-mode 1 --kmer-per-seq-scale nucl:0.200,aa:0.000 --adjust-kmer-len 0 --mask 0 --mask-lower-case 0 --cov-mode 0 -k 0 -c 0.8 --max-seq-len 65535 --hash-shift 67 --split-memory-limit 0 --include-only-extendable 0 --ignore-multi-kmer 0 --threads 40 --compressed 0 -v 3 \n",
      "\n",
      "kmermatcher ../data/ecoli/interim/mmseqs/unique_seqs.db ../data/tmp/2014707147912265515/linclust/15877202810736710111/pref --sub-mat nucl:nucleotide.out,aa:blosum62.out --alph-size nucl:5,aa:13 --min-seq-id 0.3 --kmer-per-seq 21 --spaced-kmer-mode 1 --kmer-per-seq-scale nucl:0.200,aa:0.000 --adjust-kmer-len 0 --mask 0 --mask-lower-case 0 --cov-mode 0 -k 0 -c 0.8 --max-seq-len 65535 --hash-shift 67 --split-memory-limit 0 --include-only-extendable 0 --ignore-multi-kmer 0 --threads 40 --compressed 0 -v 3 \n",
      "\n",
      "Database size: 1070803 type: Aminoacid\n",
      "Reduced amino acid alphabet: (A S T) (C) (D B N) (E Q Z) (F Y) (G) (H) (I V) (K R) (L J M) (P) (W) (X) \n",
      "\n",
      "Generate k-mers list for 1 split\n",
      "[=================================================================] 1.07M 4s 80ms\n",
      "Sort kmer 0h 0m 0s 175ms\n",
      "Sort by rep. sequence 0h 0m 0s 79ms\n",
      "Time for fill: 0h 0m 0s 307ms\n",
      "Time for merging to pref: 0h 0m 0s 2ms\n",
      "Time for processing: 0h 0m 5s 117ms\n",
      "rescorediagonal ../data/ecoli/interim/mmseqs/unique_seqs.db ../data/ecoli/interim/mmseqs/unique_seqs.db ../data/tmp/2014707147912265515/linclust/15877202810736710111/pref ../data/tmp/2014707147912265515/linclust/15877202810736710111/pref_rescore1 --sub-mat nucl:nucleotide.out,aa:blosum62.out --rescore-mode 0 --wrapped-scoring 0 --filter-hits 0 -e 0.001 -c 0.8 -a 0 --cov-mode 0 --min-seq-id 0.5 --min-aln-len 0 --seq-id-mode 0 --add-self-matches 0 --sort-results 0 --db-load-mode 0 --threads 40 --compressed 0 -v 3 \n",
      "\n",
      "[=================================================================] 1.07M 0s 347ms\n",
      "Time for merging to pref_rescore1: 0h 0m 0s 836ms\n",
      "Time for processing: 0h 0m 2s 611ms\n",
      "clust ../data/ecoli/interim/mmseqs/unique_seqs.db ../data/tmp/2014707147912265515/linclust/15877202810736710111/pref_rescore1 ../data/tmp/2014707147912265515/linclust/15877202810736710111/pre_clust --cluster-mode 0 --max-iterations 1000 --similarity-type 2 --threads 40 --compressed 0 -v 3 \n",
      "\n",
      "Clustering mode: Set Cover\n",
      "[=================================================================] 1.07M 0s 96ms\n",
      "Sort entries\n",
      "Find missing connections\n",
      "Found 2654044 new connections.\n",
      "Reconstruct initial order\n",
      "[=================================================================] 1.07M 0s 82ms\n",
      "Add missing connections\n",
      "[=================================================================] 1.07M 0s 107ms\n",
      "\n",
      "Time for read in: 0h 0m 0s 417ms\n",
      "Total time: 0h 0m 0s 601ms\n",
      "\n",
      "Size of the sequence database: 1070803\n",
      "Size of the alignment database: 1070803\n",
      "Number of clusters: 160566\n",
      "\n",
      "Writing results 0h 0m 0s 80ms\n",
      "Time for merging to pre_clust: 0h 0m 0s 1ms\n",
      "Time for processing: 0h 0m 0s 884ms\n",
      "createsubdb ../data/tmp/2014707147912265515/linclust/15877202810736710111/order_redundancy ../data/ecoli/interim/mmseqs/unique_seqs.db ../data/tmp/2014707147912265515/linclust/15877202810736710111/input_step_redundancy -v 3 --subdb-mode 1 \n",
      "\n",
      "Time for merging to input_step_redundancy: 0h 0m 0s 16ms\n",
      "Time for processing: 0h 0m 0s 353ms\n",
      "createsubdb ../data/tmp/2014707147912265515/linclust/15877202810736710111/order_redundancy ../data/tmp/2014707147912265515/linclust/15877202810736710111/pref ../data/tmp/2014707147912265515/linclust/15877202810736710111/pref_filter1 -v 3 --subdb-mode 1 \n",
      "\n",
      "Time for merging to pref_filter1: 0h 0m 0s 20ms\n",
      "Time for processing: 0h 0m 0s 258ms\n",
      "filterdb ../data/tmp/2014707147912265515/linclust/15877202810736710111/pref_filter1 ../data/tmp/2014707147912265515/linclust/15877202810736710111/pref_filter2 --filter-file ../data/tmp/2014707147912265515/linclust/15877202810736710111/order_redundancy --threads 40 --compressed 0 -v 3 \n",
      "\n",
      "Filtering using file(s)\n",
      "[=================================================================] 160.57K 0s 39ms\n",
      "Time for merging to pref_filter2: 0h 0m 0s 538ms\n",
      "Time for processing: 0h 0m 1s 651ms\n",
      "rescorediagonal ../data/tmp/2014707147912265515/linclust/15877202810736710111/input_step_redundancy ../data/tmp/2014707147912265515/linclust/15877202810736710111/input_step_redundancy ../data/tmp/2014707147912265515/linclust/15877202810736710111/pref_filter2 ../data/tmp/2014707147912265515/linclust/15877202810736710111/pref_rescore2 --sub-mat nucl:nucleotide.out,aa:blosum62.out --rescore-mode 1 --wrapped-scoring 0 --filter-hits 1 -e 0.001 -c 0.8 -a 0 --cov-mode 0 --min-seq-id 0.3 --min-aln-len 0 --seq-id-mode 0 --add-self-matches 0 --sort-results 0 --db-load-mode 0 --threads 40 --compressed 0 -v 3 \n",
      "\n",
      "=[================================================================] 160.57K 0s 56ms\n",
      "Time for merging to pref_rescore2: 0h 0m 0s 701ms\n",
      "Time for processing: 0h 0m 1s 602ms\n",
      "align ../data/tmp/2014707147912265515/linclust/15877202810736710111/input_step_redundancy ../data/tmp/2014707147912265515/linclust/15877202810736710111/input_step_redundancy ../data/tmp/2014707147912265515/linclust/15877202810736710111/pref_rescore2 ../data/tmp/2014707147912265515/linclust/15877202810736710111/aln --sub-mat nucl:nucleotide.out,aa:blosum62.out -a 0 --alignment-mode 3 --alignment-output-mode 0 --wrapped-scoring 0 -e 0.001 --min-seq-id 0.3 --min-aln-len 0 --seq-id-mode 0 --alt-ali 0 -c 0.8 --cov-mode 0 --max-seq-len 65535 --comp-bias-corr 1 --max-rejected 2147483647 --max-accept 2147483647 --add-self-matches 0 --db-load-mode 0 --pca 1 --pcb 1.5 --score-bias 0 --realign 0 --realign-score-bias -0.2 --realign-max-seqs 2147483647 --gap-open nucl:5,aa:11 --gap-extend nucl:2,aa:1 --zdrop 40 --threads 40 --compressed 0 -v 3 \n",
      "\n",
      "Compute score, coverage and sequence identity\n",
      "Query database size: 160566 type: Aminoacid\n",
      "Target database size: 160566 type: Aminoacid\n",
      "Calculation of alignments\n",
      "[=================================================================] 160.57K 1s 563ms\n",
      "Time for merging to aln: 0h 0m 0s 613ms\n",
      "193115 alignments calculated\n",
      "172268 sequence pairs passed the thresholds (0.892049 of overall calculated)\n",
      "1.072880 hits per query sequence\n",
      "Time for processing: 0h 0m 3s 444ms\n",
      "clust ../data/tmp/2014707147912265515/linclust/15877202810736710111/input_step_redundancy ../data/tmp/2014707147912265515/linclust/15877202810736710111/aln ../data/tmp/2014707147912265515/linclust/15877202810736710111/clust --cluster-mode 0 --max-iterations 1000 --similarity-type 2 --threads 40 --compressed 0 -v 3 \n",
      "\n",
      "Clustering mode: Set Cover\n",
      "[=================================================================] 160.57K 0s 7ms\n",
      "Sort entries\n",
      "Find missing connections\n",
      "Found 11702 new connections.\n",
      "Reconstruct initial order\n",
      "[=================================================================] 160.57K 0s 9ms\n",
      "Add missing connections\n",
      "[=================================================================] 160.57K 0s 4ms\n",
      "\n",
      "Time for read in: 0h 0m 0s 56ms\n",
      "Total time: 0h 0m 0s 68ms\n",
      "\n",
      "Size of the sequence database: 160566\n",
      "Size of the alignment database: 160566\n",
      "Number of clusters: 151893\n",
      "\n",
      "Writing results 0h 0m 0s 41ms\n",
      "Time for merging to clust: 0h 0m 0s 2ms\n",
      "Time for processing: 0h 0m 0s 195ms\n",
      "mergeclusters ../data/ecoli/interim/mmseqs/unique_seqs.db ../data/tmp/2014707147912265515/clu_redundancy ../data/tmp/2014707147912265515/linclust/15877202810736710111/pre_clust ../data/tmp/2014707147912265515/linclust/15877202810736710111/clust --threads 40 --compressed 0 -v 3 \n",
      "\n",
      "Clustering step 1\n",
      "[=================================================================] 160.57K 0s 28ms\n",
      "Clustering step 2\n",
      "[=================================================================] 151.89K 0s 68ms\n",
      "Write merged clustering\n",
      "[=================================================================] 1.07M 0s 743ms\n",
      "Time for merging to clu_redundancy: 0h 0m 0s 710ms\n",
      "Time for processing: 0h 0m 1s 933ms\n",
      "createsubdb ../data/tmp/2014707147912265515/clu_redundancy ../data/ecoli/interim/mmseqs/unique_seqs.db ../data/tmp/2014707147912265515/input_step_redundancy -v 3 --subdb-mode 1 \n",
      "\n",
      "Time for merging to input_step_redundancy: 0h 0m 0s 2ms\n",
      "Time for processing: 0h 0m 0s 132ms\n",
      "prefilter ../data/tmp/2014707147912265515/input_step_redundancy ../data/tmp/2014707147912265515/input_step_redundancy ../data/tmp/2014707147912265515/pref_step0 --sub-mat nucl:nucleotide.out,aa:blosum62.out --seed-sub-mat nucl:nucleotide.out,aa:VTML80.out -s 1 -k 0 --k-score 2147483647 --alph-size nucl:5,aa:21 --max-seq-len 65535 --max-seqs 20 --split 0 --split-mode 2 --split-memory-limit 0 -c 0.8 --cov-mode 0 --comp-bias-corr 0 --diag-score 0 --exact-kmer-matching 0 --mask 1 --mask-lower-case 0 --min-ungapped-score 0 --add-self-matches 0 --spaced-kmer-mode 1 --db-load-mode 0 --pca 1 --pcb 1.5 --threads 40 --compressed 0 -v 3 \n",
      "\n",
      "Query database size: 151893 type: Aminoacid\n",
      "Estimated memory consumption: 1G\n",
      "Target database size: 151893 type: Aminoacid\n",
      "Index table k-mer threshold: 154 at k-mer size 6 \n",
      "Index table: counting k-mers\n",
      "[=================================================================] 151.89K 0s 260ms\n",
      "Index table: Masked residues: 803739\n",
      "Index table: fill\n",
      "[=================================================================] 151.89K 0s 103ms\n",
      "Index statistics\n",
      "Entries:          14218095\n",
      "DB size:          569 MB\n",
      "Avg k-mer size:   0.222158\n",
      "Top 10 k-mers\n",
      "    GLYRYY\t1815\n",
      "    YYRRDP\t1723\n",
      "    QQDELY\t1703\n",
      "    SGYNRY\t1684\n",
      "    YDTQFW\t1512\n",
      "    WDPVGV\t1483\n",
      "    IKGDFY\t1443\n",
      "    YDEGYN\t1406\n",
      "    ILRYYR\t1405\n",
      "    HRGWKT\t1396\n",
      "Time for index table init: 0h 0m 0s 823ms\n",
      "Process prefiltering step 1 of 1\n",
      "\n",
      "k-mer similarity threshold: 154\n",
      "Starting prefiltering scores calculation (step 1 of 1)\n",
      "Query db start 1 to 151893\n",
      "Target db start 1 to 151893\n",
      "[=================================================================] 151.89K 1s 24ms\n",
      "\n",
      "1.997332 k-mers per position\n",
      "11834 DB matches per sequence\n",
      "0 overflows\n",
      "0 queries produce too many hits (truncated result)\n",
      "12 sequences passed prefiltering per query sequence\n",
      "14 median result list length\n",
      "0 sequences with 0 size result lists\n",
      "Time for merging to pref_step0: 0h 0m 0s 676ms\n",
      "Time for processing: 0h 0m 3s 708ms\n",
      "align ../data/tmp/2014707147912265515/input_step_redundancy ../data/tmp/2014707147912265515/input_step_redundancy ../data/tmp/2014707147912265515/pref_step0 ../data/tmp/2014707147912265515/aln_step0 --sub-mat nucl:nucleotide.out,aa:blosum62.out -a 0 --alignment-mode 3 --alignment-output-mode 0 --wrapped-scoring 0 -e 0.001 --min-seq-id 0.3 --min-aln-len 0 --seq-id-mode 0 --alt-ali 0 -c 0.8 --cov-mode 0 --max-seq-len 65535 --comp-bias-corr 0 --max-rejected 2147483647 --max-accept 2147483647 --add-self-matches 0 --db-load-mode 0 --pca 1 --pcb 1.5 --score-bias 0 --realign 0 --realign-score-bias -0.2 --realign-max-seqs 2147483647 --gap-open nucl:5,aa:11 --gap-extend nucl:2,aa:1 --zdrop 40 --threads 40 --compressed 0 -v 3 \n",
      "\n",
      "Compute score, coverage and sequence identity\n",
      "Query database size: 151893 type: Aminoacid\n",
      "Target database size: 151893 type: Aminoacid\n",
      "Calculation of alignments\n",
      "[=================================================================] 151.89K 7s 101ms\n",
      "Time for merging to aln_step0: 0h 0m 0s 659ms\n",
      "755671 alignments calculated\n",
      "615001 sequence pairs passed the thresholds (0.813848 of overall calculated)\n",
      "4.048910 hits per query sequence\n",
      "Time for processing: 0h 0m 8s 790ms\n",
      "clust ../data/tmp/2014707147912265515/input_step_redundancy ../data/tmp/2014707147912265515/aln_step0 ../data/tmp/2014707147912265515/clu_step0 --cluster-mode 0 --max-iterations 1000 --similarity-type 2 --threads 40 --compressed 0 -v 3 \n",
      "\n",
      "Clustering mode: Set Cover\n",
      "[=================================================================] 151.89K 0s 8ms\n",
      "Sort entries\n",
      "Find missing connections\n",
      "Found 179304 new connections.\n",
      "Reconstruct initial order\n",
      "[=================================================================] 151.89K 0s 13ms\n",
      "Add missing connections\n",
      "[=================================================================] 151.89K 0s 25ms\n",
      "\n",
      "Time for read in: 0h 0m 0s 85ms\n",
      "Total time: 0h 0m 0s 122ms\n",
      "\n",
      "Size of the sequence database: 151893\n",
      "Size of the alignment database: 151893\n",
      "Number of clusters: 93405\n",
      "\n",
      "Writing results 0h 0m 0s 25ms\n",
      "Time for merging to clu_step0: 0h 0m 0s 19ms\n",
      "Time for processing: 0h 0m 0s 238ms\n",
      "createsubdb ../data/tmp/2014707147912265515/clu_step0 ../data/tmp/2014707147912265515/input_step_redundancy ../data/tmp/2014707147912265515/input_step1 -v 3 --subdb-mode 1 \n",
      "\n",
      "Time for merging to input_step1: 0h 0m 0s 20ms\n",
      "Time for processing: 0h 0m 0s 94ms\n",
      "prefilter ../data/tmp/2014707147912265515/input_step1 ../data/tmp/2014707147912265515/input_step1 ../data/tmp/2014707147912265515/pref_step1 --sub-mat nucl:nucleotide.out,aa:blosum62.out --seed-sub-mat nucl:nucleotide.out,aa:VTML80.out -s 3.5 -k 0 --k-score 2147483647 --alph-size nucl:5,aa:21 --max-seq-len 65535 --max-seqs 20 --split 0 --split-mode 2 --split-memory-limit 0 -c 0.8 --cov-mode 0 --comp-bias-corr 1 --diag-score 1 --exact-kmer-matching 0 --mask 1 --mask-lower-case 0 --min-ungapped-score 15 --add-self-matches 0 --spaced-kmer-mode 1 --db-load-mode 0 --pca 1 --pcb 1.5 --threads 40 --compressed 0 -v 3 \n",
      "\n",
      "Query database size: 93405 type: Aminoacid\n",
      "Estimated memory consumption: 1G\n",
      "Target database size: 93405 type: Aminoacid\n",
      "Index table k-mer threshold: 131 at k-mer size 6 \n",
      "Index table: counting k-mers\n",
      "[=================================================================] 93.40K 0s 159ms\n",
      "Index table: Masked residues: 258314\n",
      "Index table: fill\n",
      "[=================================================================] 93.40K 0s 119ms\n",
      "Index statistics\n",
      "Entries:          15393101\n",
      "DB size:          576 MB\n",
      "Avg k-mer size:   0.240517\n",
      "Top 10 k-mers\n",
      "    DAGTGQ\t516\n",
      "    KTLETV\t486\n",
      "    RGARLW\t476\n",
      "    HRGWKT\t471\n",
      "    TSGPFS\t454\n",
      "    SAKRAV\t450\n",
      "    VWGTFV\t426\n",
      "    CSMCVW\t426\n",
      "    GLYRYY\t422\n",
      "    VNVKFV\t405\n",
      "Time for index table init: 0h 0m 0s 773ms\n",
      "Process prefiltering step 1 of 1\n",
      "\n",
      "k-mer similarity threshold: 131\n",
      "Starting prefiltering scores calculation (step 1 of 1)\n",
      "Query db start 1 to 93405\n",
      "Target db start 1 to 93405\n",
      "[=================================================================] 93.40K 1s 331ms\n",
      "\n",
      "38.403001 k-mers per position\n",
      "3787 DB matches per sequence\n",
      "0 overflows\n",
      "0 queries produce too many hits (truncated result)\n",
      "13 sequences passed prefiltering per query sequence\n",
      "14 median result list length\n",
      "0 sequences with 0 size result lists\n",
      "Time for merging to pref_step1: 0h 0m 0s 568ms\n",
      "Time for processing: 0h 0m 3s 812ms\n",
      "align ../data/tmp/2014707147912265515/input_step1 ../data/tmp/2014707147912265515/input_step1 ../data/tmp/2014707147912265515/pref_step1 ../data/tmp/2014707147912265515/aln_step1 --sub-mat nucl:nucleotide.out,aa:blosum62.out -a 0 --alignment-mode 3 --alignment-output-mode 0 --wrapped-scoring 0 -e 0.001 --min-seq-id 0.3 --min-aln-len 0 --seq-id-mode 0 --alt-ali 0 -c 0.8 --cov-mode 0 --max-seq-len 65535 --comp-bias-corr 1 --max-rejected 2147483647 --max-accept 2147483647 --add-self-matches 0 --db-load-mode 0 --pca 1 --pcb 1.5 --score-bias 0 --realign 0 --realign-score-bias -0.2 --realign-max-seqs 2147483647 --gap-open nucl:5,aa:11 --gap-extend nucl:2,aa:1 --zdrop 40 --threads 40 --compressed 0 -v 3 \n",
      "\n",
      "Compute score, coverage and sequence identity\n",
      "Query database size: 93405 type: Aminoacid\n",
      "Target database size: 93405 type: Aminoacid\n",
      "Calculation of alignments\n",
      "[=================================================================] 93.40K 0s 863ms\n",
      "Time for merging to aln_step1: 0h 0m 0s 401ms\n",
      "311143 alignments calculated\n",
      "134599 sequence pairs passed the thresholds (0.432595 of overall calculated)\n",
      "1.441026 hits per query sequence\n",
      "Time for processing: 0h 0m 2s 206ms\n",
      "clust ../data/tmp/2014707147912265515/input_step1 ../data/tmp/2014707147912265515/aln_step1 ../data/tmp/2014707147912265515/clu_step1 --cluster-mode 0 --max-iterations 1000 --similarity-type 2 --threads 40 --compressed 0 -v 3 \n",
      "\n",
      "Clustering mode: Set Cover\n",
      "[=================================================================] 93.40K 0s 8ms\n",
      "Sort entries\n",
      "Find missing connections\n",
      "Found 11696 new connections.\n",
      "Reconstruct initial order\n",
      "[=================================================================] 93.40K 0s 6ms\n",
      "Add missing connections\n",
      "[=================================================================] 93.40K 0s 4ms\n",
      "\n",
      "Time for read in: 0h 0m 0s 44ms\n",
      "Total time: 0h 0m 0s 75ms\n",
      "\n",
      "Size of the sequence database: 93405\n",
      "Size of the alignment database: 93405\n",
      "Number of clusters: 81018\n",
      "\n",
      "Writing results 0h 0m 0s 22ms\n",
      "Time for merging to clu_step1: 0h 0m 0s 3ms\n",
      "Time for processing: 0h 0m 0s 156ms\n",
      "createsubdb ../data/tmp/2014707147912265515/clu_step1 ../data/tmp/2014707147912265515/input_step1 ../data/tmp/2014707147912265515/input_step2 -v 3 --subdb-mode 1 \n",
      "\n",
      "Time for merging to input_step2: 0h 0m 0s 3ms\n",
      "Time for processing: 0h 0m 0s 46ms\n",
      "prefilter ../data/tmp/2014707147912265515/input_step2 ../data/tmp/2014707147912265515/input_step2 ../data/tmp/2014707147912265515/pref_step2 --sub-mat nucl:nucleotide.out,aa:blosum62.out --seed-sub-mat nucl:nucleotide.out,aa:VTML80.out -s 6 -k 0 --k-score 2147483647 --alph-size nucl:5,aa:21 --max-seq-len 65535 --max-seqs 20 --split 0 --split-mode 2 --split-memory-limit 0 -c 0.8 --cov-mode 0 --comp-bias-corr 1 --diag-score 1 --exact-kmer-matching 0 --mask 1 --mask-lower-case 0 --min-ungapped-score 15 --add-self-matches 0 --spaced-kmer-mode 1 --db-load-mode 0 --pca 1 --pcb 1.5 --threads 40 --compressed 0 -v 3 \n",
      "\n",
      "Query database size: 81018 type: Aminoacid\n",
      "Estimated memory consumption: 1G\n",
      "Target database size: 81018 type: Aminoacid\n",
      "Index table k-mer threshold: 109 at k-mer size 6 \n",
      "Index table: counting k-mers\n",
      "[=================================================================] 81.02K 0s 141ms\n",
      "Index table: Masked residues: 185780\n",
      "Index table: fill\n",
      "[=================================================================] 81.02K 0s 99ms\n",
      "Index statistics\n",
      "Entries:          13430361\n",
      "DB size:          565 MB\n",
      "Avg k-mer size:   0.209849\n",
      "Top 10 k-mers\n",
      "    GLYRYY\t252\n",
      "    KTLETV\t216\n",
      "    RGARLW\t211\n",
      "    AHALIK\t210\n",
      "    YHDRPL\t210\n",
      "    HRGWKT\t209\n",
      "    SAKRAV\t209\n",
      "    QQDELY\t203\n",
      "    SGYNRY\t200\n",
      "    KMAGSR\t199\n",
      "Time for index table init: 0h 0m 0s 727ms\n",
      "Process prefiltering step 1 of 1\n",
      "\n",
      "k-mer similarity threshold: 109\n",
      "Starting prefiltering scores calculation (step 1 of 1)\n",
      "Query db start 1 to 81018\n",
      "Target db start 1 to 81018\n",
      "[=================================================================] 81.02K 7s 683ms\n",
      "\n",
      "416.669862 k-mers per position\n",
      "15896 DB matches per sequence\n",
      "0 overflows\n",
      "0 queries produce too many hits (truncated result)\n",
      "19 sequences passed prefiltering per query sequence\n",
      "20 median result list length\n",
      "0 sequences with 0 size result lists\n",
      "Time for merging to pref_step2: 0h 0m 0s 539ms\n",
      "Time for processing: 0h 0m 10s 93ms\n",
      "align ../data/tmp/2014707147912265515/input_step2 ../data/tmp/2014707147912265515/input_step2 ../data/tmp/2014707147912265515/pref_step2 ../data/tmp/2014707147912265515/aln_step2 --sub-mat nucl:nucleotide.out,aa:blosum62.out -a 0 --alignment-mode 3 --alignment-output-mode 0 --wrapped-scoring 0 -e 0.001 --min-seq-id 0.3 --min-aln-len 0 --seq-id-mode 0 --alt-ali 0 -c 0.8 --cov-mode 0 --max-seq-len 65535 --comp-bias-corr 1 --max-rejected 2147483647 --max-accept 2147483647 --add-self-matches 0 --db-load-mode 0 --pca 1 --pcb 1.5 --score-bias 0 --realign 0 --realign-score-bias -0.2 --realign-max-seqs 2147483647 --gap-open nucl:5,aa:11 --gap-extend nucl:2,aa:1 --zdrop 40 --threads 40 --compressed 0 -v 3 \n",
      "\n",
      "Compute score, coverage and sequence identity\n",
      "Query database size: 81018 type: Aminoacid\n",
      "Target database size: 81018 type: Aminoacid\n",
      "Calculation of alignments\n",
      "[=================================================================] 81.02K 0s 572ms\n",
      "Time for merging to aln_step2: 0h 0m 0s 558ms\n",
      "321024 alignments calculated\n",
      "89793 sequence pairs passed the thresholds (0.279708 of overall calculated)\n",
      "1.108309 hits per query sequence\n",
      "Time for processing: 0h 0m 1s 978ms\n",
      "clust ../data/tmp/2014707147912265515/input_step2 ../data/tmp/2014707147912265515/aln_step2 ../data/tmp/2014707147912265515/clu_step2 --cluster-mode 0 --max-iterations 1000 --similarity-type 2 --threads 40 --compressed 0 -v 3 \n",
      "\n",
      "Clustering mode: Set Cover\n",
      "[=================================================================] 81.02K 0s 2ms\n",
      "Sort entries\n",
      "Find missing connections\n",
      "Found 2279 new connections.\n",
      "Reconstruct initial order\n",
      "[=================================================================] 81.02K 0s 3ms\n",
      "Add missing connections\n",
      "[=================================================================] 81.02K 0s 3ms\n",
      "\n",
      "Time for read in: 0h 0m 0s 32ms\n",
      "Total time: 0h 0m 0s 53ms\n",
      "\n",
      "Size of the sequence database: 81018\n",
      "Size of the alignment database: 81018\n",
      "Number of clusters: 77176\n",
      "\n",
      "Writing results 0h 0m 0s 12ms\n",
      "Time for merging to clu_step2: 0h 0m 0s 2ms\n",
      "Time for processing: 0h 0m 0s 137ms\n",
      "mergeclusters ../data/ecoli/interim/mmseqs/unique_seqs.db ../data3/interim/mmseqs_dbs/ecoli_3k_clust ../data/tmp/2014707147912265515/clu_redundancy ../data/tmp/2014707147912265515/clu_step0 ../data/tmp/2014707147912265515/clu_step1 ../data/tmp/2014707147912265515/clu_step2 --threads 40 --compressed 0 -v 3 \n",
      "\n",
      "Clustering step 1\n",
      "[=================================================================] 151.89K 0s 26ms\n",
      "Clustering step 2\n",
      "[=================================================================] 93.40K 0s 57ms\n",
      "Clustering step 3\n",
      "[=================================================================] 81.02K 0s 79ms\n",
      "Clustering step 4\n",
      "[=================================================================] 77.18K 0s 99ms\n",
      "Write merged clustering\n",
      "[=================================================================] 1.07M 0s 926ms\n",
      "Time for merging to ecoli_3k_clust: 0h 0m 0s 530ms\n",
      "Time for processing: 0h 0m 1s 882ms\n",
      "\n",
      "CPU times: user 681 ms, sys: 86.8 ms, total: 768 ms\n",
      "Wall time: 53.1 s\n"
     ]
    }
   ],
   "source": [
    "%%time \n",
    "!conda run -n beaker \\\n",
    "mmseqs cluster {unique_seq_db} {clust_db} ../data/tmp \\\n",
    "-c {cov} --cov-mode {cov_mode} \\\n",
    "--min-seq-id {min_seq_id} --threads {threads} \\\n",
    "--cluster-mode {cluster_mode} -s 6"
   ]
  },
  {
   "cell_type": "code",
   "execution_count": 4,
   "id": "76b9eb0e-ad98-4c90-a2b8-aea2155d562c",
   "metadata": {},
   "outputs": [],
   "source": [
    "clust_out = '../data3/interim/ecoli_3k_seq_clusters.txt'"
   ]
  },
  {
   "cell_type": "code",
   "execution_count": 12,
   "id": "a5d87c23-067c-4242-9108-d31def440fb2",
   "metadata": {},
   "outputs": [
    {
     "name": "stdout",
     "output_type": "stream",
     "text": [
      "createtsv ../data/ecoli/interim/mmseqs/unique_seqs.db ../data/ecoli/interim/mmseqs/unique_seqs.db ../data3/interim/mmseqs_dbs/ecoli_3k_clust ../data3/interim/ecoli_3k_seq_clusters.txt \n",
      "\n",
      "MMseqs Version:                 \t13.45111\n",
      "First sequence as representative\tfalse\n",
      "Target column                   \t1\n",
      "Add full header                 \tfalse\n",
      "Sequence source                 \t0\n",
      "Database output                 \tfalse\n",
      "Threads                         \t80\n",
      "Compressed                      \t0\n",
      "Verbosity                       \t3\n",
      "\n",
      "Time for merging to ecoli_3k_seq_clusters.txt: 0h 0m 0s 888ms\n",
      "Time for processing: 0h 0m 3s 915ms\n",
      "\n"
     ]
    }
   ],
   "source": [
    "!conda run -n beaker \\\n",
    "mmseqs createtsv {unique_seq_db} {unique_seq_db} {clust_db} {clust_out}"
   ]
  },
  {
   "cell_type": "code",
   "execution_count": 5,
   "id": "f12c7a75-bb15-4883-9773-cc08f2765615",
   "metadata": {},
   "outputs": [],
   "source": [
    "cluster_df = pd.read_table(clust_out, names=['cluster_id', 'product_accession'])"
   ]
  },
  {
   "cell_type": "code",
   "execution_count": 6,
   "id": "d9454ae0-2791-4815-9aac-020db59d2e6b",
   "metadata": {},
   "outputs": [
    {
     "data": {
      "text/plain": [
       "77176"
      ]
     },
     "execution_count": 6,
     "metadata": {},
     "output_type": "execute_result"
    }
   ],
   "source": [
    "cluster_df['cluster_id'].nunique()"
   ]
  },
  {
   "cell_type": "markdown",
   "id": "412471da-b153-4097-9296-3f1fd9d2ef6f",
   "metadata": {},
   "source": [
    "## Read in predictions"
   ]
  },
  {
   "cell_type": "code",
   "execution_count": 7,
   "id": "39c36e31-5991-41cc-9c03-0186f17ac995",
   "metadata": {},
   "outputs": [],
   "source": [
    "prediction_out_dir = '../data3/interim/ecoli_predictions/'"
   ]
  },
  {
   "cell_type": "code",
   "execution_count": 8,
   "id": "74e1b59d-3df7-47ca-b1fa-585467b4baa8",
   "metadata": {},
   "outputs": [
    {
     "name": "stderr",
     "output_type": "stream",
     "text": [
      "100%|██████████| 6000/6000 [04:42<00:00, 21.20it/s]\n"
     ]
    }
   ],
   "source": [
    "predictions = pd.concat([pd.read_parquet(prediction_out_dir + f) for \n",
    "                         f in tqdm(os.listdir(prediction_out_dir), position=0) if '_predictions.pq' in f])"
   ]
  },
  {
   "cell_type": "code",
   "execution_count": 9,
   "id": "7981a755-f0c9-4dba-91cc-0c49b6b8e39f",
   "metadata": {},
   "outputs": [
    {
     "data": {
      "image/png": "[encoded data removed]",
      "text/plain": [
       "<Figure size 200x200 with 1 Axes>"
      ]
     },
     "metadata": {},
     "output_type": "display_data"
    }
   ],
   "source": [
    "plt.subplots(figsize=(2,2))\n",
    "sns.histplot(predictions['mean_log_odds'], binwidth=1, \n",
    "             color='grey')\n",
    "plt.xlabel('Log odds of defense')\n",
    "plt.ylabel('# Genes')\n",
    "plt.axvline(x=med_log_odds_cutoff, linestyle='dashed', color='black')\n",
    "sns.despine()"
   ]
  },
  {
   "cell_type": "code",
   "execution_count": 10,
   "id": "0dc2b963-f5eb-4d33-8718-e45cf19160bc",
   "metadata": {},
   "outputs": [],
   "source": [
    "predictions['predicted_defensive'] = predictions['mean_log_odds'] > med_log_odds_cutoff"
   ]
  },
  {
   "cell_type": "code",
   "execution_count": 11,
   "id": "3295a8ce-7890-4ee8-9665-96fddb641d46",
   "metadata": {},
   "outputs": [
    {
     "data": {
      "text/plain": [
       "95107"
      ]
     },
     "execution_count": 11,
     "metadata": {},
     "output_type": "execute_result"
    }
   ],
   "source": [
    "predictions['predicted_defensive'].sum()"
   ]
  },
  {
   "cell_type": "markdown",
   "id": "deafd3e0-2d7f-4824-9705-fb61018e4d1e",
   "metadata": {},
   "source": [
    "## Add DefenseFinder results"
   ]
  },
  {
   "cell_type": "code",
   "execution_count": 12,
   "id": "f3284ae9-c3b5-44ef-b18a-2a5866edcaf8",
   "metadata": {},
   "outputs": [],
   "source": [
    "cat_system_df = pd.read_csv('../data/ecoli/interim/defense_finder_full_systems_genes.csv')\n",
    "cat_homolog_df = pd.read_csv('../data/ecoli/interim/defense_finder_homologs.csv')"
   ]
  },
  {
   "cell_type": "code",
   "execution_count": 13,
   "id": "26d71331-5188-47e2-80cf-eb0f6bfb0743",
   "metadata": {},
   "outputs": [],
   "source": [
    "unique_homolog_df = (cat_homolog_df.groupby(['hit_id','assembly_stub'])\n",
    "                     .sample(n=1, random_state=7))"
   ]
  },
  {
   "cell_type": "code",
   "execution_count": 14,
   "id": "3c7d4651-bc45-4368-972d-8605f8c92401",
   "metadata": {},
   "outputs": [],
   "source": [
    "unique_system_df = (cat_system_df.sort_values('sys_score', ascending=False)\n",
    "                    .groupby(['assembly_stub', 'hit_id'])\n",
    "                    .head(1))"
   ]
  },
  {
   "cell_type": "markdown",
   "id": "d6782350-e325-4a1b-b6d5-3e2984cc81d5",
   "metadata": {},
   "source": [
    "## Merge and analyze"
   ]
  },
  {
   "cell_type": "code",
   "execution_count": 15,
   "id": "4031e99d-99d0-42ba-a490-a191f91cf703",
   "metadata": {},
   "outputs": [],
   "source": [
    "merged_predictions = predictions.copy()\n",
    "merged_predictions['assembly_stub'] = merged_predictions['assembly'].str.split('.', expand=True)[0]\n",
    "merged_predictions = (merged_predictions.merge(unique_homolog_df[['hit_id', 'gene_name', 'assembly_stub']]\n",
    "                                               .rename(columns={'hit_id': 'product_accession', \n",
    "                                                                             'gene_name': 'defense_homolog_name'}),\n",
    "                                        how='left', on=['product_accession', 'assembly_stub']))\n",
    "merged_predictions['defense_homolog'] = ~merged_predictions['defense_homolog_name'].isna()\n",
    "merged_predictions = (merged_predictions.merge(unique_system_df[['assembly_stub', 'hit_id','gene_name', 'sys_id']]\n",
    "                                               .rename(columns={'hit_id': 'product_accession', \n",
    "                                                                'gene_name': 'defense_system_gene', \n",
    "                                                                'sys_id': 'defense_system'}), \n",
    "                                               how='left', on=['product_accession', 'assembly_stub']))\n",
    "merged_predictions['defense_system_protein'] = ~merged_predictions['defense_system_gene'].isna()\n",
    "merged_predictions = (merged_predictions\n",
    "                      .merge(cluster_df, how='inner', on='product_accession'))"
   ]
  },
  {
   "cell_type": "code",
   "execution_count": 16,
   "id": "ead2f3db-8b87-4a57-b89d-f233e1a4220b",
   "metadata": {},
   "outputs": [
    {
     "data": {
      "text/plain": [
       "True"
      ]
     },
     "execution_count": 16,
     "metadata": {},
     "output_type": "execute_result"
    }
   ],
   "source": [
    "len(merged_predictions) == len(predictions)"
   ]
  },
  {
   "cell_type": "code",
   "execution_count": 17,
   "id": "0a8480ab-2b81-4fd5-aace-2039eea87028",
   "metadata": {},
   "outputs": [],
   "source": [
    "cluster_count = (merged_predictions\n",
    "                 .groupby('cluster_id')\n",
    "                 .agg(n_assemblies=('assembly', 'nunique'))\n",
    "                 .reset_index(drop=True))"
   ]
  },
  {
   "cell_type": "code",
   "execution_count": 18,
   "id": "dc7675f3-54cb-47b8-b930-f05fb400b054",
   "metadata": {},
   "outputs": [
    {
     "data": {
      "text/plain": [
       "3000"
      ]
     },
     "execution_count": 18,
     "metadata": {},
     "output_type": "execute_result"
    }
   ],
   "source": [
    "assemblies = merged_predictions['assembly'].drop_duplicates()\n",
    "n_assemblies = len(assemblies)\n",
    "n_assemblies"
   ]
  },
  {
   "cell_type": "code",
   "execution_count": 19,
   "id": "a8773dae-9a47-46d5-8bba-1e5a5b09bd89",
   "metadata": {},
   "outputs": [
    {
     "data": {
      "text/plain": [
       "77176"
      ]
     },
     "execution_count": 19,
     "metadata": {},
     "output_type": "execute_result"
    }
   ],
   "source": [
    "len(cluster_count)"
   ]
  },
  {
   "cell_type": "code",
   "execution_count": 20,
   "id": "278cea99-8592-4ce0-a28d-d94b9a568895",
   "metadata": {},
   "outputs": [
    {
     "data": {
      "text/plain": [
       "60373"
      ]
     },
     "execution_count": 20,
     "metadata": {},
     "output_type": "execute_result"
    }
   ],
   "source": [
    "(cluster_count['n_assemblies'] <= 10).sum()"
   ]
  },
  {
   "cell_type": "code",
   "execution_count": 21,
   "id": "779a648b-0ea7-4f92-bc7c-a86d66098b0e",
   "metadata": {},
   "outputs": [
    {
     "data": {
      "text/plain": [
       "0.7822768736394734"
      ]
     },
     "execution_count": 21,
     "metadata": {},
     "output_type": "execute_result"
    }
   ],
   "source": [
    "(cluster_count['n_assemblies'] <= 10).sum()/len(cluster_count)"
   ]
  },
  {
   "cell_type": "code",
   "execution_count": 22,
   "id": "df8573de-7007-4265-98ee-8ba5debd062d",
   "metadata": {},
   "outputs": [
    {
     "data": {
      "text/plain": [
       "2573"
      ]
     },
     "execution_count": 22,
     "metadata": {},
     "output_type": "execute_result"
    }
   ],
   "source": [
    "(cluster_count['n_assemblies'] >= 2_900).sum()"
   ]
  },
  {
   "cell_type": "code",
   "execution_count": 23,
   "id": "b5165b07-d51a-47bf-aa25-219e8c1958e1",
   "metadata": {},
   "outputs": [
    {
     "data": {
      "image/png": "[encoded data removed]",
      "text/plain": [
       "<Figure size 200x200 with 1 Axes>"
      ]
     },
     "metadata": {},
     "output_type": "display_data"
    }
   ],
   "source": [
    "plt.subplots(figsize=(2,2))\n",
    "sns.histplot(data=cluster_count, x='n_assemblies',binwidth=100, color='darkgrey', alpha=1, edgecolor='black')\n",
    "sns.despine()\n",
    "plt.xlabel('# Genomes')\n",
    "plt.ylabel('# Protein clusters')\n",
    "plt.savefig('../figures/ecoli_3k_u_plot.svg', dpi=300, bbox_inches='tight')"
   ]
  },
  {
   "cell_type": "code",
   "execution_count": 24,
   "id": "41ed420d-7b81-47d9-a2cb-1d1dde3aea04",
   "metadata": {},
   "outputs": [],
   "source": [
    "n_samples = [int(x) for x in np.linspace(1, 3_000, num=50)]\n",
    "n_boot = 10"
   ]
  },
  {
   "cell_type": "code",
   "execution_count": 25,
   "id": "2ae54d24-16b8-418d-b801-20fd3826d458",
   "metadata": {},
   "outputs": [
    {
     "name": "stderr",
     "output_type": "stream",
     "text": [
      "100%|██████████| 50/50 [10:13<00:00, 12.28s/it]\n"
     ]
    }
   ],
   "source": [
    "n_clusters_per_assembly_list = list()\n",
    "for n in tqdm(n_samples, position=0):\n",
    "    for boot in range(n_boot):\n",
    "        sampled_assemblies = set(assemblies.sample(n=n, random_state=boot))\n",
    "        n_clusters = merged_predictions.loc[merged_predictions['assembly'].isin(sampled_assemblies), \n",
    "                                              'cluster_id'].nunique()\n",
    "        n_clusters_per_assembly_list.append({'n_assemblies': n,\n",
    "                                             'n_clusters': n_clusters, \n",
    "                                             'boot': boot})"
   ]
  },
  {
   "cell_type": "code",
   "execution_count": 26,
   "id": "ee7ba145-ef98-4144-9018-83bf3e9fbd6d",
   "metadata": {},
   "outputs": [],
   "source": [
    "n_clusters_per_assembly_df = (pd.DataFrame(n_clusters_per_assembly_list)\n",
    "                              .groupby('n_assemblies')\n",
    "                              .agg({'n_clusters': 'mean'})\n",
    "                              .reset_index())"
   ]
  },
  {
   "cell_type": "code",
   "execution_count": 27,
   "id": "2d3b535d-640e-49ab-b98a-1a61a5738e04",
   "metadata": {},
   "outputs": [
    {
     "data": {
      "image/png": "[encoded data removed]",
      "text/plain": [
       "<Figure size 200x200 with 1 Axes>"
      ]
     },
     "metadata": {},
     "output_type": "display_data"
    }
   ],
   "source": [
    "plt.subplots(figsize=(2, 2))\n",
    "sns.scatterplot(data=n_clusters_per_assembly_df, x='n_assemblies', y='n_clusters',\n",
    "                color='black', s=10)\n",
    "sns.despine()\n",
    "plt.xlabel('# Genomes')\n",
    "plt.ylabel('# Protein clusters')\n",
    "plt.savefig('../figures/ecoli_3k_clusters_per_assembly.svg', dpi=300, bbox_inches='tight')"
   ]
  },
  {
   "cell_type": "code",
   "execution_count": 28,
   "id": "6acc16d9-ec2e-47c6-ba7e-96be17b8ddc9",
   "metadata": {},
   "outputs": [],
   "source": [
    "assembly_n_genes = (merged_predictions.groupby('assembly')\n",
    "                    .agg(total_genes=('product_accession', 'count'), \n",
    "                         predicted_defense_genes=('predicted_defensive', 'sum'), \n",
    "                         known_defense_genes=('defense_system_protein', 'sum'))\n",
    "                    .reset_index())\n",
    "assembly_n_genes['perc_predicted_defensive'] = (assembly_n_genes['predicted_defense_genes']/assembly_n_genes['total_genes'])*100\n",
    "assembly_n_genes['perc_known_defensive'] = (assembly_n_genes['known_defense_genes']/assembly_n_genes['total_genes'])*100\n"
   ]
  },
  {
   "cell_type": "code",
   "execution_count": 29,
   "id": "32dccf06-f0a8-4ea5-a3f3-d30a2f9599f2",
   "metadata": {},
   "outputs": [
    {
     "data": {
      "text/plain": [
       "perc_predicted_defensive     0.664784\n",
       "perc_known_defensive         0.125127\n",
       "predicted_defense_genes     31.702333\n",
       "known_defense_genes          5.958667\n",
       "dtype: float64"
      ]
     },
     "execution_count": 29,
     "metadata": {},
     "output_type": "execute_result"
    }
   ],
   "source": [
    "assembly_n_genes[['perc_predicted_defensive', 'perc_known_defensive', 'predicted_defense_genes', 'known_defense_genes']].mean()"
   ]
  },
  {
   "cell_type": "code",
   "execution_count": 30,
   "id": "d971d647-412b-4083-8581-779f389d57a4",
   "metadata": {},
   "outputs": [
    {
     "data": {
      "image/png": "[encoded data removed]",
      "text/plain": [
       "<Figure size 200x200 with 1 Axes>"
      ]
     },
     "metadata": {},
     "output_type": "display_data"
    }
   ],
   "source": [
    "plt.subplots(figsize=(2,2))\n",
    "gpplot.point_densityplot(data=assembly_n_genes, \n",
    "                         x='perc_known_defensive', \n",
    "                         y='perc_predicted_defensive',  \n",
    "                         s=10)\n",
    "gpplot.add_correlation(data=assembly_n_genes, \n",
    "                       x='perc_known_defensive', \n",
    "                       y='perc_predicted_defensive', \n",
    "                       fontfamily='Sans-Serif')\n",
    "plt.xlabel('DefenseFinder\\n(% defensive)')\n",
    "plt.ylabel('DefensePredictor\\n(% defensive)')\n",
    "sns.despine()\n",
    "gpplot.add_xy_line()\n",
    "plt.title('E. coli genomes')\n",
    "plt.savefig('../figures/systems_df_dp_ecoli_3k.svg', dpi=300, bbox_inches='tight')"
   ]
  },
  {
   "cell_type": "code",
   "execution_count": 31,
   "id": "7078a03f-4445-4aa3-a9e0-ba75bb5c1504",
   "metadata": {},
   "outputs": [
    {
     "data": {
      "text/html": [
       "<div>\n",
       "<style scoped>\n",
       "    .dataframe tbody tr th:only-of-type {\n",
       "        vertical-align: middle;\n",
       "    }\n",
       "\n",
       "    .dataframe tbody tr th {\n",
       "        vertical-align: top;\n",
       "    }\n",
       "\n",
       "    .dataframe thead th {\n",
       "        text-align: right;\n",
       "    }\n",
       "</style>\n",
       "<table border=\"1\" class=\"dataframe\">\n",
       "  <thead>\n",
       "    <tr style=\"text-align: right;\">\n",
       "      <th></th>\n",
       "      <th>assembly</th>\n",
       "      <th>total_genes</th>\n",
       "      <th>predicted_defense_genes</th>\n",
       "      <th>known_defense_genes</th>\n",
       "      <th>perc_predicted_defensive</th>\n",
       "      <th>perc_known_defensive</th>\n",
       "    </tr>\n",
       "  </thead>\n",
       "  <tbody>\n",
       "    <tr>\n",
       "      <th>1658</th>\n",
       "      <td>GCF_019265485.1</td>\n",
       "      <td>3855</td>\n",
       "      <td>3</td>\n",
       "      <td>0</td>\n",
       "      <td>0.077821</td>\n",
       "      <td>0.000000</td>\n",
       "    </tr>\n",
       "    <tr>\n",
       "      <th>748</th>\n",
       "      <td>GCF_002949675.1</td>\n",
       "      <td>3622</td>\n",
       "      <td>3</td>\n",
       "      <td>0</td>\n",
       "      <td>0.082827</td>\n",
       "      <td>0.000000</td>\n",
       "    </tr>\n",
       "    <tr>\n",
       "      <th>112</th>\n",
       "      <td>GCF_000500815.1</td>\n",
       "      <td>4075</td>\n",
       "      <td>4</td>\n",
       "      <td>0</td>\n",
       "      <td>0.098160</td>\n",
       "      <td>0.000000</td>\n",
       "    </tr>\n",
       "    <tr>\n",
       "      <th>113</th>\n",
       "      <td>GCF_000500875.1</td>\n",
       "      <td>4074</td>\n",
       "      <td>4</td>\n",
       "      <td>0</td>\n",
       "      <td>0.098184</td>\n",
       "      <td>0.000000</td>\n",
       "    </tr>\n",
       "    <tr>\n",
       "      <th>1659</th>\n",
       "      <td>GCF_019265505.1</td>\n",
       "      <td>4028</td>\n",
       "      <td>4</td>\n",
       "      <td>7</td>\n",
       "      <td>0.099305</td>\n",
       "      <td>0.173784</td>\n",
       "    </tr>\n",
       "    <tr>\n",
       "      <th>...</th>\n",
       "      <td>...</td>\n",
       "      <td>...</td>\n",
       "      <td>...</td>\n",
       "      <td>...</td>\n",
       "      <td>...</td>\n",
       "      <td>...</td>\n",
       "    </tr>\n",
       "    <tr>\n",
       "      <th>1778</th>\n",
       "      <td>GCF_020821845.1</td>\n",
       "      <td>4693</td>\n",
       "      <td>63</td>\n",
       "      <td>5</td>\n",
       "      <td>1.342425</td>\n",
       "      <td>0.106542</td>\n",
       "    </tr>\n",
       "    <tr>\n",
       "      <th>2652</th>\n",
       "      <td>GCF_040215525.1</td>\n",
       "      <td>5087</td>\n",
       "      <td>70</td>\n",
       "      <td>16</td>\n",
       "      <td>1.376057</td>\n",
       "      <td>0.314527</td>\n",
       "    </tr>\n",
       "    <tr>\n",
       "      <th>2868</th>\n",
       "      <td>GCF_902499885.1</td>\n",
       "      <td>5052</td>\n",
       "      <td>70</td>\n",
       "      <td>21</td>\n",
       "      <td>1.385590</td>\n",
       "      <td>0.415677</td>\n",
       "    </tr>\n",
       "    <tr>\n",
       "      <th>2889</th>\n",
       "      <td>GCF_902505245.1</td>\n",
       "      <td>5147</td>\n",
       "      <td>76</td>\n",
       "      <td>23</td>\n",
       "      <td>1.476588</td>\n",
       "      <td>0.446862</td>\n",
       "    </tr>\n",
       "    <tr>\n",
       "      <th>1738</th>\n",
       "      <td>GCF_020421565.1</td>\n",
       "      <td>5001</td>\n",
       "      <td>76</td>\n",
       "      <td>14</td>\n",
       "      <td>1.519696</td>\n",
       "      <td>0.279944</td>\n",
       "    </tr>\n",
       "  </tbody>\n",
       "</table>\n",
       "<p>3000 rows × 6 columns</p>\n",
       "</div>"
      ],
      "text/plain": [
       "             assembly  total_genes  predicted_defense_genes   \n",
       "1658  GCF_019265485.1         3855                        3  \\\n",
       "748   GCF_002949675.1         3622                        3   \n",
       "112   GCF_000500815.1         4075                        4   \n",
       "113   GCF_000500875.1         4074                        4   \n",
       "1659  GCF_019265505.1         4028                        4   \n",
       "...               ...          ...                      ...   \n",
       "1778  GCF_020821845.1         4693                       63   \n",
       "2652  GCF_040215525.1         5087                       70   \n",
       "2868  GCF_902499885.1         5052                       70   \n",
       "2889  GCF_902505245.1         5147                       76   \n",
       "1738  GCF_020421565.1         5001                       76   \n",
       "\n",
       "      known_defense_genes  perc_predicted_defensive  perc_known_defensive  \n",
       "1658                    0                  0.077821              0.000000  \n",
       "748                     0                  0.082827              0.000000  \n",
       "112                     0                  0.098160              0.000000  \n",
       "113                     0                  0.098184              0.000000  \n",
       "1659                    7                  0.099305              0.173784  \n",
       "...                   ...                       ...                   ...  \n",
       "1778                    5                  1.342425              0.106542  \n",
       "2652                   16                  1.376057              0.314527  \n",
       "2868                   21                  1.385590              0.415677  \n",
       "2889                   23                  1.476588              0.446862  \n",
       "1738                   14                  1.519696              0.279944  \n",
       "\n",
       "[3000 rows x 6 columns]"
      ]
     },
     "execution_count": 31,
     "metadata": {},
     "output_type": "execute_result"
    }
   ],
   "source": [
    "assembly_n_genes.sort_values('perc_predicted_defensive')"
   ]
  },
  {
   "cell_type": "code",
   "execution_count": 32,
   "id": "935bc87c-9a21-4927-94e0-a09a7cdeac21",
   "metadata": {},
   "outputs": [],
   "source": [
    "cluster_defense_frac = (merged_predictions.groupby('cluster_id')\n",
    "                        .agg(mean_defensive=('predicted_defensive', 'mean'), \n",
    "                             members=('product_accession', 'count'))\n",
    "                        .reset_index())"
   ]
  },
  {
   "cell_type": "code",
   "execution_count": 33,
   "id": "6770c084-ab32-497c-94c7-24d8e94492d4",
   "metadata": {},
   "outputs": [
    {
     "data": {
      "text/plain": [
       "2845"
      ]
     },
     "execution_count": 33,
     "metadata": {},
     "output_type": "execute_result"
    }
   ],
   "source": [
    "(cluster_defense_frac['mean_defensive'] == 1).sum()"
   ]
  },
  {
   "cell_type": "code",
   "execution_count": 34,
   "id": "d123b16f-f76f-4948-b775-01a76ac8f621",
   "metadata": {},
   "outputs": [
    {
     "data": {
      "text/plain": [
       "1854"
      ]
     },
     "execution_count": 34,
     "metadata": {},
     "output_type": "execute_result"
    }
   ],
   "source": [
    "(cluster_defense_frac\n",
    " .query('mean_defensive > 0')\n",
    " .query('members >= 3')\n",
    " ['mean_defensive'] >= 0.5).sum()"
   ]
  },
  {
   "cell_type": "code",
   "execution_count": 35,
   "id": "a4e87105-5985-44ab-8712-11f6acbe2129",
   "metadata": {},
   "outputs": [
    {
     "data": {
      "text/plain": [
       "2180"
      ]
     },
     "execution_count": 35,
     "metadata": {},
     "output_type": "execute_result"
    }
   ],
   "source": [
    "len(cluster_defense_frac\n",
    " .query('mean_defensive > 0')\n",
    " .query('members >= 3'))"
   ]
  },
  {
   "cell_type": "code",
   "execution_count": 48,
   "id": "03a36566-ca8a-470e-a5db-922321765467",
   "metadata": {},
   "outputs": [
    {
     "data": {
      "text/plain": [
       "0.8504587155963302"
      ]
     },
     "execution_count": 48,
     "metadata": {},
     "output_type": "execute_result"
    }
   ],
   "source": [
    "1854/2180"
   ]
  },
  {
   "cell_type": "code",
   "execution_count": 37,
   "id": "6cca9b03-54e8-4ed8-9eb2-94ce126be9fc",
   "metadata": {},
   "outputs": [
    {
     "data": {
      "text/plain": [
       "<Axes: xlabel='mean_defensive', ylabel='Count'>"
      ]
     },
     "execution_count": 37,
     "metadata": {},
     "output_type": "execute_result"
    },
    {
     "data": {
      "image/png": "[encoded data removed]",
      "text/plain": [
       "<Figure size 640x480 with 1 Axes>"
      ]
     },
     "metadata": {},
     "output_type": "display_data"
    }
   ],
   "source": [
    "sns.histplot(data=cluster_defense_frac[cluster_defense_frac['members'] >= 3], \n",
    "             x='mean_defensive', color='darkgrey')"
   ]
  },
  {
   "cell_type": "code",
   "execution_count": 38,
   "id": "e8a09b35-792e-4a03-bacf-a114c34c5d49",
   "metadata": {},
   "outputs": [
    {
     "data": {
      "image/png": "[encoded data removed]",
      "text/plain": [
       "<Figure size 200x200 with 2 Axes>"
      ]
     },
     "metadata": {},
     "output_type": "display_data"
    }
   ],
   "source": [
    "f, (ax_top, ax_bottom) = plt.subplots(ncols=1, nrows=2, sharex=True, \n",
    "                                      gridspec_kw={'hspace':0.15}, \n",
    "                                      figsize=(2, 2), \n",
    "                                      height_ratios=[1,5])\n",
    "sns.histplot(data=cluster_defense_frac[cluster_defense_frac['members'] >= 3], \n",
    "             x='mean_defensive', color='darkgrey', ax=ax_bottom)\n",
    "sns.histplot(data=cluster_defense_frac[cluster_defense_frac['members'] >= 3], \n",
    "             x='mean_defensive', color='darkgrey', ax=ax_top)\n",
    "ax_top.set_ylim(30_000-2_000*1/5, 30_000)   \n",
    "ax_bottom.set_ylim(0,2_000)\n",
    "sns.despine(ax=ax_bottom)\n",
    "sns.despine(ax=ax_top, bottom=True)\n",
    "\n",
    "d = .015  # how big to make the diagonal lines in axes coordinates\n",
    "# arguments to pass to plot, just so we don't keep repeating them\n",
    "kwargs = dict(transform=ax_top.transAxes, color='k', clip_on=False)\n",
    "ax_top.plot((-d, +d), (-d, +d), **kwargs)        # top-left diagonal\n",
    "ax_top.xaxis.set_visible(False)\n",
    "ax_top.set_ylabel('')\n",
    "\n",
    "kwargs.update(transform=ax_bottom.transAxes)  # switch to the bottom axes\n",
    "ax_bottom.plot((-d, +d), (1 - d, 1 + d), **kwargs)  # bottom-left diagonal\n",
    "\n",
    "ax_bottom.set_xlabel(\"Fraction of cluster members\\n\"\n",
    "           \"predicted defensive\")\n",
    "plt.savefig('../figures/ecoli_3k_cluster_frac_defensive.svg', bbox_inches='tight')"
   ]
  },
  {
   "cell_type": "markdown",
   "id": "8aac51ab-5b75-4033-96f1-a311ef16d234",
   "metadata": {},
   "source": [
    "## Get potential novel hits to query with HHblits"
   ]
  },
  {
   "cell_type": "code",
   "execution_count": 39,
   "id": "0bc68736-8fe8-43bd-a976-554feb5e2bdc",
   "metadata": {},
   "outputs": [],
   "source": [
    "def assign_predicted_category(row):\n",
    "    if row['defense_system_protein']:\n",
    "        return 'Defense homolog in expected system'\n",
    "    elif row['defense_homolog']:\n",
    "        return 'Defense homolog in new context'\n",
    "    else:\n",
    "        return 'Putative novel defense gene'"
   ]
  },
  {
   "cell_type": "code",
   "execution_count": 40,
   "id": "7bdb20a1-93b0-4975-96a4-17fe8d1a75c5",
   "metadata": {},
   "outputs": [],
   "source": [
    "hit_categories = ['Defense homolog in expected system',\n",
    "                  'Defense homolog in new context', \n",
    "                  'Putative novel defense gene']\n",
    "predicted_defense_df = merged_predictions[merged_predictions['predicted_defensive']].copy()\n",
    "predicted_defense_df['predicted_category'] = predicted_defense_df.apply(assign_predicted_category, axis=1)\n",
    "predicted_defense_df['predicted_category'] = pd.Categorical(predicted_defense_df['predicted_category'], \n",
    "                                                    categories=hit_categories)"
   ]
  },
  {
   "cell_type": "code",
   "execution_count": 41,
   "id": "f345cdd5-acfe-4e04-87cd-3d3382bc1c5d",
   "metadata": {},
   "outputs": [
    {
     "data": {
      "text/plain": [
       "predicted_category\n",
       "Defense homolog in new context        49048\n",
       "Putative novel defense gene           35035\n",
       "Defense homolog in expected system    11024\n",
       "Name: count, dtype: int64"
      ]
     },
     "execution_count": 41,
     "metadata": {},
     "output_type": "execute_result"
    }
   ],
   "source": [
    "predicted_defense_df['predicted_category'].value_counts()"
   ]
  },
  {
   "cell_type": "code",
   "execution_count": 42,
   "id": "647bd69c-3fd8-410d-a77a-24cfeba50130",
   "metadata": {},
   "outputs": [],
   "source": [
    "non_redundant_predictions = (predicted_defense_df\n",
    "                             .sort_values(['predicted_category', 'mean_log_odds'], ascending=[True, False])\n",
    "                             .groupby('cluster_id')\n",
    "                             .head(1))"
   ]
  },
  {
   "cell_type": "code",
   "execution_count": 43,
   "id": "3f3c4095-4bee-4266-9157-044aa3607d40",
   "metadata": {},
   "outputs": [
    {
     "data": {
      "text/plain": [
       "predicted_category\n",
       "Putative novel defense gene           1926\n",
       "Defense homolog in new context        1037\n",
       "Defense homolog in expected system     697\n",
       "Name: count, dtype: int64"
      ]
     },
     "execution_count": 43,
     "metadata": {},
     "output_type": "execute_result"
    }
   ],
   "source": [
    "non_redundant_predictions['predicted_category'].value_counts()"
   ]
  },
  {
   "cell_type": "code",
   "execution_count": 44,
   "id": "266c5e50-ff54-49db-9e4f-11f0fbc3f3e9",
   "metadata": {},
   "outputs": [],
   "source": [
    "putative_novel_df = non_redundant_predictions[non_redundant_predictions['predicted_category'] == 'Putative novel defense gene'].copy()"
   ]
  },
  {
   "cell_type": "code",
   "execution_count": 53,
   "id": "d8a330a0-03ae-4d80-8b41-f5cae483f487",
   "metadata": {},
   "outputs": [
    {
     "data": {
      "text/plain": [
       "1926"
      ]
     },
     "execution_count": 53,
     "metadata": {},
     "output_type": "execute_result"
    }
   ],
   "source": [
    "len(putative_novel_df)"
   ]
  },
  {
   "cell_type": "code",
   "execution_count": 45,
   "id": "aaf8a3c2-219f-43c6-8619-a90c98b93c7c",
   "metadata": {},
   "outputs": [
    {
     "data": {
      "text/plain": [
       "name\n",
       "hypothetical protein                                                   1267\n",
       "DUF2971 domain-containing protein                                        34\n",
       "ATP-binding protein                                                      26\n",
       "restriction endonuclease                                                 26\n",
       "HEPN domain-containing protein                                           25\n",
       "AAA family ATPase                                                        16\n",
       "P-loop NTPase fold protein                                               16\n",
       "DUF4365 domain-containing protein                                        15\n",
       "nucleoid-associated protein                                              15\n",
       "HNH endonuclease                                                         14\n",
       "SMEK domain-containing protein                                           13\n",
       "PIN domain-containing protein                                            13\n",
       "DUF262 domain-containing protein                                         12\n",
       "DUF4145 domain-containing protein                                        12\n",
       "DEAD/DEAH box helicase family protein                                    11\n",
       "response regulator receiver domain                                       10\n",
       "dynamin family protein                                                   10\n",
       "DUF4238 domain-containing protein                                         9\n",
       "type I restriction enzyme HsdR N-terminal domain-containing protein       9\n",
       "restriction endonuclease subunit S                                        9\n",
       "DUF2326 domain-containing protein                                         8\n",
       "HNH endonuclease family protein                                           8\n",
       "PD-(D/E)XK nuclease family protein                                        7\n",
       "DUF1524 domain-containing protein                                         7\n",
       "SIR2 family protein                                                       6\n",
       "HNH endonuclease signature motif containing protein                       6\n",
       "DUF4760 domain-containing protein                                         6\n",
       "ABC-three component system protein                                        6\n",
       "nucleotide-binding protein                                                6\n",
       "DUF5677 domain-containing protein                                         5\n",
       "DEAD/DEAH box helicase                                                    5\n",
       "DUF2806 domain-containing protein                                         5\n",
       "type I restriction endonuclease                                           5\n",
       "ParA family protein                                                       4\n",
       "NACHT domain-containing protein                                           4\n",
       "nuclease-related domain-containing protein                                4\n",
       "DUF4209 domain-containing protein                                         4\n",
       "DUF6236 family protein                                                    4\n",
       "abortive infection family protein                                         4\n",
       "thymidylate synthase                                                      4\n",
       "DUF4062 domain-containing protein                                         4\n",
       "DUF4747 family protein                                                    4\n",
       "NERD domain-containing protein                                            4\n",
       "FRG domain-containing protein                                             3\n",
       "LPO_1073/Vpar_1526 family protein                                         3\n",
       "RelA/SpoT domain-containing protein                                       3\n",
       "LA2681 family HEPN domain-containing protein                              3\n",
       "MltR family transcriptional regulator                                     3\n",
       "DUF4231 domain-containing protein                                         3\n",
       "putative phage abortive infection protein                                 3\n",
       "Name: count, dtype: int64"
      ]
     },
     "execution_count": 45,
     "metadata": {},
     "output_type": "execute_result"
    }
   ],
   "source": [
    "putative_novel_df['name'].value_counts().head(50)"
   ]
  },
  {
   "cell_type": "code",
   "execution_count": 46,
   "id": "b60cb8a5-d409-4bb3-9f21-5522ea1c7b00",
   "metadata": {},
   "outputs": [],
   "source": [
    "novel_acc_out = '../data3/interim/ecoli_3k_putative_novel_accessions.txt'\n"
   ]
  },
  {
   "cell_type": "code",
   "execution_count": 47,
   "id": "f7a6393d-709f-4818-afb8-5edcd7f83dbb",
   "metadata": {},
   "outputs": [],
   "source": [
    "putative_novel_df['product_accession'].to_csv(novel_acc_out, index=False, header=False)"
   ]
  },
  {
   "cell_type": "code",
   "execution_count": 50,
   "id": "abbc541f-5378-426d-a28e-b538b00b7cc7",
   "metadata": {},
   "outputs": [],
   "source": [
    "faa_out = '../data3/interim/ecoli_3k_putative_novel_seqs.faa'\n"
   ]
  },
  {
   "cell_type": "code",
   "execution_count": 51,
   "id": "e923fc33-9899-47db-b28c-8a1926e06bb9",
   "metadata": {},
   "outputs": [
    {
     "data": {
      "text/plain": [
       "0"
      ]
     },
     "execution_count": 51,
     "metadata": {},
     "output_type": "execute_result"
    }
   ],
   "source": [
    "os.system(' '.join(['conda run -n beaker', \n",
    "                    'seqtk subseq', '../data/ecoli/interim/unique_seqs.faa', \n",
    "                    novel_acc_out, '>',\n",
    "                    faa_out]))"
   ]
  },
  {
   "cell_type": "code",
   "execution_count": 52,
   "id": "2fb35bfb-025b-4cdb-a937-ec1358d106cb",
   "metadata": {},
   "outputs": [],
   "source": [
    "merged_predictions.drop(columns='chromosome').to_parquet('../data3/processed/ecoli_3k_predictions.pq', index=False)"
   ]
  },
  {
   "cell_type": "code",
   "execution_count": null,
   "id": "a82e96ff-ad32-4db0-8110-37fc29b41949",
   "metadata": {},
   "outputs": [],
   "source": []
  }
 ],
 "metadata": {
  "kernelspec": {
   "display_name": "beaker",
   "language": "python",
   "name": "beaker"
  },
  "language_info": {
   "codemirror_mode": {
    "name": "ipython",
    "version": 3
   },
   "file_extension": ".py",
   "mimetype": "text/x-python",
   "name": "python",
   "nbconvert_exporter": "python",
   "pygments_lexer": "ipython3",
   "version": "3.8.16"
  }
 },
 "nbformat": 4,
 "nbformat_minor": 5
}
