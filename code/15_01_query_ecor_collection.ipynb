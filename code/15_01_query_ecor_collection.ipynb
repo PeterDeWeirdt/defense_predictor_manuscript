{
 "cells": [
  {
   "cell_type": "code",
   "execution_count": 2,
   "id": "d8ca61d5-cb43-4db7-a0a4-c88d589c35e6",
   "metadata": {},
   "outputs": [],
   "source": [
    "import pandas as pd\n",
    "import os\n",
    "from joblib import Parallel, delayed\n",
    "from tqdm import tqdm\n",
    "import hashlib\n",
    "import numpy as np\n",
    "from esm import pretrained, FastaBatchedDataset\n",
    "import torch\n",
    "from joblib import load\n",
    "import seaborn as sns\n",
    "import matplotlib.pyplot as plt\n",
    "import re\n",
    "import subprocess\n",
    "from predict import defense_predictor\n",
    "from predict import get_representations\n",
    "import warnings\n",
    "import random\n",
    "from core import read_dom_table, read_mmseqs_results\n",
    "import gpplot"
   ]
  },
  {
   "cell_type": "code",
   "execution_count": 3,
   "id": "a894d0ed-c8e1-4c3c-be86-26845782f655",
   "metadata": {},
   "outputs": [],
   "source": [
    "plt.rcParams['font.size'] = 7\n",
    "plt.rcParams['svg.fonttype'] = 'none'\n",
    "plt.rcParams['xtick.labelsize'] = 6\n",
    "plt.rcParams['ytick.labelsize'] = 6"
   ]
  },
  {
   "cell_type": "markdown",
   "id": "9b546310-cf7a-45f7-8e9f-540f6c1892fa",
   "metadata": {},
   "source": [
    "## Download genomes and sequences"
   ]
  },
  {
   "cell_type": "code",
   "execution_count": 4,
   "id": "a1830ab2-0bd5-4644-a0b6-ec44159038aa",
   "metadata": {},
   "outputs": [],
   "source": [
    "def unzip_file(file):\n",
    "    os.system('gunzip ' + file)\n",
    "\n",
    "\n",
    "def encode_protein(p):\n",
    "    return hashlib.sha224(p.encode('utf-8')).hexdigest()\n",
    "\n",
    "\n",
    "def process_seq(seq, name, assembly, f):\n",
    "    seq_id = encode_protein(seq)\n",
    "    print(','.join([name, seq_id, seq, assembly]), file=f)\n",
    "\n",
    "\n",
    "def process_faa_file(faa_dir, faa_file, out_dir):\n",
    "    assembly = faa_file.split('.')[0]\n",
    "    with open(out_dir + assembly + '.csv', 'w') as f:\n",
    "        seq = ''\n",
    "        for line in open(faa_dir + faa_file, 'r'):\n",
    "            if '>' in line:\n",
    "                if seq:\n",
    "                    process_seq(seq, name, assembly, f)\n",
    "                    seq = ''\n",
    "                name = line.split(' ')[0][1:]\n",
    "            else:\n",
    "                seq += line.strip()\n",
    "        process_seq(seq, name, assembly, f)\n",
    "\n",
    "\n",
    "def process_unique_split(out_dir, unique_seq_df, i):\n",
    "    with open(out_dir + str(i) + '.faa', 'w') as f:\n",
    "        for _, row in unique_seq_df.iterrows():\n",
    "            print('>' + row['name'], file=f)\n",
    "            print(row['seq'], file=f)"
   ]
  },
  {
   "cell_type": "code",
   "execution_count": 5,
   "id": "3699db43-9b5c-48d6-8d09-6fe64d43e60e",
   "metadata": {},
   "outputs": [],
   "source": [
    "def hmmsearch(tblout, database, input_file, cutoff=1E-2):\n",
    "    # fixed total targets for comparison with other \n",
    "    rand = random.randint(0, 1_000_000_000)\n",
    "    os.system(' '.join(['conda run -n beaker', \n",
    "                        'hmmsearch',\n",
    "                        '-o', '../data/tmp/tmpfile_' + str(rand) + '.txt',\n",
    "                        '--domtblout', tblout,\n",
    "                        '-E', str(cutoff), \n",
    "                        '--domE', str(cutoff),\n",
    "                        '--cpu', '2',\n",
    "                        database,\n",
    "                        input_file]))\n",
    "    os.system('rm ../data/tmp/tmpfile_' + str(rand) + '.txt')"
   ]
  },
  {
   "cell_type": "code",
   "execution_count": 6,
   "id": "b92636f1-06a3-4dd1-83b2-b0edde4a168f",
   "metadata": {},
   "outputs": [],
   "source": [
    "assemblies_dir = '../data/interim/ecor_assemblies/'"
   ]
  },
  {
   "cell_type": "code",
   "execution_count": 4,
   "id": "009b5f19-0016-4b57-b978-0f87d03742f6",
   "metadata": {},
   "outputs": [
    {
     "name": "stdout",
     "output_type": "stream",
     "text": [
      "Unzipping files\n"
     ]
    },
    {
     "name": "stderr",
     "output_type": "stream",
     "text": [
      "100%|██████████| 142/142 [00:01<00:00, 82.73it/s]\n"
     ]
    }
   ],
   "source": [
    "print('Unzipping files')\n",
    "files = [file for file in os.listdir(assemblies_dir) if '.gz' in file]\n",
    "_ = Parallel(n_jobs=40)(delayed(unzip_file)(assemblies_dir + f) for f in tqdm(files))"
   ]
  },
  {
   "cell_type": "code",
   "execution_count": 7,
   "id": "9a0cd3f4-f7ea-4988-82d7-0cac8870bc62",
   "metadata": {},
   "outputs": [],
   "source": [
    "faa_files = [file for file in os.listdir(assemblies_dir) if '.faa' in file]"
   ]
  },
  {
   "cell_type": "code",
   "execution_count": 8,
   "id": "f7113634-6140-4156-be5c-b45360f4726d",
   "metadata": {},
   "outputs": [
    {
     "name": "stdout",
     "output_type": "stream",
     "text": [
      "Deduplicating fasta files\n"
     ]
    },
    {
     "name": "stderr",
     "output_type": "stream",
     "text": [
      "100%|██████████| 69/69 [00:00<00:00, 90.55it/s]\n"
     ]
    },
    {
     "data": {
      "text/plain": [
       "0"
      ]
     },
     "execution_count": 8,
     "metadata": {},
     "output_type": "execute_result"
    }
   ],
   "source": [
    "seq_assembly_dir = '../data/interim/ecor_assemblies_faa_temp/'\n",
    "print('Deduplicating fasta files')\n",
    "os.system('mkdir ' + seq_assembly_dir)\n",
    "_ = Parallel(n_jobs=40)(delayed(process_faa_file)(assemblies_dir, faa_file, seq_assembly_dir) for faa_file in tqdm(faa_files))\n",
    "os.system('cat ' + seq_assembly_dir + '*.csv > ../data/interim/ecor_seq_assemblies.csv')\n",
    "os.system('rm -r ' + seq_assembly_dir)"
   ]
  },
  {
   "cell_type": "code",
   "execution_count": null,
   "id": "5652c8fc-0ec3-4cca-be0d-e462d0819b10",
   "metadata": {},
   "outputs": [
    {
     "name": "stdout",
     "output_type": "stream",
     "text": [
      "Removed 240537 of rows ( 75.09647085268995 %)\n"
     ]
    }
   ],
   "source": [
    "seq_assembly_df = pd.read_csv('../data/interim/ecor_seq_assemblies.csv',\n",
    "                              names=['name', 'seq_id', 'seq', 'assembly'])\n",
    "unique_seq_df = seq_assembly_df[['name', 'seq']].drop_duplicates()\n",
    "rm_rows = len(seq_assembly_df) - len(unique_seq_df)\n",
    "print('Removed', rm_rows, 'of rows (', rm_rows/len(seq_assembly_df)*100, '%)')"
   ]
  },
  {
   "cell_type": "code",
   "execution_count": null,
   "id": "4755da04-c51c-42ff-8f64-525663c9016e",
   "metadata": {},
   "outputs": [
    {
     "data": {
      "text/plain": [
       "79767"
      ]
     },
     "execution_count": 9,
     "metadata": {},
     "output_type": "execute_result"
    }
   ],
   "source": [
    "len(unique_seq_df)"
   ]
  },
  {
   "cell_type": "code",
   "execution_count": null,
   "id": "0415bbc8-f289-4fbe-9083-5c1a13940623",
   "metadata": {},
   "outputs": [],
   "source": [
    "ecor_unique_seqs_fa = '../data/interim/ecor_unique_seqs.faa'"
   ]
  },
  {
   "cell_type": "code",
   "execution_count": 12,
   "id": "49d9b573-3e4e-4f34-8452-3c77d4318cb8",
   "metadata": {},
   "outputs": [
    {
     "name": "stdout",
     "output_type": "stream",
     "text": [
      "Writing deduplicated sequences\n"
     ]
    },
    {
     "name": "stderr",
     "output_type": "stream",
     "text": [
      "100%|██████████| 1000/1000 [00:00<00:00, 1172.39it/s]\n"
     ]
    },
    {
     "data": {
      "text/plain": [
       "0"
      ]
     },
     "execution_count": 12,
     "metadata": {},
     "output_type": "execute_result"
    }
   ],
   "source": [
    "unique_seq_dir = '../data/interim/ecor_unique_seqs_temp/'\n",
    "print('Writing deduplicated sequences')\n",
    "os.mkdir(unique_seq_dir)\n",
    "unique_seq_df = np.array_split(unique_seq_df, 1_000)\n",
    "Parallel(n_jobs=40)(delayed(process_unique_split)(unique_seq_dir, df, i) for i, df in tqdm(enumerate(unique_seq_df), total=1_000))\n",
    "os.system('cat ' + unique_seq_dir + '*.faa > ' + ecor_unique_seqs_fa)\n",
    "os.system('rm -r ' + unique_seq_dir)"
   ]
  },
  {
   "cell_type": "markdown",
   "id": "22adbdbf-af06-4e37-b031-425bd8a5105a",
   "metadata": {},
   "source": [
    "## Get representations for sequences"
   ]
  },
  {
   "cell_type": "code",
   "execution_count": 8,
   "id": "d5ad744d-bf5e-426f-a166-4881286b5b45",
   "metadata": {},
   "outputs": [],
   "source": [
    "rep_file = '../data/interim/ecor_representations_reps.csv' # output"
   ]
  },
  {
   "cell_type": "code",
   "execution_count": 10,
   "id": "67b0f564-8a8b-4ed7-bcb1-be54d780c995",
   "metadata": {},
   "outputs": [
    {
     "name": "stdout",
     "output_type": "stream",
     "text": [
      "Calculating assembly representations\n",
      "Model device: cuda\n",
      "Repr layer 30\n"
     ]
    },
    {
     "name": "stderr",
     "output_type": "stream",
     "text": [
      "100%|██████████| 7495/7495 [27:28<00:00,  4.55it/s]\n"
     ]
    }
   ],
   "source": [
    "rep_output_dir = '../data/interim/'\n",
    "if 'ecor_representations_reps.csv' not in os.listdir('../data/interim'):\n",
    "    print('Calculating assembly representations')\n",
    "    model_location = 'esm2_t30_150M_UR50D'\n",
    "    toks_per_batch = 4096\n",
    "    truncation_seq_length = 1022\n",
    "    repr_layer = 30\n",
    "    model, alphabet = pretrained.load_model_and_alphabet(model_location)\n",
    "    device = torch.device('cuda')\n",
    "    print('Model device:', device)\n",
    "    model = model.to(device)\n",
    "    repr_layer = (repr_layer + model.num_layers + 1) % (model.num_layers + 1)\n",
    "    print('Repr layer', repr_layer)\n",
    "    get_representations('../data/interim/ecor_unique_seqs.faa', 'ecor_representations', \n",
    "                        rep_output_dir, toks_per_batch, alphabet,\n",
    "                        truncation_seq_length, model, repr_layer, 'cuda')\n",
    "else:\n",
    "    warnings.warn('Representation directory already exists')"
   ]
  },
  {
   "cell_type": "markdown",
   "id": "1f9d6bf4-796f-441e-aa01-0a4c2a93f8a5",
   "metadata": {},
   "source": [
    "## Make Beaker Predictions"
   ]
  },
  {
   "cell_type": "code",
   "execution_count": 9,
   "id": "d7299fa8-568c-42b7-975b-e5ac69b1b174",
   "metadata": {},
   "outputs": [],
   "source": [
    "feature_files = [file for file in os.listdir(assemblies_dir) if file.endswith('.txt')]\n",
    "fna_files = [file for file in os.listdir(assemblies_dir) if file.endswith('.fna')]\n",
    "faa_files = [file for file in os.listdir(assemblies_dir) if file.endswith('.faa')]"
   ]
  },
  {
   "cell_type": "code",
   "execution_count": 10,
   "id": "5fce0ff0-d4f3-4d52-bc20-414c6dd6a7a5",
   "metadata": {},
   "outputs": [],
   "source": [
    "feature_file_dict = {x.split('.')[0]: '../data/interim/ecor_assemblies/' + x for x in feature_files}\n",
    "fna_file_dict = {x.split('.')[0]: '../data/interim/ecor_assemblies/' + x for x in fna_files}\n",
    "faa_file_dict = {x.split('.')[0]: '../data/interim/ecor_assemblies/' + x for x in faa_files}\n",
    "assemblies = feature_file_dict.keys()"
   ]
  },
  {
   "cell_type": "code",
   "execution_count": 11,
   "id": "8abeb66f-6795-4dd9-972a-c85651bffcaa",
   "metadata": {},
   "outputs": [],
   "source": [
    "prediction_out_dir = '../data3/processed/ecor_predictions/'"
   ]
  },
  {
   "cell_type": "code",
   "execution_count": 13,
   "id": "c637df95-b0ab-480f-a3ed-67785ecf70b1",
   "metadata": {},
   "outputs": [],
   "source": [
    "if not os.path.exists(prediction_out_dir):\n",
    "    os.mkdir(prediction_out_dir)\n",
    "    x_file_dict = None\n",
    "else:\n",
    "    X_files = [x for x in os.listdir(prediction_out_dir) if x.endswith('_X.pq')]\n",
    "    x_file_dict = {x.split('_X')[0]: prediction_out_dir + x for x in X_files}"
   ]
  },
  {
   "cell_type": "code",
   "execution_count": 14,
   "id": "c0062f3c-b03c-4ae0-82a2-c47be42293b7",
   "metadata": {},
   "outputs": [],
   "source": [
    "rep_df = pd.read_csv('../data/interim/ecor_representations_reps.csv', \n",
    "                     names=['ft' + str(i+1) for i in range(640)])"
   ]
  },
  {
   "cell_type": "code",
   "execution_count": 16,
   "id": "398f623e-145d-4fdc-b4ac-371b9f43497a",
   "metadata": {
    "collapsed": true,
    "jupyter": {
     "outputs_hidden": true
    },
    "tags": []
   },
   "outputs": [
    {
     "name": "stderr",
     "output_type": "stream",
     "text": [
      "  0%|          | 0/69 [00:00<?, ?it/s]"
     ]
    },
    {
     "name": "stdout",
     "output_type": "stream",
     "text": [
      "Making predictions\n"
     ]
    },
    {
     "name": "stderr",
     "output_type": "stream",
     "text": [
      "100%|██████████| 5/5 [00:04<00:00,  1.09it/s]\n",
      "  1%|▏         | 1/69 [00:06<07:10,  6.33s/it]"
     ]
    },
    {
     "name": "stdout",
     "output_type": "stream",
     "text": [
      "Making predictions\n"
     ]
    },
    {
     "name": "stderr",
     "output_type": "stream",
     "text": [
      "100%|██████████| 5/5 [00:01<00:00,  3.82it/s]\n",
      "  3%|▎         | 2/69 [00:10<05:22,  4.81s/it]"
     ]
    },
    {
     "name": "stdout",
     "output_type": "stream",
     "text": [
      "Making predictions\n"
     ]
    },
    {
     "name": "stderr",
     "output_type": "stream",
     "text": [
      "100%|██████████| 5/5 [00:01<00:00,  3.85it/s]\n",
      "  4%|▍         | 3/69 [00:13<04:36,  4.20s/it]"
     ]
    },
    {
     "name": "stdout",
     "output_type": "stream",
     "text": [
      "Making predictions\n"
     ]
    },
    {
     "name": "stderr",
     "output_type": "stream",
     "text": [
      "100%|██████████| 5/5 [00:01<00:00,  3.79it/s]\n",
      "  6%|▌         | 4/69 [00:16<04:07,  3.80s/it]"
     ]
    },
    {
     "name": "stdout",
     "output_type": "stream",
     "text": [
      "Making predictions\n"
     ]
    },
    {
     "name": "stderr",
     "output_type": "stream",
     "text": [
      "100%|██████████| 5/5 [00:01<00:00,  3.99it/s]\n",
      "  7%|▋         | 5/69 [00:19<03:48,  3.57s/it]"
     ]
    },
    {
     "name": "stdout",
     "output_type": "stream",
     "text": [
      "Making predictions\n"
     ]
    },
    {
     "name": "stderr",
     "output_type": "stream",
     "text": [
      "100%|██████████| 5/5 [00:01<00:00,  3.42it/s]\n",
      "  9%|▊         | 6/69 [00:23<03:54,  3.72s/it]"
     ]
    },
    {
     "name": "stdout",
     "output_type": "stream",
     "text": [
      "Making predictions\n"
     ]
    },
    {
     "name": "stderr",
     "output_type": "stream",
     "text": [
      "100%|██████████| 5/5 [00:01<00:00,  3.53it/s]\n",
      " 10%|█         | 7/69 [00:26<03:36,  3.49s/it]"
     ]
    },
    {
     "name": "stdout",
     "output_type": "stream",
     "text": [
      "Making predictions\n"
     ]
    },
    {
     "name": "stderr",
     "output_type": "stream",
     "text": [
      "100%|██████████| 5/5 [00:01<00:00,  3.66it/s]\n",
      " 12%|█▏        | 8/69 [00:29<03:18,  3.26s/it]"
     ]
    },
    {
     "name": "stdout",
     "output_type": "stream",
     "text": [
      "Making predictions\n"
     ]
    },
    {
     "name": "stderr",
     "output_type": "stream",
     "text": [
      "100%|██████████| 5/5 [00:01<00:00,  3.58it/s]\n",
      " 13%|█▎        | 9/69 [00:32<03:10,  3.18s/it]"
     ]
    },
    {
     "name": "stdout",
     "output_type": "stream",
     "text": [
      "Making predictions\n"
     ]
    },
    {
     "name": "stderr",
     "output_type": "stream",
     "text": [
      "100%|██████████| 5/5 [00:01<00:00,  3.76it/s]\n",
      " 14%|█▍        | 10/69 [00:35<03:07,  3.19s/it]"
     ]
    },
    {
     "name": "stdout",
     "output_type": "stream",
     "text": [
      "Making predictions\n"
     ]
    },
    {
     "name": "stderr",
     "output_type": "stream",
     "text": [
      "100%|██████████| 5/5 [00:01<00:00,  3.88it/s]\n",
      " 16%|█▌        | 11/69 [00:38<03:02,  3.14s/it]"
     ]
    },
    {
     "name": "stdout",
     "output_type": "stream",
     "text": [
      "Making predictions\n"
     ]
    },
    {
     "name": "stderr",
     "output_type": "stream",
     "text": [
      "100%|██████████| 5/5 [00:01<00:00,  3.76it/s]\n",
      " 17%|█▋        | 12/69 [00:42<03:09,  3.32s/it]"
     ]
    },
    {
     "name": "stdout",
     "output_type": "stream",
     "text": [
      "Making predictions\n"
     ]
    },
    {
     "name": "stderr",
     "output_type": "stream",
     "text": [
      "100%|██████████| 5/5 [00:01<00:00,  3.92it/s]\n",
      " 19%|█▉        | 13/69 [00:46<03:09,  3.38s/it]"
     ]
    },
    {
     "name": "stdout",
     "output_type": "stream",
     "text": [
      "Making predictions\n"
     ]
    },
    {
     "name": "stderr",
     "output_type": "stream",
     "text": [
      "100%|██████████| 5/5 [00:01<00:00,  3.99it/s]\n",
      " 20%|██        | 14/69 [00:49<03:09,  3.44s/it]"
     ]
    },
    {
     "name": "stdout",
     "output_type": "stream",
     "text": [
      "Making predictions\n"
     ]
    },
    {
     "name": "stderr",
     "output_type": "stream",
     "text": [
      "100%|██████████| 5/5 [00:01<00:00,  4.12it/s]\n",
      " 22%|██▏       | 15/69 [00:52<03:01,  3.35s/it]"
     ]
    },
    {
     "name": "stdout",
     "output_type": "stream",
     "text": [
      "Making predictions\n"
     ]
    },
    {
     "name": "stderr",
     "output_type": "stream",
     "text": [
      "100%|██████████| 5/5 [00:01<00:00,  3.77it/s]\n",
      " 23%|██▎       | 16/69 [00:56<02:58,  3.38s/it]"
     ]
    },
    {
     "name": "stdout",
     "output_type": "stream",
     "text": [
      "Making predictions\n"
     ]
    },
    {
     "name": "stderr",
     "output_type": "stream",
     "text": [
      "100%|██████████| 5/5 [00:01<00:00,  3.95it/s]\n",
      " 25%|██▍       | 17/69 [00:59<02:49,  3.25s/it]"
     ]
    },
    {
     "name": "stdout",
     "output_type": "stream",
     "text": [
      "Making predictions\n"
     ]
    },
    {
     "name": "stderr",
     "output_type": "stream",
     "text": [
      "100%|██████████| 5/5 [00:01<00:00,  3.82it/s]\n",
      " 26%|██▌       | 18/69 [01:02<02:44,  3.22s/it]"
     ]
    },
    {
     "name": "stdout",
     "output_type": "stream",
     "text": [
      "Making predictions\n"
     ]
    },
    {
     "name": "stderr",
     "output_type": "stream",
     "text": [
      "100%|██████████| 5/5 [00:01<00:00,  4.22it/s]\n",
      " 28%|██▊       | 19/69 [01:05<02:35,  3.10s/it]"
     ]
    },
    {
     "name": "stdout",
     "output_type": "stream",
     "text": [
      "Making predictions\n"
     ]
    },
    {
     "name": "stderr",
     "output_type": "stream",
     "text": [
      "100%|██████████| 5/5 [00:01<00:00,  3.84it/s]\n",
      " 29%|██▉       | 20/69 [01:08<02:37,  3.22s/it]"
     ]
    },
    {
     "name": "stdout",
     "output_type": "stream",
     "text": [
      "Making predictions\n"
     ]
    },
    {
     "name": "stderr",
     "output_type": "stream",
     "text": [
      "100%|██████████| 5/5 [00:01<00:00,  3.86it/s]\n",
      " 30%|███       | 21/69 [01:12<02:40,  3.34s/it]"
     ]
    },
    {
     "name": "stdout",
     "output_type": "stream",
     "text": [
      "Making predictions\n"
     ]
    },
    {
     "name": "stderr",
     "output_type": "stream",
     "text": [
      "100%|██████████| 5/5 [00:01<00:00,  3.66it/s]\n",
      " 32%|███▏      | 22/69 [01:16<02:41,  3.43s/it]"
     ]
    },
    {
     "name": "stdout",
     "output_type": "stream",
     "text": [
      "Making predictions\n"
     ]
    },
    {
     "name": "stderr",
     "output_type": "stream",
     "text": [
      "100%|██████████| 5/5 [00:01<00:00,  3.82it/s]\n",
      " 33%|███▎      | 23/69 [01:19<02:36,  3.40s/it]"
     ]
    },
    {
     "name": "stdout",
     "output_type": "stream",
     "text": [
      "Making predictions\n"
     ]
    },
    {
     "name": "stderr",
     "output_type": "stream",
     "text": [
      "100%|██████████| 5/5 [00:01<00:00,  4.11it/s]\n",
      " 35%|███▍      | 24/69 [01:22<02:35,  3.45s/it]"
     ]
    },
    {
     "name": "stdout",
     "output_type": "stream",
     "text": [
      "Making predictions\n"
     ]
    },
    {
     "name": "stderr",
     "output_type": "stream",
     "text": [
      "100%|██████████| 5/5 [00:01<00:00,  3.94it/s]\n",
      " 36%|███▌      | 25/69 [01:26<02:33,  3.50s/it]"
     ]
    },
    {
     "name": "stdout",
     "output_type": "stream",
     "text": [
      "Making predictions\n"
     ]
    },
    {
     "name": "stderr",
     "output_type": "stream",
     "text": [
      "100%|██████████| 5/5 [00:01<00:00,  3.69it/s]\n",
      " 38%|███▊      | 26/69 [01:30<02:31,  3.51s/it]"
     ]
    },
    {
     "name": "stdout",
     "output_type": "stream",
     "text": [
      "Making predictions\n"
     ]
    },
    {
     "name": "stderr",
     "output_type": "stream",
     "text": [
      "100%|██████████| 5/5 [00:01<00:00,  3.72it/s]\n",
      " 39%|███▉      | 27/69 [01:33<02:27,  3.52s/it]"
     ]
    },
    {
     "name": "stdout",
     "output_type": "stream",
     "text": [
      "Making predictions\n"
     ]
    },
    {
     "name": "stderr",
     "output_type": "stream",
     "text": [
      "100%|██████████| 5/5 [00:01<00:00,  4.19it/s]\n",
      " 41%|████      | 28/69 [01:37<02:29,  3.65s/it]"
     ]
    },
    {
     "name": "stdout",
     "output_type": "stream",
     "text": [
      "Making predictions\n"
     ]
    },
    {
     "name": "stderr",
     "output_type": "stream",
     "text": [
      "100%|██████████| 5/5 [00:01<00:00,  4.04it/s]\n",
      " 42%|████▏     | 29/69 [01:40<02:12,  3.31s/it]"
     ]
    },
    {
     "name": "stdout",
     "output_type": "stream",
     "text": [
      "Making predictions\n"
     ]
    },
    {
     "name": "stderr",
     "output_type": "stream",
     "text": [
      "100%|██████████| 5/5 [00:01<00:00,  3.72it/s]\n",
      " 43%|████▎     | 30/69 [01:43<02:10,  3.34s/it]"
     ]
    },
    {
     "name": "stdout",
     "output_type": "stream",
     "text": [
      "Making predictions\n"
     ]
    },
    {
     "name": "stderr",
     "output_type": "stream",
     "text": [
      "100%|██████████| 5/5 [00:01<00:00,  3.88it/s]\n",
      " 45%|████▍     | 31/69 [01:47<02:10,  3.42s/it]"
     ]
    },
    {
     "name": "stdout",
     "output_type": "stream",
     "text": [
      "Making predictions\n"
     ]
    },
    {
     "name": "stderr",
     "output_type": "stream",
     "text": [
      "100%|██████████| 5/5 [00:01<00:00,  3.89it/s]\n",
      " 46%|████▋     | 32/69 [01:51<02:11,  3.57s/it]"
     ]
    },
    {
     "name": "stdout",
     "output_type": "stream",
     "text": [
      "Making predictions\n"
     ]
    },
    {
     "name": "stderr",
     "output_type": "stream",
     "text": [
      "100%|██████████| 5/5 [00:01<00:00,  4.03it/s]\n",
      " 48%|████▊     | 33/69 [01:54<02:11,  3.66s/it]"
     ]
    },
    {
     "name": "stdout",
     "output_type": "stream",
     "text": [
      "Making predictions\n"
     ]
    },
    {
     "name": "stderr",
     "output_type": "stream",
     "text": [
      "100%|██████████| 5/5 [00:01<00:00,  3.94it/s]\n",
      " 49%|████▉     | 34/69 [01:58<02:09,  3.69s/it]"
     ]
    },
    {
     "name": "stdout",
     "output_type": "stream",
     "text": [
      "Making predictions\n"
     ]
    },
    {
     "name": "stderr",
     "output_type": "stream",
     "text": [
      "100%|██████████| 5/5 [00:01<00:00,  4.08it/s]\n",
      " 51%|█████     | 35/69 [02:01<02:00,  3.56s/it]"
     ]
    },
    {
     "name": "stdout",
     "output_type": "stream",
     "text": [
      "Making predictions\n"
     ]
    },
    {
     "name": "stderr",
     "output_type": "stream",
     "text": [
      "100%|██████████| 5/5 [00:01<00:00,  4.11it/s]\n",
      " 52%|█████▏    | 36/69 [02:05<01:55,  3.50s/it]"
     ]
    },
    {
     "name": "stdout",
     "output_type": "stream",
     "text": [
      "Making predictions\n"
     ]
    },
    {
     "name": "stderr",
     "output_type": "stream",
     "text": [
      "100%|██████████| 5/5 [00:01<00:00,  3.84it/s]\n",
      " 54%|█████▎    | 37/69 [02:08<01:45,  3.29s/it]"
     ]
    },
    {
     "name": "stdout",
     "output_type": "stream",
     "text": [
      "Making predictions\n"
     ]
    },
    {
     "name": "stderr",
     "output_type": "stream",
     "text": [
      "100%|██████████| 5/5 [00:01<00:00,  3.92it/s]\n",
      " 55%|█████▌    | 38/69 [02:11<01:45,  3.39s/it]"
     ]
    },
    {
     "name": "stdout",
     "output_type": "stream",
     "text": [
      "Making predictions\n"
     ]
    },
    {
     "name": "stderr",
     "output_type": "stream",
     "text": [
      "100%|██████████| 5/5 [00:01<00:00,  3.61it/s]\n",
      " 57%|█████▋    | 39/69 [02:15<01:45,  3.50s/it]"
     ]
    },
    {
     "name": "stdout",
     "output_type": "stream",
     "text": [
      "Making predictions\n"
     ]
    },
    {
     "name": "stderr",
     "output_type": "stream",
     "text": [
      "100%|██████████| 5/5 [00:01<00:00,  3.99it/s]\n",
      " 58%|█████▊    | 40/69 [02:19<01:44,  3.61s/it]"
     ]
    },
    {
     "name": "stdout",
     "output_type": "stream",
     "text": [
      "Making predictions\n"
     ]
    },
    {
     "name": "stderr",
     "output_type": "stream",
     "text": [
      "100%|██████████| 5/5 [00:01<00:00,  3.92it/s]\n",
      " 59%|█████▉    | 41/69 [02:22<01:40,  3.57s/it]"
     ]
    },
    {
     "name": "stdout",
     "output_type": "stream",
     "text": [
      "Making predictions\n"
     ]
    },
    {
     "name": "stderr",
     "output_type": "stream",
     "text": [
      "100%|██████████| 5/5 [00:01<00:00,  3.95it/s]\n",
      " 61%|██████    | 42/69 [02:26<01:36,  3.57s/it]"
     ]
    },
    {
     "name": "stdout",
     "output_type": "stream",
     "text": [
      "Making predictions\n"
     ]
    },
    {
     "name": "stderr",
     "output_type": "stream",
     "text": [
      "100%|██████████| 5/5 [00:01<00:00,  3.80it/s]\n",
      " 62%|██████▏   | 43/69 [02:30<01:33,  3.59s/it]"
     ]
    },
    {
     "name": "stdout",
     "output_type": "stream",
     "text": [
      "Making predictions\n"
     ]
    },
    {
     "name": "stderr",
     "output_type": "stream",
     "text": [
      "100%|██████████| 5/5 [00:01<00:00,  4.11it/s]\n",
      " 64%|██████▍   | 44/69 [02:33<01:26,  3.44s/it]"
     ]
    },
    {
     "name": "stdout",
     "output_type": "stream",
     "text": [
      "Making predictions\n"
     ]
    },
    {
     "name": "stderr",
     "output_type": "stream",
     "text": [
      "100%|██████████| 5/5 [00:01<00:00,  4.15it/s]\n",
      " 65%|██████▌   | 45/69 [02:36<01:23,  3.48s/it]"
     ]
    },
    {
     "name": "stdout",
     "output_type": "stream",
     "text": [
      "Making predictions\n"
     ]
    },
    {
     "name": "stderr",
     "output_type": "stream",
     "text": [
      "100%|██████████| 5/5 [00:01<00:00,  3.84it/s]\n",
      " 67%|██████▋   | 46/69 [02:40<01:20,  3.52s/it]"
     ]
    },
    {
     "name": "stdout",
     "output_type": "stream",
     "text": [
      "Making predictions\n"
     ]
    },
    {
     "name": "stderr",
     "output_type": "stream",
     "text": [
      "100%|██████████| 5/5 [00:01<00:00,  3.86it/s]\n",
      " 68%|██████▊   | 47/69 [02:43<01:15,  3.42s/it]"
     ]
    },
    {
     "name": "stdout",
     "output_type": "stream",
     "text": [
      "Making predictions\n"
     ]
    },
    {
     "name": "stderr",
     "output_type": "stream",
     "text": [
      "100%|██████████| 5/5 [00:01<00:00,  3.97it/s]\n",
      " 70%|██████▉   | 48/69 [02:48<01:20,  3.82s/it]"
     ]
    },
    {
     "name": "stdout",
     "output_type": "stream",
     "text": [
      "Making predictions\n"
     ]
    },
    {
     "name": "stderr",
     "output_type": "stream",
     "text": [
      "100%|██████████| 5/5 [00:01<00:00,  3.88it/s]\n",
      " 71%|███████   | 49/69 [02:51<01:14,  3.74s/it]"
     ]
    },
    {
     "name": "stdout",
     "output_type": "stream",
     "text": [
      "Making predictions\n"
     ]
    },
    {
     "name": "stderr",
     "output_type": "stream",
     "text": [
      "100%|██████████| 5/5 [00:01<00:00,  3.87it/s]\n",
      " 72%|███████▏  | 50/69 [02:55<01:09,  3.65s/it]"
     ]
    },
    {
     "name": "stdout",
     "output_type": "stream",
     "text": [
      "Making predictions\n"
     ]
    },
    {
     "name": "stderr",
     "output_type": "stream",
     "text": [
      "100%|██████████| 5/5 [00:01<00:00,  3.95it/s]\n",
      " 74%|███████▍  | 51/69 [02:58<01:01,  3.39s/it]"
     ]
    },
    {
     "name": "stdout",
     "output_type": "stream",
     "text": [
      "Making predictions\n"
     ]
    },
    {
     "name": "stderr",
     "output_type": "stream",
     "text": [
      "100%|██████████| 5/5 [00:01<00:00,  4.01it/s]\n",
      " 75%|███████▌  | 52/69 [03:01<00:57,  3.39s/it]"
     ]
    },
    {
     "name": "stdout",
     "output_type": "stream",
     "text": [
      "Making predictions\n"
     ]
    },
    {
     "name": "stderr",
     "output_type": "stream",
     "text": [
      "100%|██████████| 5/5 [00:01<00:00,  3.98it/s]\n",
      " 77%|███████▋  | 53/69 [03:05<00:55,  3.47s/it]"
     ]
    },
    {
     "name": "stdout",
     "output_type": "stream",
     "text": [
      "Making predictions\n"
     ]
    },
    {
     "name": "stderr",
     "output_type": "stream",
     "text": [
      "100%|██████████| 5/5 [00:01<00:00,  4.19it/s]\n",
      " 78%|███████▊  | 54/69 [03:08<00:51,  3.45s/it]"
     ]
    },
    {
     "name": "stdout",
     "output_type": "stream",
     "text": [
      "Making predictions\n"
     ]
    },
    {
     "name": "stderr",
     "output_type": "stream",
     "text": [
      "100%|██████████| 5/5 [00:01<00:00,  4.11it/s]\n",
      " 80%|███████▉  | 55/69 [03:12<00:50,  3.62s/it]"
     ]
    },
    {
     "name": "stdout",
     "output_type": "stream",
     "text": [
      "Making predictions\n"
     ]
    },
    {
     "name": "stderr",
     "output_type": "stream",
     "text": [
      "100%|██████████| 5/5 [00:01<00:00,  4.10it/s]\n",
      " 81%|████████  | 56/69 [03:16<00:48,  3.70s/it]"
     ]
    },
    {
     "name": "stdout",
     "output_type": "stream",
     "text": [
      "Making predictions\n"
     ]
    },
    {
     "name": "stderr",
     "output_type": "stream",
     "text": [
      "100%|██████████| 5/5 [00:01<00:00,  3.81it/s]\n",
      " 83%|████████▎ | 57/69 [03:19<00:43,  3.62s/it]"
     ]
    },
    {
     "name": "stdout",
     "output_type": "stream",
     "text": [
      "Making predictions\n"
     ]
    },
    {
     "name": "stderr",
     "output_type": "stream",
     "text": [
      "100%|██████████| 5/5 [00:01<00:00,  3.78it/s]\n",
      " 84%|████████▍ | 58/69 [03:23<00:39,  3.60s/it]"
     ]
    },
    {
     "name": "stdout",
     "output_type": "stream",
     "text": [
      "Making predictions\n"
     ]
    },
    {
     "name": "stderr",
     "output_type": "stream",
     "text": [
      "100%|██████████| 5/5 [00:01<00:00,  3.31it/s]\n",
      " 86%|████████▌ | 59/69 [03:26<00:35,  3.59s/it]"
     ]
    },
    {
     "name": "stdout",
     "output_type": "stream",
     "text": [
      "Making predictions\n"
     ]
    },
    {
     "name": "stderr",
     "output_type": "stream",
     "text": [
      "100%|██████████| 5/5 [00:01<00:00,  4.28it/s]\n",
      " 87%|████████▋ | 60/69 [03:29<00:30,  3.34s/it]"
     ]
    },
    {
     "name": "stdout",
     "output_type": "stream",
     "text": [
      "Making predictions\n"
     ]
    },
    {
     "name": "stderr",
     "output_type": "stream",
     "text": [
      "100%|██████████| 5/5 [00:01<00:00,  4.14it/s]\n",
      " 88%|████████▊ | 61/69 [03:32<00:26,  3.29s/it]"
     ]
    },
    {
     "name": "stdout",
     "output_type": "stream",
     "text": [
      "Making predictions\n"
     ]
    },
    {
     "name": "stderr",
     "output_type": "stream",
     "text": [
      "100%|██████████| 5/5 [00:01<00:00,  3.90it/s]\n",
      " 90%|████████▉ | 62/69 [03:36<00:23,  3.30s/it]"
     ]
    },
    {
     "name": "stdout",
     "output_type": "stream",
     "text": [
      "Making predictions\n"
     ]
    },
    {
     "name": "stderr",
     "output_type": "stream",
     "text": [
      "100%|██████████| 5/5 [00:01<00:00,  3.83it/s]\n",
      " 91%|█████████▏| 63/69 [03:39<00:20,  3.39s/it]"
     ]
    },
    {
     "name": "stdout",
     "output_type": "stream",
     "text": [
      "Making predictions\n"
     ]
    },
    {
     "name": "stderr",
     "output_type": "stream",
     "text": [
      "100%|██████████| 5/5 [00:01<00:00,  4.06it/s]\n",
      " 93%|█████████▎| 64/69 [03:43<00:16,  3.36s/it]"
     ]
    },
    {
     "name": "stdout",
     "output_type": "stream",
     "text": [
      "Making predictions\n"
     ]
    },
    {
     "name": "stderr",
     "output_type": "stream",
     "text": [
      "100%|██████████| 5/5 [00:01<00:00,  4.12it/s]\n",
      " 94%|█████████▍| 65/69 [03:46<00:13,  3.40s/it]"
     ]
    },
    {
     "name": "stdout",
     "output_type": "stream",
     "text": [
      "Making predictions\n"
     ]
    },
    {
     "name": "stderr",
     "output_type": "stream",
     "text": [
      "100%|██████████| 5/5 [00:01<00:00,  4.05it/s]\n",
      " 96%|█████████▌| 66/69 [03:49<00:09,  3.31s/it]"
     ]
    },
    {
     "name": "stdout",
     "output_type": "stream",
     "text": [
      "Making predictions\n"
     ]
    },
    {
     "name": "stderr",
     "output_type": "stream",
     "text": [
      "100%|██████████| 5/5 [00:01<00:00,  4.13it/s]\n",
      " 97%|█████████▋| 67/69 [03:52<00:06,  3.20s/it]"
     ]
    },
    {
     "name": "stdout",
     "output_type": "stream",
     "text": [
      "Making predictions\n"
     ]
    },
    {
     "name": "stderr",
     "output_type": "stream",
     "text": [
      "100%|██████████| 5/5 [00:01<00:00,  3.66it/s]\n",
      " 99%|█████████▊| 68/69 [03:56<00:03,  3.26s/it]"
     ]
    },
    {
     "name": "stdout",
     "output_type": "stream",
     "text": [
      "Making predictions\n"
     ]
    },
    {
     "name": "stderr",
     "output_type": "stream",
     "text": [
      "100%|██████████| 5/5 [00:01<00:00,  4.08it/s]\n",
      "100%|██████████| 69/69 [03:59<00:00,  3.46s/it]\n"
     ]
    }
   ],
   "source": [
    "pred_list = list()\n",
    "model_mat_dict = dict()\n",
    "for assembly in tqdm(assemblies):\n",
    "    feature_file = feature_file_dict[assembly]\n",
    "    fna_file = fna_file_dict[assembly]\n",
    "    faa_file = faa_file_dict[assembly]\n",
    "    if x_file_dict is not None:\n",
    "        X = pd.read_parquet(x_file_dict[assembly])\n",
    "    else:\n",
    "        X = None\n",
    "    preds, model_mat = defense_predictor(feature_file, fna_file, \n",
    "                                         faa_file, rep_df=rep_df, \n",
    "                                         model_feature_df=X)\n",
    "    pred_list.append(preds)\n",
    "    model_mat_dict[assembly] = model_mat"
   ]
  },
  {
   "cell_type": "code",
   "execution_count": 17,
   "id": "d1475abc-86b3-4fc5-98db-9b9ae50c6e0d",
   "metadata": {},
   "outputs": [],
   "source": [
    "cat_pred_df = pd.concat(pred_list)"
   ]
  },
  {
   "cell_type": "code",
   "execution_count": 18,
   "id": "b228850a-6972-4704-b6e1-94f9e07b6feb",
   "metadata": {},
   "outputs": [
    {
     "data": {
      "text/plain": [
       "4279"
      ]
     },
     "execution_count": 18,
     "metadata": {},
     "output_type": "execute_result"
    }
   ],
   "source": [
    "(cat_pred_df['mean_log_odds'] > 0).sum()"
   ]
  },
  {
   "cell_type": "markdown",
   "id": "fba3bdac-cc51-452c-b004-dbac4b1c301e",
   "metadata": {},
   "source": [
    "## Search ecor collection for homologs of known systems"
   ]
  },
  {
   "cell_type": "code",
   "execution_count": 16,
   "id": "b11248a3-e2ba-4bec-af14-ef8b7e2db76e",
   "metadata": {},
   "outputs": [],
   "source": [
    "def run_defense_finder(assembly_file, out_dir):\n",
    "    assembly_stub = assembly_file.split('.')[0]\n",
    "    assembly_out_dir = out_dir + assembly_stub\n",
    "    os.mkdir(assembly_out_dir)\n",
    "    subprocess.run(['conda',\n",
    "                    'run',\n",
    "                    '-n',\n",
    "                    'beaker',\n",
    "                    'defense-finder', 'run', \n",
    "                    '-w', '1',\n",
    "                    '-o', assembly_out_dir,\n",
    "                    '../data/interim/ecor_assembly_faa/' + assembly_file], \n",
    "                   stdout=subprocess.DEVNULL)"
   ]
  },
  {
   "cell_type": "code",
   "execution_count": 13,
   "id": "0ce9f5ba-09c9-4be7-be99-7594ba811c17",
   "metadata": {},
   "outputs": [],
   "source": [
    "faa_dir = '../data/interim/ecor_assembly_faa/'"
   ]
  },
  {
   "cell_type": "code",
   "execution_count": 9,
   "id": "64be282a-c799-401a-8d2c-513b289ac13a",
   "metadata": {},
   "outputs": [],
   "source": [
    "os.mkdir(faa_dir)"
   ]
  },
  {
   "cell_type": "code",
   "execution_count": 12,
   "id": "e2c99636-9a31-425e-83d7-5421c6fde044",
   "metadata": {},
   "outputs": [],
   "source": [
    "for f in faa_files:\n",
    "    os.system('cp ../data/interim/ecor_assemblies/' + f + ' ' + faa_dir)"
   ]
  },
  {
   "cell_type": "code",
   "execution_count": 19,
   "id": "7f1d6817-cce9-431e-a488-88ceb398f9ab",
   "metadata": {},
   "outputs": [],
   "source": [
    "ecor_df_dir = '../data/interim/ecor_defense_finder_results/'"
   ]
  },
  {
   "cell_type": "code",
   "execution_count": 17,
   "id": "2e4aac93-acb2-4acf-81f2-fc2a3b199746",
   "metadata": {},
   "outputs": [
    {
     "name": "stderr",
     "output_type": "stream",
     "text": [
      "100%|██████████| 71/71 [00:04<00:00, 15.21it/s]\n"
     ]
    }
   ],
   "source": [
    "_ = Parallel(n_jobs=40)(delayed(run_defense_finder)\n",
    "                        (f, ecor_df_dir) \n",
    "                         for f in tqdm(assembly_files))"
   ]
  },
  {
   "cell_type": "code",
   "execution_count": 20,
   "id": "00a80773-ad09-4de0-9c8b-4393b1f6ebd6",
   "metadata": {},
   "outputs": [],
   "source": [
    "defense_finder_results_dir = [x for x in os.listdir('../data/interim/ecor_defense_finder_results/') if 'GCF' in x]\n"
   ]
  },
  {
   "cell_type": "code",
   "execution_count": 21,
   "id": "cea9c1ce-ba5c-4b62-94c4-3b0409683f5b",
   "metadata": {},
   "outputs": [
    {
     "name": "stderr",
     "output_type": "stream",
     "text": [
      "100%|██████████| 69/69 [00:06<00:00, 11.24it/s]\n"
     ]
    }
   ],
   "source": [
    "defense_genes_list = []\n",
    "defense_hmmer_list = []\n",
    "for assembly in tqdm(defense_finder_results_dir):\n",
    "    genes_df = pd.read_csv('../data/interim/ecor_defense_finder_results/' + assembly + '/' + 'defense_finder_genes.tsv', \n",
    "                           sep='\\t')\n",
    "    genes_df['assembly'] = assembly\n",
    "    defense_genes_list.append(genes_df)\n",
    "    hmmer_df = pd.read_csv('../data/interim/ecor_defense_finder_results/' + assembly + '/' + 'defense_finder_hmmer.tsv', \n",
    "                           sep='\\t')\n",
    "    hmmer_df['assembly'] = assembly\n",
    "    defense_hmmer_list.append(hmmer_df)\n"
   ]
  },
  {
   "cell_type": "code",
   "execution_count": 22,
   "id": "e0991fde-b4d7-42f6-9a05-df57ad066804",
   "metadata": {},
   "outputs": [],
   "source": [
    "defense_finder_homologs = pd.concat(defense_hmmer_list)\n",
    "defense_finder_homologs['protein_assembly'] = defense_finder_homologs['hit_id'] + '_' + defense_finder_homologs['assembly']\n",
    "unique_defense_finder_homologs = defense_finder_homologs['protein_assembly'].unique()\n",
    "dedup_defense_finder_homolog_df = (defense_finder_homologs.groupby('protein_assembly')\n",
    "                                   .agg(defense_homolog_names=('gene_name', lambda x: ', '.join(x)))\n",
    "                                   .reset_index())"
   ]
  },
  {
   "cell_type": "code",
   "execution_count": 23,
   "id": "3ca4cf51-b80a-4345-b2bf-8a3f9d8e7961",
   "metadata": {},
   "outputs": [],
   "source": [
    "defense_finder_systems = pd.concat(defense_genes_list)\n",
    "defense_finder_systems['protein_assembly'] = defense_finder_systems['hit_id'] + '_' + defense_finder_systems['assembly']\n",
    "unique_defense_finder_systems = defense_finder_systems['protein_assembly'].unique()\n",
    "breif_defense_finder_systems = defense_finder_systems[['protein_assembly', 'sys_id']]"
   ]
  },
  {
   "cell_type": "code",
   "execution_count": 24,
   "id": "4d016051-8530-4385-9bf8-065c17087723",
   "metadata": {},
   "outputs": [],
   "source": [
    "merged_predictions = cat_pred_df\n",
    "merged_predictions['assembly_stub'] = merged_predictions['assembly'].str.split('.', expand=True)[0]\n",
    "merged_predictions['protein_assembly'] = merged_predictions['product_accession'] + '_' + merged_predictions['assembly_stub']\n",
    "merged_predictions['defense_homolog'] = merged_predictions['protein_assembly'].isin(unique_defense_finder_homologs)\n",
    "merged_predictions['defense_system_protein'] = merged_predictions['protein_assembly'].isin(unique_defense_finder_systems)\n",
    "merged_predictions = (merged_predictions.merge(dedup_defense_finder_homolog_df, how='left', \n",
    "                                               on='protein_assembly')\n",
    "                      .merge(breif_defense_finder_systems, how='left', on='protein_assembly'))\n"
   ]
  },
  {
   "cell_type": "code",
   "execution_count": 25,
   "id": "502938a2-936a-43c2-a01b-55b3fba8e31f",
   "metadata": {},
   "outputs": [
    {
     "data": {
      "image/png": "[encoded data removed]",
      "text/plain": [
       "<Figure size 400x400 with 1 Axes>"
      ]
     },
     "metadata": {},
     "output_type": "display_data"
    }
   ],
   "source": [
    "plt.subplots(figsize=(4,4))\n",
    "sns.kdeplot(data=merged_predictions[merged_predictions['defense_system_protein']], x='mean_log_odds')\n",
    "sns.despine()"
   ]
  },
  {
   "cell_type": "code",
   "execution_count": 26,
   "id": "b4dcd182-f980-47d9-850d-cf071f8cf682",
   "metadata": {},
   "outputs": [
    {
     "data": {
      "text/plain": [
       "2501"
      ]
     },
     "execution_count": 26,
     "metadata": {},
     "output_type": "execute_result"
    }
   ],
   "source": [
    "((merged_predictions['mean_log_odds'] > 0) &\n",
    " (~merged_predictions['defense_homolog'])).sum()"
   ]
  },
  {
   "cell_type": "markdown",
   "id": "ee5ad2f3-0240-4667-b2d8-4a812f36e675",
   "metadata": {},
   "source": [
    "## Define operons by runs seperated by <30 bp on the same strand"
   ]
  },
  {
   "cell_type": "code",
   "execution_count": 27,
   "id": "f55aab86-6505-43da-82cd-ade5287f926c",
   "metadata": {},
   "outputs": [],
   "source": [
    "sorted_predictions = merged_predictions.sort_values(['genomic_accession', 'start'], ascending=True)"
   ]
  },
  {
   "cell_type": "code",
   "execution_count": 28,
   "id": "f6862f53-c97f-49b4-b9c7-32a99a951749",
   "metadata": {},
   "outputs": [
    {
     "name": "stderr",
     "output_type": "stream",
     "text": [
      "100%|██████████| 321347/321347 [00:15<00:00, 20960.50it/s]\n"
     ]
    }
   ],
   "source": [
    "max_gap = 30\n",
    "first = True\n",
    "operon_list = []\n",
    "for _, row in tqdm(sorted_predictions.iterrows(), \n",
    "                   total=len(sorted_predictions),\n",
    "                   position=0):\n",
    "    curr_start = row['start']\n",
    "    curr_accession = row['genomic_accession']\n",
    "    curr_strand = row['strand']\n",
    "    if first:\n",
    "        operon = curr_accession + '|' + str(curr_start) + '|' + curr_strand\n",
    "        first = False\n",
    "    else:\n",
    "        if (((curr_start - prev_end) > max_gap) or \n",
    "            (curr_accession != prev_accession) or \n",
    "            (curr_strand != prev_strand)):\n",
    "            operon = curr_accession + '|' + str(curr_start) + '|' + curr_strand\n",
    "    operon_list.append(operon)\n",
    "    prev_end = row['end']\n",
    "    prev_accession = row['genomic_accession']\n",
    "    prev_strand = row['strand']\n",
    "    "
   ]
  },
  {
   "cell_type": "code",
   "execution_count": 29,
   "id": "bd2b1e2e-13ca-4452-87b7-ad4b66c085ae",
   "metadata": {},
   "outputs": [],
   "source": [
    "sorted_predictions['operon'] = operon_list"
   ]
  },
  {
   "cell_type": "markdown",
   "id": "a65aea9e-5479-4acc-8c31-d439f1b25101",
   "metadata": {},
   "source": [
    "## Mark operons at the edge of each contig"
   ]
  },
  {
   "cell_type": "code",
   "execution_count": 30,
   "id": "b874ca75-d055-43cc-97e3-e56c0e5ca305",
   "metadata": {},
   "outputs": [],
   "source": [
    "sorted_predictions['contig_end'] = (sorted_predictions.groupby('genomic_accession')\n",
    "                                    .apply(lambda df: (df['start'] == df['start'].min()) | \n",
    "                                               (df['end'] == df['end'].max()))\n",
    "                                    .reset_index(level=0, drop=True))"
   ]
  },
  {
   "cell_type": "markdown",
   "id": "c8ed0df1-eb25-4d41-888d-7ff168fa79a1",
   "metadata": {},
   "source": [
    "## Cluster proteins into homologous groups"
   ]
  },
  {
   "cell_type": "code",
   "execution_count": 34,
   "id": "787fd48e-9487-4805-bbb7-930c8ef7ad83",
   "metadata": {},
   "outputs": [],
   "source": [
    "conda_commands = ['conda', 'run', '-n', 'beaker']"
   ]
  },
  {
   "cell_type": "code",
   "execution_count": null,
   "id": "61fe1bbb-bd8b-4461-bc1b-b4574730b340",
   "metadata": {},
   "outputs": [],
   "source": [
    "target = ecor_unique_seqs_fa\n",
    "target_db = '../data/interim/mmseqs_working_dir/ecor_unique_seqs_db'\n",
    "out_db = '../data3/interim/mmseqs_dbs/ecor_unique_seqs_db_clust'\n",
    "threads = str(48)"
   ]
  },
  {
   "cell_type": "code",
   "execution_count": 32,
   "id": "f77a4e8f-84a1-47aa-a612-7c31c25854f3",
   "metadata": {},
   "outputs": [],
   "source": [
    "out_tsv = '../data3/interim/ecor_clusters.tsv'"
   ]
  },
  {
   "cell_type": "code",
   "execution_count": 52,
   "id": "0d6aca02-7a06-4391-a26b-68f3926c919d",
   "metadata": {
    "collapsed": true,
    "jupyter": {
     "outputs_hidden": true
    },
    "tags": []
   },
   "outputs": [
    {
     "name": "stdout",
     "output_type": "stream",
     "text": [
      "createdb ../data/interim/ecor_unique_seqs.faa ../data/interim/mmseqs_working_dir/ecor_unique_seqs_db --dbtype 1 \n",
      "\n",
      "MMseqs Version:       \t13.45111\n",
      "Database type         \t1\n",
      "Shuffle input database\ttrue\n",
      "Createdb mode         \t0\n",
      "Write lookup file     \t1\n",
      "Offset of numeric ids \t0\n",
      "Compressed            \t0\n",
      "Verbosity             \t3\n",
      "\n",
      "Converting sequences\n",
      "[=======\n",
      "Time for merging to ecor_unique_seqs_db_h: 0h 0m 0s 140ms\n",
      "Time for merging to ecor_unique_seqs_db: 0h 0m 0s 184ms\n",
      "Database type: Aminoacid\n",
      "Time for processing: 0h 0m 1s 27ms\n",
      "\n"
     ]
    },
    {
     "data": {
      "text/plain": [
       "0"
      ]
     },
     "execution_count": 52,
     "metadata": {},
     "output_type": "execute_result"
    }
   ],
   "source": [
    "os.system(' '.join(conda_commands +\n",
    "                   ['mmseqs createdb ' + target + ' ' + target_db + ' --dbtype 1']))"
   ]
  },
  {
   "cell_type": "code",
   "execution_count": 53,
   "id": "cdcbfa7b-e4ee-4423-9d7e-94d8e44f10d4",
   "metadata": {
    "collapsed": true,
    "jupyter": {
     "outputs_hidden": true
    },
    "tags": []
   },
   "outputs": [
    {
     "name": "stdout",
     "output_type": "stream",
     "text": [
      "createindex ../data/interim/mmseqs_working_dir/ecor_unique_seqs_db ../data/tmp \n",
      "\n",
      "MMseqs Version:          \t13.45111\n",
      "Seed substitution matrix \tnucl:nucleotide.out,aa:VTML80.out\n",
      "k-mer length             \t0\n",
      "Alphabet size            \tnucl:5,aa:21\n",
      "Compositional bias       \t1\n",
      "Max sequence length      \t65535\n",
      "Max results per query    \t300\n",
      "Mask residues            \t1\n",
      "Mask lower case residues \t0\n",
      "Spaced k-mers            \t1\n",
      "Spaced k-mer pattern     \t\n",
      "Sensitivity              \t7.5\n",
      "k-score                  \t0\n",
      "Check compatible         \t0\n",
      "Search type              \t0\n",
      "Split database           \t0\n",
      "Split memory limit       \t0\n",
      "Verbosity                \t3\n",
      "Threads                  \t96\n",
      "Min codons in orf        \t30\n",
      "Max codons in length     \t32734\n",
      "Max orf gaps             \t2147483647\n",
      "Contig start mode        \t2\n",
      "Contig end mode          \t2\n",
      "Orf start mode           \t1\n",
      "Forward frames           \t1,2,3\n",
      "Reverse frames           \t1,2,3\n",
      "Translation table        \t1\n",
      "Translate orf            \t0\n",
      "Use all table starts     \tfalse\n",
      "Offset of numeric ids    \t0\n",
      "Create lookup            \t0\n",
      "Compressed               \t0\n",
      "Add orf stop             \tfalse\n",
      "Overlap between sequences\t0\n",
      "Sequence split mode      \t1\n",
      "Header split mode        \t0\n",
      "Strand selection         \t1\n",
      "Remove temporary files   \tfalse\n",
      "\n",
      "createindex ../data/interim/mmseqs_working_dir/ecor_unique_seqs_db ../data/tmp \n",
      "\n",
      "MMseqs Version:          \t13.45111\n",
      "Seed substitution matrix \tnucl:nucleotide.out,aa:VTML80.out\n",
      "k-mer length             \t0\n",
      "Alphabet size            \tnucl:5,aa:21\n",
      "Compositional bias       \t1\n",
      "Max sequence length      \t65535\n",
      "Max results per query    \t300\n",
      "Mask residues            \t1\n",
      "Mask lower case residues \t0\n",
      "Spaced k-mers            \t1\n",
      "Spaced k-mer pattern     \t\n",
      "Sensitivity              \t7.5\n",
      "k-score                  \t0\n",
      "Check compatible         \t0\n",
      "Search type              \t0\n",
      "Split database           \t0\n",
      "Split memory limit       \t0\n",
      "Verbosity                \t3\n",
      "Threads                  \t96\n",
      "Min codons in orf        \t30\n",
      "Max codons in length     \t32734\n",
      "Max orf gaps             \t2147483647\n",
      "Contig start mode        \t2\n",
      "Contig end mode          \t2\n",
      "Orf start mode           \t1\n",
      "Forward frames           \t1,2,3\n",
      "Reverse frames           \t1,2,3\n",
      "Translation table        \t1\n",
      "Translate orf            \t0\n",
      "Use all table starts     \tfalse\n",
      "Offset of numeric ids    \t0\n",
      "Create lookup            \t0\n",
      "Compressed               \t0\n",
      "Add orf stop             \tfalse\n",
      "Overlap between sequences\t0\n",
      "Sequence split mode      \t1\n",
      "Header split mode        \t0\n",
      "Strand selection         \t1\n",
      "Remove temporary files   \tfalse\n",
      "\n",
      "indexdb ../data/interim/mmseqs_working_dir/ecor_unique_seqs_db ../data/interim/mmseqs_working_dir/ecor_unique_seqs_db --seed-sub-mat nucl:nucleotide.out,aa:VTML80.out -k 0 --alph-size nucl:5,aa:21 --comp-bias-corr 1 --max-seq-len 65535 --max-seqs 300 --mask 1 --mask-lower-case 0 --spaced-kmer-mode 1 -s 7.5 --k-score 0 --check-compatible 0 --search-type 0 --split 0 --split-memory-limit 0 -v 3 --threads 96 \n",
      "\n",
      "Estimated memory consumption: 1G\n",
      "Write VERSION (0)\n",
      "Write META (1)\n",
      "Write SCOREMATRIX3MER (4)\n",
      "Write SCOREMATRIX2MER (3)\n",
      "Write SCOREMATRIXNAME (2)\n",
      "Write SPACEDPATTERN (23)\n",
      "Write GENERATOR (22)\n",
      "Write DBR1INDEX (5)\n",
      "Write DBR1DATA (6)\n",
      "Write HDR1INDEX (18)\n",
      "Write HDR1DATA (19)\n",
      "Index table: counting k-mers\n",
      "[=================================================================] 79.77K 0s 159ms\n",
      "Index table: Masked residues: 194246\n",
      "Index table: fill\n",
      "[=================================================================] 79.77K 0s 115ms\n",
      "Index statistics\n",
      "Entries:          27412948\n",
      "DB size:          645 MB\n",
      "Avg k-mer size:   0.428327\n",
      "Top 10 k-mers\n",
      "    GPGGTL\t416\n",
      "    GQQVAR\t279\n",
      "    LIGTGK\t188\n",
      "    VDAVEN\t185\n",
      "    LGNAST\t184\n",
      "    DAGTGQ\t157\n",
      "    GQQIAR\t157\n",
      "    QLGQRV\t153\n",
      "    GLYRYY\t152\n",
      "    GEGGVV\t144\n",
      "Write ENTRIES (9)\n",
      "Write ENTRIESOFFSETS (10)\n",
      "Write SEQINDEXDATASIZE (15)\n",
      "Write SEQINDEXSEQOFFSET (16)\n",
      "Write SEQINDEXDATA (14)\n",
      "Write ENTRIESNUM (12)\n",
      "Write SEQCOUNT (13)\n",
      "Time for merging to ecor_unique_seqs_db.idx: 0h 0m 0s 3ms\n",
      "Time for processing: 0h 0m 1s 742ms\n",
      "\n"
     ]
    },
    {
     "data": {
      "text/plain": [
       "0"
      ]
     },
     "execution_count": 53,
     "metadata": {},
     "output_type": "execute_result"
    }
   ],
   "source": [
    "os.system(' '.join(conda_commands +\n",
    "                   ['mmseqs createindex ' + target_db + ' ../data/tmp']))"
   ]
  },
  {
   "cell_type": "code",
   "execution_count": 37,
   "id": "281fed1a-97e0-4f4f-8242-5829a0ae2b05",
   "metadata": {
    "collapsed": true,
    "jupyter": {
     "outputs_hidden": true
    },
    "tags": []
   },
   "outputs": [
    {
     "name": "stdout",
     "output_type": "stream",
     "text": [
      "cluster ../data/interim/mmseqs_working_dir/ecor_unique_seqs_db ../data3/interim/mmseqs_dbs/ecor_unique_seqs_db_clust /state/partition1/slurm_tmp/1081985.0.0 -c 0.8 --min-seq-id 0.3 --threads 48 --cluster-mode 0 --cov-mode 0 -s 6 \n",
      "\n",
      "MMseqs Version:                     \t13.45111\n",
      "Substitution matrix                 \tnucl:nucleotide.out,aa:blosum62.out\n",
      "Seed substitution matrix            \tnucl:nucleotide.out,aa:VTML80.out\n",
      "Sensitivity                         \t6\n",
      "k-mer length                        \t0\n",
      "k-score                             \t2147483647\n",
      "Alphabet size                       \tnucl:5,aa:21\n",
      "Max sequence length                 \t65535\n",
      "Max results per query               \t20\n",
      "Split database                      \t0\n",
      "Split mode                          \t2\n",
      "Split memory limit                  \t0\n",
      "Coverage threshold                  \t0.8\n",
      "Coverage mode                       \t0\n",
      "Compositional bias                  \t1\n",
      "Diagonal scoring                    \ttrue\n",
      "Exact k-mer matching                \t0\n",
      "Mask residues                       \t1\n",
      "Mask lower case residues            \t0\n",
      "Minimum diagonal score              \t15\n",
      "Include identical seq. id.          \tfalse\n",
      "Spaced k-mers                       \t1\n",
      "Preload mode                        \t0\n",
      "Pseudo count a                      \t1\n",
      "Pseudo count b                      \t1.5\n",
      "Spaced k-mer pattern                \t\n",
      "Local temporary path                \t\n",
      "Threads                             \t48\n",
      "Compressed                          \t0\n",
      "Verbosity                           \t3\n",
      "Add backtrace                       \tfalse\n",
      "Alignment mode                      \t3\n",
      "Alignment mode                      \t0\n",
      "Allow wrapped scoring               \tfalse\n",
      "E-value threshold                   \t0.001\n",
      "Seq. id. threshold                  \t0.3\n",
      "Min alignment length                \t0\n",
      "Seq. id. mode                       \t0\n",
      "Alternative alignments              \t0\n",
      "Max reject                          \t2147483647\n",
      "Max accept                          \t2147483647\n",
      "Score bias                          \t0\n",
      "Realign hits                        \tfalse\n",
      "Realign score bias                  \t-0.2\n",
      "Realign max seqs                    \t2147483647\n",
      "Gap open cost                       \tnucl:5,aa:11\n",
      "Gap extension cost                  \tnucl:2,aa:1\n",
      "Zdrop                               \t40\n",
      "Rescore mode                        \t0\n",
      "Remove hits by seq. id. and coverage\tfalse\n",
      "Sort results                        \t0\n",
      "Cluster mode                        \t0\n",
      "Max connected component depth       \t1000\n",
      "Similarity type                     \t2\n",
      "Single step clustering              \tfalse\n",
      "Cascaded clustering steps           \t3\n",
      "Cluster reassign                    \tfalse\n",
      "Remove temporary files              \tfalse\n",
      "Force restart with latest tmp       \tfalse\n",
      "MPI runner                          \t\n",
      "k-mers per sequence                 \t21\n",
      "Scale k-mers per sequence           \tnucl:0.200,aa:0.000\n",
      "Adjust k-mer length                 \tfalse\n",
      "Shift hash                          \t67\n",
      "Include only extendable             \tfalse\n",
      "Skip repeating k-mers               \tfalse\n",
      "\n",
      "Set cluster iterations to 3\n",
      "linclust ../data/interim/mmseqs_working_dir/ecor_unique_seqs_db /state/partition1/slurm_tmp/1081985.0.0/12789195414343563649/clu_redundancy /state/partition1/slurm_tmp/1081985.0.0/12789195414343563649/linclust --cluster-mode 0 --max-iterations 1000 --similarity-type 2 --threads 48 --compressed 0 -v 3 --sub-mat nucl:nucleotide.out,aa:blosum62.out -a 0 --alignment-mode 3 --alignment-output-mode 0 --wrapped-scoring 0 -e 0.001 --min-seq-id 0.3 --min-aln-len 0 --seq-id-mode 0 --alt-ali 0 -c 0.8 --cov-mode 0 --max-seq-len 65535 --comp-bias-corr 1 --max-rejected 2147483647 --max-accept 2147483647 --add-self-matches 0 --db-load-mode 0 --pca 1 --pcb 1.5 --score-bias 0 --realign 0 --realign-score-bias -0.2 --realign-max-seqs 2147483647 --gap-open nucl:5,aa:11 --gap-extend nucl:2,aa:1 --zdrop 40 --alph-size nucl:5,aa:13 --kmer-per-seq 21 --spaced-kmer-mode 1 --kmer-per-seq-scale nucl:0.200,aa:0.000 --adjust-kmer-len 0 --mask 0 --mask-lower-case 0 -k 0 --hash-shift 67 --split-memory-limit 0 --include-only-extendable 0 --ignore-multi-kmer 0 --rescore-mode 0 --filter-hits 0 --sort-results 0 --remove-tmp-files 0 --force-reuse 0 \n",
      "\n",
      "kmermatcher ../data/interim/mmseqs_working_dir/ecor_unique_seqs_db /state/partition1/slurm_tmp/1081985.0.0/12789195414343563649/linclust/15075983053153717153/pref --sub-mat nucl:nucleotide.out,aa:blosum62.out --alph-size nucl:5,aa:13 --min-seq-id 0.3 --kmer-per-seq 21 --spaced-kmer-mode 1 --kmer-per-seq-scale nucl:0.200,aa:0.000 --adjust-kmer-len 0 --mask 0 --mask-lower-case 0 --cov-mode 0 -k 0 -c 0.8 --max-seq-len 65535 --hash-shift 67 --split-memory-limit 0 --include-only-extendable 0 --ignore-multi-kmer 0 --threads 48 --compressed 0 -v 3 \n",
      "\n",
      "kmermatcher ../data/interim/mmseqs_working_dir/ecor_unique_seqs_db /state/partition1/slurm_tmp/1081985.0.0/12789195414343563649/linclust/15075983053153717153/pref --sub-mat nucl:nucleotide.out,aa:blosum62.out --alph-size nucl:5,aa:13 --min-seq-id 0.3 --kmer-per-seq 21 --spaced-kmer-mode 1 --kmer-per-seq-scale nucl:0.200,aa:0.000 --adjust-kmer-len 0 --mask 0 --mask-lower-case 0 --cov-mode 0 -k 0 -c 0.8 --max-seq-len 65535 --hash-shift 67 --split-memory-limit 0 --include-only-extendable 0 --ignore-multi-kmer 0 --threads 48 --compressed 0 -v 3 \n",
      "\n",
      "Database size: 79767 type: Aminoacid\n",
      "Reduced amino acid alphabet: (A S T) (C) (D B N) (E Q Z) (F Y) (G) (H) (I V) (K R) (L J M) (P) (W) (X) \n",
      "\n",
      "Generate k-mers list for 1 split\n",
      "[=================================================================] 79.77K 1s 250ms\n",
      "Sort kmer 0h 0m 0s 17ms\n",
      "Sort by rep. sequence 0h 0m 0s 9ms\n",
      "Time for fill: 0h 0m 0s 26ms\n",
      "Time for merging to pref: 0h 0m 0s 0ms\n",
      "Time for processing: 0h 0m 1s 545ms\n",
      "rescorediagonal ../data/interim/mmseqs_working_dir/ecor_unique_seqs_db ../data/interim/mmseqs_working_dir/ecor_unique_seqs_db /state/partition1/slurm_tmp/1081985.0.0/12789195414343563649/linclust/15075983053153717153/pref /state/partition1/slurm_tmp/1081985.0.0/12789195414343563649/linclust/15075983053153717153/pref_rescore1 --sub-mat nucl:nucleotide.out,aa:blosum62.out --rescore-mode 0 --wrapped-scoring 0 --filter-hits 0 -e 0.001 -c 0.8 -a 0 --cov-mode 0 --min-seq-id 0.5 --min-aln-len 0 --seq-id-mode 0 --add-self-matches 0 --sort-results 0 --db-load-mode 0 --threads 48 --compressed 0 -v 3 \n",
      "\n",
      "[=================================================================] 79.77K 0s 21ms\n",
      "Time for merging to pref_rescore1: 0h 0m 0s 29ms\n",
      "Time for processing: 0h 0m 0s 241ms\n",
      "clust ../data/interim/mmseqs_working_dir/ecor_unique_seqs_db /state/partition1/slurm_tmp/1081985.0.0/12789195414343563649/linclust/15075983053153717153/pref_rescore1 /state/partition1/slurm_tmp/1081985.0.0/12789195414343563649/linclust/15075983053153717153/pre_clust --cluster-mode 0 --max-iterations 1000 --similarity-type 2 --threads 48 --compressed 0 -v 3 \n",
      "\n",
      "Clustering mode: Set Cover\n",
      "[=================================================================] 79.77K 0s 4ms\n",
      "Sort entries\n",
      "Find missing connections\n",
      "Found 138510 new connections.\n",
      "Reconstruct initial order\n",
      "[=================================================================] 79.77K 0s 4ms\n",
      "Add missing connections\n",
      "[=================================================================] 79.77K 0s 5ms\n",
      "\n",
      "Time for read in: 0h 0m 0s 25ms\n",
      "Total time: 0h 0m 0s 34ms\n",
      "\n",
      "Size of the sequence database: 79767\n",
      "Size of the alignment database: 79767\n",
      "Number of clusters: 15082\n",
      "\n",
      "Writing results 0h 0m 0s 6ms\n",
      "Time for merging to pre_clust: 0h 0m 0s 0ms\n",
      "Time for processing: 0h 0m 0s 72ms\n",
      "createsubdb /state/partition1/slurm_tmp/1081985.0.0/12789195414343563649/linclust/15075983053153717153/order_redundancy ../data/interim/mmseqs_working_dir/ecor_unique_seqs_db /state/partition1/slurm_tmp/1081985.0.0/12789195414343563649/linclust/15075983053153717153/input_step_redundancy -v 3 --subdb-mode 1 \n",
      "\n",
      "Time for merging to input_step_redundancy: 0h 0m 0s 0ms\n",
      "Time for processing: 0h 0m 0s 192ms\n",
      "createsubdb /state/partition1/slurm_tmp/1081985.0.0/12789195414343563649/linclust/15075983053153717153/order_redundancy /state/partition1/slurm_tmp/1081985.0.0/12789195414343563649/linclust/15075983053153717153/pref /state/partition1/slurm_tmp/1081985.0.0/12789195414343563649/linclust/15075983053153717153/pref_filter1 -v 3 --subdb-mode 1 \n",
      "\n",
      "Time for merging to pref_filter1: 0h 0m 0s 0ms\n",
      "Time for processing: 0h 0m 0s 20ms\n",
      "filterdb /state/partition1/slurm_tmp/1081985.0.0/12789195414343563649/linclust/15075983053153717153/pref_filter1 /state/partition1/slurm_tmp/1081985.0.0/12789195414343563649/linclust/15075983053153717153/pref_filter2 --filter-file /state/partition1/slurm_tmp/1081985.0.0/12789195414343563649/linclust/15075983053153717153/order_redundancy --threads 48 --compressed 0 -v 3 \n",
      "\n",
      "Filtering using file(s)\n",
      "[=================================================================] 15.08K 0s 3ms\n",
      "Time for merging to pref_filter2: 0h 0m 0s 13ms\n",
      "Time for processing: 0h 0m 0s 105ms\n",
      "rescorediagonal /state/partition1/slurm_tmp/1081985.0.0/12789195414343563649/linclust/15075983053153717153/input_step_redundancy /state/partition1/slurm_tmp/1081985.0.0/12789195414343563649/linclust/15075983053153717153/input_step_redundancy /state/partition1/slurm_tmp/1081985.0.0/12789195414343563649/linclust/15075983053153717153/pref_filter2 /state/partition1/slurm_tmp/1081985.0.0/12789195414343563649/linclust/15075983053153717153/pref_rescore2 --sub-mat nucl:nucleotide.out,aa:blosum62.out --rescore-mode 1 --wrapped-scoring 0 --filter-hits 1 -e 0.001 -c 0.8 -a 0 --cov-mode 0 --min-seq-id 0.3 --min-aln-len 0 --seq-id-mode 0 --add-self-matches 0 --sort-results 0 --db-load-mode 0 --threads 48 --compressed 0 -v 3 \n",
      "\n",
      "[=================================================================] 15.08K 0s 7ms\n",
      "Time for merging to pref_rescore2: 0h 0m 0s 8ms\n",
      "Time for processing: 0h 0m 0s 118ms\n",
      "align /state/partition1/slurm_tmp/1081985.0.0/12789195414343563649/linclust/15075983053153717153/input_step_redundancy /state/partition1/slurm_tmp/1081985.0.0/12789195414343563649/linclust/15075983053153717153/input_step_redundancy /state/partition1/slurm_tmp/1081985.0.0/12789195414343563649/linclust/15075983053153717153/pref_rescore2 /state/partition1/slurm_tmp/1081985.0.0/12789195414343563649/linclust/15075983053153717153/aln --sub-mat nucl:nucleotide.out,aa:blosum62.out -a 0 --alignment-mode 3 --alignment-output-mode 0 --wrapped-scoring 0 -e 0.001 --min-seq-id 0.3 --min-aln-len 0 --seq-id-mode 0 --alt-ali 0 -c 0.8 --cov-mode 0 --max-seq-len 65535 --comp-bias-corr 1 --max-rejected 2147483647 --max-accept 2147483647 --add-self-matches 0 --db-load-mode 0 --pca 1 --pcb 1.5 --score-bias 0 --realign 0 --realign-score-bias -0.2 --realign-max-seqs 2147483647 --gap-open nucl:5,aa:11 --gap-extend nucl:2,aa:1 --zdrop 40 --threads 48 --compressed 0 -v 3 \n",
      "\n",
      "Compute score, coverage and sequence identity\n",
      "Query database size: 15082 type: Aminoacid\n",
      "Target database size: 15082 type: Aminoacid\n",
      "Calculation of alignments\n",
      "[=================================================================] 15.08K 0s 156ms\n",
      "Time for merging to aln: 0h 0m 0s 7ms\n",
      "16528 alignments calculated\n",
      "16068 sequence pairs passed the thresholds (0.972168 of overall calculated)\n",
      "1.065376 hits per query sequence\n",
      "Time for processing: 0h 0m 0s 280ms\n",
      "clust /state/partition1/slurm_tmp/1081985.0.0/12789195414343563649/linclust/15075983053153717153/input_step_redundancy /state/partition1/slurm_tmp/1081985.0.0/12789195414343563649/linclust/15075983053153717153/aln /state/partition1/slurm_tmp/1081985.0.0/12789195414343563649/linclust/15075983053153717153/clust --cluster-mode 0 --max-iterations 1000 --similarity-type 2 --threads 48 --compressed 0 -v 3 \n",
      "\n",
      "Clustering mode: Set Cover\n",
      "[=================================================================] 15.08K 0s 1ms\n",
      "Sort entries\n",
      "Find missing connections\n",
      "Found 986 new connections.\n",
      "Reconstruct initial order\n",
      "[=================================================================] 15.08K 0s 1ms\n",
      "Add missing connections\n",
      "[=================================================================] 15.08K 0s 0ms\n",
      "\n",
      "Time for read in: 0h 0m 0s 7ms\n",
      "Total time: 0h 0m 0s 36ms\n",
      "\n",
      "Size of the sequence database: 15082\n",
      "Size of the alignment database: 15082\n",
      "Number of clusters: 14258\n",
      "\n",
      "Writing results 0h 0m 0s 2ms\n",
      "Time for merging to clust: 0h 0m 0s 0ms\n",
      "Time for processing: 0h 0m 0s 44ms\n",
      "mergeclusters ../data/interim/mmseqs_working_dir/ecor_unique_seqs_db /state/partition1/slurm_tmp/1081985.0.0/12789195414343563649/clu_redundancy /state/partition1/slurm_tmp/1081985.0.0/12789195414343563649/linclust/15075983053153717153/pre_clust /state/partition1/slurm_tmp/1081985.0.0/12789195414343563649/linclust/15075983053153717153/clust --threads 48 --compressed 0 -v 3 \n",
      "\n",
      "Clustering step 1\n",
      "[=================================================================] 15.08K 0s 11ms\n",
      "Clustering step 2\n",
      "[=================================================================] 14.26K 0s 13ms\n",
      "Write merged clustering\n",
      "[=================================================================] 79.77K 0s 139ms\n",
      "Time for merging to clu_redundancy: 0h 0m 0s 5ms\n",
      "Time for processing: 0h 0m 0s 157ms\n",
      "createsubdb /state/partition1/slurm_tmp/1081985.0.0/12789195414343563649/clu_redundancy ../data/interim/mmseqs_working_dir/ecor_unique_seqs_db /state/partition1/slurm_tmp/1081985.0.0/12789195414343563649/input_step_redundancy -v 3 --subdb-mode 1 \n",
      "\n",
      "Time for merging to input_step_redundancy: 0h 0m 0s 0ms\n",
      "Time for processing: 0h 0m 0s 10ms\n",
      "prefilter /state/partition1/slurm_tmp/1081985.0.0/12789195414343563649/input_step_redundancy /state/partition1/slurm_tmp/1081985.0.0/12789195414343563649/input_step_redundancy /state/partition1/slurm_tmp/1081985.0.0/12789195414343563649/pref_step0 --sub-mat nucl:nucleotide.out,aa:blosum62.out --seed-sub-mat nucl:nucleotide.out,aa:VTML80.out -s 1 -k 0 --k-score 2147483647 --alph-size nucl:5,aa:21 --max-seq-len 65535 --max-seqs 20 --split 0 --split-mode 2 --split-memory-limit 0 -c 0.8 --cov-mode 0 --comp-bias-corr 0 --diag-score 0 --exact-kmer-matching 0 --mask 1 --mask-lower-case 0 --min-ungapped-score 0 --add-self-matches 0 --spaced-kmer-mode 1 --db-load-mode 0 --pca 1 --pcb 1.5 --threads 48 --compressed 0 -v 3 \n",
      "\n",
      "Query database size: 14258 type: Aminoacid\n",
      "Estimated memory consumption: 1G\n",
      "Target database size: 14258 type: Aminoacid\n",
      "Index table k-mer threshold: 154 at k-mer size 6 \n",
      "Index table: counting k-mers\n",
      "[=================================================================] 14.26K 0s 41ms\n",
      "Index table: Masked residues: 38063\n",
      "Index table: fill\n",
      "[=================================================================] 14.26K 0s 12ms\n",
      "Index statistics\n",
      "Entries:          1703397\n",
      "DB size:          498 MB\n",
      "Avg k-mer size:   0.026616\n",
      "Top 10 k-mers\n",
      "    PGQDSG\t45\n",
      "    QQDELY\t45\n",
      "    GLYRYY\t45\n",
      "    RYDLRY\t38\n",
      "    ESLYHR\t35\n",
      "    GPGGTL\t34\n",
      "    HRYPGR\t34\n",
      "    YDLGIT\t34\n",
      "    LPQYES\t32\n",
      "    PTQEFS\t30\n",
      "Time for index table init: 0h 0m 0s 469ms\n",
      "Process prefiltering step 1 of 1\n",
      "\n",
      "k-mer similarity threshold: 154\n",
      "Starting prefiltering scores calculation (step 1 of 1)\n",
      "Query db start 1 to 14258\n",
      "Target db start 1 to 14258\n",
      "[=================================================================] 14.26K 0s 66ms\n",
      "\n",
      "1.946686 k-mers per position\n",
      "212 DB matches per sequence\n",
      "0 overflows\n",
      "0 queries produce too many hits (truncated result)\n",
      "3 sequences passed prefiltering per query sequence\n",
      "1 median result list length\n",
      "0 sequences with 0 size result lists\n",
      "Time for merging to pref_step0: 0h 0m 0s 6ms\n",
      "Time for processing: 0h 0m 0s 806ms\n",
      "align /state/partition1/slurm_tmp/1081985.0.0/12789195414343563649/input_step_redundancy /state/partition1/slurm_tmp/1081985.0.0/12789195414343563649/input_step_redundancy /state/partition1/slurm_tmp/1081985.0.0/12789195414343563649/pref_step0 /state/partition1/slurm_tmp/1081985.0.0/12789195414343563649/aln_step0 --sub-mat nucl:nucleotide.out,aa:blosum62.out -a 0 --alignment-mode 3 --alignment-output-mode 0 --wrapped-scoring 0 -e 0.001 --min-seq-id 0.3 --min-aln-len 0 --seq-id-mode 0 --alt-ali 0 -c 0.8 --cov-mode 0 --max-seq-len 65535 --comp-bias-corr 0 --max-rejected 2147483647 --max-accept 2147483647 --add-self-matches 0 --db-load-mode 0 --pca 1 --pcb 1.5 --score-bias 0 --realign 0 --realign-score-bias -0.2 --realign-max-seqs 2147483647 --gap-open nucl:5,aa:11 --gap-extend nucl:2,aa:1 --zdrop 40 --threads 48 --compressed 0 -v 3 \n",
      "\n",
      "Compute score, coverage and sequence identity\n",
      "Query database size: 14258 type: Aminoacid\n",
      "Target database size: 14258 type: Aminoacid\n",
      "Calculation of alignments\n",
      "[=================================================================] 14.26K 0s 285ms\n",
      "Time for merging to aln_step0: 0h 0m 0s 7ms\n",
      "24279 alignments calculated\n",
      "20057 sequence pairs passed the thresholds (0.826105 of overall calculated)\n",
      "1.406719 hits per query sequence\n",
      "Time for processing: 0h 0m 0s 384ms\n",
      "clust /state/partition1/slurm_tmp/1081985.0.0/12789195414343563649/input_step_redundancy /state/partition1/slurm_tmp/1081985.0.0/12789195414343563649/aln_step0 /state/partition1/slurm_tmp/1081985.0.0/12789195414343563649/clu_step0 --cluster-mode 0 --max-iterations 1000 --similarity-type 2 --threads 48 --compressed 0 -v 3 \n",
      "\n",
      "Clustering mode: Set Cover\n",
      "[=================================================================] 14.26K 0s 0ms\n",
      "Sort entries\n",
      "Find missing connections\n",
      "Found 45 new connections.\n",
      "Reconstruct initial order\n",
      "[=================================================================] 14.26K 0s 0ms\n",
      "Add missing connections\n",
      "[=================================================================] 14.26K 0s 0ms\n",
      "\n",
      "Time for read in: 0h 0m 0s 7ms\n",
      "Total time: 0h 0m 0s 22ms\n",
      "\n",
      "Size of the sequence database: 14258\n",
      "Size of the alignment database: 14258\n",
      "Number of clusters: 12345\n",
      "\n",
      "Writing results 0h 0m 0s 2ms\n",
      "Time for merging to clu_step0: 0h 0m 0s 0ms\n",
      "Time for processing: 0h 0m 0s 31ms\n",
      "createsubdb /state/partition1/slurm_tmp/1081985.0.0/12789195414343563649/clu_step0 /state/partition1/slurm_tmp/1081985.0.0/12789195414343563649/input_step_redundancy /state/partition1/slurm_tmp/1081985.0.0/12789195414343563649/input_step1 -v 3 --subdb-mode 1 \n",
      "\n",
      "Time for merging to input_step1: 0h 0m 0s 0ms\n",
      "Time for processing: 0h 0m 0s 6ms\n",
      "prefilter /state/partition1/slurm_tmp/1081985.0.0/12789195414343563649/input_step1 /state/partition1/slurm_tmp/1081985.0.0/12789195414343563649/input_step1 /state/partition1/slurm_tmp/1081985.0.0/12789195414343563649/pref_step1 --sub-mat nucl:nucleotide.out,aa:blosum62.out --seed-sub-mat nucl:nucleotide.out,aa:VTML80.out -s 3.5 -k 0 --k-score 2147483647 --alph-size nucl:5,aa:21 --max-seq-len 65535 --max-seqs 20 --split 0 --split-mode 2 --split-memory-limit 0 -c 0.8 --cov-mode 0 --comp-bias-corr 1 --diag-score 1 --exact-kmer-matching 0 --mask 1 --mask-lower-case 0 --min-ungapped-score 15 --add-self-matches 0 --spaced-kmer-mode 1 --db-load-mode 0 --pca 1 --pcb 1.5 --threads 48 --compressed 0 -v 3 \n",
      "\n",
      "Query database size: 12345 type: Aminoacid\n",
      "Estimated memory consumption: 1G\n",
      "Target database size: 12345 type: Aminoacid\n",
      "Index table k-mer threshold: 131 at k-mer size 6 \n",
      "Index table: counting k-mers\n",
      "[=================================================================] 12.35K 0s 41ms\n",
      "Index table: Masked residues: 27709\n",
      "Index table: fill\n",
      "[=================================================================] 12.35K 0s 19ms\n",
      "Index statistics\n",
      "Entries:          2989347\n",
      "DB size:          505 MB\n",
      "Avg k-mer size:   0.046709\n",
      "Top 10 k-mers\n",
      "    GLYRYY\t34\n",
      "    YYRRDP\t33\n",
      "    QQDELY\t33\n",
      "    SGYNRY\t32\n",
      "    RYDLRY\t31\n",
      "    RYTDGL\t28\n",
      "    ESLYHR\t28\n",
      "    WNYYNP\t27\n",
      "    YDLGIT\t27\n",
      "    YDEGYN\t24\n",
      "Time for index table init: 0h 0m 0s 477ms\n",
      "Process prefiltering step 1 of 1\n",
      "\n",
      "k-mer similarity threshold: 131\n",
      "Starting prefiltering scores calculation (step 1 of 1)\n",
      "Query db start 1 to 12345\n",
      "Target db start 1 to 12345\n",
      "[=================================================================] 12.35K 0s 223ms\n",
      "\n",
      "40.194070 k-mers per position\n",
      "675 DB matches per sequence\n",
      "0 overflows\n",
      "0 queries produce too many hits (truncated result)\n",
      "4 sequences passed prefiltering per query sequence\n",
      "4 median result list length\n",
      "0 sequences with 0 size result lists\n",
      "Time for merging to pref_step1: 0h 0m 0s 6ms\n",
      "Time for processing: 0h 0m 0s 946ms\n",
      "align /state/partition1/slurm_tmp/1081985.0.0/12789195414343563649/input_step1 /state/partition1/slurm_tmp/1081985.0.0/12789195414343563649/input_step1 /state/partition1/slurm_tmp/1081985.0.0/12789195414343563649/pref_step1 /state/partition1/slurm_tmp/1081985.0.0/12789195414343563649/aln_step1 --sub-mat nucl:nucleotide.out,aa:blosum62.out -a 0 --alignment-mode 3 --alignment-output-mode 0 --wrapped-scoring 0 -e 0.001 --min-seq-id 0.3 --min-aln-len 0 --seq-id-mode 0 --alt-ali 0 -c 0.8 --cov-mode 0 --max-seq-len 65535 --comp-bias-corr 1 --max-rejected 2147483647 --max-accept 2147483647 --add-self-matches 0 --db-load-mode 0 --pca 1 --pcb 1.5 --score-bias 0 --realign 0 --realign-score-bias -0.2 --realign-max-seqs 2147483647 --gap-open nucl:5,aa:11 --gap-extend nucl:2,aa:1 --zdrop 40 --threads 48 --compressed 0 -v 3 \n",
      "\n",
      "Compute score, coverage and sequence identity\n",
      "Query database size: 12345 type: Aminoacid\n",
      "Target database size: 12345 type: Aminoacid\n",
      "Calculation of alignments\n",
      "[=================================================================] 12.35K 0s 101ms\n",
      "Time for merging to aln_step1: 0h 0m 0s 6ms\n",
      "24616 alignments calculated\n",
      "14149 sequence pairs passed the thresholds (0.574789 of overall calculated)\n",
      "1.146132 hits per query sequence\n",
      "Time for processing: 0h 0m 0s 221ms\n",
      "clust /state/partition1/slurm_tmp/1081985.0.0/12789195414343563649/input_step1 /state/partition1/slurm_tmp/1081985.0.0/12789195414343563649/aln_step1 /state/partition1/slurm_tmp/1081985.0.0/12789195414343563649/clu_step1 --cluster-mode 0 --max-iterations 1000 --similarity-type 2 --threads 48 --compressed 0 -v 3 \n",
      "\n",
      "Clustering mode: Set Cover\n",
      "[=================================================================] 12.35K 0s 0ms\n",
      "Sort entries\n",
      "Find missing connections\n",
      "Found 240 new connections.\n",
      "Reconstruct initial order\n",
      "[=================================================================] 12.35K 0s 0ms\n",
      "Add missing connections\n",
      "[=================================================================] 12.35K 0s 0ms\n",
      "\n",
      "Time for read in: 0h 0m 0s 5ms\n",
      "Total time: 0h 0m 0s 21ms\n",
      "\n",
      "Size of the sequence database: 12345\n",
      "Size of the alignment database: 12345\n",
      "Number of clusters: 11522\n",
      "\n",
      "Writing results 0h 0m 0s 2ms\n",
      "Time for merging to clu_step1: 0h 0m 0s 0ms\n",
      "Time for processing: 0h 0m 0s 29ms\n",
      "createsubdb /state/partition1/slurm_tmp/1081985.0.0/12789195414343563649/clu_step1 /state/partition1/slurm_tmp/1081985.0.0/12789195414343563649/input_step1 /state/partition1/slurm_tmp/1081985.0.0/12789195414343563649/input_step2 -v 3 --subdb-mode 1 \n",
      "\n",
      "Time for merging to input_step2: 0h 0m 0s 0ms\n",
      "Time for processing: 0h 0m 0s 5ms\n",
      "prefilter /state/partition1/slurm_tmp/1081985.0.0/12789195414343563649/input_step2 /state/partition1/slurm_tmp/1081985.0.0/12789195414343563649/input_step2 /state/partition1/slurm_tmp/1081985.0.0/12789195414343563649/pref_step2 --sub-mat nucl:nucleotide.out,aa:blosum62.out --seed-sub-mat nucl:nucleotide.out,aa:VTML80.out -s 6 -k 0 --k-score 2147483647 --alph-size nucl:5,aa:21 --max-seq-len 65535 --max-seqs 20 --split 0 --split-mode 2 --split-memory-limit 0 -c 0.8 --cov-mode 0 --comp-bias-corr 1 --diag-score 1 --exact-kmer-matching 0 --mask 1 --mask-lower-case 0 --min-ungapped-score 15 --add-self-matches 0 --spaced-kmer-mode 1 --db-load-mode 0 --pca 1 --pcb 1.5 --threads 48 --compressed 0 -v 3 \n",
      "\n",
      "Query database size: 11522 type: Aminoacid\n",
      "Estimated memory consumption: 1023M\n",
      "Target database size: 11522 type: Aminoacid\n",
      "Index table k-mer threshold: 109 at k-mer size 6 \n",
      "Index table: counting k-mers\n",
      "[=================================================================] 11.52K 0s 38ms\n",
      "Index table: Masked residues: 26320\n",
      "Index table: fill\n",
      "[=================================================================] 11.52K 0s 19ms\n",
      "Index statistics\n",
      "Entries:          2857210\n",
      "DB size:          504 MB\n",
      "Avg k-mer size:   0.044644\n",
      "Top 10 k-mers\n",
      "    GLYRYY\t33\n",
      "    YYRRDP\t32\n",
      "    QQDELY\t32\n",
      "    SGYNRY\t31\n",
      "    RYDLRY\t30\n",
      "    RYTDGL\t27\n",
      "    ESLYHR\t27\n",
      "    WNYYNP\t26\n",
      "    YDLGIT\t26\n",
      "    LPQYES\t23\n",
      "Time for index table init: 0h 0m 0s 473ms\n",
      "Process prefiltering step 1 of 1\n",
      "\n",
      "k-mer similarity threshold: 109\n",
      "Starting prefiltering scores calculation (step 1 of 1)\n",
      "Query db start 1 to 11522\n",
      "Target db start 1 to 11522\n",
      "[=================================================================] 11.52K 1s 355ms\n",
      "\n",
      "440.540360 k-mers per position\n",
      "5095 DB matches per sequence\n",
      "0 overflows\n",
      "0 queries produce too many hits (truncated result)\n",
      "17 sequences passed prefiltering per query sequence\n",
      "20 median result list length\n",
      "0 sequences with 0 size result lists\n",
      "Time for merging to pref_step2: 0h 0m 0s 6ms\n",
      "Time for processing: 0h 0m 2s 79ms\n",
      "align /state/partition1/slurm_tmp/1081985.0.0/12789195414343563649/input_step2 /state/partition1/slurm_tmp/1081985.0.0/12789195414343563649/input_step2 /state/partition1/slurm_tmp/1081985.0.0/12789195414343563649/pref_step2 /state/partition1/slurm_tmp/1081985.0.0/12789195414343563649/aln_step2 --sub-mat nucl:nucleotide.out,aa:blosum62.out -a 0 --alignment-mode 3 --alignment-output-mode 0 --wrapped-scoring 0 -e 0.001 --min-seq-id 0.3 --min-aln-len 0 --seq-id-mode 0 --alt-ali 0 -c 0.8 --cov-mode 0 --max-seq-len 65535 --comp-bias-corr 1 --max-rejected 2147483647 --max-accept 2147483647 --add-self-matches 0 --db-load-mode 0 --pca 1 --pcb 1.5 --score-bias 0 --realign 0 --realign-score-bias -0.2 --realign-max-seqs 2147483647 --gap-open nucl:5,aa:11 --gap-extend nucl:2,aa:1 --zdrop 40 --threads 48 --compressed 0 -v 3 \n",
      "\n",
      "Compute score, coverage and sequence identity\n",
      "Query database size: 11522 type: Aminoacid\n",
      "Target database size: 11522 type: Aminoacid\n",
      "Calculation of alignments\n",
      "[=================================================================] 11.52K 0s 108ms\n",
      "Time for merging to aln_step2: 0h 0m 0s 4ms\n",
      "49346 alignments calculated\n",
      "12035 sequence pairs passed the thresholds (0.243890 of overall calculated)\n",
      "1.044523 hits per query sequence\n",
      "Time for processing: 0h 0m 0s 215ms\n",
      "clust /state/partition1/slurm_tmp/1081985.0.0/12789195414343563649/input_step2 /state/partition1/slurm_tmp/1081985.0.0/12789195414343563649/aln_step2 /state/partition1/slurm_tmp/1081985.0.0/12789195414343563649/clu_step2 --cluster-mode 0 --max-iterations 1000 --similarity-type 2 --threads 48 --compressed 0 -v 3 \n",
      "\n",
      "Clustering mode: Set Cover\n",
      "[=================================================================] 11.52K 0s 0ms\n",
      "Sort entries\n",
      "Find missing connections\n",
      "Found 77 new connections.\n",
      "Reconstruct initial order\n",
      "[=================================================================] 11.52K 0s 1ms\n",
      "Add missing connections\n",
      "[=================================================================] 11.52K 0s 0ms\n",
      "\n",
      "Time for read in: 0h 0m 0s 7ms\n",
      "Total time: 0h 0m 0s 35ms\n",
      "\n",
      "Size of the sequence database: 11522\n",
      "Size of the alignment database: 11522\n",
      "Number of clusters: 11254\n",
      "\n",
      "Writing results 0h 0m 0s 1ms\n",
      "Time for merging to clu_step2: 0h 0m 0s 0ms\n",
      "Time for processing: 0h 0m 0s 43ms\n",
      "mergeclusters ../data/interim/mmseqs_working_dir/ecor_unique_seqs_db ../data3/interim/mmseqs_dbs/ecor_unique_seqs_db_clust /state/partition1/slurm_tmp/1081985.0.0/12789195414343563649/clu_redundancy /state/partition1/slurm_tmp/1081985.0.0/12789195414343563649/clu_step0 /state/partition1/slurm_tmp/1081985.0.0/12789195414343563649/clu_step1 /state/partition1/slurm_tmp/1081985.0.0/12789195414343563649/clu_step2 --threads 48 --compressed 0 -v 3 \n",
      "\n",
      "Clustering step 1\n",
      "[=================================================================] 14.26K 0s 5ms\n",
      "Clustering step 2\n",
      "[=================================================================] 12.35K 0s 13ms\n",
      "Clustering step 3\n",
      "[=================================================================] 11.52K 0s 18ms\n",
      "Clustering step 4\n",
      "[=================================================================] 11.25K 0s 23ms\n",
      "Write merged clustering\n",
      "[=================================================================] 79.77K 1s 79ms\n",
      "Time for merging to ecor_unique_seqs_db_clust: 0h 0m 0s 951ms\n",
      "Time for processing: 0h 0m 2s 565ms\n",
      "\n"
     ]
    },
    {
     "data": {
      "text/plain": [
       "0"
      ]
     },
     "execution_count": 37,
     "metadata": {},
     "output_type": "execute_result"
    }
   ],
   "source": [
    "os.system(' '.join(conda_commands +\n",
    "                   ['mmseqs cluster', target_db,\n",
    "                    out_db, '$TMPDIR',\n",
    "                    '-c 0.8',\n",
    "                    '--min-seq-id 0.3',\n",
    "                    '--threads', threads,\n",
    "                    '--cluster-mode 0', \n",
    "                    '--cov-mode 0', \n",
    "                    '-s 6']))  "
   ]
  },
  {
   "cell_type": "code",
   "execution_count": 38,
   "id": "d984b28b-13bf-480a-9a31-06d4e7544fe2",
   "metadata": {
    "tags": []
   },
   "outputs": [
    {
     "name": "stdout",
     "output_type": "stream",
     "text": [
      "createtsv ../data/interim/mmseqs_working_dir/ecor_unique_seqs_db ../data/interim/mmseqs_working_dir/ecor_unique_seqs_db ../data3/interim/mmseqs_dbs/ecor_unique_seqs_db_clust ../data3/interim/ecor_clusters.tsv \n",
      "\n",
      "MMseqs Version:                 \t13.45111\n",
      "First sequence as representative\tfalse\n",
      "Target column                   \t1\n",
      "Add full header                 \tfalse\n",
      "Sequence source                 \t0\n",
      "Database output                 \tfalse\n",
      "Threads                         \t96\n",
      "Compressed                      \t0\n",
      "Verbosity                       \t3\n",
      "\n",
      "Time for merging to ecor_clusters.tsv: 0h 0m 1s 961ms\n",
      "Time for processing: 0h 0m 4s 804ms\n",
      "\n"
     ]
    },
    {
     "data": {
      "text/plain": [
       "0"
      ]
     },
     "execution_count": 38,
     "metadata": {},
     "output_type": "execute_result"
    }
   ],
   "source": [
    "os.system(' '.join(conda_commands + \n",
    "                   ['mmseqs createtsv', \n",
    "                    target_db, target_db, \n",
    "                    out_db, \n",
    "                    out_tsv]))"
   ]
  },
  {
   "cell_type": "code",
   "execution_count": 33,
   "id": "82661ccd-138f-49d0-a395-76470e44ba5b",
   "metadata": {},
   "outputs": [],
   "source": [
    "clusters = pd.read_table(out_tsv, \n",
    "                         names=['cluster_id', 'product_accession'])"
   ]
  },
  {
   "cell_type": "code",
   "execution_count": 34,
   "id": "19cf43b2-45a3-4019-bc3a-c526689978ff",
   "metadata": {
    "tags": []
   },
   "outputs": [],
   "source": [
    "cluster_merged_preds = (sorted_predictions.merge(clusters, how='inner', \n",
    "                                                    on='product_accession'))"
   ]
  },
  {
   "cell_type": "markdown",
   "id": "baf69d23-1d15-42ed-bf8f-95aa8e971694",
   "metadata": {},
   "source": [
    "## Remove close homologs in MG1655 (>90% ID and coverage)\n"
   ]
  },
  {
   "cell_type": "code",
   "execution_count": 35,
   "id": "3b62c410-3656-4b3b-97f7-344a198f9de8",
   "metadata": {},
   "outputs": [],
   "source": [
    "working_dir = '../data/interim/mmseqs_working_dir/'\n",
    "mg1655_query = '../data/external/GCF_000005845.2_ASM584v2_protein.faa'\n",
    "mg1655_db = working_dir + 'mg1655_db'\n"
   ]
  },
  {
   "cell_type": "code",
   "execution_count": null,
   "id": "49478f7f-3af8-49e6-936e-64e12a7d9028",
   "metadata": {},
   "outputs": [],
   "source": [
    "os.system(' '.join(conda_commands + \n",
    "                   ['mmseqs createdb', \n",
    "                    mg1655_query, mg1655_db]))"
   ]
  },
  {
   "cell_type": "code",
   "execution_count": 36,
   "id": "b21e34f8-8886-491b-bd0f-9f9a2c4425e2",
   "metadata": {},
   "outputs": [],
   "source": [
    "ecor_seqs_db = '../data/interim/mmseqs_working_dir/ecor_unique_seqs_db'\n",
    "ecor_mg_search_out = '../data/interim/mmseqs_working_dir/ecor_mg1655_search'"
   ]
  },
  {
   "cell_type": "code",
   "execution_count": null,
   "id": "c035405a-65b6-4b42-9e5f-909c53323a6d",
   "metadata": {},
   "outputs": [],
   "source": [
    "os.system(' '.join(conda_commands +\n",
    "                   ['mmseqs',\n",
    "                    'search',\n",
    "                    ecor_seqs_db,\n",
    "                    mg1655_db, \n",
    "                    ecor_mg_search_out, \n",
    "                    '../data/tmp',\n",
    "                    '--threads 48',\n",
    "                    '-a']))"
   ]
  },
  {
   "cell_type": "code",
   "execution_count": 37,
   "id": "a1caa173-0488-4435-80b9-1f1c93525a18",
   "metadata": {},
   "outputs": [],
   "source": [
    "ecor_mg_search_final_out = '../data/interim/ecor_mg_homologs.txt'"
   ]
  },
  {
   "cell_type": "code",
   "execution_count": null,
   "id": "e2e5644c-6492-4cb1-a993-ac26c7632a8b",
   "metadata": {},
   "outputs": [],
   "source": [
    "os.system(' '.join(conda_commands +\n",
    "          ['mmseqs convertalis', \n",
    "           ecor_seqs_db, \n",
    "           mg1655_db, \n",
    "           ecor_mg_search_out, \n",
    "           ecor_mg_search_final_out,\n",
    "           '--threads 48', \n",
    "           '--format-output query,target,fident,alnlen,mismatch,gapopen,qstart,qend,tstart,tend,evalue,bits,qcov,tcov']))"
   ]
  },
  {
   "cell_type": "code",
   "execution_count": 38,
   "id": "b14074e7-2d67-4ec7-880e-95ca39e1cdc9",
   "metadata": {},
   "outputs": [],
   "source": [
    "ecor_mg_homolog_df = read_mmseqs_results(ecor_mg_search_final_out)"
   ]
  },
  {
   "cell_type": "code",
   "execution_count": 39,
   "id": "cc61951f-cb6f-4fd1-a4ff-c5ab6211043e",
   "metadata": {},
   "outputs": [],
   "source": [
    "close_homolog_df = ecor_mg_homolog_df[(ecor_mg_homolog_df['fident'] > 0.9) & \n",
    "                                      (ecor_mg_homolog_df['qcov'] > 0.9)]\n"
   ]
  },
  {
   "cell_type": "code",
   "execution_count": 40,
   "id": "c142dbfa-d023-4cc3-93bf-dfeac073e300",
   "metadata": {},
   "outputs": [
    {
     "data": {
      "text/plain": [
       "49684"
      ]
     },
     "execution_count": 40,
     "metadata": {},
     "output_type": "execute_result"
    }
   ],
   "source": [
    "ecor_mg1655_close_homologs = close_homolog_df['query'].unique()\n",
    "len(ecor_mg1655_close_homologs)\n"
   ]
  },
  {
   "cell_type": "code",
   "execution_count": 41,
   "id": "88116e53-dc5e-4736-bb43-17d1fedbfc16",
   "metadata": {},
   "outputs": [
    {
     "data": {
      "text/plain": [
       "4162"
      ]
     },
     "execution_count": 41,
     "metadata": {},
     "output_type": "execute_result"
    }
   ],
   "source": [
    "close_homolog_df['target'].nunique()"
   ]
  },
  {
   "cell_type": "code",
   "execution_count": 42,
   "id": "4fd03459-476b-4472-83d5-50dffdbcfd32",
   "metadata": {},
   "outputs": [],
   "source": [
    "cluster_merged_preds['MG1655_homolog'] = cluster_merged_preds['product_accession'].isin(ecor_mg1655_close_homologs)"
   ]
  },
  {
   "cell_type": "markdown",
   "id": "23887634-e291-48a7-84da-0faa50033b23",
   "metadata": {},
   "source": [
    "## Output"
   ]
  },
  {
   "cell_type": "code",
   "execution_count": 43,
   "id": "7cf0eb77-70bb-47e9-9318-3b140188d100",
   "metadata": {},
   "outputs": [],
   "source": [
    "cluster_merged_preds.to_csv('../data3/interim/ecor_predictions.csv', index=False)"
   ]
  },
  {
   "cell_type": "code",
   "execution_count": 59,
   "id": "f748275f-b4fc-49fb-b72d-237544b5e522",
   "metadata": {},
   "outputs": [],
   "source": [
    "if x_file_dict is None:\n",
    "    for assembly, assembly_x in tqdm(model_mat_dict.items(), position=0):\n",
    "        assembly_x.to_parquet(os.path.join(prediction_out_dir, assembly + '_X.pq'))"
   ]
  },
  {
   "cell_type": "code",
   "execution_count": 4,
   "id": "98403f23-72f5-4e3a-816b-638f3000b7df",
   "metadata": {},
   "outputs": [
    {
     "name": "stderr",
     "output_type": "stream",
     "text": [
      "/state/partition1/slurm_tmp/1760358.0.0/ipykernel_1164092/3584972170.py:1: DtypeWarning: Columns (21,27) have mixed types. Specify dtype option on import or set low_memory=False.\n",
      "  old_predictions = pd.read_csv('../data/interim/ecor_predictions.csv')\n",
      "/state/partition1/slurm_tmp/1760358.0.0/ipykernel_1164092/3584972170.py:2: DtypeWarning: Columns (24,30) have mixed types. Specify dtype option on import or set low_memory=False.\n",
      "  cluster_merged_preds = pd.read_csv('../data3/interim/ecor_predictions.csv')\n"
     ]
    }
   ],
   "source": [
    "old_predictions = pd.read_csv('../data/interim/ecor_predictions.csv')\n",
    "cluster_merged_preds = pd.read_csv('../data3/interim/ecor_predictions.csv')"
   ]
  },
  {
   "cell_type": "code",
   "execution_count": 5,
   "id": "b045c250-0435-40d4-9093-790d177ef8ec",
   "metadata": {},
   "outputs": [],
   "source": [
    "old_predictions['log_odds'] = np.log(old_predictions['beaker_prediction']/(1-old_predictions['beaker_prediction']))"
   ]
  },
  {
   "cell_type": "code",
   "execution_count": 6,
   "id": "84b8bbae-b048-4487-8816-eb9a0ce6a992",
   "metadata": {},
   "outputs": [],
   "source": [
    "all_merged_predictions = (cluster_merged_preds.merge(old_predictions[['protein_context_id', 'log_odds']], \n",
    "                                                     how='inner', on='protein_context_id'))"
   ]
  },
  {
   "cell_type": "code",
   "execution_count": 8,
   "id": "d5211409-3c45-4513-8a21-eee1869b7d13",
   "metadata": {},
   "outputs": [
    {
     "name": "stderr",
     "output_type": "stream",
     "text": [
      "findfont: Font family 'Arial' not found.\n",
      "findfont: Font family 'Arial' not found.\n",
      "findfont: Font family 'Arial' not found.\n",
      "findfont: Font family 'Arial' not found.\n",
      "findfont: Font family 'Arial' not found.\n",
      "findfont: Font family 'Arial' not found.\n",
      "findfont: Font family 'Arial' not found.\n",
      "findfont: Font family 'Arial' not found.\n",
      "findfont: Font family 'Arial' not found.\n",
      "findfont: Font family 'Arial' not found.\n",
      "findfont: Font family 'Arial' not found.\n",
      "findfont: Font family 'Arial' not found.\n",
      "findfont: Font family 'Arial' not found.\n",
      "findfont: Font family 'Arial' not found.\n",
      "findfont: Font family 'Arial' not found.\n",
      "findfont: Font family 'Arial' not found.\n",
      "findfont: Font family 'Arial' not found.\n",
      "findfont: Font family 'Arial' not found.\n",
      "findfont: Font family 'Arial' not found.\n",
      "findfont: Font family 'Arial' not found.\n",
      "findfont: Font family 'Arial' not found.\n",
      "findfont: Font family 'Arial' not found.\n",
      "findfont: Font family 'Arial' not found.\n",
      "findfont: Font family 'Arial' not found.\n",
      "findfont: Font family 'Arial' not found.\n",
      "findfont: Font family 'Arial' not found.\n"
     ]
    },
    {
     "data": {
      "image/png": "[encoded data removed]",
      "text/plain": [
       "<Figure size 200x200 with 1 Axes>"
      ]
     },
     "metadata": {},
     "output_type": "display_data"
    }
   ],
   "source": [
    "plt.subplots(figsize=(2,2))\n",
    "gpplot.point_densityplot(data=all_merged_predictions, x='log_odds', y='mean_log_odds', s=5)\n",
    "gpplot.add_correlation(data=all_merged_predictions, x='log_odds', y='mean_log_odds')\n",
    "sns.despine()\n",
    "plt.xlabel('Defense Predictor v0')\n",
    "plt.ylabel('Defense Predictor v1')\n",
    "plt.savefig('../figures/dp_v1_v2.svg', bbox_inches='tight', dpi=300)"
   ]
  },
  {
   "cell_type": "code",
   "execution_count": 56,
   "id": "c2adfa0c-47ac-4604-856f-3bc91f4916d2",
   "metadata": {},
   "outputs": [],
   "source": [
    "all_merged_predictions['delta'] = all_merged_predictions['mean_log_odds'] - all_merged_predictions['log_odds']\n",
    "all_merged_predictions['new_hit'] = ((all_merged_predictions['mean_log_odds'] > 0) & \n",
    "                                     (all_merged_predictions['log_odds'] < 0))\n",
    "all_merged_predictions['old_hit'] = ((all_merged_predictions['mean_log_odds'] < 0) & \n",
    "                                     (all_merged_predictions['log_odds'] > 0))"
   ]
  },
  {
   "cell_type": "code",
   "execution_count": 57,
   "id": "c0f7bf64-23f0-424a-8ca9-3e65a3b76a66",
   "metadata": {},
   "outputs": [
    {
     "data": {
      "text/html": [
       "<div>\n",
       "<style scoped>\n",
       "    .dataframe tbody tr th:only-of-type {\n",
       "        vertical-align: middle;\n",
       "    }\n",
       "\n",
       "    .dataframe tbody tr th {\n",
       "        vertical-align: top;\n",
       "    }\n",
       "\n",
       "    .dataframe thead th {\n",
       "        text-align: right;\n",
       "    }\n",
       "</style>\n",
       "<table border=\"1\" class=\"dataframe\">\n",
       "  <thead>\n",
       "    <tr style=\"text-align: right;\">\n",
       "      <th></th>\n",
       "      <th>protein_context_id</th>\n",
       "      <th>name</th>\n",
       "      <th>symbol</th>\n",
       "      <th>mean_log_odds</th>\n",
       "      <th>sd_log_odds</th>\n",
       "      <th>log_odds</th>\n",
       "    </tr>\n",
       "  </thead>\n",
       "  <tbody>\n",
       "    <tr>\n",
       "      <th>299380</th>\n",
       "      <td>WP_000862379.1|NZ_RRUY01000001.1|200242|-</td>\n",
       "      <td>TIR domain-containing protein</td>\n",
       "      <td>NaN</td>\n",
       "      <td>7.565467</td>\n",
       "      <td>4.189072</td>\n",
       "      <td>-4.360515</td>\n",
       "    </tr>\n",
       "    <tr>\n",
       "      <th>13999</th>\n",
       "      <td>WP_001288850.1|NZ_RRVY01000002.1|17679|-</td>\n",
       "      <td>chromosome partition protein MukF</td>\n",
       "      <td>mukF</td>\n",
       "      <td>6.815987</td>\n",
       "      <td>1.794817</td>\n",
       "      <td>-6.217645</td>\n",
       "    </tr>\n",
       "    <tr>\n",
       "      <th>139060</th>\n",
       "      <td>WP_097343845.1|NZ_QOWS01000001.1|266175|+</td>\n",
       "      <td>DNA adenine methylase</td>\n",
       "      <td>NaN</td>\n",
       "      <td>5.981363</td>\n",
       "      <td>2.976073</td>\n",
       "      <td>-1.207657</td>\n",
       "    </tr>\n",
       "    <tr>\n",
       "      <th>254205</th>\n",
       "      <td>WP_000824184.1|NZ_QOYI01000134.1|2364|-</td>\n",
       "      <td>hypothetical protein</td>\n",
       "      <td>NaN</td>\n",
       "      <td>3.688827</td>\n",
       "      <td>3.819142</td>\n",
       "      <td>-5.713343</td>\n",
       "    </tr>\n",
       "    <tr>\n",
       "      <th>254634</th>\n",
       "      <td>WP_000783855.1|NZ_QOYJ01000014.1|40112|+</td>\n",
       "      <td>DNA adenine methylase</td>\n",
       "      <td>NaN</td>\n",
       "      <td>3.388867</td>\n",
       "      <td>2.935681</td>\n",
       "      <td>-2.957667</td>\n",
       "    </tr>\n",
       "    <tr>\n",
       "      <th>314826</th>\n",
       "      <td>WP_086415151.1|NZ_RRVY01000015.1|3221|-</td>\n",
       "      <td>toll/interleukin-1 receptor domain-containing ...</td>\n",
       "      <td>NaN</td>\n",
       "      <td>3.282785</td>\n",
       "      <td>1.231273</td>\n",
       "      <td>-1.439543</td>\n",
       "    </tr>\n",
       "    <tr>\n",
       "      <th>204658</th>\n",
       "      <td>WP_000104146.1|NZ_QOXR01000004.1|34542|+</td>\n",
       "      <td>DNA adenine methylase</td>\n",
       "      <td>NaN</td>\n",
       "      <td>3.276985</td>\n",
       "      <td>4.671619</td>\n",
       "      <td>-3.301881</td>\n",
       "    </tr>\n",
       "    <tr>\n",
       "      <th>158360</th>\n",
       "      <td>WP_000586175.1|NZ_QOWT01000054.1|3588|-</td>\n",
       "      <td>hypothetical protein</td>\n",
       "      <td>NaN</td>\n",
       "      <td>3.094490</td>\n",
       "      <td>3.386048</td>\n",
       "      <td>-3.872491</td>\n",
       "    </tr>\n",
       "    <tr>\n",
       "      <th>123447</th>\n",
       "      <td>WP_001295931.1|NZ_RRVV01000014.1|4665|-</td>\n",
       "      <td>chromosome partition protein MukE</td>\n",
       "      <td>mukE</td>\n",
       "      <td>3.053576</td>\n",
       "      <td>3.129308</td>\n",
       "      <td>-8.410378</td>\n",
       "    </tr>\n",
       "    <tr>\n",
       "      <th>170025</th>\n",
       "      <td>WP_001567921.1|NZ_QOWZ01000022.1|4342|-</td>\n",
       "      <td>DNA adenine methylase</td>\n",
       "      <td>NaN</td>\n",
       "      <td>2.872617</td>\n",
       "      <td>3.212437</td>\n",
       "      <td>-5.692939</td>\n",
       "    </tr>\n",
       "    <tr>\n",
       "      <th>229283</th>\n",
       "      <td>WP_059268618.1|NZ_QOYD01000004.1|247232|-</td>\n",
       "      <td>hypothetical protein</td>\n",
       "      <td>NaN</td>\n",
       "      <td>2.814604</td>\n",
       "      <td>0.975497</td>\n",
       "      <td>-1.654789</td>\n",
       "    </tr>\n",
       "    <tr>\n",
       "      <th>283053</th>\n",
       "      <td>WP_087891341.1|NZ_QOYW01000012.1|111070|-</td>\n",
       "      <td>hypothetical protein</td>\n",
       "      <td>NaN</td>\n",
       "      <td>2.598898</td>\n",
       "      <td>1.705147</td>\n",
       "      <td>-0.498352</td>\n",
       "    </tr>\n",
       "    <tr>\n",
       "      <th>294112</th>\n",
       "      <td>WP_235165692.1|NZ_QOZD01000043.1|26809|-</td>\n",
       "      <td>hypothetical protein</td>\n",
       "      <td>NaN</td>\n",
       "      <td>2.536907</td>\n",
       "      <td>1.100871</td>\n",
       "      <td>-0.243845</td>\n",
       "    </tr>\n",
       "    <tr>\n",
       "      <th>302243</th>\n",
       "      <td>WP_001469515.1|NZ_RRVP01000002.1|353970|+</td>\n",
       "      <td>toll/interleukin-1 receptor domain-containing ...</td>\n",
       "      <td>NaN</td>\n",
       "      <td>2.430439</td>\n",
       "      <td>3.178120</td>\n",
       "      <td>-4.325878</td>\n",
       "    </tr>\n",
       "    <tr>\n",
       "      <th>195673</th>\n",
       "      <td>WP_000195717.1|NZ_QOXO01000005.1|191911|+</td>\n",
       "      <td>hypothetical protein</td>\n",
       "      <td>NaN</td>\n",
       "      <td>2.335233</td>\n",
       "      <td>0.977348</td>\n",
       "      <td>-0.839629</td>\n",
       "    </tr>\n",
       "    <tr>\n",
       "      <th>286020</th>\n",
       "      <td>WP_016232789.1|NZ_QOYX01000023.1|2850|+</td>\n",
       "      <td>hypothetical protein</td>\n",
       "      <td>NaN</td>\n",
       "      <td>2.210470</td>\n",
       "      <td>0.572692</td>\n",
       "      <td>-0.772159</td>\n",
       "    </tr>\n",
       "    <tr>\n",
       "      <th>169045</th>\n",
       "      <td>WP_087897482.1|NZ_QOWZ01000009.1|25953|+</td>\n",
       "      <td>DUF5405 family protein</td>\n",
       "      <td>NaN</td>\n",
       "      <td>2.167319</td>\n",
       "      <td>0.659350</td>\n",
       "      <td>-0.556725</td>\n",
       "    </tr>\n",
       "    <tr>\n",
       "      <th>165859</th>\n",
       "      <td>WP_031617482.1|NZ_QOWX01000027.1|24924|+</td>\n",
       "      <td>hypothetical protein</td>\n",
       "      <td>NaN</td>\n",
       "      <td>2.074053</td>\n",
       "      <td>3.226542</td>\n",
       "      <td>-12.472160</td>\n",
       "    </tr>\n",
       "    <tr>\n",
       "      <th>157851</th>\n",
       "      <td>WP_001333354.1|NZ_RRWK01000041.1|7330|-</td>\n",
       "      <td>hypothetical protein</td>\n",
       "      <td>NaN</td>\n",
       "      <td>2.057790</td>\n",
       "      <td>1.234834</td>\n",
       "      <td>-1.807118</td>\n",
       "    </tr>\n",
       "    <tr>\n",
       "      <th>223906</th>\n",
       "      <td>WP_021547915.1|NZ_QOYA01000043.1|4065|+</td>\n",
       "      <td>hypothetical protein</td>\n",
       "      <td>NaN</td>\n",
       "      <td>2.013717</td>\n",
       "      <td>1.385113</td>\n",
       "      <td>-2.235172</td>\n",
       "    </tr>\n",
       "  </tbody>\n",
       "</table>\n",
       "</div>"
      ],
      "text/plain": [
       "                               protein_context_id   \n",
       "299380  WP_000862379.1|NZ_RRUY01000001.1|200242|-  \\\n",
       "13999    WP_001288850.1|NZ_RRVY01000002.1|17679|-   \n",
       "139060  WP_097343845.1|NZ_QOWS01000001.1|266175|+   \n",
       "254205    WP_000824184.1|NZ_QOYI01000134.1|2364|-   \n",
       "254634   WP_000783855.1|NZ_QOYJ01000014.1|40112|+   \n",
       "314826    WP_086415151.1|NZ_RRVY01000015.1|3221|-   \n",
       "204658   WP_000104146.1|NZ_QOXR01000004.1|34542|+   \n",
       "158360    WP_000586175.1|NZ_QOWT01000054.1|3588|-   \n",
       "123447    WP_001295931.1|NZ_RRVV01000014.1|4665|-   \n",
       "170025    WP_001567921.1|NZ_QOWZ01000022.1|4342|-   \n",
       "229283  WP_059268618.1|NZ_QOYD01000004.1|247232|-   \n",
       "283053  WP_087891341.1|NZ_QOYW01000012.1|111070|-   \n",
       "294112   WP_235165692.1|NZ_QOZD01000043.1|26809|-   \n",
       "302243  WP_001469515.1|NZ_RRVP01000002.1|353970|+   \n",
       "195673  WP_000195717.1|NZ_QOXO01000005.1|191911|+   \n",
       "286020    WP_016232789.1|NZ_QOYX01000023.1|2850|+   \n",
       "169045   WP_087897482.1|NZ_QOWZ01000009.1|25953|+   \n",
       "165859   WP_031617482.1|NZ_QOWX01000027.1|24924|+   \n",
       "157851    WP_001333354.1|NZ_RRWK01000041.1|7330|-   \n",
       "223906    WP_021547915.1|NZ_QOYA01000043.1|4065|+   \n",
       "\n",
       "                                                     name symbol   \n",
       "299380                      TIR domain-containing protein    NaN  \\\n",
       "13999                   chromosome partition protein MukF   mukF   \n",
       "139060                              DNA adenine methylase    NaN   \n",
       "254205                               hypothetical protein    NaN   \n",
       "254634                              DNA adenine methylase    NaN   \n",
       "314826  toll/interleukin-1 receptor domain-containing ...    NaN   \n",
       "204658                              DNA adenine methylase    NaN   \n",
       "158360                               hypothetical protein    NaN   \n",
       "123447                  chromosome partition protein MukE   mukE   \n",
       "170025                              DNA adenine methylase    NaN   \n",
       "229283                               hypothetical protein    NaN   \n",
       "283053                               hypothetical protein    NaN   \n",
       "294112                               hypothetical protein    NaN   \n",
       "302243  toll/interleukin-1 receptor domain-containing ...    NaN   \n",
       "195673                               hypothetical protein    NaN   \n",
       "286020                               hypothetical protein    NaN   \n",
       "169045                             DUF5405 family protein    NaN   \n",
       "165859                               hypothetical protein    NaN   \n",
       "157851                               hypothetical protein    NaN   \n",
       "223906                               hypothetical protein    NaN   \n",
       "\n",
       "        mean_log_odds  sd_log_odds   log_odds  \n",
       "299380       7.565467     4.189072  -4.360515  \n",
       "13999        6.815987     1.794817  -6.217645  \n",
       "139060       5.981363     2.976073  -1.207657  \n",
       "254205       3.688827     3.819142  -5.713343  \n",
       "254634       3.388867     2.935681  -2.957667  \n",
       "314826       3.282785     1.231273  -1.439543  \n",
       "204658       3.276985     4.671619  -3.301881  \n",
       "158360       3.094490     3.386048  -3.872491  \n",
       "123447       3.053576     3.129308  -8.410378  \n",
       "170025       2.872617     3.212437  -5.692939  \n",
       "229283       2.814604     0.975497  -1.654789  \n",
       "283053       2.598898     1.705147  -0.498352  \n",
       "294112       2.536907     1.100871  -0.243845  \n",
       "302243       2.430439     3.178120  -4.325878  \n",
       "195673       2.335233     0.977348  -0.839629  \n",
       "286020       2.210470     0.572692  -0.772159  \n",
       "169045       2.167319     0.659350  -0.556725  \n",
       "165859       2.074053     3.226542 -12.472160  \n",
       "157851       2.057790     1.234834  -1.807118  \n",
       "223906       2.013717     1.385113  -2.235172  "
      ]
     },
     "execution_count": 57,
     "metadata": {},
     "output_type": "execute_result"
    }
   ],
   "source": [
    "(all_merged_predictions.query('new_hit').sort_values('mean_log_odds', ascending=False)\n",
    " .groupby('cluster_id')\n",
    " .head(1)\n",
    " .head(20) \n",
    " [['protein_context_id', 'name', 'symbol', 'mean_log_odds', 'sd_log_odds', 'log_odds']])"
   ]
  },
  {
   "cell_type": "code",
   "execution_count": 58,
   "id": "164f9bdc-ad72-4b2c-9bac-dfa184a4cd03",
   "metadata": {},
   "outputs": [
    {
     "data": {
      "text/html": [
       "<div>\n",
       "<style scoped>\n",
       "    .dataframe tbody tr th:only-of-type {\n",
       "        vertical-align: middle;\n",
       "    }\n",
       "\n",
       "    .dataframe tbody tr th {\n",
       "        vertical-align: top;\n",
       "    }\n",
       "\n",
       "    .dataframe thead th {\n",
       "        text-align: right;\n",
       "    }\n",
       "</style>\n",
       "<table border=\"1\" class=\"dataframe\">\n",
       "  <thead>\n",
       "    <tr style=\"text-align: right;\">\n",
       "      <th></th>\n",
       "      <th>protein_context_id</th>\n",
       "      <th>name</th>\n",
       "      <th>symbol</th>\n",
       "      <th>mean_log_odds</th>\n",
       "      <th>sd_log_odds</th>\n",
       "      <th>log_odds</th>\n",
       "    </tr>\n",
       "  </thead>\n",
       "  <tbody>\n",
       "    <tr>\n",
       "      <th>160937</th>\n",
       "      <td>WP_000208382.1|NZ_QOYQ01000011.1|362448|-</td>\n",
       "      <td>DUF6088 family protein</td>\n",
       "      <td>NaN</td>\n",
       "      <td>-0.287845</td>\n",
       "      <td>1.930048</td>\n",
       "      <td>17.549826</td>\n",
       "    </tr>\n",
       "    <tr>\n",
       "      <th>311078</th>\n",
       "      <td>WP_097311032.1|NZ_RRVF01000061.1|24145|+</td>\n",
       "      <td>Mov34/MPN/PAD-1 family protein</td>\n",
       "      <td>NaN</td>\n",
       "      <td>-1.771182</td>\n",
       "      <td>1.688892</td>\n",
       "      <td>15.546505</td>\n",
       "    </tr>\n",
       "    <tr>\n",
       "      <th>178953</th>\n",
       "      <td>WP_000357807.1|NZ_QOXQ01000045.1|28194|+</td>\n",
       "      <td>OmpA family protein</td>\n",
       "      <td>NaN</td>\n",
       "      <td>-3.951241</td>\n",
       "      <td>2.545136</td>\n",
       "      <td>15.288170</td>\n",
       "    </tr>\n",
       "    <tr>\n",
       "      <th>159986</th>\n",
       "      <td>WP_000020778.1|NZ_QOYT01000066.1|11614|-</td>\n",
       "      <td>TatD family hydrolase</td>\n",
       "      <td>NaN</td>\n",
       "      <td>-4.802853</td>\n",
       "      <td>0.835294</td>\n",
       "      <td>14.994752</td>\n",
       "    </tr>\n",
       "    <tr>\n",
       "      <th>311377</th>\n",
       "      <td>WP_063930100.1|NZ_RRVF01000109.1|1020|-</td>\n",
       "      <td>ImmA/IrrE family metallo-endopeptidase</td>\n",
       "      <td>NaN</td>\n",
       "      <td>-1.053324</td>\n",
       "      <td>1.983924</td>\n",
       "      <td>14.714579</td>\n",
       "    </tr>\n",
       "    <tr>\n",
       "      <th>175085</th>\n",
       "      <td>WP_001416755.1|NZ_RRVF01000012.1|95095|-</td>\n",
       "      <td>type I-E CRISPR-associated endoribonuclease Cas2e</td>\n",
       "      <td>cas2e</td>\n",
       "      <td>-0.255831</td>\n",
       "      <td>1.812746</td>\n",
       "      <td>14.541435</td>\n",
       "    </tr>\n",
       "    <tr>\n",
       "      <th>277969</th>\n",
       "      <td>WP_000192872.1|NZ_QOYU01000054.1|2816|+</td>\n",
       "      <td>hypothetical protein</td>\n",
       "      <td>NaN</td>\n",
       "      <td>-1.826668</td>\n",
       "      <td>1.015055</td>\n",
       "      <td>13.746411</td>\n",
       "    </tr>\n",
       "    <tr>\n",
       "      <th>166035</th>\n",
       "      <td>WP_000210436.1|NZ_QOWX01000046.1|16489|-</td>\n",
       "      <td>ATP-binding protein</td>\n",
       "      <td>NaN</td>\n",
       "      <td>-0.888991</td>\n",
       "      <td>1.318196</td>\n",
       "      <td>13.732205</td>\n",
       "    </tr>\n",
       "    <tr>\n",
       "      <th>201691</th>\n",
       "      <td>WP_071337424.1|NZ_QOXQ01000009.1|26780|+</td>\n",
       "      <td>cGAMP-activated phospholipase CapV</td>\n",
       "      <td>capV</td>\n",
       "      <td>-0.911930</td>\n",
       "      <td>3.985926</td>\n",
       "      <td>13.583309</td>\n",
       "    </tr>\n",
       "    <tr>\n",
       "      <th>270324</th>\n",
       "      <td>WP_000099232.1|NZ_QOYQ01000045.1|1457|+</td>\n",
       "      <td>WYL domain-containing protein</td>\n",
       "      <td>NaN</td>\n",
       "      <td>-4.580885</td>\n",
       "      <td>2.683587</td>\n",
       "      <td>13.125983</td>\n",
       "    </tr>\n",
       "    <tr>\n",
       "      <th>194678</th>\n",
       "      <td>WP_228569617.1|NZ_QOXO01000001.1|92894|+</td>\n",
       "      <td>Mov34/MPN/PAD-1 family protein</td>\n",
       "      <td>NaN</td>\n",
       "      <td>-1.101731</td>\n",
       "      <td>2.089310</td>\n",
       "      <td>12.304920</td>\n",
       "    </tr>\n",
       "    <tr>\n",
       "      <th>125653</th>\n",
       "      <td>WP_001238890.1|NZ_QOXL01000015.1|76159|-</td>\n",
       "      <td>DNA helicase Rep</td>\n",
       "      <td>rep</td>\n",
       "      <td>-7.499367</td>\n",
       "      <td>2.164113</td>\n",
       "      <td>11.709016</td>\n",
       "    </tr>\n",
       "    <tr>\n",
       "      <th>288799</th>\n",
       "      <td>WP_001258953.1|NZ_QOYY01000009.1|212919|+</td>\n",
       "      <td>adenine-specific DNA-methyltransferase</td>\n",
       "      <td>yhdJ</td>\n",
       "      <td>-1.485074</td>\n",
       "      <td>5.475794</td>\n",
       "      <td>11.143427</td>\n",
       "    </tr>\n",
       "    <tr>\n",
       "      <th>212272</th>\n",
       "      <td>WP_000504882.1|NZ_QOXY01000009.1|111728|+</td>\n",
       "      <td>McrC family protein</td>\n",
       "      <td>NaN</td>\n",
       "      <td>-0.449491</td>\n",
       "      <td>1.197801</td>\n",
       "      <td>10.908928</td>\n",
       "    </tr>\n",
       "    <tr>\n",
       "      <th>180693</th>\n",
       "      <td>WP_000222771.1|NZ_QOXG01000086.1|207|-</td>\n",
       "      <td>type II toxin-antitoxin system RelE/ParE famil...</td>\n",
       "      <td>NaN</td>\n",
       "      <td>-0.420658</td>\n",
       "      <td>1.540161</td>\n",
       "      <td>10.617836</td>\n",
       "    </tr>\n",
       "    <tr>\n",
       "      <th>234859</th>\n",
       "      <td>WP_087891919.1|NZ_QOYD01000025.1|15043|+</td>\n",
       "      <td>GIY-YIG nuclease family protein</td>\n",
       "      <td>NaN</td>\n",
       "      <td>-0.391406</td>\n",
       "      <td>1.137397</td>\n",
       "      <td>10.497934</td>\n",
       "    </tr>\n",
       "    <tr>\n",
       "      <th>181501</th>\n",
       "      <td>WP_087898295.1|NZ_QOXH01000008.1|116901|+</td>\n",
       "      <td>protein-export chaperone SecB</td>\n",
       "      <td>NaN</td>\n",
       "      <td>-6.046227</td>\n",
       "      <td>1.572435</td>\n",
       "      <td>10.374569</td>\n",
       "    </tr>\n",
       "    <tr>\n",
       "      <th>318046</th>\n",
       "      <td>WP_000119542.1|NZ_RRWK01000047.1|1051|+</td>\n",
       "      <td>type II toxin-antitoxin system RelE/ParE famil...</td>\n",
       "      <td>NaN</td>\n",
       "      <td>-1.938544</td>\n",
       "      <td>1.897975</td>\n",
       "      <td>9.851374</td>\n",
       "    </tr>\n",
       "    <tr>\n",
       "      <th>175474</th>\n",
       "      <td>WP_087905282.1|NZ_QOXC01000021.1|347|+</td>\n",
       "      <td>HNH endonuclease</td>\n",
       "      <td>NaN</td>\n",
       "      <td>-0.086066</td>\n",
       "      <td>4.238113</td>\n",
       "      <td>9.645518</td>\n",
       "    </tr>\n",
       "    <tr>\n",
       "      <th>278599</th>\n",
       "      <td>WP_021531160.1|NZ_QOYV01000003.1|25308|+</td>\n",
       "      <td>type I-F CRISPR-associated protein Csy3</td>\n",
       "      <td>csy3</td>\n",
       "      <td>-0.293292</td>\n",
       "      <td>0.813251</td>\n",
       "      <td>9.504058</td>\n",
       "    </tr>\n",
       "  </tbody>\n",
       "</table>\n",
       "</div>"
      ],
      "text/plain": [
       "                               protein_context_id   \n",
       "160937  WP_000208382.1|NZ_QOYQ01000011.1|362448|-  \\\n",
       "311078   WP_097311032.1|NZ_RRVF01000061.1|24145|+   \n",
       "178953   WP_000357807.1|NZ_QOXQ01000045.1|28194|+   \n",
       "159986   WP_000020778.1|NZ_QOYT01000066.1|11614|-   \n",
       "311377    WP_063930100.1|NZ_RRVF01000109.1|1020|-   \n",
       "175085   WP_001416755.1|NZ_RRVF01000012.1|95095|-   \n",
       "277969    WP_000192872.1|NZ_QOYU01000054.1|2816|+   \n",
       "166035   WP_000210436.1|NZ_QOWX01000046.1|16489|-   \n",
       "201691   WP_071337424.1|NZ_QOXQ01000009.1|26780|+   \n",
       "270324    WP_000099232.1|NZ_QOYQ01000045.1|1457|+   \n",
       "194678   WP_228569617.1|NZ_QOXO01000001.1|92894|+   \n",
       "125653   WP_001238890.1|NZ_QOXL01000015.1|76159|-   \n",
       "288799  WP_001258953.1|NZ_QOYY01000009.1|212919|+   \n",
       "212272  WP_000504882.1|NZ_QOXY01000009.1|111728|+   \n",
       "180693     WP_000222771.1|NZ_QOXG01000086.1|207|-   \n",
       "234859   WP_087891919.1|NZ_QOYD01000025.1|15043|+   \n",
       "181501  WP_087898295.1|NZ_QOXH01000008.1|116901|+   \n",
       "318046    WP_000119542.1|NZ_RRWK01000047.1|1051|+   \n",
       "175474     WP_087905282.1|NZ_QOXC01000021.1|347|+   \n",
       "278599   WP_021531160.1|NZ_QOYV01000003.1|25308|+   \n",
       "\n",
       "                                                     name symbol   \n",
       "160937                             DUF6088 family protein    NaN  \\\n",
       "311078                     Mov34/MPN/PAD-1 family protein    NaN   \n",
       "178953                                OmpA family protein    NaN   \n",
       "159986                              TatD family hydrolase    NaN   \n",
       "311377             ImmA/IrrE family metallo-endopeptidase    NaN   \n",
       "175085  type I-E CRISPR-associated endoribonuclease Cas2e  cas2e   \n",
       "277969                               hypothetical protein    NaN   \n",
       "166035                                ATP-binding protein    NaN   \n",
       "201691                 cGAMP-activated phospholipase CapV   capV   \n",
       "270324                      WYL domain-containing protein    NaN   \n",
       "194678                     Mov34/MPN/PAD-1 family protein    NaN   \n",
       "125653                                   DNA helicase Rep    rep   \n",
       "288799             adenine-specific DNA-methyltransferase   yhdJ   \n",
       "212272                                McrC family protein    NaN   \n",
       "180693  type II toxin-antitoxin system RelE/ParE famil...    NaN   \n",
       "234859                    GIY-YIG nuclease family protein    NaN   \n",
       "181501                      protein-export chaperone SecB    NaN   \n",
       "318046  type II toxin-antitoxin system RelE/ParE famil...    NaN   \n",
       "175474                                   HNH endonuclease    NaN   \n",
       "278599            type I-F CRISPR-associated protein Csy3   csy3   \n",
       "\n",
       "        mean_log_odds  sd_log_odds   log_odds  \n",
       "160937      -0.287845     1.930048  17.549826  \n",
       "311078      -1.771182     1.688892  15.546505  \n",
       "178953      -3.951241     2.545136  15.288170  \n",
       "159986      -4.802853     0.835294  14.994752  \n",
       "311377      -1.053324     1.983924  14.714579  \n",
       "175085      -0.255831     1.812746  14.541435  \n",
       "277969      -1.826668     1.015055  13.746411  \n",
       "166035      -0.888991     1.318196  13.732205  \n",
       "201691      -0.911930     3.985926  13.583309  \n",
       "270324      -4.580885     2.683587  13.125983  \n",
       "194678      -1.101731     2.089310  12.304920  \n",
       "125653      -7.499367     2.164113  11.709016  \n",
       "288799      -1.485074     5.475794  11.143427  \n",
       "212272      -0.449491     1.197801  10.908928  \n",
       "180693      -0.420658     1.540161  10.617836  \n",
       "234859      -0.391406     1.137397  10.497934  \n",
       "181501      -6.046227     1.572435  10.374569  \n",
       "318046      -1.938544     1.897975   9.851374  \n",
       "175474      -0.086066     4.238113   9.645518  \n",
       "278599      -0.293292     0.813251   9.504058  "
      ]
     },
     "execution_count": 58,
     "metadata": {},
     "output_type": "execute_result"
    }
   ],
   "source": [
    "(all_merged_predictions.query('old_hit').sort_values('log_odds', ascending=False)\n",
    " .groupby('cluster_id')\n",
    " .head(1)\n",
    " .head(20) \n",
    " [['protein_context_id', 'name', 'symbol', 'mean_log_odds', 'sd_log_odds', 'log_odds']])"
   ]
  },
  {
   "cell_type": "code",
   "execution_count": null,
   "id": "50e52323-63d7-48f0-9164-f6e56ce69ab0",
   "metadata": {},
   "outputs": [],
   "source": []
  }
 ],
 "metadata": {
  "kernelspec": {
   "display_name": "beaker",
   "language": "python",
   "name": "beaker"
  },
  "language_info": {
   "codemirror_mode": {
    "name": "ipython",
    "version": 3
   },
   "file_extension": ".py",
   "mimetype": "text/x-python",
   "name": "python",
   "nbconvert_exporter": "python",
   "pygments_lexer": "ipython3",
   "version": "3.8.16"
  }
 },
 "nbformat": 4,
 "nbformat_minor": 5
}
