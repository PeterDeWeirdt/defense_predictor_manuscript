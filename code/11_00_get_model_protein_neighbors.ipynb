{
 "cells": [
  {
   "cell_type": "code",
   "execution_count": 1,
   "id": "b2b2446f-6c49-4b79-b026-fdd1f8f3140a",
   "metadata": {},
   "outputs": [],
   "source": [
    "import pandas as pd\n",
    "from tqdm import tqdm\n",
    "import os\n",
    "from joblib import Parallel, delayed\n",
    "import numpy as np"
   ]
  },
  {
   "cell_type": "code",
   "execution_count": 2,
   "id": "085a1e9e-50a9-45b1-8428-67291ef83a32",
   "metadata": {},
   "outputs": [],
   "source": [
    "model_seq_df = pd.read_parquet('../data/interim/model_seqs.pq')"
   ]
  },
  {
   "cell_type": "code",
   "execution_count": 4,
   "id": "62619be2-fb4d-4703-9d38-e49f41097c9d",
   "metadata": {},
   "outputs": [],
   "source": [
    "model_seq_df.to_csv('../data/processed/model_seqs.csv', index=False)"
   ]
  },
  {
   "cell_type": "code",
   "execution_count": 4,
   "id": "4c86f356-cf0f-4a06-959c-b2c49bc124c9",
   "metadata": {},
   "outputs": [
    {
     "data": {
      "text/plain": [
       "1997942"
      ]
     },
     "execution_count": 4,
     "metadata": {},
     "output_type": "execute_result"
    }
   ],
   "source": [
    "len(model_seq_df)"
   ]
  },
  {
   "cell_type": "code",
   "execution_count": 5,
   "id": "102fe8aa-f68c-4e04-8e56-7cd67b13bbfa",
   "metadata": {},
   "outputs": [
    {
     "data": {
      "text/plain": [
       "split  defense\n",
       "train  False      1644397\n",
       "test   False       166243\n",
       "train  True         99642\n",
       "val    False        73098\n",
       "test   True         10128\n",
       "val    True          4434\n",
       "Name: count, dtype: int64"
      ]
     },
     "execution_count": 5,
     "metadata": {},
     "output_type": "execute_result"
    }
   ],
   "source": [
    "model_seq_df[['split', 'defense']].value_counts()"
   ]
  },
  {
   "cell_type": "code",
   "execution_count": 6,
   "id": "7d1b06dd-c200-4f32-8b51-c1ad06812f88",
   "metadata": {},
   "outputs": [],
   "source": [
    "n_neighbors = 2"
   ]
  },
  {
   "cell_type": "code",
   "execution_count": 7,
   "id": "cb2b68aa-8ddb-4102-9ae8-553de5fdd978",
   "metadata": {},
   "outputs": [],
   "source": [
    "ft_dir = '../data/genome_downloads/ft/'\n",
    "ft_files = [x for x in os.listdir(ft_dir) if '.txt' in x]"
   ]
  },
  {
   "cell_type": "code",
   "execution_count": 8,
   "id": "2107cee3-6ac5-449c-a816-95b3fb983b5b",
   "metadata": {},
   "outputs": [],
   "source": [
    "n_assemblies = model_seq_df['assembly'].nunique()"
   ]
  },
  {
   "cell_type": "code",
   "execution_count": 9,
   "id": "e73ccc8b-5a09-41db-b679-fe286aabc183",
   "metadata": {},
   "outputs": [],
   "source": [
    "neighbor_out = '../data/interim/temp_protein_neighbors/'"
   ]
  },
  {
   "cell_type": "code",
   "execution_count": 10,
   "id": "79911f90-8c30-45f5-9335-09373dae15b2",
   "metadata": {},
   "outputs": [],
   "source": [
    "if 'temp_protein_neighbors' in os.listdir('../data/interim'):\n",
    "    os.system('rm -r ' + neighbor_out)\n",
    "os.mkdir(neighbor_out)"
   ]
  },
  {
   "cell_type": "code",
   "execution_count": 11,
   "id": "65395d60-cdd0-43a1-9af3-e7b2c93434a1",
   "metadata": {},
   "outputs": [],
   "source": [
    "def get_assembly_neighbors(assembly, assembly_df, ft_files, ft_dir, neighbor_out):\n",
    "    assembly_ft_file = next(x for x in ft_files if assembly in x)\n",
    "    assembly_ft = pd.read_table(ft_dir + assembly_ft_file)\n",
    "    assembly_ft['attributes'] = assembly_ft['attributes'].astype(str)\n",
    "    filtered_ft = assembly_ft[~assembly_ft['attributes'].str.contains('pseudo', na=False) & \n",
    "                              (assembly_ft['# feature'] == 'CDS')].reset_index(drop=True)\n",
    "    filtered_ft['protein_context_id'] = (filtered_ft['product_accession'] + '|' +\n",
    "                                         filtered_ft['genomic_accession'] + '|' +\n",
    "                                         filtered_ft['start'].astype(str) + '|' +\n",
    "                                         filtered_ft['strand'])\n",
    "    assembly_neighbor_list = []\n",
    "    for _, row in assembly_df.iterrows():\n",
    "        protein_context_id = row['protein_context_id']\n",
    "        seq_id = row['seq_id']\n",
    "        center_row = (filtered_ft[filtered_ft['protein_context_id'] == protein_context_id]\n",
    "                      .squeeze())\n",
    "        center_index = center_row.name\n",
    "        center_location = center_row['genomic_accession']\n",
    "        center_strand = center_row['strand']\n",
    "        protein_neighbor_df = (filtered_ft.iloc[max(center_index - n_neighbors, 0):(center_index+n_neighbors+1), :])\n",
    "        protein_neigbhor_df = protein_neighbor_df[protein_neighbor_df['genomic_accession'] == center_location]\n",
    "        protein_neighbor_out = (protein_neigbhor_df[['product_accession', 'protein_context_id']].reset_index()\n",
    "                                .rename(columns={'index': 'relative_position'}))\n",
    "        protein_neighbor_out['relative_position'] = protein_neighbor_out['relative_position'] - center_index\n",
    "        if center_strand == '-':\n",
    "            protein_neighbor_out['relative_position'] = -protein_neighbor_out['relative_position']\n",
    "        protein_neighbor_out['center_seq_id'] = seq_id\n",
    "        assembly_neighbor_list.append(protein_neighbor_out)\n",
    "    assembly_neighbor_df = (pd.concat(assembly_neighbor_list)\n",
    "                            .reset_index(drop=True))\n",
    "    assembly_neighbor_df.to_csv(neighbor_out + assembly  + '.csv', index=False, header=False)"
   ]
  },
  {
   "cell_type": "code",
   "execution_count": 12,
   "id": "ac3426a6-1d7f-4edf-92d8-92a0e1e4c060",
   "metadata": {},
   "outputs": [
    {
     "name": "stderr",
     "output_type": "stream",
     "text": [
      "100%|██████████| 17405/17405 [02:25<00:00, 119.81it/s]\n"
     ]
    }
   ],
   "source": [
    "_ = Parallel(n_jobs=48)(delayed(get_assembly_neighbors)\n",
    "                    (assembly, assembly_df, ft_files, ft_dir, neighbor_out)\n",
    "                    for assembly, assembly_df in tqdm(model_seq_df.groupby('assembly'), \n",
    "                                                       total=n_assemblies, leave=True, \n",
    "                                                       position=0))"
   ]
  },
  {
   "cell_type": "code",
   "execution_count": 13,
   "id": "2909aa57-513d-49f2-bcc0-b2cc934dd537",
   "metadata": {},
   "outputs": [],
   "source": [
    "model_protein_neighbor_file = '../data/interim/model_protein_neighbors.csv'"
   ]
  },
  {
   "cell_type": "code",
   "execution_count": 14,
   "id": "10b0fb39-389a-4220-8250-c51d3d7fd5d5",
   "metadata": {},
   "outputs": [
    {
     "data": {
      "text/plain": [
       "0"
      ]
     },
     "execution_count": 14,
     "metadata": {},
     "output_type": "execute_result"
    }
   ],
   "source": [
    "os.system('cat ' + neighbor_out + '*.csv > ' + model_protein_neighbor_file)"
   ]
  },
  {
   "cell_type": "code",
   "execution_count": 15,
   "id": "7c3d3331-6ba9-466d-aec5-421be7a20387",
   "metadata": {},
   "outputs": [
    {
     "data": {
      "text/plain": [
       "0"
      ]
     },
     "execution_count": 15,
     "metadata": {},
     "output_type": "execute_result"
    }
   ],
   "source": [
    "os.system('rm -r ' + neighbor_out)"
   ]
  },
  {
   "cell_type": "code",
   "execution_count": 16,
   "id": "1df3d18b-846e-4fd3-8798-7fb554c390a7",
   "metadata": {},
   "outputs": [],
   "source": [
    "model_protein_neighbor_df = pd.read_csv(model_protein_neighbor_file, \n",
    "                                        names=['relative_position', 'product_accession', 'protein_context_id', 'center_seq_id'])"
   ]
  },
  {
   "cell_type": "code",
   "execution_count": 17,
   "id": "9701094f-e9ef-4d40-827c-c30b061fb68e",
   "metadata": {},
   "outputs": [
    {
     "data": {
      "text/plain": [
       "relative_position\n",
       " 0    1997942\n",
       " 1    1949892\n",
       "-1    1948300\n",
       " 2    1926775\n",
       "-2    1926174\n",
       "Name: count, dtype: int64"
      ]
     },
     "execution_count": 17,
     "metadata": {},
     "output_type": "execute_result"
    }
   ],
   "source": [
    "model_protein_neighbor_df['relative_position'].value_counts()"
   ]
  },
  {
   "cell_type": "code",
   "execution_count": 18,
   "id": "a02db2ea-4990-4d6b-8402-1fb24cc3416c",
   "metadata": {},
   "outputs": [],
   "source": [
    "model_protein_neighbor_ids = model_protein_neighbor_df['product_accession'].drop_duplicates()"
   ]
  },
  {
   "cell_type": "code",
   "execution_count": 19,
   "id": "6dd619dd-0c4d-426b-8ca7-1a154935294a",
   "metadata": {},
   "outputs": [
    {
     "data": {
      "text/plain": [
       "8444708"
      ]
     },
     "execution_count": 19,
     "metadata": {},
     "output_type": "execute_result"
    }
   ],
   "source": [
    "len(model_protein_neighbor_ids)"
   ]
  },
  {
   "cell_type": "code",
   "execution_count": 20,
   "id": "e55a0e7e-7cfa-49d9-b3f3-75f626ab619b",
   "metadata": {},
   "outputs": [
    {
     "name": "stdout",
     "output_type": "stream",
     "text": [
      "CPU times: user 35.4 s, sys: 11.4 s, total: 46.8 s\n",
      "Wall time: 51 s\n"
     ]
    }
   ],
   "source": [
    "%%time\n",
    "all_protein_ids = pd.read_parquet('../data/interim/seq_id_accessions.pq')"
   ]
  },
  {
   "cell_type": "code",
   "execution_count": 21,
   "id": "991a3bdb-fd69-4fb3-8e6a-012857663e0e",
   "metadata": {},
   "outputs": [],
   "source": [
    "neighbor_protein_id_df = all_protein_ids[all_protein_ids['protein_accession'].isin(model_protein_neighbor_ids)]"
   ]
  },
  {
   "cell_type": "code",
   "execution_count": 22,
   "id": "37efb2b8-4dc5-4b87-b7fe-42ff5f6f09b9",
   "metadata": {},
   "outputs": [],
   "source": [
    "neighbor_seq_ids = set(neighbor_protein_id_df['seq_id'].drop_duplicates())"
   ]
  },
  {
   "cell_type": "code",
   "execution_count": 23,
   "id": "8c5a01a9-072c-46ba-be31-21b67223aa78",
   "metadata": {},
   "outputs": [],
   "source": [
    "chunk_size = 10_000"
   ]
  },
  {
   "cell_type": "code",
   "execution_count": 24,
   "id": "3467969f-0ce0-412c-993a-accdf98c47bc",
   "metadata": {},
   "outputs": [],
   "source": [
    "model_seq_neighbor_out = '../data/interim/model_seq_neighbors/'"
   ]
  },
  {
   "cell_type": "code",
   "execution_count": 27,
   "id": "c2163149-b744-49e3-84f4-788171bd198e",
   "metadata": {},
   "outputs": [],
   "source": [
    "if 'model_seq_neighbors' in os.listdir('../data/interim'):\n",
    "    os.system('rm -r ' + model_seq_neighbor_out)\n",
    "os.mkdir(model_seq_neighbor_out)"
   ]
  },
  {
   "cell_type": "code",
   "execution_count": 30,
   "id": "a13b5c30-2e34-4f5e-983a-688a1326ea13",
   "metadata": {},
   "outputs": [],
   "source": [
    "n_chunks = np.ceil(len(neighbor_protein_id_df)/chunk_size)"
   ]
  },
  {
   "cell_type": "code",
   "execution_count": 33,
   "id": "9b0196bc-98cf-45f5-ba76-b09dbeed5d78",
   "metadata": {},
   "outputs": [],
   "source": [
    "n_super_chunks = 4"
   ]
  },
  {
   "cell_type": "code",
   "execution_count": 34,
   "id": "698ef4b8-f51d-4fe8-bbf2-99d224d5c431",
   "metadata": {},
   "outputs": [
    {
     "data": {
      "text/plain": [
       "212.0"
      ]
     },
     "execution_count": 34,
     "metadata": {},
     "output_type": "execute_result"
    }
   ],
   "source": [
    "super_chunk_size = np.ceil(n_chunks/n_super_chunks)\n",
    "super_chunk_size"
   ]
  },
  {
   "cell_type": "code",
   "execution_count": 35,
   "id": "3f62dfd0-3cce-4e31-8755-28af1297b13e",
   "metadata": {},
   "outputs": [],
   "source": [
    "for i in range(n_super_chunks):\n",
    "    os.mkdir(model_seq_neighbor_out + str(i))"
   ]
  },
  {
   "cell_type": "code",
   "execution_count": 37,
   "id": "ea339bd3-e8c8-4a30-a773-93c11a9ca67e",
   "metadata": {},
   "outputs": [
    {
     "name": "stderr",
     "output_type": "stream",
     "text": [
      "133062578it [01:44, 1279267.68it/s]\n"
     ]
    }
   ],
   "source": [
    "i = 0\n",
    "chunk = 0\n",
    "super_chunk = 0\n",
    "for line in tqdm(open('../data/interim/unique_seqs.faa', 'r')):\n",
    "    if '>' == line[0]: \n",
    "        seq_id = line[1:-1]\n",
    "    else:\n",
    "        seq = line[:-1]\n",
    "        if seq_id in neighbor_seq_ids:\n",
    "            if i % chunk_size == 0:\n",
    "                super_chunk = str(int(np.floor(chunk/super_chunk_size)))\n",
    "                if i != 0:\n",
    "                    f.close()\n",
    "                f = open(model_seq_neighbor_out + super_chunk + '/neighbors_' + str(chunk) + '.faa', 'w')\n",
    "                chunk += 1\n",
    "            if 'J' in seq:\n",
    "                seq = seq.replace('J', 'L')\n",
    "            print('>'+seq_id, file=f)\n",
    "            print(seq, file=f)\n",
    "            i += 1\n",
    "f.close()"
   ]
  },
  {
   "cell_type": "code",
   "execution_count": 38,
   "id": "23565601-acbb-4399-907b-b24e6f6cd9d1",
   "metadata": {},
   "outputs": [],
   "source": [
    "neighbor_protein_id_df = neighbor_protein_id_df.set_index('protein_accession')"
   ]
  },
  {
   "cell_type": "code",
   "execution_count": 39,
   "id": "ab40826d-399f-49bd-a3b4-3483290e3f97",
   "metadata": {},
   "outputs": [],
   "source": [
    "model_protein_neighbor_df = model_protein_neighbor_df.set_index('product_accession')"
   ]
  },
  {
   "cell_type": "code",
   "execution_count": 40,
   "id": "8fd3cbb3-1bdc-4c4c-adee-2d112ff84cc8",
   "metadata": {},
   "outputs": [],
   "source": [
    "merged_neigbhor_seq_ids = (neighbor_protein_id_df.merge(model_protein_neighbor_df, how='inner', \n",
    "                                                        left_index=True, right_index=True))"
   ]
  },
  {
   "cell_type": "code",
   "execution_count": 41,
   "id": "e87fb7f7-0971-44f4-a60b-6d27aab2238f",
   "metadata": {},
   "outputs": [
    {
     "data": {
      "text/html": [
       "<div>\n",
       "<style scoped>\n",
       "    .dataframe tbody tr th:only-of-type {\n",
       "        vertical-align: middle;\n",
       "    }\n",
       "\n",
       "    .dataframe tbody tr th {\n",
       "        vertical-align: top;\n",
       "    }\n",
       "\n",
       "    .dataframe thead th {\n",
       "        text-align: right;\n",
       "    }\n",
       "</style>\n",
       "<table border=\"1\" class=\"dataframe\">\n",
       "  <thead>\n",
       "    <tr style=\"text-align: right;\">\n",
       "      <th></th>\n",
       "      <th>seq_id</th>\n",
       "      <th>relative_position</th>\n",
       "      <th>protein_context_id</th>\n",
       "      <th>center_seq_id</th>\n",
       "    </tr>\n",
       "    <tr>\n",
       "      <th>protein_accession</th>\n",
       "      <th></th>\n",
       "      <th></th>\n",
       "      <th></th>\n",
       "      <th></th>\n",
       "    </tr>\n",
       "  </thead>\n",
       "  <tbody>\n",
       "    <tr>\n",
       "      <th>NP_052604.1</th>\n",
       "      <td>589f03f456b3b2319598ba16c39b02ea0e93b4938b9323...</td>\n",
       "      <td>2</td>\n",
       "      <td>NP_052604.1|NC_002127.1|413|+</td>\n",
       "      <td>02ae268da7033aa3ca6b088be59f545bf1fb3f78fcba30...</td>\n",
       "    </tr>\n",
       "    <tr>\n",
       "      <th>NP_052604.1</th>\n",
       "      <td>589f03f456b3b2319598ba16c39b02ea0e93b4938b9323...</td>\n",
       "      <td>1</td>\n",
       "      <td>NP_052604.1|NC_002127.1|413|+</td>\n",
       "      <td>45c9ffceb4c19a3772cd39c075a6ac7754bb253e171b0b...</td>\n",
       "    </tr>\n",
       "    <tr>\n",
       "      <th>NP_052605.1</th>\n",
       "      <td>45c9ffceb4c19a3772cd39c075a6ac7754bb253e171b0b...</td>\n",
       "      <td>1</td>\n",
       "      <td>NP_052605.1|NC_002127.1|971|-</td>\n",
       "      <td>02ae268da7033aa3ca6b088be59f545bf1fb3f78fcba30...</td>\n",
       "    </tr>\n",
       "    <tr>\n",
       "      <th>NP_052605.1</th>\n",
       "      <td>45c9ffceb4c19a3772cd39c075a6ac7754bb253e171b0b...</td>\n",
       "      <td>0</td>\n",
       "      <td>NP_052605.1|NC_002127.1|971|-</td>\n",
       "      <td>45c9ffceb4c19a3772cd39c075a6ac7754bb253e171b0b...</td>\n",
       "    </tr>\n",
       "    <tr>\n",
       "      <th>NP_052606.1</th>\n",
       "      <td>02ae268da7033aa3ca6b088be59f545bf1fb3f78fcba30...</td>\n",
       "      <td>0</td>\n",
       "      <td>NP_052606.1|NC_002127.1|1348|-</td>\n",
       "      <td>02ae268da7033aa3ca6b088be59f545bf1fb3f78fcba30...</td>\n",
       "    </tr>\n",
       "  </tbody>\n",
       "</table>\n",
       "</div>"
      ],
      "text/plain": [
       "                                                              seq_id   \n",
       "protein_accession                                                      \n",
       "NP_052604.1        589f03f456b3b2319598ba16c39b02ea0e93b4938b9323...  \\\n",
       "NP_052604.1        589f03f456b3b2319598ba16c39b02ea0e93b4938b9323...   \n",
       "NP_052605.1        45c9ffceb4c19a3772cd39c075a6ac7754bb253e171b0b...   \n",
       "NP_052605.1        45c9ffceb4c19a3772cd39c075a6ac7754bb253e171b0b...   \n",
       "NP_052606.1        02ae268da7033aa3ca6b088be59f545bf1fb3f78fcba30...   \n",
       "\n",
       "                   relative_position              protein_context_id   \n",
       "protein_accession                                                      \n",
       "NP_052604.1                        2   NP_052604.1|NC_002127.1|413|+  \\\n",
       "NP_052604.1                        1   NP_052604.1|NC_002127.1|413|+   \n",
       "NP_052605.1                        1   NP_052605.1|NC_002127.1|971|-   \n",
       "NP_052605.1                        0   NP_052605.1|NC_002127.1|971|-   \n",
       "NP_052606.1                        0  NP_052606.1|NC_002127.1|1348|-   \n",
       "\n",
       "                                                       center_seq_id  \n",
       "protein_accession                                                     \n",
       "NP_052604.1        02ae268da7033aa3ca6b088be59f545bf1fb3f78fcba30...  \n",
       "NP_052604.1        45c9ffceb4c19a3772cd39c075a6ac7754bb253e171b0b...  \n",
       "NP_052605.1        02ae268da7033aa3ca6b088be59f545bf1fb3f78fcba30...  \n",
       "NP_052605.1        45c9ffceb4c19a3772cd39c075a6ac7754bb253e171b0b...  \n",
       "NP_052606.1        02ae268da7033aa3ca6b088be59f545bf1fb3f78fcba30...  "
      ]
     },
     "execution_count": 41,
     "metadata": {},
     "output_type": "execute_result"
    }
   ],
   "source": [
    "merged_neigbhor_seq_ids.head()"
   ]
  },
  {
   "cell_type": "code",
   "execution_count": 42,
   "id": "5690b809-36bf-4406-b01d-81df06004e0a",
   "metadata": {},
   "outputs": [
    {
     "data": {
      "text/plain": [
       "relative_position\n",
       " 0    1997942\n",
       " 1    1949892\n",
       "-1    1948300\n",
       " 2    1926775\n",
       "-2    1926174\n",
       "Name: count, dtype: int64"
      ]
     },
     "execution_count": 42,
     "metadata": {},
     "output_type": "execute_result"
    }
   ],
   "source": [
    "merged_neigbhor_seq_ids['relative_position'].value_counts()"
   ]
  },
  {
   "cell_type": "code",
   "execution_count": 43,
   "id": "eac366ea-93d5-4fbf-b717-63c1f7545b6a",
   "metadata": {},
   "outputs": [],
   "source": [
    "merged_neigbhor_seq_ids.to_parquet('../data/interim/model_protein_neighbors_seq_ids.pq')"
   ]
  },
  {
   "cell_type": "code",
   "execution_count": 44,
   "id": "962600fe-ccf4-4493-84b0-e7c0f342b391",
   "metadata": {},
   "outputs": [],
   "source": [
    "model_seq_df.to_parquet('../data/interim/filtered_model_seqs.pq', index=False)"
   ]
  },
  {
   "cell_type": "markdown",
   "id": "4e2853d1-d6ea-4ca8-8eef-e8d8f4bb71ec",
   "metadata": {},
   "source": [
    "### Optional -- remove representations folder if building new representations"
   ]
  },
  {
   "cell_type": "code",
   "execution_count": 5,
   "id": "f40bf7ff-260d-4937-aaa7-a251c13fa7ab",
   "metadata": {},
   "outputs": [],
   "source": [
    "if 'representations' in os.listdir('../data/interim'):\n",
    "    os.system('rm -r ../data/interim/representations/')\n",
    "os.mkdir('../data/interim/representations/')"
   ]
  },
  {
   "cell_type": "code",
   "execution_count": null,
   "id": "6eac7ff6-b504-4ddc-8c99-54764eb49efa",
   "metadata": {},
   "outputs": [],
   "source": []
  }
 ],
 "metadata": {
  "kernelspec": {
   "display_name": "beaker",
   "language": "python",
   "name": "beaker"
  },
  "language_info": {
   "codemirror_mode": {
    "name": "ipython",
    "version": 3
   },
   "file_extension": ".py",
   "mimetype": "text/x-python",
   "name": "python",
   "nbconvert_exporter": "python",
   "pygments_lexer": "ipython3",
   "version": "3.8.16"
  }
 },
 "nbformat": 4,
 "nbformat_minor": 5
}
