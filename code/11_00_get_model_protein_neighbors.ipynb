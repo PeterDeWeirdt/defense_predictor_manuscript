{
 "cells": [
  {
   "cell_type": "code",
   "execution_count": 2,
   "id": "b2b2446f-6c49-4b79-b026-fdd1f8f3140a",
   "metadata": {},
   "outputs": [],
   "source": [
    "import pandas as pd\n",
    "from tqdm import tqdm\n",
    "import os\n",
    "from joblib import Parallel, delayed\n",
    "import numpy as np"
   ]
  },
  {
   "cell_type": "code",
   "execution_count": 3,
   "id": "085a1e9e-50a9-45b1-8428-67291ef83a32",
   "metadata": {},
   "outputs": [],
   "source": [
    "model_seq_df = pd.read_parquet('../data3/interim/model_seq_info.pq')"
   ]
  },
  {
   "cell_type": "code",
   "execution_count": 4,
   "id": "4c86f356-cf0f-4a06-959c-b2c49bc124c9",
   "metadata": {},
   "outputs": [
    {
     "data": {
      "text/plain": [
       "200458"
      ]
     },
     "execution_count": 4,
     "metadata": {},
     "output_type": "execute_result"
    }
   ],
   "source": [
    "len(model_seq_df)"
   ]
  },
  {
   "cell_type": "code",
   "execution_count": 5,
   "id": "7d1b06dd-c200-4f32-8b51-c1ad06812f88",
   "metadata": {},
   "outputs": [],
   "source": [
    "n_neighbors = 2"
   ]
  },
  {
   "cell_type": "code",
   "execution_count": 6,
   "id": "cb2b68aa-8ddb-4102-9ae8-553de5fdd978",
   "metadata": {},
   "outputs": [],
   "source": [
    "ft_dir = '../data/genome_downloads/ft/'\n",
    "ft_files = {x.split('.')[0]: x for x in os.listdir(ft_dir) if '.txt' in x}"
   ]
  },
  {
   "cell_type": "code",
   "execution_count": 7,
   "id": "65395d60-cdd0-43a1-9af3-e7b2c93434a1",
   "metadata": {},
   "outputs": [],
   "source": [
    "def get_assembly_neighbors(assembly, assembly_df, ft_files=ft_files, ft_dir=ft_dir):\n",
    "    assembly_ft_file = ft_files[assembly]\n",
    "    assembly_ft = pd.read_table(ft_dir + assembly_ft_file)\n",
    "    assembly_ft['attributes'] = assembly_ft['attributes'].astype(str)\n",
    "    filtered_ft = assembly_ft[~assembly_ft['attributes'].str.contains('pseudo', na=False) & \n",
    "                              (assembly_ft['# feature'] == 'CDS')].reset_index(drop=True)\n",
    "    filtered_ft['protein_context_id'] = (filtered_ft['product_accession'] + '|' +\n",
    "                                         filtered_ft['genomic_accession'] + '|' +\n",
    "                                         filtered_ft['start'].astype(str) + '|' +\n",
    "                                         filtered_ft['strand'])\n",
    "    assembly_neighbor_list = []\n",
    "    for _, row in assembly_df.iterrows():\n",
    "        protein_context_id = row['protein_context_id']\n",
    "        seq_id = row['seq_id']\n",
    "        center_row = (filtered_ft[filtered_ft['protein_context_id'] == protein_context_id]\n",
    "                      .squeeze())\n",
    "        center_index = center_row.name\n",
    "        center_location = center_row['genomic_accession']\n",
    "        center_strand = center_row['strand']\n",
    "        protein_neighbor_df = (filtered_ft.iloc[max(center_index - n_neighbors, 0):(center_index+n_neighbors+1), :])\n",
    "        protein_neigbhor_df = protein_neighbor_df[protein_neighbor_df['genomic_accession'] == center_location]\n",
    "        protein_neighbor_out = (protein_neigbhor_df[['product_accession', 'protein_context_id', 'start', 'end', 'strand']].reset_index()\n",
    "                                .rename(columns={'index': 'relative_position'}))\n",
    "        protein_neighbor_out['relative_position'] = protein_neighbor_out['relative_position'] - center_index\n",
    "        if center_strand == '-':\n",
    "            protein_neighbor_out['relative_position'] = -protein_neighbor_out['relative_position']\n",
    "        protein_neighbor_out['center_seq_id'] = seq_id\n",
    "        assembly_neighbor_list.append(protein_neighbor_out)\n",
    "    assembly_neighbor_df = (pd.concat(assembly_neighbor_list)\n",
    "                            .reset_index(drop=True))\n",
    "    return assembly_neighbor_df"
   ]
  },
  {
   "cell_type": "code",
   "execution_count": 8,
   "id": "2107cee3-6ac5-449c-a816-95b3fb983b5b",
   "metadata": {},
   "outputs": [],
   "source": [
    "n_assemblies = model_seq_df['assembly_stub'].nunique()"
   ]
  },
  {
   "cell_type": "code",
   "execution_count": 9,
   "id": "ac3426a6-1d7f-4edf-92d8-92a0e1e4c060",
   "metadata": {},
   "outputs": [
    {
     "name": "stderr",
     "output_type": "stream",
     "text": [
      "100%|██████████| 17109/17109 [02:14<00:00, 127.09it/s]\n"
     ]
    }
   ],
   "source": [
    "assembly_neighbor_list = Parallel(n_jobs=48)(delayed(get_assembly_neighbors)\n",
    "                                             (assembly, assembly_df, ft_files)\n",
    "                                             for assembly, assembly_df in tqdm(model_seq_df.groupby('assembly_stub'), \n",
    "                                                                               total=n_assemblies, position=0))"
   ]
  },
  {
   "cell_type": "code",
   "execution_count": 10,
   "id": "1df3d18b-846e-4fd3-8798-7fb554c390a7",
   "metadata": {},
   "outputs": [],
   "source": [
    "model_protein_neighbor_df = pd.concat(assembly_neighbor_list)"
   ]
  },
  {
   "cell_type": "code",
   "execution_count": 11,
   "id": "9701094f-e9ef-4d40-827c-c30b061fb68e",
   "metadata": {},
   "outputs": [
    {
     "data": {
      "text/plain": [
       "relative_position\n",
       " 0    200458\n",
       "-1    185840\n",
       " 1    185007\n",
       "-2    182120\n",
       " 2    181392\n",
       "Name: count, dtype: int64"
      ]
     },
     "execution_count": 11,
     "metadata": {},
     "output_type": "execute_result"
    }
   ],
   "source": [
    "model_protein_neighbor_df['relative_position'].value_counts()"
   ]
  },
  {
   "cell_type": "code",
   "execution_count": 12,
   "id": "a02db2ea-4990-4d6b-8402-1fb24cc3416c",
   "metadata": {},
   "outputs": [],
   "source": [
    "model_protein_neighbor_ids = model_protein_neighbor_df['product_accession'].drop_duplicates()"
   ]
  },
  {
   "cell_type": "code",
   "execution_count": 13,
   "id": "6dd619dd-0c4d-426b-8ca7-1a154935294a",
   "metadata": {},
   "outputs": [
    {
     "data": {
      "text/plain": [
       "897133"
      ]
     },
     "execution_count": 13,
     "metadata": {},
     "output_type": "execute_result"
    }
   ],
   "source": [
    "len(model_protein_neighbor_ids)"
   ]
  },
  {
   "cell_type": "code",
   "execution_count": 14,
   "id": "e55a0e7e-7cfa-49d9-b3f3-75f626ab619b",
   "metadata": {},
   "outputs": [
    {
     "name": "stdout",
     "output_type": "stream",
     "text": [
      "CPU times: user 36.6 s, sys: 11.5 s, total: 48.1 s\n",
      "Wall time: 50.1 s\n"
     ]
    }
   ],
   "source": [
    "%%time\n",
    "all_protein_ids = pd.read_parquet('../data/interim/seq_id_accessions.pq')"
   ]
  },
  {
   "cell_type": "code",
   "execution_count": 15,
   "id": "f6321521-3120-4609-b2a3-79b8f3da8af0",
   "metadata": {},
   "outputs": [],
   "source": [
    "neighbor_seq_ids = all_protein_ids.loc[all_protein_ids['protein_accession'].isin(model_protein_neighbor_ids), \n",
    "                                       'seq_id'].drop_duplicates()"
   ]
  },
  {
   "cell_type": "code",
   "execution_count": 16,
   "id": "4f22def7-6e19-4c49-9419-5eff38ab0086",
   "metadata": {},
   "outputs": [
    {
     "name": "stdout",
     "output_type": "stream",
     "text": [
      "CPU times: user 1min 20s, sys: 1min 5s, total: 2min 25s\n",
      "Wall time: 2min 45s\n"
     ]
    }
   ],
   "source": [
    "%%time\n",
    "all_protein_seqs = pd.read_parquet('../data/interim/refseq_seq_ids.pq')"
   ]
  },
  {
   "cell_type": "code",
   "execution_count": 17,
   "id": "e09261f5-7d3d-437d-b105-06b322e161b1",
   "metadata": {},
   "outputs": [],
   "source": [
    "neighbor_seqs = all_protein_seqs[all_protein_seqs['seq_id']\n",
    "                                 .isin(neighbor_seq_ids)]"
   ]
  },
  {
   "cell_type": "code",
   "execution_count": 18,
   "id": "bb03a512-c5d7-421d-9e9e-90391bcae270",
   "metadata": {},
   "outputs": [
    {
     "name": "stderr",
     "output_type": "stream",
     "text": [
      "100%|██████████| 897131/897131 [00:47<00:00, 18968.34it/s]\n"
     ]
    }
   ],
   "source": [
    "with open('../data3/interim/model_neighbor_seqs.faa', 'w') as f:\n",
    "    for _, row in tqdm(neighbor_seqs.iterrows(), total=len(neighbor_seqs), position=0):\n",
    "        print('>' + row['seq_id'], file=f)\n",
    "        seq = row['seq']\n",
    "        if 'X' in seq:\n",
    "            seq = seq.replace('X', '')\n",
    "        if 'U' in seq:\n",
    "            seq = seq.replace('U', 'C')\n",
    "        if 'B' in seq:\n",
    "            seq = seq.replace('B', 'N')\n",
    "        if 'J' in seq:\n",
    "            seq = seq.replace('J', 'L')\n",
    "        print(seq, file=f)"
   ]
  },
  {
   "cell_type": "code",
   "execution_count": 19,
   "id": "2ec6549a-78c3-4e36-81a8-5a07b9ebdebb",
   "metadata": {},
   "outputs": [],
   "source": [
    "merged_model_protein_neighbors = (model_protein_neighbor_df.merge(all_protein_ids\n",
    "                                                                  .rename(columns={'protein_accession': 'product_accession'}), \n",
    "                                                                  how='inner', on='product_accession')\n",
    "                                  .merge(all_protein_seqs, how='inner', on='seq_id'))"
   ]
  },
  {
   "cell_type": "code",
   "execution_count": 20,
   "id": "eac366ea-93d5-4fbf-b717-63c1f7545b6a",
   "metadata": {},
   "outputs": [],
   "source": [
    "merged_model_protein_neighbors.to_parquet('../data3/interim/model_neighbors_seq_ids.pq', index=False)"
   ]
  },
  {
   "cell_type": "code",
   "execution_count": null,
   "id": "6eac7ff6-b504-4ddc-8c99-54764eb49efa",
   "metadata": {},
   "outputs": [],
   "source": []
  }
 ],
 "metadata": {
  "kernelspec": {
   "display_name": "beaker",
   "language": "python",
   "name": "beaker"
  },
  "language_info": {
   "codemirror_mode": {
    "name": "ipython",
    "version": 3
   },
   "file_extension": ".py",
   "mimetype": "text/x-python",
   "name": "python",
   "nbconvert_exporter": "python",
   "pygments_lexer": "ipython3",
   "version": "3.8.16"
  }
 },
 "nbformat": 4,
 "nbformat_minor": 5
}
