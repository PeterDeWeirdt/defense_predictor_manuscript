{
 "cells": [
  {
   "cell_type": "code",
   "execution_count": 1,
   "id": "7411eb60-076e-4482-9d5f-a62ba8e8b3d6",
   "metadata": {},
   "outputs": [],
   "source": [
    "import pandas as pd"
   ]
  },
  {
   "cell_type": "code",
   "execution_count": 2,
   "id": "b1d51a78-a779-4755-acaf-568e9b4c392a",
   "metadata": {},
   "outputs": [],
   "source": [
    "cog_descriptions = pd.read_parquet('../data/interim/cog_descriptions.pq')\n",
    "cog_proteins = pd.read_parquet('../data/interim/cog_proteins.pq')\n",
    "mobilome_cogs = pd.read_csv('../data/external/mobilome_cog_ids.csv')\n",
    "defense_homologs = pd.read_parquet('../data/interim/defense_finder_homologs_seq_ids.pq')"
   ]
  },
  {
   "cell_type": "code",
   "execution_count": 3,
   "id": "5b455619-6d3d-4bf3-a404-64903301ce47",
   "metadata": {},
   "outputs": [],
   "source": [
    "seq_id_accessions = pd.read_parquet('../data/interim/seq_id_accessions.pq')"
   ]
  },
  {
   "cell_type": "markdown",
   "id": "54dc379e-cdec-4c74-b713-dba39c1fa384",
   "metadata": {},
   "source": [
    "### Write out COGs from Makarova et al. for manual inspection"
   ]
  },
  {
   "cell_type": "code",
   "execution_count": 3,
   "id": "005a85ba-f05e-4860-91fe-05ab81409225",
   "metadata": {},
   "outputs": [],
   "source": [
    "cog_mobilome_descriptions = cog_descriptions[cog_descriptions['cog_id']\n",
    "                                             .isin(mobilome_cogs['cog_id'])]"
   ]
  },
  {
   "cell_type": "code",
   "execution_count": 5,
   "id": "87c74676-744e-4579-a6c3-b33117e9552b",
   "metadata": {},
   "outputs": [],
   "source": [
    "cog_mobilome_descriptions.to_csv('../data/interim/cog_putative_mobilome_descriptions.csv', \n",
    "                                 index=False)"
   ]
  },
  {
   "cell_type": "code",
   "execution_count": 6,
   "id": "6eff6476-e1b5-4b84-8dff-ac6e3df22515",
   "metadata": {},
   "outputs": [],
   "source": [
    "cog_other_descriptions = cog_descriptions[~cog_descriptions['cog_id']\n",
    "                                          .isin(mobilome_cogs['cog_id'])]"
   ]
  },
  {
   "cell_type": "code",
   "execution_count": 7,
   "id": "b7c43f5e-aa2c-4078-b81a-44ae9b603309",
   "metadata": {},
   "outputs": [],
   "source": [
    "cog_other_descriptions.to_csv('../data/interim/cog_other_descriptions.csv', \n",
    "                                 index=False)"
   ]
  },
  {
   "cell_type": "markdown",
   "id": "dc1d85d8-052a-4592-b162-db59fb0a6cf6",
   "metadata": {},
   "source": [
    "### Read in manaully selected cogs"
   ]
  },
  {
   "cell_type": "code",
   "execution_count": 4,
   "id": "6a442a17-af92-4e1d-b8f6-5a3af8d1793e",
   "metadata": {},
   "outputs": [],
   "source": [
    "filtered_mobilome_cog_ids = pd.read_csv('../data/external/filtered_mobilome_cog_ids.csv')\n",
    "secretion_system_cog_ids = pd.read_csv('../data/external/filtered_secretion_system_cog_ids.csv')"
   ]
  },
  {
   "cell_type": "code",
   "execution_count": 5,
   "id": "c648d45d-3e47-4d6e-b917-43bec37eedaa",
   "metadata": {},
   "outputs": [],
   "source": [
    "selected_cog_ids = filtered_mobilome_cog_ids['cog_id'].to_list() + secretion_system_cog_ids['cog_id'].to_list()"
   ]
  },
  {
   "cell_type": "code",
   "execution_count": 6,
   "id": "f5b12d5d-4418-483a-b0d0-d812ab6c4030",
   "metadata": {},
   "outputs": [],
   "source": [
    "selected_cog_protein_ids = (cog_proteins.loc[cog_proteins['cog_id'].isin(selected_cog_ids) &\n",
    "                                             (cog_proteins['membership_class'] == 0), \n",
    "                                             ['protein_id', 'cog_id']].drop_duplicates())"
   ]
  },
  {
   "cell_type": "code",
   "execution_count": 7,
   "id": "cf134970-3403-47ae-b3d4-a93d4dc3d8ba",
   "metadata": {},
   "outputs": [
    {
     "data": {
      "text/plain": [
       "24378"
      ]
     },
     "execution_count": 7,
     "metadata": {},
     "output_type": "execute_result"
    }
   ],
   "source": [
    "len(selected_cog_protein_ids)"
   ]
  },
  {
   "cell_type": "markdown",
   "id": "639fc686-4009-4905-8a58-70ec6d970161",
   "metadata": {},
   "source": [
    "Select subset of sequences in the RefSeq data and filter out homologs of defense systems"
   ]
  },
  {
   "cell_type": "code",
   "execution_count": 8,
   "id": "6131780f-88b9-4f65-a720-916dc80d88d6",
   "metadata": {},
   "outputs": [],
   "source": [
    "selected_cog_seq_ids = seq_id_accessions.loc[(seq_id_accessions['protein_accession'].isin(selected_cog_protein_ids['protein_id'])) &\n",
    "                                              ~seq_id_accessions['seq_id'].isin(defense_homologs['seq_id']), ]"
   ]
  },
  {
   "cell_type": "code",
   "execution_count": 9,
   "id": "5305a476-2ecb-4db8-b1f8-1a674e45949e",
   "metadata": {},
   "outputs": [
    {
     "data": {
      "text/plain": [
       "11924"
      ]
     },
     "execution_count": 9,
     "metadata": {},
     "output_type": "execute_result"
    }
   ],
   "source": [
    "len(selected_cog_seq_ids)"
   ]
  },
  {
   "cell_type": "code",
   "execution_count": 10,
   "id": "76417b17-4dd1-47b3-9772-296ac57238cb",
   "metadata": {},
   "outputs": [],
   "source": [
    "merged_selected_cog_ids = (selected_cog_seq_ids.rename(columns={'protein_accession': 'protein_id'})\n",
    "                           .merge(selected_cog_protein_ids, how='inner', on='protein_id')\n",
    "                           .merge(cog_descriptions[['cog_id', 'cog_name', 'pathway']]\n",
    "                                  .rename(columns={'cog_name': 'name'}), \n",
    "                                  how='inner', on='cog_id'))"
   ]
  },
  {
   "cell_type": "code",
   "execution_count": 11,
   "id": "839405d3-9dcc-4b4c-843f-0d873f10ed15",
   "metadata": {},
   "outputs": [
    {
     "data": {
      "text/plain": [
       "name\n",
       "Site-specific recombinase XerD                                                             1997\n",
       "Transposase                                                                                1345\n",
       "REP element-mobilizing transposase RayT                                                     642\n",
       "Site-specific DNA recombinase SpoIVCA/DNA invertase PinE                                    622\n",
       "Predicted component of the type VI protein secretion system                                 470\n",
       "Transposase (or an inactivated derivative)                                                  396\n",
       "Transposase and inactivated derivatives, IS30 family                                        305\n",
       "Type VI protein secretion system component Hcp (secreted cytotoxin)                         288\n",
       "Type IV secretory pathway, VirB4 component                                                  259\n",
       "Transposase InsO and inactivated derivatives                                                254\n",
       "Transposase InsE and inactivated derivatives                                                244\n",
       "Transposase (or an inactivated derivative), DDE domain                                      223\n",
       "Secreted virulence factor YukE/EsxA, WXG100 family                                          200\n",
       "Type III secretion system substrate exporter, FlhB-like                                     187\n",
       "Phage portal protein BeeE                                                                   180\n",
       "Site-specific recombinase XerC                                                              174\n",
       "Predicted component TssA of the type VI protein secretion system                            170\n",
       "Predicted component TssB of the type VI protein secretion system, VipA/VipB/TssB family     166\n",
       "Type IV secretory pathway, TrbF component                                                   141\n",
       "Predicted site-specific integrase-resolvase                                                 140\n",
       "Name: count, dtype: int64"
      ]
     },
     "execution_count": 11,
     "metadata": {},
     "output_type": "execute_result"
    }
   ],
   "source": [
    "merged_selected_cog_ids['name'].value_counts().head(20)"
   ]
  },
  {
   "cell_type": "code",
   "execution_count": 12,
   "id": "64ac5c38-068f-4127-948d-ef1c9bd529cc",
   "metadata": {},
   "outputs": [
    {
     "data": {
      "text/plain": [
       "name\n",
       "Bacteriophage P2-related tail formation protein                           32\n",
       "Mu-like prophage tail sheath protein gpL                                  26\n",
       "Mu-like prophage tail protein gpP                                         25\n",
       "Phage capsid portal protein XkdE                                          21\n",
       "Phage DNA packaging protein, Nu1 subunit of terminase                     18\n",
       "IS4 transposase InsG                                                      18\n",
       "Type IV secretory pathway, VirB6 component                                17\n",
       "DNA primase, phage- or plasmid-associated                                 17\n",
       "Type III secretory pathway, EscU/YscU component                           15\n",
       "Integrase/recombinase, includes phage integrase                           15\n",
       "Type IV secretory pathway, VirJ component                                 14\n",
       "ESX protein secretion system component YukD                               13\n",
       "Phage-related minor tail protein                                           7\n",
       "Transposase and inactivated derivatives                                    6\n",
       "Transposase, IS1182 family                                                 5\n",
       "Transposase InsA                                                           5\n",
       "Type III secretion system effector SseC (host membrane pore formation)     4\n",
       "Phage tail tape-measure protein, controls tail length                      3\n",
       "Phage-related tail fiber protein                                           3\n",
       "DNA relaxase NicK                                                          2\n",
       "Name: count, dtype: int64"
      ]
     },
     "execution_count": 12,
     "metadata": {},
     "output_type": "execute_result"
    }
   ],
   "source": [
    "merged_selected_cog_ids['name'].value_counts().tail(20)"
   ]
  },
  {
   "cell_type": "code",
   "execution_count": 13,
   "id": "2f68a11e-1432-4035-88ba-600cbc37f695",
   "metadata": {},
   "outputs": [],
   "source": [
    "merged_selected_cog_ids.to_parquet('../data/interim/cog_filtered_seq_ids.pq', index=False)"
   ]
  },
  {
   "cell_type": "code",
   "execution_count": null,
   "id": "825f5214-8012-426d-aa39-e676f55d43fa",
   "metadata": {},
   "outputs": [],
   "source": []
  }
 ],
 "metadata": {
  "kernelspec": {
   "display_name": "beaker",
   "language": "python",
   "name": "beaker"
  },
  "language_info": {
   "codemirror_mode": {
    "name": "ipython",
    "version": 3
   },
   "file_extension": ".py",
   "mimetype": "text/x-python",
   "name": "python",
   "nbconvert_exporter": "python",
   "pygments_lexer": "ipython3",
   "version": "3.8.16"
  }
 },
 "nbformat": 4,
 "nbformat_minor": 5
}
