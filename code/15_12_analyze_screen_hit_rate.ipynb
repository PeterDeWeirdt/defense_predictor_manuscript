{
 "cells": [
  {
   "cell_type": "code",
   "execution_count": 1,
   "id": "1cb9b756-7934-4c0e-bb17-7eedd3ae114c",
   "metadata": {},
   "outputs": [],
   "source": [
    "import pandas as pd\n",
    "import matplotlib.pyplot as plt\n",
    "import seaborn as sns\n",
    "import numpy as np\n",
    "from tqdm import tqdm\n",
    "from gpplot import add_correlation\n",
    "from core import med_log_odds_cutoff\n",
    "from sklearn.linear_model import LogisticRegression\n",
    "import joblib\n",
    "from matplotlib_venn import venn2\n",
    "from scipy import stats\n",
    "import re"
   ]
  },
  {
   "cell_type": "code",
   "execution_count": 2,
   "id": "7cc5b4dd-9dfd-44f8-905b-fb2f30335ff2",
   "metadata": {},
   "outputs": [],
   "source": [
    "plt.rcParams['font.size'] = 7\n",
    "plt.rcParams['svg.fonttype'] = 'none'\n",
    "plt.rcParams['xtick.labelsize'] = 6\n",
    "plt.rcParams['ytick.labelsize'] = 6"
   ]
  },
  {
   "cell_type": "code",
   "execution_count": 3,
   "id": "1e9e5aa3-4a7b-4779-ac45-7f3288ed85c5",
   "metadata": {},
   "outputs": [],
   "source": [
    "def get_percentile(x, percentile):\n",
    "    x = x.dropna()\n",
    "    if len(x):\n",
    "        return np.percentile(x.dropna(), percentile)\n",
    "    else:\n",
    "        return pd.NA\n",
    "    \n",
    "def get_median(x):\n",
    "    x = x.dropna()\n",
    "    if len(x):\n",
    "        return np.median(x.dropna())\n",
    "    else:\n",
    "        return pd.NA"
   ]
  },
  {
   "cell_type": "code",
   "execution_count": 4,
   "id": "f4684e34-b9f6-4ef7-a33c-db8a06df7789",
   "metadata": {},
   "outputs": [
    {
     "name": "stderr",
     "output_type": "stream",
     "text": [
      "/tmp/ipykernel_1354400/4063509234.py:5: DtypeWarning: Columns (24,30) have mixed types. Specify dtype option on import or set low_memory=False.\n",
      "  ecor_predictions = pd.read_csv('../data3/interim/ecor_predictions.csv')\n"
     ]
    }
   ],
   "source": [
    "insert_info = pd.read_csv('../data/raw/Beaker Validation Tracker 2.0 - v4.csv')\n",
    "novel_insert_info = pd.read_csv('../data/raw/novel_domain_library.csv')\n",
    "early_insert_info = pd.read_csv('../data/raw/Beaker Validation Tracker 2.0 - v5_rescreen.csv')\n",
    "eop_data = pd.read_csv('../data/raw/24-03-28 EOP tracking - Systems.csv')\n",
    "ecor_predictions = pd.read_csv('../data3/interim/ecor_predictions.csv')"
   ]
  },
  {
   "cell_type": "markdown",
   "id": "08723afd-5f56-4d9d-8c26-833daba94a88",
   "metadata": {},
   "source": [
    "### Concatenate library info "
   ]
  },
  {
   "cell_type": "code",
   "execution_count": 5,
   "id": "46802852-c24e-4a77-a36f-d7ea0a395f7a",
   "metadata": {},
   "outputs": [],
   "source": [
    "cols = ['working_id', 'genomic_accession', 'product_accessions','description', 'cloned', 'screened LB', 'fp', 'pBAD']\n",
    "# random\n",
    "brief_insert_info = insert_info[cols].copy()\n",
    "brief_insert_info['library'] = 'random'\n",
    "# novel\n",
    "brief_novel_insert_info = novel_insert_info.copy()\n",
    "brief_novel_insert_info = brief_novel_insert_info[[x for x in cols if x not in ['fp', 'pBAD']]].copy()\n",
    "brief_novel_insert_info['library'] = 'novel'\n",
    "# early\n",
    "brief_early_insert_info = early_insert_info.copy()\n",
    "brief_early_insert_info = brief_early_insert_info.rename(columns={'Nucleotide Accession': 'genomic_accession', \n",
    "                                                                  'Proteins': 'product_accessions'})\n",
    "brief_early_insert_info[['cloned', 'screened LB']] = True, True\n",
    "brief_early_insert_info = brief_early_insert_info[[x for x in cols if x not in ['fp', 'pBAD']]]\n",
    "brief_early_insert_info['library'] = 'early'\n",
    "# concatenate\n",
    "brief_insert_info = pd.concat([brief_insert_info, brief_novel_insert_info, brief_early_insert_info]).reset_index(drop=True)\n",
    "brief_insert_info['fp'] = brief_insert_info['fp'].fillna(0).astype(bool)\n",
    "brief_insert_info['screened LB'] = brief_insert_info['screened LB'].fillna(False)\n",
    "brief_insert_info['pBAD'] = brief_insert_info['pBAD'].fillna(False)\n",
    "brief_insert_info = (brief_insert_info[brief_insert_info['screened LB'] | brief_insert_info['fp']]\n",
    "                     .groupby(['product_accessions', 'genomic_accession','working_id', 'screened LB', 'fp', 'pBAD'])\n",
    "                     .agg(library=('library', lambda x: ','.join(x)))\n",
    "                     .reset_index())\n",
    "brief_insert_info = brief_insert_info[~brief_insert_info['working_id'].isin(['AAA3', 'CRDO', 'HHHD'])]"
   ]
  },
  {
   "cell_type": "code",
   "execution_count": 6,
   "id": "1b62d898-e77d-4cb9-9350-668bcf67adac",
   "metadata": {},
   "outputs": [],
   "source": [
    "brief_insert_info['random'] = brief_insert_info['library'].str.contains('random')\n",
    "brief_insert_info['curated'] = brief_insert_info['library'].str.contains('early|novel')"
   ]
  },
  {
   "cell_type": "code",
   "execution_count": 7,
   "id": "d7535115-2327-4a1f-8915-5c93219bf48a",
   "metadata": {},
   "outputs": [],
   "source": [
    "exploded_insert_info = brief_insert_info.copy()\n",
    "exploded_insert_info['product_accession'] = exploded_insert_info['product_accessions'].apply(lambda x: re.findall('([A-Z]+_[0-9]+\\.[0-9]+)', x))\n",
    "exploded_insert_info = exploded_insert_info.explode('product_accession')"
   ]
  },
  {
   "cell_type": "code",
   "execution_count": 8,
   "id": "0096ced6-02e8-4fd1-8787-7e04b96c6932",
   "metadata": {},
   "outputs": [],
   "source": [
    "merged_exploded_info = (exploded_insert_info.merge(ecor_predictions, \n",
    "                                                   how='inner', on=['product_accession', 'genomic_accession']))"
   ]
  },
  {
   "cell_type": "code",
   "execution_count": 9,
   "id": "af92a4ad",
   "metadata": {},
   "outputs": [
    {
     "data": {
      "text/plain": [
       "94"
      ]
     },
     "execution_count": 9,
     "metadata": {},
     "output_type": "execute_result"
    }
   ],
   "source": [
    "keep_ids = merged_exploded_info.loc[merged_exploded_info['mean_log_odds'] > 0, \n",
    "                                    'working_id'].unique()\n",
    "len(keep_ids)"
   ]
  },
  {
   "cell_type": "code",
   "execution_count": 10,
   "id": "eb49089f",
   "metadata": {},
   "outputs": [],
   "source": [
    "filtered_merged_exploded_info = merged_exploded_info[merged_exploded_info['working_id'].isin(keep_ids)].reset_index(drop=True)"
   ]
  },
  {
   "cell_type": "code",
   "execution_count": 11,
   "id": "ffc03900",
   "metadata": {},
   "outputs": [],
   "source": [
    "filtered_brief_insert_info = brief_insert_info[brief_insert_info['working_id'].isin(keep_ids)].reset_index(drop=True)"
   ]
  },
  {
   "cell_type": "code",
   "execution_count": 12,
   "id": "9adbed5e",
   "metadata": {},
   "outputs": [],
   "source": [
    "library_source_sum = filtered_brief_insert_info[['random', 'curated']].value_counts().reset_index()"
   ]
  },
  {
   "cell_type": "code",
   "execution_count": 13,
   "id": "c750d69e-48be-4164-ac41-41590c4c1b8f",
   "metadata": {},
   "outputs": [
    {
     "data": {
      "text/html": [
       "<div>\n",
       "<style scoped>\n",
       "    .dataframe tbody tr th:only-of-type {\n",
       "        vertical-align: middle;\n",
       "    }\n",
       "\n",
       "    .dataframe tbody tr th {\n",
       "        vertical-align: top;\n",
       "    }\n",
       "\n",
       "    .dataframe thead th {\n",
       "        text-align: right;\n",
       "    }\n",
       "</style>\n",
       "<table border=\"1\" class=\"dataframe\">\n",
       "  <thead>\n",
       "    <tr style=\"text-align: right;\">\n",
       "      <th></th>\n",
       "      <th>random</th>\n",
       "      <th>curated</th>\n",
       "      <th>count</th>\n",
       "    </tr>\n",
       "  </thead>\n",
       "  <tbody>\n",
       "    <tr>\n",
       "      <th>0</th>\n",
       "      <td>False</td>\n",
       "      <td>True</td>\n",
       "      <td>56</td>\n",
       "    </tr>\n",
       "    <tr>\n",
       "      <th>1</th>\n",
       "      <td>True</td>\n",
       "      <td>False</td>\n",
       "      <td>34</td>\n",
       "    </tr>\n",
       "    <tr>\n",
       "      <th>2</th>\n",
       "      <td>True</td>\n",
       "      <td>True</td>\n",
       "      <td>4</td>\n",
       "    </tr>\n",
       "  </tbody>\n",
       "</table>\n",
       "</div>"
      ],
      "text/plain": [
       "   random  curated  count\n",
       "0   False     True     56\n",
       "1    True    False     34\n",
       "2    True     True      4"
      ]
     },
     "execution_count": 13,
     "metadata": {},
     "output_type": "execute_result"
    }
   ],
   "source": [
    "library_source_sum"
   ]
  },
  {
   "cell_type": "code",
   "execution_count": 14,
   "id": "07b71912-56bb-4beb-8f60-9dc6642060b5",
   "metadata": {},
   "outputs": [
    {
     "data": {
      "text/plain": [
       "34"
      ]
     },
     "execution_count": 14,
     "metadata": {},
     "output_type": "execute_result"
    }
   ],
   "source": [
    "library_source_sum.query('random & ~curated')['count'].item()"
   ]
  },
  {
   "cell_type": "code",
   "execution_count": 15,
   "id": "4e4d4233-e62e-4b9c-ac83-bdb33e29cb91",
   "metadata": {},
   "outputs": [
    {
     "data": {
      "text/plain": [
       "<matplotlib_venn._common.VennDiagram at 0x14b7c5357790>"
      ]
     },
     "execution_count": 15,
     "metadata": {},
     "output_type": "execute_result"
    },
    {
     "data": {
      "image/png": "[encoded data removed]",
      "text/plain": [
       "<Figure size 150x150 with 1 Axes>"
      ]
     },
     "metadata": {},
     "output_type": "display_data"
    }
   ],
   "source": [
    "plt.subplots(figsize=(1.5, 1.5))\n",
    "venn2(subsets={'10': library_source_sum.query('random & ~curated')['count'].item(), \n",
    "               '01': library_source_sum.query('~random & curated')['count'].item(), \n",
    "               '11': library_source_sum.query('random & curated')['count'].item()}, \n",
    "      set_labels=('Random', 'Curated'), \n",
    "      set_colors=('#CC79A7', '#009E73'))"
   ]
  },
  {
   "cell_type": "code",
   "execution_count": 16,
   "id": "05868036-82c5-44e6-ac2b-e94c86d4b074",
   "metadata": {},
   "outputs": [
    {
     "data": {
      "text/plain": [
       "product_accession\n",
       "WP_000886597.1    2\n",
       "WP_000020904.1    1\n",
       "WP_045232945.1    1\n",
       "WP_015058250.1    1\n",
       "WP_052158570.1    1\n",
       "                 ..\n",
       "WP_001013662.1    1\n",
       "WP_001032567.1    1\n",
       "WP_001057122.1    1\n",
       "WP_001103754.1    1\n",
       "WP_252151320.1    1\n",
       "Name: count, Length: 176, dtype: int64"
      ]
     },
     "execution_count": 16,
     "metadata": {},
     "output_type": "execute_result"
    }
   ],
   "source": [
    "merged_exploded_info['product_accession'].value_counts()"
   ]
  },
  {
   "cell_type": "code",
   "execution_count": 17,
   "id": "f802818c-fda3-415a-8b0c-27a76faa140e",
   "metadata": {},
   "outputs": [],
   "source": [
    "insert_predictions = (filtered_merged_exploded_info\n",
    "                      .groupby(['working_id', 'genomic_accession', 'assembly'])\n",
    "                      .agg(max_prediction = ('mean_log_odds', 'max'), \n",
    "                           min_prediction = ('mean_log_odds', 'min'), \n",
    "                           product_accessions = ('product_accession', lambda x: ', '.join(x)),\n",
    "                           predictions=('mean_log_odds', lambda x: ', '.join([str(y) for y in x])), \n",
    "                           cds_start=('start', 'min'), \n",
    "                           cds_end=('end', 'max'), \n",
    "                           names=('name', lambda x: ', '.join(x)))\n",
    "                      .reset_index())"
   ]
  },
  {
   "cell_type": "code",
   "execution_count": 18,
   "id": "50e8a759-03dd-4844-8b1e-1d22c927b0b9",
   "metadata": {},
   "outputs": [
    {
     "data": {
      "text/plain": [
       "(94, 10)"
      ]
     },
     "execution_count": 18,
     "metadata": {},
     "output_type": "execute_result"
    }
   ],
   "source": [
    "insert_predictions.shape"
   ]
  },
  {
   "cell_type": "code",
   "execution_count": 19,
   "id": "9f9b14d7-2414-4802-b1c7-23cea00fabce",
   "metadata": {},
   "outputs": [],
   "source": [
    "validated_systems = eop_data['System'].unique()"
   ]
  },
  {
   "cell_type": "code",
   "execution_count": 20,
   "id": "78ff4084-e08f-465d-b787-e98903a5514d",
   "metadata": {},
   "outputs": [
    {
     "data": {
      "text/plain": [
       "42"
      ]
     },
     "execution_count": 20,
     "metadata": {},
     "output_type": "execute_result"
    }
   ],
   "source": [
    "len(validated_systems)"
   ]
  },
  {
   "cell_type": "code",
   "execution_count": 21,
   "id": "ccf27571-031e-4041-9bf3-959936a470a1",
   "metadata": {},
   "outputs": [],
   "source": [
    "merged_insert_info = (filtered_brief_insert_info.drop(columns=['product_accessions'])\n",
    "                      .merge(insert_predictions, how='inner', on=['working_id', 'genomic_accession']))\n",
    "merged_insert_info['defensive'] = merged_insert_info['working_id'].isin(validated_systems)\n",
    "merged_insert_info['fp'] = merged_insert_info['fp'].fillna(0).astype(bool)\n",
    "merged_insert_info['category'] = pd.Categorical(['Validated defense' if x else 'Not validated' for x in merged_insert_info['defensive']], \n",
    "                                                categories=['Validated defense', 'Not validated'])\n",
    "merged_insert_info = (merged_insert_info\n",
    "                      .sort_values('max_prediction', ascending=False)\n",
    "                      .reset_index(drop=True))\n"
   ]
  },
  {
   "cell_type": "code",
   "execution_count": 22,
   "id": "7158e54a-ea92-4403-882e-a7320d3a2a40",
   "metadata": {},
   "outputs": [
    {
     "data": {
      "text/plain": [
       "(94, 18)"
      ]
     },
     "execution_count": 22,
     "metadata": {},
     "output_type": "execute_result"
    }
   ],
   "source": [
    "merged_insert_info.shape"
   ]
  },
  {
   "cell_type": "code",
   "execution_count": 23,
   "id": "bc46528c-09a4-471f-bd5e-a6fdfe29354f",
   "metadata": {},
   "outputs": [
    {
     "data": {
      "text/plain": [
       "0.42105263157894735"
      ]
     },
     "execution_count": 23,
     "metadata": {},
     "output_type": "execute_result"
    }
   ],
   "source": [
    "merged_insert_info.query('random')['defensive'].mean()"
   ]
  },
  {
   "cell_type": "code",
   "execution_count": 24,
   "id": "7e5e7f6a-4731-4281-ad00-2863cab5cbfd",
   "metadata": {},
   "outputs": [
    {
     "data": {
      "text/plain": [
       "0.4642857142857143"
      ]
     },
     "execution_count": 24,
     "metadata": {},
     "output_type": "execute_result"
    }
   ],
   "source": [
    "merged_insert_info.query('curated & ~random')['defensive'].mean()"
   ]
  },
  {
   "cell_type": "code",
   "execution_count": 25,
   "id": "a9acbbe3-a247-4520-9ccf-f28e52d416dd",
   "metadata": {},
   "outputs": [
    {
     "data": {
      "text/plain": [
       "category\n",
       "Not validated        52\n",
       "Validated defense    42\n",
       "Name: count, dtype: int64"
      ]
     },
     "execution_count": 25,
     "metadata": {},
     "output_type": "execute_result"
    }
   ],
   "source": [
    "merged_insert_info['category'].value_counts()"
   ]
  },
  {
   "cell_type": "code",
   "execution_count": 26,
   "id": "298a428a-a011-45c5-9896-dfa3e608cb90",
   "metadata": {},
   "outputs": [
    {
     "data": {
      "text/plain": [
       "0.44680851063829785"
      ]
     },
     "execution_count": 26,
     "metadata": {},
     "output_type": "execute_result"
    }
   ],
   "source": [
    "(merged_insert_info['category'] == 'Validated defense').sum()/len(merged_insert_info)"
   ]
  },
  {
   "cell_type": "markdown",
   "id": "13e0097f-bccb-4acf-9926-727940308e71",
   "metadata": {},
   "source": [
    "### Estimate validation rate"
   ]
  },
  {
   "cell_type": "code",
   "execution_count": 27,
   "id": "8b47338d-6681-458a-be3c-580c83e63541",
   "metadata": {},
   "outputs": [],
   "source": [
    "min_tpr_window = 5\n"
   ]
  },
  {
   "cell_type": "code",
   "execution_count": 28,
   "id": "1b84a0f4-4947-4d1c-a22b-4813bdf04622",
   "metadata": {},
   "outputs": [],
   "source": [
    "precision_list = list()\n",
    "for i, row in merged_insert_info.iterrows():\n",
    "    if (i+1) >= min_tpr_window:\n",
    "        filtered_merged_insert_info = merged_insert_info.iloc[0:(i+1), :]\n",
    "        precision = filtered_merged_insert_info['defensive'].mean()\n",
    "        precision_list.append(precision)\n",
    "    else:\n",
    "        precision_list.append(np.nan)"
   ]
  },
  {
   "cell_type": "code",
   "execution_count": 29,
   "id": "db146aee-07d3-4628-aff9-d4b21197a453",
   "metadata": {},
   "outputs": [],
   "source": [
    "merged_insert_info['precision'] = precision_list"
   ]
  },
  {
   "cell_type": "code",
   "execution_count": 30,
   "id": "0dc82234-afb9-47f7-aec1-ef8ca419b0d7",
   "metadata": {},
   "outputs": [
    {
     "data": {
      "image/png": "[encoded data removed]",
      "text/plain": [
       "<Figure size 200x250 with 2 Axes>"
      ]
     },
     "metadata": {},
     "output_type": "display_data"
    }
   ],
   "source": [
    "fig, (ax1, ax2) = plt.subplots(2,1,height_ratios=[4,0.5], figsize=(2,2.5), sharex=True)\n",
    "fig.subplots_adjust(hspace=0.1)\n",
    "sns.scatterplot(data=merged_insert_info, \n",
    "                x='max_prediction', y='precision', ax=ax1, color='black', s=10)\n",
    "sns.stripplot(data=merged_insert_info, y='category', x='max_prediction', \n",
    "              ax=ax2, orient='h', alpha=0.7, hue='defensive', legend=False, \n",
    "              palette=['#56b4e9', '#e69f00'], jitter=True, dodge=False, s=3)\n",
    "ax1.set_ylabel('Precision\\nTP / (TP + FP)')\n",
    "ax2.set_ylabel('')\n",
    "ax2.set_xlabel('Predicted Log Odds of Defense')\n",
    "sns.despine()\n",
    "#plt.xlim(merged_insert_info['max_prediction'].max() + 0.5, -0.5)\n",
    "plt.savefig('../figures/estimated_precision.svg', dpi=300, bbox_inches='tight')"
   ]
  },
  {
   "cell_type": "code",
   "execution_count": 31,
   "id": "8f24df83-28eb-4ae9-9a80-9b9b0015992c",
   "metadata": {},
   "outputs": [
    {
     "name": "stdout",
     "output_type": "stream",
     "text": [
      "0.6170212765957447\n",
      "0.2765957446808511\n"
     ]
    }
   ],
   "source": [
    "top_preds = merged_insert_info.sort_values('max_prediction', ascending=False).head(n=len(merged_insert_info)//2)\n",
    "bottom_preds = merged_insert_info.sort_values('max_prediction', ascending=True).head(n=len(merged_insert_info)//2)\n",
    "print(top_preds['defensive'].mean())\n",
    "print(bottom_preds['defensive'].mean())\n"
   ]
  },
  {
   "cell_type": "code",
   "execution_count": 32,
   "id": "76c2beba-8476-48b5-a4f4-46630005475f",
   "metadata": {},
   "outputs": [],
   "source": [
    "log_odds_width = 4"
   ]
  },
  {
   "cell_type": "code",
   "execution_count": 33,
   "id": "edf113cc-87b1-4a87-bb9f-bc7bd9528e4a",
   "metadata": {},
   "outputs": [
    {
     "name": "stderr",
     "output_type": "stream",
     "text": [
      "100%|██████████| 1000/1000 [00:24<00:00, 40.56it/s]\n"
     ]
    }
   ],
   "source": [
    "ref_points = merged_insert_info['max_prediction']\n",
    "n_resamples = 1_000\n",
    "range_def_frac_list = list()\n",
    "neighbor_dist = log_odds_width/2\n",
    "min_pts = 10\n",
    "for i in tqdm(range(n_resamples)):\n",
    "    resampled_df = merged_insert_info.sample(frac=1, replace=True, random_state=i)\n",
    "    for mid_pt in ref_points:\n",
    "        min_log_odds = mid_pt - neighbor_dist\n",
    "        max_log_odds = mid_pt + neighbor_dist\n",
    "        relevant_pts = resampled_df.loc[(resampled_df['max_prediction'] > min_log_odds) & \n",
    "                                        (resampled_df['max_prediction'] < max_log_odds)]\n",
    "        n_pts = len(relevant_pts)\n",
    "        if n_pts > min_pts:\n",
    "            defensive_ratio = relevant_pts['defensive'].mean()\n",
    "            range_def_frac_list.append({'trial': i, \n",
    "                                        'frac_defensive': defensive_ratio, \n",
    "                                        'n_pts': n_pts, \n",
    "                                        'mid_pt': mid_pt})\n",
    "        "
   ]
  },
  {
   "cell_type": "code",
   "execution_count": 34,
   "id": "44a26c74-4402-430a-89f0-48afb9ff2b60",
   "metadata": {},
   "outputs": [],
   "source": [
    "range_def_frac_df = pd.DataFrame(range_def_frac_list)\n",
    "range_def_frac_sum = (range_def_frac_df.groupby('mid_pt')\n",
    "                      .agg(precision_top=('frac_defensive', lambda x: get_percentile(x, 97.5)),\n",
    "                           precision_bottom=('frac_defensive', lambda x: get_percentile(x, 2.5)), \n",
    "                           precision_median=('frac_defensive', lambda x: get_median(x)),\n",
    "                           std_defense=('frac_defensive', 'std'), \n",
    "                           mean_n = ('n_pts', 'mean'), \n",
    "                           total_trials=('trial', 'nunique'))\n",
    "                      .reset_index())"
   ]
  },
  {
   "cell_type": "code",
   "execution_count": 35,
   "id": "93585fb1-80bf-462a-837d-bf46d033382b",
   "metadata": {},
   "outputs": [
    {
     "data": {
      "image/png": "[encoded data removed]",
      "text/plain": [
       "<Figure size 250x250 with 2 Axes>"
      ]
     },
     "metadata": {},
     "output_type": "display_data"
    }
   ],
   "source": [
    "fig, (ax1, ax2) = plt.subplots(2,1,height_ratios=[4,0.5], figsize=(2.5,2.5), sharex=True)\n",
    "fig.subplots_adjust(hspace=0.1)\n",
    "ax1.errorbar(x=range_def_frac_sum['mid_pt'], y=range_def_frac_sum['precision_median'], \n",
    "             yerr=[range_def_frac_sum['precision_median'] - range_def_frac_sum['precision_bottom'], \n",
    "                   range_def_frac_sum['precision_top'] - range_def_frac_sum['precision_median']], \n",
    "             capsize=0, color='black', ms=6.5, elinewidth=0.75, fmt='.', alpha=0.5, markeredgewidth=0)\n",
    "add_correlation(data=range_def_frac_sum, x='mid_pt', y='precision_median', ax=ax1, fontfamily='Sans-Serif')\n",
    "ax1.axvline(x=med_log_odds_cutoff, linestyle='dashed', color='red', zorder=0, linewidth=1)\n",
    "sns.stripplot(data=merged_insert_info, y='category', x='max_prediction', \n",
    "              ax=ax2, orient='h', alpha=0.7, hue='defensive', legend=False, \n",
    "              palette=['#56b4e9', '#e69f00'], jitter=True, dodge=False, s=3)\n",
    "sns.despine()\n",
    "ax1.set_ylabel('Precision\\nTP / (TP + FP)')\n",
    "ax2.set_ylabel('')\n",
    "ax2.set_xlabel('Predicted Log Odds of Defense')\n",
    "plt.savefig('../figures/estimated_precision.svg', dpi=600, bbox_inches='tight')"
   ]
  },
  {
   "cell_type": "code",
   "execution_count": 36,
   "id": "b63ede7f-4d60-4e88-93eb-a90e682a97e1",
   "metadata": {},
   "outputs": [
    {
     "data": {
      "text/html": [
       "<div>\n",
       "<style scoped>\n",
       "    .dataframe tbody tr th:only-of-type {\n",
       "        vertical-align: middle;\n",
       "    }\n",
       "\n",
       "    .dataframe tbody tr th {\n",
       "        vertical-align: top;\n",
       "    }\n",
       "\n",
       "    .dataframe thead th {\n",
       "        text-align: right;\n",
       "    }\n",
       "</style>\n",
       "<table border=\"1\" class=\"dataframe\">\n",
       "  <thead>\n",
       "    <tr style=\"text-align: right;\">\n",
       "      <th></th>\n",
       "      <th>mid_pt</th>\n",
       "      <th>precision_top</th>\n",
       "      <th>precision_bottom</th>\n",
       "      <th>precision_median</th>\n",
       "      <th>std_defense</th>\n",
       "      <th>mean_n</th>\n",
       "      <th>total_trials</th>\n",
       "    </tr>\n",
       "  </thead>\n",
       "  <tbody>\n",
       "    <tr>\n",
       "      <th>0</th>\n",
       "      <td>0.649643</td>\n",
       "      <td>0.272727</td>\n",
       "      <td>0.000000</td>\n",
       "      <td>0.090909</td>\n",
       "      <td>0.084489</td>\n",
       "      <td>12.629139</td>\n",
       "      <td>302</td>\n",
       "    </tr>\n",
       "    <tr>\n",
       "      <th>1</th>\n",
       "      <td>0.717826</td>\n",
       "      <td>0.272727</td>\n",
       "      <td>0.000000</td>\n",
       "      <td>0.090909</td>\n",
       "      <td>0.084489</td>\n",
       "      <td>12.629139</td>\n",
       "      <td>302</td>\n",
       "    </tr>\n",
       "    <tr>\n",
       "      <th>2</th>\n",
       "      <td>0.788151</td>\n",
       "      <td>0.272727</td>\n",
       "      <td>0.000000</td>\n",
       "      <td>0.083333</td>\n",
       "      <td>0.079653</td>\n",
       "      <td>13.022989</td>\n",
       "      <td>435</td>\n",
       "    </tr>\n",
       "    <tr>\n",
       "      <th>3</th>\n",
       "      <td>1.247071</td>\n",
       "      <td>0.230769</td>\n",
       "      <td>0.000000</td>\n",
       "      <td>0.066667</td>\n",
       "      <td>0.069660</td>\n",
       "      <td>14.522581</td>\n",
       "      <td>775</td>\n",
       "    </tr>\n",
       "    <tr>\n",
       "      <th>4</th>\n",
       "      <td>1.371814</td>\n",
       "      <td>0.307692</td>\n",
       "      <td>0.000000</td>\n",
       "      <td>0.117647</td>\n",
       "      <td>0.083511</td>\n",
       "      <td>15.909193</td>\n",
       "      <td>892</td>\n",
       "    </tr>\n",
       "    <tr>\n",
       "      <th>...</th>\n",
       "      <td>...</td>\n",
       "      <td>...</td>\n",
       "      <td>...</td>\n",
       "      <td>...</td>\n",
       "      <td>...</td>\n",
       "      <td>...</td>\n",
       "      <td>...</td>\n",
       "    </tr>\n",
       "    <tr>\n",
       "      <th>89</th>\n",
       "      <td>13.338104</td>\n",
       "      <td>0.928571</td>\n",
       "      <td>0.454545</td>\n",
       "      <td>0.727273</td>\n",
       "      <td>0.125417</td>\n",
       "      <td>12.878860</td>\n",
       "      <td>421</td>\n",
       "    </tr>\n",
       "    <tr>\n",
       "      <th>90</th>\n",
       "      <td>13.604509</td>\n",
       "      <td>0.846154</td>\n",
       "      <td>0.363636</td>\n",
       "      <td>0.636364</td>\n",
       "      <td>0.123237</td>\n",
       "      <td>12.057143</td>\n",
       "      <td>175</td>\n",
       "    </tr>\n",
       "    <tr>\n",
       "      <th>91</th>\n",
       "      <td>14.318119</td>\n",
       "      <td>0.846154</td>\n",
       "      <td>0.363636</td>\n",
       "      <td>0.636364</td>\n",
       "      <td>0.123237</td>\n",
       "      <td>12.057143</td>\n",
       "      <td>175</td>\n",
       "    </tr>\n",
       "    <tr>\n",
       "      <th>92</th>\n",
       "      <td>14.712791</td>\n",
       "      <td>0.861742</td>\n",
       "      <td>0.420455</td>\n",
       "      <td>0.667582</td>\n",
       "      <td>0.136771</td>\n",
       "      <td>12.038462</td>\n",
       "      <td>26</td>\n",
       "    </tr>\n",
       "    <tr>\n",
       "      <th>93</th>\n",
       "      <td>14.780818</td>\n",
       "      <td>0.802841</td>\n",
       "      <td>0.475000</td>\n",
       "      <td>0.625874</td>\n",
       "      <td>0.109255</td>\n",
       "      <td>11.600000</td>\n",
       "      <td>10</td>\n",
       "    </tr>\n",
       "  </tbody>\n",
       "</table>\n",
       "<p>94 rows × 7 columns</p>\n",
       "</div>"
      ],
      "text/plain": [
       "       mid_pt  precision_top  precision_bottom  precision_median  std_defense   \n",
       "0    0.649643       0.272727          0.000000          0.090909     0.084489  \\\n",
       "1    0.717826       0.272727          0.000000          0.090909     0.084489   \n",
       "2    0.788151       0.272727          0.000000          0.083333     0.079653   \n",
       "3    1.247071       0.230769          0.000000          0.066667     0.069660   \n",
       "4    1.371814       0.307692          0.000000          0.117647     0.083511   \n",
       "..        ...            ...               ...               ...          ...   \n",
       "89  13.338104       0.928571          0.454545          0.727273     0.125417   \n",
       "90  13.604509       0.846154          0.363636          0.636364     0.123237   \n",
       "91  14.318119       0.846154          0.363636          0.636364     0.123237   \n",
       "92  14.712791       0.861742          0.420455          0.667582     0.136771   \n",
       "93  14.780818       0.802841          0.475000          0.625874     0.109255   \n",
       "\n",
       "       mean_n  total_trials  \n",
       "0   12.629139           302  \n",
       "1   12.629139           302  \n",
       "2   13.022989           435  \n",
       "3   14.522581           775  \n",
       "4   15.909193           892  \n",
       "..        ...           ...  \n",
       "89  12.878860           421  \n",
       "90  12.057143           175  \n",
       "91  12.057143           175  \n",
       "92  12.038462            26  \n",
       "93  11.600000            10  \n",
       "\n",
       "[94 rows x 7 columns]"
      ]
     },
     "execution_count": 36,
     "metadata": {},
     "output_type": "execute_result"
    }
   ],
   "source": [
    "range_def_frac_sum"
   ]
  },
  {
   "cell_type": "code",
   "execution_count": 37,
   "id": "9b42aefb-f36a-4a42-8a5b-ec16738a106c",
   "metadata": {},
   "outputs": [
    {
     "data": {
      "text/plain": [
       "PearsonRResult(statistic=0.948976297506597, pvalue=6.756381700364129e-48)"
      ]
     },
     "execution_count": 37,
     "metadata": {},
     "output_type": "execute_result"
    }
   ],
   "source": [
    "stats.pearsonr(range_def_frac_sum['mid_pt'], \n",
    "               range_def_frac_sum['precision_median'])"
   ]
  },
  {
   "cell_type": "code",
   "execution_count": 38,
   "id": "c84c6b51-8d99-445f-be99-10a95c12f1db",
   "metadata": {},
   "outputs": [
    {
     "data": {
      "text/plain": [
       "0.09523809523809523"
      ]
     },
     "execution_count": 38,
     "metadata": {},
     "output_type": "execute_result"
    }
   ],
   "source": [
    "merged_insert_info.loc[merged_insert_info['max_prediction'] < med_log_odds_cutoff, 'defensive'].mean()"
   ]
  },
  {
   "cell_type": "code",
   "execution_count": 39,
   "id": "337b3d2b-584b-464d-bd21-9d4a35f9eccd",
   "metadata": {},
   "outputs": [
    {
     "data": {
      "text/plain": [
       "0.547945205479452"
      ]
     },
     "execution_count": 39,
     "metadata": {},
     "output_type": "execute_result"
    }
   ],
   "source": [
    "merged_insert_info.loc[(merged_insert_info['max_prediction'] > med_log_odds_cutoff), 'defensive'].mean()"
   ]
  },
  {
   "cell_type": "code",
   "execution_count": 40,
   "id": "8af86e25-53b5-42f2-a816-1886122c695c",
   "metadata": {},
   "outputs": [
    {
     "data": {
      "image/png": "[encoded data removed]",
      "text/plain": [
       "<Figure size 400x400 with 1 Axes>"
      ]
     },
     "metadata": {},
     "output_type": "display_data"
    }
   ],
   "source": [
    "plt.subplots(figsize=(4,4))\n",
    "sns.boxplot(data=merged_insert_info, x='defensive', y='max_prediction', fill=False, \n",
    "            color='black')\n",
    "sns.stripplot(data=merged_insert_info, x='defensive', y='max_prediction', \n",
    "              alpha=0.7,  jitter=True, dodge=False)\n",
    "plt.axhline(y=med_log_odds_cutoff, linestyle='dashed', color='black')\n",
    "sns.despine()"
   ]
  },
  {
   "cell_type": "code",
   "execution_count": 41,
   "id": "851f4cdc-191c-4eca-91f0-099ea3d80bc0",
   "metadata": {},
   "outputs": [],
   "source": [
    "merged_insert_info.drop(columns='precision').to_csv('../data3/interim/all_library_info.csv', index=False)"
   ]
  },
  {
   "cell_type": "code",
   "execution_count": null,
   "id": "35e6708f-d00b-4702-a442-24d1a0576a59",
   "metadata": {},
   "outputs": [],
   "source": []
  }
 ],
 "metadata": {
  "kernelspec": {
   "display_name": "beaker",
   "language": "python",
   "name": "python3"
  },
  "language_info": {
   "codemirror_mode": {
    "name": "ipython",
    "version": 3
   },
   "file_extension": ".py",
   "mimetype": "text/x-python",
   "name": "python",
   "nbconvert_exporter": "python",
   "pygments_lexer": "ipython3",
   "version": "3.8.20"
  }
 },
 "nbformat": 4,
 "nbformat_minor": 5
}
